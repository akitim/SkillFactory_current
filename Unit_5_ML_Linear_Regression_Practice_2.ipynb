{
  "nbformat": 4,
  "nbformat_minor": 0,
  "metadata": {
    "kernelspec": {
      "display_name": "Python 3",
      "language": "python",
      "name": "python3"
    },
    "language_info": {
      "codemirror_mode": {
        "name": "ipython",
        "version": 3
      },
      "file_extension": ".py",
      "mimetype": "text/x-python",
      "name": "python",
      "nbconvert_exporter": "python",
      "pygments_lexer": "ipython3",
      "version": "3.7.3"
    },
    "colab": {
      "name": "SF_LR2.ipynb",
      "provenance": [],
      "include_colab_link": true
    }
  },
  "cells": [
    {
      "cell_type": "markdown",
      "metadata": {
        "id": "view-in-github",
        "colab_type": "text"
      },
      "source": [
        "<a href=\"https://colab.research.google.com/github/akitim/SkillFactory_current/blob/main/Unit_5_ML_Linear_Regression_Practice_2.ipynb\" target=\"_parent\"><img src=\"https://colab.research.google.com/assets/colab-badge.svg\" alt=\"Open In Colab\"/></a>"
      ]
    },
    {
      "cell_type": "code",
      "metadata": {
        "id": "KZG6B__Ui0LI"
      },
      "source": [
        "import numpy as np\n",
        "import pandas as pd\n",
        "from sklearn.datasets import load_boston\n",
        "from sklearn.metrics import mean_squared_error, f1_score, accuracy_score, roc_curve, roc_auc_score\n",
        "from sklearn.model_selection import train_test_split\n",
        "\n",
        "from matplotlib import pyplot as plt"
      ],
      "execution_count": null,
      "outputs": []
    },
    {
      "cell_type": "markdown",
      "metadata": {
        "id": "PsdKUif_i0LO"
      },
      "source": [
        "### 2.1.Когда использовать матричные операции вместо градиентного спуска в линейной регрессии"
      ]
    },
    {
      "cell_type": "code",
      "metadata": {
        "id": "Nz9UnN5Di0LR"
      },
      "source": [
        "def print_regression_metrics(y_true, y_pred):\n",
        "    mse = mean_squared_error(y_true, y_pred)\n",
        "    rmse = np.sqrt(mse)\n",
        "    print(f'MSE = {mse:.2f}, RMSE = {rmse:.2f}')\n",
        "    \n",
        "def prepare_boston_data():\n",
        "    data = load_boston()\n",
        "    X, y = data['data'], data['target']\n",
        "    # Нормализовать даннные с помощью стандартной нормализации\n",
        "    X = (X - X.mean(axis=0)) / X.std(axis=0)\n",
        "    # Добавить фиктивный столбец единиц (bias линейной модели)\n",
        "    X = np.hstack([np.ones(X.shape[0])[:, np.newaxis], X])\n",
        "    \n",
        "    return X, y"
      ],
      "execution_count": null,
      "outputs": []
    },
    {
      "cell_type": "markdown",
      "metadata": {
        "id": "O3QIKBtli0LS"
      },
      "source": [
        "Прежде чем начать, обернем написанную нами линейную регрессию методом матричных операций в класс:"
      ]
    },
    {
      "cell_type": "code",
      "metadata": {
        "id": "KesNbG3ai0LS"
      },
      "source": [
        "class LinRegAlgebra():\n",
        "    def __init__(self):\n",
        "        self.theta = None\n",
        "    \n",
        "    def fit(self, X, y):\n",
        "        self.theta = np.linalg.inv(X.transpose().dot(X)).dot(X.transpose()).dot(y)\n",
        "    \n",
        "    def predict(self, X):\n",
        "        return X.dot(self.theta)"
      ],
      "execution_count": null,
      "outputs": []
    },
    {
      "cell_type": "markdown",
      "metadata": {
        "id": "9V8Z50Nni0LT"
      },
      "source": [
        "Проведем замеры скорости работы алгоритмов на матричных операциях и на градиентном спуске. Предварительно найдем параметры для метода, основанного на градиентном спуске, так, чтобы значения метрик максимально совпадало со значениями в случае первого алгоритма."
      ]
    },
    {
      "cell_type": "code",
      "metadata": {
        "id": "qSyzfxC7i0LU"
      },
      "source": [
        "X, y = prepare_boston_data()"
      ],
      "execution_count": null,
      "outputs": []
    },
    {
      "cell_type": "code",
      "metadata": {
        "id": "qs5JeuH1i0LV",
        "outputId": "4bbf4d88-68ab-4add-8939-f4d063fbb82c"
      },
      "source": [
        "linreg_alg = LinRegAlgebra()\n",
        "linreg_alg.fit(X, y)\n",
        "y_pred = linreg_alg.predict(X)\n",
        "\n",
        "# Посчитать значение ошибок MSE и RMSE для тренировочных данных\n",
        "print_regression_metrics(y, y_pred)"
      ],
      "execution_count": null,
      "outputs": [
        {
          "name": "stdout",
          "output_type": "stream",
          "text": [
            "MSE = 21.89, RMSE = 4.68\n"
          ]
        }
      ]
    },
    {
      "cell_type": "code",
      "metadata": {
        "id": "J5nwTkbFi0LX"
      },
      "source": [
        "class RegOptimizer():\n",
        "    def __init__(self, alpha, n_iters):\n",
        "        self.theta = None\n",
        "        self._alpha = alpha\n",
        "        self._n_iters = n_iters\n",
        "    \n",
        "    def gradient_step(self, theta, theta_grad):\n",
        "        return theta - self._alpha * theta_grad\n",
        "    \n",
        "    def grad_func(self, X, y, theta):\n",
        "        raise NotImplementedError()\n",
        "\n",
        "    def optimize(self, X, y, start_theta, n_iters):\n",
        "        theta = start_theta.copy()\n",
        "\n",
        "        for i in range(n_iters):\n",
        "            theta_grad = self.grad_func(X, y, theta)\n",
        "            theta = self.gradient_step(theta, theta_grad)\n",
        "\n",
        "        return theta\n",
        "    \n",
        "    def fit(self, X, y):\n",
        "        m = X.shape[1]\n",
        "        start_theta = np.ones(m)\n",
        "        self.theta = self.optimize(X, y, start_theta, self._n_iters)\n",
        "        \n",
        "    def predict(self, X):\n",
        "        raise NotImplementedError()"
      ],
      "execution_count": null,
      "outputs": []
    },
    {
      "cell_type": "code",
      "metadata": {
        "id": "x84iwWcAi0LY"
      },
      "source": [
        "class LinReg(RegOptimizer):\n",
        "    def grad_func(self, X, y, theta):\n",
        "        n = X.shape[0]\n",
        "        grad = 1. / n * X.transpose().dot(X.dot(theta) - y)\n",
        "\n",
        "        return grad\n",
        "    \n",
        "    def predict(self, X):\n",
        "        if self.theta is None:\n",
        "            raise Exception('You should train the model first')\n",
        "        \n",
        "        y_pred = X.dot(self.theta)\n",
        "        \n",
        "        return y_pred"
      ],
      "execution_count": null,
      "outputs": []
    },
    {
      "cell_type": "code",
      "metadata": {
        "id": "JgCsubaFi0La",
        "outputId": "4c4c4fa1-678b-4998-c424-1fdacce3d9f2"
      },
      "source": [
        "linreg_crit = LinReg(0.2, 1000)\n",
        "linreg_crit.fit(X, y)\n",
        "y_pred = linreg_crit.predict(X)\n",
        "\n",
        "# Посчитать значение ошибок MSE и RMSE для тренировочных данных\n",
        "print_regression_metrics(y, y_pred)"
      ],
      "execution_count": null,
      "outputs": [
        {
          "name": "stdout",
          "output_type": "stream",
          "text": [
            "MSE = 21.90, RMSE = 4.68\n"
          ]
        }
      ]
    },
    {
      "cell_type": "code",
      "metadata": {
        "id": "v6zCVarfi0La",
        "outputId": "0844d70d-d595-46f8-a992-d02164abd221"
      },
      "source": [
        "%timeit linreg_alg.fit(X, y)"
      ],
      "execution_count": null,
      "outputs": [
        {
          "name": "stdout",
          "output_type": "stream",
          "text": [
            "313 µs ± 111 µs per loop (mean ± std. dev. of 7 runs, 1000 loops each)\n"
          ]
        }
      ]
    },
    {
      "cell_type": "code",
      "metadata": {
        "scrolled": true,
        "id": "c5KE0Hhti0Lb",
        "outputId": "9b1b934f-c3ac-4603-f5c6-3230647c9eb6"
      },
      "source": [
        "%timeit linreg_crit.fit(X, y)"
      ],
      "execution_count": null,
      "outputs": [
        {
          "name": "stdout",
          "output_type": "stream",
          "text": [
            "53.4 ms ± 16.1 ms per loop (mean ± std. dev. of 7 runs, 10 loops each)\n"
          ]
        }
      ]
    },
    {
      "cell_type": "code",
      "metadata": {
        "id": "3DTp4adDi0Lc"
      },
      "source": [
        "linreg_crit.fit(X, y)"
      ],
      "execution_count": null,
      "outputs": []
    },
    {
      "cell_type": "markdown",
      "metadata": {
        "id": "OtvOiQg4i0Lc"
      },
      "source": [
        "Как видно из результатов эксперимента, реализация на матричных операциях опережает реализацию на градиентном спуске в 500 раз. Но всегда ли это так и какие подводные камни могут быть? Ниже приведен набор случаев, при которых версия с градентным спуском предпочтительнее:\n",
        "\n",
        "1. Градиентный спуск работает быстрее в случае матриц с большим количеством признаков. Основная по сложности операция — нахождение обратной матрицы $(X^T X)^{-1}$.\n",
        "1. Нахождение обратной матрицы может также потребовать больше оперативной памяти, что иногда является не приемлемым.\n",
        "1. Матричные операции могут также проигрывать и в случае небольших объемов данных, но при плохой параллельной реализации или недостаточных ресурсах.\n",
        "1. Градиентный спуск может быть усовершенствован до так называемого **стохастического градиентного спуска**, при котором данные для оптимизации подгружаются небольшими наборами, что уменьшает требования по памяти.\n",
        "1. В некоторых случаях (например, в случае линейно-зависимых строк) алгебраический способ решения не будет работать совсем в виду невозможности найти обратную матрицу."
      ]
    },
    {
      "cell_type": "markdown",
      "metadata": {
        "id": "eMajJOm3i0Ld"
      },
      "source": [
        "### 2.2. Превращение линейной модели в нелинейную"
      ]
    },
    {
      "cell_type": "markdown",
      "metadata": {
        "id": "J8DAsqVGi0Ld"
      },
      "source": [
        "Нелинейные зависимости в данных встречаются намного чаще линейных. На самом деле простейшая линейная регрессия способна обнаруживать нелинейные зависимости. Для этого необходимо рассмотреть дополнительные признаки, полученные из исходных применением различных нелинейных функций. Возьмем уже знакомый датасет с ценами на квартиры в Бостоне и последовательно станем применять различные функции к исходным признакам:"
      ]
    },
    {
      "cell_type": "markdown",
      "metadata": {
        "id": "HTmteKiki0Le"
      },
      "source": [
        "Boston Data. Attribute Information (in order):\n",
        "    - CRIM     per capita crime rate by town\n",
        "    - ZN       proportion of residential land zoned for lots over 25,000 sq.ft.\n",
        "    - INDUS    proportion of non-retail business acres per town\n",
        "    - CHAS     Charles River dummy variable (= 1 if tract bounds river; 0 otherwise)\n",
        "    - NOX      nitric oxides concentration (parts per 10 million)\n",
        "    - RM       average number of rooms per dwelling\n",
        "    - AGE      proportion of owner-occupied units built prior to 1940\n",
        "    - DIS      weighted distances to five Boston employment centres\n",
        "    - RAD      index of accessibility to radial highways\n",
        "    - TAX      full-value property-tax rate per `$10000`\n",
        "    - PTRATIO  pupil-teacher ratio by town\n",
        "    - B        1000(Bk - 0.63)^2 where Bk is the proportion of blacks by town\n",
        "    - LSTAT    % lower status of the population\n",
        "    - MEDV     Median value of owner-occupied homes in $1000's"
      ]
    },
    {
      "cell_type": "code",
      "metadata": {
        "collapsed": true,
        "id": "hxmLKj0Wi0Le"
      },
      "source": [
        "def prepare_boston_data_new():\n",
        "    data = load_boston()\n",
        "    X, y = data['data'], data['target']\n",
        "    \n",
        "    X = np.hstack([X, np.sqrt(X[:, 5:6]), X[:, 6:7] ** 3])\n",
        "    \n",
        "    # Нормализовать даннные с помощью стандартной нормализации\n",
        "    X = (X - X.mean(axis=0)) / X.std(axis=0)\n",
        "    # Добавить фиктивный столбец единиц (bias линейной модели)\n",
        "    X = np.hstack([np.ones(X.shape[0])[:, np.newaxis], X])\n",
        "    \n",
        "    return X, y"
      ],
      "execution_count": null,
      "outputs": []
    },
    {
      "cell_type": "markdown",
      "metadata": {
        "id": "oWfT6zi3i0Lf"
      },
      "source": [
        "Мы добавили два новых признака:\n",
        "1. Взяли корень из признака RM (среднее число комнат на сожителя)\n",
        "1. Возвели в куб значения признака AGE\n",
        "\n",
        "Это только два примера. Всевозможных комбинаций признаков и примененных к ним функций неограниченное количество."
      ]
    },
    {
      "cell_type": "code",
      "metadata": {
        "id": "wk4soCvgi0Lf"
      },
      "source": [
        "def train_validate(X, y):\n",
        "    # Разбить данные на train/valid\n",
        "    X_train, X_valid, y_train, y_valid = train_test_split(X, y, test_size=0.2, shuffle=True, random_state=1)\n",
        "\n",
        "    # Создать и обучить линейную регрессию\n",
        "    linreg_alg = LinRegAlgebra()\n",
        "    linreg_alg.fit(X_train, y_train)\n",
        "\n",
        "    # Сделать предсказания по валидционной выборке\n",
        "    y_pred = linreg_alg.predict(X_valid)\n",
        "\n",
        "    # Посчитать значение ошибок MSE и RMSE для валидационных данных\n",
        "    print_regression_metrics(y_valid, y_pred)"
      ],
      "execution_count": null,
      "outputs": []
    },
    {
      "cell_type": "code",
      "metadata": {
        "id": "2j69y2EDi0Lf",
        "outputId": "e39c5c0d-3504-4a2b-b98e-745f363add24"
      },
      "source": [
        "# Подготовить данные без модификации признаков\n",
        "X, y = prepare_boston_data()\n",
        "# Провести эксперимент\n",
        "train_validate(X, y)"
      ],
      "execution_count": null,
      "outputs": [
        {
          "name": "stdout",
          "output_type": "stream",
          "text": [
            "MSE = 23.38, RMSE = 4.84\n"
          ]
        }
      ]
    },
    {
      "cell_type": "code",
      "metadata": {
        "id": "6B8QZVp0i0Lg",
        "outputId": "2df65cd2-c985-4197-b400-ed7723e8b00c"
      },
      "source": [
        "# Подготовить данные без модификации признаков\n",
        "X, y = prepare_boston_data_new()\n",
        "# Провести эксперимент\n",
        "train_validate(X, y)"
      ],
      "execution_count": null,
      "outputs": [
        {
          "name": "stdout",
          "output_type": "stream",
          "text": [
            "MSE = 14.28, RMSE = 3.78\n"
          ]
        }
      ]
    },
    {
      "cell_type": "markdown",
      "metadata": {
        "id": "4oBpeIv_i0Lg"
      },
      "source": [
        "Как видно из результатов, мы добились улучшения точности предсказаний на 40%, всего лишь добавив пару нелинейных признаков в имеющимся. Можете поиграть с признаками и еще улучшить результат."
      ]
    },
    {
      "cell_type": "code",
      "metadata": {
        "id": "jX9ZpB3vi0Lh"
      },
      "source": [
        ""
      ],
      "execution_count": null,
      "outputs": []
    }
  ]
}