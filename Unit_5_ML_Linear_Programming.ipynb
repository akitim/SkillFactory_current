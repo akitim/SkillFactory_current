{
  "nbformat": 4,
  "nbformat_minor": 0,
  "metadata": {
    "kernelspec": {
      "display_name": "Python 3",
      "language": "python",
      "name": "python3"
    },
    "language_info": {
      "codemirror_mode": {
        "name": "ipython",
        "version": 3
      },
      "file_extension": ".py",
      "mimetype": "text/x-python",
      "name": "python",
      "nbconvert_exporter": "python",
      "pygments_lexer": "ipython3",
      "version": "3.6.8"
    },
    "colab": {
      "name": "Unit 5 ML - Linear_Programming.ipynb",
      "provenance": [],
      "include_colab_link": true
    }
  },
  "cells": [
    {
      "cell_type": "markdown",
      "metadata": {
        "id": "view-in-github",
        "colab_type": "text"
      },
      "source": [
        "<a href=\"https://colab.research.google.com/github/akitim/SkillFactory_current/blob/main/Unit_5_ML_Linear_Programming.ipynb\" target=\"_parent\"><img src=\"https://colab.research.google.com/assets/colab-badge.svg\" alt=\"Open In Colab\"/></a>"
      ]
    },
    {
      "cell_type": "markdown",
      "metadata": {
        "id": "Irfz3sTvct4T"
      },
      "source": [
        "Допустим, у нас есть $n$ товаров с заданными стоимостями $v_i$ и массой $w_i$. В сумку убирается $С$ кг. Сколько какого товара взять, чтобы сумма всех стоимостей товаров была наибольшей?"
      ]
    },
    {
      "cell_type": "code",
      "metadata": {
        "id": "sPpYQ8kect4Y"
      },
      "source": [
        "values = [4, 2, 1, 7, 3, 6]\n",
        "weights = [5, 9, 8, 2, 6, 5]\n",
        "C = 15\n",
        "n = 6"
      ],
      "execution_count": 1,
      "outputs": []
    },
    {
      "cell_type": "markdown",
      "metadata": {
        "id": "yui2p9Lhct4a"
      },
      "source": [
        "Сформулируем задачу:\n",
        "$$\\max\\sum v_i x_i$$\n",
        "$$\\sum w_i x_i \\leq C $$"
      ]
    },
    {
      "cell_type": "markdown",
      "metadata": {
        "id": "BvtKrAqyct4a"
      },
      "source": [
        "Как должна выглядеть задача:\n",
        "$$\\min c^T x$$\n",
        "$$A x \\leq b $$"
      ]
    },
    {
      "cell_type": "markdown",
      "metadata": {
        "id": "HrHeUP8Rct4b"
      },
      "source": [
        "Получается, что $c=-v$, $A=w^T$, $b=(C)$"
      ]
    },
    {
      "cell_type": "code",
      "metadata": {
        "id": "aHqZzcFoct4b"
      },
      "source": [
        "import numpy as np"
      ],
      "execution_count": 2,
      "outputs": []
    },
    {
      "cell_type": "code",
      "metadata": {
        "id": "ONI23VGwct4c"
      },
      "source": [
        "c = - np.array(values)\n",
        "A = np.array(weights)         #shape = (6,)\n",
        "A = np.expand_dims(A, 0)      #shape = (1,6)\n",
        "b = np.array([C])"
      ],
      "execution_count": 6,
      "outputs": []
    },
    {
      "cell_type": "code",
      "metadata": {
        "id": "Jnndoxucct4c"
      },
      "source": [
        "from scipy.optimize import linprog"
      ],
      "execution_count": 7,
      "outputs": []
    },
    {
      "cell_type": "code",
      "metadata": {
        "colab": {
          "base_uri": "https://localhost:8080/"
        },
        "id": "PvPnR2esct4d",
        "outputId": "362180fa-8d0d-4551-bdea-9fc099e4a8b0"
      },
      "source": [
        "linprog(c=c, A_ub=A, b_ub=b)"
      ],
      "execution_count": 8,
      "outputs": [
        {
          "output_type": "stream",
          "name": "stderr",
          "text": [
            "/usr/local/lib/python3.7/dist-packages/numpy/core/fromnumeric.py:87: VisibleDeprecationWarning: Creating an ndarray from ragged nested sequences (which is a list-or-tuple of lists-or-tuples-or ndarrays with different lengths or shapes) is deprecated. If you meant to do this, you must specify 'dtype=object' when creating the ndarray\n",
            "  return ufunc.reduce(obj, axis, dtype, out, **passkwargs)\n"
          ]
        },
        {
          "output_type": "execute_result",
          "data": {
            "text/plain": [
              "     con: array([], dtype=float64)\n",
              "     fun: -52.50000000003075\n",
              " message: 'Optimization terminated successfully.'\n",
              "     nit: 5\n",
              "   slack: array([-2.24904539e-11])\n",
              "  status: 0\n",
              " success: True\n",
              "       x: array([6.18738527e-14, 1.05853305e-12, 1.21475942e-13, 7.50000000e+00,\n",
              "       4.00246688e-13, 4.71394158e-13])"
            ]
          },
          "metadata": {},
          "execution_count": 8
        }
      ]
    },
    {
      "cell_type": "code",
      "metadata": {
        "scrolled": true,
        "colab": {
          "base_uri": "https://localhost:8080/"
        },
        "id": "uTO0sLW-ct4e",
        "outputId": "92120095-ccbc-4d8d-9944-a1b9a192ab8c"
      },
      "source": [
        "!pip install cvxpy"
      ],
      "execution_count": 9,
      "outputs": [
        {
          "output_type": "stream",
          "name": "stdout",
          "text": [
            "Requirement already satisfied: cvxpy in /usr/local/lib/python3.7/dist-packages (1.0.31)\n",
            "Requirement already satisfied: ecos>=2 in /usr/local/lib/python3.7/dist-packages (from cvxpy) (2.0.7.post1)\n",
            "Requirement already satisfied: osqp>=0.4.1 in /usr/local/lib/python3.7/dist-packages (from cvxpy) (0.6.2.post0)\n",
            "Requirement already satisfied: multiprocess in /usr/local/lib/python3.7/dist-packages (from cvxpy) (0.70.12.2)\n",
            "Requirement already satisfied: scipy>=1.1.0 in /usr/local/lib/python3.7/dist-packages (from cvxpy) (1.4.1)\n",
            "Requirement already satisfied: numpy>=1.15 in /usr/local/lib/python3.7/dist-packages (from cvxpy) (1.19.5)\n",
            "Requirement already satisfied: scs>=1.1.3 in /usr/local/lib/python3.7/dist-packages (from cvxpy) (2.1.4)\n",
            "Requirement already satisfied: qdldl in /usr/local/lib/python3.7/dist-packages (from osqp>=0.4.1->cvxpy) (0.1.5.post0)\n",
            "Requirement already satisfied: dill>=0.3.4 in /usr/local/lib/python3.7/dist-packages (from multiprocess->cvxpy) (0.3.4)\n"
          ]
        }
      ]
    },
    {
      "cell_type": "code",
      "metadata": {
        "id": "B0ZDjs0_ct4e"
      },
      "source": [
        "import cvxpy"
      ],
      "execution_count": 10,
      "outputs": []
    },
    {
      "cell_type": "code",
      "metadata": {
        "id": "U_mwWrBLct4e"
      },
      "source": [
        "x = cvxpy.Variable(shape=n, integer = True)"
      ],
      "execution_count": 11,
      "outputs": []
    },
    {
      "cell_type": "code",
      "metadata": {
        "id": "uFiMKFrFct4f"
      },
      "source": [
        "constraint = (A @ x <= b)\n",
        "total_value = c * x"
      ],
      "execution_count": null,
      "outputs": []
    },
    {
      "cell_type": "code",
      "metadata": {
        "id": "nQWtzWMCct4f"
      },
      "source": [
        "problem = cvxpy.Problem(cvxpy.Minimize(total_value), constraints=[constraint])"
      ],
      "execution_count": null,
      "outputs": []
    },
    {
      "cell_type": "code",
      "metadata": {
        "id": "3e_HaNDrct4f",
        "outputId": "439c8fd0-ccb0-4c84-dcc0-90f3950f8bc5"
      },
      "source": [
        "problem.solve()"
      ],
      "execution_count": null,
      "outputs": [
        {
          "data": {
            "text/plain": [
              "-138412039.0000002"
            ]
          },
          "execution_count": 17,
          "metadata": {},
          "output_type": "execute_result"
        }
      ]
    },
    {
      "cell_type": "code",
      "metadata": {
        "id": "1J_0U8luct4g",
        "outputId": "10c0dc47-71ff-42c0-8d3d-315e306045de"
      },
      "source": [
        "x.value"
      ],
      "execution_count": null,
      "outputs": [
        {
          "data": {
            "text/plain": [
              "array([ 8388608.00000001, -8388608.00000001, -8388608.00000001,\n",
              "        8388608.00000001,  6990509.00000001,  8388608.00000001])"
            ]
          },
          "execution_count": 18,
          "metadata": {},
          "output_type": "execute_result"
        }
      ]
    },
    {
      "cell_type": "markdown",
      "metadata": {
        "id": "qmwBMU48ct4g"
      },
      "source": [
        "Теперь положительные $x$"
      ]
    },
    {
      "cell_type": "code",
      "metadata": {
        "id": "PiJ4ntdHct4g",
        "outputId": "f31effa0-0d93-4372-c837-474fc51eb88f"
      },
      "source": [
        "x = cvxpy.Variable(shape=n, integer=True)\n",
        "constraint = (A @ x <= b)\n",
        "x_positive = (x >= 0)\n",
        "total_value = c * x\n",
        "problem = cvxpy.Problem(cvxpy.Minimize(total_value), constraints=[constraint, x_positive])\n",
        "problem.solve()"
      ],
      "execution_count": null,
      "outputs": [
        {
          "data": {
            "text/plain": [
              "-49.000000015906025"
            ]
          },
          "execution_count": 19,
          "metadata": {},
          "output_type": "execute_result"
        }
      ]
    },
    {
      "cell_type": "code",
      "metadata": {
        "id": "ZO8uUTeact4h",
        "outputId": "b0f4af49-e8ab-4043-94a3-cd17fb7bebee"
      },
      "source": [
        "x.value"
      ],
      "execution_count": null,
      "outputs": [
        {
          "data": {
            "text/plain": [
              "array([7.01265807e-10, 7.99333027e-10, 3.58703130e-10, 7.00000000e+00,\n",
              "       4.67143021e-10, 9.34955115e-10])"
            ]
          },
          "execution_count": 20,
          "metadata": {},
          "output_type": "execute_result"
        }
      ]
    },
    {
      "cell_type": "markdown",
      "metadata": {
        "id": "mMYKcE_hct4h"
      },
      "source": [
        "Теперь $x = 0$ или $1$"
      ]
    },
    {
      "cell_type": "code",
      "metadata": {
        "id": "-hWg0zHXct4h",
        "outputId": "fec4088b-b888-4519-b1de-5b864bbe54ab"
      },
      "source": [
        "x = cvxpy.Variable(shape=n, boolean=True)\n",
        "constraint = A @ x <= b\n",
        "x_positive = x >= 0\n",
        "total_value = c * x\n",
        "problem = cvxpy.Problem(cvxpy.Minimize(total_value), constraints=[constraint, x_positive])\n",
        "problem.solve()"
      ],
      "execution_count": null,
      "outputs": [
        {
          "data": {
            "text/plain": [
              "-17.00000000382157"
            ]
          },
          "execution_count": 21,
          "metadata": {},
          "output_type": "execute_result"
        }
      ]
    },
    {
      "cell_type": "code",
      "metadata": {
        "id": "afyvA6ftct4i",
        "outputId": "a3c51344-76ff-4612-926b-876bb756bafc"
      },
      "source": [
        "x.value"
      ],
      "execution_count": null,
      "outputs": [
        {
          "data": {
            "text/plain": [
              "array([1.00000000e+00, 2.25474413e-10, 2.07396078e-10, 1.00000000e+00,\n",
              "       2.24003299e-10, 1.00000000e+00])"
            ]
          },
          "execution_count": 22,
          "metadata": {},
          "output_type": "execute_result"
        }
      ]
    },
    {
      "cell_type": "code",
      "metadata": {
        "id": "nszII1a3ct4i"
      },
      "source": [
        ""
      ],
      "execution_count": null,
      "outputs": []
    }
  ]
}