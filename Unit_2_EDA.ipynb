{
  "nbformat": 4,
  "nbformat_minor": 0,
  "metadata": {
    "colab": {
      "name": "Unit 2 EDA.ipynb",
      "provenance": [],
      "include_colab_link": true
    },
    "kernelspec": {
      "name": "python3",
      "display_name": "Python 3"
    },
    "language_info": {
      "name": "python"
    }
  },
  "cells": [
    {
      "cell_type": "markdown",
      "metadata": {
        "id": "view-in-github",
        "colab_type": "text"
      },
      "source": [
        "<a href=\"https://colab.research.google.com/github/akitim/SkillFactory_current/blob/main/Unit_2_EDA.ipynb\" target=\"_parent\"><img src=\"https://colab.research.google.com/assets/colab-badge.svg\" alt=\"Open In Colab\"/></a>"
      ]
    },
    {
      "cell_type": "markdown",
      "metadata": {
        "id": "u28DKYMTjDFN"
      },
      "source": [
        "# 9.2. О массивах NumPy"
      ]
    },
    {
      "cell_type": "code",
      "metadata": {
        "colab": {
          "base_uri": "https://localhost:8080/"
        },
        "id": "9B4SoRNfi6AN",
        "outputId": "0d6f746e-aa57-4d84-8f38-32062a4301da"
      },
      "source": [
        "import numpy as np\n",
        "# np.set_printoptions(precision=2)\n",
        "np.empty(5) # одномерный массив из пяти элементов, память для которого выделена, но не инициализирована\n"
      ],
      "execution_count": null,
      "outputs": [
        {
          "output_type": "execute_result",
          "data": {
            "text/plain": [
              "array([0.  , 0.25, 0.5 , 0.75, 1.  ])"
            ]
          },
          "metadata": {
            "tags": []
          },
          "execution_count": 40
        }
      ]
    },
    {
      "cell_type": "code",
      "metadata": {
        "colab": {
          "base_uri": "https://localhost:8080/"
        },
        "id": "28HZPh_PjVH0",
        "outputId": "ab5d59c6-5589-43bf-f43f-a855fca285f7"
      },
      "source": [
        "# np.zeros((10, 7)) # массив размером 10x7, заполненный нулями \n",
        "\n",
        "np.ones((3,3,3)) # массив размером 3х3х3, заполненный единицами \n",
        "\n",
        "np.eye(3) # единичная матрица (элементы главной диагонали равны 1, остальные — 0) размера 3х3\n",
        "\n",
        "np.full((3, 5), 3.14)  # массив 3x5 заполненный числом 3.14\n",
        "\n",
        "np.arange(0, 21, 7)  # одномерный массив, заполненный числами в диапазоне от 0 до 20 с шагом 7\n",
        "\n",
        "np.linspace(0, 1, 5)  # массив из пяти чисел, равномерно распределённых в интервале между 0 и 1 включительно\n",
        "\n",
        "np.random.randint(0, 10, (3, 3))  # массив размера 3х3, заполненный случайными числами из диапазона от 0 до 9 (включительно)"
      ],
      "execution_count": null,
      "outputs": [
        {
          "output_type": "execute_result",
          "data": {
            "text/plain": [
              "array([[0, 5, 3],\n",
              "       [3, 6, 0],\n",
              "       [0, 6, 6]])"
            ]
          },
          "metadata": {
            "tags": []
          },
          "execution_count": 11
        }
      ]
    },
    {
      "cell_type": "code",
      "metadata": {
        "colab": {
          "base_uri": "https://localhost:8080/"
        },
        "id": "jvzHaK1xlS8A",
        "outputId": "1d03f275-0efe-433d-af73-a70aedfc1489"
      },
      "source": [
        "my_secret = [x for x in range(1, 301, 7) if x%10 == 7 or x%10 == 1]\n",
        "np.array([my_secret, [x/2 for x in my_secret], [x-100 for x in my_secret]])"
      ],
      "execution_count": null,
      "outputs": [
        {
          "output_type": "execute_result",
          "data": {
            "text/plain": [
              "array([[  1. ,  57. ,  71. , 127. , 141. , 197. , 211. , 267. , 281. ],\n",
              "       [  0.5,  28.5,  35.5,  63.5,  70.5,  98.5, 105.5, 133.5, 140.5],\n",
              "       [-99. , -43. , -29. ,  27. ,  41. ,  97. , 111. , 167. , 181. ]])"
            ]
          },
          "metadata": {
            "tags": []
          },
          "execution_count": 12
        }
      ]
    },
    {
      "cell_type": "code",
      "metadata": {
        "colab": {
          "base_uri": "https://localhost:8080/"
        },
        "id": "IYEB6xQKljAW",
        "outputId": "b16a0098-1624-420c-b7e7-a9ae32465b76"
      },
      "source": [
        "np.ones((5,5))"
      ],
      "execution_count": null,
      "outputs": [
        {
          "output_type": "execute_result",
          "data": {
            "text/plain": [
              "array([[1., 1., 1., 1., 1.],\n",
              "       [1., 1., 1., 1., 1.],\n",
              "       [1., 1., 1., 1., 1.],\n",
              "       [1., 1., 1., 1., 1.],\n",
              "       [1., 1., 1., 1., 1.]])"
            ]
          },
          "metadata": {
            "tags": []
          },
          "execution_count": 15
        }
      ]
    },
    {
      "cell_type": "code",
      "metadata": {
        "colab": {
          "base_uri": "https://localhost:8080/"
        },
        "id": "i9Z_e5nTl2Gi",
        "outputId": "47004fdb-a538-46d7-aa87-d9e4cc27a03e"
      },
      "source": [
        "a = np.array([[1,2,3,4,5], [5,1,2,3,4], [4,5,1,2,3], [3,4,5,1,2], [2,3,4,5,1]])\n",
        "print(a)\n",
        "a[0,1]"
      ],
      "execution_count": null,
      "outputs": [
        {
          "output_type": "stream",
          "text": [
            "[[1 2 3 4 5]\n",
            " [5 1 2 3 4]\n",
            " [4 5 1 2 3]\n",
            " [3 4 5 1 2]\n",
            " [2 3 4 5 1]]\n"
          ],
          "name": "stdout"
        },
        {
          "output_type": "execute_result",
          "data": {
            "text/plain": [
              "2"
            ]
          },
          "metadata": {
            "tags": []
          },
          "execution_count": 22
        }
      ]
    },
    {
      "cell_type": "code",
      "metadata": {
        "colab": {
          "base_uri": "https://localhost:8080/"
        },
        "id": "DY1I--XumGLB",
        "outputId": "7c9a74c0-8f74-4037-87c1-e715450cd8bb"
      },
      "source": [
        "np.random.randint(0, 5, 3)"
      ],
      "execution_count": null,
      "outputs": [
        {
          "output_type": "execute_result",
          "data": {
            "text/plain": [
              "array([3, 4, 3])"
            ]
          },
          "metadata": {
            "tags": []
          },
          "execution_count": 17
        }
      ]
    },
    {
      "cell_type": "markdown",
      "metadata": {
        "id": "uQUoM_5zNfII"
      },
      "source": [
        "9.3. Индексирование массивов NumPy"
      ]
    },
    {
      "cell_type": "code",
      "metadata": {
        "colab": {
          "base_uri": "https://localhost:8080/"
        },
        "id": "mcdRdCwQGrqL",
        "outputId": "638165d1-9bb6-4a2b-c11f-40245cfec205"
      },
      "source": [
        "import numpy as np\n",
        "np.set_printoptions(precision=2)\n",
        " \n",
        "first_line = [x*y for x in range(2, 100, 6) for y in range (7, 1, -2)]\n",
        "second_line = [x ** 0.5 for x in range(1000, 1101, 2)]\n",
        "third_line = [x**2 for x in range(51)]\n",
        " \n",
        "big_secret = np.array([first_line, second_line, third_line, second_line, first_line])\n",
        "bg = big_secret\n",
        " \n",
        "round(big_secret[:,-1].sum(),2)\n",
        " \n",
        "round(big_secret[:, :5].trace(),2)\n",
        " \n",
        "r = np.transpose([big_secret[:,-1]])\n",
        "np.hstack((big_secret[:, -5:-1], r)).diagonal().prod()\n",
        " \n",
        "m, n = bg.shape\n",
        "#print (m, n)\n",
        " \n",
        "bg[:,n-5:].diagonal().prod()"
      ],
      "execution_count": null,
      "outputs": [
        {
          "output_type": "execute_result",
          "data": {
            "text/plain": [
              "341505315559.2347"
            ]
          },
          "metadata": {
            "tags": []
          },
          "execution_count": 9
        }
      ]
    },
    {
      "cell_type": "code",
      "metadata": {
        "colab": {
          "base_uri": "https://localhost:8080/"
        },
        "id": "IIf-NFCxjdoE",
        "outputId": "02df23ca-c042-4343-89b3-31b868b84f60"
      },
      "source": [
        "import numpy as np\n",
        "np.set_printoptions(precision=2)\n",
        " \n",
        "first = [x**(1/2) for x in range(100)]\n",
        "second = [x**(1/3) for x in range(100, 200)]\n",
        "third = [x/y for x in range(200,300,2) for y in [3,5]]\n",
        " \n",
        "great_secret = np.array([first, second, third]).T\n",
        "gs = great_secret\n",
        "gs.shape\n",
        " \n",
        "round(np.cos(gs[0,:]).sum(),2)\n",
        " \n",
        "gs[gs>50].sum()\n",
        " \n",
        "gsf = gs.flatten()\n",
        "gsf[150]\n",
        " \n",
        "round (np.sort(gs, axis=0)[-1,:].sum(), 2)\n",
        "#gs"
      ],
      "execution_count": null,
      "outputs": [
        {
          "output_type": "execute_result",
          "data": {
            "text/plain": [
              "115.12"
            ]
          },
          "metadata": {
            "tags": []
          },
          "execution_count": 11
        }
      ]
    },
    {
      "cell_type": "markdown",
      "metadata": {
        "id": "eciqv8zp-oyj"
      },
      "source": [
        "#9.5. Математические и статистические операции"
      ]
    },
    {
      "cell_type": "markdown",
      "metadata": {
        "id": "QqtKHfEwAVG_"
      },
      "source": [
        "![students.png](data:image/png;base64,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)"
      ]
    },
    {
      "cell_type": "code",
      "metadata": {
        "id": "AB6rpBuKCbB0",
        "colab": {
          "base_uri": "https://localhost:8080/"
        },
        "outputId": "ae68cbbf-6786-4124-b3d1-4e89410f2038"
      },
      "source": [
        "import numpy as np\n",
        "np.set_printoptions(precision=2)\n",
        " \n",
        "data = '''\n",
        "1   135 34  4\n",
        "2   160 43  5\n",
        "3   163 40  4.3\n",
        "4   147 44  5\n",
        "5   138 41  4.7\n",
        "6   149 54  3.9\n",
        "7   136 39  4.2\n",
        "8   154 48  4.9\n",
        "9   137 35  3.7\n",
        "10  165 60  4.6'''.split()\n",
        "  \n",
        "students = np.array(list(map (float, data)))\n",
        "students = students.reshape(10,4)\n",
        " \n",
        "np.median(students[:, 2])\n",
        " \n",
        "np.mean(students[:, 2]) - np.median(students[:, 2])\n",
        " \n",
        "[np.corrcoef(students[:, 1],students[:, 2])[0,1],\n",
        "   np.corrcoef(students[:, 1],students[:, 3])[0,1],\n",
        "   np.corrcoef(students[:, 2],students[:, 3])[0,1]\n",
        "]\n",
        " \n",
        "np.std (students[:,3])\n",
        " \n",
        "np.std (students[:,2])**2\n",
        "np.var (students[:,2])"
      ],
      "execution_count": null,
      "outputs": [
        {
          "output_type": "execute_result",
          "data": {
            "text/plain": [
              "7.572"
            ]
          },
          "metadata": {
            "tags": []
          },
          "execution_count": 42
        }
      ]
    },
    {
      "cell_type": "markdown",
      "metadata": {
        "id": "LrYn9G8XgL6j"
      },
      "source": [
        "#9.7. Итоговый тест"
      ]
    },
    {
      "cell_type": "code",
      "metadata": {
        "id": "i1EvVZw1FDJR",
        "colab": {
          "base_uri": "https://localhost:8080/"
        },
        "outputId": "2b9f9a62-42b8-4e4d-9c33-cf2f71549f35"
      },
      "source": [
        "import numpy as np\n",
        "np.set_printoptions(precision=2)\n",
        "\n",
        "np.random.randint(1, 10, (10, 10))\n",
        "\n",
        "my_array = np.array([[1,2,3,4,5],\n",
        "                     [6,7,8,9,10],\n",
        "                     [11,12,13,14,15],\n",
        "                     [16,17,18,19,20],\n",
        "                     [21,22,23,24,25]])\n",
        "my_array[1:4,1:4]\n",
        "\n",
        "my_sin = np.sin(my_array)\n",
        "round(my_sin.sum(),3)\n",
        "\n",
        "my_sin[1:4,1:4] = 1\n",
        "round(my_sin.sum(),3)\n",
        "\n",
        "round(np.sum(my_sin[:,0:4].reshape (10, 2)[:,0]),3)\n"
      ],
      "execution_count": null,
      "outputs": [
        {
          "output_type": "execute_result",
          "data": {
            "text/plain": [
              "2.406"
            ]
          },
          "metadata": {
            "tags": []
          },
          "execution_count": 56
        }
      ]
    },
    {
      "cell_type": "code",
      "metadata": {
        "colab": {
          "base_uri": "https://localhost:8080/"
        },
        "id": "XdQL4y-JiLPS",
        "outputId": "b81d369d-7b76-44bb-c4db-b6834bd2a657"
      },
      "source": [
        "import numpy as np\n",
        "np.set_printoptions(precision=2)\n",
        "\n",
        "bigdata = np.array([n**2 for n in range(100, 1001) if n%2])\n",
        "\n",
        "np.median(bigdata)\n",
        "\n",
        "round (np.std(bigdata))\n",
        "\n",
        "np.corrcoef( bigdata[0::2], bigdata[1::2])\n",
        "\n"
      ],
      "execution_count": null,
      "outputs": [
        {
          "output_type": "execute_result",
          "data": {
            "text/plain": [
              "array([[1., 1.],\n",
              "       [1., 1.]])"
            ]
          },
          "metadata": {
            "tags": []
          },
          "execution_count": 64
        }
      ]
    },
    {
      "cell_type": "markdown",
      "metadata": {
        "id": "dCNa8gSg00Yo"
      },
      "source": [
        "#PYTHON-10. Методы визуализации данных"
      ]
    },
    {
      "cell_type": "code",
      "metadata": {
        "colab": {
          "base_uri": "https://localhost:8080/"
        },
        "id": "HRz-t-iN02OE",
        "outputId": "39001ab1-aad2-4ea9-a292-c52acc438a18"
      },
      "source": [
        "import sys\n",
        "from google.colab import drive\n",
        "drive.mount('/content/gdrive', force_remount=True)\n",
        "sys.path.clear\n",
        "sys.path.append('/content/gdrive/MyDrive/SkillFactory')\n",
        " \n",
        "import numpy as np\n",
        "import pandas as pd\n",
        "np.set_printoptions(precision=2)"
      ],
      "execution_count": 1,
      "outputs": [
        {
          "output_type": "stream",
          "text": [
            "Mounted at /content/gdrive\n"
          ],
          "name": "stdout"
        }
      ]
    },
    {
      "cell_type": "code",
      "metadata": {
        "id": "hcGlGD042ATq",
        "colab": {
          "base_uri": "https://localhost:8080/",
          "height": 112
        },
        "outputId": "774eea58-a325-42e7-c1e3-e452fd8dd886"
      },
      "source": [
        "df = pd.read_csv('/content/gdrive/MyDrive/SkillFactory/tips.csv')\n",
        "df.total_bill.max()\n",
        " \n",
        "display(df.sample(2))\n",
        " \n",
        "%matplotlib inline\n",
        " \n",
        "# df.groupby('smoker')['tip'].mean().plot(kind = 'barh') \n",
        " \n",
        "# df['smoker'].value_counts().plot(kind = 'bar')\n",
        " \n",
        "# df.groupby('smoker')['tip'].count().plot(kind = 'bar')"
      ],
      "execution_count": 2,
      "outputs": [
        {
          "output_type": "display_data",
          "data": {
            "text/html": [
              "<div>\n",
              "<style scoped>\n",
              "    .dataframe tbody tr th:only-of-type {\n",
              "        vertical-align: middle;\n",
              "    }\n",
              "\n",
              "    .dataframe tbody tr th {\n",
              "        vertical-align: top;\n",
              "    }\n",
              "\n",
              "    .dataframe thead th {\n",
              "        text-align: right;\n",
              "    }\n",
              "</style>\n",
              "<table border=\"1\" class=\"dataframe\">\n",
              "  <thead>\n",
              "    <tr style=\"text-align: right;\">\n",
              "      <th></th>\n",
              "      <th>total_bill</th>\n",
              "      <th>tip</th>\n",
              "      <th>sex</th>\n",
              "      <th>smoker</th>\n",
              "      <th>day</th>\n",
              "      <th>time</th>\n",
              "      <th>size</th>\n",
              "    </tr>\n",
              "  </thead>\n",
              "  <tbody>\n",
              "    <tr>\n",
              "      <th>202</th>\n",
              "      <td>13.00</td>\n",
              "      <td>2.00</td>\n",
              "      <td>Female</td>\n",
              "      <td>Yes</td>\n",
              "      <td>Thur</td>\n",
              "      <td>Lunch</td>\n",
              "      <td>2</td>\n",
              "    </tr>\n",
              "    <tr>\n",
              "      <th>103</th>\n",
              "      <td>22.42</td>\n",
              "      <td>3.48</td>\n",
              "      <td>Female</td>\n",
              "      <td>Yes</td>\n",
              "      <td>Sat</td>\n",
              "      <td>Dinner</td>\n",
              "      <td>2</td>\n",
              "    </tr>\n",
              "  </tbody>\n",
              "</table>\n",
              "</div>"
            ],
            "text/plain": [
              "     total_bill   tip     sex smoker   day    time  size\n",
              "202       13.00  2.00  Female    Yes  Thur   Lunch     2\n",
              "103       22.42  3.48  Female    Yes   Sat  Dinner     2"
            ]
          },
          "metadata": {
            "tags": []
          }
        }
      ]
    },
    {
      "cell_type": "markdown",
      "metadata": {
        "id": "nA1bDwhNzKFO"
      },
      "source": [
        "#10.5. Объектно-ориентированный подход"
      ]
    },
    {
      "cell_type": "code",
      "metadata": {
        "colab": {
          "base_uri": "https://localhost:8080/"
        },
        "id": "-jnqlaoXzLfg",
        "outputId": "f2665c41-0b12-4c1a-d89e-1f75ed8547e5"
      },
      "source": [
        "import sys\n",
        "from google.colab import drive\n",
        "drive.mount('/content/gdrive', force_remount=True)\n",
        "sys.path.clear\n",
        "sys.path.append('/content/gdrive/MyDrive/SkillFactory')\n",
        " \n",
        "import pandas as pd\n",
        "import numpy as np\n",
        "np.set_printoptions(precision=2)\n",
        " \n",
        "import matplotlib.pyplot as plt\n",
        "%matplotlib inline\n",
        " \n",
        "import seaborn as sns\n",
        "import warnings;\n",
        "warnings.simplefilter('ignore')"
      ],
      "execution_count": 6,
      "outputs": [
        {
          "output_type": "stream",
          "text": [
            "Mounted at /content/gdrive\n"
          ],
          "name": "stdout"
        }
      ]
    },
    {
      "cell_type": "code",
      "metadata": {
        "colab": {
          "base_uri": "https://localhost:8080/",
          "height": 937
        },
        "id": "x6u2GbMqzPMV",
        "outputId": "9fe2e06a-a6cd-4d6a-effc-32e1ab001a3f"
      },
      "source": [
        "df = pd.read_csv('/content/gdrive/MyDrive/SkillFactory/tips.csv')\n",
        " \n",
        "# fig = plt.figure()\n",
        "# axes = fig.add_axes([0, 0, 1, 1.618])\n",
        "# axes.hist(df['total_bill'], bins = 20, color = 'green')\n",
        "# axes.set_title('Общая сумма счета')\n",
        "# axes.set_ylabel('Количество заказов')\n",
        "# axes.set_xlabel('Сумма заказа, USD')\n",
        "'''\n",
        "fig2 = plt.figure()\n",
        "axes = fig2.add_axes([0, 0, 1.5, 1])\n",
        "axes.scatter(x = df['total_bill'], y = df['tip'], marker = 's') # \"$s$\")\n",
        "axes.set_title('Общая сумма счёта Vs Cумма чаевых')\n",
        "axes.set_xlabel('Сумма чека')\n",
        "axes.set_ylabel('Размер чаевых')\n",
        " \n",
        "bills_per_day = df.groupby(by = 'day')['total_bill'].agg(['min','max']).reset_index()\n",
        "display(bills_per_day)\n",
        " \n",
        "axes.bar(x = bills_per_day['day'], height = bills_per_day['max'], \n",
        "                width = 0.4, align = 'edge', label = 'Максимальная сумма чека')\n",
        "axes.bar(x = bills_per_day['day'], height = bills_per_day['min'], \n",
        "                width = -0.4, align = 'edge', label = 'Минимальная сумма чека')\n",
        "axes.set_ylim(0, 60)\n",
        "axes.legend(loc = 9)\n",
        " \n",
        "bills_per_day.columns'''"
      ],
      "execution_count": 7,
      "outputs": [
        {
          "output_type": "execute_result",
          "data": {
            "application/vnd.google.colaboratory.intrinsic+json": {
              "type": "string"
            },
            "text/plain": [
              "'\\nfig2 = plt.figure()\\naxes = fig2.add_axes([0, 0, 1.5, 1])\\naxes.scatter(x = df[\\'total_bill\\'], y = df[\\'tip\\'], marker = \\'s\\') # \"$s$\")\\naxes.set_title(\\'Общая сумма счёта Vs Cумма чаевых\\')\\naxes.set_xlabel(\\'Сумма чека\\')\\naxes.set_ylabel(\\'Размер чаевых\\')\\n \\nbills_per_day = df.groupby(by = \\'day\\')[\\'total_bill\\'].agg([\\'min\\',\\'max\\']).reset_index()\\ndisplay(bills_per_day)\\n \\naxes.bar(x = bills_per_day[\\'day\\'], height = bills_per_day[\\'max\\'], \\n                width = 0.4, align = \\'edge\\', label = \\'Максимальная сумма чека\\')\\naxes.bar(x = bills_per_day[\\'day\\'], height = bills_per_day[\\'min\\'], \\n                width = -0.4, align = \\'edge\\', label = \\'Минимальная сумма чека\\')\\naxes.set_ylim(0, 60)\\naxes.legend(loc = 9)\\n \\nbills_per_day.columns'"
            ]
          },
          "metadata": {
            "tags": []
          },
          "execution_count": 7
        }
      ]
    },
    {
      "cell_type": "code",
      "metadata": {
        "id": "HvMiAZ5cjaib",
        "colab": {
          "base_uri": "https://localhost:8080/",
          "height": 353
        },
        "outputId": "41fe6e27-cb05-4c1c-dff0-b0edd3528878"
      },
      "source": [
        "x = np.linspace(start=-3., stop=3., num=1000)\n",
        "y1 = np.exp(x)\n",
        " \n",
        "fig = plt.figure()\n",
        "axes = fig.add_axes([0,0,1,1])\n",
        "axes.plot(x, y1)"
      ],
      "execution_count": null,
      "outputs": [
        {
          "output_type": "execute_result",
          "data": {
            "text/plain": [
              "[<matplotlib.lines.Line2D at 0x7fb3e332f910>]"
            ]
          },
          "metadata": {
            "tags": []
          },
          "execution_count": 10
        },
        {
          "output_type": "display_data",
          "data": {
            "image/png": "[encoded data removed]",
            "text/plain": [
              "<Figure size 432x288 with 1 Axes>"
            ]
          },
          "metadata": {
            "tags": [],
            "needs_background": "light"
          }
        }
      ]
    },
    {
      "cell_type": "code",
      "metadata": {
        "id": "eNcPILWopGC1",
        "outputId": "cef8c300-4c7c-4005-918b-3b643316ce77",
        "colab": {
          "base_uri": "https://localhost:8080/",
          "height": 565
        }
      },
      "source": [
        "sns.set()\n",
        "#sns.distplot(df[\"total_bill\"])\n",
        " \n",
        "#sns.pairplot(df,kind = 'kde')\n",
        " \n",
        "#sns.jointplot(y = 'tip', x = 'total_bill', data = df, kind= 'hex')\n",
        " \n",
        "#sns.countplot(x='day', data=df)\n",
        " \n",
        "sns.pairplot(df, hue = 'sex')"
      ],
      "execution_count": 27,
      "outputs": [
        {
          "output_type": "execute_result",
          "data": {
            "text/plain": [
              "<seaborn.axisgrid.PairGrid at 0x7fa55844ab50>"
            ]
          },
          "metadata": {
            "tags": []
          },
          "execution_count": 27
        },
        {
          "output_type": "display_data",
          "data": {
            "image/png": "[encoded data removed]",
            "text/plain": [
              "<Figure size 619.725x540 with 12 Axes>"
            ]
          },
          "metadata": {
            "tags": []
          }
        }
      ]
    }
  ]
}