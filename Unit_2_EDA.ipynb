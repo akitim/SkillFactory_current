{
  "nbformat": 4,
  "nbformat_minor": 0,
  "metadata": {
    "colab": {
      "name": "Unit 2 EDA.ipynb",
      "provenance": [],
      "authorship_tag": "ABX9TyNwONfCZjHnl4g8s7k566yS",
      "include_colab_link": true
    },
    "kernelspec": {
      "name": "python3",
      "display_name": "Python 3"
    },
    "language_info": {
      "name": "python"
    }
  },
  "cells": [
    {
      "cell_type": "markdown",
      "metadata": {
        "id": "view-in-github",
        "colab_type": "text"
      },
      "source": [
        "<a href=\"https://colab.research.google.com/github/akitim/SkillFactory_current/blob/main/Unit_2_EDA.ipynb\" target=\"_parent\"><img src=\"https://colab.research.google.com/assets/colab-badge.svg\" alt=\"Open In Colab\"/></a>"
      ]
    },
    {
      "cell_type": "markdown",
      "metadata": {
        "id": "u28DKYMTjDFN"
      },
      "source": [
        "# 9.2. О массивах NumPy"
      ]
    },
    {
      "cell_type": "code",
      "metadata": {
        "colab": {
          "base_uri": "https://localhost:8080/"
        },
        "id": "9B4SoRNfi6AN",
        "outputId": "0d6f746e-aa57-4d84-8f38-32062a4301da"
      },
      "source": [
        "import numpy as np\n",
        "# np.set_printoptions(precision=2)\n",
        "np.empty(5) # одномерный массив из пяти элементов, память для которого выделена, но не инициализирована\n"
      ],
      "execution_count": 40,
      "outputs": [
        {
          "output_type": "execute_result",
          "data": {
            "text/plain": [
              "array([0.  , 0.25, 0.5 , 0.75, 1.  ])"
            ]
          },
          "metadata": {
            "tags": []
          },
          "execution_count": 40
        }
      ]
    },
    {
      "cell_type": "code",
      "metadata": {
        "colab": {
          "base_uri": "https://localhost:8080/"
        },
        "id": "28HZPh_PjVH0",
        "outputId": "ab5d59c6-5589-43bf-f43f-a855fca285f7"
      },
      "source": [
        "# np.zeros((10, 7)) # массив размером 10x7, заполненный нулями \n",
        "\n",
        "np.ones((3,3,3)) # массив размером 3х3х3, заполненный единицами \n",
        "\n",
        "np.eye(3) # единичная матрица (элементы главной диагонали равны 1, остальные — 0) размера 3х3\n",
        "\n",
        "np.full((3, 5), 3.14)  # массив 3x5 заполненный числом 3.14\n",
        "\n",
        "np.arange(0, 21, 7)  # одномерный массив, заполненный числами в диапазоне от 0 до 20 с шагом 7\n",
        "\n",
        "np.linspace(0, 1, 5)  # массив из пяти чисел, равномерно распределённых в интервале между 0 и 1 включительно\n",
        "\n",
        "np.random.randint(0, 10, (3, 3))  # массив размера 3х3, заполненный случайными числами из диапазона от 0 до 9 (включительно)"
      ],
      "execution_count": null,
      "outputs": [
        {
          "output_type": "execute_result",
          "data": {
            "text/plain": [
              "array([[0, 5, 3],\n",
              "       [3, 6, 0],\n",
              "       [0, 6, 6]])"
            ]
          },
          "metadata": {
            "tags": []
          },
          "execution_count": 11
        }
      ]
    },
    {
      "cell_type": "code",
      "metadata": {
        "colab": {
          "base_uri": "https://localhost:8080/"
        },
        "id": "jvzHaK1xlS8A",
        "outputId": "1d03f275-0efe-433d-af73-a70aedfc1489"
      },
      "source": [
        "my_secret = [x for x in range(1, 301, 7) if x%10 == 7 or x%10 == 1]\n",
        "np.array([my_secret, [x/2 for x in my_secret], [x-100 for x in my_secret]])"
      ],
      "execution_count": null,
      "outputs": [
        {
          "output_type": "execute_result",
          "data": {
            "text/plain": [
              "array([[  1. ,  57. ,  71. , 127. , 141. , 197. , 211. , 267. , 281. ],\n",
              "       [  0.5,  28.5,  35.5,  63.5,  70.5,  98.5, 105.5, 133.5, 140.5],\n",
              "       [-99. , -43. , -29. ,  27. ,  41. ,  97. , 111. , 167. , 181. ]])"
            ]
          },
          "metadata": {
            "tags": []
          },
          "execution_count": 12
        }
      ]
    },
    {
      "cell_type": "code",
      "metadata": {
        "colab": {
          "base_uri": "https://localhost:8080/"
        },
        "id": "IYEB6xQKljAW",
        "outputId": "b16a0098-1624-420c-b7e7-a9ae32465b76"
      },
      "source": [
        "np.ones((5,5))"
      ],
      "execution_count": null,
      "outputs": [
        {
          "output_type": "execute_result",
          "data": {
            "text/plain": [
              "array([[1., 1., 1., 1., 1.],\n",
              "       [1., 1., 1., 1., 1.],\n",
              "       [1., 1., 1., 1., 1.],\n",
              "       [1., 1., 1., 1., 1.],\n",
              "       [1., 1., 1., 1., 1.]])"
            ]
          },
          "metadata": {
            "tags": []
          },
          "execution_count": 15
        }
      ]
    },
    {
      "cell_type": "code",
      "metadata": {
        "colab": {
          "base_uri": "https://localhost:8080/"
        },
        "id": "i9Z_e5nTl2Gi",
        "outputId": "47004fdb-a538-46d7-aa87-d9e4cc27a03e"
      },
      "source": [
        "a = np.array([[1,2,3,4,5], [5,1,2,3,4], [4,5,1,2,3], [3,4,5,1,2], [2,3,4,5,1]])\n",
        "print(a)\n",
        "a[0,1]"
      ],
      "execution_count": 22,
      "outputs": [
        {
          "output_type": "stream",
          "text": [
            "[[1 2 3 4 5]\n",
            " [5 1 2 3 4]\n",
            " [4 5 1 2 3]\n",
            " [3 4 5 1 2]\n",
            " [2 3 4 5 1]]\n"
          ],
          "name": "stdout"
        },
        {
          "output_type": "execute_result",
          "data": {
            "text/plain": [
              "2"
            ]
          },
          "metadata": {
            "tags": []
          },
          "execution_count": 22
        }
      ]
    },
    {
      "cell_type": "code",
      "metadata": {
        "colab": {
          "base_uri": "https://localhost:8080/"
        },
        "id": "DY1I--XumGLB",
        "outputId": "7c9a74c0-8f74-4037-87c1-e715450cd8bb"
      },
      "source": [
        "np.random.randint(0, 5, 3)"
      ],
      "execution_count": null,
      "outputs": [
        {
          "output_type": "execute_result",
          "data": {
            "text/plain": [
              "array([3, 4, 3])"
            ]
          },
          "metadata": {
            "tags": []
          },
          "execution_count": 17
        }
      ]
    },
    {
      "cell_type": "markdown",
      "metadata": {
        "id": "uQUoM_5zNfII"
      },
      "source": [
        "9.3. Индексирование массивов NumPy"
      ]
    },
    {
      "cell_type": "code",
      "metadata": {
        "colab": {
          "base_uri": "https://localhost:8080/"
        },
        "id": "mcdRdCwQGrqL",
        "outputId": "eba3959d-f179-4e7a-dba1-3fb5b9c890ad"
      },
      "source": [
        "import numpy as np\n",
        "np.set_printoptions(precision=2)\n",
        "\n",
        "first_line = [x*y for x in range(2, 100, 6) for y in range (7, 1, -2)]\n",
        "second_line = [x ** 0.5 for x in range(1000, 1101, 2)]\n",
        "third_line = [x**2 for x in range(51)]\n",
        "\n",
        "big_secret = np.array([first_line, second_line, third_line, second_line, first_line])\n",
        "bg = big_secret\n",
        "\n",
        "round(big_secret[:,-1].sum(),2)\n",
        "\n",
        "round(big_secret[:, :5].trace(),2)\n",
        "\n",
        "r = np.transpose([big_secret[:,-1]])\n",
        "np.hstack((big_secret[:, -5:-1], r)).diagonal().prod()\n",
        "\n",
        "bg[::2,::2] = -1\n",
        "bg[1::2,1::2] = 1\n",
        "bg\n",
        "bg[:,:5].trace()\n",
        "\n",
        "m,n = bg.shape\n",
        "bg[:,n-5:].diagonal().prod()\n"
      ],
      "execution_count": 81,
      "outputs": [
        {
          "output_type": "execute_result",
          "data": {
            "text/plain": [
              "-1.0"
            ]
          },
          "metadata": {
            "tags": []
          },
          "execution_count": 81
        }
      ]
    },
    {
      "cell_type": "code",
      "metadata": {
        "colab": {
          "base_uri": "https://localhost:8080/"
        },
        "id": "IIf-NFCxjdoE",
        "outputId": "866011fe-65f8-48f8-e0a6-af0e4a1dc5f3"
      },
      "source": [
        "import numpy as np\n",
        "np.set_printoptions(precision=2)\n",
        "\n",
        "first = [x**(1/2) for x in range(100)]\n",
        "second = [x**(1/3) for x in range(100, 200)]\n",
        "third = [x/y for x in range(200,300,2) for y in [3,5]]\n",
        "\n",
        "great_secret = np.array([first, second, third]).T\n",
        "gs = great_secret\n",
        "gs"
      ],
      "execution_count": 83,
      "outputs": [
        {
          "output_type": "execute_result",
          "data": {
            "text/plain": [
              "array([[ 0.  ,  4.64, 66.67],\n",
              "       [ 1.  ,  4.66, 40.  ],\n",
              "       [ 1.41,  4.67, 67.33],\n",
              "       [ 1.73,  4.69, 40.4 ],\n",
              "       [ 2.  ,  4.7 , 68.  ],\n",
              "       [ 2.24,  4.72, 40.8 ],\n",
              "       [ 2.45,  4.73, 68.67],\n",
              "       [ 2.65,  4.75, 41.2 ],\n",
              "       [ 2.83,  4.76, 69.33],\n",
              "       [ 3.  ,  4.78, 41.6 ],\n",
              "       [ 3.16,  4.79, 70.  ],\n",
              "       [ 3.32,  4.81, 42.  ],\n",
              "       [ 3.46,  4.82, 70.67],\n",
              "       [ 3.61,  4.83, 42.4 ],\n",
              "       [ 3.74,  4.85, 71.33],\n",
              "       [ 3.87,  4.86, 42.8 ],\n",
              "       [ 4.  ,  4.88, 72.  ],\n",
              "       [ 4.12,  4.89, 43.2 ],\n",
              "       [ 4.24,  4.9 , 72.67],\n",
              "       [ 4.36,  4.92, 43.6 ],\n",
              "       [ 4.47,  4.93, 73.33],\n",
              "       [ 4.58,  4.95, 44.  ],\n",
              "       [ 4.69,  4.96, 74.  ],\n",
              "       [ 4.8 ,  4.97, 44.4 ],\n",
              "       [ 4.9 ,  4.99, 74.67],\n",
              "       [ 5.  ,  5.  , 44.8 ],\n",
              "       [ 5.1 ,  5.01, 75.33],\n",
              "       [ 5.2 ,  5.03, 45.2 ],\n",
              "       [ 5.29,  5.04, 76.  ],\n",
              "       [ 5.39,  5.05, 45.6 ],\n",
              "       [ 5.48,  5.07, 76.67],\n",
              "       [ 5.57,  5.08, 46.  ],\n",
              "       [ 5.66,  5.09, 77.33],\n",
              "       [ 5.74,  5.1 , 46.4 ],\n",
              "       [ 5.83,  5.12, 78.  ],\n",
              "       [ 5.92,  5.13, 46.8 ],\n",
              "       [ 6.  ,  5.14, 78.67],\n",
              "       [ 6.08,  5.16, 47.2 ],\n",
              "       [ 6.16,  5.17, 79.33],\n",
              "       [ 6.24,  5.18, 47.6 ],\n",
              "       [ 6.32,  5.19, 80.  ],\n",
              "       [ 6.4 ,  5.2 , 48.  ],\n",
              "       [ 6.48,  5.22, 80.67],\n",
              "       [ 6.56,  5.23, 48.4 ],\n",
              "       [ 6.63,  5.24, 81.33],\n",
              "       [ 6.71,  5.25, 48.8 ],\n",
              "       [ 6.78,  5.27, 82.  ],\n",
              "       [ 6.86,  5.28, 49.2 ],\n",
              "       [ 6.93,  5.29, 82.67],\n",
              "       [ 7.  ,  5.3 , 49.6 ],\n",
              "       [ 7.07,  5.31, 83.33],\n",
              "       [ 7.14,  5.33, 50.  ],\n",
              "       [ 7.21,  5.34, 84.  ],\n",
              "       [ 7.28,  5.35, 50.4 ],\n",
              "       [ 7.35,  5.36, 84.67],\n",
              "       [ 7.42,  5.37, 50.8 ],\n",
              "       [ 7.48,  5.38, 85.33],\n",
              "       [ 7.55,  5.39, 51.2 ],\n",
              "       [ 7.62,  5.41, 86.  ],\n",
              "       [ 7.68,  5.42, 51.6 ],\n",
              "       [ 7.75,  5.43, 86.67],\n",
              "       [ 7.81,  5.44, 52.  ],\n",
              "       [ 7.87,  5.45, 87.33],\n",
              "       [ 7.94,  5.46, 52.4 ],\n",
              "       [ 8.  ,  5.47, 88.  ],\n",
              "       [ 8.06,  5.48, 52.8 ],\n",
              "       [ 8.12,  5.5 , 88.67],\n",
              "       [ 8.19,  5.51, 53.2 ],\n",
              "       [ 8.25,  5.52, 89.33],\n",
              "       [ 8.31,  5.53, 53.6 ],\n",
              "       [ 8.37,  5.54, 90.  ],\n",
              "       [ 8.43,  5.55, 54.  ],\n",
              "       [ 8.49,  5.56, 90.67],\n",
              "       [ 8.54,  5.57, 54.4 ],\n",
              "       [ 8.6 ,  5.58, 91.33],\n",
              "       [ 8.66,  5.59, 54.8 ],\n",
              "       [ 8.72,  5.6 , 92.  ],\n",
              "       [ 8.77,  5.61, 55.2 ],\n",
              "       [ 8.83,  5.63, 92.67],\n",
              "       [ 8.89,  5.64, 55.6 ],\n",
              "       [ 8.94,  5.65, 93.33],\n",
              "       [ 9.  ,  5.66, 56.  ],\n",
              "       [ 9.06,  5.67, 94.  ],\n",
              "       [ 9.11,  5.68, 56.4 ],\n",
              "       [ 9.17,  5.69, 94.67],\n",
              "       [ 9.22,  5.7 , 56.8 ],\n",
              "       [ 9.27,  5.71, 95.33],\n",
              "       [ 9.33,  5.72, 57.2 ],\n",
              "       [ 9.38,  5.73, 96.  ],\n",
              "       [ 9.43,  5.74, 57.6 ],\n",
              "       [ 9.49,  5.75, 96.67],\n",
              "       [ 9.54,  5.76, 58.  ],\n",
              "       [ 9.59,  5.77, 97.33],\n",
              "       [ 9.64,  5.78, 58.4 ],\n",
              "       [ 9.7 ,  5.79, 98.  ],\n",
              "       [ 9.75,  5.8 , 58.8 ],\n",
              "       [ 9.8 ,  5.81, 98.67],\n",
              "       [ 9.85,  5.82, 59.2 ],\n",
              "       [ 9.9 ,  5.83, 99.33],\n",
              "       [ 9.95,  5.84, 59.6 ]])"
            ]
          },
          "metadata": {
            "tags": []
          },
          "execution_count": 83
        }
      ]
    }
  ]
}