{
  "nbformat": 4,
  "nbformat_minor": 0,
  "metadata": {
    "kernelspec": {
      "display_name": "Python 3",
      "language": "python",
      "name": "python3"
    },
    "language_info": {
      "codemirror_mode": {
        "name": "ipython",
        "version": 3
      },
      "file_extension": ".py",
      "mimetype": "text/x-python",
      "name": "python",
      "nbconvert_exporter": "python",
      "pygments_lexer": "ipython3",
      "version": "3.7.1"
    },
    "colab": {
      "name": "Descriptive_stats.ipynb",
      "provenance": [],
      "include_colab_link": true
    },
    "nteract": {
      "version": "0.27.0"
    }
  },
  "cells": [
    {
      "cell_type": "markdown",
      "metadata": {
        "id": "view-in-github",
        "colab_type": "text"
      },
      "source": [
        "<a href=\"https://colab.research.google.com/github/akitim/SkillFactory_current/blob/main/Unit%205%20ML%20Descriptive_stats.ipynb\" target=\"_parent\"><img src=\"https://colab.research.google.com/assets/colab-badge.svg\" alt=\"Open In Colab\"/></a>"
      ]
    },
    {
      "cell_type": "markdown",
      "metadata": {
        "id": "wfs8rM4U-4AT"
      },
      "source": [
        "Думаю, вы уже познакомились со стандартными функциями в numpy для вычисления станадртных оценок (среднего, медианы и проч), однако в анализе реальных данных вы, как правило, будете работать с целым датасетом.\n",
        "\n",
        "В этом разделе мы познакомимся с вычислением описательных статистик для целого датасета.\n",
        "\n",
        "Большинство из них вычиляются одной командой (методом) describe\n",
        "\n",
        "С вычислением корреляцонной матрицы мы уже сталкивались во 2 модуле, но освежим и ее\n",
        "\n",
        "И отдельное внимание уделим вычислению условных и безусловных пропорций.\n"
      ]
    },
    {
      "cell_type": "markdown",
      "metadata": {
        "id": "-IgdK2ja-4Ac"
      },
      "source": [
        "В датасете framingham.csv представлены данные, которые группа ученых из Фрамингема (США) использовала для выявления риска заболевания ишемической болезнью сердца в течение 10 лет.\n",
        "\n",
        "Демографические данные: \n",
        "\n",
        "    sex (male): пол, мужчина (1) или женщина (0) \n",
        "\n",
        "    age: возраст \n",
        "    \n",
        "    education: уровень образования (0-4: школа-колледж)\n",
        "    \n",
        "Поведенческие данные: \n",
        "\n",
        "    currentSmoker: курильщик (1) или нет (0)\n",
        "\n",
        "    cigsPerDay: количество выкуриваемых сигарет в день (шт.)\n",
        "\n",
        "Медицинская история:\n",
        "\n",
        "    BPMeds: принимает ли пациент препараты для регулировки артериального давления (0 - нет, 1 - да)\n",
        "\n",
        "    prevalentStroke: случался ли у пациента сердечный приступ (0 - нет, 1 - да)\n",
        "\n",
        "    prevalentHyp: страдает ли пациент гипертонией (0 - нет, 1 - да)\n",
        "\n",
        "    diabetes: страдает ли пациент диабетом (0 - нет, 1 - да)\n",
        "\n",
        "Физическое состояние:\n",
        "\n",
        "    totChol: уровень холестерина\n",
        "\n",
        "    sysBP: систолическое (верхнее) артериальное давление \n",
        "\n",
        "    diaBP: диастолическое (нижнее) артериальное давление \n",
        "\n",
        "    BMI: индекс массы тела - масса (кг) / рост^2 (в метрах)\n",
        "\n",
        "    heartRate: пульс\n",
        "\n",
        "    glucose: уровень глюкозы\n",
        "\n",
        "Целевая переменная (на которую авторы строили регрессию):\n",
        "\n",
        "    TenYearCHD: риск заболевания ишемической болезнью сердца в течение 10 лет"
      ]
    },
    {
      "cell_type": "markdown",
      "metadata": {
        "id": "KAPvNzfy-4Ag"
      },
      "source": [
        "Импорт библиотек:"
      ]
    },
    {
      "cell_type": "code",
      "metadata": {
        "id": "TYeT_FtB-4Am"
      },
      "source": [
        "import pandas as pd\n",
        "import numpy as np\n",
        "import matplotlib.pyplot as plt\n",
        "import seaborn as sn\n",
        "import matplotlib.mlab as mlab\n",
        "%matplotlib inline"
      ],
      "execution_count": null,
      "outputs": []
    },
    {
      "cell_type": "markdown",
      "metadata": {
        "id": "RljnPEK0-4A3"
      },
      "source": [
        "Импорт датасета:"
      ]
    },
    {
      "cell_type": "code",
      "metadata": {
        "id": "hnvbVple-4A7"
      },
      "source": [
        "df = pd.read_csv('framingham.csv')"
      ],
      "execution_count": null,
      "outputs": []
    },
    {
      "cell_type": "markdown",
      "metadata": {
        "id": "F4UnM5M--4BG"
      },
      "source": [
        "Шапка датасета:"
      ]
    },
    {
      "cell_type": "code",
      "metadata": {
        "id": "F4XPaDXW-4BI"
      },
      "source": [
        "df.head()"
      ],
      "execution_count": null,
      "outputs": []
    },
    {
      "cell_type": "markdown",
      "metadata": {
        "id": "9USrZY45-4BU"
      },
      "source": [
        "Размер датасета:"
      ]
    },
    {
      "cell_type": "code",
      "metadata": {
        "id": "Fwvx9Pg--4BX"
      },
      "source": [
        "df.shape"
      ],
      "execution_count": null,
      "outputs": []
    },
    {
      "cell_type": "markdown",
      "metadata": {
        "id": "d7ZVZz6J-4Bk"
      },
      "source": [
        "Названия столбцов датасета понадобятся нам, чтобы обращаться к отдельным признакам пациентов:"
      ]
    },
    {
      "cell_type": "code",
      "metadata": {
        "id": "6_PgsTeo-4Bn"
      },
      "source": [
        "df.columns"
      ],
      "execution_count": null,
      "outputs": []
    },
    {
      "cell_type": "markdown",
      "metadata": {
        "id": "V3MI_qLW-4Bx"
      },
      "source": [
        "Поиск missing values:"
      ]
    },
    {
      "cell_type": "code",
      "metadata": {
        "scrolled": true,
        "id": "NuiYzLyO-4B0"
      },
      "source": [
        "df.isnull().sum()"
      ],
      "execution_count": null,
      "outputs": []
    },
    {
      "cell_type": "markdown",
      "metadata": {
        "id": "EXTsHpsy-4B-"
      },
      "source": [
        "Видим, что у 105 пациентов нет данных об образовании, у 388 - об уровне глюкозы. Недостающие данные могут стать причиной некорректных значений оценок, и от них лучше избавиться."
      ]
    },
    {
      "cell_type": "markdown",
      "metadata": {
        "id": "LjqRmXZm-4CA"
      },
      "source": [
        "Количество строк, в которых есть missing values"
      ]
    },
    {
      "cell_type": "code",
      "metadata": {
        "scrolled": true,
        "id": "ZhKlR2_O-4CD"
      },
      "source": [
        "count=0\n",
        "for i in df.isnull().sum(axis=1):\n",
        "    if i>0:\n",
        "        count=count+1\n",
        "print('Общее количество строк с пропущенными значениями: ', count)"
      ],
      "execution_count": null,
      "outputs": []
    },
    {
      "cell_type": "markdown",
      "metadata": {
        "id": "LCm1A2VV-4CM"
      },
      "source": [
        "Итого у нас 582 строки, в которых не хватает каких-нибудь данных"
      ]
    },
    {
      "cell_type": "markdown",
      "metadata": {
        "id": "nJgoLIEn-4CR"
      },
      "source": [
        "Найдем соотношение строк с недостающими данными и общего кол-ва строк\n",
        "\n",
        "Если их будет относительно немного, то выгоднее избавиться от неполных строк, а если много, то надо посмотреть, в каких столбцах больше всего не хватает данных - возможно, выгоднее будет избавляться от них."
      ]
    },
    {
      "cell_type": "code",
      "metadata": {
        "id": "eQflme5B-4CU"
      },
      "source": [
        "count/df.shape[0]"
      ],
      "execution_count": null,
      "outputs": []
    },
    {
      "cell_type": "markdown",
      "metadata": {
        "id": "9hypSyoT-4Cb"
      },
      "source": [
        "Т.к. соотношение мало (13%), можем отбросить строки с отсутствующими данными):"
      ]
    },
    {
      "cell_type": "code",
      "metadata": {
        "id": "Y6rA77w_-4Ce"
      },
      "source": [
        "df.dropna(axis=0,inplace=True)"
      ],
      "execution_count": null,
      "outputs": []
    },
    {
      "cell_type": "markdown",
      "metadata": {
        "id": "1yqWcS3r-4Cm"
      },
      "source": [
        "Размеры датасета после удаления missing values:"
      ]
    },
    {
      "cell_type": "code",
      "metadata": {
        "id": "okpXEm7d-4Co"
      },
      "source": [
        "df.shape"
      ],
      "execution_count": null,
      "outputs": []
    },
    {
      "cell_type": "markdown",
      "metadata": {
        "id": "x3VAQuUh-4Cx"
      },
      "source": [
        "Получение описательных статистик при помощи фунции describe: "
      ]
    },
    {
      "cell_type": "code",
      "metadata": {
        "id": "dyLQuohX-4Cz"
      },
      "source": [
        "df.describe()"
      ],
      "execution_count": null,
      "outputs": []
    },
    {
      "cell_type": "markdown",
      "metadata": {
        "id": "QIpHmha9-4C7"
      },
      "source": [
        "Данные полученные из describe:\n",
        "\n",
        "    mean - среднее значение\n",
        "    std - стандартное (среднеквадратичное) отклонение. \n",
        "    min - минимальное значение \n",
        "    max - максимальное значение\n",
        "    25% - нижняя квартиль (медиана меньшей/левой половины выборки)\n",
        "    50% - медиана\n",
        "    75% - верхняя квартиль (медиана большей/правой половины выборки)"
      ]
    },
    {
      "cell_type": "markdown",
      "metadata": {
        "id": "UHAmovu6-4C_"
      },
      "source": [
        "Далее строим тепловую карту корреляционной матрицы при помощи функции heatmap и саму корреляционную матрицу. Чем насыщеннее цвет, тем сильнее корреляция."
      ]
    },
    {
      "cell_type": "code",
      "metadata": {
        "id": "ahhaWQ1q-4DD"
      },
      "source": [
        "sn.heatmap(df.corr())"
      ],
      "execution_count": null,
      "outputs": []
    },
    {
      "cell_type": "markdown",
      "metadata": {
        "id": "tp8bjgek-4DK"
      },
      "source": [
        "Можем увидеть сильную корреляцию между диастолическим и систолическим давлением. Корреляции целевой переменной со всеми признаками невелики. Это значит, что линейная связь между ними очень слабая"
      ]
    },
    {
      "cell_type": "code",
      "metadata": {
        "scrolled": true,
        "id": "bF3bUSbK-4DM"
      },
      "source": [
        "df.corr()"
      ],
      "execution_count": null,
      "outputs": []
    },
    {
      "cell_type": "markdown",
      "metadata": {
        "id": "o9QIDPTf-4DX"
      },
      "source": [
        "Со средним, стандартным отклонением, медианой и корреляцией все ясно.\n",
        "\n",
        "Давайте выясним, как вычислять выборочные пропорции в датасете"
      ]
    },
    {
      "cell_type": "markdown",
      "metadata": {
        "id": "r1FUl-Xp-4DZ"
      },
      "source": [
        "как вычислить долю мужчин в выборке?"
      ]
    },
    {
      "cell_type": "markdown",
      "metadata": {
        "id": "aivWxkD--4Db"
      },
      "source": [
        "Длинный способ: посчитаем количество всех мужчин в выборке при помощи метода value_counts() и поделим его на общее количество пациентов"
      ]
    },
    {
      "cell_type": "code",
      "metadata": {
        "id": "MYWWwN0U-4Df"
      },
      "source": [
        "m=df['male'].value_counts() # счетчик разных значений в dataframe\n",
        "print(\"Общее количество мужчин и женщин\\n\", m)\n",
        "print(\"Общее количество мужчин:\", m[1])"
      ],
      "execution_count": null,
      "outputs": []
    },
    {
      "cell_type": "code",
      "metadata": {
        "id": "HYtIsEoL-4Dq"
      },
      "source": [
        "p_male=m[1]/df.shape[0] # считаем пропорцию мужчин среди всех пациентов\n",
        "print(\"Доля мужчин среди всех пациентов:\", p_male)"
      ],
      "execution_count": null,
      "outputs": []
    },
    {
      "cell_type": "markdown",
      "metadata": {
        "id": "MTBgRJKL-4Dx"
      },
      "source": [
        "Короткий способ: задать в методе value_counts() специальный параметр, который будет вычислиять не абсолютные частоты (количества), а относительные (пропорции)"
      ]
    },
    {
      "cell_type": "code",
      "metadata": {
        "id": "NGvYUznj-4Dz"
      },
      "source": [
        "df['male'].value_counts(normalize = True ) # параметр normalize = True позволяет считать сразу пропорцию вместо количества"
      ],
      "execution_count": null,
      "outputs": []
    },
    {
      "cell_type": "markdown",
      "metadata": {
        "id": "-gJ57OVV-4D-"
      },
      "source": [
        "С абсолютными пропорциями тоже ясно. Как насчет условных?"
      ]
    },
    {
      "cell_type": "markdown",
      "metadata": {
        "id": "yvXnf8bH-4D_"
      },
      "source": [
        "Как вычислить долю курильщиков среди мужчин и среди женщин:"
      ]
    },
    {
      "cell_type": "code",
      "metadata": {
        "id": "pTyhhDRT-4EB"
      },
      "source": [
        "male_groups=df.groupby('male') # groupgy разбивает датасет на группы по признаку пола"
      ],
      "execution_count": null,
      "outputs": []
    },
    {
      "cell_type": "markdown",
      "metadata": {
        "id": "j_QZ2Z67-4EG"
      },
      "source": [
        "Внутри каждой группы можем взять счетчик value_counts() для признака currentSmoker\n",
        "\n",
        "пол 0 - женщина, пол 1 - мужчина."
      ]
    },
    {
      "cell_type": "code",
      "metadata": {
        "id": "D4uZG06--4EI"
      },
      "source": [
        "male_groups['currentSmoker'].value_counts() # можем отдельно вычислить количество курильщиков среди мужчин и среди женщин"
      ],
      "execution_count": null,
      "outputs": []
    },
    {
      "cell_type": "markdown",
      "metadata": {
        "id": "ZT51MPpa-4EO"
      },
      "source": [
        "Итак: курит 808 женщин и 981 мужчин"
      ]
    },
    {
      "cell_type": "markdown",
      "metadata": {
        "id": "Ehkh6n9U-4EP"
      },
      "source": [
        "Теперь вычислим пропорции курильщиков внутри каждого пола.\n",
        "\n",
        "Вы можете убедиться, что это именно условные пропорции, поделив количество курящих мужчин на общее количество мужчин и сравнив результаты, или если заметите, что вероятности внутри каждой группы пола дают в сумме 1"
      ]
    },
    {
      "cell_type": "code",
      "metadata": {
        "id": "U1etvSSm-4ER"
      },
      "source": [
        "ms=male_groups['currentSmoker'].value_counts(normalize = True) \n",
        "print('Доли курильщиков среди мужчин и среди женщин\\n',ms)\n",
        "print('Доля курильщиков среди мужчин:',ms[1,1])"
      ],
      "execution_count": null,
      "outputs": []
    },
    {
      "cell_type": "markdown",
      "metadata": {
        "id": "nMFgVay4-4Ed"
      },
      "source": [
        "Как вычислить среднее значение пульса у курящих и не курящих:"
      ]
    },
    {
      "cell_type": "code",
      "metadata": {
        "id": "9Uhd5HEh-4Eh"
      },
      "source": [
        "smok_groups=df.groupby('currentSmoker')"
      ],
      "execution_count": null,
      "outputs": []
    },
    {
      "cell_type": "code",
      "metadata": {
        "id": "I-g2AGbq-4Eo"
      },
      "source": [
        "smok_groups['heartRate'].mean()"
      ],
      "execution_count": null,
      "outputs": []
    },
    {
      "cell_type": "markdown",
      "metadata": {
        "id": "y_JyAdo8-4Eu"
      },
      "source": [
        "Как вычислить долю пациентов группы риска среди курящих и не курящих:"
      ]
    },
    {
      "cell_type": "code",
      "metadata": {
        "id": "hqW-wv1s-4Ex"
      },
      "source": [
        "srisk=smok_groups['TenYearCHD'].value_counts(normalize = True)\n",
        "print('Доли группы риска среди курильщиков и не курильщиков\\n',srisk)\n",
        "print('Доля группы риска среди курильщиков:',srisk[1,1])"
      ],
      "execution_count": null,
      "outputs": []
    },
    {
      "cell_type": "markdown",
      "metadata": {
        "id": "KuoDiUlE-4E3"
      },
      "source": [
        "Трюк по вычислению частот для переменных-индикаторов (значения 1 и 0): сумма значений равна количеству единиц в выборке, а значит, среднее равно доле единиц, то есть частоте:"
      ]
    },
    {
      "cell_type": "code",
      "metadata": {
        "id": "lEYeoxYN-4E4"
      },
      "source": [
        "smok_groups['TenYearCHD'].mean()"
      ],
      "execution_count": null,
      "outputs": []
    },
    {
      "cell_type": "code",
      "metadata": {
        "id": "94e4TvZl-4E-"
      },
      "source": [
        ""
      ],
      "execution_count": null,
      "outputs": []
    }
  ]
}