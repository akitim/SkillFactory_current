{
  "nbformat": 4,
  "nbformat_minor": 0,
  "metadata": {
    "colab": {
      "name": "Module_1_notebook.ipynb",
      "provenance": [],
      "include_colab_link": true
    },
    "kernelspec": {
      "display_name": "Python 3",
      "language": "python",
      "name": "python3"
    },
    "language_info": {
      "codemirror_mode": {
        "name": "ipython",
        "version": 3
      },
      "file_extension": ".py",
      "mimetype": "text/x-python",
      "name": "python",
      "nbconvert_exporter": "python",
      "pygments_lexer": "ipython3",
      "version": "3.7.1"
    }
  },
  "cells": [
    {
      "cell_type": "markdown",
      "metadata": {
        "id": "view-in-github",
        "colab_type": "text"
      },
      "source": [
        "<a href=\"https://colab.research.google.com/github/akitim/SkillFactory_current/blob/Aux1/Eigenpairs.ipynb\" target=\"_parent\"><img src=\"https://colab.research.google.com/assets/colab-badge.svg\" alt=\"Open In Colab\"/></a>"
      ]
    },
    {
      "cell_type": "code",
      "metadata": {
        "colab": {
          "base_uri": "https://localhost:8080/"
        },
        "id": "zl5g0USZZMvI",
        "outputId": "58ce9b6c-383c-4db0-8ba5-978a6c4c321a"
      },
      "source": [
        "import numpy as np\n",
        "A = np.array([[1, 4, 5],\n",
        "    [-5, 8, 9],\n",
        "    [-6, 7, 11]]) # создаем матрицу 3х3 \n",
        "B = np.linalg.eig(A) # находим собственные вектора (с.в.) и собственные числа (с.ч.) через np.linalg.eig\n",
        "B\n",
        "# Обратите внимание, что B - кортеж (tuple). Его компоненты имеют тип np.ndarray, с которыми вы уже должны быть знакомы. \n",
        "# Нулевая компонента B[0] - вектор собственных чисел, а компонента B[1] - матрица, столбцами которой являются \n",
        "# собственные вектора, соответствующие данному числу.; в данном случае собственному числу 13.59373746 \n",
        "# соответствует собственный вектор [0.45145779, 0.62348353, 0.63832135]"
      ],
      "execution_count": 2,
      "outputs": [
        {
          "output_type": "execute_result",
          "data": {
            "text/plain": [
              "(array([13.59373746,  5.03209301,  1.37416954]),\n",
              " array([[ 0.45145779,  0.83661458,  0.10258363],\n",
              "        [ 0.62348353,  0.44632316, -0.77299039],\n",
              "        [ 0.63832135,  0.31760303,  0.62606905]]))"
            ]
          },
          "metadata": {},
          "execution_count": 2
        }
      ]
    },
    {
      "cell_type": "code",
      "metadata": {
        "colab": {
          "base_uri": "https://localhost:8080/"
        },
        "id": "fTnKUWS0nhA5",
        "outputId": "87802028-bda0-45d6-ad2a-d1d003703e23"
      },
      "source": [
        "D = np.diagflat(B[0])\n",
        "P = B[1]\n",
        "P@D@np.linalg.inv(P)"
      ],
      "execution_count": 5,
      "outputs": [
        {
          "output_type": "execute_result",
          "data": {
            "text/plain": [
              "array([[ 1.,  4.,  5.],\n",
              "       [-5.,  8.,  9.],\n",
              "       [-6.,  7., 11.]])"
            ]
          },
          "metadata": {},
          "execution_count": 5
        }
      ]
    }
  ]
}