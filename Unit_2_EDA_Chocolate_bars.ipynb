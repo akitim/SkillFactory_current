{
  "nbformat": 4,
  "nbformat_minor": 0,
  "metadata": {
    "colab": {
      "name": "Unit_2_EDA_Chocolate bars.ipynb",
      "provenance": [],
      "collapsed_sections": [],
      "include_colab_link": true
    },
    "kernelspec": {
      "name": "python3",
      "display_name": "Python 3"
    },
    "language_info": {
      "name": "python"
    }
  },
  "cells": [
    {
      "cell_type": "markdown",
      "metadata": {
        "id": "view-in-github",
        "colab_type": "text"
      },
      "source": [
        "<a href=\"https://colab.research.google.com/github/akitim/SkillFactory_current/blob/main/Unit_2_EDA_Chocolate_bars.ipynb\" target=\"_parent\"><img src=\"https://colab.research.google.com/assets/colab-badge.svg\" alt=\"Open In Colab\"/></a>"
      ]
    },
    {
      "cell_type": "markdown",
      "metadata": {
        "id": "HANmMSDYR9nz"
      },
      "source": [
        "#Preprocess"
      ]
    },
    {
      "cell_type": "code",
      "metadata": {
        "id": "xU2D-QrL0rMq",
        "colab": {
          "base_uri": "https://localhost:8080/"
        },
        "outputId": "56b3b68d-cc72-461f-a2e0-d2ccbb5fb315"
      },
      "source": [
        "import pandas as pd\n",
        "import matplotlib.pyplot as plt\n",
        "import seaborn as sns\n",
        "from itertools import combinations\n",
        "from scipy.stats import ttest_ind\n",
        " \n",
        "pd.set_option('display.max_rows', 50) # показывать больше строк\n",
        "pd.set_option('display.max_columns', 50) # показывать больше колонок\n",
        " \n",
        "import sys\n",
        "from google.colab import drive\n",
        "drive.mount('/content/gdrive', force_remount=True)\n",
        "sys.path.clear\n",
        "sys.path.append('/content/gdrive/MyDrive/SkillFactory')\n",
        " \n",
        "def hasletornum(s):\n",
        "    ls = [ch for ch in s]\n",
        "    return any(list(map(lambda x: x.isalnum(), ls)))    \n",
        "#cacao = pd.read_csv('/content/gdrive/MyDrive/SkillFactory/cacao_flavors.csv')"
      ],
      "execution_count": 44,
      "outputs": [
        {
          "output_type": "stream",
          "text": [
            "Mounted at /content/gdrive\n"
          ],
          "name": "stdout"
        }
      ]
    },
    {
      "cell_type": "code",
      "metadata": {
        "colab": {
          "base_uri": "https://localhost:8080/",
          "height": 80
        },
        "id": "KKRTWXFN1BsR",
        "outputId": "3de5f3ce-b622-4699-a4df-8a6d4a47e3b8"
      },
      "source": [
        "cacao = pd.read_csv('/content/gdrive/MyDrive/SkillFactory/cacao_flavors.csv')\n",
        "cacao.columns = ['bar_id','company','specific_origin','ref','review_date','cocoa_percent','company_location','rating','bean_type','bean_origin']\n",
        "cacao.sample()"
      ],
      "execution_count": 45,
      "outputs": [
        {
          "output_type": "execute_result",
          "data": {
            "text/html": [
              "<div>\n",
              "<style scoped>\n",
              "    .dataframe tbody tr th:only-of-type {\n",
              "        vertical-align: middle;\n",
              "    }\n",
              "\n",
              "    .dataframe tbody tr th {\n",
              "        vertical-align: top;\n",
              "    }\n",
              "\n",
              "    .dataframe thead th {\n",
              "        text-align: right;\n",
              "    }\n",
              "</style>\n",
              "<table border=\"1\" class=\"dataframe\">\n",
              "  <thead>\n",
              "    <tr style=\"text-align: right;\">\n",
              "      <th></th>\n",
              "      <th>bar_id</th>\n",
              "      <th>company</th>\n",
              "      <th>specific_origin</th>\n",
              "      <th>ref</th>\n",
              "      <th>review_date</th>\n",
              "      <th>cocoa_percent</th>\n",
              "      <th>company_location</th>\n",
              "      <th>rating</th>\n",
              "      <th>bean_type</th>\n",
              "      <th>bean_origin</th>\n",
              "    </tr>\n",
              "  </thead>\n",
              "  <tbody>\n",
              "    <tr>\n",
              "      <th>957</th>\n",
              "      <td>958</td>\n",
              "      <td>L'Amourette</td>\n",
              "      <td>Blend</td>\n",
              "      <td>853</td>\n",
              "      <td>2012</td>\n",
              "      <td>72%</td>\n",
              "      <td>U.S.A.</td>\n",
              "      <td>3.0</td>\n",
              "      <td>Criollo</td>\n",
              "      <td>Peru, Ecuador, Venezuela</td>\n",
              "    </tr>\n",
              "  </tbody>\n",
              "</table>\n",
              "</div>"
            ],
            "text/plain": [
              "     bar_id      company specific_origin  ref  review_date cocoa_percent  \\\n",
              "957     958  L'Amourette           Blend  853         2012           72%   \n",
              "\n",
              "    company_location  rating bean_type               bean_origin  \n",
              "957           U.S.A.     3.0   Criollo  Peru, Ecuador, Venezuela  "
            ]
          },
          "metadata": {
            "tags": []
          },
          "execution_count": 45
        }
      ]
    },
    {
      "cell_type": "markdown",
      "metadata": {
        "id": "lgdwMQOlbKns"
      },
      "source": [
        "#bar_id"
      ]
    },
    {
      "cell_type": "code",
      "metadata": {
        "colab": {
          "base_uri": "https://localhost:8080/",
          "height": 299
        },
        "id": "edMniVqLbuf3",
        "outputId": "5854a87b-6e8b-4abe-9389-dfca727815c4"
      },
      "source": [
        " print(f\"Number of unique bar_id's: {cacao.bar_id.nunique()}\")\n",
        "plt.plot(cacao.bar_id)"
      ],
      "execution_count": 46,
      "outputs": [
        {
          "output_type": "stream",
          "text": [
            "Number of unique bar_id's: 1795\n"
          ],
          "name": "stdout"
        },
        {
          "output_type": "execute_result",
          "data": {
            "text/plain": [
              "[<matplotlib.lines.Line2D at 0x7efd2472cf50>]"
            ]
          },
          "metadata": {
            "tags": []
          },
          "execution_count": 46
        },
        {
          "output_type": "display_data",
          "data": {
            "image/png": "[encoded data removed]",
            "text/plain": [
              "<Figure size 432x288 with 1 Axes>"
            ]
          },
          "metadata": {
            "tags": [],
            "needs_background": "light"
          }
        }
      ]
    },
    {
      "cell_type": "code",
      "metadata": {
        "colab": {
          "base_uri": "https://localhost:8080/",
          "height": 80
        },
        "id": "E8rAHHoVeCNt",
        "outputId": "38a2c1ba-662e-48c1-a6b0-36c7b522b591"
      },
      "source": [
        "cacao.drop(['bar_id'], inplace = True, axis = 1)\n",
        "cacao.sample()"
      ],
      "execution_count": 47,
      "outputs": [
        {
          "output_type": "execute_result",
          "data": {
            "text/html": [
              "<div>\n",
              "<style scoped>\n",
              "    .dataframe tbody tr th:only-of-type {\n",
              "        vertical-align: middle;\n",
              "    }\n",
              "\n",
              "    .dataframe tbody tr th {\n",
              "        vertical-align: top;\n",
              "    }\n",
              "\n",
              "    .dataframe thead th {\n",
              "        text-align: right;\n",
              "    }\n",
              "</style>\n",
              "<table border=\"1\" class=\"dataframe\">\n",
              "  <thead>\n",
              "    <tr style=\"text-align: right;\">\n",
              "      <th></th>\n",
              "      <th>company</th>\n",
              "      <th>specific_origin</th>\n",
              "      <th>ref</th>\n",
              "      <th>review_date</th>\n",
              "      <th>cocoa_percent</th>\n",
              "      <th>company_location</th>\n",
              "      <th>rating</th>\n",
              "      <th>bean_type</th>\n",
              "      <th>bean_origin</th>\n",
              "    </tr>\n",
              "  </thead>\n",
              "  <tbody>\n",
              "    <tr>\n",
              "      <th>149</th>\n",
              "      <td>Bakau</td>\n",
              "      <td>Bambamarca, 2015</td>\n",
              "      <td>1454</td>\n",
              "      <td>2015</td>\n",
              "      <td>70%</td>\n",
              "      <td>Peru</td>\n",
              "      <td>2.75</td>\n",
              "      <td></td>\n",
              "      <td>Peru</td>\n",
              "    </tr>\n",
              "  </tbody>\n",
              "</table>\n",
              "</div>"
            ],
            "text/plain": [
              "    company   specific_origin   ref  review_date cocoa_percent  \\\n",
              "149   Bakau  Bambamarca, 2015  1454         2015           70%   \n",
              "\n",
              "    company_location  rating bean_type bean_origin  \n",
              "149             Peru    2.75                  Peru  "
            ]
          },
          "metadata": {
            "tags": []
          },
          "execution_count": 47
        }
      ]
    },
    {
      "cell_type": "markdown",
      "metadata": {
        "id": "HSsXBfJuhcAd"
      },
      "source": [
        "#Задание 2.3.1"
      ]
    },
    {
      "cell_type": "code",
      "metadata": {
        "colab": {
          "base_uri": "https://localhost:8080/"
        },
        "id": "HNJhLcEBhVm_",
        "outputId": "ff6a8bb2-b85f-4078-bb8e-f001b85bb8dc"
      },
      "source": [
        "print (f\"Number of companies in the dataset + empty: {cacao.company.nunique()}\")\n",
        " \n",
        "cacao[cacao.company.apply (lambda x: hasletornum(x))].company.value_counts() #index.nunique()"
      ],
      "execution_count": 48,
      "outputs": [
        {
          "output_type": "stream",
          "text": [
            "Number of companies in the dataset + empty: 408\n"
          ],
          "name": "stdout"
        },
        {
          "output_type": "execute_result",
          "data": {
            "text/plain": [
              "Soma                    45\n",
              "Bonnat                  26\n",
              "Fresco                  26\n",
              "Pralus                  25\n",
              "Domori                  22\n",
              "                        ..\n",
              "Loiza                    1\n",
              "Bronx Grrl Chocolate     1\n",
              "Kerchner                 1\n",
              "Chequessett              1\n",
              "La Pepa de Oro           1\n",
              "Name: company, Length: 407, dtype: int64"
            ]
          },
          "metadata": {
            "tags": []
          },
          "execution_count": 48
        }
      ]
    },
    {
      "cell_type": "code",
      "metadata": {
        "id": "dpKWPm1WnZdx"
      },
      "source": [
        "#cacao.company = cacao.company.apply(lambda x: None if x.strip() == '' else x)\n",
        "cacao.company = cacao.company.apply(lambda x: None if not(hasletornum(x)) else x)"
      ],
      "execution_count": 49,
      "outputs": []
    },
    {
      "cell_type": "code",
      "metadata": {
        "colab": {
          "base_uri": "https://localhost:8080/",
          "height": 842
        },
        "id": "44UfQ5AIrejY",
        "outputId": "6f439865-7410-4cd2-d4f6-8b6154e056b1"
      },
      "source": [
        "display(pd.DataFrame(cacao.company.value_counts()))\n",
        "print(\"Значений, встретившихся в столбце более 10 раз:\"#Число 10 взято для ориентира, можно брать другое\n",
        "      , (cacao.company.value_counts()>10).sum())\n",
        "#cacao.loc[:, ['company']].info()\n",
        "cacao.loc[:, ['company']]"
      ],
      "execution_count": 50,
      "outputs": [
        {
          "output_type": "display_data",
          "data": {
            "text/html": [
              "<div>\n",
              "<style scoped>\n",
              "    .dataframe tbody tr th:only-of-type {\n",
              "        vertical-align: middle;\n",
              "    }\n",
              "\n",
              "    .dataframe tbody tr th {\n",
              "        vertical-align: top;\n",
              "    }\n",
              "\n",
              "    .dataframe thead th {\n",
              "        text-align: right;\n",
              "    }\n",
              "</style>\n",
              "<table border=\"1\" class=\"dataframe\">\n",
              "  <thead>\n",
              "    <tr style=\"text-align: right;\">\n",
              "      <th></th>\n",
              "      <th>company</th>\n",
              "    </tr>\n",
              "  </thead>\n",
              "  <tbody>\n",
              "    <tr>\n",
              "      <th>Soma</th>\n",
              "      <td>45</td>\n",
              "    </tr>\n",
              "    <tr>\n",
              "      <th>Bonnat</th>\n",
              "      <td>26</td>\n",
              "    </tr>\n",
              "    <tr>\n",
              "      <th>Fresco</th>\n",
              "      <td>26</td>\n",
              "    </tr>\n",
              "    <tr>\n",
              "      <th>Pralus</th>\n",
              "      <td>25</td>\n",
              "    </tr>\n",
              "    <tr>\n",
              "      <th>Domori</th>\n",
              "      <td>22</td>\n",
              "    </tr>\n",
              "    <tr>\n",
              "      <th>...</th>\n",
              "      <td>...</td>\n",
              "    </tr>\n",
              "    <tr>\n",
              "      <th>Loiza</th>\n",
              "      <td>1</td>\n",
              "    </tr>\n",
              "    <tr>\n",
              "      <th>Bronx Grrl Chocolate</th>\n",
              "      <td>1</td>\n",
              "    </tr>\n",
              "    <tr>\n",
              "      <th>Kerchner</th>\n",
              "      <td>1</td>\n",
              "    </tr>\n",
              "    <tr>\n",
              "      <th>Chequessett</th>\n",
              "      <td>1</td>\n",
              "    </tr>\n",
              "    <tr>\n",
              "      <th>La Pepa de Oro</th>\n",
              "      <td>1</td>\n",
              "    </tr>\n",
              "  </tbody>\n",
              "</table>\n",
              "<p>407 rows × 1 columns</p>\n",
              "</div>"
            ],
            "text/plain": [
              "                      company\n",
              "Soma                       45\n",
              "Bonnat                     26\n",
              "Fresco                     26\n",
              "Pralus                     25\n",
              "Domori                     22\n",
              "...                       ...\n",
              "Loiza                       1\n",
              "Bronx Grrl Chocolate        1\n",
              "Kerchner                    1\n",
              "Chequessett                 1\n",
              "La Pepa de Oro              1\n",
              "\n",
              "[407 rows x 1 columns]"
            ]
          },
          "metadata": {
            "tags": []
          }
        },
        {
          "output_type": "stream",
          "text": [
            "Значений, встретившихся в столбце более 10 раз: 30\n"
          ],
          "name": "stdout"
        },
        {
          "output_type": "execute_result",
          "data": {
            "text/html": [
              "<div>\n",
              "<style scoped>\n",
              "    .dataframe tbody tr th:only-of-type {\n",
              "        vertical-align: middle;\n",
              "    }\n",
              "\n",
              "    .dataframe tbody tr th {\n",
              "        vertical-align: top;\n",
              "    }\n",
              "\n",
              "    .dataframe thead th {\n",
              "        text-align: right;\n",
              "    }\n",
              "</style>\n",
              "<table border=\"1\" class=\"dataframe\">\n",
              "  <thead>\n",
              "    <tr style=\"text-align: right;\">\n",
              "      <th></th>\n",
              "      <th>company</th>\n",
              "    </tr>\n",
              "  </thead>\n",
              "  <tbody>\n",
              "    <tr>\n",
              "      <th>0</th>\n",
              "      <td>A. Morin</td>\n",
              "    </tr>\n",
              "    <tr>\n",
              "      <th>1</th>\n",
              "      <td>A. Morin</td>\n",
              "    </tr>\n",
              "    <tr>\n",
              "      <th>2</th>\n",
              "      <td>A. Morin</td>\n",
              "    </tr>\n",
              "    <tr>\n",
              "      <th>3</th>\n",
              "      <td>A. Morin</td>\n",
              "    </tr>\n",
              "    <tr>\n",
              "      <th>4</th>\n",
              "      <td>A. Morin</td>\n",
              "    </tr>\n",
              "    <tr>\n",
              "      <th>...</th>\n",
              "      <td>...</td>\n",
              "    </tr>\n",
              "    <tr>\n",
              "      <th>1790</th>\n",
              "      <td>Zotter</td>\n",
              "    </tr>\n",
              "    <tr>\n",
              "      <th>1791</th>\n",
              "      <td>Zotter</td>\n",
              "    </tr>\n",
              "    <tr>\n",
              "      <th>1792</th>\n",
              "      <td>Zotter</td>\n",
              "    </tr>\n",
              "    <tr>\n",
              "      <th>1793</th>\n",
              "      <td>Zotter</td>\n",
              "    </tr>\n",
              "    <tr>\n",
              "      <th>1794</th>\n",
              "      <td>Zotter</td>\n",
              "    </tr>\n",
              "  </tbody>\n",
              "</table>\n",
              "<p>1795 rows × 1 columns</p>\n",
              "</div>"
            ],
            "text/plain": [
              "       company\n",
              "0     A. Morin\n",
              "1     A. Morin\n",
              "2     A. Morin\n",
              "3     A. Morin\n",
              "4     A. Morin\n",
              "...        ...\n",
              "1790    Zotter\n",
              "1791    Zotter\n",
              "1792    Zotter\n",
              "1793    Zotter\n",
              "1794    Zotter\n",
              "\n",
              "[1795 rows x 1 columns]"
            ]
          },
          "metadata": {
            "tags": []
          },
          "execution_count": 50
        }
      ]
    },
    {
      "cell_type": "markdown",
      "metadata": {
        "id": "hHoS798utWMS"
      },
      "source": [
        "#Задание 2.3.2"
      ]
    },
    {
      "cell_type": "code",
      "metadata": {
        "id": "Ls1yggvhtZ8i",
        "colab": {
          "base_uri": "https://localhost:8080/",
          "height": 403
        },
        "outputId": "6ed14d7a-ee54-4b74-9476-4235ef56ee4b"
      },
      "source": [
        "#cacao_ = cacao.copy()\n",
        "print (\"bean_origin data types:\\n\")\n",
        "display (pd.DataFrame(cacao.bean_origin.apply(type).value_counts()))\n",
        "print ()\n",
        " \n",
        "valid_bo = cacao.bean_origin[cacao.bean_origin.apply (lambda x: type(x) == str)]\n",
        "valid_bo = valid_bo[valid_bo.apply(hasletornum)]\n",
        " \n",
        "print (f\"Number of origins in the dataset: {valid_bo.nunique()}\\n\")\n",
        "valid_bo.value_counts()"
      ],
      "execution_count": 51,
      "outputs": [
        {
          "output_type": "stream",
          "text": [
            "bean_origin data types:\n",
            "\n"
          ],
          "name": "stdout"
        },
        {
          "output_type": "display_data",
          "data": {
            "text/html": [
              "<div>\n",
              "<style scoped>\n",
              "    .dataframe tbody tr th:only-of-type {\n",
              "        vertical-align: middle;\n",
              "    }\n",
              "\n",
              "    .dataframe tbody tr th {\n",
              "        vertical-align: top;\n",
              "    }\n",
              "\n",
              "    .dataframe thead th {\n",
              "        text-align: right;\n",
              "    }\n",
              "</style>\n",
              "<table border=\"1\" class=\"dataframe\">\n",
              "  <thead>\n",
              "    <tr style=\"text-align: right;\">\n",
              "      <th></th>\n",
              "      <th>bean_origin</th>\n",
              "    </tr>\n",
              "  </thead>\n",
              "  <tbody>\n",
              "    <tr>\n",
              "      <th>&lt;class 'str'&gt;</th>\n",
              "      <td>1794</td>\n",
              "    </tr>\n",
              "    <tr>\n",
              "      <th>&lt;class 'float'&gt;</th>\n",
              "      <td>1</td>\n",
              "    </tr>\n",
              "  </tbody>\n",
              "</table>\n",
              "</div>"
            ],
            "text/plain": [
              "                 bean_origin\n",
              "<class 'str'>           1794\n",
              "<class 'float'>            1"
            ]
          },
          "metadata": {
            "tags": []
          }
        },
        {
          "output_type": "stream",
          "text": [
            "\n",
            "Number of origins in the dataset: 99\n",
            "\n"
          ],
          "name": "stdout"
        },
        {
          "output_type": "execute_result",
          "data": {
            "text/plain": [
              "Venezuela                       214\n",
              "Ecuador                         193\n",
              "Peru                            165\n",
              "Madagascar                      145\n",
              "Dominican Republic              141\n",
              "                               ... \n",
              "Cameroon                          1\n",
              "Ven., Indonesia, Ecuad.           1\n",
              "DR, Ecuador, Peru                 1\n",
              "Guat., D.R., Peru, Mad., PNG      1\n",
              "Suriname                          1\n",
              "Name: bean_origin, Length: 99, dtype: int64"
            ]
          },
          "metadata": {
            "tags": []
          },
          "execution_count": 51
        }
      ]
    },
    {
      "cell_type": "code",
      "metadata": {
        "colab": {
          "base_uri": "https://localhost:8080/",
          "height": 372
        },
        "id": "7c2oec1oP1h6",
        "outputId": "15751379-aa92-470a-e1ef-7c200479ac09"
      },
      "source": [
        "#cacao_ = cacao.copy()\n",
        "print (\"specific_origin data types:\\n\")\n",
        "display (pd.DataFrame(cacao.specific_origin.apply(type).value_counts()))\n",
        "print ()\n",
        " \n",
        "valid_so = cacao.specific_origin[cacao.specific_origin.apply (lambda x: type(x) == str)]\n",
        "valid_so = valid_so[valid_so.apply(hasletornum)]\n",
        " \n",
        "print (f\"Number of origins in the dataset: {valid_so.nunique()}\\n\")\n",
        "valid_so.value_counts()"
      ],
      "execution_count": 52,
      "outputs": [
        {
          "output_type": "stream",
          "text": [
            "specific_origin data types:\n",
            "\n"
          ],
          "name": "stdout"
        },
        {
          "output_type": "display_data",
          "data": {
            "text/html": [
              "<div>\n",
              "<style scoped>\n",
              "    .dataframe tbody tr th:only-of-type {\n",
              "        vertical-align: middle;\n",
              "    }\n",
              "\n",
              "    .dataframe tbody tr th {\n",
              "        vertical-align: top;\n",
              "    }\n",
              "\n",
              "    .dataframe thead th {\n",
              "        text-align: right;\n",
              "    }\n",
              "</style>\n",
              "<table border=\"1\" class=\"dataframe\">\n",
              "  <thead>\n",
              "    <tr style=\"text-align: right;\">\n",
              "      <th></th>\n",
              "      <th>specific_origin</th>\n",
              "    </tr>\n",
              "  </thead>\n",
              "  <tbody>\n",
              "    <tr>\n",
              "      <th>&lt;class 'str'&gt;</th>\n",
              "      <td>1795</td>\n",
              "    </tr>\n",
              "  </tbody>\n",
              "</table>\n",
              "</div>"
            ],
            "text/plain": [
              "               specific_origin\n",
              "<class 'str'>             1795"
            ]
          },
          "metadata": {
            "tags": []
          }
        },
        {
          "output_type": "stream",
          "text": [
            "\n",
            "Number of origins in the dataset: 1012\n",
            "\n"
          ],
          "name": "stdout"
        },
        {
          "output_type": "execute_result",
          "data": {
            "text/plain": [
              "Madagascar            55\n",
              "Peru                  44\n",
              "Ecuador               39\n",
              "Dominican Republic    33\n",
              "Venezuela             21\n",
              "                      ..\n",
              "Coopertiva Amazona     1\n",
              "Napa                   1\n",
              "Papua Kerafat          1\n",
              "Pangoa, w/ nibs        1\n",
              "Acopagro               1\n",
              "Name: specific_origin, Length: 1012, dtype: int64"
            ]
          },
          "metadata": {
            "tags": []
          },
          "execution_count": 52
        }
      ]
    },
    {
      "cell_type": "markdown",
      "metadata": {
        "id": "H1eXZwdTxRT1"
      },
      "source": [
        "Задание 2.3.3"
      ]
    },
    {
      "cell_type": "code",
      "metadata": {
        "id": "b71mXlXwxWJf",
        "colab": {
          "base_uri": "https://localhost:8080/"
        },
        "outputId": "c0cc76f4-f594-43d4-abe1-6eb3ab79881e"
      },
      "source": [
        " \n",
        "print(f\"Number of origins met more than 10 times in the dataset: {(valid_so.value_counts() > 10).sum()}\")"
      ],
      "execution_count": 53,
      "outputs": [
        {
          "output_type": "stream",
          "text": [
            "Number of origins met more than 10 times in the dataset: 15\n"
          ],
          "name": "stdout"
        }
      ]
    },
    {
      "cell_type": "markdown",
      "metadata": {
        "id": "cXaA5gz2brKx"
      },
      "source": [
        "#ref"
      ]
    },
    {
      "cell_type": "code",
      "metadata": {
        "id": "qD6bnzGQbljB",
        "colab": {
          "base_uri": "https://localhost:8080/",
          "height": 419
        },
        "outputId": "266326c7-a1ac-4452-9c86-0b8ce06d4078"
      },
      "source": [
        "cacao.ref.hist()\n",
        "cacao.ref.describe()"
      ],
      "execution_count": 54,
      "outputs": [
        {
          "output_type": "execute_result",
          "data": {
            "text/plain": [
              "count    1795.000000\n",
              "mean     1035.904735\n",
              "std       552.886365\n",
              "min         5.000000\n",
              "25%       576.000000\n",
              "50%      1069.000000\n",
              "75%      1502.000000\n",
              "max      1952.000000\n",
              "Name: ref, dtype: float64"
            ]
          },
          "metadata": {
            "tags": []
          },
          "execution_count": 54
        },
        {
          "output_type": "display_data",
          "data": {
            "image/png": "[encoded data removed]",
            "text/plain": [
              "<Figure size 432x288 with 1 Axes>"
            ]
          },
          "metadata": {
            "tags": [],
            "needs_background": "light"
          }
        }
      ]
    },
    {
      "cell_type": "code",
      "metadata": {
        "id": "TrCCK-N88Z5c",
        "colab": {
          "base_uri": "https://localhost:8080/",
          "height": 299
        },
        "outputId": "d9d409f3-71e6-4635-c82f-6b7939b27cf5"
      },
      "source": [
        "print ('Анализ разброса ref:')\n",
        "cacao.boxplot(['ref'])"
      ],
      "execution_count": 55,
      "outputs": [
        {
          "output_type": "stream",
          "text": [
            "Анализ разброса ref:\n"
          ],
          "name": "stdout"
        },
        {
          "output_type": "execute_result",
          "data": {
            "text/plain": [
              "<matplotlib.axes._subplots.AxesSubplot at 0x7efd24614f50>"
            ]
          },
          "metadata": {
            "tags": []
          },
          "execution_count": 55
        },
        {
          "output_type": "display_data",
          "data": {
            "image/png": "[encoded data removed]",
            "text/plain": [
              "<Figure size 432x288 with 1 Axes>"
            ]
          },
          "metadata": {
            "tags": [],
            "needs_background": "light"
          }
        }
      ]
    },
    {
      "cell_type": "markdown",
      "metadata": {
        "id": "eYhJ0Y4dQVWM"
      },
      "source": [
        "#cacao_percent"
      ]
    },
    {
      "cell_type": "code",
      "metadata": {
        "id": "kN-KR6lbRIfk"
      },
      "source": [
        "cacao.cocoa_percent = cacao.cocoa_percent.apply(lambda x: float(x.replace('%', '')))"
      ],
      "execution_count": 56,
      "outputs": []
    },
    {
      "cell_type": "code",
      "metadata": {
        "id": "SIlA_S29QgTZ",
        "outputId": "ce6a8c9a-d4c2-4172-c47a-f2ee12e12c05",
        "colab": {
          "base_uri": "https://localhost:8080/",
          "height": 419
        }
      },
      "source": [
        "cacao.cocoa_percent.hist();\n",
        "cacao.cocoa_percent.describe()"
      ],
      "execution_count": 62,
      "outputs": [
        {
          "output_type": "execute_result",
          "data": {
            "text/plain": [
              "count    1795.000000\n",
              "mean       75.932312\n",
              "std        44.475981\n",
              "min        42.000000\n",
              "25%        70.000000\n",
              "50%        70.000000\n",
              "75%        75.000000\n",
              "max       682.000000\n",
              "Name: cocoa_percent, dtype: float64"
            ]
          },
          "metadata": {
            "tags": []
          },
          "execution_count": 62
        },
        {
          "output_type": "display_data",
          "data": {
            "image/png": "[encoded data removed]",
            "text/plain": [
              "<Figure size 432x288 with 1 Axes>"
            ]
          },
          "metadata": {
            "tags": [],
            "needs_background": "light"
          }
        }
      ]
    },
    {
      "cell_type": "code",
      "metadata": {
        "id": "EZqOW-WUQeGT",
        "outputId": "62c4e753-011f-4459-a65b-8345a72ba083",
        "colab": {
          "base_uri": "https://localhost:8080/",
          "height": 282
        }
      },
      "source": [
        "IQR = cacao.cocoa_percent.quantile(0.75) - cacao.cocoa_percent.quantile(0.25)\n",
        "perc25 = cacao.cocoa_percent.quantile(0.25)\n",
        "perc75 = cacao.cocoa_percent.quantile(0.75)\n",
        " \n",
        "print(\n",
        "'25-й перцентиль: {},'.format(perc25),\n",
        "'75-й перцентиль: {},'.format(perc75),\n",
        "\"IQR: {}, \".format(IQR),\n",
        "\"Границы выбросов: [{f}, {l}].\".format(f=perc25 - 1.5*IQR, l=perc75 + 1.5*IQR))\n",
        " \n",
        "cacao.cocoa_percent.loc[cacao.cocoa_percent.between(\n",
        "perc25 - 1.5*IQR,\n",
        "perc75 + 1.5*IQR)].hist(bins = 16, range = (40, 100), label = 'IQR')\n",
        " \n",
        "cacao.cocoa_percent.loc[cacao.cocoa_percent <= 100].hist(\n",
        "alpha = 0.5, bins = 16, range = (40, 100), label = 'Здравый смысл')\n",
        " \n",
        "plt.legend();"
      ],
      "execution_count": 61,
      "outputs": [
        {
          "output_type": "stream",
          "text": [
            "25-й перцентиль: 70.0, 75-й перцентиль: 75.0, IQR: 5.0,  Границы выбросов: [62.5, 82.5].\n"
          ],
          "name": "stdout"
        },
        {
          "output_type": "display_data",
          "data": {
            "image/png": "[encoded data removed]",
            "text/plain": [
              "<Figure size 432x288 with 1 Axes>"
            ]
          },
          "metadata": {
            "tags": [],
            "needs_background": "light"
          }
        }
      ]
    },
    {
      "cell_type": "markdown",
      "metadata": {
        "id": "BfLMNhkRWlaQ"
      },
      "source": [
        "#company_location"
      ]
    },
    {
      "cell_type": "code",
      "metadata": {
        "id": "iK1LztLTTI28",
        "outputId": "4066a87d-c4ce-46dd-87d5-674ba23c34f1",
        "colab": {
          "base_uri": "https://localhost:8080/",
          "height": 824
        }
      },
      "source": [
        "display(pd.DataFrame(cacao.company_location))\n",
        "pd.DataFrame(cacao.company_location.value_counts())"
      ],
      "execution_count": 66,
      "outputs": [
        {
          "output_type": "display_data",
          "data": {
            "text/html": [
              "<div>\n",
              "<style scoped>\n",
              "    .dataframe tbody tr th:only-of-type {\n",
              "        vertical-align: middle;\n",
              "    }\n",
              "\n",
              "    .dataframe tbody tr th {\n",
              "        vertical-align: top;\n",
              "    }\n",
              "\n",
              "    .dataframe thead th {\n",
              "        text-align: right;\n",
              "    }\n",
              "</style>\n",
              "<table border=\"1\" class=\"dataframe\">\n",
              "  <thead>\n",
              "    <tr style=\"text-align: right;\">\n",
              "      <th></th>\n",
              "      <th>company_location</th>\n",
              "    </tr>\n",
              "  </thead>\n",
              "  <tbody>\n",
              "    <tr>\n",
              "      <th>0</th>\n",
              "      <td>France</td>\n",
              "    </tr>\n",
              "    <tr>\n",
              "      <th>1</th>\n",
              "      <td>France</td>\n",
              "    </tr>\n",
              "    <tr>\n",
              "      <th>2</th>\n",
              "      <td>France</td>\n",
              "    </tr>\n",
              "    <tr>\n",
              "      <th>3</th>\n",
              "      <td>France</td>\n",
              "    </tr>\n",
              "    <tr>\n",
              "      <th>4</th>\n",
              "      <td>France</td>\n",
              "    </tr>\n",
              "    <tr>\n",
              "      <th>...</th>\n",
              "      <td>...</td>\n",
              "    </tr>\n",
              "    <tr>\n",
              "      <th>1790</th>\n",
              "      <td>Austria</td>\n",
              "    </tr>\n",
              "    <tr>\n",
              "      <th>1791</th>\n",
              "      <td>Austria</td>\n",
              "    </tr>\n",
              "    <tr>\n",
              "      <th>1792</th>\n",
              "      <td>Austria</td>\n",
              "    </tr>\n",
              "    <tr>\n",
              "      <th>1793</th>\n",
              "      <td>Austria</td>\n",
              "    </tr>\n",
              "    <tr>\n",
              "      <th>1794</th>\n",
              "      <td>Austria</td>\n",
              "    </tr>\n",
              "  </tbody>\n",
              "</table>\n",
              "<p>1795 rows × 1 columns</p>\n",
              "</div>"
            ],
            "text/plain": [
              "     company_location\n",
              "0              France\n",
              "1              France\n",
              "2              France\n",
              "3              France\n",
              "4              France\n",
              "...               ...\n",
              "1790          Austria\n",
              "1791          Austria\n",
              "1792          Austria\n",
              "1793          Austria\n",
              "1794          Austria\n",
              "\n",
              "[1795 rows x 1 columns]"
            ]
          },
          "metadata": {
            "tags": []
          }
        },
        {
          "output_type": "execute_result",
          "data": {
            "text/html": [
              "<div>\n",
              "<style scoped>\n",
              "    .dataframe tbody tr th:only-of-type {\n",
              "        vertical-align: middle;\n",
              "    }\n",
              "\n",
              "    .dataframe tbody tr th {\n",
              "        vertical-align: top;\n",
              "    }\n",
              "\n",
              "    .dataframe thead th {\n",
              "        text-align: right;\n",
              "    }\n",
              "</style>\n",
              "<table border=\"1\" class=\"dataframe\">\n",
              "  <thead>\n",
              "    <tr style=\"text-align: right;\">\n",
              "      <th></th>\n",
              "      <th>company_location</th>\n",
              "    </tr>\n",
              "  </thead>\n",
              "  <tbody>\n",
              "    <tr>\n",
              "      <th>U.S.A.</th>\n",
              "      <td>764</td>\n",
              "    </tr>\n",
              "    <tr>\n",
              "      <th>France</th>\n",
              "      <td>156</td>\n",
              "    </tr>\n",
              "    <tr>\n",
              "      <th>Canada</th>\n",
              "      <td>125</td>\n",
              "    </tr>\n",
              "    <tr>\n",
              "      <th>U.K.</th>\n",
              "      <td>96</td>\n",
              "    </tr>\n",
              "    <tr>\n",
              "      <th>Italy</th>\n",
              "      <td>63</td>\n",
              "    </tr>\n",
              "    <tr>\n",
              "      <th>...</th>\n",
              "      <td>...</td>\n",
              "    </tr>\n",
              "    <tr>\n",
              "      <th>Martinique</th>\n",
              "      <td>1</td>\n",
              "    </tr>\n",
              "    <tr>\n",
              "      <th>Wales</th>\n",
              "      <td>1</td>\n",
              "    </tr>\n",
              "    <tr>\n",
              "      <th>Eucador</th>\n",
              "      <td>1</td>\n",
              "    </tr>\n",
              "    <tr>\n",
              "      <th>Ghana</th>\n",
              "      <td>1</td>\n",
              "    </tr>\n",
              "    <tr>\n",
              "      <th>Czech Republic</th>\n",
              "      <td>1</td>\n",
              "    </tr>\n",
              "  </tbody>\n",
              "</table>\n",
              "<p>60 rows × 1 columns</p>\n",
              "</div>"
            ],
            "text/plain": [
              "                company_location\n",
              "U.S.A.                       764\n",
              "France                       156\n",
              "Canada                       125\n",
              "U.K.                          96\n",
              "Italy                         63\n",
              "...                          ...\n",
              "Martinique                     1\n",
              "Wales                          1\n",
              "Eucador                        1\n",
              "Ghana                          1\n",
              "Czech Republic                 1\n",
              "\n",
              "[60 rows x 1 columns]"
            ]
          },
          "metadata": {
            "tags": []
          },
          "execution_count": 66
        }
      ]
    },
    {
      "cell_type": "code",
      "metadata": {
        "id": "mCmfvOUue0Tv",
        "outputId": "7d0180eb-d362-436f-9d61-2482cf5816c6",
        "colab": {
          "base_uri": "https://localhost:8080/",
          "height": 592
        }
      },
      "source": [
        "display(pd.DataFrame(cacao.company_location.value_counts()))\n",
        "print(\"Значений, встретившихся в столбце более 10 раз:\", (cacao.company_location.value_counts()>10).sum(),'\\n')\n",
        "cacao.loc[:, ['company_location']].info()"
      ],
      "execution_count": 72,
      "outputs": [
        {
          "output_type": "display_data",
          "data": {
            "text/html": [
              "<div>\n",
              "<style scoped>\n",
              "    .dataframe tbody tr th:only-of-type {\n",
              "        vertical-align: middle;\n",
              "    }\n",
              "\n",
              "    .dataframe tbody tr th {\n",
              "        vertical-align: top;\n",
              "    }\n",
              "\n",
              "    .dataframe thead th {\n",
              "        text-align: right;\n",
              "    }\n",
              "</style>\n",
              "<table border=\"1\" class=\"dataframe\">\n",
              "  <thead>\n",
              "    <tr style=\"text-align: right;\">\n",
              "      <th></th>\n",
              "      <th>company_location</th>\n",
              "    </tr>\n",
              "  </thead>\n",
              "  <tbody>\n",
              "    <tr>\n",
              "      <th>U.S.A.</th>\n",
              "      <td>764</td>\n",
              "    </tr>\n",
              "    <tr>\n",
              "      <th>France</th>\n",
              "      <td>156</td>\n",
              "    </tr>\n",
              "    <tr>\n",
              "      <th>Canada</th>\n",
              "      <td>125</td>\n",
              "    </tr>\n",
              "    <tr>\n",
              "      <th>U.K.</th>\n",
              "      <td>96</td>\n",
              "    </tr>\n",
              "    <tr>\n",
              "      <th>Italy</th>\n",
              "      <td>63</td>\n",
              "    </tr>\n",
              "    <tr>\n",
              "      <th>...</th>\n",
              "      <td>...</td>\n",
              "    </tr>\n",
              "    <tr>\n",
              "      <th>Martinique</th>\n",
              "      <td>1</td>\n",
              "    </tr>\n",
              "    <tr>\n",
              "      <th>Wales</th>\n",
              "      <td>1</td>\n",
              "    </tr>\n",
              "    <tr>\n",
              "      <th>Eucador</th>\n",
              "      <td>1</td>\n",
              "    </tr>\n",
              "    <tr>\n",
              "      <th>Ghana</th>\n",
              "      <td>1</td>\n",
              "    </tr>\n",
              "    <tr>\n",
              "      <th>Czech Republic</th>\n",
              "      <td>1</td>\n",
              "    </tr>\n",
              "  </tbody>\n",
              "</table>\n",
              "<p>60 rows × 1 columns</p>\n",
              "</div>"
            ],
            "text/plain": [
              "                company_location\n",
              "U.S.A.                       764\n",
              "France                       156\n",
              "Canada                       125\n",
              "U.K.                          96\n",
              "Italy                         63\n",
              "...                          ...\n",
              "Martinique                     1\n",
              "Wales                          1\n",
              "Eucador                        1\n",
              "Ghana                          1\n",
              "Czech Republic                 1\n",
              "\n",
              "[60 rows x 1 columns]"
            ]
          },
          "metadata": {
            "tags": []
          }
        },
        {
          "output_type": "stream",
          "text": [
            "Значений, встретившихся в столбце более 10 раз: 22 \n",
            "\n",
            "<class 'pandas.core.frame.DataFrame'>\n",
            "RangeIndex: 1795 entries, 0 to 1794\n",
            "Data columns (total 1 columns):\n",
            " #   Column            Non-Null Count  Dtype \n",
            "---  ------            --------------  ----- \n",
            " 0   company_location  1795 non-null   object\n",
            "dtypes: object(1)\n",
            "memory usage: 14.1+ KB\n"
          ],
          "name": "stdout"
        }
      ]
    },
    {
      "cell_type": "markdown",
      "metadata": {
        "id": "7y0LdIwbkMbY"
      },
      "source": [
        "#broad_origin\n",
        "Задание 2.4.1\n"
      ]
    },
    {
      "cell_type": "code",
      "metadata": {
        "id": "KjhTOX6gkT2n"
      },
      "source": [
        ""
      ],
      "execution_count": null,
      "outputs": []
    }
  ]
}