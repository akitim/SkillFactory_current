{
  "nbformat": 4,
  "nbformat_minor": 0,
  "metadata": {
    "colab": {
      "name": "Unit_2_EDA_Chocolate bars.ipynb",
      "provenance": [],
      "collapsed_sections": [],
      "authorship_tag": "ABX9TyMtloYxC0aA0TJs6ndiMzNy",
      "include_colab_link": true
    },
    "kernelspec": {
      "name": "python3",
      "display_name": "Python 3"
    },
    "language_info": {
      "name": "python"
    }
  },
  "cells": [
    {
      "cell_type": "markdown",
      "metadata": {
        "id": "view-in-github",
        "colab_type": "text"
      },
      "source": [
        "<a href=\"https://colab.research.google.com/github/akitim/SkillFactory_current/blob/main/Unit_2_EDA_Chocolate_bars.ipynb\" target=\"_parent\"><img src=\"https://colab.research.google.com/assets/colab-badge.svg\" alt=\"Open In Colab\"/></a>"
      ]
    },
    {
      "cell_type": "markdown",
      "metadata": {
        "id": "HANmMSDYR9nz"
      },
      "source": [
        "#Preprocess"
      ]
    },
    {
      "cell_type": "code",
      "metadata": {
        "id": "xU2D-QrL0rMq",
        "outputId": "72041ea0-4274-4811-80a1-e6768bf2e4d9",
        "colab": {
          "base_uri": "https://localhost:8080/"
        }
      },
      "source": [
        "import pandas as pd\n",
        "import matplotlib.pyplot as plt\n",
        "import seaborn as sns\n",
        "from itertools import combinations\n",
        "from scipy.stats import ttest_ind\n",
        " \n",
        "pd.set_option('display.max_rows', 50) # показывать больше строк\n",
        "pd.set_option('display.max_columns', 50) # показывать больше колонок\n",
        " \n",
        "import sys\n",
        "from google.colab import drive\n",
        "drive.mount('/content/gdrive', force_remount=True)\n",
        "sys.path.clear\n",
        "sys.path.append('/content/gdrive/MyDrive/SkillFactory')\n",
        " \n",
        "cacao = pd.read_csv('/content/gdrive/MyDrive/SkillFactory/cacao_flavors.csv')"
      ],
      "execution_count": 1,
      "outputs": [
        {
          "output_type": "stream",
          "text": [
            "Mounted at /content/gdrive\n"
          ],
          "name": "stdout"
        }
      ]
    },
    {
      "cell_type": "code",
      "metadata": {
        "id": "Az6GWSiJayFC",
        "outputId": "e40fec6d-fda7-4953-f8f9-38dda5591ab3",
        "colab": {
          "base_uri": "https://localhost:8080/"
        }
      },
      "source": [
        "cacao.info()"
      ],
      "execution_count": 3,
      "outputs": [
        {
          "output_type": "stream",
          "text": [
            "<class 'pandas.core.frame.DataFrame'>\n",
            "RangeIndex: 1795 entries, 0 to 1794\n",
            "Data columns (total 10 columns):\n",
            " #   Column                            Non-Null Count  Dtype  \n",
            "---  ------                            --------------  -----  \n",
            " 0   Bar id                            1795 non-null   int64  \n",
            " 1   Company \n",
            "(Maker-if known)         1795 non-null   object \n",
            " 2   Specific Bean Origin\n",
            "or Bar Name  1795 non-null   object \n",
            " 3   REF                               1795 non-null   int64  \n",
            " 4   Review\n",
            "Date                       1795 non-null   int64  \n",
            " 5   Cocoa\n",
            "Percent                     1795 non-null   object \n",
            " 6   Company\n",
            "Location                  1795 non-null   object \n",
            " 7   Rating                            1795 non-null   float64\n",
            " 8   Bean\n",
            "Type                         1794 non-null   object \n",
            " 9   Broad Bean\n",
            "Origin                 1794 non-null   object \n",
            "dtypes: float64(1), int64(3), object(6)\n",
            "memory usage: 140.4+ KB\n"
          ],
          "name": "stdout"
        }
      ]
    }
  ]
}