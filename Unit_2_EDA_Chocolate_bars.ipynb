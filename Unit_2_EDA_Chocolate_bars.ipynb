{
  "nbformat": 4,
  "nbformat_minor": 0,
  "metadata": {
    "colab": {
      "name": "Unit_2_EDA_Chocolate bars.ipynb",
      "provenance": [],
      "collapsed_sections": [],
      "authorship_tag": "ABX9TyOjiFTQXT+qtT4/8lb6VKjK",
      "include_colab_link": true
    },
    "kernelspec": {
      "name": "python3",
      "display_name": "Python 3"
    },
    "language_info": {
      "name": "python"
    }
  },
  "cells": [
    {
      "cell_type": "markdown",
      "metadata": {
        "id": "view-in-github",
        "colab_type": "text"
      },
      "source": [
        "<a href=\"https://colab.research.google.com/github/akitim/SkillFactory_current/blob/main/Unit_2_EDA_Chocolate_bars.ipynb\" target=\"_parent\"><img src=\"https://colab.research.google.com/assets/colab-badge.svg\" alt=\"Open In Colab\"/></a>"
      ]
    },
    {
      "cell_type": "markdown",
      "metadata": {
        "id": "HANmMSDYR9nz"
      },
      "source": [
        "#Preprocess"
      ]
    },
    {
      "cell_type": "code",
      "metadata": {
        "id": "xU2D-QrL0rMq"
      },
      "source": [
        "import pandas as pd\n",
        "import matplotlib.pyplot as plt\n",
        "import seaborn as sns\n",
        "from itertools import combinations\n",
        "from scipy.stats import ttest_ind\n",
        " \n",
        "pd.set_option('display.max_rows', 50) # показывать больше строк\n",
        "pd.set_option('display.max_columns', 50) # показывать больше колонок\n",
        " \n",
        "cacao = pd.read_csv('cacao_flavors.csv')"
      ],
      "execution_count": null,
      "outputs": []
    }
  ]
}