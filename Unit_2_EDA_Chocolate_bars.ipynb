{
  "nbformat": 4,
  "nbformat_minor": 0,
  "metadata": {
    "colab": {
      "name": "Unit_2_EDA_Chocolate bars.ipynb",
      "provenance": [],
      "collapsed_sections": [],
      "toc_visible": true,
      "include_colab_link": true
    },
    "kernelspec": {
      "name": "python3",
      "display_name": "Python 3"
    },
    "language_info": {
      "name": "python"
    }
  },
  "cells": [
    {
      "cell_type": "markdown",
      "metadata": {
        "id": "view-in-github",
        "colab_type": "text"
      },
      "source": [
        "<a href=\"https://colab.research.google.com/github/akitim/SkillFactory_current/blob/main/Unit_2_EDA_Chocolate_bars.ipynb\" target=\"_parent\"><img src=\"https://colab.research.google.com/assets/colab-badge.svg\" alt=\"Open In Colab\"/></a>"
      ]
    },
    {
      "cell_type": "markdown",
      "metadata": {
        "id": "HANmMSDYR9nz"
      },
      "source": [
        "#Preprocess"
      ]
    },
    {
      "cell_type": "code",
      "metadata": {
        "id": "xU2D-QrL0rMq",
        "colab": {
          "base_uri": "https://localhost:8080/"
        },
        "outputId": "5052c50b-8afd-4a68-ca24-26f269c072ef"
      },
      "source": [
        "import pandas as pd\n",
        "import matplotlib.pyplot as plt\n",
        "import seaborn as sns\n",
        "from itertools import combinations\n",
        "from scipy.stats import ttest_ind\n",
        " \n",
        "pd.set_option('display.max_rows', 50) # показывать больше строк\n",
        "pd.set_option('display.max_columns', 50) # показывать больше колонок\n",
        " \n",
        "import sys\n",
        "from google.colab import drive\n",
        "drive.mount('/content/gdrive', force_remount=True)\n",
        "sys.path.clear\n",
        "sys.path.append('/content/gdrive/MyDrive/SkillFactory')\n",
        " \n",
        "def hasletornum(s):\n",
        "    ls = [ch for ch in s]\n",
        "    return any(list(map(lambda x: x.isalnum(), ls)))    \n",
        "#cacao = pd.read_csv('/content/gdrive/MyDrive/SkillFactory/cacao_flavors.csv')\n",
        "\n",
        "def fix_countries(x):\n",
        "    if pd.isnull(x):\n",
        "        return x\n",
        "    if x == 'nan':\n",
        "        return None\n",
        "    x = x.replace(' ', '')\n",
        "    x = x.replace('/', ',') # Venezuela/ Ghana\n",
        "    x = x.replace('&', ',')\n",
        "    if '(' in x:\n",
        "        x = x[:x.find('(')] #Peru(SMartin,Pangoa,nacional)\n",
        "    x = x.replace('Guat.', 'Guatemala')\n",
        "    \n",
        "    if 'Ven' in x and 'Venezuela' not in x:\n",
        "        x = x.replace('Venez', 'Venezuela') #Venez,Africa,Brasil,Peru,Mex\n",
        "        x = x.replace('Ven,', 'Venezuela,') #Ven, Trinidad, Ecuador\n",
        "        x = x.replace('Ven.', 'Venezuela') #Ven., Trinidad, Mad.\n",
        "        if 'Ven' in x and 'Venezuela' not in x:\n",
        "            x = x.replace('Ven', 'Venezuela')\n",
        "        \n",
        "    x = x.replace('Dom.Rep.', 'DomincanRepublic')\n",
        "    x = x.replace('DR', 'DomincanRepublic')\n",
        "    x = x.replace('Dom.Rep', 'DomincanRepublic')\n",
        "    x = x.replace('D.R.', 'DomincanRepublic')\n",
        "    x = x.replace('DominicanRep.', 'DomincanRepublic')\n",
        "    x = x.replace('Domin.Rep', 'DomincanRepublic')\n",
        "    x = x.replace('Domin.Re', 'DomincanRepublic')\n",
        "    x = x.replace('DominicanRepublic', 'DomincanRepublic')\n",
        "\n",
        "    if 'Jam' in x and 'Jamaica' not in x:\n",
        "        x = x.replace('Jam', 'Jamaica')\n",
        "        \n",
        "    if 'Mad.' in x and 'Madagascar' not in x:\n",
        "        x = x.replace('Mad.', 'Madagascar')\n",
        "    elif 'Mad' in x and 'Madagascar' not in x:\n",
        "        x = x.replace('Mad', 'Madagascar')\n",
        "    elif 'Ma' in x and 'Madagascar' not in x:\n",
        "        x = x.replace('Ma', 'Madagascar')\n",
        "        \n",
        "    if 'Hait' in x and 'Haiti' not in x:\n",
        "        x = x.replace('Hait', 'Haiti')\n",
        "        \n",
        "    if 'Per' in x and 'Peru'  not in x:\n",
        "        x = x.replace('Per', 'Peru')\n",
        "    \n",
        "    x = x.replace('Nic.', 'Nicaragua')\n",
        "\n",
        "    x = x.replace('Gre.', 'Grenada')\n",
        "    \n",
        "    x = x.replace('PNG', 'PapuaNewGuinea')\n",
        "    \n",
        "    if 'Mex' in x and 'Mexico' not in x:\n",
        "        x = x.replace('Mex', 'Mexico')\n",
        "        \n",
        "    x = x.replace('Haw.', 'Hawaii')\n",
        "    \n",
        "    x = x.replace('Ecuad.', 'Ecuador')\n",
        "    x = x.replace('Ecu.', 'Ecuador')\n",
        "    \n",
        "    return x\n",
        "\n",
        "def get_boxplot(column):\n",
        "    fig, ax = plt.subplots(figsize = (14, 4))\n",
        "    sns.boxplot(x=column, y='rating', \n",
        "                data=cacao.loc[cacao.loc[:, column].isin(cacao.loc[:, column].value_counts().index[:10])],\n",
        "               ax=ax)\n",
        "    plt.xticks(rotation=45)\n",
        "    ax.set_title('Boxplot for ' + column)\n",
        "    ax.set_ylim(bottom=1.5,top=4.5)\n",
        "    plt.show()"
      ],
      "execution_count": 47,
      "outputs": [
        {
          "output_type": "stream",
          "text": [
            "Mounted at /content/gdrive\n"
          ],
          "name": "stdout"
        }
      ]
    },
    {
      "cell_type": "code",
      "metadata": {
        "colab": {
          "base_uri": "https://localhost:8080/",
          "height": 217
        },
        "id": "KKRTWXFN1BsR",
        "outputId": "a186a1dd-2c49-4e90-955a-c759a53c3212"
      },
      "source": [
        "cacao = pd.read_csv('/content/gdrive/MyDrive/SkillFactory/cacao_flavors.csv')\n",
        "display(cacao.sample())\n",
        "cacao.columns = ['bar_id','company','specific_origin','ref','review_date','cocoa_percent','company_location','rating','bean_type','broad_origin']\n",
        "display(cacao.sample())"
      ],
      "execution_count": 2,
      "outputs": [
        {
          "output_type": "display_data",
          "data": {
            "text/html": [
              "<div>\n",
              "<style scoped>\n",
              "    .dataframe tbody tr th:only-of-type {\n",
              "        vertical-align: middle;\n",
              "    }\n",
              "\n",
              "    .dataframe tbody tr th {\n",
              "        vertical-align: top;\n",
              "    }\n",
              "\n",
              "    .dataframe thead th {\n",
              "        text-align: right;\n",
              "    }\n",
              "</style>\n",
              "<table border=\"1\" class=\"dataframe\">\n",
              "  <thead>\n",
              "    <tr style=\"text-align: right;\">\n",
              "      <th></th>\n",
              "      <th>Bar id</th>\n",
              "      <th>Company \\n(Maker-if known)</th>\n",
              "      <th>Specific Bean Origin\\nor Bar Name</th>\n",
              "      <th>REF</th>\n",
              "      <th>Review\\nDate</th>\n",
              "      <th>Cocoa\\nPercent</th>\n",
              "      <th>Company\\nLocation</th>\n",
              "      <th>Rating</th>\n",
              "      <th>Bean\\nType</th>\n",
              "      <th>Broad Bean\\nOrigin</th>\n",
              "    </tr>\n",
              "  </thead>\n",
              "  <tbody>\n",
              "    <tr>\n",
              "      <th>515</th>\n",
              "      <td>516</td>\n",
              "      <td>Davis</td>\n",
              "      <td>Ghana</td>\n",
              "      <td>1093</td>\n",
              "      <td>2013</td>\n",
              "      <td>70%</td>\n",
              "      <td>U.S.A.</td>\n",
              "      <td>2.5</td>\n",
              "      <td>Forastero</td>\n",
              "      <td>Ghana</td>\n",
              "    </tr>\n",
              "  </tbody>\n",
              "</table>\n",
              "</div>"
            ],
            "text/plain": [
              "     Bar id Company \\n(Maker-if known) Specific Bean Origin\\nor Bar Name  \\\n",
              "515     516                      Davis                             Ghana   \n",
              "\n",
              "      REF  Review\\nDate Cocoa\\nPercent Company\\nLocation  Rating Bean\\nType  \\\n",
              "515  1093          2013            70%            U.S.A.     2.5  Forastero   \n",
              "\n",
              "    Broad Bean\\nOrigin  \n",
              "515              Ghana  "
            ]
          },
          "metadata": {
            "tags": []
          }
        },
        {
          "output_type": "display_data",
          "data": {
            "text/html": [
              "<div>\n",
              "<style scoped>\n",
              "    .dataframe tbody tr th:only-of-type {\n",
              "        vertical-align: middle;\n",
              "    }\n",
              "\n",
              "    .dataframe tbody tr th {\n",
              "        vertical-align: top;\n",
              "    }\n",
              "\n",
              "    .dataframe thead th {\n",
              "        text-align: right;\n",
              "    }\n",
              "</style>\n",
              "<table border=\"1\" class=\"dataframe\">\n",
              "  <thead>\n",
              "    <tr style=\"text-align: right;\">\n",
              "      <th></th>\n",
              "      <th>bar_id</th>\n",
              "      <th>company</th>\n",
              "      <th>specific_origin</th>\n",
              "      <th>ref</th>\n",
              "      <th>review_date</th>\n",
              "      <th>cocoa_percent</th>\n",
              "      <th>company_location</th>\n",
              "      <th>rating</th>\n",
              "      <th>bean_type</th>\n",
              "      <th>broad_origin</th>\n",
              "    </tr>\n",
              "  </thead>\n",
              "  <tbody>\n",
              "    <tr>\n",
              "      <th>481</th>\n",
              "      <td>482</td>\n",
              "      <td></td>\n",
              "      <td>O'Payo</td>\n",
              "      <td>1666</td>\n",
              "      <td>2015</td>\n",
              "      <td>70%</td>\n",
              "      <td>U.K.</td>\n",
              "      <td>2.75</td>\n",
              "      <td></td>\n",
              "      <td>Nicaragua</td>\n",
              "    </tr>\n",
              "  </tbody>\n",
              "</table>\n",
              "</div>"
            ],
            "text/plain": [
              "     bar_id company specific_origin   ref  review_date cocoa_percent  \\\n",
              "481     482                  O'Payo  1666         2015           70%   \n",
              "\n",
              "    company_location  rating bean_type broad_origin  \n",
              "481             U.K.    2.75              Nicaragua  "
            ]
          },
          "metadata": {
            "tags": []
          }
        }
      ]
    },
    {
      "cell_type": "markdown",
      "metadata": {
        "id": "lgdwMQOlbKns"
      },
      "source": [
        "#bar_id"
      ]
    },
    {
      "cell_type": "code",
      "metadata": {
        "colab": {
          "base_uri": "https://localhost:8080/",
          "height": 300
        },
        "id": "edMniVqLbuf3",
        "outputId": "885fdbf9-1224-44a0-f37b-f777b08a469e"
      },
      "source": [
        " print(f\"Number of unique bar_id's: {cacao.bar_id.nunique()}\")\n",
        "plt.plot(cacao.bar_id)"
      ],
      "execution_count": 3,
      "outputs": [
        {
          "output_type": "stream",
          "text": [
            "Number of unique bar_id's: 1795\n"
          ],
          "name": "stdout"
        },
        {
          "output_type": "execute_result",
          "data": {
            "text/plain": [
              "[<matplotlib.lines.Line2D at 0x7f1584bdead0>]"
            ]
          },
          "metadata": {
            "tags": []
          },
          "execution_count": 3
        },
        {
          "output_type": "display_data",
          "data": {
            "image/png": "[encoded data removed]",
            "text/plain": [
              "<Figure size 432x288 with 1 Axes>"
            ]
          },
          "metadata": {
            "tags": [],
            "needs_background": "light"
          }
        }
      ]
    },
    {
      "cell_type": "code",
      "metadata": {
        "colab": {
          "base_uri": "https://localhost:8080/",
          "height": 118
        },
        "id": "E8rAHHoVeCNt",
        "outputId": "77868e3d-0267-4bc0-a70c-aac3f483e916"
      },
      "source": [
        "cacao.drop(['bar_id'], inplace = True, axis = 1)\n",
        "cacao.sample()"
      ],
      "execution_count": 4,
      "outputs": [
        {
          "output_type": "execute_result",
          "data": {
            "text/html": [
              "<div>\n",
              "<style scoped>\n",
              "    .dataframe tbody tr th:only-of-type {\n",
              "        vertical-align: middle;\n",
              "    }\n",
              "\n",
              "    .dataframe tbody tr th {\n",
              "        vertical-align: top;\n",
              "    }\n",
              "\n",
              "    .dataframe thead th {\n",
              "        text-align: right;\n",
              "    }\n",
              "</style>\n",
              "<table border=\"1\" class=\"dataframe\">\n",
              "  <thead>\n",
              "    <tr style=\"text-align: right;\">\n",
              "      <th></th>\n",
              "      <th>company</th>\n",
              "      <th>specific_origin</th>\n",
              "      <th>ref</th>\n",
              "      <th>review_date</th>\n",
              "      <th>cocoa_percent</th>\n",
              "      <th>company_location</th>\n",
              "      <th>rating</th>\n",
              "      <th>bean_type</th>\n",
              "      <th>broad_origin</th>\n",
              "    </tr>\n",
              "  </thead>\n",
              "  <tbody>\n",
              "    <tr>\n",
              "      <th>819</th>\n",
              "      <td>Holy Cacao</td>\n",
              "      <td>Gran Couva</td>\n",
              "      <td>1466</td>\n",
              "      <td>2015</td>\n",
              "      <td>70%</td>\n",
              "      <td>Israel</td>\n",
              "      <td>3.5</td>\n",
              "      <td>Trinitario</td>\n",
              "      <td>Trinidad</td>\n",
              "    </tr>\n",
              "  </tbody>\n",
              "</table>\n",
              "</div>"
            ],
            "text/plain": [
              "        company specific_origin   ref  review_date cocoa_percent  \\\n",
              "819  Holy Cacao      Gran Couva  1466         2015           70%   \n",
              "\n",
              "    company_location  rating   bean_type broad_origin  \n",
              "819           Israel     3.5  Trinitario     Trinidad  "
            ]
          },
          "metadata": {
            "tags": []
          },
          "execution_count": 4
        }
      ]
    },
    {
      "cell_type": "markdown",
      "metadata": {
        "id": "HSsXBfJuhcAd"
      },
      "source": [
        "#Задание 2.3.1"
      ]
    },
    {
      "cell_type": "code",
      "metadata": {
        "colab": {
          "base_uri": "https://localhost:8080/"
        },
        "id": "HNJhLcEBhVm_",
        "outputId": "8da951c1-fc6f-4efe-9729-99949fa25dc9"
      },
      "source": [
        "print (f\"Number of companies in the dataset + empty: {cacao.company.nunique()}\")\n",
        " \n",
        "cacao[cacao.company.apply (lambda x: hasletornum(x))].company.value_counts() #index.nunique()"
      ],
      "execution_count": 5,
      "outputs": [
        {
          "output_type": "stream",
          "text": [
            "Number of companies in the dataset + empty: 408\n"
          ],
          "name": "stdout"
        },
        {
          "output_type": "execute_result",
          "data": {
            "text/plain": [
              "Soma                      45\n",
              "Bonnat                    26\n",
              "Fresco                    26\n",
              "Pralus                    25\n",
              "Domori                    22\n",
              "                          ..\n",
              "Chocablog                  1\n",
              "Peppalo                    1\n",
              "Kakao                      1\n",
              "Ah Cacao                   1\n",
              "Black River (A. Morin)     1\n",
              "Name: company, Length: 407, dtype: int64"
            ]
          },
          "metadata": {
            "tags": []
          },
          "execution_count": 5
        }
      ]
    },
    {
      "cell_type": "code",
      "metadata": {
        "id": "dpKWPm1WnZdx"
      },
      "source": [
        "#cacao.company = cacao.company.apply(lambda x: None if x.strip() == '' else x)\n",
        "cacao.company = cacao.company.apply(lambda x: None if not(hasletornum(x)) else x)"
      ],
      "execution_count": 6,
      "outputs": []
    },
    {
      "cell_type": "code",
      "metadata": {
        "colab": {
          "base_uri": "https://localhost:8080/",
          "height": 579
        },
        "id": "44UfQ5AIrejY",
        "outputId": "a68428fa-a7fb-4022-c58e-c81a6a9c94f5"
      },
      "source": [
        "display(pd.DataFrame(cacao.company.value_counts()))\n",
        "print(\"Значений, встретившихся в столбце более 10 раз:\"#Число 10 взято для ориентира, можно брать другое\n",
        "      , (cacao.company.value_counts()>10).sum())\n",
        "cacao.loc[:, ['company']].info()"
      ],
      "execution_count": 22,
      "outputs": [
        {
          "output_type": "display_data",
          "data": {
            "text/html": [
              "<div>\n",
              "<style scoped>\n",
              "    .dataframe tbody tr th:only-of-type {\n",
              "        vertical-align: middle;\n",
              "    }\n",
              "\n",
              "    .dataframe tbody tr th {\n",
              "        vertical-align: top;\n",
              "    }\n",
              "\n",
              "    .dataframe thead th {\n",
              "        text-align: right;\n",
              "    }\n",
              "</style>\n",
              "<table border=\"1\" class=\"dataframe\">\n",
              "  <thead>\n",
              "    <tr style=\"text-align: right;\">\n",
              "      <th></th>\n",
              "      <th>company</th>\n",
              "    </tr>\n",
              "  </thead>\n",
              "  <tbody>\n",
              "    <tr>\n",
              "      <th>Soma</th>\n",
              "      <td>45</td>\n",
              "    </tr>\n",
              "    <tr>\n",
              "      <th>Bonnat</th>\n",
              "      <td>26</td>\n",
              "    </tr>\n",
              "    <tr>\n",
              "      <th>Fresco</th>\n",
              "      <td>26</td>\n",
              "    </tr>\n",
              "    <tr>\n",
              "      <th>Pralus</th>\n",
              "      <td>25</td>\n",
              "    </tr>\n",
              "    <tr>\n",
              "      <th>Domori</th>\n",
              "      <td>22</td>\n",
              "    </tr>\n",
              "    <tr>\n",
              "      <th>...</th>\n",
              "      <td>...</td>\n",
              "    </tr>\n",
              "    <tr>\n",
              "      <th>Chocablog</th>\n",
              "      <td>1</td>\n",
              "    </tr>\n",
              "    <tr>\n",
              "      <th>Peppalo</th>\n",
              "      <td>1</td>\n",
              "    </tr>\n",
              "    <tr>\n",
              "      <th>Kakao</th>\n",
              "      <td>1</td>\n",
              "    </tr>\n",
              "    <tr>\n",
              "      <th>Ah Cacao</th>\n",
              "      <td>1</td>\n",
              "    </tr>\n",
              "    <tr>\n",
              "      <th>Black River (A. Morin)</th>\n",
              "      <td>1</td>\n",
              "    </tr>\n",
              "  </tbody>\n",
              "</table>\n",
              "<p>407 rows × 1 columns</p>\n",
              "</div>"
            ],
            "text/plain": [
              "                        company\n",
              "Soma                         45\n",
              "Bonnat                       26\n",
              "Fresco                       26\n",
              "Pralus                       25\n",
              "Domori                       22\n",
              "...                         ...\n",
              "Chocablog                     1\n",
              "Peppalo                       1\n",
              "Kakao                         1\n",
              "Ah Cacao                      1\n",
              "Black River (A. Morin)        1\n",
              "\n",
              "[407 rows x 1 columns]"
            ]
          },
          "metadata": {
            "tags": []
          }
        },
        {
          "output_type": "stream",
          "text": [
            "Значений, встретившихся в столбце более 10 раз: 30\n",
            "<class 'pandas.core.frame.DataFrame'>\n",
            "RangeIndex: 1795 entries, 0 to 1794\n",
            "Data columns (total 1 columns):\n",
            " #   Column   Non-Null Count  Dtype \n",
            "---  ------   --------------  ----- \n",
            " 0   company  1696 non-null   object\n",
            "dtypes: object(1)\n",
            "memory usage: 14.1+ KB\n"
          ],
          "name": "stdout"
        }
      ]
    },
    {
      "cell_type": "markdown",
      "metadata": {
        "id": "hHoS798utWMS"
      },
      "source": [
        "#Задание 2.3.2"
      ]
    },
    {
      "cell_type": "code",
      "metadata": {
        "colab": {
          "base_uri": "https://localhost:8080/",
          "height": 375
        },
        "id": "7c2oec1oP1h6",
        "outputId": "e5390f2f-2001-409a-b778-77edc54f5a72"
      },
      "source": [
        "#cacao_ = cacao.copy()\n",
        "print (\"specific_origin data types:\\n\")\n",
        "display (pd.DataFrame(cacao.specific_origin.apply(type).value_counts()))\n",
        "print ()\n",
        " \n",
        "valid_so = cacao.specific_origin[cacao.specific_origin.apply (lambda x: type(x) == str)]\n",
        "valid_so = valid_so[valid_so.apply(hasletornum)]\n",
        " \n",
        "print (f\"Number of origins in the dataset: {valid_so.nunique()}\\n\")\n",
        "valid_so.value_counts()"
      ],
      "execution_count": 8,
      "outputs": [
        {
          "output_type": "stream",
          "text": [
            "specific_origin data types:\n",
            "\n"
          ],
          "name": "stdout"
        },
        {
          "output_type": "display_data",
          "data": {
            "text/html": [
              "<div>\n",
              "<style scoped>\n",
              "    .dataframe tbody tr th:only-of-type {\n",
              "        vertical-align: middle;\n",
              "    }\n",
              "\n",
              "    .dataframe tbody tr th {\n",
              "        vertical-align: top;\n",
              "    }\n",
              "\n",
              "    .dataframe thead th {\n",
              "        text-align: right;\n",
              "    }\n",
              "</style>\n",
              "<table border=\"1\" class=\"dataframe\">\n",
              "  <thead>\n",
              "    <tr style=\"text-align: right;\">\n",
              "      <th></th>\n",
              "      <th>specific_origin</th>\n",
              "    </tr>\n",
              "  </thead>\n",
              "  <tbody>\n",
              "    <tr>\n",
              "      <th>&lt;class 'str'&gt;</th>\n",
              "      <td>1795</td>\n",
              "    </tr>\n",
              "  </tbody>\n",
              "</table>\n",
              "</div>"
            ],
            "text/plain": [
              "               specific_origin\n",
              "<class 'str'>             1795"
            ]
          },
          "metadata": {
            "tags": []
          }
        },
        {
          "output_type": "stream",
          "text": [
            "\n",
            "Number of origins in the dataset: 1012\n",
            "\n"
          ],
          "name": "stdout"
        },
        {
          "output_type": "execute_result",
          "data": {
            "text/plain": [
              "Madagascar                     55\n",
              "Peru                           44\n",
              "Ecuador                        39\n",
              "Dominican Republic             33\n",
              "Venezuela                      21\n",
              "                               ..\n",
              "Kaua'I, Alea Estate +world      1\n",
              "Java, Indonesie                 1\n",
              "Criollo, Dominican Republic     1\n",
              "Ocumare, prototype              1\n",
              "Trintade, Sao Tome              1\n",
              "Name: specific_origin, Length: 1012, dtype: int64"
            ]
          },
          "metadata": {
            "tags": []
          },
          "execution_count": 8
        }
      ]
    },
    {
      "cell_type": "markdown",
      "metadata": {
        "id": "H1eXZwdTxRT1"
      },
      "source": [
        "Задание 2.3.3"
      ]
    },
    {
      "cell_type": "code",
      "metadata": {
        "id": "b71mXlXwxWJf",
        "colab": {
          "base_uri": "https://localhost:8080/"
        },
        "outputId": "0e9cfcf8-4a7a-4add-91cc-b4ca005e2586"
      },
      "source": [
        " print(f\"Number of origins met more than 10 times in the dataset: {(valid_so.value_counts() > 10).sum()}\")"
      ],
      "execution_count": 31,
      "outputs": [
        {
          "output_type": "stream",
          "text": [
            "Number of origins met more than 10 times in the dataset: 15\n"
          ],
          "name": "stdout"
        }
      ]
    },
    {
      "cell_type": "markdown",
      "metadata": {
        "id": "cXaA5gz2brKx"
      },
      "source": [
        "#ref"
      ]
    },
    {
      "cell_type": "code",
      "metadata": {
        "id": "qD6bnzGQbljB",
        "colab": {
          "base_uri": "https://localhost:8080/",
          "height": 421
        },
        "outputId": "eeb4aa58-18f7-4170-b479-f239cbac6364"
      },
      "source": [
        "cacao.ref.hist()\n",
        "cacao.ref.describe()"
      ],
      "execution_count": 32,
      "outputs": [
        {
          "output_type": "execute_result",
          "data": {
            "text/plain": [
              "count    1795.000000\n",
              "mean     1035.904735\n",
              "std       552.886365\n",
              "min         5.000000\n",
              "25%       576.000000\n",
              "50%      1069.000000\n",
              "75%      1502.000000\n",
              "max      1952.000000\n",
              "Name: ref, dtype: float64"
            ]
          },
          "metadata": {
            "tags": []
          },
          "execution_count": 32
        },
        {
          "output_type": "display_data",
          "data": {
            "image/png": "[encoded data removed]",
            "text/plain": [
              "<Figure size 432x288 with 1 Axes>"
            ]
          },
          "metadata": {
            "tags": [],
            "needs_background": "light"
          }
        }
      ]
    },
    {
      "cell_type": "code",
      "metadata": {
        "id": "TrCCK-N88Z5c",
        "colab": {
          "base_uri": "https://localhost:8080/",
          "height": 283
        },
        "outputId": "c32afd5c-5d1a-4361-c8f9-fba443eb0970"
      },
      "source": [
        "print ('Анализ разброса ref:')\n",
        "cacao.boxplot(['ref']);"
      ],
      "execution_count": 34,
      "outputs": [
        {
          "output_type": "stream",
          "text": [
            "Анализ разброса ref:\n"
          ],
          "name": "stdout"
        },
        {
          "output_type": "display_data",
          "data": {
            "image/png": "[encoded data removed]",
            "text/plain": [
              "<Figure size 432x288 with 1 Axes>"
            ]
          },
          "metadata": {
            "tags": [],
            "needs_background": "light"
          }
        }
      ]
    },
    {
      "cell_type": "markdown",
      "metadata": {
        "id": "eYhJ0Y4dQVWM"
      },
      "source": [
        "#cacao_percent"
      ]
    },
    {
      "cell_type": "code",
      "metadata": {
        "id": "kN-KR6lbRIfk"
      },
      "source": [
        "cacao.cocoa_percent = cacao.cocoa_percent.apply(lambda x: float(x.replace('%', '')))"
      ],
      "execution_count": 12,
      "outputs": []
    },
    {
      "cell_type": "code",
      "metadata": {
        "colab": {
          "base_uri": "https://localhost:8080/",
          "height": 421
        },
        "id": "SIlA_S29QgTZ",
        "outputId": "1ee7f1a5-b0e0-4975-d78b-9291810dd3cf"
      },
      "source": [
        "cacao.cocoa_percent.hist();\n",
        "cacao.cocoa_percent.describe()"
      ],
      "execution_count": 13,
      "outputs": [
        {
          "output_type": "execute_result",
          "data": {
            "text/plain": [
              "count    1795.000000\n",
              "mean       75.932312\n",
              "std        44.475981\n",
              "min        42.000000\n",
              "25%        70.000000\n",
              "50%        70.000000\n",
              "75%        75.000000\n",
              "max       682.000000\n",
              "Name: cocoa_percent, dtype: float64"
            ]
          },
          "metadata": {
            "tags": []
          },
          "execution_count": 13
        },
        {
          "output_type": "display_data",
          "data": {
            "image/png": "[encoded data removed]",
            "text/plain": [
              "<Figure size 432x288 with 1 Axes>"
            ]
          },
          "metadata": {
            "tags": [],
            "needs_background": "light"
          }
        }
      ]
    },
    {
      "cell_type": "code",
      "metadata": {
        "colab": {
          "base_uri": "https://localhost:8080/",
          "height": 283
        },
        "id": "EZqOW-WUQeGT",
        "outputId": "4719624e-e5dd-4f60-d8ae-7b1bd2e7ebc8"
      },
      "source": [
        "IQR = cacao.cocoa_percent.quantile(0.75) - cacao.cocoa_percent.quantile(0.25)\n",
        "perc25 = cacao.cocoa_percent.quantile(0.25)\n",
        "perc75 = cacao.cocoa_percent.quantile(0.75)\n",
        " \n",
        "print(\n",
        "'25-й перцентиль: {},'.format(perc25),\n",
        "'75-й перцентиль: {},'.format(perc75),\n",
        "\"IQR: {}, \".format(IQR),\n",
        "\"Границы выбросов: [{f}, {l}].\".format(f=perc25 - 1.5*IQR, l=perc75 + 1.5*IQR))\n",
        " \n",
        "cacao.cocoa_percent.loc[cacao.cocoa_percent.between(\n",
        "perc25 - 1.5*IQR,\n",
        "perc75 + 1.5*IQR)].hist(bins = 16, range = (40, 100), label = 'IQR')\n",
        " \n",
        "cacao.cocoa_percent.loc[cacao.cocoa_percent <= 100].hist(\n",
        "alpha = 0.5, bins = 16, range = (40, 100), label = 'Здравый смысл')\n",
        " \n",
        "plt.legend();"
      ],
      "execution_count": 14,
      "outputs": [
        {
          "output_type": "stream",
          "text": [
            "25-й перцентиль: 70.0, 75-й перцентиль: 75.0, IQR: 5.0,  Границы выбросов: [62.5, 82.5].\n"
          ],
          "name": "stdout"
        },
        {
          "output_type": "display_data",
          "data": {
            "image/png": "[encoded data removed]",
            "text/plain": [
              "<Figure size 432x288 with 1 Axes>"
            ]
          },
          "metadata": {
            "tags": [],
            "needs_background": "light"
          }
        }
      ]
    },
    {
      "cell_type": "markdown",
      "metadata": {
        "id": "BfLMNhkRWlaQ"
      },
      "source": [
        "#company_location"
      ]
    },
    {
      "cell_type": "code",
      "metadata": {
        "colab": {
          "base_uri": "https://localhost:8080/",
          "height": 830
        },
        "id": "iK1LztLTTI28",
        "outputId": "a998a42e-9106-4de9-ef01-2d9dd94f02e5"
      },
      "source": [
        "display(pd.DataFrame(cacao.company_location))\n",
        "pd.DataFrame(cacao.company_location.value_counts())"
      ],
      "execution_count": 15,
      "outputs": [
        {
          "output_type": "display_data",
          "data": {
            "text/html": [
              "<div>\n",
              "<style scoped>\n",
              "    .dataframe tbody tr th:only-of-type {\n",
              "        vertical-align: middle;\n",
              "    }\n",
              "\n",
              "    .dataframe tbody tr th {\n",
              "        vertical-align: top;\n",
              "    }\n",
              "\n",
              "    .dataframe thead th {\n",
              "        text-align: right;\n",
              "    }\n",
              "</style>\n",
              "<table border=\"1\" class=\"dataframe\">\n",
              "  <thead>\n",
              "    <tr style=\"text-align: right;\">\n",
              "      <th></th>\n",
              "      <th>company_location</th>\n",
              "    </tr>\n",
              "  </thead>\n",
              "  <tbody>\n",
              "    <tr>\n",
              "      <th>0</th>\n",
              "      <td>France</td>\n",
              "    </tr>\n",
              "    <tr>\n",
              "      <th>1</th>\n",
              "      <td>France</td>\n",
              "    </tr>\n",
              "    <tr>\n",
              "      <th>2</th>\n",
              "      <td>France</td>\n",
              "    </tr>\n",
              "    <tr>\n",
              "      <th>3</th>\n",
              "      <td>France</td>\n",
              "    </tr>\n",
              "    <tr>\n",
              "      <th>4</th>\n",
              "      <td>France</td>\n",
              "    </tr>\n",
              "    <tr>\n",
              "      <th>...</th>\n",
              "      <td>...</td>\n",
              "    </tr>\n",
              "    <tr>\n",
              "      <th>1790</th>\n",
              "      <td>Austria</td>\n",
              "    </tr>\n",
              "    <tr>\n",
              "      <th>1791</th>\n",
              "      <td>Austria</td>\n",
              "    </tr>\n",
              "    <tr>\n",
              "      <th>1792</th>\n",
              "      <td>Austria</td>\n",
              "    </tr>\n",
              "    <tr>\n",
              "      <th>1793</th>\n",
              "      <td>Austria</td>\n",
              "    </tr>\n",
              "    <tr>\n",
              "      <th>1794</th>\n",
              "      <td>Austria</td>\n",
              "    </tr>\n",
              "  </tbody>\n",
              "</table>\n",
              "<p>1795 rows × 1 columns</p>\n",
              "</div>"
            ],
            "text/plain": [
              "     company_location\n",
              "0              France\n",
              "1              France\n",
              "2              France\n",
              "3              France\n",
              "4              France\n",
              "...               ...\n",
              "1790          Austria\n",
              "1791          Austria\n",
              "1792          Austria\n",
              "1793          Austria\n",
              "1794          Austria\n",
              "\n",
              "[1795 rows x 1 columns]"
            ]
          },
          "metadata": {
            "tags": []
          }
        },
        {
          "output_type": "execute_result",
          "data": {
            "text/html": [
              "<div>\n",
              "<style scoped>\n",
              "    .dataframe tbody tr th:only-of-type {\n",
              "        vertical-align: middle;\n",
              "    }\n",
              "\n",
              "    .dataframe tbody tr th {\n",
              "        vertical-align: top;\n",
              "    }\n",
              "\n",
              "    .dataframe thead th {\n",
              "        text-align: right;\n",
              "    }\n",
              "</style>\n",
              "<table border=\"1\" class=\"dataframe\">\n",
              "  <thead>\n",
              "    <tr style=\"text-align: right;\">\n",
              "      <th></th>\n",
              "      <th>company_location</th>\n",
              "    </tr>\n",
              "  </thead>\n",
              "  <tbody>\n",
              "    <tr>\n",
              "      <th>U.S.A.</th>\n",
              "      <td>764</td>\n",
              "    </tr>\n",
              "    <tr>\n",
              "      <th>France</th>\n",
              "      <td>156</td>\n",
              "    </tr>\n",
              "    <tr>\n",
              "      <th>Canada</th>\n",
              "      <td>125</td>\n",
              "    </tr>\n",
              "    <tr>\n",
              "      <th>U.K.</th>\n",
              "      <td>96</td>\n",
              "    </tr>\n",
              "    <tr>\n",
              "      <th>Italy</th>\n",
              "      <td>63</td>\n",
              "    </tr>\n",
              "    <tr>\n",
              "      <th>...</th>\n",
              "      <td>...</td>\n",
              "    </tr>\n",
              "    <tr>\n",
              "      <th>Russia</th>\n",
              "      <td>1</td>\n",
              "    </tr>\n",
              "    <tr>\n",
              "      <th>Ghana</th>\n",
              "      <td>1</td>\n",
              "    </tr>\n",
              "    <tr>\n",
              "      <th>Martinique</th>\n",
              "      <td>1</td>\n",
              "    </tr>\n",
              "    <tr>\n",
              "      <th>Wales</th>\n",
              "      <td>1</td>\n",
              "    </tr>\n",
              "    <tr>\n",
              "      <th>Philippines</th>\n",
              "      <td>1</td>\n",
              "    </tr>\n",
              "  </tbody>\n",
              "</table>\n",
              "<p>60 rows × 1 columns</p>\n",
              "</div>"
            ],
            "text/plain": [
              "             company_location\n",
              "U.S.A.                    764\n",
              "France                    156\n",
              "Canada                    125\n",
              "U.K.                       96\n",
              "Italy                      63\n",
              "...                       ...\n",
              "Russia                      1\n",
              "Ghana                       1\n",
              "Martinique                  1\n",
              "Wales                       1\n",
              "Philippines                 1\n",
              "\n",
              "[60 rows x 1 columns]"
            ]
          },
          "metadata": {
            "tags": []
          },
          "execution_count": 15
        }
      ]
    },
    {
      "cell_type": "code",
      "metadata": {
        "colab": {
          "base_uri": "https://localhost:8080/",
          "height": 597
        },
        "id": "mCmfvOUue0Tv",
        "outputId": "38c4e000-49d7-44b7-a96f-38e26755c8e6"
      },
      "source": [
        "display(pd.DataFrame(cacao.company_location.value_counts()))\n",
        "print(\"Значений, встретившихся в столбце более 10 раз:\", (cacao.company_location.value_counts()>10).sum(),'\\n')\n",
        "cacao.loc[:, ['company_location']].info()"
      ],
      "execution_count": 16,
      "outputs": [
        {
          "output_type": "display_data",
          "data": {
            "text/html": [
              "<div>\n",
              "<style scoped>\n",
              "    .dataframe tbody tr th:only-of-type {\n",
              "        vertical-align: middle;\n",
              "    }\n",
              "\n",
              "    .dataframe tbody tr th {\n",
              "        vertical-align: top;\n",
              "    }\n",
              "\n",
              "    .dataframe thead th {\n",
              "        text-align: right;\n",
              "    }\n",
              "</style>\n",
              "<table border=\"1\" class=\"dataframe\">\n",
              "  <thead>\n",
              "    <tr style=\"text-align: right;\">\n",
              "      <th></th>\n",
              "      <th>company_location</th>\n",
              "    </tr>\n",
              "  </thead>\n",
              "  <tbody>\n",
              "    <tr>\n",
              "      <th>U.S.A.</th>\n",
              "      <td>764</td>\n",
              "    </tr>\n",
              "    <tr>\n",
              "      <th>France</th>\n",
              "      <td>156</td>\n",
              "    </tr>\n",
              "    <tr>\n",
              "      <th>Canada</th>\n",
              "      <td>125</td>\n",
              "    </tr>\n",
              "    <tr>\n",
              "      <th>U.K.</th>\n",
              "      <td>96</td>\n",
              "    </tr>\n",
              "    <tr>\n",
              "      <th>Italy</th>\n",
              "      <td>63</td>\n",
              "    </tr>\n",
              "    <tr>\n",
              "      <th>...</th>\n",
              "      <td>...</td>\n",
              "    </tr>\n",
              "    <tr>\n",
              "      <th>Russia</th>\n",
              "      <td>1</td>\n",
              "    </tr>\n",
              "    <tr>\n",
              "      <th>Ghana</th>\n",
              "      <td>1</td>\n",
              "    </tr>\n",
              "    <tr>\n",
              "      <th>Martinique</th>\n",
              "      <td>1</td>\n",
              "    </tr>\n",
              "    <tr>\n",
              "      <th>Wales</th>\n",
              "      <td>1</td>\n",
              "    </tr>\n",
              "    <tr>\n",
              "      <th>Philippines</th>\n",
              "      <td>1</td>\n",
              "    </tr>\n",
              "  </tbody>\n",
              "</table>\n",
              "<p>60 rows × 1 columns</p>\n",
              "</div>"
            ],
            "text/plain": [
              "             company_location\n",
              "U.S.A.                    764\n",
              "France                    156\n",
              "Canada                    125\n",
              "U.K.                       96\n",
              "Italy                      63\n",
              "...                       ...\n",
              "Russia                      1\n",
              "Ghana                       1\n",
              "Martinique                  1\n",
              "Wales                       1\n",
              "Philippines                 1\n",
              "\n",
              "[60 rows x 1 columns]"
            ]
          },
          "metadata": {
            "tags": []
          }
        },
        {
          "output_type": "stream",
          "text": [
            "Значений, встретившихся в столбце более 10 раз: 22 \n",
            "\n",
            "<class 'pandas.core.frame.DataFrame'>\n",
            "RangeIndex: 1795 entries, 0 to 1794\n",
            "Data columns (total 1 columns):\n",
            " #   Column            Non-Null Count  Dtype \n",
            "---  ------            --------------  ----- \n",
            " 0   company_location  1795 non-null   object\n",
            "dtypes: object(1)\n",
            "memory usage: 14.1+ KB\n"
          ],
          "name": "stdout"
        }
      ]
    },
    {
      "cell_type": "markdown",
      "metadata": {
        "id": "7y0LdIwbkMbY"
      },
      "source": [
        "#broad_origin\n",
        "Задание 2.4.1\n"
      ]
    },
    {
      "cell_type": "code",
      "metadata": {
        "colab": {
          "base_uri": "https://localhost:8080/",
          "height": 303
        },
        "id": "KjhTOX6gkT2n",
        "outputId": "d8729368-0600-46e4-aaab-23e06bdfb9dd"
      },
      "source": [
        "print (\"broad_origin data types:\\n\")\n",
        "display (pd.DataFrame(cacao.broad_origin.apply(type).value_counts()))\n",
        "print ()\n",
        "\n",
        "pd.DataFrame(cacao.broad_origin).info()"
      ],
      "execution_count": 17,
      "outputs": [
        {
          "output_type": "stream",
          "text": [
            "broad_origin data types:\n",
            "\n"
          ],
          "name": "stdout"
        },
        {
          "output_type": "display_data",
          "data": {
            "text/html": [
              "<div>\n",
              "<style scoped>\n",
              "    .dataframe tbody tr th:only-of-type {\n",
              "        vertical-align: middle;\n",
              "    }\n",
              "\n",
              "    .dataframe tbody tr th {\n",
              "        vertical-align: top;\n",
              "    }\n",
              "\n",
              "    .dataframe thead th {\n",
              "        text-align: right;\n",
              "    }\n",
              "</style>\n",
              "<table border=\"1\" class=\"dataframe\">\n",
              "  <thead>\n",
              "    <tr style=\"text-align: right;\">\n",
              "      <th></th>\n",
              "      <th>broad_origin</th>\n",
              "    </tr>\n",
              "  </thead>\n",
              "  <tbody>\n",
              "    <tr>\n",
              "      <th>&lt;class 'str'&gt;</th>\n",
              "      <td>1794</td>\n",
              "    </tr>\n",
              "    <tr>\n",
              "      <th>&lt;class 'float'&gt;</th>\n",
              "      <td>1</td>\n",
              "    </tr>\n",
              "  </tbody>\n",
              "</table>\n",
              "</div>"
            ],
            "text/plain": [
              "                 broad_origin\n",
              "<class 'str'>            1794\n",
              "<class 'float'>             1"
            ]
          },
          "metadata": {
            "tags": []
          }
        },
        {
          "output_type": "stream",
          "text": [
            "\n",
            "<class 'pandas.core.frame.DataFrame'>\n",
            "RangeIndex: 1795 entries, 0 to 1794\n",
            "Data columns (total 1 columns):\n",
            " #   Column        Non-Null Count  Dtype \n",
            "---  ------        --------------  ----- \n",
            " 0   broad_origin  1794 non-null   object\n",
            "dtypes: object(1)\n",
            "memory usage: 14.1+ KB\n"
          ],
          "name": "stdout"
        }
      ]
    },
    {
      "cell_type": "code",
      "metadata": {
        "colab": {
          "base_uri": "https://localhost:8080/",
          "height": 147
        },
        "id": "7iP6XMrdr7Ho",
        "outputId": "94e7b662-aa1a-463c-b809-be05383c6528"
      },
      "source": [
        "cacao.broad_origin = cacao.broad_origin.apply(fix_countries)\n",
        "print (\"broad_origin data types:\\n\")\n",
        "display (pd.DataFrame(cacao.broad_origin.apply(type).value_counts()))"
      ],
      "execution_count": 18,
      "outputs": [
        {
          "output_type": "stream",
          "text": [
            "broad_origin data types:\n",
            "\n"
          ],
          "name": "stdout"
        },
        {
          "output_type": "display_data",
          "data": {
            "text/html": [
              "<div>\n",
              "<style scoped>\n",
              "    .dataframe tbody tr th:only-of-type {\n",
              "        vertical-align: middle;\n",
              "    }\n",
              "\n",
              "    .dataframe tbody tr th {\n",
              "        vertical-align: top;\n",
              "    }\n",
              "\n",
              "    .dataframe thead th {\n",
              "        text-align: right;\n",
              "    }\n",
              "</style>\n",
              "<table border=\"1\" class=\"dataframe\">\n",
              "  <thead>\n",
              "    <tr style=\"text-align: right;\">\n",
              "      <th></th>\n",
              "      <th>broad_origin</th>\n",
              "    </tr>\n",
              "  </thead>\n",
              "  <tbody>\n",
              "    <tr>\n",
              "      <th>&lt;class 'str'&gt;</th>\n",
              "      <td>1794</td>\n",
              "    </tr>\n",
              "    <tr>\n",
              "      <th>&lt;class 'float'&gt;</th>\n",
              "      <td>1</td>\n",
              "    </tr>\n",
              "  </tbody>\n",
              "</table>\n",
              "</div>"
            ],
            "text/plain": [
              "                 broad_origin\n",
              "<class 'str'>            1794\n",
              "<class 'float'>             1"
            ]
          },
          "metadata": {
            "tags": []
          }
        }
      ]
    },
    {
      "cell_type": "code",
      "metadata": {
        "id": "Ls1yggvhtZ8i",
        "colab": {
          "base_uri": "https://localhost:8080/",
          "height": 493
        },
        "outputId": "71c29ab3-2a94-438d-ad13-8d2f373482e5"
      },
      "source": [
        "#cacao_ = cacao.copy()\n",
        "\n",
        "#cacao.broad_origin = cacao.broad_origin.astype(str)\n",
        "cacao.broad_origin = cacao.broad_origin.apply(fix_countries) \n",
        "#cacao.broad_origin = cacao.broad_origin[cacao.broad_origin.apply (lambda x: type(x) == str)]\n",
        "#cacao.broad_origin = cacao.broad_origin[cacao.broad_origin.apply(hasletornum)]\n",
        " \n",
        "print (f\"Number of origins in the dataset: {cacao.broad_origin.nunique()}\\n\")\n",
        "print (f\"Number of origins that occur > 10 times: {(cacao.broad_origin.value_counts() > 10).sum()}\\n\")\n",
        "pd.DataFrame(cacao.broad_origin.value_counts()) #.head(97)"
      ],
      "execution_count": 19,
      "outputs": [
        {
          "output_type": "stream",
          "text": [
            "Number of origins in the dataset: 96\n",
            "\n",
            "Number of origins that occur > 10 times: 25\n",
            "\n"
          ],
          "name": "stdout"
        },
        {
          "output_type": "execute_result",
          "data": {
            "text/html": [
              "<div>\n",
              "<style scoped>\n",
              "    .dataframe tbody tr th:only-of-type {\n",
              "        vertical-align: middle;\n",
              "    }\n",
              "\n",
              "    .dataframe tbody tr th {\n",
              "        vertical-align: top;\n",
              "    }\n",
              "\n",
              "    .dataframe thead th {\n",
              "        text-align: right;\n",
              "    }\n",
              "</style>\n",
              "<table border=\"1\" class=\"dataframe\">\n",
              "  <thead>\n",
              "    <tr style=\"text-align: right;\">\n",
              "      <th></th>\n",
              "      <th>broad_origin</th>\n",
              "    </tr>\n",
              "  </thead>\n",
              "  <tbody>\n",
              "    <tr>\n",
              "      <th>Venezuela</th>\n",
              "      <td>214</td>\n",
              "    </tr>\n",
              "    <tr>\n",
              "      <th>Ecuador</th>\n",
              "      <td>193</td>\n",
              "    </tr>\n",
              "    <tr>\n",
              "      <th>DomincanRepublic</th>\n",
              "      <td>166</td>\n",
              "    </tr>\n",
              "    <tr>\n",
              "      <th>Peru</th>\n",
              "      <td>166</td>\n",
              "    </tr>\n",
              "    <tr>\n",
              "      <th>Madagascar</th>\n",
              "      <td>145</td>\n",
              "    </tr>\n",
              "    <tr>\n",
              "      <th>...</th>\n",
              "      <td>...</td>\n",
              "    </tr>\n",
              "    <tr>\n",
              "      <th>PapuaNewGuinea,Vanuatu,Madagascar</th>\n",
              "      <td>1</td>\n",
              "    </tr>\n",
              "    <tr>\n",
              "      <th>Venezuela,Java</th>\n",
              "      <td>1</td>\n",
              "    </tr>\n",
              "    <tr>\n",
              "      <th>Africa,Carribean,C.Am.</th>\n",
              "      <td>1</td>\n",
              "    </tr>\n",
              "    <tr>\n",
              "      <th>Venezuela,Carribean</th>\n",
              "      <td>1</td>\n",
              "    </tr>\n",
              "    <tr>\n",
              "      <th>Peru,Madagascar,DomincanRepublic</th>\n",
              "      <td>1</td>\n",
              "    </tr>\n",
              "  </tbody>\n",
              "</table>\n",
              "<p>96 rows × 1 columns</p>\n",
              "</div>"
            ],
            "text/plain": [
              "                                   broad_origin\n",
              "Venezuela                                   214\n",
              "Ecuador                                     193\n",
              "DomincanRepublic                            166\n",
              "Peru                                        166\n",
              "Madagascar                                  145\n",
              "...                                         ...\n",
              "PapuaNewGuinea,Vanuatu,Madagascar             1\n",
              "Venezuela,Java                                1\n",
              "Africa,Carribean,C.Am.                        1\n",
              "Venezuela,Carribean                           1\n",
              "Peru,Madagascar,DomincanRepublic              1\n",
              "\n",
              "[96 rows x 1 columns]"
            ]
          },
          "metadata": {
            "tags": []
          },
          "execution_count": 19
        }
      ]
    },
    {
      "cell_type": "markdown",
      "metadata": {
        "id": "fFRxaY0BvvMY"
      },
      "source": [
        "#2.5. Корреляционный анализ"
      ]
    },
    {
      "cell_type": "code",
      "metadata": {
        "colab": {
          "base_uri": "https://localhost:8080/",
          "height": 726
        },
        "id": "7lKEb3PYvxle",
        "outputId": "cfa366d3-8e63-482f-e965-1d7ea65deb5e"
      },
      "source": [
        "sns.pairplot(cacao, kind = 'reg');"
      ],
      "execution_count": 35,
      "outputs": [
        {
          "output_type": "display_data",
          "data": {
            "image/png": "[encoded data removed]",
            "text/plain": [
              "<Figure size 720x720 with 20 Axes>"
            ]
          },
          "metadata": {
            "tags": [],
            "needs_background": "light"
          }
        }
      ]
    },
    {
      "cell_type": "code",
      "metadata": {
        "colab": {
          "base_uri": "https://localhost:8080/",
          "height": 175
        },
        "id": "nf0REA0wxzpR",
        "outputId": "e44bba90-4ca1-4724-e40e-b40f0ed48188"
      },
      "source": [
        "cacao.corr()"
      ],
      "execution_count": 21,
      "outputs": [
        {
          "output_type": "execute_result",
          "data": {
            "text/html": [
              "<div>\n",
              "<style scoped>\n",
              "    .dataframe tbody tr th:only-of-type {\n",
              "        vertical-align: middle;\n",
              "    }\n",
              "\n",
              "    .dataframe tbody tr th {\n",
              "        vertical-align: top;\n",
              "    }\n",
              "\n",
              "    .dataframe thead th {\n",
              "        text-align: right;\n",
              "    }\n",
              "</style>\n",
              "<table border=\"1\" class=\"dataframe\">\n",
              "  <thead>\n",
              "    <tr style=\"text-align: right;\">\n",
              "      <th></th>\n",
              "      <th>ref</th>\n",
              "      <th>review_date</th>\n",
              "      <th>cocoa_percent</th>\n",
              "      <th>rating</th>\n",
              "    </tr>\n",
              "  </thead>\n",
              "  <tbody>\n",
              "    <tr>\n",
              "      <th>ref</th>\n",
              "      <td>1.000000</td>\n",
              "      <td>0.985076</td>\n",
              "      <td>0.019591</td>\n",
              "      <td>-0.009183</td>\n",
              "    </tr>\n",
              "    <tr>\n",
              "      <th>review_date</th>\n",
              "      <td>0.985076</td>\n",
              "      <td>1.000000</td>\n",
              "      <td>0.011111</td>\n",
              "      <td>-0.013980</td>\n",
              "    </tr>\n",
              "    <tr>\n",
              "      <th>cocoa_percent</th>\n",
              "      <td>0.019591</td>\n",
              "      <td>0.011111</td>\n",
              "      <td>1.000000</td>\n",
              "      <td>-0.030687</td>\n",
              "    </tr>\n",
              "    <tr>\n",
              "      <th>rating</th>\n",
              "      <td>-0.009183</td>\n",
              "      <td>-0.013980</td>\n",
              "      <td>-0.030687</td>\n",
              "      <td>1.000000</td>\n",
              "    </tr>\n",
              "  </tbody>\n",
              "</table>\n",
              "</div>"
            ],
            "text/plain": [
              "                    ref  review_date  cocoa_percent    rating\n",
              "ref            1.000000     0.985076       0.019591 -0.009183\n",
              "review_date    0.985076     1.000000       0.011111 -0.013980\n",
              "cocoa_percent  0.019591     0.011111       1.000000 -0.030687\n",
              "rating        -0.009183    -0.013980      -0.030687  1.000000"
            ]
          },
          "metadata": {
            "tags": []
          },
          "execution_count": 21
        }
      ]
    },
    {
      "cell_type": "markdown",
      "metadata": {
        "id": "235RboJX4oGd"
      },
      "source": [
        "#2.6. Анализ номинативных переменных"
      ]
    },
    {
      "cell_type": "code",
      "metadata": {
        "id": "AUZ9OGjQ4hEH",
        "outputId": "e1c35d06-39c2-44ad-e2bf-5a78d65f8a0d",
        "colab": {
          "base_uri": "https://localhost:8080/",
          "height": 1000
        }
      },
      "source": [
        "for col in ['company', 'specific_origin', 'company_location', 'bean_type', 'broad_origin']:\n",
        "    get_boxplot(col)"
      ],
      "execution_count": 48,
      "outputs": [
        {
          "output_type": "display_data",
          "data": {
            "image/png": "[encoded data removed]",
            "text/plain": [
              "<Figure size 1008x288 with 1 Axes>"
            ]
          },
          "metadata": {
            "tags": [],
            "needs_background": "light"
          }
        },
        {
          "output_type": "display_data",
          "data": {
            "image/png": "[encoded data removed]",
            "text/plain": [
              "<Figure size 1008x288 with 1 Axes>"
            ]
          },
          "metadata": {
            "tags": [],
            "needs_background": "light"
          }
        },
        {
          "output_type": "display_data",
          "data": {
            "image/png": "[encoded data removed]",
            "text/plain": [
              "<Figure size 1008x288 with 1 Axes>"
            ]
          },
          "metadata": {
            "tags": [],
            "needs_background": "light"
          }
        },
        {
          "output_type": "display_data",
          "data": {
            "image/png": "[encoded data removed]",
            "text/plain": [
              "<Figure size 1008x288 with 1 Axes>"
            ]
          },
          "metadata": {
            "tags": [],
            "needs_background": "light"
          }
        },
        {
          "output_type": "display_data",
          "data": {
            "image/png": "[encoded data removed]",
            "text/plain": [
              "<Figure size 1008x288 with 1 Axes>"
            ]
          },
          "metadata": {
            "tags": [],
            "needs_background": "light"
          }
        }
      ]
    }
  ]
}