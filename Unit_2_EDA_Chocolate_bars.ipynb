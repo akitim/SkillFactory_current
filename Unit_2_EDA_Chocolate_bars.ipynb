{
  "nbformat": 4,
  "nbformat_minor": 0,
  "metadata": {
    "colab": {
      "name": "Unit_2_EDA_Chocolate bars.ipynb",
      "provenance": [],
      "collapsed_sections": [],
      "include_colab_link": true
    },
    "kernelspec": {
      "name": "python3",
      "display_name": "Python 3"
    },
    "language_info": {
      "name": "python"
    }
  },
  "cells": [
    {
      "cell_type": "markdown",
      "metadata": {
        "id": "view-in-github",
        "colab_type": "text"
      },
      "source": [
        "<a href=\"https://colab.research.google.com/github/akitim/SkillFactory_current/blob/main/Unit_2_EDA_Chocolate_bars.ipynb\" target=\"_parent\"><img src=\"https://colab.research.google.com/assets/colab-badge.svg\" alt=\"Open In Colab\"/></a>"
      ]
    },
    {
      "cell_type": "markdown",
      "metadata": {
        "id": "HANmMSDYR9nz"
      },
      "source": [
        "#Preprocess"
      ]
    },
    {
      "cell_type": "code",
      "metadata": {
        "id": "xU2D-QrL0rMq",
        "colab": {
          "base_uri": "https://localhost:8080/"
        },
        "outputId": "dfbb3694-065b-43d0-c406-711afd9d3246"
      },
      "source": [
        "import pandas as pd\n",
        "import matplotlib.pyplot as plt\n",
        "import seaborn as sns\n",
        "from itertools import combinations\n",
        "from scipy.stats import ttest_ind\n",
        " \n",
        "pd.set_option('display.max_rows', 50) # показывать больше строк\n",
        "pd.set_option('display.max_columns', 50) # показывать больше колонок\n",
        " \n",
        "import sys\n",
        "from google.colab import drive\n",
        "drive.mount('/content/gdrive', force_remount=True)\n",
        "sys.path.clear\n",
        "sys.path.append('/content/gdrive/MyDrive/SkillFactory')\n",
        " \n",
        "def hasletornum(s):\n",
        "    ls = [ch for ch in s]\n",
        "    return any(list(map(lambda x: x.isalnum(), ls)))    \n",
        "#cacao = pd.read_csv('/content/gdrive/MyDrive/SkillFactory/cacao_flavors.csv')"
      ],
      "execution_count": 1,
      "outputs": [
        {
          "output_type": "stream",
          "text": [
            "Mounted at /content/gdrive\n"
          ],
          "name": "stdout"
        }
      ]
    },
    {
      "cell_type": "code",
      "metadata": {
        "colab": {
          "base_uri": "https://localhost:8080/",
          "height": 78
        },
        "id": "KKRTWXFN1BsR",
        "outputId": "6eb3d574-2b6a-4210-f765-e4ed287cbfc9"
      },
      "source": [
        "cacao = pd.read_csv('/content/gdrive/MyDrive/SkillFactory/cacao_flavors.csv')\n",
        "cacao.columns = ['bar_id','company','specific_origin','ref','review_date','cocoa_percent','company_location','rating','bean_type','bean_origin']\n",
        "cacao.sample()"
      ],
      "execution_count": 2,
      "outputs": [
        {
          "output_type": "execute_result",
          "data": {
            "text/html": [
              "<div>\n",
              "<style scoped>\n",
              "    .dataframe tbody tr th:only-of-type {\n",
              "        vertical-align: middle;\n",
              "    }\n",
              "\n",
              "    .dataframe tbody tr th {\n",
              "        vertical-align: top;\n",
              "    }\n",
              "\n",
              "    .dataframe thead th {\n",
              "        text-align: right;\n",
              "    }\n",
              "</style>\n",
              "<table border=\"1\" class=\"dataframe\">\n",
              "  <thead>\n",
              "    <tr style=\"text-align: right;\">\n",
              "      <th></th>\n",
              "      <th>bar_id</th>\n",
              "      <th>company</th>\n",
              "      <th>specific_origin</th>\n",
              "      <th>ref</th>\n",
              "      <th>review_date</th>\n",
              "      <th>cocoa_percent</th>\n",
              "      <th>company_location</th>\n",
              "      <th>rating</th>\n",
              "      <th>bean_type</th>\n",
              "      <th>bean_origin</th>\n",
              "    </tr>\n",
              "  </thead>\n",
              "  <tbody>\n",
              "    <tr>\n",
              "      <th>1271</th>\n",
              "      <td>1272</td>\n",
              "      <td>Pascha</td>\n",
              "      <td>Peru</td>\n",
              "      <td>1137</td>\n",
              "      <td>2013</td>\n",
              "      <td>70%</td>\n",
              "      <td>Peru</td>\n",
              "      <td>2.75</td>\n",
              "      <td></td>\n",
              "      <td>Peru</td>\n",
              "    </tr>\n",
              "  </tbody>\n",
              "</table>\n",
              "</div>"
            ],
            "text/plain": [
              "      bar_id company specific_origin   ref  review_date cocoa_percent  \\\n",
              "1271    1272  Pascha            Peru  1137         2013           70%   \n",
              "\n",
              "     company_location  rating bean_type bean_origin  \n",
              "1271             Peru    2.75                  Peru  "
            ]
          },
          "metadata": {
            "tags": []
          },
          "execution_count": 2
        }
      ]
    },
    {
      "cell_type": "markdown",
      "metadata": {
        "id": "lgdwMQOlbKns"
      },
      "source": [
        "#bar_id"
      ]
    },
    {
      "cell_type": "code",
      "metadata": {
        "colab": {
          "base_uri": "https://localhost:8080/",
          "height": 299
        },
        "id": "edMniVqLbuf3",
        "outputId": "968a48c0-31b5-4948-90c3-36b2cd0ade03"
      },
      "source": [
        " print(f\"Number of unique bar_id's: {cacao.bar_id.nunique()}\")\n",
        "plt.plot(cacao.bar_id)"
      ],
      "execution_count": 3,
      "outputs": [
        {
          "output_type": "stream",
          "text": [
            "Number of unique bar_id's: 1795\n"
          ],
          "name": "stdout"
        },
        {
          "output_type": "execute_result",
          "data": {
            "text/plain": [
              "[<matplotlib.lines.Line2D at 0x7efd26ab8450>]"
            ]
          },
          "metadata": {
            "tags": []
          },
          "execution_count": 3
        },
        {
          "output_type": "display_data",
          "data": {
            "image/png": "[encoded data removed]",
            "text/plain": [
              "<Figure size 432x288 with 1 Axes>"
            ]
          },
          "metadata": {
            "tags": [],
            "needs_background": "light"
          }
        }
      ]
    },
    {
      "cell_type": "code",
      "metadata": {
        "colab": {
          "base_uri": "https://localhost:8080/",
          "height": 78
        },
        "id": "E8rAHHoVeCNt",
        "outputId": "45f6e2c1-ce59-458c-bd45-cd16e6506827"
      },
      "source": [
        "cacao.drop(['bar_id'], inplace = True, axis = 1)\n",
        "cacao.sample()"
      ],
      "execution_count": 4,
      "outputs": [
        {
          "output_type": "execute_result",
          "data": {
            "text/html": [
              "<div>\n",
              "<style scoped>\n",
              "    .dataframe tbody tr th:only-of-type {\n",
              "        vertical-align: middle;\n",
              "    }\n",
              "\n",
              "    .dataframe tbody tr th {\n",
              "        vertical-align: top;\n",
              "    }\n",
              "\n",
              "    .dataframe thead th {\n",
              "        text-align: right;\n",
              "    }\n",
              "</style>\n",
              "<table border=\"1\" class=\"dataframe\">\n",
              "  <thead>\n",
              "    <tr style=\"text-align: right;\">\n",
              "      <th></th>\n",
              "      <th>company</th>\n",
              "      <th>specific_origin</th>\n",
              "      <th>ref</th>\n",
              "      <th>review_date</th>\n",
              "      <th>cocoa_percent</th>\n",
              "      <th>company_location</th>\n",
              "      <th>rating</th>\n",
              "      <th>bean_type</th>\n",
              "      <th>bean_origin</th>\n",
              "    </tr>\n",
              "  </thead>\n",
              "  <tbody>\n",
              "    <tr>\n",
              "      <th>894</th>\n",
              "      <td>Kallari (Ecuatoriana)</td>\n",
              "      <td>Diego 60hr/ W.F. blend prototype</td>\n",
              "      <td>248</td>\n",
              "      <td>2008</td>\n",
              "      <td>85%</td>\n",
              "      <td>Ecuador</td>\n",
              "      <td>3.0</td>\n",
              "      <td></td>\n",
              "      <td>Ecuador</td>\n",
              "    </tr>\n",
              "  </tbody>\n",
              "</table>\n",
              "</div>"
            ],
            "text/plain": [
              "                   company                   specific_origin  ref  \\\n",
              "894  Kallari (Ecuatoriana)  Diego 60hr/ W.F. blend prototype  248   \n",
              "\n",
              "     review_date cocoa_percent company_location  rating bean_type bean_origin  \n",
              "894         2008           85%          Ecuador     3.0               Ecuador  "
            ]
          },
          "metadata": {
            "tags": []
          },
          "execution_count": 4
        }
      ]
    },
    {
      "cell_type": "markdown",
      "metadata": {
        "id": "HSsXBfJuhcAd"
      },
      "source": [
        "#Задание 2.3.1"
      ]
    },
    {
      "cell_type": "code",
      "metadata": {
        "colab": {
          "base_uri": "https://localhost:8080/"
        },
        "id": "HNJhLcEBhVm_",
        "outputId": "2f5a7e52-db32-409c-d983-1a0dbd5b4608"
      },
      "source": [
        "print (f\"Number of companies in the dataset + empty: {cacao.company.nunique()}\")\n",
        " \n",
        "cacao[cacao.company.apply (lambda x: hasletornum(x))].company.value_counts() #index.nunique()"
      ],
      "execution_count": 5,
      "outputs": [
        {
          "output_type": "stream",
          "text": [
            "Number of companies in the dataset + empty: 408\n"
          ],
          "name": "stdout"
        },
        {
          "output_type": "execute_result",
          "data": {
            "text/plain": [
              "Soma                    45\n",
              "Bonnat                  26\n",
              "Fresco                  26\n",
              "Pralus                  25\n",
              "Domori                  22\n",
              "                        ..\n",
              "Loiza                    1\n",
              "Bronx Grrl Chocolate     1\n",
              "Kerchner                 1\n",
              "Chequessett              1\n",
              "La Pepa de Oro           1\n",
              "Name: company, Length: 407, dtype: int64"
            ]
          },
          "metadata": {
            "tags": []
          },
          "execution_count": 5
        }
      ]
    },
    {
      "cell_type": "code",
      "metadata": {
        "id": "dpKWPm1WnZdx"
      },
      "source": [
        "#cacao.company = cacao.company.apply(lambda x: None if x.strip() == '' else x)\n",
        "cacao.company = cacao.company.apply(lambda x: None if not(hasletornum(x)) else x)"
      ],
      "execution_count": 6,
      "outputs": []
    },
    {
      "cell_type": "code",
      "metadata": {
        "colab": {
          "base_uri": "https://localhost:8080/",
          "height": 816
        },
        "id": "44UfQ5AIrejY",
        "outputId": "564063c2-e443-4118-bc10-1603c7fb8451"
      },
      "source": [
        "display(pd.DataFrame(cacao.company.value_counts()))\n",
        "print(\"Значений, встретившихся в столбце более 10 раз:\"#Число 10 взято для ориентира, можно брать другое\n",
        "      , (cacao.company.value_counts()>10).sum())\n",
        "#cacao.loc[:, ['company']].info()\n",
        "cacao.loc[:, ['company']]"
      ],
      "execution_count": 7,
      "outputs": [
        {
          "output_type": "display_data",
          "data": {
            "text/html": [
              "<div>\n",
              "<style scoped>\n",
              "    .dataframe tbody tr th:only-of-type {\n",
              "        vertical-align: middle;\n",
              "    }\n",
              "\n",
              "    .dataframe tbody tr th {\n",
              "        vertical-align: top;\n",
              "    }\n",
              "\n",
              "    .dataframe thead th {\n",
              "        text-align: right;\n",
              "    }\n",
              "</style>\n",
              "<table border=\"1\" class=\"dataframe\">\n",
              "  <thead>\n",
              "    <tr style=\"text-align: right;\">\n",
              "      <th></th>\n",
              "      <th>company</th>\n",
              "    </tr>\n",
              "  </thead>\n",
              "  <tbody>\n",
              "    <tr>\n",
              "      <th>Soma</th>\n",
              "      <td>45</td>\n",
              "    </tr>\n",
              "    <tr>\n",
              "      <th>Bonnat</th>\n",
              "      <td>26</td>\n",
              "    </tr>\n",
              "    <tr>\n",
              "      <th>Fresco</th>\n",
              "      <td>26</td>\n",
              "    </tr>\n",
              "    <tr>\n",
              "      <th>Pralus</th>\n",
              "      <td>25</td>\n",
              "    </tr>\n",
              "    <tr>\n",
              "      <th>Domori</th>\n",
              "      <td>22</td>\n",
              "    </tr>\n",
              "    <tr>\n",
              "      <th>...</th>\n",
              "      <td>...</td>\n",
              "    </tr>\n",
              "    <tr>\n",
              "      <th>Loiza</th>\n",
              "      <td>1</td>\n",
              "    </tr>\n",
              "    <tr>\n",
              "      <th>Bronx Grrl Chocolate</th>\n",
              "      <td>1</td>\n",
              "    </tr>\n",
              "    <tr>\n",
              "      <th>Kerchner</th>\n",
              "      <td>1</td>\n",
              "    </tr>\n",
              "    <tr>\n",
              "      <th>Chequessett</th>\n",
              "      <td>1</td>\n",
              "    </tr>\n",
              "    <tr>\n",
              "      <th>La Pepa de Oro</th>\n",
              "      <td>1</td>\n",
              "    </tr>\n",
              "  </tbody>\n",
              "</table>\n",
              "<p>407 rows × 1 columns</p>\n",
              "</div>"
            ],
            "text/plain": [
              "                      company\n",
              "Soma                       45\n",
              "Bonnat                     26\n",
              "Fresco                     26\n",
              "Pralus                     25\n",
              "Domori                     22\n",
              "...                       ...\n",
              "Loiza                       1\n",
              "Bronx Grrl Chocolate        1\n",
              "Kerchner                    1\n",
              "Chequessett                 1\n",
              "La Pepa de Oro              1\n",
              "\n",
              "[407 rows x 1 columns]"
            ]
          },
          "metadata": {
            "tags": []
          }
        },
        {
          "output_type": "stream",
          "text": [
            "Значений, встретившихся в столбце более 10 раз: 30\n"
          ],
          "name": "stdout"
        },
        {
          "output_type": "execute_result",
          "data": {
            "text/html": [
              "<div>\n",
              "<style scoped>\n",
              "    .dataframe tbody tr th:only-of-type {\n",
              "        vertical-align: middle;\n",
              "    }\n",
              "\n",
              "    .dataframe tbody tr th {\n",
              "        vertical-align: top;\n",
              "    }\n",
              "\n",
              "    .dataframe thead th {\n",
              "        text-align: right;\n",
              "    }\n",
              "</style>\n",
              "<table border=\"1\" class=\"dataframe\">\n",
              "  <thead>\n",
              "    <tr style=\"text-align: right;\">\n",
              "      <th></th>\n",
              "      <th>company</th>\n",
              "    </tr>\n",
              "  </thead>\n",
              "  <tbody>\n",
              "    <tr>\n",
              "      <th>0</th>\n",
              "      <td>A. Morin</td>\n",
              "    </tr>\n",
              "    <tr>\n",
              "      <th>1</th>\n",
              "      <td>A. Morin</td>\n",
              "    </tr>\n",
              "    <tr>\n",
              "      <th>2</th>\n",
              "      <td>A. Morin</td>\n",
              "    </tr>\n",
              "    <tr>\n",
              "      <th>3</th>\n",
              "      <td>A. Morin</td>\n",
              "    </tr>\n",
              "    <tr>\n",
              "      <th>4</th>\n",
              "      <td>A. Morin</td>\n",
              "    </tr>\n",
              "    <tr>\n",
              "      <th>...</th>\n",
              "      <td>...</td>\n",
              "    </tr>\n",
              "    <tr>\n",
              "      <th>1790</th>\n",
              "      <td>Zotter</td>\n",
              "    </tr>\n",
              "    <tr>\n",
              "      <th>1791</th>\n",
              "      <td>Zotter</td>\n",
              "    </tr>\n",
              "    <tr>\n",
              "      <th>1792</th>\n",
              "      <td>Zotter</td>\n",
              "    </tr>\n",
              "    <tr>\n",
              "      <th>1793</th>\n",
              "      <td>Zotter</td>\n",
              "    </tr>\n",
              "    <tr>\n",
              "      <th>1794</th>\n",
              "      <td>Zotter</td>\n",
              "    </tr>\n",
              "  </tbody>\n",
              "</table>\n",
              "<p>1795 rows × 1 columns</p>\n",
              "</div>"
            ],
            "text/plain": [
              "       company\n",
              "0     A. Morin\n",
              "1     A. Morin\n",
              "2     A. Morin\n",
              "3     A. Morin\n",
              "4     A. Morin\n",
              "...        ...\n",
              "1790    Zotter\n",
              "1791    Zotter\n",
              "1792    Zotter\n",
              "1793    Zotter\n",
              "1794    Zotter\n",
              "\n",
              "[1795 rows x 1 columns]"
            ]
          },
          "metadata": {
            "tags": []
          },
          "execution_count": 7
        }
      ]
    },
    {
      "cell_type": "markdown",
      "metadata": {
        "id": "hHoS798utWMS"
      },
      "source": [
        "#Задание 2.3.2"
      ]
    },
    {
      "cell_type": "code",
      "metadata": {
        "id": "Ls1yggvhtZ8i",
        "colab": {
          "base_uri": "https://localhost:8080/",
          "height": 452
        },
        "outputId": "9abdfe99-1280-4dcd-84b8-8affac082ac8"
      },
      "source": [
        "#cacao_ = cacao.copy()\n",
        "print (\"bean_origin data types:\\n\")\n",
        "display (pd.DataFrame(cacao.bean_origin.apply(type).value_counts()))\n",
        "print ()\n",
        " \n",
        "valid_bo = cacao.bean_origin[cacao.bean_origin.apply (lambda x: type(x) == str)]\n",
        "valid_bo = valid_bo[valid_bo.apply(hasletornum)]\n",
        " \n",
        "print (f\"Number of origins in the dataset: {valid_bo.nunique()}\\n\")\n",
        "valid_bo.value_counts()"
      ],
      "execution_count": 9,
      "outputs": [
        {
          "output_type": "stream",
          "text": [
            "bean_origin data types:\n",
            "\n"
          ],
          "name": "stdout"
        },
        {
          "output_type": "display_data",
          "data": {
            "text/html": [
              "<div>\n",
              "<style scoped>\n",
              "    .dataframe tbody tr th:only-of-type {\n",
              "        vertical-align: middle;\n",
              "    }\n",
              "\n",
              "    .dataframe tbody tr th {\n",
              "        vertical-align: top;\n",
              "    }\n",
              "\n",
              "    .dataframe thead th {\n",
              "        text-align: right;\n",
              "    }\n",
              "</style>\n",
              "<table border=\"1\" class=\"dataframe\">\n",
              "  <thead>\n",
              "    <tr style=\"text-align: right;\">\n",
              "      <th></th>\n",
              "      <th>bean_origin</th>\n",
              "    </tr>\n",
              "  </thead>\n",
              "  <tbody>\n",
              "    <tr>\n",
              "      <th>&lt;class 'str'&gt;</th>\n",
              "      <td>1794</td>\n",
              "    </tr>\n",
              "    <tr>\n",
              "      <th>&lt;class 'float'&gt;</th>\n",
              "      <td>1</td>\n",
              "    </tr>\n",
              "  </tbody>\n",
              "</table>\n",
              "</div>"
            ],
            "text/plain": [
              "                 bean_origin\n",
              "<class 'str'>           1794\n",
              "<class 'float'>            1"
            ]
          },
          "metadata": {
            "tags": []
          }
        },
        {
          "output_type": "stream",
          "text": [
            "\n",
            "Number of origins in the dataset: 99\n",
            "\n"
          ],
          "name": "stdout"
        },
        {
          "output_type": "execute_result",
          "data": {
            "text/plain": [
              "Venezuela                       214\n",
              "Ecuador                         193\n",
              "Peru                            165\n",
              "Madagascar                      145\n",
              "Dominican Republic              141\n",
              "                               ... \n",
              "Cameroon                          1\n",
              "Ven., Indonesia, Ecuad.           1\n",
              "DR, Ecuador, Peru                 1\n",
              "Guat., D.R., Peru, Mad., PNG      1\n",
              "Suriname                          1\n",
              "Name: bean_origin, Length: 99, dtype: int64"
            ]
          },
          "metadata": {
            "tags": []
          },
          "execution_count": 9
        }
      ]
    },
    {
      "cell_type": "code",
      "metadata": {
        "colab": {
          "base_uri": "https://localhost:8080/",
          "height": 422
        },
        "id": "7c2oec1oP1h6",
        "outputId": "8a7441ce-708c-4eaf-b01d-c9cba8f335a9"
      },
      "source": [
        "#cacao_ = cacao.copy()\n",
        "print (\"specific_origin data types:\\n\")\n",
        "display (pd.DataFrame(cacao.specific_origin.apply(type).value_counts()))\n",
        "print ()\n",
        " \n",
        "valid_so = cacao.specific_origin[cacao.specific_origin.apply (lambda x: type(x) == str)]\n",
        "valid_so = valid_so[valid_so.apply(hasletornum)]\n",
        " \n",
        "print (f\"Number of origins in the dataset: {valid_so.nunique()}\\n\")\n",
        "valid_so.value_counts()"
      ],
      "execution_count": 11,
      "outputs": [
        {
          "output_type": "stream",
          "text": [
            "specific_origin data types:\n",
            "\n"
          ],
          "name": "stdout"
        },
        {
          "output_type": "display_data",
          "data": {
            "text/html": [
              "<div>\n",
              "<style scoped>\n",
              "    .dataframe tbody tr th:only-of-type {\n",
              "        vertical-align: middle;\n",
              "    }\n",
              "\n",
              "    .dataframe tbody tr th {\n",
              "        vertical-align: top;\n",
              "    }\n",
              "\n",
              "    .dataframe thead th {\n",
              "        text-align: right;\n",
              "    }\n",
              "</style>\n",
              "<table border=\"1\" class=\"dataframe\">\n",
              "  <thead>\n",
              "    <tr style=\"text-align: right;\">\n",
              "      <th></th>\n",
              "      <th>specific_origin</th>\n",
              "    </tr>\n",
              "  </thead>\n",
              "  <tbody>\n",
              "    <tr>\n",
              "      <th>&lt;class 'str'&gt;</th>\n",
              "      <td>1795</td>\n",
              "    </tr>\n",
              "  </tbody>\n",
              "</table>\n",
              "</div>"
            ],
            "text/plain": [
              "               specific_origin\n",
              "<class 'str'>             1795"
            ]
          },
          "metadata": {
            "tags": []
          }
        },
        {
          "output_type": "stream",
          "text": [
            "\n",
            "Number of origins in the dataset: 1012\n",
            "\n"
          ],
          "name": "stdout"
        },
        {
          "output_type": "execute_result",
          "data": {
            "text/plain": [
              "Madagascar            55\n",
              "Peru                  44\n",
              "Ecuador               39\n",
              "Dominican Republic    33\n",
              "Venezuela             21\n",
              "                      ..\n",
              "Coopertiva Amazona     1\n",
              "Napa                   1\n",
              "Papua Kerafat          1\n",
              "Pangoa, w/ nibs        1\n",
              "Acopagro               1\n",
              "Name: specific_origin, Length: 1012, dtype: int64"
            ]
          },
          "metadata": {
            "tags": []
          },
          "execution_count": 11
        }
      ]
    },
    {
      "cell_type": "markdown",
      "metadata": {
        "id": "H1eXZwdTxRT1"
      },
      "source": [
        "Задание 2.3.3"
      ]
    },
    {
      "cell_type": "code",
      "metadata": {
        "id": "b71mXlXwxWJf",
        "colab": {
          "base_uri": "https://localhost:8080/"
        },
        "outputId": "49148768-8f9b-4599-c610-bf4749dab123"
      },
      "source": [
        " \n",
        "print(f\"Number of origins met more than 10 times in the dataset: {(valid_so.value_counts() > 10).sum()}\")"
      ],
      "execution_count": 12,
      "outputs": [
        {
          "output_type": "stream",
          "text": [
            "Number of origins met more than 10 times in the dataset: 15\n"
          ],
          "name": "stdout"
        }
      ]
    },
    {
      "cell_type": "markdown",
      "metadata": {
        "id": "cXaA5gz2brKx"
      },
      "source": [
        "#ref"
      ]
    },
    {
      "cell_type": "code",
      "metadata": {
        "id": "qD6bnzGQbljB",
        "colab": {
          "base_uri": "https://localhost:8080/",
          "height": 417
        },
        "outputId": "5532ee21-1bd0-4e9c-bbe2-fa928330bacd"
      },
      "source": [
        "cacao.ref.hist()\n",
        "cacao.ref.describe()"
      ],
      "execution_count": 21,
      "outputs": [
        {
          "output_type": "execute_result",
          "data": {
            "text/plain": [
              "count    1795.000000\n",
              "mean     1035.904735\n",
              "std       552.886365\n",
              "min         5.000000\n",
              "25%       576.000000\n",
              "50%      1069.000000\n",
              "75%      1502.000000\n",
              "max      1952.000000\n",
              "Name: ref, dtype: float64"
            ]
          },
          "metadata": {
            "tags": []
          },
          "execution_count": 21
        },
        {
          "output_type": "display_data",
          "data": {
            "image/png": "[encoded data removed]",
            "text/plain": [
              "<Figure size 432x288 with 1 Axes>"
            ]
          },
          "metadata": {
            "tags": [],
            "needs_background": "light"
          }
        }
      ]
    },
    {
      "cell_type": "code",
      "metadata": {
        "id": "TrCCK-N88Z5c",
        "outputId": "7ac3162d-db0b-4f8e-ccc0-35e59bf48b5b",
        "colab": {
          "base_uri": "https://localhost:8080/",
          "height": 282
        }
      },
      "source": [
        "print (' \n",
        "cacao.boxplot(['ref'])"
      ],
      "execution_count": 25,
      "outputs": [
        {
          "output_type": "execute_result",
          "data": {
            "text/plain": [
              "<matplotlib.axes._subplots.AxesSubplot at 0x7efd2537e450>"
            ]
          },
          "metadata": {
            "tags": []
          },
          "execution_count": 25
        },
        {
          "output_type": "display_data",
          "data": {
            "image/png": "[encoded data removed]",
            "text/plain": [
              "<Figure size 432x288 with 1 Axes>"
            ]
          },
          "metadata": {
            "tags": [],
            "needs_background": "light"
          }
        }
      ]
    }
  ]
}