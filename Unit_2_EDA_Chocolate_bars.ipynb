{
  "nbformat": 4,
  "nbformat_minor": 0,
  "metadata": {
    "colab": {
      "name": "Unit_2_EDA_Chocolate bars.ipynb",
      "provenance": [],
      "collapsed_sections": [],
      "toc_visible": true,
      "include_colab_link": true
    },
    "kernelspec": {
      "name": "python3",
      "display_name": "Python 3"
    },
    "language_info": {
      "name": "python"
    }
  },
  "cells": [
    {
      "cell_type": "markdown",
      "metadata": {
        "id": "view-in-github",
        "colab_type": "text"
      },
      "source": [
        "<a href=\"https://colab.research.google.com/github/akitim/SkillFactory_current/blob/main/Unit_2_EDA_Chocolate_bars.ipynb\" target=\"_parent\"><img src=\"https://colab.research.google.com/assets/colab-badge.svg\" alt=\"Open In Colab\"/></a>"
      ]
    },
    {
      "cell_type": "markdown",
      "metadata": {
        "id": "HANmMSDYR9nz"
      },
      "source": [
        "#Preprocess"
      ]
    },
    {
      "cell_type": "code",
      "metadata": {
        "id": "xU2D-QrL0rMq",
        "colab": {
          "base_uri": "https://localhost:8080/"
        },
        "outputId": "a12397cb-b2e9-486c-f67b-77cf4fe25d28"
      },
      "source": [
        "import pandas as pd\n",
        "import matplotlib.pyplot as plt\n",
        "import seaborn as sns\n",
        "from itertools import combinations\n",
        "from scipy.stats import ttest_ind\n",
        " \n",
        "pd.set_option('display.max_rows', 50) # показывать больше строк\n",
        "pd.set_option('display.max_columns', 50) # показывать больше колонок\n",
        " \n",
        "import sys\n",
        "from google.colab import drive\n",
        "drive.mount('/content/gdrive', force_remount=True)\n",
        "sys.path.clear\n",
        "sys.path.append('/content/gdrive/MyDrive/SkillFactory')\n",
        " \n",
        "def hasletornum(s):\n",
        "    ls = [ch for ch in s]\n",
        "    return any(list(map(lambda x: x.isalnum(), ls)))    \n",
        "#cacao = pd.read_csv('/content/gdrive/MyDrive/SkillFactory/cacao_flavors.csv')\n",
        "\n",
        "def fix_countries(x):\n",
        "    if pd.isnull(x):\n",
        "        return x\n",
        "    if x == 'nan':\n",
        "        return None\n",
        "    x = x.replace(' ', '')\n",
        "    x = x.replace('/', ',') # Venezuela/ Ghana\n",
        "    x = x.replace('&', ',')\n",
        "    if '(' in x:\n",
        "        x = x[:x.find('(')] #Peru(SMartin,Pangoa,nacional)\n",
        "    x = x.replace('Guat.', 'Guatemala')\n",
        "    \n",
        "    if 'Ven' in x and 'Venezuela' not in x:\n",
        "        x = x.replace('Venez', 'Venezuela') #Venez,Africa,Brasil,Peru,Mex\n",
        "        x = x.replace('Ven,', 'Venezuela,') #Ven, Trinidad, Ecuador\n",
        "        x = x.replace('Ven.', 'Venezuela') #Ven., Trinidad, Mad.\n",
        "        if 'Ven' in x and 'Venezuela' not in x:\n",
        "            x = x.replace('Ven', 'Venezuela')\n",
        "        \n",
        "    x = x.replace('Dom.Rep.', 'DomincanRepublic')\n",
        "    x = x.replace('DR', 'DomincanRepublic')\n",
        "    x = x.replace('Dom.Rep', 'DomincanRepublic')\n",
        "    x = x.replace('D.R.', 'DomincanRepublic')\n",
        "    x = x.replace('DominicanRep.', 'DomincanRepublic')\n",
        "    x = x.replace('Domin.Rep', 'DomincanRepublic')\n",
        "    x = x.replace('Domin.Re', 'DomincanRepublic')\n",
        "    x = x.replace('DominicanRepublic', 'DomincanRepublic')\n",
        "\n",
        "    if 'Jam' in x and 'Jamaica' not in x:\n",
        "        x = x.replace('Jam', 'Jamaica')\n",
        "        \n",
        "    if 'Mad.' in x and 'Madagascar' not in x:\n",
        "        x = x.replace('Mad.', 'Madagascar')\n",
        "    elif 'Mad' in x and 'Madagascar' not in x:\n",
        "        x = x.replace('Mad', 'Madagascar')\n",
        "    elif 'Ma' in x and 'Madagascar' not in x:\n",
        "        x = x.replace('Ma', 'Madagascar')\n",
        "        \n",
        "    if 'Hait' in x and 'Haiti' not in x:\n",
        "        x = x.replace('Hait', 'Haiti')\n",
        "        \n",
        "    if 'Per' in x and 'Peru'  not in x:\n",
        "        x = x.replace('Per', 'Peru')\n",
        "    \n",
        "    x = x.replace('Nic.', 'Nicaragua')\n",
        "\n",
        "    x = x.replace('Gre.', 'Grenada')\n",
        "    \n",
        "    x = x.replace('PNG', 'PapuaNewGuinea')\n",
        "    \n",
        "    if 'Mex' in x and 'Mexico' not in x:\n",
        "        x = x.replace('Mex', 'Mexico')\n",
        "        \n",
        "    x = x.replace('Haw.', 'Hawaii')\n",
        "    \n",
        "    x = x.replace('Ecuad.', 'Ecuador')\n",
        "    x = x.replace('Ecu.', 'Ecuador')\n",
        "    \n",
        "    return x\n",
        "\n",
        "def get_boxplot(column):\n",
        "    fig, ax = plt.subplots(figsize = (14, 4))\n",
        "    sns.boxplot(x=column, y='rating', \n",
        "                data=cacao.loc[cacao.loc[:, column].isin(cacao.loc[:, column].value_counts().index[:10])],\n",
        "               ax=ax)\n",
        "    plt.xticks(rotation=45)\n",
        "    ax.set_title('Boxplot for ' + column)\n",
        "    ax.set_ylim(bottom=1.5,top=4.5)\n",
        "    plt.show()\n",
        "\n",
        "def get_stat_dif(column):\n",
        "    cols = cacao.loc[:, column].value_counts().index[:10]\n",
        "    combinations_all = list(combinations(cols, 2))\n",
        "    for comb in combinations_all:\n",
        "        if ttest_ind(cacao.loc[cacao.loc[:, column] == comb[0], 'rating'], \n",
        "                        cacao.loc[cacao.loc[:, column] == comb[1], 'rating']).pvalue \\\n",
        "            <= 0.05/len(combinations_all): # Учли поправку Бонферрони\n",
        "            print('Найдены статистически значимые различия для колонки', column)\n",
        "            break"
      ],
      "execution_count": 110,
      "outputs": [
        {
          "output_type": "stream",
          "text": [
            "Mounted at /content/gdrive\n"
          ],
          "name": "stdout"
        }
      ]
    },
    {
      "cell_type": "code",
      "metadata": {
        "colab": {
          "base_uri": "https://localhost:8080/",
          "height": 269
        },
        "id": "KKRTWXFN1BsR",
        "outputId": "7eded675-43ee-48e0-b417-b5c0beea842d"
      },
      "source": [
        "cacao = pd.read_csv('/content/gdrive/MyDrive/SkillFactory/cacao_flavors.csv')\n",
        "display(cacao.sample())\n",
        "cacao.columns = ['bar_id','company','specific_origin','ref','review_date','cocoa_percent','company_location','rating','bean_type','broad_origin']\n",
        "display(cacao.sample())"
      ],
      "execution_count": 111,
      "outputs": [
        {
          "output_type": "display_data",
          "data": {
            "text/html": [
              "<div>\n",
              "<style scoped>\n",
              "    .dataframe tbody tr th:only-of-type {\n",
              "        vertical-align: middle;\n",
              "    }\n",
              "\n",
              "    .dataframe tbody tr th {\n",
              "        vertical-align: top;\n",
              "    }\n",
              "\n",
              "    .dataframe thead th {\n",
              "        text-align: right;\n",
              "    }\n",
              "</style>\n",
              "<table border=\"1\" class=\"dataframe\">\n",
              "  <thead>\n",
              "    <tr style=\"text-align: right;\">\n",
              "      <th></th>\n",
              "      <th>Bar id</th>\n",
              "      <th>Company \\n(Maker-if known)</th>\n",
              "      <th>Specific Bean Origin\\nor Bar Name</th>\n",
              "      <th>REF</th>\n",
              "      <th>Review\\nDate</th>\n",
              "      <th>Cocoa\\nPercent</th>\n",
              "      <th>Company\\nLocation</th>\n",
              "      <th>Rating</th>\n",
              "      <th>Bean\\nType</th>\n",
              "      <th>Broad Bean\\nOrigin</th>\n",
              "    </tr>\n",
              "  </thead>\n",
              "  <tbody>\n",
              "    <tr>\n",
              "      <th>1375</th>\n",
              "      <td>1376</td>\n",
              "      <td>Ritual</td>\n",
              "      <td>Toledo District, Maya</td>\n",
              "      <td>1089</td>\n",
              "      <td>2013</td>\n",
              "      <td>75%</td>\n",
              "      <td>U.S.A.</td>\n",
              "      <td>3.75</td>\n",
              "      <td>Trinitario</td>\n",
              "      <td>Belize</td>\n",
              "    </tr>\n",
              "  </tbody>\n",
              "</table>\n",
              "</div>"
            ],
            "text/plain": [
              "      Bar id Company \\n(Maker-if known) Specific Bean Origin\\nor Bar Name  \\\n",
              "1375    1376                     Ritual             Toledo District, Maya   \n",
              "\n",
              "       REF  Review\\nDate Cocoa\\nPercent Company\\nLocation  Rating  Bean\\nType  \\\n",
              "1375  1089          2013            75%            U.S.A.    3.75  Trinitario   \n",
              "\n",
              "     Broad Bean\\nOrigin  \n",
              "1375             Belize  "
            ]
          },
          "metadata": {
            "tags": []
          }
        },
        {
          "output_type": "display_data",
          "data": {
            "text/html": [
              "<div>\n",
              "<style scoped>\n",
              "    .dataframe tbody tr th:only-of-type {\n",
              "        vertical-align: middle;\n",
              "    }\n",
              "\n",
              "    .dataframe tbody tr th {\n",
              "        vertical-align: top;\n",
              "    }\n",
              "\n",
              "    .dataframe thead th {\n",
              "        text-align: right;\n",
              "    }\n",
              "</style>\n",
              "<table border=\"1\" class=\"dataframe\">\n",
              "  <thead>\n",
              "    <tr style=\"text-align: right;\">\n",
              "      <th></th>\n",
              "      <th>bar_id</th>\n",
              "      <th>company</th>\n",
              "      <th>specific_origin</th>\n",
              "      <th>ref</th>\n",
              "      <th>review_date</th>\n",
              "      <th>cocoa_percent</th>\n",
              "      <th>company_location</th>\n",
              "      <th>rating</th>\n",
              "      <th>bean_type</th>\n",
              "      <th>broad_origin</th>\n",
              "    </tr>\n",
              "  </thead>\n",
              "  <tbody>\n",
              "    <tr>\n",
              "      <th>1569</th>\n",
              "      <td>1570</td>\n",
              "      <td>Spencer</td>\n",
              "      <td>Ecuador, lot E432314L</td>\n",
              "      <td>1792</td>\n",
              "      <td>2016</td>\n",
              "      <td>70%</td>\n",
              "      <td>Australia</td>\n",
              "      <td>3.75</td>\n",
              "      <td></td>\n",
              "      <td>Ecuador</td>\n",
              "    </tr>\n",
              "  </tbody>\n",
              "</table>\n",
              "</div>"
            ],
            "text/plain": [
              "      bar_id  company        specific_origin   ref  review_date cocoa_percent  \\\n",
              "1569    1570  Spencer  Ecuador, lot E432314L  1792         2016           70%   \n",
              "\n",
              "     company_location  rating bean_type broad_origin  \n",
              "1569        Australia    3.75                Ecuador  "
            ]
          },
          "metadata": {
            "tags": []
          }
        }
      ]
    },
    {
      "cell_type": "markdown",
      "metadata": {
        "id": "lgdwMQOlbKns"
      },
      "source": [
        "#bar_id"
      ]
    },
    {
      "cell_type": "code",
      "metadata": {
        "colab": {
          "base_uri": "https://localhost:8080/",
          "height": 300
        },
        "id": "edMniVqLbuf3",
        "outputId": "2f4a2b63-e5b9-4471-ddf2-6bb2576d53ae"
      },
      "source": [
        " print(f\"Number of unique bar_id's: {cacao.bar_id.nunique()}\")\n",
        "plt.plot(cacao.bar_id)"
      ],
      "execution_count": 112,
      "outputs": [
        {
          "output_type": "stream",
          "text": [
            "Number of unique bar_id's: 1795\n"
          ],
          "name": "stdout"
        },
        {
          "output_type": "execute_result",
          "data": {
            "text/plain": [
              "[<matplotlib.lines.Line2D at 0x7fa8c9f59350>]"
            ]
          },
          "metadata": {
            "tags": []
          },
          "execution_count": 112
        },
        {
          "output_type": "display_data",
          "data": {
            "image/png": "[encoded data removed]",
            "text/plain": [
              "<Figure size 432x288 with 1 Axes>"
            ]
          },
          "metadata": {
            "tags": [],
            "needs_background": "light"
          }
        }
      ]
    },
    {
      "cell_type": "code",
      "metadata": {
        "colab": {
          "base_uri": "https://localhost:8080/",
          "height": 118
        },
        "id": "E8rAHHoVeCNt",
        "outputId": "52d18b7c-9c31-4d96-bece-f42b386019de"
      },
      "source": [
        "cacao.drop(['bar_id'], inplace = True, axis = 1)\n",
        "cacao.sample()"
      ],
      "execution_count": 113,
      "outputs": [
        {
          "output_type": "execute_result",
          "data": {
            "text/html": [
              "<div>\n",
              "<style scoped>\n",
              "    .dataframe tbody tr th:only-of-type {\n",
              "        vertical-align: middle;\n",
              "    }\n",
              "\n",
              "    .dataframe tbody tr th {\n",
              "        vertical-align: top;\n",
              "    }\n",
              "\n",
              "    .dataframe thead th {\n",
              "        text-align: right;\n",
              "    }\n",
              "</style>\n",
              "<table border=\"1\" class=\"dataframe\">\n",
              "  <thead>\n",
              "    <tr style=\"text-align: right;\">\n",
              "      <th></th>\n",
              "      <th>company</th>\n",
              "      <th>specific_origin</th>\n",
              "      <th>ref</th>\n",
              "      <th>review_date</th>\n",
              "      <th>cocoa_percent</th>\n",
              "      <th>company_location</th>\n",
              "      <th>rating</th>\n",
              "      <th>bean_type</th>\n",
              "      <th>broad_origin</th>\n",
              "    </tr>\n",
              "  </thead>\n",
              "  <tbody>\n",
              "    <tr>\n",
              "      <th>1299</th>\n",
              "      <td>Pitch Dark</td>\n",
              "      <td>Nicalizo</td>\n",
              "      <td>1510</td>\n",
              "      <td>2015</td>\n",
              "      <td>80%</td>\n",
              "      <td>U.S.A.</td>\n",
              "      <td>2.75</td>\n",
              "      <td>Trinitario</td>\n",
              "      <td>Nicaragua</td>\n",
              "    </tr>\n",
              "  </tbody>\n",
              "</table>\n",
              "</div>"
            ],
            "text/plain": [
              "         company specific_origin   ref  review_date cocoa_percent  \\\n",
              "1299  Pitch Dark        Nicalizo  1510         2015           80%   \n",
              "\n",
              "     company_location  rating   bean_type broad_origin  \n",
              "1299           U.S.A.    2.75  Trinitario    Nicaragua  "
            ]
          },
          "metadata": {
            "tags": []
          },
          "execution_count": 113
        }
      ]
    },
    {
      "cell_type": "markdown",
      "metadata": {
        "id": "HSsXBfJuhcAd"
      },
      "source": [
        "#Задание 2.3.1"
      ]
    },
    {
      "cell_type": "code",
      "metadata": {
        "colab": {
          "base_uri": "https://localhost:8080/"
        },
        "id": "HNJhLcEBhVm_",
        "outputId": "4650a065-3d95-49a3-ca60-f73d987296da"
      },
      "source": [
        "print (f\"Number of companies in the dataset + empty: {cacao.company.nunique()}\")\n",
        " \n",
        "cacao[cacao.company.apply (lambda x: hasletornum(x))].company.value_counts() #index.nunique()"
      ],
      "execution_count": 114,
      "outputs": [
        {
          "output_type": "stream",
          "text": [
            "Number of companies in the dataset + empty: 408\n"
          ],
          "name": "stdout"
        },
        {
          "output_type": "execute_result",
          "data": {
            "text/plain": [
              "Soma                      45\n",
              "Fresco                    26\n",
              "Bonnat                    26\n",
              "Pralus                    25\n",
              "Domori                    22\n",
              "                          ..\n",
              "Tobago Estate (Pralus)     1\n",
              "Monarque                   1\n",
              "Edelmond                   1\n",
              "Santome                    1\n",
              "Park 75                    1\n",
              "Name: company, Length: 407, dtype: int64"
            ]
          },
          "metadata": {
            "tags": []
          },
          "execution_count": 114
        }
      ]
    },
    {
      "cell_type": "code",
      "metadata": {
        "id": "dpKWPm1WnZdx"
      },
      "source": [
        "#cacao.company = cacao.company.apply(lambda x: None if x.strip() == '' else x)\n",
        "cacao.company = cacao.company.apply(lambda x: None if not(hasletornum(x)) else x)"
      ],
      "execution_count": 115,
      "outputs": []
    },
    {
      "cell_type": "code",
      "metadata": {
        "colab": {
          "base_uri": "https://localhost:8080/",
          "height": 579
        },
        "id": "44UfQ5AIrejY",
        "outputId": "251dccbe-3949-4529-9171-ab97097f19ed"
      },
      "source": [
        "display(pd.DataFrame(cacao.company.value_counts()))\n",
        "print(\"Значений, встретившихся в столбце более 10 раз:\"#Число 10 взято для ориентира, можно брать другое\n",
        "      , (cacao.company.value_counts()>10).sum())\n",
        "cacao.loc[:, ['company']].info()"
      ],
      "execution_count": 116,
      "outputs": [
        {
          "output_type": "display_data",
          "data": {
            "text/html": [
              "<div>\n",
              "<style scoped>\n",
              "    .dataframe tbody tr th:only-of-type {\n",
              "        vertical-align: middle;\n",
              "    }\n",
              "\n",
              "    .dataframe tbody tr th {\n",
              "        vertical-align: top;\n",
              "    }\n",
              "\n",
              "    .dataframe thead th {\n",
              "        text-align: right;\n",
              "    }\n",
              "</style>\n",
              "<table border=\"1\" class=\"dataframe\">\n",
              "  <thead>\n",
              "    <tr style=\"text-align: right;\">\n",
              "      <th></th>\n",
              "      <th>company</th>\n",
              "    </tr>\n",
              "  </thead>\n",
              "  <tbody>\n",
              "    <tr>\n",
              "      <th>Soma</th>\n",
              "      <td>45</td>\n",
              "    </tr>\n",
              "    <tr>\n",
              "      <th>Fresco</th>\n",
              "      <td>26</td>\n",
              "    </tr>\n",
              "    <tr>\n",
              "      <th>Bonnat</th>\n",
              "      <td>26</td>\n",
              "    </tr>\n",
              "    <tr>\n",
              "      <th>Pralus</th>\n",
              "      <td>25</td>\n",
              "    </tr>\n",
              "    <tr>\n",
              "      <th>Domori</th>\n",
              "      <td>22</td>\n",
              "    </tr>\n",
              "    <tr>\n",
              "      <th>...</th>\n",
              "      <td>...</td>\n",
              "    </tr>\n",
              "    <tr>\n",
              "      <th>Tobago Estate (Pralus)</th>\n",
              "      <td>1</td>\n",
              "    </tr>\n",
              "    <tr>\n",
              "      <th>Monarque</th>\n",
              "      <td>1</td>\n",
              "    </tr>\n",
              "    <tr>\n",
              "      <th>Edelmond</th>\n",
              "      <td>1</td>\n",
              "    </tr>\n",
              "    <tr>\n",
              "      <th>Santome</th>\n",
              "      <td>1</td>\n",
              "    </tr>\n",
              "    <tr>\n",
              "      <th>Park 75</th>\n",
              "      <td>1</td>\n",
              "    </tr>\n",
              "  </tbody>\n",
              "</table>\n",
              "<p>407 rows × 1 columns</p>\n",
              "</div>"
            ],
            "text/plain": [
              "                        company\n",
              "Soma                         45\n",
              "Fresco                       26\n",
              "Bonnat                       26\n",
              "Pralus                       25\n",
              "Domori                       22\n",
              "...                         ...\n",
              "Tobago Estate (Pralus)        1\n",
              "Monarque                      1\n",
              "Edelmond                      1\n",
              "Santome                       1\n",
              "Park 75                       1\n",
              "\n",
              "[407 rows x 1 columns]"
            ]
          },
          "metadata": {
            "tags": []
          }
        },
        {
          "output_type": "stream",
          "text": [
            "Значений, встретившихся в столбце более 10 раз: 30\n",
            "<class 'pandas.core.frame.DataFrame'>\n",
            "RangeIndex: 1795 entries, 0 to 1794\n",
            "Data columns (total 1 columns):\n",
            " #   Column   Non-Null Count  Dtype \n",
            "---  ------   --------------  ----- \n",
            " 0   company  1696 non-null   object\n",
            "dtypes: object(1)\n",
            "memory usage: 14.1+ KB\n"
          ],
          "name": "stdout"
        }
      ]
    },
    {
      "cell_type": "markdown",
      "metadata": {
        "id": "hHoS798utWMS"
      },
      "source": [
        "#Задание 2.3.2"
      ]
    },
    {
      "cell_type": "code",
      "metadata": {
        "colab": {
          "base_uri": "https://localhost:8080/",
          "height": 375
        },
        "id": "7c2oec1oP1h6",
        "outputId": "f2ad0d84-c6b1-42a8-cfaf-76739b7021a0"
      },
      "source": [
        "#cacao_ = cacao.copy()\n",
        "print (\"specific_origin data types:\\n\")\n",
        "display (pd.DataFrame(cacao.specific_origin.apply(type).value_counts()))\n",
        "print ()\n",
        " \n",
        "valid_so = cacao.specific_origin[cacao.specific_origin.apply (lambda x: type(x) == str)]\n",
        "valid_so = valid_so[valid_so.apply(hasletornum)]\n",
        " \n",
        "print (f\"Number of origins in the dataset: {valid_so.nunique()}\\n\")\n",
        "valid_so.value_counts()"
      ],
      "execution_count": 117,
      "outputs": [
        {
          "output_type": "stream",
          "text": [
            "specific_origin data types:\n",
            "\n"
          ],
          "name": "stdout"
        },
        {
          "output_type": "display_data",
          "data": {
            "text/html": [
              "<div>\n",
              "<style scoped>\n",
              "    .dataframe tbody tr th:only-of-type {\n",
              "        vertical-align: middle;\n",
              "    }\n",
              "\n",
              "    .dataframe tbody tr th {\n",
              "        vertical-align: top;\n",
              "    }\n",
              "\n",
              "    .dataframe thead th {\n",
              "        text-align: right;\n",
              "    }\n",
              "</style>\n",
              "<table border=\"1\" class=\"dataframe\">\n",
              "  <thead>\n",
              "    <tr style=\"text-align: right;\">\n",
              "      <th></th>\n",
              "      <th>specific_origin</th>\n",
              "    </tr>\n",
              "  </thead>\n",
              "  <tbody>\n",
              "    <tr>\n",
              "      <th>&lt;class 'str'&gt;</th>\n",
              "      <td>1795</td>\n",
              "    </tr>\n",
              "  </tbody>\n",
              "</table>\n",
              "</div>"
            ],
            "text/plain": [
              "               specific_origin\n",
              "<class 'str'>             1795"
            ]
          },
          "metadata": {
            "tags": []
          }
        },
        {
          "output_type": "stream",
          "text": [
            "\n",
            "Number of origins in the dataset: 1012\n",
            "\n"
          ],
          "name": "stdout"
        },
        {
          "output_type": "execute_result",
          "data": {
            "text/plain": [
              "Madagascar                           55\n",
              "Peru                                 44\n",
              "Ecuador                              39\n",
              "Dominican Republic                   33\n",
              "Venezuela                            21\n",
              "                                     ..\n",
              "Rio Caribe, Paria Penninsula          1\n",
              "Ben Tre, Mekong Delta                 1\n",
              "Los Rios, Puerto Romero, Equateur     1\n",
              "Island Growers, 2012, 120hr c.        1\n",
              "Complexite                            1\n",
              "Name: specific_origin, Length: 1012, dtype: int64"
            ]
          },
          "metadata": {
            "tags": []
          },
          "execution_count": 117
        }
      ]
    },
    {
      "cell_type": "markdown",
      "metadata": {
        "id": "H1eXZwdTxRT1"
      },
      "source": [
        "Задание 2.3.3"
      ]
    },
    {
      "cell_type": "code",
      "metadata": {
        "id": "b71mXlXwxWJf",
        "colab": {
          "base_uri": "https://localhost:8080/"
        },
        "outputId": "c4b9863a-0030-4348-bc08-765a6794f07e"
      },
      "source": [
        " print(f\"Number of origins met more than 10 times in the dataset: {(valid_so.value_counts() > 10).sum()}\")"
      ],
      "execution_count": 118,
      "outputs": [
        {
          "output_type": "stream",
          "text": [
            "Number of origins met more than 10 times in the dataset: 15\n"
          ],
          "name": "stdout"
        }
      ]
    },
    {
      "cell_type": "markdown",
      "metadata": {
        "id": "cXaA5gz2brKx"
      },
      "source": [
        "#ref"
      ]
    },
    {
      "cell_type": "code",
      "metadata": {
        "id": "qD6bnzGQbljB",
        "colab": {
          "base_uri": "https://localhost:8080/",
          "height": 421
        },
        "outputId": "10617a7d-a42c-408d-9afd-6b04cfcddb96"
      },
      "source": [
        "cacao.ref.hist()\n",
        "cacao.ref.describe()"
      ],
      "execution_count": 119,
      "outputs": [
        {
          "output_type": "execute_result",
          "data": {
            "text/plain": [
              "count    1795.000000\n",
              "mean     1035.904735\n",
              "std       552.886365\n",
              "min         5.000000\n",
              "25%       576.000000\n",
              "50%      1069.000000\n",
              "75%      1502.000000\n",
              "max      1952.000000\n",
              "Name: ref, dtype: float64"
            ]
          },
          "metadata": {
            "tags": []
          },
          "execution_count": 119
        },
        {
          "output_type": "display_data",
          "data": {
            "image/png": "[encoded data removed]",
            "text/plain": [
              "<Figure size 432x288 with 1 Axes>"
            ]
          },
          "metadata": {
            "tags": [],
            "needs_background": "light"
          }
        }
      ]
    },
    {
      "cell_type": "code",
      "metadata": {
        "id": "TrCCK-N88Z5c",
        "colab": {
          "base_uri": "https://localhost:8080/",
          "height": 283
        },
        "outputId": "3ec21cdc-208d-480b-f215-2d33ecd5eb5b"
      },
      "source": [
        "print ('Анализ разброса ref:')\n",
        "cacao.boxplot(['ref']);"
      ],
      "execution_count": 120,
      "outputs": [
        {
          "output_type": "stream",
          "text": [
            "Анализ разброса ref:\n"
          ],
          "name": "stdout"
        },
        {
          "output_type": "display_data",
          "data": {
            "image/png": "[encoded data removed]",
            "text/plain": [
              "<Figure size 432x288 with 1 Axes>"
            ]
          },
          "metadata": {
            "tags": [],
            "needs_background": "light"
          }
        }
      ]
    },
    {
      "cell_type": "markdown",
      "metadata": {
        "id": "eYhJ0Y4dQVWM"
      },
      "source": [
        "#cacao_percent"
      ]
    },
    {
      "cell_type": "code",
      "metadata": {
        "id": "kN-KR6lbRIfk"
      },
      "source": [
        "cacao.cocoa_percent = cacao.cocoa_percent.apply(lambda x: float(x.replace('%', '')))"
      ],
      "execution_count": 121,
      "outputs": []
    },
    {
      "cell_type": "code",
      "metadata": {
        "colab": {
          "base_uri": "https://localhost:8080/",
          "height": 421
        },
        "id": "SIlA_S29QgTZ",
        "outputId": "7f24c99c-680d-48ea-d74a-4b2bb8604371"
      },
      "source": [
        "cacao.cocoa_percent.hist();\n",
        "cacao.cocoa_percent.describe()"
      ],
      "execution_count": 122,
      "outputs": [
        {
          "output_type": "execute_result",
          "data": {
            "text/plain": [
              "count    1795.000000\n",
              "mean       75.932312\n",
              "std        44.475981\n",
              "min        42.000000\n",
              "25%        70.000000\n",
              "50%        70.000000\n",
              "75%        75.000000\n",
              "max       682.000000\n",
              "Name: cocoa_percent, dtype: float64"
            ]
          },
          "metadata": {
            "tags": []
          },
          "execution_count": 122
        },
        {
          "output_type": "display_data",
          "data": {
            "image/png": "[encoded data removed]",
            "text/plain": [
              "<Figure size 432x288 with 1 Axes>"
            ]
          },
          "metadata": {
            "tags": [],
            "needs_background": "light"
          }
        }
      ]
    },
    {
      "cell_type": "code",
      "metadata": {
        "colab": {
          "base_uri": "https://localhost:8080/",
          "height": 283
        },
        "id": "EZqOW-WUQeGT",
        "outputId": "e342af73-dff5-4b4a-897c-669d9b377877"
      },
      "source": [
        "IQR = cacao.cocoa_percent.quantile(0.75) - cacao.cocoa_percent.quantile(0.25)\n",
        "perc25 = cacao.cocoa_percent.quantile(0.25)\n",
        "perc75 = cacao.cocoa_percent.quantile(0.75)\n",
        " \n",
        "print(\n",
        "'25-й перцентиль: {},'.format(perc25),\n",
        "'75-й перцентиль: {},'.format(perc75),\n",
        "\"IQR: {}, \".format(IQR),\n",
        "\"Границы выбросов: [{f}, {l}].\".format(f=perc25 - 1.5*IQR, l=perc75 + 1.5*IQR))\n",
        " \n",
        "cacao.cocoa_percent.loc[cacao.cocoa_percent.between(\n",
        "perc25 - 1.5*IQR,\n",
        "perc75 + 1.5*IQR)].hist(bins = 16, range = (40, 100), label = 'IQR')\n",
        " \n",
        "cacao.cocoa_percent.loc[cacao.cocoa_percent <= 100].hist(\n",
        "alpha = 0.5, bins = 16, range = (40, 100), label = 'Здравый смысл')\n",
        " \n",
        "plt.legend();"
      ],
      "execution_count": 123,
      "outputs": [
        {
          "output_type": "stream",
          "text": [
            "25-й перцентиль: 70.0, 75-й перцентиль: 75.0, IQR: 5.0,  Границы выбросов: [62.5, 82.5].\n"
          ],
          "name": "stdout"
        },
        {
          "output_type": "display_data",
          "data": {
            "image/png": "[encoded data removed]",
            "text/plain": [
              "<Figure size 432x288 with 1 Axes>"
            ]
          },
          "metadata": {
            "tags": [],
            "needs_background": "light"
          }
        }
      ]
    },
    {
      "cell_type": "markdown",
      "metadata": {
        "id": "BfLMNhkRWlaQ"
      },
      "source": [
        "#company_location"
      ]
    },
    {
      "cell_type": "code",
      "metadata": {
        "colab": {
          "base_uri": "https://localhost:8080/",
          "height": 830
        },
        "id": "iK1LztLTTI28",
        "outputId": "a7e49f5e-5cf4-499b-f496-e3baf2928a8a"
      },
      "source": [
        "display(pd.DataFrame(cacao.company_location))\n",
        "pd.DataFrame(cacao.company_location.value_counts())"
      ],
      "execution_count": 124,
      "outputs": [
        {
          "output_type": "display_data",
          "data": {
            "text/html": [
              "<div>\n",
              "<style scoped>\n",
              "    .dataframe tbody tr th:only-of-type {\n",
              "        vertical-align: middle;\n",
              "    }\n",
              "\n",
              "    .dataframe tbody tr th {\n",
              "        vertical-align: top;\n",
              "    }\n",
              "\n",
              "    .dataframe thead th {\n",
              "        text-align: right;\n",
              "    }\n",
              "</style>\n",
              "<table border=\"1\" class=\"dataframe\">\n",
              "  <thead>\n",
              "    <tr style=\"text-align: right;\">\n",
              "      <th></th>\n",
              "      <th>company_location</th>\n",
              "    </tr>\n",
              "  </thead>\n",
              "  <tbody>\n",
              "    <tr>\n",
              "      <th>0</th>\n",
              "      <td>France</td>\n",
              "    </tr>\n",
              "    <tr>\n",
              "      <th>1</th>\n",
              "      <td>France</td>\n",
              "    </tr>\n",
              "    <tr>\n",
              "      <th>2</th>\n",
              "      <td>France</td>\n",
              "    </tr>\n",
              "    <tr>\n",
              "      <th>3</th>\n",
              "      <td>France</td>\n",
              "    </tr>\n",
              "    <tr>\n",
              "      <th>4</th>\n",
              "      <td>France</td>\n",
              "    </tr>\n",
              "    <tr>\n",
              "      <th>...</th>\n",
              "      <td>...</td>\n",
              "    </tr>\n",
              "    <tr>\n",
              "      <th>1790</th>\n",
              "      <td>Austria</td>\n",
              "    </tr>\n",
              "    <tr>\n",
              "      <th>1791</th>\n",
              "      <td>Austria</td>\n",
              "    </tr>\n",
              "    <tr>\n",
              "      <th>1792</th>\n",
              "      <td>Austria</td>\n",
              "    </tr>\n",
              "    <tr>\n",
              "      <th>1793</th>\n",
              "      <td>Austria</td>\n",
              "    </tr>\n",
              "    <tr>\n",
              "      <th>1794</th>\n",
              "      <td>Austria</td>\n",
              "    </tr>\n",
              "  </tbody>\n",
              "</table>\n",
              "<p>1795 rows × 1 columns</p>\n",
              "</div>"
            ],
            "text/plain": [
              "     company_location\n",
              "0              France\n",
              "1              France\n",
              "2              France\n",
              "3              France\n",
              "4              France\n",
              "...               ...\n",
              "1790          Austria\n",
              "1791          Austria\n",
              "1792          Austria\n",
              "1793          Austria\n",
              "1794          Austria\n",
              "\n",
              "[1795 rows x 1 columns]"
            ]
          },
          "metadata": {
            "tags": []
          }
        },
        {
          "output_type": "execute_result",
          "data": {
            "text/html": [
              "<div>\n",
              "<style scoped>\n",
              "    .dataframe tbody tr th:only-of-type {\n",
              "        vertical-align: middle;\n",
              "    }\n",
              "\n",
              "    .dataframe tbody tr th {\n",
              "        vertical-align: top;\n",
              "    }\n",
              "\n",
              "    .dataframe thead th {\n",
              "        text-align: right;\n",
              "    }\n",
              "</style>\n",
              "<table border=\"1\" class=\"dataframe\">\n",
              "  <thead>\n",
              "    <tr style=\"text-align: right;\">\n",
              "      <th></th>\n",
              "      <th>company_location</th>\n",
              "    </tr>\n",
              "  </thead>\n",
              "  <tbody>\n",
              "    <tr>\n",
              "      <th>U.S.A.</th>\n",
              "      <td>764</td>\n",
              "    </tr>\n",
              "    <tr>\n",
              "      <th>France</th>\n",
              "      <td>156</td>\n",
              "    </tr>\n",
              "    <tr>\n",
              "      <th>Canada</th>\n",
              "      <td>125</td>\n",
              "    </tr>\n",
              "    <tr>\n",
              "      <th>U.K.</th>\n",
              "      <td>96</td>\n",
              "    </tr>\n",
              "    <tr>\n",
              "      <th>Italy</th>\n",
              "      <td>63</td>\n",
              "    </tr>\n",
              "    <tr>\n",
              "      <th>...</th>\n",
              "      <td>...</td>\n",
              "    </tr>\n",
              "    <tr>\n",
              "      <th>Niacragua</th>\n",
              "      <td>1</td>\n",
              "    </tr>\n",
              "    <tr>\n",
              "      <th>Philippines</th>\n",
              "      <td>1</td>\n",
              "    </tr>\n",
              "    <tr>\n",
              "      <th>Russia</th>\n",
              "      <td>1</td>\n",
              "    </tr>\n",
              "    <tr>\n",
              "      <th>Wales</th>\n",
              "      <td>1</td>\n",
              "    </tr>\n",
              "    <tr>\n",
              "      <th>Martinique</th>\n",
              "      <td>1</td>\n",
              "    </tr>\n",
              "  </tbody>\n",
              "</table>\n",
              "<p>60 rows × 1 columns</p>\n",
              "</div>"
            ],
            "text/plain": [
              "             company_location\n",
              "U.S.A.                    764\n",
              "France                    156\n",
              "Canada                    125\n",
              "U.K.                       96\n",
              "Italy                      63\n",
              "...                       ...\n",
              "Niacragua                   1\n",
              "Philippines                 1\n",
              "Russia                      1\n",
              "Wales                       1\n",
              "Martinique                  1\n",
              "\n",
              "[60 rows x 1 columns]"
            ]
          },
          "metadata": {
            "tags": []
          },
          "execution_count": 124
        }
      ]
    },
    {
      "cell_type": "code",
      "metadata": {
        "colab": {
          "base_uri": "https://localhost:8080/",
          "height": 597
        },
        "id": "mCmfvOUue0Tv",
        "outputId": "0d2dd69a-02ba-491e-88d7-392482be640c"
      },
      "source": [
        "display(pd.DataFrame(cacao.company_location.value_counts()))\n",
        "print(\"Значений, встретившихся в столбце более 10 раз:\", (cacao.company_location.value_counts()>10).sum(),'\\n')\n",
        "cacao.loc[:, ['company_location']].info()"
      ],
      "execution_count": 125,
      "outputs": [
        {
          "output_type": "display_data",
          "data": {
            "text/html": [
              "<div>\n",
              "<style scoped>\n",
              "    .dataframe tbody tr th:only-of-type {\n",
              "        vertical-align: middle;\n",
              "    }\n",
              "\n",
              "    .dataframe tbody tr th {\n",
              "        vertical-align: top;\n",
              "    }\n",
              "\n",
              "    .dataframe thead th {\n",
              "        text-align: right;\n",
              "    }\n",
              "</style>\n",
              "<table border=\"1\" class=\"dataframe\">\n",
              "  <thead>\n",
              "    <tr style=\"text-align: right;\">\n",
              "      <th></th>\n",
              "      <th>company_location</th>\n",
              "    </tr>\n",
              "  </thead>\n",
              "  <tbody>\n",
              "    <tr>\n",
              "      <th>U.S.A.</th>\n",
              "      <td>764</td>\n",
              "    </tr>\n",
              "    <tr>\n",
              "      <th>France</th>\n",
              "      <td>156</td>\n",
              "    </tr>\n",
              "    <tr>\n",
              "      <th>Canada</th>\n",
              "      <td>125</td>\n",
              "    </tr>\n",
              "    <tr>\n",
              "      <th>U.K.</th>\n",
              "      <td>96</td>\n",
              "    </tr>\n",
              "    <tr>\n",
              "      <th>Italy</th>\n",
              "      <td>63</td>\n",
              "    </tr>\n",
              "    <tr>\n",
              "      <th>...</th>\n",
              "      <td>...</td>\n",
              "    </tr>\n",
              "    <tr>\n",
              "      <th>Niacragua</th>\n",
              "      <td>1</td>\n",
              "    </tr>\n",
              "    <tr>\n",
              "      <th>Philippines</th>\n",
              "      <td>1</td>\n",
              "    </tr>\n",
              "    <tr>\n",
              "      <th>Russia</th>\n",
              "      <td>1</td>\n",
              "    </tr>\n",
              "    <tr>\n",
              "      <th>Wales</th>\n",
              "      <td>1</td>\n",
              "    </tr>\n",
              "    <tr>\n",
              "      <th>Martinique</th>\n",
              "      <td>1</td>\n",
              "    </tr>\n",
              "  </tbody>\n",
              "</table>\n",
              "<p>60 rows × 1 columns</p>\n",
              "</div>"
            ],
            "text/plain": [
              "             company_location\n",
              "U.S.A.                    764\n",
              "France                    156\n",
              "Canada                    125\n",
              "U.K.                       96\n",
              "Italy                      63\n",
              "...                       ...\n",
              "Niacragua                   1\n",
              "Philippines                 1\n",
              "Russia                      1\n",
              "Wales                       1\n",
              "Martinique                  1\n",
              "\n",
              "[60 rows x 1 columns]"
            ]
          },
          "metadata": {
            "tags": []
          }
        },
        {
          "output_type": "stream",
          "text": [
            "Значений, встретившихся в столбце более 10 раз: 22 \n",
            "\n",
            "<class 'pandas.core.frame.DataFrame'>\n",
            "RangeIndex: 1795 entries, 0 to 1794\n",
            "Data columns (total 1 columns):\n",
            " #   Column            Non-Null Count  Dtype \n",
            "---  ------            --------------  ----- \n",
            " 0   company_location  1795 non-null   object\n",
            "dtypes: object(1)\n",
            "memory usage: 14.1+ KB\n"
          ],
          "name": "stdout"
        }
      ]
    },
    {
      "cell_type": "markdown",
      "metadata": {
        "id": "7y0LdIwbkMbY"
      },
      "source": [
        "#broad_origin\n",
        "Задание 2.4.1\n"
      ]
    },
    {
      "cell_type": "code",
      "metadata": {
        "colab": {
          "base_uri": "https://localhost:8080/",
          "height": 303
        },
        "id": "KjhTOX6gkT2n",
        "outputId": "c33277b0-2015-4640-8fe4-b48dfcd3a37c"
      },
      "source": [
        "print (\"broad_origin data types:\\n\")\n",
        "display (pd.DataFrame(cacao.broad_origin.apply(type).value_counts()))\n",
        "print ()\n",
        "\n",
        "pd.DataFrame(cacao.broad_origin).info()"
      ],
      "execution_count": 126,
      "outputs": [
        {
          "output_type": "stream",
          "text": [
            "broad_origin data types:\n",
            "\n"
          ],
          "name": "stdout"
        },
        {
          "output_type": "display_data",
          "data": {
            "text/html": [
              "<div>\n",
              "<style scoped>\n",
              "    .dataframe tbody tr th:only-of-type {\n",
              "        vertical-align: middle;\n",
              "    }\n",
              "\n",
              "    .dataframe tbody tr th {\n",
              "        vertical-align: top;\n",
              "    }\n",
              "\n",
              "    .dataframe thead th {\n",
              "        text-align: right;\n",
              "    }\n",
              "</style>\n",
              "<table border=\"1\" class=\"dataframe\">\n",
              "  <thead>\n",
              "    <tr style=\"text-align: right;\">\n",
              "      <th></th>\n",
              "      <th>broad_origin</th>\n",
              "    </tr>\n",
              "  </thead>\n",
              "  <tbody>\n",
              "    <tr>\n",
              "      <th>&lt;class 'str'&gt;</th>\n",
              "      <td>1794</td>\n",
              "    </tr>\n",
              "    <tr>\n",
              "      <th>&lt;class 'float'&gt;</th>\n",
              "      <td>1</td>\n",
              "    </tr>\n",
              "  </tbody>\n",
              "</table>\n",
              "</div>"
            ],
            "text/plain": [
              "                 broad_origin\n",
              "<class 'str'>            1794\n",
              "<class 'float'>             1"
            ]
          },
          "metadata": {
            "tags": []
          }
        },
        {
          "output_type": "stream",
          "text": [
            "\n",
            "<class 'pandas.core.frame.DataFrame'>\n",
            "RangeIndex: 1795 entries, 0 to 1794\n",
            "Data columns (total 1 columns):\n",
            " #   Column        Non-Null Count  Dtype \n",
            "---  ------        --------------  ----- \n",
            " 0   broad_origin  1794 non-null   object\n",
            "dtypes: object(1)\n",
            "memory usage: 14.1+ KB\n"
          ],
          "name": "stdout"
        }
      ]
    },
    {
      "cell_type": "code",
      "metadata": {
        "colab": {
          "base_uri": "https://localhost:8080/",
          "height": 147
        },
        "id": "7iP6XMrdr7Ho",
        "outputId": "42f7719c-6774-4862-e6d1-9b16cf7abeb7"
      },
      "source": [
        "cacao.broad_origin = cacao.broad_origin.apply(fix_countries)\n",
        "print (\"broad_origin data types:\\n\")\n",
        "display (pd.DataFrame(cacao.broad_origin.apply(type).value_counts()))"
      ],
      "execution_count": 127,
      "outputs": [
        {
          "output_type": "stream",
          "text": [
            "broad_origin data types:\n",
            "\n"
          ],
          "name": "stdout"
        },
        {
          "output_type": "display_data",
          "data": {
            "text/html": [
              "<div>\n",
              "<style scoped>\n",
              "    .dataframe tbody tr th:only-of-type {\n",
              "        vertical-align: middle;\n",
              "    }\n",
              "\n",
              "    .dataframe tbody tr th {\n",
              "        vertical-align: top;\n",
              "    }\n",
              "\n",
              "    .dataframe thead th {\n",
              "        text-align: right;\n",
              "    }\n",
              "</style>\n",
              "<table border=\"1\" class=\"dataframe\">\n",
              "  <thead>\n",
              "    <tr style=\"text-align: right;\">\n",
              "      <th></th>\n",
              "      <th>broad_origin</th>\n",
              "    </tr>\n",
              "  </thead>\n",
              "  <tbody>\n",
              "    <tr>\n",
              "      <th>&lt;class 'str'&gt;</th>\n",
              "      <td>1794</td>\n",
              "    </tr>\n",
              "    <tr>\n",
              "      <th>&lt;class 'float'&gt;</th>\n",
              "      <td>1</td>\n",
              "    </tr>\n",
              "  </tbody>\n",
              "</table>\n",
              "</div>"
            ],
            "text/plain": [
              "                 broad_origin\n",
              "<class 'str'>            1794\n",
              "<class 'float'>             1"
            ]
          },
          "metadata": {
            "tags": []
          }
        }
      ]
    },
    {
      "cell_type": "code",
      "metadata": {
        "id": "Ls1yggvhtZ8i",
        "colab": {
          "base_uri": "https://localhost:8080/",
          "height": 493
        },
        "outputId": "a27c2d97-7a5c-4b79-c723-fcad0f3fe416"
      },
      "source": [
        "#cacao_ = cacao.copy()\n",
        "\n",
        "#cacao.broad_origin = cacao.broad_origin.astype(str)\n",
        "cacao.broad_origin = cacao.broad_origin.apply(fix_countries) \n",
        "#cacao.broad_origin = cacao.broad_origin[cacao.broad_origin.apply (lambda x: type(x) == str)]\n",
        "#cacao.broad_origin = cacao.broad_origin[cacao.broad_origin.apply(hasletornum)]\n",
        " \n",
        "print (f\"Number of origins in the dataset: {cacao.broad_origin.nunique()}\\n\")\n",
        "print (f\"Number of origins that occur > 10 times: {(cacao.broad_origin.value_counts() > 10).sum()}\\n\")\n",
        "pd.DataFrame(cacao.broad_origin.value_counts()) #.head(97)"
      ],
      "execution_count": 128,
      "outputs": [
        {
          "output_type": "stream",
          "text": [
            "Number of origins in the dataset: 96\n",
            "\n",
            "Number of origins that occur > 10 times: 25\n",
            "\n"
          ],
          "name": "stdout"
        },
        {
          "output_type": "execute_result",
          "data": {
            "text/html": [
              "<div>\n",
              "<style scoped>\n",
              "    .dataframe tbody tr th:only-of-type {\n",
              "        vertical-align: middle;\n",
              "    }\n",
              "\n",
              "    .dataframe tbody tr th {\n",
              "        vertical-align: top;\n",
              "    }\n",
              "\n",
              "    .dataframe thead th {\n",
              "        text-align: right;\n",
              "    }\n",
              "</style>\n",
              "<table border=\"1\" class=\"dataframe\">\n",
              "  <thead>\n",
              "    <tr style=\"text-align: right;\">\n",
              "      <th></th>\n",
              "      <th>broad_origin</th>\n",
              "    </tr>\n",
              "  </thead>\n",
              "  <tbody>\n",
              "    <tr>\n",
              "      <th>Venezuela</th>\n",
              "      <td>214</td>\n",
              "    </tr>\n",
              "    <tr>\n",
              "      <th>Ecuador</th>\n",
              "      <td>193</td>\n",
              "    </tr>\n",
              "    <tr>\n",
              "      <th>DomincanRepublic</th>\n",
              "      <td>166</td>\n",
              "    </tr>\n",
              "    <tr>\n",
              "      <th>Peru</th>\n",
              "      <td>166</td>\n",
              "    </tr>\n",
              "    <tr>\n",
              "      <th>Madagascar</th>\n",
              "      <td>145</td>\n",
              "    </tr>\n",
              "    <tr>\n",
              "      <th>...</th>\n",
              "      <td>...</td>\n",
              "    </tr>\n",
              "    <tr>\n",
              "      <th>Madagascarrtinique</th>\n",
              "      <td>1</td>\n",
              "    </tr>\n",
              "    <tr>\n",
              "      <th>Ecuador,Madagascar,PapuaNewGuinea</th>\n",
              "      <td>1</td>\n",
              "    </tr>\n",
              "    <tr>\n",
              "      <th>Venezuela,Indonesia,Ecuador</th>\n",
              "      <td>1</td>\n",
              "    </tr>\n",
              "    <tr>\n",
              "      <th>DomincanRepublic,Ecuador,Peru</th>\n",
              "      <td>1</td>\n",
              "    </tr>\n",
              "    <tr>\n",
              "      <th>Africa,Carribean,C.Am.</th>\n",
              "      <td>1</td>\n",
              "    </tr>\n",
              "  </tbody>\n",
              "</table>\n",
              "<p>96 rows × 1 columns</p>\n",
              "</div>"
            ],
            "text/plain": [
              "                                   broad_origin\n",
              "Venezuela                                   214\n",
              "Ecuador                                     193\n",
              "DomincanRepublic                            166\n",
              "Peru                                        166\n",
              "Madagascar                                  145\n",
              "...                                         ...\n",
              "Madagascarrtinique                            1\n",
              "Ecuador,Madagascar,PapuaNewGuinea             1\n",
              "Venezuela,Indonesia,Ecuador                   1\n",
              "DomincanRepublic,Ecuador,Peru                 1\n",
              "Africa,Carribean,C.Am.                        1\n",
              "\n",
              "[96 rows x 1 columns]"
            ]
          },
          "metadata": {
            "tags": []
          },
          "execution_count": 128
        }
      ]
    },
    {
      "cell_type": "markdown",
      "metadata": {
        "id": "UWzRXrRpKHBO"
      },
      "source": [
        "#specific_origin"
      ]
    },
    {
      "cell_type": "code",
      "metadata": {
        "id": "P25Bt8hvKPAp"
      },
      "source": [
        "cacao.specific_origin = cacao.specific_origin.apply (lambda x: None if x == '\\xa0' else x)"
      ],
      "execution_count": 129,
      "outputs": []
    },
    {
      "cell_type": "markdown",
      "metadata": {
        "id": "fFRxaY0BvvMY"
      },
      "source": [
        "#2.5. Корреляционный анализ"
      ]
    },
    {
      "cell_type": "code",
      "metadata": {
        "colab": {
          "base_uri": "https://localhost:8080/",
          "height": 726
        },
        "id": "7lKEb3PYvxle",
        "outputId": "1d5fceca-fd90-4bf1-f272-71c9a4fc1461"
      },
      "source": [
        "sns.pairplot(cacao, kind = 'reg');"
      ],
      "execution_count": 130,
      "outputs": [
        {
          "output_type": "display_data",
          "data": {
            "image/png": "[encoded data removed]",
            "text/plain": [
              "<Figure size 720x720 with 20 Axes>"
            ]
          },
          "metadata": {
            "tags": [],
            "needs_background": "light"
          }
        }
      ]
    },
    {
      "cell_type": "code",
      "metadata": {
        "colab": {
          "base_uri": "https://localhost:8080/",
          "height": 175
        },
        "id": "nf0REA0wxzpR",
        "outputId": "c9c940cc-fd7f-4ef1-8c1b-05ad7223d996"
      },
      "source": [
        "cacao.corr()"
      ],
      "execution_count": 131,
      "outputs": [
        {
          "output_type": "execute_result",
          "data": {
            "text/html": [
              "<div>\n",
              "<style scoped>\n",
              "    .dataframe tbody tr th:only-of-type {\n",
              "        vertical-align: middle;\n",
              "    }\n",
              "\n",
              "    .dataframe tbody tr th {\n",
              "        vertical-align: top;\n",
              "    }\n",
              "\n",
              "    .dataframe thead th {\n",
              "        text-align: right;\n",
              "    }\n",
              "</style>\n",
              "<table border=\"1\" class=\"dataframe\">\n",
              "  <thead>\n",
              "    <tr style=\"text-align: right;\">\n",
              "      <th></th>\n",
              "      <th>ref</th>\n",
              "      <th>review_date</th>\n",
              "      <th>cocoa_percent</th>\n",
              "      <th>rating</th>\n",
              "    </tr>\n",
              "  </thead>\n",
              "  <tbody>\n",
              "    <tr>\n",
              "      <th>ref</th>\n",
              "      <td>1.000000</td>\n",
              "      <td>0.985076</td>\n",
              "      <td>0.019591</td>\n",
              "      <td>-0.009183</td>\n",
              "    </tr>\n",
              "    <tr>\n",
              "      <th>review_date</th>\n",
              "      <td>0.985076</td>\n",
              "      <td>1.000000</td>\n",
              "      <td>0.011111</td>\n",
              "      <td>-0.013980</td>\n",
              "    </tr>\n",
              "    <tr>\n",
              "      <th>cocoa_percent</th>\n",
              "      <td>0.019591</td>\n",
              "      <td>0.011111</td>\n",
              "      <td>1.000000</td>\n",
              "      <td>-0.030687</td>\n",
              "    </tr>\n",
              "    <tr>\n",
              "      <th>rating</th>\n",
              "      <td>-0.009183</td>\n",
              "      <td>-0.013980</td>\n",
              "      <td>-0.030687</td>\n",
              "      <td>1.000000</td>\n",
              "    </tr>\n",
              "  </tbody>\n",
              "</table>\n",
              "</div>"
            ],
            "text/plain": [
              "                    ref  review_date  cocoa_percent    rating\n",
              "ref            1.000000     0.985076       0.019591 -0.009183\n",
              "review_date    0.985076     1.000000       0.011111 -0.013980\n",
              "cocoa_percent  0.019591     0.011111       1.000000 -0.030687\n",
              "rating        -0.009183    -0.013980      -0.030687  1.000000"
            ]
          },
          "metadata": {
            "tags": []
          },
          "execution_count": 131
        }
      ]
    },
    {
      "cell_type": "markdown",
      "metadata": {
        "id": "235RboJX4oGd"
      },
      "source": [
        "#2.6. Анализ номинативных переменных"
      ]
    },
    {
      "cell_type": "code",
      "metadata": {
        "colab": {
          "base_uri": "https://localhost:8080/",
          "height": 1000
        },
        "id": "AUZ9OGjQ4hEH",
        "outputId": "1850cc1e-b2f9-46fb-a982-1ed633f84218"
      },
      "source": [
        "for col in ['company', 'specific_origin', 'company_location', 'bean_type', 'broad_origin']:\n",
        "    get_boxplot(col)"
      ],
      "execution_count": 132,
      "outputs": [
        {
          "output_type": "display_data",
          "data": {
            "image/png": "[encoded data removed]",
            "text/plain": [
              "<Figure size 1008x288 with 1 Axes>"
            ]
          },
          "metadata": {
            "tags": [],
            "needs_background": "light"
          }
        },
        {
          "output_type": "display_data",
          "data": {
            "image/png": "[encoded data removed]",
            "text/plain": [
              "<Figure size 1008x288 with 1 Axes>"
            ]
          },
          "metadata": {
            "tags": [],
            "needs_background": "light"
          }
        },
        {
          "output_type": "display_data",
          "data": {
            "image/png": "[encoded data removed]",
            "text/plain": [
              "<Figure size 1008x288 with 1 Axes>"
            ]
          },
          "metadata": {
            "tags": [],
            "needs_background": "light"
          }
        },
        {
          "output_type": "display_data",
          "data": {
            "image/png": "[encoded data removed]",
            "text/plain": [
              "<Figure size 1008x288 with 1 Axes>"
            ]
          },
          "metadata": {
            "tags": [],
            "needs_background": "light"
          }
        },
        {
          "output_type": "display_data",
          "data": {
            "image/png": "[encoded data removed]",
            "text/plain": [
              "<Figure size 1008x288 with 1 Axes>"
            ]
          },
          "metadata": {
            "tags": [],
            "needs_background": "light"
          }
        }
      ]
    },
    {
      "cell_type": "code",
      "metadata": {
        "id": "eFvBWDSAkibt",
        "outputId": "c4eff195-6c9b-4bec-d03a-084205138c3c",
        "colab": {
          "base_uri": "https://localhost:8080/"
        }
      },
      "source": [
        "for col in ['company', 'specific_origin', 'company_location', 'bean_type', 'broad_origin']:\n",
        "    get_stat_dif(col)"
      ],
      "execution_count": 136,
      "outputs": [
        {
          "output_type": "stream",
          "text": [
            "Найдены статистически значимые различия для колонки company\n"
          ],
          "name": "stdout"
        }
      ]
    },
    {
      "cell_type": "code",
      "metadata": {
        "id": "sJSfhCIbm_zP",
        "outputId": "87b4541a-96c6-45db-d09d-753678cedba6",
        "colab": {
          "base_uri": "https://localhost:8080/",
          "height": 81
        }
      },
      "source": [
        "cacao_for_model = cacao.loc[:, ['company', 'specific_origin', 'company_location', 'review_date', 'cocoa_percent']]\n",
        "cacao_for_model.sample()"
      ],
      "execution_count": 134,
      "outputs": [
        {
          "output_type": "execute_result",
          "data": {
            "text/html": [
              "<div>\n",
              "<style scoped>\n",
              "    .dataframe tbody tr th:only-of-type {\n",
              "        vertical-align: middle;\n",
              "    }\n",
              "\n",
              "    .dataframe tbody tr th {\n",
              "        vertical-align: top;\n",
              "    }\n",
              "\n",
              "    .dataframe thead th {\n",
              "        text-align: right;\n",
              "    }\n",
              "</style>\n",
              "<table border=\"1\" class=\"dataframe\">\n",
              "  <thead>\n",
              "    <tr style=\"text-align: right;\">\n",
              "      <th></th>\n",
              "      <th>company</th>\n",
              "      <th>specific_origin</th>\n",
              "      <th>company_location</th>\n",
              "      <th>review_date</th>\n",
              "      <th>cocoa_percent</th>\n",
              "    </tr>\n",
              "  </thead>\n",
              "  <tbody>\n",
              "    <tr>\n",
              "      <th>1280</th>\n",
              "      <td>Peppalo</td>\n",
              "      <td>Dominican Republic</td>\n",
              "      <td>U.S.A.</td>\n",
              "      <td>2015</td>\n",
              "      <td>82.0</td>\n",
              "    </tr>\n",
              "  </tbody>\n",
              "</table>\n",
              "</div>"
            ],
            "text/plain": [
              "      company     specific_origin company_location  review_date  cocoa_percent\n",
              "1280  Peppalo  Dominican Republic           U.S.A.         2015           82.0"
            ]
          },
          "metadata": {
            "tags": []
          },
          "execution_count": 134
        }
      ]
    },
    {
      "cell_type": "markdown",
      "metadata": {
        "id": "6phzG0PMv7c4"
      },
      "source": [
        "#Для понимания"
      ]
    },
    {
      "cell_type": "code",
      "metadata": {
        "id": "k_VUlaUxus7l",
        "outputId": "1a31aea1-56cb-4ff0-8ee6-c4842b8b72a1",
        "colab": {
          "base_uri": "https://localhost:8080/",
          "height": 243
        }
      },
      "source": [
        "# def get_stat_dif(column):\n",
        "#     cols = cacao.loc[:, column].value_counts().index[:10]\n",
        "#     combinations_all = list(combinations(cols, 2))\n",
        "#     for comb in combinations_all:\n",
        "#         if ttest_ind(cacao.loc[cacao.loc[:, column] == comb[0], 'rating'], \n",
        "#                         cacao.loc[cacao.loc[:, column] == comb[1], 'rating']).pvalue \\\n",
        "#             <= 0.05/len(combinations_all): # Учли поправку Бонферрони\n",
        "#             print('Найдены статистически значимые различия для колонки', column)\n",
        "#             break\n",
        "\n",
        "#cacao.loc[:, 'specific_origin']\n",
        "display(cacao.loc[list(cacao.loc[:, 'specific_origin'] == 'Peru'), 'company'].head())\n",
        "print()\n",
        "display(cacao.loc[cacao.loc[:, 'specific_origin'] == 'Peru', 'company'].head())\n",
        "#cacao[cacao.specific_origin == 'Peru'].rating.values\n",
        "\n",
        "# cols = cacao.loc[:, 'specific_origin'].value_counts().index[:10]\n",
        "# cols\n",
        "# list(combinations(cols, 2))\n",
        "\n",
        "# list(cacao.loc[:, 'specific_origin'] == 'Peru')"
      ],
      "execution_count": 151,
      "outputs": [
        {
          "output_type": "display_data",
          "data": {
            "text/plain": [
              "22                  A. Morin\n",
              "53     Altus aka Cao Artisan\n",
              "74                  Ambrosia\n",
              "134                     None\n",
              "168                Belcolade\n",
              "Name: company, dtype: object"
            ]
          },
          "metadata": {
            "tags": []
          }
        },
        {
          "output_type": "stream",
          "text": [
            "\n"
          ],
          "name": "stdout"
        },
        {
          "output_type": "display_data",
          "data": {
            "text/plain": [
              "22                  A. Morin\n",
              "53     Altus aka Cao Artisan\n",
              "74                  Ambrosia\n",
              "134                     None\n",
              "168                Belcolade\n",
              "Name: company, dtype: object"
            ]
          },
          "metadata": {
            "tags": []
          }
        }
      ]
    }
  ]
}