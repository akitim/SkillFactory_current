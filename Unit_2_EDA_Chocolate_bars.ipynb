{
  "nbformat": 4,
  "nbformat_minor": 0,
  "metadata": {
    "colab": {
      "name": "Unit_2_EDA_Chocolate bars.ipynb",
      "provenance": [],
      "collapsed_sections": [],
      "include_colab_link": true
    },
    "kernelspec": {
      "name": "python3",
      "display_name": "Python 3"
    },
    "language_info": {
      "name": "python"
    }
  },
  "cells": [
    {
      "cell_type": "markdown",
      "metadata": {
        "id": "view-in-github",
        "colab_type": "text"
      },
      "source": [
        "<a href=\"https://colab.research.google.com/github/akitim/SkillFactory_current/blob/main/Unit_2_EDA_Chocolate_bars.ipynb\" target=\"_parent\"><img src=\"https://colab.research.google.com/assets/colab-badge.svg\" alt=\"Open In Colab\"/></a>"
      ]
    },
    {
      "cell_type": "markdown",
      "metadata": {
        "id": "HANmMSDYR9nz"
      },
      "source": [
        "#Preprocess"
      ]
    },
    {
      "cell_type": "code",
      "metadata": {
        "id": "xU2D-QrL0rMq",
        "colab": {
          "base_uri": "https://localhost:8080/"
        },
        "outputId": "6d32dad0-78cd-462b-deb8-4364fea10385"
      },
      "source": [
        "import pandas as pd\n",
        "import matplotlib.pyplot as plt\n",
        "import seaborn as sns\n",
        "from itertools import combinations\n",
        "from scipy.stats import ttest_ind\n",
        " \n",
        "pd.set_option('display.max_rows', 50) # показывать больше строк\n",
        "pd.set_option('display.max_columns', 50) # показывать больше колонок\n",
        " \n",
        "import sys\n",
        "from google.colab import drive\n",
        "drive.mount('/content/gdrive', force_remount=True)\n",
        "sys.path.clear\n",
        "sys.path.append('/content/gdrive/MyDrive/SkillFactory')\n",
        " \n",
        "def hasletornum(s):\n",
        "    ls = [ch for ch in s]\n",
        "    return any(list(map(lambda x: x.isalnum(), ls)))    \n",
        "#cacao = pd.read_csv('/content/gdrive/MyDrive/SkillFactory/cacao_flavors.csv')\n",
        "\n",
        "def fix_countries(x):\n",
        "    if pd.isnull(x):\n",
        "        return x\n",
        "    if x == 'nan':\n",
        "        return None\n",
        "    x = x.replace(' ', '')\n",
        "    x = x.replace('/', ',') # Venezuela/ Ghana\n",
        "    x = x.replace('&', ',')\n",
        "    if '(' in x:\n",
        "        x = x[:x.find('(')] #Peru(SMartin,Pangoa,nacional)\n",
        "    x = x.replace('Guat.', 'Guatemala')\n",
        "    \n",
        "    if 'Ven' in x and 'Venezuela' not in x:\n",
        "        x = x.replace('Venez', 'Venezuela') #Venez,Africa,Brasil,Peru,Mex\n",
        "        x = x.replace('Ven,', 'Venezuela,') #Ven, Trinidad, Ecuador\n",
        "        x = x.replace('Ven.', 'Venezuela') #Ven., Trinidad, Mad.\n",
        "        if 'Ven' in x and 'Venezuela' not in x:\n",
        "            x = x.replace('Ven', 'Venezuela')\n",
        "        \n",
        "    x = x.replace('Dom.Rep.', 'DomincanRepublic')\n",
        "    x = x.replace('DR', 'DomincanRepublic')\n",
        "    x = x.replace('Dom.Rep', 'DomincanRepublic')\n",
        "    x = x.replace('D.R.', 'DomincanRepublic')\n",
        "    x = x.replace('DominicanRep.', 'DomincanRepublic')\n",
        "    x = x.replace('Domin.Rep', 'DomincanRepublic')\n",
        "    x = x.replace('Domin.Re', 'DomincanRepublic')\n",
        "    x = x.replace('DominicanRepublic', 'DomincanRepublic')\n",
        "\n",
        "    if 'Jam' in x and 'Jamaica' not in x:\n",
        "        x = x.replace('Jam', 'Jamaica')\n",
        "        \n",
        "    if 'Mad.' in x and 'Madagascar' not in x:\n",
        "        x = x.replace('Mad.', 'Madagascar')\n",
        "    elif 'Mad' in x and 'Madagascar' not in x:\n",
        "        x = x.replace('Mad', 'Madagascar')\n",
        "    elif 'Ma' in x and 'Madagascar' not in x:\n",
        "        x = x.replace('Ma', 'Madagascar')\n",
        "        \n",
        "    if 'Hait' in x and 'Haiti' not in x:\n",
        "        x = x.replace('Hait', 'Haiti')\n",
        "        \n",
        "    if 'Per' in x and 'Peru'  not in x:\n",
        "        x = x.replace('Per', 'Peru')\n",
        "    \n",
        "    x = x.replace('Nic.', 'Nicaragua')\n",
        "\n",
        "    x = x.replace('Gre.', 'Grenada')\n",
        "    \n",
        "    x = x.replace('PNG', 'PapuaNewGuinea')\n",
        "    \n",
        "    if 'Mex' in x and 'Mexico' not in x:\n",
        "        x = x.replace('Mex', 'Mexico')\n",
        "        \n",
        "    x = x.replace('Haw.', 'Hawaii')\n",
        "    \n",
        "    x = x.replace('Ecuad.', 'Ecuador')\n",
        "    x = x.replace('Ecu.', 'Ecuador')\n",
        "    \n",
        "    return x"
      ],
      "execution_count": 120,
      "outputs": [
        {
          "output_type": "stream",
          "text": [
            "Mounted at /content/gdrive\n"
          ],
          "name": "stdout"
        }
      ]
    },
    {
      "cell_type": "code",
      "metadata": {
        "colab": {
          "base_uri": "https://localhost:8080/",
          "height": 160
        },
        "id": "KKRTWXFN1BsR",
        "outputId": "fd5922e1-58c9-43ee-82d8-267cf448dbbc"
      },
      "source": [
        "cacao = pd.read_csv('/content/gdrive/MyDrive/SkillFactory/cacao_flavors.csv')\n",
        "display(cacao.sample())\n",
        "cacao.columns = ['bar_id','company','specific_origin','ref','review_date','cocoa_percent','company_location','rating','bean_type','broad_origin']\n",
        "display(cacao.sample())"
      ],
      "execution_count": 121,
      "outputs": [
        {
          "output_type": "display_data",
          "data": {
            "text/html": [
              "<div>\n",
              "<style scoped>\n",
              "    .dataframe tbody tr th:only-of-type {\n",
              "        vertical-align: middle;\n",
              "    }\n",
              "\n",
              "    .dataframe tbody tr th {\n",
              "        vertical-align: top;\n",
              "    }\n",
              "\n",
              "    .dataframe thead th {\n",
              "        text-align: right;\n",
              "    }\n",
              "</style>\n",
              "<table border=\"1\" class=\"dataframe\">\n",
              "  <thead>\n",
              "    <tr style=\"text-align: right;\">\n",
              "      <th></th>\n",
              "      <th>Bar id</th>\n",
              "      <th>Company \\n(Maker-if known)</th>\n",
              "      <th>Specific Bean Origin\\nor Bar Name</th>\n",
              "      <th>REF</th>\n",
              "      <th>Review\\nDate</th>\n",
              "      <th>Cocoa\\nPercent</th>\n",
              "      <th>Company\\nLocation</th>\n",
              "      <th>Rating</th>\n",
              "      <th>Bean\\nType</th>\n",
              "      <th>Broad Bean\\nOrigin</th>\n",
              "    </tr>\n",
              "  </thead>\n",
              "  <tbody>\n",
              "    <tr>\n",
              "      <th>45</th>\n",
              "      <td>46</td>\n",
              "      <td>Altus aka Cao Artisan</td>\n",
              "      <td>Acopagro</td>\n",
              "      <td>1728</td>\n",
              "      <td>2016</td>\n",
              "      <td>60%</td>\n",
              "      <td>U.S.A.</td>\n",
              "      <td>3.0</td>\n",
              "      <td></td>\n",
              "      <td>Peru</td>\n",
              "    </tr>\n",
              "  </tbody>\n",
              "</table>\n",
              "</div>"
            ],
            "text/plain": [
              "    Bar id Company \\n(Maker-if known) Specific Bean Origin\\nor Bar Name   REF  \\\n",
              "45      46      Altus aka Cao Artisan                          Acopagro  1728   \n",
              "\n",
              "    Review\\nDate Cocoa\\nPercent Company\\nLocation  Rating Bean\\nType  \\\n",
              "45          2016            60%            U.S.A.     3.0              \n",
              "\n",
              "   Broad Bean\\nOrigin  \n",
              "45               Peru  "
            ]
          },
          "metadata": {
            "tags": []
          }
        },
        {
          "output_type": "display_data",
          "data": {
            "text/html": [
              "<div>\n",
              "<style scoped>\n",
              "    .dataframe tbody tr th:only-of-type {\n",
              "        vertical-align: middle;\n",
              "    }\n",
              "\n",
              "    .dataframe tbody tr th {\n",
              "        vertical-align: top;\n",
              "    }\n",
              "\n",
              "    .dataframe thead th {\n",
              "        text-align: right;\n",
              "    }\n",
              "</style>\n",
              "<table border=\"1\" class=\"dataframe\">\n",
              "  <thead>\n",
              "    <tr style=\"text-align: right;\">\n",
              "      <th></th>\n",
              "      <th>bar_id</th>\n",
              "      <th>company</th>\n",
              "      <th>specific_origin</th>\n",
              "      <th>ref</th>\n",
              "      <th>review_date</th>\n",
              "      <th>cocoa_percent</th>\n",
              "      <th>company_location</th>\n",
              "      <th>rating</th>\n",
              "      <th>bean_type</th>\n",
              "      <th>broad_origin</th>\n",
              "    </tr>\n",
              "  </thead>\n",
              "  <tbody>\n",
              "    <tr>\n",
              "      <th>914</th>\n",
              "      <td>915</td>\n",
              "      <td></td>\n",
              "      <td>Hispaniola</td>\n",
              "      <td>1359</td>\n",
              "      <td>2014</td>\n",
              "      <td>72.5%</td>\n",
              "      <td>U.S.A.</td>\n",
              "      <td>3.0</td>\n",
              "      <td></td>\n",
              "      <td>Dominican Republic</td>\n",
              "    </tr>\n",
              "  </tbody>\n",
              "</table>\n",
              "</div>"
            ],
            "text/plain": [
              "     bar_id company specific_origin   ref  review_date cocoa_percent  \\\n",
              "914     915              Hispaniola  1359         2014         72.5%   \n",
              "\n",
              "    company_location  rating bean_type        broad_origin  \n",
              "914           U.S.A.     3.0            Dominican Republic  "
            ]
          },
          "metadata": {
            "tags": []
          }
        }
      ]
    },
    {
      "cell_type": "markdown",
      "metadata": {
        "id": "lgdwMQOlbKns"
      },
      "source": [
        "#bar_id"
      ]
    },
    {
      "cell_type": "code",
      "metadata": {
        "colab": {
          "base_uri": "https://localhost:8080/",
          "height": 299
        },
        "id": "edMniVqLbuf3",
        "outputId": "870f8a65-9e47-4675-ea00-d9e5f37247d5"
      },
      "source": [
        " print(f\"Number of unique bar_id's: {cacao.bar_id.nunique()}\")\n",
        "plt.plot(cacao.bar_id)"
      ],
      "execution_count": 122,
      "outputs": [
        {
          "output_type": "stream",
          "text": [
            "Number of unique bar_id's: 1795\n"
          ],
          "name": "stdout"
        },
        {
          "output_type": "execute_result",
          "data": {
            "text/plain": [
              "[<matplotlib.lines.Line2D at 0x7efd1f552050>]"
            ]
          },
          "metadata": {
            "tags": []
          },
          "execution_count": 122
        },
        {
          "output_type": "display_data",
          "data": {
            "image/png": "[encoded data removed]",
            "text/plain": [
              "<Figure size 432x288 with 1 Axes>"
            ]
          },
          "metadata": {
            "tags": [],
            "needs_background": "light"
          }
        }
      ]
    },
    {
      "cell_type": "code",
      "metadata": {
        "colab": {
          "base_uri": "https://localhost:8080/",
          "height": 80
        },
        "id": "E8rAHHoVeCNt",
        "outputId": "fbaeee9f-b1d0-4d79-aa6e-62f9e618819a"
      },
      "source": [
        "cacao.drop(['bar_id'], inplace = True, axis = 1)\n",
        "cacao.sample()"
      ],
      "execution_count": 123,
      "outputs": [
        {
          "output_type": "execute_result",
          "data": {
            "text/html": [
              "<div>\n",
              "<style scoped>\n",
              "    .dataframe tbody tr th:only-of-type {\n",
              "        vertical-align: middle;\n",
              "    }\n",
              "\n",
              "    .dataframe tbody tr th {\n",
              "        vertical-align: top;\n",
              "    }\n",
              "\n",
              "    .dataframe thead th {\n",
              "        text-align: right;\n",
              "    }\n",
              "</style>\n",
              "<table border=\"1\" class=\"dataframe\">\n",
              "  <thead>\n",
              "    <tr style=\"text-align: right;\">\n",
              "      <th></th>\n",
              "      <th>company</th>\n",
              "      <th>specific_origin</th>\n",
              "      <th>ref</th>\n",
              "      <th>review_date</th>\n",
              "      <th>cocoa_percent</th>\n",
              "      <th>company_location</th>\n",
              "      <th>rating</th>\n",
              "      <th>bean_type</th>\n",
              "      <th>broad_origin</th>\n",
              "    </tr>\n",
              "  </thead>\n",
              "  <tbody>\n",
              "    <tr>\n",
              "      <th>431</th>\n",
              "      <td>Christopher Morel (Felchlin)</td>\n",
              "      <td>Maranon Canyon, Fortunato No. 4</td>\n",
              "      <td>666</td>\n",
              "      <td>2011</td>\n",
              "      <td>68%</td>\n",
              "      <td>Canada</td>\n",
              "      <td>15.5</td>\n",
              "      <td>Forastero (Nacional)</td>\n",
              "      <td>Peru</td>\n",
              "    </tr>\n",
              "  </tbody>\n",
              "</table>\n",
              "</div>"
            ],
            "text/plain": [
              "                          company                  specific_origin  ref  \\\n",
              "431  Christopher Morel (Felchlin)  Maranon Canyon, Fortunato No. 4  666   \n",
              "\n",
              "     review_date cocoa_percent company_location  rating             bean_type  \\\n",
              "431         2011           68%           Canada    15.5  Forastero (Nacional)   \n",
              "\n",
              "    broad_origin  \n",
              "431         Peru  "
            ]
          },
          "metadata": {
            "tags": []
          },
          "execution_count": 123
        }
      ]
    },
    {
      "cell_type": "markdown",
      "metadata": {
        "id": "HSsXBfJuhcAd"
      },
      "source": [
        "#Задание 2.3.1"
      ]
    },
    {
      "cell_type": "code",
      "metadata": {
        "colab": {
          "base_uri": "https://localhost:8080/"
        },
        "id": "HNJhLcEBhVm_",
        "outputId": "066295c2-b688-4a79-cc16-bdbe3dfa8f5f"
      },
      "source": [
        "print (f\"Number of companies in the dataset + empty: {cacao.company.nunique()}\")\n",
        " \n",
        "cacao[cacao.company.apply (lambda x: hasletornum(x))].company.value_counts() #index.nunique()"
      ],
      "execution_count": 124,
      "outputs": [
        {
          "output_type": "stream",
          "text": [
            "Number of companies in the dataset + empty: 408\n"
          ],
          "name": "stdout"
        },
        {
          "output_type": "execute_result",
          "data": {
            "text/plain": [
              "Soma                    45\n",
              "Bonnat                  26\n",
              "Fresco                  26\n",
              "Pralus                  25\n",
              "Domori                  22\n",
              "                        ..\n",
              "Loiza                    1\n",
              "Bronx Grrl Chocolate     1\n",
              "Kerchner                 1\n",
              "Chequessett              1\n",
              "La Pepa de Oro           1\n",
              "Name: company, Length: 407, dtype: int64"
            ]
          },
          "metadata": {
            "tags": []
          },
          "execution_count": 124
        }
      ]
    },
    {
      "cell_type": "code",
      "metadata": {
        "id": "dpKWPm1WnZdx"
      },
      "source": [
        "#cacao.company = cacao.company.apply(lambda x: None if x.strip() == '' else x)\n",
        "cacao.company = cacao.company.apply(lambda x: None if not(hasletornum(x)) else x)"
      ],
      "execution_count": 125,
      "outputs": []
    },
    {
      "cell_type": "code",
      "metadata": {
        "colab": {
          "base_uri": "https://localhost:8080/",
          "height": 842
        },
        "id": "44UfQ5AIrejY",
        "outputId": "c9394c35-bbf1-4a6f-dd79-81d20c0b65dd"
      },
      "source": [
        "display(pd.DataFrame(cacao.company.value_counts()))\n",
        "print(\"Значений, встретившихся в столбце более 10 раз:\"#Число 10 взято для ориентира, можно брать другое\n",
        "      , (cacao.company.value_counts()>10).sum())\n",
        "#cacao.loc[:, ['company']].info()\n",
        "cacao.loc[:, ['company']]"
      ],
      "execution_count": 126,
      "outputs": [
        {
          "output_type": "display_data",
          "data": {
            "text/html": [
              "<div>\n",
              "<style scoped>\n",
              "    .dataframe tbody tr th:only-of-type {\n",
              "        vertical-align: middle;\n",
              "    }\n",
              "\n",
              "    .dataframe tbody tr th {\n",
              "        vertical-align: top;\n",
              "    }\n",
              "\n",
              "    .dataframe thead th {\n",
              "        text-align: right;\n",
              "    }\n",
              "</style>\n",
              "<table border=\"1\" class=\"dataframe\">\n",
              "  <thead>\n",
              "    <tr style=\"text-align: right;\">\n",
              "      <th></th>\n",
              "      <th>company</th>\n",
              "    </tr>\n",
              "  </thead>\n",
              "  <tbody>\n",
              "    <tr>\n",
              "      <th>Soma</th>\n",
              "      <td>45</td>\n",
              "    </tr>\n",
              "    <tr>\n",
              "      <th>Bonnat</th>\n",
              "      <td>26</td>\n",
              "    </tr>\n",
              "    <tr>\n",
              "      <th>Fresco</th>\n",
              "      <td>26</td>\n",
              "    </tr>\n",
              "    <tr>\n",
              "      <th>Pralus</th>\n",
              "      <td>25</td>\n",
              "    </tr>\n",
              "    <tr>\n",
              "      <th>Domori</th>\n",
              "      <td>22</td>\n",
              "    </tr>\n",
              "    <tr>\n",
              "      <th>...</th>\n",
              "      <td>...</td>\n",
              "    </tr>\n",
              "    <tr>\n",
              "      <th>Loiza</th>\n",
              "      <td>1</td>\n",
              "    </tr>\n",
              "    <tr>\n",
              "      <th>Bronx Grrl Chocolate</th>\n",
              "      <td>1</td>\n",
              "    </tr>\n",
              "    <tr>\n",
              "      <th>Kerchner</th>\n",
              "      <td>1</td>\n",
              "    </tr>\n",
              "    <tr>\n",
              "      <th>Chequessett</th>\n",
              "      <td>1</td>\n",
              "    </tr>\n",
              "    <tr>\n",
              "      <th>La Pepa de Oro</th>\n",
              "      <td>1</td>\n",
              "    </tr>\n",
              "  </tbody>\n",
              "</table>\n",
              "<p>407 rows × 1 columns</p>\n",
              "</div>"
            ],
            "text/plain": [
              "                      company\n",
              "Soma                       45\n",
              "Bonnat                     26\n",
              "Fresco                     26\n",
              "Pralus                     25\n",
              "Domori                     22\n",
              "...                       ...\n",
              "Loiza                       1\n",
              "Bronx Grrl Chocolate        1\n",
              "Kerchner                    1\n",
              "Chequessett                 1\n",
              "La Pepa de Oro              1\n",
              "\n",
              "[407 rows x 1 columns]"
            ]
          },
          "metadata": {
            "tags": []
          }
        },
        {
          "output_type": "stream",
          "text": [
            "Значений, встретившихся в столбце более 10 раз: 30\n"
          ],
          "name": "stdout"
        },
        {
          "output_type": "execute_result",
          "data": {
            "text/html": [
              "<div>\n",
              "<style scoped>\n",
              "    .dataframe tbody tr th:only-of-type {\n",
              "        vertical-align: middle;\n",
              "    }\n",
              "\n",
              "    .dataframe tbody tr th {\n",
              "        vertical-align: top;\n",
              "    }\n",
              "\n",
              "    .dataframe thead th {\n",
              "        text-align: right;\n",
              "    }\n",
              "</style>\n",
              "<table border=\"1\" class=\"dataframe\">\n",
              "  <thead>\n",
              "    <tr style=\"text-align: right;\">\n",
              "      <th></th>\n",
              "      <th>company</th>\n",
              "    </tr>\n",
              "  </thead>\n",
              "  <tbody>\n",
              "    <tr>\n",
              "      <th>0</th>\n",
              "      <td>A. Morin</td>\n",
              "    </tr>\n",
              "    <tr>\n",
              "      <th>1</th>\n",
              "      <td>A. Morin</td>\n",
              "    </tr>\n",
              "    <tr>\n",
              "      <th>2</th>\n",
              "      <td>A. Morin</td>\n",
              "    </tr>\n",
              "    <tr>\n",
              "      <th>3</th>\n",
              "      <td>A. Morin</td>\n",
              "    </tr>\n",
              "    <tr>\n",
              "      <th>4</th>\n",
              "      <td>A. Morin</td>\n",
              "    </tr>\n",
              "    <tr>\n",
              "      <th>...</th>\n",
              "      <td>...</td>\n",
              "    </tr>\n",
              "    <tr>\n",
              "      <th>1790</th>\n",
              "      <td>Zotter</td>\n",
              "    </tr>\n",
              "    <tr>\n",
              "      <th>1791</th>\n",
              "      <td>Zotter</td>\n",
              "    </tr>\n",
              "    <tr>\n",
              "      <th>1792</th>\n",
              "      <td>Zotter</td>\n",
              "    </tr>\n",
              "    <tr>\n",
              "      <th>1793</th>\n",
              "      <td>Zotter</td>\n",
              "    </tr>\n",
              "    <tr>\n",
              "      <th>1794</th>\n",
              "      <td>Zotter</td>\n",
              "    </tr>\n",
              "  </tbody>\n",
              "</table>\n",
              "<p>1795 rows × 1 columns</p>\n",
              "</div>"
            ],
            "text/plain": [
              "       company\n",
              "0     A. Morin\n",
              "1     A. Morin\n",
              "2     A. Morin\n",
              "3     A. Morin\n",
              "4     A. Morin\n",
              "...        ...\n",
              "1790    Zotter\n",
              "1791    Zotter\n",
              "1792    Zotter\n",
              "1793    Zotter\n",
              "1794    Zotter\n",
              "\n",
              "[1795 rows x 1 columns]"
            ]
          },
          "metadata": {
            "tags": []
          },
          "execution_count": 126
        }
      ]
    },
    {
      "cell_type": "markdown",
      "metadata": {
        "id": "hHoS798utWMS"
      },
      "source": [
        "#Задание 2.3.2"
      ]
    },
    {
      "cell_type": "code",
      "metadata": {
        "colab": {
          "base_uri": "https://localhost:8080/",
          "height": 372
        },
        "id": "7c2oec1oP1h6",
        "outputId": "b64fdae4-428f-4acc-b497-eb14d853b1a4"
      },
      "source": [
        "#cacao_ = cacao.copy()\n",
        "print (\"specific_origin data types:\\n\")\n",
        "display (pd.DataFrame(cacao.specific_origin.apply(type).value_counts()))\n",
        "print ()\n",
        " \n",
        "valid_so = cacao.specific_origin[cacao.specific_origin.apply (lambda x: type(x) == str)]\n",
        "valid_so = valid_so[valid_so.apply(hasletornum)]\n",
        " \n",
        "print (f\"Number of origins in the dataset: {valid_so.nunique()}\\n\")\n",
        "valid_so.value_counts()"
      ],
      "execution_count": 127,
      "outputs": [
        {
          "output_type": "stream",
          "text": [
            "specific_origin data types:\n",
            "\n"
          ],
          "name": "stdout"
        },
        {
          "output_type": "display_data",
          "data": {
            "text/html": [
              "<div>\n",
              "<style scoped>\n",
              "    .dataframe tbody tr th:only-of-type {\n",
              "        vertical-align: middle;\n",
              "    }\n",
              "\n",
              "    .dataframe tbody tr th {\n",
              "        vertical-align: top;\n",
              "    }\n",
              "\n",
              "    .dataframe thead th {\n",
              "        text-align: right;\n",
              "    }\n",
              "</style>\n",
              "<table border=\"1\" class=\"dataframe\">\n",
              "  <thead>\n",
              "    <tr style=\"text-align: right;\">\n",
              "      <th></th>\n",
              "      <th>specific_origin</th>\n",
              "    </tr>\n",
              "  </thead>\n",
              "  <tbody>\n",
              "    <tr>\n",
              "      <th>&lt;class 'str'&gt;</th>\n",
              "      <td>1795</td>\n",
              "    </tr>\n",
              "  </tbody>\n",
              "</table>\n",
              "</div>"
            ],
            "text/plain": [
              "               specific_origin\n",
              "<class 'str'>             1795"
            ]
          },
          "metadata": {
            "tags": []
          }
        },
        {
          "output_type": "stream",
          "text": [
            "\n",
            "Number of origins in the dataset: 1012\n",
            "\n"
          ],
          "name": "stdout"
        },
        {
          "output_type": "execute_result",
          "data": {
            "text/plain": [
              "Madagascar            55\n",
              "Peru                  44\n",
              "Ecuador               39\n",
              "Dominican Republic    33\n",
              "Venezuela             21\n",
              "                      ..\n",
              "Coopertiva Amazona     1\n",
              "Napa                   1\n",
              "Papua Kerafat          1\n",
              "Pangoa, w/ nibs        1\n",
              "Acopagro               1\n",
              "Name: specific_origin, Length: 1012, dtype: int64"
            ]
          },
          "metadata": {
            "tags": []
          },
          "execution_count": 127
        }
      ]
    },
    {
      "cell_type": "markdown",
      "metadata": {
        "id": "H1eXZwdTxRT1"
      },
      "source": [
        "Задание 2.3.3"
      ]
    },
    {
      "cell_type": "code",
      "metadata": {
        "id": "b71mXlXwxWJf",
        "colab": {
          "base_uri": "https://localhost:8080/"
        },
        "outputId": "5da16f25-0339-490a-daf8-10cb535dee3b"
      },
      "source": [
        " \n",
        "print(f\"Number of origins met more than 10 times in the dataset: {(valid_so.value_counts() > 10).sum()}\")"
      ],
      "execution_count": 128,
      "outputs": [
        {
          "output_type": "stream",
          "text": [
            "Number of origins met more than 10 times in the dataset: 15\n"
          ],
          "name": "stdout"
        }
      ]
    },
    {
      "cell_type": "markdown",
      "metadata": {
        "id": "cXaA5gz2brKx"
      },
      "source": [
        "#ref"
      ]
    },
    {
      "cell_type": "code",
      "metadata": {
        "id": "qD6bnzGQbljB",
        "colab": {
          "base_uri": "https://localhost:8080/",
          "height": 419
        },
        "outputId": "fdb1c968-3453-4fa2-adf4-77fec4e59332"
      },
      "source": [
        "cacao.ref.hist()\n",
        "cacao.ref.describe()"
      ],
      "execution_count": 129,
      "outputs": [
        {
          "output_type": "execute_result",
          "data": {
            "text/plain": [
              "count    1795.000000\n",
              "mean     1035.904735\n",
              "std       552.886365\n",
              "min         5.000000\n",
              "25%       576.000000\n",
              "50%      1069.000000\n",
              "75%      1502.000000\n",
              "max      1952.000000\n",
              "Name: ref, dtype: float64"
            ]
          },
          "metadata": {
            "tags": []
          },
          "execution_count": 129
        },
        {
          "output_type": "display_data",
          "data": {
            "image/png": "[encoded data removed]",
            "text/plain": [
              "<Figure size 432x288 with 1 Axes>"
            ]
          },
          "metadata": {
            "tags": [],
            "needs_background": "light"
          }
        }
      ]
    },
    {
      "cell_type": "code",
      "metadata": {
        "id": "TrCCK-N88Z5c",
        "colab": {
          "base_uri": "https://localhost:8080/",
          "height": 299
        },
        "outputId": "306adc49-c983-4a15-9405-fb4d20901fcc"
      },
      "source": [
        "print ('Анализ разброса ref:')\n",
        "cacao.boxplot(['ref'])"
      ],
      "execution_count": 130,
      "outputs": [
        {
          "output_type": "stream",
          "text": [
            "Анализ разброса ref:\n"
          ],
          "name": "stdout"
        },
        {
          "output_type": "execute_result",
          "data": {
            "text/plain": [
              "<matplotlib.axes._subplots.AxesSubplot at 0x7efd1f4a2c50>"
            ]
          },
          "metadata": {
            "tags": []
          },
          "execution_count": 130
        },
        {
          "output_type": "display_data",
          "data": {
            "image/png": "[encoded data removed]",
            "text/plain": [
              "<Figure size 432x288 with 1 Axes>"
            ]
          },
          "metadata": {
            "tags": [],
            "needs_background": "light"
          }
        }
      ]
    },
    {
      "cell_type": "markdown",
      "metadata": {
        "id": "eYhJ0Y4dQVWM"
      },
      "source": [
        "#cacao_percent"
      ]
    },
    {
      "cell_type": "code",
      "metadata": {
        "id": "kN-KR6lbRIfk"
      },
      "source": [
        "cacao.cocoa_percent = cacao.cocoa_percent.apply(lambda x: float(x.replace('%', '')))"
      ],
      "execution_count": 131,
      "outputs": []
    },
    {
      "cell_type": "code",
      "metadata": {
        "colab": {
          "base_uri": "https://localhost:8080/",
          "height": 419
        },
        "id": "SIlA_S29QgTZ",
        "outputId": "0a8bbc6a-b3e8-4440-ce69-0408622d03b8"
      },
      "source": [
        "cacao.cocoa_percent.hist();\n",
        "cacao.cocoa_percent.describe()"
      ],
      "execution_count": 132,
      "outputs": [
        {
          "output_type": "execute_result",
          "data": {
            "text/plain": [
              "count    1795.000000\n",
              "mean       75.932312\n",
              "std        44.475981\n",
              "min        42.000000\n",
              "25%        70.000000\n",
              "50%        70.000000\n",
              "75%        75.000000\n",
              "max       682.000000\n",
              "Name: cocoa_percent, dtype: float64"
            ]
          },
          "metadata": {
            "tags": []
          },
          "execution_count": 132
        },
        {
          "output_type": "display_data",
          "data": {
            "image/png": "[encoded data removed]",
            "text/plain": [
              "<Figure size 432x288 with 1 Axes>"
            ]
          },
          "metadata": {
            "tags": [],
            "needs_background": "light"
          }
        }
      ]
    },
    {
      "cell_type": "code",
      "metadata": {
        "colab": {
          "base_uri": "https://localhost:8080/",
          "height": 282
        },
        "id": "EZqOW-WUQeGT",
        "outputId": "d946d915-5e5e-4587-a5dc-bdda1709b0a8"
      },
      "source": [
        "IQR = cacao.cocoa_percent.quantile(0.75) - cacao.cocoa_percent.quantile(0.25)\n",
        "perc25 = cacao.cocoa_percent.quantile(0.25)\n",
        "perc75 = cacao.cocoa_percent.quantile(0.75)\n",
        " \n",
        "print(\n",
        "'25-й перцентиль: {},'.format(perc25),\n",
        "'75-й перцентиль: {},'.format(perc75),\n",
        "\"IQR: {}, \".format(IQR),\n",
        "\"Границы выбросов: [{f}, {l}].\".format(f=perc25 - 1.5*IQR, l=perc75 + 1.5*IQR))\n",
        " \n",
        "cacao.cocoa_percent.loc[cacao.cocoa_percent.between(\n",
        "perc25 - 1.5*IQR,\n",
        "perc75 + 1.5*IQR)].hist(bins = 16, range = (40, 100), label = 'IQR')\n",
        " \n",
        "cacao.cocoa_percent.loc[cacao.cocoa_percent <= 100].hist(\n",
        "alpha = 0.5, bins = 16, range = (40, 100), label = 'Здравый смысл')\n",
        " \n",
        "plt.legend();"
      ],
      "execution_count": 133,
      "outputs": [
        {
          "output_type": "stream",
          "text": [
            "25-й перцентиль: 70.0, 75-й перцентиль: 75.0, IQR: 5.0,  Границы выбросов: [62.5, 82.5].\n"
          ],
          "name": "stdout"
        },
        {
          "output_type": "display_data",
          "data": {
            "image/png": "[encoded data removed]",
            "text/plain": [
              "<Figure size 432x288 with 1 Axes>"
            ]
          },
          "metadata": {
            "tags": [],
            "needs_background": "light"
          }
        }
      ]
    },
    {
      "cell_type": "markdown",
      "metadata": {
        "id": "BfLMNhkRWlaQ"
      },
      "source": [
        "#company_location"
      ]
    },
    {
      "cell_type": "code",
      "metadata": {
        "colab": {
          "base_uri": "https://localhost:8080/",
          "height": 824
        },
        "id": "iK1LztLTTI28",
        "outputId": "be9ef620-bd42-4d6b-dd25-68d3ce5af02a"
      },
      "source": [
        "display(pd.DataFrame(cacao.company_location))\n",
        "pd.DataFrame(cacao.company_location.value_counts())"
      ],
      "execution_count": 134,
      "outputs": [
        {
          "output_type": "display_data",
          "data": {
            "text/html": [
              "<div>\n",
              "<style scoped>\n",
              "    .dataframe tbody tr th:only-of-type {\n",
              "        vertical-align: middle;\n",
              "    }\n",
              "\n",
              "    .dataframe tbody tr th {\n",
              "        vertical-align: top;\n",
              "    }\n",
              "\n",
              "    .dataframe thead th {\n",
              "        text-align: right;\n",
              "    }\n",
              "</style>\n",
              "<table border=\"1\" class=\"dataframe\">\n",
              "  <thead>\n",
              "    <tr style=\"text-align: right;\">\n",
              "      <th></th>\n",
              "      <th>company_location</th>\n",
              "    </tr>\n",
              "  </thead>\n",
              "  <tbody>\n",
              "    <tr>\n",
              "      <th>0</th>\n",
              "      <td>France</td>\n",
              "    </tr>\n",
              "    <tr>\n",
              "      <th>1</th>\n",
              "      <td>France</td>\n",
              "    </tr>\n",
              "    <tr>\n",
              "      <th>2</th>\n",
              "      <td>France</td>\n",
              "    </tr>\n",
              "    <tr>\n",
              "      <th>3</th>\n",
              "      <td>France</td>\n",
              "    </tr>\n",
              "    <tr>\n",
              "      <th>4</th>\n",
              "      <td>France</td>\n",
              "    </tr>\n",
              "    <tr>\n",
              "      <th>...</th>\n",
              "      <td>...</td>\n",
              "    </tr>\n",
              "    <tr>\n",
              "      <th>1790</th>\n",
              "      <td>Austria</td>\n",
              "    </tr>\n",
              "    <tr>\n",
              "      <th>1791</th>\n",
              "      <td>Austria</td>\n",
              "    </tr>\n",
              "    <tr>\n",
              "      <th>1792</th>\n",
              "      <td>Austria</td>\n",
              "    </tr>\n",
              "    <tr>\n",
              "      <th>1793</th>\n",
              "      <td>Austria</td>\n",
              "    </tr>\n",
              "    <tr>\n",
              "      <th>1794</th>\n",
              "      <td>Austria</td>\n",
              "    </tr>\n",
              "  </tbody>\n",
              "</table>\n",
              "<p>1795 rows × 1 columns</p>\n",
              "</div>"
            ],
            "text/plain": [
              "     company_location\n",
              "0              France\n",
              "1              France\n",
              "2              France\n",
              "3              France\n",
              "4              France\n",
              "...               ...\n",
              "1790          Austria\n",
              "1791          Austria\n",
              "1792          Austria\n",
              "1793          Austria\n",
              "1794          Austria\n",
              "\n",
              "[1795 rows x 1 columns]"
            ]
          },
          "metadata": {
            "tags": []
          }
        },
        {
          "output_type": "execute_result",
          "data": {
            "text/html": [
              "<div>\n",
              "<style scoped>\n",
              "    .dataframe tbody tr th:only-of-type {\n",
              "        vertical-align: middle;\n",
              "    }\n",
              "\n",
              "    .dataframe tbody tr th {\n",
              "        vertical-align: top;\n",
              "    }\n",
              "\n",
              "    .dataframe thead th {\n",
              "        text-align: right;\n",
              "    }\n",
              "</style>\n",
              "<table border=\"1\" class=\"dataframe\">\n",
              "  <thead>\n",
              "    <tr style=\"text-align: right;\">\n",
              "      <th></th>\n",
              "      <th>company_location</th>\n",
              "    </tr>\n",
              "  </thead>\n",
              "  <tbody>\n",
              "    <tr>\n",
              "      <th>U.S.A.</th>\n",
              "      <td>764</td>\n",
              "    </tr>\n",
              "    <tr>\n",
              "      <th>France</th>\n",
              "      <td>156</td>\n",
              "    </tr>\n",
              "    <tr>\n",
              "      <th>Canada</th>\n",
              "      <td>125</td>\n",
              "    </tr>\n",
              "    <tr>\n",
              "      <th>U.K.</th>\n",
              "      <td>96</td>\n",
              "    </tr>\n",
              "    <tr>\n",
              "      <th>Italy</th>\n",
              "      <td>63</td>\n",
              "    </tr>\n",
              "    <tr>\n",
              "      <th>...</th>\n",
              "      <td>...</td>\n",
              "    </tr>\n",
              "    <tr>\n",
              "      <th>Martinique</th>\n",
              "      <td>1</td>\n",
              "    </tr>\n",
              "    <tr>\n",
              "      <th>Wales</th>\n",
              "      <td>1</td>\n",
              "    </tr>\n",
              "    <tr>\n",
              "      <th>Eucador</th>\n",
              "      <td>1</td>\n",
              "    </tr>\n",
              "    <tr>\n",
              "      <th>Ghana</th>\n",
              "      <td>1</td>\n",
              "    </tr>\n",
              "    <tr>\n",
              "      <th>Czech Republic</th>\n",
              "      <td>1</td>\n",
              "    </tr>\n",
              "  </tbody>\n",
              "</table>\n",
              "<p>60 rows × 1 columns</p>\n",
              "</div>"
            ],
            "text/plain": [
              "                company_location\n",
              "U.S.A.                       764\n",
              "France                       156\n",
              "Canada                       125\n",
              "U.K.                          96\n",
              "Italy                         63\n",
              "...                          ...\n",
              "Martinique                     1\n",
              "Wales                          1\n",
              "Eucador                        1\n",
              "Ghana                          1\n",
              "Czech Republic                 1\n",
              "\n",
              "[60 rows x 1 columns]"
            ]
          },
          "metadata": {
            "tags": []
          },
          "execution_count": 134
        }
      ]
    },
    {
      "cell_type": "code",
      "metadata": {
        "colab": {
          "base_uri": "https://localhost:8080/",
          "height": 592
        },
        "id": "mCmfvOUue0Tv",
        "outputId": "1c649e50-30e1-4560-f989-6cc45ec9d1e4"
      },
      "source": [
        "display(pd.DataFrame(cacao.company_location.value_counts()))\n",
        "print(\"Значений, встретившихся в столбце более 10 раз:\", (cacao.company_location.value_counts()>10).sum(),'\\n')\n",
        "cacao.loc[:, ['company_location']].info()"
      ],
      "execution_count": 135,
      "outputs": [
        {
          "output_type": "display_data",
          "data": {
            "text/html": [
              "<div>\n",
              "<style scoped>\n",
              "    .dataframe tbody tr th:only-of-type {\n",
              "        vertical-align: middle;\n",
              "    }\n",
              "\n",
              "    .dataframe tbody tr th {\n",
              "        vertical-align: top;\n",
              "    }\n",
              "\n",
              "    .dataframe thead th {\n",
              "        text-align: right;\n",
              "    }\n",
              "</style>\n",
              "<table border=\"1\" class=\"dataframe\">\n",
              "  <thead>\n",
              "    <tr style=\"text-align: right;\">\n",
              "      <th></th>\n",
              "      <th>company_location</th>\n",
              "    </tr>\n",
              "  </thead>\n",
              "  <tbody>\n",
              "    <tr>\n",
              "      <th>U.S.A.</th>\n",
              "      <td>764</td>\n",
              "    </tr>\n",
              "    <tr>\n",
              "      <th>France</th>\n",
              "      <td>156</td>\n",
              "    </tr>\n",
              "    <tr>\n",
              "      <th>Canada</th>\n",
              "      <td>125</td>\n",
              "    </tr>\n",
              "    <tr>\n",
              "      <th>U.K.</th>\n",
              "      <td>96</td>\n",
              "    </tr>\n",
              "    <tr>\n",
              "      <th>Italy</th>\n",
              "      <td>63</td>\n",
              "    </tr>\n",
              "    <tr>\n",
              "      <th>...</th>\n",
              "      <td>...</td>\n",
              "    </tr>\n",
              "    <tr>\n",
              "      <th>Martinique</th>\n",
              "      <td>1</td>\n",
              "    </tr>\n",
              "    <tr>\n",
              "      <th>Wales</th>\n",
              "      <td>1</td>\n",
              "    </tr>\n",
              "    <tr>\n",
              "      <th>Eucador</th>\n",
              "      <td>1</td>\n",
              "    </tr>\n",
              "    <tr>\n",
              "      <th>Ghana</th>\n",
              "      <td>1</td>\n",
              "    </tr>\n",
              "    <tr>\n",
              "      <th>Czech Republic</th>\n",
              "      <td>1</td>\n",
              "    </tr>\n",
              "  </tbody>\n",
              "</table>\n",
              "<p>60 rows × 1 columns</p>\n",
              "</div>"
            ],
            "text/plain": [
              "                company_location\n",
              "U.S.A.                       764\n",
              "France                       156\n",
              "Canada                       125\n",
              "U.K.                          96\n",
              "Italy                         63\n",
              "...                          ...\n",
              "Martinique                     1\n",
              "Wales                          1\n",
              "Eucador                        1\n",
              "Ghana                          1\n",
              "Czech Republic                 1\n",
              "\n",
              "[60 rows x 1 columns]"
            ]
          },
          "metadata": {
            "tags": []
          }
        },
        {
          "output_type": "stream",
          "text": [
            "Значений, встретившихся в столбце более 10 раз: 22 \n",
            "\n",
            "<class 'pandas.core.frame.DataFrame'>\n",
            "RangeIndex: 1795 entries, 0 to 1794\n",
            "Data columns (total 1 columns):\n",
            " #   Column            Non-Null Count  Dtype \n",
            "---  ------            --------------  ----- \n",
            " 0   company_location  1795 non-null   object\n",
            "dtypes: object(1)\n",
            "memory usage: 14.1+ KB\n"
          ],
          "name": "stdout"
        }
      ]
    },
    {
      "cell_type": "markdown",
      "metadata": {
        "id": "7y0LdIwbkMbY"
      },
      "source": [
        "#broad_origin\n",
        "Задание 2.4.1\n"
      ]
    },
    {
      "cell_type": "code",
      "metadata": {
        "colab": {
          "base_uri": "https://localhost:8080/",
          "height": 300
        },
        "id": "KjhTOX6gkT2n",
        "outputId": "562c61d5-698b-44d0-cb4e-088995275305"
      },
      "source": [
        "print (\"broad_origin data types:\\n\")\n",
        "display (pd.DataFrame(cacao.broad_origin.apply(type).value_counts()))\n",
        "print ()\n",
        "\n",
        "pd.DataFrame(cacao.broad_origin).info()"
      ],
      "execution_count": 136,
      "outputs": [
        {
          "output_type": "stream",
          "text": [
            "broad_origin data types:\n",
            "\n"
          ],
          "name": "stdout"
        },
        {
          "output_type": "display_data",
          "data": {
            "text/html": [
              "<div>\n",
              "<style scoped>\n",
              "    .dataframe tbody tr th:only-of-type {\n",
              "        vertical-align: middle;\n",
              "    }\n",
              "\n",
              "    .dataframe tbody tr th {\n",
              "        vertical-align: top;\n",
              "    }\n",
              "\n",
              "    .dataframe thead th {\n",
              "        text-align: right;\n",
              "    }\n",
              "</style>\n",
              "<table border=\"1\" class=\"dataframe\">\n",
              "  <thead>\n",
              "    <tr style=\"text-align: right;\">\n",
              "      <th></th>\n",
              "      <th>broad_origin</th>\n",
              "    </tr>\n",
              "  </thead>\n",
              "  <tbody>\n",
              "    <tr>\n",
              "      <th>&lt;class 'str'&gt;</th>\n",
              "      <td>1794</td>\n",
              "    </tr>\n",
              "    <tr>\n",
              "      <th>&lt;class 'float'&gt;</th>\n",
              "      <td>1</td>\n",
              "    </tr>\n",
              "  </tbody>\n",
              "</table>\n",
              "</div>"
            ],
            "text/plain": [
              "                 broad_origin\n",
              "<class 'str'>            1794\n",
              "<class 'float'>             1"
            ]
          },
          "metadata": {
            "tags": []
          }
        },
        {
          "output_type": "stream",
          "text": [
            "\n",
            "<class 'pandas.core.frame.DataFrame'>\n",
            "RangeIndex: 1795 entries, 0 to 1794\n",
            "Data columns (total 1 columns):\n",
            " #   Column        Non-Null Count  Dtype \n",
            "---  ------        --------------  ----- \n",
            " 0   broad_origin  1794 non-null   object\n",
            "dtypes: object(1)\n",
            "memory usage: 14.1+ KB\n"
          ],
          "name": "stdout"
        }
      ]
    },
    {
      "cell_type": "code",
      "metadata": {
        "colab": {
          "base_uri": "https://localhost:8080/",
          "height": 146
        },
        "id": "7iP6XMrdr7Ho",
        "outputId": "db278e2a-b5ae-472c-b936-d4b402086af3"
      },
      "source": [
        "cacao.broad_origin = cacao.broad_origin.apply(fix_countries)\n",
        "print (\"broad_origin data types:\\n\")\n",
        "display (pd.DataFrame(cacao.broad_origin.apply(type).value_counts()))"
      ],
      "execution_count": 137,
      "outputs": [
        {
          "output_type": "stream",
          "text": [
            "broad_origin data types:\n",
            "\n"
          ],
          "name": "stdout"
        },
        {
          "output_type": "display_data",
          "data": {
            "text/html": [
              "<div>\n",
              "<style scoped>\n",
              "    .dataframe tbody tr th:only-of-type {\n",
              "        vertical-align: middle;\n",
              "    }\n",
              "\n",
              "    .dataframe tbody tr th {\n",
              "        vertical-align: top;\n",
              "    }\n",
              "\n",
              "    .dataframe thead th {\n",
              "        text-align: right;\n",
              "    }\n",
              "</style>\n",
              "<table border=\"1\" class=\"dataframe\">\n",
              "  <thead>\n",
              "    <tr style=\"text-align: right;\">\n",
              "      <th></th>\n",
              "      <th>broad_origin</th>\n",
              "    </tr>\n",
              "  </thead>\n",
              "  <tbody>\n",
              "    <tr>\n",
              "      <th>&lt;class 'str'&gt;</th>\n",
              "      <td>1794</td>\n",
              "    </tr>\n",
              "    <tr>\n",
              "      <th>&lt;class 'float'&gt;</th>\n",
              "      <td>1</td>\n",
              "    </tr>\n",
              "  </tbody>\n",
              "</table>\n",
              "</div>"
            ],
            "text/plain": [
              "                 broad_origin\n",
              "<class 'str'>            1794\n",
              "<class 'float'>             1"
            ]
          },
          "metadata": {
            "tags": []
          }
        }
      ]
    },
    {
      "cell_type": "code",
      "metadata": {
        "id": "Ls1yggvhtZ8i",
        "colab": {
          "base_uri": "https://localhost:8080/",
          "height": 490
        },
        "outputId": "20cf15f8-9819-45bb-f269-1666829b7499"
      },
      "source": [
        "#cacao_ = cacao.copy()\n",
        "\n",
        "#cacao.broad_origin = cacao.broad_origin.astype(str)\n",
        "cacao.broad_origin = cacao.broad_origin.apply(fix_countries) \n",
        "#cacao.broad_origin = cacao.broad_origin[cacao.broad_origin.apply (lambda x: type(x) == str)]\n",
        "#cacao.broad_origin = cacao.broad_origin[cacao.broad_origin.apply(hasletornum)]\n",
        " \n",
        "print (f\"Number of origins in the dataset: {cacao.broad_origin.nunique()}\\n\")\n",
        "print (f\"Number of origins that occur > 10 times: {(cacao.broad_origin.value_counts() > 10).sum()}\\n\")\n",
        "pd.DataFrame(cacao.broad_origin.value_counts()) #.head(97)"
      ],
      "execution_count": 138,
      "outputs": [
        {
          "output_type": "stream",
          "text": [
            "Number of origins in the dataset: 96\n",
            "\n",
            "Number of origins that occur > 10 times: 25\n",
            "\n"
          ],
          "name": "stdout"
        },
        {
          "output_type": "execute_result",
          "data": {
            "text/html": [
              "<div>\n",
              "<style scoped>\n",
              "    .dataframe tbody tr th:only-of-type {\n",
              "        vertical-align: middle;\n",
              "    }\n",
              "\n",
              "    .dataframe tbody tr th {\n",
              "        vertical-align: top;\n",
              "    }\n",
              "\n",
              "    .dataframe thead th {\n",
              "        text-align: right;\n",
              "    }\n",
              "</style>\n",
              "<table border=\"1\" class=\"dataframe\">\n",
              "  <thead>\n",
              "    <tr style=\"text-align: right;\">\n",
              "      <th></th>\n",
              "      <th>broad_origin</th>\n",
              "    </tr>\n",
              "  </thead>\n",
              "  <tbody>\n",
              "    <tr>\n",
              "      <th>Venezuela</th>\n",
              "      <td>214</td>\n",
              "    </tr>\n",
              "    <tr>\n",
              "      <th>Ecuador</th>\n",
              "      <td>193</td>\n",
              "    </tr>\n",
              "    <tr>\n",
              "      <th>DomincanRepublic</th>\n",
              "      <td>166</td>\n",
              "    </tr>\n",
              "    <tr>\n",
              "      <th>Peru</th>\n",
              "      <td>166</td>\n",
              "    </tr>\n",
              "    <tr>\n",
              "      <th>Madagascar</th>\n",
              "      <td>145</td>\n",
              "    </tr>\n",
              "    <tr>\n",
              "      <th>...</th>\n",
              "      <td>...</td>\n",
              "    </tr>\n",
              "    <tr>\n",
              "      <th>Madagascar,Ecuador</th>\n",
              "      <td>1</td>\n",
              "    </tr>\n",
              "    <tr>\n",
              "      <th>Nigeria</th>\n",
              "      <td>1</td>\n",
              "    </tr>\n",
              "    <tr>\n",
              "      <th>Guatemala,DomincanRepublic,Peru,Madagascar,PapuaNewGuinea</th>\n",
              "      <td>1</td>\n",
              "    </tr>\n",
              "    <tr>\n",
              "      <th>Africa,Carribean,C.Am.</th>\n",
              "      <td>1</td>\n",
              "    </tr>\n",
              "    <tr>\n",
              "      <th>Ecuador,CostaRica</th>\n",
              "      <td>1</td>\n",
              "    </tr>\n",
              "  </tbody>\n",
              "</table>\n",
              "<p>96 rows × 1 columns</p>\n",
              "</div>"
            ],
            "text/plain": [
              "                                                    broad_origin\n",
              "Venezuela                                                    214\n",
              "Ecuador                                                      193\n",
              "DomincanRepublic                                             166\n",
              "Peru                                                         166\n",
              "Madagascar                                                   145\n",
              "...                                                          ...\n",
              "Madagascar,Ecuador                                             1\n",
              "Nigeria                                                        1\n",
              "Guatemala,DomincanRepublic,Peru,Madagascar,Papu...             1\n",
              "Africa,Carribean,C.Am.                                         1\n",
              "Ecuador,CostaRica                                              1\n",
              "\n",
              "[96 rows x 1 columns]"
            ]
          },
          "metadata": {
            "tags": []
          },
          "execution_count": 138
        }
      ]
    },
    {
      "cell_type": "markdown",
      "metadata": {
        "id": "fFRxaY0BvvMY"
      },
      "source": [
        "#2.5. Корреляционный анализ"
      ]
    },
    {
      "cell_type": "code",
      "metadata": {
        "colab": {
          "base_uri": "https://localhost:8080/",
          "height": 726
        },
        "id": "7lKEb3PYvxle",
        "outputId": "021b50a4-0195-4b40-8354-ad44b2231a53"
      },
      "source": [
        "#sns.pairplot(cacao, kind = 'reg');"
      ],
      "execution_count": 140,
      "outputs": [
        {
          "output_type": "display_data",
          "data": {
            "image/png": "[encoded data removed]",
            "text/plain": [
              "<Figure size 720x720 with 20 Axes>"
            ]
          },
          "metadata": {
            "tags": [],
            "needs_background": "light"
          }
        }
      ]
    },
    {
      "cell_type": "code",
      "metadata": {
        "colab": {
          "base_uri": "https://localhost:8080/",
          "height": 174
        },
        "id": "nf0REA0wxzpR",
        "outputId": "defb5666-49b5-4fb4-be0d-218d6262b957"
      },
      "source": [
        "cacao.corr()"
      ],
      "execution_count": 143,
      "outputs": [
        {
          "output_type": "execute_result",
          "data": {
            "text/html": [
              "<div>\n",
              "<style scoped>\n",
              "    .dataframe tbody tr th:only-of-type {\n",
              "        vertical-align: middle;\n",
              "    }\n",
              "\n",
              "    .dataframe tbody tr th {\n",
              "        vertical-align: top;\n",
              "    }\n",
              "\n",
              "    .dataframe thead th {\n",
              "        text-align: right;\n",
              "    }\n",
              "</style>\n",
              "<table border=\"1\" class=\"dataframe\">\n",
              "  <thead>\n",
              "    <tr style=\"text-align: right;\">\n",
              "      <th></th>\n",
              "      <th>ref</th>\n",
              "      <th>review_date</th>\n",
              "      <th>cocoa_percent</th>\n",
              "      <th>rating</th>\n",
              "    </tr>\n",
              "  </thead>\n",
              "  <tbody>\n",
              "    <tr>\n",
              "      <th>ref</th>\n",
              "      <td>1.000000</td>\n",
              "      <td>0.985076</td>\n",
              "      <td>0.019591</td>\n",
              "      <td>-0.009183</td>\n",
              "    </tr>\n",
              "    <tr>\n",
              "      <th>review_date</th>\n",
              "      <td>0.985076</td>\n",
              "      <td>1.000000</td>\n",
              "      <td>0.011111</td>\n",
              "      <td>-0.013980</td>\n",
              "    </tr>\n",
              "    <tr>\n",
              "      <th>cocoa_percent</th>\n",
              "      <td>0.019591</td>\n",
              "      <td>0.011111</td>\n",
              "      <td>1.000000</td>\n",
              "      <td>-0.030687</td>\n",
              "    </tr>\n",
              "    <tr>\n",
              "      <th>rating</th>\n",
              "      <td>-0.009183</td>\n",
              "      <td>-0.013980</td>\n",
              "      <td>-0.030687</td>\n",
              "      <td>1.000000</td>\n",
              "    </tr>\n",
              "  </tbody>\n",
              "</table>\n",
              "</div>"
            ],
            "text/plain": [
              "                    ref  review_date  cocoa_percent    rating\n",
              "ref            1.000000     0.985076       0.019591 -0.009183\n",
              "review_date    0.985076     1.000000       0.011111 -0.013980\n",
              "cocoa_percent  0.019591     0.011111       1.000000 -0.030687\n",
              "rating        -0.009183    -0.013980      -0.030687  1.000000"
            ]
          },
          "metadata": {
            "tags": []
          },
          "execution_count": 143
        }
      ]
    }
  ]
}