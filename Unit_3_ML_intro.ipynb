{
  "nbformat": 4,
  "nbformat_minor": 0,
  "metadata": {
    "colab": {
      "name": "Unit 3 ML intro",
      "provenance": [],
      "include_colab_link": true
    },
    "kernelspec": {
      "name": "python3",
      "display_name": "Python 3"
    },
    "language_info": {
      "name": "python"
    }
  },
  "cells": [
    {
      "cell_type": "markdown",
      "metadata": {
        "id": "view-in-github",
        "colab_type": "text"
      },
      "source": [
        "<a href=\"https://colab.research.google.com/github/akitim/SkillFactory_current/blob/main/Unit_3_ML_intro.ipynb\" target=\"_parent\"><img src=\"https://colab.research.google.com/assets/colab-badge.svg\" alt=\"Open In Colab\"/></a>"
      ]
    },
    {
      "cell_type": "markdown",
      "metadata": {
        "id": "KWCpKg3wtoio"
      },
      "source": [
        "#PYTHON-11. Feature Engineering"
      ]
    },
    {
      "cell_type": "code",
      "metadata": {
        "id": "s-oAuHFMtRnU"
      },
      "source": [
        "import pandas as pd\n",
        "#import matplotlib\n",
        "import matplotlib.pyplot as plt\n",
        "# import seaborn as sns\n",
        "import warnings; warnings.filterwarnings('ignore') #(action='once')\n",
        "import missingno as msno\n",
        "# from itertools import combinations\n",
        "# from scipy.stats import ttest_ind\n",
        "# from scipy.stats import norm\n",
        " \n",
        "%matplotlib inline\n",
        " \n",
        "pd.set_option('display.max_rows', 50) # показывать больше строк\n",
        "pd.set_option('display.max_columns', 50) # показывать больше колонок\n",
        "pd.options.display.precision = 3\n",
        " \n",
        " \n",
        "#import sys\n",
        "#from google.colab import drive\n",
        "#drive.mount('/content/gdrive', force_remount=True)\n",
        "#sys.path.clear\n",
        "#sys.path.append('/content/gdrive/MyDrive/SkillFactory')"
      ],
      "execution_count": null,
      "outputs": []
    },
    {
      "cell_type": "markdown",
      "metadata": {
        "id": "dOKfWyekus2-"
      },
      "source": [
        "#Загрузка"
      ]
    },
    {
      "cell_type": "code",
      "metadata": {
        "colab": {
          "base_uri": "https://localhost:8080/",
          "height": 80
        },
        "id": "6r4UTS2jvLr_",
        "outputId": "39770f2d-b032-4984-d359-aff85f48bfe2"
      },
      "source": [
        "log_path = 'https://raw.githubusercontent.com/akitim/datasets/main/log.csv'\n",
        "cols = ['user_id', 'time', 'bet', 'win']\n",
        "#log = pd.read_csv('/content/gdrive/MyDrive/SkillFactory/log.csv', names=cols)\n",
        "log = pd.read_csv(log_path, names=cols)\n",
        " \n",
        "#users = pd.read_csv(\n",
        "#    '/content/gdrive/MyDrive/SkillFactory/vsers.csv',\n",
        "#    encoding='koi8-r',\n",
        "#    sep = '\\t'\n",
        "#)\n",
        " \n",
        "users_path = 'https://raw.githubusercontent.com/akitim/datasets/main/users.csv'\n",
        "users = pd.read_csv(\n",
        "    users_path,\n",
        "    encoding='koi8-r',\n",
        "    sep = '\\t'\n",
        ")\n",
        "users.columns = ['user_id', 'email', 'geo']\n",
        "users.sample(1)\n",
        "# log.sample(1)"
      ],
      "execution_count": null,
      "outputs": [
        {
          "output_type": "execute_result",
          "data": {
            "text/html": [
              "<div>\n",
              "<style scoped>\n",
              "    .dataframe tbody tr th:only-of-type {\n",
              "        vertical-align: middle;\n",
              "    }\n",
              "\n",
              "    .dataframe tbody tr th {\n",
              "        vertical-align: top;\n",
              "    }\n",
              "\n",
              "    .dataframe thead th {\n",
              "        text-align: right;\n",
              "    }\n",
              "</style>\n",
              "<table border=\"1\" class=\"dataframe\">\n",
              "  <thead>\n",
              "    <tr style=\"text-align: right;\">\n",
              "      <th></th>\n",
              "      <th>Юзверь</th>\n",
              "      <th>мейл</th>\n",
              "      <th>Гео</th>\n",
              "    </tr>\n",
              "  </thead>\n",
              "  <tbody>\n",
              "    <tr>\n",
              "      <th>52</th>\n",
              "      <td>User_904</td>\n",
              "      <td>Kryptoburs@yahoo.com</td>\n",
              "      <td>Ярославль</td>\n",
              "    </tr>\n",
              "  </tbody>\n",
              "</table>\n",
              "</div>"
            ],
            "text/plain": [
              "      Юзверь                  мейл        Гео\n",
              "52  User_904  Kryptoburs@yahoo.com  Ярославль"
            ]
          },
          "metadata": {},
          "execution_count": 84
        }
      ]
    },
    {
      "cell_type": "markdown",
      "metadata": {
        "id": "C5Cb58gPKKU2"
      },
      "source": [
        "Задание 1-5"
      ]
    },
    {
      "cell_type": "code",
      "metadata": {
        "id": "jvcyNyVo8cFg",
        "colab": {
          "base_uri": "https://localhost:8080/"
        },
        "outputId": "1a056e41-7754-417b-dc73-672e2e067029"
      },
      "source": [
        "len(log.loc[log.loc[:, 'time'].isna(), 'time'])"
      ],
      "execution_count": null,
      "outputs": [
        {
          "output_type": "execute_result",
          "data": {
            "text/plain": [
              "15"
            ]
          },
          "metadata": {},
          "execution_count": 16
        }
      ]
    },
    {
      "cell_type": "code",
      "metadata": {
        "id": "z2FwQ2uaMpgZ",
        "colab": {
          "base_uri": "https://localhost:8080/",
          "height": 423
        },
        "outputId": "2a011648-3024-4647-93f5-34147d701c14"
      },
      "source": [
        "#log.dropna(axis=1)\n",
        " \n",
        "#log.dropna(axis=0)\n",
        " \n",
        "#log.loc[users.index.intersection(['time', 'user_id'])].dropna(axis=1)\n",
        "for col in ['time', 'user_id']:\n",
        "    if log.loc[:, col].isna().any():\n",
        "         log.drop(col, inplace=True, axis=1)\n",
        "log"
      ],
      "execution_count": null,
      "outputs": [
        {
          "output_type": "execute_result",
          "data": {
            "text/html": [
              "<div>\n",
              "<style scoped>\n",
              "    .dataframe tbody tr th:only-of-type {\n",
              "        vertical-align: middle;\n",
              "    }\n",
              "\n",
              "    .dataframe tbody tr th {\n",
              "        vertical-align: top;\n",
              "    }\n",
              "\n",
              "    .dataframe thead th {\n",
              "        text-align: right;\n",
              "    }\n",
              "</style>\n",
              "<table border=\"1\" class=\"dataframe\">\n",
              "  <thead>\n",
              "    <tr style=\"text-align: right;\">\n",
              "      <th></th>\n",
              "      <th>user_id</th>\n",
              "      <th>bet</th>\n",
              "      <th>win</th>\n",
              "    </tr>\n",
              "  </thead>\n",
              "  <tbody>\n",
              "    <tr>\n",
              "      <th>0</th>\n",
              "      <td>Запись пользователя № - user_919</td>\n",
              "      <td>NaN</td>\n",
              "      <td>NaN</td>\n",
              "    </tr>\n",
              "    <tr>\n",
              "      <th>1</th>\n",
              "      <td>Запись пользователя № - user_973</td>\n",
              "      <td>NaN</td>\n",
              "      <td>NaN</td>\n",
              "    </tr>\n",
              "    <tr>\n",
              "      <th>2</th>\n",
              "      <td>Запись пользователя № - user_903</td>\n",
              "      <td>NaN</td>\n",
              "      <td>NaN</td>\n",
              "    </tr>\n",
              "    <tr>\n",
              "      <th>3</th>\n",
              "      <td>Запись пользователя № - user_954</td>\n",
              "      <td>NaN</td>\n",
              "      <td>NaN</td>\n",
              "    </tr>\n",
              "    <tr>\n",
              "      <th>4</th>\n",
              "      <td>Запись пользователя № - user_954</td>\n",
              "      <td>NaN</td>\n",
              "      <td>NaN</td>\n",
              "    </tr>\n",
              "    <tr>\n",
              "      <th>...</th>\n",
              "      <td>...</td>\n",
              "      <td>...</td>\n",
              "      <td>...</td>\n",
              "    </tr>\n",
              "    <tr>\n",
              "      <th>995</th>\n",
              "      <td>Запись пользователя № - user_984</td>\n",
              "      <td>9754.0</td>\n",
              "      <td>NaN</td>\n",
              "    </tr>\n",
              "    <tr>\n",
              "      <th>996</th>\n",
              "      <td>#error</td>\n",
              "      <td>10054.0</td>\n",
              "      <td>29265.0</td>\n",
              "    </tr>\n",
              "    <tr>\n",
              "      <th>997</th>\n",
              "      <td>#error</td>\n",
              "      <td>10454.0</td>\n",
              "      <td>NaN</td>\n",
              "    </tr>\n",
              "    <tr>\n",
              "      <th>998</th>\n",
              "      <td>#error</td>\n",
              "      <td>1000.0</td>\n",
              "      <td>NaN</td>\n",
              "    </tr>\n",
              "    <tr>\n",
              "      <th>999</th>\n",
              "      <td>#error</td>\n",
              "      <td>10754.0</td>\n",
              "      <td>NaN</td>\n",
              "    </tr>\n",
              "  </tbody>\n",
              "</table>\n",
              "<p>1000 rows × 3 columns</p>\n",
              "</div>"
            ],
            "text/plain": [
              "                              user_id      bet      win\n",
              "0    Запись пользователя № - user_919      NaN      NaN\n",
              "1    Запись пользователя № - user_973      NaN      NaN\n",
              "2    Запись пользователя № - user_903      NaN      NaN\n",
              "3    Запись пользователя № - user_954      NaN      NaN\n",
              "4    Запись пользователя № - user_954      NaN      NaN\n",
              "..                                ...      ...      ...\n",
              "995  Запись пользователя № - user_984   9754.0      NaN\n",
              "996                            #error  10054.0  29265.0\n",
              "997                            #error  10454.0      NaN\n",
              "998                            #error   1000.0      NaN\n",
              "999                            #error  10754.0      NaN\n",
              "\n",
              "[1000 rows x 3 columns]"
            ]
          },
          "metadata": {},
          "execution_count": 4
        }
      ]
    },
    {
      "cell_type": "code",
      "metadata": {
        "id": "VFoyAmFEsgwD",
        "colab": {
          "base_uri": "https://localhost:8080/"
        },
        "outputId": "9ba0103c-8fd9-463a-8805-7c2e207787ef"
      },
      "source": [
        "len(log[['time','user_id']].drop_duplicates())"
      ],
      "execution_count": null,
      "outputs": [
        {
          "output_type": "execute_result",
          "data": {
            "text/plain": [
              "986"
            ]
          },
          "metadata": {},
          "execution_count": 17
        }
      ]
    },
    {
      "cell_type": "markdown",
      "metadata": {
        "id": "p5zc7CREZC4i"
      },
      "source": [
        "11.3 Преобразование к datetime"
      ]
    },
    {
      "cell_type": "code",
      "metadata": {
        "id": "PGgSiUj1ZHrF",
        "colab": {
          "base_uri": "https://localhost:8080/"
        },
        "outputId": "1c3a6f48-b934-4522-f230-50532987647f"
      },
      "source": [
        "log_path = 'https://raw.githubusercontent.com/akitim/datasets/main/log.csv'\n",
        "cols = ['user_id', 'time', 'bet', 'win']\n",
        "log = pd.read_csv(log_path, names=cols)\n",
        "\n",
        "log = log.dropna()\n",
        "\n",
        "time = log.loc[:, 'time']\n",
        "time = pd.to_datetime(\n",
        "    time.apply(lambda t: t[1:] if type(t) == str else t),\n",
        "    \n",
        ")\n",
        "time.apply(lambda t: t.minute)"
      ],
      "execution_count": null,
      "outputs": [
        {
          "output_type": "execute_result",
          "data": {
            "text/plain": [
              "14     57\n",
              "29     59\n",
              "151    54\n",
              "189    34\n",
              "205    26\n",
              "       ..\n",
              "967    25\n",
              "971    35\n",
              "972    35\n",
              "976    35\n",
              "991    55\n",
              "Name: time, Length: 133, dtype: int64"
            ]
          },
          "metadata": {},
          "execution_count": 10
        }
      ]
    },
    {
      "cell_type": "markdown",
      "metadata": {
        "id": "gmuolLXZ27MD"
      },
      "source": [
        "#11.4 Извлечение признаков времени"
      ]
    },
    {
      "cell_type": "code",
      "metadata": {
        "colab": {
          "base_uri": "https://localhost:8080/"
        },
        "id": "qvVXY7A626w9",
        "outputId": "215c5d48-1914-45c9-b7be-e51d417f7070"
      },
      "source": [
        "#Задание 1\n",
        " \n",
        "log_path = 'https://raw.githubusercontent.com/akitim/datasets/main/log.csv'\n",
        "cols = ['user_id', 'time', 'bet', 'win']\n",
        " \n",
        "log = pd.read_csv(log_path, names=cols)\n",
        "log.dropna(inplace=True)\n",
        " \n",
        "log.loc[:, 'time'] = pd.to_datetime(\n",
        "    log.loc[:, 'time'].apply(lambda t: t[1:] if type(t) == str else t),\n",
        ")\n",
        "log.loc[:, 'time'].dt.minute.value_counts().index[0]\n",
        "# pd.DataFrame(log.loc[:, 'time'].dt.minute.value_counts())\n",
        "# pd.DataFrame(log.loc[:, 'time'].dt.second).hist();\n",
        "# pd.DataFrame(log.loc[:, 'time'].dt.minute).hist();\n",
        "# pd.DataFrame(log.loc[:, 'time'].dt.hour).hist();\n",
        " \n",
        "# Задание 2\n",
        "log_path = 'https://raw.githubusercontent.com/akitim/datasets/main/log.csv'\n",
        "cols = ['user_id', 'time', 'bet', 'win']\n",
        " \n",
        "log = pd.read_csv(log_path, names=cols)\n",
        "log.dropna(inplace=True)\n",
        "log.loc[:, 'time'] = pd.to_datetime(\n",
        "    log.loc[:, 'time'].apply(lambda t: t[1:] if type(t) == str else t)\n",
        ")\n",
        "log.loc[:, 'time'].dt.month.value_counts() #.index[0]"
      ],
      "execution_count": null,
      "outputs": [
        {
          "output_type": "execute_result",
          "data": {
            "text/plain": [
              "3    57\n",
              "4    51\n",
              "2    16\n",
              "1     9\n",
              "Name: time, dtype: int64"
            ]
          },
          "metadata": {},
          "execution_count": 45
        }
      ]
    },
    {
      "cell_type": "code",
      "metadata": {
        "colab": {
          "base_uri": "https://localhost:8080/"
        },
        "id": "_1bhYyPOZYxV",
        "outputId": "126f83eb-bdf6-4038-e149-7c631d7fbf30"
      },
      "source": [
        "# Задание 3*\n",
        "log_path = 'https://raw.githubusercontent.com/akitim/datasets/main/log.csv'\n",
        "cols = ['user_id', 'time', 'bet', 'win']\n",
        "\n",
        "log = pd.read_csv(log_path, names=cols)\n",
        "log.dropna(inplace=True)\n",
        "\n",
        "log.loc[:, 'time'] = pd.to_datetime(\n",
        "    log.loc[:, 'time'].apply(lambda t: t[1:] if type(t) == str else t),\n",
        ")\n",
        "\n",
        "weekend = log.loc[:, 'time'].dt.weekday.apply (lambda d: d in [5, 6])\n",
        "len(log.loc[weekend, 'time'])\n",
        "\n",
        "log[(log.time.dt.weekday == 5) | (log.time.dt.weekday == 6)]['time'].count()"
      ],
      "execution_count": null,
      "outputs": [
        {
          "output_type": "execute_result",
          "data": {
            "text/plain": [
              "37"
            ]
          },
          "metadata": {},
          "execution_count": 67
        }
      ]
    },
    {
      "cell_type": "markdown",
      "metadata": {
        "id": "LbTUCRVL-7cA"
      },
      "source": [
        "# Задание 4*"
      ]
    },
    {
      "cell_type": "code",
      "metadata": {
        "id": "CNqS0guO_ADV",
        "colab": {
          "base_uri": "https://localhost:8080/"
        },
        "outputId": "9d3089ca-eb36-475c-fd3a-17c92aa10637"
      },
      "source": [
        "log_path = 'https://raw.githubusercontent.com/akitim/datasets/main/log.csv'\n",
        "cols = ['user_id', 'time', 'bet', 'win']\n",
        "\n",
        "log = pd.read_csv(log_path, names=cols)\n",
        "# log.dropna(inplace=True)\n",
        "\n",
        "log.loc[:, 'time'] = pd.to_datetime(\n",
        "    log.loc[:, 'time'].apply(lambda t: t[1:] if type(t) == str else t),\n",
        ")\n",
        "\n",
        "def timeofday(h):\n",
        "    if h >= 0 and h <= 5:\n",
        "        return 'night'\n",
        "    elif h >=6 and h <= 11:\n",
        "        return 'morning'\n",
        "    elif h >= 12 and h <= 17:\n",
        "        return 'day'\n",
        "    else:\n",
        "        return 'evening'\n",
        "\n",
        "time = log.loc[:, 'time'].dropna()\n",
        "drare = time.dt.hour.apply(timeofday).value_counts().min()\n",
        "print(\n",
        "time.dt.hour.apply(timeofday).value_counts() [\n",
        "    time.dt.hour.apply(timeofday).value_counts() == drare\n",
        "].index[0]\n",
        ")"
      ],
      "execution_count": null,
      "outputs": [
        {
          "output_type": "stream",
          "text": [
            "evening\n"
          ],
          "name": "stdout"
        }
      ]
    },
    {
      "cell_type": "markdown",
      "metadata": {
        "id": "psnL3wbIXmKv"
      },
      "source": [
        "#11.5 Снова смотрим на пропуски"
      ]
    },
    {
      "cell_type": "code",
      "metadata": {
        "id": "x9rtDFf1WmYs",
        "colab": {
          "base_uri": "https://localhost:8080/"
        },
        "outputId": "8b112900-abc1-442c-86ab-b7746ca8d7a1"
      },
      "source": [
        "log_path = 'https://raw.githubusercontent.com/akitim/datasets/main/log.csv'\n",
        "cols = ['user_id', 'time', 'bet', 'win']\n",
        "\n",
        "log = pd.read_csv(log_path, names=cols)\n",
        "\n",
        "log.loc[:, 'bet'].fillna(0, inplace=True)\n",
        "log.loc[:, 'bet'].value_counts()[0]"
      ],
      "execution_count": null,
      "outputs": [
        {
          "output_type": "execute_result",
          "data": {
            "text/plain": [
              "515"
            ]
          },
          "metadata": {},
          "execution_count": 5
        }
      ]
    },
    {
      "cell_type": "code",
      "metadata": {
        "id": "U9hSheeKeN6q",
        "colab": {
          "base_uri": "https://localhost:8080/"
        },
        "outputId": "1134256f-017a-41b0-ef1f-5fb6d8c73ae6"
      },
      "source": [
        "log_path = 'https://raw.githubusercontent.com/akitim/datasets/main/log.csv'\n",
        "cols = ['user_id', 'time', 'bet', 'win']\n",
        " \n",
        "log = pd.read_csv(log_path, names=cols)\n",
        "log.loc[:, 'bet'].fillna(0, inplace=True)\n",
        " \n",
        "def fillna_win(row):\n",
        "    if pd.isna(row['win']) and pd.isna(row['bet']):\n",
        "        row['win'] = 0\n",
        "        return row\n",
        "    elif row['bet'] == 0:\n",
        "        row['win'] = 0\n",
        "        return row\n",
        "    elif pd.isna(row['win']) and not(pd.isna(row['bet'])):\n",
        "        row['win'] = -row['bet']\n",
        "        return row\n",
        "    else:\n",
        "        return row\n",
        "log = log.apply(lambda row: fillna_win(row), axis=1)\n",
        "(log.loc[:, 'win'] < 0).sum()\n",
        " \n",
        "#11.6 Есть ли смысл играть?\n",
        "#Задание 1\n",
        "log.loc[:, 'net'] = -log.loc[:, 'bet']\n",
        "log.loc[log.loc[:, 'win'] >= 0, 'net'] = log.loc[:,'win'] - log.loc[:, 'bet']\n",
        "(log.loc[:, 'net'] > 0).sum()\n",
        " \n",
        "#Задание 2\n",
        "round(\n",
        "    log.loc[log.loc[:, 'net'] > 0, 'net'].mean()\n",
        ")   # => 80253\n",
        " \n",
        "#Задание 3\n",
        "round(\n",
        "    log.loc[log.loc[:, 'net'] > 0, 'net'].median()\n",
        ")   # => 5347 \n",
        "# log.loc[log.loc[:, 'net'] < 1e7, 'net'].hist(bins=50, log=True);\n",
        "# plt.xlabel('net');\n",
        "# plt.title('Net distribution');"
      ],
      "execution_count": null,
      "outputs": [
        {
          "output_type": "execute_result",
          "data": {
            "text/plain": [
              "80253.33333333333"
            ]
          },
          "metadata": {},
          "execution_count": 17
        }
      ]
    },
    {
      "cell_type": "markdown",
      "metadata": {
        "id": "8yisve8L6UsN"
      },
      "source": [
        "#11.7 Сколько можно выиграть/проиграть?"
      ]
    },
    {
      "cell_type": "code",
      "metadata": {
        "colab": {
          "base_uri": "https://localhost:8080/"
        },
        "id": "tLlP-3UX6YQS",
        "outputId": "1a5f4b39-b888-431f-8067-d4ae631b2834"
      },
      "source": [
        "import pandas as pd\n",
        " \n",
        "log_path = 'https://raw.githubusercontent.com/akitim/datasets/main/log.csv'\n",
        "cols = ['user_id', 'time', 'bet', 'win']\n",
        "log = pd.read_csv(log_path, names=cols)\n",
        " \n",
        "log.loc[:, 'bet'].fillna(0, inplace=True)\n",
        "log.loc[:, 'win'].fillna(0, inplace=True)\n",
        " \n",
        "log.loc[:, 'net'] = log.loc[:, 'win'] - log.loc[:, 'bet']\n",
        " \n",
        "#log.loc[log.loc[:, 'bet'] > 0, 'bet'].count()\n",
        " \n",
        "#Задание 1\n",
        "round(\n",
        "    (log.loc[:, 'bet'] > 0).sum() / len(log) * 100,\n",
        "    #(log.loc[:, 'bet'] > 0).mean() * 100\n",
        "    1\n",
        ")\n",
        " \n",
        "#Задание 2\n",
        "log.loc[log.loc[:, 'bet'] > 0, 'bet'].mean() // 1\n",
        " \n",
        "#Задание 3\n",
        "log.loc[log.loc[:, 'bet'] > 0, 'net'].mean() // 1\n",
        " \n",
        "#Задание 4\n",
        "round(log.loc[log.loc[:, 'net'] < 0, 'net'].mean()) + 1\n",
        " \n",
        "#Задание 5\n",
        "#процент выигрышных ставок\n",
        "winbet = ((log.loc[:, 'bet'] > 0) * (log.loc[:, 'net'] > 0)).mean() * 100\n",
        "winbet < 100 - winbet"
      ],
      "execution_count": null,
      "outputs": [
        {
          "output_type": "execute_result",
          "data": {
            "text/plain": [
              "True"
            ]
          },
          "metadata": {},
          "execution_count": 77
        }
      ]
    },
    {
      "cell_type": "code",
      "metadata": {
        "id": "OBgTr0kQZd3_"
      },
      "source": [
        "#Задание 6*\n",
        "import pandas as pd\n",
        "\n",
        "def r2i(f):\n",
        "    return round(f - 0.5)\n",
        "\n",
        "log_path = 'https://raw.githubusercontent.com/akitim/datasets/main/log.csv'\n",
        "cols = ['user_id', 'time', 'bet', 'win']\n",
        "log = pd.read_csv(log_path, names=cols)\n",
        "\n",
        "log.loc[:, 'bet'].fillna(0, inplace=True)\n",
        "log.loc[:, 'win'].fillna(0, inplace=True)\n",
        "\n",
        "min_bet = log.loc[log.loc[:, 'bet'] > 0, 'bet'].min()\n",
        "min_bet_amount = r2i(\n",
        "    log.loc[log.loc[:, 'bet'] == min_bet, 'bet'].count()\n",
        ")\n"
      ],
      "execution_count": null,
      "outputs": []
    },
    {
      "cell_type": "markdown",
      "metadata": {
        "id": "rmbgoayUbzaA"
      },
      "source": [
        "#11.8 Повторение merge/groupby"
      ]
    },
    {
      "cell_type": "code",
      "metadata": {
        "colab": {
          "base_uri": "https://localhost:8080/"
        },
        "id": "8rkQH6wWbyss",
        "outputId": "65a59807-708e-4400-fbed-68d85cb2811a"
      },
      "source": [
        "import pandas as pd\n",
        " \n",
        "def r2i(f):\n",
        "    return round(f - 0.5)\n",
        " \n",
        "log_path = 'https://raw.githubusercontent.com/akitim/datasets/main/log.csv'\n",
        "cols = ['user_id', 'time', 'bet', 'win']\n",
        "log = pd.read_csv(log_path, names=cols)\n",
        " \n",
        "us_path = 'https://raw.githubusercontent.com/akitim/datasets/main/users.csv'\n",
        "us = pd.read_csv(\n",
        "    us_path,\n",
        "    encoding='koi8-r',\n",
        "    sep = '\\t'\n",
        ")\n",
        "us.columns = ['user_id', 'email', 'geo']\n",
        " \n",
        "# Приведем признак user_id к одному формату в обоих датасетах  \n",
        "us.user_id = us.user_id.apply(lambda x: x.lower())\n",
        " \n",
        "# Избавимся от ошибок в user_id  \n",
        "log = log[log.user_id != '#error']  \n",
        "log.user_id = log.user_id.str.split(' - ').apply(lambda x: x[1])\n",
        " \n",
        "log.loc[:, 'bet'].fillna(0, inplace=True)\n",
        "log.loc[:, 'win'].fillna(0, inplace=True)\n",
        " \n",
        "log.loc[:, 'net'] = log.loc[:, 'win'] - log.loc[:, 'bet']\n",
        " \n",
        "logus = pd.merge(log, us, on='user_id')\n",
        " \n",
        "logus.groupby('user_id')['win'].median().median()  \n",
        " \n",
        "#11.9 Анализ по пользователям\n",
        "# Задание 1\n",
        "r2i(logus.groupby(by='user_id')['net'].sum().median())\n",
        " \n",
        "#Задание 2*\n",
        "# logus.groupby(by='user_id')['bet'].sum().sort_values(ascending=True)\n",
        " \n",
        "unix = logus.loc[logus.loc[:, 'bet'] > 0, 'user_id'].unique()\n",
        " \n",
        "r2i(\n",
        "    logus.loc[\n",
        "    logus.loc[:, 'bet'] == 0,\n",
        "    'user_id'\n",
        "    ].apply(lambda u: u if u in unix else '').value_counts().mean()\n",
        ") # => 5\n",
        " \n",
        "#Задание 3**\n",
        "# Сколько в среднем времени проходит\n",
        "# между появлением человека в сервисе и первой ставкой?\n",
        " \n",
        "logus.loc[:, 'time'] = pd.to_datetime(\n",
        "    logus.loc[:, 'time'].apply(lambda t: t[1:])\n",
        ")\n",
        " \n",
        "def time2bet (id):\n",
        "    tb = logus.loc[\n",
        "        logus.loc[:, 'user_id'] == id, 'time':'bet'\n",
        "    ].sort_values(by='time')\n",
        " \n",
        "    t_appear = tb.loc[tb.index.min(), 'time']\n",
        "    t_1stbet = tb.loc[tb.loc[tb.loc[:, 'bet'] > 0, 'time'].index.min(), 'time']\n",
        " \n",
        "    return (t_1stbet - t_appear).total_seconds() / 3600 / 24\n",
        " \n",
        "unix = logus.loc[logus.loc[:, 'bet'] > 0, 'user_id'].unique()\n",
        " \n",
        "dt = pd.DataFrame(data=[time2bet(u) for u in unix], index = unix, columns=['time_to_1stbet'])\n",
        "r2i(dt.loc[:, 'time_to_1stbet'].mean())\n",
        "# time2bet('user_902')"
      ],
      "execution_count": null,
      "outputs": [
        {
          "output_type": "execute_result",
          "data": {
            "text/plain": [
              "47"
            ]
          },
          "metadata": {},
          "execution_count": 9
        }
      ]
    },
    {
      "cell_type": "markdown",
      "metadata": {
        "id": "rCmnSGySsrBW"
      },
      "source": [
        "#11.10 Анализ по городам"
      ]
    },
    {
      "cell_type": "code",
      "metadata": {
        "id": "RFOx5FATe3Au",
        "colab": {
          "base_uri": "https://localhost:8080/"
        },
        "outputId": "65ad69ad-882d-43ac-fb3f-ad299bb96bc4"
      },
      "source": [
        "# Задание 1\n",
        "logus.groupby(by='geo')['win'].sum().sort_values(ascending=False).index[1]\n",
        " \n",
        "# Задание 2*\n",
        " \n",
        "mean_bet_by_city = logus.loc[\n",
        "    logus.loc[:, 'bet'] != 0, :\n",
        "].groupby(by='geo')['bet'].mean() #.sort_values(ascending=False)\n",
        " \n",
        "r2i(mean_bet_by_city.max() / mean_bet_by_city.min())"
      ],
      "execution_count": null,
      "outputs": [
        {
          "output_type": "execute_result",
          "data": {
            "text/plain": [
              "127"
            ]
          },
          "metadata": {},
          "execution_count": 14
        }
      ]
    },
    {
      "cell_type": "code",
      "metadata": {
        "id": "8yNXnJRftZxo",
        "colab": {
          "base_uri": "https://localhost:8080/"
        },
        "outputId": "3fd52ef2-239a-4fea-ca10-b243cc966adf"
      },
      "source": [
        " #Задание 3\n",
        "import pandas as pd\n",
        " \n",
        "def r2i(f):\n",
        "    return round(f - 0.5)\n",
        " \n",
        "log_path = 'https://raw.githubusercontent.com/akitim/datasets/main/log.csv'\n",
        "cols = ['user_id', 'time', 'bet', 'win']\n",
        "log = pd.read_csv(log_path, names=cols)\n",
        " \n",
        "us_path = 'https://raw.githubusercontent.com/akitim/datasets/main/users.csv'\n",
        "us = pd.read_csv(\n",
        "    us_path,\n",
        "    encoding='koi8-r',\n",
        "    sep = '\\t'\n",
        ")\n",
        "us.columns = ['user_id', 'email', 'geo']\n",
        " \n",
        "# Приведем признак user_id к одному формату в обоих датасетах  \n",
        "us.user_id = us.user_id.apply(lambda x: x.lower())\n",
        " \n",
        "# Избавимся от ошибок в user_id  \n",
        "log = log[log.user_id != '#error']\n",
        " log.user_id = log.user_id.str.split(' - ').apply(lambda x: x[1])\n",
        " \n",
        "logus = pd.merge(log, us, on='user_id')\n",
        " \n",
        "sample2 = logus.groupby(by='geo')['user_id'].count()"
      ],
      "execution_count": null,
      "outputs": [
        {
          "output_type": "execute_result",
          "data": {
            "text/plain": [
              "geo\n",
              "Арзангелтск         96\n",
              "Воронеж             88\n",
              "Екатеринбург        49\n",
              "Ижевск              61\n",
              "Казань              66\n",
              "Краснодар           86\n",
              "Красноярск          56\n",
              "Москва              61\n",
              "Пермь               55\n",
              "Санкт-Петербург    115\n",
              "Ставрополь          36\n",
              "Тюмень              32\n",
              "Хабаровск           60\n",
              "Ярославль           89\n",
              "Name: user_id, dtype: int64"
            ]
          },
          "metadata": {},
          "execution_count": 16
        }
      ]
    },
    {
      "cell_type": "markdown",
      "metadata": {
        "id": "0Zq8WrlBbDoJ"
      },
      "source": [
        "#1.5. Скалярное произведение векторов"
      ]
    },
    {
      "cell_type": "code",
      "metadata": {
        "id": "0qJu6cQpbHrd",
        "colab": {
          "base_uri": "https://localhost:8080/"
        },
        "outputId": "d80568df-3696-455f-f0c3-dbce39efdd8f"
      },
      "source": [
        "import numpy as np\n",
        " \n",
        "x = np.array([4,6,1])\n",
        "np.dot(x,x)**0.5"
      ],
      "execution_count": null,
      "outputs": [
        {
          "output_type": "execute_result",
          "data": {
            "text/plain": [
              "7.280109889280518"
            ]
          },
          "metadata": {},
          "execution_count": 1
        }
      ]
    },
    {
      "cell_type": "markdown",
      "metadata": {
        "id": "5rdxCB47HFK2"
      },
      "source": [
        "#1.7. --> Практика. Векторы"
      ]
    },
    {
      "cell_type": "code",
      "metadata": {
        "id": "MBMRKIheHIkS",
        "colab": {
          "base_uri": "https://localhost:8080/"
        },
        "outputId": "1a717f19-ca28-473f-cdd7-a273f1ad3c62"
      },
      "source": [
        "import numpy as np\n",
        "import pandas as pd\n",
        "Hut_Paradise_DF = pd.DataFrame({'1.Rent': [65, 70, 120, 35, 40, 50, 100, 90, 85], \n",
        "                                '2.Area': [50, 52, 80, 33, 33, 44, 80, 65, 65], \n",
        "                                '3.Rooms':[3, 2, 1, 1, 1, 2, 4, 3, 2],\n",
        "                                '4.Floor':[5, 12, 10, 3, 6, 13, 8, 21, 5], \n",
        "                                '5.Demo two weeks':[8, 4, 5, 10, 20, 12, 5, 1, 10], \n",
        "                                '6.Liv.Area': [37, 40, 65, 20, 16, 35, 60, 50, 40]})\n",
        "#Задание 1.7.1\n",
        "hp = Hut_Paradise_DF\n",
        "hp.loc[4,:].values\n",
        " \n",
        "#Задание 1.7.2\n",
        "# print(str(hp.loc[:, '4.Floor'].values).replace(' ', ',').replace(',,', ',')[2:-1])\n",
        " \n",
        "hp.shape\n",
        " \n",
        "#Задание 1.7.5\n",
        "nlva = hp.loc[:, '2.Area']-hp.loc[:, '6.Liv.Area']\n",
        "# print(str(nlva.values).replace(' ', ',').replace(',,', ',')[1:-1])\n",
        " \n",
        "#Задание 1.7.6\n",
        "grr = hp.loc[:, '1.Rent'] * 4 / 10\n",
        "# print(','.join(grr.astype(int).astype(str).values))\n",
        "\n",
        "# Задание 1.7.7\n",
        "hp.loc[:, '7.T.demo'] = [10, 20, 30, 15, 5, 40, 20, 8, 20]\n",
        "\n",
        "# display(hp.head(9))\n",
        "# print('\\n','='*66, '\\n')\n",
        "\n",
        "np.dot(hp.loc[:, '7.T.demo'],hp.loc[:, '5.Demo two weeks'])\n",
        "\n",
        "# Задача 2. Условие\n",
        "# Даны три вектора:\n",
        "\n",
        "u = np.array([3,0,1,1,1])\n",
        "v = np.array([0,1,0,2,-2])\n",
        "w = np.array([1,-4,-1,0,-2])\n",
        "a = {'u': u, 'v': v, 'w': w }\n",
        "\n",
        "from itertools import combinations\n",
        "\n",
        "for c in combinations(['u', 'v', 'w'], 2):\n",
        "    print (f'Векторы {c[0]} и {c[1]} ортогональны: \\\n",
        "    {np.dot(a[c[0]], a[c[1]]) == 0}')\n",
        "\n",
        "# Задание 1.7.8\n",
        "# Составьте линейную комбинацию векторов v и w с коэффициентами 2 и -3:\n",
        "\n",
        "# print(','.join(list(map(str, 2*v - 3*w))))\n",
        "\n",
        "# Задание 1.7.10\n",
        "\n",
        "def norm(v):\n",
        "    return v / np.dot(v, v)**0.5\n",
        "\n",
        "round (norm(u)[2], 3)\n",
        "round (norm(v)[3], 3)\n",
        "round (norm(w)[0], 3)\n"
      ],
      "execution_count": null,
      "outputs": [
        {
          "output_type": "stream",
          "text": [
            "Векторы u и v ортогональны:     True\n",
            "Векторы u и w ортогональны:     True\n",
            "Векторы v и w ортогональны:     True\n"
          ],
          "name": "stdout"
        },
        {
          "output_type": "execute_result",
          "data": {
            "text/plain": [
              "0.213"
            ]
          },
          "metadata": {},
          "execution_count": 70
        }
      ]
    },
    {
      "cell_type": "markdown",
      "metadata": {
        "id": "zVbVchSJuNIH"
      },
      "source": [
        "#1.10. Практика. Базовые действия над матрицами"
      ]
    },
    {
      "cell_type": "code",
      "metadata": {
        "colab": {
          "base_uri": "https://localhost:8080/"
        },
        "id": "sn6rwM2tuMjq",
        "outputId": "c7be63f8-478f-4374-f2c4-585ac5b1fa20"
      },
      "source": [
        "import numpy as np\n",
        "\n",
        "def print_arr(a):\n",
        "    print(','.join(list(map(str, a))))\n",
        "    return None\n",
        "Husband_Income = np.array([100,220,140])\n",
        "Wife_Income = np.array([150,200,130])\n",
        "Mother_In_Law_Income = np.array([90,80,100])\n",
        "\n",
        "Husband_Сonsumption = np.array([50,50,60])\n",
        "Wife_Сonsumption = np.array([100,80,140])\n",
        "Mother_In_Law_Сonsumption = np.array([100,20,140])\n",
        "\n",
        "inc = np.array([Husband_Income,\n",
        "               Wife_Income,\n",
        "               Mother_In_Law_Income]).T\n",
        "cons = np.array([Husband_Сonsumption,\n",
        "                Wife_Сonsumption,\n",
        "                Mother_In_Law_Сonsumption]).T\n",
        "\n",
        "# Задание 1.10.3\n",
        "# print(','.join(list(map(str, inc[0][:]*(1 - 0.13)))))\n",
        "\n",
        "# Задание 1.10.4\n",
        "# Вычислите матрицу P, которая покажет баланс семьи Ивановых за один месяц\n",
        "# (то есть разницу между доходами (после вычета налога) и расходами)\n",
        "P = inc*(1 - 0.13) - cons\n",
        "print_arr(P[2][:])"
      ],
      "execution_count": null,
      "outputs": [
        {
          "output_type": "stream",
          "text": [
            "61.8,-26.900000000000006,-53.0\n"
          ],
          "name": "stdout"
        }
      ]
    },
    {
      "cell_type": "markdown",
      "metadata": {
        "id": "YzQv7KVupF0v"
      },
      "source": [
        "#1.15. --> Практика. Умножение матриц"
      ]
    },
    {
      "cell_type": "code",
      "metadata": {
        "colab": {
          "base_uri": "https://localhost:8080/",
          "height": 165
        },
        "id": "SfXTYVtWpH1i",
        "outputId": "d1f89fa9-96b2-49f1-95da-cb3ea303623e"
      },
      "source": [
        "import numpy as np\n",
        "\n",
        "def print_arr(a):\n",
        "    print(','.join(list(map(lambda f: str(round(f, 3)), a))))\n",
        "    return None\n",
        "\n",
        "A = np.array([[5,-1,3,1,2],\n",
        "              [-2,8,5,-1,1]])\n",
        "x = np.array([1,2,3,4,5])\n",
        "\n",
        "# Задание 1.15.1\n",
        "# print_arr(np.dot(A, x))\n",
        "\n",
        "# Задание 1.15.2\n",
        "# Найдите произведение матриц  и  в том порядке, в котором их можно умножить.\n",
        "A = np.array( [ [1,9,8,5] , [3,6,3,2] , [3,3,3,3], [0,2,5,9], [4,4,1,2] ] )\n",
        "B = np.array( [ [1,-1,0,1,1] , [-2,0,2,-1,1] ] )\n",
        "\n",
        "np.dot(B, A)[0][3]\n",
        "\n",
        "# Задача 3. Условие\n",
        "x = np.array([1,2,1,0,4])\n",
        "y = np.array([2,1,-1,1,0])\n",
        "z = np.array([-1,1,-1,0,0])\n",
        "\n",
        "# Задание 1.15.3\n",
        "G = np.dot(np.array([x, y, z]), np.array([x, y, z]).T)\n",
        "# print_arr(G.flatten())\n",
        "\n",
        "# Задача 4. Условие\n",
        "import pandas as pd\n",
        "serv = pd.DataFrame({'Женские стрижки': [10, 2, 12, 4, 6, 10, 22, 7], \n",
        "                                'Мужские стрижки': [5, 21, 12, 8, 25, 3, 1, 0], \n",
        "                                'Окрашивания':[12, 3, 0, 18, 27, 2, 4, 31],\n",
        "                              'Укладка':[15, 25, 30, 14, 25, 17, 25, 31],\n",
        "                                'Уход':[10, 6, 4, 5, 18, 12, 20, 28]\n",
        "                                }, \n",
        "                               index=['Аня', 'Борис', 'Вика', 'Галя', 'Дима', 'Егор', 'Женя','Юра'])\n",
        "price = pd.DataFrame({'Женские стрижки': [2, 1.8, 2, 1.8, 2.5, 5, 1.1, 4.5], \n",
        "                                'Мужские стрижки': [1.5, 2.5, 2, 1.2, 3.5, 5, 1, 4], \n",
        "                                'Окрашивания':[1, 1, 0, 2.8, 2, 3, 1.5, 2.5],\n",
        "                              'Укладка':[0.8, 1, 0.5, 0.8, 1, 2, 0.5, 1],\n",
        "                                'Уход':[1, 1, 2, 2, 1.5, 2.5, 1.7, 2] \n",
        "                                }, \n",
        "                               index=['Аня', 'Борис', 'Вика', 'Галя', 'Дима', 'Егор', 'Женя','Юра'])\n",
        "\n",
        "# Задание 1.15.4\n",
        "# Найдите вектор выручки Бориса.\n",
        "display(serv.head(1))\n",
        "# display(price.head(1))\n",
        "print('\\n', '='*50, '\\n')\n",
        "\n",
        "# print_arr(np.array(serv.loc['Борис', :]*price.loc['Борис',:]))\n",
        "\n",
        "# Задание 1.15.5\n",
        "com = [0.2, 0.2, 0.3, 0.1, 0.1] #Вектор комиссий\n",
        "# print_arr(np.dot(serv*price, com))\n",
        "\n",
        "# Задание 1.15.6\n",
        "rev = np.ones((8, 1)) - com\n",
        "# print_arr(np.dot(serv*price, rev))\n",
        "print_arr((serv*price*rev1).sum(axis=1).values) #вариант1\n",
        "\n",
        "rev = np.ones((1, 5)) - com\n",
        "print_arr(np.dot(serv*price, rev.T).T.flatten())  #вариант2"
      ],
      "execution_count": null,
      "outputs": [
        {
          "output_type": "display_data",
          "data": {
            "text/html": [
              "<div>\n",
              "<style scoped>\n",
              "    .dataframe tbody tr th:only-of-type {\n",
              "        vertical-align: middle;\n",
              "    }\n",
              "\n",
              "    .dataframe tbody tr th {\n",
              "        vertical-align: top;\n",
              "    }\n",
              "\n",
              "    .dataframe thead th {\n",
              "        text-align: right;\n",
              "    }\n",
              "</style>\n",
              "<table border=\"1\" class=\"dataframe\">\n",
              "  <thead>\n",
              "    <tr style=\"text-align: right;\">\n",
              "      <th></th>\n",
              "      <th>Женские стрижки</th>\n",
              "      <th>Мужские стрижки</th>\n",
              "      <th>Окрашивания</th>\n",
              "      <th>Укладка</th>\n",
              "      <th>Уход</th>\n",
              "    </tr>\n",
              "  </thead>\n",
              "  <tbody>\n",
              "    <tr>\n",
              "      <th>Аня</th>\n",
              "      <td>10</td>\n",
              "      <td>5</td>\n",
              "      <td>12</td>\n",
              "      <td>15</td>\n",
              "      <td>10</td>\n",
              "    </tr>\n",
              "  </tbody>\n",
              "</table>\n",
              "</div>"
            ],
            "text/plain": [
              "     Женские стрижки  Мужские стрижки  Окрашивания  Укладка  Уход\n",
              "Аня               10                5           12       15    10"
            ]
          },
          "metadata": {}
        },
        {
          "output_type": "stream",
          "text": [
            "\n",
            " ================================================== \n",
            "\n",
            "50.2,74.88,59.1,67.8,166.6,113.8,66.21,157.75\n",
            "50.2,74.88,59.1,67.8,166.6,113.8,66.21,157.75\n"
          ],
          "name": "stdout"
        }
      ]
    },
    {
      "cell_type": "markdown",
      "metadata": {
        "id": "jywPKnQl00nc"
      },
      "source": [
        "#1.19. Линейная (не)зависимость ч.2"
      ]
    },
    {
      "cell_type": "code",
      "metadata": {
        "id": "wM2BTjMG0zAQ",
        "colab": {
          "base_uri": "https://localhost:8080/"
        },
        "outputId": "a17db230-4d45-45b4-85f6-8abf25a9471b"
      },
      "source": [
        "import numpy as np\n",
        "import numpy.linalg as npla\n",
        "\n",
        "A = np.array([[1, 0, 3, 5],\n",
        "              [1, 0, 4, 5],\n",
        "              [0, 0, 0, 0],\n",
        "              [0, 0, 0, 0]])\n",
        "npla.matrix_rank(A)\n",
        "\n",
        "# 1.20. Практика. Обратная матрица, ранг, определитель\n",
        "A = np.array([[8, 6, 11], [ 7, 5, 9], [ 6 , 10,  6]])\n",
        "\n",
        "# Задание 1.20.1\n",
        "npla.inv(A)[1][0]\n",
        "\n",
        "v1 = np.array([9, 10, 7, 7, 9])\n",
        "v2 = np.array([2, 0, 5, 1, 4])\n",
        "v3 = np.array([4, 0, 0, 4, 1])\n",
        "v4 = np.array([3, -4, 3, -1, -4])\n",
        "\n",
        "# Задание 1.20.2\n",
        "V = np.array([v1, v2, v3, v4])\n",
        "print('Векторы v1, v2, v3, v4 линейно независимы:', npla.matrix_rank(V.T) == V.T.shape[1])\n",
        "\n",
        "# Задание 1.20.4\n",
        "G = V@V.T\n",
        "G[0][3]\n",
        "\n",
        "# Задание 1.20.5\n",
        "round(npla.det(G))\n",
        "\n",
        "# Задание 1.20.\n"
      ],
      "execution_count": 17,
      "outputs": [
        {
          "output_type": "stream",
          "name": "stdout",
          "text": [
            "Векторы v1, v2, v3, v4 линейно независимы: True\n"
          ]
        },
        {
          "output_type": "execute_result",
          "data": {
            "text/plain": [
              "3716648"
            ]
          },
          "metadata": {},
          "execution_count": 17
        }
      ]
    },
    {
      "cell_type": "markdown",
      "metadata": {
        "id": "KFuGS-iBbbla"
      },
      "source": [
        "#2.6. Случай «Всё сложно» ч.2"
      ]
    },
    {
      "cell_type": "code",
      "metadata": {
        "colab": {
          "base_uri": "https://localhost:8080/"
        },
        "id": "_yrcp0cqbb3y",
        "outputId": "82768614-e804-422b-aaa3-7ee78e28e961"
      },
      "source": [
        "import numpy as np\n",
        "import numpy.linalg as npla\n",
        "\n",
        "def print_arr(a):\n",
        "    print(','.join(list(map(lambda f: str(round(f, 2)), a))))\n",
        "    return None\n",
        "\n",
        "# Задание 2.6.1\n",
        "# Вычислите вектор ошибок для приближённого решения системы w\n",
        "w = np.array([1, 1])\n",
        "A = np.array([[1, -5],\n",
        "             [2, 1],\n",
        "             [1, 1]])\n",
        "b = np.array([1,2,2])\n",
        "# print_arr(b - A@w)\n",
        "\n",
        "#Задание 2.6.3\n",
        "# Найдите OLS оценку для коэффициентов w1, w2 СЛАУ\n",
        "A = np.array([[1, 2],\n",
        "              [-3, 1],\n",
        "              [1, 2],\n",
        "              [1,-1]])\n",
        "b = np.array([1, 4, 5, 0])\n",
        "\n",
        "# Задание 2.6.3_1\n",
        "A.T@A\n",
        "\n",
        "# Задание 2.6.3_3\n",
        "# print_arr(A.T@b)\n",
        "\n",
        "# Задание 2.6.3_4\n",
        "w_cap = npla.inv(A.T@A)@A.T@b\n",
        "# print_arr(w_cap)\n",
        "\n",
        "w = np.array([-29.3, -0.26, 8.4])\n",
        "x = np.array([1, 0.2, 6])\n",
        "w@x\n",
        "\n",
        "# Задание 2.8.2\n",
        "X = np.array([[1, -1, 0],\n",
        "              [1, 1, 2],\n",
        "              [0, 0, 0],\n",
        "              [2, 0, 2]])\n",
        "npla.det(X.T@X)\n",
        "\n",
        "# 2.9. Стандартизация признаков\n",
        "# Задание 2.9.2\n",
        "x = np.array([11, 8])\n",
        "xc = x - x.mean()\n",
        "print_arr((xc) / (xc@xc)**0.5)"
      ],
      "execution_count": 31,
      "outputs": [
        {
          "output_type": "stream",
          "name": "stdout",
          "text": [
            "0.71,-0.71\n"
          ]
        }
      ]
    },
    {
      "cell_type": "markdown",
      "metadata": {
        "id": "SBmkRBhwqLwt"
      },
      "source": [
        "#2.11. --> Практика. Классический OLS алгоритм"
      ]
    },
    {
      "cell_type": "code",
      "metadata": {
        "colab": {
          "base_uri": "https://localhost:8080/",
          "height": 781
        },
        "id": "e5c_tE3iqPcG",
        "outputId": "ae429dbe-6e49-44ec-98bb-6347b1dfecf7"
      },
      "source": [
        "# Загрузка библиотек\n",
        "import numpy as np # для работы с массивами\n",
        "import numpy.linalg as npla\n",
        "import pandas as pd # для работы DataFrame \n",
        "import seaborn as sns # библиотека для визуализации статистических данных\n",
        "import matplotlib.pyplot as plt # для построения графиков\n",
        "\n",
        "%matplotlib inline\n",
        "\n",
        "adm = pd.read_csv('https://raw.githubusercontent.com/akitim/datasets/main/Admission_Predict_Ver1.1.csv')\n",
        "display(adm.head(1))\n",
        "adm.columns = ['N', 'GRE', 'TOEFL', 'Uni Rating', 'SOP',\n",
        "       'LOR ', 'CGPA', 'Research', 'CoA']\n",
        "# Задание 2.11.3\n",
        "adm.corr().loc[:, 'CoA'].sort_values(ascending=False).index[1]\n",
        "\n",
        "# Задание 2.11.4\n",
        "# Постройте отдельно две матрицы корреляций признаков и целевой переменной: для соискателей, делавших исследования (Research=1) и для тех, у кого исследований нет (Research=0).\n",
        "# В каком случае признаки сильнее скоррелированы между собой?\n",
        "adm.loc[adm.loc[:, 'Research'] == 1, :].corr().apply(lambda x: abs(x)).sum().sum(), \\\n",
        "adm.loc[adm.loc[:, 'Research'] == 0, :].corr().apply(lambda x: abs(x)).sum().sum()\n",
        "\n",
        "# Задание 2.11.5\n",
        "sns.heatmap(adm.loc[adm.loc[:, 'Research'] == 0, :].corr(), cmap='hot');\n",
        "adm.loc[adm.loc[:, 'Research'] == 0, :].corr()\n",
        "\n",
        "# Задание 2.11.6\n",
        "A = adm.loc[adm.loc[:, 'Research'] == 0, :].loc[:, ['CGPA', 'TOEFL']]\n",
        "# A = A."
      ],
      "execution_count": 87,
      "outputs": [
        {
          "output_type": "display_data",
          "data": {
            "text/html": [
              "<div>\n",
              "<style scoped>\n",
              "    .dataframe tbody tr th:only-of-type {\n",
              "        vertical-align: middle;\n",
              "    }\n",
              "\n",
              "    .dataframe tbody tr th {\n",
              "        vertical-align: top;\n",
              "    }\n",
              "\n",
              "    .dataframe thead th {\n",
              "        text-align: right;\n",
              "    }\n",
              "</style>\n",
              "<table border=\"1\" class=\"dataframe\">\n",
              "  <thead>\n",
              "    <tr style=\"text-align: right;\">\n",
              "      <th></th>\n",
              "      <th>Serial No.</th>\n",
              "      <th>GRE Score</th>\n",
              "      <th>TOEFL Score</th>\n",
              "      <th>University Rating</th>\n",
              "      <th>SOP</th>\n",
              "      <th>LOR</th>\n",
              "      <th>CGPA</th>\n",
              "      <th>Research</th>\n",
              "      <th>Chance of Admit</th>\n",
              "    </tr>\n",
              "  </thead>\n",
              "  <tbody>\n",
              "    <tr>\n",
              "      <th>0</th>\n",
              "      <td>1</td>\n",
              "      <td>337</td>\n",
              "      <td>118</td>\n",
              "      <td>4</td>\n",
              "      <td>4.5</td>\n",
              "      <td>4.5</td>\n",
              "      <td>9.65</td>\n",
              "      <td>1</td>\n",
              "      <td>0.92</td>\n",
              "    </tr>\n",
              "  </tbody>\n",
              "</table>\n",
              "</div>"
            ],
            "text/plain": [
              "   Serial No.  GRE Score  TOEFL Score  ...  CGPA  Research  Chance of Admit \n",
              "0           1        337          118  ...  9.65         1              0.92\n",
              "\n",
              "[1 rows x 9 columns]"
            ]
          },
          "metadata": {}
        },
        {
          "output_type": "execute_result",
          "data": {
            "text/html": [
              "<div>\n",
              "<style scoped>\n",
              "    .dataframe tbody tr th:only-of-type {\n",
              "        vertical-align: middle;\n",
              "    }\n",
              "\n",
              "    .dataframe tbody tr th {\n",
              "        vertical-align: top;\n",
              "    }\n",
              "\n",
              "    .dataframe thead th {\n",
              "        text-align: right;\n",
              "    }\n",
              "</style>\n",
              "<table border=\"1\" class=\"dataframe\">\n",
              "  <thead>\n",
              "    <tr style=\"text-align: right;\">\n",
              "      <th></th>\n",
              "      <th>CGPA</th>\n",
              "      <th>TOEFL</th>\n",
              "    </tr>\n",
              "  </thead>\n",
              "  <tbody>\n",
              "    <tr>\n",
              "      <th>4</th>\n",
              "      <td>8.21</td>\n",
              "      <td>103</td>\n",
              "    </tr>\n",
              "    <tr>\n",
              "      <th>7</th>\n",
              "      <td>7.90</td>\n",
              "      <td>101</td>\n",
              "    </tr>\n",
              "    <tr>\n",
              "      <th>8</th>\n",
              "      <td>8.00</td>\n",
              "      <td>102</td>\n",
              "    </tr>\n",
              "    <tr>\n",
              "      <th>9</th>\n",
              "      <td>8.60</td>\n",
              "      <td>108</td>\n",
              "    </tr>\n",
              "    <tr>\n",
              "      <th>15</th>\n",
              "      <td>8.30</td>\n",
              "      <td>105</td>\n",
              "    </tr>\n",
              "    <tr>\n",
              "      <th>...</th>\n",
              "      <td>...</td>\n",
              "      <td>...</td>\n",
              "    </tr>\n",
              "    <tr>\n",
              "      <th>487</th>\n",
              "      <td>9.14</td>\n",
              "      <td>115</td>\n",
              "    </tr>\n",
              "    <tr>\n",
              "      <th>489</th>\n",
              "      <td>8.50</td>\n",
              "      <td>110</td>\n",
              "    </tr>\n",
              "    <tr>\n",
              "      <th>491</th>\n",
              "      <td>7.81</td>\n",
              "      <td>99</td>\n",
              "    </tr>\n",
              "    <tr>\n",
              "      <th>498</th>\n",
              "      <td>8.43</td>\n",
              "      <td>103</td>\n",
              "    </tr>\n",
              "    <tr>\n",
              "      <th>499</th>\n",
              "      <td>9.04</td>\n",
              "      <td>113</td>\n",
              "    </tr>\n",
              "  </tbody>\n",
              "</table>\n",
              "<p>220 rows × 2 columns</p>\n",
              "</div>"
            ],
            "text/plain": [
              "     CGPA  TOEFL\n",
              "4    8.21    103\n",
              "7    7.90    101\n",
              "8    8.00    102\n",
              "9    8.60    108\n",
              "15   8.30    105\n",
              "..    ...    ...\n",
              "487  9.14    115\n",
              "489  8.50    110\n",
              "491  7.81     99\n",
              "498  8.43    103\n",
              "499  9.04    113\n",
              "\n",
              "[220 rows x 2 columns]"
            ]
          },
          "metadata": {},
          "execution_count": 87
        },
        {
          "output_type": "display_data",
          "data": {
            "image/png": "[encoded data removed]",
            "text/plain": [
              "<Figure size 432x288 with 2 Axes>"
            ]
          },
          "metadata": {
            "needs_background": "light"
          }
        }
      ]
    }
  ]
}