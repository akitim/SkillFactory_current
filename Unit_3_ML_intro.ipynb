{
  "nbformat": 4,
  "nbformat_minor": 0,
  "metadata": {
    "colab": {
      "name": "Unit 3 ML intro",
      "provenance": [],
      "include_colab_link": true
    },
    "kernelspec": {
      "name": "python3",
      "display_name": "Python 3"
    },
    "language_info": {
      "name": "python"
    }
  },
  "cells": [
    {
      "cell_type": "markdown",
      "metadata": {
        "id": "view-in-github",
        "colab_type": "text"
      },
      "source": [
        "<a href=\"https://colab.research.google.com/github/akitim/SkillFactory_current/blob/main/Unit_3_ML_intro.ipynb\" target=\"_parent\"><img src=\"https://colab.research.google.com/assets/colab-badge.svg\" alt=\"Open In Colab\"/></a>"
      ]
    },
    {
      "cell_type": "code",
      "metadata": {
        "id": "f24MA6LWhihB"
      },
      "source": [
        "#!pip uninstall flake8 pycodestyle_magic\n",
        "# %load_ext pycodestyle_magic\n",
        "#%pycodestyle_off"
      ],
      "execution_count": null,
      "outputs": []
    },
    {
      "cell_type": "markdown",
      "metadata": {
        "id": "KWCpKg3wtoio"
      },
      "source": [
        "#PYTHON-11. Feature Engineering"
      ]
    },
    {
      "cell_type": "code",
      "metadata": {
        "id": "s-oAuHFMtRnU"
      },
      "source": [
        "import pandas as pd\n",
        "#import matplotlib\n",
        "import matplotlib.pyplot as plt\n",
        "# import seaborn as sns\n",
        "import warnings; warnings.filterwarnings('ignore') #(action='once')\n",
        "import missingno as msno\n",
        "# from itertools import combinations\n",
        "# from scipy.stats import ttest_ind\n",
        "# from scipy.stats import norm\n",
        " \n",
        "%matplotlib inline\n",
        " \n",
        "pd.set_option('display.max_rows', 50) # показывать больше строк\n",
        "pd.set_option('display.max_columns', 50) # показывать больше колонок\n",
        "pd.options.display.precision = 3\n",
        " \n",
        " \n",
        "#import sys\n",
        "#from google.colab import drive\n",
        "#drive.mount('/content/gdrive', force_remount=True)\n",
        "#sys.path.clear\n",
        "#sys.path.append('/content/gdrive/MyDrive/SkillFactory')"
      ],
      "execution_count": null,
      "outputs": []
    },
    {
      "cell_type": "markdown",
      "metadata": {
        "id": "dOKfWyekus2-"
      },
      "source": [
        "#Загрузка"
      ]
    },
    {
      "cell_type": "code",
      "metadata": {
        "colab": {
          "base_uri": "https://localhost:8080/",
          "height": 80
        },
        "id": "6r4UTS2jvLr_",
        "outputId": "39770f2d-b032-4984-d359-aff85f48bfe2"
      },
      "source": [
        "log_path = 'https://raw.githubusercontent.com/akitim/datasets/main/log.csv'\n",
        "cols = ['user_id', 'time', 'bet', 'win']\n",
        "#log = pd.read_csv('/content/gdrive/MyDrive/SkillFactory/log.csv', names=cols)\n",
        "log = pd.read_csv(log_path, names=cols)\n",
        " \n",
        "#users = pd.read_csv(\n",
        "#    '/content/gdrive/MyDrive/SkillFactory/vsers.csv',\n",
        "#    encoding='koi8-r',\n",
        "#    sep = '\\t'\n",
        "#)\n",
        " \n",
        "users_path = 'https://raw.githubusercontent.com/akitim/datasets/main/users.csv'\n",
        "users = pd.read_csv(\n",
        "    users_path,\n",
        "    encoding='koi8-r',\n",
        "    sep = '\\t'\n",
        ")\n",
        "users.columns = ['user_id', 'email', 'geo']\n",
        "users.sample(1)\n",
        "# log.sample(1)"
      ],
      "execution_count": null,
      "outputs": [
        {
          "output_type": "execute_result",
          "data": {
            "text/html": [
              "<div>\n",
              "<style scoped>\n",
              "    .dataframe tbody tr th:only-of-type {\n",
              "        vertical-align: middle;\n",
              "    }\n",
              "\n",
              "    .dataframe tbody tr th {\n",
              "        vertical-align: top;\n",
              "    }\n",
              "\n",
              "    .dataframe thead th {\n",
              "        text-align: right;\n",
              "    }\n",
              "</style>\n",
              "<table border=\"1\" class=\"dataframe\">\n",
              "  <thead>\n",
              "    <tr style=\"text-align: right;\">\n",
              "      <th></th>\n",
              "      <th>Юзверь</th>\n",
              "      <th>мейл</th>\n",
              "      <th>Гео</th>\n",
              "    </tr>\n",
              "  </thead>\n",
              "  <tbody>\n",
              "    <tr>\n",
              "      <th>52</th>\n",
              "      <td>User_904</td>\n",
              "      <td>Kryptoburs@yahoo.com</td>\n",
              "      <td>Ярославль</td>\n",
              "    </tr>\n",
              "  </tbody>\n",
              "</table>\n",
              "</div>"
            ],
            "text/plain": [
              "      Юзверь                  мейл        Гео\n",
              "52  User_904  Kryptoburs@yahoo.com  Ярославль"
            ]
          },
          "metadata": {},
          "execution_count": 84
        }
      ]
    },
    {
      "cell_type": "markdown",
      "metadata": {
        "id": "C5Cb58gPKKU2"
      },
      "source": [
        "Задание 1-5"
      ]
    },
    {
      "cell_type": "code",
      "metadata": {
        "id": "jvcyNyVo8cFg",
        "colab": {
          "base_uri": "https://localhost:8080/"
        },
        "outputId": "1a056e41-7754-417b-dc73-672e2e067029"
      },
      "source": [
        "len(log.loc[log.loc[:, 'time'].isna(), 'time'])"
      ],
      "execution_count": null,
      "outputs": [
        {
          "output_type": "execute_result",
          "data": {
            "text/plain": [
              "15"
            ]
          },
          "metadata": {},
          "execution_count": 16
        }
      ]
    },
    {
      "cell_type": "code",
      "metadata": {
        "id": "z2FwQ2uaMpgZ",
        "colab": {
          "base_uri": "https://localhost:8080/",
          "height": 423
        },
        "outputId": "2a011648-3024-4647-93f5-34147d701c14"
      },
      "source": [
        "#log.dropna(axis=1)\n",
        " \n",
        "#log.dropna(axis=0)\n",
        " \n",
        "#log.loc[users.index.intersection(['time', 'user_id'])].dropna(axis=1)\n",
        "for col in ['time', 'user_id']:\n",
        "    if log.loc[:, col].isna().any():\n",
        "         log.drop(col, inplace=True, axis=1)\n",
        "log"
      ],
      "execution_count": null,
      "outputs": [
        {
          "output_type": "execute_result",
          "data": {
            "text/html": [
              "<div>\n",
              "<style scoped>\n",
              "    .dataframe tbody tr th:only-of-type {\n",
              "        vertical-align: middle;\n",
              "    }\n",
              "\n",
              "    .dataframe tbody tr th {\n",
              "        vertical-align: top;\n",
              "    }\n",
              "\n",
              "    .dataframe thead th {\n",
              "        text-align: right;\n",
              "    }\n",
              "</style>\n",
              "<table border=\"1\" class=\"dataframe\">\n",
              "  <thead>\n",
              "    <tr style=\"text-align: right;\">\n",
              "      <th></th>\n",
              "      <th>user_id</th>\n",
              "      <th>bet</th>\n",
              "      <th>win</th>\n",
              "    </tr>\n",
              "  </thead>\n",
              "  <tbody>\n",
              "    <tr>\n",
              "      <th>0</th>\n",
              "      <td>Запись пользователя № - user_919</td>\n",
              "      <td>NaN</td>\n",
              "      <td>NaN</td>\n",
              "    </tr>\n",
              "    <tr>\n",
              "      <th>1</th>\n",
              "      <td>Запись пользователя № - user_973</td>\n",
              "      <td>NaN</td>\n",
              "      <td>NaN</td>\n",
              "    </tr>\n",
              "    <tr>\n",
              "      <th>2</th>\n",
              "      <td>Запись пользователя № - user_903</td>\n",
              "      <td>NaN</td>\n",
              "      <td>NaN</td>\n",
              "    </tr>\n",
              "    <tr>\n",
              "      <th>3</th>\n",
              "      <td>Запись пользователя № - user_954</td>\n",
              "      <td>NaN</td>\n",
              "      <td>NaN</td>\n",
              "    </tr>\n",
              "    <tr>\n",
              "      <th>4</th>\n",
              "      <td>Запись пользователя № - user_954</td>\n",
              "      <td>NaN</td>\n",
              "      <td>NaN</td>\n",
              "    </tr>\n",
              "    <tr>\n",
              "      <th>...</th>\n",
              "      <td>...</td>\n",
              "      <td>...</td>\n",
              "      <td>...</td>\n",
              "    </tr>\n",
              "    <tr>\n",
              "      <th>995</th>\n",
              "      <td>Запись пользователя № - user_984</td>\n",
              "      <td>9754.0</td>\n",
              "      <td>NaN</td>\n",
              "    </tr>\n",
              "    <tr>\n",
              "      <th>996</th>\n",
              "      <td>#error</td>\n",
              "      <td>10054.0</td>\n",
              "      <td>29265.0</td>\n",
              "    </tr>\n",
              "    <tr>\n",
              "      <th>997</th>\n",
              "      <td>#error</td>\n",
              "      <td>10454.0</td>\n",
              "      <td>NaN</td>\n",
              "    </tr>\n",
              "    <tr>\n",
              "      <th>998</th>\n",
              "      <td>#error</td>\n",
              "      <td>1000.0</td>\n",
              "      <td>NaN</td>\n",
              "    </tr>\n",
              "    <tr>\n",
              "      <th>999</th>\n",
              "      <td>#error</td>\n",
              "      <td>10754.0</td>\n",
              "      <td>NaN</td>\n",
              "    </tr>\n",
              "  </tbody>\n",
              "</table>\n",
              "<p>1000 rows × 3 columns</p>\n",
              "</div>"
            ],
            "text/plain": [
              "                              user_id      bet      win\n",
              "0    Запись пользователя № - user_919      NaN      NaN\n",
              "1    Запись пользователя № - user_973      NaN      NaN\n",
              "2    Запись пользователя № - user_903      NaN      NaN\n",
              "3    Запись пользователя № - user_954      NaN      NaN\n",
              "4    Запись пользователя № - user_954      NaN      NaN\n",
              "..                                ...      ...      ...\n",
              "995  Запись пользователя № - user_984   9754.0      NaN\n",
              "996                            #error  10054.0  29265.0\n",
              "997                            #error  10454.0      NaN\n",
              "998                            #error   1000.0      NaN\n",
              "999                            #error  10754.0      NaN\n",
              "\n",
              "[1000 rows x 3 columns]"
            ]
          },
          "metadata": {},
          "execution_count": 4
        }
      ]
    },
    {
      "cell_type": "code",
      "metadata": {
        "id": "VFoyAmFEsgwD",
        "colab": {
          "base_uri": "https://localhost:8080/"
        },
        "outputId": "9ba0103c-8fd9-463a-8805-7c2e207787ef"
      },
      "source": [
        "len(log[['time','user_id']].drop_duplicates())"
      ],
      "execution_count": null,
      "outputs": [
        {
          "output_type": "execute_result",
          "data": {
            "text/plain": [
              "986"
            ]
          },
          "metadata": {},
          "execution_count": 17
        }
      ]
    },
    {
      "cell_type": "markdown",
      "metadata": {
        "id": "p5zc7CREZC4i"
      },
      "source": [
        "11.3 Преобразование к datetime"
      ]
    },
    {
      "cell_type": "code",
      "metadata": {
        "id": "PGgSiUj1ZHrF",
        "colab": {
          "base_uri": "https://localhost:8080/"
        },
        "outputId": "1c3a6f48-b934-4522-f230-50532987647f"
      },
      "source": [
        "log_path = 'https://raw.githubusercontent.com/akitim/datasets/main/log.csv'\n",
        "cols = ['user_id', 'time', 'bet', 'win']\n",
        "log = pd.read_csv(log_path, names=cols)\n",
        "\n",
        "log = log.dropna()\n",
        "\n",
        "time = log.loc[:, 'time']\n",
        "time = pd.to_datetime(\n",
        "    time.apply(lambda t: t[1:] if type(t) == str else t),\n",
        "    \n",
        ")\n",
        "time.apply(lambda t: t.minute)"
      ],
      "execution_count": null,
      "outputs": [
        {
          "output_type": "execute_result",
          "data": {
            "text/plain": [
              "14     57\n",
              "29     59\n",
              "151    54\n",
              "189    34\n",
              "205    26\n",
              "       ..\n",
              "967    25\n",
              "971    35\n",
              "972    35\n",
              "976    35\n",
              "991    55\n",
              "Name: time, Length: 133, dtype: int64"
            ]
          },
          "metadata": {},
          "execution_count": 10
        }
      ]
    },
    {
      "cell_type": "markdown",
      "metadata": {
        "id": "gmuolLXZ27MD"
      },
      "source": [
        "#11.4 Извлечение признаков времени"
      ]
    },
    {
      "cell_type": "code",
      "metadata": {
        "colab": {
          "base_uri": "https://localhost:8080/"
        },
        "id": "qvVXY7A626w9",
        "outputId": "215c5d48-1914-45c9-b7be-e51d417f7070"
      },
      "source": [
        "#Задание 1\n",
        " \n",
        "log_path = 'https://raw.githubusercontent.com/akitim/datasets/main/log.csv'\n",
        "cols = ['user_id', 'time', 'bet', 'win']\n",
        " \n",
        "log = pd.read_csv(log_path, names=cols)\n",
        "log.dropna(inplace=True)\n",
        " \n",
        "log.loc[:, 'time'] = pd.to_datetime(\n",
        "    log.loc[:, 'time'].apply(lambda t: t[1:] if type(t) == str else t),\n",
        ")\n",
        "log.loc[:, 'time'].dt.minute.value_counts().index[0]\n",
        "# pd.DataFrame(log.loc[:, 'time'].dt.minute.value_counts())\n",
        "# pd.DataFrame(log.loc[:, 'time'].dt.second).hist();\n",
        "# pd.DataFrame(log.loc[:, 'time'].dt.minute).hist();\n",
        "# pd.DataFrame(log.loc[:, 'time'].dt.hour).hist();\n",
        " \n",
        "# Задание 2\n",
        "log_path = 'https://raw.githubusercontent.com/akitim/datasets/main/log.csv'\n",
        "cols = ['user_id', 'time', 'bet', 'win']\n",
        " \n",
        "log = pd.read_csv(log_path, names=cols)\n",
        "log.dropna(inplace=True)\n",
        "log.loc[:, 'time'] = pd.to_datetime(\n",
        "    log.loc[:, 'time'].apply(lambda t: t[1:] if type(t) == str else t)\n",
        ")\n",
        "log.loc[:, 'time'].dt.month.value_counts() #.index[0]"
      ],
      "execution_count": null,
      "outputs": [
        {
          "output_type": "execute_result",
          "data": {
            "text/plain": [
              "3    57\n",
              "4    51\n",
              "2    16\n",
              "1     9\n",
              "Name: time, dtype: int64"
            ]
          },
          "metadata": {},
          "execution_count": 45
        }
      ]
    },
    {
      "cell_type": "code",
      "metadata": {
        "colab": {
          "base_uri": "https://localhost:8080/"
        },
        "id": "_1bhYyPOZYxV",
        "outputId": "126f83eb-bdf6-4038-e149-7c631d7fbf30"
      },
      "source": [
        "# Задание 3*\n",
        "log_path = 'https://raw.githubusercontent.com/akitim/datasets/main/log.csv'\n",
        "cols = ['user_id', 'time', 'bet', 'win']\n",
        "\n",
        "log = pd.read_csv(log_path, names=cols)\n",
        "log.dropna(inplace=True)\n",
        "\n",
        "log.loc[:, 'time'] = pd.to_datetime(\n",
        "    log.loc[:, 'time'].apply(lambda t: t[1:] if type(t) == str else t),\n",
        ")\n",
        "\n",
        "weekend = log.loc[:, 'time'].dt.weekday.apply (lambda d: d in [5, 6])\n",
        "len(log.loc[weekend, 'time'])\n",
        "\n",
        "log[(log.time.dt.weekday == 5) | (log.time.dt.weekday == 6)]['time'].count()"
      ],
      "execution_count": null,
      "outputs": [
        {
          "output_type": "execute_result",
          "data": {
            "text/plain": [
              "37"
            ]
          },
          "metadata": {},
          "execution_count": 67
        }
      ]
    },
    {
      "cell_type": "markdown",
      "metadata": {
        "id": "LbTUCRVL-7cA"
      },
      "source": [
        "# Задание 4*"
      ]
    },
    {
      "cell_type": "code",
      "metadata": {
        "id": "CNqS0guO_ADV",
        "colab": {
          "base_uri": "https://localhost:8080/"
        },
        "outputId": "9d3089ca-eb36-475c-fd3a-17c92aa10637"
      },
      "source": [
        "log_path = 'https://raw.githubusercontent.com/akitim/datasets/main/log.csv'\n",
        "cols = ['user_id', 'time', 'bet', 'win']\n",
        "\n",
        "log = pd.read_csv(log_path, names=cols)\n",
        "# log.dropna(inplace=True)\n",
        "\n",
        "log.loc[:, 'time'] = pd.to_datetime(\n",
        "    log.loc[:, 'time'].apply(lambda t: t[1:] if type(t) == str else t),\n",
        ")\n",
        "\n",
        "def timeofday(h):\n",
        "    if h >= 0 and h <= 5:\n",
        "        return 'night'\n",
        "    elif h >=6 and h <= 11:\n",
        "        return 'morning'\n",
        "    elif h >= 12 and h <= 17:\n",
        "        return 'day'\n",
        "    else:\n",
        "        return 'evening'\n",
        "\n",
        "time = log.loc[:, 'time'].dropna()\n",
        "drare = time.dt.hour.apply(timeofday).value_counts().min()\n",
        "print(\n",
        "time.dt.hour.apply(timeofday).value_counts() [\n",
        "    time.dt.hour.apply(timeofday).value_counts() == drare\n",
        "].index[0]\n",
        ")"
      ],
      "execution_count": null,
      "outputs": [
        {
          "output_type": "stream",
          "text": [
            "evening\n"
          ],
          "name": "stdout"
        }
      ]
    },
    {
      "cell_type": "markdown",
      "metadata": {
        "id": "psnL3wbIXmKv"
      },
      "source": [
        "#11.5 Снова смотрим на пропуски"
      ]
    },
    {
      "cell_type": "code",
      "metadata": {
        "id": "x9rtDFf1WmYs",
        "colab": {
          "base_uri": "https://localhost:8080/"
        },
        "outputId": "8b112900-abc1-442c-86ab-b7746ca8d7a1"
      },
      "source": [
        "log_path = 'https://raw.githubusercontent.com/akitim/datasets/main/log.csv'\n",
        "cols = ['user_id', 'time', 'bet', 'win']\n",
        "\n",
        "log = pd.read_csv(log_path, names=cols)\n",
        "\n",
        "log.loc[:, 'bet'].fillna(0, inplace=True)\n",
        "log.loc[:, 'bet'].value_counts()[0]"
      ],
      "execution_count": null,
      "outputs": [
        {
          "output_type": "execute_result",
          "data": {
            "text/plain": [
              "515"
            ]
          },
          "metadata": {},
          "execution_count": 5
        }
      ]
    },
    {
      "cell_type": "code",
      "metadata": {
        "id": "U9hSheeKeN6q",
        "colab": {
          "base_uri": "https://localhost:8080/"
        },
        "outputId": "1134256f-017a-41b0-ef1f-5fb6d8c73ae6"
      },
      "source": [
        "log_path = 'https://raw.githubusercontent.com/akitim/datasets/main/log.csv'\n",
        "cols = ['user_id', 'time', 'bet', 'win']\n",
        " \n",
        "log = pd.read_csv(log_path, names=cols)\n",
        "log.loc[:, 'bet'].fillna(0, inplace=True)\n",
        " \n",
        "def fillna_win(row):\n",
        "    if pd.isna(row['win']) and pd.isna(row['bet']):\n",
        "        row['win'] = 0\n",
        "        return row\n",
        "    elif row['bet'] == 0:\n",
        "        row['win'] = 0\n",
        "        return row\n",
        "    elif pd.isna(row['win']) and not(pd.isna(row['bet'])):\n",
        "        row['win'] = -row['bet']\n",
        "        return row\n",
        "    else:\n",
        "        return row\n",
        "log = log.apply(lambda row: fillna_win(row), axis=1)\n",
        "(log.loc[:, 'win'] < 0).sum()\n",
        " \n",
        "#11.6 Есть ли смысл играть?\n",
        "#Задание 1\n",
        "log.loc[:, 'net'] = -log.loc[:, 'bet']\n",
        "log.loc[log.loc[:, 'win'] >= 0, 'net'] = log.loc[:,'win'] - log.loc[:, 'bet']\n",
        "(log.loc[:, 'net'] > 0).sum()\n",
        " \n",
        "#Задание 2\n",
        "round(\n",
        "    log.loc[log.loc[:, 'net'] > 0, 'net'].mean()\n",
        ")   # => 80253\n",
        " \n",
        "#Задание 3\n",
        "round(\n",
        "    log.loc[log.loc[:, 'net'] > 0, 'net'].median()\n",
        ")   # => 5347 \n",
        "# log.loc[log.loc[:, 'net'] < 1e7, 'net'].hist(bins=50, log=True);\n",
        "# plt.xlabel('net');\n",
        "# plt.title('Net distribution');"
      ],
      "execution_count": null,
      "outputs": [
        {
          "output_type": "execute_result",
          "data": {
            "text/plain": [
              "80253.33333333333"
            ]
          },
          "metadata": {},
          "execution_count": 17
        }
      ]
    },
    {
      "cell_type": "markdown",
      "metadata": {
        "id": "8yisve8L6UsN"
      },
      "source": [
        "#11.7 Сколько можно выиграть/проиграть?"
      ]
    },
    {
      "cell_type": "code",
      "metadata": {
        "colab": {
          "base_uri": "https://localhost:8080/"
        },
        "id": "tLlP-3UX6YQS",
        "outputId": "1a5f4b39-b888-431f-8067-d4ae631b2834"
      },
      "source": [
        "import pandas as pd\n",
        " \n",
        "log_path = 'https://raw.githubusercontent.com/akitim/datasets/main/log.csv'\n",
        "cols = ['user_id', 'time', 'bet', 'win']\n",
        "log = pd.read_csv(log_path, names=cols)\n",
        " \n",
        "log.loc[:, 'bet'].fillna(0, inplace=True)\n",
        "log.loc[:, 'win'].fillna(0, inplace=True)\n",
        " \n",
        "log.loc[:, 'net'] = log.loc[:, 'win'] - log.loc[:, 'bet']\n",
        " \n",
        "#log.loc[log.loc[:, 'bet'] > 0, 'bet'].count()\n",
        " \n",
        "#Задание 1\n",
        "round(\n",
        "    (log.loc[:, 'bet'] > 0).sum() / len(log) * 100,\n",
        "    #(log.loc[:, 'bet'] > 0).mean() * 100\n",
        "    1\n",
        ")\n",
        " \n",
        "#Задание 2\n",
        "log.loc[log.loc[:, 'bet'] > 0, 'bet'].mean() // 1\n",
        " \n",
        "#Задание 3\n",
        "log.loc[log.loc[:, 'bet'] > 0, 'net'].mean() // 1\n",
        " \n",
        "#Задание 4\n",
        "round(log.loc[log.loc[:, 'net'] < 0, 'net'].mean()) + 1\n",
        " \n",
        "#Задание 5\n",
        "#процент выигрышных ставок\n",
        "winbet = ((log.loc[:, 'bet'] > 0) * (log.loc[:, 'net'] > 0)).mean() * 100\n",
        "winbet < 100 - winbet"
      ],
      "execution_count": null,
      "outputs": [
        {
          "output_type": "execute_result",
          "data": {
            "text/plain": [
              "True"
            ]
          },
          "metadata": {},
          "execution_count": 77
        }
      ]
    },
    {
      "cell_type": "code",
      "metadata": {
        "id": "OBgTr0kQZd3_"
      },
      "source": [
        "#Задание 6*\n",
        "import pandas as pd\n",
        "\n",
        "def r2i(f):\n",
        "    return round(f - 0.5)\n",
        "\n",
        "log_path = 'https://raw.githubusercontent.com/akitim/datasets/main/log.csv'\n",
        "cols = ['user_id', 'time', 'bet', 'win']\n",
        "log = pd.read_csv(log_path, names=cols)\n",
        "\n",
        "log.loc[:, 'bet'].fillna(0, inplace=True)\n",
        "log.loc[:, 'win'].fillna(0, inplace=True)\n",
        "\n",
        "min_bet = log.loc[log.loc[:, 'bet'] > 0, 'bet'].min()\n",
        "min_bet_amount = r2i(\n",
        "    log.loc[log.loc[:, 'bet'] == min_bet, 'bet'].count()\n",
        ")\n"
      ],
      "execution_count": null,
      "outputs": []
    },
    {
      "cell_type": "markdown",
      "metadata": {
        "id": "rmbgoayUbzaA"
      },
      "source": [
        "#11.8 Повторение merge/groupby"
      ]
    },
    {
      "cell_type": "code",
      "metadata": {
        "colab": {
          "base_uri": "https://localhost:8080/"
        },
        "id": "8rkQH6wWbyss",
        "outputId": "65a59807-708e-4400-fbed-68d85cb2811a"
      },
      "source": [
        "import pandas as pd\n",
        " \n",
        "def r2i(f):\n",
        "    return round(f - 0.5)\n",
        " \n",
        "log_path = 'https://raw.githubusercontent.com/akitim/datasets/main/log.csv'\n",
        "cols = ['user_id', 'time', 'bet', 'win']\n",
        "log = pd.read_csv(log_path, names=cols)\n",
        " \n",
        "us_path = 'https://raw.githubusercontent.com/akitim/datasets/main/users.csv'\n",
        "us = pd.read_csv(\n",
        "    us_path,\n",
        "    encoding='koi8-r',\n",
        "    sep = '\\t'\n",
        ")\n",
        "us.columns = ['user_id', 'email', 'geo']\n",
        " \n",
        "# Приведем признак user_id к одному формату в обоих датасетах  \n",
        "us.user_id = us.user_id.apply(lambda x: x.lower())\n",
        " \n",
        "# Избавимся от ошибок в user_id  \n",
        "log = log[log.user_id != '#error']  \n",
        "log.user_id = log.user_id.str.split(' - ').apply(lambda x: x[1])\n",
        " \n",
        "log.loc[:, 'bet'].fillna(0, inplace=True)\n",
        "log.loc[:, 'win'].fillna(0, inplace=True)\n",
        " \n",
        "log.loc[:, 'net'] = log.loc[:, 'win'] - log.loc[:, 'bet']\n",
        " \n",
        "logus = pd.merge(log, us, on='user_id')\n",
        " \n",
        "logus.groupby('user_id')['win'].median().median()  \n",
        " \n",
        "#11.9 Анализ по пользователям\n",
        "# Задание 1\n",
        "r2i(logus.groupby(by='user_id')['net'].sum().median())\n",
        " \n",
        "#Задание 2*\n",
        "# logus.groupby(by='user_id')['bet'].sum().sort_values(ascending=True)\n",
        " \n",
        "unix = logus.loc[logus.loc[:, 'bet'] > 0, 'user_id'].unique()\n",
        " \n",
        "r2i(\n",
        "    logus.loc[\n",
        "    logus.loc[:, 'bet'] == 0,\n",
        "    'user_id'\n",
        "    ].apply(lambda u: u if u in unix else '').value_counts().mean()\n",
        ") # => 5\n",
        " \n",
        "#Задание 3**\n",
        "# Сколько в среднем времени проходит\n",
        "# между появлением человека в сервисе и первой ставкой?\n",
        " \n",
        "logus.loc[:, 'time'] = pd.to_datetime(\n",
        "    logus.loc[:, 'time'].apply(lambda t: t[1:])\n",
        ")\n",
        " \n",
        "def time2bet (id):\n",
        "    tb = logus.loc[\n",
        "        logus.loc[:, 'user_id'] == id, 'time':'bet'\n",
        "    ].sort_values(by='time')\n",
        " \n",
        "    t_appear = tb.loc[tb.index.min(), 'time']\n",
        "    t_1stbet = tb.loc[tb.loc[tb.loc[:, 'bet'] > 0, 'time'].index.min(), 'time']\n",
        " \n",
        "    return (t_1stbet - t_appear).total_seconds() / 3600 / 24\n",
        " \n",
        "unix = logus.loc[logus.loc[:, 'bet'] > 0, 'user_id'].unique()\n",
        " \n",
        "dt = pd.DataFrame(data=[time2bet(u) for u in unix], index = unix, columns=['time_to_1stbet'])\n",
        "r2i(dt.loc[:, 'time_to_1stbet'].mean())\n",
        "# time2bet('user_902')"
      ],
      "execution_count": null,
      "outputs": [
        {
          "output_type": "execute_result",
          "data": {
            "text/plain": [
              "47"
            ]
          },
          "metadata": {},
          "execution_count": 9
        }
      ]
    },
    {
      "cell_type": "markdown",
      "metadata": {
        "id": "rCmnSGySsrBW"
      },
      "source": [
        "#11.10 Анализ по городам"
      ]
    },
    {
      "cell_type": "code",
      "metadata": {
        "id": "RFOx5FATe3Au",
        "colab": {
          "base_uri": "https://localhost:8080/"
        },
        "outputId": "65ad69ad-882d-43ac-fb3f-ad299bb96bc4"
      },
      "source": [
        "# Задание 1\n",
        "logus.groupby(by='geo')['win'].sum().sort_values(ascending=False).index[1]\n",
        " \n",
        "# Задание 2*\n",
        " \n",
        "mean_bet_by_city = logus.loc[\n",
        "    logus.loc[:, 'bet'] != 0, :\n",
        "].groupby(by='geo')['bet'].mean() #.sort_values(ascending=False)\n",
        " \n",
        "r2i(mean_bet_by_city.max() / mean_bet_by_city.min())"
      ],
      "execution_count": null,
      "outputs": [
        {
          "output_type": "execute_result",
          "data": {
            "text/plain": [
              "127"
            ]
          },
          "metadata": {},
          "execution_count": 14
        }
      ]
    },
    {
      "cell_type": "code",
      "metadata": {
        "id": "8yNXnJRftZxo",
        "colab": {
          "base_uri": "https://localhost:8080/"
        },
        "outputId": "3fd52ef2-239a-4fea-ca10-b243cc966adf"
      },
      "source": [
        " #Задание 3\n",
        "import pandas as pd\n",
        " \n",
        "def r2i(f):\n",
        "    return round(f - 0.5)\n",
        " \n",
        "log_path = 'https://raw.githubusercontent.com/akitim/datasets/main/log.csv'\n",
        "cols = ['user_id', 'time', 'bet', 'win']\n",
        "log = pd.read_csv(log_path, names=cols)\n",
        " \n",
        "us_path = 'https://raw.githubusercontent.com/akitim/datasets/main/users.csv'\n",
        "us = pd.read_csv(\n",
        "    us_path,\n",
        "    encoding='koi8-r',\n",
        "    sep = '\\t'\n",
        ")\n",
        "us.columns = ['user_id', 'email', 'geo']\n",
        " \n",
        "# Приведем признак user_id к одному формату в обоих датасетах  \n",
        "us.user_id = us.user_id.apply(lambda x: x.lower())\n",
        " \n",
        "# Избавимся от ошибок в user_id  \n",
        "log = log[log.user_id != '#error']\n",
        " log.user_id = log.user_id.str.split(' - ').apply(lambda x: x[1])\n",
        " \n",
        "logus = pd.merge(log, us, on='user_id')\n",
        " \n",
        "sample2 = logus.groupby(by='geo')['user_id'].count()"
      ],
      "execution_count": null,
      "outputs": [
        {
          "output_type": "execute_result",
          "data": {
            "text/plain": [
              "geo\n",
              "Арзангелтск         96\n",
              "Воронеж             88\n",
              "Екатеринбург        49\n",
              "Ижевск              61\n",
              "Казань              66\n",
              "Краснодар           86\n",
              "Красноярск          56\n",
              "Москва              61\n",
              "Пермь               55\n",
              "Санкт-Петербург    115\n",
              "Ставрополь          36\n",
              "Тюмень              32\n",
              "Хабаровск           60\n",
              "Ярославль           89\n",
              "Name: user_id, dtype: int64"
            ]
          },
          "metadata": {},
          "execution_count": 16
        }
      ]
    },
    {
      "cell_type": "markdown",
      "metadata": {
        "id": "0Zq8WrlBbDoJ"
      },
      "source": [
        "#1.5. Скалярное произведение векторов"
      ]
    },
    {
      "cell_type": "code",
      "metadata": {
        "id": "0qJu6cQpbHrd",
        "colab": {
          "base_uri": "https://localhost:8080/"
        },
        "outputId": "d80568df-3696-455f-f0c3-dbce39efdd8f"
      },
      "source": [
        "import numpy as np\n",
        " \n",
        "x = np.array([4,6,1])\n",
        "np.dot(x,x)**0.5"
      ],
      "execution_count": null,
      "outputs": [
        {
          "output_type": "execute_result",
          "data": {
            "text/plain": [
              "7.280109889280518"
            ]
          },
          "metadata": {},
          "execution_count": 1
        }
      ]
    },
    {
      "cell_type": "markdown",
      "metadata": {
        "id": "5rdxCB47HFK2"
      },
      "source": [
        "#1.7. --> Практика. Векторы"
      ]
    },
    {
      "cell_type": "code",
      "metadata": {
        "id": "MBMRKIheHIkS",
        "colab": {
          "base_uri": "https://localhost:8080/"
        },
        "outputId": "1a717f19-ca28-473f-cdd7-a273f1ad3c62"
      },
      "source": [
        "import numpy as np\n",
        "import pandas as pd\n",
        "Hut_Paradise_DF = pd.DataFrame({'1.Rent': [65, 70, 120, 35, 40, 50, 100, 90, 85], \n",
        "                                '2.Area': [50, 52, 80, 33, 33, 44, 80, 65, 65], \n",
        "                                '3.Rooms':[3, 2, 1, 1, 1, 2, 4, 3, 2],\n",
        "                                '4.Floor':[5, 12, 10, 3, 6, 13, 8, 21, 5], \n",
        "                                '5.Demo two weeks':[8, 4, 5, 10, 20, 12, 5, 1, 10], \n",
        "                                '6.Liv.Area': [37, 40, 65, 20, 16, 35, 60, 50, 40]})\n",
        "#Задание 1.7.1\n",
        "hp = Hut_Paradise_DF\n",
        "hp.loc[4,:].values\n",
        " \n",
        "#Задание 1.7.2\n",
        "# print(str(hp.loc[:, '4.Floor'].values).replace(' ', ',').replace(',,', ',')[2:-1])\n",
        " \n",
        "hp.shape\n",
        " \n",
        "#Задание 1.7.5\n",
        "nlva = hp.loc[:, '2.Area']-hp.loc[:, '6.Liv.Area']\n",
        "# print(str(nlva.values).replace(' ', ',').replace(',,', ',')[1:-1])\n",
        " \n",
        "#Задание 1.7.6\n",
        "grr = hp.loc[:, '1.Rent'] * 4 / 10\n",
        "# print(','.join(grr.astype(int).astype(str).values))\n",
        "\n",
        "# Задание 1.7.7\n",
        "hp.loc[:, '7.T.demo'] = [10, 20, 30, 15, 5, 40, 20, 8, 20]\n",
        "\n",
        "# display(hp.head(9))\n",
        "# print('\\n','='*66, '\\n')\n",
        "\n",
        "np.dot(hp.loc[:, '7.T.demo'],hp.loc[:, '5.Demo two weeks'])\n",
        "\n",
        "# Задача 2. Условие\n",
        "# Даны три вектора:\n",
        "\n",
        "u = np.array([3,0,1,1,1])\n",
        "v = np.array([0,1,0,2,-2])\n",
        "w = np.array([1,-4,-1,0,-2])\n",
        "a = {'u': u, 'v': v, 'w': w }\n",
        "\n",
        "from itertools import combinations\n",
        "\n",
        "for c in combinations(['u', 'v', 'w'], 2):\n",
        "    print (f'Векторы {c[0]} и {c[1]} ортогональны: \\\n",
        "    {np.dot(a[c[0]], a[c[1]]) == 0}')\n",
        "\n",
        "# Задание 1.7.8\n",
        "# Составьте линейную комбинацию векторов v и w с коэффициентами 2 и -3:\n",
        "\n",
        "# print(','.join(list(map(str, 2*v - 3*w))))\n",
        "\n",
        "# Задание 1.7.10\n",
        "\n",
        "def norm(v):\n",
        "    return v / np.dot(v, v)**0.5\n",
        "\n",
        "round (norm(u)[2], 3)\n",
        "round (norm(v)[3], 3)\n",
        "round (norm(w)[0], 3)\n"
      ],
      "execution_count": null,
      "outputs": [
        {
          "output_type": "stream",
          "text": [
            "Векторы u и v ортогональны:     True\n",
            "Векторы u и w ортогональны:     True\n",
            "Векторы v и w ортогональны:     True\n"
          ],
          "name": "stdout"
        },
        {
          "output_type": "execute_result",
          "data": {
            "text/plain": [
              "0.213"
            ]
          },
          "metadata": {},
          "execution_count": 70
        }
      ]
    },
    {
      "cell_type": "markdown",
      "metadata": {
        "id": "zVbVchSJuNIH"
      },
      "source": [
        "#1.10. Практика. Базовые действия над матрицами"
      ]
    },
    {
      "cell_type": "code",
      "metadata": {
        "colab": {
          "base_uri": "https://localhost:8080/"
        },
        "id": "sn6rwM2tuMjq",
        "outputId": "3be12834-911d-4952-9855-aa8f7c6a0692"
      },
      "source": [
        "import numpy as np\n",
        "\n",
        "def print_arr(a):\n",
        "    print(','.join(list(map(str, a))))\n",
        "    return None\n",
        "Husband_Income = np.array([100,220,140])\n",
        "Wife_Income = np.array([150,200,130])\n",
        "Mother_In_Law_Income = np.array([90,80,100])\n",
        "\n",
        "Husband_Сonsumption = np.array([50,50,60])\n",
        "Wife_Сonsumption = np.array([100,80,140])\n",
        "Mother_In_Law_Сonsumption = np.array([100,20,140])\n",
        "\n",
        "inc = np.array([Husband_Income,\n",
        "               Wife_Income,\n",
        "               Mother_In_Law_Income]).T\n",
        "cons = np.array([Husband_Сonsumption,\n",
        "                Wife_Сonsumption,\n",
        "                Mother_In_Law_Сonsumption]).T\n",
        "\n",
        "# Задание 1.10.3\n",
        "print(','.join(list(map(str, inc[0][:]*(1 - 0.13)))))\n",
        "\n",
        "# Задание 1.10.4\n",
        "# Вычислите матрицу P, которая покажет баланс семьи Ивановых за один месяц\n",
        "# (то есть разницу между доходами (после вычета налога) и расходами)\n",
        "P = inc*(1 - 0.13) - cons\n",
        "print_arr(P[2, :])"
      ],
      "execution_count": null,
      "outputs": [
        {
          "output_type": "stream",
          "name": "stdout",
          "text": [
            "87.0,130.5,78.3\n",
            "61.8,-26.900000000000006,-53.0\n"
          ]
        }
      ]
    },
    {
      "cell_type": "markdown",
      "source": [
        "### Задание 6.9\n",
        "Составьте матрицу  из системы векторов:\n",
        "\n",
        "$\\vec{a}$$ = \\begin{pmatrix} 1 \\\\ 1 \\end{pmatrix}, \\vec{b}$$ = \\begin{pmatrix} 2 \\\\ -1 \\end{pmatrix}, \\vec{c}$$ = \\begin{pmatrix} 1 \\\\ 2 \\end{pmatrix}$\n",
        "\n",
        "Найдите матрицу Грама $G = A^T * A$"
      ],
      "metadata": {
        "id": "m3PwGWFe4Wd0"
      }
    },
    {
      "cell_type": "code",
      "source": [
        "import numpy as np\n",
        "\n",
        "a = np.array([1, 1])\n",
        "b = np.array([2, -1])\n",
        "c = np.array([1, 2])\n",
        "\n",
        "A = np.stack([a, b, c]).T\n",
        "G = A.T @ A\n",
        "print(G)\n",
        "\n"
      ],
      "metadata": {
        "colab": {
          "base_uri": "https://localhost:8080/"
        },
        "id": "s8OVZiTm9VlJ",
        "outputId": "e2d7c242-1f8d-4045-a6d2-dce7e51c48cf"
      },
      "execution_count": null,
      "outputs": [
        {
          "output_type": "stream",
          "name": "stdout",
          "text": [
            "[[2 1 3]\n",
            " [1 5 0]\n",
            " [3 0 5]]\n"
          ]
        }
      ]
    },
    {
      "cell_type": "markdown",
      "source": [
        "def print_arr(a):\n",
        "    print(','.join(list(map(str, a))))\n",
        "    return None"
      ],
      "metadata": {
        "id": "htqlynldBJdE"
      }
    },
    {
      "cell_type": "code",
      "source": [
        "def print_arr(a):\n",
        "    print(','.join(list(map(str, a))))\n",
        "    return None\n",
        "\n",
        "A = np.array([[5,-1,3,1,2], [-2,8,5,-1,1]])\n",
        "x = np.array([1,2,3,4,5])\n",
        "\n",
        "print_arr(A @ x)"
      ],
      "metadata": {
        "id": "uddGH9oRBKq2",
        "outputId": "89356018-57f0-407f-c7a8-53836260b1b0",
        "colab": {
          "base_uri": "https://localhost:8080/"
        }
      },
      "execution_count": null,
      "outputs": [
        {
          "output_type": "stream",
          "name": "stdout",
          "text": [
            "26,30\n"
          ]
        }
      ]
    },
    {
      "cell_type": "markdown",
      "metadata": {
        "id": "YzQv7KVupF0v"
      },
      "source": [
        "#1.15. --> Практика. Умножение матриц"
      ]
    },
    {
      "cell_type": "code",
      "metadata": {
        "colab": {
          "base_uri": "https://localhost:8080/",
          "height": 294
        },
        "id": "SfXTYVtWpH1i",
        "outputId": "3d20ac29-f264-4ab1-db86-a7e5dcb588e0"
      },
      "source": [
        "import numpy as np\n",
        "\n",
        "def print_arr(a):\n",
        "    print(','.join(list(map(lambda f: str(round(f, 3)), a))))\n",
        "    return None\n",
        "\n",
        "A = np.array([[5,-1,3,1,2],\n",
        "              [-2,8,5,-1,1]])\n",
        "x = np.array([1,2,3,4,5])\n",
        "\n",
        "# Задание 1.15.1\n",
        "# print_arr(np.dot(A, x))\n",
        "\n",
        "# Задание 1.15.2\n",
        "# Найдите произведение матриц  и  в том порядке, в котором их можно умножить.\n",
        "A = np.array( [ [1,9,8,5], [3,6,3,2], [3,3,3,3], [0,2,5,9], [4,4,1,2] ] )\n",
        "B = np.array( [ [1,-1,0,1,1] , [-2,0,2,-1,1] ] )\n",
        "\n",
        "print(np.dot(B, A)[0][3])\n",
        "\n",
        "# Задача 3. Условие\n",
        "x = np.array([1,2,1,0,4])\n",
        "y = np.array([2,1,-1,1,0])\n",
        "z = np.array([-1,1,-1,0,0])\n",
        "# Составьте матрицу A, расположив векторы x, y, z в строках.\n",
        "# Найдите матрицу Грама G (матрицу скалярных произведений столбцов матрицы A)\n",
        "# системы векторов x, y, z.\n",
        "# Чему равна полученная матрица Грама ?\n",
        "\n",
        "# Задание 1.15.3\n",
        "G = np.dot(np.array([x, y, z]).T, np.array([x, y, z]))\n",
        "# print_arr(G.flatten())\n",
        "print(G)\n",
        "\n",
        "# Задача 4. Условие\n",
        "import pandas as pd\n",
        "serv = pd.DataFrame({'Женские стрижки': [10, 2, 12, 4, 6, 10, 22, 7], \n",
        "                                'Мужские стрижки': [5, 21, 12, 8, 25, 3, 1, 0], \n",
        "                                'Окрашивания':[12, 3, 0, 18, 27, 2, 4, 31],\n",
        "                              'Укладка':[15, 25, 30, 14, 25, 17, 25, 31],\n",
        "                                'Уход':[10, 6, 4, 5, 18, 12, 20, 28]\n",
        "                                }, \n",
        "                               index=['Аня', 'Борис', 'Вика', 'Галя', 'Дима', 'Егор', 'Женя','Юра'])\n",
        "price = pd.DataFrame({'Женские стрижки': [2, 1.8, 2, 1.8, 2.5, 5, 1.1, 4.5], \n",
        "                                'Мужские стрижки': [1.5, 2.5, 2, 1.2, 3.5, 5, 1, 4], \n",
        "                                'Окрашивания':[1, 1, 0, 2.8, 2, 3, 1.5, 2.5],\n",
        "                              'Укладка':[0.8, 1, 0.5, 0.8, 1, 2, 0.5, 1],\n",
        "                                'Уход':[1, 1, 2, 2, 1.5, 2.5, 1.7, 2] \n",
        "                                }, \n",
        "                               index=['Аня', 'Борис', 'Вика', 'Галя', 'Дима', 'Егор', 'Женя','Юра'])\n",
        "\n",
        "# Задание 1.15.4\n",
        "# Найдите вектор выручки Бориса.\n",
        "display(serv.head(1))\n",
        "# display(price.head(1))\n",
        "print('\\n', '='*50, '\\n')\n",
        "\n",
        "# print_arr(np.array(serv.loc['Борис', :]*price.loc['Борис',:]))\n",
        "\n",
        "# Задание 1.15.5\n",
        "com = [0.2, 0.2, 0.3, 0.1, 0.1] #Вектор комиссий\n",
        "print_arr(np.dot(serv*price, com))\n",
        "\n",
        "# Задание 1.15.6\n",
        "rev = np.ones((8, 1)) - com\n",
        "# print_arr(np.dot(serv*price, rev))\n",
        "print_arr((serv*price*rev).sum(axis=1).values) #вариант1\n",
        "\n",
        "rev = np.ones((1, 5)) - com\n",
        "print_arr(np.dot(serv*price, rev.T).T.flatten())  #вариант2"
      ],
      "execution_count": 10,
      "outputs": [
        {
          "output_type": "stream",
          "name": "stdout",
          "text": [
            "14\n",
            "[[ 6  3  0  2  4]\n",
            " [ 3  6  0  1  8]\n",
            " [ 0  0  3 -1  4]\n",
            " [ 2  1 -1  1  0]\n",
            " [ 4  8  4  0 16]]\n"
          ]
        },
        {
          "output_type": "display_data",
          "data": {
            "text/plain": [
              "     Женские стрижки  Мужские стрижки  Окрашивания  Укладка  Уход\n",
              "Аня               10                5           12       15    10"
            ],
            "text/html": [
              "\n",
              "  <div id=\"df-a427e0f7-1662-42f1-8a99-03aa3216fad2\">\n",
              "    <div class=\"colab-df-container\">\n",
              "      <div>\n",
              "<style scoped>\n",
              "    .dataframe tbody tr th:only-of-type {\n",
              "        vertical-align: middle;\n",
              "    }\n",
              "\n",
              "    .dataframe tbody tr th {\n",
              "        vertical-align: top;\n",
              "    }\n",
              "\n",
              "    .dataframe thead th {\n",
              "        text-align: right;\n",
              "    }\n",
              "</style>\n",
              "<table border=\"1\" class=\"dataframe\">\n",
              "  <thead>\n",
              "    <tr style=\"text-align: right;\">\n",
              "      <th></th>\n",
              "      <th>Женские стрижки</th>\n",
              "      <th>Мужские стрижки</th>\n",
              "      <th>Окрашивания</th>\n",
              "      <th>Укладка</th>\n",
              "      <th>Уход</th>\n",
              "    </tr>\n",
              "  </thead>\n",
              "  <tbody>\n",
              "    <tr>\n",
              "      <th>Аня</th>\n",
              "      <td>10</td>\n",
              "      <td>5</td>\n",
              "      <td>12</td>\n",
              "      <td>15</td>\n",
              "      <td>10</td>\n",
              "    </tr>\n",
              "  </tbody>\n",
              "</table>\n",
              "</div>\n",
              "      <button class=\"colab-df-convert\" onclick=\"convertToInteractive('df-a427e0f7-1662-42f1-8a99-03aa3216fad2')\"\n",
              "              title=\"Convert this dataframe to an interactive table.\"\n",
              "              style=\"display:none;\">\n",
              "        \n",
              "  <svg xmlns=\"http://www.w3.org/2000/svg\" height=\"24px\"viewBox=\"0 0 24 24\"\n",
              "       width=\"24px\">\n",
              "    <path d=\"M0 0h24v24H0V0z\" fill=\"none\"/>\n",
              "    <path d=\"M18.56 5.44l.94 2.06.94-2.06 2.06-.94-2.06-.94-.94-2.06-.94 2.06-2.06.94zm-11 1L8.5 8.5l.94-2.06 2.06-.94-2.06-.94L8.5 2.5l-.94 2.06-2.06.94zm10 10l.94 2.06.94-2.06 2.06-.94-2.06-.94-.94-2.06-.94 2.06-2.06.94z\"/><path d=\"M17.41 7.96l-1.37-1.37c-.4-.4-.92-.59-1.43-.59-.52 0-1.04.2-1.43.59L10.3 9.45l-7.72 7.72c-.78.78-.78 2.05 0 2.83L4 21.41c.39.39.9.59 1.41.59.51 0 1.02-.2 1.41-.59l7.78-7.78 2.81-2.81c.8-.78.8-2.07 0-2.86zM5.41 20L4 18.59l7.72-7.72 1.47 1.35L5.41 20z\"/>\n",
              "  </svg>\n",
              "      </button>\n",
              "      \n",
              "  <style>\n",
              "    .colab-df-container {\n",
              "      display:flex;\n",
              "      flex-wrap:wrap;\n",
              "      gap: 12px;\n",
              "    }\n",
              "\n",
              "    .colab-df-convert {\n",
              "      background-color: #E8F0FE;\n",
              "      border: none;\n",
              "      border-radius: 50%;\n",
              "      cursor: pointer;\n",
              "      display: none;\n",
              "      fill: #1967D2;\n",
              "      height: 32px;\n",
              "      padding: 0 0 0 0;\n",
              "      width: 32px;\n",
              "    }\n",
              "\n",
              "    .colab-df-convert:hover {\n",
              "      background-color: #E2EBFA;\n",
              "      box-shadow: 0px 1px 2px rgba(60, 64, 67, 0.3), 0px 1px 3px 1px rgba(60, 64, 67, 0.15);\n",
              "      fill: #174EA6;\n",
              "    }\n",
              "\n",
              "    [theme=dark] .colab-df-convert {\n",
              "      background-color: #3B4455;\n",
              "      fill: #D2E3FC;\n",
              "    }\n",
              "\n",
              "    [theme=dark] .colab-df-convert:hover {\n",
              "      background-color: #434B5C;\n",
              "      box-shadow: 0px 1px 3px 1px rgba(0, 0, 0, 0.15);\n",
              "      filter: drop-shadow(0px 1px 2px rgba(0, 0, 0, 0.3));\n",
              "      fill: #FFFFFF;\n",
              "    }\n",
              "  </style>\n",
              "\n",
              "      <script>\n",
              "        const buttonEl =\n",
              "          document.querySelector('#df-a427e0f7-1662-42f1-8a99-03aa3216fad2 button.colab-df-convert');\n",
              "        buttonEl.style.display =\n",
              "          google.colab.kernel.accessAllowed ? 'block' : 'none';\n",
              "\n",
              "        async function convertToInteractive(key) {\n",
              "          const element = document.querySelector('#df-a427e0f7-1662-42f1-8a99-03aa3216fad2');\n",
              "          const dataTable =\n",
              "            await google.colab.kernel.invokeFunction('convertToInteractive',\n",
              "                                                     [key], {});\n",
              "          if (!dataTable) return;\n",
              "\n",
              "          const docLinkHtml = 'Like what you see? Visit the ' +\n",
              "            '<a target=\"_blank\" href=https://colab.research.google.com/notebooks/data_table.ipynb>data table notebook</a>'\n",
              "            + ' to learn more about interactive tables.';\n",
              "          element.innerHTML = '';\n",
              "          dataTable['output_type'] = 'display_data';\n",
              "          await google.colab.output.renderOutput(dataTable, element);\n",
              "          const docLink = document.createElement('div');\n",
              "          docLink.innerHTML = docLinkHtml;\n",
              "          element.appendChild(docLink);\n",
              "        }\n",
              "      </script>\n",
              "    </div>\n",
              "  </div>\n",
              "  "
            ]
          },
          "metadata": {}
        },
        {
          "output_type": "stream",
          "name": "stdout",
          "text": [
            "\n",
            " ================================================== \n",
            "\n",
            "11.3,15.22,11.9,20.6,41.9,21.2,11.49,38.25\n",
            "50.2,74.88,59.1,67.8,166.6,113.8,66.21,157.75\n",
            "50.2,74.88,59.1,67.8,166.6,113.8,66.21,157.75\n"
          ]
        }
      ]
    },
    {
      "cell_type": "markdown",
      "metadata": {
        "id": "jywPKnQl00nc"
      },
      "source": [
        "#1.19. Линейная (не)зависимость ч.2"
      ]
    },
    {
      "cell_type": "code",
      "metadata": {
        "id": "wM2BTjMG0zAQ",
        "colab": {
          "base_uri": "https://localhost:8080/"
        },
        "outputId": "19c4f0a6-c9e7-4c5b-9ac7-a75471e4ec28"
      },
      "source": [
        "import numpy as np\n",
        "import numpy.linalg as npla\n",
        "\n",
        "A = np.array([[1, 0, 3, 5],\n",
        "              [1, 0, 4, 5],\n",
        "              [0, 0, 0, 0],\n",
        "              [0, 0, 0, 0]])\n",
        "npla.matrix_rank(A)\n",
        "\n",
        "# 1.20. Практика. Обратная матрица, ранг, определитель\n",
        "A = np.array([[8, 6, 11], [ 7, 5, 9], [ 6 , 10,  6]])\n",
        "\n",
        "# Задание 1.20.1\n",
        "print(f'Задание 1.20.1: {round(npla.inv(A)[1][0], 3)}\\n')\n",
        "\n",
        "v1 = np.array([9, 10, 7, 7, 9])\n",
        "v2 = np.array([2, 0, 5, 1, 4])\n",
        "v3 = np.array([4, 0, 0, 4, 1])\n",
        "v4 = np.array([3, -4, 3, -1, -4])\n",
        "\n",
        "# Задание 1.20.2\n",
        "V = np.array([v1, v2, v3, v4])\n",
        "print('Ранг системы векторов v1, v2, v3, v4:', npla.matrix_rank(V.T))\n",
        "print('Векторы v1, v2, v3, v4 линейно независимы:', npla.matrix_rank(V.T) == V.T.shape[1], '\\n')\n",
        "\n",
        "# Задание 1.20.4\n",
        "G = V@V.T\n",
        "print(f'Задание 1.20.4: {G[0][3]}\\n')\n",
        "\n",
        "# Задание 1.20.5\n",
        "round(npla.det(G))\n",
        "\n",
        "# Задание 10.7\n",
        "\n",
        "# Найдите обратную матрицу к матрице Грама системы векторов v1, v2, v3, v4.\n",
        "# В качестве ответа запишите элемент из первого столбца третьей строки, округлив \n",
        "# его до трёх знаков после точки-разделителя.\n"
      ],
      "execution_count": 8,
      "outputs": [
        {
          "output_type": "stream",
          "name": "stdout",
          "text": [
            "Задание 1.20.1: 0.375\n",
            "\n",
            "Ранг системы векторов v1, v2, v3, v4: 4\n",
            "Векторы v1, v2, v3, v4 линейно независимы: True \n",
            "\n",
            "Задание 1.20.4: -35\n",
            "\n"
          ]
        },
        {
          "output_type": "execute_result",
          "data": {
            "text/plain": [
              "3716648"
            ]
          },
          "metadata": {},
          "execution_count": 8
        }
      ]
    },
    {
      "cell_type": "markdown",
      "metadata": {
        "id": "KFuGS-iBbbla"
      },
      "source": [
        "#2.6. Случай «Всё сложно» ч.2"
      ]
    },
    {
      "cell_type": "code",
      "metadata": {
        "colab": {
          "base_uri": "https://localhost:8080/"
        },
        "id": "_yrcp0cqbb3y",
        "outputId": "82768614-e804-422b-aaa3-7ee78e28e961"
      },
      "source": [
        "import numpy as np\n",
        "import numpy.linalg as npla\n",
        "\n",
        "def print_arr(a):\n",
        "    print(','.join(list(map(lambda f: str(round(f, 2)), a))))\n",
        "    return None\n",
        "\n",
        "# Задание 2.6.1\n",
        "# Вычислите вектор ошибок для приближённого решения системы w\n",
        "w = np.array([1, 1])\n",
        "A = np.array([[1, -5],\n",
        "             [2, 1],\n",
        "             [1, 1]])\n",
        "b = np.array([1,2,2])\n",
        "# print_arr(b - A@w)\n",
        "\n",
        "#Задание 2.6.3\n",
        "# Найдите OLS оценку для коэффициентов w1, w2 СЛАУ\n",
        "A = np.array([[1, 2],\n",
        "              [-3, 1],\n",
        "              [1, 2],\n",
        "              [1,-1]])\n",
        "b = np.array([1, 4, 5, 0])\n",
        "\n",
        "# Задание 2.6.3_1\n",
        "A.T@A\n",
        "\n",
        "# Задание 2.6.3_3\n",
        "# print_arr(A.T@b)\n",
        "\n",
        "# Задание 2.6.3_4\n",
        "w_cap = npla.inv(A.T@A)@A.T@b\n",
        "# print_arr(w_cap)\n",
        "\n",
        "w = np.array([-29.3, -0.26, 8.4])\n",
        "x = np.array([1, 0.2, 6])\n",
        "w@x\n",
        "\n",
        "# Задание 2.8.2\n",
        "X = np.array([[1, -1, 0],\n",
        "              [1, 1, 2],\n",
        "              [0, 0, 0],\n",
        "              [2, 0, 2]])\n",
        "npla.det(X.T@X)\n",
        "\n",
        "# 2.9. Стандартизация признаков\n",
        "# Задание 2.9.2\n",
        "x = np.array([11, 8])\n",
        "xc = x - x.mean()\n",
        "print_arr((xc) / (xc@xc)**0.5)"
      ],
      "execution_count": null,
      "outputs": [
        {
          "output_type": "stream",
          "name": "stdout",
          "text": [
            "0.71,-0.71\n"
          ]
        }
      ]
    },
    {
      "cell_type": "markdown",
      "metadata": {
        "id": "SBmkRBhwqLwt"
      },
      "source": [
        "#2.11. --> Практика. Классический OLS алгоритм"
      ]
    },
    {
      "cell_type": "code",
      "metadata": {
        "colab": {
          "base_uri": "https://localhost:8080/",
          "height": 98
        },
        "id": "e5c_tE3iqPcG",
        "outputId": "64ec0553-1002-45bc-bcf2-0dc62c556ecd"
      },
      "source": [
        "# Загрузка библиотек\n",
        "import numpy as np # для работы с массивами\n",
        "import numpy.linalg as npla\n",
        "import pandas as pd # для работы DataFrame \n",
        "import seaborn as sns # библиотека для визуализации статистических данных\n",
        "import matplotlib.pyplot as plt # для построения графиков\n",
        " \n",
        "%matplotlib inline\n",
        " \n",
        "def print_arr(a):\n",
        "    print(','.join(list(map(lambda f: str(round(f, 3)), a))))\n",
        "    return None\n",
        " \n",
        "adm = pd.read_csv('https://raw.githubusercontent.com/akitim/datasets/main/Admission_Predict_Ver1.1.csv')\n",
        "display(adm.head(1))\n",
        "adm.columns = ['N', 'GRE', 'TOEFL', 'Uni Rating', 'SOP',\n",
        "       'LOR ', 'CGPA', 'Research', 'CoA']\n",
        "# Задание 2.11.3\n",
        "adm.corr().loc[:, 'CoA'].sort_values(ascending=False).index[1]\n",
        " \n",
        "# Задание 2.11.4\n",
        "# Постройте отдельно две матрицы корреляций признаков и целевой переменной: для соискателей, делавших исследования (Research=1) и для тех, у кого исследований нет (Research=0).\n",
        "# В каком случае признаки сильнее скоррелированы между собой?\n",
        "adm.loc[adm.loc[:, 'Research'] == 1, :].corr().apply(lambda x: abs(x)).sum().sum(), \\\n",
        "adm.loc[adm.loc[:, 'Research'] == 0, :].corr().apply(lambda x: abs(x)).sum().sum()\n",
        " \n",
        "# Задание 2.11.5\n",
        "# sns.heatmap(adm.loc[adm.loc[:, 'Research'] == 0, :].corr(), cmap='hot');\n",
        "adm.loc[adm.loc[:, 'Research'] == 0, :].corr()\n",
        " \n",
        "# Задание 2.11.6\n",
        "A = adm.loc[adm.loc[:, 'Research'] == 0, :].loc[:, ['TOEFL', 'CGPA']]\n",
        "A.insert(0, '1', np.ones((A.shape[0],1)))\n",
        "y = adm.loc[adm.loc[:, 'Research'] == 0, :].loc[:, 'CoA']\n",
        "# print_arr(np.array(npla.inv(A.T@A)@A.T@y))\n",
        " \n",
        "# Задание 2.11.7\n",
        "m = np.array([-1.045, 0.004, 0.148])\n",
        "x = np.array([1, 107, 9.1])\n",
        "m@x\n",
        " \n",
        "# Задание 2.11.8\n",
        "# display(A)\n",
        "Ast = pd.DataFrame()\n",
        " \n",
        "TOEFL_c = A.loc[:, 'TOEFL'] - A.mean()['TOEFL']\n",
        "Ast.loc[:, 'TOEFL_st'] = TOEFL_c / (TOEFL_c @ TOEFL_c)**0.5\n",
        " \n",
        "CGPA_c = A.loc[:, 'CGPA'] - A.mean()['CGPA']\n",
        "Ast.loc[:, 'CGPA_st'] = CGPA_c / (CGPA_c @ CGPA_c)**0.5\n",
        " \n",
        "# A.drop('1', axis=1, inplace=True)\n",
        "# display(Ast)\n",
        " \n",
        "yst = (y - y.mean()) / ((y - y.mean()) @ (y - y.mean()))**0.5\n",
        " \n",
        "print_arr(np.array(npla.inv(Ast.T@Ast)@Ast.T@y))"
      ],
      "execution_count": null,
      "outputs": [
        {
          "output_type": "display_data",
          "data": {
            "text/html": [
              "<div>\n",
              "<style scoped>\n",
              "    .dataframe tbody tr th:only-of-type {\n",
              "        vertical-align: middle;\n",
              "    }\n",
              "\n",
              "    .dataframe tbody tr th {\n",
              "        vertical-align: top;\n",
              "    }\n",
              "\n",
              "    .dataframe thead th {\n",
              "        text-align: right;\n",
              "    }\n",
              "</style>\n",
              "<table border=\"1\" class=\"dataframe\">\n",
              "  <thead>\n",
              "    <tr style=\"text-align: right;\">\n",
              "      <th></th>\n",
              "      <th>Serial No.</th>\n",
              "      <th>GRE Score</th>\n",
              "      <th>TOEFL Score</th>\n",
              "      <th>University Rating</th>\n",
              "      <th>SOP</th>\n",
              "      <th>LOR</th>\n",
              "      <th>CGPA</th>\n",
              "      <th>Research</th>\n",
              "      <th>Chance of Admit</th>\n",
              "    </tr>\n",
              "  </thead>\n",
              "  <tbody>\n",
              "    <tr>\n",
              "      <th>0</th>\n",
              "      <td>1</td>\n",
              "      <td>337</td>\n",
              "      <td>118</td>\n",
              "      <td>4</td>\n",
              "      <td>4.5</td>\n",
              "      <td>4.5</td>\n",
              "      <td>9.65</td>\n",
              "      <td>1</td>\n",
              "      <td>0.92</td>\n",
              "    </tr>\n",
              "  </tbody>\n",
              "</table>\n",
              "</div>"
            ],
            "text/plain": [
              "   Serial No.  GRE Score  TOEFL Score  ...  CGPA  Research  Chance of Admit \n",
              "0           1        337          118  ...  9.65         1              0.92\n",
              "\n",
              "[1 rows x 9 columns]"
            ]
          },
          "metadata": {}
        },
        {
          "output_type": "stream",
          "name": "stdout",
          "text": [
            "0.315,1.027\n"
          ]
        }
      ]
    },
    {
      "cell_type": "markdown",
      "metadata": {
        "id": "qD-z8Mr2EgiY"
      },
      "source": []
    },
    {
      "cell_type": "code",
      "metadata": {
        "colab": {
          "base_uri": "https://localhost:8080/",
          "height": 243
        },
        "id": "SCBdJ4U6EgtU",
        "outputId": "665a2a26-6e43-4b59-c732-47f0d6d8b4e2"
      },
      "source": [
        "import numpy as np\n",
        "import numpy.linalg as npla\n",
        "import pandas as pd\n",
        "\n",
        "path = 'https://raw.githubusercontent.com/akitim/datasets/main/data_flats.csv'\n",
        "data = pd.read_csv(path, sep=\";\")\n",
        "\n",
        "data.head()\n",
        "# data.info()"
      ],
      "execution_count": null,
      "outputs": [
        {
          "output_type": "execute_result",
          "data": {
            "text/html": [
              "<div>\n",
              "<style scoped>\n",
              "    .dataframe tbody tr th:only-of-type {\n",
              "        vertical-align: middle;\n",
              "    }\n",
              "\n",
              "    .dataframe tbody tr th {\n",
              "        vertical-align: top;\n",
              "    }\n",
              "\n",
              "    .dataframe thead th {\n",
              "        text-align: right;\n",
              "    }\n",
              "</style>\n",
              "<table border=\"1\" class=\"dataframe\">\n",
              "  <thead>\n",
              "    <tr style=\"text-align: right;\">\n",
              "      <th></th>\n",
              "      <th>id</th>\n",
              "      <th>full_sq</th>\n",
              "      <th>life_sq</th>\n",
              "      <th>floor</th>\n",
              "      <th>sub_area</th>\n",
              "      <th>preschool_quota</th>\n",
              "      <th>preschool_education_centers_raion</th>\n",
              "      <th>school_quota</th>\n",
              "      <th>school_education_centers_raion</th>\n",
              "      <th>school_education_centers_top_20_raion</th>\n",
              "      <th>hospital_beds_raion</th>\n",
              "      <th>healthcare_centers_raion</th>\n",
              "      <th>university_top_20_raion</th>\n",
              "      <th>sport_objects_raion</th>\n",
              "      <th>additional_education_raion</th>\n",
              "      <th>culture_objects_top_25_raion</th>\n",
              "      <th>shopping_centers_raion</th>\n",
              "      <th>office_raion</th>\n",
              "      <th>metro_min_avto</th>\n",
              "      <th>metro_km_avto</th>\n",
              "      <th>metro_min_walk</th>\n",
              "      <th>metro_km_walk</th>\n",
              "      <th>kindergarten_km</th>\n",
              "      <th>school_km</th>\n",
              "      <th>park_km</th>\n",
              "      <th>green_zone_km</th>\n",
              "      <th>industrial_km</th>\n",
              "      <th>railroad_station_walk_km</th>\n",
              "      <th>railroad_station_walk_min</th>\n",
              "      <th>public_transport_station_km</th>\n",
              "      <th>public_transport_station_min_walk</th>\n",
              "      <th>mkad_km</th>\n",
              "      <th>ttk_km</th>\n",
              "      <th>sadovoe_km</th>\n",
              "      <th>bulvar_ring_km</th>\n",
              "      <th>kremlin_km</th>\n",
              "      <th>big_market_km</th>\n",
              "      <th>market_shop_km</th>\n",
              "      <th>fitness_km</th>\n",
              "      <th>swim_pool_km</th>\n",
              "      <th>ice_rink_km</th>\n",
              "      <th>stadium_km</th>\n",
              "      <th>basketball_km</th>\n",
              "      <th>hospice_morgue_km</th>\n",
              "      <th>university_km</th>\n",
              "      <th>workplaces_km</th>\n",
              "      <th>shopping_centers_km</th>\n",
              "      <th>office_km</th>\n",
              "      <th>additional_education_km</th>\n",
              "      <th>preschool_km</th>\n",
              "      <th>big_church_km</th>\n",
              "      <th>church_synagogue_km</th>\n",
              "      <th>theater_km</th>\n",
              "      <th>museum_km</th>\n",
              "      <th>ecology</th>\n",
              "      <th>price_doc</th>\n",
              "    </tr>\n",
              "  </thead>\n",
              "  <tbody>\n",
              "    <tr>\n",
              "      <th>0</th>\n",
              "      <td>1</td>\n",
              "      <td>43</td>\n",
              "      <td>27.0</td>\n",
              "      <td>4.0</td>\n",
              "      <td>Bibirevo</td>\n",
              "      <td>5001.0</td>\n",
              "      <td>5</td>\n",
              "      <td>11065.0</td>\n",
              "      <td>5</td>\n",
              "      <td>0</td>\n",
              "      <td>240.0</td>\n",
              "      <td>1</td>\n",
              "      <td>0</td>\n",
              "      <td>7</td>\n",
              "      <td>3</td>\n",
              "      <td>0</td>\n",
              "      <td>16</td>\n",
              "      <td>1</td>\n",
              "      <td>2.590241</td>\n",
              "      <td>1.131260</td>\n",
              "      <td>13.575119</td>\n",
              "      <td>1.131260</td>\n",
              "      <td>0.145700</td>\n",
              "      <td>0.177975</td>\n",
              "      <td>2.158587</td>\n",
              "      <td>0.600973</td>\n",
              "      <td>1.080934</td>\n",
              "      <td>5.419893</td>\n",
              "      <td>65.038716</td>\n",
              "      <td>0.274985</td>\n",
              "      <td>3.299822</td>\n",
              "      <td>1.422391</td>\n",
              "      <td>10.918587</td>\n",
              "      <td>13.100618</td>\n",
              "      <td>13.675657</td>\n",
              "      <td>15.156211</td>\n",
              "      <td>10.814172</td>\n",
              "      <td>1.676258</td>\n",
              "      <td>0.485841</td>\n",
              "      <td>3.065047</td>\n",
              "      <td>1.107594</td>\n",
              "      <td>8.148591</td>\n",
              "      <td>3.516513</td>\n",
              "      <td>2.392353</td>\n",
              "      <td>6.715026</td>\n",
              "      <td>0.884350</td>\n",
              "      <td>0.648488</td>\n",
              "      <td>0.637189</td>\n",
              "      <td>0.947962</td>\n",
              "      <td>0.177975</td>\n",
              "      <td>0.625783</td>\n",
              "      <td>0.628187</td>\n",
              "      <td>14.053047</td>\n",
              "      <td>7.389498</td>\n",
              "      <td>good</td>\n",
              "      <td>5850000</td>\n",
              "    </tr>\n",
              "    <tr>\n",
              "      <th>1</th>\n",
              "      <td>2</td>\n",
              "      <td>34</td>\n",
              "      <td>19.0</td>\n",
              "      <td>3.0</td>\n",
              "      <td>Nagatinskij Zaton</td>\n",
              "      <td>3119.0</td>\n",
              "      <td>5</td>\n",
              "      <td>6237.0</td>\n",
              "      <td>8</td>\n",
              "      <td>0</td>\n",
              "      <td>229.0</td>\n",
              "      <td>1</td>\n",
              "      <td>0</td>\n",
              "      <td>6</td>\n",
              "      <td>1</td>\n",
              "      <td>1</td>\n",
              "      <td>3</td>\n",
              "      <td>0</td>\n",
              "      <td>0.936700</td>\n",
              "      <td>0.647337</td>\n",
              "      <td>7.620630</td>\n",
              "      <td>0.635053</td>\n",
              "      <td>0.147754</td>\n",
              "      <td>0.273345</td>\n",
              "      <td>0.550690</td>\n",
              "      <td>0.065321</td>\n",
              "      <td>0.966479</td>\n",
              "      <td>3.411993</td>\n",
              "      <td>40.943917</td>\n",
              "      <td>0.065263</td>\n",
              "      <td>0.783160</td>\n",
              "      <td>9.503405</td>\n",
              "      <td>3.103996</td>\n",
              "      <td>6.444333</td>\n",
              "      <td>8.132640</td>\n",
              "      <td>8.698054</td>\n",
              "      <td>6.910568</td>\n",
              "      <td>3.424716</td>\n",
              "      <td>0.668364</td>\n",
              "      <td>2.000154</td>\n",
              "      <td>8.972823</td>\n",
              "      <td>6.127073</td>\n",
              "      <td>1.161579</td>\n",
              "      <td>2.543747</td>\n",
              "      <td>1.852560</td>\n",
              "      <td>0.686252</td>\n",
              "      <td>0.519311</td>\n",
              "      <td>0.688796</td>\n",
              "      <td>1.072315</td>\n",
              "      <td>0.273345</td>\n",
              "      <td>0.967821</td>\n",
              "      <td>0.471447</td>\n",
              "      <td>6.829889</td>\n",
              "      <td>0.709260</td>\n",
              "      <td>excellent</td>\n",
              "      <td>6000000</td>\n",
              "    </tr>\n",
              "    <tr>\n",
              "      <th>2</th>\n",
              "      <td>3</td>\n",
              "      <td>43</td>\n",
              "      <td>29.0</td>\n",
              "      <td>2.0</td>\n",
              "      <td>Tekstil'shhiki</td>\n",
              "      <td>1463.0</td>\n",
              "      <td>4</td>\n",
              "      <td>5580.0</td>\n",
              "      <td>7</td>\n",
              "      <td>0</td>\n",
              "      <td>1183.0</td>\n",
              "      <td>1</td>\n",
              "      <td>0</td>\n",
              "      <td>5</td>\n",
              "      <td>1</td>\n",
              "      <td>0</td>\n",
              "      <td>0</td>\n",
              "      <td>1</td>\n",
              "      <td>2.120999</td>\n",
              "      <td>1.637996</td>\n",
              "      <td>17.351515</td>\n",
              "      <td>1.445960</td>\n",
              "      <td>0.049102</td>\n",
              "      <td>0.158072</td>\n",
              "      <td>0.374848</td>\n",
              "      <td>0.453172</td>\n",
              "      <td>0.939275</td>\n",
              "      <td>1.277658</td>\n",
              "      <td>15.331896</td>\n",
              "      <td>0.328756</td>\n",
              "      <td>3.945073</td>\n",
              "      <td>5.604800</td>\n",
              "      <td>2.927487</td>\n",
              "      <td>6.963403</td>\n",
              "      <td>8.054252</td>\n",
              "      <td>9.067885</td>\n",
              "      <td>5.752368</td>\n",
              "      <td>1.375443</td>\n",
              "      <td>0.733101</td>\n",
              "      <td>1.239304</td>\n",
              "      <td>1.978517</td>\n",
              "      <td>0.767569</td>\n",
              "      <td>1.952771</td>\n",
              "      <td>0.621357</td>\n",
              "      <td>0.841254</td>\n",
              "      <td>1.510089</td>\n",
              "      <td>1.486533</td>\n",
              "      <td>1.543049</td>\n",
              "      <td>0.391957</td>\n",
              "      <td>0.158072</td>\n",
              "      <td>3.178751</td>\n",
              "      <td>0.755946</td>\n",
              "      <td>4.273200</td>\n",
              "      <td>3.156423</td>\n",
              "      <td>poor</td>\n",
              "      <td>5700000</td>\n",
              "    </tr>\n",
              "    <tr>\n",
              "      <th>3</th>\n",
              "      <td>4</td>\n",
              "      <td>89</td>\n",
              "      <td>50.0</td>\n",
              "      <td>9.0</td>\n",
              "      <td>Mitino</td>\n",
              "      <td>6839.0</td>\n",
              "      <td>9</td>\n",
              "      <td>17063.0</td>\n",
              "      <td>10</td>\n",
              "      <td>0</td>\n",
              "      <td>NaN</td>\n",
              "      <td>1</td>\n",
              "      <td>0</td>\n",
              "      <td>17</td>\n",
              "      <td>6</td>\n",
              "      <td>0</td>\n",
              "      <td>11</td>\n",
              "      <td>4</td>\n",
              "      <td>1.489049</td>\n",
              "      <td>0.984537</td>\n",
              "      <td>11.565624</td>\n",
              "      <td>0.963802</td>\n",
              "      <td>0.179441</td>\n",
              "      <td>0.236455</td>\n",
              "      <td>0.078090</td>\n",
              "      <td>0.106125</td>\n",
              "      <td>0.451173</td>\n",
              "      <td>4.291432</td>\n",
              "      <td>51.497190</td>\n",
              "      <td>0.131597</td>\n",
              "      <td>1.579164</td>\n",
              "      <td>2.677824</td>\n",
              "      <td>14.606501</td>\n",
              "      <td>17.457198</td>\n",
              "      <td>18.309433</td>\n",
              "      <td>19.487005</td>\n",
              "      <td>27.892717</td>\n",
              "      <td>0.811275</td>\n",
              "      <td>0.623484</td>\n",
              "      <td>1.950317</td>\n",
              "      <td>6.483172</td>\n",
              "      <td>7.385521</td>\n",
              "      <td>4.923843</td>\n",
              "      <td>3.549558</td>\n",
              "      <td>10.903161</td>\n",
              "      <td>0.622272</td>\n",
              "      <td>0.599914</td>\n",
              "      <td>0.934273</td>\n",
              "      <td>0.892674</td>\n",
              "      <td>0.236455</td>\n",
              "      <td>1.031777</td>\n",
              "      <td>1.561505</td>\n",
              "      <td>16.990677</td>\n",
              "      <td>16.041521</td>\n",
              "      <td>good</td>\n",
              "      <td>13100000</td>\n",
              "    </tr>\n",
              "    <tr>\n",
              "      <th>4</th>\n",
              "      <td>5</td>\n",
              "      <td>77</td>\n",
              "      <td>77.0</td>\n",
              "      <td>4.0</td>\n",
              "      <td>Basmannoe</td>\n",
              "      <td>3240.0</td>\n",
              "      <td>7</td>\n",
              "      <td>7770.0</td>\n",
              "      <td>9</td>\n",
              "      <td>0</td>\n",
              "      <td>562.0</td>\n",
              "      <td>4</td>\n",
              "      <td>2</td>\n",
              "      <td>25</td>\n",
              "      <td>2</td>\n",
              "      <td>0</td>\n",
              "      <td>10</td>\n",
              "      <td>93</td>\n",
              "      <td>1.257186</td>\n",
              "      <td>0.876620</td>\n",
              "      <td>8.266305</td>\n",
              "      <td>0.688859</td>\n",
              "      <td>0.247901</td>\n",
              "      <td>0.376838</td>\n",
              "      <td>0.258289</td>\n",
              "      <td>0.236214</td>\n",
              "      <td>0.392871</td>\n",
              "      <td>0.853960</td>\n",
              "      <td>10.247521</td>\n",
              "      <td>0.071480</td>\n",
              "      <td>0.857764</td>\n",
              "      <td>11.616653</td>\n",
              "      <td>1.721834</td>\n",
              "      <td>0.046810</td>\n",
              "      <td>0.787593</td>\n",
              "      <td>2.578671</td>\n",
              "      <td>9.155057</td>\n",
              "      <td>1.969738</td>\n",
              "      <td>0.220288</td>\n",
              "      <td>2.544696</td>\n",
              "      <td>3.975401</td>\n",
              "      <td>3.610754</td>\n",
              "      <td>0.307915</td>\n",
              "      <td>1.864637</td>\n",
              "      <td>0.991683</td>\n",
              "      <td>0.892668</td>\n",
              "      <td>0.429052</td>\n",
              "      <td>0.077901</td>\n",
              "      <td>0.810801</td>\n",
              "      <td>0.376838</td>\n",
              "      <td>0.378756</td>\n",
              "      <td>0.121681</td>\n",
              "      <td>1.112486</td>\n",
              "      <td>1.800125</td>\n",
              "      <td>excellent</td>\n",
              "      <td>16331452</td>\n",
              "    </tr>\n",
              "  </tbody>\n",
              "</table>\n",
              "</div>"
            ],
            "text/plain": [
              "   id  full_sq  life_sq  floor  ... theater_km  museum_km    ecology  price_doc\n",
              "0   1       43     27.0    4.0  ...  14.053047   7.389498       good    5850000\n",
              "1   2       34     19.0    3.0  ...   6.829889   0.709260  excellent    6000000\n",
              "2   3       43     29.0    2.0  ...   4.273200   3.156423       poor    5700000\n",
              "3   4       89     50.0    9.0  ...  16.990677  16.041521       good   13100000\n",
              "4   5       77     77.0    4.0  ...   1.112486   1.800125  excellent   16331452\n",
              "\n",
              "[5 rows x 56 columns]"
            ]
          },
          "metadata": {},
          "execution_count": 5
        }
      ]
    },
    {
      "cell_type": "markdown",
      "metadata": {
        "id": "KWHWrBqHf6Iq"
      },
      "source": [
        "#2.6. Практика"
      ]
    },
    {
      "cell_type": "code",
      "metadata": {
        "colab": {
          "base_uri": "https://localhost:8080/"
        },
        "id": "yTRNDnDkf6Tk",
        "outputId": "d683d42c-5efe-4cc2-af4f-a7c73d962a3d"
      },
      "source": [
        "import numpy as np\n",
        "import numpy.linalg as npla\n",
        "import pandas as pd\n",
        "\n",
        "# import sys\n",
        "# from google.colab import drive\n",
        "# drive.mount('/content/gdrive', force_remount=True)\n",
        "# sys.path.clear\n",
        "# sys.path.append('/content/gdrive/MyDrive/SkillFactory')\n",
        "\n",
        "# Задание 2.6.6\n",
        "path = '/content/gdrive/MyDrive/SkillFactory/train.csv'\n",
        "vis_data = pd.read_csv(path, encoding = 'ISO-8859-1', low_memory = False)\n",
        "# most_freq_state = vis_data.loc[:, 'state'].value_counts(ascending=False).index[0]\n",
        "# result = vis_data.loc[:, 'state'].fillna(most_freq_state)\n",
        "\n",
        "\n",
        "# Задание 2.6.7\n",
        "path_data_flats = 'https://raw.githubusercontent.com/akitim/datasets/main/data_flats.csv'\n",
        "# df = pd.read_csv(path_data_flats, sep=';', low_memory = False)\n",
        "# df.loc[df.loc[:, 'sub_area'].apply(lambda s: s == 'Birjulevo Vostochnoe'), 'ecology'].value_counts()\n",
        "df.dropna(axis=0, inplace=True)\n",
        "df.shape[0]\n",
        "\n",
        "# Задание 2.8.3\n",
        "# list(vis_data.columns)\n",
        "from sklearn.preprocessing import StandardScaler\n",
        "\n",
        "test_data = vis_data.loc[:, ['balance_due']]\n",
        "\n",
        "scaler = StandardScaler()\n",
        "round(scaler.fit_transform(test_data).min(), 5)\n",
        "\n",
        "# # vis_data\n",
        "# test_data_st = scaler.fit_transform(test_data)"
      ],
      "execution_count": null,
      "outputs": [
        {
          "output_type": "execute_result",
          "data": {
            "text/plain": [
              "-13.14733"
            ]
          },
          "metadata": {},
          "execution_count": 174
        }
      ]
    },
    {
      "cell_type": "markdown",
      "metadata": {
        "id": "7HCBv95KimGb"
      },
      "source": [
        "#2.10. Практика"
      ]
    },
    {
      "cell_type": "code",
      "metadata": {
        "colab": {
          "base_uri": "https://localhost:8080/"
        },
        "id": "IS7oZfswimS4",
        "outputId": "933060bb-3e8c-4275-c9e6-8c5d1ababa5b"
      },
      "source": [
        "import seaborn as sns\n",
        "import pandas as pd\n",
        "import numpy as np\n",
        "\n",
        "# import sys\n",
        "# from google.colab import drive\n",
        "# drive.mount('/content/gdrive', force_remount=True)\n",
        "# sys.path.clear\n",
        "# sys.path.append('/content/gdrive/MyDrive/SkillFactory')\n",
        "\n",
        "# path = '/content/gdrive/MyDrive/SkillFactory/train.csv'\n",
        "# vis_data = pd.read_csv(path, encoding = 'ISO-8859-1', low_memory = False)\n",
        "\n",
        "corr = vis_data.drop(['violation_zip_code', 'payment_amount', \n",
        "                      'clean_up_cost', \n",
        "                      'violation_street_number'], axis=1).\\\n",
        "                dropna(axis=1).\\\n",
        "                corr()\n",
        "cmap = sns.diverging_palette(5, 250, as_cmap=True)\n",
        "\n",
        "def magnify():\n",
        "    return [dict(selector=\"th\",\n",
        "                 props=[(\"font-size\", \"7pt\")]),\n",
        "            dict(selector=\"td\",\n",
        "                 props=[('padding', \"0em 0em\")]),\n",
        "            dict(selector=\"th:hover\",\n",
        "                 props=[(\"font-size\", \"12pt\")]),\n",
        "            dict(selector=\"tr:hover td:hover\",\n",
        "                 props=[('max-width', '200px'),\n",
        "                        ('font-size', '12pt')])\n",
        "]\n",
        "\n",
        "# corr.style.background_gradient(cmap, axis=1)\\\n",
        "#     .set_properties(**{'max-width': '80px', 'font-size': '10pt'})\\\n",
        "#     .set_caption(\"Hover to magify\")\\\n",
        "#     .set_precision(2)\\\n",
        "#     .set_table_styles(magnify())\n",
        "\n",
        "#Задание 2.10.3\n",
        "# bal = np.sqrt(vis_data.loc[vis_data.loc[:, 'balance_due'] > 0, ['balance_due']])\n",
        "# abs(bal.mean() - bal.median())[0]\n",
        "\n",
        "# Задание 2.10.4\n",
        "# path_data_flats = 'https://raw.githubusercontent.com/akitim/datasets/main/data_flats.csv'\n",
        "# df = pd.read_csv(path_data_flats, sep=';', low_memory = False)\n",
        "\n",
        "focus = ['Basmannoe', 'Lefortovo', 'Perovo', 'Bogorodskoe']\n",
        "\n",
        "# sns.boxplot(\n",
        "#     x=df.loc[\n",
        "#         df.loc[:, 'sub_area'].apply(lambda s: s in focus),\n",
        "#         'sub_area'\n",
        "#     ],\n",
        "#     y=df.loc[\n",
        "#         df.loc[:, 'sub_area'].apply(lambda s: s in focus),\n",
        "#         'price_doc'\n",
        "#     ]\n",
        "# );\n",
        "# df.loc[df.loc[:, 'sub_area'].apply(lambda s: s == 'Izmajlovo'), 'price_doc'].median()\n",
        "\n",
        "# pd.get_dummies(df.loc[:, 'sub_area'], columns=['sub_area']).shape\n",
        "\n",
        "# Задание 2.12.6\n",
        "from sklearn.preprocessing import PolynomialFeatures\n",
        "\n",
        "poly = PolynomialFeatures(3)\n",
        "# poly_feat = poly.fit_transform(vis_data.loc[:, ['balance_due', 'payment_amount']])\n",
        "# mean_list = [poly_feat[:][i].mean() for i in range(0, poly_feat.shape[1])]\n",
        "# mean_list.index(np.max(mean_list)) #вариант 1\n",
        "\n",
        "# np.array([poly_feat[:][i].mean() for i in range(0, poly_feat.shape[1])]).argmax() #вариант 2\n",
        "\n",
        "# Задание 2.12.7\n",
        "# dt_vals = pd.to_datetime(vis_data.loc[:, 'ticket_issued_date'].dropna()).dt.weekday\n",
        "# dt_vals[dt_vals.apply(lambda d: d in [5, 6])].shape[0]\n",
        "\n",
        "# Задание 2.12.8\n",
        "ecology_dict = {'good': 3, 'excellent': 4, 'poor': 1, 'satisfactory': 2, 'no data': 0}\n",
        "# df.loc[:, 'ecology'] = df.loc[:, 'ecology'].replace(to_replace=ecology_dict)\n",
        "\n",
        "# # df.sample()\n",
        "# pd.get_dummies(df).shape[1]\n",
        "# round(df.loc[:, 'ecology'].mean(), 2)\n",
        "\n",
        "# Задание 2.14.5\n",
        "# vis_data.sample()\n",
        "balance = vis_data.loc[:, 'balance_due'].dropna()\n",
        "QR1 = np.percentile(balance, 25)\n",
        "QR3 = np.percentile(balance, 75)\n",
        "\n",
        "IQR = QR3 - QR1\n",
        "\n",
        "l_bound = QR1 - 1.5 *IQR\n",
        "u_bound = QR3 + 1.5 *IQR\n",
        "\n",
        "balance[balance.between(l_bound, u_bound)].max()\\\n",
        "    - balance[balance.between(l_bound, u_bound)].min()\n",
        "\n",
        "# ===========================================================\n",
        "# def outliers_iqr(ys):\n",
        "#     quartile_1, quartile_3 = np.percentile(ys, [25, 75])\n",
        "#     iqr = quartile_3 - quartile_1\n",
        "#     lower_bound = quartile_1 - (iqr * 1.5)\n",
        "#     upper_bound = quartile_3 + (iqr * 1.5)\n",
        "#     return np.where((ys > upper_bound) | (ys < lower_bound))[0]\n",
        "\n",
        "# balance.drop(index=outliers_iqr(balance),inplace=True)\n",
        "# balance.max() - balance.min()\n",
        "# ===========================================================\n",
        "# from scipy.stats import norm\n",
        "# import matplotlib.pyplot as plt\n",
        "\n",
        "# def estimate_gaussian(dataset):\n",
        "#     mu = np.mean(dataset, axis=0)\n",
        "#     sigma = np.cov(dataset.T)\n",
        "#     return mu, sigma\n",
        "    \n",
        "# def get_gaussian(mu, sigma):\n",
        "#     distribution = norm(mu, sigma)\n",
        "#     return distribution\n",
        "\n",
        "# def get_probs(distribution, dataset):\n",
        "#     return distribution.pdf(dataset)\n",
        "\n",
        "# distr = get_gaussian(estimate_gaussian(balance)[0], estimate_gaussian(balance)[1])\n",
        "# plt.hist(get_probs(distr, balance), log=True, bins=50, density=True);\n",
        "# plt.show();\n",
        "\n",
        "# plt.hist(balance, log=True, bins=50, density=True);\n",
        "# plt.show();\n",
        "# ===========================================================\n"
      ],
      "execution_count": null,
      "outputs": [
        {
          "output_type": "execute_result",
          "data": {
            "text/plain": [
              "1201.3"
            ]
          },
          "metadata": {},
          "execution_count": 28
        }
      ]
    },
    {
      "cell_type": "markdown",
      "metadata": {
        "id": "fnqTqPzlCuxR"
      },
      "source": [
        "#PYTHON-12. Работа с файлами разных форматов"
      ]
    },
    {
      "cell_type": "code",
      "metadata": {
        "id": "DAG1CPPfk5mK",
        "colab": {
          "base_uri": "https://localhost:8080/"
        },
        "outputId": "23da9ff3-f52f-4e43-c4e6-f9ea71f1b9ff"
      },
      "source": [
        "import json  \n",
        "from pprint import pprint\n",
        "import pandas as pd\n",
        "import numpy as np\n",
        " \n",
        "import sys\n",
        "from google.colab import drive\n",
        "drive.mount('/content/gdrive', force_remount=True)\n",
        "sys.path.clear\n",
        "sys.path.append('/content/gdrive/MyDrive/SkillFactory')\n",
        " \n",
        "# path = 'https://raw.githubusercontent.com/akitim/datasets/main/recipes.json'\n",
        "path = '/content/gdrive/MyDrive/SkillFactory/recipes.json'\n",
        "# with open('sample_data/recipes.json') as f:\n",
        "with open(path, encoding='cp1251') as f:\n",
        "   recipes = json.load(f)\n",
        "# pprint(recipes)\n",
        "len(recipes)\n",
        " \n",
        "# Задание 1\n",
        "recipes[-1]['cuisine']\n",
        " \n",
        "# Задание 2\n",
        "len(recipes[-1]['ingredients'])\n",
        " \n",
        "# Задание 3\n",
        "# Какие из перечисленных ингредиентов присутствуют в блюде с id = 17636?\n",
        " \n",
        "# for r in recipes:\n",
        "#    if r['id'] == 17636:\n",
        "    #    display(pd.DataFrame(r['ingredients']))\n",
        " \n",
        "# Задание 4\n",
        "# for r in recipes:\n",
        "#    if r['id'] == 42013:\n",
        "    #    print(len(r['ingredients']))\n",
        " \n",
        "# Задание 5\n",
        "ch = set(['eggs','black beans','black olives','dry vermouth','chicken livers','olive oil'])\n",
        "for r in recipes:\n",
        "   if r['id'] == 23629:\n",
        "       ans = ch.difference(set(r['ingredients']))\n",
        "ans\n",
        " \n",
        "# 12.3 Группировка данных\n",
        "# Задание 1\n",
        "ingredients = set()\n",
        "for r in recipes:\n",
        "   ingredients = ingredients.union(set(r['ingredients']))\n",
        "len(ingredients)\n",
        " \n",
        "# Задание 2\n",
        "ingredients = set()\n",
        "for r in recipes:\n",
        "    if r['cuisine'] == 'italian':\n",
        "        ingredients = ingredients.union(set(r['ingredients']))\n",
        "len(ingredients)\n",
        " \n",
        "# Задание 3\n",
        "ch = set(['bacon', 'bread slices', 'buttermilk', 'red beets', 'mozzarella cheese', 'carrots'])\n",
        "ingredients_rus = set()\n",
        "for r in recipes:\n",
        "    if r['cuisine'] == 'russian':\n",
        "        ingredients_rus = ingredients_rus.union(set(r['ingredients']))\n",
        " \n",
        "ch.difference(ingredients_rus)\n",
        " \n",
        "# Задание 4\n",
        "# Какие ингредиенты входят в состав более чем 20% блюд, представленных в наборе данных?\n",
        "from collections import Counter\n",
        " \n",
        "ingredients = []\n",
        "for r in recipes:\n",
        "   ingredients += r['ingredients']\n",
        "food = Counter(ingredients)\n",
        " \n",
        "for pair in food.most_common():\n",
        "    if pair[1] < 0.2*len(recipes):\n",
        "        index20 = food.most_common().index(pair)\n",
        "        break\n",
        "[i[0] for i in food.most_common()[:index20]]\n",
        " \n",
        "# Задание 6\n",
        "for pair in food.most_common():\n",
        "    if pair[1] == 1:\n",
        "        index1 = food.most_common().index(pair)\n",
        "        break\n",
        "len(food.most_common()[index1:])\n",
        " \n",
        "# df = pd.DataFrame(recipes).explode('ingredients')\n",
        "# mask = pd.get_dummies(df, columns=['ingredients']).iloc[:, 2:].sum(axis=1) == 0\n",
        "# pd.get_dummies(df, columns=['ingredients'])[mask]"
      ],
      "execution_count": null,
      "outputs": [
        {
          "output_type": "stream",
          "name": "stdout",
          "text": [
            "Mounted at /content/gdrive\n"
          ]
        },
        {
          "output_type": "execute_result",
          "data": {
            "text/plain": [
              "684"
            ]
          },
          "metadata": {},
          "execution_count": 1
        }
      ]
    },
    {
      "cell_type": "code",
      "metadata": {
        "id": "_MipT_KSLNes"
      },
      "source": [
        "# Задание 6\n",
        "def find_item(cell):\n",
        "    if item in cell:\n",
        "        return 1\n",
        "    return 0\n",
        "\n",
        "path = '/content/gdrive/MyDrive/SkillFactory/recipes.json'\n",
        "with open(path, encoding='cp1251') as f:\n",
        "   recipes = json.load(f)\n",
        "\n",
        "ingredients = set()\n",
        "for r in recipes:\n",
        "   ingredients = ingredients.union(set(r['ingredients']))\n",
        "\n",
        "df = pd.DataFrame(recipes)\n",
        "for item in ingredients:\n",
        "    df.loc[:, item] = df.loc[:, 'ingredients'].apply(find_item)\n",
        "\n",
        "df.loc[:, 'ingredients'] = df.loc[:, 'ingredients'].apply(len)\n",
        "\n",
        "df.to_csv('/content/gdrive/MyDrive/SkillFactory/recipes.csv', index = False)"
      ],
      "execution_count": null,
      "outputs": []
    },
    {
      "cell_type": "markdown",
      "metadata": {
        "id": "8LXqBWYz3ldR"
      },
      "source": [
        "# 12.5 Создание JSON-файла"
      ]
    },
    {
      "cell_type": "code",
      "metadata": {
        "id": "yQnMSDde9lJd",
        "colab": {
          "base_uri": "https://localhost:8080/"
        },
        "outputId": "553ef58c-d6a3-4810-970f-45c239a39894"
      },
      "source": [
        "import json  \n",
        "from pprint import pprint\n",
        "import pandas as pd\n",
        "import numpy as np\n",
        " \n",
        "import sys\n",
        "from google.colab import drive\n",
        "drive.mount('/content/gdrive', force_remount=True)\n",
        "sys.path.clear\n",
        "sys.path.append('/content/gdrive/MyDrive/SkillFactory')\n",
        " \n",
        "# Задание 1\n",
        "# path = '/content/gdrive/MyDrive/SkillFactory/recipes.csv'\n",
        "# df = pd.read_csv(path)\n",
        "# ids = list(df.loc[:, 'id'].unique())\n",
        " \n",
        "# Задание 2\n",
        "# ingredients = list(df.iloc[:, 3:].columns)\n",
        " \n",
        "# Задание 3\n",
        "path = '/content/gdrive/MyDrive/SkillFactory/recipes.csv'\n",
        "df = pd.read_csv(path)\n",
        " \n",
        "ids = list(df.loc[:, 'id'].unique())\n",
        "ingredients = list(df.iloc[:, 3:].columns)\n",
        " \n",
        "new_recipes = []\n",
        " \n",
        "# for i in range(df.shape[0]):\n",
        "#     new_recipes.append({\n",
        "#         'id': df.iloc[i, 0],\n",
        "#         'cuisine': df.iloc[i, 1],\n",
        "#         'ingredients': list(df.iloc[i, 3:][df.iloc[i, 3:]  == 1].index)\n",
        "#     })\n",
        "# new_recipes\n",
        " \n",
        "# Задание 3\n",
        "# path = '/content/gdrive/MyDrive/SkillFactory/recipes.csv'\n",
        "# df = pd.read_csv(path)\n",
        "ingredients = list(df.iloc[:, 3:].columns)\n",
        "def make_list(row):\n",
        "    ingr_for_id = []\n",
        "    for s in ingredients:\n",
        "        if row[s]: ingr_for_id += [s] #.append(s)\n",
        "    return ingr_for_id\n",
        " \n",
        "new_recipes = []\n",
        "for i in range(df.shape[0]):\n",
        "    new_recipes.append({\n",
        "        'id': str(df.iloc[i, 0]),\n",
        "        'cuisine': df.iloc[i, 1],\n",
        "        'ingredients': make_list(df.iloc[i, 3:])\n",
        "    })\n",
        "\n",
        "# path_write = '/content/gdrive/MyDrive/SkillFactory/new_recipes.json'\n",
        "# new_recipes = json.dumps(new_recipes)\n",
        " \n",
        "# with open(path_write, \"w\") as write_file:\n",
        "#     write_file.write(new_recipes)\n",
        " \n",
        "# with open(\"new_recipes.json\", \"w\") as write_file:\n",
        "#     json.dump(new_recipes, write_file)"
      ],
      "execution_count": null,
      "outputs": [
        {
          "output_type": "stream",
          "name": "stdout",
          "text": [
            "Mounted at /content/gdrive\n"
          ]
        }
      ]
    },
    {
      "cell_type": "markdown",
      "metadata": {
        "id": "UT0DdcPb3RSc"
      },
      "source": [
        "#12.7 Чтение Excel-файла"
      ]
    },
    {
      "cell_type": "code",
      "metadata": {
        "id": "4129n0q-L9Ty"
      },
      "source": [
        "import pandas as pd\n",
        "import numpy as np\n",
        " \n",
        "# import sys\n",
        "# from google.colab import drive\n",
        "# drive.mount('/content/gdrive', force_remount=True)\n",
        "# sys.path.clear\n",
        "# sys.path.append('/content/gdrive/MyDrive/SkillFactory')\n",
        " \n",
        "# path = '/content/gdrive/MyDrive/SkillFactory/Fig3-1.xls'\n",
        "path = 'https://lms.skillfactory.ru/assets/courseware/v1/21064f388d8e34061ed4f406c631e1a1/\\\n",
        "asset-v1:Skillfactory+DST-PRO+15APR2020+type@asset+block/Fig3-1.xls'\n",
        "df = pd.read_excel(path, header=None)\n",
        "df.shape[0]\n",
        " \n",
        "# 12.8 Продвинутое чтение Excel-файла\n",
        "data = pd.read_excel(\"https://lms.skillfactory.ru/assets/courseware\\\n",
        "/v1/33c6d423497ad69652af34c294c606f0/asset-v1:Skillfactory+DST-PRO+15APR2020+type\\\n",
        "@asset+block/nakladnaya.xls\",\n",
        "                     header=None, skiprows=0)\n",
        "data.dropna(axis=0, how='all', inplace=True)\n",
        "data.shape[0]\n",
        " \n",
        "#Задание 5\n",
        "table = data.iloc[6:8, :].dropna(axis=1, how='all')\n"
      ],
      "execution_count": null,
      "outputs": []
    },
    {
      "cell_type": "markdown",
      "metadata": {
        "id": "t6fs9vi3bHLi"
      },
      "source": [
        "#12.9 Запись в Excel-файл"
      ]
    },
    {
      "cell_type": "code",
      "metadata": {
        "id": "UmbrxFo5_Jgy",
        "colab": {
          "base_uri": "https://localhost:8080/"
        },
        "outputId": "e9865ab9-6b53-48b0-c9bf-ae45a47dbabb"
      },
      "source": [
        "# table.to_csv(\"table.csv\")\n",
        "# table.to_excel(\"table.xls\", index=False)\n",
        "\n",
        "# writer = pd.ExcelWriter('test.xlsx')\n",
        "\n",
        "# %pip install xlsxwriter\n",
        "\n",
        "writer = pd.ExcelWriter('test1.xlsx', engine='xlsxwriter')\n",
        "table.to_excel(writer, index=False, sheet_name='Таблица')  \n",
        "writer.save()\n",
        "\n",
        "workbook = writer.book  \n",
        "worksheet = writer.sheets['Таблица'] \n",
        "\n",
        "money_fmt = workbook.add_format({'bold': True})  \n",
        "name_fmt = workbook.add_format({'color': 'red'})  \n",
        "  \n",
        "worksheet.set_column('E:F', 20, money_fmt)  \n",
        "worksheet.set_column(1, 1, 100, name_fmt) \n",
        "# data.iloc[0, 4][2:9]"
      ],
      "execution_count": null,
      "outputs": [
        {
          "output_type": "stream",
          "name": "stdout",
          "text": [
            "Requirement already satisfied: xlsxwriter in /usr/local/lib/python3.7/dist-packages (3.0.1)\n"
          ]
        },
        {
          "output_type": "execute_result",
          "data": {
            "text/plain": [
              "0"
            ]
          },
          "metadata": {},
          "execution_count": 16
        }
      ]
    },
    {
      "cell_type": "markdown",
      "metadata": {
        "id": "5GsWRHwvc-L1"
      },
      "source": [
        "#12.10 Формат XML"
      ]
    },
    {
      "cell_type": "code",
      "metadata": {
        "colab": {
          "base_uri": "https://localhost:8080/"
        },
        "id": "795PRG-kc-Zd",
        "outputId": "f6386e1a-1d8b-43e0-e42b-bcd0d8c5a0ea"
      },
      "source": [
        "import xml.etree.ElementTree as ET\n",
        "import numpy as np\n",
        "import warnings; warnings.filterwarnings('ignore')\n",
        "\n",
        "# !pip install xmljson\n",
        "import xmljson as xj\n",
        "\n",
        "path = 'menu.xml'\n",
        "tree = ET.parse(path)    \n",
        "root = tree.getroot()\n",
        "root[0][1].tag\n",
        "\n",
        "# Задание 4\n",
        "len(root[0])\n",
        "\n",
        "df_index = ['name', 'price', 'weight', 'class']  \n",
        "df = pd.DataFrame(columns=df_index)  \n",
        "  \n",
        "for elem in root:  \n",
        "    elements = [elem.get('name'), elem[0].text, elem[1].text, elem[2].text]  \n",
        "    df = df.append(pd.Series(elements, index=df_index), ignore_index=True)\n",
        "\n",
        "xj.parker.data(root)\n",
        "\n",
        "root[0]"
      ],
      "execution_count": null,
      "outputs": [
        {
          "output_type": "execute_result",
          "data": {
            "text/plain": [
              "<Element 'dish' at 0x7f9042092830>"
            ]
          },
          "metadata": {},
          "execution_count": 84
        }
      ]
    },
    {
      "cell_type": "markdown",
      "metadata": {
        "id": "1tiUOEmrNlXj"
      },
      "source": [
        "#12.13 Запись в XML-файл"
      ]
    },
    {
      "cell_type": "code",
      "metadata": {
        "id": "l1sIT9uwNnA8"
      },
      "source": [
        "import xml.etree.ElementTree as ET\n",
        "import numpy as np\n",
        "import warnings; warnings.filterwarnings('ignore')\n",
        "\n",
        "new_root = ET.Element('menu')\n",
        "dish_1 = ET.SubElement(new_root, 'dish')  \n",
        "dish_2 = ET.SubElement(new_root, 'dish')  \n",
        "new_root.getchildren()\n",
        "\n",
        "new_root_string = ET.tostring(new_root)\n",
        "new_root_string\n",
        "\n",
        "path = '/content/gdrive/MyDrive/SkillFactory/new_menu.xml'\n",
        "path2 = '/content/gdrive/MyDrive/SkillFactory/new_menu_good.xml'\n",
        "\n",
        "# with open(path, \"wb\") as f:  \n",
        "#     f.write(new_root_string)\n",
        "ET.ElementTree(new_root).write(path2, encoding=\"utf-8\") "
      ],
      "execution_count": null,
      "outputs": []
    },
    {
      "cell_type": "markdown",
      "metadata": {
        "id": "tBPdh3GvZX1m"
      },
      "source": [
        "https://onlinemanuals.ru/manual/klassifikaciya-i-organizaciya-pomeshhenij-dlya-proizvodstva-nesterilnyx-lekarstvennyx-sredstv?page=4&\n",
        "https://docs.cntd.ru/document/1200157235"
      ]
    },
    {
      "cell_type": "markdown",
      "metadata": {
        "id": "gwuo20PXpNt-"
      },
      "source": [
        "#*PYTHON-13. Работа с датами "
      ]
    },
    {
      "cell_type": "code",
      "metadata": {
        "colab": {
          "base_uri": "https://localhost:8080/",
          "height": 201
        },
        "id": "hMe_8SHI7tk_",
        "outputId": "b3a363f2-b837-4961-d596-aca7a4988438"
      },
      "source": [
        "import time\n",
        "# 31 декабря 2018 года\n",
        "time('31-12-2018')"
      ],
      "execution_count": null,
      "outputs": [
        {
          "output_type": "error",
          "ename": "TypeError",
          "evalue": "ignored",
          "traceback": [
            "\u001b[0;31m---------------------------------------------------------------------------\u001b[0m",
            "\u001b[0;31mTypeError\u001b[0m                                 Traceback (most recent call last)",
            "\u001b[0;32m<ipython-input-15-ad32906570ab>\u001b[0m in \u001b[0;36m<module>\u001b[0;34m()\u001b[0m\n\u001b[1;32m      1\u001b[0m \u001b[0;32mimport\u001b[0m \u001b[0mtime\u001b[0m\u001b[0;34m\u001b[0m\u001b[0;34m\u001b[0m\u001b[0m\n\u001b[1;32m      2\u001b[0m \u001b[0;31m# 31 декабря 2018 года\u001b[0m\u001b[0;34m\u001b[0m\u001b[0;34m\u001b[0m\u001b[0;34m\u001b[0m\u001b[0m\n\u001b[0;32m----> 3\u001b[0;31m \u001b[0mtime\u001b[0m\u001b[0;34m(\u001b[0m\u001b[0;34m'31-12-2018'\u001b[0m\u001b[0;34m)\u001b[0m\u001b[0;34m\u001b[0m\u001b[0;34m\u001b[0m\u001b[0m\n\u001b[0m",
            "\u001b[0;31mTypeError\u001b[0m: 'module' object is not callable"
          ]
        }
      ]
    },
    {
      "cell_type": "markdown",
      "metadata": {
        "id": "hgEV_eWxZoDQ"
      },
      "source": [
        "#PYTHON-14. Классы и ООП\n",
        "#14.5. Атрибуты и методы"
      ]
    },
    {
      "cell_type": "code",
      "metadata": {
        "id": "bU2sG9kmE3QC",
        "colab": {
          "base_uri": "https://localhost:8080/"
        },
        "outputId": "2f1e0a78-41d4-4ee8-a208-43e188fb4bcb"
      },
      "source": [
        "# Задание\n",
        "class DepartmentReport:\n",
        "    def __init__(self, company_name):\n",
        "        self.revenues = []\n",
        "        self.company_name = company_name\n",
        " \n",
        "    def add_revenue(self, rev_to_add):\n",
        "        # if not hasattr(self, 'revenues'):\n",
        "        #     self.revenues = []\n",
        "        self.revenues += [rev_to_add] \n",
        "        return self\n",
        " \n",
        "    def average_revenue(self):\n",
        "        return f\"Average department revenue for {self.company_name}: \\\n",
        "{round(sum(self.revenues) / len(self.revenues))}\"\n",
        " \n",
        "rep = DepartmentReport('x')\n",
        "rep.revenues = [120, 270]\n",
        " \n",
        "rep.add_revenue(1000).revenues\n",
        "rep.average_revenue()\n",
        " \n",
        "# 14.6. Метод __init__\n",
        "# Задание\n",
        "# см. выше\n",
        "report = DepartmentReport(\"Danon\")\n",
        "report.add_revenue(1_000_000)\n",
        "report.add_revenue(400_000)\n",
        "# print(report.average_revenue())\n",
        " \n",
        "# Задание\n",
        "# Определите класс для пользователей User:\n",
        "# у него должны быть атрибуты email, password и balance, которые устанавливаются при инициализии;\n",
        "# у него должен быть метод login, который принимает емейл и пароль, если они совпадают\n",
        "# с атрибутами объекта, он возвращает True, а иначе False;\n",
        "# должен быть метод update_balance(amount), который изменяет баланс счёта на величину amount.\n",
        " \n",
        "class User:\n",
        " \n",
        "    def __init__(self, email, password, balance):\n",
        "        self.email = email\n",
        "        self.password = password\n",
        "        self.balance = balance\n",
        " \n",
        "    def login(self, email, password):\n",
        "        return self.email == email and self.password == password\n",
        " \n",
        "    def update_balance(self, amount):\n",
        "        self.balance += amount\n",
        " \n",
        "# user = User(\"gosha@roskino.org\", \"qwerty\", 20_000)\n",
        "# user.login(\"gosha@roskino.org\", \"qwerty123\")\n",
        "# # => False\n",
        "# user.login(\"gosha@roskino.org\", \"qwerty\")\n",
        "# user.update_balance(200)\n",
        "# user.update_balance(-500)\n",
        "# print(user.balance)\n",
        "# # => 19700\n",
        " \n",
        " # Задание\n",
        "#  Определите класс IntDataFrame, который принимает список и все числа в этом списке\n",
        "#  приводит к целым значениям. После этого у него доступен метод count, который считает\n",
        "#  количество ненулевых элементов; и метод unique, который возвращает число уникальных элементов.\n",
        " \n",
        "class IntDataFrame:\n",
        " \n",
        "    def __init__(self, list_):\n",
        "        self.list_ = list_\n",
        "        self.to_int()\n",
        " \n",
        "    def to_int(self):\n",
        "        self.list_ = [int(float(el)) if all(list(map(lambda s: s.isnumeric(), str(el).split('.')))) else el for el in self.list_]\n",
        "        return None\n",
        " \n",
        "    def count(self):\n",
        "        return len([el for el in self.list_ if el])\n",
        " \n",
        "    def unique(self):\n",
        "        return len(set(self.list_))\n",
        " \n",
        "df = IntDataFrame([4.7, 4, 3, 0, 2.4, 0.3, 4])\n",
        " \n",
        "df.count()\n",
        "# => 5\n",
        "df.unique()\n",
        "# => 4"
      ],
      "execution_count": null,
      "outputs": [
        {
          "output_type": "execute_result",
          "data": {
            "text/plain": [
              "4"
            ]
          },
          "metadata": {},
          "execution_count": 39
        }
      ]
    },
    {
      "cell_type": "markdown",
      "metadata": {
        "id": "g244z7VwvNIE"
      },
      "source": [
        "#14.11. Класс-обёртка"
      ]
    },
    {
      "cell_type": "code",
      "metadata": {
        "id": "TDddyrmuHtY6",
        "colab": {
          "base_uri": "https://localhost:8080/"
        },
        "outputId": "c1d7a3b9-d26b-4274-d2cc-e53e4193da3a"
      },
      "source": [
        "import pickle  \n",
        "from datetime import datetime  \n",
        "from os import path  \n",
        "  \n",
        "class Dumper():  \n",
        "    def __init__(self, archive_dir=\"archive/\"):  \n",
        "        self.archive_dir = archive_dir  \n",
        "          \n",
        "    def dump(self, data):  \n",
        "        # Библиотека pickle позволяет доставать и класть объекты в файл  \n",
        "        with open(self.get_file_name(), 'wb') as file:  \n",
        "            pickle.dump(data, file)  \n",
        "              \n",
        "    def load_for_day(self, day):  \n",
        "        file_name = path.join(self.archive_dir, day + \".pkl\")   \n",
        "        with open(file_name, 'rb') as file:  \n",
        "            sets = pickle.load(file)  \n",
        "        return sets  \n",
        "          \n",
        "    # возвращает корректное имя для файла   \n",
        "    def get_file_name(self):   \n",
        "        today = datetime.now().strftime(\"%y-%m-%d\")   \n",
        "        return path.join(self.archive_dir, today + \".pkl\")  \n",
        "      \n",
        "      \n",
        "# Пример использования  \n",
        "  \n",
        "data = {  \n",
        "    'perfomance': [10, 20, 10],  \n",
        "    'clients': {\"Romashka\": 10, \"Vector\": 34}  \n",
        "}  \n",
        "  \n",
        "  \n",
        "dumper = Dumper()  \n",
        "  \n",
        "# Сохраним данные  \n",
        "dumper.dump(data)  \n",
        "  \n",
        "# Восстановим для сегодняшней даты  \n",
        "file_name = datetime.now().strftime(\"%y-%m-%d\")\n",
        "restored_data = dumper.load_for_day(file_name)\n",
        "print(restored_data)  \n",
        "# => {'perfomance': [10, 20, 10], 'clients': {'Romashka': 10, 'Vector': 34}}"
      ],
      "execution_count": null,
      "outputs": [
        {
          "output_type": "stream",
          "name": "stdout",
          "text": [
            "{'perfomance': [10, 20, 10], 'clients': {'Romashka': 10, 'Vector': 34}}\n"
          ]
        }
      ]
    },
    {
      "cell_type": "code",
      "metadata": {
        "id": "GOgHUzJD1NWt",
        "colab": {
          "base_uri": "https://localhost:8080/"
        },
        "outputId": "bb2c924f-54ab-42b9-f9cb-8aed8f7a7fec"
      },
      "source": [
        "#Задание\n",
        "#Напишите класс сборщика технических сообщений OwnLogger\n",
        "#У него должен быть метод log(message, level),\n",
        "#который записывает сообщения. Здесь сообщение\n",
        "#message может быть любым, а level — один из \"info\",\n",
        "#\"warning\", \"error\". И метод show_last(level), где\n",
        "#level может быть \"info\", \"warning\", \"error\", \"all\".\n",
        "#Для \"all\" он просто возвращает последнее добавленное\n",
        "#сообщение, а для остальных — последнее поступившее сообщение\n",
        "#соответствующего уровня. При этом по умолчанию \n",
        "#значение именно \"all\". Если подходящего сообщения нет,\n",
        "#возвращает None.\n",
        "class OwnLogger:\n",
        "    \n",
        "    def __init__(self):\n",
        "        self.messages = []\n",
        "\n",
        "    def log(self, message, level):\n",
        "        self.messages = [{level: message}] + self.messages\n",
        "\n",
        "    def show_last(self, level='all'):\n",
        "        if level == 'all':\n",
        "            return list(self.messages[0].values())[0]\n",
        "        for m in self.messages:\n",
        "            if level in m.keys():\n",
        "                return m[level]\n",
        "                break\n",
        "        return None\n",
        "\n",
        "# logger = OwnLogger()\n",
        "# logger.log(\"System started\", \"info\")\n",
        "# print(logger.show_last(\"error\"))\n",
        "\n",
        "# logger.log(\"Connection instable\", \"warning\")\n",
        "# logger.log(\"Connection lost\", \"error\")\n",
        "\n",
        "# logger.show_last()\n",
        "# logger.show_last(\"info\")\n",
        "# logger.messages"
      ],
      "execution_count": null,
      "outputs": [
        {
          "output_type": "stream",
          "name": "stdout",
          "text": [
            "None\n"
          ]
        },
        {
          "output_type": "execute_result",
          "data": {
            "text/plain": [
              "[{'error': 'Connection lost'},\n",
              " {'warning': 'Connection instable'},\n",
              " {'info': 'System started'}]"
            ]
          },
          "metadata": {},
          "execution_count": 14
        }
      ]
    },
    {
      "cell_type": "code",
      "metadata": {
        "id": "7BHr0oe3TbFU"
      },
      "source": [
        "# Задание 3\n",
        "from datetime import datetime, timedelta\n",
        "datetime(2018, 12, 31, 0, 0, 0).timestamp()\n",
        "datetime(2018, 12, 31, 0, 0, 0).strftime('%d-%m-%Y, %a, %H:%M')\n",
        "datetime(2018, 12, 31, 0, 0, 0).strftime('%d-%m-%Y %A')\n",
        "\n",
        "# Задание 12\n",
        "datetime(2019, 1, 1, 0, 0, 0).timestamp()\n",
        "\n",
        "# Задание 13\n",
        "(datetime(2019, 1, 31, 0, 0, 0) - datetime(2019, 1, 1, 0, 0, 0)).total_seconds()\n",
        "\n",
        "# Задание 14\n",
        "(datetime(2021, 1, 2, 0, 0) - datetime(2021, 1, 1, 0, 0)).total_seconds()\n",
        "\n",
        "# 13.12 Задания на преобразования дат\n",
        "# Задание 1\n",
        "from datetime import datetime\n",
        "date_string = '2019-07-07T18:59:33'\n",
        "date_format = datetime.strptime(date_string, '%Y-%m-%dT%H:%M:%S').strftime('%d.%m.%Y')\n",
        "\n",
        "# Задание 2\n",
        "dt_list = ['2019-07-07T18:59:06', '2019-07-07T19:00:02', '2019-07-07T19:01:04']\n",
        "# datetime_list = list(map(lambda dt: datetime.strptime(dt, '%Y-%m-%dT%H:%M:%S'), dt_list))\n",
        "datetime_list = [datetime.strptime(dt, '%Y-%m-%dT%H:%M:%S') for dt in dt_list]\n",
        "datetime_list\n",
        "\n",
        "# Задание 3\n",
        "# 18:59:00, 19:00:00 и 19:01:00\n",
        "dtl = [\n",
        "       datetime(2019, 7, 7, 18, 59, 0),\n",
        "       datetime(2019, 7, 7, 19, 0, 0),\n",
        "       datetime(2019, 7, 7, 19, 1, 0)\n",
        "]\n",
        "diff = [x - y for x, y in zip(datetime_list, dtl)]\n",
        "report_seconds = [t.total_seconds() for t in diff]\n",
        "\n",
        "# Задание 4\n"
      ],
      "execution_count": null,
      "outputs": []
    },
    {
      "cell_type": "markdown",
      "metadata": {
        "id": "ZkJsJiG5UxZA"
      },
      "source": [
        "#Проект 3. О вкусной и здоровой пище"
      ]
    },
    {
      "cell_type": "code",
      "metadata": {
        "colab": {
          "base_uri": "https://localhost:8080/",
          "height": 805
        },
        "id": "GiL1pU4IU3KQ",
        "outputId": "0d3b60c6-097c-4567-c0ff-60afb0576e13"
      },
      "source": [
        "import pandas as pd\n",
        " \n",
        "path = 'https://raw.githubusercontent.com/akitim/datasets/main/main_task_new.csv'\n",
        "rest = pd.read_csv(path)\n",
        " \n",
        "# 2.1 Задание 1\n",
        "# Какие столбцы НЕ содержат пропущенных (None) значений?\n",
        "# rest.info()\n",
        " \n",
        "print('\\nЕсть пропуски в столбцах:\\n',\n",
        "*list(rest.loc[:, rest.apply(pd.isna).any(axis=0)].columns))\n",
        " \n",
        "print('\\nНет пропусков в столбцах:\\n',\n",
        "*list(rest.loc[:, ~rest.apply(pd.isna).any(axis=0)].columns), '\\n')\n",
        " \n",
        "# 2.2 Задание 2\n",
        "#rest.loc[0, :].apply(type) != str\n",
        " \n",
        "# 2.3 Задание 3\n",
        "#Приведение 'кухни' к списку\n",
        "#rest.loc[0, 'Cuisine Style'].split(', ')\n",
        "#[s.replace('[', '').replace(']', '').replace(\"'\", \"\") for s in rest.loc[0, 'Cuisine Style'].split(', ')]\n",
        "\n",
        "rest.columns = ['id', 'city', 'cuisine', 'ranking', 'rating', 'price_range', 'rev_number', 'reviews', 'url_TA', 'id_TA']\n",
        "rest"
      ],
      "execution_count": null,
      "outputs": [
        {
          "output_type": "stream",
          "name": "stdout",
          "text": [
            "\n",
            "Есть пропуски в столбцах:\n",
            " Cuisine Style Price Range Number of Reviews\n",
            "\n",
            "Нет пропусков в столбцах:\n",
            " Restaurant_id City Ranking Rating Reviews URL_TA ID_TA \n",
            "\n"
          ]
        },
        {
          "output_type": "execute_result",
          "data": {
            "text/html": [
              "<div>\n",
              "<style scoped>\n",
              "    .dataframe tbody tr th:only-of-type {\n",
              "        vertical-align: middle;\n",
              "    }\n",
              "\n",
              "    .dataframe tbody tr th {\n",
              "        vertical-align: top;\n",
              "    }\n",
              "\n",
              "    .dataframe thead th {\n",
              "        text-align: right;\n",
              "    }\n",
              "</style>\n",
              "<table border=\"1\" class=\"dataframe\">\n",
              "  <thead>\n",
              "    <tr style=\"text-align: right;\">\n",
              "      <th></th>\n",
              "      <th>id</th>\n",
              "      <th>city</th>\n",
              "      <th>cuisine</th>\n",
              "      <th>ranking</th>\n",
              "      <th>rating</th>\n",
              "      <th>price_range</th>\n",
              "      <th>rev_number</th>\n",
              "      <th>reviews</th>\n",
              "      <th>url_TA</th>\n",
              "      <th>id_TA</th>\n",
              "    </tr>\n",
              "  </thead>\n",
              "  <tbody>\n",
              "    <tr>\n",
              "      <th>0</th>\n",
              "      <td>id_5569</td>\n",
              "      <td>Paris</td>\n",
              "      <td>['European', 'French', 'International']</td>\n",
              "      <td>5570.0</td>\n",
              "      <td>3.5</td>\n",
              "      <td>$$ - $$$</td>\n",
              "      <td>194.0</td>\n",
              "      <td>[['Good food at your doorstep', 'A good hotel ...</td>\n",
              "      <td>/Restaurant_Review-g187147-d1912643-Reviews-R_...</td>\n",
              "      <td>d1912643</td>\n",
              "    </tr>\n",
              "    <tr>\n",
              "      <th>1</th>\n",
              "      <td>id_1535</td>\n",
              "      <td>Stockholm</td>\n",
              "      <td>NaN</td>\n",
              "      <td>1537.0</td>\n",
              "      <td>4.0</td>\n",
              "      <td>NaN</td>\n",
              "      <td>10.0</td>\n",
              "      <td>[['Unique cuisine', 'Delicious Nepalese food']...</td>\n",
              "      <td>/Restaurant_Review-g189852-d7992032-Reviews-Bu...</td>\n",
              "      <td>d7992032</td>\n",
              "    </tr>\n",
              "    <tr>\n",
              "      <th>2</th>\n",
              "      <td>id_352</td>\n",
              "      <td>London</td>\n",
              "      <td>['Japanese', 'Sushi', 'Asian', 'Grill', 'Veget...</td>\n",
              "      <td>353.0</td>\n",
              "      <td>4.5</td>\n",
              "      <td>$$$$</td>\n",
              "      <td>688.0</td>\n",
              "      <td>[['Catch up with friends', 'Not exceptional'],...</td>\n",
              "      <td>/Restaurant_Review-g186338-d8632781-Reviews-RO...</td>\n",
              "      <td>d8632781</td>\n",
              "    </tr>\n",
              "    <tr>\n",
              "      <th>3</th>\n",
              "      <td>id_3456</td>\n",
              "      <td>Berlin</td>\n",
              "      <td>NaN</td>\n",
              "      <td>3458.0</td>\n",
              "      <td>5.0</td>\n",
              "      <td>NaN</td>\n",
              "      <td>3.0</td>\n",
              "      <td>[[], []]</td>\n",
              "      <td>/Restaurant_Review-g187323-d1358776-Reviews-Es...</td>\n",
              "      <td>d1358776</td>\n",
              "    </tr>\n",
              "    <tr>\n",
              "      <th>4</th>\n",
              "      <td>id_615</td>\n",
              "      <td>Munich</td>\n",
              "      <td>['German', 'Central European', 'Vegetarian Fri...</td>\n",
              "      <td>621.0</td>\n",
              "      <td>4.0</td>\n",
              "      <td>$$ - $$$</td>\n",
              "      <td>84.0</td>\n",
              "      <td>[['Best place to try a Bavarian food', 'Nice b...</td>\n",
              "      <td>/Restaurant_Review-g187309-d6864963-Reviews-Au...</td>\n",
              "      <td>d6864963</td>\n",
              "    </tr>\n",
              "    <tr>\n",
              "      <th>...</th>\n",
              "      <td>...</td>\n",
              "      <td>...</td>\n",
              "      <td>...</td>\n",
              "      <td>...</td>\n",
              "      <td>...</td>\n",
              "      <td>...</td>\n",
              "      <td>...</td>\n",
              "      <td>...</td>\n",
              "      <td>...</td>\n",
              "      <td>...</td>\n",
              "    </tr>\n",
              "    <tr>\n",
              "      <th>39995</th>\n",
              "      <td>id_499</td>\n",
              "      <td>Milan</td>\n",
              "      <td>['Italian', 'Vegetarian Friendly', 'Vegan Opti...</td>\n",
              "      <td>500.0</td>\n",
              "      <td>4.5</td>\n",
              "      <td>$$ - $$$</td>\n",
              "      <td>79.0</td>\n",
              "      <td>[['The real Italian experience!', 'Wonderful f...</td>\n",
              "      <td>/Restaurant_Review-g187849-d2104414-Reviews-Ro...</td>\n",
              "      <td>d2104414</td>\n",
              "    </tr>\n",
              "    <tr>\n",
              "      <th>39996</th>\n",
              "      <td>id_6340</td>\n",
              "      <td>Paris</td>\n",
              "      <td>['French', 'American', 'Bar', 'European', 'Veg...</td>\n",
              "      <td>6341.0</td>\n",
              "      <td>3.5</td>\n",
              "      <td>$$ - $$$</td>\n",
              "      <td>542.0</td>\n",
              "      <td>[['Parisian atmosphere', 'Bit pricey but inter...</td>\n",
              "      <td>/Restaurant_Review-g187147-d1800036-Reviews-La...</td>\n",
              "      <td>d1800036</td>\n",
              "    </tr>\n",
              "    <tr>\n",
              "      <th>39997</th>\n",
              "      <td>id_1649</td>\n",
              "      <td>Stockholm</td>\n",
              "      <td>['Japanese', 'Sushi']</td>\n",
              "      <td>1652.0</td>\n",
              "      <td>4.5</td>\n",
              "      <td>NaN</td>\n",
              "      <td>4.0</td>\n",
              "      <td>[['Good by swedish standards', 'A hidden jewel...</td>\n",
              "      <td>/Restaurant_Review-g189852-d947615-Reviews-Sus...</td>\n",
              "      <td>d947615</td>\n",
              "    </tr>\n",
              "    <tr>\n",
              "      <th>39998</th>\n",
              "      <td>id_640</td>\n",
              "      <td>Warsaw</td>\n",
              "      <td>['Polish', 'European', 'Eastern European', 'Ce...</td>\n",
              "      <td>641.0</td>\n",
              "      <td>4.0</td>\n",
              "      <td>$$ - $$$</td>\n",
              "      <td>70.0</td>\n",
              "      <td>[['Underground restaurant', 'Oldest Restaurant...</td>\n",
              "      <td>/Restaurant_Review-g274856-d1100838-Reviews-Ho...</td>\n",
              "      <td>d1100838</td>\n",
              "    </tr>\n",
              "    <tr>\n",
              "      <th>39999</th>\n",
              "      <td>id_4824</td>\n",
              "      <td>Milan</td>\n",
              "      <td>['Spanish']</td>\n",
              "      <td>4827.0</td>\n",
              "      <td>3.0</td>\n",
              "      <td>$$ - $$$</td>\n",
              "      <td>260.0</td>\n",
              "      <td>[['Average', 'Nice an informal'], ['01/31/2016...</td>\n",
              "      <td>/Restaurant_Review-g187849-d1109020-Reviews-Ta...</td>\n",
              "      <td>d1109020</td>\n",
              "    </tr>\n",
              "  </tbody>\n",
              "</table>\n",
              "<p>40000 rows × 10 columns</p>\n",
              "</div>"
            ],
            "text/plain": [
              "            id  ...     id_TA\n",
              "0      id_5569  ...  d1912643\n",
              "1      id_1535  ...  d7992032\n",
              "2       id_352  ...  d8632781\n",
              "3      id_3456  ...  d1358776\n",
              "4       id_615  ...  d6864963\n",
              "...        ...  ...       ...\n",
              "39995   id_499  ...  d2104414\n",
              "39996  id_6340  ...  d1800036\n",
              "39997  id_1649  ...   d947615\n",
              "39998   id_640  ...  d1100838\n",
              "39999  id_4824  ...  d1109020\n",
              "\n",
              "[40000 rows x 10 columns]"
            ]
          },
          "metadata": {},
          "execution_count": 26
        }
      ]
    },
    {
      "cell_type": "code",
      "metadata": {
        "colab": {
          "base_uri": "https://localhost:8080/"
        },
        "id": "EeYFGBW6ByCM",
        "outputId": "7d3d91e6-fbb9-4c35-ab03-5257340b7284"
      },
      "source": [
        "# rest.loc[0:100, 'reviews'].to_list()\n",
        "path = 'https://raw.githubusercontent.com/akitim/datasets/main/main_task_new.csv'\n",
        "rest = pd.read_csv(path)\n",
        "\n",
        "rest.columns = ['id', 'city', 'cuisine', 'ranking', 'rating', 'price_range', 'rev_number', 'reviews', 'url_TA', 'id_TA']\n",
        "\n",
        "# 4.1 Вопросы о ценах\n",
        "rest.loc[:, 'price_range'].dropna().unique()\n",
        "rest.loc[rest.loc[:, 'price_range'] == '$$ - $$$', 'price_range'].count()\n",
        "\n",
        "# 4.2 Вопрос о городах\n",
        "len(rest.loc[:, 'city'].unique())\n",
        "\n",
        "# 4.3 Вопросы о кухнях\n",
        "rest.loc[:, 'cuisine'] =\\\n",
        "rest.loc[:, 'cuisine'].fillna(value='[]').apply(\n",
        "    lambda cuisine_list_for_id: \\\n",
        "    [s.replace(\"'\", \"\") for s in cuisine_list_for_id[2:-2].split(', ')]\\\n",
        ")\n",
        "\n",
        "cuisine_list = []\n",
        "for x in rest.loc[:, 'cuisine']:\n",
        "    cuisine_list += x\n",
        "len(set(cuisine_list).difference(set([''])))\n",
        "\n",
        "from collections import Counter\n",
        "Counter(cuisine_list).most_common(1)[0][0]\n",
        "\n",
        "round(\n",
        "    rest.loc[:, 'cuisine'].apply(lambda x: len(x) if x != [] else 1).mean(),\n",
        "    1\n",
        ")\n",
        "\n",
        "# 4.4 Вопросы об отзывах\n",
        "rest.loc[1000, 'reviews'].split(',') #apply()\n",
        "# rest\n"
      ],
      "execution_count": null,
      "outputs": [
        {
          "output_type": "execute_result",
          "data": {
            "text/plain": [
              "[\"[['Lovely\",\n",
              " ' lovelier',\n",
              " \" loveliest'\",\n",
              " \" 'Average at best']\",\n",
              " \" ['07/19/2017'\",\n",
              " \" '06/15/2016']]\"]"
            ]
          },
          "metadata": {},
          "execution_count": 94
        }
      ]
    },
    {
      "cell_type": "code",
      "metadata": {
        "id": "0s72_BxjfPIQ",
        "colab": {
          "base_uri": "https://localhost:8080/",
          "height": 683
        },
        "outputId": "06d7c7e2-0732-471b-d6ce-8a78ca541a71"
      },
      "source": [
        "#Предобработка\n",
        "# rest.loc[0, :].apply(type)\n",
        "# rest.dropna(axis=0, inplace=True)\n",
        "\n",
        "rest.loc[:, 'cuisine'] =\\\n",
        "rest.loc[:, 'cuisine'].apply(\n",
        "    lambda cuisine_list_for_id: \\\n",
        "    [s.replace(\"'\", \"\") for s in cuisine_list_for_id[2:-2].split(', ')]\\\n",
        "    if not(pd.isna(cuisine_list_for_id)) else []\n",
        ")\n",
        "\n",
        "# rest.loc[0, 'Cuisine Style'][0]\n",
        "# rest.get_dummies()\n",
        "rest"
      ],
      "execution_count": null,
      "outputs": [
        {
          "output_type": "execute_result",
          "data": {
            "text/html": [
              "<div>\n",
              "<style scoped>\n",
              "    .dataframe tbody tr th:only-of-type {\n",
              "        vertical-align: middle;\n",
              "    }\n",
              "\n",
              "    .dataframe tbody tr th {\n",
              "        vertical-align: top;\n",
              "    }\n",
              "\n",
              "    .dataframe thead th {\n",
              "        text-align: right;\n",
              "    }\n",
              "</style>\n",
              "<table border=\"1\" class=\"dataframe\">\n",
              "  <thead>\n",
              "    <tr style=\"text-align: right;\">\n",
              "      <th></th>\n",
              "      <th>id</th>\n",
              "      <th>city</th>\n",
              "      <th>cuisine</th>\n",
              "      <th>ranking</th>\n",
              "      <th>rating</th>\n",
              "      <th>price_range</th>\n",
              "      <th>rev_number</th>\n",
              "      <th>reviews</th>\n",
              "      <th>url_TA</th>\n",
              "      <th>id_TA</th>\n",
              "    </tr>\n",
              "  </thead>\n",
              "  <tbody>\n",
              "    <tr>\n",
              "      <th>0</th>\n",
              "      <td>id_5569</td>\n",
              "      <td>Paris</td>\n",
              "      <td>[European, French, International]</td>\n",
              "      <td>5570.0</td>\n",
              "      <td>3.5</td>\n",
              "      <td>$$ - $$$</td>\n",
              "      <td>194.0</td>\n",
              "      <td>[['Good food at your doorstep', 'A good hotel ...</td>\n",
              "      <td>/Restaurant_Review-g187147-d1912643-Reviews-R_...</td>\n",
              "      <td>d1912643</td>\n",
              "    </tr>\n",
              "    <tr>\n",
              "      <th>1</th>\n",
              "      <td>id_1535</td>\n",
              "      <td>Stockholm</td>\n",
              "      <td>[]</td>\n",
              "      <td>1537.0</td>\n",
              "      <td>4.0</td>\n",
              "      <td>NaN</td>\n",
              "      <td>10.0</td>\n",
              "      <td>[['Unique cuisine', 'Delicious Nepalese food']...</td>\n",
              "      <td>/Restaurant_Review-g189852-d7992032-Reviews-Bu...</td>\n",
              "      <td>d7992032</td>\n",
              "    </tr>\n",
              "    <tr>\n",
              "      <th>2</th>\n",
              "      <td>id_352</td>\n",
              "      <td>London</td>\n",
              "      <td>[Japanese, Sushi, Asian, Grill, Vegetarian Fri...</td>\n",
              "      <td>353.0</td>\n",
              "      <td>4.5</td>\n",
              "      <td>$$$$</td>\n",
              "      <td>688.0</td>\n",
              "      <td>[['Catch up with friends', 'Not exceptional'],...</td>\n",
              "      <td>/Restaurant_Review-g186338-d8632781-Reviews-RO...</td>\n",
              "      <td>d8632781</td>\n",
              "    </tr>\n",
              "    <tr>\n",
              "      <th>3</th>\n",
              "      <td>id_3456</td>\n",
              "      <td>Berlin</td>\n",
              "      <td>[]</td>\n",
              "      <td>3458.0</td>\n",
              "      <td>5.0</td>\n",
              "      <td>NaN</td>\n",
              "      <td>3.0</td>\n",
              "      <td>[[], []]</td>\n",
              "      <td>/Restaurant_Review-g187323-d1358776-Reviews-Es...</td>\n",
              "      <td>d1358776</td>\n",
              "    </tr>\n",
              "    <tr>\n",
              "      <th>4</th>\n",
              "      <td>id_615</td>\n",
              "      <td>Munich</td>\n",
              "      <td>[German, Central European, Vegetarian Friendly]</td>\n",
              "      <td>621.0</td>\n",
              "      <td>4.0</td>\n",
              "      <td>$$ - $$$</td>\n",
              "      <td>84.0</td>\n",
              "      <td>[['Best place to try a Bavarian food', 'Nice b...</td>\n",
              "      <td>/Restaurant_Review-g187309-d6864963-Reviews-Au...</td>\n",
              "      <td>d6864963</td>\n",
              "    </tr>\n",
              "    <tr>\n",
              "      <th>...</th>\n",
              "      <td>...</td>\n",
              "      <td>...</td>\n",
              "      <td>...</td>\n",
              "      <td>...</td>\n",
              "      <td>...</td>\n",
              "      <td>...</td>\n",
              "      <td>...</td>\n",
              "      <td>...</td>\n",
              "      <td>...</td>\n",
              "      <td>...</td>\n",
              "    </tr>\n",
              "    <tr>\n",
              "      <th>39995</th>\n",
              "      <td>id_499</td>\n",
              "      <td>Milan</td>\n",
              "      <td>[Italian, Vegetarian Friendly, Vegan Options, ...</td>\n",
              "      <td>500.0</td>\n",
              "      <td>4.5</td>\n",
              "      <td>$$ - $$$</td>\n",
              "      <td>79.0</td>\n",
              "      <td>[['The real Italian experience!', 'Wonderful f...</td>\n",
              "      <td>/Restaurant_Review-g187849-d2104414-Reviews-Ro...</td>\n",
              "      <td>d2104414</td>\n",
              "    </tr>\n",
              "    <tr>\n",
              "      <th>39996</th>\n",
              "      <td>id_6340</td>\n",
              "      <td>Paris</td>\n",
              "      <td>[French, American, Bar, European, Vegetarian F...</td>\n",
              "      <td>6341.0</td>\n",
              "      <td>3.5</td>\n",
              "      <td>$$ - $$$</td>\n",
              "      <td>542.0</td>\n",
              "      <td>[['Parisian atmosphere', 'Bit pricey but inter...</td>\n",
              "      <td>/Restaurant_Review-g187147-d1800036-Reviews-La...</td>\n",
              "      <td>d1800036</td>\n",
              "    </tr>\n",
              "    <tr>\n",
              "      <th>39997</th>\n",
              "      <td>id_1649</td>\n",
              "      <td>Stockholm</td>\n",
              "      <td>[Japanese, Sushi]</td>\n",
              "      <td>1652.0</td>\n",
              "      <td>4.5</td>\n",
              "      <td>NaN</td>\n",
              "      <td>4.0</td>\n",
              "      <td>[['Good by swedish standards', 'A hidden jewel...</td>\n",
              "      <td>/Restaurant_Review-g189852-d947615-Reviews-Sus...</td>\n",
              "      <td>d947615</td>\n",
              "    </tr>\n",
              "    <tr>\n",
              "      <th>39998</th>\n",
              "      <td>id_640</td>\n",
              "      <td>Warsaw</td>\n",
              "      <td>[Polish, European, Eastern European, Central E...</td>\n",
              "      <td>641.0</td>\n",
              "      <td>4.0</td>\n",
              "      <td>$$ - $$$</td>\n",
              "      <td>70.0</td>\n",
              "      <td>[['Underground restaurant', 'Oldest Restaurant...</td>\n",
              "      <td>/Restaurant_Review-g274856-d1100838-Reviews-Ho...</td>\n",
              "      <td>d1100838</td>\n",
              "    </tr>\n",
              "    <tr>\n",
              "      <th>39999</th>\n",
              "      <td>id_4824</td>\n",
              "      <td>Milan</td>\n",
              "      <td>[Spanish]</td>\n",
              "      <td>4827.0</td>\n",
              "      <td>3.0</td>\n",
              "      <td>$$ - $$$</td>\n",
              "      <td>260.0</td>\n",
              "      <td>[['Average', 'Nice an informal'], ['01/31/2016...</td>\n",
              "      <td>/Restaurant_Review-g187849-d1109020-Reviews-Ta...</td>\n",
              "      <td>d1109020</td>\n",
              "    </tr>\n",
              "  </tbody>\n",
              "</table>\n",
              "<p>40000 rows × 10 columns</p>\n",
              "</div>"
            ],
            "text/plain": [
              "            id  ...     id_TA\n",
              "0      id_5569  ...  d1912643\n",
              "1      id_1535  ...  d7992032\n",
              "2       id_352  ...  d8632781\n",
              "3      id_3456  ...  d1358776\n",
              "4       id_615  ...  d6864963\n",
              "...        ...  ...       ...\n",
              "39995   id_499  ...  d2104414\n",
              "39996  id_6340  ...  d1800036\n",
              "39997  id_1649  ...   d947615\n",
              "39998   id_640  ...  d1100838\n",
              "39999  id_4824  ...  d1109020\n",
              "\n",
              "[40000 rows x 10 columns]"
            ]
          },
          "metadata": {},
          "execution_count": 6
        }
      ]
    },
    {
      "cell_type": "code",
      "metadata": {
        "id": "-AKpjjT0xlah"
      },
      "source": [
        "# pd.get_dummies(rest, columns=['Cuisine Style'])\n",
        "# rest.loc[rest.loc[:, 'Cuisine Style'].apply(lambda r: pd.isna(r)), 'Cuisine Style']\n",
        "\n",
        "mean_NoR = rest.loc[:, 'Number of Reviews'].mean()\n",
        "rest.loc[:, 'Number of Reviews'] = \\\n",
        "rest.loc[:, 'Number of Reviews'].apply(lambda r: r if not(pd.isna(r)) else mean_NoR)\n",
        "\n",
        "\n",
        "\n",
        "rest_m = rest.loc[:, ['Ranking', 'Number of Reviews']]\n",
        "\n",
        "\n"
      ],
      "execution_count": null,
      "outputs": []
    },
    {
      "cell_type": "code",
      "metadata": {
        "id": "UZwV1wzz_zm-"
      },
      "source": [],
      "execution_count": null,
      "outputs": []
    },
    {
      "cell_type": "code",
      "metadata": {
        "id": "msu_-uMVeSzU",
        "colab": {
          "base_uri": "https://localhost:8080/"
        },
        "outputId": "c4d123c8-7cec-4f79-ca5f-e81d56f3ee08"
      },
      "source": [
        "# Разбиваем датафрейм на части, необходимые для обучения и тестирования модели  \n",
        "    # Х - данные с информацией о ресторанах, у - целевая переменная (рейтинги ресторанов)  \n",
        "# X = rest.drop(['Restaurant_id', 'Rating'], axis = 1)  \n",
        "X = rest_m\n",
        "y = rest.loc[:, 'Rating']\n",
        "      \n",
        "    # Загружаем специальный инструмент для разбивки:  \n",
        "from sklearn.model_selection import train_test_split  \n",
        "      \n",
        "    # Наборы данных с меткой \"train\" будут использоваться для обучения модели, \"test\" - для тестирования.  \n",
        "    # Для тестирования мы будем использовать 25% от исходного датасета.  \n",
        "X_train, X_test, y_train, y_test = train_test_split(X, y, test_size=0.25)\n",
        "    \n",
        "# Импортируем необходимые библиотеки:  \n",
        "from sklearn.ensemble import RandomForestRegressor # инструмент для создания и обучения модели  \n",
        "from sklearn import metrics # инструменты для оценки точности модели  \n",
        "      \n",
        "    # Создаём модель  \n",
        "regr = RandomForestRegressor(n_estimators=100)  \n",
        "      \n",
        "    # Обучаем модель на тестовом наборе данных  \n",
        "regr.fit(X_train, y_train)  \n",
        "      \n",
        "    # Используем обученную модель для предсказания рейтинга ресторанов в тестовой выборке.  \n",
        "    # Предсказанные значения записываем в переменную y_pred  \n",
        "y_pred = regr.predict(X_test)  \n",
        "\n",
        "# Сравниваем предсказанные значения (y_pred) с реальными (y_test), и смотрим насколько они в среднем отличаются  \n",
        "    # Метрика называется Mean Absolute Error (MAE) и показывает среднее отклонение предсказанных значений от фактических.  \n",
        "print('MAE:', metrics.mean_absolute_error(y_test, y_pred))  "
      ],
      "execution_count": null,
      "outputs": [
        {
          "output_type": "stream",
          "name": "stdout",
          "text": [
            "MAE: 0.4332383719155844\n"
          ]
        }
      ]
    }
  ]
}