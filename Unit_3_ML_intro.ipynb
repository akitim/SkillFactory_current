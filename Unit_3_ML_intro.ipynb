{
  "nbformat": 4,
  "nbformat_minor": 0,
  "metadata": {
    "colab": {
      "name": "Unit 3 ML intro",
      "provenance": [],
      "toc_visible": true,
      "include_colab_link": true
    },
    "kernelspec": {
      "name": "python3",
      "display_name": "Python 3"
    },
    "language_info": {
      "name": "python"
    }
  },
  "cells": [
    {
      "cell_type": "markdown",
      "metadata": {
        "id": "view-in-github",
        "colab_type": "text"
      },
      "source": [
        "<a href=\"https://colab.research.google.com/github/akitim/SkillFactory_current/blob/main/Unit_3_ML_intro.ipynb\" target=\"_parent\"><img src=\"https://colab.research.google.com/assets/colab-badge.svg\" alt=\"Open In Colab\"/></a>"
      ]
    },
    {
      "cell_type": "code",
      "metadata": {
        "id": "f24MA6LWhihB"
      },
      "source": [
        "#!pip uninstall flake8 pycodestyle_magic\n",
        "# %load_ext pycodestyle_magic\n",
        "#%pycodestyle_off"
      ],
      "execution_count": null,
      "outputs": []
    },
    {
      "cell_type": "markdown",
      "metadata": {
        "id": "KWCpKg3wtoio"
      },
      "source": [
        "#PYTHON-11. Feature Engineering"
      ]
    },
    {
      "cell_type": "code",
      "metadata": {
        "id": "s-oAuHFMtRnU"
      },
      "source": [
        "import pandas as pd\n",
        "#import matplotlib\n",
        "import matplotlib.pyplot as plt\n",
        "# import seaborn as sns\n",
        "import warnings; warnings.filterwarnings('ignore') #(action='once')\n",
        "import missingno as msno\n",
        "# from itertools import combinations\n",
        "# from scipy.stats import ttest_ind\n",
        "# from scipy.stats import norm\n",
        "\n",
        "%matplotlib inline\n",
        "\n",
        "pd.set_option('display.max_rows', 50) # показывать больше строк\n",
        "pd.set_option('display.max_columns', 50) # показывать больше колонок\n",
        "pd.options.display.precision = 3\n",
        "\n",
        "\n",
        "#import sys\n",
        "#from google.colab import drive\n",
        "#drive.mount('/content/gdrive', force_remount=True)\n",
        "#sys.path.clear\n",
        "#sys.path.append('/content/gdrive/MyDrive/SkillFactory')"
      ],
      "execution_count": null,
      "outputs": []
    },
    {
      "cell_type": "markdown",
      "metadata": {
        "id": "dOKfWyekus2-"
      },
      "source": [
        "#Загрузка"
      ]
    },
    {
      "cell_type": "code",
      "metadata": {
        "colab": {
          "base_uri": "https://localhost:8080/",
          "height": 80
        },
        "id": "6r4UTS2jvLr_",
        "outputId": "39770f2d-b032-4984-d359-aff85f48bfe2"
      },
      "source": [
        "log_path = 'https://raw.githubusercontent.com/akitim/datasets/main/log.csv'\n",
        "cols = ['user_id', 'time', 'bet', 'win']\n",
        "#log = pd.read_csv('/content/gdrive/MyDrive/SkillFactory/log.csv', names=cols)\n",
        "log = pd.read_csv(log_path, names=cols)\n",
        "\n",
        "#users = pd.read_csv(\n",
        "#    '/content/gdrive/MyDrive/SkillFactory/vsers.csv',\n",
        "#    encoding='koi8-r',\n",
        "#    sep = '\\t'\n",
        "#)\n",
        "\n",
        "users_path = 'https://raw.githubusercontent.com/akitim/datasets/main/users.csv'\n",
        "users = pd.read_csv(\n",
        "    users_path,\n",
        "    encoding='koi8-r',\n",
        "    sep = '\\t'\n",
        ")\n",
        "users.columns = ['user_id', 'email', 'geo']\n",
        "users.sample(1)\n",
        "# log.sample(1)"
      ],
      "execution_count": null,
      "outputs": [
        {
          "output_type": "execute_result",
          "data": {
            "text/html": [
              "<div>\n",
              "<style scoped>\n",
              "    .dataframe tbody tr th:only-of-type {\n",
              "        vertical-align: middle;\n",
              "    }\n",
              "\n",
              "    .dataframe tbody tr th {\n",
              "        vertical-align: top;\n",
              "    }\n",
              "\n",
              "    .dataframe thead th {\n",
              "        text-align: right;\n",
              "    }\n",
              "</style>\n",
              "<table border=\"1\" class=\"dataframe\">\n",
              "  <thead>\n",
              "    <tr style=\"text-align: right;\">\n",
              "      <th></th>\n",
              "      <th>Юзверь</th>\n",
              "      <th>мейл</th>\n",
              "      <th>Гео</th>\n",
              "    </tr>\n",
              "  </thead>\n",
              "  <tbody>\n",
              "    <tr>\n",
              "      <th>52</th>\n",
              "      <td>User_904</td>\n",
              "      <td>Kryptoburs@yahoo.com</td>\n",
              "      <td>Ярославль</td>\n",
              "    </tr>\n",
              "  </tbody>\n",
              "</table>\n",
              "</div>"
            ],
            "text/plain": [
              "      Юзверь                  мейл        Гео\n",
              "52  User_904  Kryptoburs@yahoo.com  Ярославль"
            ]
          },
          "metadata": {},
          "execution_count": 84
        }
      ]
    },
    {
      "cell_type": "markdown",
      "metadata": {
        "id": "C5Cb58gPKKU2"
      },
      "source": [
        "Задание 1-5"
      ]
    },
    {
      "cell_type": "code",
      "metadata": {
        "id": "jvcyNyVo8cFg",
        "colab": {
          "base_uri": "https://localhost:8080/"
        },
        "outputId": "1a056e41-7754-417b-dc73-672e2e067029"
      },
      "source": [
        "len(log.loc[log.loc[:, 'time'].isna(), 'time'])"
      ],
      "execution_count": null,
      "outputs": [
        {
          "output_type": "execute_result",
          "data": {
            "text/plain": [
              "15"
            ]
          },
          "metadata": {},
          "execution_count": 16
        }
      ]
    },
    {
      "cell_type": "code",
      "metadata": {
        "id": "z2FwQ2uaMpgZ",
        "colab": {
          "base_uri": "https://localhost:8080/",
          "height": 423
        },
        "outputId": "2a011648-3024-4647-93f5-34147d701c14"
      },
      "source": [
        "#log.dropna(axis=1)\n",
        "\n",
        "#log.dropna(axis=0)\n",
        "\n",
        "#log.loc[users.index.intersection(['time', 'user_id'])].dropna(axis=1)\n",
        "for col in ['time', 'user_id']:\n",
        "    if log.loc[:, col].isna().any():\n",
        "         log.drop(col, inplace=True, axis=1)\n",
        "log"
      ],
      "execution_count": null,
      "outputs": [
        {
          "output_type": "execute_result",
          "data": {
            "text/html": [
              "<div>\n",
              "<style scoped>\n",
              "    .dataframe tbody tr th:only-of-type {\n",
              "        vertical-align: middle;\n",
              "    }\n",
              "\n",
              "    .dataframe tbody tr th {\n",
              "        vertical-align: top;\n",
              "    }\n",
              "\n",
              "    .dataframe thead th {\n",
              "        text-align: right;\n",
              "    }\n",
              "</style>\n",
              "<table border=\"1\" class=\"dataframe\">\n",
              "  <thead>\n",
              "    <tr style=\"text-align: right;\">\n",
              "      <th></th>\n",
              "      <th>user_id</th>\n",
              "      <th>bet</th>\n",
              "      <th>win</th>\n",
              "    </tr>\n",
              "  </thead>\n",
              "  <tbody>\n",
              "    <tr>\n",
              "      <th>0</th>\n",
              "      <td>Запись пользователя № - user_919</td>\n",
              "      <td>NaN</td>\n",
              "      <td>NaN</td>\n",
              "    </tr>\n",
              "    <tr>\n",
              "      <th>1</th>\n",
              "      <td>Запись пользователя № - user_973</td>\n",
              "      <td>NaN</td>\n",
              "      <td>NaN</td>\n",
              "    </tr>\n",
              "    <tr>\n",
              "      <th>2</th>\n",
              "      <td>Запись пользователя № - user_903</td>\n",
              "      <td>NaN</td>\n",
              "      <td>NaN</td>\n",
              "    </tr>\n",
              "    <tr>\n",
              "      <th>3</th>\n",
              "      <td>Запись пользователя № - user_954</td>\n",
              "      <td>NaN</td>\n",
              "      <td>NaN</td>\n",
              "    </tr>\n",
              "    <tr>\n",
              "      <th>4</th>\n",
              "      <td>Запись пользователя № - user_954</td>\n",
              "      <td>NaN</td>\n",
              "      <td>NaN</td>\n",
              "    </tr>\n",
              "    <tr>\n",
              "      <th>...</th>\n",
              "      <td>...</td>\n",
              "      <td>...</td>\n",
              "      <td>...</td>\n",
              "    </tr>\n",
              "    <tr>\n",
              "      <th>995</th>\n",
              "      <td>Запись пользователя № - user_984</td>\n",
              "      <td>9754.0</td>\n",
              "      <td>NaN</td>\n",
              "    </tr>\n",
              "    <tr>\n",
              "      <th>996</th>\n",
              "      <td>#error</td>\n",
              "      <td>10054.0</td>\n",
              "      <td>29265.0</td>\n",
              "    </tr>\n",
              "    <tr>\n",
              "      <th>997</th>\n",
              "      <td>#error</td>\n",
              "      <td>10454.0</td>\n",
              "      <td>NaN</td>\n",
              "    </tr>\n",
              "    <tr>\n",
              "      <th>998</th>\n",
              "      <td>#error</td>\n",
              "      <td>1000.0</td>\n",
              "      <td>NaN</td>\n",
              "    </tr>\n",
              "    <tr>\n",
              "      <th>999</th>\n",
              "      <td>#error</td>\n",
              "      <td>10754.0</td>\n",
              "      <td>NaN</td>\n",
              "    </tr>\n",
              "  </tbody>\n",
              "</table>\n",
              "<p>1000 rows × 3 columns</p>\n",
              "</div>"
            ],
            "text/plain": [
              "                              user_id      bet      win\n",
              "0    Запись пользователя № - user_919      NaN      NaN\n",
              "1    Запись пользователя № - user_973      NaN      NaN\n",
              "2    Запись пользователя № - user_903      NaN      NaN\n",
              "3    Запись пользователя № - user_954      NaN      NaN\n",
              "4    Запись пользователя № - user_954      NaN      NaN\n",
              "..                                ...      ...      ...\n",
              "995  Запись пользователя № - user_984   9754.0      NaN\n",
              "996                            #error  10054.0  29265.0\n",
              "997                            #error  10454.0      NaN\n",
              "998                            #error   1000.0      NaN\n",
              "999                            #error  10754.0      NaN\n",
              "\n",
              "[1000 rows x 3 columns]"
            ]
          },
          "metadata": {},
          "execution_count": 4
        }
      ]
    },
    {
      "cell_type": "code",
      "metadata": {
        "id": "VFoyAmFEsgwD",
        "colab": {
          "base_uri": "https://localhost:8080/"
        },
        "outputId": "9ba0103c-8fd9-463a-8805-7c2e207787ef"
      },
      "source": [
        "len(log[['time','user_id']].drop_duplicates())"
      ],
      "execution_count": null,
      "outputs": [
        {
          "output_type": "execute_result",
          "data": {
            "text/plain": [
              "986"
            ]
          },
          "metadata": {},
          "execution_count": 17
        }
      ]
    },
    {
      "cell_type": "markdown",
      "metadata": {
        "id": "p5zc7CREZC4i"
      },
      "source": [
        "11.3 Преобразование к datetime"
      ]
    },
    {
      "cell_type": "code",
      "metadata": {
        "id": "PGgSiUj1ZHrF",
        "colab": {
          "base_uri": "https://localhost:8080/"
        },
        "outputId": "1c3a6f48-b934-4522-f230-50532987647f"
      },
      "source": [
        "log_path = 'https://raw.githubusercontent.com/akitim/datasets/main/log.csv'\n",
        "cols = ['user_id', 'time', 'bet', 'win']\n",
        "log = pd.read_csv(log_path, names=cols)\n",
        "\n",
        "log = log.dropna()\n",
        "\n",
        "time = log.loc[:, 'time']\n",
        "time = pd.to_datetime(\n",
        "    time.apply(lambda t: t[1:] if type(t) == str else t),\n",
        "\n",
        ")\n",
        "time.apply(lambda t: t.minute)"
      ],
      "execution_count": null,
      "outputs": [
        {
          "output_type": "execute_result",
          "data": {
            "text/plain": [
              "14     57\n",
              "29     59\n",
              "151    54\n",
              "189    34\n",
              "205    26\n",
              "       ..\n",
              "967    25\n",
              "971    35\n",
              "972    35\n",
              "976    35\n",
              "991    55\n",
              "Name: time, Length: 133, dtype: int64"
            ]
          },
          "metadata": {},
          "execution_count": 10
        }
      ]
    },
    {
      "cell_type": "markdown",
      "metadata": {
        "id": "gmuolLXZ27MD"
      },
      "source": [
        "#11.4 Извлечение признаков времени"
      ]
    },
    {
      "cell_type": "code",
      "metadata": {
        "colab": {
          "base_uri": "https://localhost:8080/"
        },
        "id": "qvVXY7A626w9",
        "outputId": "215c5d48-1914-45c9-b7be-e51d417f7070"
      },
      "source": [
        "#Задание 1\n",
        "\n",
        "log_path = 'https://raw.githubusercontent.com/akitim/datasets/main/log.csv'\n",
        "cols = ['user_id', 'time', 'bet', 'win']\n",
        "\n",
        "log = pd.read_csv(log_path, names=cols)\n",
        "log.dropna(inplace=True)\n",
        "\n",
        "log.loc[:, 'time'] = pd.to_datetime(\n",
        "    log.loc[:, 'time'].apply(lambda t: t[1:] if type(t) == str else t),\n",
        ")\n",
        "log.loc[:, 'time'].dt.minute.value_counts().index[0]\n",
        "# pd.DataFrame(log.loc[:, 'time'].dt.minute.value_counts())\n",
        "# pd.DataFrame(log.loc[:, 'time'].dt.second).hist();\n",
        "# pd.DataFrame(log.loc[:, 'time'].dt.minute).hist();\n",
        "# pd.DataFrame(log.loc[:, 'time'].dt.hour).hist();\n",
        "\n",
        "# Задание 2\n",
        "log_path = 'https://raw.githubusercontent.com/akitim/datasets/main/log.csv'\n",
        "cols = ['user_id', 'time', 'bet', 'win']\n",
        "\n",
        "log = pd.read_csv(log_path, names=cols)\n",
        "log.dropna(inplace=True)\n",
        "log.loc[:, 'time'] = pd.to_datetime(\n",
        "    log.loc[:, 'time'].apply(lambda t: t[1:] if type(t) == str else t)\n",
        ")\n",
        "log.loc[:, 'time'].dt.month.value_counts() #.index[0]"
      ],
      "execution_count": null,
      "outputs": [
        {
          "output_type": "execute_result",
          "data": {
            "text/plain": [
              "3    57\n",
              "4    51\n",
              "2    16\n",
              "1     9\n",
              "Name: time, dtype: int64"
            ]
          },
          "metadata": {},
          "execution_count": 45
        }
      ]
    },
    {
      "cell_type": "code",
      "metadata": {
        "colab": {
          "base_uri": "https://localhost:8080/"
        },
        "id": "_1bhYyPOZYxV",
        "outputId": "126f83eb-bdf6-4038-e149-7c631d7fbf30"
      },
      "source": [
        "# Задание 3*\n",
        "log_path = 'https://raw.githubusercontent.com/akitim/datasets/main/log.csv'\n",
        "cols = ['user_id', 'time', 'bet', 'win']\n",
        "\n",
        "log = pd.read_csv(log_path, names=cols)\n",
        "log.dropna(inplace=True)\n",
        "\n",
        "log.loc[:, 'time'] = pd.to_datetime(\n",
        "    log.loc[:, 'time'].apply(lambda t: t[1:] if type(t) == str else t),\n",
        ")\n",
        "\n",
        "weekend = log.loc[:, 'time'].dt.weekday.apply (lambda d: d in [5, 6])\n",
        "len(log.loc[weekend, 'time'])\n",
        "\n",
        "log[(log.time.dt.weekday == 5) | (log.time.dt.weekday == 6)]['time'].count()"
      ],
      "execution_count": null,
      "outputs": [
        {
          "output_type": "execute_result",
          "data": {
            "text/plain": [
              "37"
            ]
          },
          "metadata": {},
          "execution_count": 67
        }
      ]
    },
    {
      "cell_type": "markdown",
      "metadata": {
        "id": "LbTUCRVL-7cA"
      },
      "source": [
        "# Задание 4*"
      ]
    },
    {
      "cell_type": "code",
      "metadata": {
        "id": "CNqS0guO_ADV",
        "colab": {
          "base_uri": "https://localhost:8080/"
        },
        "outputId": "9d3089ca-eb36-475c-fd3a-17c92aa10637"
      },
      "source": [
        "log_path = 'https://raw.githubusercontent.com/akitim/datasets/main/log.csv'\n",
        "cols = ['user_id', 'time', 'bet', 'win']\n",
        "\n",
        "log = pd.read_csv(log_path, names=cols)\n",
        "# log.dropna(inplace=True)\n",
        "\n",
        "log.loc[:, 'time'] = pd.to_datetime(\n",
        "    log.loc[:, 'time'].apply(lambda t: t[1:] if type(t) == str else t),\n",
        ")\n",
        "\n",
        "def timeofday(h):\n",
        "    if h >= 0 and h <= 5:\n",
        "        return 'night'\n",
        "    elif h >=6 and h <= 11:\n",
        "        return 'morning'\n",
        "    elif h >= 12 and h <= 17:\n",
        "        return 'day'\n",
        "    else:\n",
        "        return 'evening'\n",
        "\n",
        "time = log.loc[:, 'time'].dropna()\n",
        "drare = time.dt.hour.apply(timeofday).value_counts().min()\n",
        "print(\n",
        "time.dt.hour.apply(timeofday).value_counts() [\n",
        "    time.dt.hour.apply(timeofday).value_counts() == drare\n",
        "].index[0]\n",
        ")"
      ],
      "execution_count": null,
      "outputs": [
        {
          "output_type": "stream",
          "text": [
            "evening\n"
          ],
          "name": "stdout"
        }
      ]
    },
    {
      "cell_type": "markdown",
      "metadata": {
        "id": "psnL3wbIXmKv"
      },
      "source": [
        "#11.5 Снова смотрим на пропуски"
      ]
    },
    {
      "cell_type": "code",
      "metadata": {
        "id": "x9rtDFf1WmYs",
        "colab": {
          "base_uri": "https://localhost:8080/"
        },
        "outputId": "8b112900-abc1-442c-86ab-b7746ca8d7a1"
      },
      "source": [
        "log_path = 'https://raw.githubusercontent.com/akitim/datasets/main/log.csv'\n",
        "cols = ['user_id', 'time', 'bet', 'win']\n",
        "\n",
        "log = pd.read_csv(log_path, names=cols)\n",
        "\n",
        "log.loc[:, 'bet'].fillna(0, inplace=True)\n",
        "log.loc[:, 'bet'].value_counts()[0]"
      ],
      "execution_count": null,
      "outputs": [
        {
          "output_type": "execute_result",
          "data": {
            "text/plain": [
              "515"
            ]
          },
          "metadata": {},
          "execution_count": 5
        }
      ]
    },
    {
      "cell_type": "code",
      "metadata": {
        "id": "U9hSheeKeN6q",
        "colab": {
          "base_uri": "https://localhost:8080/"
        },
        "outputId": "1134256f-017a-41b0-ef1f-5fb6d8c73ae6"
      },
      "source": [
        "log_path = 'https://raw.githubusercontent.com/akitim/datasets/main/log.csv'\n",
        "cols = ['user_id', 'time', 'bet', 'win']\n",
        "\n",
        "log = pd.read_csv(log_path, names=cols)\n",
        "log.loc[:, 'bet'].fillna(0, inplace=True)\n",
        "\n",
        "def fillna_win(row):\n",
        "    if pd.isna(row['win']) and pd.isna(row['bet']):\n",
        "        row['win'] = 0\n",
        "        return row\n",
        "    elif row['bet'] == 0:\n",
        "        row['win'] = 0\n",
        "        return row\n",
        "    elif pd.isna(row['win']) and not(pd.isna(row['bet'])):\n",
        "        row['win'] = -row['bet']\n",
        "        return row\n",
        "    else:\n",
        "        return row\n",
        "log = log.apply(lambda row: fillna_win(row), axis=1)\n",
        "(log.loc[:, 'win'] < 0).sum()\n",
        "\n",
        "#11.6 Есть ли смысл играть?\n",
        "#Задание 1\n",
        "log.loc[:, 'net'] = -log.loc[:, 'bet']\n",
        "log.loc[log.loc[:, 'win'] >= 0, 'net'] = log.loc[:,'win'] - log.loc[:, 'bet']\n",
        "(log.loc[:, 'net'] > 0).sum()\n",
        "\n",
        "#Задание 2\n",
        "round(\n",
        "    log.loc[log.loc[:, 'net'] > 0, 'net'].mean()\n",
        ")   # => 80253\n",
        "\n",
        "#Задание 3\n",
        "round(\n",
        "    log.loc[log.loc[:, 'net'] > 0, 'net'].median()\n",
        ")   # => 5347\n",
        "# log.loc[log.loc[:, 'net'] < 1e7, 'net'].hist(bins=50, log=True);\n",
        "# plt.xlabel('net');\n",
        "# plt.title('Net distribution');"
      ],
      "execution_count": null,
      "outputs": [
        {
          "output_type": "execute_result",
          "data": {
            "text/plain": [
              "80253.33333333333"
            ]
          },
          "metadata": {},
          "execution_count": 17
        }
      ]
    },
    {
      "cell_type": "markdown",
      "metadata": {
        "id": "8yisve8L6UsN"
      },
      "source": [
        "#11.7 Сколько можно выиграть/проиграть?"
      ]
    },
    {
      "cell_type": "code",
      "metadata": {
        "colab": {
          "base_uri": "https://localhost:8080/"
        },
        "id": "tLlP-3UX6YQS",
        "outputId": "1a5f4b39-b888-431f-8067-d4ae631b2834"
      },
      "source": [
        "import pandas as pd\n",
        "\n",
        "log_path = 'https://raw.githubusercontent.com/akitim/datasets/main/log.csv'\n",
        "cols = ['user_id', 'time', 'bet', 'win']\n",
        "log = pd.read_csv(log_path, names=cols)\n",
        "\n",
        "log.loc[:, 'bet'].fillna(0, inplace=True)\n",
        "log.loc[:, 'win'].fillna(0, inplace=True)\n",
        "\n",
        "log.loc[:, 'net'] = log.loc[:, 'win'] - log.loc[:, 'bet']\n",
        "\n",
        "#log.loc[log.loc[:, 'bet'] > 0, 'bet'].count()\n",
        "\n",
        "#Задание 1\n",
        "round(\n",
        "    (log.loc[:, 'bet'] > 0).sum() / len(log) * 100,\n",
        "    #(log.loc[:, 'bet'] > 0).mean() * 100\n",
        "    1\n",
        ")\n",
        "\n",
        "#Задание 2\n",
        "log.loc[log.loc[:, 'bet'] > 0, 'bet'].mean() // 1\n",
        "\n",
        "#Задание 3\n",
        "log.loc[log.loc[:, 'bet'] > 0, 'net'].mean() // 1\n",
        "\n",
        "#Задание 4\n",
        "round(log.loc[log.loc[:, 'net'] < 0, 'net'].mean()) + 1\n",
        "\n",
        "#Задание 5\n",
        "#процент выигрышных ставок\n",
        "winbet = ((log.loc[:, 'bet'] > 0) * (log.loc[:, 'net'] > 0)).mean() * 100\n",
        "winbet < 100 - winbet"
      ],
      "execution_count": null,
      "outputs": [
        {
          "output_type": "execute_result",
          "data": {
            "text/plain": [
              "True"
            ]
          },
          "metadata": {},
          "execution_count": 77
        }
      ]
    },
    {
      "cell_type": "code",
      "metadata": {
        "id": "OBgTr0kQZd3_"
      },
      "source": [
        "#Задание 6*\n",
        "import pandas as pd\n",
        "\n",
        "def r2i(f):\n",
        "    return round(f - 0.5)\n",
        "\n",
        "log_path = 'https://raw.githubusercontent.com/akitim/datasets/main/log.csv'\n",
        "cols = ['user_id', 'time', 'bet', 'win']\n",
        "log = pd.read_csv(log_path, names=cols)\n",
        "\n",
        "log.loc[:, 'bet'].fillna(0, inplace=True)\n",
        "log.loc[:, 'win'].fillna(0, inplace=True)\n",
        "\n",
        "min_bet = log.loc[log.loc[:, 'bet'] > 0, 'bet'].min()\n",
        "min_bet_amount = r2i(\n",
        "    log.loc[log.loc[:, 'bet'] == min_bet, 'bet'].count()\n",
        ")\n"
      ],
      "execution_count": null,
      "outputs": []
    },
    {
      "cell_type": "markdown",
      "metadata": {
        "id": "rmbgoayUbzaA"
      },
      "source": [
        "#11.8 Повторение merge/groupby"
      ]
    },
    {
      "cell_type": "code",
      "metadata": {
        "colab": {
          "base_uri": "https://localhost:8080/"
        },
        "id": "8rkQH6wWbyss",
        "outputId": "65a59807-708e-4400-fbed-68d85cb2811a"
      },
      "source": [
        "import pandas as pd\n",
        "\n",
        "def r2i(f):\n",
        "    return round(f - 0.5)\n",
        "\n",
        "log_path = 'https://raw.githubusercontent.com/akitim/datasets/main/log.csv'\n",
        "cols = ['user_id', 'time', 'bet', 'win']\n",
        "log = pd.read_csv(log_path, names=cols)\n",
        "\n",
        "us_path = 'https://raw.githubusercontent.com/akitim/datasets/main/users.csv'\n",
        "us = pd.read_csv(\n",
        "    us_path,\n",
        "    encoding='koi8-r',\n",
        "    sep = '\\t'\n",
        ")\n",
        "us.columns = ['user_id', 'email', 'geo']\n",
        "\n",
        "# Приведем признак user_id к одному формату в обоих датасетах\n",
        "us.user_id = us.user_id.apply(lambda x: x.lower())\n",
        "\n",
        "# Избавимся от ошибок в user_id\n",
        "log = log[log.user_id != '#error']\n",
        "log.user_id = log.user_id.str.split(' - ').apply(lambda x: x[1])\n",
        "\n",
        "log.loc[:, 'bet'].fillna(0, inplace=True)\n",
        "log.loc[:, 'win'].fillna(0, inplace=True)\n",
        "\n",
        "log.loc[:, 'net'] = log.loc[:, 'win'] - log.loc[:, 'bet']\n",
        "\n",
        "logus = pd.merge(log, us, on='user_id')\n",
        "\n",
        "logus.groupby('user_id')['win'].median().median()\n",
        "\n",
        "#11.9 Анализ по пользователям\n",
        "# Задание 1\n",
        "r2i(logus.groupby(by='user_id')['net'].sum().median())\n",
        "\n",
        "#Задание 2*\n",
        "# logus.groupby(by='user_id')['bet'].sum().sort_values(ascending=True)\n",
        "\n",
        "unix = logus.loc[logus.loc[:, 'bet'] > 0, 'user_id'].unique()\n",
        "\n",
        "r2i(\n",
        "    logus.loc[\n",
        "    logus.loc[:, 'bet'] == 0,\n",
        "    'user_id'\n",
        "    ].apply(lambda u: u if u in unix else '').value_counts().mean()\n",
        ") # => 5\n",
        "\n",
        "#Задание 3**\n",
        "# Сколько в среднем времени проходит\n",
        "# между появлением человека в сервисе и первой ставкой?\n",
        "\n",
        "logus.loc[:, 'time'] = pd.to_datetime(\n",
        "    logus.loc[:, 'time'].apply(lambda t: t[1:])\n",
        ")\n",
        "\n",
        "def time2bet (id):\n",
        "    tb = logus.loc[\n",
        "        logus.loc[:, 'user_id'] == id, 'time':'bet'\n",
        "    ].sort_values(by='time')\n",
        "\n",
        "    t_appear = tb.loc[tb.index.min(), 'time']\n",
        "    t_1stbet = tb.loc[tb.loc[tb.loc[:, 'bet'] > 0, 'time'].index.min(), 'time']\n",
        "\n",
        "    return (t_1stbet - t_appear).total_seconds() / 3600 / 24\n",
        "\n",
        "unix = logus.loc[logus.loc[:, 'bet'] > 0, 'user_id'].unique()\n",
        "\n",
        "dt = pd.DataFrame(data=[time2bet(u) for u in unix], index = unix, columns=['time_to_1stbet'])\n",
        "r2i(dt.loc[:, 'time_to_1stbet'].mean())\n",
        "# time2bet('user_902')"
      ],
      "execution_count": null,
      "outputs": [
        {
          "output_type": "execute_result",
          "data": {
            "text/plain": [
              "47"
            ]
          },
          "metadata": {},
          "execution_count": 9
        }
      ]
    },
    {
      "cell_type": "markdown",
      "metadata": {
        "id": "rCmnSGySsrBW"
      },
      "source": [
        "#11.10 Анализ по городам"
      ]
    },
    {
      "cell_type": "code",
      "metadata": {
        "id": "RFOx5FATe3Au",
        "colab": {
          "base_uri": "https://localhost:8080/"
        },
        "outputId": "65ad69ad-882d-43ac-fb3f-ad299bb96bc4"
      },
      "source": [
        "# Задание 1\n",
        "logus.groupby(by='geo')['win'].sum().sort_values(ascending=False).index[1]\n",
        "\n",
        "# Задание 2*\n",
        "\n",
        "mean_bet_by_city = logus.loc[\n",
        "    logus.loc[:, 'bet'] != 0, :\n",
        "].groupby(by='geo')['bet'].mean() #.sort_values(ascending=False)\n",
        "\n",
        "r2i(mean_bet_by_city.max() / mean_bet_by_city.min())"
      ],
      "execution_count": null,
      "outputs": [
        {
          "output_type": "execute_result",
          "data": {
            "text/plain": [
              "127"
            ]
          },
          "metadata": {},
          "execution_count": 14
        }
      ]
    },
    {
      "cell_type": "code",
      "metadata": {
        "id": "8yNXnJRftZxo",
        "colab": {
          "base_uri": "https://localhost:8080/"
        },
        "outputId": "3fd52ef2-239a-4fea-ca10-b243cc966adf"
      },
      "source": [
        " #Задание 3\n",
        "import pandas as pd\n",
        "\n",
        "def r2i(f):\n",
        "    return round(f - 0.5)\n",
        "\n",
        "log_path = 'https://raw.githubusercontent.com/akitim/datasets/main/log.csv'\n",
        "cols = ['user_id', 'time', 'bet', 'win']\n",
        "log = pd.read_csv(log_path, names=cols)\n",
        "\n",
        "us_path = 'https://raw.githubusercontent.com/akitim/datasets/main/users.csv'\n",
        "us = pd.read_csv(\n",
        "    us_path,\n",
        "    encoding='koi8-r',\n",
        "    sep = '\\t'\n",
        ")\n",
        "us.columns = ['user_id', 'email', 'geo']\n",
        "\n",
        "# Приведем признак user_id к одному формату в обоих датасетах\n",
        "us.user_id = us.user_id.apply(lambda x: x.lower())\n",
        "\n",
        "# Избавимся от ошибок в user_id\n",
        "log = log[log.user_id != '#error']\n",
        " log.user_id = log.user_id.str.split(' - ').apply(lambda x: x[1])\n",
        "\n",
        "logus = pd.merge(log, us, on='user_id')\n",
        "\n",
        "sample2 = logus.groupby(by='geo')['user_id'].count()"
      ],
      "execution_count": null,
      "outputs": [
        {
          "output_type": "execute_result",
          "data": {
            "text/plain": [
              "geo\n",
              "Арзангелтск         96\n",
              "Воронеж             88\n",
              "Екатеринбург        49\n",
              "Ижевск              61\n",
              "Казань              66\n",
              "Краснодар           86\n",
              "Красноярск          56\n",
              "Москва              61\n",
              "Пермь               55\n",
              "Санкт-Петербург    115\n",
              "Ставрополь          36\n",
              "Тюмень              32\n",
              "Хабаровск           60\n",
              "Ярославль           89\n",
              "Name: user_id, dtype: int64"
            ]
          },
          "metadata": {},
          "execution_count": 16
        }
      ]
    },
    {
      "cell_type": "markdown",
      "metadata": {
        "id": "0Zq8WrlBbDoJ"
      },
      "source": [
        "#1.5. Скалярное произведение векторов"
      ]
    },
    {
      "cell_type": "code",
      "metadata": {
        "id": "0qJu6cQpbHrd",
        "colab": {
          "base_uri": "https://localhost:8080/"
        },
        "outputId": "d80568df-3696-455f-f0c3-dbce39efdd8f"
      },
      "source": [
        "import numpy as np\n",
        "\n",
        "x = np.array([4,6,1])\n",
        "np.dot(x,x)**0.5"
      ],
      "execution_count": null,
      "outputs": [
        {
          "output_type": "execute_result",
          "data": {
            "text/plain": [
              "7.280109889280518"
            ]
          },
          "metadata": {},
          "execution_count": 1
        }
      ]
    },
    {
      "cell_type": "markdown",
      "metadata": {
        "id": "5rdxCB47HFK2"
      },
      "source": [
        "#1.7. --> Практика. Векторы"
      ]
    },
    {
      "cell_type": "code",
      "metadata": {
        "id": "MBMRKIheHIkS",
        "colab": {
          "base_uri": "https://localhost:8080/"
        },
        "outputId": "1a717f19-ca28-473f-cdd7-a273f1ad3c62"
      },
      "source": [
        "import numpy as np\n",
        "import pandas as pd\n",
        "Hut_Paradise_DF = pd.DataFrame({'1.Rent': [65, 70, 120, 35, 40, 50, 100, 90, 85],\n",
        "                                '2.Area': [50, 52, 80, 33, 33, 44, 80, 65, 65],\n",
        "                                '3.Rooms':[3, 2, 1, 1, 1, 2, 4, 3, 2],\n",
        "                                '4.Floor':[5, 12, 10, 3, 6, 13, 8, 21, 5],\n",
        "                                '5.Demo two weeks':[8, 4, 5, 10, 20, 12, 5, 1, 10],\n",
        "                                '6.Liv.Area': [37, 40, 65, 20, 16, 35, 60, 50, 40]})\n",
        "#Задание 1.7.1\n",
        "hp = Hut_Paradise_DF\n",
        "hp.loc[4,:].values\n",
        "\n",
        "#Задание 1.7.2\n",
        "# print(str(hp.loc[:, '4.Floor'].values).replace(' ', ',').replace(',,', ',')[2:-1])\n",
        "\n",
        "hp.shape\n",
        "\n",
        "#Задание 1.7.5\n",
        "nlva = hp.loc[:, '2.Area']-hp.loc[:, '6.Liv.Area']\n",
        "# print(str(nlva.values).replace(' ', ',').replace(',,', ',')[1:-1])\n",
        "\n",
        "#Задание 1.7.6\n",
        "grr = hp.loc[:, '1.Rent'] * 4 / 10\n",
        "# print(','.join(grr.astype(int).astype(str).values))\n",
        "\n",
        "# Задание 1.7.7\n",
        "hp.loc[:, '7.T.demo'] = [10, 20, 30, 15, 5, 40, 20, 8, 20]\n",
        "\n",
        "# display(hp.head(9))\n",
        "# print('\\n','='*66, '\\n')\n",
        "\n",
        "np.dot(hp.loc[:, '7.T.demo'],hp.loc[:, '5.Demo two weeks'])\n",
        "\n",
        "# Задача 2. Условие\n",
        "# Даны три вектора:\n",
        "\n",
        "u = np.array([3,0,1,1,1])\n",
        "v = np.array([0,1,0,2,-2])\n",
        "w = np.array([1,-4,-1,0,-2])\n",
        "a = {'u': u, 'v': v, 'w': w }\n",
        "\n",
        "from itertools import combinations\n",
        "\n",
        "for c in combinations(['u', 'v', 'w'], 2):\n",
        "    print (f'Векторы {c[0]} и {c[1]} ортогональны: \\\n",
        "    {np.dot(a[c[0]], a[c[1]]) == 0}')\n",
        "\n",
        "# Задание 1.7.8\n",
        "# Составьте линейную комбинацию векторов v и w с коэффициентами 2 и -3:\n",
        "\n",
        "# print(','.join(list(map(str, 2*v - 3*w))))\n",
        "\n",
        "# Задание 1.7.10\n",
        "\n",
        "def norm(v):\n",
        "    return v / np.dot(v, v)**0.5\n",
        "\n",
        "round (norm(u)[2], 3)\n",
        "round (norm(v)[3], 3)\n",
        "round (norm(w)[0], 3)\n"
      ],
      "execution_count": null,
      "outputs": [
        {
          "output_type": "stream",
          "text": [
            "Векторы u и v ортогональны:     True\n",
            "Векторы u и w ортогональны:     True\n",
            "Векторы v и w ортогональны:     True\n"
          ],
          "name": "stdout"
        },
        {
          "output_type": "execute_result",
          "data": {
            "text/plain": [
              "0.213"
            ]
          },
          "metadata": {},
          "execution_count": 70
        }
      ]
    },
    {
      "cell_type": "markdown",
      "metadata": {
        "id": "zVbVchSJuNIH"
      },
      "source": [
        "#1.10. Практика. Базовые действия над матрицами"
      ]
    },
    {
      "cell_type": "code",
      "metadata": {
        "colab": {
          "base_uri": "https://localhost:8080/"
        },
        "id": "sn6rwM2tuMjq",
        "outputId": "3be12834-911d-4952-9855-aa8f7c6a0692"
      },
      "source": [
        "import numpy as np\n",
        "\n",
        "def print_arr(a):\n",
        "    print(','.join(list(map(str, a))))\n",
        "    return None\n",
        "Husband_Income = np.array([100,220,140])\n",
        "Wife_Income = np.array([150,200,130])\n",
        "Mother_In_Law_Income = np.array([90,80,100])\n",
        "\n",
        "Husband_Сonsumption = np.array([50,50,60])\n",
        "Wife_Сonsumption = np.array([100,80,140])\n",
        "Mother_In_Law_Сonsumption = np.array([100,20,140])\n",
        "\n",
        "inc = np.array([Husband_Income,\n",
        "               Wife_Income,\n",
        "               Mother_In_Law_Income]).T\n",
        "cons = np.array([Husband_Сonsumption,\n",
        "                Wife_Сonsumption,\n",
        "                Mother_In_Law_Сonsumption]).T\n",
        "\n",
        "# Задание 1.10.3\n",
        "print(','.join(list(map(str, inc[0][:]*(1 - 0.13)))))\n",
        "\n",
        "# Задание 1.10.4\n",
        "# Вычислите матрицу P, которая покажет баланс семьи Ивановых за один месяц\n",
        "# (то есть разницу между доходами (после вычета налога) и расходами)\n",
        "P = inc*(1 - 0.13) - cons\n",
        "print_arr(P[2, :])"
      ],
      "execution_count": null,
      "outputs": [
        {
          "output_type": "stream",
          "name": "stdout",
          "text": [
            "87.0,130.5,78.3\n",
            "61.8,-26.900000000000006,-53.0\n"
          ]
        }
      ]
    },
    {
      "cell_type": "markdown",
      "source": [
        "### Задание 6.9\n",
        "Составьте матрицу  из системы векторов:\n",
        "\n",
        "$\\vec{a}$$ = \\begin{pmatrix} 1 \\\\ 1 \\end{pmatrix}, \\vec{b}$$ = \\begin{pmatrix} 2 \\\\ -1 \\end{pmatrix}, \\vec{c}$$ = \\begin{pmatrix} 1 \\\\ 2 \\end{pmatrix}$\n",
        "\n",
        "Найдите матрицу Грама $G = A^T * A$"
      ],
      "metadata": {
        "id": "m3PwGWFe4Wd0"
      }
    },
    {
      "cell_type": "code",
      "source": [
        "import numpy as np\n",
        "\n",
        "a = np.array([1, 1])\n",
        "b = np.array([2, -1])\n",
        "c = np.array([1, 2])\n",
        "\n",
        "A = np.stack([a, b, c]).T\n",
        "G = A.T @ A\n",
        "print(G)\n",
        "\n"
      ],
      "metadata": {
        "colab": {
          "base_uri": "https://localhost:8080/"
        },
        "id": "s8OVZiTm9VlJ",
        "outputId": "e2d7c242-1f8d-4045-a6d2-dce7e51c48cf"
      },
      "execution_count": null,
      "outputs": [
        {
          "output_type": "stream",
          "name": "stdout",
          "text": [
            "[[2 1 3]\n",
            " [1 5 0]\n",
            " [3 0 5]]\n"
          ]
        }
      ]
    },
    {
      "cell_type": "markdown",
      "source": [
        "def print_arr(a):\n",
        "    print(','.join(list(map(str, a))))\n",
        "    return None"
      ],
      "metadata": {
        "id": "htqlynldBJdE"
      }
    },
    {
      "cell_type": "code",
      "source": [
        "def print_arr(a):\n",
        "    print(','.join(list(map(str, a))))\n",
        "    return None\n",
        "\n",
        "A = np.array([[5,-1,3,1,2], [-2,8,5,-1,1]])\n",
        "x = np.array([1,2,3,4,5])\n",
        "\n",
        "print_arr(A @ x)"
      ],
      "metadata": {
        "id": "uddGH9oRBKq2",
        "outputId": "89356018-57f0-407f-c7a8-53836260b1b0",
        "colab": {
          "base_uri": "https://localhost:8080/"
        }
      },
      "execution_count": null,
      "outputs": [
        {
          "output_type": "stream",
          "name": "stdout",
          "text": [
            "26,30\n"
          ]
        }
      ]
    },
    {
      "cell_type": "markdown",
      "metadata": {
        "id": "YzQv7KVupF0v"
      },
      "source": [
        "#1.15. --> Практика. Умножение матриц"
      ]
    },
    {
      "cell_type": "code",
      "metadata": {
        "colab": {
          "base_uri": "https://localhost:8080/",
          "height": 294
        },
        "id": "SfXTYVtWpH1i",
        "outputId": "3d20ac29-f264-4ab1-db86-a7e5dcb588e0"
      },
      "source": [
        "import numpy as np\n",
        "\n",
        "def print_arr(a):\n",
        "    print(','.join(list(map(lambda f: str(round(f, 3)), a))))\n",
        "    return None\n",
        "\n",
        "A = np.array([[5,-1,3,1,2],\n",
        "              [-2,8,5,-1,1]])\n",
        "x = np.array([1,2,3,4,5])\n",
        "\n",
        "# Задание 1.15.1\n",
        "# print_arr(np.dot(A, x))\n",
        "\n",
        "# Задание 1.15.2\n",
        "# Найдите произведение матриц  и  в том порядке, в котором их можно умножить.\n",
        "A = np.array( [ [1,9,8,5], [3,6,3,2], [3,3,3,3], [0,2,5,9], [4,4,1,2] ] )\n",
        "B = np.array( [ [1,-1,0,1,1] , [-2,0,2,-1,1] ] )\n",
        "\n",
        "print(np.dot(B, A)[0][3])\n",
        "\n",
        "# Задача 3. Условие\n",
        "x = np.array([1,2,1,0,4])\n",
        "y = np.array([2,1,-1,1,0])\n",
        "z = np.array([-1,1,-1,0,0])\n",
        "# Составьте матрицу A, расположив векторы x, y, z в строках.\n",
        "# Найдите матрицу Грама G (матрицу скалярных произведений столбцов матрицы A)\n",
        "# системы векторов x, y, z.\n",
        "# Чему равна полученная матрица Грама ?\n",
        "\n",
        "# Задание 1.15.3\n",
        "G = np.dot(np.array([x, y, z]).T, np.array([x, y, z]))\n",
        "# print_arr(G.flatten())\n",
        "print(G)\n",
        "\n",
        "# Задача 4. Условие\n",
        "import pandas as pd\n",
        "serv = pd.DataFrame({'Женские стрижки': [10, 2, 12, 4, 6, 10, 22, 7],\n",
        "                                'Мужские стрижки': [5, 21, 12, 8, 25, 3, 1, 0],\n",
        "                                'Окрашивания':[12, 3, 0, 18, 27, 2, 4, 31],\n",
        "                              'Укладка':[15, 25, 30, 14, 25, 17, 25, 31],\n",
        "                                'Уход':[10, 6, 4, 5, 18, 12, 20, 28]\n",
        "                                },\n",
        "                               index=['Аня', 'Борис', 'Вика', 'Галя', 'Дима', 'Егор', 'Женя','Юра'])\n",
        "price = pd.DataFrame({'Женские стрижки': [2, 1.8, 2, 1.8, 2.5, 5, 1.1, 4.5],\n",
        "                                'Мужские стрижки': [1.5, 2.5, 2, 1.2, 3.5, 5, 1, 4],\n",
        "                                'Окрашивания':[1, 1, 0, 2.8, 2, 3, 1.5, 2.5],\n",
        "                              'Укладка':[0.8, 1, 0.5, 0.8, 1, 2, 0.5, 1],\n",
        "                                'Уход':[1, 1, 2, 2, 1.5, 2.5, 1.7, 2]\n",
        "                                },\n",
        "                               index=['Аня', 'Борис', 'Вика', 'Галя', 'Дима', 'Егор', 'Женя','Юра'])\n",
        "\n",
        "# Задание 1.15.4\n",
        "# Найдите вектор выручки Бориса.\n",
        "display(serv.head(1))\n",
        "# display(price.head(1))\n",
        "print('\\n', '='*50, '\\n')\n",
        "\n",
        "# print_arr(np.array(serv.loc['Борис', :]*price.loc['Борис',:]))\n",
        "\n",
        "# Задание 1.15.5\n",
        "com = [0.2, 0.2, 0.3, 0.1, 0.1] #Вектор комиссий\n",
        "print_arr(np.dot(serv*price, com))\n",
        "\n",
        "# Задание 1.15.6\n",
        "rev = np.ones((8, 1)) - com\n",
        "# print_arr(np.dot(serv*price, rev))\n",
        "print_arr((serv*price*rev).sum(axis=1).values) #вариант1\n",
        "\n",
        "rev = np.ones((1, 5)) - com\n",
        "print_arr(np.dot(serv*price, rev.T).T.flatten())  #вариант2"
      ],
      "execution_count": null,
      "outputs": [
        {
          "output_type": "stream",
          "name": "stdout",
          "text": [
            "14\n",
            "[[ 6  3  0  2  4]\n",
            " [ 3  6  0  1  8]\n",
            " [ 0  0  3 -1  4]\n",
            " [ 2  1 -1  1  0]\n",
            " [ 4  8  4  0 16]]\n"
          ]
        },
        {
          "output_type": "display_data",
          "data": {
            "text/plain": [
              "     Женские стрижки  Мужские стрижки  Окрашивания  Укладка  Уход\n",
              "Аня               10                5           12       15    10"
            ],
            "text/html": [
              "\n",
              "  <div id=\"df-a427e0f7-1662-42f1-8a99-03aa3216fad2\">\n",
              "    <div class=\"colab-df-container\">\n",
              "      <div>\n",
              "<style scoped>\n",
              "    .dataframe tbody tr th:only-of-type {\n",
              "        vertical-align: middle;\n",
              "    }\n",
              "\n",
              "    .dataframe tbody tr th {\n",
              "        vertical-align: top;\n",
              "    }\n",
              "\n",
              "    .dataframe thead th {\n",
              "        text-align: right;\n",
              "    }\n",
              "</style>\n",
              "<table border=\"1\" class=\"dataframe\">\n",
              "  <thead>\n",
              "    <tr style=\"text-align: right;\">\n",
              "      <th></th>\n",
              "      <th>Женские стрижки</th>\n",
              "      <th>Мужские стрижки</th>\n",
              "      <th>Окрашивания</th>\n",
              "      <th>Укладка</th>\n",
              "      <th>Уход</th>\n",
              "    </tr>\n",
              "  </thead>\n",
              "  <tbody>\n",
              "    <tr>\n",
              "      <th>Аня</th>\n",
              "      <td>10</td>\n",
              "      <td>5</td>\n",
              "      <td>12</td>\n",
              "      <td>15</td>\n",
              "      <td>10</td>\n",
              "    </tr>\n",
              "  </tbody>\n",
              "</table>\n",
              "</div>\n",
              "      <button class=\"colab-df-convert\" onclick=\"convertToInteractive('df-a427e0f7-1662-42f1-8a99-03aa3216fad2')\"\n",
              "              title=\"Convert this dataframe to an interactive table.\"\n",
              "              style=\"display:none;\">\n",
              "        \n",
              "  <svg xmlns=\"http://www.w3.org/2000/svg\" height=\"24px\"viewBox=\"0 0 24 24\"\n",
              "       width=\"24px\">\n",
              "    <path d=\"M0 0h24v24H0V0z\" fill=\"none\"/>\n",
              "    <path d=\"M18.56 5.44l.94 2.06.94-2.06 2.06-.94-2.06-.94-.94-2.06-.94 2.06-2.06.94zm-11 1L8.5 8.5l.94-2.06 2.06-.94-2.06-.94L8.5 2.5l-.94 2.06-2.06.94zm10 10l.94 2.06.94-2.06 2.06-.94-2.06-.94-.94-2.06-.94 2.06-2.06.94z\"/><path d=\"M17.41 7.96l-1.37-1.37c-.4-.4-.92-.59-1.43-.59-.52 0-1.04.2-1.43.59L10.3 9.45l-7.72 7.72c-.78.78-.78 2.05 0 2.83L4 21.41c.39.39.9.59 1.41.59.51 0 1.02-.2 1.41-.59l7.78-7.78 2.81-2.81c.8-.78.8-2.07 0-2.86zM5.41 20L4 18.59l7.72-7.72 1.47 1.35L5.41 20z\"/>\n",
              "  </svg>\n",
              "      </button>\n",
              "      \n",
              "  <style>\n",
              "    .colab-df-container {\n",
              "      display:flex;\n",
              "      flex-wrap:wrap;\n",
              "      gap: 12px;\n",
              "    }\n",
              "\n",
              "    .colab-df-convert {\n",
              "      background-color: #E8F0FE;\n",
              "      border: none;\n",
              "      border-radius: 50%;\n",
              "      cursor: pointer;\n",
              "      display: none;\n",
              "      fill: #1967D2;\n",
              "      height: 32px;\n",
              "      padding: 0 0 0 0;\n",
              "      width: 32px;\n",
              "    }\n",
              "\n",
              "    .colab-df-convert:hover {\n",
              "      background-color: #E2EBFA;\n",
              "      box-shadow: 0px 1px 2px rgba(60, 64, 67, 0.3), 0px 1px 3px 1px rgba(60, 64, 67, 0.15);\n",
              "      fill: #174EA6;\n",
              "    }\n",
              "\n",
              "    [theme=dark] .colab-df-convert {\n",
              "      background-color: #3B4455;\n",
              "      fill: #D2E3FC;\n",
              "    }\n",
              "\n",
              "    [theme=dark] .colab-df-convert:hover {\n",
              "      background-color: #434B5C;\n",
              "      box-shadow: 0px 1px 3px 1px rgba(0, 0, 0, 0.15);\n",
              "      filter: drop-shadow(0px 1px 2px rgba(0, 0, 0, 0.3));\n",
              "      fill: #FFFFFF;\n",
              "    }\n",
              "  </style>\n",
              "\n",
              "      <script>\n",
              "        const buttonEl =\n",
              "          document.querySelector('#df-a427e0f7-1662-42f1-8a99-03aa3216fad2 button.colab-df-convert');\n",
              "        buttonEl.style.display =\n",
              "          google.colab.kernel.accessAllowed ? 'block' : 'none';\n",
              "\n",
              "        async function convertToInteractive(key) {\n",
              "          const element = document.querySelector('#df-a427e0f7-1662-42f1-8a99-03aa3216fad2');\n",
              "          const dataTable =\n",
              "            await google.colab.kernel.invokeFunction('convertToInteractive',\n",
              "                                                     [key], {});\n",
              "          if (!dataTable) return;\n",
              "\n",
              "          const docLinkHtml = 'Like what you see? Visit the ' +\n",
              "            '<a target=\"_blank\" href=https://colab.research.google.com/notebooks/data_table.ipynb>data table notebook</a>'\n",
              "            + ' to learn more about interactive tables.';\n",
              "          element.innerHTML = '';\n",
              "          dataTable['output_type'] = 'display_data';\n",
              "          await google.colab.output.renderOutput(dataTable, element);\n",
              "          const docLink = document.createElement('div');\n",
              "          docLink.innerHTML = docLinkHtml;\n",
              "          element.appendChild(docLink);\n",
              "        }\n",
              "      </script>\n",
              "    </div>\n",
              "  </div>\n",
              "  "
            ]
          },
          "metadata": {}
        },
        {
          "output_type": "stream",
          "name": "stdout",
          "text": [
            "\n",
            " ================================================== \n",
            "\n",
            "11.3,15.22,11.9,20.6,41.9,21.2,11.49,38.25\n",
            "50.2,74.88,59.1,67.8,166.6,113.8,66.21,157.75\n",
            "50.2,74.88,59.1,67.8,166.6,113.8,66.21,157.75\n"
          ]
        }
      ]
    },
    {
      "cell_type": "markdown",
      "metadata": {
        "id": "jywPKnQl00nc"
      },
      "source": [
        "#1.19. Линейная (не)зависимость ч.2"
      ]
    },
    {
      "cell_type": "code",
      "metadata": {
        "id": "wM2BTjMG0zAQ",
        "colab": {
          "base_uri": "https://localhost:8080/"
        },
        "outputId": "6cd3098f-9ef1-4c9b-cde7-03a40d68504b"
      },
      "source": [
        "import numpy as np\n",
        "import numpy.linalg as npla\n",
        "\n",
        "A = np.array([[1, 0, 3, 5],\n",
        "              [1, 0, 4, 5],\n",
        "              [0, 0, 0, 0],\n",
        "              [0, 0, 0, 0]])\n",
        "npla.matrix_rank(A)\n",
        "\n",
        "# 1.20. Практика. Обратная матрица, ранг, определитель\n",
        "A = np.array([[8, 6, 11], [ 7, 5, 9], [ 6 , 10,  6]])\n",
        "\n",
        "# Задание 1.20.1\n",
        "print(f'Задание 1.20.1: {round(npla.inv(A)[1][0], 3)}\\n')\n",
        "\n",
        "v1 = np.array([9, 10, 7, 7, 9])\n",
        "v2 = np.array([2, 0, 5, 1, 4])\n",
        "v3 = np.array([4, 0, 0, 4, 1])\n",
        "v4 = np.array([3, -4, 3, -1, -4])\n",
        "\n",
        "# Задание 1.20.2\n",
        "V = np.array([v1, v2, v3, v4])\n",
        "print('Ранг системы векторов v1, v2, v3, v4:', npla.matrix_rank(V.T))\n",
        "print('Векторы v1, v2, v3, v4 линейно независимы:', npla.matrix_rank(V.T) == V.T.shape[1], '\\n')\n",
        "\n",
        "# Задание 1.20.4\n",
        "G = V@V.T\n",
        "print(f'Задание 1.20.4: {G[0][3]}\\n')\n",
        "\n",
        "# Задание 1.20.5\n",
        "round(npla.det(G))\n",
        "\n",
        "# Задание 10.7\n",
        "\n",
        "# Найдите обратную матрицу к матрице Грама системы векторов v1, v2, v3, v4.\n",
        "# В качестве ответа запишите элемент из первого столбца третьей строки, округлив\n",
        "# его до трёх знаков после точки-разделителя.\n",
        "\n",
        "print(f'Задание 10.7 {round(npla.inv(G)[2, 0], 3)}')"
      ],
      "execution_count": null,
      "outputs": [
        {
          "output_type": "stream",
          "name": "stdout",
          "text": [
            "Задание 1.20.1: 0.375\n",
            "\n",
            "Ранг системы векторов v1, v2, v3, v4: 4\n",
            "Векторы v1, v2, v3, v4 линейно независимы: True \n",
            "\n",
            "Задание 1.20.4: -35\n",
            "\n",
            "Задание 10.7 -0.026\n"
          ]
        }
      ]
    },
    {
      "cell_type": "markdown",
      "source": [
        "### Задание 1.7\n",
        "\n",
        "Найдите ранг матрицы системы, составленной из векторов $\\vec{v_1}=(2,10,-2)^T, \\vec{v_2}=(3,2,-2)^T, \\vec{v_3}=(8,14,-6)^T$:"
      ],
      "metadata": {
        "id": "IIKD8idPnzKL"
      }
    },
    {
      "cell_type": "code",
      "source": [
        "import numpy as np\n",
        "\n",
        "v1 = np.array([2, 10, -2])\n",
        "v2 = np.array([3, 2, -2])\n",
        "v3 = np.array([8, 14, -6])\n",
        "\n",
        "A = np.array([v1, v2, v3]).T\n",
        "np.linalg.matrix_rank(A)"
      ],
      "metadata": {
        "colab": {
          "base_uri": "https://localhost:8080/"
        },
        "id": "kARzKSo0oKgm",
        "outputId": "8fd4cbb0-77a1-45bb-9408-37c0d24c75bc"
      },
      "execution_count": null,
      "outputs": [
        {
          "output_type": "execute_result",
          "data": {
            "text/plain": [
              "2"
            ]
          },
          "metadata": {},
          "execution_count": 25
        }
      ]
    },
    {
      "cell_type": "markdown",
      "metadata": {
        "id": "KFuGS-iBbbla"
      },
      "source": [
        "#2.6. Случай «Всё сложно» ч.2"
      ]
    },
    {
      "cell_type": "code",
      "metadata": {
        "colab": {
          "base_uri": "https://localhost:8080/"
        },
        "id": "_yrcp0cqbb3y",
        "outputId": "a8e8a3eb-b971-4b0a-fb65-3c78616f9903"
      },
      "source": [
        "import numpy as np\n",
        "import numpy.linalg as npla\n",
        "\n",
        "def print_arr(*args, a):\n",
        "    print(*args, ','.join(list(map(lambda f: str(round(f, 2)), a))), '\\n')\n",
        "    return None\n",
        "\n",
        "# Задание 2.6.1\n",
        "# Вычислите вектор ошибок для приближённого решения системы w\n",
        "w = np.array([1, 1])\n",
        "A = np.array([[1, -5],\n",
        "             [2, 1],\n",
        "             [1, 1]])\n",
        "b = np.array([1,2,2])\n",
        "print_arr('Задание 2.6.1:', a=b - A@w)\n",
        "\n",
        "#Задание 2.6.3\n",
        "# Найдите OLS оценку для коэффициентов w1, w2 СЛАУ\n",
        "A = np.array([[1, 2],\n",
        "              [-3, 1],\n",
        "              [1, 2],\n",
        "              [1,-1]])\n",
        "b = np.array([1, 4, 5, 0])\n",
        "\n",
        "# Задание 2.6.3_1\n",
        "print ('Задание 2.6.3_1:', A.T@A, '\\n')\n",
        "\n",
        "# Задание 2.6.3_3\n",
        "print_arr('Задание 2.6.3_3:', a=A.T@b)\n",
        "\n",
        "# Задание 2.6.3_4\n",
        "w_cap = npla.inv(A.T@A)@A.T@b\n",
        "print_arr('Задание 2.6.3_4:', a=w_cap)\n",
        "\n",
        "w = np.array([-29.3, -0.26, 8.4])\n",
        "x = np.array([1, 0.2, 6])\n",
        "w@x\n",
        "\n",
        "# Задание 2.8.2\n",
        "X = np.array([[1, -1, 0],\n",
        "              [1, 1, 2],\n",
        "              [0, 0, 0],\n",
        "              [2, 0, 2]])\n",
        "npla.det(X.T@X)\n",
        "\n",
        "# 2.9. Стандартизация признаков\n",
        "# Задание 2.9.2\n",
        "x = np.array([11, 8])\n",
        "xc = x - x.mean()\n",
        "print_arr(a=(xc) / (xc@xc)**0.5)"
      ],
      "execution_count": null,
      "outputs": [
        {
          "output_type": "stream",
          "name": "stdout",
          "text": [
            "Задание 2.6.1: 5,-1,0 \n",
            "\n",
            "Задание 2.6.3_1: [[12  0]\n",
            " [ 0 10]] \n",
            "\n",
            "Задание 2.6.3_3: -6,16 \n",
            "\n",
            "Задание 2.6.3_4: -0.5,1.6 \n",
            "\n",
            "0.71,-0.71 \n",
            "\n"
          ]
        }
      ]
    },
    {
      "cell_type": "markdown",
      "metadata": {
        "id": "SBmkRBhwqLwt"
      },
      "source": [
        "#2.11. --> Практика. Классический OLS алгоритм"
      ]
    },
    {
      "cell_type": "code",
      "metadata": {
        "colab": {
          "base_uri": "https://localhost:8080/",
          "height": 98
        },
        "id": "e5c_tE3iqPcG",
        "outputId": "64ec0553-1002-45bc-bcf2-0dc62c556ecd"
      },
      "source": [
        "# Загрузка библиотек\n",
        "import numpy as np # для работы с массивами\n",
        "import numpy.linalg as npla\n",
        "import pandas as pd # для работы DataFrame\n",
        "import seaborn as sns # библиотека для визуализации статистических данных\n",
        "import matplotlib.pyplot as plt # для построения графиков\n",
        "\n",
        "%matplotlib inline\n",
        "\n",
        "def print_arr(a):\n",
        "    print(','.join(list(map(lambda f: str(round(f, 3)), a))))\n",
        "    return None\n",
        "\n",
        "adm = pd.read_csv('https://raw.githubusercontent.com/akitim/datasets/main/Admission_Predict_Ver1.1.csv')\n",
        "display(adm.head(1))\n",
        "adm.columns = ['N', 'GRE', 'TOEFL', 'Uni Rating', 'SOP',\n",
        "       'LOR ', 'CGPA', 'Research', 'CoA']\n",
        "# Задание 2.11.3\n",
        "adm.corr().loc[:, 'CoA'].sort_values(ascending=False).index[1]\n",
        "\n",
        "# Задание 2.11.4\n",
        "# Постройте отдельно две матрицы корреляций признаков и целевой переменной: для соискателей, делавших исследования (Research=1) и для тех, у кого исследований нет (Research=0).\n",
        "# В каком случае признаки сильнее скоррелированы между собой?\n",
        "adm.loc[adm.loc[:, 'Research'] == 1, :].corr().apply(lambda x: abs(x)).sum().sum(), \\\n",
        "adm.loc[adm.loc[:, 'Research'] == 0, :].corr().apply(lambda x: abs(x)).sum().sum()\n",
        "\n",
        "# Задание 2.11.5\n",
        "# sns.heatmap(adm.loc[adm.loc[:, 'Research'] == 0, :].corr(), cmap='hot');\n",
        "adm.loc[adm.loc[:, 'Research'] == 0, :].corr()\n",
        "\n",
        "# Задание 2.11.6\n",
        "A = adm.loc[adm.loc[:, 'Research'] == 0, :].loc[:, ['TOEFL', 'CGPA']]\n",
        "A.insert(0, '1', np.ones((A.shape[0],1)))\n",
        "y = adm.loc[adm.loc[:, 'Research'] == 0, :].loc[:, 'CoA']\n",
        "# print_arr(np.array(npla.inv(A.T@A)@A.T@y))\n",
        "\n",
        "# Задание 2.11.7\n",
        "m = np.array([-1.045, 0.004, 0.148])\n",
        "x = np.array([1, 107, 9.1])\n",
        "m@x\n",
        "\n",
        "# Задание 2.11.8\n",
        "# display(A)\n",
        "Ast = pd.DataFrame()\n",
        "\n",
        "TOEFL_c = A.loc[:, 'TOEFL'] - A.mean()['TOEFL']\n",
        "Ast.loc[:, 'TOEFL_st'] = TOEFL_c / (TOEFL_c @ TOEFL_c)**0.5\n",
        "\n",
        "CGPA_c = A.loc[:, 'CGPA'] - A.mean()['CGPA']\n",
        "Ast.loc[:, 'CGPA_st'] = CGPA_c / (CGPA_c @ CGPA_c)**0.5\n",
        "\n",
        "# A.drop('1', axis=1, inplace=True)\n",
        "# display(Ast)\n",
        "\n",
        "yst = (y - y.mean()) / ((y - y.mean()) @ (y - y.mean()))**0.5\n",
        "\n",
        "print_arr(np.array(npla.inv(Ast.T@Ast)@Ast.T@y))"
      ],
      "execution_count": null,
      "outputs": [
        {
          "output_type": "display_data",
          "data": {
            "text/html": [
              "<div>\n",
              "<style scoped>\n",
              "    .dataframe tbody tr th:only-of-type {\n",
              "        vertical-align: middle;\n",
              "    }\n",
              "\n",
              "    .dataframe tbody tr th {\n",
              "        vertical-align: top;\n",
              "    }\n",
              "\n",
              "    .dataframe thead th {\n",
              "        text-align: right;\n",
              "    }\n",
              "</style>\n",
              "<table border=\"1\" class=\"dataframe\">\n",
              "  <thead>\n",
              "    <tr style=\"text-align: right;\">\n",
              "      <th></th>\n",
              "      <th>Serial No.</th>\n",
              "      <th>GRE Score</th>\n",
              "      <th>TOEFL Score</th>\n",
              "      <th>University Rating</th>\n",
              "      <th>SOP</th>\n",
              "      <th>LOR</th>\n",
              "      <th>CGPA</th>\n",
              "      <th>Research</th>\n",
              "      <th>Chance of Admit</th>\n",
              "    </tr>\n",
              "  </thead>\n",
              "  <tbody>\n",
              "    <tr>\n",
              "      <th>0</th>\n",
              "      <td>1</td>\n",
              "      <td>337</td>\n",
              "      <td>118</td>\n",
              "      <td>4</td>\n",
              "      <td>4.5</td>\n",
              "      <td>4.5</td>\n",
              "      <td>9.65</td>\n",
              "      <td>1</td>\n",
              "      <td>0.92</td>\n",
              "    </tr>\n",
              "  </tbody>\n",
              "</table>\n",
              "</div>"
            ],
            "text/plain": [
              "   Serial No.  GRE Score  TOEFL Score  ...  CGPA  Research  Chance of Admit \n",
              "0           1        337          118  ...  9.65         1              0.92\n",
              "\n",
              "[1 rows x 9 columns]"
            ]
          },
          "metadata": {}
        },
        {
          "output_type": "stream",
          "name": "stdout",
          "text": [
            "0.315,1.027\n"
          ]
        }
      ]
    },
    {
      "cell_type": "code",
      "metadata": {
        "colab": {
          "base_uri": "https://localhost:8080/",
          "height": 243
        },
        "id": "SCBdJ4U6EgtU",
        "outputId": "665a2a26-6e43-4b59-c732-47f0d6d8b4e2"
      },
      "source": [
        "import numpy as np\n",
        "import numpy.linalg as npla\n",
        "import pandas as pd\n",
        "\n",
        "path = 'https://raw.githubusercontent.com/akitim/datasets/main/data_flats.csv'\n",
        "data = pd.read_csv(path, sep=\";\")\n",
        "\n",
        "data.head()\n",
        "# data.info()"
      ],
      "execution_count": null,
      "outputs": [
        {
          "output_type": "execute_result",
          "data": {
            "text/html": [
              "<div>\n",
              "<style scoped>\n",
              "    .dataframe tbody tr th:only-of-type {\n",
              "        vertical-align: middle;\n",
              "    }\n",
              "\n",
              "    .dataframe tbody tr th {\n",
              "        vertical-align: top;\n",
              "    }\n",
              "\n",
              "    .dataframe thead th {\n",
              "        text-align: right;\n",
              "    }\n",
              "</style>\n",
              "<table border=\"1\" class=\"dataframe\">\n",
              "  <thead>\n",
              "    <tr style=\"text-align: right;\">\n",
              "      <th></th>\n",
              "      <th>id</th>\n",
              "      <th>full_sq</th>\n",
              "      <th>life_sq</th>\n",
              "      <th>floor</th>\n",
              "      <th>sub_area</th>\n",
              "      <th>preschool_quota</th>\n",
              "      <th>preschool_education_centers_raion</th>\n",
              "      <th>school_quota</th>\n",
              "      <th>school_education_centers_raion</th>\n",
              "      <th>school_education_centers_top_20_raion</th>\n",
              "      <th>hospital_beds_raion</th>\n",
              "      <th>healthcare_centers_raion</th>\n",
              "      <th>university_top_20_raion</th>\n",
              "      <th>sport_objects_raion</th>\n",
              "      <th>additional_education_raion</th>\n",
              "      <th>culture_objects_top_25_raion</th>\n",
              "      <th>shopping_centers_raion</th>\n",
              "      <th>office_raion</th>\n",
              "      <th>metro_min_avto</th>\n",
              "      <th>metro_km_avto</th>\n",
              "      <th>metro_min_walk</th>\n",
              "      <th>metro_km_walk</th>\n",
              "      <th>kindergarten_km</th>\n",
              "      <th>school_km</th>\n",
              "      <th>park_km</th>\n",
              "      <th>green_zone_km</th>\n",
              "      <th>industrial_km</th>\n",
              "      <th>railroad_station_walk_km</th>\n",
              "      <th>railroad_station_walk_min</th>\n",
              "      <th>public_transport_station_km</th>\n",
              "      <th>public_transport_station_min_walk</th>\n",
              "      <th>mkad_km</th>\n",
              "      <th>ttk_km</th>\n",
              "      <th>sadovoe_km</th>\n",
              "      <th>bulvar_ring_km</th>\n",
              "      <th>kremlin_km</th>\n",
              "      <th>big_market_km</th>\n",
              "      <th>market_shop_km</th>\n",
              "      <th>fitness_km</th>\n",
              "      <th>swim_pool_km</th>\n",
              "      <th>ice_rink_km</th>\n",
              "      <th>stadium_km</th>\n",
              "      <th>basketball_km</th>\n",
              "      <th>hospice_morgue_km</th>\n",
              "      <th>university_km</th>\n",
              "      <th>workplaces_km</th>\n",
              "      <th>shopping_centers_km</th>\n",
              "      <th>office_km</th>\n",
              "      <th>additional_education_km</th>\n",
              "      <th>preschool_km</th>\n",
              "      <th>big_church_km</th>\n",
              "      <th>church_synagogue_km</th>\n",
              "      <th>theater_km</th>\n",
              "      <th>museum_km</th>\n",
              "      <th>ecology</th>\n",
              "      <th>price_doc</th>\n",
              "    </tr>\n",
              "  </thead>\n",
              "  <tbody>\n",
              "    <tr>\n",
              "      <th>0</th>\n",
              "      <td>1</td>\n",
              "      <td>43</td>\n",
              "      <td>27.0</td>\n",
              "      <td>4.0</td>\n",
              "      <td>Bibirevo</td>\n",
              "      <td>5001.0</td>\n",
              "      <td>5</td>\n",
              "      <td>11065.0</td>\n",
              "      <td>5</td>\n",
              "      <td>0</td>\n",
              "      <td>240.0</td>\n",
              "      <td>1</td>\n",
              "      <td>0</td>\n",
              "      <td>7</td>\n",
              "      <td>3</td>\n",
              "      <td>0</td>\n",
              "      <td>16</td>\n",
              "      <td>1</td>\n",
              "      <td>2.590241</td>\n",
              "      <td>1.131260</td>\n",
              "      <td>13.575119</td>\n",
              "      <td>1.131260</td>\n",
              "      <td>0.145700</td>\n",
              "      <td>0.177975</td>\n",
              "      <td>2.158587</td>\n",
              "      <td>0.600973</td>\n",
              "      <td>1.080934</td>\n",
              "      <td>5.419893</td>\n",
              "      <td>65.038716</td>\n",
              "      <td>0.274985</td>\n",
              "      <td>3.299822</td>\n",
              "      <td>1.422391</td>\n",
              "      <td>10.918587</td>\n",
              "      <td>13.100618</td>\n",
              "      <td>13.675657</td>\n",
              "      <td>15.156211</td>\n",
              "      <td>10.814172</td>\n",
              "      <td>1.676258</td>\n",
              "      <td>0.485841</td>\n",
              "      <td>3.065047</td>\n",
              "      <td>1.107594</td>\n",
              "      <td>8.148591</td>\n",
              "      <td>3.516513</td>\n",
              "      <td>2.392353</td>\n",
              "      <td>6.715026</td>\n",
              "      <td>0.884350</td>\n",
              "      <td>0.648488</td>\n",
              "      <td>0.637189</td>\n",
              "      <td>0.947962</td>\n",
              "      <td>0.177975</td>\n",
              "      <td>0.625783</td>\n",
              "      <td>0.628187</td>\n",
              "      <td>14.053047</td>\n",
              "      <td>7.389498</td>\n",
              "      <td>good</td>\n",
              "      <td>5850000</td>\n",
              "    </tr>\n",
              "    <tr>\n",
              "      <th>1</th>\n",
              "      <td>2</td>\n",
              "      <td>34</td>\n",
              "      <td>19.0</td>\n",
              "      <td>3.0</td>\n",
              "      <td>Nagatinskij Zaton</td>\n",
              "      <td>3119.0</td>\n",
              "      <td>5</td>\n",
              "      <td>6237.0</td>\n",
              "      <td>8</td>\n",
              "      <td>0</td>\n",
              "      <td>229.0</td>\n",
              "      <td>1</td>\n",
              "      <td>0</td>\n",
              "      <td>6</td>\n",
              "      <td>1</td>\n",
              "      <td>1</td>\n",
              "      <td>3</td>\n",
              "      <td>0</td>\n",
              "      <td>0.936700</td>\n",
              "      <td>0.647337</td>\n",
              "      <td>7.620630</td>\n",
              "      <td>0.635053</td>\n",
              "      <td>0.147754</td>\n",
              "      <td>0.273345</td>\n",
              "      <td>0.550690</td>\n",
              "      <td>0.065321</td>\n",
              "      <td>0.966479</td>\n",
              "      <td>3.411993</td>\n",
              "      <td>40.943917</td>\n",
              "      <td>0.065263</td>\n",
              "      <td>0.783160</td>\n",
              "      <td>9.503405</td>\n",
              "      <td>3.103996</td>\n",
              "      <td>6.444333</td>\n",
              "      <td>8.132640</td>\n",
              "      <td>8.698054</td>\n",
              "      <td>6.910568</td>\n",
              "      <td>3.424716</td>\n",
              "      <td>0.668364</td>\n",
              "      <td>2.000154</td>\n",
              "      <td>8.972823</td>\n",
              "      <td>6.127073</td>\n",
              "      <td>1.161579</td>\n",
              "      <td>2.543747</td>\n",
              "      <td>1.852560</td>\n",
              "      <td>0.686252</td>\n",
              "      <td>0.519311</td>\n",
              "      <td>0.688796</td>\n",
              "      <td>1.072315</td>\n",
              "      <td>0.273345</td>\n",
              "      <td>0.967821</td>\n",
              "      <td>0.471447</td>\n",
              "      <td>6.829889</td>\n",
              "      <td>0.709260</td>\n",
              "      <td>excellent</td>\n",
              "      <td>6000000</td>\n",
              "    </tr>\n",
              "    <tr>\n",
              "      <th>2</th>\n",
              "      <td>3</td>\n",
              "      <td>43</td>\n",
              "      <td>29.0</td>\n",
              "      <td>2.0</td>\n",
              "      <td>Tekstil'shhiki</td>\n",
              "      <td>1463.0</td>\n",
              "      <td>4</td>\n",
              "      <td>5580.0</td>\n",
              "      <td>7</td>\n",
              "      <td>0</td>\n",
              "      <td>1183.0</td>\n",
              "      <td>1</td>\n",
              "      <td>0</td>\n",
              "      <td>5</td>\n",
              "      <td>1</td>\n",
              "      <td>0</td>\n",
              "      <td>0</td>\n",
              "      <td>1</td>\n",
              "      <td>2.120999</td>\n",
              "      <td>1.637996</td>\n",
              "      <td>17.351515</td>\n",
              "      <td>1.445960</td>\n",
              "      <td>0.049102</td>\n",
              "      <td>0.158072</td>\n",
              "      <td>0.374848</td>\n",
              "      <td>0.453172</td>\n",
              "      <td>0.939275</td>\n",
              "      <td>1.277658</td>\n",
              "      <td>15.331896</td>\n",
              "      <td>0.328756</td>\n",
              "      <td>3.945073</td>\n",
              "      <td>5.604800</td>\n",
              "      <td>2.927487</td>\n",
              "      <td>6.963403</td>\n",
              "      <td>8.054252</td>\n",
              "      <td>9.067885</td>\n",
              "      <td>5.752368</td>\n",
              "      <td>1.375443</td>\n",
              "      <td>0.733101</td>\n",
              "      <td>1.239304</td>\n",
              "      <td>1.978517</td>\n",
              "      <td>0.767569</td>\n",
              "      <td>1.952771</td>\n",
              "      <td>0.621357</td>\n",
              "      <td>0.841254</td>\n",
              "      <td>1.510089</td>\n",
              "      <td>1.486533</td>\n",
              "      <td>1.543049</td>\n",
              "      <td>0.391957</td>\n",
              "      <td>0.158072</td>\n",
              "      <td>3.178751</td>\n",
              "      <td>0.755946</td>\n",
              "      <td>4.273200</td>\n",
              "      <td>3.156423</td>\n",
              "      <td>poor</td>\n",
              "      <td>5700000</td>\n",
              "    </tr>\n",
              "    <tr>\n",
              "      <th>3</th>\n",
              "      <td>4</td>\n",
              "      <td>89</td>\n",
              "      <td>50.0</td>\n",
              "      <td>9.0</td>\n",
              "      <td>Mitino</td>\n",
              "      <td>6839.0</td>\n",
              "      <td>9</td>\n",
              "      <td>17063.0</td>\n",
              "      <td>10</td>\n",
              "      <td>0</td>\n",
              "      <td>NaN</td>\n",
              "      <td>1</td>\n",
              "      <td>0</td>\n",
              "      <td>17</td>\n",
              "      <td>6</td>\n",
              "      <td>0</td>\n",
              "      <td>11</td>\n",
              "      <td>4</td>\n",
              "      <td>1.489049</td>\n",
              "      <td>0.984537</td>\n",
              "      <td>11.565624</td>\n",
              "      <td>0.963802</td>\n",
              "      <td>0.179441</td>\n",
              "      <td>0.236455</td>\n",
              "      <td>0.078090</td>\n",
              "      <td>0.106125</td>\n",
              "      <td>0.451173</td>\n",
              "      <td>4.291432</td>\n",
              "      <td>51.497190</td>\n",
              "      <td>0.131597</td>\n",
              "      <td>1.579164</td>\n",
              "      <td>2.677824</td>\n",
              "      <td>14.606501</td>\n",
              "      <td>17.457198</td>\n",
              "      <td>18.309433</td>\n",
              "      <td>19.487005</td>\n",
              "      <td>27.892717</td>\n",
              "      <td>0.811275</td>\n",
              "      <td>0.623484</td>\n",
              "      <td>1.950317</td>\n",
              "      <td>6.483172</td>\n",
              "      <td>7.385521</td>\n",
              "      <td>4.923843</td>\n",
              "      <td>3.549558</td>\n",
              "      <td>10.903161</td>\n",
              "      <td>0.622272</td>\n",
              "      <td>0.599914</td>\n",
              "      <td>0.934273</td>\n",
              "      <td>0.892674</td>\n",
              "      <td>0.236455</td>\n",
              "      <td>1.031777</td>\n",
              "      <td>1.561505</td>\n",
              "      <td>16.990677</td>\n",
              "      <td>16.041521</td>\n",
              "      <td>good</td>\n",
              "      <td>13100000</td>\n",
              "    </tr>\n",
              "    <tr>\n",
              "      <th>4</th>\n",
              "      <td>5</td>\n",
              "      <td>77</td>\n",
              "      <td>77.0</td>\n",
              "      <td>4.0</td>\n",
              "      <td>Basmannoe</td>\n",
              "      <td>3240.0</td>\n",
              "      <td>7</td>\n",
              "      <td>7770.0</td>\n",
              "      <td>9</td>\n",
              "      <td>0</td>\n",
              "      <td>562.0</td>\n",
              "      <td>4</td>\n",
              "      <td>2</td>\n",
              "      <td>25</td>\n",
              "      <td>2</td>\n",
              "      <td>0</td>\n",
              "      <td>10</td>\n",
              "      <td>93</td>\n",
              "      <td>1.257186</td>\n",
              "      <td>0.876620</td>\n",
              "      <td>8.266305</td>\n",
              "      <td>0.688859</td>\n",
              "      <td>0.247901</td>\n",
              "      <td>0.376838</td>\n",
              "      <td>0.258289</td>\n",
              "      <td>0.236214</td>\n",
              "      <td>0.392871</td>\n",
              "      <td>0.853960</td>\n",
              "      <td>10.247521</td>\n",
              "      <td>0.071480</td>\n",
              "      <td>0.857764</td>\n",
              "      <td>11.616653</td>\n",
              "      <td>1.721834</td>\n",
              "      <td>0.046810</td>\n",
              "      <td>0.787593</td>\n",
              "      <td>2.578671</td>\n",
              "      <td>9.155057</td>\n",
              "      <td>1.969738</td>\n",
              "      <td>0.220288</td>\n",
              "      <td>2.544696</td>\n",
              "      <td>3.975401</td>\n",
              "      <td>3.610754</td>\n",
              "      <td>0.307915</td>\n",
              "      <td>1.864637</td>\n",
              "      <td>0.991683</td>\n",
              "      <td>0.892668</td>\n",
              "      <td>0.429052</td>\n",
              "      <td>0.077901</td>\n",
              "      <td>0.810801</td>\n",
              "      <td>0.376838</td>\n",
              "      <td>0.378756</td>\n",
              "      <td>0.121681</td>\n",
              "      <td>1.112486</td>\n",
              "      <td>1.800125</td>\n",
              "      <td>excellent</td>\n",
              "      <td>16331452</td>\n",
              "    </tr>\n",
              "  </tbody>\n",
              "</table>\n",
              "</div>"
            ],
            "text/plain": [
              "   id  full_sq  life_sq  floor  ... theater_km  museum_km    ecology  price_doc\n",
              "0   1       43     27.0    4.0  ...  14.053047   7.389498       good    5850000\n",
              "1   2       34     19.0    3.0  ...   6.829889   0.709260  excellent    6000000\n",
              "2   3       43     29.0    2.0  ...   4.273200   3.156423       poor    5700000\n",
              "3   4       89     50.0    9.0  ...  16.990677  16.041521       good   13100000\n",
              "4   5       77     77.0    4.0  ...   1.112486   1.800125  excellent   16331452\n",
              "\n",
              "[5 rows x 56 columns]"
            ]
          },
          "metadata": {},
          "execution_count": 5
        }
      ]
    },
    {
      "cell_type": "markdown",
      "source": [
        "### Задание 3.5\n",
        "\n",
        "Сделайте прогноз типичной стоимости (в тыс. долларов) дома в городе с уровнем преступности *CRIM=0.2* и средним количеством комнат в доме *RM=6*. В качестве модели используйте линейную регрессию, оценка вектора коэффициентов которой равна: $\\vec{w}=(-29.3, -0.26, 8.4)$\n",
        "Ответ **округлите до целого числа**."
      ],
      "metadata": {
        "id": "1GO5mXzHLfqt"
      }
    },
    {
      "cell_type": "code",
      "source": [
        "import numpy as np\n",
        "import numpy.linalg as npla\n",
        "\n",
        "w = np.array([-29.3, -0.26, 8.4])\n",
        "x_pred = np.array([1, 0.2, 6])\n",
        "\n",
        "y_pred = w@x_pred\n",
        "round(y_pred)\n"
      ],
      "metadata": {
        "id": "c_ALN1dmMVw9",
        "outputId": "2d6f1699-57fc-473e-951e-d7b95669aa31",
        "colab": {
          "base_uri": "https://localhost:8080/"
        }
      },
      "execution_count": null,
      "outputs": [
        {
          "output_type": "execute_result",
          "data": {
            "text/plain": [
              "21"
            ]
          },
          "metadata": {},
          "execution_count": 86
        }
      ]
    },
    {
      "cell_type": "markdown",
      "source": [
        "### Задание 4.3\n",
        "\n",
        "Стандартизируйте вектор $\\vec{x}=(12,8)^T$, приведя его к единичной длине. В качестве ответа введите координаты полученного вектора. Ответ округлите до третьего знака после точки-разделителя."
      ],
      "metadata": {
        "id": "EseB5wb70tPC"
      }
    },
    {
      "cell_type": "code",
      "source": [
        "import numpy as np\n",
        "import numpy.linalg as npla\n",
        "\n",
        "def centr_normalize(v):\n",
        "    v_cent = v - np.mean(v)\n",
        "    norm = (np.power(v_cent.T@v_cent, 0.5))[0, 0]\n",
        "    return v_cent / norm\n",
        "\n",
        "x = np.array([[12, 8]]).T\n",
        "print(np.round(centr_normalize(x), 3))"
      ],
      "metadata": {
        "colab": {
          "base_uri": "https://localhost:8080/"
        },
        "id": "4GaOYlMF01Ai",
        "outputId": "fc347d21-9dbd-4fae-a970-a8ee85177bb3"
      },
      "execution_count": null,
      "outputs": [
        {
          "output_type": "stream",
          "name": "stdout",
          "text": [
            "[[ 0.707]\n",
            " [-0.707]]\n"
          ]
        }
      ]
    },
    {
      "cell_type": "markdown",
      "source": [
        "### Задание 4.7\n",
        "\n",
        "Вычислите коэффициент корреляции между векторами $\\vec{v}=(5,1,2)^T$ и $\\vec{u}=(4,2,8)^T$.\n",
        "\n",
        "Ответ **округлите до двух знаков после точки-разделителя**."
      ],
      "metadata": {
        "id": "POpdeBXQiU0V"
      }
    },
    {
      "cell_type": "code",
      "source": [
        "import numpy as np\n",
        "import numpy.linalg as npla\n",
        "\n",
        "def centr_normalize(v):\n",
        "    '''Centralizes and normalizes a vector'''\n",
        "    v_cent = v - np.mean(v)\n",
        "    norm = (np.power(v_cent.T@v_cent, 0.5))[0, 0]\n",
        "    return v_cent / norm\n",
        "\n",
        "v = np.array([[5,1,2]]).T\n",
        "u = np.array([[4,2,8]]).T\n",
        "\n",
        "v_cn, u_cn = centr_normalize(v), centr_normalize(u)\n",
        "A = np.hstack([v_cn, u_cn])\n",
        "\n",
        "print(round((A.T@A)[0, 1], 2))"
      ],
      "metadata": {
        "colab": {
          "base_uri": "https://localhost:8080/"
        },
        "id": "SuJIMNN1i0U7",
        "outputId": "aecd6350-c89c-45ae-a19b-84ddb4ab7053"
      },
      "execution_count": null,
      "outputs": [
        {
          "output_type": "stream",
          "name": "stdout",
          "text": [
            "0.052\n"
          ]
        }
      ]
    },
    {
      "cell_type": "markdown",
      "source": [
        "### Задание 4.8\n",
        "\n",
        "Составьте корреляционную матрицу для системы векторов:\n",
        "\n",
        "$\\vec{x}_1=(5.1, 1.8, 2.1, 10.3, 12.1, 12.6)^T$,\n",
        "$\\vec{x}_2=(10.2, 3.7, 4.1, 20.5, 24.2, 24.1)^T$,\n",
        "$\\vec{x}_3=(2.5, 0.9, 1.1, 5.1, 6.1, 6.3)^T$\n",
        "\n",
        "Для расчёта используйте библиотеку NumPy или Pandas.\n",
        "\n",
        "1. Чему равен ранг полученной корреляционной матрицы?\n",
        "2. Чему равен определитель полученной корреляционной матрицы? Ответ **округлите до седьмого знака после точки-разделителя**.\n",
        "3. Что можно сказать об обусловленности корреляционной матрицы?"
      ],
      "metadata": {
        "id": "u2jRt_tNr8FC"
      }
    },
    {
      "cell_type": "code",
      "source": [
        "import numpy as np\n",
        "import numpy.linalg as npla\n",
        "import pandas as pd\n",
        "\n",
        "def centr_normalize(A):\n",
        "    '''Centralizes and normalizes vector-columns of a matrix'''\n",
        "    A_cent = A - np.mean(A, axis=0)\n",
        "    norm_vec = np.power(np.sum(np.power(A_cent, 2), axis=0), 0.5)\n",
        "    return A_cent / norm_vec\n",
        "\n",
        "x = np.array([\n",
        "    [5.1, 1.8, 2.1, 10.3, 12.1, 12.6],\n",
        "    [10.2, 3.7, 4.1, 20.5, 24.2, 24.1],\n",
        "    [2.5, 0.9, 1.1, 5.1, 6.1, 6.3]\n",
        "]).T\n",
        "\n",
        "x_cn = centr_normalize(x)\n",
        "corr_matrix = x_cn.T@x_cn\n",
        "\n",
        "print(f'1.Ранг корреляционной матрицы: {npla.matrix_rank(corr_matrix, tol=7e-4)}')\n",
        "print(f'2.Определитель корреляционной матрицы: {round(npla.det(corr_matrix), 7)}')\n",
        "\n",
        "corr_matrix_np = np.corrcoef(x, rowvar=False) #using numpy built-in function\n",
        "corr_matrix_pd = pd.DataFrame(x).corr() #using pandas built-in function\n"
      ],
      "metadata": {
        "colab": {
          "base_uri": "https://localhost:8080/"
        },
        "id": "1n7GbQ9jsuoi",
        "outputId": "256cbf27-29af-43fc-9aef-0aff5ce6efba"
      },
      "execution_count": null,
      "outputs": [
        {
          "output_type": "stream",
          "name": "stdout",
          "text": [
            "1.Ранг корреляционной матрицы: 2\n",
            "2.Определитель корреляционной матрицы: 5e-07\n"
          ]
        }
      ]
    },
    {
      "cell_type": "code",
      "source": [
        "x = np.array([\n",
        "    [5.1, 1.8, 2.1, 10.3, 12.1, 12.6],\n",
        "    [10.2, 3.7, 4.1, 20.5, 24.2, 24.1],\n",
        "    [0.5, 0.9, 1.1, 5.1, 6.1, 6.3]\n",
        "]).T\n",
        "\n",
        "x - np.mean(x, axis=0)\n",
        "\n",
        "a = np.array([i for i in range(12)]).reshape(4, 3)\n",
        "v = [1, 2, 4]\n",
        "\n",
        "a, a/v\n"
      ],
      "metadata": {
        "colab": {
          "base_uri": "https://localhost:8080/"
        },
        "id": "x0Hh2bM_u5OI",
        "outputId": "dfb639a3-c3b6-46a4-8cf4-5f8dd4e46708"
      },
      "execution_count": null,
      "outputs": [
        {
          "output_type": "execute_result",
          "data": {
            "text/plain": [
              "(array([[ 0,  1,  2],\n",
              "        [ 3,  4,  5],\n",
              "        [ 6,  7,  8],\n",
              "        [ 9, 10, 11]]),\n",
              " array([[0.  , 0.5 , 0.5 ],\n",
              "        [3.  , 2.  , 1.25],\n",
              "        [6.  , 3.5 , 2.  ],\n",
              "        [9.  , 5.  , 2.75]]))"
            ]
          },
          "metadata": {},
          "execution_count": 29
        }
      ]
    },
    {
      "cell_type": "markdown",
      "metadata": {
        "id": "KWHWrBqHf6Iq"
      },
      "source": [
        "#2.6. Практика"
      ]
    },
    {
      "cell_type": "code",
      "metadata": {
        "colab": {
          "base_uri": "https://localhost:8080/"
        },
        "id": "yTRNDnDkf6Tk",
        "outputId": "d683d42c-5efe-4cc2-af4f-a7c73d962a3d"
      },
      "source": [
        "import numpy as np\n",
        "import numpy.linalg as npla\n",
        "import pandas as pd\n",
        "\n",
        "# import sys\n",
        "# from google.colab import drive\n",
        "# drive.mount('/content/gdrive', force_remount=True)\n",
        "# sys.path.clear\n",
        "# sys.path.append('/content/gdrive/MyDrive/SkillFactory')\n",
        "\n",
        "# Задание 2.6.6\n",
        "path = '/content/gdrive/MyDrive/SkillFactory/train.csv'\n",
        "vis_data = pd.read_csv(path, encoding = 'ISO-8859-1', low_memory = False)\n",
        "# most_freq_state = vis_data.loc[:, 'state'].value_counts(ascending=False).index[0]\n",
        "# result = vis_data.loc[:, 'state'].fillna(most_freq_state)\n",
        "\n",
        "\n",
        "# Задание 2.6.7\n",
        "path_data_flats = 'https://raw.githubusercontent.com/akitim/datasets/main/data_flats.csv'\n",
        "# df = pd.read_csv(path_data_flats, sep=';', low_memory = False)\n",
        "# df.loc[df.loc[:, 'sub_area'].apply(lambda s: s == 'Birjulevo Vostochnoe'), 'ecology'].value_counts()\n",
        "df.dropna(axis=0, inplace=True)\n",
        "df.shape[0]\n",
        "\n",
        "# Задание 2.8.3\n",
        "# list(vis_data.columns)\n",
        "from sklearn.preprocessing import StandardScaler\n",
        "\n",
        "test_data = vis_data.loc[:, ['balance_due']]\n",
        "\n",
        "scaler = StandardScaler()\n",
        "round(scaler.fit_transform(test_data).min(), 5)\n",
        "\n",
        "# # vis_data\n",
        "# test_data_st = scaler.fit_transform(test_data)"
      ],
      "execution_count": null,
      "outputs": [
        {
          "output_type": "execute_result",
          "data": {
            "text/plain": [
              "-13.14733"
            ]
          },
          "metadata": {},
          "execution_count": 174
        }
      ]
    },
    {
      "cell_type": "markdown",
      "metadata": {
        "id": "7HCBv95KimGb"
      },
      "source": [
        "#2.10. Практика"
      ]
    },
    {
      "cell_type": "code",
      "metadata": {
        "colab": {
          "base_uri": "https://localhost:8080/"
        },
        "id": "IS7oZfswimS4",
        "outputId": "933060bb-3e8c-4275-c9e6-8c5d1ababa5b"
      },
      "source": [
        "import seaborn as sns\n",
        "import pandas as pd\n",
        "import numpy as np\n",
        "\n",
        "# import sys\n",
        "# from google.colab import drive\n",
        "# drive.mount('/content/gdrive', force_remount=True)\n",
        "# sys.path.clear\n",
        "# sys.path.append('/content/gdrive/MyDrive/SkillFactory')\n",
        "\n",
        "# path = '/content/gdrive/MyDrive/SkillFactory/train.csv'\n",
        "# vis_data = pd.read_csv(path, encoding = 'ISO-8859-1', low_memory = False)\n",
        "\n",
        "corr = vis_data.drop(['violation_zip_code', 'payment_amount',\n",
        "                      'clean_up_cost',\n",
        "                      'violation_street_number'], axis=1).\\\n",
        "                dropna(axis=1).\\\n",
        "                corr()\n",
        "cmap = sns.diverging_palette(5, 250, as_cmap=True)\n",
        "\n",
        "def magnify():\n",
        "    return [dict(selector=\"th\",\n",
        "                 props=[(\"font-size\", \"7pt\")]),\n",
        "            dict(selector=\"td\",\n",
        "                 props=[('padding', \"0em 0em\")]),\n",
        "            dict(selector=\"th:hover\",\n",
        "                 props=[(\"font-size\", \"12pt\")]),\n",
        "            dict(selector=\"tr:hover td:hover\",\n",
        "                 props=[('max-width', '200px'),\n",
        "                        ('font-size', '12pt')])\n",
        "]\n",
        "\n",
        "# corr.style.background_gradient(cmap, axis=1)\\\n",
        "#     .set_properties(**{'max-width': '80px', 'font-size': '10pt'})\\\n",
        "#     .set_caption(\"Hover to magify\")\\\n",
        "#     .set_precision(2)\\\n",
        "#     .set_table_styles(magnify())\n",
        "\n",
        "#Задание 2.10.3\n",
        "# bal = np.sqrt(vis_data.loc[vis_data.loc[:, 'balance_due'] > 0, ['balance_due']])\n",
        "# abs(bal.mean() - bal.median())[0]\n",
        "\n",
        "# Задание 2.10.4\n",
        "# path_data_flats = 'https://raw.githubusercontent.com/akitim/datasets/main/data_flats.csv'\n",
        "# df = pd.read_csv(path_data_flats, sep=';', low_memory = False)\n",
        "\n",
        "focus = ['Basmannoe', 'Lefortovo', 'Perovo', 'Bogorodskoe']\n",
        "\n",
        "# sns.boxplot(\n",
        "#     x=df.loc[\n",
        "#         df.loc[:, 'sub_area'].apply(lambda s: s in focus),\n",
        "#         'sub_area'\n",
        "#     ],\n",
        "#     y=df.loc[\n",
        "#         df.loc[:, 'sub_area'].apply(lambda s: s in focus),\n",
        "#         'price_doc'\n",
        "#     ]\n",
        "# );\n",
        "# df.loc[df.loc[:, 'sub_area'].apply(lambda s: s == 'Izmajlovo'), 'price_doc'].median()\n",
        "\n",
        "# pd.get_dummies(df.loc[:, 'sub_area'], columns=['sub_area']).shape\n",
        "\n",
        "# Задание 2.12.6\n",
        "from sklearn.preprocessing import PolynomialFeatures\n",
        "\n",
        "poly = PolynomialFeatures(3)\n",
        "# poly_feat = poly.fit_transform(vis_data.loc[:, ['balance_due', 'payment_amount']])\n",
        "# mean_list = [poly_feat[:][i].mean() for i in range(0, poly_feat.shape[1])]\n",
        "# mean_list.index(np.max(mean_list)) #вариант 1\n",
        "\n",
        "# np.array([poly_feat[:][i].mean() for i in range(0, poly_feat.shape[1])]).argmax() #вариант 2\n",
        "\n",
        "# Задание 2.12.7\n",
        "# dt_vals = pd.to_datetime(vis_data.loc[:, 'ticket_issued_date'].dropna()).dt.weekday\n",
        "# dt_vals[dt_vals.apply(lambda d: d in [5, 6])].shape[0]\n",
        "\n",
        "# Задание 2.12.8\n",
        "ecology_dict = {'good': 3, 'excellent': 4, 'poor': 1, 'satisfactory': 2, 'no data': 0}\n",
        "# df.loc[:, 'ecology'] = df.loc[:, 'ecology'].replace(to_replace=ecology_dict)\n",
        "\n",
        "# # df.sample()\n",
        "# pd.get_dummies(df).shape[1]\n",
        "# round(df.loc[:, 'ecology'].mean(), 2)\n",
        "\n",
        "# Задание 2.14.5\n",
        "# vis_data.sample()\n",
        "balance = vis_data.loc[:, 'balance_due'].dropna()\n",
        "QR1 = np.percentile(balance, 25)\n",
        "QR3 = np.percentile(balance, 75)\n",
        "\n",
        "IQR = QR3 - QR1\n",
        "\n",
        "l_bound = QR1 - 1.5 *IQR\n",
        "u_bound = QR3 + 1.5 *IQR\n",
        "\n",
        "balance[balance.between(l_bound, u_bound)].max()\\\n",
        "    - balance[balance.between(l_bound, u_bound)].min()\n",
        "\n",
        "# ===========================================================\n",
        "# def outliers_iqr(ys):\n",
        "#     quartile_1, quartile_3 = np.percentile(ys, [25, 75])\n",
        "#     iqr = quartile_3 - quartile_1\n",
        "#     lower_bound = quartile_1 - (iqr * 1.5)\n",
        "#     upper_bound = quartile_3 + (iqr * 1.5)\n",
        "#     return np.where((ys > upper_bound) | (ys < lower_bound))[0]\n",
        "\n",
        "# balance.drop(index=outliers_iqr(balance),inplace=True)\n",
        "# balance.max() - balance.min()\n",
        "# ===========================================================\n",
        "# from scipy.stats import norm\n",
        "# import matplotlib.pyplot as plt\n",
        "\n",
        "# def estimate_gaussian(dataset):\n",
        "#     mu = np.mean(dataset, axis=0)\n",
        "#     sigma = np.cov(dataset.T)\n",
        "#     return mu, sigma\n",
        "\n",
        "# def get_gaussian(mu, sigma):\n",
        "#     distribution = norm(mu, sigma)\n",
        "#     return distribution\n",
        "\n",
        "# def get_probs(distribution, dataset):\n",
        "#     return distribution.pdf(dataset)\n",
        "\n",
        "# distr = get_gaussian(estimate_gaussian(balance)[0], estimate_gaussian(balance)[1])\n",
        "# plt.hist(get_probs(distr, balance), log=True, bins=50, density=True);\n",
        "# plt.show();\n",
        "\n",
        "# plt.hist(balance, log=True, bins=50, density=True);\n",
        "# plt.show();\n",
        "# ===========================================================\n"
      ],
      "execution_count": null,
      "outputs": [
        {
          "output_type": "execute_result",
          "data": {
            "text/plain": [
              "1201.3"
            ]
          },
          "metadata": {},
          "execution_count": 28
        }
      ]
    },
    {
      "cell_type": "markdown",
      "source": [
        "## 6/11 6. Полиномиальная регрессия (новый)"
      ],
      "metadata": {
        "id": "AMJPTg63d4Ce"
      }
    },
    {
      "cell_type": "markdown",
      "source": [
        "### Задание 6.1\n",
        "\n",
        "Построена модель полиномиальной регрессии следующего вида:\n",
        "$y=10.4+8 \\cdot x_1+0.5 \\cdot x_2+3 \\cdot x_{1}^{2}+0.4 \\cdot x_{2}^{2}+0 \\cdot x_1 x_2$\n",
        "Поступило новое наблюдение, которое характеризуется вектором $x_{new}=(x_{1new}, x_{2new})^T=(1, 4)^T$.\n",
        "\n",
        "Сделайте прогноз целевой переменной с помощью полученной полиномиальной регрессии. Ответ **округлите до первого знака после точки-разделителя.**"
      ],
      "metadata": {
        "id": "8uY8VWELd-4V"
      }
    },
    {
      "cell_type": "code",
      "source": [
        "import numpy as np\n",
        "from sklearn.preprocessing import PolynomialFeatures\n",
        "\n",
        "w = np.array([10.4, 8, 0.5, 3, 0, 0.4])\n",
        "x_new = np.array([[1, 4]])\n",
        "\n",
        "pf = PolynomialFeatures(degree=2)\n",
        "x_new_transformed = pf.fit_transform(x_new)\n",
        "\n",
        "y_pred = (x_new_transformed @ w)[0]\n",
        "print(np.round(y_pred, 1))\n",
        "# pf.get_feature_names_out()\n",
        "x_new_transformed"
      ],
      "metadata": {
        "colab": {
          "base_uri": "https://localhost:8080/"
        },
        "id": "LaJa5W2Zd3aI",
        "outputId": "d8fbed84-7ca1-47f5-bb96-d1cad1ac78d9"
      },
      "execution_count": null,
      "outputs": [
        {
          "output_type": "stream",
          "name": "stdout",
          "text": [
            "29.8\n"
          ]
        },
        {
          "output_type": "execute_result",
          "data": {
            "text/plain": [
              "array([[ 1.,  1.,  4.,  1.,  4., 16.]])"
            ]
          },
          "metadata": {},
          "execution_count": 12
        }
      ]
    },
    {
      "cell_type": "markdown",
      "source": [
        "### Задание 6.2\n",
        "\n",
        "Строится полиномиальная регрессия второй степени от одного фактора $x$. Как будет выглядеть матрица наблюдений $A$, если: $\\vec{x}=\\left(\\begin{array}{c}\n",
        "1 \\\\\n",
        "3 \\\\\n",
        "-2 \\\\\n",
        "9\n",
        "\\end{array}\\right)$\n",
        "\n",
        "В качестве ответа введите элементы полученной матрицы $A$.\n",
        "\n",
        "Заполняйте поля **слева направо, сверху вниз.**"
      ],
      "metadata": {
        "id": "DRL1YebaiQV8"
      }
    },
    {
      "cell_type": "code",
      "source": [
        "x = [1 ,3, -2, 9]"
      ],
      "metadata": {
        "id": "eVhksGVmiyyl"
      },
      "execution_count": null,
      "outputs": []
    },
    {
      "cell_type": "markdown",
      "source": [
        "### Задание 6.3\n",
        "\n",
        "Какую размерность будет иметь матрица измерений $A$, если в наборе данных пять факторов, а в качестве модели используется полином второй степени?"
      ],
      "metadata": {
        "id": "0QDuZ1aujYdv"
      }
    },
    {
      "cell_type": "code",
      "source": [
        "from numpy import math\n",
        "\n",
        "def f_(n):\n",
        "    return math.factorial(n)\n",
        "\n",
        "k = 5\n",
        "d = 2\n",
        "n = k + d\n",
        "\n",
        "f_(n) / f_(k) / f_(d)"
      ],
      "metadata": {
        "colab": {
          "base_uri": "https://localhost:8080/"
        },
        "id": "0BT5o1_NjcfN",
        "outputId": "20adb92c-2d74-45ba-b7bf-b0f59ba84401"
      },
      "execution_count": null,
      "outputs": [
        {
          "output_type": "execute_result",
          "data": {
            "text/plain": [
              "21.0"
            ]
          },
          "metadata": {},
          "execution_count": 16
        }
      ]
    },
    {
      "cell_type": "markdown",
      "source": [
        "### Задание 6.4\n",
        "\n",
        "С помощью классического МНК найдите коэффициенты полиномиальной регрессии, если используется полином второй степени и задан фактор $\\vec{x}$ и целевая переменная $\\vec{y}$. \\\\\n",
        "$\\vec{y} = w_0 + w_1 \\vec{x} + w_2 \\vec{x}^2$ \\\\\n",
        " \\\\\n",
        "$\\vec{x}=\\left(\\begin{array}{c}\n",
        "1 \\\\\n",
        "3 \\\\\n",
        "-2 \\\\\n",
        "9\n",
        "\\end{array}\\right) \\vec{y}=\\left(\\begin{array}{c}\n",
        "3 \\\\\n",
        "7 \\\\\n",
        "-5 \\\\\n",
        "21\n",
        "\\end{array}\\right)$\n",
        "\n",
        "\n",
        "В качестве ответа приведите координаты вектора коэффициентов $\\hat{w}_0$, $\\hat{w}_1$, $\\hat{w}_2$, **округлив их до первого знака после точки-разделителя**."
      ],
      "metadata": {
        "id": "1qBVY4D0r48o"
      }
    },
    {
      "cell_type": "code",
      "source": [
        "x = np.array([[1, 3, -2, 9]]).T\n",
        "y = np.array([3, 7, -5, 21])\n",
        "\n",
        "A = np.hstack([np.ones((4, 1)), x, x**2])\n",
        "w_hat = np.linalg.inv(A.T @ A) @ A.T @ y\n",
        "print(np.round(w_hat, 1))"
      ],
      "metadata": {
        "id": "W5AgQSOktD2Q",
        "outputId": "b4641755-b80b-437f-da92-c0c15a33121a",
        "colab": {
          "base_uri": "https://localhost:8080/"
        }
      },
      "execution_count": null,
      "outputs": [
        {
          "output_type": "stream",
          "name": "stdout",
          "text": [
            "[ 0.1  2.5 -0. ]\n"
          ]
        }
      ]
    },
    {
      "cell_type": "markdown",
      "source": [
        "## 7/11  7. Регуляризация (новый)"
      ],
      "metadata": {
        "id": "1JKB3WCQX4oG"
      }
    },
    {
      "cell_type": "markdown",
      "source": [
        "### Задание 7.4\n",
        "\n",
        "Вычислите коэффициенты линейной регрессии с $L_2$-регуляризацией, используя аналитическую формулу Тихонова, если: $\\vec{x}_1=\\left(\\begin{array}{l}\n",
        "5 \\\\\n",
        "9 \\\\\n",
        "4 \\\\\n",
        "3 \\\\\n",
        "5\n",
        "\\end{array}\\right), \\vec{x}_2=\\left(\\begin{array}{l}\n",
        "15 \\\\\n",
        "18 \\\\\n",
        "18 \\\\\n",
        "19 \\\\\n",
        "19\n",
        "\\end{array}\\right), \\vec{x}_3=\\left(\\begin{array}{l}\n",
        "7 \\\\\n",
        "6 \\\\\n",
        "7 \\\\\n",
        "7 \\\\\n",
        "7\n",
        "\\end{array}\\right) \\text { и } \\vec{y}=\\left(\\begin{array}{l}\n",
        "24 \\\\\n",
        "22 \\\\\n",
        "35 \\\\\n",
        "33 \\\\\n",
        "36\n",
        "\\end{array}\\right)$\n",
        "\n",
        "Коэффициент регуляризации $\\alpha=1$.\n",
        "\n",
        "В качестве ответа приведите значения полученных коэффициентов линейной регрессии, **округлив их до второго знака после точки-разделителя**."
      ],
      "metadata": {
        "id": "czqos263EQbx"
      }
    },
    {
      "cell_type": "code",
      "source": [
        "import numpy as np\n",
        "\n",
        "x1 = np.array([[5, 9, 4, 3, 5]]).T\n",
        "x2 = np.array([[15, 18, 18, 19, 19]]).T\n",
        "x3 = np.array([[7, 6, 7, 7, 7]]).T\n",
        "y = np.array([24, 22, 35, 33, 36])\n",
        "alpha = 1\n",
        "\n",
        "A = np.hstack([np.ones((5, 1)), x1, x2, x3])\n",
        "\n",
        "# Формула Тихонова с L2-регуляризацией\n",
        "w_ridge = np.linalg.inv(A.T @ A - alpha * np.eye(A.shape[1])) @ A.T @ y\n",
        "print('Коэффициенты регрессии:\\n', *np.round(w_ridge, 2))"
      ],
      "metadata": {
        "id": "5GsOEz_7vYYj",
        "outputId": "1626500c-72ee-40d6-d957-130893e66d14",
        "colab": {
          "base_uri": "https://localhost:8080/"
        }
      },
      "execution_count": null,
      "outputs": [
        {
          "output_type": "stream",
          "name": "stdout",
          "text": [
            "Коэффициенты регрессии:\n",
            " 0.16 -1.95 2.12 0.34\n"
          ]
        }
      ]
    },
    {
      "cell_type": "markdown",
      "source": [
        "# *BONUS. MATH&ML-3. Линейная алгебра в контексте линейных методов. Часть III (новый)"
      ],
      "metadata": {
        "id": "SlomlsNWpz14"
      }
    },
    {
      "cell_type": "markdown",
      "source": [
        "##4/9  ✏️ 4. Практика: собственные векторы и числа"
      ],
      "metadata": {
        "id": "JPjsPGupp8zm"
      }
    },
    {
      "cell_type": "markdown",
      "source": [
        "### Задание 4.1\n",
        "\n",
        "Найдите собственные числа для матрицы:\n",
        "$𝒜 =\\begin{pmatrix} 1 &  3 & 5 \\\\\n",
        "4 & -4 & 9 \\\\ 13 & 7 & 12 \\end{pmatrix}$"
      ],
      "metadata": {
        "id": "0TwA3LTBqHA0"
      }
    },
    {
      "cell_type": "code",
      "source": [
        "import numpy as np\n",
        "\n",
        "A = np.array(\n",
        "    [[1, 3,  5],\n",
        "     [4, -4,  9],\n",
        "     [13, 7, 12]]\n",
        ")\n",
        "eigen_val = np.linalg.eig(A)[0]\n",
        "print(*np.round(eigen_val))"
      ],
      "metadata": {
        "colab": {
          "base_uri": "https://localhost:8080/"
        },
        "id": "291WxOJsp_5d",
        "outputId": "c2de550d-704c-446c-8bb9-f52b41ec4dd4"
      },
      "execution_count": 9,
      "outputs": [
        {
          "output_type": "stream",
          "name": "stdout",
          "text": [
            "20.0 -4.0 -7.0\n"
          ]
        }
      ]
    },
    {
      "cell_type": "markdown",
      "source": [
        "### Задание 4.2\n",
        "\n",
        "Найдите собственные числа матрицы Грама $A^{T}A$, если:\n",
        "$A =\\begin{pmatrix} 1 &  9 & 4 \\\\\n",
        "9 & 4 & 7 \\\\ 4 & 7 & 12 \\end{pmatrix}$\n",
        "\n",
        "\n",
        "Каждое из собственных чисел округлите до целого."
      ],
      "metadata": {
        "id": "lmCDBMgUtoYI"
      }
    },
    {
      "cell_type": "code",
      "source": [
        "import numpy as np\n",
        "\n",
        "A = np.array(\n",
        "    [[1, 9,  4],\n",
        "     [9, 4,  7],\n",
        "     [4, 7, 12]]\n",
        ")\n",
        "\n",
        "eigen_val = np.linalg.eig(A.T @ A)[0]\n",
        "print(*np.round(eigen_val))"
      ],
      "metadata": {
        "colab": {
          "base_uri": "https://localhost:8080/"
        },
        "id": "gpxs7oBaujgP",
        "outputId": "ec9e9c72-5c4e-4297-86bc-7066eba2761e"
      },
      "execution_count": 12,
      "outputs": [
        {
          "output_type": "stream",
          "name": "stdout",
          "text": [
            "391.0 46.0 16.0\n"
          ]
        }
      ]
    },
    {
      "cell_type": "markdown",
      "source": [
        "##6/9  6. Метод главных компонент\n",
        "\n",
        "---\n",
        "\n"
      ],
      "metadata": {
        "id": "IIyEmdBWvgeS"
      }
    },
    {
      "cell_type": "markdown",
      "source": [
        "### Задание 6.4\n",
        "\n",
        "Допустим, мы хотим построить линейную регрессию по двум факторам: x1 и x2. Их матрица корреляций $C =\\begin{pmatrix} 1 &  0.8 \\\\\n",
        "0.8 & 1 \\end{pmatrix}$\n",
        "\n",
        "Какой признак рекомендует нам выбрать метод главных компонент?"
      ],
      "metadata": {
        "id": "lelnGk0lOyWv"
      }
    },
    {
      "cell_type": "code",
      "source": [
        "import numpy as np\n",
        "\n",
        "C = np.array(\n",
        "    [[1, 0.8],\n",
        "     [0.8, 1]]\n",
        ")\n",
        "\n",
        "eigen_val, eigen_vec = np.linalg.eig(C)\n",
        "# eigen_val, eigen_vec\n"
      ],
      "metadata": {
        "colab": {
          "base_uri": "https://localhost:8080/"
        },
        "id": "dsp1JHR0PbCc",
        "outputId": "efb0b53e-05af-4caf-caa3-db60c80d7b62"
      },
      "execution_count": 17,
      "outputs": [
        {
          "output_type": "execute_result",
          "data": {
            "text/plain": [
              "(array([1.8, 0.2]),\n",
              " array([[ 0.70710678, -0.70710678],\n",
              "        [ 0.70710678,  0.70710678]]))"
            ]
          },
          "metadata": {},
          "execution_count": 17
        }
      ]
    },
    {
      "cell_type": "markdown",
      "source": [
        "### Задание 6.5\n",
        "Условие:\n",
        "\n",
        "![image.png](data:image/png;base64,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)\n",
        "\n",
        "Выполните к этому условию задания ниже:"
      ],
      "metadata": {
        "id": "MjwIW_r5R44g"
      }
    },
    {
      "cell_type": "markdown",
      "source": [
        "#### Задание 6.5-3\n",
        "4) Выберите одну главную компоненту для дальнейшего анализа. Вычислите её значения.\n",
        "\n",
        "Введите компоненты с округлением до второго знака после запятой."
      ],
      "metadata": {
        "id": "9dgFj-HlSQaO"
      }
    },
    {
      "cell_type": "code",
      "source": [
        "import numpy as np\n",
        "\n",
        "x1 = np.array([[1, 2, 1, 1]]).T\n",
        "x2 = np.array([[70, 130, 65, 60]]).T\n",
        "C = np.array(\n",
        "    [[1, 0.9922],\n",
        "     [0.9922, 1]]\n",
        ")\n",
        "\n",
        "X = np.hstack([x1, x2])\n",
        "X_st = (X - np.mean(X, axis=0)) /\\\n",
        "np.power(np.diagonal((X - np.mean(X, axis=0)).T @ (X - np.mean(X, axis=0))), 0.5)\n",
        "# альтернативный способ подсчета\n",
        "# X_st = (X - np.mean(X, axis=0)) /\\\n",
        "#  np.array([r[i]**0.5 for i, r in\n",
        "#            enumerate((X - np.mean(X, axis=0)).T @ (X - np.mean(X, axis=0)))])\n",
        "print('Собственные значения и векторы С:\\n',\n",
        "      np.linalg.eig(C)[0],'\\n', np.linalg.eig(C)[1])\n",
        "\n",
        "NF = X_st @ np.linalg.eig(C)[1][:, 0]\n",
        "NF_st = NF / np.power((NF @ NF), 0.5)\n",
        "print('\\nНовый признак по методу PCA:\\n', *np.round(NF_st, 2))\n",
        "\n"
      ],
      "metadata": {
        "colab": {
          "base_uri": "https://localhost:8080/"
        },
        "id": "gVj2cU1DSWA-",
        "outputId": "0aca8282-23ff-4a42-d797-88d3b088f64b"
      },
      "execution_count": 53,
      "outputs": [
        {
          "output_type": "stream",
          "name": "stdout",
          "text": [
            "Собственные значения и векторы С:\n",
            " [1.9922 0.0078] \n",
            " [[ 0.70710678 -0.70710678]\n",
            " [ 0.70710678  0.70710678]]\n",
            "\n",
            "Новый признак по методу PCA:\n",
            " -0.24 0.86 -0.29 -0.33\n"
          ]
        }
      ]
    },
    {
      "cell_type": "code",
      "source": [
        "(X - np.mean(X, axis=0)) /\\\n",
        "np.power(np.diagonal((X - np.mean(X, axis=0)).T @ (X - np.mean(X, axis=0))), 0.5)\n"
      ],
      "metadata": {
        "id": "WduzOXIIs0gN",
        "outputId": "3e42d96c-6067-4606-ac6c-7217f4430094",
        "colab": {
          "base_uri": "https://localhost:8080/"
        }
      },
      "execution_count": 40,
      "outputs": [
        {
          "output_type": "execute_result",
          "data": {
            "text/plain": [
              "array([[-0.28867513, -0.19829369],\n",
              "       [ 0.8660254 ,  0.85927267],\n",
              "       [-0.28867513, -0.28642422],\n",
              "       [-0.28867513, -0.37455475]])"
            ]
          },
          "metadata": {},
          "execution_count": 40
        }
      ]
    },
    {
      "cell_type": "markdown",
      "metadata": {
        "id": "fnqTqPzlCuxR"
      },
      "source": [
        "#PYTHON-12. Работа с файлами разных форматов"
      ]
    },
    {
      "cell_type": "code",
      "metadata": {
        "id": "DAG1CPPfk5mK",
        "colab": {
          "base_uri": "https://localhost:8080/"
        },
        "outputId": "23da9ff3-f52f-4e43-c4e6-f9ea71f1b9ff"
      },
      "source": [
        "import json\n",
        "from pprint import pprint\n",
        "import pandas as pd\n",
        "import numpy as np\n",
        "\n",
        "import sys\n",
        "from google.colab import drive\n",
        "drive.mount('/content/gdrive', force_remount=True)\n",
        "sys.path.clear\n",
        "sys.path.append('/content/gdrive/MyDrive/SkillFactory')\n",
        "\n",
        "# path = 'https://raw.githubusercontent.com/akitim/datasets/main/recipes.json'\n",
        "path = '/content/gdrive/MyDrive/SkillFactory/recipes.json'\n",
        "# with open('sample_data/recipes.json') as f:\n",
        "with open(path, encoding='cp1251') as f:\n",
        "   recipes = json.load(f)\n",
        "# pprint(recipes)\n",
        "len(recipes)\n",
        "\n",
        "# Задание 1\n",
        "recipes[-1]['cuisine']\n",
        "\n",
        "# Задание 2\n",
        "len(recipes[-1]['ingredients'])\n",
        "\n",
        "# Задание 3\n",
        "# Какие из перечисленных ингредиентов присутствуют в блюде с id = 17636?\n",
        "\n",
        "# for r in recipes:\n",
        "#    if r['id'] == 17636:\n",
        "    #    display(pd.DataFrame(r['ingredients']))\n",
        "\n",
        "# Задание 4\n",
        "# for r in recipes:\n",
        "#    if r['id'] == 42013:\n",
        "    #    print(len(r['ingredients']))\n",
        "\n",
        "# Задание 5\n",
        "ch = set(['eggs','black beans','black olives','dry vermouth','chicken livers','olive oil'])\n",
        "for r in recipes:\n",
        "   if r['id'] == 23629:\n",
        "       ans = ch.difference(set(r['ingredients']))\n",
        "ans\n",
        "\n",
        "# 12.3 Группировка данных\n",
        "# Задание 1\n",
        "ingredients = set()\n",
        "for r in recipes:\n",
        "   ingredients = ingredients.union(set(r['ingredients']))\n",
        "len(ingredients)\n",
        "\n",
        "# Задание 2\n",
        "ingredients = set()\n",
        "for r in recipes:\n",
        "    if r['cuisine'] == 'italian':\n",
        "        ingredients = ingredients.union(set(r['ingredients']))\n",
        "len(ingredients)\n",
        "\n",
        "# Задание 3\n",
        "ch = set(['bacon', 'bread slices', 'buttermilk', 'red beets', 'mozzarella cheese', 'carrots'])\n",
        "ingredients_rus = set()\n",
        "for r in recipes:\n",
        "    if r['cuisine'] == 'russian':\n",
        "        ingredients_rus = ingredients_rus.union(set(r['ingredients']))\n",
        "\n",
        "ch.difference(ingredients_rus)\n",
        "\n",
        "# Задание 4\n",
        "# Какие ингредиенты входят в состав более чем 20% блюд, представленных в наборе данных?\n",
        "from collections import Counter\n",
        "\n",
        "ingredients = []\n",
        "for r in recipes:\n",
        "   ingredients += r['ingredients']\n",
        "food = Counter(ingredients)\n",
        "\n",
        "for pair in food.most_common():\n",
        "    if pair[1] < 0.2*len(recipes):\n",
        "        index20 = food.most_common().index(pair)\n",
        "        break\n",
        "[i[0] for i in food.most_common()[:index20]]\n",
        "\n",
        "# Задание 6\n",
        "for pair in food.most_common():\n",
        "    if pair[1] == 1:\n",
        "        index1 = food.most_common().index(pair)\n",
        "        break\n",
        "len(food.most_common()[index1:])\n",
        "\n",
        "# df = pd.DataFrame(recipes).explode('ingredients')\n",
        "# mask = pd.get_dummies(df, columns=['ingredients']).iloc[:, 2:].sum(axis=1) == 0\n",
        "# pd.get_dummies(df, columns=['ingredients'])[mask]"
      ],
      "execution_count": null,
      "outputs": [
        {
          "output_type": "stream",
          "name": "stdout",
          "text": [
            "Mounted at /content/gdrive\n"
          ]
        },
        {
          "output_type": "execute_result",
          "data": {
            "text/plain": [
              "684"
            ]
          },
          "metadata": {},
          "execution_count": 1
        }
      ]
    },
    {
      "cell_type": "code",
      "metadata": {
        "id": "_MipT_KSLNes"
      },
      "source": [
        "# Задание 6\n",
        "def find_item(cell):\n",
        "    if item in cell:\n",
        "        return 1\n",
        "    return 0\n",
        "\n",
        "path = '/content/gdrive/MyDrive/SkillFactory/recipes.json'\n",
        "with open(path, encoding='cp1251') as f:\n",
        "   recipes = json.load(f)\n",
        "\n",
        "ingredients = set()\n",
        "for r in recipes:\n",
        "   ingredients = ingredients.union(set(r['ingredients']))\n",
        "\n",
        "df = pd.DataFrame(recipes)\n",
        "for item in ingredients:\n",
        "    df.loc[:, item] = df.loc[:, 'ingredients'].apply(find_item)\n",
        "\n",
        "df.loc[:, 'ingredients'] = df.loc[:, 'ingredients'].apply(len)\n",
        "\n",
        "df.to_csv('/content/gdrive/MyDrive/SkillFactory/recipes.csv', index = False)"
      ],
      "execution_count": null,
      "outputs": []
    },
    {
      "cell_type": "markdown",
      "metadata": {
        "id": "8LXqBWYz3ldR"
      },
      "source": [
        "# 12.5 Создание JSON-файла"
      ]
    },
    {
      "cell_type": "code",
      "metadata": {
        "id": "yQnMSDde9lJd",
        "colab": {
          "base_uri": "https://localhost:8080/"
        },
        "outputId": "553ef58c-d6a3-4810-970f-45c239a39894"
      },
      "source": [
        "import json\n",
        "from pprint import pprint\n",
        "import pandas as pd\n",
        "import numpy as np\n",
        "\n",
        "import sys\n",
        "from google.colab import drive\n",
        "drive.mount('/content/gdrive', force_remount=True)\n",
        "sys.path.clear\n",
        "sys.path.append('/content/gdrive/MyDrive/SkillFactory')\n",
        "\n",
        "# Задание 1\n",
        "# path = '/content/gdrive/MyDrive/SkillFactory/recipes.csv'\n",
        "# df = pd.read_csv(path)\n",
        "# ids = list(df.loc[:, 'id'].unique())\n",
        "\n",
        "# Задание 2\n",
        "# ingredients = list(df.iloc[:, 3:].columns)\n",
        "\n",
        "# Задание 3\n",
        "path = '/content/gdrive/MyDrive/SkillFactory/recipes.csv'\n",
        "df = pd.read_csv(path)\n",
        "\n",
        "ids = list(df.loc[:, 'id'].unique())\n",
        "ingredients = list(df.iloc[:, 3:].columns)\n",
        "\n",
        "new_recipes = []\n",
        "\n",
        "# for i in range(df.shape[0]):\n",
        "#     new_recipes.append({\n",
        "#         'id': df.iloc[i, 0],\n",
        "#         'cuisine': df.iloc[i, 1],\n",
        "#         'ingredients': list(df.iloc[i, 3:][df.iloc[i, 3:]  == 1].index)\n",
        "#     })\n",
        "# new_recipes\n",
        "\n",
        "# Задание 3\n",
        "# path = '/content/gdrive/MyDrive/SkillFactory/recipes.csv'\n",
        "# df = pd.read_csv(path)\n",
        "ingredients = list(df.iloc[:, 3:].columns)\n",
        "def make_list(row):\n",
        "    ingr_for_id = []\n",
        "    for s in ingredients:\n",
        "        if row[s]: ingr_for_id += [s] #.append(s)\n",
        "    return ingr_for_id\n",
        "\n",
        "new_recipes = []\n",
        "for i in range(df.shape[0]):\n",
        "    new_recipes.append({\n",
        "        'id': str(df.iloc[i, 0]),\n",
        "        'cuisine': df.iloc[i, 1],\n",
        "        'ingredients': make_list(df.iloc[i, 3:])\n",
        "    })\n",
        "\n",
        "# path_write = '/content/gdrive/MyDrive/SkillFactory/new_recipes.json'\n",
        "# new_recipes = json.dumps(new_recipes)\n",
        "\n",
        "# with open(path_write, \"w\") as write_file:\n",
        "#     write_file.write(new_recipes)\n",
        "\n",
        "# with open(\"new_recipes.json\", \"w\") as write_file:\n",
        "#     json.dump(new_recipes, write_file)"
      ],
      "execution_count": null,
      "outputs": [
        {
          "output_type": "stream",
          "name": "stdout",
          "text": [
            "Mounted at /content/gdrive\n"
          ]
        }
      ]
    },
    {
      "cell_type": "markdown",
      "metadata": {
        "id": "UT0DdcPb3RSc"
      },
      "source": [
        "#12.7 Чтение Excel-файла"
      ]
    },
    {
      "cell_type": "code",
      "metadata": {
        "id": "4129n0q-L9Ty"
      },
      "source": [
        "import pandas as pd\n",
        "import numpy as np\n",
        "\n",
        "# import sys\n",
        "# from google.colab import drive\n",
        "# drive.mount('/content/gdrive', force_remount=True)\n",
        "# sys.path.clear\n",
        "# sys.path.append('/content/gdrive/MyDrive/SkillFactory')\n",
        "\n",
        "# path = '/content/gdrive/MyDrive/SkillFactory/Fig3-1.xls'\n",
        "path = 'https://lms.skillfactory.ru/assets/courseware/v1/21064f388d8e34061ed4f406c631e1a1/\\\n",
        "asset-v1:Skillfactory+DST-PRO+15APR2020+type@asset+block/Fig3-1.xls'\n",
        "df = pd.read_excel(path, header=None)\n",
        "df.shape[0]\n",
        "\n",
        "# 12.8 Продвинутое чтение Excel-файла\n",
        "data = pd.read_excel(\"https://lms.skillfactory.ru/assets/courseware\\\n",
        "/v1/33c6d423497ad69652af34c294c606f0/asset-v1:Skillfactory+DST-PRO+15APR2020+type\\\n",
        "@asset+block/nakladnaya.xls\",\n",
        "                     header=None, skiprows=0)\n",
        "data.dropna(axis=0, how='all', inplace=True)\n",
        "data.shape[0]\n",
        "\n",
        "#Задание 5\n",
        "table = data.iloc[6:8, :].dropna(axis=1, how='all')\n"
      ],
      "execution_count": null,
      "outputs": []
    },
    {
      "cell_type": "markdown",
      "metadata": {
        "id": "t6fs9vi3bHLi"
      },
      "source": [
        "#12.9 Запись в Excel-файл"
      ]
    },
    {
      "cell_type": "code",
      "metadata": {
        "id": "UmbrxFo5_Jgy",
        "colab": {
          "base_uri": "https://localhost:8080/"
        },
        "outputId": "e9865ab9-6b53-48b0-c9bf-ae45a47dbabb"
      },
      "source": [
        "# table.to_csv(\"table.csv\")\n",
        "# table.to_excel(\"table.xls\", index=False)\n",
        "\n",
        "# writer = pd.ExcelWriter('test.xlsx')\n",
        "\n",
        "# %pip install xlsxwriter\n",
        "\n",
        "writer = pd.ExcelWriter('test1.xlsx', engine='xlsxwriter')\n",
        "table.to_excel(writer, index=False, sheet_name='Таблица')\n",
        "writer.save()\n",
        "\n",
        "workbook = writer.book\n",
        "worksheet = writer.sheets['Таблица']\n",
        "\n",
        "money_fmt = workbook.add_format({'bold': True})\n",
        "name_fmt = workbook.add_format({'color': 'red'})\n",
        "\n",
        "worksheet.set_column('E:F', 20, money_fmt)\n",
        "worksheet.set_column(1, 1, 100, name_fmt)\n",
        "# data.iloc[0, 4][2:9]"
      ],
      "execution_count": null,
      "outputs": [
        {
          "output_type": "stream",
          "name": "stdout",
          "text": [
            "Requirement already satisfied: xlsxwriter in /usr/local/lib/python3.7/dist-packages (3.0.1)\n"
          ]
        },
        {
          "output_type": "execute_result",
          "data": {
            "text/plain": [
              "0"
            ]
          },
          "metadata": {},
          "execution_count": 16
        }
      ]
    },
    {
      "cell_type": "markdown",
      "metadata": {
        "id": "5GsWRHwvc-L1"
      },
      "source": [
        "#12.10 Формат XML"
      ]
    },
    {
      "cell_type": "code",
      "metadata": {
        "colab": {
          "base_uri": "https://localhost:8080/"
        },
        "id": "795PRG-kc-Zd",
        "outputId": "f6386e1a-1d8b-43e0-e42b-bcd0d8c5a0ea"
      },
      "source": [
        "import xml.etree.ElementTree as ET\n",
        "import numpy as np\n",
        "import warnings; warnings.filterwarnings('ignore')\n",
        "\n",
        "# !pip install xmljson\n",
        "import xmljson as xj\n",
        "\n",
        "path = 'menu.xml'\n",
        "tree = ET.parse(path)\n",
        "root = tree.getroot()\n",
        "root[0][1].tag\n",
        "\n",
        "# Задание 4\n",
        "len(root[0])\n",
        "\n",
        "df_index = ['name', 'price', 'weight', 'class']\n",
        "df = pd.DataFrame(columns=df_index)\n",
        "\n",
        "for elem in root:\n",
        "    elements = [elem.get('name'), elem[0].text, elem[1].text, elem[2].text]\n",
        "    df = df.append(pd.Series(elements, index=df_index), ignore_index=True)\n",
        "\n",
        "xj.parker.data(root)\n",
        "\n",
        "root[0]"
      ],
      "execution_count": null,
      "outputs": [
        {
          "output_type": "execute_result",
          "data": {
            "text/plain": [
              "<Element 'dish' at 0x7f9042092830>"
            ]
          },
          "metadata": {},
          "execution_count": 84
        }
      ]
    },
    {
      "cell_type": "markdown",
      "metadata": {
        "id": "1tiUOEmrNlXj"
      },
      "source": [
        "#12.13 Запись в XML-файл"
      ]
    },
    {
      "cell_type": "code",
      "metadata": {
        "id": "l1sIT9uwNnA8"
      },
      "source": [
        "import xml.etree.ElementTree as ET\n",
        "import numpy as np\n",
        "import warnings; warnings.filterwarnings('ignore')\n",
        "\n",
        "new_root = ET.Element('menu')\n",
        "dish_1 = ET.SubElement(new_root, 'dish')\n",
        "dish_2 = ET.SubElement(new_root, 'dish')\n",
        "new_root.getchildren()\n",
        "\n",
        "new_root_string = ET.tostring(new_root)\n",
        "new_root_string\n",
        "\n",
        "path = '/content/gdrive/MyDrive/SkillFactory/new_menu.xml'\n",
        "path2 = '/content/gdrive/MyDrive/SkillFactory/new_menu_good.xml'\n",
        "\n",
        "# with open(path, \"wb\") as f:\n",
        "#     f.write(new_root_string)\n",
        "ET.ElementTree(new_root).write(path2, encoding=\"utf-8\")"
      ],
      "execution_count": null,
      "outputs": []
    },
    {
      "cell_type": "markdown",
      "metadata": {
        "id": "tBPdh3GvZX1m"
      },
      "source": [
        "https://onlinemanuals.ru/manual/klassifikaciya-i-organizaciya-pomeshhenij-dlya-proizvodstva-nesterilnyx-lekarstvennyx-sredstv?page=4&\n",
        "https://docs.cntd.ru/document/1200157235"
      ]
    },
    {
      "cell_type": "markdown",
      "metadata": {
        "id": "gwuo20PXpNt-"
      },
      "source": [
        "#*PYTHON-13. Работа с датами"
      ]
    },
    {
      "cell_type": "code",
      "metadata": {
        "colab": {
          "base_uri": "https://localhost:8080/",
          "height": 201
        },
        "id": "hMe_8SHI7tk_",
        "outputId": "b3a363f2-b837-4961-d596-aca7a4988438"
      },
      "source": [
        "import time\n",
        "# 31 декабря 2018 года\n",
        "time('31-12-2018')"
      ],
      "execution_count": null,
      "outputs": [
        {
          "output_type": "error",
          "ename": "TypeError",
          "evalue": "ignored",
          "traceback": [
            "\u001b[0;31m---------------------------------------------------------------------------\u001b[0m",
            "\u001b[0;31mTypeError\u001b[0m                                 Traceback (most recent call last)",
            "\u001b[0;32m<ipython-input-15-ad32906570ab>\u001b[0m in \u001b[0;36m<module>\u001b[0;34m()\u001b[0m\n\u001b[1;32m      1\u001b[0m \u001b[0;32mimport\u001b[0m \u001b[0mtime\u001b[0m\u001b[0;34m\u001b[0m\u001b[0;34m\u001b[0m\u001b[0m\n\u001b[1;32m      2\u001b[0m \u001b[0;31m# 31 декабря 2018 года\u001b[0m\u001b[0;34m\u001b[0m\u001b[0;34m\u001b[0m\u001b[0;34m\u001b[0m\u001b[0m\n\u001b[0;32m----> 3\u001b[0;31m \u001b[0mtime\u001b[0m\u001b[0;34m(\u001b[0m\u001b[0;34m'31-12-2018'\u001b[0m\u001b[0;34m)\u001b[0m\u001b[0;34m\u001b[0m\u001b[0;34m\u001b[0m\u001b[0m\n\u001b[0m",
            "\u001b[0;31mTypeError\u001b[0m: 'module' object is not callable"
          ]
        }
      ]
    },
    {
      "cell_type": "markdown",
      "metadata": {
        "id": "hgEV_eWxZoDQ"
      },
      "source": [
        "#PYTHON-14. Классы и ООП\n",
        "#14.5. Атрибуты и методы"
      ]
    },
    {
      "cell_type": "code",
      "metadata": {
        "id": "bU2sG9kmE3QC",
        "colab": {
          "base_uri": "https://localhost:8080/"
        },
        "outputId": "2f1e0a78-41d4-4ee8-a208-43e188fb4bcb"
      },
      "source": [
        "# Задание\n",
        "class DepartmentReport:\n",
        "    def __init__(self, company_name):\n",
        "        self.revenues = []\n",
        "        self.company_name = company_name\n",
        "\n",
        "    def add_revenue(self, rev_to_add):\n",
        "        # if not hasattr(self, 'revenues'):\n",
        "        #     self.revenues = []\n",
        "        self.revenues += [rev_to_add]\n",
        "        return self\n",
        "\n",
        "    def average_revenue(self):\n",
        "        return f\"Average department revenue for {self.company_name}: \\\n",
        "{round(sum(self.revenues) / len(self.revenues))}\"\n",
        "\n",
        "rep = DepartmentReport('x')\n",
        "rep.revenues = [120, 270]\n",
        "\n",
        "rep.add_revenue(1000).revenues\n",
        "rep.average_revenue()\n",
        "\n",
        "# 14.6. Метод __init__\n",
        "# Задание\n",
        "# см. выше\n",
        "report = DepartmentReport(\"Danon\")\n",
        "report.add_revenue(1_000_000)\n",
        "report.add_revenue(400_000)\n",
        "# print(report.average_revenue())\n",
        "\n",
        "# Задание\n",
        "# Определите класс для пользователей User:\n",
        "# у него должны быть атрибуты email, password и balance, которые устанавливаются при инициализии;\n",
        "# у него должен быть метод login, который принимает емейл и пароль, если они совпадают\n",
        "# с атрибутами объекта, он возвращает True, а иначе False;\n",
        "# должен быть метод update_balance(amount), который изменяет баланс счёта на величину amount.\n",
        "\n",
        "class User:\n",
        "\n",
        "    def __init__(self, email, password, balance):\n",
        "        self.email = email\n",
        "        self.password = password\n",
        "        self.balance = balance\n",
        "\n",
        "    def login(self, email, password):\n",
        "        return self.email == email and self.password == password\n",
        "\n",
        "    def update_balance(self, amount):\n",
        "        self.balance += amount\n",
        "\n",
        "# user = User(\"gosha@roskino.org\", \"qwerty\", 20_000)\n",
        "# user.login(\"gosha@roskino.org\", \"qwerty123\")\n",
        "# # => False\n",
        "# user.login(\"gosha@roskino.org\", \"qwerty\")\n",
        "# user.update_balance(200)\n",
        "# user.update_balance(-500)\n",
        "# print(user.balance)\n",
        "# # => 19700\n",
        "\n",
        " # Задание\n",
        "#  Определите класс IntDataFrame, который принимает список и все числа в этом списке\n",
        "#  приводит к целым значениям. После этого у него доступен метод count, который считает\n",
        "#  количество ненулевых элементов; и метод unique, который возвращает число уникальных элементов.\n",
        "\n",
        "class IntDataFrame:\n",
        "\n",
        "    def __init__(self, list_):\n",
        "        self.list_ = list_\n",
        "        self.to_int()\n",
        "\n",
        "    def to_int(self):\n",
        "        self.list_ = [int(float(el)) if all(list(map(lambda s: s.isnumeric(), str(el).split('.')))) else el for el in self.list_]\n",
        "        return None\n",
        "\n",
        "    def count(self):\n",
        "        return len([el for el in self.list_ if el])\n",
        "\n",
        "    def unique(self):\n",
        "        return len(set(self.list_))\n",
        "\n",
        "df = IntDataFrame([4.7, 4, 3, 0, 2.4, 0.3, 4])\n",
        "\n",
        "df.count()\n",
        "# => 5\n",
        "df.unique()\n",
        "# => 4"
      ],
      "execution_count": null,
      "outputs": [
        {
          "output_type": "execute_result",
          "data": {
            "text/plain": [
              "4"
            ]
          },
          "metadata": {},
          "execution_count": 39
        }
      ]
    },
    {
      "cell_type": "markdown",
      "metadata": {
        "id": "g244z7VwvNIE"
      },
      "source": [
        "#14.11. Класс-обёртка"
      ]
    },
    {
      "cell_type": "code",
      "metadata": {
        "id": "TDddyrmuHtY6",
        "colab": {
          "base_uri": "https://localhost:8080/"
        },
        "outputId": "c1d7a3b9-d26b-4274-d2cc-e53e4193da3a"
      },
      "source": [
        "import pickle\n",
        "from datetime import datetime\n",
        "from os import path\n",
        "\n",
        "class Dumper():\n",
        "    def __init__(self, archive_dir=\"archive/\"):\n",
        "        self.archive_dir = archive_dir\n",
        "\n",
        "    def dump(self, data):\n",
        "        # Библиотека pickle позволяет доставать и класть объекты в файл\n",
        "        with open(self.get_file_name(), 'wb') as file:\n",
        "            pickle.dump(data, file)\n",
        "\n",
        "    def load_for_day(self, day):\n",
        "        file_name = path.join(self.archive_dir, day + \".pkl\")\n",
        "        with open(file_name, 'rb') as file:\n",
        "            sets = pickle.load(file)\n",
        "        return sets\n",
        "\n",
        "    # возвращает корректное имя для файла\n",
        "    def get_file_name(self):\n",
        "        today = datetime.now().strftime(\"%y-%m-%d\")\n",
        "        return path.join(self.archive_dir, today + \".pkl\")\n",
        "\n",
        "\n",
        "# Пример использования\n",
        "\n",
        "data = {\n",
        "    'perfomance': [10, 20, 10],\n",
        "    'clients': {\"Romashka\": 10, \"Vector\": 34}\n",
        "}\n",
        "\n",
        "\n",
        "dumper = Dumper()\n",
        "\n",
        "# Сохраним данные\n",
        "dumper.dump(data)\n",
        "\n",
        "# Восстановим для сегодняшней даты\n",
        "file_name = datetime.now().strftime(\"%y-%m-%d\")\n",
        "restored_data = dumper.load_for_day(file_name)\n",
        "print(restored_data)\n",
        "# => {'perfomance': [10, 20, 10], 'clients': {'Romashka': 10, 'Vector': 34}}"
      ],
      "execution_count": null,
      "outputs": [
        {
          "output_type": "stream",
          "name": "stdout",
          "text": [
            "{'perfomance': [10, 20, 10], 'clients': {'Romashka': 10, 'Vector': 34}}\n"
          ]
        }
      ]
    },
    {
      "cell_type": "code",
      "metadata": {
        "id": "GOgHUzJD1NWt",
        "colab": {
          "base_uri": "https://localhost:8080/"
        },
        "outputId": "bb2c924f-54ab-42b9-f9cb-8aed8f7a7fec"
      },
      "source": [
        "#Задание\n",
        "#Напишите класс сборщика технических сообщений OwnLogger\n",
        "#У него должен быть метод log(message, level),\n",
        "#который записывает сообщения. Здесь сообщение\n",
        "#message может быть любым, а level — один из \"info\",\n",
        "#\"warning\", \"error\". И метод show_last(level), где\n",
        "#level может быть \"info\", \"warning\", \"error\", \"all\".\n",
        "#Для \"all\" он просто возвращает последнее добавленное\n",
        "#сообщение, а для остальных — последнее поступившее сообщение\n",
        "#соответствующего уровня. При этом по умолчанию\n",
        "#значение именно \"all\". Если подходящего сообщения нет,\n",
        "#возвращает None.\n",
        "class OwnLogger:\n",
        "\n",
        "    def __init__(self):\n",
        "        self.messages = []\n",
        "\n",
        "    def log(self, message, level):\n",
        "        self.messages = [{level: message}] + self.messages\n",
        "\n",
        "    def show_last(self, level='all'):\n",
        "        if level == 'all':\n",
        "            return list(self.messages[0].values())[0]\n",
        "        for m in self.messages:\n",
        "            if level in m.keys():\n",
        "                return m[level]\n",
        "                break\n",
        "        return None\n",
        "\n",
        "# logger = OwnLogger()\n",
        "# logger.log(\"System started\", \"info\")\n",
        "# print(logger.show_last(\"error\"))\n",
        "\n",
        "# logger.log(\"Connection instable\", \"warning\")\n",
        "# logger.log(\"Connection lost\", \"error\")\n",
        "\n",
        "# logger.show_last()\n",
        "# logger.show_last(\"info\")\n",
        "# logger.messages"
      ],
      "execution_count": null,
      "outputs": [
        {
          "output_type": "stream",
          "name": "stdout",
          "text": [
            "None\n"
          ]
        },
        {
          "output_type": "execute_result",
          "data": {
            "text/plain": [
              "[{'error': 'Connection lost'},\n",
              " {'warning': 'Connection instable'},\n",
              " {'info': 'System started'}]"
            ]
          },
          "metadata": {},
          "execution_count": 14
        }
      ]
    },
    {
      "cell_type": "code",
      "metadata": {
        "id": "7BHr0oe3TbFU"
      },
      "source": [
        "# Задание 3\n",
        "from datetime import datetime, timedelta\n",
        "datetime(2018, 12, 31, 0, 0, 0).timestamp()\n",
        "datetime(2018, 12, 31, 0, 0, 0).strftime('%d-%m-%Y, %a, %H:%M')\n",
        "datetime(2018, 12, 31, 0, 0, 0).strftime('%d-%m-%Y %A')\n",
        "\n",
        "# Задание 12\n",
        "datetime(2019, 1, 1, 0, 0, 0).timestamp()\n",
        "\n",
        "# Задание 13\n",
        "(datetime(2019, 1, 31, 0, 0, 0) - datetime(2019, 1, 1, 0, 0, 0)).total_seconds()\n",
        "\n",
        "# Задание 14\n",
        "(datetime(2021, 1, 2, 0, 0) - datetime(2021, 1, 1, 0, 0)).total_seconds()\n",
        "\n",
        "# 13.12 Задания на преобразования дат\n",
        "# Задание 1\n",
        "from datetime import datetime\n",
        "date_string = '2019-07-07T18:59:33'\n",
        "date_format = datetime.strptime(date_string, '%Y-%m-%dT%H:%M:%S').strftime('%d.%m.%Y')\n",
        "\n",
        "# Задание 2\n",
        "dt_list = ['2019-07-07T18:59:06', '2019-07-07T19:00:02', '2019-07-07T19:01:04']\n",
        "# datetime_list = list(map(lambda dt: datetime.strptime(dt, '%Y-%m-%dT%H:%M:%S'), dt_list))\n",
        "datetime_list = [datetime.strptime(dt, '%Y-%m-%dT%H:%M:%S') for dt in dt_list]\n",
        "datetime_list\n",
        "\n",
        "# Задание 3\n",
        "# 18:59:00, 19:00:00 и 19:01:00\n",
        "dtl = [\n",
        "       datetime(2019, 7, 7, 18, 59, 0),\n",
        "       datetime(2019, 7, 7, 19, 0, 0),\n",
        "       datetime(2019, 7, 7, 19, 1, 0)\n",
        "]\n",
        "diff = [x - y for x, y in zip(datetime_list, dtl)]\n",
        "report_seconds = [t.total_seconds() for t in diff]\n",
        "\n",
        "# Задание 4\n"
      ],
      "execution_count": null,
      "outputs": []
    },
    {
      "cell_type": "markdown",
      "metadata": {
        "id": "ZkJsJiG5UxZA"
      },
      "source": [
        "#Проект 3. О вкусной и здоровой пище"
      ]
    },
    {
      "cell_type": "code",
      "metadata": {
        "colab": {
          "base_uri": "https://localhost:8080/",
          "height": 805
        },
        "id": "GiL1pU4IU3KQ",
        "outputId": "0d3b60c6-097c-4567-c0ff-60afb0576e13"
      },
      "source": [
        "import pandas as pd\n",
        "\n",
        "path = 'https://raw.githubusercontent.com/akitim/datasets/main/main_task_new.csv'\n",
        "rest = pd.read_csv(path)\n",
        "\n",
        "# 2.1 Задание 1\n",
        "# Какие столбцы НЕ содержат пропущенных (None) значений?\n",
        "# rest.info()\n",
        "\n",
        "print('\\nЕсть пропуски в столбцах:\\n',\n",
        "*list(rest.loc[:, rest.apply(pd.isna).any(axis=0)].columns))\n",
        "\n",
        "print('\\nНет пропусков в столбцах:\\n',\n",
        "*list(rest.loc[:, ~rest.apply(pd.isna).any(axis=0)].columns), '\\n')\n",
        "\n",
        "# 2.2 Задание 2\n",
        "#rest.loc[0, :].apply(type) != str\n",
        "\n",
        "# 2.3 Задание 3\n",
        "#Приведение 'кухни' к списку\n",
        "#rest.loc[0, 'Cuisine Style'].split(', ')\n",
        "#[s.replace('[', '').replace(']', '').replace(\"'\", \"\") for s in rest.loc[0, 'Cuisine Style'].split(', ')]\n",
        "\n",
        "rest.columns = ['id', 'city', 'cuisine', 'ranking', 'rating', 'price_range', 'rev_number', 'reviews', 'url_TA', 'id_TA']\n",
        "rest"
      ],
      "execution_count": null,
      "outputs": [
        {
          "output_type": "stream",
          "name": "stdout",
          "text": [
            "\n",
            "Есть пропуски в столбцах:\n",
            " Cuisine Style Price Range Number of Reviews\n",
            "\n",
            "Нет пропусков в столбцах:\n",
            " Restaurant_id City Ranking Rating Reviews URL_TA ID_TA \n",
            "\n"
          ]
        },
        {
          "output_type": "execute_result",
          "data": {
            "text/html": [
              "<div>\n",
              "<style scoped>\n",
              "    .dataframe tbody tr th:only-of-type {\n",
              "        vertical-align: middle;\n",
              "    }\n",
              "\n",
              "    .dataframe tbody tr th {\n",
              "        vertical-align: top;\n",
              "    }\n",
              "\n",
              "    .dataframe thead th {\n",
              "        text-align: right;\n",
              "    }\n",
              "</style>\n",
              "<table border=\"1\" class=\"dataframe\">\n",
              "  <thead>\n",
              "    <tr style=\"text-align: right;\">\n",
              "      <th></th>\n",
              "      <th>id</th>\n",
              "      <th>city</th>\n",
              "      <th>cuisine</th>\n",
              "      <th>ranking</th>\n",
              "      <th>rating</th>\n",
              "      <th>price_range</th>\n",
              "      <th>rev_number</th>\n",
              "      <th>reviews</th>\n",
              "      <th>url_TA</th>\n",
              "      <th>id_TA</th>\n",
              "    </tr>\n",
              "  </thead>\n",
              "  <tbody>\n",
              "    <tr>\n",
              "      <th>0</th>\n",
              "      <td>id_5569</td>\n",
              "      <td>Paris</td>\n",
              "      <td>['European', 'French', 'International']</td>\n",
              "      <td>5570.0</td>\n",
              "      <td>3.5</td>\n",
              "      <td>$$ - $$$</td>\n",
              "      <td>194.0</td>\n",
              "      <td>[['Good food at your doorstep', 'A good hotel ...</td>\n",
              "      <td>/Restaurant_Review-g187147-d1912643-Reviews-R_...</td>\n",
              "      <td>d1912643</td>\n",
              "    </tr>\n",
              "    <tr>\n",
              "      <th>1</th>\n",
              "      <td>id_1535</td>\n",
              "      <td>Stockholm</td>\n",
              "      <td>NaN</td>\n",
              "      <td>1537.0</td>\n",
              "      <td>4.0</td>\n",
              "      <td>NaN</td>\n",
              "      <td>10.0</td>\n",
              "      <td>[['Unique cuisine', 'Delicious Nepalese food']...</td>\n",
              "      <td>/Restaurant_Review-g189852-d7992032-Reviews-Bu...</td>\n",
              "      <td>d7992032</td>\n",
              "    </tr>\n",
              "    <tr>\n",
              "      <th>2</th>\n",
              "      <td>id_352</td>\n",
              "      <td>London</td>\n",
              "      <td>['Japanese', 'Sushi', 'Asian', 'Grill', 'Veget...</td>\n",
              "      <td>353.0</td>\n",
              "      <td>4.5</td>\n",
              "      <td>$$$$</td>\n",
              "      <td>688.0</td>\n",
              "      <td>[['Catch up with friends', 'Not exceptional'],...</td>\n",
              "      <td>/Restaurant_Review-g186338-d8632781-Reviews-RO...</td>\n",
              "      <td>d8632781</td>\n",
              "    </tr>\n",
              "    <tr>\n",
              "      <th>3</th>\n",
              "      <td>id_3456</td>\n",
              "      <td>Berlin</td>\n",
              "      <td>NaN</td>\n",
              "      <td>3458.0</td>\n",
              "      <td>5.0</td>\n",
              "      <td>NaN</td>\n",
              "      <td>3.0</td>\n",
              "      <td>[[], []]</td>\n",
              "      <td>/Restaurant_Review-g187323-d1358776-Reviews-Es...</td>\n",
              "      <td>d1358776</td>\n",
              "    </tr>\n",
              "    <tr>\n",
              "      <th>4</th>\n",
              "      <td>id_615</td>\n",
              "      <td>Munich</td>\n",
              "      <td>['German', 'Central European', 'Vegetarian Fri...</td>\n",
              "      <td>621.0</td>\n",
              "      <td>4.0</td>\n",
              "      <td>$$ - $$$</td>\n",
              "      <td>84.0</td>\n",
              "      <td>[['Best place to try a Bavarian food', 'Nice b...</td>\n",
              "      <td>/Restaurant_Review-g187309-d6864963-Reviews-Au...</td>\n",
              "      <td>d6864963</td>\n",
              "    </tr>\n",
              "    <tr>\n",
              "      <th>...</th>\n",
              "      <td>...</td>\n",
              "      <td>...</td>\n",
              "      <td>...</td>\n",
              "      <td>...</td>\n",
              "      <td>...</td>\n",
              "      <td>...</td>\n",
              "      <td>...</td>\n",
              "      <td>...</td>\n",
              "      <td>...</td>\n",
              "      <td>...</td>\n",
              "    </tr>\n",
              "    <tr>\n",
              "      <th>39995</th>\n",
              "      <td>id_499</td>\n",
              "      <td>Milan</td>\n",
              "      <td>['Italian', 'Vegetarian Friendly', 'Vegan Opti...</td>\n",
              "      <td>500.0</td>\n",
              "      <td>4.5</td>\n",
              "      <td>$$ - $$$</td>\n",
              "      <td>79.0</td>\n",
              "      <td>[['The real Italian experience!', 'Wonderful f...</td>\n",
              "      <td>/Restaurant_Review-g187849-d2104414-Reviews-Ro...</td>\n",
              "      <td>d2104414</td>\n",
              "    </tr>\n",
              "    <tr>\n",
              "      <th>39996</th>\n",
              "      <td>id_6340</td>\n",
              "      <td>Paris</td>\n",
              "      <td>['French', 'American', 'Bar', 'European', 'Veg...</td>\n",
              "      <td>6341.0</td>\n",
              "      <td>3.5</td>\n",
              "      <td>$$ - $$$</td>\n",
              "      <td>542.0</td>\n",
              "      <td>[['Parisian atmosphere', 'Bit pricey but inter...</td>\n",
              "      <td>/Restaurant_Review-g187147-d1800036-Reviews-La...</td>\n",
              "      <td>d1800036</td>\n",
              "    </tr>\n",
              "    <tr>\n",
              "      <th>39997</th>\n",
              "      <td>id_1649</td>\n",
              "      <td>Stockholm</td>\n",
              "      <td>['Japanese', 'Sushi']</td>\n",
              "      <td>1652.0</td>\n",
              "      <td>4.5</td>\n",
              "      <td>NaN</td>\n",
              "      <td>4.0</td>\n",
              "      <td>[['Good by swedish standards', 'A hidden jewel...</td>\n",
              "      <td>/Restaurant_Review-g189852-d947615-Reviews-Sus...</td>\n",
              "      <td>d947615</td>\n",
              "    </tr>\n",
              "    <tr>\n",
              "      <th>39998</th>\n",
              "      <td>id_640</td>\n",
              "      <td>Warsaw</td>\n",
              "      <td>['Polish', 'European', 'Eastern European', 'Ce...</td>\n",
              "      <td>641.0</td>\n",
              "      <td>4.0</td>\n",
              "      <td>$$ - $$$</td>\n",
              "      <td>70.0</td>\n",
              "      <td>[['Underground restaurant', 'Oldest Restaurant...</td>\n",
              "      <td>/Restaurant_Review-g274856-d1100838-Reviews-Ho...</td>\n",
              "      <td>d1100838</td>\n",
              "    </tr>\n",
              "    <tr>\n",
              "      <th>39999</th>\n",
              "      <td>id_4824</td>\n",
              "      <td>Milan</td>\n",
              "      <td>['Spanish']</td>\n",
              "      <td>4827.0</td>\n",
              "      <td>3.0</td>\n",
              "      <td>$$ - $$$</td>\n",
              "      <td>260.0</td>\n",
              "      <td>[['Average', 'Nice an informal'], ['01/31/2016...</td>\n",
              "      <td>/Restaurant_Review-g187849-d1109020-Reviews-Ta...</td>\n",
              "      <td>d1109020</td>\n",
              "    </tr>\n",
              "  </tbody>\n",
              "</table>\n",
              "<p>40000 rows × 10 columns</p>\n",
              "</div>"
            ],
            "text/plain": [
              "            id  ...     id_TA\n",
              "0      id_5569  ...  d1912643\n",
              "1      id_1535  ...  d7992032\n",
              "2       id_352  ...  d8632781\n",
              "3      id_3456  ...  d1358776\n",
              "4       id_615  ...  d6864963\n",
              "...        ...  ...       ...\n",
              "39995   id_499  ...  d2104414\n",
              "39996  id_6340  ...  d1800036\n",
              "39997  id_1649  ...   d947615\n",
              "39998   id_640  ...  d1100838\n",
              "39999  id_4824  ...  d1109020\n",
              "\n",
              "[40000 rows x 10 columns]"
            ]
          },
          "metadata": {},
          "execution_count": 26
        }
      ]
    },
    {
      "cell_type": "code",
      "metadata": {
        "colab": {
          "base_uri": "https://localhost:8080/"
        },
        "id": "EeYFGBW6ByCM",
        "outputId": "7d3d91e6-fbb9-4c35-ab03-5257340b7284"
      },
      "source": [
        "# rest.loc[0:100, 'reviews'].to_list()\n",
        "path = 'https://raw.githubusercontent.com/akitim/datasets/main/main_task_new.csv'\n",
        "rest = pd.read_csv(path)\n",
        "\n",
        "rest.columns = ['id', 'city', 'cuisine', 'ranking', 'rating', 'price_range', 'rev_number', 'reviews', 'url_TA', 'id_TA']\n",
        "\n",
        "# 4.1 Вопросы о ценах\n",
        "rest.loc[:, 'price_range'].dropna().unique()\n",
        "rest.loc[rest.loc[:, 'price_range'] == '$$ - $$$', 'price_range'].count()\n",
        "\n",
        "# 4.2 Вопрос о городах\n",
        "len(rest.loc[:, 'city'].unique())\n",
        "\n",
        "# 4.3 Вопросы о кухнях\n",
        "rest.loc[:, 'cuisine'] =\\\n",
        "rest.loc[:, 'cuisine'].fillna(value='[]').apply(\n",
        "    lambda cuisine_list_for_id: \\\n",
        "    [s.replace(\"'\", \"\") for s in cuisine_list_for_id[2:-2].split(', ')]\\\n",
        ")\n",
        "\n",
        "cuisine_list = []\n",
        "for x in rest.loc[:, 'cuisine']:\n",
        "    cuisine_list += x\n",
        "len(set(cuisine_list).difference(set([''])))\n",
        "\n",
        "from collections import Counter\n",
        "Counter(cuisine_list).most_common(1)[0][0]\n",
        "\n",
        "round(\n",
        "    rest.loc[:, 'cuisine'].apply(lambda x: len(x) if x != [] else 1).mean(),\n",
        "    1\n",
        ")\n",
        "\n",
        "# 4.4 Вопросы об отзывах\n",
        "rest.loc[1000, 'reviews'].split(',') #apply()\n",
        "# rest\n"
      ],
      "execution_count": null,
      "outputs": [
        {
          "output_type": "execute_result",
          "data": {
            "text/plain": [
              "[\"[['Lovely\",\n",
              " ' lovelier',\n",
              " \" loveliest'\",\n",
              " \" 'Average at best']\",\n",
              " \" ['07/19/2017'\",\n",
              " \" '06/15/2016']]\"]"
            ]
          },
          "metadata": {},
          "execution_count": 94
        }
      ]
    },
    {
      "cell_type": "code",
      "metadata": {
        "id": "0s72_BxjfPIQ",
        "colab": {
          "base_uri": "https://localhost:8080/",
          "height": 683
        },
        "outputId": "06d7c7e2-0732-471b-d6ce-8a78ca541a71"
      },
      "source": [
        "#Предобработка\n",
        "# rest.loc[0, :].apply(type)\n",
        "# rest.dropna(axis=0, inplace=True)\n",
        "\n",
        "rest.loc[:, 'cuisine'] =\\\n",
        "rest.loc[:, 'cuisine'].apply(\n",
        "    lambda cuisine_list_for_id: \\\n",
        "    [s.replace(\"'\", \"\") for s in cuisine_list_for_id[2:-2].split(', ')]\\\n",
        "    if not(pd.isna(cuisine_list_for_id)) else []\n",
        ")\n",
        "\n",
        "# rest.loc[0, 'Cuisine Style'][0]\n",
        "# rest.get_dummies()\n",
        "rest"
      ],
      "execution_count": null,
      "outputs": [
        {
          "output_type": "execute_result",
          "data": {
            "text/html": [
              "<div>\n",
              "<style scoped>\n",
              "    .dataframe tbody tr th:only-of-type {\n",
              "        vertical-align: middle;\n",
              "    }\n",
              "\n",
              "    .dataframe tbody tr th {\n",
              "        vertical-align: top;\n",
              "    }\n",
              "\n",
              "    .dataframe thead th {\n",
              "        text-align: right;\n",
              "    }\n",
              "</style>\n",
              "<table border=\"1\" class=\"dataframe\">\n",
              "  <thead>\n",
              "    <tr style=\"text-align: right;\">\n",
              "      <th></th>\n",
              "      <th>id</th>\n",
              "      <th>city</th>\n",
              "      <th>cuisine</th>\n",
              "      <th>ranking</th>\n",
              "      <th>rating</th>\n",
              "      <th>price_range</th>\n",
              "      <th>rev_number</th>\n",
              "      <th>reviews</th>\n",
              "      <th>url_TA</th>\n",
              "      <th>id_TA</th>\n",
              "    </tr>\n",
              "  </thead>\n",
              "  <tbody>\n",
              "    <tr>\n",
              "      <th>0</th>\n",
              "      <td>id_5569</td>\n",
              "      <td>Paris</td>\n",
              "      <td>[European, French, International]</td>\n",
              "      <td>5570.0</td>\n",
              "      <td>3.5</td>\n",
              "      <td>$$ - $$$</td>\n",
              "      <td>194.0</td>\n",
              "      <td>[['Good food at your doorstep', 'A good hotel ...</td>\n",
              "      <td>/Restaurant_Review-g187147-d1912643-Reviews-R_...</td>\n",
              "      <td>d1912643</td>\n",
              "    </tr>\n",
              "    <tr>\n",
              "      <th>1</th>\n",
              "      <td>id_1535</td>\n",
              "      <td>Stockholm</td>\n",
              "      <td>[]</td>\n",
              "      <td>1537.0</td>\n",
              "      <td>4.0</td>\n",
              "      <td>NaN</td>\n",
              "      <td>10.0</td>\n",
              "      <td>[['Unique cuisine', 'Delicious Nepalese food']...</td>\n",
              "      <td>/Restaurant_Review-g189852-d7992032-Reviews-Bu...</td>\n",
              "      <td>d7992032</td>\n",
              "    </tr>\n",
              "    <tr>\n",
              "      <th>2</th>\n",
              "      <td>id_352</td>\n",
              "      <td>London</td>\n",
              "      <td>[Japanese, Sushi, Asian, Grill, Vegetarian Fri...</td>\n",
              "      <td>353.0</td>\n",
              "      <td>4.5</td>\n",
              "      <td>$$$$</td>\n",
              "      <td>688.0</td>\n",
              "      <td>[['Catch up with friends', 'Not exceptional'],...</td>\n",
              "      <td>/Restaurant_Review-g186338-d8632781-Reviews-RO...</td>\n",
              "      <td>d8632781</td>\n",
              "    </tr>\n",
              "    <tr>\n",
              "      <th>3</th>\n",
              "      <td>id_3456</td>\n",
              "      <td>Berlin</td>\n",
              "      <td>[]</td>\n",
              "      <td>3458.0</td>\n",
              "      <td>5.0</td>\n",
              "      <td>NaN</td>\n",
              "      <td>3.0</td>\n",
              "      <td>[[], []]</td>\n",
              "      <td>/Restaurant_Review-g187323-d1358776-Reviews-Es...</td>\n",
              "      <td>d1358776</td>\n",
              "    </tr>\n",
              "    <tr>\n",
              "      <th>4</th>\n",
              "      <td>id_615</td>\n",
              "      <td>Munich</td>\n",
              "      <td>[German, Central European, Vegetarian Friendly]</td>\n",
              "      <td>621.0</td>\n",
              "      <td>4.0</td>\n",
              "      <td>$$ - $$$</td>\n",
              "      <td>84.0</td>\n",
              "      <td>[['Best place to try a Bavarian food', 'Nice b...</td>\n",
              "      <td>/Restaurant_Review-g187309-d6864963-Reviews-Au...</td>\n",
              "      <td>d6864963</td>\n",
              "    </tr>\n",
              "    <tr>\n",
              "      <th>...</th>\n",
              "      <td>...</td>\n",
              "      <td>...</td>\n",
              "      <td>...</td>\n",
              "      <td>...</td>\n",
              "      <td>...</td>\n",
              "      <td>...</td>\n",
              "      <td>...</td>\n",
              "      <td>...</td>\n",
              "      <td>...</td>\n",
              "      <td>...</td>\n",
              "    </tr>\n",
              "    <tr>\n",
              "      <th>39995</th>\n",
              "      <td>id_499</td>\n",
              "      <td>Milan</td>\n",
              "      <td>[Italian, Vegetarian Friendly, Vegan Options, ...</td>\n",
              "      <td>500.0</td>\n",
              "      <td>4.5</td>\n",
              "      <td>$$ - $$$</td>\n",
              "      <td>79.0</td>\n",
              "      <td>[['The real Italian experience!', 'Wonderful f...</td>\n",
              "      <td>/Restaurant_Review-g187849-d2104414-Reviews-Ro...</td>\n",
              "      <td>d2104414</td>\n",
              "    </tr>\n",
              "    <tr>\n",
              "      <th>39996</th>\n",
              "      <td>id_6340</td>\n",
              "      <td>Paris</td>\n",
              "      <td>[French, American, Bar, European, Vegetarian F...</td>\n",
              "      <td>6341.0</td>\n",
              "      <td>3.5</td>\n",
              "      <td>$$ - $$$</td>\n",
              "      <td>542.0</td>\n",
              "      <td>[['Parisian atmosphere', 'Bit pricey but inter...</td>\n",
              "      <td>/Restaurant_Review-g187147-d1800036-Reviews-La...</td>\n",
              "      <td>d1800036</td>\n",
              "    </tr>\n",
              "    <tr>\n",
              "      <th>39997</th>\n",
              "      <td>id_1649</td>\n",
              "      <td>Stockholm</td>\n",
              "      <td>[Japanese, Sushi]</td>\n",
              "      <td>1652.0</td>\n",
              "      <td>4.5</td>\n",
              "      <td>NaN</td>\n",
              "      <td>4.0</td>\n",
              "      <td>[['Good by swedish standards', 'A hidden jewel...</td>\n",
              "      <td>/Restaurant_Review-g189852-d947615-Reviews-Sus...</td>\n",
              "      <td>d947615</td>\n",
              "    </tr>\n",
              "    <tr>\n",
              "      <th>39998</th>\n",
              "      <td>id_640</td>\n",
              "      <td>Warsaw</td>\n",
              "      <td>[Polish, European, Eastern European, Central E...</td>\n",
              "      <td>641.0</td>\n",
              "      <td>4.0</td>\n",
              "      <td>$$ - $$$</td>\n",
              "      <td>70.0</td>\n",
              "      <td>[['Underground restaurant', 'Oldest Restaurant...</td>\n",
              "      <td>/Restaurant_Review-g274856-d1100838-Reviews-Ho...</td>\n",
              "      <td>d1100838</td>\n",
              "    </tr>\n",
              "    <tr>\n",
              "      <th>39999</th>\n",
              "      <td>id_4824</td>\n",
              "      <td>Milan</td>\n",
              "      <td>[Spanish]</td>\n",
              "      <td>4827.0</td>\n",
              "      <td>3.0</td>\n",
              "      <td>$$ - $$$</td>\n",
              "      <td>260.0</td>\n",
              "      <td>[['Average', 'Nice an informal'], ['01/31/2016...</td>\n",
              "      <td>/Restaurant_Review-g187849-d1109020-Reviews-Ta...</td>\n",
              "      <td>d1109020</td>\n",
              "    </tr>\n",
              "  </tbody>\n",
              "</table>\n",
              "<p>40000 rows × 10 columns</p>\n",
              "</div>"
            ],
            "text/plain": [
              "            id  ...     id_TA\n",
              "0      id_5569  ...  d1912643\n",
              "1      id_1535  ...  d7992032\n",
              "2       id_352  ...  d8632781\n",
              "3      id_3456  ...  d1358776\n",
              "4       id_615  ...  d6864963\n",
              "...        ...  ...       ...\n",
              "39995   id_499  ...  d2104414\n",
              "39996  id_6340  ...  d1800036\n",
              "39997  id_1649  ...   d947615\n",
              "39998   id_640  ...  d1100838\n",
              "39999  id_4824  ...  d1109020\n",
              "\n",
              "[40000 rows x 10 columns]"
            ]
          },
          "metadata": {},
          "execution_count": 6
        }
      ]
    },
    {
      "cell_type": "code",
      "metadata": {
        "id": "-AKpjjT0xlah"
      },
      "source": [
        "# pd.get_dummies(rest, columns=['Cuisine Style'])\n",
        "# rest.loc[rest.loc[:, 'Cuisine Style'].apply(lambda r: pd.isna(r)), 'Cuisine Style']\n",
        "\n",
        "mean_NoR = rest.loc[:, 'Number of Reviews'].mean()\n",
        "rest.loc[:, 'Number of Reviews'] = \\\n",
        "rest.loc[:, 'Number of Reviews'].apply(lambda r: r if not(pd.isna(r)) else mean_NoR)\n",
        "\n",
        "\n",
        "\n",
        "rest_m = rest.loc[:, ['Ranking', 'Number of Reviews']]\n",
        "\n",
        "\n"
      ],
      "execution_count": null,
      "outputs": []
    },
    {
      "cell_type": "code",
      "metadata": {
        "id": "UZwV1wzz_zm-"
      },
      "source": [],
      "execution_count": null,
      "outputs": []
    },
    {
      "cell_type": "code",
      "metadata": {
        "id": "msu_-uMVeSzU",
        "colab": {
          "base_uri": "https://localhost:8080/"
        },
        "outputId": "c4d123c8-7cec-4f79-ca5f-e81d56f3ee08"
      },
      "source": [
        "# Разбиваем датафрейм на части, необходимые для обучения и тестирования модели\n",
        "    # Х - данные с информацией о ресторанах, у - целевая переменная (рейтинги ресторанов)\n",
        "# X = rest.drop(['Restaurant_id', 'Rating'], axis = 1)\n",
        "X = rest_m\n",
        "y = rest.loc[:, 'Rating']\n",
        "\n",
        "    # Загружаем специальный инструмент для разбивки:\n",
        "from sklearn.model_selection import train_test_split\n",
        "\n",
        "    # Наборы данных с меткой \"train\" будут использоваться для обучения модели, \"test\" - для тестирования.\n",
        "    # Для тестирования мы будем использовать 25% от исходного датасета.\n",
        "X_train, X_test, y_train, y_test = train_test_split(X, y, test_size=0.25)\n",
        "\n",
        "# Импортируем необходимые библиотеки:\n",
        "from sklearn.ensemble import RandomForestRegressor # инструмент для создания и обучения модели\n",
        "from sklearn import metrics # инструменты для оценки точности модели\n",
        "\n",
        "    # Создаём модель\n",
        "regr = RandomForestRegressor(n_estimators=100)\n",
        "\n",
        "    # Обучаем модель на тестовом наборе данных\n",
        "regr.fit(X_train, y_train)\n",
        "\n",
        "    # Используем обученную модель для предсказания рейтинга ресторанов в тестовой выборке.\n",
        "    # Предсказанные значения записываем в переменную y_pred\n",
        "y_pred = regr.predict(X_test)\n",
        "\n",
        "# Сравниваем предсказанные значения (y_pred) с реальными (y_test), и смотрим насколько они в среднем отличаются\n",
        "    # Метрика называется Mean Absolute Error (MAE) и показывает среднее отклонение предсказанных значений от фактических.\n",
        "print('MAE:', metrics.mean_absolute_error(y_test, y_pred))"
      ],
      "execution_count": null,
      "outputs": [
        {
          "output_type": "stream",
          "name": "stdout",
          "text": [
            "MAE: 0.4332383719155844\n"
          ]
        }
      ]
    }
  ]
}