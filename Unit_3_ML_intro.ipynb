{
  "nbformat": 4,
  "nbformat_minor": 0,
  "metadata": {
    "colab": {
      "name": "Unit 3 ML intro",
      "provenance": [],
      "authorship_tag": "ABX9TyMQEyfaPif3C1ZDIrIDUJf0",
      "include_colab_link": true
    },
    "kernelspec": {
      "name": "python3",
      "display_name": "Python 3"
    },
    "language_info": {
      "name": "python"
    }
  },
  "cells": [
    {
      "cell_type": "markdown",
      "metadata": {
        "id": "view-in-github",
        "colab_type": "text"
      },
      "source": [
        "<a href=\"https://colab.research.google.com/github/akitim/SkillFactory_current/blob/main/Unit_3_ML_intro.ipynb\" target=\"_parent\"><img src=\"https://colab.research.google.com/assets/colab-badge.svg\" alt=\"Open In Colab\"/></a>"
      ]
    },
    {
      "cell_type": "markdown",
      "metadata": {
        "id": "KWCpKg3wtoio"
      },
      "source": [
        "#PYTHON-11. Feature Engineering"
      ]
    },
    {
      "cell_type": "code",
      "metadata": {
        "colab": {
          "base_uri": "https://localhost:8080/"
        },
        "id": "s-oAuHFMtRnU",
        "outputId": "15c69b36-865d-4926-a39e-a6fba620f101"
      },
      "source": [
        "import pandas as pd\n",
        "#import matplotlib\n",
        "# import matplotlib.pyplot as plt\n",
        "# import seaborn as sns\n",
        "import warnings; warnings.filterwarnings('ignore') #(action='once')\n",
        "import missingno as msno\n",
        "# from itertools import combinations\n",
        "# from scipy.stats import ttest_ind\n",
        "# from scipy.stats import norm\n",
        " \n",
        "%matplotlib inline\n",
        " \n",
        "pd.set_option('display.max_rows', 50) # показывать больше строк\n",
        "pd.set_option('display.max_columns', 50) # показывать больше колонок\n",
        "pd.options.display.precision = 3\n",
        " \n",
        " \n",
        "#import sys\n",
        "#from google.colab import drive\n",
        "#drive.mount('/content/gdrive', force_remount=True)\n",
        "#sys.path.clear\n",
        "#sys.path.append('/content/gdrive/MyDrive/SkillFactory')"
      ],
      "execution_count": null,
      "outputs": [
        {
          "output_type": "stream",
          "text": [
            "Mounted at /content/gdrive\n"
          ],
          "name": "stdout"
        }
      ]
    },
    {
      "cell_type": "markdown",
      "metadata": {
        "id": "dOKfWyekus2-"
      },
      "source": [
        "#Загрузка"
      ]
    },
    {
      "cell_type": "code",
      "metadata": {
        "colab": {
          "base_uri": "https://localhost:8080/",
          "height": 349
        },
        "id": "6r4UTS2jvLr_",
        "outputId": "6b497fbe-b4fe-480e-f024-c70adce94394"
      },
      "source": [
        "log_path = 'https://raw.githubusercontent.com/akitim/datasets/main/log.csv'\n",
        "cols = ['user_id', 'time', 'bet', 'win']\n",
        "#log = pd.read_csv('/content/gdrive/MyDrive/SkillFactory/log.csv', names=cols)\n",
        "log = pd.read_csv(log_path, names=cols)\n",
        " \n",
        "#users = pd.read_csv(\n",
        "#    '/content/gdrive/MyDrive/SkillFactory/vsers.csv',\n",
        "#    encoding='koi8-r',\n",
        "#    sep = '\\t'\n",
        "#)\n",
        " \n",
        "users_path = 'https://raw.githubusercontent.com/akitim/datasets/main/users.csv'\n",
        "users = pd.read_csv(\n",
        "    users_path,\n",
        "    encoding='koi8-r',\n",
        "    sep = '\\t'\n",
        ")\n",
        "users.columns = ['user_id', 'email', 'geo']\n",
        "users.sample(10)\n",
        "#log.sample(10)"
      ],
      "execution_count": null,
      "outputs": [
        {
          "output_type": "execute_result",
          "data": {
            "text/html": [
              "<div>\n",
              "<style scoped>\n",
              "    .dataframe tbody tr th:only-of-type {\n",
              "        vertical-align: middle;\n",
              "    }\n",
              "\n",
              "    .dataframe tbody tr th {\n",
              "        vertical-align: top;\n",
              "    }\n",
              "\n",
              "    .dataframe thead th {\n",
              "        text-align: right;\n",
              "    }\n",
              "</style>\n",
              "<table border=\"1\" class=\"dataframe\">\n",
              "  <thead>\n",
              "    <tr style=\"text-align: right;\">\n",
              "      <th></th>\n",
              "      <th>user-id</th>\n",
              "      <th>email</th>\n",
              "      <th>geo</th>\n",
              "    </tr>\n",
              "  </thead>\n",
              "  <tbody>\n",
              "    <tr>\n",
              "      <th>40</th>\n",
              "      <td>User_957</td>\n",
              "      <td>Hetstact@yandex.ru</td>\n",
              "      <td>Ярославль</td>\n",
              "    </tr>\n",
              "    <tr>\n",
              "      <th>97</th>\n",
              "      <td>User_970</td>\n",
              "      <td>Vashoterlo@bk.ru</td>\n",
              "      <td>Воронеж</td>\n",
              "    </tr>\n",
              "    <tr>\n",
              "      <th>29</th>\n",
              "      <td>User_935</td>\n",
              "      <td>Foreveracis@rambler.ru</td>\n",
              "      <td>Хабаровск</td>\n",
              "    </tr>\n",
              "    <tr>\n",
              "      <th>87</th>\n",
              "      <td>User_981</td>\n",
              "      <td>Stargalux@gmail.com</td>\n",
              "      <td>Арзангелтск</td>\n",
              "    </tr>\n",
              "    <tr>\n",
              "      <th>31</th>\n",
              "      <td>User_928</td>\n",
              "      <td>FraserBlue@mail.ru</td>\n",
              "      <td>Хабаровск</td>\n",
              "    </tr>\n",
              "    <tr>\n",
              "      <th>21</th>\n",
              "      <td>User_1000</td>\n",
              "      <td>Cincomphite@mail.ru</td>\n",
              "      <td>Тюмень</td>\n",
              "    </tr>\n",
              "    <tr>\n",
              "      <th>17</th>\n",
              "      <td>User_941</td>\n",
              "      <td>Cavotin@bk.ru</td>\n",
              "      <td>Красноярск</td>\n",
              "    </tr>\n",
              "    <tr>\n",
              "      <th>74</th>\n",
              "      <td>User_997</td>\n",
              "      <td>Prestigenp@inbox.ru</td>\n",
              "      <td>Ярославль</td>\n",
              "    </tr>\n",
              "    <tr>\n",
              "      <th>22</th>\n",
              "      <td>User_998</td>\n",
              "      <td>Decitere@mail.ru</td>\n",
              "      <td>Казань</td>\n",
              "    </tr>\n",
              "    <tr>\n",
              "      <th>95</th>\n",
              "      <td>User_959</td>\n",
              "      <td>UpdatesCurious@yahoo.com</td>\n",
              "      <td>Тюмень</td>\n",
              "    </tr>\n",
              "  </tbody>\n",
              "</table>\n",
              "</div>"
            ],
            "text/plain": [
              "      user-id                     email          geo\n",
              "40   User_957        Hetstact@yandex.ru    Ярославль\n",
              "97   User_970          Vashoterlo@bk.ru      Воронеж\n",
              "29   User_935    Foreveracis@rambler.ru    Хабаровск\n",
              "87   User_981       Stargalux@gmail.com  Арзангелтск\n",
              "31   User_928        FraserBlue@mail.ru    Хабаровск\n",
              "21  User_1000       Cincomphite@mail.ru       Тюмень\n",
              "17   User_941             Cavotin@bk.ru   Красноярск\n",
              "74   User_997       Prestigenp@inbox.ru    Ярославль\n",
              "22   User_998          Decitere@mail.ru       Казань\n",
              "95   User_959  UpdatesCurious@yahoo.com       Тюмень"
            ]
          },
          "metadata": {},
          "execution_count": 9
        }
      ]
    },
    {
      "cell_type": "markdown",
      "metadata": {
        "id": "C5Cb58gPKKU2"
      },
      "source": [
        "Задание 1"
      ]
    },
    {
      "cell_type": "code",
      "metadata": {
        "id": "jvcyNyVo8cFg",
        "outputId": "1a056e41-7754-417b-dc73-672e2e067029",
        "colab": {
          "base_uri": "https://localhost:8080/"
        }
      },
      "source": [
        "len(log.loc[log.loc[:, 'time'].isna(), 'time'])"
      ],
      "execution_count": 16,
      "outputs": [
        {
          "output_type": "execute_result",
          "data": {
            "text/plain": [
              "15"
            ]
          },
          "metadata": {},
          "execution_count": 16
        }
      ]
    }
  ]
}