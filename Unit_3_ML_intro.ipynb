{
  "nbformat": 4,
  "nbformat_minor": 0,
  "metadata": {
    "colab": {
      "name": "Unit 3 ML intro",
      "provenance": [],
      "toc_visible": true,
      "include_colab_link": true
    },
    "kernelspec": {
      "name": "python3",
      "display_name": "Python 3"
    },
    "language_info": {
      "name": "python"
    }
  },
  "cells": [
    {
      "cell_type": "markdown",
      "metadata": {
        "id": "view-in-github",
        "colab_type": "text"
      },
      "source": [
        "<a href=\"https://colab.research.google.com/github/akitim/SkillFactory_current/blob/main/Unit_3_ML_intro.ipynb\" target=\"_parent\"><img src=\"https://colab.research.google.com/assets/colab-badge.svg\" alt=\"Open In Colab\"/></a>"
      ]
    },
    {
      "cell_type": "markdown",
      "metadata": {
        "id": "KWCpKg3wtoio"
      },
      "source": [
        "#PYTHON-11. Feature Engineering"
      ]
    },
    {
      "cell_type": "code",
      "metadata": {
        "id": "s-oAuHFMtRnU"
      },
      "source": [
        "import pandas as pd\n",
        "#import matplotlib\n",
        "import matplotlib.pyplot as plt\n",
        "# import seaborn as sns\n",
        "import warnings; warnings.filterwarnings('ignore') #(action='once')\n",
        "import missingno as msno\n",
        "# from itertools import combinations\n",
        "# from scipy.stats import ttest_ind\n",
        "# from scipy.stats import norm\n",
        " \n",
        "%matplotlib inline\n",
        " \n",
        "pd.set_option('display.max_rows', 50) # показывать больше строк\n",
        "pd.set_option('display.max_columns', 50) # показывать больше колонок\n",
        "pd.options.display.precision = 3\n",
        " \n",
        " \n",
        "#import sys\n",
        "#from google.colab import drive\n",
        "#drive.mount('/content/gdrive', force_remount=True)\n",
        "#sys.path.clear\n",
        "#sys.path.append('/content/gdrive/MyDrive/SkillFactory')"
      ],
      "execution_count": null,
      "outputs": []
    },
    {
      "cell_type": "markdown",
      "metadata": {
        "id": "dOKfWyekus2-"
      },
      "source": [
        "#Загрузка"
      ]
    },
    {
      "cell_type": "code",
      "metadata": {
        "colab": {
          "base_uri": "https://localhost:8080/",
          "height": 80
        },
        "id": "6r4UTS2jvLr_",
        "outputId": "39770f2d-b032-4984-d359-aff85f48bfe2"
      },
      "source": [
        "log_path = 'https://raw.githubusercontent.com/akitim/datasets/main/log.csv'\n",
        "cols = ['user_id', 'time', 'bet', 'win']\n",
        "#log = pd.read_csv('/content/gdrive/MyDrive/SkillFactory/log.csv', names=cols)\n",
        "log = pd.read_csv(log_path, names=cols)\n",
        " \n",
        "#users = pd.read_csv(\n",
        "#    '/content/gdrive/MyDrive/SkillFactory/vsers.csv',\n",
        "#    encoding='koi8-r',\n",
        "#    sep = '\\t'\n",
        "#)\n",
        " \n",
        "users_path = 'https://raw.githubusercontent.com/akitim/datasets/main/users.csv'\n",
        "users = pd.read_csv(\n",
        "    users_path,\n",
        "    encoding='koi8-r',\n",
        "    sep = '\\t'\n",
        ")\n",
        "users.columns = ['user_id', 'email', 'geo']\n",
        "users.sample(1)\n",
        "# log.sample(1)"
      ],
      "execution_count": null,
      "outputs": [
        {
          "output_type": "execute_result",
          "data": {
            "text/html": [
              "<div>\n",
              "<style scoped>\n",
              "    .dataframe tbody tr th:only-of-type {\n",
              "        vertical-align: middle;\n",
              "    }\n",
              "\n",
              "    .dataframe tbody tr th {\n",
              "        vertical-align: top;\n",
              "    }\n",
              "\n",
              "    .dataframe thead th {\n",
              "        text-align: right;\n",
              "    }\n",
              "</style>\n",
              "<table border=\"1\" class=\"dataframe\">\n",
              "  <thead>\n",
              "    <tr style=\"text-align: right;\">\n",
              "      <th></th>\n",
              "      <th>Юзверь</th>\n",
              "      <th>мейл</th>\n",
              "      <th>Гео</th>\n",
              "    </tr>\n",
              "  </thead>\n",
              "  <tbody>\n",
              "    <tr>\n",
              "      <th>52</th>\n",
              "      <td>User_904</td>\n",
              "      <td>Kryptoburs@yahoo.com</td>\n",
              "      <td>Ярославль</td>\n",
              "    </tr>\n",
              "  </tbody>\n",
              "</table>\n",
              "</div>"
            ],
            "text/plain": [
              "      Юзверь                  мейл        Гео\n",
              "52  User_904  Kryptoburs@yahoo.com  Ярославль"
            ]
          },
          "metadata": {},
          "execution_count": 84
        }
      ]
    },
    {
      "cell_type": "markdown",
      "metadata": {
        "id": "C5Cb58gPKKU2"
      },
      "source": [
        "Задание 1-5"
      ]
    },
    {
      "cell_type": "code",
      "metadata": {
        "id": "jvcyNyVo8cFg",
        "colab": {
          "base_uri": "https://localhost:8080/"
        },
        "outputId": "1a056e41-7754-417b-dc73-672e2e067029"
      },
      "source": [
        "len(log.loc[log.loc[:, 'time'].isna(), 'time'])"
      ],
      "execution_count": null,
      "outputs": [
        {
          "output_type": "execute_result",
          "data": {
            "text/plain": [
              "15"
            ]
          },
          "metadata": {},
          "execution_count": 16
        }
      ]
    },
    {
      "cell_type": "code",
      "metadata": {
        "id": "z2FwQ2uaMpgZ",
        "colab": {
          "base_uri": "https://localhost:8080/",
          "height": 423
        },
        "outputId": "2a011648-3024-4647-93f5-34147d701c14"
      },
      "source": [
        "#log.dropna(axis=1)\n",
        " \n",
        "#log.dropna(axis=0)\n",
        " \n",
        "#log.loc[users.index.intersection(['time', 'user_id'])].dropna(axis=1)\n",
        "for col in ['time', 'user_id']:\n",
        "    if log.loc[:, col].isna().any():\n",
        "         log.drop(col, inplace=True, axis=1)\n",
        "log"
      ],
      "execution_count": null,
      "outputs": [
        {
          "output_type": "execute_result",
          "data": {
            "text/html": [
              "<div>\n",
              "<style scoped>\n",
              "    .dataframe tbody tr th:only-of-type {\n",
              "        vertical-align: middle;\n",
              "    }\n",
              "\n",
              "    .dataframe tbody tr th {\n",
              "        vertical-align: top;\n",
              "    }\n",
              "\n",
              "    .dataframe thead th {\n",
              "        text-align: right;\n",
              "    }\n",
              "</style>\n",
              "<table border=\"1\" class=\"dataframe\">\n",
              "  <thead>\n",
              "    <tr style=\"text-align: right;\">\n",
              "      <th></th>\n",
              "      <th>user_id</th>\n",
              "      <th>bet</th>\n",
              "      <th>win</th>\n",
              "    </tr>\n",
              "  </thead>\n",
              "  <tbody>\n",
              "    <tr>\n",
              "      <th>0</th>\n",
              "      <td>Запись пользователя № - user_919</td>\n",
              "      <td>NaN</td>\n",
              "      <td>NaN</td>\n",
              "    </tr>\n",
              "    <tr>\n",
              "      <th>1</th>\n",
              "      <td>Запись пользователя № - user_973</td>\n",
              "      <td>NaN</td>\n",
              "      <td>NaN</td>\n",
              "    </tr>\n",
              "    <tr>\n",
              "      <th>2</th>\n",
              "      <td>Запись пользователя № - user_903</td>\n",
              "      <td>NaN</td>\n",
              "      <td>NaN</td>\n",
              "    </tr>\n",
              "    <tr>\n",
              "      <th>3</th>\n",
              "      <td>Запись пользователя № - user_954</td>\n",
              "      <td>NaN</td>\n",
              "      <td>NaN</td>\n",
              "    </tr>\n",
              "    <tr>\n",
              "      <th>4</th>\n",
              "      <td>Запись пользователя № - user_954</td>\n",
              "      <td>NaN</td>\n",
              "      <td>NaN</td>\n",
              "    </tr>\n",
              "    <tr>\n",
              "      <th>...</th>\n",
              "      <td>...</td>\n",
              "      <td>...</td>\n",
              "      <td>...</td>\n",
              "    </tr>\n",
              "    <tr>\n",
              "      <th>995</th>\n",
              "      <td>Запись пользователя № - user_984</td>\n",
              "      <td>9754.0</td>\n",
              "      <td>NaN</td>\n",
              "    </tr>\n",
              "    <tr>\n",
              "      <th>996</th>\n",
              "      <td>#error</td>\n",
              "      <td>10054.0</td>\n",
              "      <td>29265.0</td>\n",
              "    </tr>\n",
              "    <tr>\n",
              "      <th>997</th>\n",
              "      <td>#error</td>\n",
              "      <td>10454.0</td>\n",
              "      <td>NaN</td>\n",
              "    </tr>\n",
              "    <tr>\n",
              "      <th>998</th>\n",
              "      <td>#error</td>\n",
              "      <td>1000.0</td>\n",
              "      <td>NaN</td>\n",
              "    </tr>\n",
              "    <tr>\n",
              "      <th>999</th>\n",
              "      <td>#error</td>\n",
              "      <td>10754.0</td>\n",
              "      <td>NaN</td>\n",
              "    </tr>\n",
              "  </tbody>\n",
              "</table>\n",
              "<p>1000 rows × 3 columns</p>\n",
              "</div>"
            ],
            "text/plain": [
              "                              user_id      bet      win\n",
              "0    Запись пользователя № - user_919      NaN      NaN\n",
              "1    Запись пользователя № - user_973      NaN      NaN\n",
              "2    Запись пользователя № - user_903      NaN      NaN\n",
              "3    Запись пользователя № - user_954      NaN      NaN\n",
              "4    Запись пользователя № - user_954      NaN      NaN\n",
              "..                                ...      ...      ...\n",
              "995  Запись пользователя № - user_984   9754.0      NaN\n",
              "996                            #error  10054.0  29265.0\n",
              "997                            #error  10454.0      NaN\n",
              "998                            #error   1000.0      NaN\n",
              "999                            #error  10754.0      NaN\n",
              "\n",
              "[1000 rows x 3 columns]"
            ]
          },
          "metadata": {},
          "execution_count": 4
        }
      ]
    },
    {
      "cell_type": "code",
      "metadata": {
        "id": "VFoyAmFEsgwD",
        "colab": {
          "base_uri": "https://localhost:8080/"
        },
        "outputId": "9ba0103c-8fd9-463a-8805-7c2e207787ef"
      },
      "source": [
        "len(log[['time','user_id']].drop_duplicates())"
      ],
      "execution_count": null,
      "outputs": [
        {
          "output_type": "execute_result",
          "data": {
            "text/plain": [
              "986"
            ]
          },
          "metadata": {},
          "execution_count": 17
        }
      ]
    },
    {
      "cell_type": "markdown",
      "metadata": {
        "id": "p5zc7CREZC4i"
      },
      "source": [
        "11.3 Преобразование к datetime"
      ]
    },
    {
      "cell_type": "code",
      "metadata": {
        "id": "PGgSiUj1ZHrF",
        "colab": {
          "base_uri": "https://localhost:8080/"
        },
        "outputId": "1c3a6f48-b934-4522-f230-50532987647f"
      },
      "source": [
        "log_path = 'https://raw.githubusercontent.com/akitim/datasets/main/log.csv'\n",
        "cols = ['user_id', 'time', 'bet', 'win']\n",
        "log = pd.read_csv(log_path, names=cols)\n",
        "\n",
        "log = log.dropna()\n",
        "\n",
        "time = log.loc[:, 'time']\n",
        "time = pd.to_datetime(\n",
        "    time.apply(lambda t: t[1:] if type(t) == str else t),\n",
        "    \n",
        ")\n",
        "time.apply(lambda t: t.minute)"
      ],
      "execution_count": null,
      "outputs": [
        {
          "output_type": "execute_result",
          "data": {
            "text/plain": [
              "14     57\n",
              "29     59\n",
              "151    54\n",
              "189    34\n",
              "205    26\n",
              "       ..\n",
              "967    25\n",
              "971    35\n",
              "972    35\n",
              "976    35\n",
              "991    55\n",
              "Name: time, Length: 133, dtype: int64"
            ]
          },
          "metadata": {},
          "execution_count": 10
        }
      ]
    },
    {
      "cell_type": "markdown",
      "metadata": {
        "id": "gmuolLXZ27MD"
      },
      "source": [
        "#11.4 Извлечение признаков времени"
      ]
    },
    {
      "cell_type": "code",
      "metadata": {
        "colab": {
          "base_uri": "https://localhost:8080/"
        },
        "id": "qvVXY7A626w9",
        "outputId": "215c5d48-1914-45c9-b7be-e51d417f7070"
      },
      "source": [
        "#Задание 1\n",
        "\n",
        "log_path = 'https://raw.githubusercontent.com/akitim/datasets/main/log.csv'\n",
        "cols = ['user_id', 'time', 'bet', 'win']\n",
        "\n",
        "log = pd.read_csv(log_path, names=cols)\n",
        "log.dropna(inplace=True)\n",
        "\n",
        "log.loc[:, 'time'] = pd.to_datetime(\n",
        "    log.loc[:, 'time'].apply(lambda t: t[1:] if type(t) == str else t),\n",
        ")\n",
        "log.loc[:, 'time'].dt.minute.value_counts().index[0]\n",
        "# pd.DataFrame(log.loc[:, 'time'].dt.minute.value_counts())\n",
        "# pd.DataFrame(log.loc[:, 'time'].dt.second).hist();\n",
        "# pd.DataFrame(log.loc[:, 'time'].dt.minute).hist();\n",
        "# pd.DataFrame(log.loc[:, 'time'].dt.hour).hist();\n",
        "\n",
        "# Задание 2\n",
        "log_path = 'https://raw.githubusercontent.com/akitim/datasets/main/log.csv'\n",
        "cols = ['user_id', 'time', 'bet', 'win']\n",
        "\n",
        "log = pd.read_csv(log_path, names=cols)\n",
        "log.dropna(inplace=True)\n",
        "log.loc[:, 'time'] = pd.to_datetime(\n",
        "    log.loc[:, 'time'].apply(lambda t: t[1:] if type(t) == str else t)\n",
        ")\n",
        "log.loc[:, 'time'].dt.month.value_counts() #.index[0]"
      ],
      "execution_count": null,
      "outputs": [
        {
          "output_type": "execute_result",
          "data": {
            "text/plain": [
              "3    57\n",
              "4    51\n",
              "2    16\n",
              "1     9\n",
              "Name: time, dtype: int64"
            ]
          },
          "metadata": {},
          "execution_count": 45
        }
      ]
    },
    {
      "cell_type": "code",
      "metadata": {
        "colab": {
          "base_uri": "https://localhost:8080/"
        },
        "id": "_1bhYyPOZYxV",
        "outputId": "126f83eb-bdf6-4038-e149-7c631d7fbf30"
      },
      "source": [
        "# Задание 3*\n",
        "log_path = 'https://raw.githubusercontent.com/akitim/datasets/main/log.csv'\n",
        "cols = ['user_id', 'time', 'bet', 'win']\n",
        "\n",
        "log = pd.read_csv(log_path, names=cols)\n",
        "log.dropna(inplace=True)\n",
        "\n",
        "log.loc[:, 'time'] = pd.to_datetime(\n",
        "    log.loc[:, 'time'].apply(lambda t: t[1:] if type(t) == str else t),\n",
        ")\n",
        "\n",
        "weekend = log.loc[:, 'time'].dt.weekday.apply (lambda d: d in [5, 6])\n",
        "len(log.loc[weekend, 'time'])\n",
        "\n",
        "log[(log.time.dt.weekday == 5) | (log.time.dt.weekday == 6)]['time'].count()"
      ],
      "execution_count": null,
      "outputs": [
        {
          "output_type": "execute_result",
          "data": {
            "text/plain": [
              "37"
            ]
          },
          "metadata": {},
          "execution_count": 67
        }
      ]
    },
    {
      "cell_type": "markdown",
      "metadata": {
        "id": "LbTUCRVL-7cA"
      },
      "source": [
        "# Задание 4*"
      ]
    },
    {
      "cell_type": "code",
      "metadata": {
        "id": "CNqS0guO_ADV",
        "colab": {
          "base_uri": "https://localhost:8080/"
        },
        "outputId": "9d3089ca-eb36-475c-fd3a-17c92aa10637"
      },
      "source": [
        "log_path = 'https://raw.githubusercontent.com/akitim/datasets/main/log.csv'\n",
        "cols = ['user_id', 'time', 'bet', 'win']\n",
        "\n",
        "log = pd.read_csv(log_path, names=cols)\n",
        "# log.dropna(inplace=True)\n",
        "\n",
        "log.loc[:, 'time'] = pd.to_datetime(\n",
        "    log.loc[:, 'time'].apply(lambda t: t[1:] if type(t) == str else t),\n",
        ")\n",
        "\n",
        "def timeofday(h):\n",
        "    if h >= 0 and h <= 5:\n",
        "        return 'night'\n",
        "    elif h >=6 and h <= 11:\n",
        "        return 'morning'\n",
        "    elif h >= 12 and h <= 17:\n",
        "        return 'day'\n",
        "    else:\n",
        "        return 'evening'\n",
        "\n",
        "time = log.loc[:, 'time'].dropna()\n",
        "drare = time.dt.hour.apply(timeofday).value_counts().min()\n",
        "print(\n",
        "time.dt.hour.apply(timeofday).value_counts() [\n",
        "    time.dt.hour.apply(timeofday).value_counts() == drare\n",
        "].index[0]\n",
        ")"
      ],
      "execution_count": null,
      "outputs": [
        {
          "output_type": "stream",
          "text": [
            "evening\n"
          ],
          "name": "stdout"
        }
      ]
    },
    {
      "cell_type": "markdown",
      "metadata": {
        "id": "psnL3wbIXmKv"
      },
      "source": [
        "#11.5 Снова смотрим на пропуски"
      ]
    },
    {
      "cell_type": "code",
      "metadata": {
        "id": "x9rtDFf1WmYs",
        "colab": {
          "base_uri": "https://localhost:8080/"
        },
        "outputId": "8b112900-abc1-442c-86ab-b7746ca8d7a1"
      },
      "source": [
        "log_path = 'https://raw.githubusercontent.com/akitim/datasets/main/log.csv'\n",
        "cols = ['user_id', 'time', 'bet', 'win']\n",
        "\n",
        "log = pd.read_csv(log_path, names=cols)\n",
        "\n",
        "log.loc[:, 'bet'].fillna(0, inplace=True)\n",
        "log.loc[:, 'bet'].value_counts()[0]"
      ],
      "execution_count": null,
      "outputs": [
        {
          "output_type": "execute_result",
          "data": {
            "text/plain": [
              "515"
            ]
          },
          "metadata": {},
          "execution_count": 5
        }
      ]
    },
    {
      "cell_type": "code",
      "metadata": {
        "id": "U9hSheeKeN6q",
        "colab": {
          "base_uri": "https://localhost:8080/"
        },
        "outputId": "ebb700c8-b497-4be4-d345-8864963dd4c0"
      },
      "source": [
        "log_path = 'https://raw.githubusercontent.com/akitim/datasets/main/log.csv'\n",
        "cols = ['user_id', 'time', 'bet', 'win']\n",
        " \n",
        "log = pd.read_csv(log_path, names=cols)\n",
        "log.loc[:, 'bet'].fillna(0, inplace=True)\n",
        " \n",
        "def fillna_win(row):\n",
        "    if pd.isna(row['win']) and pd.isna(row['bet']):\n",
        "        row['win'] = 0\n",
        "        return row\n",
        "    elif row['bet'] == 0:\n",
        "        row['win'] = 0\n",
        "        return row\n",
        "    elif pd.isna(row['win']) and not(pd.isna(row['bet'])):\n",
        "        row['win'] = -row['bet']\n",
        "        return row\n",
        "    else:\n",
        "        return row\n",
        "log = log.apply(lambda row: fillna_win(row), axis=1)\n",
        "(log.loc[:, 'win'] < 0).sum()\n",
        " \n",
        "#11.6 Есть ли смысл играть?\n",
        "#Задание 1\n",
        "log.loc[:, 'net'] = -log.loc[:, 'bet']\n",
        "log.loc[log.loc[:, 'win'] >= 0, 'net'] = log.loc[:,'win'] - log.loc[:, 'bet']\n",
        "(log.loc[:, 'net'] > 0).sum()\n",
        " \n",
        "#Задание 2\n",
        "round(\n",
        "    log.loc[log.loc[:, 'net'] > 0, 'net'].mean()\n",
        ")   # => 80253\n",
        " \n",
        "#Задание 3\n",
        "round(\n",
        "    log.loc[log.loc[:, 'net'] > 0, 'net'].median()\n",
        ")   # => 5347 \n",
        "\n",
        "# log.loc[log.loc[:, 'net'] < 1e7, 'net'].hist(bins=50, log=True);\n",
        "# plt.xlabel('net');\n",
        "# plt.title('Net distribution');"
      ],
      "execution_count": null,
      "outputs": [
        {
          "output_type": "execute_result",
          "data": {
            "text/plain": [
              "80253"
            ]
          },
          "metadata": {},
          "execution_count": 43
        }
      ]
    },
    {
      "cell_type": "markdown",
      "metadata": {
        "id": "8yisve8L6UsN"
      },
      "source": [
        "#11.7 Сколько можно выиграть/проиграть?"
      ]
    },
    {
      "cell_type": "code",
      "metadata": {
        "colab": {
          "base_uri": "https://localhost:8080/"
        },
        "id": "tLlP-3UX6YQS",
        "outputId": "1a5f4b39-b888-431f-8067-d4ae631b2834"
      },
      "source": [
        "import pandas as pd\n",
        "\n",
        "log_path = 'https://raw.githubusercontent.com/akitim/datasets/main/log.csv'\n",
        "cols = ['user_id', 'time', 'bet', 'win']\n",
        "log = pd.read_csv(log_path, names=cols)\n",
        "\n",
        "log.loc[:, 'bet'].fillna(0, inplace=True)\n",
        "log.loc[:, 'win'].fillna(0, inplace=True)\n",
        "\n",
        "log.loc[:, 'net'] = log.loc[:, 'win'] - log.loc[:, 'bet']\n",
        "\n",
        "#log.loc[log.loc[:, 'bet'] > 0, 'bet'].count()\n",
        "\n",
        "#Задание 1\n",
        "round(\n",
        "    (log.loc[:, 'bet'] > 0).sum() / len(log) * 100,\n",
        "    #(log.loc[:, 'bet'] > 0).mean() * 100\n",
        "    1\n",
        ")\n",
        "\n",
        "#Задание 2\n",
        "log.loc[log.loc[:, 'bet'] > 0, 'bet'].mean() // 1\n",
        "\n",
        "#Задание 3\n",
        "log.loc[log.loc[:, 'bet'] > 0, 'net'].mean() // 1\n",
        "\n",
        "#Задание 4\n",
        "round(log.loc[log.loc[:, 'net'] < 0, 'net'].mean()) + 1\n",
        "\n",
        "#Задание 5\n",
        "#процент выигрышных ставок\n",
        "winbet = ((log.loc[:, 'bet'] > 0) * (log.loc[:, 'net'] > 0)).mean() * 100\n",
        "winbet < 100 - winbet"
      ],
      "execution_count": null,
      "outputs": [
        {
          "output_type": "execute_result",
          "data": {
            "text/plain": [
              "True"
            ]
          },
          "metadata": {},
          "execution_count": 77
        }
      ]
    },
    {
      "cell_type": "code",
      "metadata": {
        "id": "OBgTr0kQZd3_"
      },
      "source": [
        "#Задание 6*\n",
        "import pandas as pd\n",
        "\n",
        "def r2i(f):\n",
        "    return round(f - 0.5)\n",
        "\n",
        "log_path = 'https://raw.githubusercontent.com/akitim/datasets/main/log.csv'\n",
        "cols = ['user_id', 'time', 'bet', 'win']\n",
        "log = pd.read_csv(log_path, names=cols)\n",
        "\n",
        "log.loc[:, 'bet'].fillna(0, inplace=True)\n",
        "log.loc[:, 'win'].fillna(0, inplace=True)\n",
        "\n",
        "min_bet = log.loc[log.loc[:, 'bet'] > 0, 'bet'].min()\n",
        "min_bet_amount = r2i(\n",
        "    log.loc[log.loc[:, 'bet'] == min_bet, 'bet'].count()\n",
        ")\n"
      ],
      "execution_count": null,
      "outputs": []
    },
    {
      "cell_type": "markdown",
      "metadata": {
        "id": "rmbgoayUbzaA"
      },
      "source": [
        "#11.8 Повторение merge/groupby"
      ]
    },
    {
      "cell_type": "code",
      "metadata": {
        "colab": {
          "base_uri": "https://localhost:8080/"
        },
        "id": "8rkQH6wWbyss",
        "outputId": "7f6a9568-17fa-4121-a8af-3bd0d0cec2aa"
      },
      "source": [
        "import pandas as pd\n",
        "\n",
        "def r2i(f):\n",
        "    return round(f - 0.5)\n",
        "\n",
        "log_path = 'https://raw.githubusercontent.com/akitim/datasets/main/log.csv'\n",
        "cols = ['user_id', 'time', 'bet', 'win']\n",
        "log = pd.read_csv(log_path, names=cols)\n",
        "\n",
        "us_path = 'https://raw.githubusercontent.com/akitim/datasets/main/users.csv'\n",
        "us = pd.read_csv(\n",
        "    us_path,\n",
        "    encoding='koi8-r',\n",
        "    sep = '\\t'\n",
        ")\n",
        "us.columns = ['user_id', 'email', 'geo']\n",
        "\n",
        "# Приведем признак user_id к одному формату в обоих датасетах  \n",
        "us.user_id = us.user_id.apply(lambda x: x.lower())\n",
        "\n",
        "# Избавимся от ошибок в user_id  \n",
        "log = log[log.user_id != '#error']  \n",
        "log.user_id = log.user_id.str.split(' - ').apply(lambda x: x[1])\n",
        "\n",
        "log.loc[:, 'bet'].fillna(0, inplace=True)\n",
        "log.loc[:, 'win'].fillna(0, inplace=True)\n",
        "\n",
        "log.loc[:, 'net'] = log.loc[:, 'win'] - log.loc[:, 'bet']\n",
        "\n",
        "logus = pd.merge(log, us, on='user_id')\n",
        "\n",
        "logus.groupby('user_id')['win'].median().median()  \n",
        "\n",
        "#11.9 Анализ по пользователям\n",
        "# Задание 1\n",
        "r2i(logus.groupby(by='user_id')['net'].sum().median())\n",
        "\n",
        "#Задание 2*\n",
        "# logus.groupby(by='user_id')['bet'].sum().sort_values(ascending=True)\n",
        "\n",
        "unix = logus.loc[logus.loc[:, 'bet'] > 0, 'user_id'].unique()\n",
        "\n",
        "r2i(\n",
        "    logus.loc[\n",
        "    logus.loc[:, 'bet'] == 0,\n",
        "    'user_id'\n",
        "    ].apply(lambda u: u if u in unix else '').value_counts().mean()\n",
        ") # => 5\n",
        "\n",
        "#Задание 3**\n",
        "# Сколько в среднем времени проходит\n",
        "# между появлением человека в сервисе и первой ставкой?\n",
        "\n",
        "logus.loc[:, 'time'] = pd.to_datetime(\n",
        "    logus.loc[:, 'time'].apply(lambda t: t[1:])\n",
        ")\n",
        "\n",
        "def time2bet (id):\n",
        "    tb = logus.loc[\n",
        "        logus.loc[:, 'user_id'] == id, 'time':'bet'\n",
        "    ].sort_values(by='time')\n",
        "\n",
        "    t_appear = tb.loc[tb.index.min(), 'time']\n",
        "    t_1stbet = tb.loc[tb.loc[tb.loc[:, 'bet'] > 0, 'time'].index.min(), 'time']\n",
        "\n",
        "    return (t_1stbet - t_appear).total_seconds() / 3600 / 24\n",
        "\n",
        "unix = logus.loc[logus.loc[:, 'bet'] > 0, 'user_id'].unique()\n",
        "\n",
        "dt = pd.DataFrame(data=[time2bet(u) for u in unix], index = unix, columns=['time_to_1stbet'])\n",
        "r2i(dt.loc[:, 'time_to_1stbet'].mean())\n",
        "# time2bet('user_902')"
      ],
      "execution_count": 4,
      "outputs": [
        {
          "output_type": "execute_result",
          "data": {
            "text/plain": [
              "47"
            ]
          },
          "metadata": {},
          "execution_count": 4
        }
      ]
    },
    {
      "cell_type": "markdown",
      "metadata": {
        "id": "rCmnSGySsrBW"
      },
      "source": [
        "#11.10 Анализ по городам"
      ]
    },
    {
      "cell_type": "code",
      "metadata": {
        "id": "RFOx5FATe3Au",
        "colab": {
          "base_uri": "https://localhost:8080/"
        },
        "outputId": "852d6acc-fa3e-445e-f077-d8a821397388"
      },
      "source": [
        "# Задание 1\n",
        "logus.groupby(by='geo')['win'].sum().sort_values(ascending=False).index[1]\n",
        "\n",
        "# Задание 2*\n",
        "mean_bet_by_city = logus.groupby(by='geo')['bet'].mean() #.sort_values(ascending=False)\n",
        "r2i(mean_bet_by_city.max() / mean_bet_by_city.min())\n",
        "mean_bet_by_city"
      ],
      "execution_count": 16,
      "outputs": [
        {
          "output_type": "execute_result",
          "data": {
            "text/plain": [
              "geo\n",
              "Арзангелтск          663.708333\n",
              "Воронеж             1324.840909\n",
              "Екатеринбург         228.571429\n",
              "Ижевск              1079.836066\n",
              "Казань               714.575758\n",
              "Краснодар            839.813953\n",
              "Красноярск          1428.178571\n",
              "Москва             39793.327869\n",
              "Пермь               1135.818182\n",
              "Санкт-Петербург      654.521739\n",
              "Ставрополь          1582.500000\n",
              "Тюмень               175.000000\n",
              "Хабаровск            757.700000\n",
              "Ярославль            750.000000\n",
              "Name: bet, dtype: float64"
            ]
          },
          "metadata": {},
          "execution_count": 16
        }
      ]
    }
  ]
}