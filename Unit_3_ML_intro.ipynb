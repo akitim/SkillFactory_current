{
  "nbformat": 4,
  "nbformat_minor": 0,
  "metadata": {
    "colab": {
      "name": "Unit 3 ML intro",
      "provenance": [],
      "include_colab_link": true
    },
    "kernelspec": {
      "name": "python3",
      "display_name": "Python 3"
    },
    "language_info": {
      "name": "python"
    }
  },
  "cells": [
    {
      "cell_type": "markdown",
      "metadata": {
        "id": "view-in-github",
        "colab_type": "text"
      },
      "source": [
        "<a href=\"https://colab.research.google.com/github/akitim/SkillFactory_current/blob/main/Unit_3_ML_intro.ipynb\" target=\"_parent\"><img src=\"https://colab.research.google.com/assets/colab-badge.svg\" alt=\"Open In Colab\"/></a>"
      ]
    },
    {
      "cell_type": "markdown",
      "metadata": {
        "id": "KWCpKg3wtoio"
      },
      "source": [
        "#PYTHON-11. Feature Engineering"
      ]
    },
    {
      "cell_type": "code",
      "metadata": {
        "id": "s-oAuHFMtRnU"
      },
      "source": [
        "import pandas as pd\n",
        "#import matplotlib\n",
        "# import matplotlib.pyplot as plt\n",
        "# import seaborn as sns\n",
        "import warnings; warnings.filterwarnings('ignore') #(action='once')\n",
        "import missingno as msno\n",
        "# from itertools import combinations\n",
        "# from scipy.stats import ttest_ind\n",
        "# from scipy.stats import norm\n",
        " \n",
        "%matplotlib inline\n",
        " \n",
        "pd.set_option('display.max_rows', 50) # показывать больше строк\n",
        "pd.set_option('display.max_columns', 50) # показывать больше колонок\n",
        "pd.options.display.precision = 3\n",
        " \n",
        " \n",
        "#import sys\n",
        "#from google.colab import drive\n",
        "#drive.mount('/content/gdrive', force_remount=True)\n",
        "#sys.path.clear\n",
        "#sys.path.append('/content/gdrive/MyDrive/SkillFactory')"
      ],
      "execution_count": 4,
      "outputs": []
    },
    {
      "cell_type": "markdown",
      "metadata": {
        "id": "dOKfWyekus2-"
      },
      "source": [
        "#Загрузка"
      ]
    },
    {
      "cell_type": "code",
      "metadata": {
        "colab": {
          "base_uri": "https://localhost:8080/",
          "height": 80
        },
        "id": "6r4UTS2jvLr_",
        "outputId": "903eb4c0-8a3e-4b57-89b4-acd7c86eb6bb"
      },
      "source": [
        "log_path = 'https://raw.githubusercontent.com/akitim/datasets/main/log.csv'\n",
        "cols = ['user_id', 'time', 'bet', 'win']\n",
        "#log = pd.read_csv('/content/gdrive/MyDrive/SkillFactory/log.csv', names=cols)\n",
        "log = pd.read_csv(log_path, names=cols)\n",
        " \n",
        "#users = pd.read_csv(\n",
        "#    '/content/gdrive/MyDrive/SkillFactory/vsers.csv',\n",
        "#    encoding='koi8-r',\n",
        "#    sep = '\\t'\n",
        "#)\n",
        " \n",
        "users_path = 'https://raw.githubusercontent.com/akitim/datasets/main/users.csv'\n",
        "users = pd.read_csv(\n",
        "    users_path,\n",
        "    encoding='koi8-r',\n",
        "    sep = '\\t'\n",
        ")\n",
        "users.columns = ['user_id', 'email', 'geo']\n",
        "users.sample(1)\n",
        "log.sample(1)"
      ],
      "execution_count": null,
      "outputs": [
        {
          "output_type": "execute_result",
          "data": {
            "text/html": [
              "<div>\n",
              "<style scoped>\n",
              "    .dataframe tbody tr th:only-of-type {\n",
              "        vertical-align: middle;\n",
              "    }\n",
              "\n",
              "    .dataframe tbody tr th {\n",
              "        vertical-align: top;\n",
              "    }\n",
              "\n",
              "    .dataframe thead th {\n",
              "        text-align: right;\n",
              "    }\n",
              "</style>\n",
              "<table border=\"1\" class=\"dataframe\">\n",
              "  <thead>\n",
              "    <tr style=\"text-align: right;\">\n",
              "      <th></th>\n",
              "      <th>user_id</th>\n",
              "      <th>time</th>\n",
              "      <th>bet</th>\n",
              "      <th>win</th>\n",
              "    </tr>\n",
              "  </thead>\n",
              "  <tbody>\n",
              "    <tr>\n",
              "      <th>18</th>\n",
              "      <td>Запись пользователя № - user_990</td>\n",
              "      <td>[2019-01-03 13:12:46</td>\n",
              "      <td>NaN</td>\n",
              "      <td>NaN</td>\n",
              "    </tr>\n",
              "  </tbody>\n",
              "</table>\n",
              "</div>"
            ],
            "text/plain": [
              "                             user_id                  time  bet  win\n",
              "18  Запись пользователя № - user_990  [2019-01-03 13:12:46  NaN  NaN"
            ]
          },
          "metadata": {},
          "execution_count": 16
        }
      ]
    },
    {
      "cell_type": "markdown",
      "metadata": {
        "id": "C5Cb58gPKKU2"
      },
      "source": [
        "Задание 1-5"
      ]
    },
    {
      "cell_type": "code",
      "metadata": {
        "id": "jvcyNyVo8cFg",
        "colab": {
          "base_uri": "https://localhost:8080/"
        },
        "outputId": "1a056e41-7754-417b-dc73-672e2e067029"
      },
      "source": [
        "len(log.loc[log.loc[:, 'time'].isna(), 'time'])"
      ],
      "execution_count": null,
      "outputs": [
        {
          "output_type": "execute_result",
          "data": {
            "text/plain": [
              "15"
            ]
          },
          "metadata": {},
          "execution_count": 16
        }
      ]
    },
    {
      "cell_type": "code",
      "metadata": {
        "id": "z2FwQ2uaMpgZ",
        "colab": {
          "base_uri": "https://localhost:8080/",
          "height": 423
        },
        "outputId": "2a011648-3024-4647-93f5-34147d701c14"
      },
      "source": [
        "#log.dropna(axis=1)\n",
        " \n",
        "#log.dropna(axis=0)\n",
        " \n",
        "#log.loc[users.index.intersection(['time', 'user_id'])].dropna(axis=1)\n",
        "for col in ['time', 'user_id']:\n",
        "    if log.loc[:, col].isna().any():\n",
        "         log.drop(col, inplace=True, axis=1)\n",
        "log"
      ],
      "execution_count": null,
      "outputs": [
        {
          "output_type": "execute_result",
          "data": {
            "text/html": [
              "<div>\n",
              "<style scoped>\n",
              "    .dataframe tbody tr th:only-of-type {\n",
              "        vertical-align: middle;\n",
              "    }\n",
              "\n",
              "    .dataframe tbody tr th {\n",
              "        vertical-align: top;\n",
              "    }\n",
              "\n",
              "    .dataframe thead th {\n",
              "        text-align: right;\n",
              "    }\n",
              "</style>\n",
              "<table border=\"1\" class=\"dataframe\">\n",
              "  <thead>\n",
              "    <tr style=\"text-align: right;\">\n",
              "      <th></th>\n",
              "      <th>user_id</th>\n",
              "      <th>bet</th>\n",
              "      <th>win</th>\n",
              "    </tr>\n",
              "  </thead>\n",
              "  <tbody>\n",
              "    <tr>\n",
              "      <th>0</th>\n",
              "      <td>Запись пользователя № - user_919</td>\n",
              "      <td>NaN</td>\n",
              "      <td>NaN</td>\n",
              "    </tr>\n",
              "    <tr>\n",
              "      <th>1</th>\n",
              "      <td>Запись пользователя № - user_973</td>\n",
              "      <td>NaN</td>\n",
              "      <td>NaN</td>\n",
              "    </tr>\n",
              "    <tr>\n",
              "      <th>2</th>\n",
              "      <td>Запись пользователя № - user_903</td>\n",
              "      <td>NaN</td>\n",
              "      <td>NaN</td>\n",
              "    </tr>\n",
              "    <tr>\n",
              "      <th>3</th>\n",
              "      <td>Запись пользователя № - user_954</td>\n",
              "      <td>NaN</td>\n",
              "      <td>NaN</td>\n",
              "    </tr>\n",
              "    <tr>\n",
              "      <th>4</th>\n",
              "      <td>Запись пользователя № - user_954</td>\n",
              "      <td>NaN</td>\n",
              "      <td>NaN</td>\n",
              "    </tr>\n",
              "    <tr>\n",
              "      <th>...</th>\n",
              "      <td>...</td>\n",
              "      <td>...</td>\n",
              "      <td>...</td>\n",
              "    </tr>\n",
              "    <tr>\n",
              "      <th>995</th>\n",
              "      <td>Запись пользователя № - user_984</td>\n",
              "      <td>9754.0</td>\n",
              "      <td>NaN</td>\n",
              "    </tr>\n",
              "    <tr>\n",
              "      <th>996</th>\n",
              "      <td>#error</td>\n",
              "      <td>10054.0</td>\n",
              "      <td>29265.0</td>\n",
              "    </tr>\n",
              "    <tr>\n",
              "      <th>997</th>\n",
              "      <td>#error</td>\n",
              "      <td>10454.0</td>\n",
              "      <td>NaN</td>\n",
              "    </tr>\n",
              "    <tr>\n",
              "      <th>998</th>\n",
              "      <td>#error</td>\n",
              "      <td>1000.0</td>\n",
              "      <td>NaN</td>\n",
              "    </tr>\n",
              "    <tr>\n",
              "      <th>999</th>\n",
              "      <td>#error</td>\n",
              "      <td>10754.0</td>\n",
              "      <td>NaN</td>\n",
              "    </tr>\n",
              "  </tbody>\n",
              "</table>\n",
              "<p>1000 rows × 3 columns</p>\n",
              "</div>"
            ],
            "text/plain": [
              "                              user_id      bet      win\n",
              "0    Запись пользователя № - user_919      NaN      NaN\n",
              "1    Запись пользователя № - user_973      NaN      NaN\n",
              "2    Запись пользователя № - user_903      NaN      NaN\n",
              "3    Запись пользователя № - user_954      NaN      NaN\n",
              "4    Запись пользователя № - user_954      NaN      NaN\n",
              "..                                ...      ...      ...\n",
              "995  Запись пользователя № - user_984   9754.0      NaN\n",
              "996                            #error  10054.0  29265.0\n",
              "997                            #error  10454.0      NaN\n",
              "998                            #error   1000.0      NaN\n",
              "999                            #error  10754.0      NaN\n",
              "\n",
              "[1000 rows x 3 columns]"
            ]
          },
          "metadata": {},
          "execution_count": 4
        }
      ]
    },
    {
      "cell_type": "code",
      "metadata": {
        "id": "VFoyAmFEsgwD",
        "colab": {
          "base_uri": "https://localhost:8080/"
        },
        "outputId": "9ba0103c-8fd9-463a-8805-7c2e207787ef"
      },
      "source": [
        "len(log[['time','user_id']].drop_duplicates())"
      ],
      "execution_count": null,
      "outputs": [
        {
          "output_type": "execute_result",
          "data": {
            "text/plain": [
              "986"
            ]
          },
          "metadata": {},
          "execution_count": 17
        }
      ]
    },
    {
      "cell_type": "markdown",
      "metadata": {
        "id": "p5zc7CREZC4i"
      },
      "source": [
        "11.3 Преобразование к datetime"
      ]
    },
    {
      "cell_type": "code",
      "metadata": {
        "id": "PGgSiUj1ZHrF",
        "colab": {
          "base_uri": "https://localhost:8080/"
        },
        "outputId": "1c3a6f48-b934-4522-f230-50532987647f"
      },
      "source": [
        "log_path = 'https://raw.githubusercontent.com/akitim/datasets/main/log.csv'\n",
        "cols = ['user_id', 'time', 'bet', 'win']\n",
        "log = pd.read_csv(log_path, names=cols)\n",
        "\n",
        "log = log.dropna()\n",
        "\n",
        "time = log.loc[:, 'time']\n",
        "time = pd.to_datetime(\n",
        "    time.apply(lambda t: t[1:] if type(t) == str else t),\n",
        "    \n",
        ")\n",
        "time.apply(lambda t: t.minute)"
      ],
      "execution_count": 10,
      "outputs": [
        {
          "output_type": "execute_result",
          "data": {
            "text/plain": [
              "14     57\n",
              "29     59\n",
              "151    54\n",
              "189    34\n",
              "205    26\n",
              "       ..\n",
              "967    25\n",
              "971    35\n",
              "972    35\n",
              "976    35\n",
              "991    55\n",
              "Name: time, Length: 133, dtype: int64"
            ]
          },
          "metadata": {},
          "execution_count": 10
        }
      ]
    },
    {
      "cell_type": "markdown",
      "metadata": {
        "id": "gmuolLXZ27MD"
      },
      "source": [
        "#11.4 Извлечение признаков времени"
      ]
    },
    {
      "cell_type": "code",
      "metadata": {
        "colab": {
          "base_uri": "https://localhost:8080/"
        },
        "id": "qvVXY7A626w9",
        "outputId": "215c5d48-1914-45c9-b7be-e51d417f7070"
      },
      "source": [
        "#Задание 1\n",
        "\n",
        "log_path = 'https://raw.githubusercontent.com/akitim/datasets/main/log.csv'\n",
        "cols = ['user_id', 'time', 'bet', 'win']\n",
        "\n",
        "log = pd.read_csv(log_path, names=cols)\n",
        "log.dropna(inplace=True)\n",
        "\n",
        "log.loc[:, 'time'] = pd.to_datetime(\n",
        "    log.loc[:, 'time'].apply(lambda t: t[1:] if type(t) == str else t),\n",
        ")\n",
        "log.loc[:, 'time'].dt.minute.value_counts().index[0]\n",
        "# pd.DataFrame(log.loc[:, 'time'].dt.minute.value_counts())\n",
        "# pd.DataFrame(log.loc[:, 'time'].dt.second).hist();\n",
        "# pd.DataFrame(log.loc[:, 'time'].dt.minute).hist();\n",
        "# pd.DataFrame(log.loc[:, 'time'].dt.hour).hist();\n",
        "\n",
        "# Задание 2\n",
        "log_path = 'https://raw.githubusercontent.com/akitim/datasets/main/log.csv'\n",
        "cols = ['user_id', 'time', 'bet', 'win']\n",
        "\n",
        "log = pd.read_csv(log_path, names=cols)\n",
        "log.dropna(inplace=True)\n",
        "log.loc[:, 'time'] = pd.to_datetime(\n",
        "    log.loc[:, 'time'].apply(lambda t: t[1:] if type(t) == str else t),\n",
        ")\n",
        "log.loc[:, 'time'].dt.month.value_counts() #.index[0]"
      ],
      "execution_count": 45,
      "outputs": [
        {
          "output_type": "execute_result",
          "data": {
            "text/plain": [
              "3    57\n",
              "4    51\n",
              "2    16\n",
              "1     9\n",
              "Name: time, dtype: int64"
            ]
          },
          "metadata": {},
          "execution_count": 45
        }
      ]
    },
    {
      "cell_type": "code",
      "metadata": {
        "id": "_1bhYyPOZYxV",
        "outputId": "126f83eb-bdf6-4038-e149-7c631d7fbf30",
        "colab": {
          "base_uri": "https://localhost:8080/"
        }
      },
      "source": [
        "# Задание 3*\n",
        "log_path = 'https://raw.githubusercontent.com/akitim/datasets/main/log.csv'\n",
        "cols = ['user_id', 'time', 'bet', 'win']\n",
        "\n",
        "log = pd.read_csv(log_path, names=cols)\n",
        "log.dropna(inplace=True)\n",
        "\n",
        "log.loc[:, 'time'] = pd.to_datetime(\n",
        "    log.loc[:, 'time'].apply(lambda t: t[1:] if type(t) == str else t),\n",
        ")\n",
        "\n",
        "weekend = log.loc[:, 'time'].dt.weekday.apply (lambda d: d in [5, 6])\n",
        "len(log.loc[weekend, 'time'])\n",
        "\n",
        "log[(log.time.dt.weekday == 5) | (log.time.dt.weekday == 6)]['time'].count()"
      ],
      "execution_count": 67,
      "outputs": [
        {
          "output_type": "execute_result",
          "data": {
            "text/plain": [
              "37"
            ]
          },
          "metadata": {},
          "execution_count": 67
        }
      ]
    }
  ]
}