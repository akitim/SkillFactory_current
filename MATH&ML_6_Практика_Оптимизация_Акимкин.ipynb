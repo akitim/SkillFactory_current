{
  "cells": [
    {
      "cell_type": "markdown",
      "metadata": {
        "id": "view-in-github",
        "colab_type": "text"
      },
      "source": [
        "<a href=\"https://colab.research.google.com/github/akitim/SkillFactory_current/blob/main/MATH%26ML_6_%D0%9F%D1%80%D0%B0%D0%BA%D1%82%D0%B8%D0%BA%D0%B0_%D0%9E%D0%BF%D1%82%D0%B8%D0%BC%D0%B8%D0%B7%D0%B0%D1%86%D0%B8%D1%8F_%D0%90%D0%BA%D0%B8%D0%BC%D0%BA%D0%B8%D0%BD.ipynb\" target=\"_parent\"><img src=\"https://colab.research.google.com/assets/colab-badge.svg\" alt=\"Open In Colab\"/></a>"
      ]
    },
    {
      "cell_type": "markdown",
      "metadata": {
        "id": "NyHIGVhfa_Wf"
      },
      "source": [
        "# Стохастический градиентный и координатный спуски"
      ]
    },
    {
      "cell_type": "markdown",
      "metadata": {
        "id": "gn6lluIADUKa"
      },
      "source": [
        "Для каждого задания указано количество баллов (если они оцениваются отдельно) + 1 балл за аккуратное и полное выполнение всего задания"
      ]
    },
    {
      "cell_type": "markdown",
      "metadata": {
        "id": "txCccYvha_Wv"
      },
      "source": [
        "## Загрузка и подготовка данных"
      ]
    },
    {
      "cell_type": "markdown",
      "metadata": {
        "id": "NbyOzeZ6a_Wx"
      },
      "source": [
        "**Загрузите уже знакомый вам файл *Advertising.csv* как объект DataFrame.**"
      ]
    },
    {
      "cell_type": "code",
      "execution_count": 24,
      "metadata": {
        "id": "E1L4_xeDa_Wz",
        "outputId": "63a5bd54-ba3a-4753-af23-eeb18bbb1343",
        "colab": {
          "base_uri": "https://localhost:8080/",
          "height": 206
        }
      },
      "outputs": [
        {
          "output_type": "execute_result",
          "data": {
            "text/plain": [
              "        TV  radio  newspaper  sales\n",
              "83    75.3   20.3       32.5   11.3\n",
              "143  220.5   33.2       37.9   20.1\n",
              "74   129.4    5.7       31.3   11.0\n",
              "70   216.8   43.9       27.2   22.3\n",
              "107   25.0   11.0       29.7    7.2"
            ],
            "text/html": [
              "\n",
              "  <div id=\"df-e6391e0d-60b4-4e79-a36e-8e078dd5cc89\">\n",
              "    <div class=\"colab-df-container\">\n",
              "      <div>\n",
              "<style scoped>\n",
              "    .dataframe tbody tr th:only-of-type {\n",
              "        vertical-align: middle;\n",
              "    }\n",
              "\n",
              "    .dataframe tbody tr th {\n",
              "        vertical-align: top;\n",
              "    }\n",
              "\n",
              "    .dataframe thead th {\n",
              "        text-align: right;\n",
              "    }\n",
              "</style>\n",
              "<table border=\"1\" class=\"dataframe\">\n",
              "  <thead>\n",
              "    <tr style=\"text-align: right;\">\n",
              "      <th></th>\n",
              "      <th>TV</th>\n",
              "      <th>radio</th>\n",
              "      <th>newspaper</th>\n",
              "      <th>sales</th>\n",
              "    </tr>\n",
              "  </thead>\n",
              "  <tbody>\n",
              "    <tr>\n",
              "      <th>83</th>\n",
              "      <td>75.3</td>\n",
              "      <td>20.3</td>\n",
              "      <td>32.5</td>\n",
              "      <td>11.3</td>\n",
              "    </tr>\n",
              "    <tr>\n",
              "      <th>143</th>\n",
              "      <td>220.5</td>\n",
              "      <td>33.2</td>\n",
              "      <td>37.9</td>\n",
              "      <td>20.1</td>\n",
              "    </tr>\n",
              "    <tr>\n",
              "      <th>74</th>\n",
              "      <td>129.4</td>\n",
              "      <td>5.7</td>\n",
              "      <td>31.3</td>\n",
              "      <td>11.0</td>\n",
              "    </tr>\n",
              "    <tr>\n",
              "      <th>70</th>\n",
              "      <td>216.8</td>\n",
              "      <td>43.9</td>\n",
              "      <td>27.2</td>\n",
              "      <td>22.3</td>\n",
              "    </tr>\n",
              "    <tr>\n",
              "      <th>107</th>\n",
              "      <td>25.0</td>\n",
              "      <td>11.0</td>\n",
              "      <td>29.7</td>\n",
              "      <td>7.2</td>\n",
              "    </tr>\n",
              "  </tbody>\n",
              "</table>\n",
              "</div>\n",
              "      <button class=\"colab-df-convert\" onclick=\"convertToInteractive('df-e6391e0d-60b4-4e79-a36e-8e078dd5cc89')\"\n",
              "              title=\"Convert this dataframe to an interactive table.\"\n",
              "              style=\"display:none;\">\n",
              "        \n",
              "  <svg xmlns=\"http://www.w3.org/2000/svg\" height=\"24px\"viewBox=\"0 0 24 24\"\n",
              "       width=\"24px\">\n",
              "    <path d=\"M0 0h24v24H0V0z\" fill=\"none\"/>\n",
              "    <path d=\"M18.56 5.44l.94 2.06.94-2.06 2.06-.94-2.06-.94-.94-2.06-.94 2.06-2.06.94zm-11 1L8.5 8.5l.94-2.06 2.06-.94-2.06-.94L8.5 2.5l-.94 2.06-2.06.94zm10 10l.94 2.06.94-2.06 2.06-.94-2.06-.94-.94-2.06-.94 2.06-2.06.94z\"/><path d=\"M17.41 7.96l-1.37-1.37c-.4-.4-.92-.59-1.43-.59-.52 0-1.04.2-1.43.59L10.3 9.45l-7.72 7.72c-.78.78-.78 2.05 0 2.83L4 21.41c.39.39.9.59 1.41.59.51 0 1.02-.2 1.41-.59l7.78-7.78 2.81-2.81c.8-.78.8-2.07 0-2.86zM5.41 20L4 18.59l7.72-7.72 1.47 1.35L5.41 20z\"/>\n",
              "  </svg>\n",
              "      </button>\n",
              "      \n",
              "  <style>\n",
              "    .colab-df-container {\n",
              "      display:flex;\n",
              "      flex-wrap:wrap;\n",
              "      gap: 12px;\n",
              "    }\n",
              "\n",
              "    .colab-df-convert {\n",
              "      background-color: #E8F0FE;\n",
              "      border: none;\n",
              "      border-radius: 50%;\n",
              "      cursor: pointer;\n",
              "      display: none;\n",
              "      fill: #1967D2;\n",
              "      height: 32px;\n",
              "      padding: 0 0 0 0;\n",
              "      width: 32px;\n",
              "    }\n",
              "\n",
              "    .colab-df-convert:hover {\n",
              "      background-color: #E2EBFA;\n",
              "      box-shadow: 0px 1px 2px rgba(60, 64, 67, 0.3), 0px 1px 3px 1px rgba(60, 64, 67, 0.15);\n",
              "      fill: #174EA6;\n",
              "    }\n",
              "\n",
              "    [theme=dark] .colab-df-convert {\n",
              "      background-color: #3B4455;\n",
              "      fill: #D2E3FC;\n",
              "    }\n",
              "\n",
              "    [theme=dark] .colab-df-convert:hover {\n",
              "      background-color: #434B5C;\n",
              "      box-shadow: 0px 1px 3px 1px rgba(0, 0, 0, 0.15);\n",
              "      filter: drop-shadow(0px 1px 2px rgba(0, 0, 0, 0.3));\n",
              "      fill: #FFFFFF;\n",
              "    }\n",
              "  </style>\n",
              "\n",
              "      <script>\n",
              "        const buttonEl =\n",
              "          document.querySelector('#df-e6391e0d-60b4-4e79-a36e-8e078dd5cc89 button.colab-df-convert');\n",
              "        buttonEl.style.display =\n",
              "          google.colab.kernel.accessAllowed ? 'block' : 'none';\n",
              "\n",
              "        async function convertToInteractive(key) {\n",
              "          const element = document.querySelector('#df-e6391e0d-60b4-4e79-a36e-8e078dd5cc89');\n",
              "          const dataTable =\n",
              "            await google.colab.kernel.invokeFunction('convertToInteractive',\n",
              "                                                     [key], {});\n",
              "          if (!dataTable) return;\n",
              "\n",
              "          const docLinkHtml = 'Like what you see? Visit the ' +\n",
              "            '<a target=\"_blank\" href=https://colab.research.google.com/notebooks/data_table.ipynb>data table notebook</a>'\n",
              "            + ' to learn more about interactive tables.';\n",
              "          element.innerHTML = '';\n",
              "          dataTable['output_type'] = 'display_data';\n",
              "          await google.colab.output.renderOutput(dataTable, element);\n",
              "          const docLink = document.createElement('div');\n",
              "          docLink.innerHTML = docLinkHtml;\n",
              "          element.appendChild(docLink);\n",
              "        }\n",
              "      </script>\n",
              "    </div>\n",
              "  </div>\n",
              "  "
            ]
          },
          "metadata": {},
          "execution_count": 24
        }
      ],
      "source": [
        "import numpy as np\n",
        "import pandas as pd\n",
        "\n",
        "path = 'https://raw.githubusercontent.com/akitim/datasets/main/Advertising.csv'\n",
        "# path = '/content/Advertising.csv'\n",
        "data = pd.read_csv(path, index_col=0)\n",
        "data.sample(5)"
      ]
    },
    {
      "cell_type": "markdown",
      "metadata": {
        "id": "bf4aVFndDUKf"
      },
      "source": [
        "**Проверьте, есть ли в данных пропуски и, если они есть - удалите их**"
      ]
    },
    {
      "cell_type": "code",
      "execution_count": 25,
      "metadata": {
        "id": "tiVeFnR5DUKg",
        "outputId": "1f1efd28-ff71-4dc8-c392-3ff7eaa2b31d",
        "colab": {
          "base_uri": "https://localhost:8080/"
        }
      },
      "outputs": [
        {
          "output_type": "stream",
          "name": "stdout",
          "text": [
            "Количество пропусков в признаках:\n"
          ]
        },
        {
          "output_type": "execute_result",
          "data": {
            "text/plain": [
              "TV           0\n",
              "radio        0\n",
              "newspaper    0\n",
              "sales        0\n",
              "dtype: int64"
            ]
          },
          "metadata": {},
          "execution_count": 25
        }
      ],
      "source": [
        "print('Количество пропусков в признаках:')\n",
        "data.isna().sum(axis=0)"
      ]
    },
    {
      "cell_type": "code",
      "execution_count": 25,
      "metadata": {
        "id": "wk3MVpIHvmg6"
      },
      "outputs": [],
      "source": []
    },
    {
      "cell_type": "markdown",
      "metadata": {
        "id": "rTkiqPr_DUKh"
      },
      "source": [
        "**Преобразуйте ваши признаки в массивы NumPy и разделите их на переменные X (предикторы) и y(целевая переменная)**"
      ]
    },
    {
      "cell_type": "code",
      "execution_count": 26,
      "metadata": {
        "id": "R9OHIRB3a_Xa"
      },
      "outputs": [],
      "source": [
        "target = 'sales'\n",
        "y = data[target].values\n",
        "X = data.drop(target, axis=1).values"
      ]
    },
    {
      "cell_type": "markdown",
      "metadata": {
        "id": "KCvjSoHEDUKo"
      },
      "source": [
        "## Координатный спуск (3 балла)"
      ]
    },
    {
      "cell_type": "markdown",
      "metadata": {
        "id": "yjNm8dATDUKq"
      },
      "source": [
        "**Добавим единичный столбец для того, чтобы у нас был свободный коэффициент в уравнении регрессии:**"
      ]
    },
    {
      "cell_type": "code",
      "execution_count": 27,
      "metadata": {
        "id": "LMgq0fmKDUKr",
        "outputId": "e16fd55f-28b3-4ec4-9c10-855c68cbe3d1",
        "colab": {
          "base_uri": "https://localhost:8080/"
        }
      },
      "outputs": [
        {
          "output_type": "stream",
          "name": "stdout",
          "text": [
            "(200, 4) (200, 1)\n"
          ]
        }
      ],
      "source": [
        "import numpy as np\n",
        "\n",
        "X = np.hstack([np.ones(X.shape[0]).reshape(-1, 1), X])\n",
        "y = y.reshape(-1, 1)\n",
        "print(X.shape, y.shape)"
      ]
    },
    {
      "cell_type": "markdown",
      "metadata": {
        "id": "R008OQwcDUKt"
      },
      "source": [
        "**Нормализуем данные: обычно это необходимо для корректной работы алгоритма**"
      ]
    },
    {
      "cell_type": "code",
      "execution_count": 28,
      "metadata": {
        "id": "2Sk7Wx-SDUKt"
      },
      "outputs": [],
      "source": [
        "# X = X / np.sqrt(np.sum(np.square(X), axis=0))\n",
        "X = X / np.linalg.norm(X, axis=0)"
      ]
    },
    {
      "cell_type": "markdown",
      "metadata": {
        "id": "F_pHHbAdDUKu"
      },
      "source": [
        "**Реализуйте алгоритм координатного спуска:** (3 балла)\n",
        "\n",
        "Ниже приведен алгоритм координатного спуска для случая нормализованных данных:"
      ]
    },
    {
      "cell_type": "markdown",
      "metadata": {
        "id": "DGT0_oRUvmg7"
      },
      "source": [
        "**Задано:**\n",
        "\n",
        "* $X=(x_{ij})$ - матрица наблюдений, размерностью $dim(X)=(n, m)$\n",
        "* $N=1000$ - количество итераций\n",
        "\n",
        "**Примечание:** *1000 итераций здесь указаны для этого задания, на самом деле их может быть намного больше, нет детерменированного значения.*\n",
        "\n",
        "**Алгоритм (математическая запись):**\n",
        "* Создать нулевой вектор параметров $w_0=(0, 0,..., 0)^T$\n",
        "* Для всех $t=1, 2, ..., N$ итераций:\n",
        "    * Для всех $k = 1, 2,..., m$:\n",
        "        * Фиксируем значение всех признаков, кроме $k$-ого и вычисляем прогноз модели линейной регрессии.Для этого исключаем признак $k$-ый из данных и $w_j$ из параметров при построении прогноза.\n",
        "        Математически это можно записать следующим образом:\n",
        "\n",
        "        $$h_i = \\sum_{j=1}^{k-1} x_{ij}w_{j} + \\sum_{j=k+1}^{m} x_{ij}w_j $$\n",
        "\n",
        "        **Примечание:**\n",
        "        \n",
        "        *Обратите, что в данной записи текущий признак под номером $k$ не участвует в сумме.Сравните эту запись с классической записью прогноза линейной регрессии в случае нормированных данных (когда участвуют все признаки):*\n",
        "\n",
        "        $$h_i = \\sum_{j=1}^{m} x_{ij}w_{j}$$\n",
        "        \n",
        "        * Вычисляем новое значение параметра $k$-ого коэффициента:\n",
        "        $$w_k = \\sum_{i=1}^{n} x_{ik} (y_i - h_i) = x_k^T(y-h) $$\n",
        "\n",
        "    * Вычисляем значение функции потерь и сохраняем в историю изменения функции потерь (В оценке функции потерь участвуют все признаки):\n",
        "        $$\\hat{y_i} = \\sum_{j=1}^{m}x_{ij}w_j$$\n",
        "        $$Loss_t = \\frac{1}{n} \\sum_{i=1}^{n}(y_i-\\hat{y_i})^2$$\n",
        "        \n",
        "        или в векторном виде:\n",
        "        \n",
        "        $$\\hat{y} = Xw$$\n",
        "        $$Loss_t = \\frac{1}{n}(y-\\hat{y})^T(y-\\hat{y})$$\n",
        "    \n",
        "\n"
      ]
    },
    {
      "cell_type": "markdown",
      "metadata": {
        "id": "S01ag8SOvmg7"
      },
      "source": [
        "**Алгоритм (псевдокод):**\n",
        "```python\n",
        "\n",
        "num_iters = #количество итераций\n",
        "m = # количество строк в матрице X\n",
        "n = # количество столбцов в матрице X\n",
        "w = #вектор размера nx1, состояющий из нулей\n",
        "\n",
        "for i in range(num_iters):\n",
        "    for k in range(n):\n",
        "        # Вычисляем прогноз без k-ого фактора\n",
        "        h = (X[:,0:k] @ w[0:k]) + (X[:,k+1:] @ w[k+1:])\n",
        "        # Обновляем новое значение k-ого коэффициента\n",
        "        w[k] =  (X[:,k].T @ (y - h))\n",
        "        # Вычисляем функцию потерь\n",
        "        cost = sum((X @ w) - y) ** 2)/(len(y))\n",
        "\n",
        "```"
      ]
    },
    {
      "cell_type": "markdown",
      "metadata": {
        "id": "y3IdiHm9DUKv"
      },
      "source": [
        "Вам необходимо реализовать координатный спуск, и вывести веса в модели линейной регрессии."
      ]
    },
    {
      "cell_type": "code",
      "execution_count": 30,
      "metadata": {
        "id": "7vBL_rXfvmg8",
        "outputId": "657b84c6-7fdd-4eac-bbe0-26638025663d",
        "colab": {
          "base_uri": "https://localhost:8080/"
        }
      },
      "outputs": [
        {
          "output_type": "stream",
          "name": "stdout",
          "text": [
            "Коэффициенты модели c линейным поиском: 41.56436932 110.1311791 73.52741586 -0.55088017\n",
            "Коэффициенты модели с аналитической оптимизацией: 41.56316128 110.13131356 73.52792981 -0.55023811\n"
          ]
        }
      ],
      "source": [
        "import numpy as np\n",
        "\n",
        "class CustomLinearRegression:\n",
        "\n",
        "    def __init__(self, solver='CD_linsearch',\n",
        "                 fit_intercept=False, max_iter=100, tol=1e-5):\n",
        "        self.solver = solver\n",
        "        self.fit_intercept = fit_intercept\n",
        "        self.max_iter = max_iter\n",
        "        self.tolerance = tol\n",
        "        self.status = 'Not fitted!'\n",
        "        self._intercept = None\n",
        "        self.coef_ = None\n",
        "        self.Ls = None\n",
        "        self.trajectory = None\n",
        "        self.nit = None\n",
        "        self.__fitted = False\n",
        "\n",
        "\n",
        "    def _CD_linsearch(self, X, y, w_0=None):\n",
        "    #координатный спуск с минимизацией линейным поиском по каждой координате\n",
        "\n",
        "        if self.fit_intercept:\n",
        "            ones = np.ones(shape=(X.shape[0], 1))\n",
        "            X = np.hstack(ones, X)\n",
        "\n",
        "        n, m = X.shape\n",
        "        w = w_0.copy() if w_0 is not None else np.zeros(shape=(1, m))\n",
        "        # w = w.reshape((-1, 1)) # для матричных операций\n",
        "\n",
        "        # функция потерь\n",
        "        def Loss(w, X, y):\n",
        "            n = y.size\n",
        "            return (1 / n * (X @ w.T - y).T @ (X @ w.T - y))[0, 0]\n",
        "\n",
        "        L_curr = Loss(w, X, y)\n",
        "        status = ''\n",
        "        Ls = [L_curr]\n",
        "        coords = [w.copy()]\n",
        "        for i in range(self.max_iter):\n",
        "            for k in range(m):\n",
        "            # линейный поиск минимума в напр. w_k: делаем \"большой\" шаг в обе\n",
        "            # стороны от т. w_0_k,чтобы гарантированно попасть в направление\n",
        "            # убывания Loss смотрим, уменьшилась ли Loss-ф-ции в новых точках;\n",
        "            # если да, переходим в т. с наименьшим зн-ем Loss, нет -\n",
        "            # уменьшаем шаг в 1 / phi раз, снова смотрим Loss в новых точках\n",
        "\n",
        "                step = 101 # шаг линейного поиска\n",
        "                phi = 0.61803398875 # коэф. уменьшения шага линейного поиска\n",
        "                cond = False\n",
        "                while not cond:\n",
        "                    # 'большой' шаг в обе стороны по коорд. w_k,\n",
        "\n",
        "                    w_k_plus, w_k_minus = w[0, k] + step, w[0, k] - step\n",
        "\n",
        "                    # вычисляем Loss\n",
        "                    w_k_curr = w[0, k]\n",
        "                    w[0, k] = w_k_plus\n",
        "                    L_plus = Loss(w, X, y)\n",
        "                    w[0, k] = w_k_minus\n",
        "                    L_minus = Loss(w, X, y)\n",
        "                    w[0, k] = w_k_curr\n",
        "\n",
        "                    #debug\n",
        "                    # print('i, k=', i, k)\n",
        "                    # print('L_curr=', L_curr)\n",
        "                    # print('L_plus=', L_plus)\n",
        "                    # print('L_minus=', L_minus)\n",
        "                    # print('step=', step)\n",
        "\n",
        "                    #удалось ли хотя бы на одном из отр. и пол. шагов уменьшить Loss\n",
        "                    cond = L_curr >= L_plus or L_curr >= L_minus\n",
        "\n",
        "                    #если удалось\n",
        "                    if cond:\n",
        "                        w[0, k] = [w_k_minus, w_k_plus][np.argmin([L_minus, L_plus])]\n",
        "                        L_curr = np.min([L_minus, L_plus])\n",
        "                        coords += [w.copy()]\n",
        "\n",
        "                    step *= phi\n",
        "\n",
        "                Ls += [L_curr]\n",
        "\n",
        "            # if np.linalg.norm(coords[-2] - coords[-1]) <= tol:\n",
        "            if Ls[-2] - Ls[-1] <= self.tolerance:\n",
        "                status = 'Success'\n",
        "                break\n",
        "\n",
        "            if i == self.max_iter - 1:\n",
        "                status = 'Max_iter reached!'\n",
        "\n",
        "        return {'status': status, 'weights': w[0], 'Ls': Ls, 'trajectory': coords,\n",
        "                'nit': i + 1}\n",
        "\n",
        "    def _CD_analytic(self, X, y, w_0=None):\n",
        "\n",
        "        #координатный спуск с оптимизацией линейным поиском по каждой координате\n",
        "        if self.fit_intercept:\n",
        "            ones = np.ones(shape=(X.shape[0], 1))\n",
        "            X = np.hstack(ones, X)\n",
        "\n",
        "        n, m = X.shape\n",
        "        w = w_0.copy() if w_0 is not None else np.zeros(shape=(1, m))\n",
        "        # w = w.reshape((-1, 1)) # для матричных операций\n",
        "\n",
        "        # функция потерь\n",
        "        def Loss(w, X, y):\n",
        "            n = y.size\n",
        "            return (1 / n * (X @ w.T - y).T @ (X @ w.T - y))[0, 0]\n",
        "\n",
        "        L_curr = Loss(w, X, y)\n",
        "        status = ''\n",
        "        Ls = [L_curr]\n",
        "        # print(w)\n",
        "        coords = [w.copy()[0]] #sic!\n",
        "        # coords.append(w)\n",
        "        # print('coords init: ', coords)\n",
        "        for i in range(self.max_iter):\n",
        "            for k in range(m):\n",
        "                w[0, k] = 0\n",
        "                # w[0, k] = -2 * X[:, [k]].T @ (X @ w.T - y) / np.sum(X[:, k])\n",
        "                w[0, k] = - X[:, [k]].T @ (X @ w.T - y)\n",
        "\n",
        "                # print('coords before:', coords)\n",
        "                coords += [w.copy()[0]] #sic!\n",
        "                # print('coords after:', coords, '\\n')\n",
        "                L_curr = Loss(w, X, y)\n",
        "                Ls += [L_curr]\n",
        "\n",
        "            if Ls[-2] - Ls[-1] <= self.tolerance:\n",
        "                status = 'Success'\n",
        "                break\n",
        "\n",
        "            if i == self.max_iter - 1:\n",
        "                status = 'Max_iter reached!'\n",
        "\n",
        "        return {'status': status, 'weights': w[0], 'Ls': Ls,\n",
        "                'trajectory': coords, 'nit': (i + 1) * m}\n",
        "\n",
        "    def fit(self, X, y, w_0=None):\n",
        "\n",
        "        if self.solver == 'CD_linsearch':\n",
        "            res = self._CD_linsearch(X, y, w_0)\n",
        "        elif self.solver == 'CD_analytic':\n",
        "            res = self._CD_analytic(X, y, w_0)\n",
        "\n",
        "        self.status = res['status']\n",
        "        if self.fit_intercept:\n",
        "            self._intercept = res['weights'][0]\n",
        "            self.coef_ = res['weights'][1:]\n",
        "        else:\n",
        "            self._intercept = 0\n",
        "            self.coef_ = res['weights']\n",
        "\n",
        "        self.Ls = res['Ls']\n",
        "        self.trajectory = res['trajectory']\n",
        "        self.nit = res['nit']\n",
        "\n",
        "        return None\n",
        "\n",
        "    def predict(self, X):\n",
        "        if self.fitted:\n",
        "            if self.fit_intercept:\n",
        "                ones = np.ones(shape=(X.shape[0], 1))\n",
        "                X_ = np.hstack(ones, X)\n",
        "                w = np.hstack([self._intercept, self.coef_]).reshape((1, -1))\n",
        "            else:\n",
        "                X_ = X.copy()\n",
        "                w = self.coef_.reshape((1, -1))\n",
        "            return X_ @ w.T\n",
        "        else:\n",
        "            print (f\"{self.__str__} should be fitted first! \")\n",
        "            return None\n",
        "\n",
        "\n",
        "\n",
        "# ==============================================================================\n",
        "# ==============================================================================\n",
        "# ==============================================================================\n",
        "def coord_descent_linsearch(X, y, w_0=None, max_iter=100, tol=1e-5):\n",
        "    #координатный спуск с минимизацией линейным поиском по каждой координате\n",
        "\n",
        "    n, m = X.shape\n",
        "    w = w_0.copy() if w_0 is not None else np.zeros(shape=(1, m))\n",
        "    # w = w.reshape((-1, 1)) # для матричных операций\n",
        "\n",
        "    # функция потерь\n",
        "    def Loss(w, X, y):\n",
        "        n = y.size\n",
        "        return (1 / n * (X @ w.T - y).T @ (X @ w.T - y))[0, 0]\n",
        "\n",
        "    L_curr = Loss(w, X, y)\n",
        "    status = ''\n",
        "    Ls = [L_curr]\n",
        "    coords = [w.copy()[0]]\n",
        "    for i in range(max_iter):\n",
        "        for k in range(m):\n",
        "            # линейный поиск минимума в напр. w_k: делаем \"большой\" шаг в обе\n",
        "            # стороны от т. w_0_k,чтобы гарантированно попасть в направление\n",
        "            # убывания Loss смотрим, уменьшилась ли Loss-ф-ции в новых точках;\n",
        "            # если да, переходим в т. с наименьшим зн-ем Loss, нет -\n",
        "            # уменьшаем шаг в 1 / phi раз, снова смотрим Loss в новых точках\n",
        "\n",
        "            step = 101 # шаг линейного поиска\n",
        "            phi = 0.61803398875 # коэф. уменьшения шага линейного поиска\n",
        "            cond = False\n",
        "            while not cond:\n",
        "                # 'большой' шаг в обе стороны по коорд. w_k,\n",
        "\n",
        "                w_k_plus, w_k_minus = w[0, k] + step, w[0, k] - step\n",
        "\n",
        "                # вычисляем Loss\n",
        "                w_k_curr = w[0, k]\n",
        "                w[0, k] = w_k_plus\n",
        "                L_plus = Loss(w, X, y)\n",
        "                w[0, k] = w_k_minus\n",
        "                L_minus = Loss(w, X, y)\n",
        "                w[0, k] = w_k_curr\n",
        "\n",
        "                #debug\n",
        "                # print('i, k=', i, k)\n",
        "                # print('L_curr=', L_curr)\n",
        "                # print('L_plus=', L_plus)\n",
        "                # print('L_minus=', L_minus)\n",
        "                # print('step=', step)\n",
        "\n",
        "                #удалось ли хотя бы на одном из отр. и пол. шагов уменьшить Loss\n",
        "                cond = L_curr >= L_plus or L_curr >= L_minus\n",
        "\n",
        "                #если удалось\n",
        "                if cond:\n",
        "                    w[0, k] = [w_k_minus, w_k_plus][np.argmin([L_minus, L_plus])]\n",
        "                    L_curr = np.min([L_minus, L_plus])\n",
        "                    coords += [w.copy()[0]]\n",
        "\n",
        "                step *= phi\n",
        "\n",
        "                # if step <= 1e-6: break\n",
        "            Ls += [L_curr]\n",
        "\n",
        "        # if np.linalg.norm(coords[-2] - coords[-1]) <= tol:\n",
        "        if Ls[-2] - Ls[-1] <= tol:\n",
        "            status = 'Success'\n",
        "            break\n",
        "\n",
        "        if i == max_iter - 1:\n",
        "            status = 'Max_iter reached!'\n",
        "\n",
        "    return {'status': status, 'weights': w[0], 'Ls': Ls, 'trajectory': coords,\n",
        "            'nit': i + 1}\n",
        "\n",
        "# ==============================================================================\n",
        "# ==============================================================================\n",
        "def coord_descent_analytic(X, y, fit_intercept=False,\n",
        "                           w_0=None, max_iter=100, tol=1e-5):\n",
        "\n",
        "    #координатный спуск с оптимизацией линейным поиском по каждой координате\n",
        "    if fit_intercept:\n",
        "        ones = np.ones(shape=(X.shape[0], 1))\n",
        "        X = np.hstack(ones, X)\n",
        "\n",
        "    n, m = X.shape\n",
        "    w = w_0.copy() if w_0 is not None else np.zeros(shape=(1, m))\n",
        "    # w = w.reshape((-1, 1)) # для матричных операций\n",
        "\n",
        "    # функция потерь\n",
        "    def Loss(w, X, y):\n",
        "        n = y.size\n",
        "        return (1 / n * (X @ w.T - y).T @ (X @ w.T - y))[0, 0]\n",
        "\n",
        "    L_curr = Loss(w, X, y)\n",
        "    status = ''\n",
        "    Ls = [L_curr]\n",
        "    # print(w)\n",
        "    coords = [w.copy()[0]] #sic!\n",
        "    # coords.append(w)\n",
        "    # print('coords init: ', coords)\n",
        "    for i in range(max_iter):\n",
        "        for k in range(m):\n",
        "            w[0, k] = 0\n",
        "            # w[0, k] = -2 * X[:, [k]].T @ (X @ w.T - y) / np.sum(X[:, k])\n",
        "            w[0, k] = - X[:, [k]].T @ (X @ w.T - y)\n",
        "\n",
        "            # print('coords before:', coords)\n",
        "            coords += [w.copy()[0]] #sic!\n",
        "            # print('coords after:', coords, '\\n')\n",
        "            L_curr = Loss(w, X, y)\n",
        "            Ls += [L_curr]\n",
        "\n",
        "        if Ls[-2] - Ls[-1] <= tol:\n",
        "            status = 'Success'\n",
        "            break\n",
        "\n",
        "        if i == max_iter - 1:\n",
        "            status = 'Max_iter reached!'\n",
        "\n",
        "    return {'status': status, 'weights': w[0], 'Ls': Ls,\n",
        "            'trajectory': coords, 'nit': (i + 1) * m}\n",
        "\n",
        "# ==============================================================================\n",
        "# ==============================================================================\n",
        "w_0 = np.zeros(shape=(1, X.shape[1]))\n",
        "res_cd_ls = coord_descent_linsearch(X, y, w_0=w_0, max_iter=100, tol=1e-10)\n",
        "res_cd_an = coord_descent_analytic(X, y, w_0=w_0, max_iter=100, tol=1e-10)\n",
        "print ('Коэффициенты модели c линейным поиском:',\n",
        "       *np.round(res_cd_ls['weights'], 8))\n",
        "print ('Коэффициенты модели с аналитической оптимизацией:',\n",
        "       *np.round(res_cd_an['weights'], 8))\n"
      ]
    },
    {
      "cell_type": "code",
      "source": [
        "# delete\n",
        "w_0 = None\n",
        "w = w_0.copy() if w_0 is not None else np.zeros(shape=(1, 4))\n",
        "w = w.reshape((-1, 1)) # для матричных операций\n",
        "w"
      ],
      "metadata": {
        "id": "ZpiXMnNq3Lmp",
        "outputId": "e22457c4-368a-4bcc-df9b-e006b422b418",
        "colab": {
          "base_uri": "https://localhost:8080/"
        }
      },
      "execution_count": 35,
      "outputs": [
        {
          "output_type": "execute_result",
          "data": {
            "text/plain": [
              "array([[0.],\n",
              "       [0.],\n",
              "       [0.],\n",
              "       [0.]])"
            ]
          },
          "metadata": {},
          "execution_count": 35
        }
      ]
    },
    {
      "cell_type": "code",
      "source": [
        "# delete\n",
        "import matplotlib.pyplot as plt\n",
        "\n",
        "trajectory_1 = np.asarray(res_cd_ls['trajectory'])\n",
        "trajectory_2 = np.asarray(res_cd_an['trajectory'])\n",
        "\n",
        "u1 = trajectory_1[:, 1]\n",
        "v1 = trajectory_1[:, 2]\n",
        "z1 = trajectory_1[:, 3]\n",
        "\n",
        "u2 = trajectory_2[:, 1]\n",
        "v2 = trajectory_2[:, 2]\n",
        "z2 = trajectory_2[:, 3]\n",
        "\n",
        "fig, ax = plt.subplots(nrows=1, ncols=1, figsize=(6, 6),\n",
        "                        subplot_kw={'projection':'3d'})\n",
        "ax.set_title('Траектория оптимизации Loss в координатах w1...w3',\n",
        "                size=10)\n",
        "\n",
        "ax.plot(u1, v1, z1, 'C0-', label='linsearch');\n",
        "ax.plot(u2, v2, z2, 'C3-', label='analytic');\n",
        "plt.legend(loc='upper left');\n",
        "\n",
        "def rho(x1, x2):\n",
        "    return ((x1 - x2) @ (x1 - x2))**0.5\n",
        "\n",
        "optimum = res_cd_ls['weights']\n",
        "\n",
        "r1 = [rho(optimum, x) for x in res_cd_ls['trajectory']]\n",
        "r2 = [rho(optimum, x) for x in res_cd_an['trajectory']]\n",
        "n1 = np.arange(0, len(r1))\n",
        "n2 = np.arange(0, len(r2))\n",
        "\n",
        "fig_, ax_ = plt.subplots(nrows=1, ncols=1, figsize=(4, 4))\n",
        "ax_.set_title('Расстояние до оптимума от номера итерации', size=10)\n",
        "ax_.plot(n1, r1, 'C0-', label='linsearch');\n",
        "ax_.plot(n2, r2, 'C3-', label='analytic');\n",
        "plt.legend(loc='upper right');\n"
      ],
      "metadata": {
        "colab": {
          "base_uri": "https://localhost:8080/",
          "height": 895
        },
        "id": "N3oC4ka9f0UX",
        "outputId": "ba6b5e31-e334-4e6d-cd60-8664aa3d7777"
      },
      "execution_count": 7,
      "outputs": [
        {
          "output_type": "display_data",
          "data": {
            "text/plain": [
              "<Figure size 600x600 with 1 Axes>"
            ],
            "image/png": "[encoded data removed]"
          },
          "metadata": {}
        },
        {
          "output_type": "display_data",
          "data": {
            "text/plain": [
              "<Figure size 400x400 with 1 Axes>"
            ],
            "image/png": "[encoded data removed]"
          },
          "metadata": {}
        }
      ]
    },
    {
      "cell_type": "markdown",
      "metadata": {
        "id": "a3jG-7UADUKx"
      },
      "source": [
        "Сравните результаты с реализацией линейной регрессии из библиотеки sklearn:"
      ]
    },
    {
      "cell_type": "code",
      "execution_count": 8,
      "metadata": {
        "id": "SBl-1Yb5DUKy",
        "colab": {
          "base_uri": "https://localhost:8080/"
        },
        "outputId": "432118c5-895c-4738-de1f-94a107b549e5"
      },
      "outputs": [
        {
          "output_type": "stream",
          "name": "stdout",
          "text": [
            "[[ 41.56217205 110.13144155  73.52860638  -0.55006384]]\n"
          ]
        }
      ],
      "source": [
        "from sklearn.linear_model import LinearRegression\n",
        "\n",
        "model = LinearRegression(fit_intercept=False)\n",
        "model.fit(X, y)\n",
        "\n",
        "print(model.coef_)"
      ]
    },
    {
      "cell_type": "markdown",
      "metadata": {
        "id": "hIl0AGLyDUKy"
      },
      "source": [
        "Если вы все сделали верно, они должны практически совпасть!"
      ]
    },
    {
      "cell_type": "markdown",
      "metadata": {
        "id": "VCGwFnPdDUKz"
      },
      "source": [
        "## Стохастический градиентный спуск (6 баллов)"
      ]
    },
    {
      "cell_type": "markdown",
      "metadata": {
        "id": "5u7Q2YJla_Xk"
      },
      "source": [
        "**Отмасштабируйте столбцы исходной матрицы *X* (которую мы не нормализовали еще!). Для того, чтобы это сделать, надо вычесть из каждого значения среднее и разделить на стандартное отклонение** (0.5 баллов)"
      ]
    },
    {
      "cell_type": "code",
      "execution_count": 9,
      "metadata": {
        "id": "9cEpV_5La_Xo"
      },
      "outputs": [],
      "source": [
        "target = 'sales'\n",
        "y = data[target].values\n",
        "X = data.drop(target, axis=1).values\n",
        "\n",
        "X = (X - np.mean(X, axis=0)) / np.std(X, axis=0)"
      ]
    },
    {
      "cell_type": "markdown",
      "metadata": {
        "id": "8WkNYILHDUK1"
      },
      "source": [
        "**Добавим единичный столбец**"
      ]
    },
    {
      "cell_type": "code",
      "execution_count": 10,
      "metadata": {
        "id": "EVl5tEGtDUK1"
      },
      "outputs": [],
      "source": [
        "X = np.hstack([np.ones(X.shape[0]).reshape(-1, 1), X])"
      ]
    },
    {
      "cell_type": "markdown",
      "metadata": {
        "id": "m53tZA5fDUK1"
      },
      "source": [
        "**Создайте функцию mse_error для вычисления среднеквадратичной ошибки, принимающую два аргумента: реальные значения и предсказывающие, и возвращающую значение mse** (0.5 балла)"
      ]
    },
    {
      "cell_type": "code",
      "execution_count": 11,
      "metadata": {
        "id": "0cvtC08Aa_YK"
      },
      "outputs": [],
      "source": [
        "def mse_error(y_true, y_pred):\n",
        "    n = y_true.size\n",
        "    return 1 / n * (y_true - y_pred) @ (y_true - y_pred)\n"
      ]
    },
    {
      "cell_type": "markdown",
      "metadata": {
        "id": "lpOLhdvBDUK2"
      },
      "source": [
        "**Сделайте наивный прогноз: предскажите продажи средним значением. После этого рассчитайте среднеквадратичную ошибку для этого прогноза** (0.5 балла)"
      ]
    },
    {
      "cell_type": "code",
      "execution_count": 12,
      "metadata": {
        "id": "kLV_XljVa_YZ",
        "colab": {
          "base_uri": "https://localhost:8080/"
        },
        "outputId": "d8e41ea9-8584-49cc-fd66-b275967591b8"
      },
      "outputs": [
        {
          "output_type": "execute_result",
          "data": {
            "text/plain": [
              "27.085743750000002"
            ]
          },
          "metadata": {},
          "execution_count": 12
        }
      ],
      "source": [
        "y_naive = np.mean(y)\n",
        "mse_error(y, y_naive)\n"
      ]
    },
    {
      "cell_type": "markdown",
      "metadata": {
        "id": "BbybL2ola_ZM"
      },
      "source": [
        "**Создайте функцию *lin_pred*, которая может по матрице предикторов *X* и вектору весов линейной модели *w* получить вектор прогнозов** (0.5 балла)"
      ]
    },
    {
      "cell_type": "code",
      "execution_count": 13,
      "metadata": {
        "id": "1Cyz-Luaa_ZO"
      },
      "outputs": [],
      "source": [
        "def lin_pred(X, w):\n",
        "    return X @ w.copy().reshape(-1, 1)\n",
        "# lin_pred(X, np.array([0, 1, 2, 3]))"
      ]
    },
    {
      "cell_type": "markdown",
      "metadata": {
        "id": "BU4adBrya_Zm"
      },
      "source": [
        "**Создайте функцию *stoch_grad_step* для реализации шага стохастического градиентного спуска. (1.5 балла)\n",
        "Функция должна принимать на вход следующие аргументы:**\n",
        "* матрицу *X*\n",
        "* вектора *y* и *w*\n",
        "* число *train_ind* - индекс объекта обучающей выборки (строки матрицы *X*), по которому считается изменение весов\n",
        "* число *$\\eta$* (eta) - шаг градиентного спуска\n",
        "\n",
        "Результатом будет вектор обновленных весов"
      ]
    },
    {
      "cell_type": "markdown",
      "metadata": {
        "id": "dyLY-P02DUK5"
      },
      "source": [
        "Шаг для стохастического градиентного спуска выглядит следующим образом:"
      ]
    },
    {
      "cell_type": "markdown",
      "metadata": {
        "id": "ORsAyIKNDUK5"
      },
      "source": [
        "$$\\Large w_j \\leftarrow w_j - \\frac{2\\eta}{\\ell} \\sum_{i=1}^\\ell{{x_{ij}((w_0 + w_1x_{i1} + w_2x_{i2} +  w_3x_{i3}) - y_i)}}$$"
      ]
    },
    {
      "cell_type": "markdown",
      "metadata": {
        "id": "CQl2FrpuDUK6"
      },
      "source": [
        "Для того, чтобы написать функцию, нужно сделать следующее:\n",
        "    \n",
        "*  посчитать направление изменения: умножить объект обучающей выборки на 2 и на разницу между предсказанным значением и реальным, а потом поделить на количество элементов в выборке.\n",
        "* вернуть разницу между вектором весов и направлением изменения, умноженным на шаг градиентного спуска"
      ]
    },
    {
      "cell_type": "code",
      "execution_count": 14,
      "metadata": {
        "id": "YUhVQGsja_Zn",
        "colab": {
          "base_uri": "https://localhost:8080/"
        },
        "outputId": "41ddaadd-2598-4bc5-b364-5e55b24ae712"
      },
      "outputs": [
        {
          "output_type": "execute_result",
          "data": {
            "text/plain": [
              "array([[166.36363636,  88.77009206,  80.13622471,  45.8898682 ]])"
            ]
          },
          "metadata": {},
          "execution_count": 14
        }
      ],
      "source": [
        "def stoch_grad_step(X, y, w, train_ind, eta):\n",
        "    w_ = w.copy().reshape(1, -1)\n",
        "    y_ = y.copy().reshape(1, -1)\n",
        "    batch_size = y.size\n",
        "    delta_w_ =  - 2 * eta / batch_size * (w_ @ X.T - y_) @ X\n",
        "\n",
        "    return w_ + delta_w_\n",
        "\n",
        "X_ = X[45:56, :]\n",
        "y_ = y[45:56]\n",
        "stoch_grad_step(X=X_, y=y_, w=w_0, train_ind=0, eta=5)\n"
      ]
    },
    {
      "cell_type": "markdown",
      "metadata": {
        "id": "pXwIFd0Ma_Zx"
      },
      "source": [
        "**Создайте функцию *stochastic_gradient_descent*, для реализации стохастического градиентного спуска (2.5 балла)**\n",
        "\n",
        "**Функция принимает на вход следующие аргументы:**\n",
        "- Матрицу признаков X\n",
        "- Целевую переменнную\n",
        "- Изначальную точку (веса модели)\n",
        "- Параметр, определяющий темп обучения\n",
        "- Максимальное число итераций\n",
        "- Евклидово расстояние между векторами весов на соседних итерациях градиентного спуска,при котором алгоритм прекращает работу\n",
        "\n",
        "**На каждой итерации в вектор (список) должно записываться текущее значение среднеквадратичной ошибки. Функция должна возвращать вектор весов $w$, а также вектор (список) ошибок.**"
      ]
    },
    {
      "cell_type": "markdown",
      "metadata": {
        "id": "ZVeoNF1JDUK7"
      },
      "source": [
        "Алгоритм сследующий:\n",
        "    \n",
        "* Инициализируйте расстояние между векторами весов на соседних итерациях большим числом (можно бесконечностью)\n",
        "* Создайте пустой список для фиксации ошибок\n",
        "* Создайте счетчик итераций\n",
        "* Реализуйте оновной цикл обучения пока расстояние между векторами весов больше того, при котором надо прекратить работу (когда расстояния станут слишком маленькими - значит, мы застряли в одном месте) и количество итераций меньше максимально разрешенного: сгенерируйте случайный индекс, запишите текущую ошибку в вектор ошибок, запишите в переменную текущий шаг стохастического спуска с использованием функции, написанной ранее. Далее рассчитайте текущее расстояние между векторами весов и прибавьте к счетчику итераций 1.\n",
        "* Верните вектор весов и вектор ошибок"
      ]
    },
    {
      "cell_type": "code",
      "execution_count": null,
      "metadata": {
        "id": "CD_xcFNfa_Zy"
      },
      "outputs": [],
      "source": [
        "# ваш код"
      ]
    },
    {
      "cell_type": "markdown",
      "metadata": {
        "id": "0OqHO1Rta_Z7"
      },
      "source": [
        " **Запустите $10^5$ итераций стохастического градиентного спуска. Укажите вектор начальных весов, состоящий из нулей. Можете поэкспериментировать с параметром, отвечающим за темп обучения.**"
      ]
    },
    {
      "cell_type": "markdown",
      "metadata": {
        "id": "N6fHHT6vDUK8"
      },
      "source": [
        "**Постройте график зависимости ошибки от номера итерации**"
      ]
    },
    {
      "cell_type": "code",
      "execution_count": null,
      "metadata": {
        "id": "zsSfHDzLDUK9"
      },
      "outputs": [],
      "source": [
        "# ваш код"
      ]
    },
    {
      "cell_type": "markdown",
      "metadata": {
        "id": "O-MVOcJ6a_aY"
      },
      "source": [
        "**Выведите вектор весов, к которому сошелся метод.**"
      ]
    },
    {
      "cell_type": "code",
      "execution_count": null,
      "metadata": {
        "id": "MPjVkXe4DUK9"
      },
      "outputs": [],
      "source": [
        "# ваш код"
      ]
    },
    {
      "cell_type": "markdown",
      "metadata": {
        "id": "qabzMc3Qa_a5"
      },
      "source": [
        "**Выведите среднеквадратичную ошибку на последней итерации.**"
      ]
    },
    {
      "cell_type": "code",
      "execution_count": null,
      "metadata": {
        "id": "7tPWleMIa_a7"
      },
      "outputs": [],
      "source": [
        "# ваш код"
      ]
    }
  ],
  "metadata": {
    "colab": {
      "provenance": [],
      "include_colab_link": true
    },
    "kernelspec": {
      "display_name": "Python 3.10.8 ('base')",
      "language": "python",
      "name": "python3"
    },
    "language_info": {
      "codemirror_mode": {
        "name": "ipython",
        "version": 3
      },
      "file_extension": ".py",
      "mimetype": "text/x-python",
      "name": "python",
      "nbconvert_exporter": "python",
      "pygments_lexer": "ipython3",
      "version": "3.10.8"
    },
    "vscode": {
      "interpreter": {
        "hash": "86c56a74836ad344b00594bf6f38fa6a676a207ceefe20d101fbc465800ccb8d"
      }
    }
  },
  "nbformat": 4,
  "nbformat_minor": 0
}