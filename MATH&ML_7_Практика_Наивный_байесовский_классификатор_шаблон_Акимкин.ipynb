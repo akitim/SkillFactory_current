{
  "cells": [
    {
      "cell_type": "markdown",
      "metadata": {
        "id": "view-in-github",
        "colab_type": "text"
      },
      "source": [
        "<a href=\"https://colab.research.google.com/github/akitim/SkillFactory_current/blob/main/MATH%26ML_7_%D0%9F%D1%80%D0%B0%D0%BA%D1%82%D0%B8%D0%BA%D0%B0_%D0%9D%D0%B0%D0%B8%D0%B2%D0%BD%D1%8B%D0%B9_%D0%B1%D0%B0%D0%B9%D0%B5%D1%81%D0%BE%D0%B2%D1%81%D0%BA%D0%B8%D0%B9_%D0%BA%D0%BB%D0%B0%D1%81%D1%81%D0%B8%D1%84%D0%B8%D0%BA%D0%B0%D1%82%D0%BE%D1%80_%D1%88%D0%B0%D0%B1%D0%BB%D0%BE%D0%BD_%D0%90%D0%BA%D0%B8%D0%BC%D0%BA%D0%B8%D0%BD.ipynb\" target=\"_parent\"><img src=\"https://colab.research.google.com/assets/colab-badge.svg\" alt=\"Open In Colab\"/></a>"
      ]
    },
    {
      "cell_type": "markdown",
      "id": "00009cca",
      "metadata": {
        "id": "00009cca"
      },
      "source": [
        "# Классификация текстов с использованием Наивного Байесовского Классификатора"
      ]
    },
    {
      "cell_type": "markdown",
      "id": "a52414b8",
      "metadata": {
        "id": "a52414b8"
      },
      "source": [
        "## Задание 1 (1 балл)"
      ]
    },
    {
      "cell_type": "markdown",
      "id": "f5f27b43",
      "metadata": {
        "id": "f5f27b43"
      },
      "source": [
        "Откройте данные. Узнайте, сколько в них спам- и не спам-писем. Визуализируйте полученные соотношение подходящим образом."
      ]
    },
    {
      "cell_type": "code",
      "execution_count": 1,
      "id": "ac369274",
      "metadata": {
        "id": "ac369274",
        "colab": {
          "base_uri": "https://localhost:8080/",
          "height": 206
        },
        "outputId": "bdf2258d-f689-4b22-a81b-ce15f740ea51"
      },
      "outputs": [
        {
          "output_type": "execute_result",
          "data": {
            "text/plain": [
              "                                                  email  label\n",
              "2860  office of egnr femi daniel federal ministry of...      1\n",
              "612    i m a bit confused about this boycott thing h...      0\n",
              "52    john p looney stated the following on thu aug ...      0\n",
              "1196  indeed i was thinking of getting back into doi...      0\n",
              "2711   hyperlink copyright NUMBER all rights reserve...      1"
            ],
            "text/html": [
              "\n",
              "\n",
              "  <div id=\"df-b0de866c-03dc-4bf7-b248-5ec80408405b\">\n",
              "    <div class=\"colab-df-container\">\n",
              "      <div>\n",
              "<style scoped>\n",
              "    .dataframe tbody tr th:only-of-type {\n",
              "        vertical-align: middle;\n",
              "    }\n",
              "\n",
              "    .dataframe tbody tr th {\n",
              "        vertical-align: top;\n",
              "    }\n",
              "\n",
              "    .dataframe thead th {\n",
              "        text-align: right;\n",
              "    }\n",
              "</style>\n",
              "<table border=\"1\" class=\"dataframe\">\n",
              "  <thead>\n",
              "    <tr style=\"text-align: right;\">\n",
              "      <th></th>\n",
              "      <th>email</th>\n",
              "      <th>label</th>\n",
              "    </tr>\n",
              "  </thead>\n",
              "  <tbody>\n",
              "    <tr>\n",
              "      <th>2860</th>\n",
              "      <td>office of egnr femi daniel federal ministry of...</td>\n",
              "      <td>1</td>\n",
              "    </tr>\n",
              "    <tr>\n",
              "      <th>612</th>\n",
              "      <td>i m a bit confused about this boycott thing h...</td>\n",
              "      <td>0</td>\n",
              "    </tr>\n",
              "    <tr>\n",
              "      <th>52</th>\n",
              "      <td>john p looney stated the following on thu aug ...</td>\n",
              "      <td>0</td>\n",
              "    </tr>\n",
              "    <tr>\n",
              "      <th>1196</th>\n",
              "      <td>indeed i was thinking of getting back into doi...</td>\n",
              "      <td>0</td>\n",
              "    </tr>\n",
              "    <tr>\n",
              "      <th>2711</th>\n",
              "      <td>hyperlink copyright NUMBER all rights reserve...</td>\n",
              "      <td>1</td>\n",
              "    </tr>\n",
              "  </tbody>\n",
              "</table>\n",
              "</div>\n",
              "      <button class=\"colab-df-convert\" onclick=\"convertToInteractive('df-b0de866c-03dc-4bf7-b248-5ec80408405b')\"\n",
              "              title=\"Convert this dataframe to an interactive table.\"\n",
              "              style=\"display:none;\">\n",
              "\n",
              "  <svg xmlns=\"http://www.w3.org/2000/svg\" height=\"24px\"viewBox=\"0 0 24 24\"\n",
              "       width=\"24px\">\n",
              "    <path d=\"M0 0h24v24H0V0z\" fill=\"none\"/>\n",
              "    <path d=\"M18.56 5.44l.94 2.06.94-2.06 2.06-.94-2.06-.94-.94-2.06-.94 2.06-2.06.94zm-11 1L8.5 8.5l.94-2.06 2.06-.94-2.06-.94L8.5 2.5l-.94 2.06-2.06.94zm10 10l.94 2.06.94-2.06 2.06-.94-2.06-.94-.94-2.06-.94 2.06-2.06.94z\"/><path d=\"M17.41 7.96l-1.37-1.37c-.4-.4-.92-.59-1.43-.59-.52 0-1.04.2-1.43.59L10.3 9.45l-7.72 7.72c-.78.78-.78 2.05 0 2.83L4 21.41c.39.39.9.59 1.41.59.51 0 1.02-.2 1.41-.59l7.78-7.78 2.81-2.81c.8-.78.8-2.07 0-2.86zM5.41 20L4 18.59l7.72-7.72 1.47 1.35L5.41 20z\"/>\n",
              "  </svg>\n",
              "      </button>\n",
              "\n",
              "\n",
              "\n",
              "    <div id=\"df-77dedb58-d6dd-409f-bb0f-79a0fd96f029\">\n",
              "      <button class=\"colab-df-quickchart\" onclick=\"quickchart('df-77dedb58-d6dd-409f-bb0f-79a0fd96f029')\"\n",
              "              title=\"Suggest charts.\"\n",
              "              style=\"display:none;\">\n",
              "\n",
              "<svg xmlns=\"http://www.w3.org/2000/svg\" height=\"24px\"viewBox=\"0 0 24 24\"\n",
              "     width=\"24px\">\n",
              "    <g>\n",
              "        <path d=\"M19 3H5c-1.1 0-2 .9-2 2v14c0 1.1.9 2 2 2h14c1.1 0 2-.9 2-2V5c0-1.1-.9-2-2-2zM9 17H7v-7h2v7zm4 0h-2V7h2v10zm4 0h-2v-4h2v4z\"/>\n",
              "    </g>\n",
              "</svg>\n",
              "      </button>\n",
              "    </div>\n",
              "\n",
              "<style>\n",
              "  .colab-df-quickchart {\n",
              "    background-color: #E8F0FE;\n",
              "    border: none;\n",
              "    border-radius: 50%;\n",
              "    cursor: pointer;\n",
              "    display: none;\n",
              "    fill: #1967D2;\n",
              "    height: 32px;\n",
              "    padding: 0 0 0 0;\n",
              "    width: 32px;\n",
              "  }\n",
              "\n",
              "  .colab-df-quickchart:hover {\n",
              "    background-color: #E2EBFA;\n",
              "    box-shadow: 0px 1px 2px rgba(60, 64, 67, 0.3), 0px 1px 3px 1px rgba(60, 64, 67, 0.15);\n",
              "    fill: #174EA6;\n",
              "  }\n",
              "\n",
              "  [theme=dark] .colab-df-quickchart {\n",
              "    background-color: #3B4455;\n",
              "    fill: #D2E3FC;\n",
              "  }\n",
              "\n",
              "  [theme=dark] .colab-df-quickchart:hover {\n",
              "    background-color: #434B5C;\n",
              "    box-shadow: 0px 1px 3px 1px rgba(0, 0, 0, 0.15);\n",
              "    filter: drop-shadow(0px 1px 2px rgba(0, 0, 0, 0.3));\n",
              "    fill: #FFFFFF;\n",
              "  }\n",
              "</style>\n",
              "\n",
              "    <script>\n",
              "      async function quickchart(key) {\n",
              "        const containerElement = document.querySelector('#' + key);\n",
              "        const charts = await google.colab.kernel.invokeFunction(\n",
              "            'suggestCharts', [key], {});\n",
              "      }\n",
              "    </script>\n",
              "\n",
              "      <script>\n",
              "\n",
              "function displayQuickchartButton(domScope) {\n",
              "  let quickchartButtonEl =\n",
              "    domScope.querySelector('#df-77dedb58-d6dd-409f-bb0f-79a0fd96f029 button.colab-df-quickchart');\n",
              "  quickchartButtonEl.style.display =\n",
              "    google.colab.kernel.accessAllowed ? 'block' : 'none';\n",
              "}\n",
              "\n",
              "        displayQuickchartButton(document);\n",
              "      </script>\n",
              "      <style>\n",
              "    .colab-df-container {\n",
              "      display:flex;\n",
              "      flex-wrap:wrap;\n",
              "      gap: 12px;\n",
              "    }\n",
              "\n",
              "    .colab-df-convert {\n",
              "      background-color: #E8F0FE;\n",
              "      border: none;\n",
              "      border-radius: 50%;\n",
              "      cursor: pointer;\n",
              "      display: none;\n",
              "      fill: #1967D2;\n",
              "      height: 32px;\n",
              "      padding: 0 0 0 0;\n",
              "      width: 32px;\n",
              "    }\n",
              "\n",
              "    .colab-df-convert:hover {\n",
              "      background-color: #E2EBFA;\n",
              "      box-shadow: 0px 1px 2px rgba(60, 64, 67, 0.3), 0px 1px 3px 1px rgba(60, 64, 67, 0.15);\n",
              "      fill: #174EA6;\n",
              "    }\n",
              "\n",
              "    [theme=dark] .colab-df-convert {\n",
              "      background-color: #3B4455;\n",
              "      fill: #D2E3FC;\n",
              "    }\n",
              "\n",
              "    [theme=dark] .colab-df-convert:hover {\n",
              "      background-color: #434B5C;\n",
              "      box-shadow: 0px 1px 3px 1px rgba(0, 0, 0, 0.15);\n",
              "      filter: drop-shadow(0px 1px 2px rgba(0, 0, 0, 0.3));\n",
              "      fill: #FFFFFF;\n",
              "    }\n",
              "  </style>\n",
              "\n",
              "      <script>\n",
              "        const buttonEl =\n",
              "          document.querySelector('#df-b0de866c-03dc-4bf7-b248-5ec80408405b button.colab-df-convert');\n",
              "        buttonEl.style.display =\n",
              "          google.colab.kernel.accessAllowed ? 'block' : 'none';\n",
              "\n",
              "        async function convertToInteractive(key) {\n",
              "          const element = document.querySelector('#df-b0de866c-03dc-4bf7-b248-5ec80408405b');\n",
              "          const dataTable =\n",
              "            await google.colab.kernel.invokeFunction('convertToInteractive',\n",
              "                                                     [key], {});\n",
              "          if (!dataTable) return;\n",
              "\n",
              "          const docLinkHtml = 'Like what you see? Visit the ' +\n",
              "            '<a target=\"_blank\" href=https://colab.research.google.com/notebooks/data_table.ipynb>data table notebook</a>'\n",
              "            + ' to learn more about interactive tables.';\n",
              "          element.innerHTML = '';\n",
              "          dataTable['output_type'] = 'display_data';\n",
              "          await google.colab.output.renderOutput(dataTable, element);\n",
              "          const docLink = document.createElement('div');\n",
              "          docLink.innerHTML = docLinkHtml;\n",
              "          element.appendChild(docLink);\n",
              "        }\n",
              "      </script>\n",
              "    </div>\n",
              "  </div>\n"
            ]
          },
          "metadata": {},
          "execution_count": 1
        }
      ],
      "source": [
        "import pandas as pd\n",
        "import numpy as np\n",
        "import matplotlib.pyplot as plt\n",
        "# import seaborn as sns\n",
        "# import plotly.express as px\n",
        "\n",
        "# from scipy import stats\n",
        "# from sklearn import linear_model\n",
        "# from sklearn import preprocessing\n",
        "from sklearn import model_selection\n",
        "from sklearn.naive_bayes import ComplementNB\n",
        "# from sklearn import tree\n",
        "# from sklearn import ensemble\n",
        "# from sklearn import metrics\n",
        "# from sklearn import cluster\n",
        "# from sklearn import feature_selection\n",
        "\n",
        "import warnings\n",
        "warnings.filterwarnings(\"ignore\")\n",
        "\n",
        "# from sys import getsizeof\n",
        "# import pickle\n",
        "\n",
        "# from google.colab import drive\n",
        "# drive.mount('/content/drive')\n",
        "\n",
        "path = \"https://raw.githubusercontent.com/akitim/datasets/main/spam_or_not_spam.zip\"\n",
        "data = pd.read_csv(path)\n",
        "data.sample(5)\n"
      ]
    },
    {
      "cell_type": "code",
      "execution_count": 2,
      "id": "f4231781",
      "metadata": {
        "id": "f4231781",
        "colab": {
          "base_uri": "https://localhost:8080/"
        },
        "outputId": "b8d0e264-ee56-4b68-98db-d35fe8e1a475"
      },
      "outputs": [
        {
          "output_type": "stream",
          "name": "stdout",
          "text": [
            "В датасете писем:\n",
            "\tcо спамом: 500\n",
            "\tбез спама: 2500\n",
            "\n"
          ]
        },
        {
          "output_type": "execute_result",
          "data": {
            "text/plain": [
              "0    0.833333\n",
              "1    0.166667\n",
              "Name: label, dtype: float64"
            ]
          },
          "metadata": {},
          "execution_count": 2
        }
      ],
      "source": [
        "# частоты классов, 1 - спам, 0 - не спам\n",
        "class_num = data['label'].value_counts()\n",
        "print(f\"В датасете писем:\\n\\tcо спамом: {class_num[1]}\" +\\\n",
        "      f\"\\n\\tбез спама: {class_num[0]}\\n\")\n",
        "class_freq = class_num / data['label'].size\n",
        "# labels = class_freq.index.to_list()\n",
        "class_freq"
      ]
    },
    {
      "cell_type": "code",
      "execution_count": 3,
      "id": "9b871636",
      "metadata": {
        "id": "9b871636",
        "colab": {
          "base_uri": "https://localhost:8080/",
          "height": 256
        },
        "outputId": "fb9c7523-4dce-45b3-d0cf-51b8436e8dcc"
      },
      "outputs": [
        {
          "output_type": "display_data",
          "data": {
            "text/plain": [
              "<Figure size 500x200 with 1 Axes>"
            ],
            "image/png": "[encoded data removed]"
          },
          "metadata": {}
        }
      ],
      "source": [
        "fig, ax = plt.subplots(1, 1, figsize=(5, 2))\n",
        "ax.barh(y=['not spam\\nclass 0', 'spam\\nclass 1'], width=class_freq,\n",
        "        height=0.4, color=['g', 'r']);\n",
        "ax.set_ylabel('classes');\n",
        "ax.set_xlabel('frequency in data');\n",
        "ax.set_title('Class imbalance');\n",
        "ax.text(class_freq[0] / 2 - 0.078, -0.05, f'total {class_num[0]}',\n",
        "        fontdict={'size': 10, 'c':'w'});\n",
        "ax.text(class_freq[0] + 0.02, -0.05, f'{np.round(class_freq[0], 2)}',\n",
        "        fontdict={'size': 10, 'c':'black'});\n",
        "ax.text(class_freq[1] / 2 - 0.072, 0.95, f'total {class_num[1]}',\n",
        "        fontdict={'size': 10, 'c':'w'});\n",
        "ax.text(class_freq[1] + 0.02, 0.95, f'{np.round(class_freq[1], 2)}',\n",
        "        fontdict={'size': 10, 'c':'black'});\n",
        "ax.set_xbound(ax.get_xbound()[0], ax.get_xbound()[1] + 0.06)"
      ]
    },
    {
      "cell_type": "markdown",
      "id": "b161614b",
      "metadata": {
        "id": "b161614b"
      },
      "source": [
        "## Задание 2 (2 балла)"
      ]
    },
    {
      "cell_type": "markdown",
      "id": "dd29763b",
      "metadata": {
        "id": "dd29763b"
      },
      "source": [
        "Вам необходимо предобработать ваши данные и перевести их в векторный вид. Подгрузим необходимый модуль:"
      ]
    },
    {
      "cell_type": "code",
      "execution_count": 4,
      "id": "382eac9c",
      "metadata": {
        "id": "382eac9c"
      },
      "outputs": [],
      "source": [
        "from sklearn.feature_extraction.text import CountVectorizer"
      ]
    },
    {
      "cell_type": "markdown",
      "id": "89546b95",
      "metadata": {
        "id": "89546b95"
      },
      "source": [
        "Замените в данных все пустые строки и строки, состоящие из пробелов, на пропуски (NaN). После этого удалите из данных все строки, в которых наблюдаются пропущенные значения."
      ]
    },
    {
      "cell_type": "code",
      "execution_count": 5,
      "id": "45180f82",
      "metadata": {
        "id": "45180f82"
      },
      "outputs": [],
      "source": [
        "data_clean = data.copy()\n",
        "data_clean[\"email\"] = data_clean[\"email\"].str.replace('\\W+', ' ').\\\n",
        "    str.replace('\\s+', ' ').str.strip().str.lower()\n",
        "data_clean[\"email\"][data_clean[\"email\"] == ''] = np.NaN\n",
        "data_clean.dropna(inplace=True)\n",
        "\n",
        "\n",
        "# 2806\n",
        "# 2828\n",
        "# 2966\n",
        "# data_clean.loc[[2806, 2828, 2966], 'email']\n"
      ]
    },
    {
      "cell_type": "markdown",
      "id": "2ca2fe88",
      "metadata": {
        "id": "2ca2fe88"
      },
      "source": [
        "Переводим данные в векторный вид:"
      ]
    },
    {
      "cell_type": "code",
      "execution_count": 6,
      "id": "29e9a37b",
      "metadata": {
        "id": "29e9a37b"
      },
      "outputs": [],
      "source": [
        "vectorizer = CountVectorizer()\n",
        "X = vectorizer.fit_transform(data_clean[\"email\"])\n"
      ]
    },
    {
      "cell_type": "markdown",
      "id": "88c8b726",
      "metadata": {
        "id": "88c8b726"
      },
      "source": [
        "Определите, сколько теперь признаков в нашем наборе данных:"
      ]
    },
    {
      "cell_type": "code",
      "execution_count": 7,
      "id": "f19c2a02",
      "metadata": {
        "id": "f19c2a02",
        "colab": {
          "base_uri": "https://localhost:8080/"
        },
        "outputId": "fb2f396a-9dbb-4bb5-cd01-680cb01c7554"
      },
      "outputs": [
        {
          "output_type": "stream",
          "name": "stdout",
          "text": [
            "Признаков в наборе данных: 34116\n"
          ]
        }
      ],
      "source": [
        "print(\"Признаков в наборе данных:\", X.shape[1])"
      ]
    },
    {
      "cell_type": "markdown",
      "id": "1803f282",
      "metadata": {
        "id": "1803f282"
      },
      "source": [
        "## Задание 3 (2 балла)"
      ]
    },
    {
      "cell_type": "markdown",
      "id": "39f400b7",
      "metadata": {
        "id": "39f400b7"
      },
      "source": [
        "Определите целевую переменную и признаки:"
      ]
    },
    {
      "cell_type": "code",
      "execution_count": 8,
      "id": "31f1acb6",
      "metadata": {
        "id": "31f1acb6"
      },
      "outputs": [],
      "source": [
        "X = X.todense()\n",
        "y = data_clean['label'].values\n"
      ]
    },
    {
      "cell_type": "markdown",
      "id": "b20f273e",
      "metadata": {
        "id": "b20f273e"
      },
      "source": [
        "Разделите выборку на обучающую и тестовую, используя стратифицированное разбиение (параметр `stratify` установите в значение вектора ответов y) размер тестовой выборки (`test_size`) возьмите как 0.25, параметр `random_state` определите со значением 42:"
      ]
    },
    {
      "cell_type": "code",
      "execution_count": 9,
      "id": "96538fb6",
      "metadata": {
        "id": "96538fb6"
      },
      "outputs": [],
      "source": [
        "X_train, X_test, y_train, y_test = model_selection.train_test_split(\n",
        "    X, y, test_size=0.25, stratify=y, random_state=42\n",
        ") #[1].shape\n",
        "X_train, X_test, y_train, y_test =  np.asarray(X_train), np.asarray(X_test),\\\n",
        "     np.asarray(y_train), np.asarray(y_test)"
      ]
    },
    {
      "cell_type": "markdown",
      "id": "139dac3d",
      "metadata": {
        "id": "139dac3d"
      },
      "source": [
        "Рассчитайте среднее значение целевой переменной по тестовой выборке:"
      ]
    },
    {
      "cell_type": "code",
      "execution_count": 10,
      "id": "e9baf72d",
      "metadata": {
        "id": "e9baf72d",
        "colab": {
          "base_uri": "https://localhost:8080/"
        },
        "outputId": "7cabdb11-9d02-41e1-a544-dbd2c2660ed9"
      },
      "outputs": [
        {
          "output_type": "execute_result",
          "data": {
            "text/plain": [
              "0.165"
            ]
          },
          "metadata": {},
          "execution_count": 10
        }
      ],
      "source": [
        "np.round(y_test.mean(), 3)"
      ]
    },
    {
      "cell_type": "markdown",
      "id": "710e0e94",
      "metadata": {
        "id": "710e0e94"
      },
      "source": [
        "## Задание 4 (3 балла)"
      ]
    },
    {
      "cell_type": "markdown",
      "id": "26cf6885",
      "metadata": {
        "id": "26cf6885"
      },
      "source": [
        "Определите и обучите подходящий алгоритм с параметром alpha = 0.01"
      ]
    },
    {
      "cell_type": "code",
      "execution_count": 11,
      "id": "4865dd78",
      "metadata": {
        "id": "4865dd78"
      },
      "outputs": [],
      "source": [
        "# from sklearn.naive_bayes import ComplementNB\n",
        "NB_compl = ComplementNB(alpha=0.01)\n",
        "NB_compl.fit(np.asarray(X_train), y_train);\n"
      ]
    },
    {
      "cell_type": "markdown",
      "id": "d803fbe3",
      "metadata": {
        "id": "d803fbe3"
      },
      "source": [
        "Оцените результат с точки зрения всех известных вам метрик (не менее трёх):"
      ]
    },
    {
      "cell_type": "code",
      "execution_count": 12,
      "id": "b0bbc4d2",
      "metadata": {
        "id": "b0bbc4d2",
        "colab": {
          "base_uri": "https://localhost:8080/",
          "height": 206
        },
        "outputId": "b8921f72-5be0-4f62-c892-9222048324db"
      },
      "outputs": [
        {
          "output_type": "execute_result",
          "data": {
            "text/plain": [
              "                     metrics value\n",
              "Precision                    1.000\n",
              "Recall(sensitivity)          0.927\n",
              "Specificity                  1.000\n",
              "Balanced accuracy            0.964\n",
              "F1-score                     0.962"
            ],
            "text/html": [
              "\n",
              "\n",
              "  <div id=\"df-e486dfa6-a403-4532-8617-7fb8dac1068b\">\n",
              "    <div class=\"colab-df-container\">\n",
              "      <div>\n",
              "<style scoped>\n",
              "    .dataframe tbody tr th:only-of-type {\n",
              "        vertical-align: middle;\n",
              "    }\n",
              "\n",
              "    .dataframe tbody tr th {\n",
              "        vertical-align: top;\n",
              "    }\n",
              "\n",
              "    .dataframe thead th {\n",
              "        text-align: right;\n",
              "    }\n",
              "</style>\n",
              "<table border=\"1\" class=\"dataframe\">\n",
              "  <thead>\n",
              "    <tr style=\"text-align: right;\">\n",
              "      <th></th>\n",
              "      <th>metrics value</th>\n",
              "    </tr>\n",
              "  </thead>\n",
              "  <tbody>\n",
              "    <tr>\n",
              "      <th>Precision</th>\n",
              "      <td>1.000</td>\n",
              "    </tr>\n",
              "    <tr>\n",
              "      <th>Recall(sensitivity)</th>\n",
              "      <td>0.927</td>\n",
              "    </tr>\n",
              "    <tr>\n",
              "      <th>Specificity</th>\n",
              "      <td>1.000</td>\n",
              "    </tr>\n",
              "    <tr>\n",
              "      <th>Balanced accuracy</th>\n",
              "      <td>0.964</td>\n",
              "    </tr>\n",
              "    <tr>\n",
              "      <th>F1-score</th>\n",
              "      <td>0.962</td>\n",
              "    </tr>\n",
              "  </tbody>\n",
              "</table>\n",
              "</div>\n",
              "      <button class=\"colab-df-convert\" onclick=\"convertToInteractive('df-e486dfa6-a403-4532-8617-7fb8dac1068b')\"\n",
              "              title=\"Convert this dataframe to an interactive table.\"\n",
              "              style=\"display:none;\">\n",
              "\n",
              "  <svg xmlns=\"http://www.w3.org/2000/svg\" height=\"24px\"viewBox=\"0 0 24 24\"\n",
              "       width=\"24px\">\n",
              "    <path d=\"M0 0h24v24H0V0z\" fill=\"none\"/>\n",
              "    <path d=\"M18.56 5.44l.94 2.06.94-2.06 2.06-.94-2.06-.94-.94-2.06-.94 2.06-2.06.94zm-11 1L8.5 8.5l.94-2.06 2.06-.94-2.06-.94L8.5 2.5l-.94 2.06-2.06.94zm10 10l.94 2.06.94-2.06 2.06-.94-2.06-.94-.94-2.06-.94 2.06-2.06.94z\"/><path d=\"M17.41 7.96l-1.37-1.37c-.4-.4-.92-.59-1.43-.59-.52 0-1.04.2-1.43.59L10.3 9.45l-7.72 7.72c-.78.78-.78 2.05 0 2.83L4 21.41c.39.39.9.59 1.41.59.51 0 1.02-.2 1.41-.59l7.78-7.78 2.81-2.81c.8-.78.8-2.07 0-2.86zM5.41 20L4 18.59l7.72-7.72 1.47 1.35L5.41 20z\"/>\n",
              "  </svg>\n",
              "      </button>\n",
              "\n",
              "\n",
              "\n",
              "    <div id=\"df-74d2bff9-5319-4d2f-8659-6e9268223222\">\n",
              "      <button class=\"colab-df-quickchart\" onclick=\"quickchart('df-74d2bff9-5319-4d2f-8659-6e9268223222')\"\n",
              "              title=\"Suggest charts.\"\n",
              "              style=\"display:none;\">\n",
              "\n",
              "<svg xmlns=\"http://www.w3.org/2000/svg\" height=\"24px\"viewBox=\"0 0 24 24\"\n",
              "     width=\"24px\">\n",
              "    <g>\n",
              "        <path d=\"M19 3H5c-1.1 0-2 .9-2 2v14c0 1.1.9 2 2 2h14c1.1 0 2-.9 2-2V5c0-1.1-.9-2-2-2zM9 17H7v-7h2v7zm4 0h-2V7h2v10zm4 0h-2v-4h2v4z\"/>\n",
              "    </g>\n",
              "</svg>\n",
              "      </button>\n",
              "    </div>\n",
              "\n",
              "<style>\n",
              "  .colab-df-quickchart {\n",
              "    background-color: #E8F0FE;\n",
              "    border: none;\n",
              "    border-radius: 50%;\n",
              "    cursor: pointer;\n",
              "    display: none;\n",
              "    fill: #1967D2;\n",
              "    height: 32px;\n",
              "    padding: 0 0 0 0;\n",
              "    width: 32px;\n",
              "  }\n",
              "\n",
              "  .colab-df-quickchart:hover {\n",
              "    background-color: #E2EBFA;\n",
              "    box-shadow: 0px 1px 2px rgba(60, 64, 67, 0.3), 0px 1px 3px 1px rgba(60, 64, 67, 0.15);\n",
              "    fill: #174EA6;\n",
              "  }\n",
              "\n",
              "  [theme=dark] .colab-df-quickchart {\n",
              "    background-color: #3B4455;\n",
              "    fill: #D2E3FC;\n",
              "  }\n",
              "\n",
              "  [theme=dark] .colab-df-quickchart:hover {\n",
              "    background-color: #434B5C;\n",
              "    box-shadow: 0px 1px 3px 1px rgba(0, 0, 0, 0.15);\n",
              "    filter: drop-shadow(0px 1px 2px rgba(0, 0, 0, 0.3));\n",
              "    fill: #FFFFFF;\n",
              "  }\n",
              "</style>\n",
              "\n",
              "    <script>\n",
              "      async function quickchart(key) {\n",
              "        const containerElement = document.querySelector('#' + key);\n",
              "        const charts = await google.colab.kernel.invokeFunction(\n",
              "            'suggestCharts', [key], {});\n",
              "      }\n",
              "    </script>\n",
              "\n",
              "      <script>\n",
              "\n",
              "function displayQuickchartButton(domScope) {\n",
              "  let quickchartButtonEl =\n",
              "    domScope.querySelector('#df-74d2bff9-5319-4d2f-8659-6e9268223222 button.colab-df-quickchart');\n",
              "  quickchartButtonEl.style.display =\n",
              "    google.colab.kernel.accessAllowed ? 'block' : 'none';\n",
              "}\n",
              "\n",
              "        displayQuickchartButton(document);\n",
              "      </script>\n",
              "      <style>\n",
              "    .colab-df-container {\n",
              "      display:flex;\n",
              "      flex-wrap:wrap;\n",
              "      gap: 12px;\n",
              "    }\n",
              "\n",
              "    .colab-df-convert {\n",
              "      background-color: #E8F0FE;\n",
              "      border: none;\n",
              "      border-radius: 50%;\n",
              "      cursor: pointer;\n",
              "      display: none;\n",
              "      fill: #1967D2;\n",
              "      height: 32px;\n",
              "      padding: 0 0 0 0;\n",
              "      width: 32px;\n",
              "    }\n",
              "\n",
              "    .colab-df-convert:hover {\n",
              "      background-color: #E2EBFA;\n",
              "      box-shadow: 0px 1px 2px rgba(60, 64, 67, 0.3), 0px 1px 3px 1px rgba(60, 64, 67, 0.15);\n",
              "      fill: #174EA6;\n",
              "    }\n",
              "\n",
              "    [theme=dark] .colab-df-convert {\n",
              "      background-color: #3B4455;\n",
              "      fill: #D2E3FC;\n",
              "    }\n",
              "\n",
              "    [theme=dark] .colab-df-convert:hover {\n",
              "      background-color: #434B5C;\n",
              "      box-shadow: 0px 1px 3px 1px rgba(0, 0, 0, 0.15);\n",
              "      filter: drop-shadow(0px 1px 2px rgba(0, 0, 0, 0.3));\n",
              "      fill: #FFFFFF;\n",
              "    }\n",
              "  </style>\n",
              "\n",
              "      <script>\n",
              "        const buttonEl =\n",
              "          document.querySelector('#df-e486dfa6-a403-4532-8617-7fb8dac1068b button.colab-df-convert');\n",
              "        buttonEl.style.display =\n",
              "          google.colab.kernel.accessAllowed ? 'block' : 'none';\n",
              "\n",
              "        async function convertToInteractive(key) {\n",
              "          const element = document.querySelector('#df-e486dfa6-a403-4532-8617-7fb8dac1068b');\n",
              "          const dataTable =\n",
              "            await google.colab.kernel.invokeFunction('convertToInteractive',\n",
              "                                                     [key], {});\n",
              "          if (!dataTable) return;\n",
              "\n",
              "          const docLinkHtml = 'Like what you see? Visit the ' +\n",
              "            '<a target=\"_blank\" href=https://colab.research.google.com/notebooks/data_table.ipynb>data table notebook</a>'\n",
              "            + ' to learn more about interactive tables.';\n",
              "          element.innerHTML = '';\n",
              "          dataTable['output_type'] = 'display_data';\n",
              "          await google.colab.output.renderOutput(dataTable, element);\n",
              "          const docLink = document.createElement('div');\n",
              "          docLink.innerHTML = docLinkHtml;\n",
              "          element.appendChild(docLink);\n",
              "        }\n",
              "      </script>\n",
              "    </div>\n",
              "  </div>\n"
            ]
          },
          "metadata": {},
          "execution_count": 12
        }
      ],
      "source": [
        "from sklearn.metrics import precision_score, recall_score\n",
        "from sklearn.metrics import balanced_accuracy_score, f1_score, roc_auc_score\n",
        "\n",
        "y_pred = NB_compl.predict(X_test)\n",
        "y_proba = NB_compl.predict_proba(X_test)\n",
        "\n",
        "TP = np.sum(y_pred + y_test == 2)\n",
        "TN = np.sum(y_pred + y_test == 0)\n",
        "FP = np.sum(y_pred[y_test == 0] == 1)\n",
        "FN = np.sum(y_pred[y_test == 1] == 0)\n",
        "# print(np.array([[TP, FP], [FN, TN]]))\n",
        "\n",
        "# precision = TP / (TP + FP)\n",
        "# recall = TP / (TP + FN)\n",
        "# sensitivity = TP / (TP + FN)\n",
        "# specificity = TN / (TN + FP)\n",
        "# balanced_accuracy = (recall + specificity) / 2\n",
        "# f1_score = 2 * precision * recall / precision + recall\n",
        "\n",
        "# sklearn_ = [precision_score(y_test, y_pred), recall_score(y_test, y_pred),\n",
        "#             2 * balanced_accuracy_score(y_test, y_pred) - recall_score(y_test, y_pred),\n",
        "#             balanced_accuracy_score(y_test, y_pred),\n",
        "#             f1_score(y_test, y_pred)]\n",
        "\n",
        "metrics_df = pd.DataFrame(\n",
        "    {'Precision': [TP / (TP + FP)], 'Recall(sensitivity)': [TP / (TP + FN)],\n",
        "     'Specificity': [TN / (TN + FP)],\n",
        "     'Balanced accuracy': [(TP / (TP + FN) + TN / (TN + FP) ) / 2],\n",
        "     'F1-score': [2 * TP / (2 * TP + FP + FN)]\n",
        "     }, index = ['metrics value']).T\n",
        "metrics_df['metrics value'] = metrics_df['metrics value'].round(3)\n",
        "# metrics_df['sklearn metrics'] = sklearn_\n",
        "metrics_df"
      ]
    },
    {
      "cell_type": "code",
      "source": [
        "# delete\n",
        "from sklearn.metrics import roc_curve\n",
        "fpr, tpr, thrs = roc_curve(y_test, y_proba[:, 1], pos_label=1)\n",
        "# plt.plot(fpr, tpr)\n",
        "# fpr, tpr, thrs\n",
        "\n",
        "len(np.insert(sorted(np.unique(y_proba), reverse=True), 0, 2))\n",
        "\n",
        "np.insert(sorted(np.unique(np.round(y_proba, 5))), 0, 2)"
      ],
      "metadata": {
        "colab": {
          "base_uri": "https://localhost:8080/"
        },
        "id": "lGWkKKjrMm2m",
        "outputId": "7c491c08-ea66-4804-e716-f36bbfd7cec6"
      },
      "id": "lGWkKKjrMm2m",
      "execution_count": 13,
      "outputs": [
        {
          "output_type": "execute_result",
          "data": {
            "text/plain": [
              "array([2.0000e+00, 0.0000e+00, 1.0000e-05, 2.0000e-05, 5.0000e-05,\n",
              "       4.2000e-04, 5.6000e-04, 5.9000e-04, 8.0000e-04, 1.0800e-03,\n",
              "       2.2700e-03, 3.1000e-03, 5.6900e-03, 7.1400e-03, 2.5030e-02,\n",
              "       3.9520e-02, 6.3290e-02, 1.9778e-01, 3.9558e-01, 4.1845e-01,\n",
              "       4.4567e-01, 5.5433e-01, 5.8155e-01, 6.0442e-01, 8.0222e-01,\n",
              "       9.3671e-01, 9.6048e-01, 9.7497e-01, 9.9286e-01, 9.9431e-01,\n",
              "       9.9690e-01, 9.9773e-01, 9.9892e-01, 9.9920e-01, 9.9941e-01,\n",
              "       9.9944e-01, 9.9958e-01, 9.9995e-01, 9.9998e-01, 9.9999e-01,\n",
              "       1.0000e+00])"
            ]
          },
          "metadata": {},
          "execution_count": 13
        }
      ]
    },
    {
      "cell_type": "markdown",
      "id": "c85976d1",
      "metadata": {
        "id": "c85976d1"
      },
      "source": [
        "Нарисуйте ROC-кривую:"
      ]
    },
    {
      "cell_type": "code",
      "execution_count": 84,
      "id": "b4195126",
      "metadata": {
        "id": "b4195126",
        "colab": {
          "base_uri": "https://localhost:8080/",
          "height": 351
        },
        "outputId": "67d6fe6d-eb7a-4b22-963b-8c0007a4c1e3"
      },
      "outputs": [
        {
          "output_type": "execute_result",
          "data": {
            "text/plain": [
              "0.9637096774193548"
            ]
          },
          "metadata": {},
          "execution_count": 84
        },
        {
          "output_type": "display_data",
          "data": {
            "text/plain": [
              "<Figure size 700x300 with 1 Axes>"
            ],
            "image/png": "[encoded data removed]"
          },
          "metadata": {}
        }
      ],
      "source": [
        "def ROC_curve_custom(y_true, y_proba, detail=15):\n",
        "    '''\n",
        "    Расчет ROC кривой для классификатора\n",
        "    Параметры:\n",
        "    y_true: numpy.ndarray - вектор реальных классов объектов размером (n_samples,)\n",
        "    y_proba: numpy.ndarray - вектор предсказаний вероятности класса 1\n",
        "                             размером (n_samples,)\n",
        "    detail: int [0, inf] - детализация кривой\n",
        "\n",
        "    Возвращает:\n",
        "    tuple(FPR, TPR, thresholds)\n",
        "    FPR: numpy.ndarray вектор значений false positive rate размером (len(thresholds),)\n",
        "    TPR: numpy.ndarray вектор значений true positive rate размером  (len(thresholds),)\n",
        "    thresholds: numpy.ndarray вектор значений порогов, длина зависит от detail\n",
        "    '''\n",
        "    #кол-во элементов класса 1\n",
        "    N_pos = np.sum(y_true)\n",
        "    #кол-во элементов класса 0\n",
        "    N_neg = - np.sum(y_true - 1) #y_true.size - N_pos\n",
        "    # thresholds = np.array([2.0, 1.00000000e+000, 3.95582034e-001, 1.97777725e-001,\n",
        "    #     2.50304524e-002, 7.13896259e-003, 5.69060755e-003, 8.01737212e-004,\n",
        "    #     5.87674160e-004, 2.94115091e-006, 1.71626708e-006, 4.97861450e-009,\n",
        "    #     4.88105108e-009, 9.52112111e-011, 8.57231319e-011, 3.86618520e-052,\n",
        "    #     2.56990706e-052, 2.17388884e-322, 0.00000000e+000])\n",
        "\n",
        "    # пороги - уникальные зн-я y_proba для класса 1 в убыв. порядке\n",
        "    thresholds = np.insert(sorted(np.unique(np.round(y_proba, detail)),\n",
        "                                  reverse=True), 0, 1.01)\n",
        "    y_proba_ = y_proba.copy()\n",
        "    FPR = [] #false pos rate\n",
        "    TPR = [] #true neg rate\n",
        "    for threshold in thresholds:\n",
        "        FPR += [np.sum(y_proba_[y_true == 0] > threshold) / N_neg]\n",
        "        TPR += [np.sum(y_proba_[y_true == 1] > threshold) / N_pos]\n",
        "\n",
        "    return np.asarray(FPR), np.asarray(TPR), np.asarray(thresholds)\n",
        "\n",
        "FPR, TPR, thrs = ROC_curve_custom(y_test, y_proba[:, 1], 10)\n",
        "\n",
        "# находим площадь под ROC методом трапеций\n",
        "dFPR = FPR[1:] - FPR[:-1]\n",
        "halfsum_TPR = (TPR[1:] + TPR[:-1]) / 2\n",
        "ROC_AUC = np.sum(dFPR * halfsum_TPR)\n",
        "# ROC_AUC = np.sum(dFPR * TPR[:-1])\n",
        "\n",
        "# для ступенчатого вида ROC как в sklearn\n",
        "FPR_step = np.ravel(list(zip(FPR, FPR)))[1:]\n",
        "TPR_step = np.ravel(list(zip(TPR, TPR)))[:-1]\n",
        "\n",
        "fig, ax = plt.subplots(1, 1, figsize=(7, 3))\n",
        "ax.plot(FPR_step, TPR_step);\n",
        "ax.set_xlabel('False positive rate');\n",
        "ax.set_ylabel('True positive rate');\n",
        "ax.set_title('ROC curve');\n",
        "# ax.set_xlim(-0.001, 0.01)\n",
        "# ax.set_ylim(0.89, 1)\n",
        "ax.text(0.35, 0.5-0.05, f'AUC = {np.round(ROC_AUC, 5)}', fontdict={'size':20});\n",
        "roc_auc_score(y_test, y_pred)"
      ]
    },
    {
      "cell_type": "code",
      "source": [
        "# delete\n",
        "x_ = np.array([1, 2, 3, 4, 5])\n",
        "y_ = x**2\n",
        "x_ = np.ravel(list(zip(x_, x_)))[1:]\n",
        "y_ = np.ravel(list(zip(y_, y_)))[:-1]\n",
        "plt.plot(x_, y_);\n",
        "# ind = np.arange(1, len(x_) - 1, 2)\n",
        "# np.insert(x_, ind, x_[ind])"
      ],
      "metadata": {
        "id": "U0ZUpriFLhS7",
        "outputId": "da7a8b2d-9494-4e6f-ffbf-13b6562b609f",
        "colab": {
          "base_uri": "https://localhost:8080/",
          "height": 448
        }
      },
      "id": "U0ZUpriFLhS7",
      "execution_count": 58,
      "outputs": [
        {
          "output_type": "execute_result",
          "data": {
            "text/plain": [
              "[<matplotlib.lines.Line2D at 0x7b3c15484730>]"
            ]
          },
          "metadata": {},
          "execution_count": 58
        },
        {
          "output_type": "display_data",
          "data": {
            "text/plain": [
              "<Figure size 640x480 with 1 Axes>"
            ],
            "image/png": "[encoded data removed]"
          },
          "metadata": {}
        }
      ]
    },
    {
      "cell_type": "markdown",
      "id": "cf0bb49b",
      "metadata": {
        "id": "cf0bb49b"
      },
      "source": [
        "## Задание 5 (3 балла)"
      ]
    },
    {
      "cell_type": "markdown",
      "id": "30b7a0ae",
      "metadata": {
        "id": "30b7a0ae"
      },
      "source": [
        "Переберите несколько значений alpha с помощью кросс-валидации. Оцените, зависит ли от этого параметра качество классификации."
      ]
    },
    {
      "cell_type": "code",
      "execution_count": null,
      "id": "3513d907",
      "metadata": {
        "id": "3513d907"
      },
      "outputs": [],
      "source": [
        "#ваш код здесь"
      ]
    }
  ],
  "metadata": {
    "colab": {
      "provenance": [],
      "toc_visible": true,
      "include_colab_link": true
    },
    "kernelspec": {
      "display_name": "Python 3 (ipykernel)",
      "language": "python",
      "name": "python3"
    },
    "language_info": {
      "codemirror_mode": {
        "name": "ipython",
        "version": 3
      },
      "file_extension": ".py",
      "mimetype": "text/x-python",
      "name": "python",
      "nbconvert_exporter": "python",
      "pygments_lexer": "ipython3",
      "version": "3.9.7"
    }
  },
  "nbformat": 4,
  "nbformat_minor": 5
}