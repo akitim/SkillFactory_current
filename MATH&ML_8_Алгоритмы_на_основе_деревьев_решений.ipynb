{
  "nbformat": 4,
  "nbformat_minor": 0,
  "metadata": {
    "colab": {
      "provenance": [],
      "authorship_tag": "ABX9TyMZZays1Q1eB0hWrLhkfq6p",
      "include_colab_link": true
    },
    "kernelspec": {
      "name": "python3",
      "display_name": "Python 3"
    },
    "language_info": {
      "name": "python"
    }
  },
  "cells": [
    {
      "cell_type": "markdown",
      "metadata": {
        "id": "view-in-github",
        "colab_type": "text"
      },
      "source": [
        "<a href=\"https://colab.research.google.com/github/akitim/SkillFactory_current/blob/main/MATH%26ML_8_%D0%90%D0%BB%D0%B3%D0%BE%D1%80%D0%B8%D1%82%D0%BC%D1%8B_%D0%BD%D0%B0_%D0%BE%D1%81%D0%BD%D0%BE%D0%B2%D0%B5_%D0%B4%D0%B5%D1%80%D0%B5%D0%B2%D1%8C%D0%B5%D0%B2_%D1%80%D0%B5%D1%88%D0%B5%D0%BD%D0%B8%D0%B9.ipynb\" target=\"_parent\"><img src=\"https://colab.research.google.com/assets/colab-badge.svg\" alt=\"Open In Colab\"/></a>"
      ]
    },
    {
      "cell_type": "markdown",
      "source": [
        "###Задание 3.4\n",
        "\n",
        "Дана часть датасета о домах в штате Айова, состоящая из 15 наблюдений:\n",
        "\n",
        "Найдите уникальных кандидатов на пороговое значение  для фактора *Lot Frontage*."
      ],
      "metadata": {
        "id": "UmmH7ielZPOj"
      }
    },
    {
      "cell_type": "code",
      "execution_count": 8,
      "metadata": {
        "colab": {
          "base_uri": "https://localhost:8080/",
          "height": 519
        },
        "id": "HNagh0muKE6a",
        "outputId": "e1d42803-5149-40b0-958d-d27f57354efa"
      },
      "outputs": [
        {
          "output_type": "execute_result",
          "data": {
            "text/plain": [
              "    Lot Frontage  Lot Area  SalePrice\n",
              "0           60.0     11040     108000\n",
              "1           96.0     10628     193000\n",
              "2           68.0      9717     142125\n",
              "3           50.0      9060     150909\n",
              "4           92.0      9215     204500\n",
              "5           80.0     10386     305900\n",
              "6           60.0      7350     139000\n",
              "7           72.0      8640     229800\n",
              "8           56.0      6956      97900\n",
              "9           70.0     12886     175000\n",
              "10          56.0      4060      99900\n",
              "11          96.0     11690     207000\n",
              "12         106.0      8413     312500\n",
              "13          56.0      8398     144100\n",
              "14          62.0      7500     176000"
            ],
            "text/html": [
              "\n",
              "\n",
              "  <div id=\"df-86ada347-71c9-4633-ad4a-951bf9faa97a\">\n",
              "    <div class=\"colab-df-container\">\n",
              "      <div>\n",
              "<style scoped>\n",
              "    .dataframe tbody tr th:only-of-type {\n",
              "        vertical-align: middle;\n",
              "    }\n",
              "\n",
              "    .dataframe tbody tr th {\n",
              "        vertical-align: top;\n",
              "    }\n",
              "\n",
              "    .dataframe thead th {\n",
              "        text-align: right;\n",
              "    }\n",
              "</style>\n",
              "<table border=\"1\" class=\"dataframe\">\n",
              "  <thead>\n",
              "    <tr style=\"text-align: right;\">\n",
              "      <th></th>\n",
              "      <th>Lot Frontage</th>\n",
              "      <th>Lot Area</th>\n",
              "      <th>SalePrice</th>\n",
              "    </tr>\n",
              "  </thead>\n",
              "  <tbody>\n",
              "    <tr>\n",
              "      <th>0</th>\n",
              "      <td>60.0</td>\n",
              "      <td>11040</td>\n",
              "      <td>108000</td>\n",
              "    </tr>\n",
              "    <tr>\n",
              "      <th>1</th>\n",
              "      <td>96.0</td>\n",
              "      <td>10628</td>\n",
              "      <td>193000</td>\n",
              "    </tr>\n",
              "    <tr>\n",
              "      <th>2</th>\n",
              "      <td>68.0</td>\n",
              "      <td>9717</td>\n",
              "      <td>142125</td>\n",
              "    </tr>\n",
              "    <tr>\n",
              "      <th>3</th>\n",
              "      <td>50.0</td>\n",
              "      <td>9060</td>\n",
              "      <td>150909</td>\n",
              "    </tr>\n",
              "    <tr>\n",
              "      <th>4</th>\n",
              "      <td>92.0</td>\n",
              "      <td>9215</td>\n",
              "      <td>204500</td>\n",
              "    </tr>\n",
              "    <tr>\n",
              "      <th>5</th>\n",
              "      <td>80.0</td>\n",
              "      <td>10386</td>\n",
              "      <td>305900</td>\n",
              "    </tr>\n",
              "    <tr>\n",
              "      <th>6</th>\n",
              "      <td>60.0</td>\n",
              "      <td>7350</td>\n",
              "      <td>139000</td>\n",
              "    </tr>\n",
              "    <tr>\n",
              "      <th>7</th>\n",
              "      <td>72.0</td>\n",
              "      <td>8640</td>\n",
              "      <td>229800</td>\n",
              "    </tr>\n",
              "    <tr>\n",
              "      <th>8</th>\n",
              "      <td>56.0</td>\n",
              "      <td>6956</td>\n",
              "      <td>97900</td>\n",
              "    </tr>\n",
              "    <tr>\n",
              "      <th>9</th>\n",
              "      <td>70.0</td>\n",
              "      <td>12886</td>\n",
              "      <td>175000</td>\n",
              "    </tr>\n",
              "    <tr>\n",
              "      <th>10</th>\n",
              "      <td>56.0</td>\n",
              "      <td>4060</td>\n",
              "      <td>99900</td>\n",
              "    </tr>\n",
              "    <tr>\n",
              "      <th>11</th>\n",
              "      <td>96.0</td>\n",
              "      <td>11690</td>\n",
              "      <td>207000</td>\n",
              "    </tr>\n",
              "    <tr>\n",
              "      <th>12</th>\n",
              "      <td>106.0</td>\n",
              "      <td>8413</td>\n",
              "      <td>312500</td>\n",
              "    </tr>\n",
              "    <tr>\n",
              "      <th>13</th>\n",
              "      <td>56.0</td>\n",
              "      <td>8398</td>\n",
              "      <td>144100</td>\n",
              "    </tr>\n",
              "    <tr>\n",
              "      <th>14</th>\n",
              "      <td>62.0</td>\n",
              "      <td>7500</td>\n",
              "      <td>176000</td>\n",
              "    </tr>\n",
              "  </tbody>\n",
              "</table>\n",
              "</div>\n",
              "      <button class=\"colab-df-convert\" onclick=\"convertToInteractive('df-86ada347-71c9-4633-ad4a-951bf9faa97a')\"\n",
              "              title=\"Convert this dataframe to an interactive table.\"\n",
              "              style=\"display:none;\">\n",
              "\n",
              "  <svg xmlns=\"http://www.w3.org/2000/svg\" height=\"24px\"viewBox=\"0 0 24 24\"\n",
              "       width=\"24px\">\n",
              "    <path d=\"M0 0h24v24H0V0z\" fill=\"none\"/>\n",
              "    <path d=\"M18.56 5.44l.94 2.06.94-2.06 2.06-.94-2.06-.94-.94-2.06-.94 2.06-2.06.94zm-11 1L8.5 8.5l.94-2.06 2.06-.94-2.06-.94L8.5 2.5l-.94 2.06-2.06.94zm10 10l.94 2.06.94-2.06 2.06-.94-2.06-.94-.94-2.06-.94 2.06-2.06.94z\"/><path d=\"M17.41 7.96l-1.37-1.37c-.4-.4-.92-.59-1.43-.59-.52 0-1.04.2-1.43.59L10.3 9.45l-7.72 7.72c-.78.78-.78 2.05 0 2.83L4 21.41c.39.39.9.59 1.41.59.51 0 1.02-.2 1.41-.59l7.78-7.78 2.81-2.81c.8-.78.8-2.07 0-2.86zM5.41 20L4 18.59l7.72-7.72 1.47 1.35L5.41 20z\"/>\n",
              "  </svg>\n",
              "      </button>\n",
              "\n",
              "\n",
              "\n",
              "    <div id=\"df-4e617e64-8308-4647-a731-ede67355bf74\">\n",
              "      <button class=\"colab-df-quickchart\" onclick=\"quickchart('df-4e617e64-8308-4647-a731-ede67355bf74')\"\n",
              "              title=\"Suggest charts.\"\n",
              "              style=\"display:none;\">\n",
              "\n",
              "<svg xmlns=\"http://www.w3.org/2000/svg\" height=\"24px\"viewBox=\"0 0 24 24\"\n",
              "     width=\"24px\">\n",
              "    <g>\n",
              "        <path d=\"M19 3H5c-1.1 0-2 .9-2 2v14c0 1.1.9 2 2 2h14c1.1 0 2-.9 2-2V5c0-1.1-.9-2-2-2zM9 17H7v-7h2v7zm4 0h-2V7h2v10zm4 0h-2v-4h2v4z\"/>\n",
              "    </g>\n",
              "</svg>\n",
              "      </button>\n",
              "    </div>\n",
              "\n",
              "<style>\n",
              "  .colab-df-quickchart {\n",
              "    background-color: #E8F0FE;\n",
              "    border: none;\n",
              "    border-radius: 50%;\n",
              "    cursor: pointer;\n",
              "    display: none;\n",
              "    fill: #1967D2;\n",
              "    height: 32px;\n",
              "    padding: 0 0 0 0;\n",
              "    width: 32px;\n",
              "  }\n",
              "\n",
              "  .colab-df-quickchart:hover {\n",
              "    background-color: #E2EBFA;\n",
              "    box-shadow: 0px 1px 2px rgba(60, 64, 67, 0.3), 0px 1px 3px 1px rgba(60, 64, 67, 0.15);\n",
              "    fill: #174EA6;\n",
              "  }\n",
              "\n",
              "  [theme=dark] .colab-df-quickchart {\n",
              "    background-color: #3B4455;\n",
              "    fill: #D2E3FC;\n",
              "  }\n",
              "\n",
              "  [theme=dark] .colab-df-quickchart:hover {\n",
              "    background-color: #434B5C;\n",
              "    box-shadow: 0px 1px 3px 1px rgba(0, 0, 0, 0.15);\n",
              "    filter: drop-shadow(0px 1px 2px rgba(0, 0, 0, 0.3));\n",
              "    fill: #FFFFFF;\n",
              "  }\n",
              "</style>\n",
              "\n",
              "    <script>\n",
              "      async function quickchart(key) {\n",
              "        const containerElement = document.querySelector('#' + key);\n",
              "        const charts = await google.colab.kernel.invokeFunction(\n",
              "            'suggestCharts', [key], {});\n",
              "      }\n",
              "    </script>\n",
              "\n",
              "      <script>\n",
              "\n",
              "function displayQuickchartButton(domScope) {\n",
              "  let quickchartButtonEl =\n",
              "    domScope.querySelector('#df-4e617e64-8308-4647-a731-ede67355bf74 button.colab-df-quickchart');\n",
              "  quickchartButtonEl.style.display =\n",
              "    google.colab.kernel.accessAllowed ? 'block' : 'none';\n",
              "}\n",
              "\n",
              "        displayQuickchartButton(document);\n",
              "      </script>\n",
              "      <style>\n",
              "    .colab-df-container {\n",
              "      display:flex;\n",
              "      flex-wrap:wrap;\n",
              "      gap: 12px;\n",
              "    }\n",
              "\n",
              "    .colab-df-convert {\n",
              "      background-color: #E8F0FE;\n",
              "      border: none;\n",
              "      border-radius: 50%;\n",
              "      cursor: pointer;\n",
              "      display: none;\n",
              "      fill: #1967D2;\n",
              "      height: 32px;\n",
              "      padding: 0 0 0 0;\n",
              "      width: 32px;\n",
              "    }\n",
              "\n",
              "    .colab-df-convert:hover {\n",
              "      background-color: #E2EBFA;\n",
              "      box-shadow: 0px 1px 2px rgba(60, 64, 67, 0.3), 0px 1px 3px 1px rgba(60, 64, 67, 0.15);\n",
              "      fill: #174EA6;\n",
              "    }\n",
              "\n",
              "    [theme=dark] .colab-df-convert {\n",
              "      background-color: #3B4455;\n",
              "      fill: #D2E3FC;\n",
              "    }\n",
              "\n",
              "    [theme=dark] .colab-df-convert:hover {\n",
              "      background-color: #434B5C;\n",
              "      box-shadow: 0px 1px 3px 1px rgba(0, 0, 0, 0.15);\n",
              "      filter: drop-shadow(0px 1px 2px rgba(0, 0, 0, 0.3));\n",
              "      fill: #FFFFFF;\n",
              "    }\n",
              "  </style>\n",
              "\n",
              "      <script>\n",
              "        const buttonEl =\n",
              "          document.querySelector('#df-86ada347-71c9-4633-ad4a-951bf9faa97a button.colab-df-convert');\n",
              "        buttonEl.style.display =\n",
              "          google.colab.kernel.accessAllowed ? 'block' : 'none';\n",
              "\n",
              "        async function convertToInteractive(key) {\n",
              "          const element = document.querySelector('#df-86ada347-71c9-4633-ad4a-951bf9faa97a');\n",
              "          const dataTable =\n",
              "            await google.colab.kernel.invokeFunction('convertToInteractive',\n",
              "                                                     [key], {});\n",
              "          if (!dataTable) return;\n",
              "\n",
              "          const docLinkHtml = 'Like what you see? Visit the ' +\n",
              "            '<a target=\"_blank\" href=https://colab.research.google.com/notebooks/data_table.ipynb>data table notebook</a>'\n",
              "            + ' to learn more about interactive tables.';\n",
              "          element.innerHTML = '';\n",
              "          dataTable['output_type'] = 'display_data';\n",
              "          await google.colab.output.renderOutput(dataTable, element);\n",
              "          const docLink = document.createElement('div');\n",
              "          docLink.innerHTML = docLinkHtml;\n",
              "          element.appendChild(docLink);\n",
              "        }\n",
              "      </script>\n",
              "    </div>\n",
              "  </div>\n"
            ]
          },
          "metadata": {},
          "execution_count": 8
        }
      ],
      "source": [
        "import numpy as np\n",
        "import pandas as pd\n",
        "\n",
        "# path = '/content/AmesHousing.zip'\n",
        "path = 'https://raw.githubusercontent.com/akitim/datasets/main/AmesHousing.zip'\n",
        "ames_data = pd.read_csv(path)\n",
        "ames_data = ames_data[(ames_data['Lot Frontage'] <=150) & (ames_data['Lot Area'] <=20000)]\n",
        "ames_sample = ames_data[['Lot Frontage', 'Lot Area', 'SalePrice']].sample(\n",
        "    n=15, #количество объектов\n",
        "    random_state=42, #генератор случайных чисел\n",
        "    ignore_index=True #сбрасываем счетчик индекса\n",
        ")\n",
        "ames_sample"
      ]
    },
    {
      "cell_type": "code",
      "source": [
        "LF_sorted = ames_sample['Lot Frontage'].sort_values().drop_duplicates()\n",
        "# LF_sorted\n",
        "candidates = LF_sorted.rolling(2).mean().dropna()\n",
        "candidates"
      ],
      "metadata": {
        "id": "EKPdEdKwKkLr",
        "colab": {
          "base_uri": "https://localhost:8080/"
        },
        "outputId": "fed70016-ad6d-4018-b0d4-61861721147f"
      },
      "execution_count": 9,
      "outputs": [
        {
          "output_type": "execute_result",
          "data": {
            "text/plain": [
              "8      53.0\n",
              "0      58.0\n",
              "14     61.0\n",
              "2      65.0\n",
              "9      69.0\n",
              "7      71.0\n",
              "5      76.0\n",
              "4      86.0\n",
              "1      94.0\n",
              "12    101.0\n",
              "Name: Lot Frontage, dtype: float64"
            ]
          },
          "metadata": {},
          "execution_count": 9
        }
      ]
    },
    {
      "cell_type": "markdown",
      "source": [
        "Задание 3.5\n",
        "1 point possible (graded)\n",
        "\n",
        "Для части датасета о домах в Айове из предыдущего задания найдите уникальных кандидатов на пороговое значение  для фактора *Lot Area*."
      ],
      "metadata": {
        "id": "PlZ_9sLTZaxD"
      }
    },
    {
      "cell_type": "code",
      "source": [
        "ames_sample['Lot Area'].sort_values().drop_duplicates().\\\n",
        "    rolling(2).mean().dropna()"
      ],
      "metadata": {
        "colab": {
          "base_uri": "https://localhost:8080/"
        },
        "id": "ZWoplD9yZN57",
        "outputId": "7fd4a690-c68b-491b-de6c-98928590fdfd"
      },
      "execution_count": 10,
      "outputs": [
        {
          "output_type": "execute_result",
          "data": {
            "text/plain": [
              "8      5508.0\n",
              "6      7153.0\n",
              "14     7425.0\n",
              "13     7949.0\n",
              "12     8405.5\n",
              "7      8526.5\n",
              "3      8850.0\n",
              "4      9137.5\n",
              "2      9466.0\n",
              "5     10051.5\n",
              "1     10507.0\n",
              "0     10834.0\n",
              "11    11365.0\n",
              "9     12288.0\n",
              "Name: Lot Area, dtype: float64"
            ]
          },
          "metadata": {},
          "execution_count": 10
        }
      ]
    },
    {
      "cell_type": "code",
      "source": [
        "def find_candidates_for_thresholds(x, y):\n",
        "    x_roll_mean = x.sort_values().drop_duplicates().rolling(2).mean().dropna()\n",
        "    y_roll_mean = y[x_roll_mean.index].diff()\n",
        "    return x_roll_mean[y_roll_mean != 0].values\n",
        "\n",
        "def squared_error(y):\n",
        "    y_pred = np.mean(y)\n",
        "    return (y - y_pred) @ (y - y_pred) / len(y)\n",
        "\n",
        "def entropy(y):\n",
        "    p = np.unique(y, return_counts=True)[1] / y.size\n",
        "    return - p @ np.log2(p)\n",
        "\n",
        "def split(X, y, split_params):\n",
        "    X_ = X.copy()\n",
        "    # if type(X_) in [pd.DataFrame, pd.Series]:\n",
        "    #     X_ = X_.values\n",
        "    j, t = split_params\n",
        "    predicat = X.iloc[:, j] <= t\n",
        "    X_left, y_left, X_right, y_right = \\\n",
        "        X_[predicat], y[predicat], X_[~predicat], y[~predicat]\n",
        "    return X_left, y_left, X_right, y_right\n",
        "\n",
        "def calculate_weighted_impurity(X, y, split_params, crit):\n",
        "    X_left, y_left, X_right, y_right = split(X, y, split_params)\n",
        "    N, N_left, N_right = y.size, y_left.size, y_right.size\n",
        "    return N_left / N * crit(y_left) + N_right / N * crit(y_right)\n",
        "\n",
        "def best_split(X, y, crit):\n",
        "    M = X.shape[1]\n",
        "    min_wt_imp = np.inf\n",
        "    opt_split_params = None\n",
        "    for j in range(M):\n",
        "        thrs = find_candidates_for_thresholds(X.iloc[:, j], y)\n",
        "        for t in thrs:\n",
        "            split_params = j, t\n",
        "            wt_imp = calculate_weighted_impurity(X, y, split_params, crit)\n",
        "            if wt_imp < min_wt_imp:\n",
        "                min_wt_imp = wt_imp\n",
        "                opt_split_params = split_params\n",
        "    return opt_split_params\n"
      ],
      "metadata": {
        "id": "7UKl7WZL7s7P"
      },
      "execution_count": 25,
      "outputs": []
    },
    {
      "cell_type": "code",
      "source": [
        "y_ = np.random.randint(0, 5, 100)\n",
        "p = np.unique(y_, return_counts=True)[1] / y_.size\n",
        "- p @ np.log2(p)\n"
      ],
      "metadata": {
        "id": "fEohNvFenNFI",
        "outputId": "02b0b63c-2958-4b43-a6d9-12bfdc1ca907",
        "colab": {
          "base_uri": "https://localhost:8080/"
        }
      },
      "execution_count": 21,
      "outputs": [
        {
          "output_type": "execute_result",
          "data": {
            "text/plain": [
              "2.278683167365565"
            ]
          },
          "metadata": {},
          "execution_count": 21
        }
      ]
    },
    {
      "cell_type": "code",
      "source": [
        "X = ames_sample[['Lot Frontage', 'Lot Area']]\n",
        "y = ames_sample['SalePrice']\n",
        "\n",
        "best_split(X, y, squared_error)"
      ],
      "metadata": {
        "colab": {
          "base_uri": "https://localhost:8080/"
        },
        "id": "ZKNMpimlMdYc",
        "outputId": "d929a831-6f3d-461d-9f36-89dbd33ac98b"
      },
      "execution_count": 12,
      "outputs": [
        {
          "output_type": "execute_result",
          "data": {
            "text/plain": [
              "(0, 71.0)"
            ]
          },
          "metadata": {},
          "execution_count": 12
        }
      ]
    },
    {
      "cell_type": "markdown",
      "source": [
        "### Задание 4.5\n",
        "\n",
        "Дана часть датасета о банкнотах, состоящая из 15 наблюдений:\n",
        "\n",
        "Найдите оптимальные для построения решающего пня параметры разбиения $j$ и $t$. Для этого воспользуйтесь функцией `best_split()`, которую мы реализовали ранее. В качестве критерия информативности используется энтропию Шеннона.\n",
        "1. На основе какого фактора $x_j$ будет построено решающее правило в корневой вершине?\n",
        "2. Чему равно оптимальное пороговое значение ? Ответ **округлите до трёх знаков после точки-разделителя**.\n",
        "3. Чему равно значение взвешенной неоднородности после разбиения при найденных оптимальных параметрах сплита? Ответ **округлите до двух знаков после точки-разделителя**.\n"
      ],
      "metadata": {
        "id": "GX7jJOvxNtj_"
      }
    },
    {
      "cell_type": "code",
      "source": [
        "path = 'https://raw.githubusercontent.com/akitim/datasets/main/bill_authentication.csv'\n",
        "\n",
        "bill_data = pd.read_csv(path)\n",
        "bill_sample = bill_data[['Variance', 'Skewness', 'Class']].sample(\n",
        "    n=15,\n",
        "    random_state=42,\n",
        "    ignore_index=True\n",
        ")\n",
        "# Создаём обучающую выборку\n",
        "X = bill_sample[['Variance', 'Skewness']]\n",
        "y = bill_sample['Class']"
      ],
      "metadata": {
        "id": "oTxBpnPep12g"
      },
      "execution_count": 23,
      "outputs": []
    },
    {
      "cell_type": "code",
      "source": [
        "j_opt, t_opt = best_split(X, y, crit=entropy)\n",
        "print('Решающее правило в корневой вершине будет построено на основе фактора',\n",
        "       X.columns[j_opt])\n",
        "print('Оптимальное пороговое значение:', np.round(t_opt, 3))\n",
        "\n",
        "wt_imp = calculate_weighted_impurity(X, y, (j_opt, t_opt), entropy)\n",
        "print('Значение взвешенной неоднородности после разбиения\\n',\n",
        "      'при найденных оптимальных параметрах:', np.round(wt_imp, 2))"
      ],
      "metadata": {
        "id": "csElzOpVqcDO",
        "outputId": "232b6052-fa83-43dd-a2fb-5661cadc4fa5",
        "colab": {
          "base_uri": "https://localhost:8080/"
        }
      },
      "execution_count": 36,
      "outputs": [
        {
          "output_type": "stream",
          "name": "stdout",
          "text": [
            "Решающее правило в корневой вершине будет построено на основе фактора Skewness\n",
            "Оптимальное пороговое значение: 3.221\n",
            "Значение взвешенной неоднородности после разбиения\n",
            " при найденных оптимальных параметрах: 0.46\n"
          ]
        }
      ]
    }
  ]
}