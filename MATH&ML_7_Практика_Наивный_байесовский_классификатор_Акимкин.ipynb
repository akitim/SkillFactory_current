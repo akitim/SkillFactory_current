{
  "cells": [
    {
      "cell_type": "markdown",
      "metadata": {
        "id": "view-in-github",
        "colab_type": "text"
      },
      "source": [
        "<a href=\"https://colab.research.google.com/github/akitim/SkillFactory_current/blob/main/MATH%26ML_7_%D0%9F%D1%80%D0%B0%D0%BA%D1%82%D0%B8%D0%BA%D0%B0_%D0%9D%D0%B0%D0%B8%D0%B2%D0%BD%D1%8B%D0%B9_%D0%B1%D0%B0%D0%B9%D0%B5%D1%81%D0%BE%D0%B2%D1%81%D0%BA%D0%B8%D0%B9_%D0%BA%D0%BB%D0%B0%D1%81%D1%81%D0%B8%D1%84%D0%B8%D0%BA%D0%B0%D1%82%D0%BE%D1%80_%D0%90%D0%BA%D0%B8%D0%BC%D0%BA%D0%B8%D0%BD.ipynb\" target=\"_parent\"><img src=\"https://colab.research.google.com/assets/colab-badge.svg\" alt=\"Open In Colab\"/></a>"
      ]
    },
    {
      "cell_type": "markdown",
      "id": "00009cca",
      "metadata": {
        "id": "00009cca"
      },
      "source": [
        "# Классификация текстов с использованием Наивного Байесовского Классификатора"
      ]
    },
    {
      "cell_type": "markdown",
      "id": "a52414b8",
      "metadata": {
        "id": "a52414b8"
      },
      "source": [
        "## Задание 1 (1 балл)"
      ]
    },
    {
      "cell_type": "markdown",
      "id": "f5f27b43",
      "metadata": {
        "id": "f5f27b43"
      },
      "source": [
        "Откройте данные. Узнайте, сколько в них спам- и не спам-писем. Визуализируйте полученные соотношение подходящим образом."
      ]
    },
    {
      "cell_type": "code",
      "execution_count": 44,
      "id": "ac369274",
      "metadata": {
        "id": "ac369274",
        "colab": {
          "base_uri": "https://localhost:8080/",
          "height": 206
        },
        "outputId": "a1fdb825-768a-49d7-f3ee-60422f193293"
      },
      "outputs": [
        {
          "output_type": "execute_result",
          "data": {
            "text/plain": [
              "                                                  email  label\n",
              "1196  indeed i was thinking of getting back into doi...      0\n",
              "473    clearly our non silly non antiquated ideas ab...      0\n",
              "2920   generic v agra NUMBER per NUMBERmg generic v ...      1\n",
              "1393  nanananana c on friday august NUMBER NUMBER at...      0\n",
              "772   o utensils of the world i wonder if it is poss...      0"
            ],
            "text/html": [
              "\n",
              "\n",
              "  <div id=\"df-e9a7c9a5-16dd-4c5a-a344-365d09aa2f25\">\n",
              "    <div class=\"colab-df-container\">\n",
              "      <div>\n",
              "<style scoped>\n",
              "    .dataframe tbody tr th:only-of-type {\n",
              "        vertical-align: middle;\n",
              "    }\n",
              "\n",
              "    .dataframe tbody tr th {\n",
              "        vertical-align: top;\n",
              "    }\n",
              "\n",
              "    .dataframe thead th {\n",
              "        text-align: right;\n",
              "    }\n",
              "</style>\n",
              "<table border=\"1\" class=\"dataframe\">\n",
              "  <thead>\n",
              "    <tr style=\"text-align: right;\">\n",
              "      <th></th>\n",
              "      <th>email</th>\n",
              "      <th>label</th>\n",
              "    </tr>\n",
              "  </thead>\n",
              "  <tbody>\n",
              "    <tr>\n",
              "      <th>1196</th>\n",
              "      <td>indeed i was thinking of getting back into doi...</td>\n",
              "      <td>0</td>\n",
              "    </tr>\n",
              "    <tr>\n",
              "      <th>473</th>\n",
              "      <td>clearly our non silly non antiquated ideas ab...</td>\n",
              "      <td>0</td>\n",
              "    </tr>\n",
              "    <tr>\n",
              "      <th>2920</th>\n",
              "      <td>generic v agra NUMBER per NUMBERmg generic v ...</td>\n",
              "      <td>1</td>\n",
              "    </tr>\n",
              "    <tr>\n",
              "      <th>1393</th>\n",
              "      <td>nanananana c on friday august NUMBER NUMBER at...</td>\n",
              "      <td>0</td>\n",
              "    </tr>\n",
              "    <tr>\n",
              "      <th>772</th>\n",
              "      <td>o utensils of the world i wonder if it is poss...</td>\n",
              "      <td>0</td>\n",
              "    </tr>\n",
              "  </tbody>\n",
              "</table>\n",
              "</div>\n",
              "      <button class=\"colab-df-convert\" onclick=\"convertToInteractive('df-e9a7c9a5-16dd-4c5a-a344-365d09aa2f25')\"\n",
              "              title=\"Convert this dataframe to an interactive table.\"\n",
              "              style=\"display:none;\">\n",
              "\n",
              "  <svg xmlns=\"http://www.w3.org/2000/svg\" height=\"24px\"viewBox=\"0 0 24 24\"\n",
              "       width=\"24px\">\n",
              "    <path d=\"M0 0h24v24H0V0z\" fill=\"none\"/>\n",
              "    <path d=\"M18.56 5.44l.94 2.06.94-2.06 2.06-.94-2.06-.94-.94-2.06-.94 2.06-2.06.94zm-11 1L8.5 8.5l.94-2.06 2.06-.94-2.06-.94L8.5 2.5l-.94 2.06-2.06.94zm10 10l.94 2.06.94-2.06 2.06-.94-2.06-.94-.94-2.06-.94 2.06-2.06.94z\"/><path d=\"M17.41 7.96l-1.37-1.37c-.4-.4-.92-.59-1.43-.59-.52 0-1.04.2-1.43.59L10.3 9.45l-7.72 7.72c-.78.78-.78 2.05 0 2.83L4 21.41c.39.39.9.59 1.41.59.51 0 1.02-.2 1.41-.59l7.78-7.78 2.81-2.81c.8-.78.8-2.07 0-2.86zM5.41 20L4 18.59l7.72-7.72 1.47 1.35L5.41 20z\"/>\n",
              "  </svg>\n",
              "      </button>\n",
              "\n",
              "\n",
              "\n",
              "    <div id=\"df-c04c681b-bcc2-48ae-aa20-6e99621be1f6\">\n",
              "      <button class=\"colab-df-quickchart\" onclick=\"quickchart('df-c04c681b-bcc2-48ae-aa20-6e99621be1f6')\"\n",
              "              title=\"Suggest charts.\"\n",
              "              style=\"display:none;\">\n",
              "\n",
              "<svg xmlns=\"http://www.w3.org/2000/svg\" height=\"24px\"viewBox=\"0 0 24 24\"\n",
              "     width=\"24px\">\n",
              "    <g>\n",
              "        <path d=\"M19 3H5c-1.1 0-2 .9-2 2v14c0 1.1.9 2 2 2h14c1.1 0 2-.9 2-2V5c0-1.1-.9-2-2-2zM9 17H7v-7h2v7zm4 0h-2V7h2v10zm4 0h-2v-4h2v4z\"/>\n",
              "    </g>\n",
              "</svg>\n",
              "      </button>\n",
              "    </div>\n",
              "\n",
              "<style>\n",
              "  .colab-df-quickchart {\n",
              "    background-color: #E8F0FE;\n",
              "    border: none;\n",
              "    border-radius: 50%;\n",
              "    cursor: pointer;\n",
              "    display: none;\n",
              "    fill: #1967D2;\n",
              "    height: 32px;\n",
              "    padding: 0 0 0 0;\n",
              "    width: 32px;\n",
              "  }\n",
              "\n",
              "  .colab-df-quickchart:hover {\n",
              "    background-color: #E2EBFA;\n",
              "    box-shadow: 0px 1px 2px rgba(60, 64, 67, 0.3), 0px 1px 3px 1px rgba(60, 64, 67, 0.15);\n",
              "    fill: #174EA6;\n",
              "  }\n",
              "\n",
              "  [theme=dark] .colab-df-quickchart {\n",
              "    background-color: #3B4455;\n",
              "    fill: #D2E3FC;\n",
              "  }\n",
              "\n",
              "  [theme=dark] .colab-df-quickchart:hover {\n",
              "    background-color: #434B5C;\n",
              "    box-shadow: 0px 1px 3px 1px rgba(0, 0, 0, 0.15);\n",
              "    filter: drop-shadow(0px 1px 2px rgba(0, 0, 0, 0.3));\n",
              "    fill: #FFFFFF;\n",
              "  }\n",
              "</style>\n",
              "\n",
              "    <script>\n",
              "      async function quickchart(key) {\n",
              "        const containerElement = document.querySelector('#' + key);\n",
              "        const charts = await google.colab.kernel.invokeFunction(\n",
              "            'suggestCharts', [key], {});\n",
              "      }\n",
              "    </script>\n",
              "\n",
              "      <script>\n",
              "\n",
              "function displayQuickchartButton(domScope) {\n",
              "  let quickchartButtonEl =\n",
              "    domScope.querySelector('#df-c04c681b-bcc2-48ae-aa20-6e99621be1f6 button.colab-df-quickchart');\n",
              "  quickchartButtonEl.style.display =\n",
              "    google.colab.kernel.accessAllowed ? 'block' : 'none';\n",
              "}\n",
              "\n",
              "        displayQuickchartButton(document);\n",
              "      </script>\n",
              "      <style>\n",
              "    .colab-df-container {\n",
              "      display:flex;\n",
              "      flex-wrap:wrap;\n",
              "      gap: 12px;\n",
              "    }\n",
              "\n",
              "    .colab-df-convert {\n",
              "      background-color: #E8F0FE;\n",
              "      border: none;\n",
              "      border-radius: 50%;\n",
              "      cursor: pointer;\n",
              "      display: none;\n",
              "      fill: #1967D2;\n",
              "      height: 32px;\n",
              "      padding: 0 0 0 0;\n",
              "      width: 32px;\n",
              "    }\n",
              "\n",
              "    .colab-df-convert:hover {\n",
              "      background-color: #E2EBFA;\n",
              "      box-shadow: 0px 1px 2px rgba(60, 64, 67, 0.3), 0px 1px 3px 1px rgba(60, 64, 67, 0.15);\n",
              "      fill: #174EA6;\n",
              "    }\n",
              "\n",
              "    [theme=dark] .colab-df-convert {\n",
              "      background-color: #3B4455;\n",
              "      fill: #D2E3FC;\n",
              "    }\n",
              "\n",
              "    [theme=dark] .colab-df-convert:hover {\n",
              "      background-color: #434B5C;\n",
              "      box-shadow: 0px 1px 3px 1px rgba(0, 0, 0, 0.15);\n",
              "      filter: drop-shadow(0px 1px 2px rgba(0, 0, 0, 0.3));\n",
              "      fill: #FFFFFF;\n",
              "    }\n",
              "  </style>\n",
              "\n",
              "      <script>\n",
              "        const buttonEl =\n",
              "          document.querySelector('#df-e9a7c9a5-16dd-4c5a-a344-365d09aa2f25 button.colab-df-convert');\n",
              "        buttonEl.style.display =\n",
              "          google.colab.kernel.accessAllowed ? 'block' : 'none';\n",
              "\n",
              "        async function convertToInteractive(key) {\n",
              "          const element = document.querySelector('#df-e9a7c9a5-16dd-4c5a-a344-365d09aa2f25');\n",
              "          const dataTable =\n",
              "            await google.colab.kernel.invokeFunction('convertToInteractive',\n",
              "                                                     [key], {});\n",
              "          if (!dataTable) return;\n",
              "\n",
              "          const docLinkHtml = 'Like what you see? Visit the ' +\n",
              "            '<a target=\"_blank\" href=https://colab.research.google.com/notebooks/data_table.ipynb>data table notebook</a>'\n",
              "            + ' to learn more about interactive tables.';\n",
              "          element.innerHTML = '';\n",
              "          dataTable['output_type'] = 'display_data';\n",
              "          await google.colab.output.renderOutput(dataTable, element);\n",
              "          const docLink = document.createElement('div');\n",
              "          docLink.innerHTML = docLinkHtml;\n",
              "          element.appendChild(docLink);\n",
              "        }\n",
              "      </script>\n",
              "    </div>\n",
              "  </div>\n"
            ]
          },
          "metadata": {},
          "execution_count": 44
        }
      ],
      "source": [
        "import pandas as pd\n",
        "import numpy as np\n",
        "import matplotlib.pyplot as plt\n",
        "# import seaborn as sns\n",
        "# import plotly.express as px\n",
        "\n",
        "# from scipy import stats\n",
        "# from sklearn import linear_model\n",
        "# from sklearn import preprocessing\n",
        "from sklearn import model_selection\n",
        "from sklearn.naive_bayes import ComplementNB\n",
        "# from sklearn import tree\n",
        "# from sklearn import ensemble\n",
        "# from sklearn import metrics\n",
        "# from sklearn import cluster\n",
        "# from sklearn import feature_selection\n",
        "\n",
        "import warnings\n",
        "warnings.filterwarnings(\"ignore\")\n",
        "\n",
        "# from sys import getsizeof\n",
        "# import pickle\n",
        "\n",
        "# from google.colab import drive\n",
        "# drive.mount('/content/drive')\n",
        "\n",
        "path = \"https://raw.githubusercontent.com/akitim/datasets/main/spam_or_not_spam.zip\"\n",
        "data = pd.read_csv(path)\n",
        "data.sample(5)\n"
      ]
    },
    {
      "cell_type": "code",
      "execution_count": 45,
      "id": "f4231781",
      "metadata": {
        "id": "f4231781",
        "colab": {
          "base_uri": "https://localhost:8080/"
        },
        "outputId": "f61dbe77-08c9-4e17-d1e9-16d92c0eff33"
      },
      "outputs": [
        {
          "output_type": "stream",
          "name": "stdout",
          "text": [
            "В датасете писем:\n",
            "\tcо спамом: 500\n",
            "\tбез спама: 2500\n",
            "\n"
          ]
        },
        {
          "output_type": "execute_result",
          "data": {
            "text/plain": [
              "0    0.833333\n",
              "1    0.166667\n",
              "Name: label, dtype: float64"
            ]
          },
          "metadata": {},
          "execution_count": 45
        }
      ],
      "source": [
        "# частоты классов, 1 - спам, 0 - не спам\n",
        "class_num = data['label'].value_counts()\n",
        "print(f\"В датасете писем:\\n\\tcо спамом: {class_num[1]}\" +\\\n",
        "      f\"\\n\\tбез спама: {class_num[0]}\\n\")\n",
        "class_freq = class_num / data['label'].size\n",
        "# labels = class_freq.index.to_list()\n",
        "class_freq"
      ]
    },
    {
      "cell_type": "code",
      "execution_count": 46,
      "id": "9b871636",
      "metadata": {
        "id": "9b871636",
        "colab": {
          "base_uri": "https://localhost:8080/",
          "height": 256
        },
        "outputId": "28936fac-4f6f-4054-cbcf-8b5bec8dfb6b"
      },
      "outputs": [
        {
          "output_type": "display_data",
          "data": {
            "text/plain": [
              "<Figure size 500x200 with 1 Axes>"
            ],
            "image/png": "[encoded data removed]"
          },
          "metadata": {}
        }
      ],
      "source": [
        "fig, ax = plt.subplots(1, 1, figsize=(5, 2))\n",
        "ax.barh(y=['not spam\\nclass 0', 'spam\\nclass 1'], width=class_freq,\n",
        "        height=0.4, color=['g', 'r']);\n",
        "ax.set_ylabel('classes');\n",
        "ax.set_xlabel('frequency in data');\n",
        "ax.set_title('Class imbalance');\n",
        "ax.text(class_freq[0] / 2 - 0.078, -0.05, f'total {class_num[0]}',\n",
        "        fontdict={'size': 10, 'c':'w'});\n",
        "ax.text(class_freq[0] + 0.02, -0.05, f'{np.round(class_freq[0], 2)}',\n",
        "        fontdict={'size': 10, 'c':'black'});\n",
        "ax.text(class_freq[1] / 2 - 0.072, 0.95, f'total {class_num[1]}',\n",
        "        fontdict={'size': 10, 'c':'w'});\n",
        "ax.text(class_freq[1] + 0.02, 0.95, f'{np.round(class_freq[1], 2)}',\n",
        "        fontdict={'size': 10, 'c':'black'});\n",
        "ax.set_xbound(ax.get_xbound()[0], ax.get_xbound()[1] + 0.06)"
      ]
    },
    {
      "cell_type": "markdown",
      "id": "b161614b",
      "metadata": {
        "id": "b161614b"
      },
      "source": [
        "## Задание 2 (2 балла)"
      ]
    },
    {
      "cell_type": "markdown",
      "id": "dd29763b",
      "metadata": {
        "id": "dd29763b"
      },
      "source": [
        "Вам необходимо предобработать ваши данные и перевести их в векторный вид. Подгрузим необходимый модуль:"
      ]
    },
    {
      "cell_type": "code",
      "execution_count": 47,
      "id": "382eac9c",
      "metadata": {
        "id": "382eac9c"
      },
      "outputs": [],
      "source": [
        "from sklearn.feature_extraction.text import CountVectorizer"
      ]
    },
    {
      "cell_type": "markdown",
      "id": "89546b95",
      "metadata": {
        "id": "89546b95"
      },
      "source": [
        "Замените в данных все пустые строки и строки, состоящие из пробелов, на пропуски (NaN). После этого удалите из данных все строки, в которых наблюдаются пропущенные значения."
      ]
    },
    {
      "cell_type": "code",
      "execution_count": 48,
      "id": "45180f82",
      "metadata": {
        "id": "45180f82"
      },
      "outputs": [],
      "source": [
        "data_clean = data.copy()\n",
        "data_clean[\"email\"] = data_clean[\"email\"].str.replace('\\W+', ' ').\\\n",
        "    str.replace('\\s+', ' ').str.strip().str.lower()\n",
        "data_clean[\"email\"][data_clean[\"email\"] == ''] = np.NaN\n",
        "data_clean.dropna(inplace=True)\n"
      ]
    },
    {
      "cell_type": "markdown",
      "id": "2ca2fe88",
      "metadata": {
        "id": "2ca2fe88"
      },
      "source": [
        "Переводим данные в векторный вид:"
      ]
    },
    {
      "cell_type": "code",
      "execution_count": 49,
      "id": "29e9a37b",
      "metadata": {
        "id": "29e9a37b"
      },
      "outputs": [],
      "source": [
        "vectorizer = CountVectorizer()\n",
        "X = vectorizer.fit_transform(data_clean[\"email\"])\n"
      ]
    },
    {
      "cell_type": "markdown",
      "id": "88c8b726",
      "metadata": {
        "id": "88c8b726"
      },
      "source": [
        "Определите, сколько теперь признаков в нашем наборе данных:"
      ]
    },
    {
      "cell_type": "code",
      "execution_count": 50,
      "id": "f19c2a02",
      "metadata": {
        "id": "f19c2a02",
        "colab": {
          "base_uri": "https://localhost:8080/"
        },
        "outputId": "bcc2cfda-ce92-42a4-bce9-13651db861e1"
      },
      "outputs": [
        {
          "output_type": "stream",
          "name": "stdout",
          "text": [
            "Признаков в наборе данных: 34116\n"
          ]
        }
      ],
      "source": [
        "print(\"Признаков в наборе данных:\", X.shape[1])"
      ]
    },
    {
      "cell_type": "markdown",
      "id": "1803f282",
      "metadata": {
        "id": "1803f282"
      },
      "source": [
        "## Задание 3 (2 балла)"
      ]
    },
    {
      "cell_type": "markdown",
      "id": "39f400b7",
      "metadata": {
        "id": "39f400b7"
      },
      "source": [
        "Определите целевую переменную и признаки:"
      ]
    },
    {
      "cell_type": "code",
      "execution_count": 52,
      "id": "31f1acb6",
      "metadata": {
        "id": "31f1acb6"
      },
      "outputs": [],
      "source": [
        "X = np.asarray(X.todense())\n",
        "y = data_clean['label'].values\n"
      ]
    },
    {
      "cell_type": "markdown",
      "id": "b20f273e",
      "metadata": {
        "id": "b20f273e"
      },
      "source": [
        "Разделите выборку на обучающую и тестовую, используя стратифицированное разбиение (параметр `stratify` установите в значение вектора ответов y) размер тестовой выборки (`test_size`) возьмите как 0.25, параметр `random_state` определите со значением 42:"
      ]
    },
    {
      "cell_type": "code",
      "execution_count": 53,
      "id": "96538fb6",
      "metadata": {
        "id": "96538fb6"
      },
      "outputs": [],
      "source": [
        "X_train, X_test, y_train, y_test = model_selection.train_test_split(\n",
        "    X, y, test_size=0.25, stratify=y, random_state=42\n",
        ") #[1].shape\n",
        "X_train, X_test, y_train, y_test =  np.asarray(X_train), np.asarray(X_test),\\\n",
        "     np.asarray(y_train), np.asarray(y_test)"
      ]
    },
    {
      "cell_type": "markdown",
      "id": "139dac3d",
      "metadata": {
        "id": "139dac3d"
      },
      "source": [
        "Рассчитайте среднее значение целевой переменной по тестовой выборке:"
      ]
    },
    {
      "cell_type": "code",
      "execution_count": 54,
      "id": "e9baf72d",
      "metadata": {
        "id": "e9baf72d",
        "colab": {
          "base_uri": "https://localhost:8080/"
        },
        "outputId": "3a0b819e-8892-463a-ebd8-4c1fa643d006"
      },
      "outputs": [
        {
          "output_type": "execute_result",
          "data": {
            "text/plain": [
              "0.165"
            ]
          },
          "metadata": {},
          "execution_count": 54
        }
      ],
      "source": [
        "np.round(y_test.mean(), 3)"
      ]
    },
    {
      "cell_type": "markdown",
      "id": "710e0e94",
      "metadata": {
        "id": "710e0e94"
      },
      "source": [
        "## Задание 4 (3 балла)"
      ]
    },
    {
      "cell_type": "markdown",
      "id": "26cf6885",
      "metadata": {
        "id": "26cf6885"
      },
      "source": [
        "Определите и обучите подходящий алгоритм с параметром alpha = 0.01"
      ]
    },
    {
      "cell_type": "code",
      "execution_count": 55,
      "id": "4865dd78",
      "metadata": {
        "id": "4865dd78"
      },
      "outputs": [],
      "source": [
        "# from sklearn.naive_bayes import ComplementNB\n",
        "NB_compl = ComplementNB(alpha=0.01)\n",
        "NB_compl.fit(X_train, y_train);\n"
      ]
    },
    {
      "cell_type": "markdown",
      "id": "d803fbe3",
      "metadata": {
        "id": "d803fbe3"
      },
      "source": [
        "Оцените результат с точки зрения всех известных вам метрик (не менее трёх):"
      ]
    },
    {
      "cell_type": "code",
      "execution_count": 56,
      "id": "b0bbc4d2",
      "metadata": {
        "id": "b0bbc4d2",
        "colab": {
          "base_uri": "https://localhost:8080/",
          "height": 237
        },
        "outputId": "7b15c36a-95ac-4691-fa66-725a9da1c720"
      },
      "outputs": [
        {
          "output_type": "execute_result",
          "data": {
            "text/plain": [
              "                     metrics value\n",
              "Precision                    1.000\n",
              "Accuracy                     0.988\n",
              "Balanced accuracy            0.964\n",
              "Recall(sensitivity)          0.927\n",
              "Specificity                  1.000\n",
              "F1-score                     0.962"
            ],
            "text/html": [
              "\n",
              "\n",
              "  <div id=\"df-75a8d079-05b5-4222-b85e-b49c78873491\">\n",
              "    <div class=\"colab-df-container\">\n",
              "      <div>\n",
              "<style scoped>\n",
              "    .dataframe tbody tr th:only-of-type {\n",
              "        vertical-align: middle;\n",
              "    }\n",
              "\n",
              "    .dataframe tbody tr th {\n",
              "        vertical-align: top;\n",
              "    }\n",
              "\n",
              "    .dataframe thead th {\n",
              "        text-align: right;\n",
              "    }\n",
              "</style>\n",
              "<table border=\"1\" class=\"dataframe\">\n",
              "  <thead>\n",
              "    <tr style=\"text-align: right;\">\n",
              "      <th></th>\n",
              "      <th>metrics value</th>\n",
              "    </tr>\n",
              "  </thead>\n",
              "  <tbody>\n",
              "    <tr>\n",
              "      <th>Precision</th>\n",
              "      <td>1.000</td>\n",
              "    </tr>\n",
              "    <tr>\n",
              "      <th>Accuracy</th>\n",
              "      <td>0.988</td>\n",
              "    </tr>\n",
              "    <tr>\n",
              "      <th>Balanced accuracy</th>\n",
              "      <td>0.964</td>\n",
              "    </tr>\n",
              "    <tr>\n",
              "      <th>Recall(sensitivity)</th>\n",
              "      <td>0.927</td>\n",
              "    </tr>\n",
              "    <tr>\n",
              "      <th>Specificity</th>\n",
              "      <td>1.000</td>\n",
              "    </tr>\n",
              "    <tr>\n",
              "      <th>F1-score</th>\n",
              "      <td>0.962</td>\n",
              "    </tr>\n",
              "  </tbody>\n",
              "</table>\n",
              "</div>\n",
              "      <button class=\"colab-df-convert\" onclick=\"convertToInteractive('df-75a8d079-05b5-4222-b85e-b49c78873491')\"\n",
              "              title=\"Convert this dataframe to an interactive table.\"\n",
              "              style=\"display:none;\">\n",
              "\n",
              "  <svg xmlns=\"http://www.w3.org/2000/svg\" height=\"24px\"viewBox=\"0 0 24 24\"\n",
              "       width=\"24px\">\n",
              "    <path d=\"M0 0h24v24H0V0z\" fill=\"none\"/>\n",
              "    <path d=\"M18.56 5.44l.94 2.06.94-2.06 2.06-.94-2.06-.94-.94-2.06-.94 2.06-2.06.94zm-11 1L8.5 8.5l.94-2.06 2.06-.94-2.06-.94L8.5 2.5l-.94 2.06-2.06.94zm10 10l.94 2.06.94-2.06 2.06-.94-2.06-.94-.94-2.06-.94 2.06-2.06.94z\"/><path d=\"M17.41 7.96l-1.37-1.37c-.4-.4-.92-.59-1.43-.59-.52 0-1.04.2-1.43.59L10.3 9.45l-7.72 7.72c-.78.78-.78 2.05 0 2.83L4 21.41c.39.39.9.59 1.41.59.51 0 1.02-.2 1.41-.59l7.78-7.78 2.81-2.81c.8-.78.8-2.07 0-2.86zM5.41 20L4 18.59l7.72-7.72 1.47 1.35L5.41 20z\"/>\n",
              "  </svg>\n",
              "      </button>\n",
              "\n",
              "\n",
              "\n",
              "    <div id=\"df-87e2e0f4-3abb-4ecc-89da-fae2567aaaa1\">\n",
              "      <button class=\"colab-df-quickchart\" onclick=\"quickchart('df-87e2e0f4-3abb-4ecc-89da-fae2567aaaa1')\"\n",
              "              title=\"Suggest charts.\"\n",
              "              style=\"display:none;\">\n",
              "\n",
              "<svg xmlns=\"http://www.w3.org/2000/svg\" height=\"24px\"viewBox=\"0 0 24 24\"\n",
              "     width=\"24px\">\n",
              "    <g>\n",
              "        <path d=\"M19 3H5c-1.1 0-2 .9-2 2v14c0 1.1.9 2 2 2h14c1.1 0 2-.9 2-2V5c0-1.1-.9-2-2-2zM9 17H7v-7h2v7zm4 0h-2V7h2v10zm4 0h-2v-4h2v4z\"/>\n",
              "    </g>\n",
              "</svg>\n",
              "      </button>\n",
              "    </div>\n",
              "\n",
              "<style>\n",
              "  .colab-df-quickchart {\n",
              "    background-color: #E8F0FE;\n",
              "    border: none;\n",
              "    border-radius: 50%;\n",
              "    cursor: pointer;\n",
              "    display: none;\n",
              "    fill: #1967D2;\n",
              "    height: 32px;\n",
              "    padding: 0 0 0 0;\n",
              "    width: 32px;\n",
              "  }\n",
              "\n",
              "  .colab-df-quickchart:hover {\n",
              "    background-color: #E2EBFA;\n",
              "    box-shadow: 0px 1px 2px rgba(60, 64, 67, 0.3), 0px 1px 3px 1px rgba(60, 64, 67, 0.15);\n",
              "    fill: #174EA6;\n",
              "  }\n",
              "\n",
              "  [theme=dark] .colab-df-quickchart {\n",
              "    background-color: #3B4455;\n",
              "    fill: #D2E3FC;\n",
              "  }\n",
              "\n",
              "  [theme=dark] .colab-df-quickchart:hover {\n",
              "    background-color: #434B5C;\n",
              "    box-shadow: 0px 1px 3px 1px rgba(0, 0, 0, 0.15);\n",
              "    filter: drop-shadow(0px 1px 2px rgba(0, 0, 0, 0.3));\n",
              "    fill: #FFFFFF;\n",
              "  }\n",
              "</style>\n",
              "\n",
              "    <script>\n",
              "      async function quickchart(key) {\n",
              "        const containerElement = document.querySelector('#' + key);\n",
              "        const charts = await google.colab.kernel.invokeFunction(\n",
              "            'suggestCharts', [key], {});\n",
              "      }\n",
              "    </script>\n",
              "\n",
              "      <script>\n",
              "\n",
              "function displayQuickchartButton(domScope) {\n",
              "  let quickchartButtonEl =\n",
              "    domScope.querySelector('#df-87e2e0f4-3abb-4ecc-89da-fae2567aaaa1 button.colab-df-quickchart');\n",
              "  quickchartButtonEl.style.display =\n",
              "    google.colab.kernel.accessAllowed ? 'block' : 'none';\n",
              "}\n",
              "\n",
              "        displayQuickchartButton(document);\n",
              "      </script>\n",
              "      <style>\n",
              "    .colab-df-container {\n",
              "      display:flex;\n",
              "      flex-wrap:wrap;\n",
              "      gap: 12px;\n",
              "    }\n",
              "\n",
              "    .colab-df-convert {\n",
              "      background-color: #E8F0FE;\n",
              "      border: none;\n",
              "      border-radius: 50%;\n",
              "      cursor: pointer;\n",
              "      display: none;\n",
              "      fill: #1967D2;\n",
              "      height: 32px;\n",
              "      padding: 0 0 0 0;\n",
              "      width: 32px;\n",
              "    }\n",
              "\n",
              "    .colab-df-convert:hover {\n",
              "      background-color: #E2EBFA;\n",
              "      box-shadow: 0px 1px 2px rgba(60, 64, 67, 0.3), 0px 1px 3px 1px rgba(60, 64, 67, 0.15);\n",
              "      fill: #174EA6;\n",
              "    }\n",
              "\n",
              "    [theme=dark] .colab-df-convert {\n",
              "      background-color: #3B4455;\n",
              "      fill: #D2E3FC;\n",
              "    }\n",
              "\n",
              "    [theme=dark] .colab-df-convert:hover {\n",
              "      background-color: #434B5C;\n",
              "      box-shadow: 0px 1px 3px 1px rgba(0, 0, 0, 0.15);\n",
              "      filter: drop-shadow(0px 1px 2px rgba(0, 0, 0, 0.3));\n",
              "      fill: #FFFFFF;\n",
              "    }\n",
              "  </style>\n",
              "\n",
              "      <script>\n",
              "        const buttonEl =\n",
              "          document.querySelector('#df-75a8d079-05b5-4222-b85e-b49c78873491 button.colab-df-convert');\n",
              "        buttonEl.style.display =\n",
              "          google.colab.kernel.accessAllowed ? 'block' : 'none';\n",
              "\n",
              "        async function convertToInteractive(key) {\n",
              "          const element = document.querySelector('#df-75a8d079-05b5-4222-b85e-b49c78873491');\n",
              "          const dataTable =\n",
              "            await google.colab.kernel.invokeFunction('convertToInteractive',\n",
              "                                                     [key], {});\n",
              "          if (!dataTable) return;\n",
              "\n",
              "          const docLinkHtml = 'Like what you see? Visit the ' +\n",
              "            '<a target=\"_blank\" href=https://colab.research.google.com/notebooks/data_table.ipynb>data table notebook</a>'\n",
              "            + ' to learn more about interactive tables.';\n",
              "          element.innerHTML = '';\n",
              "          dataTable['output_type'] = 'display_data';\n",
              "          await google.colab.output.renderOutput(dataTable, element);\n",
              "          const docLink = document.createElement('div');\n",
              "          docLink.innerHTML = docLinkHtml;\n",
              "          element.appendChild(docLink);\n",
              "        }\n",
              "      </script>\n",
              "    </div>\n",
              "  </div>\n"
            ]
          },
          "metadata": {},
          "execution_count": 56
        }
      ],
      "source": [
        "class BinClfMetrics:\n",
        "    '''\n",
        "    Класс реализует некоторые метрики для бинарной классификации\n",
        "    '''\n",
        "    def __init__(self, y_true, y_pred, y_proba=None) -> None:\n",
        "        self.TP = np.sum((y_pred + y_true) == 2)\n",
        "        self.TN = np.sum((y_pred + y_true) == 0)\n",
        "        self.FP = np.sum(y_pred[y_true == 0] == 1)\n",
        "        self.FN = np.sum(y_pred[y_true == 1] == 0)\n",
        "\n",
        "    def precision(self):\n",
        "        return self.TP / (self.TP + self.FP)\n",
        "\n",
        "    def accuracy(self):\n",
        "        return (self.TP + self.TN) / (self.TP + self.TN + self.FP + self.FN)\n",
        "\n",
        "    def balanced_accuracy(self):\n",
        "        return (self.TP / (self.TP + self.FN) +\\\n",
        "                self.TN / (self.TN + self.FP) ) / 2\n",
        "\n",
        "    def recall(self):\n",
        "        return self.TP / (self.TP + self.FN)\n",
        "\n",
        "    def specificity(self):\n",
        "         return self.TN / (self.TN + self.FP)\n",
        "\n",
        "    def f1_score(self):\n",
        "         return 2 * self.TP / (2 * self.TP + self.FP + self.FN)\n",
        "\n",
        "# from sklearn.metrics import precision_score, recall_score\n",
        "# from sklearn.metrics import balanced_accuracy_score, f1_score, roc_auc_score\n",
        "y_pred = NB_compl.predict(X_test)\n",
        "y_proba = NB_compl.predict_proba(X_test)\n",
        "\n",
        "# TP = np.sum(y_pred + y_test == 2)\n",
        "# TN = np.sum(y_pred + y_test == 0)\n",
        "# FP = np.sum(y_pred[y_test == 0] == 1)\n",
        "# FN = np.sum(y_pred[y_test == 1] == 0)\n",
        "\n",
        "mt = BinClfMetrics(y_test, y_pred)\n",
        "metrics_df = pd.DataFrame(\n",
        "    {'Precision': [mt.precision()], # [TP / (TP + FP)],\n",
        "     'Accuracy': [mt.accuracy()], #[(TP + TN) / (TP + TN + FP + FN)],\n",
        "     'Balanced accuracy': [mt.balanced_accuracy()], #[(TP / (TP + FN) + TN / (TN + FP) ) / 2],\n",
        "     'Recall(sensitivity)': [mt.recall()], #[TP / (TP + FN)],\n",
        "     'Specificity': [mt.specificity()], #[TN / (TN + FP)],\n",
        "     'F1-score': [mt.f1_score()] #[2 * TP / (2 * TP + FP + FN)]\n",
        "     }, index = ['metrics value']).T\n",
        "metrics_df['metrics value'] = metrics_df['metrics value'].round(3)\n",
        "metrics_df"
      ]
    },
    {
      "cell_type": "markdown",
      "id": "c85976d1",
      "metadata": {
        "id": "c85976d1"
      },
      "source": [
        "Нарисуйте ROC-кривую:"
      ]
    },
    {
      "cell_type": "code",
      "execution_count": 57,
      "id": "b4195126",
      "metadata": {
        "id": "b4195126",
        "colab": {
          "base_uri": "https://localhost:8080/",
          "height": 333
        },
        "outputId": "b4514f72-e14a-4250-8dfc-94707ffff1a4"
      },
      "outputs": [
        {
          "output_type": "display_data",
          "data": {
            "text/plain": [
              "<Figure size 700x300 with 1 Axes>"
            ],
            "image/png": "[encoded data removed]"
          },
          "metadata": {}
        }
      ],
      "source": [
        "def ROC_curve_custom(y_true, y_proba, detail=10):\n",
        "    '''\n",
        "    Расчет ROC кривой для бинарного классификатора\n",
        "    Параметры:\n",
        "    y_true: ndarray - вектор реальных классов объектов размером (n_samples,)\n",
        "    y_proba: ndarray - вектор предсказаний вероятности класса 1\n",
        "                             размером (n_samples,)\n",
        "    detail: int [0, inf] - детализация кривой\n",
        "\n",
        "    Возвращает:\n",
        "    tuple(FPR, TPR, thresholds)\n",
        "    FPR: ndarray - вектор значений false positive rate\n",
        "                   размером (len(thresholds),)\n",
        "    TPR: ndarray - вектор значений\n",
        "                   true positive rate размером  (len(thresholds),)\n",
        "    thresholds: ndarray - вектор значений порогов, длина зависит от detail\n",
        "    '''\n",
        "    y_proba_ = y_proba.copy()\n",
        "    #кол-во элементов класса 1\n",
        "    N_pos = np.sum(y_true)\n",
        "    #кол-во элементов класса 0\n",
        "    N_neg = - np.sum(y_true - 1) #y_true.size - N_pos\n",
        "    # пороги - уник. зн-я y_proba после округления для кл. 1 в убыв. порядке\n",
        "    thresholds = np.insert(sorted(np.unique(np.round(y_proba, detail)),\n",
        "                                  reverse=True), 0, 2.5)\n",
        "    # thresholds = sorted(np.percentile(\n",
        "    #     y_proba_, np.linspace(0, 100, n_points)),\n",
        "    #                     reverse=True)\n",
        "    FPR = [] #false pos rate\n",
        "    TPR = [] #true neg rate\n",
        "    for threshold in thresholds:\n",
        "        FPR += [np.sum(y_proba_[y_true == 0] > threshold) / N_neg]\n",
        "        TPR += [np.sum(y_proba_[y_true == 1] > threshold) / N_pos]\n",
        "\n",
        "    return np.asarray(FPR), np.asarray(TPR), np.asarray(thresholds)\n",
        "\n",
        "def ROC_AUC_custom(y_true, y_proba):\n",
        "    '''\n",
        "    Расчет площади под ROC кривой (ROC-AUC) для бинарного классификатора\n",
        "    Параметры:\n",
        "    y_true: ndarray - вектор реальных классов объектов размером (n_samples,)\n",
        "    y_proba: ndarray - вектор предсказаний вероятности класса 1\n",
        "                             размером (n_samples,)\n",
        "    Возвращает:\n",
        "    ROC-AUC: float\n",
        "    '''\n",
        "    FPR, TPR, _ = ROC_curve_custom(y_test, y_proba, detail=10)\n",
        "    # находим площадь под ROC методом трапеций\n",
        "    dFPR = FPR[1:] - FPR[:-1] #высоты\n",
        "    halfsum_TPR = (TPR[1:] + TPR[:-1]) / 2 #полусуммы оснований\n",
        "    return np.sum(dFPR * halfsum_TPR)\n",
        "\n",
        "# вычисляем ROC\n",
        "FPR, TPR, thrs = ROC_curve_custom(y_test, y_proba[:, 1])\n",
        "ROC_AUC = ROC_AUC_custom(y_test, y_proba[:, 1])\n",
        "\n",
        "# для ступенчатого вида ROC как в sklearn\n",
        "FPR_step = np.append(np.ravel(list(zip(FPR, FPR)))[1:], 1)\n",
        "TPR_step = np.append(np.ravel(list(zip(TPR, TPR)))[:-1], 1)\n",
        "\n",
        "fig, ax = plt.subplots(1, 1, figsize=(7, 3))\n",
        "ax.plot(FPR_step, TPR_step, 'b-', label='ComplementNB');\n",
        "ax.set_xlabel('False positive rate');\n",
        "ax.set_ylabel('True positive rate');\n",
        "# # ax.set_xlim(-0.001, 0.1);\n",
        "# ax.set_ylim(0.97, 1.001);\n",
        "ax.set_title('ROC curve');\n",
        "ax.text(0.1, 0.75-0.05, f'AUC = {np.round(ROC_AUC, 5)}', fontdict={'size':20});\n",
        "ax.plot([0, 1], [0, 1], 'g--', label='random', );\n",
        "ax.legend();\n"
      ]
    },
    {
      "cell_type": "code",
      "source": [
        "# delete\n",
        "def cross_validate_custom(estimator, X, y, n_folds=5,\n",
        "                          scores=['balanced_accuracy']):\n",
        "    '''\n",
        "    '''\n",
        "    # словарь для записи метрик на фолдах\n",
        "    scores_dict = {\n",
        "        'Precision': [], 'Accuracy': [], 'Balanced accuracy': [],\n",
        "        'Recall': [], 'Specificity': [], 'F1-score': []\n",
        "        }\n",
        "\n",
        "    pos_ind_all = np.asarray([i for i, lbl in enumerate(y) if lbl])\n",
        "    neg_ind_all = np.asarray([i for i, lbl in enumerate(y) if not lbl])\n",
        "    n_pos = len(pos_ind_all)\n",
        "    n_neg = len(neg_ind_all)\n",
        "\n",
        "    pos_fold_size = n_pos // n_folds\n",
        "    neg_fold_size = n_neg // n_folds\n",
        "\n",
        "    # маски для разбиения индексов классов по фолдам\n",
        "    pos_fold_masks = np.random.permutation(np.ravel(\n",
        "        [np.random.permutation(n_folds) for i in range(pos_fold_size + 1)]\n",
        "        ))[:n_pos]\n",
        "    neg_fold_masks = np.random.permutation(np.ravel(\n",
        "        [np.random.permutation(n_folds) for i in range(neg_fold_size + 1)]\n",
        "        ))[:n_neg]\n",
        "\n",
        "    # массивы массивов индексов классов 0 и 1, каждый подмассив соотв. одному фолду\n",
        "    neg_folds_ind = np.asarray(\n",
        "        [neg_ind_all[neg_fold_masks == f] for f in range(n_folds)])\n",
        "    pos_folds_ind = np.asarray(\n",
        "        [pos_ind_all[pos_fold_masks == f] for f in range(n_folds)])\n",
        "\n",
        "    for f in range(n_folds):\n",
        "        # лейблы для валидационных фолдов\n",
        "        train_lbls = [i for i in range(n_folds) if i != f]\n",
        "        # делаем массив индексов плоским\n",
        "        train_pos_inds = [ind for subarr in pos_folds_ind[train_lbls] \\\n",
        "                          for ind in subarr]\n",
        "        valid_pos_inds = pos_folds_ind[f]\n",
        "        train_neg_inds = [ind for subarr in neg_folds_ind[train_lbls] \\\n",
        "                          for ind in subarr]\n",
        "        valid_neg_inds = neg_folds_ind[f]\n",
        "\n",
        "        y_train_cv = y[np.append(train_pos_inds, train_neg_inds)]\n",
        "        X_train_cv = X[np.append(train_pos_inds, train_neg_inds), :]\n",
        "        y_valid_cv = y[np.append(valid_pos_inds, valid_neg_inds)]\n",
        "        X_valid_cv = X[np.append(valid_pos_inds, valid_neg_inds), :]\n",
        "\n",
        "        estimator.fit(X_train_cv, y_train_cv)\n",
        "        y_valid_pred = estimator.predict(X_valid_cv)\n",
        "\n",
        "        mt_ = BinClfMetrics(y_valid_cv, y_valid_pred)\n",
        "        # bal_accs += [mt_.balanced_accuracy()]\n",
        "        for score in scores:\n",
        "            scores_dict[score] += []\n",
        "        {'Precision': [mt.precision()],\n",
        "        'Accuracy': [mt.accuracy()],\n",
        "        'Balanced accuracy': [mt.balanced_accuracy()],\n",
        "        'Recall': [mt.recall()],\n",
        "        'Specificity': [mt.specificity()],\n",
        "        'F1-score': [mt.f1_score()]\n",
        "        }\n",
        "        # , index = ['metrics value']\n",
        "        # TP = np.sum(y_valid_cv + y_valid_pred == 2)\n",
        "        # TN = np.sum(y_valid_cv + y_valid_pred == 0)\n",
        "        # FP = np.sum(y_valid_pred[y_valid_cv == 0] == 1)\n",
        "        # FN = np.sum(y_valid_pred[y_valid_cv == 1] == 0)\n",
        "\n",
        "        # bal_accs += [(TP / (TP + FN) + TN / (TN + FP) ) / 2]\n",
        "\n",
        "    return np.asarray(bal_accs)\n",
        "\n",
        "# estimator = ComplementNB(alpha=0.01)\n",
        "# y_ = y #y_train\n",
        "# X_ = np.asarray(X) #X_train\n",
        "# n_folds = 10\n",
        "\n",
        "# pos_ind_all = np.asarray([i for i, lbl in enumerate(y_) if lbl])\n",
        "# neg_ind_all = np.asarray([i for i, lbl in enumerate(y_) if not lbl])\n",
        "# n_pos = len(pos_ind_all)\n",
        "# n_neg = len(neg_ind_all)\n",
        "\n",
        "# pos_fold_size = n_pos // n_folds\n",
        "# neg_fold_size = n_neg // n_folds\n",
        "\n",
        "# # маски для разбиения индексов классов по фолдам\n",
        "# pos_fold_masks = np.random.permutation(np.ravel(\n",
        "#     [np.random.permutation(n_folds) for i in range(pos_fold_size + 1)]\n",
        "#     ))[:n_pos]\n",
        "# neg_fold_masks = np.random.permutation(np.ravel(\n",
        "#     [np.random.permutation(n_folds) for i in range(neg_fold_size + 1)]\n",
        "#     ))[:n_neg]\n",
        "\n",
        "# # массивы массивов индексов классов 0 и 1, каждый подмассив соотв. одному фолду\n",
        "# neg_folds_ind = np.asarray(\n",
        "#     [neg_ind_all[neg_fold_masks == f] for f in range(n_folds)])\n",
        "# pos_folds_ind = np.asarray(\n",
        "#     [pos_ind_all[pos_fold_masks == f] for f in range(n_folds)])\n",
        "\n",
        "# bal_accs = []\n",
        "# for f in range(n_folds):\n",
        "#     # лейблы для валидационных фолдов\n",
        "#     train_lbls = [i for i in range(n_folds) if i != f]\n",
        "#     # делаем массив индексов плоским\n",
        "#     train_pos_inds = [ind for subarr in pos_folds_ind[train_lbls] \\\n",
        "#                       for ind in subarr]\n",
        "#     valid_pos_inds = pos_folds_ind[f]\n",
        "#     train_neg_inds = [ind for subarr in neg_folds_ind[train_lbls] \\\n",
        "#                       for ind in subarr]\n",
        "#     valid_neg_inds = neg_folds_ind[f]\n",
        "\n",
        "#     y_train_cv = y_[np.append(train_pos_inds, train_neg_inds)]\n",
        "#     X_train_cv = X_[np.append(train_pos_inds, train_neg_inds), :]\n",
        "#     y_valid_cv = y_[np.append(valid_pos_inds, valid_neg_inds)]\n",
        "#     X_valid_cv = X_[np.append(valid_pos_inds, valid_neg_inds), :]\n",
        "\n",
        "#     estimator.fit(X_train_cv, y_train_cv)\n",
        "#     y_valid_pred = estimator.predict(X_valid_cv)\n",
        "#     # mt_ = BinClfMetrics(y_valid_cv, y_valid_pred)\n",
        "#     # bal_accs += [mt_.balanced_accuracy()]\n",
        "#     TP = np.sum(y_valid_cv + y_valid_pred == 2)\n",
        "#     TN = np.sum(y_valid_cv + y_valid_pred == 0)\n",
        "#     FP = np.sum(y_valid_pred[y_valid_cv == 0] == 1)\n",
        "#     FN = np.sum(y_valid_pred[y_valid_cv == 1] == 0)\n",
        "\n",
        "#     bal_accs += [(TP / (TP + FN) + TN / (TN + FP) ) / 2]\n",
        "\n",
        "# TP = np.sum(y_pred + y_test == 2)\n",
        "# TN = np.sum(y_pred + y_test == 0)\n",
        "# FP = np.sum(y_pred[y_test == 0] == 1)\n",
        "# FN = np.sum(y_pred[y_test == 1] == 0)\n",
        "\n",
        "bal_accs = cross_validate_custom(estimator=ComplementNB(alpha=0.01), X=X, y=y)\n",
        "bal_accs"
      ],
      "metadata": {
        "colab": {
          "base_uri": "https://localhost:8080/"
        },
        "id": "NbN46NsbBQhH",
        "outputId": "31c020ec-89a2-4e63-8aa8-79e7e63fc036"
      },
      "id": "NbN46NsbBQhH",
      "execution_count": 61,
      "outputs": [
        {
          "output_type": "execute_result",
          "data": {
            "text/plain": [
              "array([0.96698795, 0.98989899, 0.97      , 0.979     , 0.98069388])"
            ]
          },
          "metadata": {},
          "execution_count": 61
        }
      ]
    },
    {
      "cell_type": "code",
      "source": [
        "# delete\n",
        "# BinClfMetrics(y_true=y_valid_cv, y_pred=y_valid_pred)\n",
        "type(np.asarray(X))"
      ],
      "metadata": {
        "colab": {
          "base_uri": "https://localhost:8080/"
        },
        "id": "lwVj_LbqSSla",
        "outputId": "713d3a53-ca2b-43cb-d145-af3e66f21f4c"
      },
      "id": "lwVj_LbqSSla",
      "execution_count": 59,
      "outputs": [
        {
          "output_type": "execute_result",
          "data": {
            "text/plain": [
              "numpy.ndarray"
            ]
          },
          "metadata": {},
          "execution_count": 59
        }
      ]
    },
    {
      "cell_type": "markdown",
      "id": "cf0bb49b",
      "metadata": {
        "id": "cf0bb49b"
      },
      "source": [
        "## Задание 5 (3 балла)"
      ]
    },
    {
      "cell_type": "markdown",
      "id": "30b7a0ae",
      "metadata": {
        "id": "30b7a0ae"
      },
      "source": [
        "Переберите несколько значений alpha с помощью кросс-валидации. Оцените, зависит ли от этого параметра качество классификации."
      ]
    },
    {
      "cell_type": "code",
      "execution_count": 60,
      "id": "3513d907",
      "metadata": {
        "id": "3513d907"
      },
      "outputs": [],
      "source": [
        "alphas = np.logspace(-4, 1, 6)\n",
        "# alphas\n",
        "for alpha in alphas:\n",
        "    alpha"
      ]
    }
  ],
  "metadata": {
    "colab": {
      "provenance": [],
      "toc_visible": true,
      "include_colab_link": true
    },
    "kernelspec": {
      "display_name": "Python 3 (ipykernel)",
      "language": "python",
      "name": "python3"
    },
    "language_info": {
      "codemirror_mode": {
        "name": "ipython",
        "version": 3
      },
      "file_extension": ".py",
      "mimetype": "text/x-python",
      "name": "python",
      "nbconvert_exporter": "python",
      "pygments_lexer": "ipython3",
      "version": "3.9.7"
    }
  },
  "nbformat": 4,
  "nbformat_minor": 5
}