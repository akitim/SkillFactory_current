{
  "nbformat": 4,
  "nbformat_minor": 0,
  "metadata": {
    "colab": {
      "provenance": [],
      "toc_visible": true,
      "include_colab_link": true
    },
    "kernelspec": {
      "name": "python3",
      "display_name": "Python 3"
    },
    "language_info": {
      "name": "python"
    }
  },
  "cells": [
    {
      "cell_type": "markdown",
      "metadata": {
        "id": "view-in-github",
        "colab_type": "text"
      },
      "source": [
        "<a href=\"https://colab.research.google.com/github/akitim/SkillFactory_current/blob/main/%D0%91%D0%BB%D0%BE%D0%BA_5_%D0%9C%D0%B0%D1%82%D0%B5%D0%BC%D0%B0%D1%82%D0%B8%D0%BA%D0%B0_%D0%B2_ML_%D0%A7%D0%B0%D1%81%D1%82%D1%8C_I_%D0%A7%D0%B0%D1%81%D1%82%D1%8C_II_%D0%A7%D0%B0%D1%81%D1%82%D1%8C_III.ipynb\" target=\"_parent\"><img src=\"https://colab.research.google.com/assets/colab-badge.svg\" alt=\"Open In Colab\"/></a>"
      ]
    },
    {
      "cell_type": "markdown",
      "source": [
        "# 2/11  2. Множества. Операции над множествами"
      ],
      "metadata": {
        "id": "m8DIUIewZW9k"
      }
    },
    {
      "cell_type": "markdown",
      "source": [
        "### УСЛОВИЕ ДЛЯ ЗАДАНИЙ 2.6-2.8\n",
        "\n",
        "Представьте, что вы являетесь куратором образовательной программы, на которой будет два вебинара: по программированию и по машинному обучению.\n",
        "\n",
        "На вебинар по программированию записались потенциальные слушатели со следующими электронными адресами:\n",
        "\n",
        "bennet\\@xyz.com\\\n",
        "darcy\\@abc.com\\\n",
        "margaret\\@xyz.com\\\n",
        "pa\\@hhh.com\\\n",
        "marimari\\@xyz.com\\\n",
        "mallika\\@yahoo.com\\\n",
        "abc\\@xyz.com\\\n",
        "0071235\\@gmail.ru\\\n",
        "На вебинар по машинному обучению записались потенциальные слушатели со следующими электронными адресами:\n",
        "\n",
        "marimari\\@xyz.com\\\n",
        "darcy\\@abc.com\\\n",
        "0071235\\@gmail.ru\\\n",
        "darcy\\@abc.com\\\n",
        "petr44\\@xyz.com\\\n",
        "katrin\\@ya.com\\\n",
        "Оформите множества в Python для обоих списков слушателей.\n",
        "\n"
      ],
      "metadata": {
        "id": "FwUNDph223RV"
      }
    },
    {
      "cell_type": "markdown",
      "source": [
        "### Задание 2.6\n",
        "\n",
        "С помощью операций множеств в Python определите, сколько слушателей записалось на оба вебинара."
      ],
      "metadata": {
        "id": "G1DVubxj3HN_"
      }
    },
    {
      "cell_type": "code",
      "execution_count": 5,
      "metadata": {
        "id": "BKh3MOeiWINk",
        "colab": {
          "base_uri": "https://localhost:8080/"
        },
        "outputId": "f99b3f0b-66ae-4752-a306-385a4b79fd44"
      },
      "outputs": [
        {
          "output_type": "execute_result",
          "data": {
            "text/plain": [
              "3"
            ]
          },
          "metadata": {},
          "execution_count": 5
        }
      ],
      "source": [
        "import numpy as np\n",
        "\n",
        "prog = {'bennet@xyz.com', 'darcy@abc.com', 'margaret@xyz.com',\n",
        "               'pa@hhh.com', 'marimari@xyz.com', 'mallika@yahoo.com',\n",
        "               'abc@xyz.com', '0071235@gmail.ru'}\n",
        "ML = {'marimari@xyz.com', 'darcy@abc.com', '0071235@gmail.ru', 'darcy@abc.com',\n",
        "      'petr44@xyz.com', 'katrin@ya.com'}\n",
        "\n",
        "len(prog & ML)"
      ]
    },
    {
      "cell_type": "markdown",
      "source": [
        "### Задание 2.7\n",
        "\n",
        "Сколько человек заинтересованы в посещении хотя бы одного вебинара?"
      ],
      "metadata": {
        "id": "dXwGfoez5LR0"
      }
    },
    {
      "cell_type": "code",
      "source": [
        "import numpy as np\n",
        "\n",
        "prog = {'bennet@xyz.com', 'darcy@abc.com', 'margaret@xyz.com',\n",
        "               'pa@hhh.com', 'marimari@xyz.com', 'mallika@yahoo.com',\n",
        "               'abc@xyz.com', '0071235@gmail.ru'}\n",
        "ML = {'marimari@xyz.com', 'darcy@abc.com', '0071235@gmail.ru', 'darcy@abc.com',\n",
        "      'petr44@xyz.com', 'katrin@ya.com'}\n",
        "\n",
        "len(prog | ML)"
      ],
      "metadata": {
        "colab": {
          "base_uri": "https://localhost:8080/"
        },
        "id": "Bxo6oW775Nk0",
        "outputId": "8e57dc42-ea7a-44ff-c0d4-782508f36577"
      },
      "execution_count": 6,
      "outputs": [
        {
          "output_type": "execute_result",
          "data": {
            "text/plain": [
              "10"
            ]
          },
          "metadata": {},
          "execution_count": 6
        }
      ]
    },
    {
      "cell_type": "markdown",
      "source": [
        "### Задание 2.8\n",
        "\n",
        "Сколько человек заинтересованы в посещении только одного вебинара из двух?"
      ],
      "metadata": {
        "id": "TYbWWdTe5eG0"
      }
    },
    {
      "cell_type": "code",
      "source": [
        "import numpy as np\n",
        "\n",
        "prog = {'bennet@xyz.com', 'darcy@abc.com', 'margaret@xyz.com',\n",
        "               'pa@hhh.com', 'marimari@xyz.com', 'mallika@yahoo.com',\n",
        "               'abc@xyz.com', '0071235@gmail.ru'}\n",
        "ML = {'marimari@xyz.com', 'darcy@abc.com', '0071235@gmail.ru', 'darcy@abc.com',\n",
        "      'petr44@xyz.com', 'katrin@ya.com'}\n",
        "\n",
        "len(prog.symmetric_difference(ML))"
      ],
      "metadata": {
        "colab": {
          "base_uri": "https://localhost:8080/"
        },
        "id": "rQTXgnrq5gW8",
        "outputId": "30d940e6-a728-422d-84e3-038e3ddf25a0"
      },
      "execution_count": 8,
      "outputs": [
        {
          "output_type": "execute_result",
          "data": {
            "text/plain": [
              "7"
            ]
          },
          "metadata": {},
          "execution_count": 8
        }
      ]
    },
    {
      "cell_type": "markdown",
      "source": [
        "### Задание 4.7\n",
        "\n",
        "Найдите область значений для функции $f(x) = \\frac{3}{x^2 - 10}.$\n",
        "Для решения задачи воспользуйтесь библиотекой SymPy."
      ],
      "metadata": {
        "id": "tGQKuLr1793i"
      }
    },
    {
      "cell_type": "code",
      "source": [
        "from sympy import Symbol, S\n",
        "from sympy.calculus.util import function_range, continuous_domain\n",
        "\n",
        "x = Symbol('x')\n",
        "func = 3 / (x**2 - 10)\n",
        "function_range(func, x, S.Reals)"
      ],
      "metadata": {
        "colab": {
          "base_uri": "https://localhost:8080/",
          "height": 58
        },
        "id": "77sDs-zc8Aw6",
        "outputId": "3c1f1410-d1ce-40d1-dcf2-556563961f26"
      },
      "execution_count": 10,
      "outputs": [
        {
          "output_type": "execute_result",
          "data": {
            "text/plain": [
              "Union(Interval(-oo, -3/10), Interval.open(0, oo))"
            ],
            "text/latex": "$\\displaystyle \\left(-\\infty, - \\frac{3}{10}\\right] \\cup \\left(0, \\infty\\right)$"
          },
          "metadata": {},
          "execution_count": 10
        }
      ]
    },
    {
      "cell_type": "markdown",
      "source": [
        "$y = \\frac{x^3}{2(x+5)^2}$"
      ],
      "metadata": {
        "id": "fRpZhkFfO9AQ"
      }
    },
    {
      "cell_type": "code",
      "source": [
        "from sympy import Symbol, diff\n",
        "\n",
        "x = Symbol('x')\n",
        "y = x**3 / 2 / (x + 5)**2\n",
        "diff(y)"
      ],
      "metadata": {
        "colab": {
          "base_uri": "https://localhost:8080/",
          "height": 61
        },
        "id": "ciHDW0MUPAXi",
        "outputId": "30719787-7de2-4ae9-bd26-4aae0fc3ea53"
      },
      "execution_count": 17,
      "outputs": [
        {
          "output_type": "execute_result",
          "data": {
            "text/plain": [
              "-x**3/(x + 5)**3 + 3*x**2/(2*(x + 5)**2)"
            ],
            "text/latex": "$\\displaystyle - \\frac{x^{3}}{\\left(x + 5\\right)^{3}} + \\frac{3 x^{2}}{2 \\left(x + 5\\right)^{2}}$"
          },
          "metadata": {},
          "execution_count": 17
        }
      ]
    },
    {
      "cell_type": "code",
      "source": [
        "from sympy import solveset, Eq\n",
        "\n",
        "solveset(Eq(diff(y), 0), x)"
      ],
      "metadata": {
        "colab": {
          "base_uri": "https://localhost:8080/",
          "height": 37
        },
        "id": "xcBLDvEjP_V1",
        "outputId": "daaecfd5-94cd-4a90-fe63-89929aa80a0f"
      },
      "execution_count": 16,
      "outputs": [
        {
          "output_type": "execute_result",
          "data": {
            "text/plain": [
              "{-15, 0}"
            ],
            "text/latex": "$\\displaystyle \\left\\{-15, 0\\right\\}$"
          },
          "metadata": {},
          "execution_count": 16
        }
      ]
    },
    {
      "cell_type": "code",
      "source": [
        "from sympy import simplify\n",
        "\n",
        "simplify(diff(diff(y)))"
      ],
      "metadata": {
        "colab": {
          "base_uri": "https://localhost:8080/",
          "height": 52
        },
        "id": "R56NiIkGRZ8g",
        "outputId": "6a090424-1116-4c4e-d17e-22402cc8787b"
      },
      "execution_count": 19,
      "outputs": [
        {
          "output_type": "execute_result",
          "data": {
            "text/plain": [
              "75*x/(x**4 + 20*x**3 + 150*x**2 + 500*x + 625)"
            ],
            "text/latex": "$\\displaystyle \\frac{75 x}{x^{4} + 20 x^{3} + 150 x^{2} + 500 x + 625}$"
          },
          "metadata": {},
          "execution_count": 19
        }
      ]
    },
    {
      "cell_type": "code",
      "source": [
        "from sympy import Symbol, diff, solveset, Eq\n",
        "\n",
        "x = Symbol('x')\n",
        "y = - (x**2 + 1) / x\n",
        "diff(y)\n",
        "# solveset(Eq(diff(y), 0), x)"
      ],
      "metadata": {
        "colab": {
          "base_uri": "https://localhost:8080/",
          "height": 54
        },
        "id": "UsHroxiXUVCu",
        "outputId": "c400a45a-472b-4caf-b7e3-de454fcf7365"
      },
      "execution_count": 23,
      "outputs": [
        {
          "output_type": "execute_result",
          "data": {
            "text/plain": [
              "-2 - (-x**2 - 1)/x**2"
            ],
            "text/latex": "$\\displaystyle -2 - \\frac{- x^{2} - 1}{x^{2}}$"
          },
          "metadata": {},
          "execution_count": 23
        }
      ]
    },
    {
      "cell_type": "markdown",
      "source": [
        "# 1/11  1. Введение. Функции нескольких переменных"
      ],
      "metadata": {
        "id": "wsd6ZaVAbbdH"
      }
    }
  ]
}