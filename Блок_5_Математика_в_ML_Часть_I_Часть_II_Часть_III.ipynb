{
  "nbformat": 4,
  "nbformat_minor": 0,
  "metadata": {
    "colab": {
      "provenance": [],
      "include_colab_link": true
    },
    "kernelspec": {
      "name": "python3",
      "display_name": "Python 3"
    },
    "language_info": {
      "name": "python"
    }
  },
  "cells": [
    {
      "cell_type": "markdown",
      "metadata": {
        "id": "view-in-github",
        "colab_type": "text"
      },
      "source": [
        "<a href=\"https://colab.research.google.com/github/akitim/SkillFactory_current/blob/main/%D0%91%D0%BB%D0%BE%D0%BA_5_%D0%9C%D0%B0%D1%82%D0%B5%D0%BC%D0%B0%D1%82%D0%B8%D0%BA%D0%B0_%D0%B2_ML_%D0%A7%D0%B0%D1%81%D1%82%D1%8C_I_%D0%A7%D0%B0%D1%81%D1%82%D1%8C_II_%D0%A7%D0%B0%D1%81%D1%82%D1%8C_III.ipynb\" target=\"_parent\"><img src=\"https://colab.research.google.com/assets/colab-badge.svg\" alt=\"Open In Colab\"/></a>"
      ]
    },
    {
      "cell_type": "markdown",
      "source": [
        "## 2/11  2. Множества. Операции над множествами"
      ],
      "metadata": {
        "id": "m8DIUIewZW9k"
      }
    },
    {
      "cell_type": "markdown",
      "source": [
        "### УСЛОВИЕ ДЛЯ ЗАДАНИЙ 2.6-2.8\n",
        "\n",
        "Представьте, что вы являетесь куратором образовательной программы, на которой будет два вебинара: по программированию и по машинному обучению.\n",
        "\n",
        "На вебинар по программированию записались потенциальные слушатели со следующими электронными адресами:\n",
        "\n",
        "bennet\\@xyz.com\\\n",
        "darcy\\@abc.com\\\n",
        "margaret\\@xyz.com\\\n",
        "pa\\@hhh.com\\\n",
        "marimari\\@xyz.com\\\n",
        "mallika\\@yahoo.com\\\n",
        "abc\\@xyz.com\\\n",
        "0071235\\@gmail.ru\\\n",
        "На вебинар по машинному обучению записались потенциальные слушатели со следующими электронными адресами:\n",
        "\n",
        "marimari\\@xyz.com\\\n",
        "darcy\\@abc.com\\\n",
        "0071235\\@gmail.ru\\\n",
        "darcy\\@abc.com\\\n",
        "petr44\\@xyz.com\\\n",
        "katrin\\@ya.com\\\n",
        "Оформите множества в Python для обоих списков слушателей.\n",
        "\n"
      ],
      "metadata": {
        "id": "FwUNDph223RV"
      }
    },
    {
      "cell_type": "markdown",
      "source": [
        "### Задание 2.6\n",
        "\n",
        "С помощью операций множеств в Python определите, сколько слушателей записалось на оба вебинара."
      ],
      "metadata": {
        "id": "G1DVubxj3HN_"
      }
    },
    {
      "cell_type": "code",
      "execution_count": null,
      "metadata": {
        "id": "BKh3MOeiWINk",
        "colab": {
          "base_uri": "https://localhost:8080/"
        },
        "outputId": "f99b3f0b-66ae-4752-a306-385a4b79fd44"
      },
      "outputs": [
        {
          "output_type": "execute_result",
          "data": {
            "text/plain": [
              "3"
            ]
          },
          "metadata": {},
          "execution_count": 5
        }
      ],
      "source": [
        "import numpy as np\n",
        "\n",
        "prog = {'bennet@xyz.com', 'darcy@abc.com', 'margaret@xyz.com',\n",
        "               'pa@hhh.com', 'marimari@xyz.com', 'mallika@yahoo.com',\n",
        "               'abc@xyz.com', '0071235@gmail.ru'}\n",
        "ML = {'marimari@xyz.com', 'darcy@abc.com', '0071235@gmail.ru', 'darcy@abc.com',\n",
        "      'petr44@xyz.com', 'katrin@ya.com'}\n",
        "\n",
        "len(prog & ML)"
      ]
    },
    {
      "cell_type": "markdown",
      "source": [
        "### Задание 2.7\n",
        "\n",
        "Сколько человек заинтересованы в посещении хотя бы одного вебинара?"
      ],
      "metadata": {
        "id": "dXwGfoez5LR0"
      }
    },
    {
      "cell_type": "code",
      "source": [
        "import numpy as np\n",
        "\n",
        "prog = {'bennet@xyz.com', 'darcy@abc.com', 'margaret@xyz.com',\n",
        "               'pa@hhh.com', 'marimari@xyz.com', 'mallika@yahoo.com',\n",
        "               'abc@xyz.com', '0071235@gmail.ru'}\n",
        "ML = {'marimari@xyz.com', 'darcy@abc.com', '0071235@gmail.ru', 'darcy@abc.com',\n",
        "      'petr44@xyz.com', 'katrin@ya.com'}\n",
        "\n",
        "len(prog | ML)"
      ],
      "metadata": {
        "colab": {
          "base_uri": "https://localhost:8080/"
        },
        "id": "Bxo6oW775Nk0",
        "outputId": "8e57dc42-ea7a-44ff-c0d4-782508f36577"
      },
      "execution_count": null,
      "outputs": [
        {
          "output_type": "execute_result",
          "data": {
            "text/plain": [
              "10"
            ]
          },
          "metadata": {},
          "execution_count": 6
        }
      ]
    },
    {
      "cell_type": "markdown",
      "source": [
        "### Задание 2.8\n",
        "\n",
        "Сколько человек заинтересованы в посещении только одного вебинара из двух?"
      ],
      "metadata": {
        "id": "TYbWWdTe5eG0"
      }
    },
    {
      "cell_type": "code",
      "source": [
        "import numpy as np\n",
        "\n",
        "prog = {'bennet@xyz.com', 'darcy@abc.com', 'margaret@xyz.com',\n",
        "               'pa@hhh.com', 'marimari@xyz.com', 'mallika@yahoo.com',\n",
        "               'abc@xyz.com', '0071235@gmail.ru'}\n",
        "ML = {'marimari@xyz.com', 'darcy@abc.com', '0071235@gmail.ru', 'darcy@abc.com',\n",
        "      'petr44@xyz.com', 'katrin@ya.com'}\n",
        "\n",
        "len(prog.symmetric_difference(ML))"
      ],
      "metadata": {
        "colab": {
          "base_uri": "https://localhost:8080/"
        },
        "id": "rQTXgnrq5gW8",
        "outputId": "30d940e6-a728-422d-84e3-038e3ddf25a0"
      },
      "execution_count": null,
      "outputs": [
        {
          "output_type": "execute_result",
          "data": {
            "text/plain": [
              "7"
            ]
          },
          "metadata": {},
          "execution_count": 8
        }
      ]
    },
    {
      "cell_type": "markdown",
      "source": [
        "### Задание 4.7\n",
        "\n",
        "Найдите область значений для функции $f(x) = \\frac{3}{x^2 - 10}.$\n",
        "Для решения задачи воспользуйтесь библиотекой SymPy."
      ],
      "metadata": {
        "id": "tGQKuLr1793i"
      }
    },
    {
      "cell_type": "code",
      "source": [
        "from sympy import Symbol, S\n",
        "from sympy.calculus.util import function_range, continuous_domain\n",
        "\n",
        "x = Symbol('x')\n",
        "func = 3 / (x**2 - 10)\n",
        "function_range(func, x, S.Reals)"
      ],
      "metadata": {
        "colab": {
          "base_uri": "https://localhost:8080/",
          "height": 58
        },
        "id": "77sDs-zc8Aw6",
        "outputId": "3c1f1410-d1ce-40d1-dcf2-556563961f26"
      },
      "execution_count": null,
      "outputs": [
        {
          "output_type": "execute_result",
          "data": {
            "text/plain": [
              "Union(Interval(-oo, -3/10), Interval.open(0, oo))"
            ],
            "text/latex": "$\\displaystyle \\left(-\\infty, - \\frac{3}{10}\\right] \\cup \\left(0, \\infty\\right)$"
          },
          "metadata": {},
          "execution_count": 10
        }
      ]
    },
    {
      "cell_type": "markdown",
      "source": [
        "$y = \\frac{x^3}{2(x+5)^2}$"
      ],
      "metadata": {
        "id": "fRpZhkFfO9AQ"
      }
    },
    {
      "cell_type": "code",
      "source": [
        "from sympy import Symbol, diff\n",
        "\n",
        "x = Symbol('x')\n",
        "y = x**3 / 2 / (x + 5)**2\n",
        "diff(y)"
      ],
      "metadata": {
        "colab": {
          "base_uri": "https://localhost:8080/",
          "height": 61
        },
        "id": "ciHDW0MUPAXi",
        "outputId": "30719787-7de2-4ae9-bd26-4aae0fc3ea53"
      },
      "execution_count": null,
      "outputs": [
        {
          "output_type": "execute_result",
          "data": {
            "text/plain": [
              "-x**3/(x + 5)**3 + 3*x**2/(2*(x + 5)**2)"
            ],
            "text/latex": "$\\displaystyle - \\frac{x^{3}}{\\left(x + 5\\right)^{3}} + \\frac{3 x^{2}}{2 \\left(x + 5\\right)^{2}}$"
          },
          "metadata": {},
          "execution_count": 17
        }
      ]
    },
    {
      "cell_type": "code",
      "source": [
        "from sympy import solveset, Eq\n",
        "\n",
        "solveset(Eq(diff(y), 0), x)"
      ],
      "metadata": {
        "colab": {
          "base_uri": "https://localhost:8080/",
          "height": 37
        },
        "id": "xcBLDvEjP_V1",
        "outputId": "daaecfd5-94cd-4a90-fe63-89929aa80a0f"
      },
      "execution_count": null,
      "outputs": [
        {
          "output_type": "execute_result",
          "data": {
            "text/plain": [
              "{-15, 0}"
            ],
            "text/latex": "$\\displaystyle \\left\\{-15, 0\\right\\}$"
          },
          "metadata": {},
          "execution_count": 16
        }
      ]
    },
    {
      "cell_type": "code",
      "source": [
        "from sympy import simplify\n",
        "\n",
        "simplify(diff(diff(y)))"
      ],
      "metadata": {
        "colab": {
          "base_uri": "https://localhost:8080/",
          "height": 52
        },
        "id": "R56NiIkGRZ8g",
        "outputId": "6a090424-1116-4c4e-d17e-22402cc8787b"
      },
      "execution_count": null,
      "outputs": [
        {
          "output_type": "execute_result",
          "data": {
            "text/plain": [
              "75*x/(x**4 + 20*x**3 + 150*x**2 + 500*x + 625)"
            ],
            "text/latex": "$\\displaystyle \\frac{75 x}{x^{4} + 20 x^{3} + 150 x^{2} + 500 x + 625}$"
          },
          "metadata": {},
          "execution_count": 19
        }
      ]
    },
    {
      "cell_type": "code",
      "source": [
        "from sympy import Symbol, diff, solveset, Eq\n",
        "\n",
        "x = Symbol('x')\n",
        "y = - (x**2 + 1) / x\n",
        "diff(y)\n",
        "# solveset(Eq(diff(y), 0), x)"
      ],
      "metadata": {
        "colab": {
          "base_uri": "https://localhost:8080/",
          "height": 54
        },
        "id": "UsHroxiXUVCu",
        "outputId": "c400a45a-472b-4caf-b7e3-de454fcf7365"
      },
      "execution_count": null,
      "outputs": [
        {
          "output_type": "execute_result",
          "data": {
            "text/plain": [
              "-2 - (-x**2 - 1)/x**2"
            ],
            "text/latex": "$\\displaystyle -2 - \\frac{- x^{2} - 1}{x^{2}}$"
          },
          "metadata": {},
          "execution_count": 23
        }
      ]
    },
    {
      "cell_type": "markdown",
      "source": [
        "## 1/11  1. Введение. Функции нескольких переменных"
      ],
      "metadata": {
        "id": "wsd6ZaVAbbdH"
      }
    },
    {
      "cell_type": "markdown",
      "source": [
        "### Задание 1.7\n",
        "\n",
        "Пусть у нас есть реальные и предсказанные значения в некоторой прогностической модели:\n",
        "\n",
        "Реальные\t      6 |  7|  6| 4|\t5\t|6\t|8\\\n",
        "Предсказанные\t6.4\t|7.1|5.9|4.2|5.2|6.2\t7.5\n",
        "\\\n",
        "Найдите значение метрики $L_2$-loss:"
      ],
      "metadata": {
        "id": "LEveRQI-cQwL"
      }
    },
    {
      "cell_type": "code",
      "source": [
        "import numpy as np\n",
        "\n",
        "y_true = np.array([6, 7, 6, 4, 5, 6, 8])\n",
        "y_pred = np.array([6.4, 7.1, 5.9, 4.2, 5.2, 6.2, 7.5])\n",
        "\n",
        "Loss = np.sum((y_true - y_pred)**2)\n",
        "Loss"
      ],
      "metadata": {
        "colab": {
          "base_uri": "https://localhost:8080/"
        },
        "id": "BDYMBYxTcH62",
        "outputId": "b99ab88d-6bda-40b5-e38b-3c4a70330b17"
      },
      "execution_count": null,
      "outputs": [
        {
          "output_type": "execute_result",
          "data": {
            "text/plain": [
              "0.5500000000000004"
            ]
          },
          "metadata": {},
          "execution_count": 2
        }
      ]
    },
    {
      "cell_type": "code",
      "source": [
        "1 / (1 + np.e**(-4))\n",
        "1 / (1 + np.e**(-2 * (0.1 + 0.3 + 0.6)))"
      ],
      "metadata": {
        "colab": {
          "base_uri": "https://localhost:8080/"
        },
        "id": "Euh7oCO-eBKN",
        "outputId": "77a2c2d6-aed2-4108-fb3d-e3d21112b506"
      },
      "execution_count": null,
      "outputs": [
        {
          "output_type": "execute_result",
          "data": {
            "text/plain": [
              "0.8807970779778823"
            ]
          },
          "metadata": {},
          "execution_count": 5
        }
      ]
    },
    {
      "cell_type": "markdown",
      "source": [
        "### Задание 3.4\n",
        "\n",
        "Найдите экстремумы функции $z = 4x^2 - 6xy -34x + 5y^2 + 42y + 7$."
      ],
      "metadata": {
        "id": "hnIlboQUE6it"
      }
    },
    {
      "cell_type": "code",
      "source": [
        "from sympy import *\n",
        "\n",
        "x, y = symbols('x, y')\n",
        "z = 4*x**2 - 6*x*y - 34*x + 5*y**2 + 42 * y + 7\n",
        "eq1 = Eq(diff(z, x), 0)\n",
        "eq2 = Eq(diff(z, y), 0)\n",
        "solve([eq1, eq2], [x, y])"
      ],
      "metadata": {
        "colab": {
          "base_uri": "https://localhost:8080/"
        },
        "id": "7GQVYy2BFM9v",
        "outputId": "e3843cea-ea44-496a-dfff-cdfcf812d4ce"
      },
      "execution_count": null,
      "outputs": [
        {
          "output_type": "execute_result",
          "data": {
            "text/plain": [
              "{x: 2, y: -3}"
            ]
          },
          "metadata": {},
          "execution_count": 11
        }
      ]
    },
    {
      "cell_type": "markdown",
      "source": [
        "## 3/11  3. Безусловные экстремумы. Функции нескольких переменных"
      ],
      "metadata": {
        "id": "9NdvCj4d9rUv"
      }
    },
    {
      "cell_type": "markdown",
      "source": [
        "### Задание 3.5\n",
        "\n",
        "Вычислите матрицу Гессе для функции $f(x,y) = x^3 - 2xy - y^6$ в точке $(1;2)$ и найдите её определитель."
      ],
      "metadata": {
        "id": "KT6gv5cG-NqH"
      }
    },
    {
      "cell_type": "code",
      "source": [
        "# from sympy import Function, hessian, pprint\n",
        "# from sympy.abc import x, y\n",
        "from sympy import *\n",
        "\n",
        "# f = Function('f')(x, y)\n",
        "f = x**3 - 2*x*y - y**6\n",
        "\n",
        "h = hessian(f, (x, y))\n",
        "h_d = hessian(f, (x, y)).det()\n",
        "h_d.subs({x:1, y:2})"
      ],
      "metadata": {
        "colab": {
          "base_uri": "https://localhost:8080/",
          "height": 37
        },
        "id": "UJ7nj70S9nc5",
        "outputId": "bd71642a-5984-41b2-b601-680c4624222e"
      },
      "execution_count": null,
      "outputs": [
        {
          "output_type": "execute_result",
          "data": {
            "text/plain": [
              "-2884"
            ],
            "text/latex": "$\\displaystyle -2884$"
          },
          "metadata": {},
          "execution_count": 14
        }
      ]
    },
    {
      "cell_type": "markdown",
      "source": [
        "## 4/11  4. Введение в оптимизацию"
      ],
      "metadata": {
        "id": "RPbb57SgqvTm"
      }
    },
    {
      "cell_type": "markdown",
      "source": [
        "Задание 4.5\n",
        "\n",
        "Оптимизируйте функцию Розенброка с помощью уже известного вам метода наименьших квадратов с использованием той же точки, которая фигурировала в наших решениях до этого.\n",
        "\n",
        "Для реализации этого алгоритма используется функция `least_squares`."
      ],
      "metadata": {
        "id": "kJBEUbiiqw3I"
      }
    },
    {
      "cell_type": "code",
      "source": [
        "from scipy.optimize import least_squares\n",
        "import numpy as np\n",
        "\n",
        "def func_rosen(x):\n",
        "    r = np.sum(100*(x[1:]-x[:-1]**2)**2 + (1-x[:-1])**2, axis=0)\n",
        "    return r\n",
        "\n",
        "x_start = np.array([2.4, 1.5, 2.1, 0.7, 1.1])\n",
        "\n",
        "np.round(least_squares(func_rosen, x_start)['x'], 3)"
      ],
      "metadata": {
        "colab": {
          "base_uri": "https://localhost:8080/"
        },
        "id": "I-g_RgjSq9__",
        "outputId": "da577d72-9c68-4eda-98d0-4374fd114003"
      },
      "execution_count": null,
      "outputs": [
        {
          "output_type": "execute_result",
          "data": {
            "text/plain": [
              "array([0.939, 0.882, 0.776, 0.603, 0.361])"
            ]
          },
          "metadata": {},
          "execution_count": 8
        }
      ]
    },
    {
      "cell_type": "markdown",
      "source": [
        "## 5/11  5. Условные экстремумы. Метод Лагранжа"
      ],
      "metadata": {
        "id": "PvrgYY5UcSi1"
      }
    },
    {
      "cell_type": "markdown",
      "source": [
        "### Задание 5.3\n",
        "\n",
        "Представьте, что вы решаете задачу классификации методом опорных векторов и хотите оценить расстояние от объекта до разделяющей прямой с помощью метода Лагранжа. Если объект имеет координаты $(2;1)$, а прямая задана уравнением $x +  y = 1$, то каким будет квадрат расстояния от этого объекта до прямой?"
      ],
      "metadata": {
        "id": "EVBhdNOOcU0d"
      }
    },
    {
      "cell_type": "code",
      "source": [
        "from sympy import *\n",
        "\n",
        "x, y, k = symbols('x y k')\n",
        "\n",
        "# целевая функция\n",
        "rho2 = (x - 2)**2 + (y - 1)**2\n",
        "# функция Лагранжа\n",
        "L = rho2 - k * (x + y - 1)\n",
        "# стационарные точки\n",
        "sols = solve([L.diff(x), L.diff(y), L.diff(k)], x, y, k)\n",
        "x_0, y_0 = sols[x], sols[y]\n",
        "print(f'M(x,y): ({x_0}, {y_0})')\n",
        "print(f'Квадрат расстояния: {rho2.subs({x:x_0, y:y_0})}')"
      ],
      "metadata": {
        "colab": {
          "base_uri": "https://localhost:8080/"
        },
        "id": "ST4YdPT-cwkY",
        "outputId": "2cfda839-e855-4c39-8f77-d20433cdf7d6"
      },
      "execution_count": null,
      "outputs": [
        {
          "output_type": "stream",
          "name": "stdout",
          "text": [
            "M(x,y): (1, 0)\n",
            "Квадрат расстояния: 2\n"
          ]
        }
      ]
    },
    {
      "cell_type": "markdown",
      "source": [
        "### Задание 5.4\n",
        "\n",
        "Прямоугольный параллелепипед имеет объём $1$ м$^3$. Чему равна минимальная площадь его поверхности?"
      ],
      "metadata": {
        "id": "MtK1DZ9AL6Jb"
      }
    },
    {
      "cell_type": "code",
      "source": [
        "from sympy import *\n",
        "\n",
        "x, y, z, k = symbols('x y z k')\n",
        "\n",
        "# целевая функция\n",
        "S = 2 * (x*y + y*z + x*z)\n",
        "# функция Лагранжа\n",
        "L = S + k * (x * y * z - 1)\n",
        "# стационарные точки\n",
        "sols = solve([L.diff(x), L.diff(y), L.diff(z), L.diff(k)], x, y, z, k)\n",
        "\n",
        "x_0, y_0, z_0 = sols[0][0], sols[0][1], sols[0][2]\n",
        "print(f'M(x,y): ({x_0}, {y_0}, {z_0})')\n",
        "\n",
        "print(f'Минималmная площадь поверхности: {S.subs({x:x_0, y:y_0, z:z_0})}')"
      ],
      "metadata": {
        "colab": {
          "base_uri": "https://localhost:8080/"
        },
        "id": "OJefrB7lMMCu",
        "outputId": "5eb0b896-d5c8-43e1-a442-cef327e50dac"
      },
      "execution_count": null,
      "outputs": [
        {
          "output_type": "stream",
          "name": "stdout",
          "text": [
            "M(x,y): (1, 1, 1)\n",
            "Минималная площадь поверхности: 6\n"
          ]
        }
      ]
    },
    {
      "cell_type": "markdown",
      "source": [
        "## 6/11  6. Градиент и антиградиент"
      ],
      "metadata": {
        "id": "e0mbYSbghnYu"
      }
    },
    {
      "cell_type": "markdown",
      "source": [
        "### Задание 6.6\n",
        "\n",
        "$L^2$-loss функция имеет вид $L = (2.1 - w_0 - w_1)^2 +(2.9 - w_0 - 3w_1)^2 +(4.1 - w_0 - 5w_1)^2$.\n",
        "\n",
        "1. Сколько решений имеет СЛАУ $\\overrightarrow{grad} L = \\overrightarrow{0}$?"
      ],
      "metadata": {
        "id": "TtkX69YiWH-V"
      }
    },
    {
      "cell_type": "code",
      "source": [
        "from sympy import *\n",
        "import numpy as np\n",
        "\n",
        "w_0, w_1 = symbols('w0, w1')\n",
        "L = (2.1 - w_0 - w_1)**2 +(2.9 - w_0 - 3*w_1)**2 +(4.1 - w_0 - 5*w_1)**2\n",
        "\n",
        "sols = solve([L.diff(w_0), L.diff(w_1)], w_0, w_1)\n",
        "print (f'Градиент равен 0 в точке {sols[w_0], sols[w_1]}')\n"
      ],
      "metadata": {
        "colab": {
          "base_uri": "https://localhost:8080/"
        },
        "id": "9Z6jUVouWHV5",
        "outputId": "8051960e-c420-4d89-f1a4-0a17c3c6a14b"
      },
      "execution_count": null,
      "outputs": [
        {
          "output_type": "stream",
          "name": "stdout",
          "text": [
            "Градиент равен 0 в точке (1.53333333333333, 0.500000000000000)\n"
          ]
        }
      ]
    },
    {
      "cell_type": "markdown",
      "source": [
        "2. Вычислите точку, в которой $\\overrightarrow{grad} L = \\overrightarrow{0}$. Ответ **округлите до двух знаков после точки-разделителя**."
      ],
      "metadata": {
        "id": "BOMf1TvYWv3v"
      }
    },
    {
      "cell_type": "markdown",
      "source": [
        "### Задание 6.7\n",
        "Пусть дан одномерный массив `f = np.array([8, 2, 8, 3, 5, 6, 5, 15])`\n",
        "\n",
        "Вычислите градиент массива $f$, увеличив шаг сетки в 7 раз, и укажите значение 7-го элемента массива $f$ получившихся градиентов."
      ],
      "metadata": {
        "id": "TKWM2QVRhKWN"
      }
    },
    {
      "cell_type": "markdown",
      "source": [
        "## 7/11  7. Градиент и градиентный спуск"
      ],
      "metadata": {
        "id": "hrO8Ye1_hfPm"
      }
    },
    {
      "cell_type": "markdown",
      "source": [
        "### Задание 7.7\n",
        "\n",
        "Найдите следующую точку градиентного спуска для функции $f(x, y, z)=2x^2-4xz+4y^2-8yz+9z^2+4x+8y-20z$, если текущая точка — $(0,0,0)$, $\\alpha =0.25$. Введите координаты получившейся точки."
      ],
      "metadata": {
        "id": "-wf0Ev6j8Dz8"
      }
    },
    {
      "cell_type": "code",
      "source": [
        "import numpy as np\n",
        "\n",
        "def f(x):\n",
        "    return 2*x[0]**2 - 4*x[0]*x[2] + 4*x[1]**2 -\\\n",
        "     8*x[1]*x[2] + 9*x[2]**2 + 4*x[0] +8*x[1]-20*x[2]\n",
        "\n",
        "def grad_f(x):\n",
        "    gx = 4 * x[0] - 4 * x[2] + 4\n",
        "    gy = 8 * x[1] - 8 * x[2] + 8\n",
        "    gz = -4 * x[0] - 8 * x[1] + 18 * x[2] - 20\n",
        "    return np.array([gx, gy, gz])\n",
        "\n",
        "x_0 = (0, 0, 0)\n",
        "alpha = 0.25\n",
        "\n",
        "x_1 = x_0 - alpha * grad_f(x_0)\n",
        "print('Следующая точка: (', *x_1, ')')\n",
        "# from sympy import *\n",
        "# x, y, z = symbols('x y z')\n",
        "# f = 2*x**2 - 4*x*z + 4*y**2 - 8*y*z + 9*z**2 + 4*x +8*y-20*z\n",
        "# f.diff(z)\n"
      ],
      "metadata": {
        "colab": {
          "base_uri": "https://localhost:8080/"
        },
        "id": "OcjmdPAVhpjQ",
        "outputId": "462e0f1b-8080-4249-ea77-462a9eabff99"
      },
      "execution_count": null,
      "outputs": [
        {
          "output_type": "stream",
          "name": "stdout",
          "text": [
            "Следующая точка: ( -1.0 -2.0 5.0 )\n"
          ]
        }
      ]
    },
    {
      "cell_type": "markdown",
      "source": [
        "## 8/11  8. Практика: градиентный спуск"
      ],
      "metadata": {
        "id": "aldcLbYjC_oh"
      }
    },
    {
      "cell_type": "markdown",
      "source": [
        "## Задание 8.1\n",
        "$2x^2 - 4xy + y^4 + 2$\n",
        "Найдите минимум функции  с помощью градиентного спуска.\n",
        "\\\n",
        "\\\n",
        "Ответ **округлите до целого числа**."
      ],
      "metadata": {
        "id": "gwGu8y81DBnQ"
      }
    },
    {
      "cell_type": "code",
      "source": [
        "def f(x):\n",
        "    return 2 * x[0] ** 2 - 4 * x[0] * x[1] + x[1] ** 4 + 2\n",
        "\n",
        "def grad(x):\n",
        "    import numpy as np\n",
        "\n",
        "    dx = 4 * x[0] - 4 * x[1]\n",
        "    dy = -4 * x[0] + 4 * x[1] ** 3\n",
        "    return np.array((dx, dy))\n",
        "\n",
        "def grad_descent(x0, gamma = 1e-3, grad_func=None,\n",
        "                 n_iter=1000, tol=1e-6):\n",
        "\n",
        "    import numpy as np\n",
        "\n",
        "    def dist2 (x1, x2):\n",
        "        x1_, x2_ = np.array(x1), np.array(x2)\n",
        "        return (x2_ - x1_) @ (x2_ - x1_)\n",
        "\n",
        "    x_cur = x0\n",
        "    tol_ = tol**2\n",
        "    vals = []\n",
        "    coords = []\n",
        "    i = 0\n",
        "    while True:\n",
        "        x_new = x_cur - gamma * grad_func(x_cur)\n",
        "\n",
        "        if dist2(x_new, x_cur) < tol_:\n",
        "            break\n",
        "        if i > n_iter:\n",
        "            print('Max iterations reached!')\n",
        "            break\n",
        "\n",
        "        x_cur = x_new\n",
        "        # vals.append(f(*x_cur))\n",
        "        coords.append(x_cur)\n",
        "        i += 1\n",
        "\n",
        "    print(f\"n_iter={i}; x=({x_cur[0]:.10f}, {x_cur[1]:.10f});\" +\n",
        "        #   f\" f(x)={f(*x_cur):.5f}; \" +\n",
        "          f\" grad f(x)=({grad_func(x_cur)[0]:.5f}, {grad_func(x_cur)[1]:.5f})\")\n",
        "    return {'min_found': x_cur, 'grad': grad_func(x_cur),\n",
        "            'n_iter': i, 'coords': coords}\n",
        "\n",
        "# ==================================================================\n",
        "x0 = (5, 5)\n",
        "gamma = 1e-3\n",
        "\n",
        "res = grad_descent(x0=x0, gamma=gamma, grad_func=grad, n_iter=5000)\n",
        "print ('Минимум функции:', round(f(res['min_found'])))"
      ],
      "metadata": {
        "colab": {
          "base_uri": "https://localhost:8080/"
        },
        "id": "cQGsSI92D4Ub",
        "outputId": "4f608a66-b7e9-415f-aa29-721a11042d8d"
      },
      "execution_count": 5,
      "outputs": [
        {
          "output_type": "stream",
          "name": "stdout",
          "text": [
            "n_iter=3706; x=(1.0003935477, 1.0001629773); grad f(x)=(0.00092, 0.00038)\n",
            "Минимум функции: 1\n"
          ]
        }
      ]
    },
    {
      "cell_type": "markdown",
      "source": [
        "### Задание 8.2\n",
        "\n",
        "Найдите минимум функции $x^3 - 2x^2 + y^2 + z^2 - 2xy + xz - yz + 3z$ с помощью градиентного спуска.\n",
        "\n",
        "Ответ **округлите до целого числа**."
      ],
      "metadata": {
        "id": "FjZPKSqOLuvq"
      }
    },
    {
      "cell_type": "code",
      "source": [
        "def f2(x):\n",
        "    return x[0]**3 - 2 * x[0]**2 + x[1]**2 + x[2]**2 -\\\n",
        "     2 * x[0] * x[1] + x[0] * x[2] - x[1] * x[2] + 3 * x[2]\n",
        "\n",
        "def grad2(x):\n",
        "    import numpy as np\n",
        "\n",
        "    dx = 3*x[0]**2 - 4*x[0] - 2*x[1] + x[2]\n",
        "    dy = -2*x[0] + 2*x[1] - x[2]\n",
        "    dz = x[0] - x[1] + 2*x[2] + 3\n",
        "    return np.array((dx, dy, dz))\n",
        "\n",
        "x0 = (5, 5, 5)\n",
        "gamma = 1e-3\n",
        "\n",
        "res2 = grad_descent(x0=x0, gamma=gamma, grad_func=grad2, n_iter=5000)\n",
        "print ('Минимум функции:', round(f2(res2['min_found'])))\n"
      ],
      "metadata": {
        "colab": {
          "base_uri": "https://localhost:8080/"
        },
        "id": "NtUImrewL6gI",
        "outputId": "6cd62e8f-d215-4241-c74a-7b72c352cfdd"
      },
      "execution_count": 6,
      "outputs": [
        {
          "output_type": "stream",
          "name": "stdout",
          "text": [
            "Max iterations reached!\n",
            "n_iter=5001; x=(2.0113415110, 1.0649417161); grad f(x)=(0.01010, 0.05834)\n",
            "Минимум функции: -7\n"
          ]
        }
      ]
    },
    {
      "cell_type": "code",
      "source": [
        "# from sympy import *\n",
        "\n",
        "# x = symbols('x[0], x[1], x[2]')\n",
        "\n",
        "# fun = x[0]**3 - 2 * x[0]**2 + x[1]**2 + x[2]**2 -\\\n",
        "#      2 * x[0] * x[1] + x[0] * x[2] - x[1] * x[2] + 3 * x[2]\n",
        "\n",
        "# [fun.diff(u) for u in x]"
      ],
      "metadata": {
        "id": "NlcyxBC4e_g3"
      },
      "execution_count": null,
      "outputs": []
    },
    {
      "cell_type": "code",
      "source": [],
      "metadata": {
        "colab": {
          "base_uri": "https://localhost:8080/"
        },
        "id": "ni-1BuJUFTq9",
        "outputId": "7c4366e4-62d6-4cfa-9821-e762c810441a"
      },
      "execution_count": null,
      "outputs": [
        {
          "output_type": "stream",
          "name": "stdout",
          "text": [
            "n_iter=3706; x=(1.0003935477, 1.0001629773); grad f(x)=(0.00092, 0.00038)\n",
            "Минимум функции: 1\n"
          ]
        }
      ]
    },
    {
      "cell_type": "markdown",
      "source": [
        "Задание 8.3\n",
        "\n",
        "Попробуем применить градиентный спуск для решения реальной задачи линейной регрессии. Наша цель будет состоять в том, чтобы построить простую модель линейной регрессии для прогнозирования продаж некоторого продукта на основе количества денег, потраченных на рекламу.\n",
        "\n",
        "Постройте модель, аналогичную той, что была разобрана в видео выше, но с тремя предикторами.\n",
        "\n",
        "Все веса изначально возьмите равными $0$, скорость обучения задайте как $0.00005$ и обучите модель на $500000$ итераций.\n",
        "\n",
        "В качестве ответов введите полученные веса для трех предикторов `TV`,  `Radio`, `Newspaper`. Ответы **округлите до третьего знака после точки-разделителя**."
      ],
      "metadata": {
        "id": "d_QwPJiBSDkM"
      }
    },
    {
      "cell_type": "code",
      "source": [
        "import numpy as np\n",
        "import pandas as pd\n",
        "\n",
        "path = '/content/Advertising.csv'\n",
        "data = pd.read_csv(path)\n",
        "data.sample(5)"
      ],
      "metadata": {
        "id": "sG5c3WA5au2u",
        "outputId": "b3244b40-7ac6-48c0-f857-1b5831462f24",
        "colab": {
          "base_uri": "https://localhost:8080/",
          "height": 206
        }
      },
      "execution_count": 2,
      "outputs": [
        {
          "output_type": "execute_result",
          "data": {
            "text/plain": [
              "     Unnamed: 0     TV  radio  newspaper  sales\n",
              "199         200  232.1    8.6        8.7   13.4\n",
              "48           49  227.2   15.8       49.9   14.8\n",
              "153         154  171.3   39.7       37.7   19.0\n",
              "111         112  241.7   38.0       23.2   21.8\n",
              "123         124  123.1   34.6       12.4   15.2"
            ],
            "text/html": [
              "\n",
              "  <div id=\"df-9beb91d4-c2a9-496c-a801-7f2120525931\">\n",
              "    <div class=\"colab-df-container\">\n",
              "      <div>\n",
              "<style scoped>\n",
              "    .dataframe tbody tr th:only-of-type {\n",
              "        vertical-align: middle;\n",
              "    }\n",
              "\n",
              "    .dataframe tbody tr th {\n",
              "        vertical-align: top;\n",
              "    }\n",
              "\n",
              "    .dataframe thead th {\n",
              "        text-align: right;\n",
              "    }\n",
              "</style>\n",
              "<table border=\"1\" class=\"dataframe\">\n",
              "  <thead>\n",
              "    <tr style=\"text-align: right;\">\n",
              "      <th></th>\n",
              "      <th>Unnamed: 0</th>\n",
              "      <th>TV</th>\n",
              "      <th>radio</th>\n",
              "      <th>newspaper</th>\n",
              "      <th>sales</th>\n",
              "    </tr>\n",
              "  </thead>\n",
              "  <tbody>\n",
              "    <tr>\n",
              "      <th>199</th>\n",
              "      <td>200</td>\n",
              "      <td>232.1</td>\n",
              "      <td>8.6</td>\n",
              "      <td>8.7</td>\n",
              "      <td>13.4</td>\n",
              "    </tr>\n",
              "    <tr>\n",
              "      <th>48</th>\n",
              "      <td>49</td>\n",
              "      <td>227.2</td>\n",
              "      <td>15.8</td>\n",
              "      <td>49.9</td>\n",
              "      <td>14.8</td>\n",
              "    </tr>\n",
              "    <tr>\n",
              "      <th>153</th>\n",
              "      <td>154</td>\n",
              "      <td>171.3</td>\n",
              "      <td>39.7</td>\n",
              "      <td>37.7</td>\n",
              "      <td>19.0</td>\n",
              "    </tr>\n",
              "    <tr>\n",
              "      <th>111</th>\n",
              "      <td>112</td>\n",
              "      <td>241.7</td>\n",
              "      <td>38.0</td>\n",
              "      <td>23.2</td>\n",
              "      <td>21.8</td>\n",
              "    </tr>\n",
              "    <tr>\n",
              "      <th>123</th>\n",
              "      <td>124</td>\n",
              "      <td>123.1</td>\n",
              "      <td>34.6</td>\n",
              "      <td>12.4</td>\n",
              "      <td>15.2</td>\n",
              "    </tr>\n",
              "  </tbody>\n",
              "</table>\n",
              "</div>\n",
              "      <button class=\"colab-df-convert\" onclick=\"convertToInteractive('df-9beb91d4-c2a9-496c-a801-7f2120525931')\"\n",
              "              title=\"Convert this dataframe to an interactive table.\"\n",
              "              style=\"display:none;\">\n",
              "        \n",
              "  <svg xmlns=\"http://www.w3.org/2000/svg\" height=\"24px\"viewBox=\"0 0 24 24\"\n",
              "       width=\"24px\">\n",
              "    <path d=\"M0 0h24v24H0V0z\" fill=\"none\"/>\n",
              "    <path d=\"M18.56 5.44l.94 2.06.94-2.06 2.06-.94-2.06-.94-.94-2.06-.94 2.06-2.06.94zm-11 1L8.5 8.5l.94-2.06 2.06-.94-2.06-.94L8.5 2.5l-.94 2.06-2.06.94zm10 10l.94 2.06.94-2.06 2.06-.94-2.06-.94-.94-2.06-.94 2.06-2.06.94z\"/><path d=\"M17.41 7.96l-1.37-1.37c-.4-.4-.92-.59-1.43-.59-.52 0-1.04.2-1.43.59L10.3 9.45l-7.72 7.72c-.78.78-.78 2.05 0 2.83L4 21.41c.39.39.9.59 1.41.59.51 0 1.02-.2 1.41-.59l7.78-7.78 2.81-2.81c.8-.78.8-2.07 0-2.86zM5.41 20L4 18.59l7.72-7.72 1.47 1.35L5.41 20z\"/>\n",
              "  </svg>\n",
              "      </button>\n",
              "      \n",
              "  <style>\n",
              "    .colab-df-container {\n",
              "      display:flex;\n",
              "      flex-wrap:wrap;\n",
              "      gap: 12px;\n",
              "    }\n",
              "\n",
              "    .colab-df-convert {\n",
              "      background-color: #E8F0FE;\n",
              "      border: none;\n",
              "      border-radius: 50%;\n",
              "      cursor: pointer;\n",
              "      display: none;\n",
              "      fill: #1967D2;\n",
              "      height: 32px;\n",
              "      padding: 0 0 0 0;\n",
              "      width: 32px;\n",
              "    }\n",
              "\n",
              "    .colab-df-convert:hover {\n",
              "      background-color: #E2EBFA;\n",
              "      box-shadow: 0px 1px 2px rgba(60, 64, 67, 0.3), 0px 1px 3px 1px rgba(60, 64, 67, 0.15);\n",
              "      fill: #174EA6;\n",
              "    }\n",
              "\n",
              "    [theme=dark] .colab-df-convert {\n",
              "      background-color: #3B4455;\n",
              "      fill: #D2E3FC;\n",
              "    }\n",
              "\n",
              "    [theme=dark] .colab-df-convert:hover {\n",
              "      background-color: #434B5C;\n",
              "      box-shadow: 0px 1px 3px 1px rgba(0, 0, 0, 0.15);\n",
              "      filter: drop-shadow(0px 1px 2px rgba(0, 0, 0, 0.3));\n",
              "      fill: #FFFFFF;\n",
              "    }\n",
              "  </style>\n",
              "\n",
              "      <script>\n",
              "        const buttonEl =\n",
              "          document.querySelector('#df-9beb91d4-c2a9-496c-a801-7f2120525931 button.colab-df-convert');\n",
              "        buttonEl.style.display =\n",
              "          google.colab.kernel.accessAllowed ? 'block' : 'none';\n",
              "\n",
              "        async function convertToInteractive(key) {\n",
              "          const element = document.querySelector('#df-9beb91d4-c2a9-496c-a801-7f2120525931');\n",
              "          const dataTable =\n",
              "            await google.colab.kernel.invokeFunction('convertToInteractive',\n",
              "                                                     [key], {});\n",
              "          if (!dataTable) return;\n",
              "\n",
              "          const docLinkHtml = 'Like what you see? Visit the ' +\n",
              "            '<a target=\"_blank\" href=https://colab.research.google.com/notebooks/data_table.ipynb>data table notebook</a>'\n",
              "            + ' to learn more about interactive tables.';\n",
              "          element.innerHTML = '';\n",
              "          dataTable['output_type'] = 'display_data';\n",
              "          await google.colab.output.renderOutput(dataTable, element);\n",
              "          const docLink = document.createElement('div');\n",
              "          docLink.innerHTML = docLinkHtml;\n",
              "          element.appendChild(docLink);\n",
              "        }\n",
              "      </script>\n",
              "    </div>\n",
              "  </div>\n",
              "  "
            ]
          },
          "metadata": {},
          "execution_count": 2
        }
      ]
    },
    {
      "cell_type": "code",
      "source": [
        "def grad_descent(x0, gamma = 1e-3, func=None, grad_func=None,\n",
        "                 n_iter=1000, tol=1e-6):\n",
        "\n",
        "    import numpy as np\n",
        "\n",
        "    def dist_squared (x1, x2):\n",
        "        x1_, x2_ = np.array(x1), np.array(x2)\n",
        "        return ((x2_ - x1_) @ (x2_ - x1_))\n",
        "\n",
        "    x_cur = x0\n",
        "    tol_squared = tol**2\n",
        "    vals = []\n",
        "    coords = []\n",
        "    i = 0\n",
        "    while True:\n",
        "        x_new = x_cur - gamma * grad_func(x_cur)\n",
        "\n",
        "        if dist_squared(x_new, x_cur) < tol_squared:\n",
        "            break\n",
        "        if i > n_iter:\n",
        "            print('Max iterations reached!')\n",
        "            break\n",
        "\n",
        "        x_cur = x_new\n",
        "        if func: vals.append(func(x_cur))\n",
        "        coords.append(x_cur)\n",
        "        i += 1\n",
        "\n",
        "    print(f\"n_iter={i}; x=({x_cur[0]:.10f}, {x_cur[1]:.10f});\" +\n",
        "        #   f\" f(x)={f(*x_cur):.5f}; \" +\n",
        "          f\" grad f(x)=({grad_func(x_cur)[0]:.5f}, {grad_func(x_cur)[1]:.5f})\")\n",
        "\n",
        "    return {'min_found': x_cur, 'grad': grad_func(x_cur),\n",
        "            'n_iter': i, 'trajectory': coords, 'func_values': vals}\n",
        "\n",
        "def sq_loss(y_true, X, w):\n",
        "\n",
        "    X_ = np.hstack([np.ones(X.shape[0]), X])\n",
        "    return np.sum((y_true - np.sum(X_ @ w, axis=1))**2)\n",
        "\n",
        "def sq_loss_grad(y_true, X, w):\n",
        "\n",
        "    X_ = np.hstack([np.ones((X.shape[0], 1)), X])\n",
        "    N = X_.shape[0]\n",
        "\n",
        "    return np.sum(-2 * X_ * (y_true - (X_ @ w)).reshape((N, 1)), axis=0)\n",
        "\n",
        "y = data['sales'].values\n",
        "\n",
        "features = ['TV', 'radio', 'newspaper']\n",
        "X = data[features].values\n",
        "\n",
        "# стандартизируем признаки\n",
        "y_st = (y - np.mean(y)) / np.std(y)\n",
        "X_st = (X - np.mean(X, axis=0)) / np.std(X, axis=0)\n",
        "\n",
        "# осуществляем градиентный спуск\n",
        "w0 = (0, 0, 0, 0)\n",
        "n_iter = 500000\n",
        "gamma = 0.00005\n",
        "\n",
        "def sq_loss_grad_(w):\n",
        "    return sq_loss_grad(y_true=y_st, X=X_st, w=w)\n",
        "\n",
        "result = grad_descent(x0=w0, gamma=gamma, grad_func=sq_loss_grad_,\n",
        "                 n_iter=n_iter, tol=1e-6)\n",
        "weights = result['min_found']\n",
        "print(*np.round(weights[1:], 3))"
      ],
      "metadata": {
        "id": "AT_MEe41cFnb",
        "outputId": "15f47b83-2e3c-48d5-8b8e-8eac3baf6897",
        "colab": {
          "base_uri": "https://localhost:8080/"
        }
      },
      "execution_count": 9,
      "outputs": [
        {
          "output_type": "stream",
          "name": "stdout",
          "text": [
            "n_iter=655; x=(-0.0000000000, 0.7530641807); grad f(x)=(0.00000, -0.00064)\n",
            "0.753 0.536 -0.004\n"
          ]
        }
      ]
    },
    {
      "cell_type": "code",
      "source": [
        "y_pred = np.hstack([np.ones((X_st.shape[0], 1)), X_st]) @ weights\n",
        "np.mean(np.abs(y_st - y_pred) / y_st) *100"
      ],
      "metadata": {
        "id": "u31bg5OnhGxg",
        "outputId": "ffa82c77-51a4-47fe-d218-d6294a39e4ef",
        "colab": {
          "base_uri": "https://localhost:8080/"
        }
      },
      "execution_count": 8,
      "outputs": [
        {
          "output_type": "execute_result",
          "data": {
            "text/plain": [
              "-32.7763824199326"
            ]
          },
          "metadata": {},
          "execution_count": 8
        }
      ]
    },
    {
      "cell_type": "code",
      "source": [
        "def MAPE(y_true, y_pred):\n",
        "    return np.mean(np.abs((y_true - y_pred) / y_true)) *100\n",
        "\n",
        "def logreg_predict(X, weights):\n",
        "    return np.hstack([np.ones((X_st.shape[0], 1)), X_st]) @ weights\n",
        "\n",
        "[MAPE(y_st, logreg_predict(X, weights)) for weights in result['trajectory']]"
      ],
      "metadata": {
        "id": "wtN6x0ietv-4",
        "outputId": "c5ecf4dc-1012-4f0a-ee22-3adc3c184c6a",
        "colab": {
          "base_uri": "https://localhost:8080/"
        }
      },
      "execution_count": 11,
      "outputs": [
        {
          "output_type": "execute_result",
          "data": {
            "text/plain": [
              "[98.14254842742348,\n",
              " 97.29289728514952,\n",
              " 96.45104686383299,\n",
              " 95.6169944587493,\n",
              " 94.79073449485568,\n",
              " 93.9722586477831,\n",
              " 93.16155596088115,\n",
              " 92.35861295843335,\n",
              " 91.56341375515781,\n",
              " 90.77594016210422,\n",
              " 89.99617178905578,\n",
              " 89.2914821978829,\n",
              " 88.59953009818463,\n",
              " 87.96681570153123,\n",
              " 87.41037821992342,\n",
              " 86.85680328559052,\n",
              " 86.34909075495867,\n",
              " 85.89018998735395,\n",
              " 85.43153587563071,\n",
              " 84.97328521819188,\n",
              " 84.55319795640969,\n",
              " 84.14025154491696,\n",
              " 83.72764021688863,\n",
              " 83.31549620575032,\n",
              " 82.92885362947953,\n",
              " 82.5440961855366,\n",
              " 82.159344619406,\n",
              " 81.77473839077763,\n",
              " 81.39782342717962,\n",
              " 81.06368404681388,\n",
              " 80.74256792792269,\n",
              " 80.43352075828975,\n",
              " 80.14636067000407,\n",
              " 79.85716276450547,\n",
              " 79.56861531314951,\n",
              " 79.29853233662072,\n",
              " 79.02663580525206,\n",
              " 78.75309299243335,\n",
              " 78.48398851948616,\n",
              " 78.22108270613276,\n",
              " 77.95659421079736,\n",
              " 77.69257313264853,\n",
              " 77.43887850969622,\n",
              " 77.1948784870525,\n",
              " 76.97195019741751,\n",
              " 76.77817320540784,\n",
              " 76.60274988463615,\n",
              " 76.43443734334086,\n",
              " 76.27125579646307,\n",
              " 76.10913947646743,\n",
              " 75.94926778918537,\n",
              " 75.79967536778514,\n",
              " 75.65069186237778,\n",
              " 75.52410616231398,\n",
              " 75.40275005401959,\n",
              " 75.28375556385922,\n",
              " 75.17038121159833,\n",
              " 75.06203791499124,\n",
              " 74.97123694476299,\n",
              " 74.89552077755138,\n",
              " 74.83057374776564,\n",
              " 74.78946357331753,\n",
              " 74.74699092133055,\n",
              " 74.70205766934663,\n",
              " 74.65750191182454,\n",
              " 74.61206661125705,\n",
              " 74.56360097238101,\n",
              " 74.53484591276042,\n",
              " 74.51042520936976,\n",
              " 74.48610237205634,\n",
              " 74.470698106387,\n",
              " 74.45773524228822,\n",
              " 74.44039696417896,\n",
              " 74.41885919405686,\n",
              " 74.39329240905391,\n",
              " 74.36631964954766,\n",
              " 74.34236577538462,\n",
              " 74.32252887466095,\n",
              " 74.29920413020548,\n",
              " 74.27494200798303,\n",
              " 74.25117371722024,\n",
              " 74.23471580777459,\n",
              " 74.21685639413744,\n",
              " 74.19719473406596,\n",
              " 74.1790055081876,\n",
              " 74.15778215564765,\n",
              " 74.13348681397319,\n",
              " 74.10624533274216,\n",
              " 74.07936078360991,\n",
              " 74.05024873592578,\n",
              " 74.0194772407669,\n",
              " 73.9870815031147,\n",
              " 73.95271710778982,\n",
              " 73.91958788119527,\n",
              " 73.88409739780339,\n",
              " 73.84875339103337,\n",
              " 73.81464918626165,\n",
              " 73.77835716790088,\n",
              " 73.74018850190879,\n",
              " 73.70482805298334,\n",
              " 73.66813766062374,\n",
              " 73.62951390241028,\n",
              " 73.59088633228015,\n",
              " 73.55087971933716,\n",
              " 73.5091436024744,\n",
              " 73.46575781284967,\n",
              " 73.4207996547503,\n",
              " 73.37434397765563,\n",
              " 73.32646324631963,\n",
              " 73.27722760892621,\n",
              " 73.22817415103529,\n",
              " 73.18231460342987,\n",
              " 73.13519398800159,\n",
              " 73.08687562443089,\n",
              " 73.03879850804971,\n",
              " 72.99079505093486,\n",
              " 72.94183423058554,\n",
              " 72.89183485664753,\n",
              " 72.84085250607453,\n",
              " 72.78962396115736,\n",
              " 72.73855357603271,\n",
              " 72.68662108804054,\n",
              " 72.63387592533056,\n",
              " 72.58036589519863,\n",
              " 72.52613723063034,\n",
              " 72.47123463556775,\n",
              " 72.41688364579186,\n",
              " 72.36259281698156,\n",
              " 72.31044168384541,\n",
              " 72.25836262189578,\n",
              " 72.20571833769338,\n",
              " 72.15254704815365,\n",
              " 72.09888568840864,\n",
              " 72.04476994880228,\n",
              " 71.99023431087016,\n",
              " 71.93531208233165,\n",
              " 71.88003543112086,\n",
              " 71.8244354184823,\n",
              " 71.76854203115663,\n",
              " 71.71243715134376,\n",
              " 71.65795849661554,\n",
              " 71.60326015201017,\n",
              " 71.54836775931885,\n",
              " 71.49330605331983,\n",
              " 71.4380988883089,\n",
              " 71.38276926390031,\n",
              " 71.32733935011727,\n",
              " 71.2727546186552,\n",
              " 71.21888462505186,\n",
              " 71.16494923663262,\n",
              " 71.11096797172524,\n",
              " 71.05695962778128,\n",
              " 71.00294230268963,\n",
              " 70.9489334155024,\n",
              " 70.89503854242805,\n",
              " 70.8456226425016,\n",
              " 70.7964115219249,\n",
              " 70.74721793869611,\n",
              " 70.69805669244747,\n",
              " 70.64920310667561,\n",
              " 70.60051510280726,\n",
              " 70.55188963134815,\n",
              " 70.50421331721137,\n",
              " 70.4568591299124,\n",
              " 70.40958307168616,\n",
              " 70.36239697791032,\n",
              " 70.31531221400891,\n",
              " 70.26833968952582,\n",
              " 70.221489871811,\n",
              " 70.17477279932908,\n",
              " 70.12819809460095,\n",
              " 70.08177497678808,\n",
              " 70.03551227392907,\n",
              " 69.98941843483775,\n",
              " 69.9435015406719,\n",
              " 69.89776931618172,\n",
              " 69.852229140646,\n",
              " 69.80688805850508,\n",
              " 69.76175278969822,\n",
              " 69.71682973971367,\n",
              " 69.67212500935888,\n",
              " 69.6276444042584,\n",
              " 69.58339344408716,\n",
              " 69.53937737154568,\n",
              " 69.49560116108442,\n",
              " 69.45206952738428,\n",
              " 69.40878693359923,\n",
              " 69.3657575993679,\n",
              " 69.32327299800275,\n",
              " 69.28225345732088,\n",
              " 69.24147449393114,\n",
              " 69.20093979272306,\n",
              " 69.16065282715603,\n",
              " 69.12061686604159,\n",
              " 69.08083498013582,\n",
              " 69.04131004854663,\n",
              " 69.00204476496137,\n",
              " 68.96304164369897,\n",
              " 68.92430302559188,\n",
              " 68.88583108370203,\n",
              " 68.84762782887529,\n",
              " 68.80969511513908,\n",
              " 68.77203464494694,\n",
              " 68.73464797427434,\n",
              " 68.6975365175698,\n",
              " 68.66070155256514,\n",
              " 68.62414422494865,\n",
              " 68.5878655529049,\n",
              " 68.55213657038199,\n",
              " 68.51686055865258,\n",
              " 68.48185820182528,\n",
              " 68.4471301776918,\n",
              " 68.41267705508531,\n",
              " 68.37849929773427,\n",
              " 68.34459726800542,\n",
              " 68.31097123053885,\n",
              " 68.27762135577788,\n",
              " 68.24454772339692,\n",
              " 68.21175032562982,\n",
              " 68.17922907050142,\n",
              " 68.14698378496507,\n",
              " 68.11501421794861,\n",
              " 68.08332004331103,\n",
              " 68.05190086271273,\n",
              " 68.02077611722865,\n",
              " 67.99019111162553,\n",
              " 67.95987555314107,\n",
              " 67.9298288427184,\n",
              " 67.90005032110898,\n",
              " 67.87053927129493,\n",
              " 67.84129492083898,\n",
              " 67.81231644416458,\n",
              " 67.78360296476751,\n",
              " 67.75515355736135,\n",
              " 67.72696724995834,\n",
              " 67.69904302588736,\n",
              " 67.67137982575106,\n",
              " 67.64397654932336,\n",
              " 67.61683205738953,\n",
              " 67.58994517352966,\n",
              " 67.5633146858479,\n",
              " 67.53693934864845,\n",
              " 67.51081788405965,\n",
              " 67.48494898360826,\n",
              " 67.45933130974457,\n",
              " 67.4339634973202,\n",
              " 67.40884415501945,\n",
              " 67.3839718667461,\n",
              " 67.35934519296626,\n",
              " 67.33496267200883,\n",
              " 67.3108228213248,\n",
              " 67.28692413870635,\n",
              " 67.26326510346681,\n",
              " 67.23984417758291,\n",
              " 67.21665980680007,\n",
              " 67.19371042170181,\n",
              " 67.17099443874443,\n",
              " 67.14851026125771,\n",
              " 67.12625628041283,\n",
              " 67.10423087615824,\n",
              " 67.08243241812438,\n",
              " 67.06085926649838,\n",
              " 67.03972497821663,\n",
              " 67.01882493126186,\n",
              " 66.99814175448661,\n",
              " 66.97767383347278,\n",
              " 66.95741954740346,\n",
              " 66.93737726978875,\n",
              " 66.9175453691665,\n",
              " 66.89792220977897,\n",
              " 66.87850615222581,\n",
              " 66.85929555409423,\n",
              " 66.84028877056684,\n",
              " 66.82148415500794,\n",
              " 66.80288005952892,\n",
              " 66.7844748355331,\n",
              " 66.766266834241,\n",
              " 66.74825440719609,\n",
              " 66.73043590675218,\n",
              " 66.7128096865426,\n",
              " 66.69537410193159,\n",
              " 66.67812751044893,\n",
              " 66.66106827220767,\n",
              " 66.64419475030601,\n",
              " 66.62750531121335,\n",
              " 66.61099832514128,\n",
              " 66.59467216639996,\n",
              " 66.57852521373978,\n",
              " 66.56255585067976,\n",
              " 66.54676246582194,\n",
              " 66.53114345315305,\n",
              " 66.51569721233344,\n",
              " 66.50042214897361,\n",
              " 66.48531667489895,\n",
              " 66.47037920840285,\n",
              " 66.45560817448862,\n",
              " 66.44100200510051,\n",
              " 66.4265591393443,\n",
              " 66.41227802369743,\n",
              " 66.39815711220943,\n",
              " 66.38419486669268,\n",
              " 66.37038975690385,\n",
              " 66.35674026071625,\n",
              " 66.34324486428358,\n",
              " 66.32990206219503,\n",
              " 66.3167103576224,\n",
              " 66.30366826245893,\n",
              " 66.29077429745081,\n",
              " 66.27802699232095,\n",
              " 66.26542488588552,\n",
              " 66.25296652616385,\n",
              " 66.24065047048106,\n",
              " 66.22847528556447,\n",
              " 66.21643954763356,\n",
              " 66.20454184248382,\n",
              " 66.19278076556462,\n",
              " 66.18115492205138,\n",
              " 66.16966292691214,\n",
              " 66.15830340496885,\n",
              " 66.14707499095323,\n",
              " 66.13597632955805,\n",
              " 66.12500607548299,\n",
              " 66.11416289347629,\n",
              " 66.10344545837168,\n",
              " 66.0928524551208,\n",
              " 66.08238257882175,\n",
              " 66.0720345347431,\n",
              " 66.06180703834437,\n",
              " 66.05169881529254,\n",
              " 66.04170860147485,\n",
              " 66.03183514300808,\n",
              " 66.02207719624457,\n",
              " 66.01243352777468,\n",
              " 66.00290291442644,\n",
              " 65.99348414326178,\n",
              " 65.98417601157,\n",
              " 65.97497732685855,\n",
              " 65.9658869068407,\n",
              " 65.95690357942105,\n",
              " 65.94802618267815,\n",
              " 65.93925356484485,\n",
              " 65.93058458428636,\n",
              " 65.92201810947597,\n",
              " 65.91355301896873,\n",
              " 65.90518820137291,\n",
              " 65.8969225553196,\n",
              " 65.88875498943048,\n",
              " 65.88068442228361,\n",
              " 65.87270978237744,\n",
              " 65.86483000809348,\n",
              " 65.85704404765694,\n",
              " 65.84935085909615,\n",
              " 65.8417494102004,\n",
              " 65.83423867847645,\n",
              " 65.82681765110355,\n",
              " 65.81948532488741,\n",
              " 65.81224070621286,\n",
              " 65.80508281099526,\n",
              " 65.79801066463105,\n",
              " 65.79102330194704,\n",
              " 65.78411976714875,\n",
              " 65.77729911376802,\n",
              " 65.7705604046094,\n",
              " 65.76390271169603,\n",
              " 65.7573251162145,\n",
              " 65.75082670845899,\n",
              " 65.7444065877749,\n",
              " 65.73806386250158,\n",
              " 65.73179764991451,\n",
              " 65.7256070761671,\n",
              " 65.71949127623157,\n",
              " 65.71344939383964,\n",
              " 65.70748058142273,\n",
              " 65.70158400005148,\n",
              " 65.69575881937516,\n",
              " 65.69000421756056,\n",
              " 65.68431938123055,\n",
              " 65.67870350540237,\n",
              " 65.67315579342572,\n",
              " 65.66767545692039,\n",
              " 65.66226171571387,\n",
              " 65.65696833061463,\n",
              " 65.65188450262778,\n",
              " 65.64686249658847,\n",
              " 65.64190159464478,\n",
              " 65.63700108649164,\n",
              " 65.632160269311,\n",
              " 65.6273784477122,\n",
              " 65.62265493367183,\n",
              " 65.61798904647405,\n",
              " 65.61338011265047,\n",
              " 65.60882746592046,\n",
              " 65.60433044713095,\n",
              " 65.59988840419678,\n",
              " 65.59550069204086,\n",
              " 65.59116667253433,\n",
              " 65.58688571443699,\n",
              " 65.58265719333774,\n",
              " 65.57848049159506,\n",
              " 65.5743549982778,\n",
              " 65.57028010910591,\n",
              " 65.5662552263915,\n",
              " 65.56227975897998,\n",
              " 65.55835312219125,\n",
              " 65.5544747377614,\n",
              " 65.55064403378427,\n",
              " 65.54686044465342,\n",
              " 65.5431234110043,\n",
              " 65.53943237965652,\n",
              " 65.5357868035565,\n",
              " 65.53218614172035,\n",
              " 65.52862985917682,\n",
              " 65.52511742691087,\n",
              " 65.52164832180708,\n",
              " 65.51822202659363,\n",
              " 65.51483802978657,\n",
              " 65.51149582563413,\n",
              " 65.50819491406155,\n",
              " 65.50493480061616,\n",
              " 65.50171499641277,\n",
              " 65.49853501807918,\n",
              " 65.49539438770236,\n",
              " 65.49229263277475,\n",
              " 65.4892292861407,\n",
              " 65.48620388594367,\n",
              " 65.48321597557343,\n",
              " 65.4802651036136,\n",
              " 65.47735082378979,\n",
              " 65.47447269491782,\n",
              " 65.47163028085237,\n",
              " 65.46882315043598,\n",
              " 65.46605087744852,\n",
              " 65.46331304055678,\n",
              " 65.46060922326457,\n",
              " 65.45793901386311,\n",
              " 65.45530200538197,\n",
              " 65.45269779554002,\n",
              " 65.45012598669702,\n",
              " 65.44758618580553,\n",
              " 65.44507800436307,\n",
              " 65.44260105836476,\n",
              " 65.44015496825628,\n",
              " 65.43773935888723,\n",
              " 65.43535385946484,\n",
              " 65.43299810350791,\n",
              " 65.4306717288015,\n",
              " 65.42837437735147,\n",
              " 65.42610569533984,\n",
              " 65.4238653330803,\n",
              " 65.42165294497404,\n",
              " 65.41946818946619,\n",
              " 65.41731072900234,\n",
              " 65.41518022998557,\n",
              " 65.41307636273397,\n",
              " 65.41099880143825,\n",
              " 65.40894722411993,\n",
              " 65.40692131258982,\n",
              " 65.40492075240684,\n",
              " 65.40294523283734,\n",
              " 65.40099444681452,\n",
              " 65.39906809089851,\n",
              " 65.39716586523662,\n",
              " 65.39528747352394,\n",
              " 65.39343262296447,\n",
              " 65.39160102423241,\n",
              " 65.38979239143397,\n",
              " 65.38800644206935,\n",
              " 65.38624289699524,\n",
              " 65.38450148038764,\n",
              " 65.38278191970491,\n",
              " 65.38108394565133,\n",
              " 65.37940729214087,\n",
              " 65.37775169626141,\n",
              " 65.37611689823926,\n",
              " 65.37450264140395,\n",
              " 65.37290867215351,\n",
              " 65.37133473992,\n",
              " 65.36978059713523,\n",
              " 65.3682459991972,\n",
              " 65.36673070443646,\n",
              " 65.365234474083,\n",
              " 65.36375707223345,\n",
              " 65.3622982658187,\n",
              " 65.3608578245715,\n",
              " 65.35943552099485,\n",
              " 65.35803113033036,\n",
              " 65.35664443052707,\n",
              " 65.35527520221054,\n",
              " 65.35392322865226,\n",
              " 65.35258829573952,\n",
              " 65.35127019194522,\n",
              " 65.34996870829836,\n",
              " 65.34868363835473,\n",
              " 65.34741477816766,\n",
              " 65.3461619262595,\n",
              " 65.34492488359307,\n",
              " 65.34370345354344,\n",
              " 65.34249744187018,\n",
              " 65.3413066566897,\n",
              " 65.34013090844799,\n",
              " 65.33897000989364,\n",
              " 65.33782377605112,\n",
              " 65.33669202419425,\n",
              " 65.33557457382022,\n",
              " 65.33447124662354,\n",
              " 65.33338186647053,\n",
              " 65.33230625937398,\n",
              " 65.33124425346804,\n",
              " 65.33019567898347,\n",
              " 65.32916036822309,\n",
              " 65.3281381555375,\n",
              " 65.32712887730112,\n",
              " 65.32613237188838,\n",
              " 65.3251484796503,\n",
              " 65.32417704289121,\n",
              " 65.32321790584572,\n",
              " 65.32227091465614,\n",
              " 65.32133591734977,\n",
              " 65.3204127638169,\n",
              " 65.3195013057886,\n",
              " 65.31860139681514,\n",
              " 65.31771289224429,\n",
              " 65.31683564920021,\n",
              " 65.3159695265623,\n",
              " 65.31511438494441,\n",
              " 65.31427008667426,\n",
              " 65.31343649577312,\n",
              " 65.31261347793553,\n",
              " 65.31180090050964,\n",
              " 65.3109986324773,\n",
              " 65.31020654443469,\n",
              " 65.30942450857307,\n",
              " 65.3086523986597,\n",
              " 65.30789009001913,\n",
              " 65.30713745951445,\n",
              " 65.30639438552896,\n",
              " 65.305660747948,\n",
              " 65.3049364281409,\n",
              " 65.30422130894328,\n",
              " 65.3035152746393,\n",
              " 65.3028182109445,\n",
              " 65.30213000498844,\n",
              " 65.3014505452978,\n",
              " 65.30077972177949,\n",
              " 65.30011742570414,\n",
              " 65.29946354968962,\n",
              " 65.2988179876848,\n",
              " 65.29818063495355,\n",
              " 65.29755138805889,\n",
              " 65.29693014484718,\n",
              " 65.29631680443276,\n",
              " 65.29571126718255,\n",
              " 65.29511343470097,\n",
              " 65.29452320981486,\n",
              " 65.29394049655879,\n",
              " 65.29336520016035,\n",
              " 65.29279722702574,\n",
              " 65.29223648472544,\n",
              " 65.29168288198011,\n",
              " 65.29113632864657,\n",
              " 65.29059673570413,\n",
              " 65.29006401524072,\n",
              " 65.28953808043966,\n",
              " 65.28901884556616,\n",
              " 65.2885062259542,\n",
              " 65.28800013799354,\n",
              " 65.28750049911682,\n",
              " 65.28700722778683,\n",
              " 65.28652024348396,\n",
              " 65.28603946669384,\n",
              " 65.28556481889495,\n",
              " 65.28509622254658,\n",
              " 65.28463360107678,\n",
              " 65.28417687887058,\n",
              " 65.28372598125824,\n",
              " 65.28328083450361,\n",
              " 65.28284136579292,\n",
              " 65.28240750322315,\n",
              " 65.28197917579122,\n",
              " 65.28155631338267,\n",
              " 65.2811388467609,\n",
              " 65.28072670755635,\n",
              " 65.28031982825593,\n",
              " 65.27991814219233,\n",
              " 65.27952158353382,\n",
              " 65.27913008727387,\n",
              " 65.27874358922102,\n",
              " 65.27836202598883,\n",
              " 65.27798533498598,\n",
              " 65.27761345440655,\n",
              " 65.27724632322021,\n",
              " 65.27688388116276,\n",
              " 65.27652606872667,\n",
              " 65.27617282715173,\n",
              " 65.2758240984158,\n",
              " 65.27547982522576,\n",
              " 65.27513995100848,\n",
              " 65.2748044199019,\n",
              " 65.27447317674631,\n",
              " 65.27414616707554,\n",
              " 65.27382333710858,\n",
              " 65.27350463374086,\n",
              " 65.27319000453613,\n",
              " 65.27287939771796,\n",
              " 65.27257276216179,\n",
              " 65.27227004738661,\n",
              " 65.2719712035472,\n",
              " 65.27167618142607,\n",
              " 65.27138493242587,\n",
              " 65.27109740856153,\n",
              " 65.2708135624527,\n",
              " 65.27053334731633,\n",
              " 65.27025671695911,\n",
              " 65.2699836257703,\n",
              " 65.26971402871435,\n",
              " 65.26944788132381,\n",
              " 65.26918513969235,\n",
              " 65.26892576046757,\n",
              " 65.26866970084437,\n",
              " 65.26841691855793,\n",
              " 65.26816737187707,\n",
              " 65.2679210195976,\n",
              " 65.26767782103575,\n",
              " 65.26743773602169,\n",
              " 65.26720072489314,\n",
              " 65.266966748489,\n",
              " 65.26673576814309,\n",
              " 65.26650774567807,\n",
              " 65.26628264339928,\n",
              " 65.26606042408866,\n",
              " 65.26584105099889,\n",
              " 65.26562448784746,\n",
              " 65.26541069881088,\n",
              " 65.265199648519,\n",
              " 65.26499130204917,\n",
              " 65.2647856249209,\n",
              " 65.2645825830901,\n",
              " 65.26438214294376,\n",
              " 65.26418427129445,\n",
              " 65.26398893537521,\n",
              " 65.26379610283391,\n",
              " 65.26360574172848,\n",
              " 65.26341782052148,\n",
              " 65.26323230807513,\n",
              " 65.26304917364632,\n",
              " 65.26286838688162,\n",
              " 65.26268991781242,\n",
              " 65.26251373685015,\n",
              " 65.2623398147814,\n",
              " 65.2621681227633,\n",
              " 65.26199863231886,\n",
              " 65.26183131533236,\n",
              " 65.26166614404485,\n",
              " 65.26150309104962,\n",
              " 65.26134212928778]"
            ]
          },
          "metadata": {},
          "execution_count": 11
        }
      ]
    }
  ]
}