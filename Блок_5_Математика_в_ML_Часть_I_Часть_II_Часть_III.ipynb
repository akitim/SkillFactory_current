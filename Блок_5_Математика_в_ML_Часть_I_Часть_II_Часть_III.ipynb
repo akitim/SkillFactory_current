{
  "nbformat": 4,
  "nbformat_minor": 0,
  "metadata": {
    "colab": {
      "provenance": [],
      "include_colab_link": true
    },
    "kernelspec": {
      "name": "python3",
      "display_name": "Python 3"
    },
    "language_info": {
      "name": "python"
    }
  },
  "cells": [
    {
      "cell_type": "markdown",
      "metadata": {
        "id": "view-in-github",
        "colab_type": "text"
      },
      "source": [
        "<a href=\"https://colab.research.google.com/github/akitim/SkillFactory_current/blob/main/%D0%91%D0%BB%D0%BE%D0%BA_5_%D0%9C%D0%B0%D1%82%D0%B5%D0%BC%D0%B0%D1%82%D0%B8%D0%BA%D0%B0_%D0%B2_ML_%D0%A7%D0%B0%D1%81%D1%82%D1%8C_I_%D0%A7%D0%B0%D1%81%D1%82%D1%8C_II_%D0%A7%D0%B0%D1%81%D1%82%D1%8C_III.ipynb\" target=\"_parent\"><img src=\"https://colab.research.google.com/assets/colab-badge.svg\" alt=\"Open In Colab\"/></a>"
      ]
    },
    {
      "cell_type": "markdown",
      "source": [
        "## 2/11  2. Множества. Операции над множествами"
      ],
      "metadata": {
        "id": "m8DIUIewZW9k"
      }
    },
    {
      "cell_type": "markdown",
      "source": [
        "### УСЛОВИЕ ДЛЯ ЗАДАНИЙ 2.6-2.8\n",
        "\n",
        "Представьте, что вы являетесь куратором образовательной программы, на которой будет два вебинара: по программированию и по машинному обучению.\n",
        "\n",
        "На вебинар по программированию записались потенциальные слушатели со следующими электронными адресами:\n",
        "\n",
        "bennet\\@xyz.com\\\n",
        "darcy\\@abc.com\\\n",
        "margaret\\@xyz.com\\\n",
        "pa\\@hhh.com\\\n",
        "marimari\\@xyz.com\\\n",
        "mallika\\@yahoo.com\\\n",
        "abc\\@xyz.com\\\n",
        "0071235\\@gmail.ru\\\n",
        "На вебинар по машинному обучению записались потенциальные слушатели со следующими электронными адресами:\n",
        "\n",
        "marimari\\@xyz.com\\\n",
        "darcy\\@abc.com\\\n",
        "0071235\\@gmail.ru\\\n",
        "darcy\\@abc.com\\\n",
        "petr44\\@xyz.com\\\n",
        "katrin\\@ya.com\\\n",
        "Оформите множества в Python для обоих списков слушателей.\n",
        "\n"
      ],
      "metadata": {
        "id": "FwUNDph223RV"
      }
    },
    {
      "cell_type": "markdown",
      "source": [
        "### Задание 2.6\n",
        "\n",
        "С помощью операций множеств в Python определите, сколько слушателей записалось на оба вебинара."
      ],
      "metadata": {
        "id": "G1DVubxj3HN_"
      }
    },
    {
      "cell_type": "code",
      "execution_count": null,
      "metadata": {
        "id": "BKh3MOeiWINk",
        "colab": {
          "base_uri": "https://localhost:8080/"
        },
        "outputId": "f99b3f0b-66ae-4752-a306-385a4b79fd44"
      },
      "outputs": [
        {
          "output_type": "execute_result",
          "data": {
            "text/plain": [
              "3"
            ]
          },
          "metadata": {},
          "execution_count": 5
        }
      ],
      "source": [
        "import numpy as np\n",
        "\n",
        "prog = {'bennet@xyz.com', 'darcy@abc.com', 'margaret@xyz.com',\n",
        "               'pa@hhh.com', 'marimari@xyz.com', 'mallika@yahoo.com',\n",
        "               'abc@xyz.com', '0071235@gmail.ru'}\n",
        "ML = {'marimari@xyz.com', 'darcy@abc.com', '0071235@gmail.ru', 'darcy@abc.com',\n",
        "      'petr44@xyz.com', 'katrin@ya.com'}\n",
        "\n",
        "len(prog & ML)"
      ]
    },
    {
      "cell_type": "markdown",
      "source": [
        "### Задание 2.7\n",
        "\n",
        "Сколько человек заинтересованы в посещении хотя бы одного вебинара?"
      ],
      "metadata": {
        "id": "dXwGfoez5LR0"
      }
    },
    {
      "cell_type": "code",
      "source": [
        "import numpy as np\n",
        "\n",
        "prog = {'bennet@xyz.com', 'darcy@abc.com', 'margaret@xyz.com',\n",
        "               'pa@hhh.com', 'marimari@xyz.com', 'mallika@yahoo.com',\n",
        "               'abc@xyz.com', '0071235@gmail.ru'}\n",
        "ML = {'marimari@xyz.com', 'darcy@abc.com', '0071235@gmail.ru', 'darcy@abc.com',\n",
        "      'petr44@xyz.com', 'katrin@ya.com'}\n",
        "\n",
        "len(prog | ML)"
      ],
      "metadata": {
        "colab": {
          "base_uri": "https://localhost:8080/"
        },
        "id": "Bxo6oW775Nk0",
        "outputId": "8e57dc42-ea7a-44ff-c0d4-782508f36577"
      },
      "execution_count": null,
      "outputs": [
        {
          "output_type": "execute_result",
          "data": {
            "text/plain": [
              "10"
            ]
          },
          "metadata": {},
          "execution_count": 6
        }
      ]
    },
    {
      "cell_type": "markdown",
      "source": [
        "### Задание 2.8\n",
        "\n",
        "Сколько человек заинтересованы в посещении только одного вебинара из двух?"
      ],
      "metadata": {
        "id": "TYbWWdTe5eG0"
      }
    },
    {
      "cell_type": "code",
      "source": [
        "import numpy as np\n",
        "\n",
        "prog = {'bennet@xyz.com', 'darcy@abc.com', 'margaret@xyz.com',\n",
        "               'pa@hhh.com', 'marimari@xyz.com', 'mallika@yahoo.com',\n",
        "               'abc@xyz.com', '0071235@gmail.ru'}\n",
        "ML = {'marimari@xyz.com', 'darcy@abc.com', '0071235@gmail.ru', 'darcy@abc.com',\n",
        "      'petr44@xyz.com', 'katrin@ya.com'}\n",
        "\n",
        "len(prog.symmetric_difference(ML))"
      ],
      "metadata": {
        "colab": {
          "base_uri": "https://localhost:8080/"
        },
        "id": "rQTXgnrq5gW8",
        "outputId": "30d940e6-a728-422d-84e3-038e3ddf25a0"
      },
      "execution_count": null,
      "outputs": [
        {
          "output_type": "execute_result",
          "data": {
            "text/plain": [
              "7"
            ]
          },
          "metadata": {},
          "execution_count": 8
        }
      ]
    },
    {
      "cell_type": "markdown",
      "source": [
        "### Задание 4.7\n",
        "\n",
        "Найдите область значений для функции $f(x) = \\frac{3}{x^2 - 10}.$\n",
        "Для решения задачи воспользуйтесь библиотекой SymPy."
      ],
      "metadata": {
        "id": "tGQKuLr1793i"
      }
    },
    {
      "cell_type": "code",
      "source": [
        "from sympy import Symbol, S\n",
        "from sympy.calculus.util import function_range, continuous_domain\n",
        "\n",
        "x = Symbol('x')\n",
        "func = 3 / (x**2 - 10)\n",
        "function_range(func, x, S.Reals)"
      ],
      "metadata": {
        "colab": {
          "base_uri": "https://localhost:8080/",
          "height": 58
        },
        "id": "77sDs-zc8Aw6",
        "outputId": "3c1f1410-d1ce-40d1-dcf2-556563961f26"
      },
      "execution_count": null,
      "outputs": [
        {
          "output_type": "execute_result",
          "data": {
            "text/plain": [
              "Union(Interval(-oo, -3/10), Interval.open(0, oo))"
            ],
            "text/latex": "$\\displaystyle \\left(-\\infty, - \\frac{3}{10}\\right] \\cup \\left(0, \\infty\\right)$"
          },
          "metadata": {},
          "execution_count": 10
        }
      ]
    },
    {
      "cell_type": "markdown",
      "source": [
        "$y = \\frac{x^3}{2(x+5)^2}$"
      ],
      "metadata": {
        "id": "fRpZhkFfO9AQ"
      }
    },
    {
      "cell_type": "code",
      "source": [
        "from sympy import Symbol, diff\n",
        "\n",
        "x = Symbol('x')\n",
        "y = x**3 / 2 / (x + 5)**2\n",
        "diff(y)"
      ],
      "metadata": {
        "colab": {
          "base_uri": "https://localhost:8080/",
          "height": 61
        },
        "id": "ciHDW0MUPAXi",
        "outputId": "30719787-7de2-4ae9-bd26-4aae0fc3ea53"
      },
      "execution_count": null,
      "outputs": [
        {
          "output_type": "execute_result",
          "data": {
            "text/plain": [
              "-x**3/(x + 5)**3 + 3*x**2/(2*(x + 5)**2)"
            ],
            "text/latex": "$\\displaystyle - \\frac{x^{3}}{\\left(x + 5\\right)^{3}} + \\frac{3 x^{2}}{2 \\left(x + 5\\right)^{2}}$"
          },
          "metadata": {},
          "execution_count": 17
        }
      ]
    },
    {
      "cell_type": "code",
      "source": [
        "from sympy import solveset, Eq\n",
        "\n",
        "solveset(Eq(diff(y), 0), x)"
      ],
      "metadata": {
        "colab": {
          "base_uri": "https://localhost:8080/",
          "height": 37
        },
        "id": "xcBLDvEjP_V1",
        "outputId": "daaecfd5-94cd-4a90-fe63-89929aa80a0f"
      },
      "execution_count": null,
      "outputs": [
        {
          "output_type": "execute_result",
          "data": {
            "text/plain": [
              "{-15, 0}"
            ],
            "text/latex": "$\\displaystyle \\left\\{-15, 0\\right\\}$"
          },
          "metadata": {},
          "execution_count": 16
        }
      ]
    },
    {
      "cell_type": "code",
      "source": [
        "from sympy import simplify\n",
        "\n",
        "simplify(diff(diff(y)))"
      ],
      "metadata": {
        "colab": {
          "base_uri": "https://localhost:8080/",
          "height": 52
        },
        "id": "R56NiIkGRZ8g",
        "outputId": "6a090424-1116-4c4e-d17e-22402cc8787b"
      },
      "execution_count": null,
      "outputs": [
        {
          "output_type": "execute_result",
          "data": {
            "text/plain": [
              "75*x/(x**4 + 20*x**3 + 150*x**2 + 500*x + 625)"
            ],
            "text/latex": "$\\displaystyle \\frac{75 x}{x^{4} + 20 x^{3} + 150 x^{2} + 500 x + 625}$"
          },
          "metadata": {},
          "execution_count": 19
        }
      ]
    },
    {
      "cell_type": "code",
      "source": [
        "from sympy import Symbol, diff, solveset, Eq\n",
        "\n",
        "x = Symbol('x')\n",
        "y = - (x**2 + 1) / x\n",
        "diff(y)\n",
        "# solveset(Eq(diff(y), 0), x)"
      ],
      "metadata": {
        "colab": {
          "base_uri": "https://localhost:8080/",
          "height": 54
        },
        "id": "UsHroxiXUVCu",
        "outputId": "c400a45a-472b-4caf-b7e3-de454fcf7365"
      },
      "execution_count": null,
      "outputs": [
        {
          "output_type": "execute_result",
          "data": {
            "text/plain": [
              "-2 - (-x**2 - 1)/x**2"
            ],
            "text/latex": "$\\displaystyle -2 - \\frac{- x^{2} - 1}{x^{2}}$"
          },
          "metadata": {},
          "execution_count": 23
        }
      ]
    },
    {
      "cell_type": "markdown",
      "source": [
        "## 1/11  1. Введение. Функции нескольких переменных"
      ],
      "metadata": {
        "id": "wsd6ZaVAbbdH"
      }
    },
    {
      "cell_type": "markdown",
      "source": [
        "### Задание 1.7\n",
        "\n",
        "Пусть у нас есть реальные и предсказанные значения в некоторой прогностической модели:\n",
        "\n",
        "Реальные\t      6 |  7|  6| 4|\t5\t|6\t|8\\\n",
        "Предсказанные\t6.4\t|7.1|5.9|4.2|5.2|6.2\t7.5\n",
        "\\\n",
        "Найдите значение метрики $L_2$-loss:"
      ],
      "metadata": {
        "id": "LEveRQI-cQwL"
      }
    },
    {
      "cell_type": "code",
      "source": [
        "import numpy as np\n",
        "\n",
        "y_true = np.array([6, 7, 6, 4, 5, 6, 8])\n",
        "y_pred = np.array([6.4, 7.1, 5.9, 4.2, 5.2, 6.2, 7.5])\n",
        "\n",
        "Loss = np.sum((y_true - y_pred)**2)\n",
        "Loss"
      ],
      "metadata": {
        "colab": {
          "base_uri": "https://localhost:8080/"
        },
        "id": "BDYMBYxTcH62",
        "outputId": "b99ab88d-6bda-40b5-e38b-3c4a70330b17"
      },
      "execution_count": null,
      "outputs": [
        {
          "output_type": "execute_result",
          "data": {
            "text/plain": [
              "0.5500000000000004"
            ]
          },
          "metadata": {},
          "execution_count": 2
        }
      ]
    },
    {
      "cell_type": "code",
      "source": [
        "1 / (1 + np.e**(-4))\n",
        "1 / (1 + np.e**(-2 * (0.1 + 0.3 + 0.6)))"
      ],
      "metadata": {
        "colab": {
          "base_uri": "https://localhost:8080/"
        },
        "id": "Euh7oCO-eBKN",
        "outputId": "77a2c2d6-aed2-4108-fb3d-e3d21112b506"
      },
      "execution_count": null,
      "outputs": [
        {
          "output_type": "execute_result",
          "data": {
            "text/plain": [
              "0.8807970779778823"
            ]
          },
          "metadata": {},
          "execution_count": 5
        }
      ]
    },
    {
      "cell_type": "markdown",
      "source": [
        "### Задание 3.4\n",
        "\n",
        "Найдите экстремумы функции $z = 4x^2 - 6xy -34x + 5y^2 + 42y + 7$."
      ],
      "metadata": {
        "id": "hnIlboQUE6it"
      }
    },
    {
      "cell_type": "code",
      "source": [
        "from sympy import *\n",
        "\n",
        "x, y = symbols('x, y')\n",
        "z = 4*x**2 - 6*x*y - 34*x + 5*y**2 + 42 * y + 7\n",
        "eq1 = Eq(diff(z, x), 0)\n",
        "eq2 = Eq(diff(z, y), 0)\n",
        "solve([eq1, eq2], [x, y])"
      ],
      "metadata": {
        "colab": {
          "base_uri": "https://localhost:8080/"
        },
        "id": "7GQVYy2BFM9v",
        "outputId": "e3843cea-ea44-496a-dfff-cdfcf812d4ce"
      },
      "execution_count": null,
      "outputs": [
        {
          "output_type": "execute_result",
          "data": {
            "text/plain": [
              "{x: 2, y: -3}"
            ]
          },
          "metadata": {},
          "execution_count": 11
        }
      ]
    },
    {
      "cell_type": "markdown",
      "source": [
        "## 3/11  3. Безусловные экстремумы. Функции нескольких переменных"
      ],
      "metadata": {
        "id": "9NdvCj4d9rUv"
      }
    },
    {
      "cell_type": "markdown",
      "source": [
        "### Задание 3.5\n",
        "\n",
        "Вычислите матрицу Гессе для функции $f(x,y) = x^3 - 2xy - y^6$ в точке $(1;2)$ и найдите её определитель."
      ],
      "metadata": {
        "id": "KT6gv5cG-NqH"
      }
    },
    {
      "cell_type": "code",
      "source": [
        "# from sympy import Function, hessian, pprint\n",
        "# from sympy.abc import x, y\n",
        "from sympy import *\n",
        "\n",
        "# f = Function('f')(x, y)\n",
        "f = x**3 - 2*x*y - y**6\n",
        "\n",
        "h = hessian(f, (x, y))\n",
        "h_d = hessian(f, (x, y)).det()\n",
        "h_d.subs({x:1, y:2})"
      ],
      "metadata": {
        "colab": {
          "base_uri": "https://localhost:8080/",
          "height": 37
        },
        "id": "UJ7nj70S9nc5",
        "outputId": "bd71642a-5984-41b2-b601-680c4624222e"
      },
      "execution_count": null,
      "outputs": [
        {
          "output_type": "execute_result",
          "data": {
            "text/plain": [
              "-2884"
            ],
            "text/latex": "$\\displaystyle -2884$"
          },
          "metadata": {},
          "execution_count": 14
        }
      ]
    },
    {
      "cell_type": "markdown",
      "source": [
        "## 4/11  4. Введение в оптимизацию"
      ],
      "metadata": {
        "id": "RPbb57SgqvTm"
      }
    },
    {
      "cell_type": "markdown",
      "source": [
        "Задание 4.5\n",
        "\n",
        "Оптимизируйте функцию Розенброка с помощью уже известного вам метода наименьших квадратов с использованием той же точки, которая фигурировала в наших решениях до этого.\n",
        "\n",
        "Для реализации этого алгоритма используется функция `least_squares`."
      ],
      "metadata": {
        "id": "kJBEUbiiqw3I"
      }
    },
    {
      "cell_type": "code",
      "source": [
        "from scipy.optimize import least_squares\n",
        "import numpy as np\n",
        "\n",
        "def func_rosen(x):\n",
        "    r = np.sum(100*(x[1:]-x[:-1]**2)**2 + (1-x[:-1])**2, axis=0)\n",
        "    return r\n",
        "\n",
        "x_start = np.array([2.4, 1.5, 2.1, 0.7, 1.1])\n",
        "\n",
        "np.round(least_squares(func_rosen, x_start)['x'], 3)"
      ],
      "metadata": {
        "colab": {
          "base_uri": "https://localhost:8080/"
        },
        "id": "I-g_RgjSq9__",
        "outputId": "da577d72-9c68-4eda-98d0-4374fd114003"
      },
      "execution_count": null,
      "outputs": [
        {
          "output_type": "execute_result",
          "data": {
            "text/plain": [
              "array([0.939, 0.882, 0.776, 0.603, 0.361])"
            ]
          },
          "metadata": {},
          "execution_count": 8
        }
      ]
    },
    {
      "cell_type": "markdown",
      "source": [
        "## 5/11  5. Условные экстремумы. Метод Лагранжа"
      ],
      "metadata": {
        "id": "PvrgYY5UcSi1"
      }
    },
    {
      "cell_type": "markdown",
      "source": [
        "### Задание 5.3\n",
        "\n",
        "Представьте, что вы решаете задачу классификации методом опорных векторов и хотите оценить расстояние от объекта до разделяющей прямой с помощью метода Лагранжа. Если объект имеет координаты $(2;1)$, а прямая задана уравнением $x +  y = 1$, то каким будет квадрат расстояния от этого объекта до прямой?"
      ],
      "metadata": {
        "id": "EVBhdNOOcU0d"
      }
    },
    {
      "cell_type": "code",
      "source": [
        "from sympy import *\n",
        "\n",
        "x, y, k = symbols('x y k')\n",
        "\n",
        "# целевая функция\n",
        "rho2 = (x - 2)**2 + (y - 1)**2\n",
        "# функция Лагранжа\n",
        "L = rho2 - k * (x + y - 1)\n",
        "# стационарные точки\n",
        "sols = solve([L.diff(x), L.diff(y), L.diff(k)], x, y, k)\n",
        "x_0, y_0 = sols[x], sols[y]\n",
        "print(f'M(x,y): ({x_0}, {y_0})')\n",
        "print(f'Квадрат расстояния: {rho2.subs({x:x_0, y:y_0})}')"
      ],
      "metadata": {
        "colab": {
          "base_uri": "https://localhost:8080/"
        },
        "id": "ST4YdPT-cwkY",
        "outputId": "2cfda839-e855-4c39-8f77-d20433cdf7d6"
      },
      "execution_count": null,
      "outputs": [
        {
          "output_type": "stream",
          "name": "stdout",
          "text": [
            "M(x,y): (1, 0)\n",
            "Квадрат расстояния: 2\n"
          ]
        }
      ]
    },
    {
      "cell_type": "markdown",
      "source": [
        "### Задание 5.4\n",
        "\n",
        "Прямоугольный параллелепипед имеет объём $1$ м$^3$. Чему равна минимальная площадь его поверхности?"
      ],
      "metadata": {
        "id": "MtK1DZ9AL6Jb"
      }
    },
    {
      "cell_type": "code",
      "source": [
        "from sympy import *\n",
        "\n",
        "x, y, z, k = symbols('x y z k')\n",
        "\n",
        "# целевая функция\n",
        "S = 2 * (x*y + y*z + x*z)\n",
        "# функция Лагранжа\n",
        "L = S + k * (x * y * z - 1)\n",
        "# стационарные точки\n",
        "sols = solve([L.diff(x), L.diff(y), L.diff(z), L.diff(k)], x, y, z, k)\n",
        "\n",
        "x_0, y_0, z_0 = sols[0][0], sols[0][1], sols[0][2]\n",
        "print(f'M(x,y): ({x_0}, {y_0}, {z_0})')\n",
        "\n",
        "print(f'Минималmная площадь поверхности: {S.subs({x:x_0, y:y_0, z:z_0})}')"
      ],
      "metadata": {
        "colab": {
          "base_uri": "https://localhost:8080/"
        },
        "id": "OJefrB7lMMCu",
        "outputId": "5eb0b896-d5c8-43e1-a442-cef327e50dac"
      },
      "execution_count": null,
      "outputs": [
        {
          "output_type": "stream",
          "name": "stdout",
          "text": [
            "M(x,y): (1, 1, 1)\n",
            "Минималная площадь поверхности: 6\n"
          ]
        }
      ]
    },
    {
      "cell_type": "markdown",
      "source": [
        "## 6/11  6. Градиент и антиградиент"
      ],
      "metadata": {
        "id": "e0mbYSbghnYu"
      }
    },
    {
      "cell_type": "markdown",
      "source": [
        "### Задание 6.6\n",
        "\n",
        "$L^2$-loss функция имеет вид $L = (2.1 - w_0 - w_1)^2 +(2.9 - w_0 - 3w_1)^2 +(4.1 - w_0 - 5w_1)^2$.\n",
        "\n",
        "1. Сколько решений имеет СЛАУ $\\overrightarrow{grad} L = \\overrightarrow{0}$?"
      ],
      "metadata": {
        "id": "TtkX69YiWH-V"
      }
    },
    {
      "cell_type": "code",
      "source": [
        "from sympy import *\n",
        "import numpy as np\n",
        "\n",
        "w_0, w_1 = symbols('w0, w1')\n",
        "L = (2.1 - w_0 - w_1)**2 +(2.9 - w_0 - 3*w_1)**2 +(4.1 - w_0 - 5*w_1)**2\n",
        "\n",
        "sols = solve([L.diff(w_0), L.diff(w_1)], w_0, w_1)\n",
        "print (f'Градиент равен 0 в точке {sols[w_0], sols[w_1]}')\n"
      ],
      "metadata": {
        "colab": {
          "base_uri": "https://localhost:8080/"
        },
        "id": "9Z6jUVouWHV5",
        "outputId": "8051960e-c420-4d89-f1a4-0a17c3c6a14b"
      },
      "execution_count": null,
      "outputs": [
        {
          "output_type": "stream",
          "name": "stdout",
          "text": [
            "Градиент равен 0 в точке (1.53333333333333, 0.500000000000000)\n"
          ]
        }
      ]
    },
    {
      "cell_type": "markdown",
      "source": [
        "2. Вычислите точку, в которой $\\overrightarrow{grad} L = \\overrightarrow{0}$. Ответ **округлите до двух знаков после точки-разделителя**."
      ],
      "metadata": {
        "id": "BOMf1TvYWv3v"
      }
    },
    {
      "cell_type": "markdown",
      "source": [
        "### Задание 6.7\n",
        "Пусть дан одномерный массив `f = np.array([8, 2, 8, 3, 5, 6, 5, 15])`\n",
        "\n",
        "Вычислите градиент массива $f$, увеличив шаг сетки в 7 раз, и укажите значение 7-го элемента массива $f$ получившихся градиентов."
      ],
      "metadata": {
        "id": "TKWM2QVRhKWN"
      }
    },
    {
      "cell_type": "markdown",
      "source": [
        "## 7/11  7. Градиент и градиентный спуск"
      ],
      "metadata": {
        "id": "hrO8Ye1_hfPm"
      }
    },
    {
      "cell_type": "markdown",
      "source": [
        "### Задание 7.7\n",
        "\n",
        "Найдите следующую точку градиентного спуска для функции $f(x, y, z)=2x^2-4xz+4y^2-8yz+9z^2+4x+8y-20z$, если текущая точка — $(0,0,0)$, $\\alpha =0.25$. Введите координаты получившейся точки."
      ],
      "metadata": {
        "id": "-wf0Ev6j8Dz8"
      }
    },
    {
      "cell_type": "code",
      "source": [
        "import numpy as np\n",
        "\n",
        "def f(x):\n",
        "    return 2*x[0]**2 - 4*x[0]*x[2] + 4*x[1]**2 -\\\n",
        "     8*x[1]*x[2] + 9*x[2]**2 + 4*x[0] +8*x[1]-20*x[2]\n",
        "\n",
        "def grad_f(x):\n",
        "    gx = 4 * x[0] - 4 * x[2] + 4\n",
        "    gy = 8 * x[1] - 8 * x[2] + 8\n",
        "    gz = -4 * x[0] - 8 * x[1] + 18 * x[2] - 20\n",
        "    return np.array([gx, gy, gz])\n",
        "\n",
        "x_0 = (0, 0, 0)\n",
        "alpha = 0.25\n",
        "\n",
        "x_1 = x_0 - alpha * grad_f(x_0)\n",
        "print('Следующая точка: (', *x_1, ')')\n",
        "# from sympy import *\n",
        "# x, y, z = symbols('x y z')\n",
        "# f = 2*x**2 - 4*x*z + 4*y**2 - 8*y*z + 9*z**2 + 4*x +8*y-20*z\n",
        "# f.diff(z)\n"
      ],
      "metadata": {
        "colab": {
          "base_uri": "https://localhost:8080/"
        },
        "id": "OcjmdPAVhpjQ",
        "outputId": "462e0f1b-8080-4249-ea77-462a9eabff99"
      },
      "execution_count": null,
      "outputs": [
        {
          "output_type": "stream",
          "name": "stdout",
          "text": [
            "Следующая точка: ( -1.0 -2.0 5.0 )\n"
          ]
        }
      ]
    },
    {
      "cell_type": "markdown",
      "source": [
        "## 8/11  8. Практика: градиентный спуск"
      ],
      "metadata": {
        "id": "aldcLbYjC_oh"
      }
    },
    {
      "cell_type": "markdown",
      "source": [
        "## Задание 8.1\n",
        "$2x^2 - 4xy + y^4 + 2$\n",
        "Найдите минимум функции  с помощью градиентного спуска.\n",
        "\\\n",
        "\\\n",
        "Ответ **округлите до целого числа**."
      ],
      "metadata": {
        "id": "gwGu8y81DBnQ"
      }
    },
    {
      "cell_type": "code",
      "source": [
        "def f(x):\n",
        "    return 2 * x[0] ** 2 - 4 * x[0] * x[1] + x[1] ** 4 + 2\n",
        "\n",
        "def grad(x):\n",
        "    import numpy as np\n",
        "\n",
        "    dx = 4 * x[0] - 4 * x[1]\n",
        "    dy = -4 * x[0] + 4 * x[1] ** 3\n",
        "    return np.array((dx, dy))\n",
        "\n",
        "def grad_descent(x0, gamma = 1e-3, grad_func=None,\n",
        "                 n_iter=1000, tol=1e-6):\n",
        "\n",
        "    import numpy as np\n",
        "\n",
        "    def dist2 (x1, x2):\n",
        "        x1_, x2_ = np.array(x1), np.array(x2)\n",
        "        return (x2_ - x1_) @ (x2_ - x1_)\n",
        "\n",
        "    x_cur = x0\n",
        "    tol_ = tol**2\n",
        "    vals = []\n",
        "    coords = []\n",
        "    i = 0\n",
        "    while True:\n",
        "        x_new = x_cur - gamma * grad_func(x_cur)\n",
        "\n",
        "        if dist2(x_new, x_cur) < tol_:\n",
        "            break\n",
        "        if i > n_iter:\n",
        "            print('Max iterations reached!')\n",
        "            break\n",
        "\n",
        "        x_cur = x_new\n",
        "        # vals.append(f(*x_cur))\n",
        "        coords.append(x_cur)\n",
        "        i += 1\n",
        "\n",
        "    print(f\"n_iter={i}; x=({x_cur[0]:.10f}, {x_cur[1]:.10f});\" +\n",
        "        #   f\" f(x)={f(*x_cur):.5f}; \" +\n",
        "          f\" grad f(x)=({grad_func(x_cur)[0]:.5f}, {grad_func(x_cur)[1]:.5f})\")\n",
        "    return {'min_found': x_cur, 'grad': grad_func(x_cur),\n",
        "            'n_iter': i, 'coords': coords}\n",
        "\n",
        "# ==================================================================\n",
        "x0 = (5, 5)\n",
        "gamma = 1e-3\n",
        "\n",
        "res = grad_descent(x0=x0, gamma=gamma, grad_func=grad, n_iter=5000)\n",
        "print ('Минимум функции:', round(f(res['min_found'])))"
      ],
      "metadata": {
        "colab": {
          "base_uri": "https://localhost:8080/"
        },
        "id": "cQGsSI92D4Ub",
        "outputId": "4f608a66-b7e9-415f-aa29-721a11042d8d"
      },
      "execution_count": 5,
      "outputs": [
        {
          "output_type": "stream",
          "name": "stdout",
          "text": [
            "n_iter=3706; x=(1.0003935477, 1.0001629773); grad f(x)=(0.00092, 0.00038)\n",
            "Минимум функции: 1\n"
          ]
        }
      ]
    },
    {
      "cell_type": "markdown",
      "source": [
        "### Задание 8.2\n",
        "\n",
        "Найдите минимум функции $x^3 - 2x^2 + y^2 + z^2 - 2xy + xz - yz + 3z$ с помощью градиентного спуска.\n",
        "\n",
        "Ответ **округлите до целого числа**."
      ],
      "metadata": {
        "id": "FjZPKSqOLuvq"
      }
    },
    {
      "cell_type": "code",
      "source": [
        "def f2(x):\n",
        "    return x[0]**3 - 2 * x[0]**2 + x[1]**2 + x[2]**2 -\\\n",
        "     2 * x[0] * x[1] + x[0] * x[2] - x[1] * x[2] + 3 * x[2]\n",
        "\n",
        "def grad2(x):\n",
        "    import numpy as np\n",
        "\n",
        "    dx = 3*x[0]**2 - 4*x[0] - 2*x[1] + x[2]\n",
        "    dy = -2*x[0] + 2*x[1] - x[2]\n",
        "    dz = x[0] - x[1] + 2*x[2] + 3\n",
        "    return np.array((dx, dy, dz))\n",
        "\n",
        "x0 = (5, 5, 5)\n",
        "gamma = 1e-3\n",
        "\n",
        "res2 = grad_descent(x0=x0, gamma=gamma, grad_func=grad2, n_iter=5000)\n",
        "print ('Минимум функции:', round(f2(res2['min_found'])))\n"
      ],
      "metadata": {
        "colab": {
          "base_uri": "https://localhost:8080/"
        },
        "id": "NtUImrewL6gI",
        "outputId": "6cd62e8f-d215-4241-c74a-7b72c352cfdd"
      },
      "execution_count": 6,
      "outputs": [
        {
          "output_type": "stream",
          "name": "stdout",
          "text": [
            "Max iterations reached!\n",
            "n_iter=5001; x=(2.0113415110, 1.0649417161); grad f(x)=(0.01010, 0.05834)\n",
            "Минимум функции: -7\n"
          ]
        }
      ]
    },
    {
      "cell_type": "code",
      "source": [
        "# from sympy import *\n",
        "\n",
        "# x = symbols('x[0], x[1], x[2]')\n",
        "\n",
        "# fun = x[0]**3 - 2 * x[0]**2 + x[1]**2 + x[2]**2 -\\\n",
        "#      2 * x[0] * x[1] + x[0] * x[2] - x[1] * x[2] + 3 * x[2]\n",
        "\n",
        "# [fun.diff(u) for u in x]"
      ],
      "metadata": {
        "id": "NlcyxBC4e_g3"
      },
      "execution_count": null,
      "outputs": []
    },
    {
      "cell_type": "code",
      "source": [],
      "metadata": {
        "colab": {
          "base_uri": "https://localhost:8080/"
        },
        "id": "ni-1BuJUFTq9",
        "outputId": "7c4366e4-62d6-4cfa-9821-e762c810441a"
      },
      "execution_count": null,
      "outputs": [
        {
          "output_type": "stream",
          "name": "stdout",
          "text": [
            "n_iter=3706; x=(1.0003935477, 1.0001629773); grad f(x)=(0.00092, 0.00038)\n",
            "Минимум функции: 1\n"
          ]
        }
      ]
    },
    {
      "cell_type": "markdown",
      "source": [
        "Задание 8.3\n",
        "\n",
        "Попробуем применить градиентный спуск для решения реальной задачи линейной регрессии. Наша цель будет состоять в том, чтобы построить простую модель линейной регрессии для прогнозирования продаж некоторого продукта на основе количества денег, потраченных на рекламу.\n",
        "\n",
        "Постройте модель, аналогичную той, что была разобрана в видео выше, но с тремя предикторами.\n",
        "\n",
        "Все веса изначально возьмите равными $0$, скорость обучения задайте как $0.00005$ и обучите модель на $500000$ итераций.\n",
        "\n",
        "В качестве ответов введите полученные веса для трех предикторов `TV`,  `Radio`, `Newspaper`. Ответы **округлите до третьего знака после точки-разделителя**."
      ],
      "metadata": {
        "id": "d_QwPJiBSDkM"
      }
    },
    {
      "cell_type": "code",
      "source": [
        "import numpy as np\n",
        "import pandas as pd\n",
        "\n",
        "path = '/content/Advertising.csv'\n",
        "data = pd.read_csv(path)\n",
        "data.sample(5)"
      ],
      "metadata": {
        "id": "sG5c3WA5au2u",
        "outputId": "2a4ac5cd-89ea-49c9-8dac-c2c5f4c06dea",
        "colab": {
          "base_uri": "https://localhost:8080/",
          "height": 206
        }
      },
      "execution_count": 3,
      "outputs": [
        {
          "output_type": "execute_result",
          "data": {
            "text/plain": [
              "     Unnamed: 0     TV  radio  newspaper  sales\n",
              "3             4  151.5   41.3       58.5   18.5\n",
              "27           28  240.1   16.7       22.9   15.9\n",
              "111         112  241.7   38.0       23.2   21.8\n",
              "189         190   18.7   12.1       23.4    6.7\n",
              "38           39   43.1   26.7       35.1   10.1"
            ],
            "text/html": [
              "\n",
              "  <div id=\"df-9a08ee50-c062-4049-996e-c1e3c66fd5f9\">\n",
              "    <div class=\"colab-df-container\">\n",
              "      <div>\n",
              "<style scoped>\n",
              "    .dataframe tbody tr th:only-of-type {\n",
              "        vertical-align: middle;\n",
              "    }\n",
              "\n",
              "    .dataframe tbody tr th {\n",
              "        vertical-align: top;\n",
              "    }\n",
              "\n",
              "    .dataframe thead th {\n",
              "        text-align: right;\n",
              "    }\n",
              "</style>\n",
              "<table border=\"1\" class=\"dataframe\">\n",
              "  <thead>\n",
              "    <tr style=\"text-align: right;\">\n",
              "      <th></th>\n",
              "      <th>Unnamed: 0</th>\n",
              "      <th>TV</th>\n",
              "      <th>radio</th>\n",
              "      <th>newspaper</th>\n",
              "      <th>sales</th>\n",
              "    </tr>\n",
              "  </thead>\n",
              "  <tbody>\n",
              "    <tr>\n",
              "      <th>3</th>\n",
              "      <td>4</td>\n",
              "      <td>151.5</td>\n",
              "      <td>41.3</td>\n",
              "      <td>58.5</td>\n",
              "      <td>18.5</td>\n",
              "    </tr>\n",
              "    <tr>\n",
              "      <th>27</th>\n",
              "      <td>28</td>\n",
              "      <td>240.1</td>\n",
              "      <td>16.7</td>\n",
              "      <td>22.9</td>\n",
              "      <td>15.9</td>\n",
              "    </tr>\n",
              "    <tr>\n",
              "      <th>111</th>\n",
              "      <td>112</td>\n",
              "      <td>241.7</td>\n",
              "      <td>38.0</td>\n",
              "      <td>23.2</td>\n",
              "      <td>21.8</td>\n",
              "    </tr>\n",
              "    <tr>\n",
              "      <th>189</th>\n",
              "      <td>190</td>\n",
              "      <td>18.7</td>\n",
              "      <td>12.1</td>\n",
              "      <td>23.4</td>\n",
              "      <td>6.7</td>\n",
              "    </tr>\n",
              "    <tr>\n",
              "      <th>38</th>\n",
              "      <td>39</td>\n",
              "      <td>43.1</td>\n",
              "      <td>26.7</td>\n",
              "      <td>35.1</td>\n",
              "      <td>10.1</td>\n",
              "    </tr>\n",
              "  </tbody>\n",
              "</table>\n",
              "</div>\n",
              "      <button class=\"colab-df-convert\" onclick=\"convertToInteractive('df-9a08ee50-c062-4049-996e-c1e3c66fd5f9')\"\n",
              "              title=\"Convert this dataframe to an interactive table.\"\n",
              "              style=\"display:none;\">\n",
              "        \n",
              "  <svg xmlns=\"http://www.w3.org/2000/svg\" height=\"24px\"viewBox=\"0 0 24 24\"\n",
              "       width=\"24px\">\n",
              "    <path d=\"M0 0h24v24H0V0z\" fill=\"none\"/>\n",
              "    <path d=\"M18.56 5.44l.94 2.06.94-2.06 2.06-.94-2.06-.94-.94-2.06-.94 2.06-2.06.94zm-11 1L8.5 8.5l.94-2.06 2.06-.94-2.06-.94L8.5 2.5l-.94 2.06-2.06.94zm10 10l.94 2.06.94-2.06 2.06-.94-2.06-.94-.94-2.06-.94 2.06-2.06.94z\"/><path d=\"M17.41 7.96l-1.37-1.37c-.4-.4-.92-.59-1.43-.59-.52 0-1.04.2-1.43.59L10.3 9.45l-7.72 7.72c-.78.78-.78 2.05 0 2.83L4 21.41c.39.39.9.59 1.41.59.51 0 1.02-.2 1.41-.59l7.78-7.78 2.81-2.81c.8-.78.8-2.07 0-2.86zM5.41 20L4 18.59l7.72-7.72 1.47 1.35L5.41 20z\"/>\n",
              "  </svg>\n",
              "      </button>\n",
              "      \n",
              "  <style>\n",
              "    .colab-df-container {\n",
              "      display:flex;\n",
              "      flex-wrap:wrap;\n",
              "      gap: 12px;\n",
              "    }\n",
              "\n",
              "    .colab-df-convert {\n",
              "      background-color: #E8F0FE;\n",
              "      border: none;\n",
              "      border-radius: 50%;\n",
              "      cursor: pointer;\n",
              "      display: none;\n",
              "      fill: #1967D2;\n",
              "      height: 32px;\n",
              "      padding: 0 0 0 0;\n",
              "      width: 32px;\n",
              "    }\n",
              "\n",
              "    .colab-df-convert:hover {\n",
              "      background-color: #E2EBFA;\n",
              "      box-shadow: 0px 1px 2px rgba(60, 64, 67, 0.3), 0px 1px 3px 1px rgba(60, 64, 67, 0.15);\n",
              "      fill: #174EA6;\n",
              "    }\n",
              "\n",
              "    [theme=dark] .colab-df-convert {\n",
              "      background-color: #3B4455;\n",
              "      fill: #D2E3FC;\n",
              "    }\n",
              "\n",
              "    [theme=dark] .colab-df-convert:hover {\n",
              "      background-color: #434B5C;\n",
              "      box-shadow: 0px 1px 3px 1px rgba(0, 0, 0, 0.15);\n",
              "      filter: drop-shadow(0px 1px 2px rgba(0, 0, 0, 0.3));\n",
              "      fill: #FFFFFF;\n",
              "    }\n",
              "  </style>\n",
              "\n",
              "      <script>\n",
              "        const buttonEl =\n",
              "          document.querySelector('#df-9a08ee50-c062-4049-996e-c1e3c66fd5f9 button.colab-df-convert');\n",
              "        buttonEl.style.display =\n",
              "          google.colab.kernel.accessAllowed ? 'block' : 'none';\n",
              "\n",
              "        async function convertToInteractive(key) {\n",
              "          const element = document.querySelector('#df-9a08ee50-c062-4049-996e-c1e3c66fd5f9');\n",
              "          const dataTable =\n",
              "            await google.colab.kernel.invokeFunction('convertToInteractive',\n",
              "                                                     [key], {});\n",
              "          if (!dataTable) return;\n",
              "\n",
              "          const docLinkHtml = 'Like what you see? Visit the ' +\n",
              "            '<a target=\"_blank\" href=https://colab.research.google.com/notebooks/data_table.ipynb>data table notebook</a>'\n",
              "            + ' to learn more about interactive tables.';\n",
              "          element.innerHTML = '';\n",
              "          dataTable['output_type'] = 'display_data';\n",
              "          await google.colab.output.renderOutput(dataTable, element);\n",
              "          const docLink = document.createElement('div');\n",
              "          docLink.innerHTML = docLinkHtml;\n",
              "          element.appendChild(docLink);\n",
              "        }\n",
              "      </script>\n",
              "    </div>\n",
              "  </div>\n",
              "  "
            ]
          },
          "metadata": {},
          "execution_count": 3
        }
      ]
    },
    {
      "cell_type": "code",
      "source": [
        "def grad_descent(x0, gamma = 1e-3, func=None, grad_func=None,\n",
        "                 n_iter=1000, tol=1e-6):\n",
        "\n",
        "    import numpy as np\n",
        "\n",
        "    def dist_squared (x1, x2):\n",
        "        x1_, x2_ = np.array(x1), np.array(x2)\n",
        "        return ((x2_ - x1_) @ (x2_ - x1_))\n",
        "\n",
        "    x_cur = x0\n",
        "    tol_squared = tol**2\n",
        "    vals = []\n",
        "    coords = []\n",
        "    i = 0\n",
        "    while True:\n",
        "        x_new = x_cur - gamma * grad_func(x_cur)\n",
        "\n",
        "        if dist_squared(x_new, x_cur) < tol_squared:\n",
        "            break\n",
        "        if i > n_iter:\n",
        "            print('Max iterations reached!')\n",
        "            break\n",
        "\n",
        "        x_cur = x_new\n",
        "        if func: vals.append(func(x_cur))\n",
        "        coords.append(x_cur)\n",
        "        i += 1\n",
        "\n",
        "    print(f\"n_iter={i}; x=({x_cur[0]:.10f}, {x_cur[1]:.10f});\" +\n",
        "        #   f\" f(x)={f(*x_cur):.5f}; \" +\n",
        "          f\" grad f(x)=({grad_func(x_cur)[0]:.5f}, {grad_func(x_cur)[1]:.5f})\")\n",
        "\n",
        "    return {'min_found': x_cur, 'grad': grad_func(x_cur),\n",
        "            'n_iter': i, 'trajectory': coords, 'func_values': vals}\n",
        "\n",
        "def sq_loss(y_true, X, w):\n",
        "\n",
        "    X_ = np.hstack([np.ones(X.shape[0]), X])\n",
        "    return np.sum((y_true - np.sum(X_ @ w, axis=1))**2)\n",
        "\n",
        "def sq_loss_grad(y_true, X, w):\n",
        "\n",
        "    X_ = np.hstack([np.ones((X.shape[0], 1)), X])\n",
        "    N = X_.shape[0]\n",
        "\n",
        "    return np.sum(-2 * X_ * (y_true - (X_ @ w)).reshape((N, 1)), axis=0)\n",
        "\n",
        "y = data['sales'].values\n",
        "\n",
        "features = ['TV', 'radio', 'newspaper']\n",
        "X = data[features].values\n",
        "\n",
        "# стандартизируем признаки\n",
        "y_st = (y - np.mean(y)) / np.std(y)\n",
        "X_st = (X - np.mean(X, axis=0)) / np.std(X, axis=0)\n",
        "\n",
        "# осуществляем градиентный спуск\n",
        "w0 = (0, 0, 0, 0)\n",
        "n_iter = 500000\n",
        "gamma = 0.00005\n",
        "\n",
        "def sq_loss_grad_(w):\n",
        "    return sq_loss_grad(y_true=y_st, X=X_st, w=w)\n",
        "\n",
        "result = grad_descent(x0=w0, gamma=gamma, grad_func=sq_loss_grad_,\n",
        "                 n_iter=n_iter, tol=1e-6)\n",
        "weights = result['min_found']\n",
        "print(*np.round(weights[1:], 3))"
      ],
      "metadata": {
        "id": "AT_MEe41cFnb",
        "outputId": "efbf970f-8e15-4c93-a39d-fa33f04cf4f1",
        "colab": {
          "base_uri": "https://localhost:8080/"
        }
      },
      "execution_count": 4,
      "outputs": [
        {
          "output_type": "stream",
          "name": "stdout",
          "text": [
            "n_iter=655; x=(-0.0000000000, 0.7530641807); grad f(x)=(0.00000, -0.00064)\n",
            "0.753 0.536 -0.004\n"
          ]
        }
      ]
    },
    {
      "cell_type": "code",
      "source": [
        "y_pred = np.hstack([np.ones((X_st.shape[0], 1)), X_st]) @ weights\n",
        "np.mean(np.abs(y_st - y_pred) / y_st) *100"
      ],
      "metadata": {
        "id": "u31bg5OnhGxg",
        "outputId": "3b434618-5ce3-43ae-a7e3-ae858422d6be",
        "colab": {
          "base_uri": "https://localhost:8080/"
        }
      },
      "execution_count": 5,
      "outputs": [
        {
          "output_type": "execute_result",
          "data": {
            "text/plain": [
              "-32.7763824199326"
            ]
          },
          "metadata": {},
          "execution_count": 5
        }
      ]
    },
    {
      "cell_type": "code",
      "source": [
        "def MAPE(y_true, y_pred):\n",
        "    return np.mean(np.abs((y_true - y_pred) / y_true)) *100\n",
        "\n",
        "def logreg_predict(X, weights):\n",
        "    return np.hstack([np.ones((X_st.shape[0], 1)), X_st]) @ weights\n",
        "\n",
        "mapes = [MAPE(y_st, logreg_predict(X, weights)) for weights in result['trajectory']]\n",
        "\n",
        "import matplotlib.pyplot as plt\n",
        "\n",
        "plt.plot(mapes, np.arange(0, len(mapes)));"
      ],
      "metadata": {
        "colab": {
          "base_uri": "https://localhost:8080/",
          "height": 430
        },
        "id": "wtN6x0ietv-4",
        "outputId": "be98aacf-20b7-4091-a4eb-21243f5eecf2"
      },
      "execution_count": 8,
      "outputs": [
        {
          "output_type": "display_data",
          "data": {
            "text/plain": [
              "<Figure size 640x480 with 1 Axes>"
            ],
            "image/png": "[encoded data removed]"
          },
          "metadata": {}
        }
      ]
    }
  ]
}