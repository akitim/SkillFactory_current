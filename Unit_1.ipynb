{
  "nbformat": 4,
  "nbformat_minor": 0,
  "metadata": {
    "colab": {
      "name": "Unit 1.ipynb",
      "provenance": [],
      "collapsed_sections": [],
      "include_colab_link": true
    },
    "kernelspec": {
      "name": "python3",
      "display_name": "Python 3"
    },
    "language_info": {
      "name": "python"
    }
  },
  "cells": [
    {
      "cell_type": "markdown",
      "metadata": {
        "id": "view-in-github",
        "colab_type": "text"
      },
      "source": [
        "<a href=\"https://colab.research.google.com/github/akitim/SkillFactory_current/blob/main/Unit_1.ipynb\" target=\"_parent\"><img src=\"https://colab.research.google.com/assets/colab-badge.svg\" alt=\"Open In Colab\"/></a>"
      ]
    },
    {
      "cell_type": "markdown",
      "metadata": {
        "id": "QtqI59xnmv1F"
      },
      "source": [
        "# Python 5"
      ]
    },
    {
      "cell_type": "code",
      "metadata": {
        "colab": {
          "base_uri": "https://localhost:8080/",
          "height": 191
        },
        "id": "8JmF6Ud4md3u",
        "outputId": "33093e73-ccd8-4ecd-8240-c3f9339fea16"
      },
      "source": [
        "import pandas as pd\n",
        "\n",
        "data = pd.Series([\"Январь\", \"Февраль\", \"Март\", \"Апрель\"],\n",
        "                 index = ['Первый', \"Второй\", \"Третий\", \"Четвёртый\"])\n",
        "print(data)\n",
        "display(data)\n",
        "# display(data.loc[\"Первый\"])\n",
        "# display(data.loc[\"Первый\"])\n",
        "# print(data.loc[[\"Первый\", \"Третий\"]])"
      ],
      "execution_count": null,
      "outputs": [
        {
          "output_type": "stream",
          "text": [
            "Первый        Январь\n",
            "Второй       Февраль\n",
            "Третий          Март\n",
            "Четвёртый     Апрель\n",
            "dtype: object\n"
          ],
          "name": "stdout"
        },
        {
          "output_type": "display_data",
          "data": {
            "text/plain": [
              "Первый        Январь\n",
              "Второй       Февраль\n",
              "Третий          Март\n",
              "Четвёртый     Апрель\n",
              "dtype: object"
            ]
          },
          "metadata": {
            "tags": []
          }
        }
      ]
    },
    {
      "cell_type": "code",
      "metadata": {
        "colab": {
          "base_uri": "https://localhost:8080/"
        },
        "id": "vyh5IsKoszJA",
        "outputId": "d5fbe5ad-415c-4e40-9c38-20bc4d5c35e7"
      },
      "source": [
        "data = pd.Series(list(range(10, 1001)))\n",
        "print ( data.loc[10] + data.loc[23] - data.loc[245] + data.iloc[122] )\n",
        "print( data.loc[10],\n",
        "data.loc[23],\n",
        "data.loc[245],\n",
        "data.iloc[122] )"
      ],
      "execution_count": null,
      "outputs": [
        {
          "output_type": "stream",
          "text": [
            "-70\n",
            "20 33 255 132\n"
          ],
          "name": "stdout"
        }
      ]
    },
    {
      "cell_type": "code",
      "metadata": {
        "colab": {
          "base_uri": "https://localhost:8080/",
          "height": 110
        },
        "id": "L8u7wCj-vN1k",
        "outputId": "b5ea2365-4dac-453a-beb0-9124c3328482"
      },
      "source": [
        "import pandas as pd\n",
        "df = pd.DataFrame({'col1': [1, 2], 'col2': [3, 4]}, index = ['f', 'g'])\n",
        "# df = pd.DataFrame([ [1,2,3], [2,3,4] ],\n",
        "                  # columns = ['foo', 'bar', ''], \n",
        "                  # index = ['foobar', 'foobaz'])\n",
        "display(df)\n"
      ],
      "execution_count": null,
      "outputs": [
        {
          "output_type": "display_data",
          "data": {
            "text/html": [
              "<div>\n",
              "<style scoped>\n",
              "    .dataframe tbody tr th:only-of-type {\n",
              "        vertical-align: middle;\n",
              "    }\n",
              "\n",
              "    .dataframe tbody tr th {\n",
              "        vertical-align: top;\n",
              "    }\n",
              "\n",
              "    .dataframe thead th {\n",
              "        text-align: right;\n",
              "    }\n",
              "</style>\n",
              "<table border=\"1\" class=\"dataframe\">\n",
              "  <thead>\n",
              "    <tr style=\"text-align: right;\">\n",
              "      <th></th>\n",
              "      <th>col1</th>\n",
              "      <th>col2</th>\n",
              "    </tr>\n",
              "  </thead>\n",
              "  <tbody>\n",
              "    <tr>\n",
              "      <th>f</th>\n",
              "      <td>1</td>\n",
              "      <td>3</td>\n",
              "    </tr>\n",
              "    <tr>\n",
              "      <th>g</th>\n",
              "      <td>2</td>\n",
              "      <td>4</td>\n",
              "    </tr>\n",
              "  </tbody>\n",
              "</table>\n",
              "</div>"
            ],
            "text/plain": [
              "   col1  col2\n",
              "f     1     3\n",
              "g     2     4"
            ]
          },
          "metadata": {
            "tags": []
          }
        }
      ]
    },
    {
      "cell_type": "code",
      "metadata": {
        "colab": {
          "base_uri": "https://localhost:8080/"
        },
        "id": "KmVAHX4NzL70",
        "outputId": "38a3dae6-ddd7-4f9c-f634-e02a374b6e03"
      },
      "source": [
        "addr = 'https://lms.skillfactory.ru/assets/courseware/v1/d05df2022e56c6de021ab6e54949fe6c/asset-v1:Skillfactory+DST-PRO+15APR2020+type@asset+block/data_sf.csv'\n",
        "football = pd.read_csv(addr)\n",
        "# display(football.info())\n",
        "# football.describe(include=['object'])\n",
        "# football.describe()\n",
        "# football.Composure.count()\n",
        "# football.ShortPassing.std()\n",
        "# football.Wage.sum()\n",
        "# football.Value.min()\n",
        "# football[(football.Age < football.Age.mean())&\n",
        "#         (football.Club == 'FC Barcelona')].Wage.mean()\n",
        "# round(football[football.Wage < football.Wage.mean()].SprintSpeed.mean(), 2)\n",
        "football[football.Wage == football.Wage.max()].Position\n",
        "# display (football)"
      ],
      "execution_count": null,
      "outputs": [
        {
          "output_type": "execute_result",
          "data": {
            "text/plain": [
              "0    RF\n",
              "Name: Position, dtype: object"
            ]
          },
          "metadata": {
            "tags": []
          },
          "execution_count": 82
        }
      ]
    },
    {
      "cell_type": "markdown",
      "metadata": {
        "id": "Rk0tq36KK-uJ"
      },
      "source": [
        "Задание 3, 4"
      ]
    },
    {
      "cell_type": "code",
      "metadata": {
        "colab": {
          "base_uri": "https://localhost:8080/"
        },
        "id": "aSURLJKfLEK0",
        "outputId": "5ea262e8-8930-49ff-8276-c574bd6c4195"
      },
      "source": [
        "addr = 'https://lms.skillfactory.ru/assets/courseware/v1/d05df2022e56c6de021ab6e54949fe6c/asset-v1:Skillfactory+DST-PRO+15APR2020+type@asset+block/data_sf.csv'\n",
        "football = pd.read_csv(addr)\n",
        "# football[football.Wage == football.Wage.max()].Position\n",
        "# football[football.Nationality == 'Brazil'].Penalties.sum()\n",
        "# football[football.HeadingAccuracy > 50].Age.mean()\n",
        "# football[(football.Composure > 0.9*football.Composure.max()) & (football.Reactions > 0.9*football.Reactions.max())].Age.min()\n",
        "# football [football.Age == football.Age.max()].Reactions.mean() - football [football.Age == football.Age.min()].Reactions.mean()\n",
        "# football[football.Wage > football.Wage.mean()].Nationality.describe()\n",
        "# round (football[(football.Position == 'GK') & (football.GKReflexes == football.GKReflexes.max())].Wage.mean()\n",
        "# /football[(football.Position == 'GK') & (football.GKHandling == football.GKHandling.max())].Wage.mean(), 2 )\n",
        "round (football[(football.Aggression == football.Aggression.max())].ShotPower.mean()\n",
        "/football[(football.Aggression == football.Aggression.min())].ShotPower.mean(), 2 )"
      ],
      "execution_count": null,
      "outputs": [
        {
          "output_type": "execute_result",
          "data": {
            "text/plain": [
              "2.08"
            ]
          },
          "metadata": {
            "tags": []
          },
          "execution_count": 102
        }
      ]
    },
    {
      "cell_type": "markdown",
      "metadata": {
        "id": "MD1YvlF1m7Jv"
      },
      "source": [
        "# PYTHON-6. Методы группировки данных"
      ]
    },
    {
      "cell_type": "code",
      "metadata": {
        "colab": {
          "base_uri": "https://localhost:8080/"
        },
        "id": "764Cl3cOnCbt",
        "outputId": "91b51139-5543-451e-9fb2-5e6174a84505"
      },
      "source": [
        "import pandas as pd\n",
        "addr = 'https://lms.skillfactory.ru/assets/courseware/v1/d05df2022e56c6de021ab6e54949fe6c/asset-v1:Skillfactory+DST-PRO+15APR2020+type@asset+block/data_sf.csv'\n",
        "#addr = 'D:\\gitprojects\\Skillfactory\\SkillFactory_current\\data_sf.xlt'\n",
        "df = pd.read_csv(addr)\n",
        "#df.Wage[df.Nationality == 'Spain'].value_counts(normalize = True, bins = 4)\n",
        "#df.Nationality[df.Club == \"Manchester United\"].nunique()\n",
        "#grouped_df = df.groupby(['Club','Nationality']).sum()\n",
        "#display(grouped_df)\n",
        "grouped_df = df.groupby(['Club', 'Nationality'])['Wage'].sum().sort_values(ascending=False)\n",
        "#print(grouped_df)\n",
        "#df.groupby(['Position','Nationality'])[['Wage', 'Age']].mean().sort_values(by='Age', ascending=True)\n",
        "# gbdf = df.groupby(['Position'])[['Wage']].sum().sort_values(by='Wage', ascending=False)\n",
        "# gbdf[gbdf.Wage > 5000000]\n",
        "#df.groupby(['Position'])[['Wage', 'Value']].mean().sort_values(['Value'], ascending=True)\n",
        "dfgb = df.groupby(['Club'])[['Wage']].agg(['mean','median'])\n",
        "dfgb.columns = ['mean', 'median']\n",
        "ddfgb = dfgb[dfgb['median'] == dfgb['mean']]\n",
        "# ddfgb['mean'].count()\n",
        "ddfgb[(ddfgb['mean'] == 13000)]"
      ],
      "execution_count": null,
      "outputs": [
        {
          "output_type": "execute_result",
          "data": {
            "text/plain": [
              "Index(['Cruzeiro'], dtype='object', name='Club')"
            ]
          },
          "metadata": {
            "tags": []
          },
          "execution_count": 6
        }
      ]
    },
    {
      "cell_type": "markdown",
      "metadata": {
        "id": "FtTjVjwseq2k"
      },
      "source": [
        "6.10 Задачи"
      ]
    },
    {
      "cell_type": "code",
      "metadata": {
        "id": "W4oAMHwoetqa",
        "colab": {
          "base_uri": "https://localhost:8080/",
          "height": 35
        },
        "outputId": "8f1249a5-139a-4c33-df37-89ab268195c3"
      },
      "source": [
        "import pandas as pd\n",
        "addr = 'https://lms.skillfactory.ru/assets/courseware/v1/d05df2022e56c6de021ab6e54949fe6c/asset-v1:Skillfactory+DST-PRO+15APR2020+type@asset+block/data_sf.csv'\n",
        "df = pd.read_csv(addr)\n",
        "# gdf = df.groupby(['Club'])['Wage'].sum()['Chelsea'] #.sort_values(ascending = True)\n",
        "# df.Wage[(df.Nationality == 'Argentina') & (df.Age == 30)].min()\n",
        "str (df.Strength[(df.Nationality == 'Argentina') & (df.Club == \"FC Barcelona\")].max()) + ';' + str (df.Balance[(df.Nationality == 'Argentina') & (df.Club == \"FC Barcelona\")].max())\n"
      ],
      "execution_count": null,
      "outputs": [
        {
          "output_type": "execute_result",
          "data": {
            "application/vnd.google.colaboratory.intrinsic+json": {
              "type": "string"
            },
            "text/plain": [
              "'59;95'"
            ]
          },
          "metadata": {
            "tags": []
          },
          "execution_count": 17
        }
      ]
    },
    {
      "cell_type": "markdown",
      "metadata": {
        "id": "AnLy9UDDO7vb"
      },
      "source": [
        "Сводные таблицы"
      ]
    },
    {
      "cell_type": "code",
      "metadata": {
        "colab": {
          "base_uri": "https://localhost:8080/",
          "height": 815
        },
        "id": "9_wkNzQ1O5bT",
        "outputId": "f8c6a5ca-ceff-44bf-b704-d9e04bde9742"
      },
      "source": [
        "import pandas as pd\n",
        "addr = 'https://lms.skillfactory.ru/assets/courseware/v1/d05df2022e56c6de021ab6e54949fe6c/asset-v1:Skillfactory+DST-PRO+15APR2020+type@asset+block/data_sf.csv'\n",
        "df = pd.read_csv(addr)\n",
        "pivot = df.loc[df['Club'].isin(['FC Barcelona','Real Madrid','Juventus','Manchester United'])].pivot_table(values=['Wage'],\n",
        "index=['Nationality'],\n",
        "columns=['Club'],\n",
        "aggfunc='sum',\n",
        "fill_value=0)\n",
        "display(pivot)"
      ],
      "execution_count": 4,
      "outputs": [
        {
          "output_type": "display_data",
          "data": {
            "text/html": [
              "<div>\n",
              "<style scoped>\n",
              "    .dataframe tbody tr th:only-of-type {\n",
              "        vertical-align: middle;\n",
              "    }\n",
              "\n",
              "    .dataframe tbody tr th {\n",
              "        vertical-align: top;\n",
              "    }\n",
              "\n",
              "    .dataframe thead tr th {\n",
              "        text-align: left;\n",
              "    }\n",
              "\n",
              "    .dataframe thead tr:last-of-type th {\n",
              "        text-align: right;\n",
              "    }\n",
              "</style>\n",
              "<table border=\"1\" class=\"dataframe\">\n",
              "  <thead>\n",
              "    <tr>\n",
              "      <th></th>\n",
              "      <th colspan=\"4\" halign=\"left\">Wage</th>\n",
              "    </tr>\n",
              "    <tr>\n",
              "      <th>Club</th>\n",
              "      <th>FC Barcelona</th>\n",
              "      <th>Juventus</th>\n",
              "      <th>Manchester United</th>\n",
              "      <th>Real Madrid</th>\n",
              "    </tr>\n",
              "    <tr>\n",
              "      <th>Nationality</th>\n",
              "      <th></th>\n",
              "      <th></th>\n",
              "      <th></th>\n",
              "      <th></th>\n",
              "    </tr>\n",
              "  </thead>\n",
              "  <tbody>\n",
              "    <tr>\n",
              "      <th>Argentina</th>\n",
              "      <td>565000</td>\n",
              "      <td>205000</td>\n",
              "      <td>206000</td>\n",
              "      <td>0</td>\n",
              "    </tr>\n",
              "    <tr>\n",
              "      <th>Belgium</th>\n",
              "      <td>110000</td>\n",
              "      <td>0</td>\n",
              "      <td>230000</td>\n",
              "      <td>240000</td>\n",
              "    </tr>\n",
              "    <tr>\n",
              "      <th>Bosnia Herzegovina</th>\n",
              "      <td>0</td>\n",
              "      <td>180000</td>\n",
              "      <td>0</td>\n",
              "      <td>0</td>\n",
              "    </tr>\n",
              "    <tr>\n",
              "      <th>Brazil</th>\n",
              "      <td>465000</td>\n",
              "      <td>335000</td>\n",
              "      <td>91000</td>\n",
              "      <td>570000</td>\n",
              "    </tr>\n",
              "    <tr>\n",
              "      <th>Chile</th>\n",
              "      <td>205000</td>\n",
              "      <td>0</td>\n",
              "      <td>215000</td>\n",
              "      <td>0</td>\n",
              "    </tr>\n",
              "    <tr>\n",
              "      <th>Costa Rica</th>\n",
              "      <td>0</td>\n",
              "      <td>0</td>\n",
              "      <td>0</td>\n",
              "      <td>195000</td>\n",
              "    </tr>\n",
              "    <tr>\n",
              "      <th>Croatia</th>\n",
              "      <td>260000</td>\n",
              "      <td>160000</td>\n",
              "      <td>0</td>\n",
              "      <td>420000</td>\n",
              "    </tr>\n",
              "    <tr>\n",
              "      <th>Dominican Republic</th>\n",
              "      <td>0</td>\n",
              "      <td>0</td>\n",
              "      <td>0</td>\n",
              "      <td>140000</td>\n",
              "    </tr>\n",
              "    <tr>\n",
              "      <th>Ecuador</th>\n",
              "      <td>0</td>\n",
              "      <td>0</td>\n",
              "      <td>120000</td>\n",
              "      <td>0</td>\n",
              "    </tr>\n",
              "    <tr>\n",
              "      <th>England</th>\n",
              "      <td>0</td>\n",
              "      <td>0</td>\n",
              "      <td>478000</td>\n",
              "      <td>0</td>\n",
              "    </tr>\n",
              "    <tr>\n",
              "      <th>France</th>\n",
              "      <td>495000</td>\n",
              "      <td>145000</td>\n",
              "      <td>375000</td>\n",
              "      <td>459000</td>\n",
              "    </tr>\n",
              "    <tr>\n",
              "      <th>Germany</th>\n",
              "      <td>240000</td>\n",
              "      <td>160000</td>\n",
              "      <td>0</td>\n",
              "      <td>355000</td>\n",
              "    </tr>\n",
              "    <tr>\n",
              "      <th>Italy</th>\n",
              "      <td>0</td>\n",
              "      <td>460000</td>\n",
              "      <td>88000</td>\n",
              "      <td>0</td>\n",
              "    </tr>\n",
              "    <tr>\n",
              "      <th>Ivory Coast</th>\n",
              "      <td>0</td>\n",
              "      <td>0</td>\n",
              "      <td>105000</td>\n",
              "      <td>0</td>\n",
              "    </tr>\n",
              "    <tr>\n",
              "      <th>Morocco</th>\n",
              "      <td>0</td>\n",
              "      <td>160000</td>\n",
              "      <td>0</td>\n",
              "      <td>0</td>\n",
              "    </tr>\n",
              "    <tr>\n",
              "      <th>Netherlands</th>\n",
              "      <td>135000</td>\n",
              "      <td>0</td>\n",
              "      <td>0</td>\n",
              "      <td>0</td>\n",
              "    </tr>\n",
              "    <tr>\n",
              "      <th>Poland</th>\n",
              "      <td>0</td>\n",
              "      <td>125000</td>\n",
              "      <td>0</td>\n",
              "      <td>0</td>\n",
              "    </tr>\n",
              "    <tr>\n",
              "      <th>Portugal</th>\n",
              "      <td>125000</td>\n",
              "      <td>405000</td>\n",
              "      <td>0</td>\n",
              "      <td>0</td>\n",
              "    </tr>\n",
              "    <tr>\n",
              "      <th>Scotland</th>\n",
              "      <td>0</td>\n",
              "      <td>0</td>\n",
              "      <td>11000</td>\n",
              "      <td>0</td>\n",
              "    </tr>\n",
              "    <tr>\n",
              "      <th>Serbia</th>\n",
              "      <td>0</td>\n",
              "      <td>0</td>\n",
              "      <td>165000</td>\n",
              "      <td>0</td>\n",
              "    </tr>\n",
              "    <tr>\n",
              "      <th>Spain</th>\n",
              "      <td>912000</td>\n",
              "      <td>0</td>\n",
              "      <td>260000</td>\n",
              "      <td>1404000</td>\n",
              "    </tr>\n",
              "    <tr>\n",
              "      <th>Uruguay</th>\n",
              "      <td>455000</td>\n",
              "      <td>0</td>\n",
              "      <td>0</td>\n",
              "      <td>0</td>\n",
              "    </tr>\n",
              "    <tr>\n",
              "      <th>Wales</th>\n",
              "      <td>0</td>\n",
              "      <td>0</td>\n",
              "      <td>13000</td>\n",
              "      <td>355000</td>\n",
              "    </tr>\n",
              "  </tbody>\n",
              "</table>\n",
              "</div>"
            ],
            "text/plain": [
              "                           Wage                                       \n",
              "Club               FC Barcelona Juventus Manchester United Real Madrid\n",
              "Nationality                                                           \n",
              "Argentina                565000   205000            206000           0\n",
              "Belgium                  110000        0            230000      240000\n",
              "Bosnia Herzegovina            0   180000                 0           0\n",
              "Brazil                   465000   335000             91000      570000\n",
              "Chile                    205000        0            215000           0\n",
              "Costa Rica                    0        0                 0      195000\n",
              "Croatia                  260000   160000                 0      420000\n",
              "Dominican Republic            0        0                 0      140000\n",
              "Ecuador                       0        0            120000           0\n",
              "England                       0        0            478000           0\n",
              "France                   495000   145000            375000      459000\n",
              "Germany                  240000   160000                 0      355000\n",
              "Italy                         0   460000             88000           0\n",
              "Ivory Coast                   0        0            105000           0\n",
              "Morocco                       0   160000                 0           0\n",
              "Netherlands              135000        0                 0           0\n",
              "Poland                        0   125000                 0           0\n",
              "Portugal                 125000   405000                 0           0\n",
              "Scotland                      0        0             11000           0\n",
              "Serbia                        0        0            165000           0\n",
              "Spain                    912000        0            260000     1404000\n",
              "Uruguay                  455000        0                 0           0\n",
              "Wales                         0        0             13000      355000"
            ]
          },
          "metadata": {
            "tags": []
          }
        }
      ]
    }
  ]
}