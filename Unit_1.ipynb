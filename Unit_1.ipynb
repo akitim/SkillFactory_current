{
  "nbformat": 4,
  "nbformat_minor": 0,
  "metadata": {
    "colab": {
      "name": "Unit 1.ipynb",
      "provenance": [],
      "collapsed_sections": [],
      "include_colab_link": true
    },
    "kernelspec": {
      "name": "python3",
      "display_name": "Python 3"
    },
    "language_info": {
      "name": "python"
    }
  },
  "cells": [
    {
      "cell_type": "markdown",
      "metadata": {
        "id": "view-in-github",
        "colab_type": "text"
      },
      "source": [
        "<a href=\"https://colab.research.google.com/github/akitim/SkillFactory_current/blob/main/Unit_1.ipynb\" target=\"_parent\"><img src=\"https://colab.research.google.com/assets/colab-badge.svg\" alt=\"Open In Colab\"/></a>"
      ]
    },
    {
      "cell_type": "markdown",
      "metadata": {
        "id": "QtqI59xnmv1F"
      },
      "source": [
        "# Python 5"
      ]
    },
    {
      "cell_type": "code",
      "metadata": {
        "colab": {
          "base_uri": "https://localhost:8080/",
          "height": 191
        },
        "id": "8JmF6Ud4md3u",
        "outputId": "33093e73-ccd8-4ecd-8240-c3f9339fea16"
      },
      "source": [
        "import pandas as pd\n",
        "\n",
        "data = pd.Series([\"Январь\", \"Февраль\", \"Март\", \"Апрель\"],\n",
        "                 index = ['Первый', \"Второй\", \"Третий\", \"Четвёртый\"])\n",
        "print(data)\n",
        "display(data)\n",
        "# display(data.loc[\"Первый\"])\n",
        "# display(data.loc[\"Первый\"])\n",
        "# print(data.loc[[\"Первый\", \"Третий\"]])"
      ],
      "execution_count": null,
      "outputs": [
        {
          "output_type": "stream",
          "text": [
            "Первый        Январь\n",
            "Второй       Февраль\n",
            "Третий          Март\n",
            "Четвёртый     Апрель\n",
            "dtype: object\n"
          ],
          "name": "stdout"
        },
        {
          "output_type": "display_data",
          "data": {
            "text/plain": [
              "Первый        Январь\n",
              "Второй       Февраль\n",
              "Третий          Март\n",
              "Четвёртый     Апрель\n",
              "dtype: object"
            ]
          },
          "metadata": {
            "tags": []
          }
        }
      ]
    },
    {
      "cell_type": "code",
      "metadata": {
        "colab": {
          "base_uri": "https://localhost:8080/"
        },
        "id": "vyh5IsKoszJA",
        "outputId": "d5fbe5ad-415c-4e40-9c38-20bc4d5c35e7"
      },
      "source": [
        "data = pd.Series(list(range(10, 1001)))\n",
        "print ( data.loc[10] + data.loc[23] - data.loc[245] + data.iloc[122] )\n",
        "print( data.loc[10],\n",
        "data.loc[23],\n",
        "data.loc[245],\n",
        "data.iloc[122] )"
      ],
      "execution_count": null,
      "outputs": [
        {
          "output_type": "stream",
          "text": [
            "-70\n",
            "20 33 255 132\n"
          ],
          "name": "stdout"
        }
      ]
    },
    {
      "cell_type": "code",
      "metadata": {
        "colab": {
          "base_uri": "https://localhost:8080/",
          "height": 110
        },
        "id": "L8u7wCj-vN1k",
        "outputId": "b5ea2365-4dac-453a-beb0-9124c3328482"
      },
      "source": [
        "import pandas as pd\n",
        "df = pd.DataFrame({'col1': [1, 2], 'col2': [3, 4]}, index = ['f', 'g'])\n",
        "# df = pd.DataFrame([ [1,2,3], [2,3,4] ],\n",
        "                  # columns = ['foo', 'bar', ''], \n",
        "                  # index = ['foobar', 'foobaz'])\n",
        "display(df)\n"
      ],
      "execution_count": null,
      "outputs": [
        {
          "output_type": "display_data",
          "data": {
            "text/html": [
              "<div>\n",
              "<style scoped>\n",
              "    .dataframe tbody tr th:only-of-type {\n",
              "        vertical-align: middle;\n",
              "    }\n",
              "\n",
              "    .dataframe tbody tr th {\n",
              "        vertical-align: top;\n",
              "    }\n",
              "\n",
              "    .dataframe thead th {\n",
              "        text-align: right;\n",
              "    }\n",
              "</style>\n",
              "<table border=\"1\" class=\"dataframe\">\n",
              "  <thead>\n",
              "    <tr style=\"text-align: right;\">\n",
              "      <th></th>\n",
              "      <th>col1</th>\n",
              "      <th>col2</th>\n",
              "    </tr>\n",
              "  </thead>\n",
              "  <tbody>\n",
              "    <tr>\n",
              "      <th>f</th>\n",
              "      <td>1</td>\n",
              "      <td>3</td>\n",
              "    </tr>\n",
              "    <tr>\n",
              "      <th>g</th>\n",
              "      <td>2</td>\n",
              "      <td>4</td>\n",
              "    </tr>\n",
              "  </tbody>\n",
              "</table>\n",
              "</div>"
            ],
            "text/plain": [
              "   col1  col2\n",
              "f     1     3\n",
              "g     2     4"
            ]
          },
          "metadata": {
            "tags": []
          }
        }
      ]
    },
    {
      "cell_type": "code",
      "metadata": {
        "colab": {
          "base_uri": "https://localhost:8080/"
        },
        "id": "KmVAHX4NzL70",
        "outputId": "38a3dae6-ddd7-4f9c-f634-e02a374b6e03"
      },
      "source": [
        "addr = 'https://lms.skillfactory.ru/assets/courseware/v1/d05df2022e56c6de021ab6e54949fe6c/asset-v1:Skillfactory+DST-PRO+15APR2020+type@asset+block/data_sf.csv'\n",
        "football = pd.read_csv(addr)\n",
        "# display(football.info())\n",
        "# football.describe(include=['object'])\n",
        "# football.describe()\n",
        "# football.Composure.count()\n",
        "# football.ShortPassing.std()\n",
        "# football.Wage.sum()\n",
        "# football.Value.min()\n",
        "# football[(football.Age < football.Age.mean())&\n",
        "#         (football.Club == 'FC Barcelona')].Wage.mean()\n",
        "# round(football[football.Wage < football.Wage.mean()].SprintSpeed.mean(), 2)\n",
        "football[football.Wage == football.Wage.max()].Position\n",
        "# display (football)"
      ],
      "execution_count": null,
      "outputs": [
        {
          "output_type": "execute_result",
          "data": {
            "text/plain": [
              "0    RF\n",
              "Name: Position, dtype: object"
            ]
          },
          "metadata": {
            "tags": []
          },
          "execution_count": 82
        }
      ]
    },
    {
      "cell_type": "markdown",
      "metadata": {
        "id": "Rk0tq36KK-uJ"
      },
      "source": [
        "Задание 3, 4"
      ]
    },
    {
      "cell_type": "code",
      "metadata": {
        "colab": {
          "base_uri": "https://localhost:8080/"
        },
        "id": "aSURLJKfLEK0",
        "outputId": "5ea262e8-8930-49ff-8276-c574bd6c4195"
      },
      "source": [
        "addr = 'https://lms.skillfactory.ru/assets/courseware/v1/d05df2022e56c6de021ab6e54949fe6c/asset-v1:Skillfactory+DST-PRO+15APR2020+type@asset+block/data_sf.csv'\n",
        "football = pd.read_csv(addr)\n",
        "# football[football.Wage == football.Wage.max()].Position\n",
        "# football[football.Nationality == 'Brazil'].Penalties.sum()\n",
        "# football[football.HeadingAccuracy > 50].Age.mean()\n",
        "# football[(football.Composure > 0.9*football.Composure.max()) & (football.Reactions > 0.9*football.Reactions.max())].Age.min()\n",
        "# football [football.Age == football.Age.max()].Reactions.mean() - football [football.Age == football.Age.min()].Reactions.mean()\n",
        "# football[football.Wage > football.Wage.mean()].Nationality.describe()\n",
        "# round (football[(football.Position == 'GK') & (football.GKReflexes == football.GKReflexes.max())].Wage.mean()\n",
        "# /football[(football.Position == 'GK') & (football.GKHandling == football.GKHandling.max())].Wage.mean(), 2 )\n",
        "round (football[(football.Aggression == football.Aggression.max())].ShotPower.mean()\n",
        "/football[(football.Aggression == football.Aggression.min())].ShotPower.mean(), 2 )"
      ],
      "execution_count": null,
      "outputs": [
        {
          "output_type": "execute_result",
          "data": {
            "text/plain": [
              "2.08"
            ]
          },
          "metadata": {
            "tags": []
          },
          "execution_count": 102
        }
      ]
    },
    {
      "cell_type": "markdown",
      "metadata": {
        "id": "MD1YvlF1m7Jv"
      },
      "source": [
        "# PYTHON-6. Методы группировки данных"
      ]
    },
    {
      "cell_type": "code",
      "metadata": {
        "colab": {
          "base_uri": "https://localhost:8080/"
        },
        "id": "764Cl3cOnCbt",
        "outputId": "91b51139-5543-451e-9fb2-5e6174a84505"
      },
      "source": [
        "import pandas as pd\n",
        "addr = 'https://lms.skillfactory.ru/assets/courseware/v1/d05df2022e56c6de021ab6e54949fe6c/asset-v1:Skillfactory+DST-PRO+15APR2020+type@asset+block/data_sf.csv'\n",
        "#addr = 'D:\\gitprojects\\Skillfactory\\SkillFactory_current\\data_sf.xlt'\n",
        "df = pd.read_csv(addr)\n",
        "#df.Wage[df.Nationality == 'Spain'].value_counts(normalize = True, bins = 4)\n",
        "#df.Nationality[df.Club == \"Manchester United\"].nunique()\n",
        "#grouped_df = df.groupby(['Club','Nationality']).sum()\n",
        "#display(grouped_df)\n",
        "grouped_df = df.groupby(['Club', 'Nationality'])['Wage'].sum().sort_values(ascending=False)\n",
        "#print(grouped_df)\n",
        "#df.groupby(['Position','Nationality'])[['Wage', 'Age']].mean().sort_values(by='Age', ascending=True)\n",
        "# gbdf = df.groupby(['Position'])[['Wage']].sum().sort_values(by='Wage', ascending=False)\n",
        "# gbdf[gbdf.Wage > 5000000]\n",
        "#df.groupby(['Position'])[['Wage', 'Value']].mean().sort_values(['Value'], ascending=True)\n",
        "dfgb = df.groupby(['Club'])[['Wage']].agg(['mean','median'])\n",
        "dfgb.columns = ['mean', 'median']\n",
        "ddfgb = dfgb[dfgb['median'] == dfgb['mean']]\n",
        "# ddfgb['mean'].count()\n",
        "ddfgb[(ddfgb['mean'] == 13000)]"
      ],
      "execution_count": null,
      "outputs": [
        {
          "output_type": "execute_result",
          "data": {
            "text/plain": [
              "Index(['Cruzeiro'], dtype='object', name='Club')"
            ]
          },
          "metadata": {
            "tags": []
          },
          "execution_count": 6
        }
      ]
    },
    {
      "cell_type": "markdown",
      "metadata": {
        "id": "FtTjVjwseq2k"
      },
      "source": [
        "6.10 Задачи"
      ]
    },
    {
      "cell_type": "code",
      "metadata": {
        "id": "W4oAMHwoetqa",
        "colab": {
          "base_uri": "https://localhost:8080/"
        },
        "outputId": "84104473-4007-4ae3-f007-e7d50b17f84e"
      },
      "source": [
        "import pandas as pd\n",
        "addr = 'https://lms.skillfactory.ru/assets/courseware/v1/d05df2022e56c6de021ab6e54949fe6c/asset-v1:Skillfactory+DST-PRO+15APR2020+type@asset+block/data_sf.csv'\n",
        "df = pd.read_csv(addr)\n",
        "# display(df.head())\n",
        "gdf = df.groupby(['Club'])['Wage'].sum() #['Chelsea'] #.sort_values(ascending = True)\n",
        "gdf\n",
        "# df.Wage[(df.Nationality == 'Argentina') & (df.Age == 30)].min()\n",
        "# str (df.Strength[(df.Nationality == 'Argentina') & (df.Club == \"FC Barcelona\")].max()) + ';' + str (df.Balance[(df.Nationality == 'Argentina') & (df.Club == \"FC Barcelona\")].max())\n"
      ],
      "execution_count": 51,
      "outputs": [
        {
          "output_type": "execute_result",
          "data": {
            "text/plain": [
              "Club\n",
              " SSV Jahn Regensburg      90000\n",
              "1. FC Heidenheim 1846     76000\n",
              "1. FC Kaiserslautern      33000\n",
              "1. FC Köln                92000\n",
              "1. FC Magdeburg           84000\n",
              "                          ...  \n",
              "Zagłębie Sosnowiec        27000\n",
              "Çaykur Rizespor          118000\n",
              "Örebro SK                 36000\n",
              "Östersunds FK             39000\n",
              "Śląsk Wrocław             50000\n",
              "Name: Wage, Length: 650, dtype: int64"
            ]
          },
          "metadata": {
            "tags": []
          },
          "execution_count": 51
        }
      ]
    },
    {
      "cell_type": "markdown",
      "metadata": {
        "id": "AnLy9UDDO7vb"
      },
      "source": [
        "Сводные таблицы"
      ]
    },
    {
      "cell_type": "code",
      "metadata": {
        "colab": {
          "base_uri": "https://localhost:8080/"
        },
        "id": "9_wkNzQ1O5bT",
        "outputId": "f96746cc-e46e-47d9-8363-be612fc969cd"
      },
      "source": [
        "import pandas as pd\n",
        "addr = 'https://lms.skillfactory.ru/assets/courseware/v1/d05df2022e56c6de021ab6e54949fe6c/asset-v1:Skillfactory+DST-PRO+15APR2020+type@asset+block/data_sf.csv'\n",
        "# addr = 'https://github.com/akitim/SkillFactory_current/blob/61ca6f34cb8f07f1e82dd3f61455981c88a41454/data_sf.csv'\n",
        "df = pd.read_csv(addr)\n",
        "# pivot = df.loc[df['Club'].isin(['FC Barcelona','Real Madrid','Juventus','Manchester United'])].pivot_table(values=['Wage'],\n",
        "# index=['Nationality'],\n",
        "# columns=['Club'],\n",
        "# aggfunc='sum',\n",
        "# fill_value=0)\n",
        "# display(pivot)\n",
        "pivot = df.pivot_table (values = ['Name'],\n",
        "index = ['Club'],\n",
        "columns = ['Position']                     ,\n",
        "aggfunc = 'count',\n",
        "fill_value = 0,\n",
        "margins = False)\n",
        "pivot10 = pivot.head(10)\n",
        "# display(pivot10)\n",
        "# display(pivot10.columns)\n",
        "# display(pivot10.index)\n",
        "round (pivot.Name.GK.mean(),3)\n",
        "# pivot.Name.CM[pivot.Name.CM == 0].count()\n",
        "# pivot5.groupby(['Club'])[pivot5.Name.CM == 0].value_counts()\n",
        "\n",
        "# pivot.Name.CM.groupby (pivot.Name.CM == 0).count()\n",
        "# pivot.Name.Club[pivot.Name.CM == 0].nunique\n"
      ],
      "execution_count": null,
      "outputs": [
        {
          "output_type": "execute_result",
          "data": {
            "text/plain": [
              "2.525"
            ]
          },
          "metadata": {
            "tags": []
          },
          "execution_count": 16
        }
      ]
    },
    {
      "cell_type": "markdown",
      "metadata": {
        "id": "UQYv7WOW_wG2"
      },
      "source": [
        "6.14 Задачи"
      ]
    },
    {
      "cell_type": "code",
      "metadata": {
        "id": "IQjGA9PY_zmf",
        "colab": {
          "base_uri": "https://localhost:8080/",
          "height": 451
        },
        "outputId": "acad35c7-1aa9-458b-f962-2466f06dfc6c"
      },
      "source": [
        "import pandas as pd\n",
        "addr = 'https://lms.skillfactory.ru/assets/courseware/v1/d05df2022e56c6de021ab6e54949fe6c/asset-v1:Skillfactory+DST-PRO+15APR2020+type@asset+block/data_sf.csv'\n",
        "# addr = 'https://github.com/akitim/SkillFactory_current/blob/61ca6f34cb8f07f1e82dd3f61455981c88a41454/data_sf.csv'\n",
        "df = pd.read_csv(addr)\n",
        "pivot = df.pivot_table (values = ['Wage'],\n",
        "index = ['Club'],\n",
        "columns = ['Nationality']                     ,\n",
        "aggfunc = 'mean',\n",
        "fill_value = 0,\n",
        "margins = False)\n",
        "display(pivot.head())\n",
        "pivot.Wage.Russia.loc['AS Monaco']"
      ],
      "execution_count": null,
      "outputs": [
        {
          "output_type": "display_data",
          "data": {
            "text/html": [
              "<div>\n",
              "<style scoped>\n",
              "    .dataframe tbody tr th:only-of-type {\n",
              "        vertical-align: middle;\n",
              "    }\n",
              "\n",
              "    .dataframe tbody tr th {\n",
              "        vertical-align: top;\n",
              "    }\n",
              "\n",
              "    .dataframe thead tr th {\n",
              "        text-align: left;\n",
              "    }\n",
              "\n",
              "    .dataframe thead tr:last-of-type th {\n",
              "        text-align: right;\n",
              "    }\n",
              "</style>\n",
              "<table border=\"1\" class=\"dataframe\">\n",
              "  <thead>\n",
              "    <tr>\n",
              "      <th></th>\n",
              "      <th colspan=\"81\" halign=\"left\">Wage</th>\n",
              "    </tr>\n",
              "    <tr>\n",
              "      <th>Nationality</th>\n",
              "      <th>Afghanistan</th>\n",
              "      <th>Albania</th>\n",
              "      <th>Algeria</th>\n",
              "      <th>Andorra</th>\n",
              "      <th>Angola</th>\n",
              "      <th>Antigua &amp; Barbuda</th>\n",
              "      <th>Argentina</th>\n",
              "      <th>Armenia</th>\n",
              "      <th>Australia</th>\n",
              "      <th>Austria</th>\n",
              "      <th>Azerbaijan</th>\n",
              "      <th>Barbados</th>\n",
              "      <th>Belarus</th>\n",
              "      <th>Belgium</th>\n",
              "      <th>Belize</th>\n",
              "      <th>Benin</th>\n",
              "      <th>Bermuda</th>\n",
              "      <th>Bolivia</th>\n",
              "      <th>Bosnia Herzegovina</th>\n",
              "      <th>Botswana</th>\n",
              "      <th>Brazil</th>\n",
              "      <th>Bulgaria</th>\n",
              "      <th>Burkina Faso</th>\n",
              "      <th>Burundi</th>\n",
              "      <th>Cameroon</th>\n",
              "      <th>Canada</th>\n",
              "      <th>Cape Verde</th>\n",
              "      <th>Central African Rep.</th>\n",
              "      <th>Chile</th>\n",
              "      <th>China PR</th>\n",
              "      <th>Colombia</th>\n",
              "      <th>Comoros</th>\n",
              "      <th>Congo</th>\n",
              "      <th>Costa Rica</th>\n",
              "      <th>Croatia</th>\n",
              "      <th>Cuba</th>\n",
              "      <th>Curacao</th>\n",
              "      <th>Cyprus</th>\n",
              "      <th>Czech Republic</th>\n",
              "      <th>DR Congo</th>\n",
              "      <th>...</th>\n",
              "      <th>Poland</th>\n",
              "      <th>Portugal</th>\n",
              "      <th>Puerto Rico</th>\n",
              "      <th>Qatar</th>\n",
              "      <th>Republic of Ireland</th>\n",
              "      <th>Romania</th>\n",
              "      <th>Russia</th>\n",
              "      <th>Rwanda</th>\n",
              "      <th>Saudi Arabia</th>\n",
              "      <th>Scotland</th>\n",
              "      <th>Senegal</th>\n",
              "      <th>Serbia</th>\n",
              "      <th>Sierra Leone</th>\n",
              "      <th>Slovakia</th>\n",
              "      <th>Slovenia</th>\n",
              "      <th>South Africa</th>\n",
              "      <th>South Sudan</th>\n",
              "      <th>Spain</th>\n",
              "      <th>St Kitts Nevis</th>\n",
              "      <th>St Lucia</th>\n",
              "      <th>Sudan</th>\n",
              "      <th>Suriname</th>\n",
              "      <th>Sweden</th>\n",
              "      <th>Switzerland</th>\n",
              "      <th>Syria</th>\n",
              "      <th>Tanzania</th>\n",
              "      <th>Thailand</th>\n",
              "      <th>Togo</th>\n",
              "      <th>Trinidad &amp; Tobago</th>\n",
              "      <th>Tunisia</th>\n",
              "      <th>Turkey</th>\n",
              "      <th>Uganda</th>\n",
              "      <th>Ukraine</th>\n",
              "      <th>United States</th>\n",
              "      <th>Uruguay</th>\n",
              "      <th>Uzbekistan</th>\n",
              "      <th>Venezuela</th>\n",
              "      <th>Wales</th>\n",
              "      <th>Zambia</th>\n",
              "      <th>Zimbabwe</th>\n",
              "    </tr>\n",
              "    <tr>\n",
              "      <th>Club</th>\n",
              "      <th></th>\n",
              "      <th></th>\n",
              "      <th></th>\n",
              "      <th></th>\n",
              "      <th></th>\n",
              "      <th></th>\n",
              "      <th></th>\n",
              "      <th></th>\n",
              "      <th></th>\n",
              "      <th></th>\n",
              "      <th></th>\n",
              "      <th></th>\n",
              "      <th></th>\n",
              "      <th></th>\n",
              "      <th></th>\n",
              "      <th></th>\n",
              "      <th></th>\n",
              "      <th></th>\n",
              "      <th></th>\n",
              "      <th></th>\n",
              "      <th></th>\n",
              "      <th></th>\n",
              "      <th></th>\n",
              "      <th></th>\n",
              "      <th></th>\n",
              "      <th></th>\n",
              "      <th></th>\n",
              "      <th></th>\n",
              "      <th></th>\n",
              "      <th></th>\n",
              "      <th></th>\n",
              "      <th></th>\n",
              "      <th></th>\n",
              "      <th></th>\n",
              "      <th></th>\n",
              "      <th></th>\n",
              "      <th></th>\n",
              "      <th></th>\n",
              "      <th></th>\n",
              "      <th></th>\n",
              "      <th></th>\n",
              "      <th></th>\n",
              "      <th></th>\n",
              "      <th></th>\n",
              "      <th></th>\n",
              "      <th></th>\n",
              "      <th></th>\n",
              "      <th></th>\n",
              "      <th></th>\n",
              "      <th></th>\n",
              "      <th></th>\n",
              "      <th></th>\n",
              "      <th></th>\n",
              "      <th></th>\n",
              "      <th></th>\n",
              "      <th></th>\n",
              "      <th></th>\n",
              "      <th></th>\n",
              "      <th></th>\n",
              "      <th></th>\n",
              "      <th></th>\n",
              "      <th></th>\n",
              "      <th></th>\n",
              "      <th></th>\n",
              "      <th></th>\n",
              "      <th></th>\n",
              "      <th></th>\n",
              "      <th></th>\n",
              "      <th></th>\n",
              "      <th></th>\n",
              "      <th></th>\n",
              "      <th></th>\n",
              "      <th></th>\n",
              "      <th></th>\n",
              "      <th></th>\n",
              "      <th></th>\n",
              "      <th></th>\n",
              "      <th></th>\n",
              "      <th></th>\n",
              "      <th></th>\n",
              "      <th></th>\n",
              "    </tr>\n",
              "  </thead>\n",
              "  <tbody>\n",
              "    <tr>\n",
              "      <th>SSV Jahn Regensburg</th>\n",
              "      <td>0</td>\n",
              "      <td>0</td>\n",
              "      <td>0</td>\n",
              "      <td>0</td>\n",
              "      <td>0</td>\n",
              "      <td>0</td>\n",
              "      <td>0.0</td>\n",
              "      <td>0</td>\n",
              "      <td>0.0</td>\n",
              "      <td>0.0</td>\n",
              "      <td>0</td>\n",
              "      <td>0</td>\n",
              "      <td>0</td>\n",
              "      <td>0.0</td>\n",
              "      <td>0</td>\n",
              "      <td>0</td>\n",
              "      <td>0</td>\n",
              "      <td>0</td>\n",
              "      <td>0</td>\n",
              "      <td>0</td>\n",
              "      <td>0.0</td>\n",
              "      <td>0</td>\n",
              "      <td>0</td>\n",
              "      <td>0</td>\n",
              "      <td>0</td>\n",
              "      <td>0.0</td>\n",
              "      <td>0</td>\n",
              "      <td>0</td>\n",
              "      <td>0.0</td>\n",
              "      <td>0.0</td>\n",
              "      <td>0.0</td>\n",
              "      <td>0</td>\n",
              "      <td>0</td>\n",
              "      <td>0</td>\n",
              "      <td>0.0</td>\n",
              "      <td>0</td>\n",
              "      <td>0</td>\n",
              "      <td>0</td>\n",
              "      <td>0</td>\n",
              "      <td>0</td>\n",
              "      <td>...</td>\n",
              "      <td>4000.0</td>\n",
              "      <td>0.0</td>\n",
              "      <td>0</td>\n",
              "      <td>0</td>\n",
              "      <td>0.0</td>\n",
              "      <td>0</td>\n",
              "      <td>0</td>\n",
              "      <td>0</td>\n",
              "      <td>0.0</td>\n",
              "      <td>0.0</td>\n",
              "      <td>0.0</td>\n",
              "      <td>0.0</td>\n",
              "      <td>0</td>\n",
              "      <td>0</td>\n",
              "      <td>0</td>\n",
              "      <td>0</td>\n",
              "      <td>0</td>\n",
              "      <td>0.0</td>\n",
              "      <td>0</td>\n",
              "      <td>0</td>\n",
              "      <td>0</td>\n",
              "      <td>0</td>\n",
              "      <td>0.0</td>\n",
              "      <td>0.0</td>\n",
              "      <td>0</td>\n",
              "      <td>0</td>\n",
              "      <td>0</td>\n",
              "      <td>0</td>\n",
              "      <td>0</td>\n",
              "      <td>0</td>\n",
              "      <td>0.0</td>\n",
              "      <td>0</td>\n",
              "      <td>0</td>\n",
              "      <td>0.0</td>\n",
              "      <td>0.0</td>\n",
              "      <td>0</td>\n",
              "      <td>0</td>\n",
              "      <td>0.0</td>\n",
              "      <td>0</td>\n",
              "      <td>0</td>\n",
              "    </tr>\n",
              "    <tr>\n",
              "      <th>1. FC Heidenheim 1846</th>\n",
              "      <td>0</td>\n",
              "      <td>0</td>\n",
              "      <td>0</td>\n",
              "      <td>0</td>\n",
              "      <td>0</td>\n",
              "      <td>0</td>\n",
              "      <td>0.0</td>\n",
              "      <td>0</td>\n",
              "      <td>0.0</td>\n",
              "      <td>0.0</td>\n",
              "      <td>0</td>\n",
              "      <td>0</td>\n",
              "      <td>0</td>\n",
              "      <td>0.0</td>\n",
              "      <td>0</td>\n",
              "      <td>0</td>\n",
              "      <td>0</td>\n",
              "      <td>0</td>\n",
              "      <td>0</td>\n",
              "      <td>0</td>\n",
              "      <td>0.0</td>\n",
              "      <td>0</td>\n",
              "      <td>0</td>\n",
              "      <td>0</td>\n",
              "      <td>0</td>\n",
              "      <td>0.0</td>\n",
              "      <td>0</td>\n",
              "      <td>0</td>\n",
              "      <td>0.0</td>\n",
              "      <td>0.0</td>\n",
              "      <td>0.0</td>\n",
              "      <td>0</td>\n",
              "      <td>0</td>\n",
              "      <td>0</td>\n",
              "      <td>0.0</td>\n",
              "      <td>0</td>\n",
              "      <td>0</td>\n",
              "      <td>0</td>\n",
              "      <td>0</td>\n",
              "      <td>0</td>\n",
              "      <td>...</td>\n",
              "      <td>0.0</td>\n",
              "      <td>0.0</td>\n",
              "      <td>0</td>\n",
              "      <td>0</td>\n",
              "      <td>0.0</td>\n",
              "      <td>0</td>\n",
              "      <td>0</td>\n",
              "      <td>0</td>\n",
              "      <td>0.0</td>\n",
              "      <td>0.0</td>\n",
              "      <td>0.0</td>\n",
              "      <td>0.0</td>\n",
              "      <td>0</td>\n",
              "      <td>0</td>\n",
              "      <td>0</td>\n",
              "      <td>0</td>\n",
              "      <td>0</td>\n",
              "      <td>0.0</td>\n",
              "      <td>0</td>\n",
              "      <td>0</td>\n",
              "      <td>0</td>\n",
              "      <td>0</td>\n",
              "      <td>0.0</td>\n",
              "      <td>0.0</td>\n",
              "      <td>0</td>\n",
              "      <td>0</td>\n",
              "      <td>0</td>\n",
              "      <td>0</td>\n",
              "      <td>0</td>\n",
              "      <td>0</td>\n",
              "      <td>0.0</td>\n",
              "      <td>0</td>\n",
              "      <td>0</td>\n",
              "      <td>0.0</td>\n",
              "      <td>0.0</td>\n",
              "      <td>0</td>\n",
              "      <td>0</td>\n",
              "      <td>0.0</td>\n",
              "      <td>0</td>\n",
              "      <td>0</td>\n",
              "    </tr>\n",
              "    <tr>\n",
              "      <th>1. FC Kaiserslautern</th>\n",
              "      <td>0</td>\n",
              "      <td>0</td>\n",
              "      <td>0</td>\n",
              "      <td>0</td>\n",
              "      <td>0</td>\n",
              "      <td>0</td>\n",
              "      <td>0.0</td>\n",
              "      <td>0</td>\n",
              "      <td>0.0</td>\n",
              "      <td>0.0</td>\n",
              "      <td>0</td>\n",
              "      <td>0</td>\n",
              "      <td>0</td>\n",
              "      <td>0.0</td>\n",
              "      <td>0</td>\n",
              "      <td>0</td>\n",
              "      <td>0</td>\n",
              "      <td>0</td>\n",
              "      <td>0</td>\n",
              "      <td>0</td>\n",
              "      <td>0.0</td>\n",
              "      <td>0</td>\n",
              "      <td>0</td>\n",
              "      <td>0</td>\n",
              "      <td>0</td>\n",
              "      <td>2000.0</td>\n",
              "      <td>0</td>\n",
              "      <td>0</td>\n",
              "      <td>0.0</td>\n",
              "      <td>0.0</td>\n",
              "      <td>0.0</td>\n",
              "      <td>0</td>\n",
              "      <td>0</td>\n",
              "      <td>0</td>\n",
              "      <td>0.0</td>\n",
              "      <td>0</td>\n",
              "      <td>0</td>\n",
              "      <td>0</td>\n",
              "      <td>0</td>\n",
              "      <td>0</td>\n",
              "      <td>...</td>\n",
              "      <td>0.0</td>\n",
              "      <td>0.0</td>\n",
              "      <td>0</td>\n",
              "      <td>0</td>\n",
              "      <td>0.0</td>\n",
              "      <td>0</td>\n",
              "      <td>0</td>\n",
              "      <td>0</td>\n",
              "      <td>0.0</td>\n",
              "      <td>0.0</td>\n",
              "      <td>0.0</td>\n",
              "      <td>0.0</td>\n",
              "      <td>0</td>\n",
              "      <td>0</td>\n",
              "      <td>0</td>\n",
              "      <td>0</td>\n",
              "      <td>0</td>\n",
              "      <td>0.0</td>\n",
              "      <td>0</td>\n",
              "      <td>0</td>\n",
              "      <td>0</td>\n",
              "      <td>0</td>\n",
              "      <td>0.0</td>\n",
              "      <td>0.0</td>\n",
              "      <td>0</td>\n",
              "      <td>0</td>\n",
              "      <td>0</td>\n",
              "      <td>0</td>\n",
              "      <td>0</td>\n",
              "      <td>0</td>\n",
              "      <td>1000.0</td>\n",
              "      <td>0</td>\n",
              "      <td>0</td>\n",
              "      <td>0.0</td>\n",
              "      <td>0.0</td>\n",
              "      <td>0</td>\n",
              "      <td>0</td>\n",
              "      <td>0.0</td>\n",
              "      <td>0</td>\n",
              "      <td>0</td>\n",
              "    </tr>\n",
              "    <tr>\n",
              "      <th>1. FC Köln</th>\n",
              "      <td>0</td>\n",
              "      <td>0</td>\n",
              "      <td>0</td>\n",
              "      <td>0</td>\n",
              "      <td>0</td>\n",
              "      <td>0</td>\n",
              "      <td>0.0</td>\n",
              "      <td>0</td>\n",
              "      <td>0.0</td>\n",
              "      <td>18000.0</td>\n",
              "      <td>0</td>\n",
              "      <td>0</td>\n",
              "      <td>0</td>\n",
              "      <td>0.0</td>\n",
              "      <td>0</td>\n",
              "      <td>0</td>\n",
              "      <td>0</td>\n",
              "      <td>0</td>\n",
              "      <td>0</td>\n",
              "      <td>0</td>\n",
              "      <td>0.0</td>\n",
              "      <td>0</td>\n",
              "      <td>0</td>\n",
              "      <td>0</td>\n",
              "      <td>0</td>\n",
              "      <td>0.0</td>\n",
              "      <td>0</td>\n",
              "      <td>0</td>\n",
              "      <td>0.0</td>\n",
              "      <td>0.0</td>\n",
              "      <td>0.0</td>\n",
              "      <td>0</td>\n",
              "      <td>0</td>\n",
              "      <td>0</td>\n",
              "      <td>0.0</td>\n",
              "      <td>0</td>\n",
              "      <td>0</td>\n",
              "      <td>0</td>\n",
              "      <td>0</td>\n",
              "      <td>0</td>\n",
              "      <td>...</td>\n",
              "      <td>0.0</td>\n",
              "      <td>0.0</td>\n",
              "      <td>0</td>\n",
              "      <td>0</td>\n",
              "      <td>0.0</td>\n",
              "      <td>0</td>\n",
              "      <td>0</td>\n",
              "      <td>0</td>\n",
              "      <td>0.0</td>\n",
              "      <td>0.0</td>\n",
              "      <td>0.0</td>\n",
              "      <td>0.0</td>\n",
              "      <td>0</td>\n",
              "      <td>0</td>\n",
              "      <td>0</td>\n",
              "      <td>0</td>\n",
              "      <td>0</td>\n",
              "      <td>0.0</td>\n",
              "      <td>0</td>\n",
              "      <td>0</td>\n",
              "      <td>0</td>\n",
              "      <td>0</td>\n",
              "      <td>0.0</td>\n",
              "      <td>0.0</td>\n",
              "      <td>0</td>\n",
              "      <td>0</td>\n",
              "      <td>0</td>\n",
              "      <td>0</td>\n",
              "      <td>0</td>\n",
              "      <td>0</td>\n",
              "      <td>0.0</td>\n",
              "      <td>0</td>\n",
              "      <td>0</td>\n",
              "      <td>1000.0</td>\n",
              "      <td>0.0</td>\n",
              "      <td>0</td>\n",
              "      <td>0</td>\n",
              "      <td>0.0</td>\n",
              "      <td>0</td>\n",
              "      <td>0</td>\n",
              "    </tr>\n",
              "    <tr>\n",
              "      <th>1. FC Magdeburg</th>\n",
              "      <td>0</td>\n",
              "      <td>0</td>\n",
              "      <td>0</td>\n",
              "      <td>0</td>\n",
              "      <td>0</td>\n",
              "      <td>0</td>\n",
              "      <td>0.0</td>\n",
              "      <td>0</td>\n",
              "      <td>0.0</td>\n",
              "      <td>0.0</td>\n",
              "      <td>0</td>\n",
              "      <td>0</td>\n",
              "      <td>0</td>\n",
              "      <td>0.0</td>\n",
              "      <td>0</td>\n",
              "      <td>0</td>\n",
              "      <td>0</td>\n",
              "      <td>0</td>\n",
              "      <td>6000</td>\n",
              "      <td>0</td>\n",
              "      <td>0.0</td>\n",
              "      <td>0</td>\n",
              "      <td>0</td>\n",
              "      <td>0</td>\n",
              "      <td>0</td>\n",
              "      <td>0.0</td>\n",
              "      <td>0</td>\n",
              "      <td>0</td>\n",
              "      <td>0.0</td>\n",
              "      <td>0.0</td>\n",
              "      <td>0.0</td>\n",
              "      <td>0</td>\n",
              "      <td>0</td>\n",
              "      <td>0</td>\n",
              "      <td>0.0</td>\n",
              "      <td>0</td>\n",
              "      <td>0</td>\n",
              "      <td>0</td>\n",
              "      <td>0</td>\n",
              "      <td>0</td>\n",
              "      <td>...</td>\n",
              "      <td>0.0</td>\n",
              "      <td>0.0</td>\n",
              "      <td>0</td>\n",
              "      <td>0</td>\n",
              "      <td>0.0</td>\n",
              "      <td>0</td>\n",
              "      <td>0</td>\n",
              "      <td>0</td>\n",
              "      <td>0.0</td>\n",
              "      <td>0.0</td>\n",
              "      <td>0.0</td>\n",
              "      <td>0.0</td>\n",
              "      <td>0</td>\n",
              "      <td>0</td>\n",
              "      <td>0</td>\n",
              "      <td>0</td>\n",
              "      <td>0</td>\n",
              "      <td>0.0</td>\n",
              "      <td>0</td>\n",
              "      <td>0</td>\n",
              "      <td>0</td>\n",
              "      <td>0</td>\n",
              "      <td>0.0</td>\n",
              "      <td>0.0</td>\n",
              "      <td>0</td>\n",
              "      <td>0</td>\n",
              "      <td>0</td>\n",
              "      <td>0</td>\n",
              "      <td>0</td>\n",
              "      <td>0</td>\n",
              "      <td>0.0</td>\n",
              "      <td>0</td>\n",
              "      <td>0</td>\n",
              "      <td>0.0</td>\n",
              "      <td>0.0</td>\n",
              "      <td>0</td>\n",
              "      <td>0</td>\n",
              "      <td>0.0</td>\n",
              "      <td>0</td>\n",
              "      <td>0</td>\n",
              "    </tr>\n",
              "  </tbody>\n",
              "</table>\n",
              "<p>5 rows × 156 columns</p>\n",
              "</div>"
            ],
            "text/plain": [
              "                             Wage                  ...                      \n",
              "Nationality           Afghanistan Albania Algeria  ... Wales Zambia Zimbabwe\n",
              "Club                                               ...                      \n",
              " SSV Jahn Regensburg            0       0       0  ...   0.0      0        0\n",
              "1. FC Heidenheim 1846           0       0       0  ...   0.0      0        0\n",
              "1. FC Kaiserslautern            0       0       0  ...   0.0      0        0\n",
              "1. FC Köln                      0       0       0  ...   0.0      0        0\n",
              "1. FC Magdeburg                 0       0       0  ...   0.0      0        0\n",
              "\n",
              "[5 rows x 156 columns]"
            ]
          },
          "metadata": {
            "tags": []
          }
        },
        {
          "output_type": "execute_result",
          "data": {
            "text/plain": [
              "61000"
            ]
          },
          "metadata": {
            "tags": []
          },
          "execution_count": 126
        }
      ]
    },
    {
      "cell_type": "code",
      "metadata": {
        "id": "O7eypAilOr-x",
        "colab": {
          "base_uri": "https://localhost:8080/"
        },
        "outputId": "ab947a9c-a1a3-479c-a266-3fb15f952cf1"
      },
      "source": [
        "import pandas as pd\n",
        "import numpy as np\n",
        "addr = 'https://lms.skillfactory.ru/assets/courseware/v1/d05df2022e56c6de021ab6e54949fe6c/asset-v1:Skillfactory+DST-PRO+15APR2020+type@asset+block/data_sf.csv'\n",
        "# addr = 'D:\\data_sf.xls'\n",
        "df = pd.read_csv(addr)\n",
        "pivot = df.pivot_table (values= ['SprintSpeed'],\n",
        "index = ['Position'],\n",
        "columns = ['Club'],\n",
        "aggfunc = 'mean',\n",
        "fill_value = 0,\n",
        "margins = True\n",
        ") #.sort_values( by = 'All')\n",
        "\n",
        "\n",
        "# display(pivot.columns, pivot.index)\n",
        "# pivot.columns.names = ['1','Position']\n",
        "\n",
        "# display(pivot.iloc[0:5,-5:651])\n",
        "# pivot.iloc[0,-1:].mean()\n",
        "# display(pivot)\n",
        "# display(pivot.SprintSpeed.All.sort_values(ascending=False))\n",
        "# print()\n",
        "# mask = df.Position in ['RB','LM', 'RM', 'CF','RWM','RS']\n",
        "df.groupby([df.Position])['SprintSpeed'].mean().sort_values(ascending = False)\n",
        "# df.Position == 'LM'| df.Position == 'RM' |\n",
        "#         df.Position == 'CF'| df.Position == 'RWM' | df.Position == 'RS'\n",
        "\n"
      ],
      "execution_count": 2,
      "outputs": [
        {
          "output_type": "execute_result",
          "data": {
            "text/plain": [
              "Position\n",
              "RF     76.333333\n",
              "LAM    76.333333\n",
              "LF     75.875000\n",
              "RW     75.417722\n",
              "RM     74.943864\n",
              "LW     74.747934\n",
              "LM     74.211538\n",
              "RAM    73.800000\n",
              "RWB    73.128571\n",
              "LWB    72.833333\n",
              "LS     72.338843\n",
              "RS     71.991228\n",
              "RB     71.186709\n",
              "LB     70.718563\n",
              "CF     69.803922\n",
              "ST     68.700397\n",
              "CAM    68.236967\n",
              "LCM    65.334764\n",
              "RCM    65.233333\n",
              "CM     64.299906\n",
              "RDM    62.152174\n",
              "LDM    62.006757\n",
              "CDM    60.813314\n",
              "LCB    58.936430\n",
              "RCB    58.239234\n",
              "CB     57.734854\n",
              "GK     37.622182\n",
              "Name: SprintSpeed, dtype: float64"
            ]
          },
          "metadata": {
            "tags": []
          },
          "execution_count": 2
        }
      ]
    },
    {
      "cell_type": "code",
      "metadata": {
        "id": "7Eai6PYm2pt6",
        "outputId": "51d492c4-36ee-4a48-adce-04f4aa8afa0f",
        "colab": {
          "base_uri": "https://localhost:8080/"
        }
      },
      "source": [
        "import pandas as pd\n",
        "addr = 'https://lms.skillfactory.ru/assets/courseware/v1/d05df2022e56c6de021ab6e54949fe6c/asset-v1:Skillfactory+DST-PRO+15APR2020+type@asset+block/data_sf.csv'\n",
        "# addr = 'D:\\data_sf.xls'\n",
        "df = pd.read_csv(addr)\n",
        "pivot = df.pivot_table (values= ['SprintSpeed'],\n",
        "index = ['Position'],\n",
        "columns = ['Club'],\n",
        "aggfunc = 'mean',\n",
        "fill_value = 0,\n",
        "margins = True\n",
        ") #.sort_values( by = 'All')\n",
        "\n",
        "# display(pivot.SprintSpeed.All.sort_values(ascending=False))\n",
        "# pivot[pivot.index = 'All'].sort_values(ascending=False)\n",
        "# pivot.loc[('Sprintspeed', 'All'),'Sprintspeed']\n",
        "# display(pivot.index, '/n/n', pivot.columns)\n",
        "\n",
        "pivot.loc['ST', :].sort_values(ascending=False).head(20)\n",
        "\n",
        "# print()\n",
        "# mask = df.Position in ['RB','LM', 'RM', 'CF','RWM','RS']\n",
        "# df.groupby([df.Position])['SprintSpeed'].mean().sort_values(ascending = False)"
      ],
      "execution_count": 47,
      "outputs": [
        {
          "output_type": "execute_result",
          "data": {
            "text/plain": [
              "             Club                  \n",
              "SprintSpeed  Vitória                   91.000000\n",
              "             Sydney FC                 88.000000\n",
              "             CD Lugo                   87.000000\n",
              "             Brøndby IF                84.666667\n",
              "             Leicester City            84.500000\n",
              "             Manchester United         84.000000\n",
              "             KRC Genk                  84.000000\n",
              "             Feyenoord                 84.000000\n",
              "             FC Zürich                 84.000000\n",
              "             FC Bayern München         84.000000\n",
              "             Gillingham                83.600000\n",
              "             Djurgårdens IF            83.000000\n",
              "             Vancouver Whitecaps FC    83.000000\n",
              "             Sevilla FC                83.000000\n",
              "             Arsenal                   83.000000\n",
              "             FC Porto                  83.000000\n",
              "             FC St. Gallen             83.000000\n",
              "             Heart of Midlothian       83.000000\n",
              "             Manchester City           82.500000\n",
              "             Lobos BUAP                82.500000\n",
              "Name: ST, dtype: float64"
            ]
          },
          "metadata": {
            "tags": []
          },
          "execution_count": 47
        }
      ]
    }
  ]
}