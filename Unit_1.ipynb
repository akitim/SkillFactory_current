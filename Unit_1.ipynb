{
  "nbformat": 4,
  "nbformat_minor": 0,
  "metadata": {
    "colab": {
      "name": "Unit 1.ipynb",
      "provenance": [],
      "collapsed_sections": [],
      "include_colab_link": true
    },
    "kernelspec": {
      "name": "python3",
      "display_name": "Python 3"
    },
    "language_info": {
      "name": "python"
    }
  },
  "cells": [
    {
      "cell_type": "markdown",
      "metadata": {
        "id": "view-in-github",
        "colab_type": "text"
      },
      "source": [
        "<a href=\"https://colab.research.google.com/github/akitim/SkillFactory_current/blob/main/Unit_1.ipynb\" target=\"_parent\"><img src=\"https://colab.research.google.com/assets/colab-badge.svg\" alt=\"Open In Colab\"/></a>"
      ]
    },
    {
      "cell_type": "markdown",
      "metadata": {
        "id": "QtqI59xnmv1F"
      },
      "source": [
        "# Python 5"
      ]
    },
    {
      "cell_type": "code",
      "metadata": {
        "colab": {
          "base_uri": "https://localhost:8080/",
          "height": 191
        },
        "id": "8JmF6Ud4md3u",
        "outputId": "33093e73-ccd8-4ecd-8240-c3f9339fea16"
      },
      "source": [
        "import pandas as pd\n",
        "\n",
        "data = pd.Series([\"Январь\", \"Февраль\", \"Март\", \"Апрель\"],\n",
        "                 index = ['Первый', \"Второй\", \"Третий\", \"Четвёртый\"])\n",
        "print(data)\n",
        "display(data)\n",
        "# display(data.loc[\"Первый\"])\n",
        "# display(data.loc[\"Первый\"])\n",
        "# print(data.loc[[\"Первый\", \"Третий\"]])"
      ],
      "execution_count": null,
      "outputs": [
        {
          "output_type": "stream",
          "text": [
            "Первый        Январь\n",
            "Второй       Февраль\n",
            "Третий          Март\n",
            "Четвёртый     Апрель\n",
            "dtype: object\n"
          ],
          "name": "stdout"
        },
        {
          "output_type": "display_data",
          "data": {
            "text/plain": [
              "Первый        Январь\n",
              "Второй       Февраль\n",
              "Третий          Март\n",
              "Четвёртый     Апрель\n",
              "dtype: object"
            ]
          },
          "metadata": {
            "tags": []
          }
        }
      ]
    },
    {
      "cell_type": "code",
      "metadata": {
        "colab": {
          "base_uri": "https://localhost:8080/"
        },
        "id": "vyh5IsKoszJA",
        "outputId": "d5fbe5ad-415c-4e40-9c38-20bc4d5c35e7"
      },
      "source": [
        "data = pd.Series(list(range(10, 1001)))\n",
        "print ( data.loc[10] + data.loc[23] - data.loc[245] + data.iloc[122] )\n",
        "print( data.loc[10],\n",
        "data.loc[23],\n",
        "data.loc[245],\n",
        "data.iloc[122] )"
      ],
      "execution_count": null,
      "outputs": [
        {
          "output_type": "stream",
          "text": [
            "-70\n",
            "20 33 255 132\n"
          ],
          "name": "stdout"
        }
      ]
    },
    {
      "cell_type": "code",
      "metadata": {
        "colab": {
          "base_uri": "https://localhost:8080/",
          "height": 110
        },
        "id": "L8u7wCj-vN1k",
        "outputId": "b5ea2365-4dac-453a-beb0-9124c3328482"
      },
      "source": [
        "import pandas as pd\n",
        "df = pd.DataFrame({'col1': [1, 2], 'col2': [3, 4]}, index = ['f', 'g'])\n",
        "# df = pd.DataFrame([ [1,2,3], [2,3,4] ],\n",
        "                  # columns = ['foo', 'bar', ''], \n",
        "                  # index = ['foobar', 'foobaz'])\n",
        "display(df)\n"
      ],
      "execution_count": null,
      "outputs": [
        {
          "output_type": "display_data",
          "data": {
            "text/html": [
              "<div>\n",
              "<style scoped>\n",
              "    .dataframe tbody tr th:only-of-type {\n",
              "        vertical-align: middle;\n",
              "    }\n",
              "\n",
              "    .dataframe tbody tr th {\n",
              "        vertical-align: top;\n",
              "    }\n",
              "\n",
              "    .dataframe thead th {\n",
              "        text-align: right;\n",
              "    }\n",
              "</style>\n",
              "<table border=\"1\" class=\"dataframe\">\n",
              "  <thead>\n",
              "    <tr style=\"text-align: right;\">\n",
              "      <th></th>\n",
              "      <th>col1</th>\n",
              "      <th>col2</th>\n",
              "    </tr>\n",
              "  </thead>\n",
              "  <tbody>\n",
              "    <tr>\n",
              "      <th>f</th>\n",
              "      <td>1</td>\n",
              "      <td>3</td>\n",
              "    </tr>\n",
              "    <tr>\n",
              "      <th>g</th>\n",
              "      <td>2</td>\n",
              "      <td>4</td>\n",
              "    </tr>\n",
              "  </tbody>\n",
              "</table>\n",
              "</div>"
            ],
            "text/plain": [
              "   col1  col2\n",
              "f     1     3\n",
              "g     2     4"
            ]
          },
          "metadata": {
            "tags": []
          }
        }
      ]
    },
    {
      "cell_type": "code",
      "metadata": {
        "colab": {
          "base_uri": "https://localhost:8080/"
        },
        "id": "KmVAHX4NzL70",
        "outputId": "38a3dae6-ddd7-4f9c-f634-e02a374b6e03"
      },
      "source": [
        "addr = 'https://lms.skillfactory.ru/assets/courseware/v1/d05df2022e56c6de021ab6e54949fe6c/asset-v1:Skillfactory+DST-PRO+15APR2020+type@asset+block/data_sf.csv'\n",
        "football = pd.read_csv(addr)\n",
        "# display(football.info())\n",
        "# football.describe(include=['object'])\n",
        "# football.describe()\n",
        "# football.Composure.count()\n",
        "# football.ShortPassing.std()\n",
        "# football.Wage.sum()\n",
        "# football.Value.min()\n",
        "# football[(football.Age < football.Age.mean())&\n",
        "#         (football.Club == 'FC Barcelona')].Wage.mean()\n",
        "# round(football[football.Wage < football.Wage.mean()].SprintSpeed.mean(), 2)\n",
        "football[football.Wage == football.Wage.max()].Position\n",
        "# display (football)"
      ],
      "execution_count": null,
      "outputs": [
        {
          "output_type": "execute_result",
          "data": {
            "text/plain": [
              "0    RF\n",
              "Name: Position, dtype: object"
            ]
          },
          "metadata": {
            "tags": []
          },
          "execution_count": 82
        }
      ]
    },
    {
      "cell_type": "markdown",
      "metadata": {
        "id": "Rk0tq36KK-uJ"
      },
      "source": [
        "Задание 3, 4"
      ]
    },
    {
      "cell_type": "code",
      "metadata": {
        "colab": {
          "base_uri": "https://localhost:8080/"
        },
        "id": "aSURLJKfLEK0",
        "outputId": "5ea262e8-8930-49ff-8276-c574bd6c4195"
      },
      "source": [
        "addr = 'https://lms.skillfactory.ru/assets/courseware/v1/d05df2022e56c6de021ab6e54949fe6c/asset-v1:Skillfactory+DST-PRO+15APR2020+type@asset+block/data_sf.csv'\n",
        "football = pd.read_csv(addr)\n",
        "# football[football.Wage == football.Wage.max()].Position\n",
        "# football[football.Nationality == 'Brazil'].Penalties.sum()\n",
        "# football[football.HeadingAccuracy > 50].Age.mean()\n",
        "# football[(football.Composure > 0.9*football.Composure.max()) & (football.Reactions > 0.9*football.Reactions.max())].Age.min()\n",
        "# football [football.Age == football.Age.max()].Reactions.mean() - football [football.Age == football.Age.min()].Reactions.mean()\n",
        "# football[football.Wage > football.Wage.mean()].Nationality.describe()\n",
        "# round (football[(football.Position == 'GK') & (football.GKReflexes == football.GKReflexes.max())].Wage.mean()\n",
        "# /football[(football.Position == 'GK') & (football.GKHandling == football.GKHandling.max())].Wage.mean(), 2 )\n",
        "round (football[(football.Aggression == football.Aggression.max())].ShotPower.mean()\n",
        "/football[(football.Aggression == football.Aggression.min())].ShotPower.mean(), 2 )"
      ],
      "execution_count": null,
      "outputs": [
        {
          "output_type": "execute_result",
          "data": {
            "text/plain": [
              "2.08"
            ]
          },
          "metadata": {
            "tags": []
          },
          "execution_count": 102
        }
      ]
    },
    {
      "cell_type": "markdown",
      "metadata": {
        "id": "MD1YvlF1m7Jv"
      },
      "source": [
        "# PYTHON-6. Методы группировки данных"
      ]
    },
    {
      "cell_type": "code",
      "metadata": {
        "colab": {
          "base_uri": "https://localhost:8080/",
          "height": 917
        },
        "id": "764Cl3cOnCbt",
        "outputId": "002836d3-4f52-44e6-8891-dbf9af7fe45f"
      },
      "source": [
        "import pandas as pd\n",
        "addr = 'https://lms.skillfactory.ru/assets/courseware/v1/d05df2022e56c6de021ab6e54949fe6c/asset-v1:Skillfactory+DST-PRO+15APR2020+type@asset+block/data_sf.csv'\n",
        "df = pd.read_csv(addr)\n",
        "#df.Wage[df.Nationality == 'Spain'].value_counts(normalize = True, bins = 4)\n",
        "#df.Nationality[df.Club == \"Manchester United\"].nunique()\n",
        "#grouped_df = df.groupby(['Club','Nationality']).sum()\n",
        "#display(grouped_df)\n",
        "grouped_df = df.groupby(['Club', 'Nationality'])['Wage'].sum().sort_values(ascending=False)\n",
        "#print(grouped_df)\n",
        "#df.groupby(['Position','Nationality'])[['Wage', 'Age']].mean().sort_values(by='Age', ascending=True)\n",
        "# gbdf = df.groupby(['Position'])[['Wage']].sum().sort_values(by='Wage', ascending=False)\n",
        "# gbdf[gbdf.Wage > 5000000]\n",
        "df.groupby(['Position'])[['Wage', 'Value']].mean().sort_values(['Value'], ascending=True)\n"
      ],
      "execution_count": 23,
      "outputs": [
        {
          "output_type": "execute_result",
          "data": {
            "text/html": [
              "<div>\n",
              "<style scoped>\n",
              "    .dataframe tbody tr th:only-of-type {\n",
              "        vertical-align: middle;\n",
              "    }\n",
              "\n",
              "    .dataframe tbody tr th {\n",
              "        vertical-align: top;\n",
              "    }\n",
              "\n",
              "    .dataframe thead th {\n",
              "        text-align: right;\n",
              "    }\n",
              "</style>\n",
              "<table border=\"1\" class=\"dataframe\">\n",
              "  <thead>\n",
              "    <tr style=\"text-align: right;\">\n",
              "      <th></th>\n",
              "      <th>Wage</th>\n",
              "      <th>Value</th>\n",
              "    </tr>\n",
              "    <tr>\n",
              "      <th>Position</th>\n",
              "      <th></th>\n",
              "      <th></th>\n",
              "    </tr>\n",
              "  </thead>\n",
              "  <tbody>\n",
              "    <tr>\n",
              "      <th>RB</th>\n",
              "      <td>5310.126582</td>\n",
              "      <td>1.248940e+06</td>\n",
              "    </tr>\n",
              "    <tr>\n",
              "      <th>CB</th>\n",
              "      <td>5328.581611</td>\n",
              "      <td>1.321251e+06</td>\n",
              "    </tr>\n",
              "    <tr>\n",
              "      <th>LB</th>\n",
              "      <td>6083.832335</td>\n",
              "      <td>1.429032e+06</td>\n",
              "    </tr>\n",
              "    <tr>\n",
              "      <th>GK</th>\n",
              "      <td>5352.833638</td>\n",
              "      <td>1.502502e+06</td>\n",
              "    </tr>\n",
              "    <tr>\n",
              "      <th>RWB</th>\n",
              "      <td>6000.000000</td>\n",
              "      <td>1.555571e+06</td>\n",
              "    </tr>\n",
              "    <tr>\n",
              "      <th>CM</th>\n",
              "      <td>5805.060918</td>\n",
              "      <td>1.617465e+06</td>\n",
              "    </tr>\n",
              "    <tr>\n",
              "      <th>CDM</th>\n",
              "      <td>7121.562952</td>\n",
              "      <td>1.658900e+06</td>\n",
              "    </tr>\n",
              "    <tr>\n",
              "      <th>CF</th>\n",
              "      <td>4862.745098</td>\n",
              "      <td>1.848627e+06</td>\n",
              "    </tr>\n",
              "    <tr>\n",
              "      <th>LWB</th>\n",
              "      <td>5783.333333</td>\n",
              "      <td>1.931333e+06</td>\n",
              "    </tr>\n",
              "    <tr>\n",
              "      <th>RM</th>\n",
              "      <td>6655.352480</td>\n",
              "      <td>2.138734e+06</td>\n",
              "    </tr>\n",
              "    <tr>\n",
              "      <th>ST</th>\n",
              "      <td>7852.513228</td>\n",
              "      <td>2.157252e+06</td>\n",
              "    </tr>\n",
              "    <tr>\n",
              "      <th>LM</th>\n",
              "      <td>7472.527473</td>\n",
              "      <td>2.466174e+06</td>\n",
              "    </tr>\n",
              "    <tr>\n",
              "      <th>LCB</th>\n",
              "      <td>9753.056235</td>\n",
              "      <td>2.636516e+06</td>\n",
              "    </tr>\n",
              "    <tr>\n",
              "      <th>RDM</th>\n",
              "      <td>11282.608696</td>\n",
              "      <td>2.692717e+06</td>\n",
              "    </tr>\n",
              "    <tr>\n",
              "      <th>CAM</th>\n",
              "      <td>8688.783570</td>\n",
              "      <td>2.963199e+06</td>\n",
              "    </tr>\n",
              "    <tr>\n",
              "      <th>RCB</th>\n",
              "      <td>11270.334928</td>\n",
              "      <td>3.009055e+06</td>\n",
              "    </tr>\n",
              "    <tr>\n",
              "      <th>LDM</th>\n",
              "      <td>10243.243243</td>\n",
              "      <td>3.369459e+06</td>\n",
              "    </tr>\n",
              "    <tr>\n",
              "      <th>RW</th>\n",
              "      <td>13822.784810</td>\n",
              "      <td>3.495738e+06</td>\n",
              "    </tr>\n",
              "    <tr>\n",
              "      <th>LW</th>\n",
              "      <td>12169.421488</td>\n",
              "      <td>3.603099e+06</td>\n",
              "    </tr>\n",
              "    <tr>\n",
              "      <th>RS</th>\n",
              "      <td>13482.456140</td>\n",
              "      <td>3.645833e+06</td>\n",
              "    </tr>\n",
              "    <tr>\n",
              "      <th>RCM</th>\n",
              "      <td>13504.166667</td>\n",
              "      <td>4.217604e+06</td>\n",
              "    </tr>\n",
              "    <tr>\n",
              "      <th>LCM</th>\n",
              "      <td>13497.854077</td>\n",
              "      <td>4.318090e+06</td>\n",
              "    </tr>\n",
              "    <tr>\n",
              "      <th>LS</th>\n",
              "      <td>15421.487603</td>\n",
              "      <td>5.848430e+06</td>\n",
              "    </tr>\n",
              "    <tr>\n",
              "      <th>RAM</th>\n",
              "      <td>11800.000000</td>\n",
              "      <td>8.345000e+06</td>\n",
              "    </tr>\n",
              "    <tr>\n",
              "      <th>LAM</th>\n",
              "      <td>61000.000000</td>\n",
              "      <td>1.324583e+07</td>\n",
              "    </tr>\n",
              "    <tr>\n",
              "      <th>RF</th>\n",
              "      <td>119000.000000</td>\n",
              "      <td>2.636583e+07</td>\n",
              "    </tr>\n",
              "    <tr>\n",
              "      <th>LF</th>\n",
              "      <td>75125.000000</td>\n",
              "      <td>2.736250e+07</td>\n",
              "    </tr>\n",
              "  </tbody>\n",
              "</table>\n",
              "</div>"
            ],
            "text/plain": [
              "                   Wage         Value\n",
              "Position                             \n",
              "RB          5310.126582  1.248940e+06\n",
              "CB          5328.581611  1.321251e+06\n",
              "LB          6083.832335  1.429032e+06\n",
              "GK          5352.833638  1.502502e+06\n",
              "RWB         6000.000000  1.555571e+06\n",
              "CM          5805.060918  1.617465e+06\n",
              "CDM         7121.562952  1.658900e+06\n",
              "CF          4862.745098  1.848627e+06\n",
              "LWB         5783.333333  1.931333e+06\n",
              "RM          6655.352480  2.138734e+06\n",
              "ST          7852.513228  2.157252e+06\n",
              "LM          7472.527473  2.466174e+06\n",
              "LCB         9753.056235  2.636516e+06\n",
              "RDM        11282.608696  2.692717e+06\n",
              "CAM         8688.783570  2.963199e+06\n",
              "RCB        11270.334928  3.009055e+06\n",
              "LDM        10243.243243  3.369459e+06\n",
              "RW         13822.784810  3.495738e+06\n",
              "LW         12169.421488  3.603099e+06\n",
              "RS         13482.456140  3.645833e+06\n",
              "RCM        13504.166667  4.217604e+06\n",
              "LCM        13497.854077  4.318090e+06\n",
              "LS         15421.487603  5.848430e+06\n",
              "RAM        11800.000000  8.345000e+06\n",
              "LAM        61000.000000  1.324583e+07\n",
              "RF        119000.000000  2.636583e+07\n",
              "LF         75125.000000  2.736250e+07"
            ]
          },
          "metadata": {
            "tags": []
          },
          "execution_count": 23
        }
      ]
    }
  ]
}