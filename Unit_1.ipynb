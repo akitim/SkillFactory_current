{
  "nbformat": 4,
  "nbformat_minor": 0,
  "metadata": {
    "colab": {
      "name": "Unit 1.ipynb",
      "provenance": [],
      "collapsed_sections": [],
      "include_colab_link": true
    },
    "kernelspec": {
      "name": "python3",
      "display_name": "Python 3"
    },
    "language_info": {
      "name": "python"
    }
  },
  "cells": [
    {
      "cell_type": "markdown",
      "metadata": {
        "id": "view-in-github",
        "colab_type": "text"
      },
      "source": [
        "<a href=\"https://colab.research.google.com/github/akitim/SkillFactory_current/blob/main/Unit_1.ipynb\" target=\"_parent\"><img src=\"https://colab.research.google.com/assets/colab-badge.svg\" alt=\"Open In Colab\"/></a>"
      ]
    },
    {
      "cell_type": "markdown",
      "metadata": {
        "id": "QtqI59xnmv1F"
      },
      "source": [
        "# Python 5"
      ]
    },
    {
      "cell_type": "code",
      "metadata": {
        "colab": {
          "base_uri": "https://localhost:8080/",
          "height": 191
        },
        "id": "8JmF6Ud4md3u",
        "outputId": "33093e73-ccd8-4ecd-8240-c3f9339fea16"
      },
      "source": [
        "import pandas as pd\n",
        "\n",
        "data = pd.Series([\"Январь\", \"Февраль\", \"Март\", \"Апрель\"],\n",
        "                 index = ['Первый', \"Второй\", \"Третий\", \"Четвёртый\"])\n",
        "print(data)\n",
        "display(data)\n",
        "# display(data.loc[\"Первый\"])\n",
        "# display(data.loc[\"Первый\"])\n",
        "# print(data.loc[[\"Первый\", \"Третий\"]])"
      ],
      "execution_count": null,
      "outputs": [
        {
          "output_type": "stream",
          "text": [
            "Первый        Январь\n",
            "Второй       Февраль\n",
            "Третий          Март\n",
            "Четвёртый     Апрель\n",
            "dtype: object\n"
          ],
          "name": "stdout"
        },
        {
          "output_type": "display_data",
          "data": {
            "text/plain": [
              "Первый        Январь\n",
              "Второй       Февраль\n",
              "Третий          Март\n",
              "Четвёртый     Апрель\n",
              "dtype: object"
            ]
          },
          "metadata": {
            "tags": []
          }
        }
      ]
    },
    {
      "cell_type": "code",
      "metadata": {
        "colab": {
          "base_uri": "https://localhost:8080/"
        },
        "id": "vyh5IsKoszJA",
        "outputId": "d5fbe5ad-415c-4e40-9c38-20bc4d5c35e7"
      },
      "source": [
        "data = pd.Series(list(range(10, 1001)))\n",
        "print ( data.loc[10] + data.loc[23] - data.loc[245] + data.iloc[122] )\n",
        "print( data.loc[10],\n",
        "data.loc[23],\n",
        "data.loc[245],\n",
        "data.iloc[122] )"
      ],
      "execution_count": null,
      "outputs": [
        {
          "output_type": "stream",
          "text": [
            "-70\n",
            "20 33 255 132\n"
          ],
          "name": "stdout"
        }
      ]
    },
    {
      "cell_type": "code",
      "metadata": {
        "colab": {
          "base_uri": "https://localhost:8080/",
          "height": 110
        },
        "id": "L8u7wCj-vN1k",
        "outputId": "b5ea2365-4dac-453a-beb0-9124c3328482"
      },
      "source": [
        "import pandas as pd\n",
        "df = pd.DataFrame({'col1': [1, 2], 'col2': [3, 4]}, index = ['f', 'g'])\n",
        "# df = pd.DataFrame([ [1,2,3], [2,3,4] ],\n",
        "                  # columns = ['foo', 'bar', ''], \n",
        "                  # index = ['foobar', 'foobaz'])\n",
        "display(df)\n"
      ],
      "execution_count": null,
      "outputs": [
        {
          "output_type": "display_data",
          "data": {
            "text/html": [
              "<div>\n",
              "<style scoped>\n",
              "    .dataframe tbody tr th:only-of-type {\n",
              "        vertical-align: middle;\n",
              "    }\n",
              "\n",
              "    .dataframe tbody tr th {\n",
              "        vertical-align: top;\n",
              "    }\n",
              "\n",
              "    .dataframe thead th {\n",
              "        text-align: right;\n",
              "    }\n",
              "</style>\n",
              "<table border=\"1\" class=\"dataframe\">\n",
              "  <thead>\n",
              "    <tr style=\"text-align: right;\">\n",
              "      <th></th>\n",
              "      <th>col1</th>\n",
              "      <th>col2</th>\n",
              "    </tr>\n",
              "  </thead>\n",
              "  <tbody>\n",
              "    <tr>\n",
              "      <th>f</th>\n",
              "      <td>1</td>\n",
              "      <td>3</td>\n",
              "    </tr>\n",
              "    <tr>\n",
              "      <th>g</th>\n",
              "      <td>2</td>\n",
              "      <td>4</td>\n",
              "    </tr>\n",
              "  </tbody>\n",
              "</table>\n",
              "</div>"
            ],
            "text/plain": [
              "   col1  col2\n",
              "f     1     3\n",
              "g     2     4"
            ]
          },
          "metadata": {
            "tags": []
          }
        }
      ]
    },
    {
      "cell_type": "code",
      "metadata": {
        "colab": {
          "base_uri": "https://localhost:8080/"
        },
        "id": "KmVAHX4NzL70",
        "outputId": "38a3dae6-ddd7-4f9c-f634-e02a374b6e03"
      },
      "source": [
        "addr = 'https://lms.skillfactory.ru/assets/courseware/v1/d05df2022e56c6de021ab6e54949fe6c/asset-v1:Skillfactory+DST-PRO+15APR2020+type@asset+block/data_sf.csv'\n",
        "football = pd.read_csv(addr)\n",
        "# display(football.info())\n",
        "# football.describe(include=['object'])\n",
        "# football.describe()\n",
        "# football.Composure.count()\n",
        "# football.ShortPassing.std()\n",
        "# football.Wage.sum()\n",
        "# football.Value.min()\n",
        "# football[(football.Age < football.Age.mean())&\n",
        "#         (football.Club == 'FC Barcelona')].Wage.mean()\n",
        "# round(football[football.Wage < football.Wage.mean()].SprintSpeed.mean(), 2)\n",
        "football[football.Wage == football.Wage.max()].Position\n",
        "# display (football)"
      ],
      "execution_count": null,
      "outputs": [
        {
          "output_type": "execute_result",
          "data": {
            "text/plain": [
              "0    RF\n",
              "Name: Position, dtype: object"
            ]
          },
          "metadata": {
            "tags": []
          },
          "execution_count": 82
        }
      ]
    },
    {
      "cell_type": "markdown",
      "metadata": {
        "id": "Rk0tq36KK-uJ"
      },
      "source": [
        "Задание 3, 4"
      ]
    },
    {
      "cell_type": "code",
      "metadata": {
        "colab": {
          "base_uri": "https://localhost:8080/"
        },
        "id": "aSURLJKfLEK0",
        "outputId": "5ea262e8-8930-49ff-8276-c574bd6c4195"
      },
      "source": [
        "addr = 'https://lms.skillfactory.ru/assets/courseware/v1/d05df2022e56c6de021ab6e54949fe6c/asset-v1:Skillfactory+DST-PRO+15APR2020+type@asset+block/data_sf.csv'\n",
        "football = pd.read_csv(addr)\n",
        "# football[football.Wage == football.Wage.max()].Position\n",
        "# football[football.Nationality == 'Brazil'].Penalties.sum()\n",
        "# football[football.HeadingAccuracy > 50].Age.mean()\n",
        "# football[(football.Composure > 0.9*football.Composure.max()) & (football.Reactions > 0.9*football.Reactions.max())].Age.min()\n",
        "# football [football.Age == football.Age.max()].Reactions.mean() - football [football.Age == football.Age.min()].Reactions.mean()\n",
        "# football[football.Wage > football.Wage.mean()].Nationality.describe()\n",
        "# round (football[(football.Position == 'GK') & (football.GKReflexes == football.GKReflexes.max())].Wage.mean()\n",
        "# /football[(football.Position == 'GK') & (football.GKHandling == football.GKHandling.max())].Wage.mean(), 2 )\n",
        "round (football[(football.Aggression == football.Aggression.max())].ShotPower.mean()\n",
        "/football[(football.Aggression == football.Aggression.min())].ShotPower.mean(), 2 )"
      ],
      "execution_count": null,
      "outputs": [
        {
          "output_type": "execute_result",
          "data": {
            "text/plain": [
              "2.08"
            ]
          },
          "metadata": {
            "tags": []
          },
          "execution_count": 102
        }
      ]
    },
    {
      "cell_type": "markdown",
      "metadata": {
        "id": "MD1YvlF1m7Jv"
      },
      "source": [
        "# PYTHON-6. Методы группировки данных"
      ]
    },
    {
      "cell_type": "code",
      "metadata": {
        "colab": {
          "base_uri": "https://localhost:8080/"
        },
        "id": "764Cl3cOnCbt",
        "outputId": "91b51139-5543-451e-9fb2-5e6174a84505"
      },
      "source": [
        "import pandas as pd\n",
        "addr = 'https://lms.skillfactory.ru/assets/courseware/v1/d05df2022e56c6de021ab6e54949fe6c/asset-v1:Skillfactory+DST-PRO+15APR2020+type@asset+block/data_sf.csv'\n",
        "#addr = 'D:\\gitprojects\\Skillfactory\\SkillFactory_current\\data_sf.xlt'\n",
        "df = pd.read_csv(addr)\n",
        "#df.Wage[df.Nationality == 'Spain'].value_counts(normalize = True, bins = 4)\n",
        "#df.Nationality[df.Club == \"Manchester United\"].nunique()\n",
        "#grouped_df = df.groupby(['Club','Nationality']).sum()\n",
        "#display(grouped_df)\n",
        "grouped_df = df.groupby(['Club', 'Nationality'])['Wage'].sum().sort_values(ascending=False)\n",
        "#print(grouped_df)\n",
        "#df.groupby(['Position','Nationality'])[['Wage', 'Age']].mean().sort_values(by='Age', ascending=True)\n",
        "# gbdf = df.groupby(['Position'])[['Wage']].sum().sort_values(by='Wage', ascending=False)\n",
        "# gbdf[gbdf.Wage > 5000000]\n",
        "#df.groupby(['Position'])[['Wage', 'Value']].mean().sort_values(['Value'], ascending=True)\n",
        "dfgb = df.groupby(['Club'])[['Wage']].agg(['mean','median'])\n",
        "dfgb.columns = ['mean', 'median']\n",
        "ddfgb = dfgb[dfgb['median'] == dfgb['mean']]\n",
        "# ddfgb['mean'].count()\n",
        "ddfgb[(ddfgb['mean'] == 13000)]"
      ],
      "execution_count": null,
      "outputs": [
        {
          "output_type": "execute_result",
          "data": {
            "text/plain": [
              "Index(['Cruzeiro'], dtype='object', name='Club')"
            ]
          },
          "metadata": {
            "tags": []
          },
          "execution_count": 6
        }
      ]
    },
    {
      "cell_type": "markdown",
      "metadata": {
        "id": "FtTjVjwseq2k"
      },
      "source": [
        "6.10 Задачи"
      ]
    },
    {
      "cell_type": "code",
      "metadata": {
        "id": "W4oAMHwoetqa",
        "outputId": "8f1249a5-139a-4c33-df37-89ab268195c3",
        "colab": {
          "base_uri": "https://localhost:8080/",
          "height": 35
        }
      },
      "source": [
        "import pandas as pd\n",
        "addr = 'https://lms.skillfactory.ru/assets/courseware/v1/d05df2022e56c6de021ab6e54949fe6c/asset-v1:Skillfactory+DST-PRO+15APR2020+type@asset+block/data_sf.csv'\n",
        "df = pd.read_csv(addr)\n",
        "# gdf = df.groupby(['Club'])['Wage'].sum()['Chelsea'] #.sort_values(ascending = True)\n",
        "# df.Wage[(df.Nationality == 'Argentina') & (df.Age == 30)].min()\n",
        "str (df.Strength[(df.Nationality == 'Argentina') & (df.Club == \"FC Barcelona\")].max()) + ';' + str (df.Balance[(df.Nationality == 'Argentina') & (df.Club == \"FC Barcelona\")].max())\n"
      ],
      "execution_count": 17,
      "outputs": [
        {
          "output_type": "execute_result",
          "data": {
            "application/vnd.google.colaboratory.intrinsic+json": {
              "type": "string"
            },
            "text/plain": [
              "'59;95'"
            ]
          },
          "metadata": {
            "tags": []
          },
          "execution_count": 17
        }
      ]
    }
  ]
}