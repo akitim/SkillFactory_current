{
  "nbformat": 4,
  "nbformat_minor": 0,
  "metadata": {
    "kernelspec": {
      "display_name": "Python 3",
      "language": "python",
      "name": "python3"
    },
    "language_info": {
      "codemirror_mode": {
        "name": "ipython",
        "version": 3
      },
      "file_extension": ".py",
      "mimetype": "text/x-python",
      "name": "python",
      "nbconvert_exporter": "python",
      "pygments_lexer": "ipython3",
      "version": "3.6.8"
    },
    "colab": {
      "name": "Unit 5 ML - Gradient_Descent.ipynb",
      "provenance": [],
      "include_colab_link": true
    }
  },
  "cells": [
    {
      "cell_type": "markdown",
      "metadata": {
        "id": "view-in-github",
        "colab_type": "text"
      },
      "source": [
        "<a href=\"https://colab.research.google.com/github/akitim/SkillFactory_current/blob/main/Unit_5_ML_Gradient_Descent.ipynb\" target=\"_parent\"><img src=\"https://colab.research.google.com/assets/colab-badge.svg\" alt=\"Open In Colab\"/></a>"
      ]
    },
    {
      "cell_type": "code",
      "metadata": {
        "id": "P2D4BrIHOBtz"
      },
      "source": [
        "# def f(x, y):\n",
        "#     return (1 - x) ** 2 + 100 * (y - x ** 2) ** 2\n",
        "\n",
        "def f(x, y):\n",
        "    return 2 * x ** 2 - 4 * x * y + y ** 4 + 2\n",
        "\n",
        "def grad(x, y):\n",
        "    dx = 2 * x - 2 + 100 * (-4 * y * x + 4 * x ** 3)\n",
        "    dy = 100 * (2 * y - 2 * x ** 2)\n",
        "    return (dx, dy)\n",
        "\n",
        "def dist (x1, x2):\n",
        "    return ((x2[0] - x1[0]) * (x2[0] - x1[0]) + (x2[1] - x1[1]) * (x2[1] - x1[1]))**0.5"
      ],
      "execution_count": 17,
      "outputs": []
    },
    {
      "cell_type": "code",
      "metadata": {
        "id": "DQQXaO1zOBt4",
        "colab": {
          "base_uri": "https://localhost:8080/"
        },
        "outputId": "d5f82d7d-5f69-451a-ed13-9d174b3e50cf"
      },
      "source": [
        "x0 = (2, 2)\n",
        "gamma = 1e-3\n",
        "x_cur = x0\n",
        "\n",
        "vals = []\n",
        "coords = []\n",
        "i = 0\n",
        "while True:\n",
        "    x_new = (x_cur[0] - gamma * grad(*x_cur)[0],\n",
        "            x_cur[1] - gamma * grad(*x_cur)[1])\n",
        "    if dist(x_new, x_cur) < 1e-9:\n",
        "        break\n",
        "    x_cur = x_new\n",
        "    vals.append(f(*x_cur))\n",
        "    coords.append(x_cur)\n",
        "    i += 1\n",
        "    # print(f\"iter={i}; x=({x_cur[0]:.2f}, {x_cur[1]:.2f});\"\n",
        "    #       f\" f(x)={f(*x_cur):.5f}; grad f(x)=({grad(*x_cur)[0]:.5f}, {grad(*x_cur)[1]:.5f})\")\n",
        "print(f\"iter={i}; x=({x_cur[0]:.10f}, {x_cur[1]:.10f});\"\n",
        "        f\" f(x)={f(*x_cur):.5f}; grad f(x)=({grad(*x_cur)[0]:.5f}, {grad(*x_cur)[1]:.5f})\")"
      ],
      "execution_count": 40,
      "outputs": [
        {
          "output_type": "stream",
          "name": "stdout",
          "text": [
            "iter=32273; x=(1.0000011178, 1.0000022400); f(x)=1.00000; grad f(x)=(0.00000, 0.00000)\n"
          ]
        }
      ]
    },
    {
      "cell_type": "code",
      "metadata": {
        "id": "so2zTJr8OBt6"
      },
      "source": [
        "import matplotlib.pyplot as plt\n",
        "import numpy as np"
      ],
      "execution_count": 23,
      "outputs": []
    },
    {
      "cell_type": "code",
      "metadata": {
        "id": "MhrwTTniOBt7",
        "colab": {
          "base_uri": "https://localhost:8080/",
          "height": 265
        },
        "outputId": "986f2f6a-825d-4db3-edac-1e9bdc3ea980"
      },
      "source": [
        "plt.plot(vals);"
      ],
      "execution_count": 41,
      "outputs": [
        {
          "output_type": "display_data",
          "data": {
            "image/png": "[encoded data removed]",
            "text/plain": [
              "<Figure size 432x288 with 1 Axes>"
            ]
          },
          "metadata": {
            "needs_background": "light"
          }
        }
      ]
    },
    {
      "cell_type": "code",
      "metadata": {
        "id": "8ZwNJpRbOBt8",
        "outputId": "5e33d415-729e-4857-e9be-a1b5d72268e4",
        "colab": {
          "base_uri": "https://localhost:8080/",
          "height": 265
        }
      },
      "source": [
        "n = 100 # number of discretization points along the x-axis\n",
        "m = 100 # number of discretization points along the x-axis\n",
        "a=-5; b=5. # extreme points in the x-axis\n",
        "c=-5; d=5. # extreme points in the y-axis\n",
        "X,Y = np.meshgrid(np.linspace(a,b,n), np.linspace(c,d,m))\n",
        "\n",
        "Z = f(X,Y)\n",
        "\n",
        "plt.xlim(a,b)\n",
        "plt.ylim(c,d)\n",
        "\n",
        "plt.contour(X,Y,Z, np.logspace(-0.5, 3, 21),cmap='gray_r');\n",
        "plt.plot([c[0] for c in coords], [c[1] for c in coords]);\n",
        "plt.scatter(1,1,c='red');"
      ],
      "execution_count": 42,
      "outputs": [
        {
          "output_type": "display_data",
          "data": {
            "image/png": "[encoded data removed]",
            "text/plain": [
              "<Figure size 432x288 with 1 Axes>"
            ]
          },
          "metadata": {
            "needs_background": "light"
          }
        }
      ]
    },
    {
      "cell_type": "code",
      "metadata": {
        "id": "5rWqn_TKf3L0",
        "outputId": "f088be4f-66a8-4660-f045-53435abed875",
        "colab": {
          "base_uri": "https://localhost:8080/"
        }
      },
      "source": [
        "coords"
      ],
      "execution_count": 31,
      "outputs": [
        {
          "output_type": "execute_result",
          "data": {
            "text/plain": [
              "[(382.022, 21.6),\n",
              " (-22297357.885433856, 29205.441696799993),\n",
              " (4.4342503099543905e+21, 99434433757588.22),\n",
              " (-3.4875513154357785e+64, 3.932515162266121e+42)]"
            ]
          },
          "metadata": {},
          "execution_count": 31
        }
      ]
    },
    {
      "cell_type": "code",
      "metadata": {
        "id": "Z8r0wvt5OBt8"
      },
      "source": [
        "def dist(x1, x2):\n",
        "    return (x1[0] - x2[0]) ** 2 + (x1[1] - x2[1]) ** 2"
      ],
      "execution_count": null,
      "outputs": []
    },
    {
      "cell_type": "code",
      "metadata": {
        "id": "1JBxjLkfOBt9"
      },
      "source": [
        "from scipy import optimize"
      ],
      "execution_count": 43,
      "outputs": []
    },
    {
      "cell_type": "code",
      "metadata": {
        "id": "uIM5U-RwOBt9"
      },
      "source": [
        "def f_for_scipy(x):\n",
        "    return f(x[0], x[1])"
      ],
      "execution_count": 44,
      "outputs": []
    },
    {
      "cell_type": "code",
      "metadata": {
        "id": "nyK0gTXuOBt9",
        "outputId": "c348d04a-e15f-4d28-8e8f-e08fd75a54de",
        "colab": {
          "base_uri": "https://localhost:8080/"
        }
      },
      "source": [
        "optimize.minimize(lambda x: f(*x), x0=(0, 0)) "
      ],
      "execution_count": 49,
      "outputs": [
        {
          "output_type": "execute_result",
          "data": {
            "text/plain": [
              "      fun: 2.0\n",
              " hess_inv: array([[1, 0],\n",
              "       [0, 1]])\n",
              "      jac: array([2.98023224e-08, 0.00000000e+00])\n",
              "  message: 'Optimization terminated successfully.'\n",
              "     nfev: 4\n",
              "      nit: 0\n",
              "     njev: 1\n",
              "   status: 0\n",
              "  success: True\n",
              "        x: array([0., 0.])"
            ]
          },
          "metadata": {},
          "execution_count": 49
        }
      ]
    },
    {
      "cell_type": "code",
      "metadata": {
        "id": "3RZrZxRhOBt-"
      },
      "source": [
        ""
      ],
      "execution_count": null,
      "outputs": []
    }
  ]
}