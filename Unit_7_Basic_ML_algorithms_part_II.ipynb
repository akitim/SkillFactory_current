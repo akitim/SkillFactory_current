{
  "nbformat": 4,
  "nbformat_minor": 0,
  "metadata": {
    "colab": {
      "name": "Unit 7_Basic ML algorithms - part II.ipynb",
      "provenance": [],
      "toc_visible": true,
      "include_colab_link": true
    },
    "kernelspec": {
      "name": "python3",
      "display_name": "Python 3"
    },
    "language_info": {
      "name": "python"
    }
  },
  "cells": [
    {
      "cell_type": "markdown",
      "metadata": {
        "id": "view-in-github",
        "colab_type": "text"
      },
      "source": [
        "<a href=\"https://colab.research.google.com/github/akitim/SkillFactory_current/blob/main/Unit_7_Basic_ML_algorithms_part_II.ipynb\" target=\"_parent\"><img src=\"https://colab.research.google.com/assets/colab-badge.svg\" alt=\"Open In Colab\"/></a>"
      ]
    },
    {
      "cell_type": "markdown",
      "source": [
        "# Юнит 7. Основные алгоритмы машинного обучения. Часть II\n"
      ],
      "metadata": {
        "id": "_e189eW1GHHL"
      }
    },
    {
      "cell_type": "markdown",
      "source": [
        "## ML-5. Решающие деревья и случайный лес\n"
      ],
      "metadata": {
        "id": "OHo0K9KRGY37"
      }
    },
    {
      "cell_type": "markdown",
      "source": [
        "### 5.2. Решающие деревья"
      ],
      "metadata": {
        "id": "oCD3wzxtGhZD"
      }
    },
    {
      "cell_type": "markdown",
      "source": [
        "#### Задание 5.2.3\n",
        "Обучите на предложенных данных решающее дерево. Целевой переменной здесь является переменная `Class`. Размер тестовой выборки возьмите за ` 0.2, random_state = 17` для разбиения и дерева. Максимальную глубину дерева примите за **3**, максимальное число признаков, по которым ищется лучшее разбиение в дереве — за **2**. Какое значение $\\ F1-score $ вы получили? Округлите до трёх знаков после точки-разделителя."
      ],
      "metadata": {
        "id": "WolJLcXOG-Vu"
      }
    },
    {
      "cell_type": "code",
      "execution_count": null,
      "metadata": {
        "colab": {
          "base_uri": "https://localhost:8080/",
          "height": 206
        },
        "id": "cDZdfBhCFHzJ",
        "outputId": "7eeb5b5c-4d60-42dc-9dfc-43b431ee6366"
      },
      "outputs": [
        {
          "output_type": "execute_result",
          "data": {
            "text/html": [
              "\n",
              "  <div id=\"df-320bb7ac-1cd5-490e-9cd4-1ddcda7fa802\">\n",
              "    <div class=\"colab-df-container\">\n",
              "      <div>\n",
              "<style scoped>\n",
              "    .dataframe tbody tr th:only-of-type {\n",
              "        vertical-align: middle;\n",
              "    }\n",
              "\n",
              "    .dataframe tbody tr th {\n",
              "        vertical-align: top;\n",
              "    }\n",
              "\n",
              "    .dataframe thead th {\n",
              "        text-align: right;\n",
              "    }\n",
              "</style>\n",
              "<table border=\"1\" class=\"dataframe\">\n",
              "  <thead>\n",
              "    <tr style=\"text-align: right;\">\n",
              "      <th></th>\n",
              "      <th>Variance</th>\n",
              "      <th>Skewness</th>\n",
              "      <th>Curtosis</th>\n",
              "      <th>Entropy</th>\n",
              "      <th>Class</th>\n",
              "    </tr>\n",
              "  </thead>\n",
              "  <tbody>\n",
              "    <tr>\n",
              "      <th>106</th>\n",
              "      <td>2.3136</td>\n",
              "      <td>10.66510</td>\n",
              "      <td>-3.52880</td>\n",
              "      <td>-4.76720</td>\n",
              "      <td>0</td>\n",
              "    </tr>\n",
              "    <tr>\n",
              "      <th>238</th>\n",
              "      <td>3.9994</td>\n",
              "      <td>0.90427</td>\n",
              "      <td>1.16930</td>\n",
              "      <td>1.68920</td>\n",
              "      <td>0</td>\n",
              "    </tr>\n",
              "    <tr>\n",
              "      <th>1112</th>\n",
              "      <td>-4.1429</td>\n",
              "      <td>2.77490</td>\n",
              "      <td>0.68261</td>\n",
              "      <td>-0.71984</td>\n",
              "      <td>1</td>\n",
              "    </tr>\n",
              "    <tr>\n",
              "      <th>866</th>\n",
              "      <td>-4.1409</td>\n",
              "      <td>3.46190</td>\n",
              "      <td>-0.47841</td>\n",
              "      <td>-3.88790</td>\n",
              "      <td>1</td>\n",
              "    </tr>\n",
              "    <tr>\n",
              "      <th>1178</th>\n",
              "      <td>-2.0754</td>\n",
              "      <td>1.27670</td>\n",
              "      <td>-0.64206</td>\n",
              "      <td>-1.26420</td>\n",
              "      <td>1</td>\n",
              "    </tr>\n",
              "  </tbody>\n",
              "</table>\n",
              "</div>\n",
              "      <button class=\"colab-df-convert\" onclick=\"convertToInteractive('df-320bb7ac-1cd5-490e-9cd4-1ddcda7fa802')\"\n",
              "              title=\"Convert this dataframe to an interactive table.\"\n",
              "              style=\"display:none;\">\n",
              "        \n",
              "  <svg xmlns=\"http://www.w3.org/2000/svg\" height=\"24px\"viewBox=\"0 0 24 24\"\n",
              "       width=\"24px\">\n",
              "    <path d=\"M0 0h24v24H0V0z\" fill=\"none\"/>\n",
              "    <path d=\"M18.56 5.44l.94 2.06.94-2.06 2.06-.94-2.06-.94-.94-2.06-.94 2.06-2.06.94zm-11 1L8.5 8.5l.94-2.06 2.06-.94-2.06-.94L8.5 2.5l-.94 2.06-2.06.94zm10 10l.94 2.06.94-2.06 2.06-.94-2.06-.94-.94-2.06-.94 2.06-2.06.94z\"/><path d=\"M17.41 7.96l-1.37-1.37c-.4-.4-.92-.59-1.43-.59-.52 0-1.04.2-1.43.59L10.3 9.45l-7.72 7.72c-.78.78-.78 2.05 0 2.83L4 21.41c.39.39.9.59 1.41.59.51 0 1.02-.2 1.41-.59l7.78-7.78 2.81-2.81c.8-.78.8-2.07 0-2.86zM5.41 20L4 18.59l7.72-7.72 1.47 1.35L5.41 20z\"/>\n",
              "  </svg>\n",
              "      </button>\n",
              "      \n",
              "  <style>\n",
              "    .colab-df-container {\n",
              "      display:flex;\n",
              "      flex-wrap:wrap;\n",
              "      gap: 12px;\n",
              "    }\n",
              "\n",
              "    .colab-df-convert {\n",
              "      background-color: #E8F0FE;\n",
              "      border: none;\n",
              "      border-radius: 50%;\n",
              "      cursor: pointer;\n",
              "      display: none;\n",
              "      fill: #1967D2;\n",
              "      height: 32px;\n",
              "      padding: 0 0 0 0;\n",
              "      width: 32px;\n",
              "    }\n",
              "\n",
              "    .colab-df-convert:hover {\n",
              "      background-color: #E2EBFA;\n",
              "      box-shadow: 0px 1px 2px rgba(60, 64, 67, 0.3), 0px 1px 3px 1px rgba(60, 64, 67, 0.15);\n",
              "      fill: #174EA6;\n",
              "    }\n",
              "\n",
              "    [theme=dark] .colab-df-convert {\n",
              "      background-color: #3B4455;\n",
              "      fill: #D2E3FC;\n",
              "    }\n",
              "\n",
              "    [theme=dark] .colab-df-convert:hover {\n",
              "      background-color: #434B5C;\n",
              "      box-shadow: 0px 1px 3px 1px rgba(0, 0, 0, 0.15);\n",
              "      filter: drop-shadow(0px 1px 2px rgba(0, 0, 0, 0.3));\n",
              "      fill: #FFFFFF;\n",
              "    }\n",
              "  </style>\n",
              "\n",
              "      <script>\n",
              "        const buttonEl =\n",
              "          document.querySelector('#df-320bb7ac-1cd5-490e-9cd4-1ddcda7fa802 button.colab-df-convert');\n",
              "        buttonEl.style.display =\n",
              "          google.colab.kernel.accessAllowed ? 'block' : 'none';\n",
              "\n",
              "        async function convertToInteractive(key) {\n",
              "          const element = document.querySelector('#df-320bb7ac-1cd5-490e-9cd4-1ddcda7fa802');\n",
              "          const dataTable =\n",
              "            await google.colab.kernel.invokeFunction('convertToInteractive',\n",
              "                                                     [key], {});\n",
              "          if (!dataTable) return;\n",
              "\n",
              "          const docLinkHtml = 'Like what you see? Visit the ' +\n",
              "            '<a target=\"_blank\" href=https://colab.research.google.com/notebooks/data_table.ipynb>data table notebook</a>'\n",
              "            + ' to learn more about interactive tables.';\n",
              "          element.innerHTML = '';\n",
              "          dataTable['output_type'] = 'display_data';\n",
              "          await google.colab.output.renderOutput(dataTable, element);\n",
              "          const docLink = document.createElement('div');\n",
              "          docLink.innerHTML = docLinkHtml;\n",
              "          element.appendChild(docLink);\n",
              "        }\n",
              "      </script>\n",
              "    </div>\n",
              "  </div>\n",
              "  "
            ],
            "text/plain": [
              "      Variance  Skewness  Curtosis  Entropy  Class\n",
              "106     2.3136  10.66510  -3.52880 -4.76720      0\n",
              "238     3.9994   0.90427   1.16930  1.68920      0\n",
              "1112   -4.1429   2.77490   0.68261 -0.71984      1\n",
              "866    -4.1409   3.46190  -0.47841 -3.88790      1\n",
              "1178   -2.0754   1.27670  -0.64206 -1.26420      1"
            ]
          },
          "metadata": {},
          "execution_count": 9
        }
      ],
      "source": [
        "import pandas as pd\n",
        "import numpy as np\n",
        "\n",
        "path = 'https://raw.githubusercontent.com/akitim/datasets/main/bill_authentication.csv'\n",
        "df = pd.read_csv(path)\n",
        "df.sample(5)"
      ]
    },
    {
      "cell_type": "code",
      "source": [
        "from sklearn.tree import DecisionTreeClassifier\n",
        "from sklearn.model_selection import train_test_split\n",
        "\n",
        "RND_SEED = 17\n",
        "\n",
        "target = 'Class'\n",
        "X = df.drop(target, axis=1).values\n",
        "Y = df[target].values\n",
        "\n",
        "X_train, X_test, Y_train, Y_test =\\\n",
        "    train_test_split(X, Y, test_size= 0.2, random_state=RND_SEED)\n",
        "\n",
        "clf_tree = DecisionTreeClassifier(criterion='gini',\n",
        "                                  max_depth=3,\n",
        "                                  max_features=2,\n",
        "                                  random_state=RND_SEED)\n",
        "\n",
        "clf_tree.fit(X_train, Y_train)\n",
        "\n",
        "from sklearn.metrics import f1_score\n",
        "\n",
        "Y_pred = clf_tree.predict(X_test)\n",
        "print ('f1_score = ', round(f1_score (Y_test, Y_pred), 3))"
      ],
      "metadata": {
        "id": "j1IOd1gAHm8D",
        "colab": {
          "base_uri": "https://localhost:8080/"
        },
        "outputId": "8128f022-4a4c-48cb-b36d-d603080591c5"
      },
      "execution_count": null,
      "outputs": [
        {
          "output_type": "stream",
          "name": "stdout",
          "text": [
            "f1_score =  0.866\n"
          ]
        }
      ]
    },
    {
      "cell_type": "markdown",
      "source": [
        "#### Задание 5.2.4\n",
        "\n",
        "Проклассифицируйте банкноту с вектором признаков `2.04378, -0.38422, 1.437292, 0.76421`. К какому классу она относится?"
      ],
      "metadata": {
        "id": "fp9IypUVDTCc"
      }
    },
    {
      "cell_type": "code",
      "source": [
        "banknote_sample = np.array([2.04378, -0.38422, 1.437292, 0.76421]).reshape(1, -1)\n",
        "print ('Предсказанный класс банкноты [2.04378, -0.38422, 1.437292, 0.76421]:',\n",
        "       clf_tree.predict(banknote_sample)[0])"
      ],
      "metadata": {
        "colab": {
          "base_uri": "https://localhost:8080/"
        },
        "id": "3S6h67cH9yJ3",
        "outputId": "ae24a707-40f8-4b7b-f7a5-2d38e7bbd925"
      },
      "execution_count": null,
      "outputs": [
        {
          "output_type": "stream",
          "name": "stdout",
          "text": [
            "Предсказанный класс банкноты [2.04378, -0.38422, 1.437292, 0.76421]: 0\n"
          ]
        }
      ]
    },
    {
      "cell_type": "markdown",
      "source": [
        "#### ПРИМЕР\n",
        "===================================================\n",
        "\n",
        "==================================================="
      ],
      "metadata": {
        "id": "2NVKX_IWGg6_"
      }
    },
    {
      "cell_type": "code",
      "source": [
        "from sklearn.tree import DecisionTreeClassifier\n",
        "from sklearn.datasets import make_blobs\n",
        "import matplotlib.pyplot as plt\n",
        "import numpy as np\n",
        "%matplotlib inline\n",
        "\n",
        "RANDOM_SEED = 139\n",
        "\n",
        "def get_grid(data):\n",
        "    x_min, x_max = data[:, 0].min() - 1, data[:, 0].max() + 1\n",
        "    y_min, y_max = data[:, 1].min() - 1, data[:, 1].max() + 1\n",
        "    return np.meshgrid(np.arange(x_min, x_max, 0.01),\n",
        "                       np.arange(y_min, y_max, 0.01))\n",
        "\n",
        "train_data, train_labels = make_blobs(n_samples=100, centers=[(-3,-3),(4,2)], \n",
        "                                      n_features=2, random_state=RANDOM_SEED,\n",
        "                                      cluster_std=(5,5))\n",
        "\n",
        "\n",
        "clf_tree = DecisionTreeClassifier(criterion='entropy', max_depth=None, \n",
        "                                  random_state=RANDOM_SEED)\n",
        "\n",
        "# training the tree\n",
        "clf_tree.fit(train_data, train_labels)\n",
        "\n",
        "# some code to depict separating surface\n",
        "xx, yy = get_grid(train_data)\n",
        "predicted = clf_tree.predict(np.c_[xx.ravel(), \n",
        "                                   yy.ravel()]).reshape(xx.shape)"
      ],
      "metadata": {
        "id": "eX599SQ-GmuR"
      },
      "execution_count": null,
      "outputs": []
    },
    {
      "cell_type": "code",
      "source": [
        "plt.figure(figsize = (10, 6))\n",
        "plt.pcolormesh(xx, yy, predicted, cmap='coolwarm')\n",
        "plt.scatter(train_data[:, 0], train_data[:, 1], c=train_labels, s=100, \n",
        "            cmap='coolwarm', edgecolors='black', linewidth=1.5);"
      ],
      "metadata": {
        "id": "ku1KrhlappE_",
        "outputId": "57e66333-a62f-4c37-9214-d4be9cf543e2",
        "colab": {
          "base_uri": "https://localhost:8080/",
          "height": 374
        }
      },
      "execution_count": null,
      "outputs": [
        {
          "output_type": "display_data",
          "data": {
            "image/png": "[encoded data removed]",
            "text/plain": [
              "<Figure size 720x432 with 1 Axes>"
            ]
          },
          "metadata": {
            "needs_background": "light"
          }
        }
      ]
    },
    {
      "cell_type": "markdown",
      "source": [
        "===================================================\n",
        "\n",
        "==================================================="
      ],
      "metadata": {
        "id": "zZI7ayDynjLF"
      }
    },
    {
      "cell_type": "markdown",
      "source": [
        "#### Задание 5.2.5\n",
        "\n",
        "Обучите решающее дерево для регрессии на предложенных данных, размер тестовой выборки возьмите за `0.3, random_state = 42` для разбиения и дерева. Вычислите ***RMSE***, округлите до двух знаков после точки-разделителя."
      ],
      "metadata": {
        "id": "7LMlhciZnkr2"
      }
    },
    {
      "cell_type": "code",
      "source": [
        "import pandas as pd\n",
        "import numpy as np\n",
        "\n",
        "from sklearn.tree import DecisionTreeRegressor\n",
        "from sklearn.model_selection import train_test_split\n",
        "\n",
        "path = 'https://lms.skillfactory.ru/assets/courseware/v1/fc8c2fb45f3b0b86d8fe409ff0f430af/asset-v1:Skillfactory+DST-PRO+15APR2020+type@asset+block/petrol_consumption.csv'\n",
        "df = pd.read_csv(path)\n",
        "\n",
        "df.sample(5)"
      ],
      "metadata": {
        "colab": {
          "base_uri": "https://localhost:8080/",
          "height": 206
        },
        "id": "u8iXqJ_Wnj48",
        "outputId": "d2d9ce25-993f-4573-ff21-c16ee2dfd10c"
      },
      "execution_count": null,
      "outputs": [
        {
          "output_type": "execute_result",
          "data": {
            "text/html": [
              "\n",
              "  <div id=\"df-f39968ec-7410-4c22-9c99-7b32d2d797c8\">\n",
              "    <div class=\"colab-df-container\">\n",
              "      <div>\n",
              "<style scoped>\n",
              "    .dataframe tbody tr th:only-of-type {\n",
              "        vertical-align: middle;\n",
              "    }\n",
              "\n",
              "    .dataframe tbody tr th {\n",
              "        vertical-align: top;\n",
              "    }\n",
              "\n",
              "    .dataframe thead th {\n",
              "        text-align: right;\n",
              "    }\n",
              "</style>\n",
              "<table border=\"1\" class=\"dataframe\">\n",
              "  <thead>\n",
              "    <tr style=\"text-align: right;\">\n",
              "      <th></th>\n",
              "      <th>Petrol_tax</th>\n",
              "      <th>Average_income</th>\n",
              "      <th>Paved_Highways</th>\n",
              "      <th>Population_Driver_licence(%)</th>\n",
              "      <th>Petrol_Consumption</th>\n",
              "    </tr>\n",
              "  </thead>\n",
              "  <tbody>\n",
              "    <tr>\n",
              "      <th>17</th>\n",
              "      <td>7.0</td>\n",
              "      <td>3718</td>\n",
              "      <td>4725</td>\n",
              "      <td>0.540</td>\n",
              "      <td>714</td>\n",
              "    </tr>\n",
              "    <tr>\n",
              "      <th>45</th>\n",
              "      <td>9.0</td>\n",
              "      <td>4476</td>\n",
              "      <td>3942</td>\n",
              "      <td>0.571</td>\n",
              "      <td>510</td>\n",
              "    </tr>\n",
              "    <tr>\n",
              "      <th>4</th>\n",
              "      <td>8.0</td>\n",
              "      <td>4399</td>\n",
              "      <td>431</td>\n",
              "      <td>0.544</td>\n",
              "      <td>410</td>\n",
              "    </tr>\n",
              "    <tr>\n",
              "      <th>27</th>\n",
              "      <td>7.5</td>\n",
              "      <td>3846</td>\n",
              "      <td>9061</td>\n",
              "      <td>0.579</td>\n",
              "      <td>631</td>\n",
              "    </tr>\n",
              "    <tr>\n",
              "      <th>30</th>\n",
              "      <td>7.0</td>\n",
              "      <td>3640</td>\n",
              "      <td>6905</td>\n",
              "      <td>0.518</td>\n",
              "      <td>571</td>\n",
              "    </tr>\n",
              "  </tbody>\n",
              "</table>\n",
              "</div>\n",
              "      <button class=\"colab-df-convert\" onclick=\"convertToInteractive('df-f39968ec-7410-4c22-9c99-7b32d2d797c8')\"\n",
              "              title=\"Convert this dataframe to an interactive table.\"\n",
              "              style=\"display:none;\">\n",
              "        \n",
              "  <svg xmlns=\"http://www.w3.org/2000/svg\" height=\"24px\"viewBox=\"0 0 24 24\"\n",
              "       width=\"24px\">\n",
              "    <path d=\"M0 0h24v24H0V0z\" fill=\"none\"/>\n",
              "    <path d=\"M18.56 5.44l.94 2.06.94-2.06 2.06-.94-2.06-.94-.94-2.06-.94 2.06-2.06.94zm-11 1L8.5 8.5l.94-2.06 2.06-.94-2.06-.94L8.5 2.5l-.94 2.06-2.06.94zm10 10l.94 2.06.94-2.06 2.06-.94-2.06-.94-.94-2.06-.94 2.06-2.06.94z\"/><path d=\"M17.41 7.96l-1.37-1.37c-.4-.4-.92-.59-1.43-.59-.52 0-1.04.2-1.43.59L10.3 9.45l-7.72 7.72c-.78.78-.78 2.05 0 2.83L4 21.41c.39.39.9.59 1.41.59.51 0 1.02-.2 1.41-.59l7.78-7.78 2.81-2.81c.8-.78.8-2.07 0-2.86zM5.41 20L4 18.59l7.72-7.72 1.47 1.35L5.41 20z\"/>\n",
              "  </svg>\n",
              "      </button>\n",
              "      \n",
              "  <style>\n",
              "    .colab-df-container {\n",
              "      display:flex;\n",
              "      flex-wrap:wrap;\n",
              "      gap: 12px;\n",
              "    }\n",
              "\n",
              "    .colab-df-convert {\n",
              "      background-color: #E8F0FE;\n",
              "      border: none;\n",
              "      border-radius: 50%;\n",
              "      cursor: pointer;\n",
              "      display: none;\n",
              "      fill: #1967D2;\n",
              "      height: 32px;\n",
              "      padding: 0 0 0 0;\n",
              "      width: 32px;\n",
              "    }\n",
              "\n",
              "    .colab-df-convert:hover {\n",
              "      background-color: #E2EBFA;\n",
              "      box-shadow: 0px 1px 2px rgba(60, 64, 67, 0.3), 0px 1px 3px 1px rgba(60, 64, 67, 0.15);\n",
              "      fill: #174EA6;\n",
              "    }\n",
              "\n",
              "    [theme=dark] .colab-df-convert {\n",
              "      background-color: #3B4455;\n",
              "      fill: #D2E3FC;\n",
              "    }\n",
              "\n",
              "    [theme=dark] .colab-df-convert:hover {\n",
              "      background-color: #434B5C;\n",
              "      box-shadow: 0px 1px 3px 1px rgba(0, 0, 0, 0.15);\n",
              "      filter: drop-shadow(0px 1px 2px rgba(0, 0, 0, 0.3));\n",
              "      fill: #FFFFFF;\n",
              "    }\n",
              "  </style>\n",
              "\n",
              "      <script>\n",
              "        const buttonEl =\n",
              "          document.querySelector('#df-f39968ec-7410-4c22-9c99-7b32d2d797c8 button.colab-df-convert');\n",
              "        buttonEl.style.display =\n",
              "          google.colab.kernel.accessAllowed ? 'block' : 'none';\n",
              "\n",
              "        async function convertToInteractive(key) {\n",
              "          const element = document.querySelector('#df-f39968ec-7410-4c22-9c99-7b32d2d797c8');\n",
              "          const dataTable =\n",
              "            await google.colab.kernel.invokeFunction('convertToInteractive',\n",
              "                                                     [key], {});\n",
              "          if (!dataTable) return;\n",
              "\n",
              "          const docLinkHtml = 'Like what you see? Visit the ' +\n",
              "            '<a target=\"_blank\" href=https://colab.research.google.com/notebooks/data_table.ipynb>data table notebook</a>'\n",
              "            + ' to learn more about interactive tables.';\n",
              "          element.innerHTML = '';\n",
              "          dataTable['output_type'] = 'display_data';\n",
              "          await google.colab.output.renderOutput(dataTable, element);\n",
              "          const docLink = document.createElement('div');\n",
              "          docLink.innerHTML = docLinkHtml;\n",
              "          element.appendChild(docLink);\n",
              "        }\n",
              "      </script>\n",
              "    </div>\n",
              "  </div>\n",
              "  "
            ],
            "text/plain": [
              "    Petrol_tax  ...  Petrol_Consumption\n",
              "17         7.0  ...                 714\n",
              "45         9.0  ...                 510\n",
              "4          8.0  ...                 410\n",
              "27         7.5  ...                 631\n",
              "30         7.0  ...                 571\n",
              "\n",
              "[5 rows x 5 columns]"
            ]
          },
          "metadata": {},
          "execution_count": 21
        }
      ]
    },
    {
      "cell_type": "code",
      "source": [
        "RND_SEED = 42\n",
        "\n",
        "target = 'Petrol_Consumption'\n",
        "X = df.drop(target, axis=1).values\n",
        "Y = df[target].values\n",
        "\n",
        "X_train, X_test, Y_train, Y_test =\\\n",
        "    train_test_split(X, Y, test_size= 0.3, random_state=RND_SEED)\n",
        "\n",
        "tree_regr = DecisionTreeRegressor(random_state=RND_SEED)\n",
        "\n",
        "tree_regr.fit(X_train, Y_train)\n",
        "Y_pred = tree_regr.predict(X_test)\n",
        "\n",
        "RMSE = np.sqrt(1 / Y_test.shape[0] * (Y_pred - Y_test) @ (Y_pred - Y_test))\n",
        "TD = tree_regr.get_depth()\n",
        "\n",
        "print('RMSE = ', round(RMSE, 2),\n",
        "      '\\nTree depth = ', TD)"
      ],
      "metadata": {
        "colab": {
          "base_uri": "https://localhost:8080/"
        },
        "id": "WKrNota_H-_a",
        "outputId": "34da7f11-486f-478f-aa4a-c41c6efd89e4"
      },
      "execution_count": null,
      "outputs": [
        {
          "output_type": "stream",
          "name": "stdout",
          "text": [
            "RMSE =  87.97 \n",
            "Tree depth =  11\n"
          ]
        }
      ]
    },
    {
      "cell_type": "markdown",
      "source": [
        "#### Задание 5.4.1\n",
        "\n",
        "На рисунке представлено решающее дерево «Ситуации из жизни» с признаками «количество доступных денег» и «количество времени до важного события».\n",
        "![MLO_quiz_1.png](data:image/png;base64,iVBORw0KGgoAAAANSUhEUgAAA4wAAAHVCAYAAAC61HW0AAAABHNCSVQICAgIfAhkiAAAABl0RVh0U29mdHdhcmUAZ25vbWUtc2NyZWVuc2hvdO8Dvz4AACAASURBVHic7N1/XJR1vv//R0Y6rnqmhY1xaYXFTThYUNM6yMwKUcnRU1LekrRtMc+q0SlKa012W9Pto7KV5vbNxDZ/dG4p7a4rtRnYUuOmDu7AYbzJCp1cWI82WupYtsyGx0t30u8foPFjUFRwAJ/3241bOXP9eF3XDDBP3q/rel9x6tSpU4iIiIiIiIi00ifUBYiIiIiIiEj3pMAoIiIiIiIiQSkwioiIiIiISFAKjCIiIiIiIhKUAqOIiIiIiIgEpcAoIiIiIiIiQSkwioiIiIiISFAKjCIiIiIiIhKUAqOIiIiIiIgEpcAoIiIiIiIiQSkwioiIiIiISFAKjCIiIiIiIhKUAqOIiIiIiIgEpcAoIiIiIiIiQSkwioiIiIiISFAKjCIiIiIiIhKUAqOIiIiIiIgEpcAoIiIiIiIiQSkwioiIiIiISFAKjCIiIiIiIhKUAqOIiIiIiIgEpcAoIiIiIiIiQSkwioiIiIiISFAKjCIiIiIiIhKUAqOIiIiIiIgEpcAoIiIiIiIiQSkwioiIiIiISFAKjCIiIiIiIhKUAqOIiIiIiIgEpcAoIiIiIiIiQSkwioiIiIiISFAKjCIiIiIiIhKUAqOIiIiIiIgEFRbqAkS6u927d3PixIlQlyEil5nhw4eHugQRERGuOHXq1KlQFyHSXX388cf8/Oc/Jy4uLtSliMhl5NNPPyUzM5O77ror1KWIiMhlTiOMImcRCAS44oormDlzZqhLEZHLyPLlywkEAqEuQ0RERNcwioiIiIiISHAKjCIiIiIiIhKUAqOIiIiIiIgEpcAoIiIiIiIiQSkwioiIiIiISFAKjCIiIiIiIhKUAqOIiIiIiIgEpcAo0l1UzMUaGU74iLl42ky/ZlC7bi5TbrcSGxVO1C1LqNYUbSIiIiLSxcJCXYCInJt3zRTGP+nEFwCTJYaYa83003eviIiIiHQxfeQU6e78Tn612IkPC5kvvM2rU+MxhbomEREREbksqCVVpJvzritg/adgSp3FfIVFEREREbmEFBhFujPDw6rXXBhhFu59MJuY4AtRu2EJMyekYx0WRVR0LAk/GE/Os0VU+9su7XnaSnh4+Fm/Ep50fb3C5jwSIsOJeqCINpurK2B8dDjh4bHM3NT4UO3idMLDoxjzYm2QUouZEh1OeMJMnK2vwTxSTeGCHMb/IIHY6CiihlkZ80Aeq8p87Z0caksLyLs/HWtCLFFRTcf9YjFeo3EJVweONTwlv/Ga0dO1tXo+KjoW6+2TyFtT3fb4z/Pcn9X2udgjz1Jne9e2nu/+fZ6m82xtdp7nUri9aQVfIZOiznHOwqOYss4PVfmNNY/Iw2UE2VfAQ/4PwgmPHs+qA+2f4xZfkeks2XX68JqWHxbk/cLp93IUk9Z8/R7xvjyGqPBw0hcHef+14l0xnqjwcOwLqht3V7WEMdHhhEdaydvc6gQecTJzRDjhkQlMWuM957ZFRER6C7WkinRj3t+/QGEdkJjNtNFBxhYDXooeu48Z62oxTBaS7BnYzAZ1O8ooWuyiZMP7LPrNCrKHtl3VYsskdWi/lg8e8FBU1tEPwz4Kn3kBV8P5HlUQewrJmZhH0R4D81AbaXfG0O9IHWWbVpFXWoxz4Tpez0lqNrrqw/nkJKa8Vt143KMysA30U+cpo2iBC+eWBWxYl4slcRyTJ/k4BsBx6jYVU+23YBubSsyAxi31j0wiMgw4HUhMMaTdbSOyaR3/gToqy52serKSuqOlvP1wfONyF3HugwqAQZDXJeDFs8FDm1flAvZv1Kxiyv15OD8Fc1waaWNscLgGV2kBMzZtwrPibV5KjSZtQhbm0+fjsIeizV5McWmMs0Y2PdifG2P6gTWLbGsBc6uKeXPbfNJavUeN8vUU/Q3MY7O5N4rGA2xzjk87jndLMZ4jHTxfXcBkzWXxE+8zdoGHwqdf4N73FmAbCOCn+Jk81u4By4QFLH0g+J9uREREeiMFRpHu6Kif2rJl/HSBE39YDJNnP0pSkO9W72szmb2uFoZmsfQ3S8mOa/rAbngp/tl9PLSmiLyH40naOKvV+ibiJy1ixVRLi+0Zb06hpIOB0V8yl/xN7Q+jHe/QVoBALUsezqNoDyQ9so51z2RgaarV2LWKh36YR/EzD5F/82YWjGg8Pv+GucxYU40RncnS375KdkLTcfurWfLA3eSX5TPvv8bx9sMLeGnS6R3VsuR2J9W7ornrmRXkthfkBqSR+/JLZDQ7X/5NeYy9fxWuV1fjenARaWEXc+7bcew4BiaSpy5lxSTz148fKWTSxraB8bz3H6im4PF5OD81Y3vsddbMTTtznr0bZnLfg2tZ+/QvGbftJXJfTvt6RyU5lGz20i8llxX/X0arKuLJmpRMvsfF+2868Y/O5OvKDcp+X4wXC1kTM5o9Hvwcg5eCO5whDYxgIumxpcxx3srcitXMfvEuSufa8G+Yzbx1Xhg6mUXPZWE594ZERER6DbWkinQ3ewoYExuL/YEluMJs5K58m+fHmdsuF2hsV/WHxZD9XLPAAGCKIfO5pUxLAKNqFau3BOsXvAgNLvIXFuGLyiLr1lYjn2FgwgCjY5HRKFvNqioDEnNZ2iwsApgSprPoqUzMRi2FrzqbWkJ9rF9Tgg8zmXOXfh0WAcxJzHpqOraERPrVe4O0kF4Y86hUEk3AFz78Abrk3BtH6zHox9XmIK91axey//JCCmsMSJzO4mZhESDm7p+Te3c8STHH8B3oULlnWO7OJiMCfJuKcDYPe34n60t9EJVJ9ugOHFN3ERZP7pI5pJkNqlc+TcGmIuY+XYQ3LJ7pi+eTGRHqAkVERC4tBUaR7ibCRtYDmdgsJvDVULKuiJpgoy77KqncB1gyGJcepF3VZOPesfEQ8FFZXteJBRpUvzyPwj0WMp+aQ2Z4y2cHRzaOv3gP+OhIVKrbVoYvAPGj/y3oSJzFnsqNJvB7ytgZAIxKKncYYEomM1gQSZnDe39+j3VPpdFZMcX3XjEeAxiWRFwYXXLu/V/4Oc5g/uVbHVj4AvZfu72y8TynBzvPFrJXlrNlwwqy4zpU7tcixpE91gJHmgJiE19JIc4jEH/3vaT1tDs1JeTy/FNpmBs85N+fQ9GnJpIeXMr8W3tQ8BUREekkCowi3Y05mQdfeJ33tv2O3ETwluYzceoSqlunr8OHOBwAU1RMi9Gi5mJiojEBhw63d+OYC7CnkHkrqumXOov5E9o255ntaSSawF9SQEFVyzE+/959jSN0zfgOHAKg9sUxwW+CclPTDVW+8HH4aNN/jwPmGCIHdN5hnXHURcFjOeQ83Pg1ZUI66Q8X4TUlkfv0dOLD6JJzv8+7DyMsmvghHVj4Avbv+9SHgQnLtdEdqqfjTKROzCQmzKDsreKm1lkvxW+V4Q9LIivLdvG7OLKWSUFuCDRmefvt09XP2r9eNiqWhBHpjH84n6Kqjo07x099nidTTI3Xtg7NZv5TNt2hWERELku6hlGku4pIY8HK+dTcmYerbAkznk2j9P+d34fWTm5EpfFGN/m4vrIx55npxIQZVLdeZGg2cx5cz30vu8gfk0KRPYk483EOfbSTmj3+xpqaDdQYTVc7xqRkYTvbvUT63UjMlXx9c5quYnhxrQsSRMzH8e31Ytya1KHX4PzOvZ/aXV6ITCW6k1oeO/+1b5/Jnk3WsFUsKV9PyZ7p5AZKWF9uYBpxL1mJnbGDGNLutDXenKgZf3UJzl3BVzEnZpAxvOmNdtzPYW8dlW8uwbWhiPdfKWXF3ee4EnFfGa6/NZ3FfU7e3OQnLVhruIiISC+nwCjSncVN56XZJaT/zEX1ytksGV/KHGtTXIkcTGQYeA94G1sNg3w37/PuwwBiIjvnNh31pb9kSamf+JyF5LYbBMyk/b8NlMa9QP6KEiqryjg0wMLg2DTuHduPna8VtQiZgyNjAC/mjFmseCK+A1VYGoODv2nEsc1neC+uN8rwW2ykjY4//7bUiMms29XshiyGH6+nkLxH5lL0sylYhpWz4NpOPvdGJZ4aA7MtmRs78lP5Al77qy0WwIfv030Q5LYt/qpiiusg3p6BLfo8x9LCksi6z0bBL2pYv6GWVNZTY5hIvS+rnalgztOANHJfaX2TnMZpNZy7go/gxoybz4rZLd9P3nU5jH+siKIFy3jwzgWt7tLaTMDLqtn5OI+YsU1I4x8bi1n79GxG21aQqTveiIjIZUYtqSLdXMzp1jijmoI5BdSeHmGLTiY5GvA5KSkLMp5keHintBbCLCTb2l6Y1u98/1x0tIxfPbMWb9Rk5s8+10inmaQfLWDd1ir27jvA3l1VlL/7Oi89nUlMq/0m2hKxhBnUlZZ8fWzND6MsnzG3jGH840WN7Y4Dk0i2msCo5P0tQdoLa4qY98QMpjxbwqHOGI00mYlJzWXOxHgIeCnbVnfR577N4uVOXD4TN45K7VjAvYD9x41IxhIG3m2uIOfZj2v5DGY8PIOVVR0poK34CfeSOtCgrnQ5q0vrMCIyuPfO7pWuYu7OxDYAOFBH7dH2l6t9bSb5m/2YUh5l6Suv8vwD8bCviLyni+nE5m4REZEeQYFRpLsLi2dafi5JJjAqlvHT15raJcNsTJ+ahjngpfCpGRTVNQsOhpfip2ezeheYErKZdubGKAb1DY3Lmfqd3yiSUbaWtXssZD71czI6sTPPNPpBshNMGJ4lPPSME1/zMHOgmHk/K8BTU0P9tXFNo1Ux3PvAOCz4KFowm6I9zY67oZqCBauoDphIy8oKOvJ2QQJeqncdAkyNI3UXdO7b46Pkv9bjHZBBdkcD1gXs35SazfREE0bNMn76oqfFHWR9pfn8cqMfou/l3tsv8Eq9qHu5d7QZo2ota6sMLGOzGdfN7ijqe68Yz1EgKo749q5/rSvgp8+68A+0Mev5XOLDTKQ9NZ/JQ8G3IY+8NxUZRUTk8qKWVJEewGSdxfypJYxfXotrcR6FY9eRHQ0xU19icc19zHijiJz0MpaNSibObOD1lOHZZ2CKzmT+r2eRZDJwvTiD1VVeqrf4ICye6O+dZ+oLgPnWWcyf1MmjRiYbs5bNp3pyHs7lk7CW2Ei9OQZTg5fqCg/eBrCMXsDSx5LOrGKesIClnjpyVhSRk+5hZYqNmIF+6jxlVH9qYBm7iOcfvMBmyKab3qw//e/jfrzVlXj2+OHaLKY1hbqOn/uz7KuuiLnPraSo1A+WQxQ/k8P7rZcJeKkLAIc38cITJqY/PYcMywXsPyyJ3GXzqfxhHs5nx3DTm2mkJUbC4Rpc5bX4TUlMf2EOGQMv7LSBmXET78JSshYfMWROTA3pTWK8pb8kZ0+/xn8c93P4f6uprPFhhFnIfGI6tjDazG1JoJaCx1/A5TeRNHsxuYlNR2DOYP4zWbimFlH8dB5F9tfJirqURyMiIhI6CowiPYKJtNnzmVw6ibV7nOQ/U0TGa1lYwmLIermUxPRlLPlNCWUeJ3VfmbHEJjP5qWymTc0iKQLAzz5PCcWlBqaIeDIee54nR5xnCQNtPPrM9M65Jq310SVOZ917N1K4fCVFm8qoLPVwPMyCJSGT6ROmMWtqWqu7gVrIeK6UUnsBy9cU8b6nhJrj/bAMS2X6I7nMerD18ueh9U1vwkyYo+JIm5TJtNm5X1/D1uFzfxa+SkpKPI2jqp96KF7naX/Zhlqcb/Yj+ZHGwHgh+zclNJ7nVS8vY31pJc6NlWCOIfHuWTw441GyEi9u6Nhks5EUthZnbBbZ9tDeU9RfVUzR6fbaMBMms4W40ZPJnPoTcscGexcbVL88g/wKP6bEWSx+ouXNjczjFjDn7jJy3ixm7s8Ksa3J7pLvBRERke7milOnTp0KdREi3dXu3bv5xS9+wbJly0JdivRGZXlYJxSS9PIuXp909rDmfXkM9mePM+tPW5iVcInqO0++NZOwPl5G4tzNvNehGxhJe5YvX05CQgL33HNPqEsREZHLnK5hFBGRC9d0zamxp4i5S50Y5lQmT1JYFBER6S3UkioiIhes9sV0xr5cx/EGAwMTSU/N0fV9IiIivYgCo4hIqAzPZtFrqVx987mvHbTcOYdXYyFuyCWo6zwMTriRwVfW4bXEk/HAfJa2uvZPREREejYFRhGRUIlIImNc0rmXA0xD08gc2sX1XADzuJcoH/dSqMsQERGRLqJrGEVERERERCQoBUYREREREREJSoFRREREREREglJgFBERERERkaAUGEVERERERCQoBUYREREREREJSoFRRKQ3aKil+MWZTLrFSmx0FFHRsVhvn8TMF514jXbWOeCi4PHx2BNjiYqKJSFlDDkLiqj2t7cTP9Xr5jJlTNM+hllJn5hHwWZvFx3URfDXUvxiHlPusGMdFkVUZDjh4c2+UubiCVzcLow9Tgoen0T6iFiioprOx4Qc8tdV0+4pFBER6WE0D6OISE93xMXcifdRUGVgssSTnJ6BOXCIOo+TtQucvOOcxeu/nUOaudk6ewqZcs8MiveZsCQmk2Hrx6EdZRS9mEPJpp387p0FLZfHj+sXd3Pfy9UY5hhsozIYfLQO15ZVzN1SjOuFt1n3QPwlPvDgjF2FPDQ5j+I9QZJymAnz0GSyn34U20X8BjQqlnD35Hw8R8A81EbqnTGYvqihsryIJZtLKNqylLdfziJGv2VFRKSH068yEZEezcD17EwKqgws4xbx9vLpxA9seuqIhyVTJ5JftoSZi1MpX5iGCQAvq2bPpXifmbSnfs/rs22YAYxaCh+7jxlvFvDTxRlsPrM8GGX5zHylGmNoFiveWkFWdOPj/rJ8Jj6wBOcv5rEqfR3Toy/x4bcWqKXg8bzGY3tkET+ZkEr8UAvmASZMnfUbz/CQPysfzxETSY+8zrpnMrA0bdtftYqcB/JwrpvNTJuNt6fGdNJORUREQkMtqSIiPVmDk8INXhiYxqznmoVFgAgbsxY+SlIYeDeUUHm6BbOqkNVlfkiczvwnmsIigCme7Ofmk2WB2jdWU3Lk9BN+Slauxxswkzl78ZmwCGBOncPSR5Iw+Z2sfqO6q4/23LYXUlhlEP/wGn63MJs0awwWcyeGRcAoL6Tob0DcNBY//XVYBDBbp7P0ZxmY8VO5wUk3bNYVERE5LwqMIl3OT+H9US2vn2rxFcWkNb42axl1xSx5bDzpNzVeHxV7UzqTHi/Aua91m52PVROiCI+0M3d7kN2X5hAbHk7Uw8UXv49g9Sfm4TrLtWDel8cQ1bRs1IRVwT9A7ytgfFTT9kYEubbsSDWFC3IY/4OEM9fOjXkgj1Vlbc9b9bPphIdHMeblIHs6UsikqFb78Bc1PnbT2Y/jzPG80ng86c+2CkeBYnJiwwmPzaG41XZqFzfV9Erbmjr+GrTjKFhSM0gbPY7UyCDPx8YQYwL8Pg431VW7xYU3APGj/42k1kEqIo3MUWbwu3h/W1MNhov3y/0wMI3M0WZaix+bSVwY1G5yUnuueo1ipkSHE3V3AbUHXBQ8PB57QtM1l2OmMPeN5tf/+SmaGkt4eBTjX2v7WgP4100hNjwc689cGEBteRm+sCSy7kvEt6mAmRPsJMRGERWbgH3CTJaU1NLBM9uu40Tzb+MyyPzRvdhMbZ+3DE9icBgYDX6Mi7xOUkREJNTUkipyqQyMJ+PORJp/3PZXO3HuOt5mUV9JHpMeWUV1g4kYWyrj7Gb8ezyUrZmLc6OTOWtfZ1ZK2w/u5+PC9mEmfmwGic0e7m9OwtLBfRqeEpwHpjM9quXj3g3vUNnep/g9heRMzKNoj4F5qI20O2Pod6SOsk2ryCstxrlwHa/nJBHkc3u31ymvsyWTBa9ltvu08eFO6gxgaHTT9XQGdXV1GJiIi4sLsoaZmLgYoJq6ujogCfbWUXcUiI0jLlg5sXHEmaD6b7XUNdBylLO9unxOfnpXPi5/HBl3ZpP6lZey0mIKHnOyqeZ1Sp/LwIyZcRPvwlKylsoNRXin5tKywdPH+t878YfFM31SY/vsvj1ejH5pGKX3MfZZF35LEqm3jsPU4KW6Yi35m9+h+JEVrFuY0eH3bZszdOssXrq1/edrtzUGcktckq5hFBGRHk+/ykS6nIFxHIgax5Mvz2lxow3P01acu1qNnOwrZMYTq6gOxDN55e94fkJMUxgy8L75U+57bC35/zmPpK0vkXGhmfFC9xE2mNE/WcGCEee/y3hbEoeqKnFu8jH9geYf1WspersGI8KC2e9reXfJQC1LHs6jaA8kPbKuxbVixq5VPPTDPIqfeYj8mzezYEQPi4yX4nUOeCn8VSG1ARNJd9/b9N7z4zt8HMLMWKKCb9hisWACfL76xgc+9+EPgGmwpUX75RkmM5Zw4PBhfF8AHQiM1LmoTJjOuq2LyDj9B4R9ReTck0PRa3nMS9/CS2PNmNInkBm9llWe9RTtymVWQrNt7ClifbmBKTGLLGvTsR05DkedFDxrYBm3lLeXZp8JsMaeImZMzKFoRQ55CRW8/qMLjYzt85Xk8dBiD4Y5jTkzMnrkHzJERESaU0uqSJerx98AJvPV/EsH/kRT/UYBziMQc//zzUIEgImYCc8zf6IF9q2n4M3gLXodcSn20ZKJfxmVSZrZoKzU2TIU1pRQXGOQdGcmN7Y6P0bZalZVGZCYy9JnWl4rZkqYzqKnMjEbtRS+6uxx0xh0/Wvgx7VgCvM2+TElTGP+I0lNjxscPwZwNf36B1/T1K8puh5tGv0+fpz6ANDP1E4A6o/JBHCM4x3t9wyLIXvh/K/DIkB0FoufysQc8LJ+TXHja2pKI3tCPBjVFL/dsg24+s31eAwTyZOyiG86NgJAwMCIyGLO4uwWo52moVksfiYLC36KVxRS3antoga1a3IYm7OKapKY/sqr5Cacey0REZHuToFRpKsFfNT7DIgwM/icC3spq/BCmIW0sclBPpybSE1NxoTBzvLKC7wW61LsI4ir08hMNWOUO3Ee+frh6reLqA5LIvPuOPq1WqVuWxm+9q61Ayz2VG40gd9Txs4eda1YV78GPpxPT2TKy9UY0Zks+q/WU2R00Olz3hXn1pLBuNS2R25OzyB5IBgez5k25aQJ2dhMUL1h/dfXngY8rH+zGsypZN19ulHV1Gw7mYyLaLtbc3omqWbgb2VUHu68w/Gte4jxTxbhHZDGrDc2sGhs549eioiIhIJaUkW62tHD7PsCLEOjOedn9sBhDn1qQMBg7cQo1p5t2cP78MHX13QFain4t3AK2ln8zEfpi9nHRfkXUsekYS5xUbzFT9YEc+OH/o21mG5awLh4E5Wt1vAdOARA7YtjCH/xLJv+wsfho/D1CTbw/MJK+C/Oo7x9qxgfuarx/8NMmMwW4obbSL07m0cfSAveinmhuvI1aKil8In/IO/NWhiaxdLfLCW7xaWKpqaRxdMjjW0ZTcOEpn5NEX5AP64OA99xAwOCvI+PYRgA/enXkXZUwDQkJvj1feZoBg8A/Ifw+Wl848Zlca89H09ZCevL52BLNWGUradkD5jvzibzTDbrh6lp/zFDY4KPhppiiIkE/ubD5wOigi10nhqc/HJhMb6wJGat/R1zUtSIKiIivYcCo0hX+9tO6gwTMUPPY1LzMAtJY1OJG9D+Iv2HxrX6QGwmfnQGia1HVQ54KCkLcsfQC9rHxTBhGZ1BmqkYV6kL/4RMzNvfoWSPieSp44i/sqzNGgaNLZExKVnYzpaY+t1IzJUtH7JYM0htfYeW417KSjwEbfIcGE/amEQiw4DAcY5/cYjqHUUUlBVRtGkRb6+ZTnxn/8Ts7NfggJO5P86hwOPHbMtlxX8taNnyCYAZS2Q/CPjwHTYgyNZ9Ph8GEGdpSmIWC+Yw8H7uwxegbXg2/I3XLvaLbLyW8aI0uwnUmf1YuPf+DPI3F1P8+zLmp6ZS9lYxXixMnpTRLMCaiPyXpn+FtR6v/nr7xlcA/TrvN2CVE5cPTOnTma6wKCIivYwCo0gX83pq8BLDOGsHWtTC/oXBESbYZyL1kRUsSDmPHYUNZnRekBvSlOYQW+b9+mP4xezjYkVkkDHKRPGWYlwNGZjfLsFrSiZ3XAzQNjAOjowBvJgzZrHiifMI3JiIHr+IFY+1SplHCplU6sEZbJXwVH7yyiLSmv9UPOIk765JrNqUz5LSbFaM66Qw0BWvwZ4icibOoGgPxExYyu9ezG7nbqWNd0c14cF7+i6oLRh467yAmbiEpvMXnUTcAKje13i31KTWQ4x766gzwJQYT1wHT5Fx+BCHA7QdZTziw+sHImKIbrYf85hs7rIUs3bTepwHDIpLfRCdS/aoljuM+V40Jjz4PvUBQd4zfi/7DgBhFmI6Y3QRML6oxxcAc3T0Bd95VUREpLvSNYwiXcqLs7QSIyqV1MSOLB9Pss0CAS+bSlxBr12rfnkS6bePJ2fFhU6Sfin20R4LGWNTMfnL2PSekzc3ejGNyiKznQ/uibZELGEGdaUl1Aa5js4oy2fMLWMY/3hR10yQHpHBvbfGQOA43r2duYdOfg0OFJMzMYeiPf2wPfI6pSvbC4tNe09PIyYM6jY5255Xv5PibX4wp5FmbwpjpmT+zW6Go5W8v6Xt7YVqNxVTF4CYUWnBIlpw+zbxfk3bh33vFbPTAHNKasubIA1MZcLdMXCkjKJFRZT5IWlC23kQY0Y1HptvSwmuhiDb37geVwOYbGmkBrnG8UKY7lzKrr17qViY1jkbFBER6UYUGEW6kLG9kNXlBvET7m05cnUWtgemkzYQal/7KT9d13KScX9ZPrN/5aS6xsvVCcHm0Os++2iPZXQGySYf7zw7j3d8ZjLuzmx3VMY0+kGyE0wYniU89IwTX/Nwc6CYeT8rwFNTQ/21cZ10nWUrR1y8U+YD+hET27l76LzXwMuqx2dQtMdE/NQV/L4j8wtas8m2mzBqljFjsefrO8waXop+No8SH8RMmEbWmUBlZtwDdxGDj6IFEpRoFgAAIABJREFUsyna83W1/ool/HR5NcbANKZNsXX8BARqKfjZXFzN+oONqgJmPNs4r2L2tIxW10qaSJuURTw+in9TjC/Mxr0TWo+OAtbp5I42w55CfvpUEd5mJ9aoWdW0/RiyH8tu8Z7x7XLhKnPh2XP+txgyDtexs3onO3f5Ou8mUSIiIt2EWlJFuoQf18vzKHhjPbUBE/E1K8l5eGXbparrAYPq381lZuBRXpqaBHG5vLR4J/fNLmLtw7fy/vJkkuMiMT71ULndix8ztidWMCfIHSY77FLsoz1RmYyzzcO12QsRmWSOPcutgEw2Zi2bT/XkPJzLJ2EtsZF6c0zTJOwevA1gGb2ApY8FCQ7n64syCh7LobDpn8cP11G9oxqvH8ypc5g1tuW58Jbmk7Ovee2H8RwH8LD6sRyKmz1zvC7I6GQnvQbG5gIKmkb9vBtnkPJeOwv2S2XRn1aQaQaIIfe5+bgm5uFcfDcppakkx5k4VOXEs8fAlJjLS3PTWlzdaBo9n0VTdzJlRRE56R5WptsYbNRRua0aX8BCxgvPM33oWUttyRSDZV8B40dtIi01EXPD6W2ZSXvq1eA3jrFmkT2igLkVBqbUe8kKmqUtZL+wFM+eh1j7Rg72spVk2P+Vfv6/UrbNg88wY5u9gvmjm792fsqevY+cEoP4J7ZQPvf83k++DbO5b44HUhZQ/m5u1/zxQkREJEQUGEW6hEHdlvU46xrHG2o3FVF7lqV9FUWsj8lsDIxAzKQVlA7/N5YtL8RZvhPnxuMwwEJc+mTunfoTpo1t5w6Q5+FS7CM4CxljkjFtdtFvdNY5J6U3JU5n3Xs3Urh8JUWbyqgs9XA8zIIlIZPpE6Yxa2on3cG0oRbnumav0kAzMUPSyMrJZtZjWW1ueOOvcVIUpKUSvLjWBWtfbXs2O+M1qKsow9s08mr4zjLCZfI3v50MJEzn9Y0xrP5VAYV/qsS58Tj9IuPIfGQ6s2Znt71OETMZz22gNPEFlqwpwbWlhBrMxNgnM/3hn5A7+jxjkjmN+RvGUbf4BQq3lODDQlz6dGY9PIvpqe2NkcaTfLMFKurJmHhv+yOpUZm8tHEwtheXsXZTJc4NHowwC/E3ZJI97efMmhDfRe9tERGR3ueKU6dOnQp1ESLd1e7du/nFL37BsmXLznNNH6smWMn7NJf3ts3BdrZAE3AyM2ES60e/zoFXMi+mXJHuzyhmStwUigdMZl3NS2ScT9g3PMxNH0OBP4vXK06PlvZOy5cvJyEhgXvuuSfUpYiIyGVO1zCKiEj3FgACfjwv51NYB/ETHjznyLSIiIh0DrWkiohI92UUk5P4ECVHDQwDuDaLxY/Z1FIqIiJyiSgwinQJMxmzX+X1Y3HEneu7LCyJaS+/zjhL8iWpTKRHCYvhxuFmSqr6EZNyF7Oef54sTXYoIiJyySgwinQJEzEpmR28W6KFpLG6dlEuE6ZMXt/3RceXD0sid8MucruuIhERETkLXcMoIiIiIiIiQSkwioiIiIiISFBqSRU5iz59+nDq1CleeumlUJciPcjJkyf58ssvOXHiBH369GHgwIH069cv1GVJD/Lpp59y/fXXh7oMERERzcMoci7vvPMO//znP0NdhvQAn332GV6vl08++YRvfvObDB48mKNHj/Lpp59iMpn4zne+Q3R0NAMGDAh1qdID3HLLLXzrW98KdRkiInKZU2AUEbkIn332GS6XC5fLxYkTJxg1ahS33347gwcPPrNMIBBg586duN1uduzYwZAhQ7Db7SQnJxMRERHC6kVERETOToFRROQ8nThxgsrKSrZu3cpf//pXbrrpJtLT07npppu48sorz7quYRjs2LEDt9tNTU0NQ4cOxeFwkJKSwqBBgy7REYiIiIh0jAKjiEgH7d69m61bt1JeXk54eDjp6en84Ac/wGw2X9D2Ghoa8Hg8uN1uamtrGT58OA6HA5vNRv/+/Tu5ehEREZHzp8AoInIWX3zxxZmW03/84x84HA5uueUWvve973Xqfurr66moqMDtduP1erFardjtdqxWK3379u3UfYmIiIh0lAKjiEgrgUCA7du3s3XrVmpqaoiLi+OWW27BbrdfkvB2+PBh3G435eXlfP7554wYMQK73U5iYuI5W15FREREOpMCo4hIk/379/PBBx/w5z//mb59+5Kamsott9zS4gY2oajpdHg8duwYI0eOxG63Ex8fT58+mkpXREREupYCo4hc1r788ku2bdvG5s2b+eSTTxg5ciTp6ekkJiZ2u0C2e/du3G43FRUVAIwcORKHw8GwYcNCXJmIiIj0VgqMInLZCQQC7NixA5fLxc6dO/nOd75zpuX0Qm9gcymdPHmSjz76iPLyciorKxkwYAB2ux2Hw8GQIUNCXZ6IiIj0IgqMInLZ2L9/P3/6059wu9306dOHUaNGMWrUKL773e+GurQL1nqOx8jIyDPhMTIyMtTliYiISA+nwCgivdrpllOXy8Unn3zCTTfdRFpaGjfffHOvu4FM8zkeq6ur+e53v4vdbic5OZmIiIhQlyciIiI9kAKjiPQ6Pb3ltDM0n+Nx165dDBs2DIfDQUpKCoMGDQp1eSIiItJDKDCKSK+xZ88eXC5Xr2o57QzN53jcu3cv119/PQ6HA5vNRv/+/UNdnoiIiHRjCowi0qN9+eWXbNmyBZfLxaFDh3p1y2lnaD7H46FDh7BardjtdqxW6yWZY1JERER6FgVGEelx1HLaOfbv309lZSVut5v6+npGjBiB3W4nMTFRYVtEREQABUYR6UGat5wCOBwO0tPTL/uW086wd+/eM3M8njhxgpEjR2K324mPj+9281GKiIjIpaPAKCLdWn19PWVlZW1aTq1WK2FhYaEur9c5deoUtbW1uN1uKisr6dOnDyNHjsThcDBs2LBQlyciIiKXmAKjiHQ7gUCAyspKXC4XNTU1REdHq+U0BL766is+/PBD3G4327dvZ9CgQWfmeBwyZEioyxMREZFLQIFRRLoNtZx2XydOnOAvf/kLbrebqqoqBg8efCY8RkZGhro8ERER6SIKjCISUmo57XmOHTvG9u3bcbvdfPjhh8TGxmK320lOTiYiIiLU5YmIiEgnUmAUkUvuxIkTbN++XS2nvcCXX35JRUUF5eXl1NbWEhcXh8PhICUlhUGDBoW6PBEREblICowicsnU1dXhcrmoqKigT58+ajntZY4cOUJ5eTnl5eXs27eP66+/HofDgc1mo3///qEuT0RERC6AAqOIdCm1nF6eDh48iNvtxu128/nnn2O1WrHb7VitVvr27Rvq8kRERKSDFBhFpNOp5VSaaz7H4//93/8xYsQI7HY7iYmJXHnllaEuT0RERM5CgVFEOo1aTuVsWs/xeOrUKUaOHIndbic+Pp4+ffqEukQRERFpRYFRRC5KfX09mzdvxuVy8fnnn6vlVDqk9RyP/fr1Y+TIkTgcDoYNGxbq8kRERKSJ/pwrvVvgXaZ/8wquuKKdr/43k/9h65XqqfptPtPvuJmh3/4m/a+6gv6Dvs1Q+wQeffkDDgVCcSDdy4kTJ3C73Tz33HPk5uZSWVnJmDFjWLZsGbNmzcJmsyksylldeeWV3HjjjTz88MO88sor/Md//Ad///vfWbhwIY8//jjr1q1j//79oS4zZKrm3cwVV/THsXhv2yc/X82d/a/gimFPUt7q55Hx17fIn3o7N8d+k/79+/PN2Ju5M2cJ735snFnmg58Mbf9n4umvhKfbbFtERC5P+kQnvd4xgOtu43774GaPGuxyvkVVfeulD/FWzm38aOUujKtjsafehv1qE/V7y3FXvEVBxbt88LeNuJfextWX7Ai6j2Atp/fdd59aTuWi9O3bl+TkZJKTk1vM8VhSUkJUVBR2ux2Hw0FkZGSoS+3WDv3hUe54oICqBhOxKbdxT+rV1P+tnA9WPsm7f3iXhX94kzmjrubb1nuYNvlg489GDHb98S2q6gdjz7yN2IGN2+o/+GYG6xOCiIigwCi9XcDACMDVqbN447U7mj2xi3z7u1T9peXixrYXePK/dmFcdz9vbn6De77z9XOH/vgot91VwK61q3l3/m3cf5kkxiNHjuByuVq0nD700ENqOZUu0b9/f1JTU0lNTW0xx+P69ev53ve+h91uJzk5mYiIiFCX2r18vJppOQVUBRKY9puNLPthLCYADPb+9lHunLqapyc/ibVqFXdMfoFVk0+vuIt827tUfRjLhEVvMOu6kB2BiIh0U/q0J71bw98xAvDNb32zQ4vX/92EPfMObstc2CIsAgzOmMY9/1pA/u69HPwcevMQ44kTJ/jv//5vtm7dyq5du4iKiuL2228nNTVVdzmVS2bQoEFkZGSQkZFxZo7Hbdu2UVhYSFxcHA6Hg5SUFAYNGhTqUkOu6rUlvPs5xD68rFlYBDAR+8NlvLB5I3eufIMlv13IHQ8PPsuWREREWlJglN7t0CEOYmLwNR1Ld4MzF/JGZtvH6z+uYkf5m2daWI1eem1PsJbT+++/n6FDh4a6NLnMRUREMG7cOMaNG3dmjsfS0lLWrFnD9ddfj8PhwGaz0b9//1CXGgJ7+WDbXggbzG2ZjmZh8TQTt93qwLTyLXaUuTEevifIMiIiIsEpMErvtn8vBwMmbrsutuPrNOzl3bWreWtzOR/9bS97d+/lUEOz500G9KLAqJZT6Wm+/e1vM2HCBCZMmMD+/ftxu9289dZbrF69GqvVit1ux2q10rdv31CXepEMyvOGckXeORYLHOLgfgMCh1h9R39Wn23ZQ3s5CJzHT0QREbnM6dOg9Gp7P/yIemIZHtvBv6d//Bt+9O/T+M1fDRg4GKvtZm774T0Mt96M3X417/74Tpb8tWtrvhQMw8Dj8ajlVHq8IUOGMGnSJCZNmsTu3btxu928/vrrrFixghEjRmC327nhhht67B8/Bo+4g9sSWnVIGHv54A/lHGq9cNhgrJm3kTCw/e31H5bA5TgGKyIiF65n/gYV6ZB6ysurMAZPw/6vHVv+rZ/n8pu/GsT+cBUbV0xr+cErUM67De2u3CN89NFHuFwu/vu//5urrrpKLafSq1x33XVcd911ZGdn89FHH1FeXk5BQQEANpsNh8PB8OHD6dOnp8woZSJ24jLemN1qPPDz1dxZXM67p/8ddjXf/pYJPu7PbT95gxdGXeo6RUSkN1NglN7r83d5s8zg6ozbuLkjA4yBHbjL6yEsgftnTGv7V/rdH+D+hB7Xjhqs5fSRRx5Ry6n0Wn369OGGG27ghhtu4Mc//jE7d+7E7XazZMkS+vfvz8iRI3E4HAwbNizUpXaSBBz2b0PFXt596wMWjrqtzTWKVYvvZNrvDRIeeIE3HrOGpEoREemZ9GlReq29a5fxbv1gfjT5jo7d0DTs23zzWyb4eC/l5bsgJeHr5w59wNMPvkC5AYQZHDPa3Uq3oJZTkUZhYWF8//vf5/vf/z6GYbBjxw7cbjcLFiwgPDz8zByPQ4YMCXWpF8Wek8ttK5/kg1ce5VHrmyybnHAmNNZvfprcX75LVUMsjkUJZ92OiIhIawqM0vsEqijIeZrVxeUYYbHs/e00fvTb1gsZ7PrYgMBe3pw3HdNjy5h1awL3P3IHy3Le4oM8BzdvnoDjuyaMT3bwgbOcvSSQcJ3Bro//zqHPQnFgZ3fq1Cl27dqlllORdphMJhwOBw6Hg4aGBjweD263m3feeYfvfOc7Z8JjZGRkqEs9f/86i1XLd3DnI79h9QM3s/FXDhwJgzH2l+Ou2Es9V2N/6g0W3qr7o4qIyPlRYJReaC/u9e9S1dD4/x+s3XuWZeup+sMbfPvfFzLr1sHE/vgNPjAt5Omlv+GDzaupCpgY/J0Ebv7hQl74SS7WP97B8J+U43aWY/y7vVvcmv7IkSN88MEHlJWV8fe//10tpyIdMHDgQG699VZuvfVW6uvrqaiowO128/vf/57rrrsOu91OcnIyERERoS61w2Inv4E78U5e+NVq3i3bwbt/MGDgt0nImMaPHp5DbmZst/iZJSIiPcsVp06dOhXqIkQ6VeAtfvTNCbz7w438fcUdZ1+24kmGpxYQu3wvGx/sOZNZB2s5veWWW9RyKnKRDh8+jNvtpry8nE8++YS4uDgcDgcpKSkMGjQo1OWJiIhcchp+EOkh1HIq0vUiIyMZP34848ePPzPH48aNG1mzZg3XX389DocDm81G//6anEJERC4PCowi3dzhw4fZunWrWk5FLrFgczz+7ne/Y/Xq1VitVux2O1arlb59+4a6VBERkS6jllTphQ5R/gc3fx/i4I4R52gzrd/FB5t30d96B/bvdp+rewzDoLy8nK1bt1JXV8e1116rllORbuDkyZNn5nisrKzk5MmTjBgxArvdzg033KA/4oiISK+jwCjSTbTXcpqWlqaWU5FuKBAInJnjcceOHYSFhWGz2XA4HAwfPpw+ffqEukQREZGLpsAoEmLNW06/+OILEhMTSUtLw2azabRCpIdoPsdjdXU1AwcOZOTIkTgcDoYNGxbq8kRERC6YAqNICBw7doyKioo2LacOh4Pw8PBQlyciF6H5HI8fffQR11xzzZk5HocMGRLq8kRERM6LAqPIJXLq1ClqampwuVxs376dvn37quVUpJdrPsfj7t27GTJkyJnwGBkZGeryREREzkmBUaSLqeVURKDlHI/79+/nuuuuw263k5ycTERERKjLExERCUqBUaQLqOVURM7m9ByP5eXlfPbZZ8TFxeFwOEhJSWHQoEGhLk9EROQMBUaRTnLy5Ek+/PBDtZyKyHnZu3cvbrebiooK6uvruf7663E4HNhsNvr37x/q8kRE5DKnwChykQ4fPsyf/vQntm3bht/vV8upiFyQU6dOUVtbi9vtprKykmPHjmG1WrHb7VitVvr27RvqEkVE5DKkwChyAdRyKiJd6auvvuLDDz/E7Xazfft2AEaMGIHdbueGG27QH6NEROSSUWAU6SC1nIpIKJw4cYK//OUvuN1uqqqq6Nu3LzabDYfDwfDhw+nTp0+oSxQRkV5MgVHkHA4ePMiWLVvUcioiIXfs2DG2b9+O2+3mww8/ZNCgQYwcORKHw8GwYcNCXZ6IiPRCCowiQRw7doxt27bhcrn43//9X7Wciki38+WXX1JRUUF5eTm1tbVcc801Z+Z4HDJkSKjLExGRXkKBUaSJWk5FpKc6cuQI5eXllJeXs3fvXoYMGXImPEZGRoa6PBER6cEUGOWyp5ZTEelNDh48iNvtxu12c/DgQa677jrsdjvJyclERESEujwREelhFBjlstTQ0EB5eblaTkWkV2s+x+MXX3xBXFwcDoeDlJQUBg0aFOryRESkB1BglMvGyZMn+ctf/oLL5WLHjh307duXlJQUbrnlFt0sQkR6tdZzPB49epTrr78eh8OBzWajf//+oS5RRES6KQVG6fXaazn9/ve/r4mwReSy03qOx0AggNVqxW63Y7Va9XNRRERaUGCUXkktpyIi59Z6jsewsDBGjBiB3W7nhhtu0HXcIiKiwCi9x1dffcXOnTvVcioicgFaz/FoMpmw2Ww4HA6GDx9Onz59Ql2iiIiEgAKj9HgHDx5k06ZN/PnPf6ahoUEtpyIiF6n1HI9ms5mRI0ficDj0BzgRkcuMAqP0SGo5FRG5NFrP8RgZGXlmjschQ4aEujwREeliCozSY6jlVEQktFrP8ThkyJAz4TEyMjLU5YmISBdQYJRub//+/WzZskUtpyIi3cj+/ftxu92Ul5dz+PBhrrvuOux2O8nJyURERIS6PBER6SQKjHJJHT16lAEDBpxzuYaGBsrKynC5XHi9XrWcioh0Y7t378btdlNRUYHf7ycuLg6Hw0FKSgqDBg0KdXkiInIRFBjlkvn4449ZuHAh//mf/8mIESPaPK+WUxGRnu3kyZN89NFHlJeXU1lZiWEYXH/99TgcDmw2G/3792933QULFvDv//7vQX8/iIhI6CgwyiWxfft2CgoKOHHiBHa7nUcfffTMc2o5FRHpfQKBADt37sTtdrNjxw5OnjyJ1WrFbrdjtVpb/Hz/7LPPmDlzJgAPPPAAY8eODVXZIiLSigKjdLmtW7fy6quvtnjsxRdfZMeOHWo5FRG5DBiGwY4dO3C73VRXV3PVVVcxYsQI7HY7N9xwA06nk9/+9rcEAgGuvPJKRo4cyY9//OMOXcIgIiJdS4FRutSvf/1r3G43gUDgzGNhYWEEAgG+8Y1vkJKSQlpaGnFxcSGsUkRELpWGhgY8Hg9//vOf+eijjxgwYAB9+vThyy+/PLNM3759ueaaa8jLy+Oaa64JYbUiIqLAKF3i6NGjLF++nJ07d3Ly5Mk2z4eHh/OrX/1KLaciIpex+vp6Nm7cyMaNG9s8FxYWRlhYGPPmzeO73/3upS9OREQA6BPqAqT3OXr0KPPmzeN//ud/goZFgC+++AK/33+JKxMRke7k6quv5quvvuKqq65q81wgEMAwDH7+85+zdevWEFQnIiKgwCid7OOPP2bGjBkcPHiQEydOtLvcFVdcwR//+MdLWJmIiHRHFRUV/POf/zzrMq+++iq//vWvL1FFIiLSXJe1pK5cuZKDBw92xaalm/rnP/+Jz+drd1SxuW984xtcddVVmM3mS1CZdJW4uDjuu+++UJchIfLhhx/y1ltvhboM6cEMw+Djjz8GoE+fPme9TOGKK67AZDJhsVguUXUijW6++WbGjRsX6jJEQiasqzbsdru56667iIqK6qpdiEgI1dXVUVFRocB4GautreXEiRNkZmaGuhQRkS5RVVXFjh07FBjlstZlgfHUqVNce+21mnBdpJf6xz/+EeoSJMROnTrFgAEDdJdjEem1PvnkEw4dOhTqMkRCStcwioiIiIiISFAKjCIiIiIiIhKUAqOIiIiIiIgEpcAoIiIiIiIiQSkwioiIiIiISFAKjCIiIiIiIhKUAqOIiIiIiIgE1WXzMIqIiPRogWryb0lnya4gz4WZMFtiiLOmcu+Ds5iearnk5YmIiFwKCowiIiLnYIqwYDY1e8Dw4/+0Fs+ntXhKi3E+9zbrpsaHrD4REZGuopZUERGRswmzkL1iF7tqmn397QAH9lWx7qk0LPhwLphH4YFQFyoiItL5FBhFREQuxMAYMma/xCy7CfxlFG/yhboiERGRTqfAKCIicsFiiBtmBqDeX//1w0YxU6LDibq7gNoDLgoeHo89IYqo6FisY6Yw941q/EG3Z+DdVEDe/elYhzUun/CD8eQsLqa2odWiASczh4UTHh5OeKSVvM1G0O05H09oXCY8iklrWofa89hf0zGFD5uJM9B2T56nrW32Uf1sOuHhUYx5xdtmed8bU4iNDCc8ahJFwU9GW9vnYo9sOuZgXyPm4mldm+HF+XIek263EhsdRVRsAvY7pjB3jQdfkOMI6gKOHYCGWpwv5zHlDjsJsVGER0YRNcxK+sSZFJR6OfOKleVhjQwnamJhkPeFj1UTogiPtJNf1eqZ7YXkPzye9JtiiYoKJzyq6fX7RSHVR9qr8yznLzychCddrdbyU/3mEmZOTMeaEEtUZDhR0QlYx0whb4Wr4+dQRHosXcMoIiJywbzU/M0PYRZuvCGmzbOGz8lP78rH5Y8j485sUr/yUlZaTMFjTjbVvE7pcxmYzyztx/XsRKa86MEfZiFpVAa2CDhc5aLo2SmUlEzn9d8vIiPY/XUCXpzvVcKtaS0fbyij5L32Rj4vYn8Xy+/kl4uL8Qc4v08iATAAiy2T1KH9mj3uxbPBQ5tY6nMy9/4cCqr8EBFPWvo4IgNePOXFFDxeTFHJAta9lkvSwIs+orYaXOTffR9LqgxM0TZSbx2H+crjHP7IhWvTWqq3vM/OV7awYsKFnWDvG1MY+0QxPszE29MYZ+/H8SNeqitcFL3somSbj9KNs0gytV23zfkDOOChqKz1GfRR/Ph4HlpTi2GOwWZPw2buh9/roXJ7Mas8Tsr2/I7S59KavY9FpLdRYBQRETlfAQP/vhqKVzzNC+UG5vRcclODfDKvc1GZMJ11WxeREdX02L4icu7Joei1POalb+GlsY0ftf0ls3noRQ/+qEwWrX2V6YlN2wv4cD4ziZzlq8iZnUTFmmxaRIyBSdiG1OHZ5MQTSMPW7De7sWU97x8xYbH0w+c73qK0C97fRTNwLZ7H2n0XsOqx4xiYSJ66lBWTmkWUI4VM2tg6MPooemoGBVV+LGMXsO6VXJJOr+JzMfeBKRRsmstDzyWyeWEaQV69i1K7ch4FVQaWsYt4+7XpxJ/ZgR/PsxO5e7GHkt8U45swvcX5NeDc4ctfTP7CYnxhSeS+sYEFtzZbY18ROXflUFSzikLPLBaltl7ZRPykRayY2vJVNd6cQkmrwGhULPv/2bv/uKjqfPHjLzc2j6u7o1iOUcuEXWFxA6UcVswZ0Zy0BPXmIN5EbYvYErVckt1WaV2NrdXoh8p2M2wfKnZFBktBo4ZVnOmGy3hDh64E7mrDTXPcNGcXt4PfSb9/QAo4CCg4iu/n4+FDnTnnzHuGw8x5z+f9eX94/p1q1EFm1m1bQ3zQhfvcJelMeSSH6rxcrM8ZMUvGKES3JSWpQgghxKV43eRMbVG6NyCIkOHjmb/GgRK7jK1vJ6Pz9RVsgI6kF5ZeSBYBgs2seC4ejddF/vrCxhJEF/lvFeFGQ3zGygvJG0CAFtOSFSSHg6c4h9yWy3z0DOWBCaFQW8K2fU3v8GDdasWtMREf27fFTlfweFeqMpvMt6vRjDNjur1ju6qnT6HSk76admQnhyy8VeyG/vEsW9UkWQTQGlm26ln0faB641qKfJRvXhkP7oChmMaZmftc02QRQIM+cRIRCqhHXNR6ge83jvbVq/gqLL7IiXq0o0yYHkvj2TEtXotgMwmxWvB6cNW2t9a3lWdxSkE/wcTMBYuaJYsA2tgk4gYD9S7cnf4YQAy5AAAgAElEQVT6CSGuJZIwCiGEEG1Q+mvR3t7kj1aD0pgguktf5hcLc3D6ujbXmojzMfKoiTUR3QdUh4NyFfA4sFeooBiJH+cjGQrQY4jRgrcGe1nLEtNehD5oIpJqSt53Xrj5hBVLiQftODOmloe8ose7Ei5ylqzGEWDk2d8lobupY3t7TnqoZyA/uqUd2zrKqVRBMcRj6u9jg9A4JkUpcLoce4WP+6+IBuO811m3eQ2pEU1u9qq4qxwUfrCff3iB7+b/DRjIgICGBPJ4e+YEDjKz7K088l6IbzYaqZ5w4dxlwVbTmHZ+2670s1XaCYtYsz6P12c0L7f21DqxbS3E+Y/Gx5V5jEJ0a1KSKoQQQlxK47Iay8e0uN3rwVVWyCuL09mQl05ifV9K3zY3Ky9UfqzzPfKoCWZgb8BzDLcH8Lg45gXUQlJCAkm5RDjuI25oUSSq/CQe0+AsskoKcT4XSWQAuIvzsZ7WkjDVSM/Slge5gsc7sYHEARta2frShZ3uvOfJstcTuWApjw8+xfOX3Ppita5a1IBgwn7c9rbHjh4DQBuka6XEU0dwUE/wejjm9tCOQtAOP3e11oZlYxG2iv3UHKqlptbtO7kKjsYYDI5DFlavT+LNx8IuHO1ENa5TPvbBQ3VRLrnby6k8VIPrkAvXiaYJYicV2da5sG7OpegjB5/9zUXtYRfupg2RlHr4tnMeSghxbZKEUQghhLgcARp0hiRef8vNZ7GZOIrfwnLITOqg9uzcZD5hAPBt4y2aMEwTIi6RuvRCO8THvUokD4wLI+sNK9aDi4gMd2PdakcNSmLqKA2Uttj+Sh5P0WGcqGdAiysIj7MI66XKVz1Wfv9iIe5Bybw5LxKFlt042+KhusoFAwwE+xoxbE2ro5gq3/0clPZeDXXguXtKMpj8RDZODyjaMCIiokmYEEpoRDSGu2p4flLGhVcgQE/y4plYUjZQ+OwYytdFE6nrSf2RGvZXui5uDuStJmfWdNKLXQ3nYcRQQscZMIdGEjlcDwVTmL3+yspRgYb5kNPmY6lRoY+WyKhIDA/HERY5FL1eg3VuItkHr/xhhBDXNkkYhRBCiCsxSM9PNOA4UYvrCNAkYVSPH+O4l4tHGU+4cXmA/jqCNQBatAFAQARJK9YQfxldO/UPjiPsjbV8WFxNmsaOZY+K7pE4ohUob7nxgCt4vN5GUt94HVOL5+RYHIW1qrXyVRXbK8+Tf1SH+e1FGPtwoRyzvdRyHJUqGn00Q9tx9TIwaCAA7v9z4UHvIyl2U+sCAjT0HdDOji3tfe6qjcxfZ+M8rcWUmceapyKbP36Nk5aDhtq41ynOiyDrtbUUflKOvVaDNjgM4ywT6kc5WA9d2Na1/lc8X+xCiUjmzQ1LiQ9uOpqoUvjOlZWiNvBQuGwhlhoV3dSVbHo1ibCm54nXgfV0JzyMEOKaJ3MYhRBCiCtxqJLPPECAFm3LuXW1JXxYefEu7g8K2a+CZoShIfnpryc6XAGPncJSXyNDLnKfiCX2oUSy7K0kA8MnMS5YpdJahLWgiHI1jLgprXT/7IzH64gDfyTzT9X0nJDGsrjLa6epllmxuRWGjjK0awkHjT66obGMvRCrr6YsNUVs26eCEok+8rJCat1hB+VHAc0DJD8ReVG8bkc5NSrgreebJrdrDcksLyij6vBRjh6uomL3e6x7OQ3T7c0TQmdZOSoKEdNTWySLgFpJeUXDz7S+laS8Z3uGC7z7KXd4ICAM8y9aJIsAh2wNz1HmLwrR7XXbhNG1ajxBbSxOe/5P0Hiya/wdcXdUTfZDQQ2v8Qgfiylfw9RDVnIWpzBldBThwUEXL2w8z9q+TnZCiG5MxV1hIX3eyzhUUIYlEBfeYhNvNdm/zsDWdPCpIpv5L1rxBISR9Ph36zCGkfSYCS1uLIvnk1PRNIlTcb6RTuZWJ87DGkKHtDI3LUCPaZwOdW8u6WttqIPjSBjeWuyd8HjtpuLI24DjJiPPLr7cJTrcFP0pH1dvE0kT23mEQWaemKCFE4VkLMjB2XTendtG5jMNPzfdtGTiO1Li2h6BjSO4p/dTvq/5p4WnIpv5LzV+htTX+9q7DQoDtVpApdbhoNmYruqicPFC1n53TeNt+tgqp+oa/q/0bMfPNEBL3/5KwxqXjurm97ltZD6zGkfDk0CVD0QhurXuX5LaR4NW08Yb40192/dtm+iYSgv5e1WUPgrqIQu5JYvQT+jsla46n6vgaaYv2EB1nY87FQ26iEmkzTN1+ppdQohrlNdNbko4hS0HcjwePI0X4GhNLM16nLCW+yo6tLXZTBlVgtEQgaauhvKPnLi9GozPvcmiERcOqk1czsoKFylrCkkfb2NtjJGIATQs9F7lgT5hJL+67JLJTfREE7q3c3DVQuTCeCIv8dnWGY/Xbl6FyDlLeTz0MvatsZDx0ltYij2gPUbhkhQ+vOj4Lmq8wPESXl6gkLx4ESatFvOLK9nvSiG7KJ0JjrVEx0QwQHXhKHPg8oB2zCLWLDF1/qLz2niSH87Cut5JVsIYHBMMhPaux32wHFtZNfVBYYRpqqk+fYrjp2lXv52m9DOSMW7MwPbefGKPFPJAlJaeHhflH9lxunsSFq6jusqF2+0BVGyvzmdthQtnqRsCwgi+qz0PGIb5MRM5Cwqx/XYCsfZJRAf3pP7ofmylDlyEETaonuraUxyXZTWE6Na6fZqkTFxJ1Rvx/g7jBqTiyLPgRMvMJx7AtmoD296x8JsJnb0AdCerzSX92Q1U99Qzc/GzJMVGEhqkQaMoN8BvixCiNeoJ90VVBYpGiy4qGv0oM0m/SMIY5GNHjZGlW+OoWfEyuaVFuNESGptM2lNpJBtavhtqMb1UTPGobP64vhBbhZWiMugZFIoxMZ6k+cmYwy99oa/o4zBpc8g5EUn8lLbqLK/88dot9HGWPhV5eV+0ucspKnLg9gJHHBTmOVrftq4aa0FPoucswqQFtCaWbS3F+KdXyLHYKC8por6nFl2kmbRpT5CcqG8YCex0Gkwvv0eeLpPsPDvlW3MoD9CgDRmKaUEac1MM1CwYQUpxOfYyD+YJHXydw1NZt0XDyytyKHJY2VABmv46QqOSWLYylcf75jJmfBauj+xUo6PWUURhsYrSPwzTvD/wbKsjz83pZrzJe0oov19jwfbRBpxeBW1QKJEPL2LpnGQi/zyNmEUOyksdqOP08kWqEN1Uj3Pnzp3rigM/+uijzJkzh8GDB3fF4dvkWjWemN86IHEdRyVhvPrqrDwdk8gG1cy6PU9QPn482Uf1LPvog3Z2EPSP6ldjGfOih4T1pbze0Q/wG8zevXvZvn07r732mr9DEX5isVg4ePAgTz75pL9DufaohcwOnU1h75nkVV7cJEV0gD2dqKm5RK6qYl3ipd+XXavGE/NiPWl/LiWtZXmwEJdh586dVFZWsmTJEn+HIoTfdNs5jFdsbwYxAy4x73G4jzl5XjeOtzOYPT6G8JAggkLCiXloNhkbnVzUUqDp8QfPxuKr54DXSeZ9382zjCXrUu3KGzlfjCUwMIjxq1wX33kil8Qg37G79+aS+dQUYoeFEBQUSGBQCOH3TSHlt7k4L6PUxPPnfLYdAU1sPMb+ehKmhoHqIHej0+f2DXG3eI0HBBESEcP4J7Kw1jZ+t+9ufA6XnJcaxOy8Ji/oURs5i2czfkQ4IUFBBIVHEftIOtm7XC1GDNw4ympQg0xMjVVxrEkncXQUIcFBhITHMP6JTCyVTY6rWkkfFkjggNZ+NirWZ8IJHBBCytYm+7kd5C5LYcp9DccOGhzF+FkZ5O71cRJ05JwSQgghhBCik8l3nq3xNqzQpNXHYxjUs8ntLhxbHVyUjtU5yX4skYwSN/QPwzgmjgEcp9JeSPY8KyUfrWTTKrPvBZxP2Piw1IN5cotvTvflU3QV1jdybZzNhAWFuNEQFmMkLqYn9SdcOPfYsKyyUfSRm+LtaUS2u9bETWFeEZ4ALTOnNswNiZxqRr8qE0fBWqwLXsfUSgt3bVQ8htDG1/u0hxqnHUdBJokVteR98DomJRjjVDOa7xLe4w4su1wooUbiogY03tiLobqGY3j2ZDH755nY3KAZpCd6og7leCW2khwySvLZtmAdm58zNkwf8dZSXaui3NUTx5wJZL3npmd4NMbxetQjDsq3ZpHyQREfvrqJNVN1oJhImBxGzionFouTtIwW5V8eK/nb3aCdScL9DT9btTKH2Y+kYz0CmlAjxvF6OF6JrTib+SUlONa8x+txjWVqV3JOCSGEEEII0QnkUrM139SjohD92ErWNC2BOZFL4vaWCaOK7aVfkFHiRmNYxOa309B/1yTA4yDrsVlk5s0nZUgEH8xr3hJBidATetCBvdiGOjm+Wf2/470iqtGg7e/B3VVrHXkKyXyhEHdAJKkbt7JsTJPnWmshZVIKlsocch1pLDe085iHLFhKVQhOYmps4zMKNZMQk4Vj1zZyP1iKaaqvsiKF4ClLWTNPd+EmbzU5iRNI35VP9tbfYHrMSOoq44X7i1Io2uWi54hU1rxman64OhuZczOxndCgX7iO9QuN5+eqePZmkTIzE+urv2DhkD2smawBTvGPE6DWriXLq8Hwu2LWzLvQDt1dnE5iSg6WBSkMjfiA1FDQTzcT+UYmzq35OJ6LRN/kN8pdlIv1BOjmJGHoA3idZD/zPNYjGvTz1rE+40I8rq1PM/2JDWxY/HviYl/H1OfyzykhhOhWhiSx/G0Dfe9pe5qAduIi3gyB0B9fhbiEEOIG0e1LUtW82W0uqxHz24sn0KunT6HSk76adsxjO1HE2o3V0MfIolVNLuwBNHrSVsxFr6g41q7F1rKM9fYHiI9RcJeWYG/alVO1kV/kQolJ4IGgLpxGfqIe7SgTpsfSeHZMi+cabCYhVgteD67a9hdAVhfkY1MhbHISxvOh60iYZkKDB+s7+ReP0LYmIIzoETpA5ZS7tQWhffNszSb3ECgxz7LmOWOzxgaa4WmsXByPxuum6M3cxnhUvqkHVBUMaSyf13ztLO2EpSydFQZ1DnLetjWUs4abSYhRoLaI/GZrlbko3GLHExCJObGxEUBZLrmVKkQksyKjeTy6yb8hdXIYkbpvcB/lys4pIYT/KfGsqz3JySqZv3jF+kdiiotH76upUAvKICPxccaL1wwUQghx2bp9wkgfLbpg3SX/aPv2vGg3z0kP9QzkRy0XYfalwk75aVDuNmEK9nF/sAHjYOBoOY6LSky1mMZHo5z4kKI9FxIO9aMCCo8qGCabCO7Ki41BZpa9lUfeC/HNkiP1hAvnLgu2msaYvm3nIkteB7kFTlD0mBObl2hqJpgxaUG155LrYyFrn1Qn1l01gIbQIbo2N2+q3OFsGCWeGIevPbVx8Rj7gPppOQ4PgAI3NfxtmBzvYx8FY9w4dAHgKrM3tHBHh3maAY23IUE8/yrVFJFfpqJEJWCOaLipem85bi+ExT7go9W9lqS3yijduoakUK7wnBJCCCGEEKJzdPvvPZWJy6m4jC6pta5a1IBgwtpR1uJxH8PjBXVPBlGBGa1vGOCm9gjQonObbpyJ6CU2bMXlqOOMKKjYt36Iu7eJ+InBuDd2NHoVx2+jCPxte7f3UF2US+72cioP1eA65MJ1ommC2P4RTtWeT9EhQDlO4XNTsDe795uGtuheJ5aNNtJeMrY4skrte8+TcqAxgffW46qw4jikop2wlLSJHela6sF93AP0ZEBwK4lmbx3BA4Cjx3C7gUE96aUApzXoQlpZ/CNoYEPCePz4+cWStXFJmJZYsRTnU+QxYdaAsyAfh6pgTDSfX5fNfcSNioL2dl8ZYIvor/CcEkIIIYQQojN0+4Tx8niornLBAAPB7ViwWP224e/mjVd8COiL3lceEhyHaVgmGSVFlHuNGFUr+SVuNGPiie8POZfxDLRRJgyhLRKsehf2IgfNCju91eTMmk56sQsCNOgihhI6zoA5NJLI4XoomMLs9e0tR/Vg3VyIywvUuXDuar3w1LU1F+tzRuJbhOiuKMRS0XJrBeW0i9rjENaOkqQLz60D2wYA9GVAIHBCoef3Wz/mNwABPTk/Lq0xkTRZh+VtK4VFbsyJteRvdYImnqTJl7fq5BWfU0IIIYQQQnQCSRh9UctxVKpo9NEMbccrpBkwkJ5AfbCZZW9cxsL0ATrGPRhB5jIr1r0w9Egh1hMaTJNNaAKOXcYTUAiesrx58xhoaNhT7MDa5CbX+l/xfLELJSKZNzcsJT646ZifSuE77SxFBXAXYil2Qx8TKx15JPl6IbxOsu6PJbOyiNytbuJnNd1IQf+7Mj5oErfqdlL06nzmr8km5ZkwSjcn+SwvvZgGbZAG8HC81gW+9mpMQgkYiLY/EKAjTKdAlZvaIx7g4hFN9VANtV5QgrRN5iAqGKfHEbY+G+tWK67gaooOgXaqGVOTLxz6arWAG/eRWvBxlngqCimsgbAYExFXek4JIYQQQgjRCbr/HMbLoJZZsbkVho4y+EgZLqZE6YnuA6qjEOtRHxucKCR9fCzjp2VgbWVNw7DxDxAa4KLkfSuFW614+pvOL8XQdVScZeWoKERMT22RLAJqJeUVDaOL9e0YrXNttWD1gCY2gfjWMpyASOLM+oay23W5VLdxTEUbiXnxXEx9wLPHirOujR2aiNZHokGlfLvVZ5Mdd1EhtjpQ7o5GrwHQoDdEo6Bi2271sc6hB2vBh7i9oBtlollv0uFJmCNA3VPIK5uLcKEjfpqp2fkTOjwabQC4PrJRfdHr6cH2x/nMf2o+b1V0zjklhBBCCCHElZKE8SJuiv6Uj6u3iaSJ7RzX0caT/LAOPFYy5mVha3oBr1aT++vnyXE4qflWR2hrJa6D4ogPh+ot6WSVetCOT2hYiqFLKQzUagGVWkeLUlXVReHihaytafy/t62RxmosBeWoaDBONl0y0Q6bnNCQDFVayN3T9gim+ul+alQgUIumAw1jNZNTSRgEalkmT6+w4WmSpHn2ZjP/hUI8AVpMs83nxx9101JJCAZPUQbz1zhp0oYIV95Cni9ww+3xpD3eYs1FwjAnGlHqrGzIc8GgOBIMzYNVDEkkRyiolav51auOZgmpuziT32/3QHACCfcrnXNOCSG6B6+DjOFBRD2Rg+OQG4/bhWPj08QEhfN0SQeqQAC8Hpx5WTz9yHhiIkIIGtCic3jQeLIPdc3TuKF4XeQ+Ek7ggCgy9rSyjVpN4YoUpowIJygoiJCIGKY8lUVhTQd/pjcwtz2HjFnjiQkPOv8ajn8sg9w9HeuqLoS4tG5fkqpun094RHobWymEpWzivfGVZLz0FpZiD2iPUbgkhQ9bbup1NXTHPF7CywsUkhcvwqTVYPrdGhYdnkbmrkymDM9FH6NHpxynxlGO84iKMsjMihXJrZdTBoRhGhdJ5gonrgAdyZMNHWg1c/n0M5IxbszA9t58Yo8U8kCUlp4eF+Uf2XG6exIWrqO6yoXb3cY8xgoLlgoV+sdhHtfGyGhwPOZRmdiKq7Gss/LsiO+aErVoegPUH6+hvMyJ26ugn5GEsSNnbB8ji/5zETUzM7G9OIVhBUaMEQPgZCU2ezUer4bIOStZmdjki4H+JpauSmX/rGwKfz2B8jwDhiEa6msdWO0u1D6RJL+6ErOPuZS6yWYML9qweiByakKzNRkBCIgkdfVSyv8jHeuL4y/Ec7wSW1k1HiWS5JcXYeoD0AnnlBCiewjQM/elxymfl8744Y2fZwEa9I+t5DfjOvBJUecga/YsMnf5uJgOAKV/GIbHFpE0qHPCvpFVv/U0GcVuCGjlHVp1kj1jMhm7PCjBkRgmRFP/t3LK8zKxldhZtHkTaVFX4yrgeqVSvWY2UxZbcXsVdHoDpmAF9VA59veymV9kofCFPNalRF6VaykhurtunzBS58Fd13bTFm1dPbjLKSpyNHTyPOKgMO/i9RkvHLcaa0FPoucswqSlYW28vFL067NZW2CnvKwIR31PtMERmOfN5In5Sc3X0vMhcoKJsFedVAfHERdzld7iwlNZt0XDyytyKHJY2VABmv46QqOSWLYylcf75jJmfBauj+xUE4nvJeJVbHkWqr2gHZeAqc1KWi3xiSYyii24i3MpdMfz3Xhdy6Y3Sh8t2oh4UmfM5dlZLUf12qYZnsamP+vJXbmW/JJyrNvL6dlfR2hcKgkzk0kao7vow0RjWEbxjqFkvZJL0Z5yiio9oNEROiGV5IXPkhTVyhPU6okOVbBWRpAw1XesSngyeR8MJWfVavKLG+JBoyNichpPzJ+LOaLJsTvhnBJCdA/accv4oPJZXJU1uOp7og0JJUzbkc8JFdtL88nc5UE3IY1FT8WjD9Wh7a9B6f5XAleVWpHF/BdtPqY1XOBc1fCz0E5YzntrkhvXjVRxvjGbxN9ayfp1NnHb0wiTn41vNWuZ/4IVd0AYM9/YxB+mfvdZrlKdN59HF1iwLplPdkwpaRF+jlWIbqDHuXPnznXFgR999FHmzJnD4MGDu+LwXcOeTtTUXCJXVbEu8dJZj2vVeGJerCftz6WkyZIGAqAqi/H3Z1I5aiUVm7t/o5q9e/eyfft2XnvtNX+HIvzEYrFw8OBBnnzySX+HItpSV0hK1GyKBi9j17ZUSUS6Sp2NjPHTyT5twKSxY63SkrqtgmUjmmyjWnlan8iGE0aWffQeqc1GdF3kTI0h3a4hOa+C5WNkfMwX57IYYl+tRpu4jj1vxLeYBqNinRdF4kY3kQtLKX2u4182N7Vz504qKytZsmTJFR1HiOuZzGEU4kp8Ny/S4yRnWQ4Or5a4WfHdPlkUovN5cG7MYPb9UYQEBREUEk7stHRy9vgYp6mrxroqndkPxRAeEkTggCCCBkcRO+1psotdNJsBphYyOziQwMFPY/XRvMuxOIrAwCAS1zct02yMZXwUIcEt5vgFBjZsv7EhLtviKB/3t/gzIhOHF9iVTviAQIJmWS4efarJZkpwIIGBITxd8t2NbnKmBhE4IIbMi5Yb8mB9puGxgx7K9tnYq5lPy3F4FAzTzegOFZL5xHhiwkMICg4h6v5E0t+w4Wpt6txRGzmLZzN+RHjDzyY8ithH0sne1eK1hoZu3EFtvB5BU8ip/e5pWBq2H5aOrT1LIVVkEjMgkKCpOc3n3eMhd1qQ7zmD9nSiWnnd1ZpCsuZNIXZYSMMcuGGxJD6TjbX2cuYRerAufprswzqSX12K6ZZWNttnw+YGZZiJuIvKf3XET4xG8bqxflDe9kPuzSDmu3mog2dj8TWs6XWSed93r30sWVXf3XEZ59d35/AjuT5GUKvJGh904TFUK+nDAgkc0PQxm1KxPhNO4IAQUrb+D1n3B7X5uxTyjBVQqddGY55gImmar54JCqFDwlAAj+dU26+hEKJN8h2jEFeiLJ2oGbm4VRXVC5oxy1k0oau72wrR3ag4X53G5GUOPH106MfFMfB0JbbSHNL3lOPaXMyyEY0jLXU2MidPJ6tCRQnWYxgTh+ameo4fsGEr2YCz9EP2v1HKmqmX+7VNk1gULZEx8YQOuDCv2uO0Yq2qP/9/bUQcMxPdDeuzUk9NSSFOjxb9BAO63g3b9BoQyYBLftq6yV3yMrYOdIFW97zM85vbTBMvxP23GtxoMZ5YzeTx2Ti+1aEfZSRO8VBTZidnkZX84kVsXp/W2DW6cb89Wcz+eSY2N2gG6YmeqEM5XomtJIeMkny2LVjH5ueMF1+09wnDNDGixe0eakqsOE+3/3l2JXdROolzcnDWNcyBi4vR4DnkwL4+A+t2K4s2rCNtRPvfz90FC5n/jpvIeVtZOqYvuatb2a6mBrcXNKERPuegaweHogmw4T5Ygxtj+7+APGHjw1IP5sktYt6XT9HBdj8NoOPnl0+KiYTJYeSscmKxOEnLaDHS57GSv90N2pkk3H8HHEjAHNrwm3R+3ejekZgmhDaeR73oe48WUNCnvI4+pbUHdmO370dFITTC90QaIUTHSMLY1JAklr9toO89bX9AaCcu4s0QCP3xVYhLXLt0kUQG9sTq0RA5bi5LX0pGJ79VQnTMUQuZKx14+htZtm0TqeENyWH1qvGM+a2DtSstzB3RUOZd/dbzZFeoDXO/3k4m7HzFngfHi9OYvMJB0TuFuKcmX95If52V1X904FEiSd3SJFFt5FgchbXqwthWWOIyXk/87n/VZN1vxVkVzKQla1qUGrbOU5RBZknbc+3P81aT/du1VHdgEOzUyVPgdZH/YjYMnsm6/3qd+ODGO+uc5KQkkl6cScriSEpXNY7a1NnInJuJ7YQG/cJ1rF9oPL/+rGdvFikzM7G++gsWDtnDmpZJSqCB1FXLmzcq8zrJHG3Febj9cXeZ2lzmL8jB6Q1j5lvN58C5Cn7F9HkbyHzyeSJ3v96OefmNx1tswRO1iLyFehRa79J5yu1GBUJv7+t7g1sa1vl1f+XG7aXJmr+tUyL0hB50YC+2oU6ObzY33/FeEdVo0Pb34G5Psn4Z51dr9NPNRL6RiXNrPo7nIps1g3MX5WI9Abo5SRj6aFGeex3T+Tsb143Wmnh21aKLm8i1yoNt2SwySjwoEak8O1nqfYToDFKS2lT/SExx8eh9dMBsSRlkJD7O2DhRXdywgpNYt+8wRw9XUfpWKkZpQiNEx/WMJPml5Sx/9Q/nk0WAsGFD0QaAesTV0IwMD+6AoZjGmZn7XNNkEUCDPnESEUrD9rXtKW/05WgNrtNAsIlJw6/C/LE6G5kvWHAHmTG3c76aa/3zrK4AfWJ8u+ciqt6GUVEVHUkv/OFCsgjQ50KHZtfWbPIby0U9W7PJPQRKzLOsec7YLHHRDE9j5eJ4NF43RW/mtl0Se41xbsxuSFYe+UOTZBFAQTf1DyydpoXafLIL2rE8g7ea7HkZWFUji1alEdnGj/EfdfWAQk+llUy0p0JPgNMq9b63uNjtDxAfo4qN+K4AACAASURBVOAuLcHedKRatZFf5EKJSeCBoK47v1oVbiYhRoHaIvLtTTNQF4Vb7HgCIjEn6junk6nXReEzk5n+qoP6YDMr/7QMvVyjCdEpJGEUQgjhX/0jMSUmkxx3oXxMPeog+41CXF4IMxgIDQDQYJz3Ous2ryG1aedDr4q7ykHhB/v5h5cLc4svh0ZLXwDPcU51+XJ4Ks5Vz5N7SEv8c4uID2zHLm4LmSus1Ien8sLjkfRse49GjVsGxRFn8HF5HmQifoQCdeXYHQ1PvNzhREUhemKc79LJuHiMfUD9tBxHBwZI/c+FfY8LArQYJ0T7SFYUDIZoFFT2l5VfPE+zGRXnq/PJLAPT714nNbSrYm6LFtP4aJQTH1LUZH1j9aMCCo8qGCabCG5P8nfZ51drdJinGdB4GxLE85HVFJFfpqJEJWDulC6mHqy/ns4v1jvpGZXMum1rMMvyMEJ0GimeE0IIce2ozCT2/iycjUmfEpXGyl8bm13Uq7U2LBuLsFXsp+ZQLTW1btS2ksQTG0gcsKGVO5scXWsifpwGa1E+zy8IhV+aiQ7RoumKwcZDuTy/xklPw3KWTtXiLGlrBw/WFZlYTuhI/mMa+t7Z7X4opXevhr/v0rUyaqRFG6QBPHiOu4G+uI97gJ4MCG5lLcHeOoIHAEeP4XaDj+4j7Vebw5QBOQ3/DlBQNFpCh+gxTE5i7ixju8oy2817nGNHVPCqbJgWRGtnBQDHa3FDq+vdqvZMfvGqA03cGlbOat+quD/q0xNQqVdbSUXrG0cWeysdSth040xEL7FhKy5HHWdEQcW+9UPcvU3ETwzGvbGtI7T//FKL5xMSON/3nS1+V7RxSZiWWLEU51PkMWHWgLMgH4eqYEw0t7JcVwdVrOb59dWooTNZt3k5Jqn2EaJTScIohBDi2jHAQMJTKobTbspLinBUZLNwhYGtv2torOIpyWDyE9k4PaBow4iIiCZhQiihEdEY7qrh+UkZ2HwdV9FhnKi/qPmMx1mEtVkHRy1JL63EeWQ+OQUZJBZk+DpYJzxRN7lLMrF9q2fRkmR0ASrONvZQ964m8x0X2qnrWDRGAZ+dJ33T9m/M5m66ROzfqs236chI7ZVeTfQJwzg+ouHn462n/uQxnJ9YyLZbsJQs5731yZ2/FEiAlsgJBkJ7t75Jr0Ghl/hpeyh6q2Gun8a5msTRTbvc1OM5rILXjWVuLPbeEP3LrSyfrKGvVosCuN1u8JUuNc5dVBrnMrZbcBymYZlklBRR7jViVK3kl7jRjIknvj/ktLF7h86v2/XEj9I1T2i9HmpKfTQ10phImqzD8raVwiI35sRa8rc6QRNPUifNMawusVLtVdAnzpFkUYguIAmjEEKIa4fWSOrvjA3/Pmph9v0pFP7pFfJ/YSQ50Ebmr7NxntZiysxjzVORzQe1apy02kS/t5HUN17H1OJTr2UTGwCC4ln+QTSmZbOY/4YDd28deoMeXe+Lu6RerlPFvyer2ENYygvNy2tbU+9k7dJsnL1NrHyu5bpzbVN0wegCoNrtaqWRiouav9XTMKKoAZTzI47Ha134HGM77aL2OBAwEO2VXqQHGvjlGy2a5Jywkj4pkZySTLKKk1gT10nDvAE/YmB/BWoVDHPWNF8jsYO+G9n2HHK2kvCruA85caOg9aiABm1oKNoAK+7Dvrugug/W4PGCNjy0Y42bAnSMezCCzGVWrHth6JFCrCc0mCab0AQcu/S+HTy/lIiZrHwjqcV21WSNt+OsvGhrjNPjCFufjXWrFVdwNUWHQDvV3GnJnftEQ030wNZGw4UQV0TmMAohhPCr6o3pzJ48hYxdLUr0ggwYhiigunDVAocdlB8FNA+Q/ETkRRe1bkc5NSrgrW9c5uLyufLSG5LF/iaW7yjjg/VrWPPGGp4d00pny444beeVJRtwBc1k6cL2NfxwbXqel/eCfv5SkoLb3v4id5swaIGDVgp9jRxVWdi2TwWNkQf0DRFF6yPRoFK+3eqzqY27qBBbHSh3RzdbiqPBlc9+o7+JhDE68NbjOtyZbXXCiNZrweuipMjmc46ic1UisfdPIWXNpcZ9NSS9c5STJ0/6+FPF8jEKBOhI3XGSkyePkjerMf0bZsSoBdVRRGFty2O6KSwuRw3QYoyN7vgzG/8AoQEuSt63UrjViqe/iYT72/564YrPr7YMT8IcAeqeQl7ZXIQLHfE+11C8PMYlpRw+XMWbk69CoyohbkCSMAohhPCrvt+6sNltrH2hYb2/76hVFoo+UUHRoQsGAhtL9E7vp3xf88t8T0U281+yNlz811/hCGBVNimLC3GjY+ara0gO79yLUNW+gQ2HtMQ/95v2Ldngrcbyjo368FRWPHGZM74UI4+n6FFUJ9nPZGA92uS+Ew4y01bjUBUiU+YS1zjqo5mcSsIgUMsyeXqFDU+TElXP3mzmv1CIJ0CLabb5wvijx9Mwyttb4YpT6xM2ttndQE90IZ07cqSflYyxD1S//St+lVfdLGn02DNZ+IoVZ6WLvuFd0MVGMZE0LQylzkbWr3Nwnu9qquJcM5+sUhUlPInHYy/jvBsUR3w4VG9JJ6vUg3Z8Aoa2OoV2xvnVpjDMiUaUOisb8lwwKI4EX82XLpP78H72O/dTWdvlnaqEuCFJSaoQQgi/0k5bxNxN5WTuyWbKqBKMhggGeF04Sh246hTC5vyShCCAeJIfzsK63klWwhgcEwyE9q7HfbAcW1k19UFhhGmqqT59iuOnubwmLKqTzGcycXgUwlJeZ+mEzhoDacILmjFpLE3sSMGhjqQlbS/ZcClhT61kuWM684uySbyvCOMYPbqbPOz/yI7T3bC25ZsLmox49jGy6D8XUTMzE9uLUxhWYMQYMQBOVmKzV+Pxaoics5KViVqoySV9hRVXjQ2HCopO17H5dyftZM9LIbfxv/XHa3B+4sTlAY1hEWkTmj9xtSaf9KfKm41juqoa5gyWvJKCu2mp44nKxmVZmghN5fUV+5m+0MKGp8bw4R+jiQ4dgHrEQfleFx406BesYVEnJjVN6ResJK1sGpnF6UyIycWgD4UjduwON2p/PYteSyPycq7QAsIwjYskc4UTV4CO5MmGds64vfLzq81HmGzG8KINqwcipyZ0YG3FtniwvzidlCKVsHkfUPY7fWcdWAjRSBJGIYQQ/qVEkra5GN2qLHKL7OwvtlAfoEEbHk/qjLk8O0vfmPtpML38Hnm6TLLz7JRvzaE8QIM2ZCimBWnMTTFQs2AEKcXl2Ms8mDuc7Kk4XpxPtkNFiUhl5WJjp5XMNdNHz9wlya123vRFO3VpQyOSKxEQRtLbxQS/nUV2npXyEgs2rwZtSDTmx1JZNM+ErsVDaIansenPenJXriW/pBzr9nJ69tcRGpdKwsxkksY0rmF4shrr1kJcKOj0M0lbYu7Y/Lu6aqx51Rf+30eD7sdGzClJpM0zX9zw5oiDwjyHjwOpVJdYqPZxT8tXT5e4huIhD7D6j7lYy/Zj3V4PvbWExs4k4bFf8vgEXeesD+hLHz1pm4sJfSOLtQV27MU10FtHxNQk5i5MIz708h85coKJsFedVAfHERfTvuN0yvnV5oPoiQ5VsFZGkDA1smsfSwjRqXqcO3fuXFcc+NFHH2XOnDkMHjy4Kw4vhPCzvXv3sn37dl577TV/hyL8xGKxcPDgQZ588kl/hyKEuNZVZTH+/kwqR62kYnNSx75Q8KOdO3dSWVnJkiVL/B2KEH4jcxiFEEIIIUTn+64U2OMkZ1kODq+WuFnx102yKIRoICWpQgghhBCi85WlEzUjF7eqonpBM2Y5i7piXrAQokvJCKMQQgghhOh8ukgiA3tCby2RU5exbk0yOhmqEOK6I7+2QgghhBCi8wUnsW5fkr+jEEJcIRlhFEIIIYQQQgjhkySMQgghhBBCCCF86rKS1B49enDkyBG6aNUOIYSfHTt2zN8hCD/r0aMHp0+fpqamxt+hiBvEN998w9mzZ+ndu7e/QxE3iL///e9873syviJubF2WMN56663k5+d31eGFENeAiIgIf4cg/OjWW2/l0KFDvP766/4ORQghuozRaPR3CEL4VY9zMgQohBBCiGvQ6dOn2bFjB++//z6DBg0iMTERnU7H3r17KS0t5cCBA9x9990YDAb0ej0333yzv0MWQohuRxJGIYQQQlxTVFWluLiY7du3c9tttzF9+nSGDBly0XZ///vf2bVrFzabjW+++YYRI0ZgNBoJCwvzQ9RCCNE9ScIohBBCiGvCmTNnsFqtbNu2jVtuuYWEhASGDRvW5n5nz56lsrKS3bt3s3fvXvr374/BYGDUqFEMGDDgKkQuhBDdlySMQgghhPArr9fLrl27ePfdd1EUBbPZTExMDD169Ojwserq6rDZbJSWlvLFF18QGhqKwWBg5MiR9OrVqwuiF0KI7k0SRiGEEEL4xbfffovdbmfLli0APPzwwxgMBm666aZOOf6hQ4coLS3l448/xuv1cu+992I0GomIiJDOl0II0U6SMAohhBDiqjp79ixlZWUUFBSgqir//u//zpgxYwgI6Jrm7WfOnGHPnj2Ulpby2Wef0a9fP0aNGkVsbCy33XZblzymEEJ0F5IwCiGEEOKqKS8vx2Kx8I9//INJkyYxbty4q9rd9NixY9jtdnbv3s3Jkye56667uO+++4iJiUGj0Vy1OIQQ4nohCaMQQgghutyBAwfYtGkTX375JRMnTmTChAkoiuK3eJo2ytmzZw8A9957L6NHj2b48OF+i0sIIa41kjAKIYQQosscPHiQvLw8/vrXv2IymZgyZQq9e/f2d1jNeDweysrK2L17Ny6Xix/96EeMGjWKUaNGceedd/o7PCGE8CtJGIUQQgjR6T7//HM2b97Mp59+ytixY5k8eTL9+vXzd1ht+vzzz883yqmrq0On0zF69GhGjRpFnz59/B2eEEJcdZIwCiGEEKLTfPHFF+Tn5/PJJ59gMBh4+OGHueWWW/wdVod5vV4qKiqw2Wzs27ePHj16nO+yGhkZ2WmdXIUQ4lonCaMQQgghrtixY8coKChgz549jBgxgqlTpzJw4EB/h9UpWitZjY2N5Y477vB3eEII0aUkYRRCCCHEZfvqq6/YsmULdrude++9F7PZ3K2TqJYlq3fddRdGo5GYmBgpWRVCdEuSMAohhBCiw77++mu2bt3Kzp07ufvuu5k2bdoN1SDmUiWrQ4cO5Xvf+56/QxRCiE4hCaMQQggh2u2f//wn27Ztw2q1EhwczMyZMxk8eLC/w/Irj8dzfm3HI0eOEBgYeL7LancebRVC3BgkYRRCCCFEm06fPs2OHTt4//33ue2220hISGDYsGH+Duuac+jQIWw220Ulq/fddx8/+MEP/B2eEEJ0mCSMQgghhGiVqqoUFxezfft2+vXrR0JCAsOHD6dHjx7+Du2a1rJk9aabbkKv12M0GvnpT38qJatCiOuGJIxCCCGEuMiZM2ewWq1s27aN3r17YzabGTFihCQ6l6G1ktXY2Nhu00lWCNF9ScIohBBCiPO8Xi+7du3i3XffJSAggIcffhiDwSDrDnaSliWrYWFhGI1Gfvazn0nJqhDimiQJoxBCCCE4e/YsNpuNLVu2cObMGSZNmsQDDzxAQECAv0PrlrxeLw6HA5vNRmVlJQEBAedLVu+++24p+RVCXDMkYRRCCCFuYOfOncPhcGCxWPj666+ZOHEiEyZMQFEUf4d2wzh58iQff/zx+ZLVW265BaPRyKhRo6RkVQjhd5IwCiGEEDeoffv2kZ+fz5dffsmDDz7IQw89RO/evf0d1g2ttZLVmJgYSeKFEH4hCaMQQghxgzlw4ACbNm2itrYWk8nEpEmT+OEPf+jvsEQTLUtWb775ZqKjoxk9ejQ/+clPpGRVCHHVSMIohBBC3CAOHjxIXl4eNTU1jB07lsmTJ9OvXz9/hyXaICWrQgh/koRRCCGE6OY+//xzNm/ezP79+xk5ciSJiYnccsst/g5LXIaDBw+ye/du9uzZw7/+9S8pWRVCdDlJGIUQQohu6osvviA/P5+9e/ei1+sxm83ccccd/g5LdIIzZ87wP//zP1KyKoTocpIwCiGEEN3MsWPHKCgo4OOPP2bo0KFMmzaNO++8099hiS5y8uRJbDYbu3fvxu12ny9ZHT16NLfeequ/wxNCXOckYRRCCCG6ia+++ootW7Zgt9sJCwsjMTGRwYMH+zsscRU1LVn95ptvGDJkCEajEb1eLyWrQojLIgmjEEIIcZ37+uuv2bp1Kzt37uTOO+9k+vTpDBkyxN9hCT+6VMlqeHi4v8MTQlxHJGEUQgghrlP//Oc/2bZtG1arlQEDBpCQkIBer/d3WOIa07JkVavVMnr0aO677z4pWRVCtEkSRiGEEOI6c/r0aXbs2MH7779P3759MZvNjBgxgu9973v+Dk1c41orWf3Zz37GzTff7O/whBDXIPlkEUII0fm8O0ju14MePVr50+seMj9tudMpKv4rk+SH7mHQbf3o9f0e9PrhbQyKmcrcVTs55vXHE7m2nDlzhvfee49nnnkGu93OrFmzWLFiBSNHjpRkUbTL4MGDSU5O5o9//CNPPvkkAP/5n//JnDlzyMnJ4eDBg36OsOtUPH8PPXr0YuSKwxff+dVaJvbqQY/Bz1LW8r3mqwrW/mYG90fcRr8f9qLXrYMY+fBcsncdu7DNuzPo1dr73fn3vZFk/bVLn6IQXSLA3wEIIYTonr4B+LexPBLTdGFxlSrrFipOtdz6GFtSxjLjrSrUviHEGMYS01fh1OEyPt6zhew9O9h5cDsfrxxL36v2DK4dXq+XXbt28e677wIwbdo0xowZQ0CAfIyLy3PzzTdjMBgwGAz8/e9/57//+7/ZvXs3O3fuPF+yajQaCQwM9Heo/vXXtcx4cC7v/FWl77/FMPbfQ1C+qmLn+9nMLSxgxys7KJgXhfLjkcz4OXzTmGyeqtjCjk9VQsY8Qsx3K9kEDCH8RnwDE9c9+aQRQgjR+bwqqhf6GtLY+PZDTe6oIjNmBxX7mm+ufvQyz/6pCvXfHqFg10YebrJU4LH35zJ2UjZVG9ayY+lYHrmBLri+/fZb7HY7W7Zs4cyZM0yaNIlx48ZJ6aDoVLfeeitTpkxhypQp50tWi4qKsFgsREREYDQauffee2+8885bRebMubzzV4hasJ0dyx9iYOOVs/ppNjPi57IlfQaL9Z/w8ohUct5OPb/rzl8OYsenXxL182w2zryB3rREtyQJoxBCiM5X9zWqF/rd0q9dm5/6WiEm/iHGxr/QLFkEGGh6nId/kk3mXw/z5VdwIwwxnj17lrKyMgoKCjh16hQPPvgg8fHxsiyC6HKDBw9m8ODBzJo1i7/85S/YbDZWr15Nr169GDFiBKNHj75hlmpRd2Wzeq8KwxaxtkmyCKDcnUr20p3snLWFtSt3sHjEwzfCW5O4QUnCKIQQovMdO8aXKAy8tX2XUAPjX2Bj/MW3n/q8gk/KCs6XsKrdfB7juXPncDgcWCwWjh8/jslkYtKkSfzwhz/0d2jiBnOpktXbb7+d0aNHM3LkyG5dslq1q2HudPiDE4nyccU80DCWe5Qt7CzbySfehxkrV9Wim5JTWwghROf7v8N86VUY+28h7d+n7jA7Nqxly64yDhw8zOG/HuZYXZP7FRW6ccK4b98+8vPz+b//+z/Gjh3Lc889R79+7RuhFaIrNS1ZraqqYvfu3WzZsoVNmzadL1nV6/XXyZxalbL0QfRIb3vLL7/4EoCqF0fS48VLbPjVlw3vVTLEKLqp6+E3WwghxHXm8KcHOEUIQ0LaWUL5+TvMePBx3vlMhT4DidLfw9j/eJghUfcQE9OXHT+fSNZnXRuzvxw4cIBNmzZx+PBhDAYDCxYs4JZbbvF3WEL4FB4eTnh4OI8++igOh+N8yWrv3r0ZOXIkRqORQYMG+TvMSxo4/CHGtuw+ox5m57tlHGt6EyoAIaMeIeZS330p9xAiV9SiG5PTWwghRCc7RVlZBerAx4n5Sfu23/KbVN75TCXkP3LYvuZxwvs0udtbxo66Vne+bh08eJC8vDyqqqoYOXIkc+bMYeDAgW3vKMQ1QFEUnyWrH3744fmSVYPBgEaj8XeoLSiETFvNxoUtMsCv1jKxsIwdTW66bWAIcJi+Dy1m43PhVzNIIa4pkjAKIYToXF/toMCu0tc0lnvaM8Do/YSPy05BQDiPzG+RLAL8dScff0G3KUf9/PPP2bx5M/v370ev1/OHP/yBO+64o+0dhbhGtVaympeXx7BhwzAajURFRV0nJasXRMVEMTCgiqptW6hauIjwFuGruxYz9pc76aWfS86aR+hAAb4Q15Xr6zdXCCHENe/whtXsODWQGTMfat+UnoDb6HeLAp8fpqysCkY0+Sb/2E4WP/EyZSoQoPKN2kVBXwVffPEF+fn57N27l/DwcDIzM7nzzjv9HZYQncpXyeprr712XZWsfkd5cC6P372FzD0vMCM9qtmyGnyxhWfnZ1H2KUQ9HC7JoujWJGEUQgjRObwVZKcsZm1hGWpACIf/63Fm/FfLjVSqPlfBe5iC55NR5q0mbUw4j8x5iNUpW9iZPpJ7dk1l5J0K6hefsNNaxmHCCf83larPv+bY3/3xxK7MsWPHKCgo4OOPP+auu+5i0aJFDBkyxN9hCdGlWpas7t69G5vNdh2UrDahxLD4Ty9T8e9z2fHqRELejWGsPgSl7jAV9jIO18HAB19m7cIof0cqRJeShFEIIUQnOczH+TuoqGv4984Nhy+x7Skq3t3IbQ++QNqYgYT8fCM7lRdYvPIddu5aS4VXYeAd4dzzHy/w8i9TiXr/IYb8soyPrWWoD8ZwPaxG+NVXX7FlyxbsdjvBwcEsXLiQYcOG+TssIa66W2+9FbPZzNSpU/nss8+uq5JVZVgq28vuYe0rq3nn/Z18XFiGGjCQ2+5+mNRHUln81Nhm6zMK0R31OHfu3Dl/ByGEEKIb8G5hRr+p7PiP7Xy95qFLb7vnWYYYsgn542G2P9G9Gr18/fXXbN26lZ07dzJw4EASEhIYPnw4PXr08HdoQlwzVFWlrKwMm81GdXU1ffr0YeTIkcTGxkqpthDXGPlORAghhOgEp0+f5r333sNqtRIYGMiTTz7JiBEj+N73vufv0IS45iiKwpgxYxgzZgzHjh3jo48+Ol+yqtPpGD16NDExMdd2yaoQNwhJGIUQQogroKoqxcXFbN++ne9///vMmDGDsWPHctNNN/k7NCGuCwMHDryoZHXz5s1s3LjxfMnqPffcI79TQviJlKQKIYToJMcoe/djvv7xSB4a3kaZ6akqdu6qolfUQ8TceT3MSLzYmTNnsFqtbNu2jR49ejBp0iTGjRvHzTff7O/QhLjutSxZ/dGPfsSoUaMYNWqUlKwKcZVJwiiEEEJ0gNfrZdeuXbz77rv8v//3/5g4cSITJkxAUa7PxFeIa13TktWvvvrqfMnqqFGj6NOn5cKtQojOJgmjEEII0Q7ffvstdrudLVu2UFdXx4MPPshDDz1E7969/R2aEDeEc+fO8emnn2Kz2XA4HJw9e5Z7770Xo9FIZGSklKwK0UUkYRRCCCEu4ezZs5SVlVFQUMDJkycxmUxMmjSJH/7wh/4OTYgb1r/+9S/+8pe/XFSyGhsbyx133OHv8IToViRhFEIIIXw4d+4cDocDi8XCl19+icFgICEhgX79+vk7NCFEEy1LVu+66y6MRiMxMTFSsipEJ5CEUQghhGhh37595Ofn8/nnnzNy5EimTp3KwIHda71IIbqbS5WsDh06VJa4EeIyScIohBBCNDpw4ACbNm3ib3/7G3q9HrPZLOVtQlyHWpasBgYGnu+yKr/TQnSMJIxCCCFueAcPHiQvL48DBw4wbNgwpk2bJq37hegmjh07RmlpKR999BEnT548X7J633338YMf/MDf4QlxzZOEUQghxA3r888/Z/Pmzezbt48hQ4aQmJjI4MGD/R2WEKILnD17lv/93/89X7IKoNfrMRqN/PSnP5WSVSFaIQmjEEKIG84XX3xBfn4+e/fuRafTkZSUxJAhQ/wdlhDiKmmtZDU2NlbmKwvRgiSMQgghbhhfffUVeXl5fPzxx9x+++0kJCQwfPhwevTo4e/QhBB+0rJkNSwsDKPRyM9+9jMpWRUCSRiFEELcAL7++v+3d+/RUZX3/sc/JqEZMTLIxYFUEoFjRjAkpjVR1CRYGS5CgCMJeDTgsgfwWC5VQU4thMqttlWqgrQVYl2S9BwgiRUSymXiASYImNEfJlDt4CJmoiADwWYoxB0Twu+PRMxlB8I1XN6vtbLa7r1n57tn6GQ+83yfZ/9Ta9as0f/93/+pS5cuSk5O1j333EMLGoBTaFkFzBEYAQBXrX/9619au3atnE6nOnTooIcffljx8fEKDAxs69IAXMYqKyv1/vvvy+Vyad++fbSs4ppGYAQAXHWOHz+uv/3tb1q/fr0sFov+/d//XQ888ICCgoLaujQAV5gvv/xS27Zto2UV1ywCIwDgqmEYhjZs2KB169ZJkoYNG6aHHnpIP/jBD9q4MgBXutraWhUVFcnlcumjjz5SQEDAqZbVyMhI5kLjqkVgBABc8b799ls5nU6tXbtW1dXVGjp0qB566CHdcMMNbV0agKvQsWPHtGPHjlMtq126dFFCQoLuv/9+WlZx1SEwAgCuWDU1Ndq8ebP++te/qrKyUg6HQyNGjNCNN97Y1qUBuEa01LLav39/WSyWti4POG8ERgDAFefEiRMqKCjQO++8o4qKCv3kJz/RyJEjddNNN7V1aQCuUU1bVoOCghQXF6fExETdfvvttKziikVgBABcdv70pz9p9OjR6tq1a6PttbW12rFjh3JycnT48GHFx8fr4YcfVpcuXdqoUgBorqWW1cTExGbva8DljsAIALis5OTkKCcnhkM6awAAIABJREFURwkJCfqv//ovSdLJkyfldruVnZ2t/fv3695779Xo0aOZKwTgsvfll19qy5Yt2rZtm/71r3+pb9++SkhIUGxs7GlbVtevX6+77rqLgIk2R2AEAFw2tm7dqjfeeOPU/37ttde0f/9+ZWVl6fPPP9edd96pRx99VLfccksbVgkAZ+/EiRMqLi42bVnt06dPo2OPHz+uKVOm6LrrrtOcOXN06623tk3RgAiMAIDLRNOwGBgYqBtvvFEVFRWKjIxUSkqKbrvttjasEAAujKYtqzabTYmJibrvvvvUtWtXbd26VW+99Za+/fZb/eAHP9ATTzyhxMTEti4b1ygCIwCgzX3yySdasGCB6b4pU6bo3nvvvcQVAcCl8eWXX6qgoEAFBQWqqKjQHXfcoa+//lpfffVVo+PGjx+vIUOGtFGVuJYRGAEAbaq0tFRz585VVVVVs33ftWxNmTKlDSoDgEvnu5ZVp9Opjz/+uNl+3g/RVgLaugAAwLXrdGFRqrvP4vbt21VaWnppCwOASywwMFAxMTHq3bu3goKCmu2vqalRYWGh5s6dq+PHj7dBhbhWERgBAG3i8OHDmj9/vr799ttT2ywWiwIDAxsd17NnT3300UeXujwAaBP5+fmqqakx3VdTU6N9+/Zpzpw5Onz48CWuDNcqWlIBXNEqKysZfboCGYahjIwM+Xw+3XTTTQoJCVHPnj0lSeHh4Y3+E5eHwMBA2e32ti4DF0BpaakqKyvbugyY8Hq9ysjIaNWxFotFqamp3F7oKhIcHKzevXu3dRnNEBgBXNHeeustFRYWymaztXUpOAvV1dUKDAxUQACNLleK0tJSPfXUU7r77rvbuhSch/Lyck2bNk3/1qWrAq67rq3LQQuqampU24qP6AHXXadgk/ZVXHlOnjypz8oPa9GiRerevXtbl9MI/8IAXNFOnDihyMhIPfroo21dCnBVmzt3bottcrhyfPcaTu59m64P5GMgcLn4trZW08oPX5bvs3y1CwAAAAAwRWAEAAAAAJgiMAIAAAAATBEYAQAAAACmCIwAAAAAAFMERgAAAACAKQIjAAAAAMAUgREAAAAAYIrACAAAAAAwRWAEAAAAAJgiMAIAAAAATBEYAQAAAACmCIwAAAAAAFMERgAAAACAKQIjAAAAAMAUgREAAAAAYIrACAAAAAAwRWAEAAAAAJgiMAIAAAAATBEYAQAAAACmgtq6AABoa94lg9X/V24ZrTnYEqv5WzZqcsTFruoa48vU2HumyemXbI+t0q4lDlnauqZWMkqcyvxzlvIK3PJ87pPvWON/SVfa9QCXg9L3XtLd75a07n25XS8t+O/nNNV2sau6ipXmKO7VfHlOtP4h0UN+KdewHhevJlw2CIwA8J0Qq2zWM3ysD+yoYN45LzjvmmwV+C2yhBjy5aUre7ZDqVfAhz9vzs/1yDMZ8hwz2WmxKrzfCE2fSlgEzllwe9natzv9MQHtZaFn7vwEtJe1o1W22oYbq+U/WinjhGTpYJU1sOG+dupoOcPrgqsGH3sAoJ5l2GJ9+sekti7jGuRR9qpCGVaHpj/m1dI/FChjtVepU8PburDTK8vUzBkZ8gTHatzsGUodEKWIUKusFgt/XYELxBI9TnvH3dnWZVz9wobK+cLQxttqPZox71Utr+iuKU/OUVpY25SGtsf3MQCAtrUrW9m7DVl+FK/Ux5LUz2LIvTJT7pq2Luz0PDnpKjgernFLVuu1SQ7FRthkDSEsAgCuLgRGADhfH6ap/82d1KlTCz93pTUPPzU+uf+cpscH91efnqEK7dlH/R96XGl/KZb/dOe/7XFlNztAUk2xFt5Xf0zoAC369MxlF784QJ06hWrwEm/znUcyNTbUrHa/inMW6edjBiimT0+F3txJoWF9FDP4cc1c5pLvrEOeIdeqbHlqLIoblqTwPslKibVIn2Uqc4v57KW6ups8xzeHqme//ho8cZGcZfWP89VfQ0uvS6dO6tQpVI+vavCEHnApffbjGnxPH/UMDVVonxgNeHSmlm72NplL5ZN7x14ZoQ6NHmDIvWymxibGqGdYqHr26a/BExcqe3eD8+5aWPca3jVTLrPLqnHXvX5ho5R+oMGzvTtbi6aO0oC7+ig0NFQ97xygsU8vleuAyTmOFCtz/iSNuq+PeoaFKvS2GA0eP1PpBb7WvRTA1aQ0R3FPPyXr1BZ+5uWosLbpg6pV+km+Ziz7taKfnybbjOmKePFVTdjwsTxVpzn/88uU9Y1JDbVfaP6L9cc8+2u9/NWZyy5a92tZp06T473y5juPbVfKs+a1+0q3a37Gq0p4Ybpszz4l67P1ta/ZriKzlvkLqeqgNr23SuNenaeI/54m69PTZHs+TQl/zNSSPeWN3zur3Bo34ylZ56zS1lPXUC3P9reUMGe6bDOWakXDeo+WaEXuWxrxYprCZ9Sd15GeoxWllQ0P0vKl02R9ep7mlzUtrlKb/jdN1qlPyfZqvkov+MVfG/geFADOV41kSLLFJim+V3CD7V6517jVLI4dK9bSn45VWr5P6mxXwgPDdbMOaXdBrpZOdSp/22KtXJKscLN36CMubdriV/JIa+PtH2cp77MLe1nN+ZT79Cg9ucIjwxqu2P4JirUGy+91q/DDXKW7nSooWakNv0mQ9cwnq3PMqcw1XsnqUPKwukmLSWPiNafAqbX/k6d5A5NbPJctJknxEfXP93G/9hYXyJ2zUGN3lWnVxtfksIQpYXSyrN+F2ENuZW/2yhKRoOExN9dvvF7R4XXn8O9cpMefWCiXT7L2ilXcsHBZDu2WKz9daflZWvvM21r9fP211ZTJU2bI0jtY7p8N0aJ3fQruE6eEwbEy9rtVuGaRJm3M06ZXVmrZ6HApJlmpMUuVtitXOdvmKWFg41mNxo4sZX8mWYekKiW0bpt31SSNeiZbXsOi8Nh4DY+x6NAnLjlXpMn5XqEWr3lbqb3qT1CSqUljZiq7xJC1V6wShoUr+MheFeSna+aGXDkXrNLbk6KYS4lrxwmpSpKtZ4wSujaYa1dbLveuEpPgUKmt65ZqvLNEFQFWRd8WqdgQ6ZDXo6x1byi3aIAynhqrQR1Mftcxjzb+o1IpMe0bby8rVO4l+L6mdOcyDVq5Sz61l723XUm926nqWLmK93mUle9R7l6/Nj09VNEXY8phlUfzFy/Vy2XVsnTupQR7jKyB1Tp0wKOtn7yvIs8eFY37pdJ/bPbE1fNt1ZR3CuXpYNegGLvC6+s0vtyqcctWatM/pY42uxL69ZKOfiHXnnxN/eTvcj/+tJZEn+a8kox96zXbbRK+cVYIjABwvr6pkiGL4n66WMvGNog3RzI1dl3TwGjI9ZsnlZbvkzV+llb/ebpiO9fv8ru16KfjtXDVNE3q208bp9obPdLSL1YRn7lVsMElY2RSow//7nfz5JFVts5++Y5fnMs0dr6uOf/jkdErWW+vXaak0O/3+fJnatSj6fKsypTz+QQltzIx+tdly+mTrKNTlVS/yI1teKqGv+BUdn6mssqSNcF03oxFYaPmaVnDeY41HqWPHaKZm7O0dM0v5fhpgiYvSfh+f94k5W32KvieyVr2qqPx6Y65tHDKQrmOWBX73Nta8VyCbPV/If0fLtKkcQvlfOVJPdd3p5aNtEqq0NEjklH2phbVWBU/d4OWTY06FW59G2Zq7KR0ZT8zSdH9NmpyhF3JY+O00O3Sphyn/AOTGgRhQwWrc+WVTcljHHXby9L1819kyyu7xq1YqdeGf3edfrlmj9Qjf8hV2gvZcqxIlq3Go0VPzVR2iRT1s1Va9YLjVO3Gp+l68j9mKveFJ7XwR5s1/y4iI64R1TX6Ru10d3yq0mMbBLlj25VS1DwwVhSt0kRniSo6xujlCU9o4i31qaX2qDa9+7ombt6iiat7qHDCvWq4Hpflll6y+0rk2rNXRsydjd6XC//fx/KovWwhlfI1HaG8UL75WAtyd8kX0ENTJz2tBbc3uNav3Zqw+M/K2r9VGaVDFX3bhf/1nq05er2sWrZ+jyj3iUTZT4XSShWuW6qkDSXK3blLvh8nynwds2pt3bpVhbU9lDbxac3oXr+59gu9/r852vTP9oobOEmZSXbZ6vsiS3dlaszb72vFX9cq6fZUDQo2PbFUe1Cvr9kqT/UFvOBrFC2pAFDPWPX4GdoXO6n/r9zNH3e8QoaC1dHaipR0JE9v/sUjhSRo1pIGYVGSrLGa/tIUxVoMud98U66m7Z0/HKSk/hb5tuSroGHLjuFSVp5Xlv4pGhR68QKBv8Ki2CEOjXtmVqOwKEm2AakafpukKq98R1p7Rp+yVjvlDwrXiLGO7wOU1aGUYTbpmEuZfylufYFBdsXdEy7JUIXv7L7W969ZqswSydJ/hpY9/31YlCTrXdO1eHaSrDU+5b2RWf8FgKFvqiQZhhQ/Xb9rEBYlyTZknuaNt0vH3Er/s6tuBHpkqhydJV9+tpwNnyO/U1kbfFJoklIH1p3FsypTLr8U/uhv9dvhDRf/sSrhF7OUGhOlCPlUViMZBW8qfZch9ZusxQ3CoiRZ+kzQ755PktXwKPMNZ/N2Z+AyZxS+0XJbaf1P3JqS5o+rqlSV2qnj9e1NztpUubJcdSN0I5JSvw+LkhTQQYNGPaIJoVLFni3KaNpWelOkRvRuJ98/9sjVMBRWe7S6uFyW3nEa3PEiriZ6rFrdIiI16P6HNOP2JtfaKVZj7FbpRKW8RyrNH39eKnUwMEyD+sZp6kMNw6IktVdcXIyi2knGP8vlbdb+W6/Crdc/KlfHvgM0rnuD7fu2K2N/tXRLol5uEBYl6daYEZoS013Rnat1sKLl6kq352hJmRQXFyN7YMvH4cwIjADwnRCbwsPCT/tj69j8q0z/135VqZs6dGnF79hVoMLjkiXSIYfZyFlYvBJuk3SgUO5mLaY2OQbHyXJkk/J2fj8rxNiWo9wDFsWPdCjsIvaN2IbM0rIVq/TaY41XL/WXFcu1JlfFR+vrae08xr3ZytphSL2GK3VAw6BrUfwjdS25xasyzef8mTGK5dy8V5JVEX3PboXVQndx3SjxsOEye6RteJISQiRjT6Hc/roaFVhf68gkk8dYlDB8oMKDJO+OAu2tkdR5uFKH2KQj9QGxni8vU84jkn1kihIskuST271XCrIpYUhc8zbSEId+994WbVwxWbFB0t5tBfLVSPaBgxRl8vrb+scr2iL53QUquswXEgKaCbbq1s5dTvvT7frmgcx/vFKGrLKGtOJ3fPO5XN5qKciuEX1NAmZALyX0tkonDsq172iTnVY5InvJcnyPcvd9P5RlfObW2op2Soi5Q+EX89N211gteHyysh6+Ux0bbDaOlavoH265fPU11V6M//O3V+KDqcp46glNvaXB5tpq+b4q0do9X8hfK8ksLJ6oVtXRg1qxZr02neihCQNjG41Aej7fp4MnJPvtkYpu9vx10PjH58g19QmNb+n2S0fdWrB+j4zuA7Uwvgft+OeJllQAqGcZ9jvtOofbapR5y2QEhcneivsX+30H5a+RjJ1piumU1vKBQT6V7ZfUp/Hm8IEOxb3gkmtDoYyBCbLIUMGaTfLd4FDSsDD5/nK21Rty/ypGnX7VysOPeeVcnam8bW79Y59XZZ975Ws42mmpklp54+finCy5DUn+Ai0cO6rxzpqKuoUSDmQpc+MsJTSdsylDZe/O0aRP6gN8TZW8u5xylxiyDZmn6cNaPYtSkl++Q35Jwbo5rIWgeUO4wm6WdOCgfD5JvYJ1vUXScavCe7bwiSW0W11gPHRIdfHQovgxSQpfla6Cd3LlfWyCwuVV7jsF8gdFaUpybP21+OT1GZIidLPtzB9zfAcOSpI8rwxWp1dOc+DXPh06LrV+ginQ9izRj6joHG6r4T1yREZAZ0V0asXBR8t1sFZS9S5NmPmUJpzm0IP/9EtqPG8uvG+k7l7jkWtPiYy+dllULdeuPfIFRyopqosO7Tjb6qtV+G6arO+29vhKeYq2K6O4RMWHD8p7uFylxxr2YV7c+yUaX3u0esfHcpWVae/hI/J87Zdxpr8DR99XStr7UrsuSnlsktJubVzjwYqjMtRO3Tq25pvYpiq1acNaZR3voonjhiouOP8czoGGCIwAcF788nzqlW6OV1jnMx/93R/RxguvmAjqqFizHBI2XI47FyotP0+FNQlKMJzKyvfJ+kCSkjpL6edwBbYYh+IjmqSIKq8K8txq1NhZlq1JY6Ype68hhdgUFROl+IeHyx4VrdhYq5xTxmppaxfeMVzKyqlvN/UVy9ViB6lfeSuy5Bs5odn8F9+uXGXvanq8RZbjXpUdkuyhTfedxtl8+R4kSR11cydJRywKbumzWI30jSQFBeu7cWlL/1Ql35auRTuylFcyQZNr8pS1w5DlrhQl9zu3egzV9cGF35Os2NMNrAZHK5y2LFwTKvWPr8qlDnaFt2aEsbZugRy1765BkT1O851KO3ULvb755s53yhG2VrM/+Vgf1NqVWP13rf7Er472GI0IOcf35bBIJXRrMtpZXS5XcUnj9+Xag1qevlQzdpdLge116w97KKKvXcm2Horu2Uv68FWN234x2lHrVHySoxFv56uoUrJ06K6oW3ppTGQ3RfTopYSuB5W2OEdbzR4YEqO0h3uoaP16Zb2TqeiukzU17MIEW6M0Xwt2lsv24yc1+/Z2UitWp8XpERgB4HwYhXLvNmSNjVN0K95RrTd3U7CkqrBkzf9jaguLAJxGULgGDu2nhfOdcn4oRe/PlfOIVY6RDlmDDp7DBVgUNup3jRePkeoW7NnglvPUBr9y5z+n7L2Gwkcv1spXUmVv+EGsxi3nWSy2Y2zLUXaZZImdr80bJ8tudlBZukbdP1OuHZnK/HSCpjcabbUodu4ObWxQt+ErVt4r0zRt2VJNetquLatTTdtLm7PKFmqV5NehMq9k9qj6EKqgbrJ1lhQULnu4RfrUp7L9fpkN2xkle1VWI1lCbd/PKwyKUvIjsVr6q93KWuNRvLK026hvwf3ugUE22bpZpM98OuQzpH5NRxkNeTZka3dNmPrFJ6jbzeGSvLI6pmvZM6bPJHBtqS6R+8tqdby1l0k7o4kbrXVz5AJ6aNyYJzSipUVUWhLQRYP69dCC3D1yfj5W0RW75DzeXo6YO9QxoGkLa2u0U/iPxir9wSaja8e2K2VPiTY12FS6faVm7y6X5ZYBWj7xYY3o1DB0VWvtzou44ku1Rwuy81VUZdWghydr+QM9GrXFyveFWpxi2M6q2B8P1ZTu0sFX12r2incUNX2sEuvzeMcOHST5dbCiXE1HdCWpouxjrfVJt/e+Q3ENR5Grv9Dy3HwVBUdqybDGbbo4d8xhBIDzYOxwyuWzKPr++FZ1+lliYhUXIhnuXDlN76WXq5mDB2jwmLTGC6M0YB88SBFBXuWvdyp3jVP+zg6lPHiR+wxrilTo9ktBdiU/2SQsSlKJS4UH1MqRMb/yVq2Vr8aifqOGm4dFSQpLUvL9VskoVuZfXDrTVEaLLUrJs6fIESL5dzpVfBb3HouLjZJVhgrXOZvfBkWSLy9XrmOSJTJOsVZJsio2Pk4WGXKtM1tMxi9nzib5aqTw+x2NrtE+OkXxIYb2bviD3tywV0bn+kV+TrEp7q5wqcYnV35h8+s2CvXmL6Zp0qTfq+C41C+2n2xBhvZuyJPH5Pk3ChZqcOJgjXo62/TagKuNse/vch1tp+gIe+sCQ0gv3R3aTvrGo7X/MBuNK9eKt3+thFeX6uXPzAOYPTJS9oBybdqzR2t37VHFDZEaYzYf8oKqVvG+Ehlqp6i4B5uERUnVX6jQW3c9VS0tOnM+yktUWCHp+khNTOzR7Ln2fV5St0JpbY3MblMpSZZbBmr2vd0l3/t6Lr/k1Pud/dbesgVK3r0eeZrVXinX5gxNXZGhZU3e1LyFOXq5VIobOFrjW9OOjFYhMALAOfMp760seW9wKHVYK8cKbUma8HC45HcqbeoiuRqGQsOjzF/MUbq7WHtPhCuipRbXXsOV1EfyvDNTi7b4ZRucovjWtF2djyCbOna21N1b0u1pvM/n0sKnX6+bj6gqGWdKdr5cZW30SyFxShl2ujFAm5LqV0/15mTK2YolPo09RdprSOpkk/UsVjmwjpyslF6SsWOhfv6SS/4Gwcv/4VJNW5Arf5BNjse/HwkMHzNZKWGSPy9N05YVNwh2hryrntOcHJ/0wyRN/8+oxr8sNEUpA60ydmUoY5ch25BUDW/yWkeN/U8lWCXv/8zRnPyGDWh+uV9aqMyyuns2JoVKloETldrHIsO9SE++4JSvYWg8kKs5v1gq9+7dqvhhRCtHXIEr2VHlbitUaXCkxkWd/h593+umcfGRssmvrL9manlZw9BYraLNq7Rg1xcqOtxeEd1baJvsGqMR3SXPR6u06B+VskXGKuFsRyrPWjt1u9EqqVrezz9v3KpaXa61f12p5d9tPPHthf/1N9SPzFaV6YOyxkG6oixfU/62p+59sfp0o5ztlDhwqEaEVMuzba0yDtdttUTcq0k/bCdjf76e21TSaKTStydXC4oqpc5xGtO3wetx4itlfeCR0X2gXk7odmGuEZJoSQWAU4x109Sn38wzHGWRfdJKvTt4t9J+s1zZG/yS7aByX5jUqE1IklTjrVsd81C+Xn7GogmzZ8lhs8oxd5lmfT5GCzcv1Ki7MhXbP1bhlkPa6y5U8X5Dll7JeumlCS1/uA+yyzEwSgtfKpY3KFwTRsZfghXg7Er+qUPpz+TK9ashGlAwQnFhwao6UCTXFre8ssveq0qesgodOsNtNbzvZKvgmGQZOFxJpvdY/J71wRSNsGUrw+dU5hqfkk4tiddk0RtJVYf2qnBHsXw1FsU+lqqEs/kLF5KgWX+apb3jFsr14ijdmZOghH43S1/vlqvAI3+NVVE/W6zFYxt8MdDZoXlLJqto/FLl/mKIClfFK76vVVVlbjkLvDJCojThlcVKbjaX0qrhY0bIlpchn8KVNMbk9es1Qa+9XKhHpmYr/dF75LwrTrE/tOjQJy65PvXX/Rt5IbmupdkSq+mvz1PxuJly/mGsYvJiFf+jcFmOeVW80y3vMck2cL4WT41q+luAy55RlKGIz1ae4ah2uj1xstZGfqHZ67Zo9Z5KqYNfa9e8pY1ND60t195aSUf/rpf+t50mJo3QoA6SLfYRve4t18StuzTj9x4t721XVAfV3YD+QKUU3F0T/2O0RrT05VxANzn69tD8DV+oNLCLJsbYL8nKnHH9E5X4QY627spQ/O93aXCYVcHflKvwM4+KjraTPbSLPAfKdfBoS2N856HDnZr44/XatP0LvfzHF+WOtCsiuFo+X4lc+76S0bG77O2/kqeqUoeqJJlM/6w7T6xmP7BFm3I9emnDx0oZd6c6BvTQlNTR+uCNldq07iVFf2hXQg+rdPQLufZ9pYqgHpo4JsnkHoxdNG7kUEVf3HV+rjkERgD4zjG/fMfOPIxlO1Yl+QqVl+euG83Z71buqub3Z/z+vB45c4IV97NZcthUd7/FVVsUu2Kp3swpUOGOPLmrgmUL66fkqeM0cVpq4/szmoga4pD9lWJ5woZreP9Ls2B4+GNv6F1LhH69LFuubRkqrrHIFhqhqIdnad7PJijqvTHqP8utwi1uGQNjzT8s1XiUne2SIYscI5POPIczJF6jR4YrY5lXBX/Jlmf85FO7mi56YwmxydYvSZMfm6IZ488+HFnvmq6V78Uqc/GbysovlHNdoYI7hyti+GSljJug1AfCm12TNX6+NvwtWot+n6m8nYXK2+2XrOGKGDJZE56bodQY81ZhS2ysooIy5OyZrNQWXr/w0cu0oVeCXv9DhvK2FSrv4yoFh/ZT0s/Gacozjf+NWPpN0KqN0cr8w3Jl5xeocINbVUE22fokacLo/9T0nza+tyRwxahq3U3vuxnV0tES5RaXyHdC0j9LtLaw+f0ZTznxlTZ9FKS7f1IXGKUOGpT8nDbdlq/Xt++Sq2yPcvdJlo7dlBg3UOMGJiql++lbTKP7Rcru/EKeTncqqfclSizdB2rF5PZ6ecMW5X6+RyvKpI43dFFE+H1akPCgJrbfroTfr5f3M4886tHyFIBz0l6Dxv5cWZ1z9XqhRx/s2qIPAtqrW9cecjiGamqiXXtXztWEPSVy7atUSmTLz589cajG7Vyq5R+t1cv33qEFvdvJ0j1RWc/20PL8fK3eU6JNRSXS9V0UFTNUkx4cqJRbmp/P9uPRdQvd4IK67uTJkyfbuggAOFfp6emqqqrSo48+eml/ccFMxYzOVNSST/X22NPPH/QuGaz+L1Zp+ntbmizcgmuVb8VYxTxdoH5pm7XxClmoZu7cuUpJSdF9993X1qXgPBw8eFDPPvusXrn7Xl0feJV9i/DZKkUvfV9Rj/1GGbGnD3el772ku9dV67nnfqkZ3U97KHBJfFtbq2k7t+m3v/2tevRoxX26LiHmMAIAcCnUzy00SrKVttgpwxqvcWOvjLAIALh2XWVfLQEAcHnyvDJAQ5bsVdUxQ4Ysinp+lsn8RgAALi8ERgA4F31T9bs/x6vjj858OwvbsFl6o6cUcXl1mOAS69YnWt0C98prs8sxfp4WPxN1SRbFAK4Z3e/VS0/Y1TH8zLez6BY1Qsu7SHZuvQCcEYERAM5F5yg5hrduYRVLrwQl9brI9eCyZx3+mnYMf62tywCuXiE9NCi6dd/MWbraNaLrRa4HuEowhxEAAAAAYIrACAAAAAAwRWAEAAAAAJgiMAIAAAAATBEYAQAAAACmCIwAAAAAAFMERgAAAACAKQIjAAAAAMAUgREAAAAAYIrACAAAAAAwRWAEAAAAAJgiMAIAAAAATBEYAQAAAACmCIwAAAAAAFMERgAAAACAKQIjAAAAAMBUUFsXAADnIyAgQHv27NFrr73W1qUAV7WKigqNj0JZAAADoklEQVQFBPA985XuuuuukyQt3feZAur/O4C2d/LkSUm6LN9nrzv5XXUAcAUqKyuT2+1u6zKAq15AQIAcDodCQkLauhScp3Xr1skwjLYuA0ATFotFw4YNa+symiEwAgAAAABMXX5jngAAAACAywKBEQAAAABgisAIAAAAADBFYAQAAAAAmCIwAgAAAABMERgBAAAAAKYIjAAAAAAAUwRGAAAAAIApAiMAAAAAwBSBEQAAAABgisAIAAAAADBFYAQAAAAAmCIwAgAAAABMERgBAAAAAKYIjAAAAAAAUwRGAAAAAIApAiMAAAAAwBSBEQAAAABgisAIAAAAADBFYAQAAAAAmCIwAgAAAABMERgBAAAAAKYIjAAAAAAAUwRGAAAAAIApAiMAAAAAwBSBEQAAAABgisAIAAAAADBFYAQAAAAAmCIwAgAAAABMERgBAAAAAKYIjAAAAAAAUwRGAAAAAIApAiMAAAAAwBSBEQAAAABgisAIAAAAADBFYAQAAAAAmCIwAgAAAABMERgBAAAAAKYIjAAAAAAAUwRGAAAAAIApAiMAAAAAwBSBEQAAAABgisAIAAAAADBFYAQAAAAAmCIwAgAAAABMERgBAAAAAKYIjAAAAAAAUwRGAAAAAIApAiMAAAAAwBSBEQAAAABgisAIAAAAADBFYAQAAAAAmCIwAgAAAABMERgBAAAAAKYIjAAAAAAAUwRGAAAAAIApAiMAAAAAwBSBEQAAAABgisAIAAAAADBFYAQAAAAAmCIwAgAAAABMERgBAAAAAKYIjAAAAAAAUwRGAAAAAIApAiMAAAAAwBSBEQAAAABgisAIAAAAADBFYAQAAAAAmCIwAgAAAABMERgBAAAAAKYIjAAAAAAAUwRGAAAAAIApAiMAAAAAwBSBEQAAAABgisAIAAAAADBFYAQAAAAAmCIwAgAAAABMERgBAAAAAKYIjAAAAAAAUwRGAAAAAIApAiMAAAAAwBSBEQAAAABgisAIAAAAADBFYAQAAAAAmCIwAgAAAABMERgBAAAAAKYIjAAAAAAAUwRGAAAAAIApAiMAAAAAwBSBEQAAAABgisAIAAAAADBFYAQAAAAAmCIwAgAAAABMERgBAAAAAKYIjAAAAAAAUwRGAAAAAIApAiMAAAAAwBSBEQAAAABgisAIAAAAADBFYAQAAAAAmCIwAgAAAABMERgBAAAAAKYIjAAAAAAAUwRGAAAAAIApAiMAAAAAwNT/B5KyCuJsObhKAAAAAElFTkSuQmCC)\n",
        "усть дана следующая выборка из пяти объектов (первый признак — деньги, второй — время):\n",
        "\n",
        "[250, 45]\n",
        "\n",
        "[100, 35]\n",
        "\n",
        "[400, 30]\n",
        "\n",
        "[250, 60]\n",
        "\n",
        "[300, 50]\n",
        "\n",
        "Сколько из них попадёт в красный лист?"
      ],
      "metadata": {
        "id": "B3LvGPodRqVI"
      }
    },
    {
      "cell_type": "code",
      "source": [
        "class DecisionTree():\n",
        "    def __init__(self, time, money):\n",
        "        # self.root = \n",
        "        pass\n",
        "    def create_split(self, node):\n",
        "        pass\n",
        "\n",
        "v = np.array([\n",
        "              [250, 45],\n",
        "              [100, 35],\n",
        "              [400, 30],\n",
        "              [250, 60],\n",
        "              [300, 50]              \n",
        "])\n",
        "v = v[v[:, 0]>200]\n",
        "v[v[:, 1]<40].shape[0]"
      ],
      "metadata": {
        "colab": {
          "base_uri": "https://localhost:8080/"
        },
        "id": "uGs_W9qgJS0S",
        "outputId": "6422e571-a115-4fae-a1e3-a67a3fc80c39"
      },
      "execution_count": null,
      "outputs": [
        {
          "output_type": "execute_result",
          "data": {
            "text/plain": [
              "1"
            ]
          },
          "metadata": {},
          "execution_count": 42
        }
      ]
    },
    {
      "cell_type": "markdown",
      "source": [
        "#### Задание 5.4.2\n",
        "3\\. Пусть решается задача классификации с помощью решающего дерева. Ниже приведены разные варианты распределения классов в какой-то произвольной вершине ([c1, c2, c3] означает, что в вершине c1 объектов первого класса, c2 объектов второго класса и c3 объектов третьего класса).\n",
        "\n",
        "Какой из них должен получить меньшее значение критерия информативности?\n",
        "\n",
        "[35, 45, 20],\n",
        "[95, 3, 2],\n",
        "[33, 34, 33]"
      ],
      "metadata": {
        "id": "iOz9LvgKaTz9"
      }
    },
    {
      "cell_type": "code",
      "source": [
        "import numpy as np\n",
        "\n",
        "def entropy_information_criterion(vector):\n",
        "\n",
        "    vector = np.array(vector)\n",
        "    prob = vector / np.sum(vector)\n",
        "\n",
        "    return - prob @ np.log2(prob)\n",
        "\n",
        "# \n",
        "def gini_information_criterion(vector):\n",
        "\n",
        "    vector = np.array(vector)\n",
        "    p = vector / np.sum(vector)\n",
        "\n",
        "    return p @ (1 - p)\n",
        "\n",
        "# все три варианта в виде строк матрицы\n",
        "entry = np.array([\n",
        "                  [35, 45, 20],\n",
        "                  [95, 3,   2],\n",
        "                  [33, 34, 33]\n",
        "])\n",
        "\n",
        "n_min = np.argmin([entropy_information_criterion(row) for row in entry])\n",
        "print ('Minimum entropy is for', entry[n_min])\n",
        "\n",
        "n_min = np.argmin([gini_information_criterion(row) for row in entry])\n",
        "print ('Minimum gini criterion is for', entry[n_min])"
      ],
      "metadata": {
        "colab": {
          "base_uri": "https://localhost:8080/"
        },
        "id": "OHs5YyN-ao_-",
        "outputId": "46a214e3-e107-4883-f678-856149fc2868"
      },
      "execution_count": null,
      "outputs": [
        {
          "output_type": "stream",
          "name": "stdout",
          "text": [
            "Minimum entropy is for [95  3  2]\n",
            "Minimum gini criterion is for [95  3  2]\n"
          ]
        }
      ]
    },
    {
      "cell_type": "markdown",
      "source": [
        "#### Задание 5.5.2\n",
        "Для начала подготовим данные к классификации. Условно разделим вино на хорошее и нет. Хорошим вином будем называть вино, параметр quality которого не менее `6`.\n",
        "\n",
        "Теперь сравним несколько методов классификации: логистическую регрессию, решающее дерево и бэггинг.\n",
        "\n",
        "Разбейте выборку на обучающую и тренировочную с параметрами `test_size=0.30`, `random_state=42`.\n",
        "\n",
        "Обучите два классификатора: логистическую регрессию (с дефолтными параметрами) и решающее дерево (`random_state=42`, максимальная глубина равна `10`).\n",
        "\n",
        "Введите значение $\\ F1-score $ для классификатора, который показал наилучшее значение."
      ],
      "metadata": {
        "id": "Uf4AKBHJGy13"
      }
    },
    {
      "cell_type": "code",
      "source": [
        "import pandas as pd\n",
        "import numpy as np\n",
        "\n",
        "path = 'https://lms.skillfactory.ru/assets/courseware/v1/2daeecee174368f8a33b82c8cccae3a5/asset-v1:Skillfactory+DST-PRO+15APR2020+type@asset+block/winequality-red.csv'\n",
        "df = pd.read_csv(path, delimiter=';')\n",
        "df.sample(5)\n",
        "\n",
        "df['quality'] = df.quality // 6 #(df.quality >= 6).astype('int32')"
      ],
      "metadata": {
        "id": "GCn6mJ9Vm0n5"
      },
      "execution_count": null,
      "outputs": []
    },
    {
      "cell_type": "code",
      "source": [
        "from sklearn.linear_model import LogisticRegression\n",
        "from sklearn.tree import DecisionTreeClassifier\n",
        "from sklearn.metrics import f1_score\n",
        "from sklearn.model_selection import train_test_split\n",
        "\n",
        "RND_SEED = 42\n",
        "\n",
        "target = 'quality'\n",
        "X = df.drop(target, axis=1).values\n",
        "Y = df[target].values\n",
        "\n",
        "X_train, X_test, Y_train, Y_test =\\\n",
        "    train_test_split(X, Y, test_size= 0.3, random_state=RND_SEED)\n",
        "\n",
        "log_regr = LogisticRegression(random_state=RND_SEED)\n",
        "log_regr.fit(X_train, Y_train)\n",
        "Y_pred_log = log_regr.predict(X_test)\n",
        "\n",
        "tree = DecisionTreeClassifier(criterion='gini',\n",
        "                                  max_depth=10,\n",
        "                                  random_state=RND_SEED)\n",
        "tree.fit(X_train, Y_train)\n",
        "Y_pred_tree = tree.predict(X_test)\n",
        "\n",
        "round(np.max([f1_score(Y_test, Y_pred_tree),\n",
        "          f1_score(Y_test, Y_pred_log)]),\n",
        "         3\n",
        "      )\n"
      ],
      "metadata": {
        "colab": {
          "base_uri": "https://localhost:8080/"
        },
        "id": "dpVraVU8GtPk",
        "outputId": "42f69997-a2db-4534-8e30-74a48eb6cddd"
      },
      "execution_count": null,
      "outputs": [
        {
          "output_type": "stream",
          "name": "stderr",
          "text": [
            "/usr/local/lib/python3.7/dist-packages/sklearn/linear_model/_logistic.py:818: ConvergenceWarning: lbfgs failed to converge (status=1):\n",
            "STOP: TOTAL NO. of ITERATIONS REACHED LIMIT.\n",
            "\n",
            "Increase the number of iterations (max_iter) or scale the data as shown in:\n",
            "    https://scikit-learn.org/stable/modules/preprocessing.html\n",
            "Please also refer to the documentation for alternative solver options:\n",
            "    https://scikit-learn.org/stable/modules/linear_model.html#logistic-regression\n",
            "  extra_warning_msg=_LOGISTIC_SOLVER_CONVERGENCE_MSG,\n"
          ]
        },
        {
          "output_type": "execute_result",
          "data": {
            "text/plain": [
              "0.793"
            ]
          },
          "metadata": {},
          "execution_count": 7
        }
      ]
    },
    {
      "cell_type": "markdown",
      "source": [
        "Обучите модель с использование бэггинга (функция `BaggingClassifier` с `random_state=42`, разделение выборки на обучающую и тренировочную с параметрами `test_size=0.30, random_state=42`) для алгоритма, показавшего лучшее качество, определите количество моделей **1500**. Вычислите новое значение $\\ F1-score $."
      ],
      "metadata": {
        "id": "vI0sKuUZaBz-"
      }
    },
    {
      "cell_type": "code",
      "source": [
        "from sklearn.ensemble import BaggingClassifier\n",
        "\n",
        "bagger = BaggingClassifier(random_state=RND_SEED,\n",
        "                           base_estimator=DecisionTreeClassifier(random_state=RND_SEED),\n",
        "                           n_estimators=1500\n",
        "                           )\n",
        "\n",
        "bagger.fit(X_train, Y_train)\n",
        "\n",
        "Y_pred_bag = bagger.predict(X_test)\n",
        "\n",
        "print ('Bagging classifier F1-score:',\n",
        "      round(f1_score(Y_test, Y_pred_bag), 3)\n",
        ")"
      ],
      "metadata": {
        "colab": {
          "base_uri": "https://localhost:8080/"
        },
        "id": "3yNyuIw6aSq_",
        "outputId": "d2e2e26e-bb88-4124-8ffd-ac19dea6bd46"
      },
      "execution_count": null,
      "outputs": [
        {
          "output_type": "stream",
          "name": "stdout",
          "text": [
            "Bagging classifier F1-score: 0.816\n"
          ]
        }
      ]
    },
    {
      "cell_type": "markdown",
      "source": [
        "### 5.6. Случайный лес\n",
        "Теперь обучим случайный лес на простых данных и посмотрим, как можно подбирать параметры случайного леса для достижения наилучшего качества модели.\n",
        "\n",
        "Откроем его, удалим признаки, не относящиеся к предсказанию (от дня недели, например, или от года погода не зависит), разделим на тестовую и обучающуюся выборки:"
      ],
      "metadata": {
        "id": "U93LurdLUSwZ"
      }
    },
    {
      "cell_type": "code",
      "source": [
        "import pandas as pd\n",
        "import numpy as np\n",
        "\n",
        "from sklearn.tree import DecisionTreeClassifier\n",
        "from sklearn.metrics import f1_score\n",
        "from sklearn.model_selection import train_test_split\n",
        "from sklearn.ensemble import RandomForestRegressor\n",
        "from pprint import pprint\n",
        "\n",
        "path = 'https://lms.skillfactory.ru/assets/courseware/v1/ecd07340ed6b98d6fb556b3429156eb4/asset-v1:Skillfactory+DST-PRO+15APR2020+type@asset+block/temps_extended.csv'\n",
        "weather = pd.read_csv(path)\n",
        "\n",
        "RND_SEED = 42\n",
        "\n",
        "X = weather.drop(['actual','weekday','month','day','year'], axis =1)\n",
        "y = weather['actual']\n",
        "\n",
        "X_train, X_val, Y_train, Y_val = \\\n",
        "    train_test_split(X, y, test_size=0.3, random_state=RND_SEED)"
      ],
      "metadata": {
        "id": "t83nKNKEVlcO"
      },
      "execution_count": null,
      "outputs": []
    },
    {
      "cell_type": "markdown",
      "source": [
        "Попробуем подобрать гиперпараметры таким образом, чтобы получить оптимальный результат.\n",
        "\n",
        "Если мы запускаем случайный лес без настройки параметров, то по умолчанию они следующие:"
      ],
      "metadata": {
        "id": "5wAZDk-IUl7K"
      }
    },
    {
      "cell_type": "code",
      "source": [
        "rf = RandomForestRegressor(random_state=RND_SEED)\n",
        "\n",
        "# Look at parameters used by our current forest\n",
        "print('Параметры по умолчанию:\\n')\n",
        "pprint(rf.get_params())"
      ],
      "metadata": {
        "colab": {
          "base_uri": "https://localhost:8080/"
        },
        "id": "sZ-ry0EUUtWw",
        "outputId": "3126e324-3d86-4593-b2a6-46bbfcf416b9"
      },
      "execution_count": null,
      "outputs": [
        {
          "output_type": "stream",
          "name": "stdout",
          "text": [
            "Параметры по умолчанию:\n",
            "\n",
            "{'bootstrap': True,\n",
            " 'ccp_alpha': 0.0,\n",
            " 'criterion': 'squared_error',\n",
            " 'max_depth': None,\n",
            " 'max_features': 'auto',\n",
            " 'max_leaf_nodes': None,\n",
            " 'max_samples': None,\n",
            " 'min_impurity_decrease': 0.0,\n",
            " 'min_samples_leaf': 1,\n",
            " 'min_samples_split': 2,\n",
            " 'min_weight_fraction_leaf': 0.0,\n",
            " 'n_estimators': 100,\n",
            " 'n_jobs': None,\n",
            " 'oob_score': False,\n",
            " 'random_state': 42,\n",
            " 'verbose': 0,\n",
            " 'warm_start': False}\n"
          ]
        }
      ]
    },
    {
      "cell_type": "markdown",
      "source": [
        "Попробуем подбирать разные значения для некоторых параметров. Для перебора вариантов возьмем следующие параметры:\n",
        "\n",
        "* n_estimators \n",
        "* max_features \n",
        "* max_depth \n",
        "* min_samples_split \n",
        "* min_samples_leaf\n",
        "* bootstrap\n",
        "\n",
        "Мы можем сами указать, какие значения гиперпараметров надо перебрать.\n",
        "\n",
        "Зададим сетку гиперпараметров, которые будут перебираться:"
      ],
      "metadata": {
        "id": "Q6ju0OCbU4WY"
      }
    },
    {
      "cell_type": "code",
      "source": [
        "from sklearn.model_selection import RandomizedSearchCV\n",
        "\n",
        "n_estimators = [int(x) for x in np.linspace(start = 200, stop = 2000, num = 10)]\n",
        "\n",
        "max_features = ['auto', 'sqrt']\n",
        "max_depth = [int(x) for x in np.linspace(10, 110, num = 11)]\n",
        "max_depth.append(None)\n",
        "min_samples_split = [2, 5, 10]\n",
        "min_samples_leaf = [1, 2, 4]\n",
        "bootstrap = [True, False]\n",
        "random_grid = {'n_estimators': n_estimators,\n",
        "               'max_features': max_features,\n",
        "               'max_depth': max_depth,\n",
        "               'min_samples_split': min_samples_split,\n",
        "               'min_samples_leaf': min_samples_leaf,\n",
        "               'bootstrap': bootstrap}\n",
        "# Обучим наш лес:\n",
        "rf = RandomForestRegressor(random_state=RND_SEED)\n",
        "rf_random = RandomizedSearchCV(estimator=rf, \n",
        "                               param_distributions=random_grid,\n",
        "                               n_iter=100, \n",
        "                               cv=3,\n",
        "                               verbose=2,\n",
        "                               random_state=RND_SEED,\n",
        "                               n_jobs=-1)\n",
        "rf_random.fit(X_train, Y_train)\n",
        "\n",
        "# Посмотрим, какие гиперпараметры нам предлагают как оптимальные:\n",
        "\n",
        "rf_random.best_params_"
      ],
      "metadata": {
        "colab": {
          "base_uri": "https://localhost:8080/"
        },
        "id": "hSdrq6RDEy2V",
        "outputId": "21033734-33f5-4f57-a1db-81df35b8ab1e"
      },
      "execution_count": null,
      "outputs": [
        {
          "metadata": {
            "tags": null
          },
          "name": "stdout",
          "output_type": "stream",
          "text": [
            "Fitting 3 folds for each of 100 candidates, totalling 300 fits\n"
          ]
        },
        {
          "data": {
            "text/plain": [
              "{'bootstrap': True,\n",
              " 'max_depth': 10,\n",
              " 'max_features': 'sqrt',\n",
              " 'min_samples_leaf': 2,\n",
              " 'min_samples_split': 5,\n",
              " 'n_estimators': 1000}"
            ]
          },
          "execution_count": null,
          "metadata": {},
          "output_type": "execute_result"
        }
      ]
    },
    {
      "cell_type": "markdown",
      "source": [
        "#### Задание 5.6.1\n",
        "\n",
        "Обучите случайный лес с предустановленными параметрами и теми параметрами, которые мы отобрали как оптимальные. В обоих вариантах поставьте `random_state = 42`. Какое улучшение **MSE** дала подстановка отобранных гиперпараметров? Ответ округлите до одного знака после запятой.\n"
      ],
      "metadata": {
        "id": "8oaBh4HYVk_c"
      }
    },
    {
      "cell_type": "code",
      "source": [
        "N_val = Y_val.shape[0]\n",
        "\n",
        "rf_default = RandomForestRegressor(random_state=RND_SEED)\n",
        "rf_default.fit(X_train, Y_train)\n",
        "\n",
        "y_pred_default = rf_default.predict(X_val)\n",
        "MSE_default = 1 / N_val * (Y_val - y_pred_default) @ (Y_val - y_pred_default)\n",
        "\n",
        "print ('MSE_default = ', round(MSE_default, 1))\n",
        "\n",
        "rf_opt = RandomForestRegressor(\n",
        "  bootstrap=True,\n",
        "  max_depth=10,\n",
        "  max_features='sqrt',\n",
        "  min_samples_leaf=2,\n",
        "  min_samples_split=5,\n",
        "  n_estimators=1000,\n",
        "  random_state=RND_SEED\n",
        ")\n",
        "rf_opt.fit(X_train, Y_train)\n",
        "\n",
        "y_pred_opt = rf_opt.predict(X_val)\n",
        "MSE_opt = 1 / N_val * (Y_val - y_pred_opt) @ (Y_val - y_pred_opt)\n",
        "\n",
        "print ('MSE_opt = ', round(MSE_opt, 1))\n",
        "print ('MSE_default - MSE_opt = ', round(MSE_default - MSE_opt, 1))"
      ],
      "metadata": {
        "colab": {
          "base_uri": "https://localhost:8080/"
        },
        "id": "gOh2fZzuak7Q",
        "outputId": "0fb7b6fa-c9b5-4486-d25d-aaaec906c42a"
      },
      "execution_count": null,
      "outputs": [
        {
          "output_type": "stream",
          "name": "stdout",
          "text": [
            "MSE_default =  24.6\n",
            "MSE_opt =  23.1\n",
            "MSE_default - MSE_opt =  1.5\n"
          ]
        }
      ]
    },
    {
      "cell_type": "markdown",
      "source": [
        "### 5.7. Практика\n",
        "\n",
        "Разберёмся с ансамблями алгоритмов и со случайным лесом. Рассмотрим данные о сотрудниках компании, где указывается, ушёл сотрудник или нет.\n",
        "\n",
        "Сделаем базовую предобработку данных: удалим признак, который отвечает за идентификатор пользователя, как нерепрезентативный признак."
      ],
      "metadata": {
        "id": "KOgknY0eBUKj"
      }
    },
    {
      "cell_type": "code",
      "source": [
        "import pandas as pd\n",
        "import numpy as np\n",
        "import matplotlib.pyplot as plt\n",
        "\n",
        "from sklearn.model_selection import cross_val_score, train_test_split\n",
        "from sklearn.ensemble import BaggingClassifier, RandomForestClassifier\n",
        "from sklearn.tree import DecisionTreeClassifier\n",
        "from sklearn.linear_model import LogisticRegression\n",
        "from sklearn.preprocessing import StandardScaler\n",
        "\n",
        "path = \"https://lms.skillfactory.ru/assets/courseware/v1/8dd3362700988d469792f2aa7a5fdcc4/asset-v1:Skillfactory+DST-PRO+15APR2020+type@asset+block/HR-dataset.csv\"\n",
        "df = pd.read_csv(path)\n",
        "\n",
        "display(df.sample(5))\n",
        "np.random.seed(42)\n",
        "RND_SEED=42\n",
        "%matplotlib inline\n",
        "%config InlineBackend.figure_format = 'retina'\n",
        "\n",
        "target = 'left'\n",
        "features = df.columns.drop(target)\n",
        "features = features.drop('empid')  # Удалим идентификатор пользователя как нерепрезентативный признак\n",
        "print('Признаки:', features)\n",
        "\n",
        "X, y = df[features].copy(), df[target]"
      ],
      "metadata": {
        "colab": {
          "base_uri": "https://localhost:8080/",
          "height": 339
        },
        "id": "t9KT08yV-bfS",
        "outputId": "fe580711-59f6-4319-8c10-800eb944c3ab"
      },
      "execution_count": null,
      "outputs": [
        {
          "output_type": "display_data",
          "data": {
            "text/html": [
              "\n",
              "  <div id=\"df-a66a3bf2-49b7-4662-8809-d058dbf4affb\">\n",
              "    <div class=\"colab-df-container\">\n",
              "      <div>\n",
              "<style scoped>\n",
              "    .dataframe tbody tr th:only-of-type {\n",
              "        vertical-align: middle;\n",
              "    }\n",
              "\n",
              "    .dataframe tbody tr th {\n",
              "        vertical-align: top;\n",
              "    }\n",
              "\n",
              "    .dataframe thead th {\n",
              "        text-align: right;\n",
              "    }\n",
              "</style>\n",
              "<table border=\"1\" class=\"dataframe\">\n",
              "  <thead>\n",
              "    <tr style=\"text-align: right;\">\n",
              "      <th></th>\n",
              "      <th>empid</th>\n",
              "      <th>satisfaction_level</th>\n",
              "      <th>last_evaluation</th>\n",
              "      <th>number_project</th>\n",
              "      <th>average_montly_hours</th>\n",
              "      <th>time_spend_company</th>\n",
              "      <th>Work_accident</th>\n",
              "      <th>left</th>\n",
              "      <th>promotion_last_5years</th>\n",
              "      <th>dept</th>\n",
              "      <th>salary</th>\n",
              "    </tr>\n",
              "  </thead>\n",
              "  <tbody>\n",
              "    <tr>\n",
              "      <th>10269</th>\n",
              "      <td>11270</td>\n",
              "      <td>0.66</td>\n",
              "      <td>0.99</td>\n",
              "      <td>3</td>\n",
              "      <td>228</td>\n",
              "      <td>2</td>\n",
              "      <td>0</td>\n",
              "      <td>0</td>\n",
              "      <td>0</td>\n",
              "      <td>technical</td>\n",
              "      <td>low</td>\n",
              "    </tr>\n",
              "    <tr>\n",
              "      <th>6070</th>\n",
              "      <td>7071</td>\n",
              "      <td>0.78</td>\n",
              "      <td>0.47</td>\n",
              "      <td>4</td>\n",
              "      <td>129</td>\n",
              "      <td>2</td>\n",
              "      <td>0</td>\n",
              "      <td>0</td>\n",
              "      <td>0</td>\n",
              "      <td>technical</td>\n",
              "      <td>medium</td>\n",
              "    </tr>\n",
              "    <tr>\n",
              "      <th>8950</th>\n",
              "      <td>9951</td>\n",
              "      <td>0.53</td>\n",
              "      <td>0.63</td>\n",
              "      <td>5</td>\n",
              "      <td>159</td>\n",
              "      <td>4</td>\n",
              "      <td>0</td>\n",
              "      <td>0</td>\n",
              "      <td>0</td>\n",
              "      <td>sales</td>\n",
              "      <td>low</td>\n",
              "    </tr>\n",
              "    <tr>\n",
              "      <th>12270</th>\n",
              "      <td>13271</td>\n",
              "      <td>0.44</td>\n",
              "      <td>0.51</td>\n",
              "      <td>2</td>\n",
              "      <td>127</td>\n",
              "      <td>3</td>\n",
              "      <td>0</td>\n",
              "      <td>1</td>\n",
              "      <td>0</td>\n",
              "      <td>technical</td>\n",
              "      <td>medium</td>\n",
              "    </tr>\n",
              "    <tr>\n",
              "      <th>11177</th>\n",
              "      <td>12178</td>\n",
              "      <td>0.85</td>\n",
              "      <td>0.81</td>\n",
              "      <td>4</td>\n",
              "      <td>260</td>\n",
              "      <td>3</td>\n",
              "      <td>0</td>\n",
              "      <td>0</td>\n",
              "      <td>0</td>\n",
              "      <td>product_mng</td>\n",
              "      <td>medium</td>\n",
              "    </tr>\n",
              "  </tbody>\n",
              "</table>\n",
              "</div>\n",
              "      <button class=\"colab-df-convert\" onclick=\"convertToInteractive('df-a66a3bf2-49b7-4662-8809-d058dbf4affb')\"\n",
              "              title=\"Convert this dataframe to an interactive table.\"\n",
              "              style=\"display:none;\">\n",
              "        \n",
              "  <svg xmlns=\"http://www.w3.org/2000/svg\" height=\"24px\"viewBox=\"0 0 24 24\"\n",
              "       width=\"24px\">\n",
              "    <path d=\"M0 0h24v24H0V0z\" fill=\"none\"/>\n",
              "    <path d=\"M18.56 5.44l.94 2.06.94-2.06 2.06-.94-2.06-.94-.94-2.06-.94 2.06-2.06.94zm-11 1L8.5 8.5l.94-2.06 2.06-.94-2.06-.94L8.5 2.5l-.94 2.06-2.06.94zm10 10l.94 2.06.94-2.06 2.06-.94-2.06-.94-.94-2.06-.94 2.06-2.06.94z\"/><path d=\"M17.41 7.96l-1.37-1.37c-.4-.4-.92-.59-1.43-.59-.52 0-1.04.2-1.43.59L10.3 9.45l-7.72 7.72c-.78.78-.78 2.05 0 2.83L4 21.41c.39.39.9.59 1.41.59.51 0 1.02-.2 1.41-.59l7.78-7.78 2.81-2.81c.8-.78.8-2.07 0-2.86zM5.41 20L4 18.59l7.72-7.72 1.47 1.35L5.41 20z\"/>\n",
              "  </svg>\n",
              "      </button>\n",
              "      \n",
              "  <style>\n",
              "    .colab-df-container {\n",
              "      display:flex;\n",
              "      flex-wrap:wrap;\n",
              "      gap: 12px;\n",
              "    }\n",
              "\n",
              "    .colab-df-convert {\n",
              "      background-color: #E8F0FE;\n",
              "      border: none;\n",
              "      border-radius: 50%;\n",
              "      cursor: pointer;\n",
              "      display: none;\n",
              "      fill: #1967D2;\n",
              "      height: 32px;\n",
              "      padding: 0 0 0 0;\n",
              "      width: 32px;\n",
              "    }\n",
              "\n",
              "    .colab-df-convert:hover {\n",
              "      background-color: #E2EBFA;\n",
              "      box-shadow: 0px 1px 2px rgba(60, 64, 67, 0.3), 0px 1px 3px 1px rgba(60, 64, 67, 0.15);\n",
              "      fill: #174EA6;\n",
              "    }\n",
              "\n",
              "    [theme=dark] .colab-df-convert {\n",
              "      background-color: #3B4455;\n",
              "      fill: #D2E3FC;\n",
              "    }\n",
              "\n",
              "    [theme=dark] .colab-df-convert:hover {\n",
              "      background-color: #434B5C;\n",
              "      box-shadow: 0px 1px 3px 1px rgba(0, 0, 0, 0.15);\n",
              "      filter: drop-shadow(0px 1px 2px rgba(0, 0, 0, 0.3));\n",
              "      fill: #FFFFFF;\n",
              "    }\n",
              "  </style>\n",
              "\n",
              "      <script>\n",
              "        const buttonEl =\n",
              "          document.querySelector('#df-a66a3bf2-49b7-4662-8809-d058dbf4affb button.colab-df-convert');\n",
              "        buttonEl.style.display =\n",
              "          google.colab.kernel.accessAllowed ? 'block' : 'none';\n",
              "\n",
              "        async function convertToInteractive(key) {\n",
              "          const element = document.querySelector('#df-a66a3bf2-49b7-4662-8809-d058dbf4affb');\n",
              "          const dataTable =\n",
              "            await google.colab.kernel.invokeFunction('convertToInteractive',\n",
              "                                                     [key], {});\n",
              "          if (!dataTable) return;\n",
              "\n",
              "          const docLinkHtml = 'Like what you see? Visit the ' +\n",
              "            '<a target=\"_blank\" href=https://colab.research.google.com/notebooks/data_table.ipynb>data table notebook</a>'\n",
              "            + ' to learn more about interactive tables.';\n",
              "          element.innerHTML = '';\n",
              "          dataTable['output_type'] = 'display_data';\n",
              "          await google.colab.output.renderOutput(dataTable, element);\n",
              "          const docLink = document.createElement('div');\n",
              "          docLink.innerHTML = docLinkHtml;\n",
              "          element.appendChild(docLink);\n",
              "        }\n",
              "      </script>\n",
              "    </div>\n",
              "  </div>\n",
              "  "
            ],
            "text/plain": [
              "       empid  satisfaction_level  ...         dept  salary\n",
              "10269  11270                0.66  ...    technical     low\n",
              "6070    7071                0.78  ...    technical  medium\n",
              "8950    9951                0.53  ...        sales     low\n",
              "12270  13271                0.44  ...    technical  medium\n",
              "11177  12178                0.85  ...  product_mng  medium\n",
              "\n",
              "[5 rows x 11 columns]"
            ]
          },
          "metadata": {}
        },
        {
          "output_type": "stream",
          "name": "stdout",
          "text": [
            "Признаки: Index(['satisfaction_level', 'last_evaluation', 'number_project',\n",
            "       'average_montly_hours', 'time_spend_company', 'Work_accident',\n",
            "       'promotion_last_5years', 'dept', 'salary'],\n",
            "      dtype='object')\n"
          ]
        }
      ]
    },
    {
      "cell_type": "markdown",
      "source": [
        "Заменим идентификатор отдела, к которому относился сотрудник, на количество людей в отделе, а зарплату — на ординальную категорию. Масштабируем признаки для последующего сравнения результатов:"
      ],
      "metadata": {
        "id": "biqXiOBiCk6n"
      }
    },
    {
      "cell_type": "code",
      "source": [
        "salary_ordinals = {'low': 1, 'medium': 2, 'high': 3}\n",
        "\n",
        "# метод get использует текущее значение в методе apply в качестве ключа для аргумента apply\n",
        "X['dept'] = X['dept'].apply(X['dept'].value_counts().get)\n",
        "X['salary'] = X['salary'].apply(salary_ordinals.get)\n",
        "\n",
        "scaler = StandardScaler()\n",
        "X = pd.DataFrame(data=scaler.fit_transform(X), columns=X.columns)"
      ],
      "metadata": {
        "id": "2fAne_PHClph"
      },
      "execution_count": null,
      "outputs": []
    },
    {
      "cell_type": "code",
      "source": [
        "# В дальнейшем будем оценивать качество модели на кросс-валидации\n",
        "# на пяти фолдах при помощи точности (accuracy).\n",
        "\n",
        "def estimate_accuracy(clf, X, y, cv=5):\n",
        "    return cross_val_score(clf, X, y, cv=5, scoring='accuracy').mean()\n",
        "\n",
        "# Посмотрим на точность одного дерева:\n",
        "tree = DecisionTreeClassifier(max_depth=30,\n",
        "                              random_state=RND_SEED)\n",
        "print(\"Decision tree mean accuracy:\", estimate_accuracy(tree, X, y))\n",
        "\n",
        "# Проведём бэггинг: для этого достаточно обернуть исходный классификатор в BaggingClassifier.\n",
        "bagging_trees = BaggingClassifier(tree)\n",
        "print(\"Decision tree bagging mean accuracy:\", estimate_accuracy(bagging_trees, X, y))"
      ],
      "metadata": {
        "colab": {
          "base_uri": "https://localhost:8080/"
        },
        "id": "RFQA9J9mbu-_",
        "outputId": "89e577dd-15b5-4d8e-bdb3-bbc5eef5a4a8"
      },
      "execution_count": null,
      "outputs": [
        {
          "output_type": "stream",
          "name": "stdout",
          "text": [
            "Decision tree mean accuracy: 0.9746646659997777\n",
            "Decision tree bagging mean accuracy: 0.9877994664888297\n"
          ]
        }
      ]
    },
    {
      "cell_type": "markdown",
      "source": [
        ""
      ],
      "metadata": {
        "id": "XK-h_qZxdjsn"
      }
    },
    {
      "cell_type": "markdown",
      "source": [
        "Именно так внутри и работает так называемый **случайный лес** (*Random Forest*): он обучает набор деревьев (параметр *n_esimators*), каждое из которых обучается на подмножестве признаков (*Random Subspaces*) и на подмножестве объектов (*bootstrap*). То есть случайный лес получается случайным по двум этим параметрам, а ответы агрегируются при помощи голосования."
      ],
      "metadata": {
        "id": "OYEjLwOKfidD"
      }
    },
    {
      "cell_type": "code",
      "source": [
        "random_forest = RandomForestClassifier(\n",
        "    n_estimators=100,\n",
        "    n_jobs=-1,\n",
        "    max_features=int(np.sqrt(len(features))),\n",
        "    max_depth=30)\n",
        "print(\"Random Forest:\", estimate_accuracy(random_forest, X, y))"
      ],
      "metadata": {
        "colab": {
          "base_uri": "https://localhost:8080/"
        },
        "id": "hGKyRezlezA4",
        "outputId": "e610b842-c5e7-419e-c25f-c100efb1938f"
      },
      "execution_count": null,
      "outputs": [
        {
          "output_type": "stream",
          "name": "stdout",
          "text": [
            "Random Forest: 0.9917329331999556\n"
          ]
        }
      ]
    },
    {
      "cell_type": "markdown",
      "source": [
        "Ещё одно преимущество использования бэггинга для агрегации моделей — получение **оценки** работы классификатора без дополнительного проведения **кросс-валидации** при помощи **out-of-bag score**. Это метод вычисления произвольной оценки качества во время обучения бэггинга. Для подсчёта требуется указать параметр `oob_score = True`, что имеет смысл при достаточном количестве деревьев."
      ],
      "metadata": {
        "id": "mhdINf0AgTiv"
      }
    },
    {
      "cell_type": "code",
      "source": [
        "random_forest = RandomForestClassifier(\n",
        "    n_estimators=100,\n",
        "    max_features=int(np.sqrt(len(features))),\n",
        "    max_depth=30,\n",
        "    oob_score=True,\n",
        "    n_jobs=-1\n",
        ")\n",
        "random_forest.fit(X, y)\n",
        "random_forest.oob_score_.mean()"
      ],
      "metadata": {
        "colab": {
          "base_uri": "https://localhost:8080/"
        },
        "id": "Fs1VpvpZggda",
        "outputId": "1dce6a23-8776-4a0d-ff21-aa8c773f7ebe"
      },
      "execution_count": null,
      "outputs": [
        {
          "output_type": "execute_result",
          "data": {
            "text/plain": [
              "0.9932662177478498"
            ]
          },
          "metadata": {},
          "execution_count": 13
        }
      ]
    },
    {
      "cell_type": "code",
      "source": [
        "# на вход в качестве Х подается только 2 любых признака\n",
        "def plot_predictions(X, y, clf, proba=False, points_size=7, xlabel='x', ylabel='y'):\n",
        "    \"\"\"Fits the classifier on the data (X, y) and plots the result on a 2-D plane.\"\"\"\n",
        "    def get_grid(data):\n",
        "        x_std, y_std = data.std(axis=0)\n",
        "        x_min, x_max = data[:, 0].min() - x_std / 2, data[:, 0].max() + x_std / 2\n",
        "        y_min, y_max = data[:, 1].min() - y_std / 2, data[:, 1].max() + y_std / 2\n",
        "        return np.meshgrid(np.linspace(x_min, x_max, num=200),\n",
        "                           np.linspace(y_min, y_max, num=200))\n",
        "    \n",
        "    clf.fit(X, y)\n",
        "    xx, yy = get_grid(X)\n",
        "    if proba:\n",
        "        predicted = clf.predict_proba(np.c_[xx.ravel(), yy.ravel()])[:, 1].reshape(xx.shape)\n",
        "    else:\n",
        "        predicted = clf.predict(np.c_[xx.ravel(), yy.ravel()]).reshape(xx.shape)\n",
        "        \n",
        "    plt.figure(figsize=(10.0, 10.0))\n",
        "    plt.pcolormesh(xx, yy, predicted, cmap=plt.cm.coolwarm, alpha=0.1)\n",
        "    plt.scatter(X[:, 0], X[:, 1], c=y, s=points_size, cmap=plt.cm.coolwarm, alpha=0.90)\n",
        "    plt.ylim([yy.min(),yy.max()])\n",
        "    plt.xlim([xx.min(),xx.max()])\n",
        "    plt.xlabel(xlabel)\n",
        "    plt.ylabel(ylabel)\n",
        "    \n",
        "    return clf\n",
        "\n",
        "# plot_predictions(X, y, random_forest)"
      ],
      "metadata": {
        "id": "axk04Ed7m3rS"
      },
      "execution_count": null,
      "outputs": []
    },
    {
      "cell_type": "markdown",
      "source": [
        "#### Задание 5.7.1\n",
        "\n",
        "1. Загрузите датасет **digits** с помощью функции *load_digits* из **sklearn.datasets** и подготовьте матрицу признаков ***X*** и ответы на обучающей выборке ***y*** (вам потребуются поля *data* и *target* в объекте, который возвращает *load_digits*). \n",
        "\n",
        "2. Информацию о датасете вы можете получить, обратившись к полю *DESCR* у возвращаемого объекта *load_digits*. Нам предстоит решать задачу классификации изображений с цифрами по численным признакам.\n",
        "\n",
        "3. Для оценки качества мы будем использовать **cross_val_score** из **sklearn.model_selection** с параметром $\\ cv=10 $. Эта функция реализует *k-fold cross validation* c $\\ k $ равным значению параметра $\\ cv $. Предлагается использовать $\\ k = 10 $, чтобы полученные оценки качества имели небольшой разброс, и было проще проверить полученные ответы. На практике же часто хватает и $\\ k = 5 $. Функция *cross_val_score* будет возвращать *numpy.ndarray*, в котором будет $\\ k $ чисел — качество в каждом из $\\ k $ экспериментов *k-fold cross validation*. Для получения среднего значения (которое и будет оценкой качества работы) вызовите метод **.mean()** у массива, который возвращает *cross_val_score*.\n",
        "\n",
        "С небольшой вероятностью вы можете натолкнуться на случай, когда полученное вами качество в каком-то из пунктов не попадёт в диапазон, заданный для правильных ответов — в этом случае попробуйте перезапустить ячейку с cross_val_score несколько раз и выбрать наиболее «типичное» значение. Если это не помогает, то где-то была допущена ошибка.\n",
        "\n",
        "Чтобы ускорить вычисление *cross_val_score*, следует попробовать использовать параметр **n_jobs**. Число, которое вы подаёте в качестве этого параметра, соответствует количеству потоков вашего процессора, которое будет задействовано в вычислении. Если указать `n_jobs = -1`, тогда будет задействовано максимальное число потоков.\n",
        "\n",
        "========================\n",
        "==\n",
        "1\\. Создайте `DecisionTreeClassifier` с настройками по умолчанию и измерьте качество его работы с помощью `cross_val_score`. Эту величину введите в поле для ответа (ваше значение должно попасть в заданный интервал).\n"
      ],
      "metadata": {
        "id": "GMdIznbU-Zik"
      }
    },
    {
      "cell_type": "code",
      "source": [
        "import numpy as np\n",
        "\n",
        "from sklearn.datasets import load_digits\n",
        "from sklearn.model_selection import cross_val_score\n",
        "\n",
        "RND_SEED = 42\n",
        "\n",
        "digits = load_digits()\n",
        "X, y  = digits['data'], digits['target']"
      ],
      "metadata": {
        "id": "X9pqPjQF5LPe"
      },
      "execution_count": null,
      "outputs": []
    },
    {
      "cell_type": "code",
      "source": [
        "from sklearn.tree import DecisionTreeClassifier\n",
        "\n",
        "tree = DecisionTreeClassifier(random_state=RND_SEED)\n",
        "CVS_tree = cross_val_score(\n",
        "    tree, X, y,\n",
        "    cv=10,\n",
        "    n_jobs=-1,\n",
        ")\n",
        "print (f'Cross validation score:\\n{CVS_tree.mean()}')\n"
      ],
      "metadata": {
        "colab": {
          "base_uri": "https://localhost:8080/"
        },
        "id": "JlDMXSl9Lj9o",
        "outputId": "ca0a285c-6d3c-4503-ba34-55df049124be"
      },
      "execution_count": null,
      "outputs": [
        {
          "output_type": "stream",
          "name": "stdout",
          "text": [
            "Cross validation score:\n",
            "0.8335909373060211\n"
          ]
        }
      ]
    },
    {
      "cell_type": "markdown",
      "source": [
        "2\\. Теперь давайте обучим `BaggingClassifier` на основе `DecisionTreeClassifier`. Из` sklearn.ensemble` импортируйте `BaggingClassifier`, все параметры задайте по умолчанию. Нужно изменить только количество базовых моделей, задав его равным **100**.\n",
        "\n",
        "В поле для ответа введите качество работы получившегося классификатора (ваше значение должно попасть в заданный интервал).\n",
        "\n",
        "Подумайте, какие выводы можно сделать из соотношения качества одиночного дерева и бэггинга деревьев?"
      ],
      "metadata": {
        "id": "0SipXpskN6GS"
      }
    },
    {
      "cell_type": "code",
      "source": [
        "from sklearn.ensemble import BaggingClassifier\n",
        "\n",
        "bagger = BaggingClassifier(\n",
        "    base_estimator=tree,\n",
        "    n_estimators=100,\n",
        "    random_state=RND_SEED\n",
        ")\n",
        "\n",
        "CVS_bagging = cross_val_score(\n",
        "    bagger, X, y,\n",
        "    cv=10,\n",
        "    n_jobs=-1,\n",
        ")\n",
        "\n",
        "print (f'Cross validation score:\\n{CVS_bagging.mean()}')"
      ],
      "metadata": {
        "colab": {
          "base_uri": "https://localhost:8080/"
        },
        "id": "-CCQAnslNe5M",
        "outputId": "b7ab8793-ce27-4286-ee3b-a8b0de59c80a"
      },
      "execution_count": null,
      "outputs": [
        {
          "output_type": "stream",
          "name": "stdout",
          "text": [
            "Cross validation score:\n",
            "0.9270732464307884\n"
          ]
        }
      ]
    },
    {
      "cell_type": "markdown",
      "source": [
        "3\\. Теперь изучите параметры `BaggingClassifier` и выберите их такими, чтобы каждый базовый алгоритм обучался не на всех  признаках, а на $\\ \\sqrt{d} $ случайных признаках.\n",
        "\n",
        "В поле для ответа введите качество работы получившегося классификатора (ваше значение должно попасть в заданный интервал).\n",
        "\n",
        "Корень из числа признаков — часто используемая эвристика в задачах классификации, в задачах регрессии же часто берут число признаков, деленное на три, $\\log{d} $  тоже имеет место. Но в общем случае ничто не мешает вам выбирать любое другое число случайных признаков, добиваясь лучшего качества на кросс-валидации."
      ],
      "metadata": {
        "id": "dC50RaZR45g2"
      }
    },
    {
      "cell_type": "code",
      "source": [
        "tree = DecisionTreeClassifier(random_state=RND_SEED)\n",
        "\n",
        "bagger_reduced = BaggingClassifier(\n",
        "    base_estimator=tree,\n",
        "    max_features=int((X.shape[1])**0.5),\n",
        "    n_estimators=100,\n",
        "    # bootstrap=True,\n",
        "    random_state=RND_SEED\n",
        ")\n",
        "\n",
        "CVS_bagging_reduced = cross_val_score(\n",
        "    bagger_reduced, X, y,\n",
        "    cv=10,\n",
        "    n_jobs=-1\n",
        ")\n",
        "\n",
        "print (f'Cross validation score:\\n{CVS_bagging_reduced.mean()}')"
      ],
      "metadata": {
        "colab": {
          "base_uri": "https://localhost:8080/"
        },
        "id": "hToJpDD8Vovc",
        "outputId": "7215b9e8-a97c-4989-e375-8f17724d362d"
      },
      "execution_count": null,
      "outputs": [
        {
          "output_type": "stream",
          "name": "stdout",
          "text": [
            "Cross validation score:\n",
            "0.9298851644941031\n"
          ]
        }
      ]
    },
    {
      "cell_type": "markdown",
      "source": [
        "4\\. В предыдущем пункте мы выбирали подмножество один раз для каждого очередного дерева. Следующим нашим шагом будет построение бэггинга на основе деревьев, которые выбирают случайное подмножество признаков для каждой вершины дерева.\n",
        "\n",
        "Для этого нам потребуется перенести отвечающий за это параметр из `BaggingClassifier` в `DecisionTreeClassifier`. Для этого вам из документации нужно выяснить, какой параметр `DecisionTreeClassifier` за это отвечает.\n",
        "\n",
        "В поле для ответа введите значение этого параметра (ваше значение должно попасть в заданный интервал).\n",
        "По-прежнему сэмплируем $\\ \\sqrt{d} $ признаков."
      ],
      "metadata": {
        "id": "fHlMXH8dYCwH"
      }
    },
    {
      "cell_type": "code",
      "source": [
        "from sklearn.tree import DecisionTreeClassifier\n",
        "\n",
        "tree_clf = DecisionTreeClassifier(\n",
        "    max_features='sqrt',\n",
        "    random_state=RND_SEED,\n",
        ")\n",
        "\n",
        "bagger_upd = BaggingClassifier(\n",
        "    base_estimator=tree_clf,\n",
        "    n_estimators=100,\n",
        "    # bootstrap=True,\n",
        "    random_state=RND_SEED\n",
        ")\n",
        "\n",
        "CVS_bagging_upd = cross_val_score(\n",
        "    bagger_upd, X, y,\n",
        "    cv=10,\n",
        "    n_jobs=-1\n",
        ")\n",
        "\n",
        "print (f'Cross validation score:\\n{CVS_bagging_upd.mean()}')"
      ],
      "metadata": {
        "colab": {
          "base_uri": "https://localhost:8080/"
        },
        "id": "cFOhePA1YV0q",
        "outputId": "2cac3244-b6e8-4b59-ba50-dc1cdcc9cd2f"
      },
      "execution_count": null,
      "outputs": [
        {
          "output_type": "stream",
          "name": "stdout",
          "text": [
            "Cross validation score:\n",
            "0.9549224084419615\n"
          ]
        }
      ]
    },
    {
      "cell_type": "markdown",
      "source": [
        "#### Задание 5.7.2\n",
        "\n",
        "Полученный в задании 4 классификатор — бэггинг на рандомизированных деревьях (в которых при построении каждой вершины выбирается случайное подмножество признаков и разбиение ищется только по ним). Это в точности соответствует алгоритму Random Forest, поэтому почему бы не сравнить качество работы классификатора с `RandomForestClassifier` из sklearn.ensemble?\n",
        "\n",
        "Сделайте это, а затем изучите, как качество классификации на данном датасете зависит от количества деревьев, количества признаков, выбираемых при построении каждой вершины дерева, а также ограничений на глубину дерева.\n",
        "\n",
        "Для наглядности лучше построить графики зависимости качества от значений параметров, но для сдачи задания это делать не обязательно."
      ],
      "metadata": {
        "id": "btoFvaWETt4J"
      }
    },
    {
      "cell_type": "code",
      "source": [
        "from sklearn.datasets import load_digits\n",
        "\n",
        "digits = load_digits()\n",
        "X, y  = digits['data'], digits['target']"
      ],
      "metadata": {
        "id": "OSIPCbjMkOnL"
      },
      "execution_count": null,
      "outputs": []
    },
    {
      "cell_type": "code",
      "source": [
        "import numpy as np\n",
        "\n",
        "from sklearn.tree import DecisionTreeClassifier\n",
        "from sklearn.model_selection import cross_val_score\n",
        "from sklearn.ensemble import BaggingClassifier, RandomForestClassifier\n",
        "\n",
        "RND_SEED = 42\n",
        "\n",
        "# BaggingOverRandomTreesClassifier\n",
        "def BORTClassifier(X, y,\n",
        "                   N_TREES=100, \n",
        "                   CV=5, \n",
        "                   MAX_FEATURES='sqrt',\n",
        "                   MAX_DEPTH=None,\n",
        "                   RANDOM_STATE=42):\n",
        "\n",
        "    tree_clf = DecisionTreeClassifier(\n",
        "        max_features=MAX_FEATURES,\n",
        "        max_depth=MAX_DEPTH,\n",
        "        random_state=RANDOM_STATE,\n",
        "    )\n",
        "\n",
        "    bag_clf = BaggingClassifier(\n",
        "        base_estimator=tree_clf,\n",
        "        n_estimators=N_TREES,\n",
        "        bootstrap=True,\n",
        "        random_state=RANDOM_STATE\n",
        "    )\n",
        "\n",
        "    return cross_val_score(estimator=bag_clf, X=X, y=y, scoring='accuracy', cv=CV, n_jobs=-1)"
      ],
      "metadata": {
        "id": "sGNVjYRd_wMX"
      },
      "execution_count": null,
      "outputs": []
    },
    {
      "cell_type": "markdown",
      "source": [
        "Сравнение бэггинга над рандомизированными деревьями и \"нативного\" `RandomForestClassifier` из `sklearn`"
      ],
      "metadata": {
        "id": "UI23Fuf7MIGq"
      }
    },
    {
      "cell_type": "code",
      "source": [
        "rnd_forest_clf = RandomForestClassifier(random_state=RND_SEED)\n",
        "CVS_rnd_forest_clf = cross_val_score(\n",
        "    rnd_forest_clf, X, y,\n",
        "    scoring='accuracy',\n",
        "    cv=10,\n",
        "    n_jobs=-1\n",
        ")\n",
        "\n",
        "print (f'Random forest default cross validation score:\\n{CVS_rnd_forest_clf.mean()}')\n",
        "print (f'BORT default cross validation score:\\n\\\n",
        "{BORTClassifier(X, y, CV=10, RANDOM_STATE=RND_SEED).mean()}')"
      ],
      "metadata": {
        "colab": {
          "base_uri": "https://localhost:8080/"
        },
        "id": "yGkf_7JaeATS",
        "outputId": "5aa54b70-9427-47eb-bef1-c0f3ec650536"
      },
      "execution_count": null,
      "outputs": [
        {
          "output_type": "stream",
          "name": "stdout",
          "text": [
            "Random forest default cross validation score:\n",
            "0.9493544382371197\n",
            "BORT default cross validation score:\n",
            "0.9549224084419615\n"
          ]
        }
      ]
    },
    {
      "cell_type": "code",
      "source": [
        "# plot_predictions(X[:, 6:8], y, rnd_forest_clf)             "
      ],
      "metadata": {
        "id": "sUhWjrgArCgC"
      },
      "execution_count": null,
      "outputs": []
    },
    {
      "cell_type": "markdown",
      "source": [
        "Зависимость качества классификации случайного леса от числа деревьев "
      ],
      "metadata": {
        "id": "Sgu8ylxKMgqE"
      }
    },
    {
      "cell_type": "code",
      "source": [
        "import matplotlib.pyplot as plt\n",
        "import numpy as np\n",
        "%matplotlib inline\n",
        "\n",
        "num_of_trees = np.linspace(start=5, stop=205, num=40).astype('int32')\n",
        "CVS_n_trees = np.array(\n",
        "    [BORTClassifier(X, y, CV=5, N_TREES = n, RANDOM_STATE=RND_SEED).mean() for\n",
        "        n in num_of_trees]\n",
        ")"
      ],
      "metadata": {
        "id": "erKXxm2We8gs"
      },
      "execution_count": null,
      "outputs": []
    },
    {
      "cell_type": "code",
      "source": [
        "plt.figure(figsize=(15,7));\n",
        "plt.plot(num_of_trees, CVS_n_trees, 'bo', linestyle='--');\n",
        "plt.title('Зависимость качества классификации случайного леса\\n \\\n",
        " от числа деревьев в лесу', fontsize=15)\n",
        "plt.ylabel('Усредненная точность на кросс-валидации', fontsize=13)\n",
        "plt.xlabel('Число деревьев в лесу', fontsize=13)\n",
        "plt.show();"
      ],
      "metadata": {
        "colab": {
          "base_uri": "https://localhost:8080/",
          "height": 427
        },
        "id": "nBoCpybaGBe7",
        "outputId": "63174f85-945e-429d-9e4e-65d96d6c321e"
      },
      "execution_count": null,
      "outputs": [
        {
          "output_type": "display_data",
          "data": {
            "image/png": "[encoded data removed]",
            "text/plain": [
              "<Figure size 1080x504 with 1 Axes>"
            ]
          },
          "metadata": {
            "needs_background": "light"
          }
        }
      ]
    },
    {
      "cell_type": "markdown",
      "source": [
        "Зависимость качества классификации случайного леса от числа деревьев "
      ],
      "metadata": {
        "id": "ZydAx1TMUZlL"
      }
    },
    {
      "cell_type": "code",
      "source": [
        "n_of_features = np.linspace(1, X.shape[1]*0.66, 20).astype('int32')\n",
        "CVS_n_features = np.array(\n",
        "    [BORTClassifier(X, y, CV=5,\n",
        "                    N_TREES=100,\n",
        "                    MAX_FEATURES=n,\n",
        "                    RANDOM_STATE=RND_SEED).mean() for n in n_of_features\n",
        "     ]\n",
        ")"
      ],
      "metadata": {
        "id": "DzMvxLgAH_CO"
      },
      "execution_count": null,
      "outputs": []
    },
    {
      "cell_type": "code",
      "source": [
        "plt.figure(figsize=(15,7));\n",
        "plt.plot(n_of_features, CVS_n_features, 'go', linestyle='--');\n",
        "plt.title('Зависимость качества классификации случайного леса от количества признаков',\n",
        "          fontsize=15)\n",
        "plt.ylabel('Усредненная точность на кросс-валидации', fontsize=13)\n",
        "plt.xlabel('Количество признаков', fontsize=13)\n",
        "plt.show();"
      ],
      "metadata": {
        "colab": {
          "base_uri": "https://localhost:8080/",
          "height": 406
        },
        "id": "_G-xR31JLDZx",
        "outputId": "9f2523ba-1fbe-4bd0-aaec-deb45fa2e00a"
      },
      "execution_count": null,
      "outputs": [
        {
          "output_type": "display_data",
          "data": {
            "image/png": "[encoded data removed]",
            "text/plain": [
              "<Figure size 1080x504 with 1 Axes>"
            ]
          },
          "metadata": {
            "needs_background": "light"
          }
        }
      ]
    },
    {
      "cell_type": "code",
      "source": [
        "# import pandas as pd\n",
        "\n",
        "# rf = RandomForestClassifier(random_state=42)\n",
        "# rf.fit(X, y)\n",
        "# pd.Series([clf.tree_.max_depth for clf in rf.estimators_]).hist()"
      ],
      "metadata": {
        "id": "c3P9y9f3NSz1"
      },
      "execution_count": null,
      "outputs": []
    },
    {
      "cell_type": "markdown",
      "source": [
        "Зависимость качества классификации случайного леса \n",
        "от ограничения на максимальную глубину деревьев"
      ],
      "metadata": {
        "id": "w0AJLa6Op54Y"
      }
    },
    {
      "cell_type": "code",
      "source": [
        "max_tree_depth = np.linspace(2, 25, 23).astype('int32')\n",
        "CVS_max_tree_depth = np.array(\n",
        "    [BORTClassifier(X, y, CV=5,\n",
        "                    N_TREES=100,\n",
        "                    MAX_DEPTH=n,\n",
        "                    RANDOM_STATE=RND_SEED).mean() for n in max_tree_depth\n",
        "     ]\n",
        ")"
      ],
      "metadata": {
        "id": "uoxXjLwDLtKY"
      },
      "execution_count": null,
      "outputs": []
    },
    {
      "cell_type": "code",
      "source": [
        "plt.figure(figsize=(15,7));\n",
        "plt.plot(max_tree_depth, CVS_max_tree_depth, 'ro', linestyle='--');\n",
        "plt.title('Зависимость качества классификации случайного леса\\n \\\n",
        " от ограничения на максимальную глубину деревьев', fontsize=15)\n",
        "plt.ylabel('Усредненная точность на кросс-валидации', fontsize=13)\n",
        "plt.xlabel('Максимальная глубина дерева', fontsize=13)\n",
        "plt.show();"
      ],
      "metadata": {
        "colab": {
          "base_uri": "https://localhost:8080/",
          "height": 428
        },
        "id": "OqMdX7GORiHW",
        "outputId": "e1eeabb6-18b2-490b-8f05-bc2575a66067"
      },
      "execution_count": null,
      "outputs": [
        {
          "output_type": "display_data",
          "data": {
            "image/png": "[encoded data removed]",
            "text/plain": [
              "<Figure size 1080x504 with 1 Axes>"
            ]
          },
          "metadata": {
            "needs_background": "light"
          }
        }
      ]
    },
    {
      "cell_type": "markdown",
      "source": [
        " ## ML-6. Бустинг. Стекинг Machine Learning"
      ],
      "metadata": {
        "id": "NwzKJRdDqKkl"
      }
    },
    {
      "cell_type": "code",
      "source": [
        "# import numpy as np\n",
        "# import matplotlib.pyplot as plt\n",
        "\n",
        "# def get_labels(data):\n",
        "#     labels = []\n",
        "#     for idx, item in enumerate(data):\n",
        "#         if item[0]**3 + item[1]**2 < 1:\n",
        "#             labels.append(0)\n",
        "#         elif item[0] > 2 and item[1] > 2:\n",
        "#             labels.append(0)\n",
        "#         else:\n",
        "#             labels.append(1)\n",
        "#     return np.array(labels)\n",
        "\n",
        "# m = 7 * np.random.random_sample((500,2)) - np.array([3.5, 3.5])\n",
        "# labels = get_labels(m)\n",
        "\n",
        "# plt.scatter(m[:, 0], m[:, 1], c=labels, s=100, \n",
        "#             cmap='coolwarm', edgecolors='black', linewidth=1.5);"
      ],
      "metadata": {
        "colab": {
          "base_uri": "https://localhost:8080/",
          "height": 265
        },
        "id": "awCb4R7hqj32",
        "outputId": "3d00ff1d-481c-4774-a158-0d4ff532da21"
      },
      "execution_count": null,
      "outputs": [
        {
          "output_type": "display_data",
          "data": {
            "image/png": "[encoded data removed]",
            "text/plain": [
              "<Figure size 432x288 with 1 Axes>"
            ]
          },
          "metadata": {
            "needs_background": "light"
          }
        }
      ]
    },
    {
      "cell_type": "markdown",
      "source": [
        "### 6.4. Бустинг. Практика"
      ],
      "metadata": {
        "id": "nE18wYa8TISn"
      }
    },
    {
      "cell_type": "markdown",
      "source": [
        "#### Задание 6.4.1\n",
        "\n",
        "Для решения первого задания урока сначала подготовим данные. Выкачаем набор данных, в котором будет прогнозировать, является ли письмо спамом.\n",
        "\n",
        "Из столбца yesno сделайте столбец spam, где 1 соответствует значению y (является спамом), а 0 – n (не является спамом). Удалите первый столбец (с индексом) и столбец \"yesno\".\n",
        "\n",
        "Комбинации признаков должны иметь вид \"признак1_признак2\".\n",
        "\n",
        "У Вас остается шесть столбцов-признаков и один столбец spam, который является нашей целевой переменной. Разделим их на x и у.\n",
        "\n",
        "Теперь мы хотим создать новые признаки путем попарного перемножения уже имеющихся друг на друга. Сколько получится признаков после преобразования (включая те шесть, которые были в исходных данных)?"
      ],
      "metadata": {
        "id": "oqsn_j2TVg7V"
      }
    },
    {
      "cell_type": "code",
      "source": [
        "import pandas as pd\n",
        "import numpy as np\n",
        "# from sklearn.preprocessing import PolynomialFeatures\n",
        "from itertools import combinations\n",
        "\n",
        "RND_SEED = 42\n",
        "\n",
        "df = pd.read_csv('https://raw.githubusercontent.com/vincentarelbundock/Rdatasets/master/csv/DAAG/spam7.csv')\n",
        "df.sample()\n",
        "\n",
        "df['spam'] = (df['yesno'] == 'y').astype('int32')\n",
        "df = df.drop(['yesno', 'Unnamed: 0'], axis=1)\n",
        "\n",
        "X, y = df.drop('spam', axis=1), df['spam']\n",
        "\n",
        "#добавляем переменные взаимодействия признаков вида признак1 * признак2\n",
        "for comb in combinations(X, 2):\n",
        "    feature_name = comb[0] + '_' + comb[1]\n",
        "    X[feature_name] = X[comb[0]] * X[comb[1]]\n",
        "\n",
        "X.shape[1]"
      ],
      "metadata": {
        "colab": {
          "base_uri": "https://localhost:8080/"
        },
        "id": "cjXnPrCuUO1l",
        "outputId": "6fdd1909-e6ee-4fc3-f900-0a6b5663ef61"
      },
      "execution_count": 3,
      "outputs": [
        {
          "output_type": "execute_result",
          "data": {
            "text/plain": [
              "21"
            ]
          },
          "metadata": {},
          "execution_count": 3
        }
      ]
    },
    {
      "cell_type": "markdown",
      "source": [
        "#### Задание 6.4.2\n",
        "\n",
        "Разделим получившися данные на обучающую и тестовую выборки в соотношение 80:20. Обучите модель `GradientBoostingClassifier` (из библиотеки sklearn) с параметрами по умолчанию (на момент создания урока это `learning_rate=0.1, n_estimators=100, max_depth=3, min_samples_split=2, min_samples_leaf=1, subsample=1, max_features=None`).\n",
        "\n",
        "Во всех методах, где присутствует случайность, укажите `random_state=42`.\n",
        "\n",
        "Это будет наш baseline. Укажите точность  на тестовой выборке (параметр score), округлив до третьего знака после точки-разделителя."
      ],
      "metadata": {
        "id": "6X2t2hoqSfXq"
      }
    },
    {
      "cell_type": "code",
      "source": [
        "from sklearn.model_selection import train_test_split\n",
        "from sklearn.ensemble import GradientBoostingClassifier\n",
        "from sklearn.metrics import accuracy_score\n",
        "\n",
        "RND_SEED = 42\n",
        "\n",
        "X_train, X_test, Y_train, Y_test = \\\n",
        "    train_test_split(X, y, test_size=0.2, random_state=RND_SEED)\n",
        "\n",
        "gboost_clf = GradientBoostingClassifier(learning_rate=0.1,\n",
        "                                        n_estimators=100,\n",
        "                                        max_depth=3,\n",
        "                                        min_samples_split=2,\n",
        "                                        min_samples_leaf=1,\n",
        "                                        subsample=1,\n",
        "                                        max_features=None,\n",
        "                                        random_state=RND_SEED)\n",
        "gboost_clf.fit(X_train, Y_train)\n",
        "# gboost_clf.train_score_[-1]\n",
        "Y_pred = gboost_clf.predict(X_test)\n",
        "\n",
        "print(f'Точность базового градиентного бустинга:\\n\\\n",
        "{round(accuracy_score(Y_test, Y_pred), 3)}')"
      ],
      "metadata": {
        "colab": {
          "base_uri": "https://localhost:8080/"
        },
        "id": "4daaDpHwSnRN",
        "outputId": "f1157031-f49d-47a8-c969-393b61393eab"
      },
      "execution_count": null,
      "outputs": [
        {
          "output_type": "stream",
          "name": "stdout",
          "text": [
            "Точность базового градиентного бустинга:\n",
            "0.865\n"
          ]
        }
      ]
    },
    {
      "cell_type": "markdown",
      "source": [
        "Воспользуйтесь методом `feature_importances_`. С его помощью вы можете оценить вклад каждого признака в обучение модели. Постройте столбчатую диаграмму, где по горизонтали указаны названия признаков, а по вертикали их важность. В ответе укажите третий по важности признак (без кавычек и пробелов)."
      ],
      "metadata": {
        "id": "DGC-Qn3LYEKu"
      }
    },
    {
      "cell_type": "code",
      "source": [
        "import matplotlib.pyplot as plt\n",
        "%matplotlib inline\n",
        "\n",
        "feat_importances = pd.Series(\n",
        "    gboost_clf.feature_importances_,\n",
        "    index=X.columns\n",
        ").sort_values(ascending=True)\n",
        "\n",
        "plt.figure(figsize=(8, 8));\n",
        "feat_importances.plot(kind='barh', logx=True);\n",
        "\n",
        "feat_importances.index[-3]"
      ],
      "metadata": {
        "colab": {
          "base_uri": "https://localhost:8080/",
          "height": 505
        },
        "id": "rzNY0EBdYK4I",
        "outputId": "9a14784a-5a2f-456f-9c0c-fbcd5a81c3e8"
      },
      "execution_count": null,
      "outputs": [
        {
          "output_type": "execute_result",
          "data": {
            "application/vnd.google.colaboratory.intrinsic+json": {
              "type": "string"
            },
            "text/plain": [
              "'dollar_bang'"
            ]
          },
          "metadata": {},
          "execution_count": 47
        },
        {
          "output_type": "display_data",
          "data": {
            "image/png": "[encoded data removed]",
            "text/plain": [
              "<Figure size 576x576 with 1 Axes>"
            ]
          },
          "metadata": {
            "needs_background": "light"
          }
        }
      ]
    },
    {
      "cell_type": "markdown",
      "source": [
        "Теперь перейдем к подбору параметров в модели. Для этого в библиотеке `scikit-learn` есть метод `GridSearchCV`. Ему на вход подается модель, список параметров и способ оценивания. При запуске метода `fit` модель обучается со всеми возможными комбинациями параметров, лучшей комбинацией параметров становятся та, при которой значение метрики максимально.\n",
        "\n",
        "Укажите в качестве `estimator` градиетный бустинг с параметрами по дефолту и `random_state=42`. В параметре scoring укажите `'accuracy', n_jobs=-1, cv=5`.\n",
        "\n",
        "Сетку параметров задайте такой:\n",
        "\n",
        "param_grid = \\\n",
        "{'learning_rate':[0.00001, 0.0001, 0.001, 0.01, 0.1, 1],  \n",
        "              'n_estimators':[100, 250, 500, 750, 1000, 1250, 1500, 1750]}\n",
        "\n",
        "В ответе укажите точность, округленную до трёх знаков после точки разделителя, для лучших параметров на кросс-валидации. Для этого посмотрите в документации sklearn, какой атрибут GridSearchCV за это отвечает."
      ],
      "metadata": {
        "id": "W4xk-Wqvb8op"
      }
    },
    {
      "cell_type": "code",
      "source": [
        "from sklearn.model_selection import GridSearchCV, cross_val_score\n",
        "\n",
        "param_grid = {'learning_rate': [0.00001, 0.0001, 0.001, 0.01, 0.1, 1],\n",
        "              'n_estimators':  [100, 250, 500, 750, 1000, 1250, 1500, 1750]\n",
        "}\n",
        "\n",
        "gboost_clf = GradientBoostingClassifier(learning_rate=0.1,\n",
        "                                        n_estimators=100,\n",
        "                                        max_depth=3,\n",
        "                                        min_samples_split=2,\n",
        "                                        min_samples_leaf=1,\n",
        "                                        subsample=1,\n",
        "                                        max_features=None,\n",
        "                                        random_state=RND_SEED)\n",
        "\n",
        "grid_search = GridSearchCV(\n",
        "    gboost_clf,\n",
        "    param_grid,\n",
        "    scoring='accuracy',\n",
        "    n_jobs=-1,\n",
        "    cv=5\n",
        ")\n",
        "grid_search.fit(X, y)\n",
        "\n",
        "cv_score = grid_search.best_score_\n",
        "print(f'Точность для лучших параметров на кросс-валидации:\\n {round(cv_score, 3)}')"
      ],
      "metadata": {
        "colab": {
          "base_uri": "https://localhost:8080/"
        },
        "id": "gpatNcTdcgFf",
        "outputId": "b3701428-b9ea-48c0-9897-af66c7345352"
      },
      "execution_count": null,
      "outputs": [
        {
          "metadata": {
            "tags": null
          },
          "name": "stdout",
          "output_type": "stream",
          "text": [
            "Точность для лучших параметров на кросс-валидации:\n",
            "0.874155454845867\n"
          ]
        }
      ]
    },
    {
      "cell_type": "code",
      "source": [
        "grid_search.best_params_"
      ],
      "metadata": {
        "colab": {
          "base_uri": "https://localhost:8080/"
        },
        "id": "T8iiyFra80uS",
        "outputId": "d1fe5109-b2fd-4445-b42b-16e0de0ab389"
      },
      "execution_count": null,
      "outputs": [
        {
          "output_type": "execute_result",
          "data": {
            "text/plain": [
              "{'learning_rate': 0.01, 'n_estimators': 1000}"
            ]
          },
          "metadata": {},
          "execution_count": 71
        }
      ]
    },
    {
      "cell_type": "code",
      "source": [
        "from sklearn.model_selection import cross_val_score\n",
        "\n",
        "gboost_clf_best = GradientBoostingClassifier(learning_rate=0.01,\n",
        "                                        n_estimators=1000,\n",
        "                                        max_depth=3,\n",
        "                                        min_samples_split=2,\n",
        "                                        min_samples_leaf=1,\n",
        "                                        subsample=1,\n",
        "                                        max_features=None,\n",
        "                                        random_state=RND_SEED)\n",
        "cv_score_alt = cross_val_score(gboost_clf_best, X, y, scoring='accuracy', cv=5, n_jobs=-1).mean()\n",
        "print(f'Точность для лучших параметров\\n на кросс-валидации\\\n",
        "(альтернативное вычисление) :\\n {round(cv_score_alt, 3)}')"
      ],
      "metadata": {
        "colab": {
          "base_uri": "https://localhost:8080/"
        },
        "id": "SzTpeTQnrrBZ",
        "outputId": "7a050303-7e68-4090-c6a8-85af5d3f1fc0"
      },
      "execution_count": null,
      "outputs": [
        {
          "output_type": "stream",
          "name": "stdout",
          "text": [
            "Точность для лучших параметров\n",
            " на кросс-валидации(альтернативное вычисление) :\n",
            " 0.874\n"
          ]
        }
      ]
    },
    {
      "cell_type": "markdown",
      "source": [
        "#### Задание 6.4.3\n",
        "\n",
        "Подбор параметров — незаменимый инструмент при настройке моделей. Однако, если данных очень много, а модель сложная, то иногда имеет смысл ограничить количество параметров, которые вы хотите перебрать. Если модель с одним набором параметров обучается 30 минут, а вы хотите перебрать 10 таких наборов, то стоит приготовиться к пятичасовому ожиданию. Также стоит учитывать, что размер некоторых параметров влияет на время, потраченное на обучение моделей. Например, менее глубокие деревья учатся быстрее, чем глубокие.\n",
        "\n",
        "При использовании `GridSearchCV` перебираются все возможные способы комбинации параметров. Сколько разных моделей (моделей градиентного бустинга с разными наборами параметров) обучилось в прошлом задании?"
      ],
      "metadata": {
        "id": "Wc-6xR3J3OXM"
      }
    },
    {
      "cell_type": "code",
      "source": [
        "param_grid = {'learning_rate': [0.00001, 0.0001, 0.001, 0.01, 0.1, 1],\n",
        "              'n_estimators':  [100, 250, 500, 750, 1000, 1250, 1500, 1750]\n",
        "}\n",
        "\n",
        "pg_ls = list(param_grid.values()) #['learning_rate']\n",
        "np.prod([len(x) for x in pg_ls])"
      ],
      "metadata": {
        "colab": {
          "base_uri": "https://localhost:8080/"
        },
        "id": "bJKmTvc-3hJH",
        "outputId": "4ce24015-6689-4fa2-efc0-3ada662a82d8"
      },
      "execution_count": null,
      "outputs": [
        {
          "output_type": "execute_result",
          "data": {
            "text/plain": [
              "48"
            ]
          },
          "metadata": {},
          "execution_count": 66
        }
      ]
    },
    {
      "cell_type": "markdown",
      "source": [
        "Теперь воспользуемся `GridSearchCV` для подбора максимальной глубины (`max_depth`). В качестве estimator используйте градиентный бустинг с раннеее подобранными параметрами и `random_state=42`. Переберите все значения `max_depth` от 5 до 15 включительно. В ответ запишите значение параметра, при котором точность максимальна."
      ],
      "metadata": {
        "id": "lFeCGfVN5LuA"
      }
    },
    {
      "cell_type": "code",
      "source": [
        "gboost_clf_best = GradientBoostingClassifier(learning_rate=0.01,\n",
        "                                        n_estimators=1000,\n",
        "                                        max_depth=3,\n",
        "                                        min_samples_split=2,\n",
        "                                        min_samples_leaf=1,\n",
        "                                        subsample=1,\n",
        "                                        max_features=None,\n",
        "                                        random_state=RND_SEED)\n",
        "\n",
        "param_grid = {'max_depth': [i for i in range(5, 16)]}\n",
        "\n",
        "grid_search_depth = GridSearchCV(\n",
        "    gboost_clf_best, param_grid, scoring='accuracy', n_jobs=-1, cv=5\n",
        ")\n",
        "grid_search_depth.fit(X, y)\n",
        "\n",
        "print(f\"Лучшая точность достигается на max_depth = \\\n",
        "{grid_search_depth.best_params_['max_depth']}\")"
      ],
      "metadata": {
        "colab": {
          "base_uri": "https://localhost:8080/"
        },
        "id": "Tqek64cM5fdx",
        "outputId": "0c238906-22c0-4f6e-ec4a-3b427d29371f"
      },
      "execution_count": null,
      "outputs": [
        {
          "output_type": "execute_result",
          "data": {
            "text/plain": [
              "GridSearchCV(cv=5,\n",
              "             estimator=GradientBoostingClassifier(learning_rate=0.01,\n",
              "                                                  n_estimators=1000,\n",
              "                                                  random_state=42,\n",
              "                                                  subsample=1),\n",
              "             n_jobs=-1,\n",
              "             param_grid={'max_depth': [5, 6, 7, 8, 9, 10, 11, 12, 13, 14, 15]},\n",
              "             scoring='accuracy')"
            ]
          },
          "metadata": {},
          "execution_count": 72
        }
      ]
    },
    {
      "cell_type": "markdown",
      "source": [
        "#### Задание 6.4.4\n",
        "\n",
        "Может показаться, что, научившись запускать готовые фукнции из библиотек и настраивать параметры, мы абсолютно готовы к работе. Однако на поле боя нас могут подстерегать еще опасности — legacy code, то есть код, написанный кем-то до вас. Может быть, его можно было бы и улучшить, но на нём уже столько всего надстроено, что переписывать всё практически невозможно.\n",
        "\n",
        "А ещё часто будет возникать необходимость просто понять код коллеги или сделать code review (грубо говоря, это анализ кода на предмет ошибок и расхождения в стиле). Во всех этих ситуациях необходим навык быcтрого чтения кода.\n",
        "\n",
        "Поэтому в качестве примера в этом задании мы предлагаем изучить код для реализации AdaBoost с нуля. Вам необходимо запустить эту функцию, но с дописанными строчками (вычисление ошибки и веса алгоритма) на всех признаках, получившихся после всех преобразований в предыдущем датасете (до разделения выборки на обучающую и тестовую). Параметр learning_rate возьмите равным 0.001, М = 10. В ответ запишите точность, округленную до трёх знаков после точки-разделителя."
      ],
      "metadata": {
        "id": "sdm21a5KAags"
      }
    },
    {
      "cell_type": "code",
      "source": [
        "from sklearn.tree import DecisionTreeClassifier\n",
        "\n",
        "RND_SEED = 42\n",
        "\n",
        "def AdaBoost_scratch(X, y, M=10, learning_rate = 1):\n",
        "    # инициалиазция служебных переменных\n",
        "    N = len(y)\n",
        "    estimator_list, y_predict_list, estimator_error_list, \\\n",
        "    estimator_weight_list, sample_weight_list = [], [], [], [], []\n",
        "\n",
        "    # инициализация весов\n",
        "    sample_weight = np.ones(N) / N\n",
        "    sample_weight_list.append(sample_weight.copy())\n",
        "\n",
        "    # цикл по длине М\n",
        "    for m in range(M):   \n",
        "\n",
        "        # обучим базовую модель и получим предсказание\n",
        "        estimator = DecisionTreeClassifier(max_depth = 1,\n",
        "                                           max_leaf_nodes=2,\n",
        "                                           random_state=RND_SEED)\n",
        "        estimator.fit(X, y, sample_weight=sample_weight)\n",
        "        y_predict = estimator.predict(X)\n",
        "\n",
        "        # Маска для ошибок классификации\n",
        "        incorrect = (y_predict != y).astype('int32')\n",
        "\n",
        "        # Оцениваем ошибку\n",
        "        estimator_error = np.sum(sample_weight * incorrect)\n",
        "        \n",
        "        # Вычисляем вес нового алгоритма\n",
        "        estimator_weight = \\\n",
        "            learning_rate * np.log ((1 - estimator_error) / estimator_error)\n",
        "        \n",
        "        # Получаем новые веса объектов\n",
        "        sample_weight *= np.exp(estimator_weight * incorrect *\\\n",
        "               ((sample_weight > 0) | (estimator_weight < 0)))\n",
        "\n",
        "        # Сохраняем результаты данной итерации\n",
        "        estimator_list.append(estimator)\n",
        "        y_predict_list.append(y_predict.copy())\n",
        "        estimator_error_list.append(estimator_error.copy())\n",
        "        estimator_weight_list.append(estimator_weight.copy())\n",
        "        sample_weight_list.append(sample_weight.copy())\n",
        "\n",
        "    # Для удобства переведем в numpy.array   \n",
        "    estimator_list = np.asarray(estimator_list)\n",
        "    y_predict_list = np.asarray(y_predict_list)\n",
        "    estimator_error_list = np.asarray(estimator_error_list)\n",
        "    estimator_weight_list = np.asarray(estimator_weight_list)\n",
        "    sample_weight_list = np.asarray(sample_weight_list)\n",
        "\n",
        "    # Получим предсказания\n",
        "    preds = (np.array([np.sign((y_predict_list[:,point] * estimator_weight_list).sum()) for point in range(N)]))\n",
        "    acc = (preds == y).sum() / N\n",
        "    # print('Accuracy = ', acc) \n",
        "    \n",
        "    return acc, estimator_list, estimator_weight_list, sample_weight_list\n",
        "\n",
        "accuracy, estimator_list, estimator_weight_list, sample_weight_list  = \\\n",
        "    AdaBoost_scratch(X, y, M=10, learning_rate=0.001)\n",
        "\n",
        "print('Точность алгоритма:', round(accuracy, 3) )"
      ],
      "metadata": {
        "colab": {
          "base_uri": "https://localhost:8080/"
        },
        "id": "JDMWhgMAAroT",
        "outputId": "80c181d4-ca72-4e61-c058-b5a8ee79176e"
      },
      "execution_count": 5,
      "outputs": [
        {
          "output_type": "stream",
          "name": "stdout",
          "text": [
            "Точность алгоритма: 0.823\n"
          ]
        }
      ]
    }
  ]
}