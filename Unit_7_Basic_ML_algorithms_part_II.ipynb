{
  "nbformat": 4,
  "nbformat_minor": 0,
  "metadata": {
    "colab": {
      "name": "Unit 7_Basic ML algorithms - part II.ipynb",
      "provenance": [],
      "toc_visible": true,
      "include_colab_link": true
    },
    "kernelspec": {
      "name": "python3",
      "display_name": "Python 3"
    },
    "language_info": {
      "name": "python"
    }
  },
  "cells": [
    {
      "cell_type": "markdown",
      "metadata": {
        "id": "view-in-github",
        "colab_type": "text"
      },
      "source": [
        "<a href=\"https://colab.research.google.com/github/akitim/SkillFactory_current/blob/main/Unit_7_Basic_ML_algorithms_part_II.ipynb\" target=\"_parent\"><img src=\"https://colab.research.google.com/assets/colab-badge.svg\" alt=\"Open In Colab\"/></a>"
      ]
    },
    {
      "cell_type": "markdown",
      "source": [
        "# Юнит 7. Основные алгоритмы машинного обучения. Часть II\n"
      ],
      "metadata": {
        "id": "_e189eW1GHHL"
      }
    },
    {
      "cell_type": "markdown",
      "source": [
        "## ML-5. Решающие деревья и случайный лес\n"
      ],
      "metadata": {
        "id": "OHo0K9KRGY37"
      }
    },
    {
      "cell_type": "markdown",
      "source": [
        "### 5.2. Решающие деревья"
      ],
      "metadata": {
        "id": "oCD3wzxtGhZD"
      }
    },
    {
      "cell_type": "markdown",
      "source": [
        "#### Задание 5.2.3\n",
        "Обучите на предложенных данных решающее дерево. Целевой переменной здесь является переменная `Class`. Размер тестовой выборки возьмите за ` 0.2, random_state = 17` для разбиения и дерева. Максимальную глубину дерева примите за **3**, максимальное число признаков, по которым ищется лучшее разбиение в дереве — за **2**. Какое значение $\\ F1-score $ вы получили? Округлите до трёх знаков после точки-разделителя."
      ],
      "metadata": {
        "id": "WolJLcXOG-Vu"
      }
    },
    {
      "cell_type": "code",
      "execution_count": null,
      "metadata": {
        "colab": {
          "base_uri": "https://localhost:8080/",
          "height": 206
        },
        "id": "cDZdfBhCFHzJ",
        "outputId": "7eeb5b5c-4d60-42dc-9dfc-43b431ee6366"
      },
      "outputs": [
        {
          "output_type": "execute_result",
          "data": {
            "text/html": [
              "\n",
              "  <div id=\"df-320bb7ac-1cd5-490e-9cd4-1ddcda7fa802\">\n",
              "    <div class=\"colab-df-container\">\n",
              "      <div>\n",
              "<style scoped>\n",
              "    .dataframe tbody tr th:only-of-type {\n",
              "        vertical-align: middle;\n",
              "    }\n",
              "\n",
              "    .dataframe tbody tr th {\n",
              "        vertical-align: top;\n",
              "    }\n",
              "\n",
              "    .dataframe thead th {\n",
              "        text-align: right;\n",
              "    }\n",
              "</style>\n",
              "<table border=\"1\" class=\"dataframe\">\n",
              "  <thead>\n",
              "    <tr style=\"text-align: right;\">\n",
              "      <th></th>\n",
              "      <th>Variance</th>\n",
              "      <th>Skewness</th>\n",
              "      <th>Curtosis</th>\n",
              "      <th>Entropy</th>\n",
              "      <th>Class</th>\n",
              "    </tr>\n",
              "  </thead>\n",
              "  <tbody>\n",
              "    <tr>\n",
              "      <th>106</th>\n",
              "      <td>2.3136</td>\n",
              "      <td>10.66510</td>\n",
              "      <td>-3.52880</td>\n",
              "      <td>-4.76720</td>\n",
              "      <td>0</td>\n",
              "    </tr>\n",
              "    <tr>\n",
              "      <th>238</th>\n",
              "      <td>3.9994</td>\n",
              "      <td>0.90427</td>\n",
              "      <td>1.16930</td>\n",
              "      <td>1.68920</td>\n",
              "      <td>0</td>\n",
              "    </tr>\n",
              "    <tr>\n",
              "      <th>1112</th>\n",
              "      <td>-4.1429</td>\n",
              "      <td>2.77490</td>\n",
              "      <td>0.68261</td>\n",
              "      <td>-0.71984</td>\n",
              "      <td>1</td>\n",
              "    </tr>\n",
              "    <tr>\n",
              "      <th>866</th>\n",
              "      <td>-4.1409</td>\n",
              "      <td>3.46190</td>\n",
              "      <td>-0.47841</td>\n",
              "      <td>-3.88790</td>\n",
              "      <td>1</td>\n",
              "    </tr>\n",
              "    <tr>\n",
              "      <th>1178</th>\n",
              "      <td>-2.0754</td>\n",
              "      <td>1.27670</td>\n",
              "      <td>-0.64206</td>\n",
              "      <td>-1.26420</td>\n",
              "      <td>1</td>\n",
              "    </tr>\n",
              "  </tbody>\n",
              "</table>\n",
              "</div>\n",
              "      <button class=\"colab-df-convert\" onclick=\"convertToInteractive('df-320bb7ac-1cd5-490e-9cd4-1ddcda7fa802')\"\n",
              "              title=\"Convert this dataframe to an interactive table.\"\n",
              "              style=\"display:none;\">\n",
              "        \n",
              "  <svg xmlns=\"http://www.w3.org/2000/svg\" height=\"24px\"viewBox=\"0 0 24 24\"\n",
              "       width=\"24px\">\n",
              "    <path d=\"M0 0h24v24H0V0z\" fill=\"none\"/>\n",
              "    <path d=\"M18.56 5.44l.94 2.06.94-2.06 2.06-.94-2.06-.94-.94-2.06-.94 2.06-2.06.94zm-11 1L8.5 8.5l.94-2.06 2.06-.94-2.06-.94L8.5 2.5l-.94 2.06-2.06.94zm10 10l.94 2.06.94-2.06 2.06-.94-2.06-.94-.94-2.06-.94 2.06-2.06.94z\"/><path d=\"M17.41 7.96l-1.37-1.37c-.4-.4-.92-.59-1.43-.59-.52 0-1.04.2-1.43.59L10.3 9.45l-7.72 7.72c-.78.78-.78 2.05 0 2.83L4 21.41c.39.39.9.59 1.41.59.51 0 1.02-.2 1.41-.59l7.78-7.78 2.81-2.81c.8-.78.8-2.07 0-2.86zM5.41 20L4 18.59l7.72-7.72 1.47 1.35L5.41 20z\"/>\n",
              "  </svg>\n",
              "      </button>\n",
              "      \n",
              "  <style>\n",
              "    .colab-df-container {\n",
              "      display:flex;\n",
              "      flex-wrap:wrap;\n",
              "      gap: 12px;\n",
              "    }\n",
              "\n",
              "    .colab-df-convert {\n",
              "      background-color: #E8F0FE;\n",
              "      border: none;\n",
              "      border-radius: 50%;\n",
              "      cursor: pointer;\n",
              "      display: none;\n",
              "      fill: #1967D2;\n",
              "      height: 32px;\n",
              "      padding: 0 0 0 0;\n",
              "      width: 32px;\n",
              "    }\n",
              "\n",
              "    .colab-df-convert:hover {\n",
              "      background-color: #E2EBFA;\n",
              "      box-shadow: 0px 1px 2px rgba(60, 64, 67, 0.3), 0px 1px 3px 1px rgba(60, 64, 67, 0.15);\n",
              "      fill: #174EA6;\n",
              "    }\n",
              "\n",
              "    [theme=dark] .colab-df-convert {\n",
              "      background-color: #3B4455;\n",
              "      fill: #D2E3FC;\n",
              "    }\n",
              "\n",
              "    [theme=dark] .colab-df-convert:hover {\n",
              "      background-color: #434B5C;\n",
              "      box-shadow: 0px 1px 3px 1px rgba(0, 0, 0, 0.15);\n",
              "      filter: drop-shadow(0px 1px 2px rgba(0, 0, 0, 0.3));\n",
              "      fill: #FFFFFF;\n",
              "    }\n",
              "  </style>\n",
              "\n",
              "      <script>\n",
              "        const buttonEl =\n",
              "          document.querySelector('#df-320bb7ac-1cd5-490e-9cd4-1ddcda7fa802 button.colab-df-convert');\n",
              "        buttonEl.style.display =\n",
              "          google.colab.kernel.accessAllowed ? 'block' : 'none';\n",
              "\n",
              "        async function convertToInteractive(key) {\n",
              "          const element = document.querySelector('#df-320bb7ac-1cd5-490e-9cd4-1ddcda7fa802');\n",
              "          const dataTable =\n",
              "            await google.colab.kernel.invokeFunction('convertToInteractive',\n",
              "                                                     [key], {});\n",
              "          if (!dataTable) return;\n",
              "\n",
              "          const docLinkHtml = 'Like what you see? Visit the ' +\n",
              "            '<a target=\"_blank\" href=https://colab.research.google.com/notebooks/data_table.ipynb>data table notebook</a>'\n",
              "            + ' to learn more about interactive tables.';\n",
              "          element.innerHTML = '';\n",
              "          dataTable['output_type'] = 'display_data';\n",
              "          await google.colab.output.renderOutput(dataTable, element);\n",
              "          const docLink = document.createElement('div');\n",
              "          docLink.innerHTML = docLinkHtml;\n",
              "          element.appendChild(docLink);\n",
              "        }\n",
              "      </script>\n",
              "    </div>\n",
              "  </div>\n",
              "  "
            ],
            "text/plain": [
              "      Variance  Skewness  Curtosis  Entropy  Class\n",
              "106     2.3136  10.66510  -3.52880 -4.76720      0\n",
              "238     3.9994   0.90427   1.16930  1.68920      0\n",
              "1112   -4.1429   2.77490   0.68261 -0.71984      1\n",
              "866    -4.1409   3.46190  -0.47841 -3.88790      1\n",
              "1178   -2.0754   1.27670  -0.64206 -1.26420      1"
            ]
          },
          "metadata": {},
          "execution_count": 9
        }
      ],
      "source": [
        "import pandas as pd\n",
        "import numpy as np\n",
        "\n",
        "path = 'https://raw.githubusercontent.com/akitim/datasets/main/bill_authentication.csv'\n",
        "df = pd.read_csv(path)\n",
        "df.sample(5)"
      ]
    },
    {
      "cell_type": "code",
      "source": [
        "from sklearn.tree import DecisionTreeClassifier\n",
        "from sklearn.model_selection import train_test_split\n",
        "\n",
        "RND_SEED = 17\n",
        "\n",
        "target = 'Class'\n",
        "X = df.drop(target, axis=1).values\n",
        "Y = df[target].values\n",
        "\n",
        "X_train, X_test, Y_train, Y_test =\\\n",
        "    train_test_split(X, Y, test_size= 0.2, random_state=RND_SEED)\n",
        "\n",
        "clf_tree = DecisionTreeClassifier(criterion='gini',\n",
        "                                  max_depth=3,\n",
        "                                  max_features=2,\n",
        "                                  random_state=RND_SEED)\n",
        "\n",
        "clf_tree.fit(X_train, Y_train)\n",
        "\n",
        "from sklearn.metrics import f1_score\n",
        "\n",
        "Y_pred = clf_tree.predict(X_test)\n",
        "print ('f1_score = ', round(f1_score (Y_test, Y_pred), 3))"
      ],
      "metadata": {
        "id": "j1IOd1gAHm8D",
        "colab": {
          "base_uri": "https://localhost:8080/"
        },
        "outputId": "8128f022-4a4c-48cb-b36d-d603080591c5"
      },
      "execution_count": null,
      "outputs": [
        {
          "output_type": "stream",
          "name": "stdout",
          "text": [
            "f1_score =  0.866\n"
          ]
        }
      ]
    },
    {
      "cell_type": "markdown",
      "source": [
        "#### Задание 5.2.4\n",
        "\n",
        "Проклассифицируйте банкноту с вектором признаков `2.04378, -0.38422, 1.437292, 0.76421`. К какому классу она относится?"
      ],
      "metadata": {
        "id": "fp9IypUVDTCc"
      }
    },
    {
      "cell_type": "code",
      "source": [
        "banknote_sample = np.array([2.04378, -0.38422, 1.437292, 0.76421]).reshape(1, -1)\n",
        "print ('Предсказанный класс банкноты [2.04378, -0.38422, 1.437292, 0.76421]:',\n",
        "       clf_tree.predict(banknote_sample)[0])"
      ],
      "metadata": {
        "colab": {
          "base_uri": "https://localhost:8080/"
        },
        "id": "3S6h67cH9yJ3",
        "outputId": "ae24a707-40f8-4b7b-f7a5-2d38e7bbd925"
      },
      "execution_count": null,
      "outputs": [
        {
          "output_type": "stream",
          "name": "stdout",
          "text": [
            "Предсказанный класс банкноты [2.04378, -0.38422, 1.437292, 0.76421]: 0\n"
          ]
        }
      ]
    },
    {
      "cell_type": "markdown",
      "source": [
        "#### ПРИМЕР\n",
        "===================================================\n",
        "\n",
        "==================================================="
      ],
      "metadata": {
        "id": "2NVKX_IWGg6_"
      }
    },
    {
      "cell_type": "code",
      "source": [
        "from sklearn.tree import DecisionTreeClassifier\n",
        "from sklearn.datasets import make_blobs\n",
        "import matplotlib.pyplot as plt\n",
        "import numpy as np\n",
        "%matplotlib inline\n",
        "\n",
        "RANDOM_SEED = 139\n",
        "\n",
        "def get_grid(data):\n",
        "    x_min, x_max = data[:, 0].min() - 1, data[:, 0].max() + 1\n",
        "    y_min, y_max = data[:, 1].min() - 1, data[:, 1].max() + 1\n",
        "    return np.meshgrid(np.arange(x_min, x_max, 0.01),\n",
        "                       np.arange(y_min, y_max, 0.01))\n",
        "\n",
        "train_data, train_labels = make_blobs(n_samples=100, centers=[(-3,-3),(4,2)], \n",
        "                                      n_features=2, random_state=RANDOM_SEED,\n",
        "                                      cluster_std=(5,5))\n",
        "\n",
        "\n",
        "clf_tree = DecisionTreeClassifier(criterion='entropy', max_depth=None, \n",
        "                                  random_state=RANDOM_SEED)\n",
        "\n",
        "# training the tree\n",
        "clf_tree.fit(train_data, train_labels)\n",
        "\n",
        "# some code to depict separating surface\n",
        "xx, yy = get_grid(train_data)\n",
        "predicted = clf_tree.predict(np.c_[xx.ravel(), \n",
        "                                   yy.ravel()]).reshape(xx.shape)"
      ],
      "metadata": {
        "id": "eX599SQ-GmuR"
      },
      "execution_count": null,
      "outputs": []
    },
    {
      "cell_type": "code",
      "source": [
        "plt.figure(figsize = (10, 6))\n",
        "plt.pcolormesh(xx, yy, predicted, cmap='coolwarm')\n",
        "plt.scatter(train_data[:, 0], train_data[:, 1], c=train_labels, s=100, \n",
        "            cmap='coolwarm', edgecolors='black', linewidth=1.5);"
      ],
      "metadata": {
        "id": "ku1KrhlappE_",
        "outputId": "57e66333-a62f-4c37-9214-d4be9cf543e2",
        "colab": {
          "base_uri": "https://localhost:8080/",
          "height": 374
        }
      },
      "execution_count": null,
      "outputs": [
        {
          "output_type": "display_data",
          "data": {
            "image/png": "[encoded data removed]",
            "text/plain": [
              "<Figure size 720x432 with 1 Axes>"
            ]
          },
          "metadata": {
            "needs_background": "light"
          }
        }
      ]
    },
    {
      "cell_type": "markdown",
      "source": [
        "===================================================\n",
        "\n",
        "==================================================="
      ],
      "metadata": {
        "id": "zZI7ayDynjLF"
      }
    },
    {
      "cell_type": "markdown",
      "source": [
        "#### Задание 5.2.5\n",
        "\n",
        "Обучите решающее дерево для регрессии на предложенных данных, размер тестовой выборки возьмите за `0.3, random_state = 42` для разбиения и дерева. Вычислите ***RMSE***, округлите до двух знаков после точки-разделителя."
      ],
      "metadata": {
        "id": "7LMlhciZnkr2"
      }
    },
    {
      "cell_type": "code",
      "source": [
        "import pandas as pd\n",
        "import numpy as np\n",
        "\n",
        "from sklearn.tree import DecisionTreeRegressor\n",
        "from sklearn.model_selection import train_test_split\n",
        "\n",
        "path = 'https://lms.skillfactory.ru/assets/courseware/v1/fc8c2fb45f3b0b86d8fe409ff0f430af/asset-v1:Skillfactory+DST-PRO+15APR2020+type@asset+block/petrol_consumption.csv'\n",
        "df = pd.read_csv(path)\n",
        "\n",
        "df.sample(5)"
      ],
      "metadata": {
        "colab": {
          "base_uri": "https://localhost:8080/",
          "height": 206
        },
        "id": "u8iXqJ_Wnj48",
        "outputId": "d2d9ce25-993f-4573-ff21-c16ee2dfd10c"
      },
      "execution_count": null,
      "outputs": [
        {
          "output_type": "execute_result",
          "data": {
            "text/html": [
              "\n",
              "  <div id=\"df-f39968ec-7410-4c22-9c99-7b32d2d797c8\">\n",
              "    <div class=\"colab-df-container\">\n",
              "      <div>\n",
              "<style scoped>\n",
              "    .dataframe tbody tr th:only-of-type {\n",
              "        vertical-align: middle;\n",
              "    }\n",
              "\n",
              "    .dataframe tbody tr th {\n",
              "        vertical-align: top;\n",
              "    }\n",
              "\n",
              "    .dataframe thead th {\n",
              "        text-align: right;\n",
              "    }\n",
              "</style>\n",
              "<table border=\"1\" class=\"dataframe\">\n",
              "  <thead>\n",
              "    <tr style=\"text-align: right;\">\n",
              "      <th></th>\n",
              "      <th>Petrol_tax</th>\n",
              "      <th>Average_income</th>\n",
              "      <th>Paved_Highways</th>\n",
              "      <th>Population_Driver_licence(%)</th>\n",
              "      <th>Petrol_Consumption</th>\n",
              "    </tr>\n",
              "  </thead>\n",
              "  <tbody>\n",
              "    <tr>\n",
              "      <th>17</th>\n",
              "      <td>7.0</td>\n",
              "      <td>3718</td>\n",
              "      <td>4725</td>\n",
              "      <td>0.540</td>\n",
              "      <td>714</td>\n",
              "    </tr>\n",
              "    <tr>\n",
              "      <th>45</th>\n",
              "      <td>9.0</td>\n",
              "      <td>4476</td>\n",
              "      <td>3942</td>\n",
              "      <td>0.571</td>\n",
              "      <td>510</td>\n",
              "    </tr>\n",
              "    <tr>\n",
              "      <th>4</th>\n",
              "      <td>8.0</td>\n",
              "      <td>4399</td>\n",
              "      <td>431</td>\n",
              "      <td>0.544</td>\n",
              "      <td>410</td>\n",
              "    </tr>\n",
              "    <tr>\n",
              "      <th>27</th>\n",
              "      <td>7.5</td>\n",
              "      <td>3846</td>\n",
              "      <td>9061</td>\n",
              "      <td>0.579</td>\n",
              "      <td>631</td>\n",
              "    </tr>\n",
              "    <tr>\n",
              "      <th>30</th>\n",
              "      <td>7.0</td>\n",
              "      <td>3640</td>\n",
              "      <td>6905</td>\n",
              "      <td>0.518</td>\n",
              "      <td>571</td>\n",
              "    </tr>\n",
              "  </tbody>\n",
              "</table>\n",
              "</div>\n",
              "      <button class=\"colab-df-convert\" onclick=\"convertToInteractive('df-f39968ec-7410-4c22-9c99-7b32d2d797c8')\"\n",
              "              title=\"Convert this dataframe to an interactive table.\"\n",
              "              style=\"display:none;\">\n",
              "        \n",
              "  <svg xmlns=\"http://www.w3.org/2000/svg\" height=\"24px\"viewBox=\"0 0 24 24\"\n",
              "       width=\"24px\">\n",
              "    <path d=\"M0 0h24v24H0V0z\" fill=\"none\"/>\n",
              "    <path d=\"M18.56 5.44l.94 2.06.94-2.06 2.06-.94-2.06-.94-.94-2.06-.94 2.06-2.06.94zm-11 1L8.5 8.5l.94-2.06 2.06-.94-2.06-.94L8.5 2.5l-.94 2.06-2.06.94zm10 10l.94 2.06.94-2.06 2.06-.94-2.06-.94-.94-2.06-.94 2.06-2.06.94z\"/><path d=\"M17.41 7.96l-1.37-1.37c-.4-.4-.92-.59-1.43-.59-.52 0-1.04.2-1.43.59L10.3 9.45l-7.72 7.72c-.78.78-.78 2.05 0 2.83L4 21.41c.39.39.9.59 1.41.59.51 0 1.02-.2 1.41-.59l7.78-7.78 2.81-2.81c.8-.78.8-2.07 0-2.86zM5.41 20L4 18.59l7.72-7.72 1.47 1.35L5.41 20z\"/>\n",
              "  </svg>\n",
              "      </button>\n",
              "      \n",
              "  <style>\n",
              "    .colab-df-container {\n",
              "      display:flex;\n",
              "      flex-wrap:wrap;\n",
              "      gap: 12px;\n",
              "    }\n",
              "\n",
              "    .colab-df-convert {\n",
              "      background-color: #E8F0FE;\n",
              "      border: none;\n",
              "      border-radius: 50%;\n",
              "      cursor: pointer;\n",
              "      display: none;\n",
              "      fill: #1967D2;\n",
              "      height: 32px;\n",
              "      padding: 0 0 0 0;\n",
              "      width: 32px;\n",
              "    }\n",
              "\n",
              "    .colab-df-convert:hover {\n",
              "      background-color: #E2EBFA;\n",
              "      box-shadow: 0px 1px 2px rgba(60, 64, 67, 0.3), 0px 1px 3px 1px rgba(60, 64, 67, 0.15);\n",
              "      fill: #174EA6;\n",
              "    }\n",
              "\n",
              "    [theme=dark] .colab-df-convert {\n",
              "      background-color: #3B4455;\n",
              "      fill: #D2E3FC;\n",
              "    }\n",
              "\n",
              "    [theme=dark] .colab-df-convert:hover {\n",
              "      background-color: #434B5C;\n",
              "      box-shadow: 0px 1px 3px 1px rgba(0, 0, 0, 0.15);\n",
              "      filter: drop-shadow(0px 1px 2px rgba(0, 0, 0, 0.3));\n",
              "      fill: #FFFFFF;\n",
              "    }\n",
              "  </style>\n",
              "\n",
              "      <script>\n",
              "        const buttonEl =\n",
              "          document.querySelector('#df-f39968ec-7410-4c22-9c99-7b32d2d797c8 button.colab-df-convert');\n",
              "        buttonEl.style.display =\n",
              "          google.colab.kernel.accessAllowed ? 'block' : 'none';\n",
              "\n",
              "        async function convertToInteractive(key) {\n",
              "          const element = document.querySelector('#df-f39968ec-7410-4c22-9c99-7b32d2d797c8');\n",
              "          const dataTable =\n",
              "            await google.colab.kernel.invokeFunction('convertToInteractive',\n",
              "                                                     [key], {});\n",
              "          if (!dataTable) return;\n",
              "\n",
              "          const docLinkHtml = 'Like what you see? Visit the ' +\n",
              "            '<a target=\"_blank\" href=https://colab.research.google.com/notebooks/data_table.ipynb>data table notebook</a>'\n",
              "            + ' to learn more about interactive tables.';\n",
              "          element.innerHTML = '';\n",
              "          dataTable['output_type'] = 'display_data';\n",
              "          await google.colab.output.renderOutput(dataTable, element);\n",
              "          const docLink = document.createElement('div');\n",
              "          docLink.innerHTML = docLinkHtml;\n",
              "          element.appendChild(docLink);\n",
              "        }\n",
              "      </script>\n",
              "    </div>\n",
              "  </div>\n",
              "  "
            ],
            "text/plain": [
              "    Petrol_tax  ...  Petrol_Consumption\n",
              "17         7.0  ...                 714\n",
              "45         9.0  ...                 510\n",
              "4          8.0  ...                 410\n",
              "27         7.5  ...                 631\n",
              "30         7.0  ...                 571\n",
              "\n",
              "[5 rows x 5 columns]"
            ]
          },
          "metadata": {},
          "execution_count": 21
        }
      ]
    },
    {
      "cell_type": "code",
      "source": [
        "RND_SEED = 42\n",
        "\n",
        "target = 'Petrol_Consumption'\n",
        "X = df.drop(target, axis=1).values\n",
        "Y = df[target].values\n",
        "\n",
        "X_train, X_test, Y_train, Y_test =\\\n",
        "    train_test_split(X, Y, test_size= 0.3, random_state=RND_SEED)\n",
        "\n",
        "tree_regr = DecisionTreeRegressor(random_state=RND_SEED)\n",
        "\n",
        "tree_regr.fit(X_train, Y_train)\n",
        "Y_pred = tree_regr.predict(X_test)\n",
        "\n",
        "RMSE = np.sqrt(1 / Y_test.shape[0] * (Y_pred - Y_test) @ (Y_pred - Y_test))\n",
        "TD = tree_regr.get_depth()\n",
        "\n",
        "print('RMSE = ', round(RMSE, 2),\n",
        "      '\\nTree depth = ', TD)"
      ],
      "metadata": {
        "colab": {
          "base_uri": "https://localhost:8080/"
        },
        "id": "WKrNota_H-_a",
        "outputId": "34da7f11-486f-478f-aa4a-c41c6efd89e4"
      },
      "execution_count": null,
      "outputs": [
        {
          "output_type": "stream",
          "name": "stdout",
          "text": [
            "RMSE =  87.97 \n",
            "Tree depth =  11\n"
          ]
        }
      ]
    },
    {
      "cell_type": "markdown",
      "source": [
        "#### Задание 5.4.1\n",
        "\n",
        "На рисунке представлено решающее дерево «Ситуации из жизни» с признаками «количество доступных денег» и «количество времени до важного события».\n",
        "![MLO_quiz_1.png](data:image/png;base64,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)\n",
        "усть дана следующая выборка из пяти объектов (первый признак — деньги, второй — время):\n",
        "\n",
        "[250, 45]\n",
        "\n",
        "[100, 35]\n",
        "\n",
        "[400, 30]\n",
        "\n",
        "[250, 60]\n",
        "\n",
        "[300, 50]\n",
        "\n",
        "Сколько из них попадёт в красный лист?"
      ],
      "metadata": {
        "id": "B3LvGPodRqVI"
      }
    },
    {
      "cell_type": "code",
      "source": [
        "class DecisionTree():\n",
        "    def __init__(self, time, money):\n",
        "        # self.root = \n",
        "        pass\n",
        "    def create_split(self, node):\n",
        "        pass\n",
        "\n",
        "v = np.array([\n",
        "              [250, 45],\n",
        "              [100, 35],\n",
        "              [400, 30],\n",
        "              [250, 60],\n",
        "              [300, 50]              \n",
        "])\n",
        "v = v[v[:, 0]>200]\n",
        "v[v[:, 1]<40].shape[0]"
      ],
      "metadata": {
        "colab": {
          "base_uri": "https://localhost:8080/"
        },
        "id": "uGs_W9qgJS0S",
        "outputId": "6422e571-a115-4fae-a1e3-a67a3fc80c39"
      },
      "execution_count": null,
      "outputs": [
        {
          "output_type": "execute_result",
          "data": {
            "text/plain": [
              "1"
            ]
          },
          "metadata": {},
          "execution_count": 42
        }
      ]
    },
    {
      "cell_type": "markdown",
      "source": [
        "#### Задание 5.4.2\n",
        "3\\. Пусть решается задача классификации с помощью решающего дерева. Ниже приведены разные варианты распределения классов в какой-то произвольной вершине ([c1, c2, c3] означает, что в вершине c1 объектов первого класса, c2 объектов второго класса и c3 объектов третьего класса).\n",
        "\n",
        "Какой из них должен получить меньшее значение критерия информативности?\n",
        "\n",
        "[35, 45, 20],\n",
        "[95, 3, 2],\n",
        "[33, 34, 33]"
      ],
      "metadata": {
        "id": "iOz9LvgKaTz9"
      }
    },
    {
      "cell_type": "code",
      "source": [
        "import numpy as np\n",
        "\n",
        "def entropy_information_criterion(vector):\n",
        "\n",
        "    vector = np.array(vector)\n",
        "    prob = vector / np.sum(vector)\n",
        "\n",
        "    return - prob @ np.log2(prob)\n",
        "\n",
        "# \n",
        "def gini_information_criterion(vector):\n",
        "\n",
        "    vector = np.array(vector)\n",
        "    p = vector / np.sum(vector)\n",
        "\n",
        "    return p @ (1 - p)\n",
        "\n",
        "# все три варианта в виде строк матрицы\n",
        "entry = np.array([\n",
        "                  [35, 45, 20],\n",
        "                  [95, 3,   2],\n",
        "                  [33, 34, 33]\n",
        "])\n",
        "\n",
        "n_min = np.argmin([entropy_information_criterion(row) for row in entry])\n",
        "print ('Minimum entropy is for', entry[n_min])\n",
        "\n",
        "n_min = np.argmin([gini_information_criterion(row) for row in entry])\n",
        "print ('Minimum gini criterion is for', entry[n_min])"
      ],
      "metadata": {
        "colab": {
          "base_uri": "https://localhost:8080/"
        },
        "id": "OHs5YyN-ao_-",
        "outputId": "46a214e3-e107-4883-f678-856149fc2868"
      },
      "execution_count": null,
      "outputs": [
        {
          "output_type": "stream",
          "name": "stdout",
          "text": [
            "Minimum entropy is for [95  3  2]\n",
            "Minimum gini criterion is for [95  3  2]\n"
          ]
        }
      ]
    },
    {
      "cell_type": "markdown",
      "source": [
        "#### Задание 5.5.2\n",
        "Для начала подготовим данные к классификации. Условно разделим вино на хорошее и нет. Хорошим вином будем называть вино, параметр quality которого не менее `6`.\n",
        "\n",
        "Теперь сравним несколько методов классификации: логистическую регрессию, решающее дерево и бэггинг.\n",
        "\n",
        "Разбейте выборку на обучающую и тренировочную с параметрами `test_size=0.30`, `random_state=42`.\n",
        "\n",
        "Обучите два классификатора: логистическую регрессию (с дефолтными параметрами) и решающее дерево (`random_state=42`, максимальная глубина равна `10`).\n",
        "\n",
        "Введите значение $\\ F1-score $ для классификатора, который показал наилучшее значение."
      ],
      "metadata": {
        "id": "Uf4AKBHJGy13"
      }
    },
    {
      "cell_type": "code",
      "source": [
        "import pandas as pd\n",
        "import numpy as np\n",
        "\n",
        "path = 'https://lms.skillfactory.ru/assets/courseware/v1/2daeecee174368f8a33b82c8cccae3a5/asset-v1:Skillfactory+DST-PRO+15APR2020+type@asset+block/winequality-red.csv'\n",
        "df = pd.read_csv(path, delimiter=';')\n",
        "df.sample(5)\n",
        "\n",
        "df['quality'] = df.quality // 6 #(df.quality >= 6).astype('int32')"
      ],
      "metadata": {
        "id": "GCn6mJ9Vm0n5"
      },
      "execution_count": null,
      "outputs": []
    },
    {
      "cell_type": "code",
      "source": [
        "from sklearn.linear_model import LogisticRegression\n",
        "from sklearn.tree import DecisionTreeClassifier\n",
        "from sklearn.metrics import f1_score\n",
        "from sklearn.model_selection import train_test_split\n",
        "\n",
        "RND_SEED = 42\n",
        "\n",
        "target = 'quality'\n",
        "X = df.drop(target, axis=1).values\n",
        "Y = df[target].values\n",
        "\n",
        "X_train, X_test, Y_train, Y_test =\\\n",
        "    train_test_split(X, Y, test_size= 0.3, random_state=RND_SEED)\n",
        "\n",
        "log_regr = LogisticRegression(random_state=RND_SEED)\n",
        "log_regr.fit(X_train, Y_train)\n",
        "Y_pred_log = log_regr.predict(X_test)\n",
        "\n",
        "tree = DecisionTreeClassifier(criterion='gini',\n",
        "                                  max_depth=10,\n",
        "                                  random_state=RND_SEED)\n",
        "tree.fit(X_train, Y_train)\n",
        "Y_pred_tree = tree.predict(X_test)\n",
        "\n",
        "round(np.max([f1_score(Y_test, Y_pred_tree),\n",
        "          f1_score(Y_test, Y_pred_log)]),\n",
        "         3\n",
        "      )\n"
      ],
      "metadata": {
        "colab": {
          "base_uri": "https://localhost:8080/"
        },
        "id": "dpVraVU8GtPk",
        "outputId": "42f69997-a2db-4534-8e30-74a48eb6cddd"
      },
      "execution_count": null,
      "outputs": [
        {
          "output_type": "stream",
          "name": "stderr",
          "text": [
            "/usr/local/lib/python3.7/dist-packages/sklearn/linear_model/_logistic.py:818: ConvergenceWarning: lbfgs failed to converge (status=1):\n",
            "STOP: TOTAL NO. of ITERATIONS REACHED LIMIT.\n",
            "\n",
            "Increase the number of iterations (max_iter) or scale the data as shown in:\n",
            "    https://scikit-learn.org/stable/modules/preprocessing.html\n",
            "Please also refer to the documentation for alternative solver options:\n",
            "    https://scikit-learn.org/stable/modules/linear_model.html#logistic-regression\n",
            "  extra_warning_msg=_LOGISTIC_SOLVER_CONVERGENCE_MSG,\n"
          ]
        },
        {
          "output_type": "execute_result",
          "data": {
            "text/plain": [
              "0.793"
            ]
          },
          "metadata": {},
          "execution_count": 7
        }
      ]
    },
    {
      "cell_type": "markdown",
      "source": [
        "Обучите модель с использование бэггинга (функция `BaggingClassifier` с `random_state=42`, разделение выборки на обучающую и тренировочную с параметрами `test_size=0.30, random_state=42`) для алгоритма, показавшего лучшее качество, определите количество моделей **1500**. Вычислите новое значение $\\ F1-score $."
      ],
      "metadata": {
        "id": "vI0sKuUZaBz-"
      }
    },
    {
      "cell_type": "code",
      "source": [
        "from sklearn.ensemble import BaggingClassifier\n",
        "\n",
        "bagger = BaggingClassifier(random_state=RND_SEED,\n",
        "                           base_estimator=DecisionTreeClassifier(random_state=RND_SEED),\n",
        "                           n_estimators=1500\n",
        "                           )\n",
        "\n",
        "bagger.fit(X_train, Y_train)\n",
        "\n",
        "Y_pred_bag = bagger.predict(X_test)\n",
        "\n",
        "print ('Bagging classifier F1-score:',\n",
        "      round(f1_score(Y_test, Y_pred_bag), 3)\n",
        ")"
      ],
      "metadata": {
        "colab": {
          "base_uri": "https://localhost:8080/"
        },
        "id": "3yNyuIw6aSq_",
        "outputId": "d2e2e26e-bb88-4124-8ffd-ac19dea6bd46"
      },
      "execution_count": null,
      "outputs": [
        {
          "output_type": "stream",
          "name": "stdout",
          "text": [
            "Bagging classifier F1-score: 0.816\n"
          ]
        }
      ]
    },
    {
      "cell_type": "markdown",
      "source": [
        "### 5.6. Случайный лес\n",
        "Теперь обучим случайный лес на простых данных и посмотрим, как можно подбирать параметры случайного леса для достижения наилучшего качества модели.\n",
        "\n",
        "Откроем его, удалим признаки, не относящиеся к предсказанию (от дня недели, например, или от года погода не зависит), разделим на тестовую и обучающуюся выборки:"
      ],
      "metadata": {
        "id": "U93LurdLUSwZ"
      }
    },
    {
      "cell_type": "code",
      "source": [
        "import pandas as pd\n",
        "import numpy as np\n",
        "\n",
        "from sklearn.tree import DecisionTreeClassifier\n",
        "from sklearn.metrics import f1_score\n",
        "from sklearn.model_selection import train_test_split\n",
        "from sklearn.ensemble import RandomForestRegressor\n",
        "from pprint import pprint\n",
        "\n",
        "path = 'https://lms.skillfactory.ru/assets/courseware/v1/ecd07340ed6b98d6fb556b3429156eb4/asset-v1:Skillfactory+DST-PRO+15APR2020+type@asset+block/temps_extended.csv'\n",
        "weather = pd.read_csv(path)\n",
        "\n",
        "RND_SEED = 42\n",
        "\n",
        "X = weather.drop(['actual','weekday','month','day','year'], axis =1)\n",
        "y = weather['actual']\n",
        "\n",
        "X_train, X_val, Y_train, Y_val = \\\n",
        "    train_test_split(X, y, test_size=0.3, random_state=RND_SEED)"
      ],
      "metadata": {
        "id": "t83nKNKEVlcO"
      },
      "execution_count": null,
      "outputs": []
    },
    {
      "cell_type": "markdown",
      "source": [
        "Попробуем подобрать гиперпараметры таким образом, чтобы получить оптимальный результат.\n",
        "\n",
        "Если мы запускаем случайный лес без настройки параметров, то по умолчанию они следующие:"
      ],
      "metadata": {
        "id": "5wAZDk-IUl7K"
      }
    },
    {
      "cell_type": "code",
      "source": [
        "rf = RandomForestRegressor(random_state=RND_SEED)\n",
        "\n",
        "# Look at parameters used by our current forest\n",
        "print('Параметры по умолчанию:\\n')\n",
        "pprint(rf.get_params())"
      ],
      "metadata": {
        "colab": {
          "base_uri": "https://localhost:8080/"
        },
        "id": "sZ-ry0EUUtWw",
        "outputId": "3126e324-3d86-4593-b2a6-46bbfcf416b9"
      },
      "execution_count": null,
      "outputs": [
        {
          "output_type": "stream",
          "name": "stdout",
          "text": [
            "Параметры по умолчанию:\n",
            "\n",
            "{'bootstrap': True,\n",
            " 'ccp_alpha': 0.0,\n",
            " 'criterion': 'squared_error',\n",
            " 'max_depth': None,\n",
            " 'max_features': 'auto',\n",
            " 'max_leaf_nodes': None,\n",
            " 'max_samples': None,\n",
            " 'min_impurity_decrease': 0.0,\n",
            " 'min_samples_leaf': 1,\n",
            " 'min_samples_split': 2,\n",
            " 'min_weight_fraction_leaf': 0.0,\n",
            " 'n_estimators': 100,\n",
            " 'n_jobs': None,\n",
            " 'oob_score': False,\n",
            " 'random_state': 42,\n",
            " 'verbose': 0,\n",
            " 'warm_start': False}\n"
          ]
        }
      ]
    },
    {
      "cell_type": "markdown",
      "source": [
        "Попробуем подбирать разные значения для некоторых параметров. Для перебора вариантов возьмем следующие параметры:\n",
        "\n",
        "* n_estimators \n",
        "* max_features \n",
        "* max_depth \n",
        "* min_samples_split \n",
        "* min_samples_leaf\n",
        "* bootstrap\n",
        "\n",
        "Мы можем сами указать, какие значения гиперпараметров надо перебрать.\n",
        "\n",
        "Зададим сетку гиперпараметров, которые будут перебираться:"
      ],
      "metadata": {
        "id": "Q6ju0OCbU4WY"
      }
    },
    {
      "cell_type": "code",
      "source": [
        "from sklearn.model_selection import RandomizedSearchCV\n",
        "\n",
        "n_estimators = [int(x) for x in np.linspace(start = 200, stop = 2000, num = 10)]\n",
        "\n",
        "max_features = ['auto', 'sqrt']\n",
        "max_depth = [int(x) for x in np.linspace(10, 110, num = 11)]\n",
        "max_depth.append(None)\n",
        "min_samples_split = [2, 5, 10]\n",
        "min_samples_leaf = [1, 2, 4]\n",
        "bootstrap = [True, False]\n",
        "random_grid = {'n_estimators': n_estimators,\n",
        "               'max_features': max_features,\n",
        "               'max_depth': max_depth,\n",
        "               'min_samples_split': min_samples_split,\n",
        "               'min_samples_leaf': min_samples_leaf,\n",
        "               'bootstrap': bootstrap}\n",
        "# Обучим наш лес:\n",
        "rf = RandomForestRegressor(random_state=RND_SEED)\n",
        "rf_random = RandomizedSearchCV(estimator=rf, \n",
        "                               param_distributions=random_grid,\n",
        "                               n_iter=100, \n",
        "                               cv=3,\n",
        "                               verbose=2,\n",
        "                               random_state=RND_SEED,\n",
        "                               n_jobs=-1)\n",
        "rf_random.fit(X_train, Y_train)\n",
        "\n",
        "# Посмотрим, какие гиперпараметры нам предлагают как оптимальные:\n",
        "\n",
        "rf_random.best_params_"
      ],
      "metadata": {
        "colab": {
          "base_uri": "https://localhost:8080/"
        },
        "id": "hSdrq6RDEy2V",
        "outputId": "21033734-33f5-4f57-a1db-81df35b8ab1e"
      },
      "execution_count": null,
      "outputs": [
        {
          "metadata": {
            "tags": null
          },
          "name": "stdout",
          "output_type": "stream",
          "text": [
            "Fitting 3 folds for each of 100 candidates, totalling 300 fits\n"
          ]
        },
        {
          "data": {
            "text/plain": [
              "{'bootstrap': True,\n",
              " 'max_depth': 10,\n",
              " 'max_features': 'sqrt',\n",
              " 'min_samples_leaf': 2,\n",
              " 'min_samples_split': 5,\n",
              " 'n_estimators': 1000}"
            ]
          },
          "execution_count": null,
          "metadata": {},
          "output_type": "execute_result"
        }
      ]
    },
    {
      "cell_type": "markdown",
      "source": [
        "#### Задание 5.6.1\n",
        "\n",
        "Обучите случайный лес с предустановленными параметрами и теми параметрами, которые мы отобрали как оптимальные. В обоих вариантах поставьте `random_state = 42`. Какое улучшение **MSE** дала подстановка отобранных гиперпараметров? Ответ округлите до одного знака после запятой.\n"
      ],
      "metadata": {
        "id": "8oaBh4HYVk_c"
      }
    },
    {
      "cell_type": "code",
      "source": [
        "N_val = Y_val.shape[0]\n",
        "\n",
        "rf_default = RandomForestRegressor(random_state=RND_SEED)\n",
        "rf_default.fit(X_train, Y_train)\n",
        "\n",
        "y_pred_default = rf_default.predict(X_val)\n",
        "MSE_default = 1 / N_val * (Y_val - y_pred_default) @ (Y_val - y_pred_default)\n",
        "\n",
        "print ('MSE_default = ', round(MSE_default, 1))\n",
        "\n",
        "rf_opt = RandomForestRegressor(\n",
        "  bootstrap=True,\n",
        "  max_depth=10,\n",
        "  max_features='sqrt',\n",
        "  min_samples_leaf=2,\n",
        "  min_samples_split=5,\n",
        "  n_estimators=1000,\n",
        "  random_state=RND_SEED\n",
        ")\n",
        "rf_opt.fit(X_train, Y_train)\n",
        "\n",
        "y_pred_opt = rf_opt.predict(X_val)\n",
        "MSE_opt = 1 / N_val * (Y_val - y_pred_opt) @ (Y_val - y_pred_opt)\n",
        "\n",
        "print ('MSE_opt = ', round(MSE_opt, 1))\n",
        "print ('MSE_default - MSE_opt = ', round(MSE_default - MSE_opt, 1))"
      ],
      "metadata": {
        "colab": {
          "base_uri": "https://localhost:8080/"
        },
        "id": "gOh2fZzuak7Q",
        "outputId": "0fb7b6fa-c9b5-4486-d25d-aaaec906c42a"
      },
      "execution_count": null,
      "outputs": [
        {
          "output_type": "stream",
          "name": "stdout",
          "text": [
            "MSE_default =  24.6\n",
            "MSE_opt =  23.1\n",
            "MSE_default - MSE_opt =  1.5\n"
          ]
        }
      ]
    },
    {
      "cell_type": "markdown",
      "source": [
        "### 5.7. Практика\n",
        "\n",
        "Разберёмся с ансамблями алгоритмов и со случайным лесом. Рассмотрим данные о сотрудниках компании, где указывается, ушёл сотрудник или нет.\n",
        "\n",
        "Сделаем базовую предобработку данных: удалим признак, который отвечает за идентификатор пользователя, как нерепрезентативный признак."
      ],
      "metadata": {
        "id": "KOgknY0eBUKj"
      }
    },
    {
      "cell_type": "code",
      "source": [
        "import pandas as pd\n",
        "import numpy as np\n",
        "import matplotlib.pyplot as plt\n",
        "\n",
        "from sklearn.model_selection import cross_val_score, train_test_split\n",
        "from sklearn.ensemble import BaggingClassifier, RandomForestClassifier\n",
        "from sklearn.tree import DecisionTreeClassifier\n",
        "from sklearn.linear_model import LogisticRegression\n",
        "from sklearn.preprocessing import StandardScaler\n",
        "\n",
        "path = \"https://lms.skillfactory.ru/assets/courseware/v1/8dd3362700988d469792f2aa7a5fdcc4/asset-v1:Skillfactory+DST-PRO+15APR2020+type@asset+block/HR-dataset.csv\"\n",
        "df = pd.read_csv(path)\n",
        "\n",
        "display(df.sample(5))\n",
        "np.random.seed(42)\n",
        "RND_SEED=42\n",
        "%matplotlib inline\n",
        "%config InlineBackend.figure_format = 'retina'\n",
        "\n",
        "target = 'left'\n",
        "features = df.columns.drop(target)\n",
        "features = features.drop('empid')  # Удалим идентификатор пользователя как нерепрезентативный признак\n",
        "print('Признаки:', features)\n",
        "\n",
        "X, y = df[features].copy(), df[target]"
      ],
      "metadata": {
        "colab": {
          "base_uri": "https://localhost:8080/",
          "height": 339
        },
        "id": "t9KT08yV-bfS",
        "outputId": "fe580711-59f6-4319-8c10-800eb944c3ab"
      },
      "execution_count": null,
      "outputs": [
        {
          "output_type": "display_data",
          "data": {
            "text/html": [
              "\n",
              "  <div id=\"df-a66a3bf2-49b7-4662-8809-d058dbf4affb\">\n",
              "    <div class=\"colab-df-container\">\n",
              "      <div>\n",
              "<style scoped>\n",
              "    .dataframe tbody tr th:only-of-type {\n",
              "        vertical-align: middle;\n",
              "    }\n",
              "\n",
              "    .dataframe tbody tr th {\n",
              "        vertical-align: top;\n",
              "    }\n",
              "\n",
              "    .dataframe thead th {\n",
              "        text-align: right;\n",
              "    }\n",
              "</style>\n",
              "<table border=\"1\" class=\"dataframe\">\n",
              "  <thead>\n",
              "    <tr style=\"text-align: right;\">\n",
              "      <th></th>\n",
              "      <th>empid</th>\n",
              "      <th>satisfaction_level</th>\n",
              "      <th>last_evaluation</th>\n",
              "      <th>number_project</th>\n",
              "      <th>average_montly_hours</th>\n",
              "      <th>time_spend_company</th>\n",
              "      <th>Work_accident</th>\n",
              "      <th>left</th>\n",
              "      <th>promotion_last_5years</th>\n",
              "      <th>dept</th>\n",
              "      <th>salary</th>\n",
              "    </tr>\n",
              "  </thead>\n",
              "  <tbody>\n",
              "    <tr>\n",
              "      <th>10269</th>\n",
              "      <td>11270</td>\n",
              "      <td>0.66</td>\n",
              "      <td>0.99</td>\n",
              "      <td>3</td>\n",
              "      <td>228</td>\n",
              "      <td>2</td>\n",
              "      <td>0</td>\n",
              "      <td>0</td>\n",
              "      <td>0</td>\n",
              "      <td>technical</td>\n",
              "      <td>low</td>\n",
              "    </tr>\n",
              "    <tr>\n",
              "      <th>6070</th>\n",
              "      <td>7071</td>\n",
              "      <td>0.78</td>\n",
              "      <td>0.47</td>\n",
              "      <td>4</td>\n",
              "      <td>129</td>\n",
              "      <td>2</td>\n",
              "      <td>0</td>\n",
              "      <td>0</td>\n",
              "      <td>0</td>\n",
              "      <td>technical</td>\n",
              "      <td>medium</td>\n",
              "    </tr>\n",
              "    <tr>\n",
              "      <th>8950</th>\n",
              "      <td>9951</td>\n",
              "      <td>0.53</td>\n",
              "      <td>0.63</td>\n",
              "      <td>5</td>\n",
              "      <td>159</td>\n",
              "      <td>4</td>\n",
              "      <td>0</td>\n",
              "      <td>0</td>\n",
              "      <td>0</td>\n",
              "      <td>sales</td>\n",
              "      <td>low</td>\n",
              "    </tr>\n",
              "    <tr>\n",
              "      <th>12270</th>\n",
              "      <td>13271</td>\n",
              "      <td>0.44</td>\n",
              "      <td>0.51</td>\n",
              "      <td>2</td>\n",
              "      <td>127</td>\n",
              "      <td>3</td>\n",
              "      <td>0</td>\n",
              "      <td>1</td>\n",
              "      <td>0</td>\n",
              "      <td>technical</td>\n",
              "      <td>medium</td>\n",
              "    </tr>\n",
              "    <tr>\n",
              "      <th>11177</th>\n",
              "      <td>12178</td>\n",
              "      <td>0.85</td>\n",
              "      <td>0.81</td>\n",
              "      <td>4</td>\n",
              "      <td>260</td>\n",
              "      <td>3</td>\n",
              "      <td>0</td>\n",
              "      <td>0</td>\n",
              "      <td>0</td>\n",
              "      <td>product_mng</td>\n",
              "      <td>medium</td>\n",
              "    </tr>\n",
              "  </tbody>\n",
              "</table>\n",
              "</div>\n",
              "      <button class=\"colab-df-convert\" onclick=\"convertToInteractive('df-a66a3bf2-49b7-4662-8809-d058dbf4affb')\"\n",
              "              title=\"Convert this dataframe to an interactive table.\"\n",
              "              style=\"display:none;\">\n",
              "        \n",
              "  <svg xmlns=\"http://www.w3.org/2000/svg\" height=\"24px\"viewBox=\"0 0 24 24\"\n",
              "       width=\"24px\">\n",
              "    <path d=\"M0 0h24v24H0V0z\" fill=\"none\"/>\n",
              "    <path d=\"M18.56 5.44l.94 2.06.94-2.06 2.06-.94-2.06-.94-.94-2.06-.94 2.06-2.06.94zm-11 1L8.5 8.5l.94-2.06 2.06-.94-2.06-.94L8.5 2.5l-.94 2.06-2.06.94zm10 10l.94 2.06.94-2.06 2.06-.94-2.06-.94-.94-2.06-.94 2.06-2.06.94z\"/><path d=\"M17.41 7.96l-1.37-1.37c-.4-.4-.92-.59-1.43-.59-.52 0-1.04.2-1.43.59L10.3 9.45l-7.72 7.72c-.78.78-.78 2.05 0 2.83L4 21.41c.39.39.9.59 1.41.59.51 0 1.02-.2 1.41-.59l7.78-7.78 2.81-2.81c.8-.78.8-2.07 0-2.86zM5.41 20L4 18.59l7.72-7.72 1.47 1.35L5.41 20z\"/>\n",
              "  </svg>\n",
              "      </button>\n",
              "      \n",
              "  <style>\n",
              "    .colab-df-container {\n",
              "      display:flex;\n",
              "      flex-wrap:wrap;\n",
              "      gap: 12px;\n",
              "    }\n",
              "\n",
              "    .colab-df-convert {\n",
              "      background-color: #E8F0FE;\n",
              "      border: none;\n",
              "      border-radius: 50%;\n",
              "      cursor: pointer;\n",
              "      display: none;\n",
              "      fill: #1967D2;\n",
              "      height: 32px;\n",
              "      padding: 0 0 0 0;\n",
              "      width: 32px;\n",
              "    }\n",
              "\n",
              "    .colab-df-convert:hover {\n",
              "      background-color: #E2EBFA;\n",
              "      box-shadow: 0px 1px 2px rgba(60, 64, 67, 0.3), 0px 1px 3px 1px rgba(60, 64, 67, 0.15);\n",
              "      fill: #174EA6;\n",
              "    }\n",
              "\n",
              "    [theme=dark] .colab-df-convert {\n",
              "      background-color: #3B4455;\n",
              "      fill: #D2E3FC;\n",
              "    }\n",
              "\n",
              "    [theme=dark] .colab-df-convert:hover {\n",
              "      background-color: #434B5C;\n",
              "      box-shadow: 0px 1px 3px 1px rgba(0, 0, 0, 0.15);\n",
              "      filter: drop-shadow(0px 1px 2px rgba(0, 0, 0, 0.3));\n",
              "      fill: #FFFFFF;\n",
              "    }\n",
              "  </style>\n",
              "\n",
              "      <script>\n",
              "        const buttonEl =\n",
              "          document.querySelector('#df-a66a3bf2-49b7-4662-8809-d058dbf4affb button.colab-df-convert');\n",
              "        buttonEl.style.display =\n",
              "          google.colab.kernel.accessAllowed ? 'block' : 'none';\n",
              "\n",
              "        async function convertToInteractive(key) {\n",
              "          const element = document.querySelector('#df-a66a3bf2-49b7-4662-8809-d058dbf4affb');\n",
              "          const dataTable =\n",
              "            await google.colab.kernel.invokeFunction('convertToInteractive',\n",
              "                                                     [key], {});\n",
              "          if (!dataTable) return;\n",
              "\n",
              "          const docLinkHtml = 'Like what you see? Visit the ' +\n",
              "            '<a target=\"_blank\" href=https://colab.research.google.com/notebooks/data_table.ipynb>data table notebook</a>'\n",
              "            + ' to learn more about interactive tables.';\n",
              "          element.innerHTML = '';\n",
              "          dataTable['output_type'] = 'display_data';\n",
              "          await google.colab.output.renderOutput(dataTable, element);\n",
              "          const docLink = document.createElement('div');\n",
              "          docLink.innerHTML = docLinkHtml;\n",
              "          element.appendChild(docLink);\n",
              "        }\n",
              "      </script>\n",
              "    </div>\n",
              "  </div>\n",
              "  "
            ],
            "text/plain": [
              "       empid  satisfaction_level  ...         dept  salary\n",
              "10269  11270                0.66  ...    technical     low\n",
              "6070    7071                0.78  ...    technical  medium\n",
              "8950    9951                0.53  ...        sales     low\n",
              "12270  13271                0.44  ...    technical  medium\n",
              "11177  12178                0.85  ...  product_mng  medium\n",
              "\n",
              "[5 rows x 11 columns]"
            ]
          },
          "metadata": {}
        },
        {
          "output_type": "stream",
          "name": "stdout",
          "text": [
            "Признаки: Index(['satisfaction_level', 'last_evaluation', 'number_project',\n",
            "       'average_montly_hours', 'time_spend_company', 'Work_accident',\n",
            "       'promotion_last_5years', 'dept', 'salary'],\n",
            "      dtype='object')\n"
          ]
        }
      ]
    },
    {
      "cell_type": "markdown",
      "source": [
        "Заменим идентификатор отдела, к которому относился сотрудник, на количество людей в отделе, а зарплату — на ординальную категорию. Масштабируем признаки для последующего сравнения результатов:"
      ],
      "metadata": {
        "id": "biqXiOBiCk6n"
      }
    },
    {
      "cell_type": "code",
      "source": [
        "salary_ordinals = {'low': 1, 'medium': 2, 'high': 3}\n",
        "\n",
        "# метод get использует текущее значение в методе apply в качестве ключа для аргумента apply\n",
        "X['dept'] = X['dept'].apply(X['dept'].value_counts().get)\n",
        "X['salary'] = X['salary'].apply(salary_ordinals.get)\n",
        "\n",
        "scaler = StandardScaler()\n",
        "X = pd.DataFrame(data=scaler.fit_transform(X), columns=X.columns)"
      ],
      "metadata": {
        "id": "2fAne_PHClph"
      },
      "execution_count": null,
      "outputs": []
    },
    {
      "cell_type": "code",
      "source": [
        "# В дальнейшем будем оценивать качество модели на кросс-валидации\n",
        "# на пяти фолдах при помощи точности (accuracy).\n",
        "\n",
        "def estimate_accuracy(clf, X, y, cv=5):\n",
        "    return cross_val_score(clf, X, y, cv=5, scoring='accuracy').mean()\n",
        "\n",
        "# Посмотрим на точность одного дерева:\n",
        "tree = DecisionTreeClassifier(max_depth=30,\n",
        "                              random_state=RND_SEED)\n",
        "print(\"Decision tree mean accuracy:\", estimate_accuracy(tree, X, y))\n",
        "\n",
        "# Проведём бэггинг: для этого достаточно обернуть исходный классификатор в BaggingClassifier.\n",
        "bagging_trees = BaggingClassifier(tree)\n",
        "print(\"Decision tree bagging mean accuracy:\", estimate_accuracy(bagging_trees, X, y))"
      ],
      "metadata": {
        "colab": {
          "base_uri": "https://localhost:8080/"
        },
        "id": "RFQA9J9mbu-_",
        "outputId": "89e577dd-15b5-4d8e-bdb3-bbc5eef5a4a8"
      },
      "execution_count": null,
      "outputs": [
        {
          "output_type": "stream",
          "name": "stdout",
          "text": [
            "Decision tree mean accuracy: 0.9746646659997777\n",
            "Decision tree bagging mean accuracy: 0.9877994664888297\n"
          ]
        }
      ]
    },
    {
      "cell_type": "markdown",
      "source": [
        ""
      ],
      "metadata": {
        "id": "XK-h_qZxdjsn"
      }
    },
    {
      "cell_type": "markdown",
      "source": [
        "Именно так внутри и работает так называемый **случайный лес** (*Random Forest*): он обучает набор деревьев (параметр *n_esimators*), каждое из которых обучается на подмножестве признаков (*Random Subspaces*) и на подмножестве объектов (*bootstrap*). То есть случайный лес получается случайным по двум этим параметрам, а ответы агрегируются при помощи голосования."
      ],
      "metadata": {
        "id": "OYEjLwOKfidD"
      }
    },
    {
      "cell_type": "code",
      "source": [
        "random_forest = RandomForestClassifier(\n",
        "    n_estimators=100,\n",
        "    n_jobs=-1,\n",
        "    max_features=int(np.sqrt(len(features))),\n",
        "    max_depth=30)\n",
        "print(\"Random Forest:\", estimate_accuracy(random_forest, X, y))"
      ],
      "metadata": {
        "colab": {
          "base_uri": "https://localhost:8080/"
        },
        "id": "hGKyRezlezA4",
        "outputId": "e610b842-c5e7-419e-c25f-c100efb1938f"
      },
      "execution_count": null,
      "outputs": [
        {
          "output_type": "stream",
          "name": "stdout",
          "text": [
            "Random Forest: 0.9917329331999556\n"
          ]
        }
      ]
    },
    {
      "cell_type": "markdown",
      "source": [
        "Ещё одно преимущество использования бэггинга для агрегации моделей — получение **оценки** работы классификатора без дополнительного проведения **кросс-валидации** при помощи **out-of-bag score**. Это метод вычисления произвольной оценки качества во время обучения бэггинга. Для подсчёта требуется указать параметр `oob_score = True`, что имеет смысл при достаточном количестве деревьев."
      ],
      "metadata": {
        "id": "mhdINf0AgTiv"
      }
    },
    {
      "cell_type": "code",
      "source": [
        "random_forest = RandomForestClassifier(\n",
        "    n_estimators=100,\n",
        "    max_features=int(np.sqrt(len(features))),\n",
        "    max_depth=30,\n",
        "    oob_score=True,\n",
        "    n_jobs=-1\n",
        ")\n",
        "random_forest.fit(X, y)\n",
        "random_forest.oob_score_.mean()"
      ],
      "metadata": {
        "colab": {
          "base_uri": "https://localhost:8080/"
        },
        "id": "Fs1VpvpZggda",
        "outputId": "1dce6a23-8776-4a0d-ff21-aa8c773f7ebe"
      },
      "execution_count": null,
      "outputs": [
        {
          "output_type": "execute_result",
          "data": {
            "text/plain": [
              "0.9932662177478498"
            ]
          },
          "metadata": {},
          "execution_count": 13
        }
      ]
    },
    {
      "cell_type": "code",
      "source": [
        "# на вход в качестве Х подается только 2 любых признака\n",
        "def plot_predictions(X, y, clf, proba=False, points_size=7, xlabel='x', ylabel='y'):\n",
        "    \"\"\"Fits the classifier on the data (X, y) and plots the result on a 2-D plane.\"\"\"\n",
        "    def get_grid(data):\n",
        "        x_std, y_std = data.std(axis=0)\n",
        "        x_min, x_max = data[:, 0].min() - x_std / 2, data[:, 0].max() + x_std / 2\n",
        "        y_min, y_max = data[:, 1].min() - y_std / 2, data[:, 1].max() + y_std / 2\n",
        "        return np.meshgrid(np.linspace(x_min, x_max, num=200),\n",
        "                           np.linspace(y_min, y_max, num=200))\n",
        "    \n",
        "    clf.fit(X, y)\n",
        "    xx, yy = get_grid(X)\n",
        "    if proba:\n",
        "        predicted = clf.predict_proba(np.c_[xx.ravel(), yy.ravel()])[:, 1].reshape(xx.shape)\n",
        "    else:\n",
        "        predicted = clf.predict(np.c_[xx.ravel(), yy.ravel()]).reshape(xx.shape)\n",
        "        \n",
        "    plt.figure(figsize=(10.0, 10.0))\n",
        "    plt.pcolormesh(xx, yy, predicted, cmap=plt.cm.coolwarm, alpha=0.1)\n",
        "    plt.scatter(X[:, 0], X[:, 1], c=y, s=points_size, cmap=plt.cm.coolwarm, alpha=0.90)\n",
        "    plt.ylim([yy.min(),yy.max()])\n",
        "    plt.xlim([xx.min(),xx.max()])\n",
        "    plt.xlabel(xlabel)\n",
        "    plt.ylabel(ylabel)\n",
        "    \n",
        "    return clf\n",
        "\n",
        "# plot_predictions(X, y, random_forest)"
      ],
      "metadata": {
        "id": "axk04Ed7m3rS"
      },
      "execution_count": null,
      "outputs": []
    },
    {
      "cell_type": "markdown",
      "source": [
        "#### Задание 5.7.1\n",
        "\n",
        "1. Загрузите датасет **digits** с помощью функции *load_digits* из **sklearn.datasets** и подготовьте матрицу признаков ***X*** и ответы на обучающей выборке ***y*** (вам потребуются поля *data* и *target* в объекте, который возвращает *load_digits*). \n",
        "\n",
        "2. Информацию о датасете вы можете получить, обратившись к полю *DESCR* у возвращаемого объекта *load_digits*. Нам предстоит решать задачу классификации изображений с цифрами по численным признакам.\n",
        "\n",
        "3. Для оценки качества мы будем использовать **cross_val_score** из **sklearn.model_selection** с параметром $\\ cv=10 $. Эта функция реализует *k-fold cross validation* c $\\ k $ равным значению параметра $\\ cv $. Предлагается использовать $\\ k = 10 $, чтобы полученные оценки качества имели небольшой разброс, и было проще проверить полученные ответы. На практике же часто хватает и $\\ k = 5 $. Функция *cross_val_score* будет возвращать *numpy.ndarray*, в котором будет $\\ k $ чисел — качество в каждом из $\\ k $ экспериментов *k-fold cross validation*. Для получения среднего значения (которое и будет оценкой качества работы) вызовите метод **.mean()** у массива, который возвращает *cross_val_score*.\n",
        "\n",
        "С небольшой вероятностью вы можете натолкнуться на случай, когда полученное вами качество в каком-то из пунктов не попадёт в диапазон, заданный для правильных ответов — в этом случае попробуйте перезапустить ячейку с cross_val_score несколько раз и выбрать наиболее «типичное» значение. Если это не помогает, то где-то была допущена ошибка.\n",
        "\n",
        "Чтобы ускорить вычисление *cross_val_score*, следует попробовать использовать параметр **n_jobs**. Число, которое вы подаёте в качестве этого параметра, соответствует количеству потоков вашего процессора, которое будет задействовано в вычислении. Если указать `n_jobs = -1`, тогда будет задействовано максимальное число потоков.\n",
        "\n",
        "========================\n",
        "==\n",
        "1\\. Создайте `DecisionTreeClassifier` с настройками по умолчанию и измерьте качество его работы с помощью `cross_val_score`. Эту величину введите в поле для ответа (ваше значение должно попасть в заданный интервал).\n"
      ],
      "metadata": {
        "id": "GMdIznbU-Zik"
      }
    },
    {
      "cell_type": "code",
      "source": [
        "import numpy as np\n",
        "\n",
        "from sklearn.datasets import load_digits\n",
        "from sklearn.model_selection import cross_val_score\n",
        "\n",
        "RND_SEED = 42\n",
        "\n",
        "digits = load_digits()\n",
        "X, y  = digits['data'], digits['target']"
      ],
      "metadata": {
        "id": "X9pqPjQF5LPe"
      },
      "execution_count": null,
      "outputs": []
    },
    {
      "cell_type": "code",
      "source": [
        "from sklearn.tree import DecisionTreeClassifier\n",
        "\n",
        "tree = DecisionTreeClassifier(random_state=RND_SEED)\n",
        "CVS_tree = cross_val_score(\n",
        "    tree, X, y,\n",
        "    cv=10,\n",
        "    n_jobs=-1,\n",
        ")\n",
        "print (f'Cross validation score:\\n{CVS_tree.mean()}')\n"
      ],
      "metadata": {
        "colab": {
          "base_uri": "https://localhost:8080/"
        },
        "id": "JlDMXSl9Lj9o",
        "outputId": "ca0a285c-6d3c-4503-ba34-55df049124be"
      },
      "execution_count": null,
      "outputs": [
        {
          "output_type": "stream",
          "name": "stdout",
          "text": [
            "Cross validation score:\n",
            "0.8335909373060211\n"
          ]
        }
      ]
    },
    {
      "cell_type": "markdown",
      "source": [
        "2\\. Теперь давайте обучим `BaggingClassifier` на основе `DecisionTreeClassifier`. Из` sklearn.ensemble` импортируйте `BaggingClassifier`, все параметры задайте по умолчанию. Нужно изменить только количество базовых моделей, задав его равным **100**.\n",
        "\n",
        "В поле для ответа введите качество работы получившегося классификатора (ваше значение должно попасть в заданный интервал).\n",
        "\n",
        "Подумайте, какие выводы можно сделать из соотношения качества одиночного дерева и бэггинга деревьев?"
      ],
      "metadata": {
        "id": "0SipXpskN6GS"
      }
    },
    {
      "cell_type": "code",
      "source": [
        "from sklearn.ensemble import BaggingClassifier\n",
        "\n",
        "bagger = BaggingClassifier(\n",
        "    base_estimator=tree,\n",
        "    n_estimators=100,\n",
        "    random_state=RND_SEED\n",
        ")\n",
        "\n",
        "CVS_bagging = cross_val_score(\n",
        "    bagger, X, y,\n",
        "    cv=10,\n",
        "    n_jobs=-1,\n",
        ")\n",
        "\n",
        "print (f'Cross validation score:\\n{CVS_bagging.mean()}')"
      ],
      "metadata": {
        "colab": {
          "base_uri": "https://localhost:8080/"
        },
        "id": "-CCQAnslNe5M",
        "outputId": "b7ab8793-ce27-4286-ee3b-a8b0de59c80a"
      },
      "execution_count": null,
      "outputs": [
        {
          "output_type": "stream",
          "name": "stdout",
          "text": [
            "Cross validation score:\n",
            "0.9270732464307884\n"
          ]
        }
      ]
    },
    {
      "cell_type": "markdown",
      "source": [
        "3\\. Теперь изучите параметры `BaggingClassifier` и выберите их такими, чтобы каждый базовый алгоритм обучался не на всех  признаках, а на $\\ \\sqrt{d} $ случайных признаках.\n",
        "\n",
        "В поле для ответа введите качество работы получившегося классификатора (ваше значение должно попасть в заданный интервал).\n",
        "\n",
        "Корень из числа признаков — часто используемая эвристика в задачах классификации, в задачах регрессии же часто берут число признаков, деленное на три, $\\log{d} $  тоже имеет место. Но в общем случае ничто не мешает вам выбирать любое другое число случайных признаков, добиваясь лучшего качества на кросс-валидации."
      ],
      "metadata": {
        "id": "dC50RaZR45g2"
      }
    },
    {
      "cell_type": "code",
      "source": [
        "tree = DecisionTreeClassifier(random_state=RND_SEED)\n",
        "\n",
        "bagger_reduced = BaggingClassifier(\n",
        "    base_estimator=tree,\n",
        "    max_features=int((X.shape[1])**0.5),\n",
        "    n_estimators=100,\n",
        "    # bootstrap=True,\n",
        "    random_state=RND_SEED\n",
        ")\n",
        "\n",
        "CVS_bagging_reduced = cross_val_score(\n",
        "    bagger_reduced, X, y,\n",
        "    cv=10,\n",
        "    n_jobs=-1\n",
        ")\n",
        "\n",
        "print (f'Cross validation score:\\n{CVS_bagging_reduced.mean()}')"
      ],
      "metadata": {
        "colab": {
          "base_uri": "https://localhost:8080/"
        },
        "id": "hToJpDD8Vovc",
        "outputId": "7215b9e8-a97c-4989-e375-8f17724d362d"
      },
      "execution_count": null,
      "outputs": [
        {
          "output_type": "stream",
          "name": "stdout",
          "text": [
            "Cross validation score:\n",
            "0.9298851644941031\n"
          ]
        }
      ]
    },
    {
      "cell_type": "markdown",
      "source": [
        "4\\. В предыдущем пункте мы выбирали подмножество один раз для каждого очередного дерева. Следующим нашим шагом будет построение бэггинга на основе деревьев, которые выбирают случайное подмножество признаков для каждой вершины дерева.\n",
        "\n",
        "Для этого нам потребуется перенести отвечающий за это параметр из `BaggingClassifier` в `DecisionTreeClassifier`. Для этого вам из документации нужно выяснить, какой параметр `DecisionTreeClassifier` за это отвечает.\n",
        "\n",
        "В поле для ответа введите значение этого параметра (ваше значение должно попасть в заданный интервал).\n",
        "По-прежнему сэмплируем $\\ \\sqrt{d} $ признаков."
      ],
      "metadata": {
        "id": "fHlMXH8dYCwH"
      }
    },
    {
      "cell_type": "code",
      "source": [
        "from sklearn.tree import DecisionTreeClassifier\n",
        "\n",
        "tree_clf = DecisionTreeClassifier(\n",
        "    max_features='sqrt',\n",
        "    random_state=RND_SEED,\n",
        ")\n",
        "\n",
        "bagger_upd = BaggingClassifier(\n",
        "    base_estimator=tree_clf,\n",
        "    n_estimators=100,\n",
        "    # bootstrap=True,\n",
        "    random_state=RND_SEED\n",
        ")\n",
        "\n",
        "CVS_bagging_upd = cross_val_score(\n",
        "    bagger_upd, X, y,\n",
        "    cv=10,\n",
        "    n_jobs=-1\n",
        ")\n",
        "\n",
        "print (f'Cross validation score:\\n{CVS_bagging_upd.mean()}')"
      ],
      "metadata": {
        "colab": {
          "base_uri": "https://localhost:8080/"
        },
        "id": "cFOhePA1YV0q",
        "outputId": "2cac3244-b6e8-4b59-ba50-dc1cdcc9cd2f"
      },
      "execution_count": null,
      "outputs": [
        {
          "output_type": "stream",
          "name": "stdout",
          "text": [
            "Cross validation score:\n",
            "0.9549224084419615\n"
          ]
        }
      ]
    },
    {
      "cell_type": "markdown",
      "source": [
        "#### Задание 5.7.2\n",
        "\n",
        "Полученный в задании 4 классификатор — бэггинг на рандомизированных деревьях (в которых при построении каждой вершины выбирается случайное подмножество признаков и разбиение ищется только по ним). Это в точности соответствует алгоритму Random Forest, поэтому почему бы не сравнить качество работы классификатора с `RandomForestClassifier` из sklearn.ensemble?\n",
        "\n",
        "Сделайте это, а затем изучите, как качество классификации на данном датасете зависит от количества деревьев, количества признаков, выбираемых при построении каждой вершины дерева, а также ограничений на глубину дерева.\n",
        "\n",
        "Для наглядности лучше построить графики зависимости качества от значений параметров, но для сдачи задания это делать не обязательно."
      ],
      "metadata": {
        "id": "btoFvaWETt4J"
      }
    },
    {
      "cell_type": "code",
      "source": [
        "from sklearn.datasets import load_digits\n",
        "\n",
        "digits = load_digits()\n",
        "X, y  = digits['data'], digits['target']"
      ],
      "metadata": {
        "id": "OSIPCbjMkOnL"
      },
      "execution_count": null,
      "outputs": []
    },
    {
      "cell_type": "code",
      "source": [
        "import numpy as np\n",
        "\n",
        "from sklearn.tree import DecisionTreeClassifier\n",
        "from sklearn.model_selection import cross_val_score\n",
        "from sklearn.ensemble import BaggingClassifier, RandomForestClassifier\n",
        "\n",
        "RND_SEED = 42\n",
        "\n",
        "# BaggingOverRandomTreesClassifier\n",
        "def BORTClassifier(X, y,\n",
        "                   N_TREES=100, \n",
        "                   CV=5, \n",
        "                   MAX_FEATURES='sqrt',\n",
        "                   MAX_DEPTH=None,\n",
        "                   RANDOM_STATE=42):\n",
        "\n",
        "    tree_clf = DecisionTreeClassifier(\n",
        "        max_features=MAX_FEATURES,\n",
        "        max_depth=MAX_DEPTH,\n",
        "        random_state=RANDOM_STATE,\n",
        "    )\n",
        "\n",
        "    bag_clf = BaggingClassifier(\n",
        "        base_estimator=tree_clf,\n",
        "        n_estimators=N_TREES,\n",
        "        bootstrap=True,\n",
        "        random_state=RANDOM_STATE\n",
        "    )\n",
        "\n",
        "    return cross_val_score(estimator=bag_clf, X=X, y=y, scoring='accuracy', cv=CV, n_jobs=-1)"
      ],
      "metadata": {
        "id": "sGNVjYRd_wMX"
      },
      "execution_count": null,
      "outputs": []
    },
    {
      "cell_type": "markdown",
      "source": [
        "Сравнение бэггинга над рандомизированными деревьями и \"нативного\" `RandomForestClassifier` из `sklearn`"
      ],
      "metadata": {
        "id": "UI23Fuf7MIGq"
      }
    },
    {
      "cell_type": "code",
      "source": [
        "rnd_forest_clf = RandomForestClassifier(random_state=RND_SEED)\n",
        "CVS_rnd_forest_clf = cross_val_score(\n",
        "    rnd_forest_clf, X, y,\n",
        "    scoring='accuracy',\n",
        "    cv=10,\n",
        "    n_jobs=-1\n",
        ")\n",
        "\n",
        "print (f'Random forest default cross validation score:\\n{CVS_rnd_forest_clf.mean()}')\n",
        "print (f'BORT default cross validation score:\\n\\\n",
        "{BORTClassifier(X, y, CV=10, RANDOM_STATE=RND_SEED).mean()}')"
      ],
      "metadata": {
        "colab": {
          "base_uri": "https://localhost:8080/"
        },
        "id": "yGkf_7JaeATS",
        "outputId": "5aa54b70-9427-47eb-bef1-c0f3ec650536"
      },
      "execution_count": null,
      "outputs": [
        {
          "output_type": "stream",
          "name": "stdout",
          "text": [
            "Random forest default cross validation score:\n",
            "0.9493544382371197\n",
            "BORT default cross validation score:\n",
            "0.9549224084419615\n"
          ]
        }
      ]
    },
    {
      "cell_type": "code",
      "source": [
        "# plot_predictions(X[:, 6:8], y, rnd_forest_clf)             "
      ],
      "metadata": {
        "id": "sUhWjrgArCgC"
      },
      "execution_count": null,
      "outputs": []
    },
    {
      "cell_type": "markdown",
      "source": [
        "Зависимость качества классификации случайного леса от числа деревьев "
      ],
      "metadata": {
        "id": "Sgu8ylxKMgqE"
      }
    },
    {
      "cell_type": "code",
      "source": [
        "import matplotlib.pyplot as plt\n",
        "import numpy as np\n",
        "%matplotlib inline\n",
        "\n",
        "num_of_trees = np.linspace(start=5, stop=205, num=40).astype('int32')\n",
        "CVS_n_trees = np.array(\n",
        "    [BORTClassifier(X, y, CV=5, N_TREES = n, RANDOM_STATE=RND_SEED).mean() for\n",
        "        n in num_of_trees]\n",
        ")"
      ],
      "metadata": {
        "id": "erKXxm2We8gs"
      },
      "execution_count": null,
      "outputs": []
    },
    {
      "cell_type": "code",
      "source": [
        "plt.figure(figsize=(15,7));\n",
        "plt.plot(num_of_trees, CVS_n_trees, 'bo', linestyle='--');\n",
        "plt.title('Зависимость качества классификации случайного леса\\n \\\n",
        " от числа деревьев в лесу', fontsize=15)\n",
        "plt.ylabel('Усредненная точность на кросс-валидации', fontsize=13)\n",
        "plt.xlabel('Число деревьев в лесу', fontsize=13)\n",
        "plt.show();"
      ],
      "metadata": {
        "colab": {
          "base_uri": "https://localhost:8080/",
          "height": 427
        },
        "id": "nBoCpybaGBe7",
        "outputId": "63174f85-945e-429d-9e4e-65d96d6c321e"
      },
      "execution_count": null,
      "outputs": [
        {
          "output_type": "display_data",
          "data": {
            "image/png": "[encoded data removed]",
            "text/plain": [
              "<Figure size 1080x504 with 1 Axes>"
            ]
          },
          "metadata": {
            "needs_background": "light"
          }
        }
      ]
    },
    {
      "cell_type": "markdown",
      "source": [
        "Зависимость качества классификации случайного леса от числа деревьев "
      ],
      "metadata": {
        "id": "ZydAx1TMUZlL"
      }
    },
    {
      "cell_type": "code",
      "source": [
        "n_of_features = np.linspace(1, X.shape[1]*0.66, 20).astype('int32')\n",
        "CVS_n_features = np.array(\n",
        "    [BORTClassifier(X, y, CV=5,\n",
        "                    N_TREES=100,\n",
        "                    MAX_FEATURES=n,\n",
        "                    RANDOM_STATE=RND_SEED).mean() for n in n_of_features\n",
        "     ]\n",
        ")"
      ],
      "metadata": {
        "id": "DzMvxLgAH_CO"
      },
      "execution_count": null,
      "outputs": []
    },
    {
      "cell_type": "code",
      "source": [
        "plt.figure(figsize=(15,7));\n",
        "plt.plot(n_of_features, CVS_n_features, 'go', linestyle='--');\n",
        "plt.title('Зависимость качества классификации случайного леса от количества признаков',\n",
        "          fontsize=15)\n",
        "plt.ylabel('Усредненная точность на кросс-валидации', fontsize=13)\n",
        "plt.xlabel('Количество признаков', fontsize=13)\n",
        "plt.show();"
      ],
      "metadata": {
        "colab": {
          "base_uri": "https://localhost:8080/",
          "height": 406
        },
        "id": "_G-xR31JLDZx",
        "outputId": "9f2523ba-1fbe-4bd0-aaec-deb45fa2e00a"
      },
      "execution_count": null,
      "outputs": [
        {
          "output_type": "display_data",
          "data": {
            "image/png": "[encoded data removed]",
            "text/plain": [
              "<Figure size 1080x504 with 1 Axes>"
            ]
          },
          "metadata": {
            "needs_background": "light"
          }
        }
      ]
    },
    {
      "cell_type": "code",
      "source": [
        "# import pandas as pd\n",
        "\n",
        "# rf = RandomForestClassifier(random_state=42)\n",
        "# rf.fit(X, y)\n",
        "# pd.Series([clf.tree_.max_depth for clf in rf.estimators_]).hist()"
      ],
      "metadata": {
        "id": "c3P9y9f3NSz1"
      },
      "execution_count": null,
      "outputs": []
    },
    {
      "cell_type": "markdown",
      "source": [
        "Зависимость качества классификации случайного леса \n",
        "от ограничения на максимальную глубину деревьев"
      ],
      "metadata": {
        "id": "w0AJLa6Op54Y"
      }
    },
    {
      "cell_type": "code",
      "source": [
        "max_tree_depth = np.linspace(2, 25, 23).astype('int32')\n",
        "CVS_max_tree_depth = np.array(\n",
        "    [BORTClassifier(X, y, CV=5,\n",
        "                    N_TREES=100,\n",
        "                    MAX_DEPTH=n,\n",
        "                    RANDOM_STATE=RND_SEED).mean() for n in max_tree_depth\n",
        "     ]\n",
        ")"
      ],
      "metadata": {
        "id": "uoxXjLwDLtKY"
      },
      "execution_count": null,
      "outputs": []
    },
    {
      "cell_type": "code",
      "source": [
        "plt.figure(figsize=(15,7));\n",
        "plt.plot(max_tree_depth, CVS_max_tree_depth, 'ro', linestyle='--');\n",
        "plt.title('Зависимость качества классификации случайного леса\\n \\\n",
        " от ограничения на максимальную глубину деревьев', fontsize=15)\n",
        "plt.ylabel('Усредненная точность на кросс-валидации', fontsize=13)\n",
        "plt.xlabel('Максимальная глубина дерева', fontsize=13)\n",
        "plt.show();"
      ],
      "metadata": {
        "colab": {
          "base_uri": "https://localhost:8080/",
          "height": 428
        },
        "id": "OqMdX7GORiHW",
        "outputId": "e1eeabb6-18b2-490b-8f05-bc2575a66067"
      },
      "execution_count": null,
      "outputs": [
        {
          "output_type": "display_data",
          "data": {
            "image/png": "[encoded data removed]",
            "text/plain": [
              "<Figure size 1080x504 with 1 Axes>"
            ]
          },
          "metadata": {
            "needs_background": "light"
          }
        }
      ]
    },
    {
      "cell_type": "markdown",
      "source": [
        " ## ML-6. Бустинг. Стекинг Machine Learning"
      ],
      "metadata": {
        "id": "NwzKJRdDqKkl"
      }
    },
    {
      "cell_type": "code",
      "source": [
        "# import numpy as np\n",
        "# import matplotlib.pyplot as plt\n",
        "\n",
        "# def get_labels(data):\n",
        "#     labels = []\n",
        "#     for idx, item in enumerate(data):\n",
        "#         if item[0]**3 + item[1]**2 < 1:\n",
        "#             labels.append(0)\n",
        "#         elif item[0] > 2 and item[1] > 2:\n",
        "#             labels.append(0)\n",
        "#         else:\n",
        "#             labels.append(1)\n",
        "#     return np.array(labels)\n",
        "\n",
        "# m = 7 * np.random.random_sample((500,2)) - np.array([3.5, 3.5])\n",
        "# labels = get_labels(m)\n",
        "\n",
        "# plt.scatter(m[:, 0], m[:, 1], c=labels, s=100, \n",
        "#             cmap='coolwarm', edgecolors='black', linewidth=1.5);"
      ],
      "metadata": {
        "colab": {
          "base_uri": "https://localhost:8080/",
          "height": 265
        },
        "id": "awCb4R7hqj32",
        "outputId": "3d00ff1d-481c-4774-a158-0d4ff532da21"
      },
      "execution_count": null,
      "outputs": [
        {
          "output_type": "display_data",
          "data": {
            "image/png": "[encoded data removed]",
            "text/plain": [
              "<Figure size 432x288 with 1 Axes>"
            ]
          },
          "metadata": {
            "needs_background": "light"
          }
        }
      ]
    },
    {
      "cell_type": "markdown",
      "source": [
        "### 6.4. Бустинг. Практика"
      ],
      "metadata": {
        "id": "nE18wYa8TISn"
      }
    },
    {
      "cell_type": "markdown",
      "source": [
        "#### Задание 6.4.1\n",
        "\n",
        "Для решения первого задания урока сначала подготовим данные. Выкачаем набор данных, в котором будет прогнозировать, является ли письмо спамом.\n",
        "\n",
        "Из столбца yesno сделайте столбец spam, где 1 соответствует значению y (является спамом), а 0 – n (не является спамом). Удалите первый столбец (с индексом) и столбец \"yesno\".\n",
        "\n",
        "Комбинации признаков должны иметь вид \"признак1_признак2\".\n",
        "\n",
        "У Вас остается шесть столбцов-признаков и один столбец spam, который является нашей целевой переменной. Разделим их на x и у.\n",
        "\n",
        "Теперь мы хотим создать новые признаки путем попарного перемножения уже имеющихся друг на друга. Сколько получится признаков после преобразования (включая те шесть, которые были в исходных данных)?"
      ],
      "metadata": {
        "id": "oqsn_j2TVg7V"
      }
    },
    {
      "cell_type": "code",
      "source": [
        "import pandas as pd\n",
        "import numpy as np\n",
        "# from sklearn.preprocessing import PolynomialFeatures\n",
        "from itertools import combinations\n",
        "\n",
        "RND_SEED = 42\n",
        "\n",
        "df = pd.read_csv('https://raw.githubusercontent.com/vincentarelbundock/Rdatasets/master/csv/DAAG/spam7.csv')\n",
        "df.sample()\n",
        "\n",
        "df['spam'] = (df['yesno'] == 'y').astype('int32')\n",
        "df = df.drop(['yesno', 'Unnamed: 0'], axis=1)\n",
        "\n",
        "X, y = df.drop('spam', axis=1), df['spam']\n",
        "\n",
        "#добавляем переменные взаимодействия признаков вида признак1 * признак2\n",
        "for comb in combinations(X, 2):\n",
        "    feature_name = comb[0] + '_' + comb[1]\n",
        "    X[feature_name] = X[comb[0]] * X[comb[1]]\n",
        "\n",
        "X.shape[1]"
      ],
      "metadata": {
        "colab": {
          "base_uri": "https://localhost:8080/"
        },
        "id": "cjXnPrCuUO1l",
        "outputId": "6fdd1909-e6ee-4fc3-f900-0a6b5663ef61"
      },
      "execution_count": null,
      "outputs": [
        {
          "output_type": "execute_result",
          "data": {
            "text/plain": [
              "21"
            ]
          },
          "metadata": {},
          "execution_count": 3
        }
      ]
    },
    {
      "cell_type": "markdown",
      "source": [
        "#### Задание 6.4.2\n",
        "\n",
        "Разделим получившися данные на обучающую и тестовую выборки в соотношение 80:20. Обучите модель `GradientBoostingClassifier` (из библиотеки sklearn) с параметрами по умолчанию (на момент создания урока это `learning_rate=0.1, n_estimators=100, max_depth=3, min_samples_split=2, min_samples_leaf=1, subsample=1, max_features=None`).\n",
        "\n",
        "Во всех методах, где присутствует случайность, укажите `random_state=42`.\n",
        "\n",
        "Это будет наш baseline. Укажите точность  на тестовой выборке (параметр score), округлив до третьего знака после точки-разделителя."
      ],
      "metadata": {
        "id": "6X2t2hoqSfXq"
      }
    },
    {
      "cell_type": "code",
      "source": [
        "from sklearn.model_selection import train_test_split\n",
        "from sklearn.ensemble import GradientBoostingClassifier\n",
        "from sklearn.metrics import accuracy_score\n",
        "\n",
        "RND_SEED = 42\n",
        "\n",
        "X_train, X_test, Y_train, Y_test = \\\n",
        "    train_test_split(X, y, test_size=0.2, random_state=RND_SEED)\n",
        "\n",
        "gboost_clf = GradientBoostingClassifier(learning_rate=0.1,\n",
        "                                        n_estimators=100,\n",
        "                                        max_depth=3,\n",
        "                                        min_samples_split=2,\n",
        "                                        min_samples_leaf=1,\n",
        "                                        subsample=1,\n",
        "                                        max_features=None,\n",
        "                                        random_state=RND_SEED)\n",
        "gboost_clf.fit(X_train, Y_train)\n",
        "# gboost_clf.train_score_[-1]\n",
        "Y_pred = gboost_clf.predict(X_test)\n",
        "\n",
        "print(f'Точность базового градиентного бустинга:\\n\\\n",
        "{round(accuracy_score(Y_test, Y_pred), 3)}')"
      ],
      "metadata": {
        "colab": {
          "base_uri": "https://localhost:8080/"
        },
        "id": "4daaDpHwSnRN",
        "outputId": "f1157031-f49d-47a8-c969-393b61393eab"
      },
      "execution_count": null,
      "outputs": [
        {
          "output_type": "stream",
          "name": "stdout",
          "text": [
            "Точность базового градиентного бустинга:\n",
            "0.865\n"
          ]
        }
      ]
    },
    {
      "cell_type": "markdown",
      "source": [
        "Воспользуйтесь методом `feature_importances_`. С его помощью вы можете оценить вклад каждого признака в обучение модели. Постройте столбчатую диаграмму, где по горизонтали указаны названия признаков, а по вертикали их важность. В ответе укажите третий по важности признак (без кавычек и пробелов)."
      ],
      "metadata": {
        "id": "DGC-Qn3LYEKu"
      }
    },
    {
      "cell_type": "code",
      "source": [
        "import matplotlib.pyplot as plt\n",
        "%matplotlib inline\n",
        "\n",
        "feat_importances = pd.Series(\n",
        "    gboost_clf.feature_importances_,\n",
        "    index=X.columns\n",
        ").sort_values(ascending=True)\n",
        "\n",
        "plt.figure(figsize=(8, 8));\n",
        "feat_importances.plot(kind='barh', logx=True);\n",
        "\n",
        "feat_importances.index[-3]"
      ],
      "metadata": {
        "colab": {
          "base_uri": "https://localhost:8080/",
          "height": 505
        },
        "id": "rzNY0EBdYK4I",
        "outputId": "9a14784a-5a2f-456f-9c0c-fbcd5a81c3e8"
      },
      "execution_count": null,
      "outputs": [
        {
          "output_type": "execute_result",
          "data": {
            "application/vnd.google.colaboratory.intrinsic+json": {
              "type": "string"
            },
            "text/plain": [
              "'dollar_bang'"
            ]
          },
          "metadata": {},
          "execution_count": 47
        },
        {
          "output_type": "display_data",
          "data": {
            "image/png": "[encoded data removed]",
            "text/plain": [
              "<Figure size 576x576 with 1 Axes>"
            ]
          },
          "metadata": {
            "needs_background": "light"
          }
        }
      ]
    },
    {
      "cell_type": "markdown",
      "source": [
        "Теперь перейдем к подбору параметров в модели. Для этого в библиотеке `scikit-learn` есть метод `GridSearchCV`. Ему на вход подается модель, список параметров и способ оценивания. При запуске метода `fit` модель обучается со всеми возможными комбинациями параметров, лучшей комбинацией параметров становятся та, при которой значение метрики максимально.\n",
        "\n",
        "Укажите в качестве `estimator` градиетный бустинг с параметрами по дефолту и `random_state=42`. В параметре scoring укажите `'accuracy', n_jobs=-1, cv=5`.\n",
        "\n",
        "Сетку параметров задайте такой:\n",
        "\n",
        "`param_grid = {'learning_rate':[0.00001, 0.0001, 0.001, 0.01, 0.1, 1],`  \n",
        "              `'n_estimators':[100, 250, 500, 750, 1000, 1250, 1500, 1750]}`\n",
        "\n",
        "В ответе укажите точность, округленную до трёх знаков после точки разделителя, для лучших параметров на кросс-валидации. Для этого посмотрите в документации sklearn, какой атрибут GridSearchCV за это отвечает."
      ],
      "metadata": {
        "id": "W4xk-Wqvb8op"
      }
    },
    {
      "cell_type": "code",
      "source": [
        "from sklearn.model_selection import GridSearchCV, cross_val_score\n",
        "\n",
        "param_grid = {'learning_rate': [0.00001, 0.0001, 0.001, 0.01, 0.1, 1],\n",
        "              'n_estimators':  [100, 250, 500, 750, 1000, 1250, 1500, 1750]\n",
        "}\n",
        "\n",
        "gboost_clf = GradientBoostingClassifier(learning_rate=0.1,\n",
        "                                        n_estimators=100,\n",
        "                                        max_depth=3,\n",
        "                                        min_samples_split=2,\n",
        "                                        min_samples_leaf=1,\n",
        "                                        subsample=1,\n",
        "                                        max_features=None,\n",
        "                                        random_state=RND_SEED)\n",
        "\n",
        "grid_search = GridSearchCV(\n",
        "    gboost_clf,\n",
        "    param_grid,\n",
        "    scoring='accuracy',\n",
        "    n_jobs=-1,\n",
        "    cv=5\n",
        ")\n",
        "grid_search.fit(X, y)\n",
        "\n",
        "cv_score = grid_search.best_score_\n",
        "print(f'Точность для лучших параметров на кросс-валидации:\\n {round(cv_score, 3)}')"
      ],
      "metadata": {
        "colab": {
          "base_uri": "https://localhost:8080/"
        },
        "id": "gpatNcTdcgFf",
        "outputId": "b3701428-b9ea-48c0-9897-af66c7345352"
      },
      "execution_count": null,
      "outputs": [
        {
          "metadata": {
            "tags": null
          },
          "name": "stdout",
          "output_type": "stream",
          "text": [
            "Точность для лучших параметров на кросс-валидации:\n",
            "0.874155454845867\n"
          ]
        }
      ]
    },
    {
      "cell_type": "code",
      "source": [
        "grid_search.best_params_"
      ],
      "metadata": {
        "colab": {
          "base_uri": "https://localhost:8080/"
        },
        "id": "T8iiyFra80uS",
        "outputId": "d1fe5109-b2fd-4445-b42b-16e0de0ab389"
      },
      "execution_count": null,
      "outputs": [
        {
          "output_type": "execute_result",
          "data": {
            "text/plain": [
              "{'learning_rate': 0.01, 'n_estimators': 1000}"
            ]
          },
          "metadata": {},
          "execution_count": 71
        }
      ]
    },
    {
      "cell_type": "code",
      "source": [
        "from sklearn.model_selection import cross_val_score\n",
        "\n",
        "gboost_clf_best = GradientBoostingClassifier(learning_rate=0.01,\n",
        "                                        n_estimators=1000,\n",
        "                                        max_depth=3,\n",
        "                                        min_samples_split=2,\n",
        "                                        min_samples_leaf=1,\n",
        "                                        subsample=1,\n",
        "                                        max_features=None,\n",
        "                                        random_state=RND_SEED)\n",
        "cv_score_alt = cross_val_score(gboost_clf_best, X, y, scoring='accuracy', cv=5, n_jobs=-1).mean()\n",
        "print(f'Точность для лучших параметров\\n на кросс-валидации\\\n",
        "(альтернативное вычисление) :\\n {round(cv_score_alt, 3)}')"
      ],
      "metadata": {
        "colab": {
          "base_uri": "https://localhost:8080/"
        },
        "id": "SzTpeTQnrrBZ",
        "outputId": "7a050303-7e68-4090-c6a8-85af5d3f1fc0"
      },
      "execution_count": null,
      "outputs": [
        {
          "output_type": "stream",
          "name": "stdout",
          "text": [
            "Точность для лучших параметров\n",
            " на кросс-валидации(альтернативное вычисление) :\n",
            " 0.874\n"
          ]
        }
      ]
    },
    {
      "cell_type": "markdown",
      "source": [
        "#### Задание 6.4.3\n",
        "\n",
        "Подбор параметров — незаменимый инструмент при настройке моделей. Однако, если данных очень много, а модель сложная, то иногда имеет смысл ограничить количество параметров, которые вы хотите перебрать. Если модель с одним набором параметров обучается 30 минут, а вы хотите перебрать 10 таких наборов, то стоит приготовиться к пятичасовому ожиданию. Также стоит учитывать, что размер некоторых параметров влияет на время, потраченное на обучение моделей. Например, менее глубокие деревья учатся быстрее, чем глубокие.\n",
        "\n",
        "При использовании `GridSearchCV` перебираются все возможные способы комбинации параметров. Сколько разных моделей (моделей градиентного бустинга с разными наборами параметров) обучилось в прошлом задании?"
      ],
      "metadata": {
        "id": "Wc-6xR3J3OXM"
      }
    },
    {
      "cell_type": "code",
      "source": [
        "param_grid = {'learning_rate': [0.00001, 0.0001, 0.001, 0.01, 0.1, 1],\n",
        "              'n_estimators':  [100, 250, 500, 750, 1000, 1250, 1500, 1750]\n",
        "}\n",
        "\n",
        "pg_ls = list(param_grid.values()) #['learning_rate']\n",
        "np.prod([len(x) for x in pg_ls])"
      ],
      "metadata": {
        "colab": {
          "base_uri": "https://localhost:8080/"
        },
        "id": "bJKmTvc-3hJH",
        "outputId": "4ce24015-6689-4fa2-efc0-3ada662a82d8"
      },
      "execution_count": null,
      "outputs": [
        {
          "output_type": "execute_result",
          "data": {
            "text/plain": [
              "48"
            ]
          },
          "metadata": {},
          "execution_count": 66
        }
      ]
    },
    {
      "cell_type": "markdown",
      "source": [
        "Теперь воспользуемся `GridSearchCV` для подбора максимальной глубины (`max_depth`). В качестве estimator используйте градиентный бустинг с раннеее подобранными параметрами и `random_state=42`. Переберите все значения `max_depth` от 5 до 15 включительно. В ответ запишите значение параметра, при котором точность максимальна."
      ],
      "metadata": {
        "id": "lFeCGfVN5LuA"
      }
    },
    {
      "cell_type": "code",
      "source": [
        "gboost_clf_best = GradientBoostingClassifier(learning_rate=0.01,\n",
        "                                        n_estimators=1000,\n",
        "                                        max_depth=3,\n",
        "                                        min_samples_split=2,\n",
        "                                        min_samples_leaf=1,\n",
        "                                        subsample=1,\n",
        "                                        max_features=None,\n",
        "                                        random_state=RND_SEED)\n",
        "\n",
        "param_grid = {'max_depth': [i for i in range(5, 16)]}\n",
        "\n",
        "grid_search_depth = GridSearchCV(\n",
        "    gboost_clf_best, param_grid, scoring='accuracy', n_jobs=-1, cv=5\n",
        ")\n",
        "grid_search_depth.fit(X, y)\n",
        "\n",
        "print(f\"Лучшая точность достигается на max_depth = \\\n",
        "{grid_search_depth.best_params_['max_depth']}\")"
      ],
      "metadata": {
        "colab": {
          "base_uri": "https://localhost:8080/"
        },
        "id": "Tqek64cM5fdx",
        "outputId": "0c238906-22c0-4f6e-ec4a-3b427d29371f"
      },
      "execution_count": null,
      "outputs": [
        {
          "output_type": "execute_result",
          "data": {
            "text/plain": [
              "GridSearchCV(cv=5,\n",
              "             estimator=GradientBoostingClassifier(learning_rate=0.01,\n",
              "                                                  n_estimators=1000,\n",
              "                                                  random_state=42,\n",
              "                                                  subsample=1),\n",
              "             n_jobs=-1,\n",
              "             param_grid={'max_depth': [5, 6, 7, 8, 9, 10, 11, 12, 13, 14, 15]},\n",
              "             scoring='accuracy')"
            ]
          },
          "metadata": {},
          "execution_count": 72
        }
      ]
    },
    {
      "cell_type": "markdown",
      "source": [
        "#### Задание 6.4.4\n",
        "\n",
        "Может показаться, что, научившись запускать готовые фукнции из библиотек и настраивать параметры, мы абсолютно готовы к работе. Однако на поле боя нас могут подстерегать еще опасности — legacy code, то есть код, написанный кем-то до вас. Может быть, его можно было бы и улучшить, но на нём уже столько всего надстроено, что переписывать всё практически невозможно.\n",
        "\n",
        "А ещё часто будет возникать необходимость просто понять код коллеги или сделать code review (грубо говоря, это анализ кода на предмет ошибок и расхождения в стиле). Во всех этих ситуациях необходим навык быcтрого чтения кода.\n",
        "\n",
        "Поэтому в качестве примера в этом задании мы предлагаем изучить код для реализации AdaBoost с нуля. Вам необходимо запустить эту функцию, но с дописанными строчками (вычисление ошибки и веса алгоритма) на всех признаках, получившихся после всех преобразований в предыдущем датасете (до разделения выборки на обучающую и тестовую). Параметр learning_rate возьмите равным 0.001, М = 10. В ответ запишите точность, округленную до трёх знаков после точки-разделителя."
      ],
      "metadata": {
        "id": "sdm21a5KAags"
      }
    },
    {
      "cell_type": "code",
      "source": [
        "from sklearn.tree import DecisionTreeClassifier\n",
        "\n",
        "RND_SEED = 42\n",
        "\n",
        "def AdaBoost_scratch(X, y, M=10, learning_rate = 1):\n",
        "    # инициалиазция служебных переменных\n",
        "    N = len(y)\n",
        "    estimator_list, y_predict_list, estimator_error_list, \\\n",
        "    estimator_weight_list, sample_weight_list = [], [], [], [], []\n",
        "\n",
        "    # инициализация весов\n",
        "    sample_weight = np.ones(N) / N\n",
        "    sample_weight_list.append(sample_weight.copy())\n",
        "\n",
        "    # цикл по длине М\n",
        "    for m in range(M):   \n",
        "\n",
        "        # обучим базовую модель и получим предсказание\n",
        "        estimator = DecisionTreeClassifier(max_depth = 1,\n",
        "                                           max_leaf_nodes=2,\n",
        "                                           random_state=RND_SEED)\n",
        "        estimator.fit(X, y, sample_weight=sample_weight)\n",
        "        y_predict = estimator.predict(X)\n",
        "\n",
        "        # Маска для ошибок классификации\n",
        "        incorrect = (y_predict != y).astype('int32')\n",
        "\n",
        "        # Оцениваем ошибку\n",
        "        estimator_error = np.sum(sample_weight * incorrect)\n",
        "        \n",
        "        # Вычисляем вес нового алгоритма\n",
        "        estimator_weight = \\\n",
        "            learning_rate * np.log ((1 - estimator_error) / estimator_error)\n",
        "        \n",
        "        # Получаем новые веса объектов\n",
        "        sample_weight *= np.exp(estimator_weight * incorrect *\\\n",
        "               ((sample_weight > 0) | (estimator_weight < 0)))\n",
        "\n",
        "        # Сохраняем результаты данной итерации\n",
        "        estimator_list.append(estimator)\n",
        "        y_predict_list.append(y_predict.copy())\n",
        "        estimator_error_list.append(estimator_error.copy())\n",
        "        estimator_weight_list.append(estimator_weight.copy())\n",
        "        sample_weight_list.append(sample_weight.copy())\n",
        "\n",
        "    # Для удобства переведем в numpy.array   \n",
        "    estimator_list = np.asarray(estimator_list)\n",
        "    y_predict_list = np.asarray(y_predict_list)\n",
        "    estimator_error_list = np.asarray(estimator_error_list)\n",
        "    estimator_weight_list = np.asarray(estimator_weight_list)\n",
        "    sample_weight_list = np.asarray(sample_weight_list)\n",
        "\n",
        "    # Получим предсказания\n",
        "    preds = (np.array([np.sign((y_predict_list[:,point] * estimator_weight_list).sum()) for point in range(N)]))\n",
        "    acc = (preds == y).sum() / N\n",
        "    # print('Accuracy = ', acc) \n",
        "    \n",
        "    return acc, estimator_list, estimator_weight_list, sample_weight_list\n",
        "\n",
        "accuracy, estimator_list, estimator_weight_list, sample_weight_list  = \\\n",
        "    AdaBoost_scratch(X, y, M=10, learning_rate=0.001)\n",
        "\n",
        "print('Точность алгоритма:', round(accuracy, 3) )"
      ],
      "metadata": {
        "colab": {
          "base_uri": "https://localhost:8080/"
        },
        "id": "JDMWhgMAAroT",
        "outputId": "80c181d4-ca72-4e61-c058-b5a8ee79176e"
      },
      "execution_count": null,
      "outputs": [
        {
          "output_type": "stream",
          "name": "stdout",
          "text": [
            "Точность алгоритма: 0.823\n"
          ]
        }
      ]
    },
    {
      "cell_type": "markdown",
      "source": [
        "### 6.6. Стекинг. Практика\n",
        "\n",
        "Функция `compute_meta_feature` принимает на вход один алгоритм и возвращает новые признаки на объектах, которые не использовались во время обучения. Функция `generate_meta_feature` делает подобное, но принимает на вход несколько классификаторов в списке и повторяет процедуру, а затем генерирует и возвращает матрицу с изначальным количеством объектов, признаков будет столько, сколько мы передали классификаторов. "
      ],
      "metadata": {
        "id": "rVB7zNuwM74c"
      }
    },
    {
      "cell_type": "markdown",
      "source": [
        "#### Задание 6.6.1\n",
        "\n",
        "В скринкасте мы разобрали схему генерации признаков в стекинге, когда для тестовой выборки алгоритм заново обучался на всей тренировочной выборке. Реализуйте схему, когда вместо этого производится агрегация ответов всех обученных на фолдах классификаторов на тестовой выборке при помощи усреднения.\n",
        "\n",
        "Логика решения: <br>\n",
        "1) Создадим `X_meta_test`, заполним его нулями (по аналогии с `X_meta_train`);<br>\n",
        "2) Далее на каждом шаге, где мы обучаем `folded_clf.fit (X_fold_train, y_fold_train)` и его предсказания на `X_fold_predict` запихиваем в `X_meta_train[predict_fold_index]`, добавим ещё одну строку, где в `X_meta_test` будем добавлять предсказания вероятностей `folded_clf` на `X_test`. Их можно сразу складывать друг с другом или сохранить много массивов, тогда в конце их нужно будет все сложить, а потом делить на количество сплитов (количество массивов равно количеству сплитов в кросс-валидации);<br>\n",
        "3) После цикла останется только усреднить все эти массивы — это и будет наш `X_meta_test`."
      ],
      "metadata": {
        "id": "KSIfdBpzxQrG"
      }
    },
    {
      "cell_type": "code",
      "source": [
        "import pandas as pd\n",
        "import numpy as np\n",
        "\n",
        "from sklearn.ensemble import (AdaBoostClassifier, GradientBoostingClassifier,\n",
        "                              RandomForestClassifier, ExtraTreesClassifier)\n",
        "from sklearn.linear_model import LogisticRegression, LinearRegression\n",
        "from sklearn.tree import DecisionTreeClassifier\n",
        "from sklearn.base import clone\n",
        "from sklearn.neighbors import KNeighborsClassifier\n",
        "\n",
        "from sklearn.model_selection import train_test_split, KFold, StratifiedKFold\n",
        "from sklearn.metrics import (f1_score, accuracy_score)\n",
        "from sklearn.datasets import load_digits\n",
        "from sklearn.preprocessing import StandardScaler\n",
        "\n",
        "from tqdm import tqdm\n",
        "\n",
        "from sklearn.model_selection import RandomizedSearchCV\n",
        "from scipy.stats.distributions import randint\n",
        "\n",
        "from matplotlib import pyplot as plt\n",
        "%matplotlib inline\n",
        "\n",
        "RND_SEED = 42"
      ],
      "metadata": {
        "id": "njQzhPQov3Ir"
      },
      "execution_count": null,
      "outputs": []
    },
    {
      "cell_type": "code",
      "source": [
        "dataset = load_digits()\n",
        "X, y = dataset['data'], dataset['target']\n",
        "\n",
        "X_train, X_test, y_train, y_test = \\\n",
        "    train_test_split(X, y, random_state=RND_SEED, test_size=0.2)"
      ],
      "metadata": {
        "id": "btrvLW1bw5yf"
      },
      "execution_count": null,
      "outputs": []
    },
    {
      "cell_type": "markdown",
      "source": [
        "За основу нужно взять следующий код:"
      ],
      "metadata": {
        "id": "YZMrjpfXnYGk"
      }
    },
    {
      "cell_type": "code",
      "source": [
        "def compute_meta_feature_mean_(clf, X_train, X_test, y_train, cv):\n",
        "\n",
        "    \"\"\"    Эта функция подсчитывает признаки для мета-классификатора.\n",
        "    Они являются вероятностями классов при решении задачи многоклассовой классификации.\n",
        "        :arg clf: классификатор\n",
        "        :args X_train, y_train: обучающая выборка\n",
        "        :arg X_test: признаки тестовой выборки\n",
        "        :arg cv: класс, генерирующий фолды (KFold)\n",
        "        :returns X_meta_train, X_meta_test: новые признаки для обучающей и тестовой выборок    \"\"\"\n",
        "\n",
        "    n_classes = len(np.unique(y_train))\n",
        "    X_meta_train = np.zeros((len(X_train), n_classes), dtype=np.float32)\n",
        "    \n",
        "    for train_fold_index, predict_fold_index in cv.split(X_train):\n",
        "        X_fold_train, X_fold_predict = X_train[train_fold_index], X_train[predict_fold_index]\n",
        "        y_fold_train = y_train[train_fold_index]\n",
        "\n",
        "        folded_clf = clone(clf)\n",
        "        folded_clf.fit(X_fold_train, y_fold_train)\n",
        "\n",
        "        X_meta_train[predict_fold_index] = folded_clf.predict_proba(X_fold_predict)\n",
        "\n",
        "    meta_clf = clone(clf)\n",
        "    meta_clf.fit(X_train, y_train)\n",
        "\n",
        "    X_meta_test = meta_clf.predict_proba(X_test)\n",
        "\n",
        "\n",
        "    return X_meta_train, X_meta_test"
      ],
      "metadata": {
        "id": "766gPavVzpRv"
      },
      "execution_count": null,
      "outputs": []
    },
    {
      "cell_type": "code",
      "source": [
        "def compute_meta_feature_mean(clf, X_train, X_test, y_train, cv):\n",
        "    \"\"\"\n",
        "    Эта функция подсчитывает признаки для мета-классификатора. \n",
        "    Они являются вероятностями классов при решении задачи многоклассовой классификации.\n",
        "\n",
        "    :arg clf: классификатор\n",
        "    :args X_train, y_train: обучающая выборка\n",
        "    :arg X_test: признаки тестовой выборки\n",
        "    :arg cv: класс, генерирующий фолды (KFold)\n",
        "\n",
        "    :returns X_meta_train, X_meta_test: новые признаки для обучающей и тестовой выборок\n",
        "    \"\"\"\n",
        "    # Напишите ваш код ниже\n",
        "    n_classes = len(np.unique(y_train))\n",
        "    X_meta_train = np.zeros((len(X_train), n_classes), dtype=np.float32)\n",
        "    X_meta_test = np.zeros((len(X_test), n_classes), dtype=np.float32)\n",
        "\n",
        "    for train_fold_index, predict_fold_index in cv.split(X_train):\n",
        "        X_fold_train, X_fold_predict = \\\n",
        "            X_train[train_fold_index], X_train[predict_fold_index]\n",
        "        y_fold_train = y_train[train_fold_index]\n",
        "\n",
        "        folded_clf = clone(clf)\n",
        "        folded_clf.fit(X_fold_train, y_fold_train)\n",
        "\n",
        "        X_meta_train[predict_fold_index] = folded_clf.predict_proba(X_fold_predict)\n",
        "        X_meta_test += meta_clf.predict_proba(X_test)\n",
        "\n",
        "    X_meta_test /= len(list(cv.split(X_train)))\n",
        "\n",
        "    return X_meta_train, X_meta_test\n"
      ],
      "metadata": {
        "id": "5CfI86hj5Awg"
      },
      "execution_count": null,
      "outputs": []
    },
    {
      "cell_type": "markdown",
      "source": [
        "#### Задание 6.6.2\n"
      ],
      "metadata": {
        "id": "eI3OmkrCx7df"
      }
    },
    {
      "cell_type": "markdown",
      "source": [
        "##### 1)\n",
        "Используйте функцию `generate_meta_features` для стекинга следующих алгоритмов:\n",
        "- логистическая регрессия с L1-регуляризацией, `C=0.001`, `solver='saga'`, схема работы мультиклассовой классификации — `ovr`(one-vs-rest), максимальное допустимое количество итераций — `2000`;\n",
        "- логистическая регрессия с L2-регуляризацией, `C=0.001`, `solver='saga'`, схема работы мультиклассовой классификации — `multinomial`, максимальное допустимое количество итераций — `2000`;\n",
        "- случайный лес из 300 деревьев;\n",
        "- градиентный бустинг из 200 деревьев.<br>\n",
        "\n",
        "Как мета-алгоритм используйте логистическую регрессию без регуляризации со схемой работы мультиклассовой классификации — `'auto'` и solver — `'lbfgs'`.\n",
        "Посчитайте качество при помощи передачи новых признаков в функцию `compute_metric`."
      ],
      "metadata": {
        "id": "BWR2qSurJ48W"
      }
    },
    {
      "cell_type": "code",
      "source": [
        "def compute_meta_feature(clf, X_train, X_test, y_train, cv):\n",
        "    \n",
        "    n_classes = len(np.unique(y_train))\n",
        "    X_meta_train = np.zeros((len(y_train), n_classes), dtype=np.float32)\n",
        "\n",
        "    if '.KFold' in str(type(cv)):\n",
        "        splits = cv.split(X_train)\n",
        "    elif '.StratifiedKFold' in str(type(cv)):\n",
        "        splits = cv.split(X_train, y_train)\n",
        "        \n",
        "    for train_fold_index, predict_fold_index in splits:\n",
        "        X_fold_train, X_fold_predict = X_train[train_fold_index], X_train[predict_fold_index]\n",
        "        y_fold_train = y_train[train_fold_index]\n",
        "        \n",
        "        folded_clf = clone(clf)\n",
        "        folded_clf.fit(X_fold_train, y_fold_train)\n",
        "        \n",
        "        X_meta_train[predict_fold_index] = folded_clf.predict_proba(X_fold_predict)\n",
        "    \n",
        "    meta_clf = clone(clf)\n",
        "    meta_clf.fit(X_train, y_train)\n",
        "    \n",
        "    X_meta_test = meta_clf.predict_proba(X_test)\n",
        "    \n",
        "    return X_meta_train, X_meta_test\n",
        "\n",
        "def generate_meta_features(classifiers, X_train, X_test, y_train, cv):\n",
        "   \n",
        "    features = [\n",
        "        compute_meta_feature(clf, X_train, X_test, y_train, cv)\n",
        "        for clf in tqdm(classifiers)\n",
        "    ]\n",
        "    \n",
        "    stacked_features_train = np.hstack([\n",
        "        features_train for features_train, features_test in features\n",
        "    ])\n",
        "\n",
        "    stacked_features_test = np.hstack([\n",
        "        features_test for features_train, features_test in features\n",
        "    ])\n",
        "    \n",
        "    return stacked_features_train, stacked_features_test\n",
        "\n",
        "def compute_metric(clf, X_train, y_train, X_test, y_test):\n",
        "    clf.fit(X_train, y_train)\n",
        "    y_test_pred = clf.predict(X_test)\n",
        "    return np.round(f1_score(y_test, y_test_pred, average='macro'), 6)"
      ],
      "metadata": {
        "id": "tYU5TwfpcJR7"
      },
      "execution_count": null,
      "outputs": []
    },
    {
      "cell_type": "code",
      "source": [
        "classifiers = [\n",
        "               LogisticRegression(penalty='l1', C=0.001, solver='saga',\n",
        "                                  multi_class='ovr', max_iter=2000,\n",
        "                                  random_state=RND_SEED),\n",
        "               LogisticRegression(penalty='l2', C=0.001, solver='saga',\n",
        "                                  multi_class='multinomial', max_iter=2000,\n",
        "                                  random_state=RND_SEED),\n",
        "               RandomForestClassifier(n_estimators=300, random_state=RND_SEED),\n",
        "               GradientBoostingClassifier(n_estimators=200, random_state=RND_SEED)\n",
        "]\n",
        "\n",
        "cv = KFold(n_splits=10, shuffle=True, random_state=RND_SEED)\n",
        "\n",
        "stacked_features_train, stacked_features_test =\\\n",
        " generate_meta_features(classifiers, X_train, X_test, y_train, cv)\n",
        "\n",
        "meta_clf = LogisticRegression(penalty='none', multi_class='auto', solver='lbfgs',\n",
        "                              random_state=RND_SEED)"
      ],
      "metadata": {
        "colab": {
          "base_uri": "https://localhost:8080/"
        },
        "id": "IfcUI55e5oP1",
        "outputId": "48b1b585-ab8c-4727-f345-a1cada14425c"
      },
      "execution_count": null,
      "outputs": [
        {
          "output_type": "stream",
          "name": "stderr",
          "text": [
            "100%|██████████| 4/4 [03:57<00:00, 59.50s/it]\n"
          ]
        }
      ]
    },
    {
      "cell_type": "code",
      "source": [
        "print('\\nF1-score:',\n",
        "      compute_metric(meta_clf,\n",
        "                     X_train=stacked_features_train,\n",
        "                     y_train=y_train,\n",
        "                     X_test=stacked_features_test,\n",
        "                     y_test=y_test)\n",
        ")"
      ],
      "metadata": {
        "colab": {
          "base_uri": "https://localhost:8080/"
        },
        "id": "foX2ALqIGHDE",
        "outputId": "e72174d2-22e4-477e-a885-ef8849f88a87"
      },
      "execution_count": null,
      "outputs": [
        {
          "output_type": "stream",
          "name": "stdout",
          "text": [
            "\n",
            "F1-score: 0.98098\n"
          ]
        }
      ]
    },
    {
      "cell_type": "markdown",
      "source": [
        "##### 2)\n",
        "Используйте функцию `generate_meta_features` для стекинга следующих алгоритмов:\n",
        "- случайный лес из 300 деревьев\n",
        "- случайный лес из 200 экстремальных деревьев<br>\n",
        "\n",
        "Как мета-алгоритм используйте логистическую регрессию без регуляризации со схемой работы мультиклассовой классификации — `auto` и `solver='lbfgs'`.\n",
        "Посчитайте качество при помощи передачи новых признаков в функцию `compute_metric`."
      ],
      "metadata": {
        "id": "IQkqze0WqVbP"
      }
    },
    {
      "cell_type": "code",
      "source": [
        "classifiers_2 = [\n",
        "               RandomForestClassifier(n_estimators=300, n_jobs=-1,\n",
        "                                      random_state=RND_SEED),\n",
        "               ExtraTreesClassifier(n_estimators=200, n_jobs=-1,\n",
        "                                    random_state=RND_SEED)\n",
        "]\n",
        "\n",
        "cv = KFold(n_splits=10, shuffle=True, random_state=RND_SEED)\n",
        "\n",
        "stacked_features_train_2, stacked_features_test_2 =\\\n",
        " generate_meta_features(classifiers, X_train, X_test, y_train, cv)\n",
        "\n",
        "meta_clf_2 = LogisticRegression(penalty='none', multi_class='auto', solver='lbfgs',\n",
        "                              random_state=RND_SEED)"
      ],
      "metadata": {
        "colab": {
          "base_uri": "https://localhost:8080/"
        },
        "id": "bwPV5U07ybeV",
        "outputId": "518cd213-d32f-4681-bb25-eedfb9c97e87"
      },
      "execution_count": null,
      "outputs": [
        {
          "output_type": "stream",
          "name": "stderr",
          "text": [
            "\n",
            "  0%|          | 0/4 [00:00<?, ?it/s]\u001b[A\n",
            " 25%|██▌       | 1/4 [00:56<02:48, 56.26s/it]\u001b[A\n",
            " 50%|█████     | 2/4 [00:59<00:50, 25.27s/it]\u001b[A\n",
            " 75%|███████▌  | 3/4 [01:15<00:20, 20.81s/it]\u001b[A\n",
            "100%|██████████| 4/4 [04:16<00:00, 64.05s/it]\n"
          ]
        }
      ]
    },
    {
      "cell_type": "code",
      "source": [
        "print('\\nF1-score:',\n",
        "      compute_metric(meta_clf_2,\n",
        "                     X_train=stacked_features_train_2,\n",
        "                     y_train=y_train,\n",
        "                     X_test=stacked_features_test_2,\n",
        "                     y_test=y_test)\n",
        ")"
      ],
      "metadata": {
        "colab": {
          "base_uri": "https://localhost:8080/"
        },
        "id": "1l7x2yDHGpj9",
        "outputId": "e274698a-d9f0-44bf-d858-092c8f622c5f"
      },
      "execution_count": null,
      "outputs": [
        {
          "output_type": "stream",
          "name": "stdout",
          "text": [
            "\n",
            "F1-score: 0.98098\n"
          ]
        }
      ]
    },
    {
      "cell_type": "markdown",
      "source": [
        "##### 3)\n",
        "Используйте функцию `generate_meta_features` для стекинга следующих алгоритмов:\n",
        "- метод ближайших соседей (k-NN) со стандартными параметрами;\n",
        "- случайный лес из 300 экстремальных деревьев;<br>\n",
        "\n",
        "Как мета-алгоритм используйте логистическую регрессию без регуляризации со схемой работы мультиклассовой классификации — `auto` и `solver ='lbfgs'`.\n",
        "Посчитайте качество при помощи передачи новых признаков в функцию `compute_metric`."
      ],
      "metadata": {
        "id": "J6uNR7_1HcVX"
      }
    },
    {
      "cell_type": "code",
      "source": [
        "std_scaler = StandardScaler()\n",
        "X_train_scaled = std_scaler.fit_transform(X_train)\n",
        "X_test_scaled = std_scaler.transform(X_test)"
      ],
      "metadata": {
        "id": "LtCFZXQNrDFC"
      },
      "execution_count": null,
      "outputs": []
    },
    {
      "cell_type": "code",
      "source": [
        "classifiers_3 = [\n",
        "               KNeighborsClassifier(),\n",
        "               ExtraTreesClassifier(n_estimators=300, n_jobs=-1,\n",
        "                                    random_state=RND_SEED)\n",
        "]\n",
        "\n",
        "cv = KFold(n_splits=10, shuffle=True, random_state=RND_SEED)\n",
        "\n",
        "stacked_features_train_3, stacked_features_test_3 =\\\n",
        " generate_meta_features(classifiers_3, X_train_scaled, X_test_scaled, y_train, cv)\n",
        "\n",
        "meta_clf_3 = LogisticRegression(penalty='none', multi_class='auto', solver='lbfgs',\n",
        "                              random_state=RND_SEED)"
      ],
      "metadata": {
        "colab": {
          "base_uri": "https://localhost:8080/"
        },
        "id": "x8VFHP3GK7V1",
        "outputId": "338e0360-25f8-436a-d82c-f638d02e9db2"
      },
      "execution_count": null,
      "outputs": [
        {
          "output_type": "stream",
          "name": "stderr",
          "text": [
            "100%|██████████| 2/2 [00:13<00:00,  6.82s/it]\n"
          ]
        }
      ]
    },
    {
      "cell_type": "code",
      "source": [
        "print('\\nF1-score:',\n",
        "      compute_metric(meta_clf_3,\n",
        "                     X_train=stacked_features_train_3,\n",
        "                     y_train=y_train,\n",
        "                     X_test=stacked_features_test_3,\n",
        "                     y_test=y_test)\n",
        ")"
      ],
      "metadata": {
        "colab": {
          "base_uri": "https://localhost:8080/"
        },
        "id": "o3hlc4tXM4RM",
        "outputId": "4ad9e984-056b-47ed-fc64-e6dfc80a1852"
      },
      "execution_count": null,
      "outputs": [
        {
          "output_type": "stream",
          "name": "stdout",
          "text": [
            "\n",
            "F1-score: 0.984615\n"
          ]
        },
        {
          "output_type": "stream",
          "name": "stderr",
          "text": [
            "/usr/local/lib/python3.7/dist-packages/sklearn/linear_model/_logistic.py:818: ConvergenceWarning: lbfgs failed to converge (status=1):\n",
            "STOP: TOTAL NO. of ITERATIONS REACHED LIMIT.\n",
            "\n",
            "Increase the number of iterations (max_iter) or scale the data as shown in:\n",
            "    https://scikit-learn.org/stable/modules/preprocessing.html\n",
            "Please also refer to the documentation for alternative solver options:\n",
            "    https://scikit-learn.org/stable/modules/linear_model.html#logistic-regression\n",
            "  extra_warning_msg=_LOGISTIC_SOLVER_CONVERGENCE_MSG,\n"
          ]
        }
      ]
    },
    {
      "cell_type": "markdown",
      "source": [
        "##### 4)\n",
        "Используйте функцию `generate_meta_features` для стекинга следующих алгоритмов:\n",
        "- логистическая регрессия с L1-регуляризацией, `C=0.001`, `solver='saga'`, схема работы мультиклассовой классификации — `'ovr'` (one-vs-rest), максимальное допустимоей количество итераций — `2000`;\n",
        "- метод ближайших соседей со стандартными параметрами;\n",
        "- случайный лес из 300 экстремальных деревьев;\n",
        "- AdaBoost со стандартными параметрами.\n",
        "\n",
        "Как мета-алгоритм используйте логистическую регрессию без регуляризации со схемой работы мультиклассовой классификации — `auto` и `solver='lbfgs'`.\n",
        "Посчитайте качество при помощи передачи новых признаков в функцию `compute_metric`."
      ],
      "metadata": {
        "id": "hfaND0QJNLzd"
      }
    },
    {
      "cell_type": "code",
      "source": [
        "classifiers_4 = [\n",
        "               LogisticRegression(penalty='l1', multi_class='ovr', C=0.001,\n",
        "                                  solver='saga', max_iter=2000, random_state=RND_SEED),\n",
        "               KNeighborsClassifier(),\n",
        "               ExtraTreesClassifier(n_estimators=300, n_jobs=-1,\n",
        "                                    random_state=RND_SEED),\n",
        "               AdaBoostClassifier(random_state=RND_SEED)\n",
        "\n",
        "]\n",
        "\n",
        "cv = KFold(n_splits=10, shuffle=True, random_state=RND_SEED)\n",
        "\n",
        "stacked_features_train_4, stacked_features_test_4 =\\\n",
        " generate_meta_features(classifiers_4, X_train_scaled, X_test_scaled, y_train, cv)\n",
        "\n",
        "meta_clf_4 = LogisticRegression(penalty='none', multi_class='auto', solver='lbfgs',\n",
        "                              random_state=RND_SEED)"
      ],
      "metadata": {
        "colab": {
          "base_uri": "https://localhost:8080/"
        },
        "id": "GwuxseMeN41Y",
        "outputId": "de316694-9c71-41ed-a4ba-e2a4269610d1"
      },
      "execution_count": null,
      "outputs": [
        {
          "output_type": "stream",
          "name": "stderr",
          "text": [
            "100%|██████████| 4/4 [00:26<00:00,  6.61s/it]\n"
          ]
        }
      ]
    },
    {
      "cell_type": "code",
      "source": [
        "print('\\nF1-score:',\n",
        "      compute_metric(meta_clf_4,\n",
        "                     X_train=stacked_features_train_4,\n",
        "                     y_train=y_train,\n",
        "                     X_test=stacked_features_test_4,\n",
        "                     y_test=y_test)\n",
        ")"
      ],
      "metadata": {
        "id": "Kp0qwv1XN6cP",
        "colab": {
          "base_uri": "https://localhost:8080/"
        },
        "outputId": "a067c2f1-1b83-41de-bf6a-50809e718213"
      },
      "execution_count": null,
      "outputs": [
        {
          "output_type": "stream",
          "name": "stdout",
          "text": [
            "\n",
            "F1-score: 0.984567\n"
          ]
        }
      ]
    },
    {
      "cell_type": "markdown",
      "source": [
        "##### 5)\n",
        "Используйте функцию `generate_meta_features` для стекинга следующих алгоритмов:\n",
        "- случайный лес из 300 деревьев\n",
        "- случайный лес из 300 экстремальных деревьев\n",
        "\n",
        "Для генерации фолдов используйте класс `StratifiedKFold`, который позволяет делать так называемые стратифицированные разбиения (в каждом фолде будет одинаковое соотношение классов).\n",
        "Для корректной работы необходимо подправить код в функции `compute_meta_feature`.<br>\n",
        "Как мета-алгоритм используйте логистическую регрессию без регуляризации со схемой работы мультиклассовой классификации — `auto` и солвером `'lbfgs'`.\n",
        "Посчитайте качество при помощи передачи новых признаков в функцию compute_metric. Количество фолдов = 10."
      ],
      "metadata": {
        "id": "Z0LGnmsnOjix"
      }
    },
    {
      "cell_type": "code",
      "source": [
        "classifiers_5 = [\n",
        "               RandomForestClassifier(n_estimators=300, random_state=RND_SEED, n_jobs=-1),\n",
        "               ExtraTreesClassifier(n_estimators=300, random_state=RND_SEED, n_jobs=-1)\n",
        "]\n",
        "\n",
        "cv = StratifiedKFold(n_splits=10, shuffle=True, random_state=RND_SEED)\n",
        "\n",
        "stacked_features_train_5, stacked_features_test_5 =\\\n",
        " generate_meta_features(classifiers_5, X_train, X_test, y_train, cv)\n",
        "\n",
        "meta_clf_5 = LogisticRegression(penalty='none', multi_class='auto', solver='lbfgs',\n",
        "                              random_state=RND_SEED)"
      ],
      "metadata": {
        "colab": {
          "base_uri": "https://localhost:8080/"
        },
        "id": "0e1ZBKQmOiQE",
        "outputId": "1eb5eac2-831f-4f24-e696-34dd7ae0ec7d"
      },
      "execution_count": null,
      "outputs": [
        {
          "output_type": "stream",
          "name": "stderr",
          "text": [
            "\n",
            "\n",
            "\n",
            "\n",
            "\n",
            "  0%|          | 0/4 [00:00<?, ?it/s]\u001b[A\u001b[A\u001b[A\u001b[A\u001b[A\n",
            "\n",
            "\n",
            "\n",
            "\n",
            " 25%|██▌       | 1/4 [00:59<02:57, 59.05s/it]\u001b[A\u001b[A\u001b[A\u001b[A\u001b[A\n",
            "\n",
            "\n",
            "\n",
            "\n",
            "  0%|          | 0/4 [21:17<?, ?it/s]\n",
            "  0%|          | 0/4 [18:49<?, ?it/s]\n",
            "  0%|          | 0/4 [01:33<?, ?it/s]\n",
            "\n",
            "\n",
            "\n",
            "\n",
            "\n",
            "  0%|          | 0/4 [24:48<?, ?it/s]\n",
            "\n",
            "\n",
            "\n",
            "\n",
            "\n",
            "100%|██████████| 4/4 [03:57<00:00, 59.50s/it]\n"
          ]
        }
      ]
    },
    {
      "cell_type": "code",
      "source": [
        "print('\\nF1-score:',\n",
        "      compute_metric(meta_clf_5,\n",
        "                     X_train=stacked_features_train_5,\n",
        "                     y_train=y_train,\n",
        "                     X_test=stacked_features_test_5,\n",
        "                     y_test=y_test)\n",
        ")"
      ],
      "metadata": {
        "colab": {
          "base_uri": "https://localhost:8080/"
        },
        "id": "-FSTmm0uOjOa",
        "outputId": "6ba24f82-3822-4a03-db9d-efd84374434d"
      },
      "execution_count": null,
      "outputs": [
        {
          "output_type": "stream",
          "name": "stdout",
          "text": [
            "\n",
            "F1-score: 0.97591\n"
          ]
        }
      ]
    },
    {
      "cell_type": "code",
      "source": [
        "# прогресс-бар\n",
        "# import time\n",
        "# from tqdm import tqdm\n",
        "\n",
        "# mylist = [1,2,3,4,5,6,7,8]\n",
        "\n",
        "# for i in tqdm(mylist):\n",
        "#     time.sleep(0.5)\n"
      ],
      "metadata": {
        "id": "if4RgZFAbnEJ"
      },
      "execution_count": null,
      "outputs": []
    },
    {
      "cell_type": "code",
      "source": [
        "# # как работает KFold\n",
        "# import numpy as np\n",
        "# import pprint\n",
        "# from sklearn.model_selection import KFold\n",
        "\n",
        "# v = [x for x in range(1, 51)]\n",
        "# v = np.asarray(v).reshape(5, 10).T\n",
        "# cv = KFold(2).split(X=v)\n",
        "\n",
        "# pp = pprint.PrettyPrinter(indent=4)\n",
        "# print(v, '\\n\\n')\n",
        "\n",
        "# i=1\n",
        "# for train, test in cv:\n",
        "#     print(f'TRAIN{i} = \\n{v[train]}\\n')\n",
        "#     print(f'TEST{i} = \\n{v[test]}\\n======================\\n======================\\n')\n",
        "#     i+=1\n"
      ],
      "metadata": {
        "id": "Oq_rMHpigHMf"
      },
      "execution_count": null,
      "outputs": []
    },
    {
      "cell_type": "markdown",
      "source": [
        "#### Задание 6.6.3"
      ],
      "metadata": {
        "id": "Y2QiozZE7K5f"
      }
    },
    {
      "cell_type": "markdown",
      "source": [
        "##### 1)\n",
        "В предыдущей задаче измените 10 фолдов на 20. Укажите полученное качество."
      ],
      "metadata": {
        "id": "BXhyqlcl8Gvu"
      }
    },
    {
      "cell_type": "code",
      "source": [
        "import pandas as pd\n",
        "import numpy as np\n",
        "\n",
        "from sklearn.ensemble import (AdaBoostClassifier, GradientBoostingClassifier,\n",
        "                              RandomForestClassifier, ExtraTreesClassifier)\n",
        "from sklearn.linear_model import LogisticRegression, LinearRegression\n",
        "from sklearn.tree import DecisionTreeClassifier\n",
        "from sklearn.base import clone\n",
        "from sklearn.neighbors import KNeighborsClassifier\n",
        "\n",
        "from sklearn.model_selection import train_test_split, KFold, StratifiedKFold\n",
        "from sklearn.metrics import (f1_score, accuracy_score)\n",
        "from sklearn.datasets import load_digits\n",
        "from sklearn.preprocessing import StandardScaler\n",
        "\n",
        "from tqdm import tqdm\n",
        "\n",
        "from sklearn.model_selection import RandomizedSearchCV\n",
        "from scipy.stats.distributions import randint\n",
        "\n",
        "from matplotlib import pyplot as plt\n",
        "%matplotlib inline\n",
        "\n",
        "RND_SEED = 42"
      ],
      "metadata": {
        "id": "jRV_3-Wg7c9J"
      },
      "execution_count": null,
      "outputs": []
    },
    {
      "cell_type": "code",
      "source": [
        "def compute_meta_feature(clf, X_train, X_test, y_train, cv):\n",
        "    \n",
        "    n_classes = len(np.unique(y_train))\n",
        "    X_meta_train = np.zeros((len(y_train), n_classes), dtype=np.float32)\n",
        "\n",
        "    if '.KFold' in str(type(cv)):\n",
        "        splits = cv.split(X_train)\n",
        "    elif '.StratifiedKFold' in str(type(cv)):\n",
        "        splits = cv.split(X_train, y_train)\n",
        "        \n",
        "    for train_fold_index, predict_fold_index in splits:\n",
        "        X_fold_train, X_fold_predict = X_train[train_fold_index], X_train[predict_fold_index]\n",
        "        y_fold_train = y_train[train_fold_index]\n",
        "        \n",
        "        folded_clf = clone(clf)\n",
        "        folded_clf.fit(X_fold_train, y_fold_train)\n",
        "        \n",
        "        X_meta_train[predict_fold_index] = folded_clf.predict_proba(X_fold_predict)\n",
        "    \n",
        "    meta_clf = clone(clf)\n",
        "    meta_clf.fit(X_train, y_train)\n",
        "    \n",
        "    X_meta_test = meta_clf.predict_proba(X_test)\n",
        "    \n",
        "    return X_meta_train, X_meta_test\n",
        "\n",
        "def generate_meta_features(classifiers, X_train, X_test, y_train, cv):\n",
        "   \n",
        "    features = [\n",
        "        compute_meta_feature(clf, X_train, X_test, y_train, cv)\n",
        "        for clf in tqdm(classifiers)\n",
        "    ]\n",
        "    \n",
        "    stacked_features_train = np.hstack([\n",
        "        features_train for features_train, features_test in features\n",
        "    ])\n",
        "\n",
        "    stacked_features_test = np.hstack([\n",
        "        features_test for features_train, features_test in features\n",
        "    ])\n",
        "    \n",
        "    return stacked_features_train, stacked_features_test\n",
        "\n",
        "def compute_metric(clf, X_train, y_train, X_test, y_test):\n",
        "    clf.fit(X_train, y_train)\n",
        "    y_test_pred = clf.predict(X_test)\n",
        "    return np.round(f1_score(y_test, y_test_pred, average='macro'), 6)"
      ],
      "metadata": {
        "id": "Nu0XejEe7v5T"
      },
      "execution_count": null,
      "outputs": []
    },
    {
      "cell_type": "code",
      "source": [
        "dataset = load_digits()\n",
        "X, y = dataset['data'], dataset['target']\n",
        "\n",
        "X_train, X_test, y_train, y_test = \\\n",
        "    train_test_split(X, y, random_state=RND_SEED, test_size=0.2)"
      ],
      "metadata": {
        "id": "CpElPVwR7c9K"
      },
      "execution_count": null,
      "outputs": []
    },
    {
      "cell_type": "code",
      "source": [
        "classifiers_1 = [\n",
        "               RandomForestClassifier(n_estimators=300, random_state=RND_SEED, n_jobs=-1),\n",
        "               ExtraTreesClassifier(n_estimators=300, random_state=RND_SEED, n_jobs=-1)\n",
        "]\n",
        "\n",
        "cv = StratifiedKFold(n_splits=20, shuffle=True, random_state=RND_SEED)\n",
        "\n",
        "stacked_features_train_1, stacked_features_test_1 =\\\n",
        " generate_meta_features(classifiers_1, X_train, X_test, y_train, cv)\n",
        "\n",
        "meta_clf_1 = LogisticRegression(penalty='none', multi_class='auto', solver='lbfgs',\n",
        "                              random_state=RND_SEED)"
      ],
      "metadata": {
        "colab": {
          "base_uri": "https://localhost:8080/"
        },
        "id": "Q3G3J3w87QBx",
        "outputId": "38922874-4bd5-4e3e-e6d0-7687b410b7b1"
      },
      "execution_count": null,
      "outputs": [
        {
          "output_type": "stream",
          "name": "stderr",
          "text": [
            "100%|██████████| 2/2 [01:10<00:00, 35.45s/it]\n"
          ]
        }
      ]
    },
    {
      "cell_type": "code",
      "source": [
        "print('\\nF1-score:',\n",
        "      compute_metric(meta_clf_1,\n",
        "                     X_train=stacked_features_train_1,\n",
        "                     y_train=y_train,\n",
        "                     X_test=stacked_features_test_1,\n",
        "                     y_test=y_test)\n",
        ")"
      ],
      "metadata": {
        "colab": {
          "base_uri": "https://localhost:8080/"
        },
        "id": "GDaU6Rco8md9",
        "outputId": "0436f779-be83-44d3-d81b-413b4678fb9d"
      },
      "execution_count": null,
      "outputs": [
        {
          "output_type": "stream",
          "name": "stdout",
          "text": [
            "\n",
            "F1-score: 0.984228\n"
          ]
        }
      ]
    },
    {
      "cell_type": "markdown",
      "source": [
        "##### 2)\n",
        "В предыдущей задаче укажите количество фолдов равным 5 и поменяйте мета-алгоритм на случайный лес со стандартными параметрами. Укажите полученное качество."
      ],
      "metadata": {
        "id": "ki4rZyHZ8acz"
      }
    },
    {
      "cell_type": "code",
      "source": [
        "classifiers_2 = [\n",
        "               RandomForestClassifier(n_estimators=300, random_state=RND_SEED, n_jobs=-1),\n",
        "               ExtraTreesClassifier(n_estimators=300, random_state=RND_SEED, n_jobs=-1)\n",
        "]\n",
        "\n",
        "cv = StratifiedKFold(n_splits=5, shuffle=True, random_state=RND_SEED)\n",
        "\n",
        "stacked_features_train_2, stacked_features_test_2 =\\\n",
        " generate_meta_features(classifiers_2, X_train, X_test, y_train, cv)\n",
        "\n",
        "meta_clf_2 = RandomForestClassifier(random_state=RND_SEED, n_jobs=-1)"
      ],
      "metadata": {
        "colab": {
          "base_uri": "https://localhost:8080/"
        },
        "id": "KMSmsnBD8fqs",
        "outputId": "647c91bc-0b52-4d48-a296-07ade3e05ac4"
      },
      "execution_count": null,
      "outputs": [
        {
          "output_type": "stream",
          "name": "stderr",
          "text": [
            "100%|██████████| 2/2 [00:15<00:00,  7.51s/it]\n"
          ]
        }
      ]
    },
    {
      "cell_type": "code",
      "source": [
        "print('\\nF1-score:',\n",
        "      compute_metric(meta_clf_2,\n",
        "                     X_train=stacked_features_train_2,\n",
        "                     y_train=y_train,\n",
        "                     X_test=stacked_features_test_2,\n",
        "                     y_test=y_test)\n",
        ")"
      ],
      "metadata": {
        "colab": {
          "base_uri": "https://localhost:8080/"
        },
        "id": "xYKf4xcT9q3q",
        "outputId": "f28124fc-b82c-4d26-a513-7a65ad67673e"
      },
      "execution_count": null,
      "outputs": [
        {
          "output_type": "stream",
          "name": "stdout",
          "text": [
            "\n",
            "F1-score: 0.981661\n"
          ]
        }
      ]
    },
    {
      "cell_type": "markdown",
      "source": [
        "##### 3)\n",
        "В предыдущей задаче поменяйте мета-алгоритм на метод ближайших соседей (k-NN) со стандартными параметрами. Укажите полученное качество."
      ],
      "metadata": {
        "id": "dav5q9Ik9x9R"
      }
    },
    {
      "cell_type": "code",
      "source": [
        "classifiers_3 = [\n",
        "               RandomForestClassifier(n_estimators=300, random_state=RND_SEED, n_jobs=-1),\n",
        "               ExtraTreesClassifier(n_estimators=300, random_state=RND_SEED, n_jobs=-1)\n",
        "]\n",
        "\n",
        "cv = StratifiedKFold(n_splits=5, shuffle=True, random_state=RND_SEED)\n",
        "\n",
        "stacked_features_train_3, stacked_features_test_3 =\\\n",
        " generate_meta_features(classifiers_3, X_train, X_test, y_train, cv)\n",
        "\n",
        "meta_clf_3 = KNeighborsClassifier()"
      ],
      "metadata": {
        "outputId": "880ef472-ca0d-409a-d187-033b989273d2",
        "colab": {
          "base_uri": "https://localhost:8080/"
        },
        "id": "U79GpuLW9-Y0"
      },
      "execution_count": null,
      "outputs": [
        {
          "output_type": "stream",
          "name": "stderr",
          "text": [
            "100%|██████████| 2/2 [00:15<00:00,  7.52s/it]\n"
          ]
        }
      ]
    },
    {
      "cell_type": "code",
      "source": [
        "print('\\nF1-score:',\n",
        "      compute_metric(meta_clf_3,\n",
        "                     X_train=stacked_features_train_3,\n",
        "                     y_train=y_train,\n",
        "                     X_test=stacked_features_test_3,\n",
        "                     y_test=y_test)\n",
        ")"
      ],
      "metadata": {
        "outputId": "e0d897c3-4a6f-4c14-ecc2-27e7a872cdb7",
        "colab": {
          "base_uri": "https://localhost:8080/"
        },
        "id": "4hiY6PDb9-Y1"
      },
      "execution_count": null,
      "outputs": [
        {
          "output_type": "stream",
          "name": "stdout",
          "text": [
            "\n",
            "F1-score: 0.98417\n"
          ]
        }
      ]
    },
    {
      "cell_type": "markdown",
      "source": [
        "##### 4)\n",
        "В предыдущей задаче поменяйте мета-алгоритм на градиентный бустинг со стандартными параметрами. Укажите полученное качество."
      ],
      "metadata": {
        "id": "XoEGHfgh-W1s"
      }
    },
    {
      "cell_type": "code",
      "source": [
        "classifiers_4 = [\n",
        "               RandomForestClassifier(n_estimators=300, random_state=RND_SEED, n_jobs=-1),\n",
        "               ExtraTreesClassifier(n_estimators=300, random_state=RND_SEED, n_jobs=-1)\n",
        "]\n",
        "\n",
        "cv = StratifiedKFold(n_splits=5, shuffle=True, random_state=RND_SEED)\n",
        "\n",
        "stacked_features_train_4, stacked_features_test_4 =\\\n",
        " generate_meta_features(classifiers_4, X_train, X_test, y_train, cv)\n",
        "\n",
        "meta_clf_4 = GradientBoostingClassifier(random_state=RND_SEED)"
      ],
      "metadata": {
        "outputId": "b98b9e11-7c0c-4fe3-91fe-def95ded85cc",
        "colab": {
          "base_uri": "https://localhost:8080/"
        },
        "id": "Q3ocTTu--h2b"
      },
      "execution_count": null,
      "outputs": [
        {
          "output_type": "stream",
          "name": "stderr",
          "text": [
            "100%|██████████| 2/2 [00:24<00:00, 12.06s/it]\n"
          ]
        }
      ]
    },
    {
      "cell_type": "code",
      "source": [
        "print('\\nF1-score:',\n",
        "      compute_metric(meta_clf_4,\n",
        "                     X_train=stacked_features_train_4,\n",
        "                     y_train=y_train,\n",
        "                     X_test=stacked_features_test_4,\n",
        "                     y_test=y_test)\n",
        ")"
      ],
      "metadata": {
        "outputId": "04ac1551-a5e3-41da-be1d-19a366fd53c5",
        "colab": {
          "base_uri": "https://localhost:8080/"
        },
        "id": "Zi0MK37T-h2c"
      },
      "execution_count": null,
      "outputs": [
        {
          "output_type": "stream",
          "name": "stdout",
          "text": [
            "\n",
            "F1-score: 0.984925\n"
          ]
        }
      ]
    },
    {
      "cell_type": "markdown",
      "source": [
        "##### 5)\n",
        "\n",
        "Используйте функцию `generate_meta_features` для стекинга следующих алгоритмов:\n",
        "- случайный лес из 300 деревьев, критерий Джини, максимальная глубина — 24\n",
        "- случайный лес из 300 экстремальных деревьев\n",
        "\n",
        "Для генерации фолдов используйте класс `StratifiedKFold`, который позволяет делать так называемые стратифицированные разбиения (в каждом фолде будет одинаковое соотношение классов).<br>\n",
        "Для генерации фолдов используйте класс `StratifiedKFold` и поправленный Вами ранее код в функции `compute_meta_feature`. Выполните разбиение на 3 фолда.<br>\n",
        "Как мета-алгортм используйте случайный лес из 100 экстремальных деревьев.<br>\n",
        "Посчитайте качество при помощи передачи новых признаков в функцию `compute_metric`."
      ],
      "metadata": {
        "id": "n2E1Fzhe-8gx"
      }
    },
    {
      "cell_type": "code",
      "source": [
        "classifiers_5 = [\n",
        "               RandomForestClassifier(n_estimators=300, criterion='gini',\n",
        "                                      random_state=RND_SEED, max_depth=24, n_jobs=-1),\n",
        "               ExtraTreesClassifier(n_estimators=300, random_state=RND_SEED, n_jobs=-1)\n",
        "]\n",
        "\n",
        "cv = StratifiedKFold(n_splits=3, shuffle=True, random_state=RND_SEED)\n",
        "\n",
        "stacked_features_train_5, stacked_features_test_5 =\\\n",
        " generate_meta_features(classifiers_5, X_train, X_test, y_train, cv)\n",
        "\n",
        "meta_clf_5 = ExtraTreesClassifier(random_state=RND_SEED)"
      ],
      "metadata": {
        "outputId": "f3a15449-ec8a-4e15-bbb9-3060ec84cbe5",
        "colab": {
          "base_uri": "https://localhost:8080/"
        },
        "id": "gJqBlSkP_dSi"
      },
      "execution_count": null,
      "outputs": [
        {
          "output_type": "stream",
          "name": "stderr",
          "text": [
            "100%|██████████| 2/2 [00:09<00:00,  4.72s/it]\n"
          ]
        }
      ]
    },
    {
      "cell_type": "code",
      "source": [
        "print('\\nF1-score:',\n",
        "      compute_metric(meta_clf_5,\n",
        "                     X_train=stacked_features_train_5,\n",
        "                     y_train=y_train,\n",
        "                     X_test=stacked_features_test_5,\n",
        "                     y_test=y_test)\n",
        ")"
      ],
      "metadata": {
        "outputId": "b099633a-27df-4d26-b963-91cce9e6110b",
        "colab": {
          "base_uri": "https://localhost:8080/"
        },
        "id": "6pbVFosT_dSi"
      },
      "execution_count": null,
      "outputs": [
        {
          "output_type": "stream",
          "name": "stdout",
          "text": [
            "\n",
            "F1-score: 0.986498\n"
          ]
        }
      ]
    },
    {
      "cell_type": "markdown",
      "source": [
        "##### 6)\n",
        "Обучите на тренировочной выборке следующие алгоритмы:\n",
        "- случайный лес из 300 деревьев, критерий Джини, максимальная глубина — 24;\n",
        "- случайный лес из 300 экстремальных деревьев;\n",
        "- логистическую регрессию со стандартными параметрами;\n",
        "\n",
        "Усредните их ответы на тестовой выборке методом сложения предсказаний и затем взятия функции `argmax: answer = (prediction1 + prediction2 + prediction3).argmax(axis = 1)`.<br>\n",
        "Посчитайте качество, аналогично функции `compute_metric` (F1-score с макро-усреднением, округленный до 6 знака)."
      ],
      "metadata": {
        "id": "cw4qjRitAsRg"
      }
    },
    {
      "cell_type": "code",
      "source": [
        "def fit_clfs_and_predict(clf_list, X_train, y_train, X_test):\n",
        "    predictions = []\n",
        "    for clf in clf_list:\n",
        "        clf.fit(X_train, y_train)\n",
        "        predictions.append(clf.predict_proba(X_test))\n",
        "    return predictions #.reshape(len(clf_list), X_test.shape[0])"
      ],
      "metadata": {
        "id": "wNJFHRHp_YGS"
      },
      "execution_count": null,
      "outputs": []
    },
    {
      "cell_type": "code",
      "source": [
        "X_train.shape, X_test.shape"
      ],
      "metadata": {
        "colab": {
          "base_uri": "https://localhost:8080/"
        },
        "id": "uyeVl2SKJ5zu",
        "outputId": "82539fbe-11ce-4468-959c-114a405c7aa0"
      },
      "execution_count": null,
      "outputs": [
        {
          "output_type": "execute_result",
          "data": {
            "text/plain": [
              "((1437, 64), (360, 64))"
            ]
          },
          "metadata": {},
          "execution_count": 74
        }
      ]
    },
    {
      "cell_type": "code",
      "source": [
        "classifiers_6 = [\n",
        "               RandomForestClassifier(n_estimators=300, criterion='gini',\n",
        "                                      random_state=RND_SEED, max_depth=24, n_jobs=-1),\n",
        "               ExtraTreesClassifier(n_estimators=300, random_state=RND_SEED, n_jobs=-1),\n",
        "               LogisticRegression(random_state=RND_SEED, n_jobs=-1)\n",
        "]\n",
        "\n",
        "predictions = fit_clfs_and_predict(classifiers_6, X_train, y_train, X_test)\n",
        "# predictions.shape : (3, 360, 10) - 3 классификатора, 360 объектов тестовой выборки,\n",
        "# 10 вероятностей для каждого класса"
      ],
      "metadata": {
        "id": "DwAbES80Ft7q"
      },
      "execution_count": null,
      "outputs": []
    },
    {
      "cell_type": "code",
      "source": [
        "# суммируем вероятности для каждого класса каждого классификатора,\n",
        "# argmax дает класс соответствующий максимальной суммарной вероятности\n",
        "answer = np.asarray(predictions).sum(axis=0).argmax(axis=1)\n",
        "\n",
        "print('\\nF1-score:', round(f1_score(y_test, answer, average='macro'), 6))\n"
      ],
      "metadata": {
        "colab": {
          "base_uri": "https://localhost:8080/"
        },
        "id": "smk7SLAgIWV4",
        "outputId": "9eb4fa46-855a-47d1-bd12-ca2ee579353a"
      },
      "execution_count": null,
      "outputs": [
        {
          "output_type": "stream",
          "name": "stdout",
          "text": [
            "\n",
            "F1-score: 0.976259\n"
          ]
        }
      ]
    },
    {
      "cell_type": "code",
      "source": [
        "a = np.array([]) #.reshape[]\n",
        "for i in range(3):\n",
        "    a = np.append(a, np.array([1, 2]), 0)\n",
        "a.reshape(3, 2)"
      ],
      "metadata": {
        "colab": {
          "base_uri": "https://localhost:8080/"
        },
        "id": "8tqzZ5N3DFor",
        "outputId": "ccd0ee41-b687-4047-e036-2489771e6bcd"
      },
      "execution_count": null,
      "outputs": [
        {
          "output_type": "execute_result",
          "data": {
            "text/plain": [
              "array([[1., 2.],\n",
              "       [1., 2.],\n",
              "       [1., 2.]])"
            ]
          },
          "metadata": {},
          "execution_count": 41
        }
      ]
    },
    {
      "cell_type": "markdown",
      "source": [
        " ## ML-7. Кластеризация\n",
        " Задача кластеризации: найти отображение множества входных объектов $\\ X $, которое разделило бы множество $\\ X $ на подгруппы. Кластеризация — это обучение без учителя.\n",
        "\n",
        "Формальная запись задачи кластеризации выглядит следующим образом:\n",
        "\n",
        "Пусть $\\ X $ — множество объектов, $\\ Y $  — множество метод кластеров (идентификаторов их принадлежности). На множестве  задана функция, которая вычисляет расстояние между объектами:$$\\ \\rho\\left(x, x^{\\prime}\\right) $$\n",
        "\n",
        ". \n",
        "\n",
        "Также дана конечная обучающая выборка объектов: $$\\ X^{m}=\\left\\{x_{1}, \\ldots, x_{m}\\right\\} \\subset X $$\n",
        " \n",
        "\n",
        "Нам надо разбить выборку на кластеры, то есть поставить каждому объекту $\\ x_{i} \\in X^{m} $ в соответствие метку $\\ $ так, чтобы внутри каждого кластера объекты были как можно более близки (то есть расстояние должно быть минимальным), а объекты из разных кластеров значительно различались.\n",
        "\n",
        "В задаче кластеризации входные данные задаются двумя способами:\n",
        "\n",
        "Признаковое описание объектов: все объекты описываются некоторыми характеристиками (значениями признаков)\n",
        "Матрица расстояний между объектами: для каждого объекта представлены расстояния от него до всех остальных объектов выборки\n",
        "Некорректность задачи кластеризации — решение задачи кластеризации принципиально неоднозначно:\n",
        "\n",
        "Нет точной постановки задачи кластеризации.\n",
        "Существует множество критериев качества кластеризации.\n",
        "Существует множество методов кластеризации.\n",
        "Часто заранее неизвестно число кластеров.\n",
        "Результат кластеризации зависит от метрики, которая задаётся субъективно.\n",
        "Для чего нужны разные подходы кластеризации?\n",
        "\n",
        "Разные цели кластеризации:\n",
        "Упростить дальнейшую обработку данных: разбить множество объектов на несколько групп (кластеров), чтобы в дальнейшем работать с каждым кластером в отдельности\n",
        "Сократить объём хранимых данных: выделить кластеры и оставить по одному объекту от каждого кластера и таким образом сжать данные\n",
        "Выделить нетипичные объекты: выделить объекты, которые нельзя отнести ни к одному из кластеров\n",
        "Построить иерархию множества объектов: задача таксономии.\n",
        "Разнообразие условий задач кластеризации.\n",
        "Подробнее про условия задач мы поговорим в следующем уроке.\n"
      ],
      "metadata": {
        "id": "bI3zAp8d9kDg"
      }
    },
    {
      "cell_type": "markdown",
      "source": [
        "### 7.3. Условия задач кластеризации\n",
        "Форма кластеров: внутрикластерные расстояния меньше межкластерных, ленточная структура, кластеры с центром, кластеры соединены перемычками, разреженный фон, пересекающиеся кластеры, кластеры отсутствуют, кластеры образуются не по близости расстояний.\n",
        "\n",
        "![clusters.png](data:image/png;base64,iVBORw0KGgoAAAANSUhEUgAABHEAAAIRCAYAAADNzCEhAAAAAXNSR0IArs4c6QAAAARnQU1BAACxjwv8YQUAAAAJcEhZcwAADsMAAA7DAcdvqGQAAMPaSURBVHhe7f0N0GTVmd8J1hdVFB+FhGh3F12Suo2Z8e4iSwhasoR3XZ4NiI5VtNEMatzqtSos3N3jpsZqgeTqBbstaLcEphy0P4RkV0eFCNna1Qx+ZTQdTMvEVuPo6d0OZmskEKCiim8ovXwKKAqEABVn83/fPDefPHnO/cqbmTczf7+IJzLz5r3nfp/znP95zjnrHAAAAAAAAAC4t956y73yyivu5Zdfdj/60Y/cc88951ZXV7Pfb7/9tvvpT3/qfvjDHw7Zs88+m62rbcWJEyfcm2++ma0P0DaIOAAAALC0fP/733e/9mu/5t7xjne4k08+OfuuZQAAsJhIaHnttdcyoebFF190Tz/9tHv88cez38eOHct+HzlyJLPDhw/n3x999NFMsDl69Gi+LDSJOS+88EKexkMPPeQee+yxTASSyKP9AowLIg4AAAAsLe9973vdunXrhkzLAABgcfARMkJCy/333+++973vZaK9hBoJLWF0TVsmgUj70L4k7Dz//PPu1VdfzYQdiUgSdojYgTog4gAAAMDSsn79+hERR8uEHG4JOvqtTyJ0AADmBwkjEkgk2vjuUM8880wm2CiqRhE1MdFlGvbEE0+4e+65xx06dCg7Fh2XhB11wwIoAxGnIdaxu+KKK/pLAQAAYJ4oisRR1yq7XL8BAKDbSAiRYKMuTRJIVG9T5E1MTJmlPfXUU+7hhx/Ojk3H+Mgjj2THTFQOlIGI0xDr2J100knuG9/4Rv8fAAAAmBfkOKfGxNFvK+LoNwAAdA8fwaJBhxV1o+5LMgkjEktiIkqXTMeoY1WUkLpbaWweRRBpnJ6f/OQnCDswBCJOQ0LHTs4fAAAALA4q25eprFeDFFHGADBPvPHGG3nEjUSPmEAyj/bkk09mETrqcqXBkSVMvf766/2zhmUHEachoWPnQ68BAABgMVim7lSKPjrllFPycyXKGAC6jCJTNIaMIlh8d6l5iLipaxo754EHHnD33ntv9l3nDICI0xC6UwEAACw2qhj4yBR9+m5WHpX9atTRf/PuB/zhH/5h7td4o4EKALqIBiv2AxTfd999E51ZqismAUfnqunLARBxGqJwPTk81113nfv2t7/dXwoAAADLgLobqRHHCx76Pu0uSBKV1KikLt4Sk+x4PnW58cYbhwQc2aJ3HwOA+UNThaurkca70aDAs5xhatrmz1Xdx370ox9lY+dovBxYPhBxAAAAAGqi6JxQ9NCySSBxyEcD2Ygf/Q6PoWn0jMQfulMBQBd588033XPPPZeZBIxQ3FhWUzcrDYasqCTEnOUCEQcAAACgJuMIKBJHtG6VAYS1ro34kdDio23aFpLqHBcAwDSQOKEIlEOHDmXjwsTEjGU1jQGkLlZ+PKAf//jH/asGiw4iDgAAAEBNJHjYyBV9rxK5UjfiJSYWqTt36r+qQhIAQNfRdOEScDRD04MPPhgVMrAfZrNX6RrpWsFygIgDAAAA0ACJL3UHNq47gHAs2kbj8YmmQhIAQNc5fvx4Nm24xr5ZxFmn2jYJOLpOmr3qxIkT2dhBsLgg4gAAAABMiboDCKtb08aNG/N1FbmjCRX8oMZexDnjjDMQcABgIdAYOBrnRREmMcECKzaJX5qxS7N4wWKCiAMAAAAwJZoMIBwb2JiuVACwaKj7lCJwVldXo+IEVs0ef/zxrHuVZvGSIAaLByIOAAAAwBSRECPBZZwBhGPdrLQMAGAeUfcfRd+o+1RMmMDqmbpWafYqCWJvvPFG/yrDooCIAwAAAAtBG+LIvBCLxDnrrLOy5eqepWuxTNcDAOaTt99+2x07dizr/vODH/zAPfHEE1FRAqtvisTRNdU05C+//HL/isMigIgDAAAAc4/GibFTcWscmUUWLvyYOBJsTj75ZLdt27ahsXP0fdOmTUtzPQBgPpGAo4gRWUyIwMa3I0eOZFFOEsxgMUDEKcG3YvlWrVnSpWMBAADoEpqxyQsW3pape1Gse1VodLcCgK6haJFpCji33HJLNhD8jh07su+xdRbVNHMVs1YtBog4BYStevo+q1asLh0LLB8q5CQeqgJw4YUXZi3AAABdou7U3YuGzjU8/9CW6XoAQPdRZIimxo4JDpMw+bNbt27N80R9XyYhR4KZPhkjZ/5BxCmgS616y97CCLNFAo599qgIACw3XRxrpcmsT4uEztWe/+bNm92WLVuW9noAQHeReCN76aWXRoSGSZqib3ye6E3LYusuomncofvvv989/fTTROTMOYg4BcRa9WRyXNuIRFAa3gkuS3PZWxhhtugZtc8eAiLA8tLlsWdUjqq8VMOHjnMaaD/an/bbhm8wDv78b7zxxuz7LK4HAEAREg8kKGgWqmlG4cjUjcr6szIti627qKZBjtV9TbNXMf34/IKIU8Czzz6bDxoYvvDqUjIuSiOWppwufVdFWfvWMWiZHcDQLwOYBvZZZXBMgOWGyNABimyxgpYiYSibAQDSPP/88+6ee+5xjz/+eFRkmKQte3cqbxJwdA802DHMJ4g4FSmKRFCFVr8VGVMnVDmWpra3s0t4U0sawKxQpcRHjSHgACw3N91000gZtayRoTrv8FpQXgMAxPnJT37iHnrooSwaJCYuTMMk2izrwMbWJKLpXpw4caJ/d2CeQMSpSBiNo9+iSSuctok5ftrW9me3ppZPAACAWXP55ZcPlU9qeKjTgLFIhI0xslmU100bkwAApsVPf/rTbCyWQ4cORUUFbPqmiBxEnPkEEaci6r5knTT9FnVb4STwpISaWD9Nb7TsAQBAFwgbNVSmLStdiMRp0pgEADBtfvzjH2eRH0888URUUMBmY88991w29biipGB+QMSpiMbHkWN22WWXZU7bVVddlTlJoTMr04CCKfRfuL43zSQRLtuwYUMmGGn/AAAAs0bjstlySr+XFfkB4Rh20y6vq/ohdpw/Ha+OG7EHAKaBZqJSHhQTEbDZmkQ1jY+jQaYVLQXzASJODdTaZaNo9H337t21WsAkBPl1Y2ZDs5UWYdEAANAlUpGpMBuqRgPF/A9tCwAwSRThMe2pxLF6duTIkWzGquPHj/fvGnQdRJwaxBwlLavTF10CjxWCQvPpqKUMAQeaoGdMz5CeJQYhBoC2sXmMPonmmC1Vu1MxqxgAzAJ111GeFBMPsFHTYMsadFnDbExz4OX77rvPra6u9u8adB1EnBrEQpa1rC7KyNQidskll4ykd9ZZZ/XXAmgG04EDACwXVRqTiMQBgGnz2muvZVEeTz75ZFQ4wIbtk5/85JAor+9aFlu3bVN3qsOHD7tXXnmlf/egyyDiBMj5SUUx6D8bRZPq7mRbKcM07H8xUYhWMRgXPUM8UwAwT/hx5xQtos9xxpVROasuXhqrR+WsvmvZJFC644yJE9t+UsfKmDgAME3efPPNbPYjiTgx0QAbtdCH9358bN1JmAaeVlmhMYyg2yDiGOTMWJFG6mco0niRR05QTMARcpJSadj/Yi8qrWIwLno2eaYAIIUvx1QG6bMLFXlbNsr0uyk6J5uWbFL5YGxfEqGqMs1jBQCYJi+88EI2nfhjjz0WFQywUVM3qrBM0LLYupMy3TfoPog4hrZCjYsq0eF/VsiJiUYAdSkSEQFguQkbK2TjCCZtEZaN+t2UVEvmJIjtS9FEVZnmsQIATAtF4agLlWY9igkFWNw0Bs7WrVvz8kDfpzkujrfXX3+9fyehqyDiGGLTfzdxJMPpV20asf8kHmnq8tNPPz1z3rRMLyxAE2y3hG9/+9v9pQAA8caKcQSTtgjFDP1WA4j/rCNGa32blqxJg0wVYvsiEgcAlh1NVf30008zFo6xe++9111//fXuc5/7XPap37H1Dhw4kP1/7bXXZt9j60zaHn744ewTMae7IOIYqnSnKsKGqKfSSEVJhI5cF5xqAABYLGKNFWpcmDV2QHZZKOqovKwqSqssV1m7SGPiqGFH//v1aOgBgK6iKJznn39+RBiYhSmvrDLTkwYPVv6qdYvWG8cuvfTSoXJNv2PrdcGeeOKJTGRitqrugogTYIWYOrP6aDsrAGn7WBpyzmLp67d9sfUbAACgTVQGdbE7lS0bw8YQb3W6KU0S6yfoMya6tI2EG3st9BsAoGsoAkcCwAMPPBAVB6ZpEmOqdE3SMjUU2PUmEQGzbdu2fB8y/Y6t1xW7//773SOPPJKJctA9EHESyCmzrWN6wYsIHSxZkZMVpq8XecOGDfm2+g9gkthuV/qs03oMAPPLLESIusTK1DrdlCaFrtUsRLBQ1NJvAICu8eMf/zgbzFizHMWEgWla1UGCY+upO1O43rgWy8dj63XFJOBIyHn11Vf7dxe6BCJOAjm29kUrEmREuL5My1LE1j/77LM77VTDYqGKh33+utAaDwAgwvxJwkkXysUmYwrpuFWuj1O+h6JW2T4BAGaBulGp4h8TBaZt6kJl802ZllVZT+PRhOuNa+9///uH9qHfsfW6ZD/4wQ/cM88807+70CUQcRLE1NIiwu5U+q5lMbTcpu2tK6HisBxQKQCAqkh48JF70xgw3UcKatB/OdgqUzXGjcSdWYo5TcYUUmStXb9KpK2usY+S1PkqGtj6GAr9D6/FtO8RAIDl7bffzgbEVXeqmCAwbetadyqlqagf1Sn1OatBi+vY0aNHmXK8oyydiCMnp0qLmP7zL7OsSgXXh6hr3ZSAo/1ZR8zaTTfd1F8LYPLUFSoBYDkJyy07KP+kCctimZbNilgZXhbFWDev1bW1FQrtz/suNh2ZvxazvEcAAOK1115zhw8fjooBszIJNBJMujCw8bwaIk43WToRp2qLmBwi/acXWqKMXug2iLXiebvgggv6a62hY5BzqP13oQUSFosmrcMAsHzEuhBNS0gJBRBZmQgyaXyDjY5Dn2Xlcij66HcRMbFG96DoWszyHgEAiOPHj7sjR45EhQBsfk1TxUP3WDoRJ3SCrDOo2aK8UzapFiwNlGX3b80ei4g5cjhl0BaqeOh58s88AiEAxFD3nLAsCsurSbEI5WBdEUfX1q4v0z0ouhazvEcAAELdqTQldUwIwObXHn/88ey+MktVt1g6EUdRLdbJ8d2kUuHLbRNztLz5Y/HEHDmcMgAAmCZFUR4qO1V26fckGj+UphVB9L3OfrSujk1lpz5nIVaHZXlZOa7jtOvLdA+KrgWROAAwSzS1uCJxYiLAvJjGqFFj++c+9zn3ta99bei/e++9N/9Pn/pt/69jfj8aPHkexsXRGEcPPvige/HFF/t3G7rA0ok46hYlh1NOlD59Nyl9Dx0gdX0aBzmLtkuWukPt27dvSCyyds455/S3XEORQXZdfdcyAACAaaFBhn3XXpVnKtdUvrVVRiktlbcSImIii5bpP60T+98TDgas32F5O4tuo3W7rurYQ99B98D/F7sWqXsEADBpfATOOMLGuKb63DiDBmt9Owiyyg47Ns6ll146lI/rt92+qinNKoMtd83uueeebJDjt956q3/XYdYsnYiTItXyNQ6xNOVg7d6925111lkj/ynjCfGtiNquTusjAADAJFGZVaUcK6IouqQO2sYKNkpHM1v5397qHl8bSExROa596xNxBQAWiddff9099thj7r777osKAJO2UICR1RVZYsNdSAzy/2/btm3oP/2221c1pWnTkdn9dNU01fgjjzySRVtBN0DE6RNzAMd1tGIOrk87dFxlEmoAAADmgVhDhZbVoY00RCqdcBnlLABAu7z00ktZd5tZDWocE2DqiizqJhWmoXqc/z+s09n/ZIqm0QxYEmSKImtidcMwra6ZRLKf//mfz47z3e9+Nw0RHQERx9D2wMYxB9Kb/lPos12m3yE6Dq1LJA4AAHSJsDHCN1DUIeXQ1iWWjiJxwsaSWDnr0bGrrK3rA7TtOwAAzBOavUhdqZ566qmoCDBp09gyNp+XaVbf2Lop0xg4tjF/48aN2bTj/v/3v//9Q+nrt/9P69lt9d1u6+1LX/qS27Bhw1A6qXW7ZOG5z6JbMoyCiDMBfN/00Hm0JkdR66nLlu/Dr/Fy/Hf9F443oAxFaTLdOAAAdAGVQ0Xj2ZQROrQyLauLykuVkT4NlZ0aE0fHZMtZP7ZMSFje6ruWlZHaLwDAMqABjdWV6v77748KANOwNrpTyRRBo0gaifKhsKJ9+P/0qd/+v1gjgpbZ7WVhlyyVdV0YD6fovGXh+ek3zB5EnAkgR9E+7KHFWiv12zqQEmlimYI1tfoBAACUoTKmSVSn1m0SnVIVpRsr2yS+6FPlYNV9S1Cps74lVt5WcVRj20kwAgBYBjTt9EMPPZR1pwor/9M0K0SEIsukTfsLywEtC9cLywv9DteZtoUCmOqiobAUik/yCWD2LLWIMynnVA6cfdit6YXVwMYe7Vf7D9fzxxUut6a0AAAAilA5YyNDYw0JMZpuV4fUPtSQ4Zf55ZOMPo2Vt1pWRmw7NeQAACwLP/rRjybelaosWmSWpmOrMuNUW4Mjt2llAzrLwpm5irolw/RYWhEnFjrdVgh0bFpTa94ZLVpPXaa0jl4UCTqbN292mzZtyv/XdjoHrTNOKDs0R/evLEQfAGDWtClQVNmuLhJtwgYV/Q73/YlPfCL7bxKkxKQytI4txyctNgEAdA2NiWMr/W1b2Xg1XTBFtGhsHh3XL/3SL2UCjepyEkB8VJDGxNFyCVH61G+bhsYV+tt/+2/ngpDOWb8nGVUUG09IAzTbdXRcEns0+PPv/u7vZpFXMHuWVsTRCxQ+tE1DoGMh3PrU71h/f5mmGC+K2ImpnD5NObf6LgudTpzH6aBrbwsUVGkAmBVW8I+NmRYTRFRmlYn/se20bBroPMJ9y3FXeTspdC2aNIpYQb/OdgAA886LL7448VmpymaO6pJV7VoVs1hUTJ3tm1iV7lTWDh065J555pn+3YdZsrQijsQQ+4LI5IDVJazMh0KKvtt9WNP+Yst1bFUcwbbOAeoTXvtpVWwAAEJiZYGWeULB31qR+B9rKNCyaSAhyh6nNznuAADQDRSJ/oMf/CBa4W/LqnT56YrFggSqCk4xscpvr/PVZ1EEksSXKtOch6Z1q6Qv84IdzJ6lFXFizmmTFrQqQkr4vzftzx6DxKA6DnIso2gaTQT1CK+9fgMAzIJYWRDmSSpbYuWVrEj813YSqbXttAQcofLRzvrkzR+HPnVc0zwmAAAYRl2pDh8+PFLZb9PqRovM0iSG2DJLVlVwSkXi2DI+de5aVmVcnnHtkUceycY/gtmz1AMby0kcdzyZWLi50rR86lOfGnJG9V3LhPar/Ut8qTsmzyTH9YFidO3tPb3wwgv7/wAATJeYOKNlMWKCT1fFfwk0YUOHJgYIG2AQcgAAZoMq9KrYxyr8bZqEHD8ui8bIia3TBdNxahyc2Jg4ZRYbEydWZodj1si0rMp649oTTzyRGcyepRZx2kDOoxVSUhE9k2o5VFqzaCWF4bGQmoqAAADjovynaEwciwRn6+R1XfwPGzpiDSdaBgAA0+fxxx/PLFbhx4ZNXZVUb6jT3alqZM84EUB17fjx4/27D7MEEacFYgMb1yEm8IybJgAAQIhEEZUr81q+6JhDR1XLAABg+vjuNbHK/mLZqvvh6jM9e7pnz7ofPv1c77Nn/tP/11tvdfWHbjXY/pZbvupOOkkRNmszDSvapkqETthNSg0vs+xOJXvllVf6dx9mCSLOjAm7RMm2bNkyNKtV11tKAQAApoFEJ7pTAQB0g1glfzFNIs7T7odPP+v+f/cdcZ/+wr9zH77ii+6XPv3P3LVf+Y/uf7//8JqQIxGnt/5Xb7nFveuMM9y7d7w7E1N27PiFXpklAWdNxJGpe1h8X8O2tv3kBjaua8eOHevffZgliDgTwLZ0SqQpQuv4l7nIGLAYAABgct2TAQCgHorKiFX0F85Wn3aHH3nCff6mfe6v//a/dH/tt/61+69/8yvu3N/8sjv/qq+5j/7G77uvf+tPsvV+/ZOfdCdv2ew29epv63u2+aST3IYNarDXWJoDEefaa6+N72sC5scU0j6rjtGTMs1Q9eabb/afAJgViDgTwE6NqiialJMpsaeqiFM0ewhAHagAAQAAAMA4vP322+6FF16IVvTnwapGuGS2+rT7vX/3Lfd/ufImd87ur7ntV37Dved3v+O2f/Zb7ozf+g/u//gP/rX71O/vy9Zbv3G927hls9vYq79JxMls/YZenXBLr063NilK1e5UbZjOs82uVhJx3njjjf5TALMCEWcChAMvpvrrS5ix66VM4eIXX3xxlskordSAlQBl6NmhKwIAAAAAjMOJEyeyCn2sot9l892ObEP62lgzX42un9nq0+5vXnmju+DvXe92/P1/6/7Sf/91945/8D+5n7/6dveX/uFt7q/9D19xH/3Nf5att+M9O9y6jRuGRJwdO97tPvnJX+/tc9PEuzuFpv358/SmZbF1qxgiTjdAxJkAmh3EviipmTM0Fbldz67/2c9+NutCJaFHAg7TWUMbxJ651PMJAADQRXxEqSphZd3WAWAyzIuI40UbCRef/vSnh6JSrO3Y8Yu99VfdV3rrazybXxgSW552H/zNG92F//1N7r1X/0f3s5//X9zJv/Mdt/G3/qM7/bP/i/uF397n3v9bN2Rj5tzy1a+6raed5jb0053kIMNVLNbrQ8ti61YxRJxugIgzAWx3Kr0ku3fv7v8zTBgVkep6Fb58+g3QhFj0VypSDAAAoGtU9Z0AYLKoO1XXRRyJJ1a0iQka3tav39Jb/6vutK2nZOPZnNSzXIBZfdp9+Df+wP31f3CT+5nf+CP3M5/5j+7kK/+TO/OqP3ZnfOY/uff+/X/lfum3vrQm4nzlK+5d27dnEThnnnnmTAUc2SQicRgTZ/Yg4kyAO+64YyiTKOqyUqU1Sf/bF4/ICWgK3akAAGCeoTECoDt0XcRRBE6YX8RMPR4++cldvfX/ktu4boPbtG59JuLoP6WhSJyv3vYdd/FVf+j+D5//f7mf/53/0Z1+5W3unbv/R/ezV/0nd+E/utX9g5u+5j55xWfcSVu2uHX9HhQSmUvH25mwaeydSy+91G3bti3rLaLv44zH88QTT7if/vSn/ScAZgUizgRou8uKKt7qQiWhR+lI0QVoip4nOcF6TvV9kmhqfN8t8Nlnn+0vBQCYLcr7FDUrh1blqr5POj+EdqBbMEB3ePjhh91TTz0VrezP2lRfikXe2GX6LtuwYYPTNOBnnvmzbsO69dl4Nn52qXedeab74epqFmXzP/+//1f3od/4A/e+T3/J/Z9+61+6c//eDe783f/aXfT3f8/9xXe/79afdIZbt7633UmDWaiUfuz45tU0IxnMHkScCUArEbSBIrOU8evZmcfKhSJ81ALh3wFVkgAAukAY4SqjnJ4PVB7SnQqgGzz22GNZZEassj9ri3Ujkl+tcXHiY+Sc5LZsOc1t3nTSkIhz8pYt7sCf3uV+uPpMJuT8b/c/5D75+19zH7jyy+6iz/07d+3XvuMOPvBQ779n3I5f+Ktu3YZeWusH+xyn61IX7fjx4/27D7MEEWcChA4GXVagLosggISVJFpKAaAryJG3+ZNMy2A+UBmpMkb3jIGNAWaHKvSxin4XLJXP23WGhZ4NmSkqJ1vX2PW///u99VfXbPXpUev/95WvfMVtO+3U/qDG693Wradn4+zYfc6zHT16NJtWHmYPIs6E8A6GKq4IOFCXRRBAwsKTChIAdIUwj5VpGQAAVOcnP/lJVrn3466oi6rGXhl33JU2TGPR2AZROz7N1772Nfe5z30uF2ys2WVexPmnv/dP3Gpvu9D8vuyyP+2d99/7u590Z5xxZjbOzoEDd/XsT9357/+A29Lzhf31uffee/Pt58UeffTRLPIKZg8iTofxffZVgVemSJ/95UH33BYouv/zhlpHmRofALqIL18ZEwcAoDkvvfSSe+ihh6Jdl7rQjUjj4ug41H3KzxKlTyvuWFPXKnWx8v9LwDmlt0zCjBVqvPn92GVf7aW/LeuiJR94Sy/Nd7h3nXmW27huvdts9nX99dfn28+L6V7rE2YPIk6HoaVweVmE7lRi3sf1AQAAAIA4zz//vLv//vsrdV3qisUEp7WBjXfkQo8idnT8dllVi6UfM0UCxbbvsj344IPumWee6d99mCWIOB0mliHK6KK1HCCAAAAAAEBXUSTOPffcExUutCwmBMzaYvWrNgWVVP0ttHmMxJFgx5g43QARJ0IszHoW0yOrEp8K99NyBvMDAAAAAIBZ8Nprr7n77rvP/ef//J9bGxPHj1cjkWMS4+ooysZ291edSvuMrVvVdJzvf//7kwKOIn38//M6Jo4GNVYdmSnGuwEiToRYNyZNGz4L7AwM4TFpGQAAAAAAwLTRwMZHjhxxhw8fjlb861o4Xo3GqJmUkKN6VJPuUjEr60LV1aikuvbiiy/27zzMGkScCDHB5Lrrruv/OxskIoXHxPg4MCusuEhEGADE8FGtDM4PALCYvPXWW9mMRepmE6v017WYGFLW7Ugij7azoky4bBJCkLVY3dGbhKg2hKIu2Kuvvtq/8zBrEHEidCkSxyPH95RTTsmPR98ZF2e58ULKtMdICp9FtZjwLAJASKwspfEBAGBxePvtt7MxUh5++OFopb+uxcSQsvFq1DXJri/R5Jd+6ZeGlmmd2LZtWUx8CgdLnndTd6o33nijf+dh1iDiRPCth7MeEydExyUx6cYbb6Q1c4p08bp/+9vfHgo3neYYSboOtpCS6T0BALDEnHEtAwCAxUJCTqziX9di49Xs3bs3i8bx4+SEY8movmbLGVlY/mgdu41M0TkSdzRGjf4fZxwfbTfvY94U2ZNPPpnVgbpQH4Y1EHEAClCG1cUIKHXvs4WTbFqVo5tuumlk37SuA0AIkTgAAMuBBrttKxonHK8mjLQJo2okmtj/ZYqCsb+1jt1GFoue0bJwPWxtavGHHnqIQY07BCIOQAFdHYtolsd1+eWXD+1306ZNdKcCmAMkSl944YWZc+yjTCcZXai0GROnuyiiUw0CKk+a3he1yvp7rOdKz1dRWlpf+yvaryptPj196ncRSlPlkt3my1/+cv9fAJg0J06cyCr63/ve90Yq/21YKNKEgkwo8lTtTqX8wq4j07JwvS6Y8kEJTGecccZMumcpqkjROG+++Wb/rsOsQcQBKGDSXYess1rm/Fqs4zzJypHSlKNtu5KFYaubN2/OlgNAtyEyBjwS3m2XXEWZVi1DtK2eG5VbZ5999tDzJCt6plRW2XVj+1W5ZtcpK3Nj0aFKFwCmh7pTPfDAA+6JJ56IigDjWCi2hEJLOIixfOtwWayblJbbdGVaFq43a9P5SJjyxzjtgZKfeuqpLJ9+5pln+ncbugAiDkAByrQm2Z0qdFa7VKHSecbOva6DDQDdIHSEZVoGy0dM0JNgX0ZYJsas6JkKyw9ZuN/wOS17RmPdi2UAMD001bgEnLa6VFnTWDP23dbv2Hp1TcKOInQU2WPHxJFde+212fg7MfHHm/4rGqunLVP0jT1/mZbF1p2EafaxRx55hJmpOgalHEAJvtVRzmebAo6o66xOk5iTr2VhS6p+A0D3Sb3TsHyEZY9MYkgZElzC7UIreqaq7LduQwEiDkA3eO6559zhw4ejQsA4JrGkLKqmLasa9aJjsOvJYl222rBZRww9/fTTmUinmcigO1DKAcyQ0FntUoUq5mxrmVpidZz6rk8vcun3tGbIAoD66N2d5pg40F2UV4czwGiMnDJiXYwVmaPnSc+VxkhT2qnnSs+f3Tbcr39GNSipf05VgSriM5/5zFCasg984AP9fwFgWhw/fnwiIs40rapgosibcL3Y4MnWmopRs+5O9fzzz/fvMHQJRByAGaJM2Du/dcbEmQZyxO2YCfoeE2msU65KAUIOAED3UV6tsseL8VVQGWW7U6lc0LayWPfbEG0fNgJ4qqYREjaGyDRODgBMFw1wrMFvY0JAGyafWeLHJAf3Vd4U5idaFq6nLlRV1rMWDsBcJ3JnGueespdffrl/h6FLIOIATADrHHdJmKmLHGidg5zklDMdFnj6DQAAi4kvF5TXe9Fev205INOyOjRNIyyDZFW6hgFA+6jbTUwIGNckXEwjGkVCic1LZFoWrtckEqdslq0umsbC0Sd0D0QcgJaRg2sjWBZ9zJiwFbSu4w4AAPNNTEjxgn5M9IlRlEYRsUicKoM0A0D7aNyUo0ePth6RM63BfdXFSREyGuhYIosf7DhcT4MY6z+to3xKn1/60pdG1rMWzu6q37H1umKaleq+++5zL730Uv/uQpdAxAFomdChlKCjZcrku9Zlqg3UErLI5wcAMGtsPqtP/Z4mytfVIKFKh/YfjqckcSbW/Vbj3djlRV1uU2mUEV4bHduzzz7b/xcApslbb73lHnvssazyHxMGmlrVCJku2zjdqWZhP/jBD7LZxt54443+3YUugYgD0DKxkHBrRKoAAEAdJE7YckS/UyjyRf+rrEl1g61LqlyzIktsv7GZoyS2pJjEsQPAdNFsRhJ5JebExIEmJrF2loP7tmFNBzaehSkK53vf+172nVmpugkiDkDLyPG0rYmhFTmw00QFrBxlHY8+iaABAJgOKid8/lsl2kTrVSlHlG6TwYHLCPfvTWVdUfqxKcl13gCwuLzyyivZWCr333//iDgwjkm0kfgxi8F9l80UhXPkyBH34osv9u8qdA1EHIAJIKfciyPWoZ6GA2v3nRJmQkdftuhj9wAAdAHlyzb/LRNCRNVIHOX7dj1ZG2VOLF1vRek3OdcyaIAA6D6q/Gu68QcffDAqEmDdttXVVXfs2DGicDoMIg7ABFB/fIkicrTlaHprY8wYbX/jjTdmLZxhWhJwNOaAd5i1vxCtE4sU0lgHddC+dQw6FpxoAIBqNIlOUXli10+J7ipn7HoyLWuCbRDYvXu327x580jaVdKXaONFF6U5LlWvBQDMFvnCisZ54oknokIB1k1jTLH5ABEHYAJMKoQ8jKDRdyughA58zLkO1/GWatmNETuOcVtXAQCWAQnfNu+VKf9VXu7Ff4nq+u7zdznVKlc0xow+U052KNLru5YpnZT4H0Pb2AYBpbNly5b8t7e2hJk6xGZ4AYDuoenGjx8/HhUKsG7ao48+mnWHg+6DiAMwAeoO5lgVCUFhunLKPeH/XpjxLaH6fdZZZw2t461Oa2bsONoQqQAAFh2JKLEuRm3lq0pLeb221XdZXdE9JfaH1ka5Vhedmz0GX84BQDd57rnnooIB1j1TF7hnnnmmf+egyyDiAEyAcFpV3xo6LqHzKlPrqkeVA3WhkmOtdTXwW9gyq9bVbdu2Za2XcuZlp556qtu3b18/lXJix4EjDQBQDS/a2EiWmHBSVSRRGlrXCzeWJuJQbBs1AITHOIt8n+5UAPPFj370I/fQQw9FRQOsO6bBqBWJo2niofsg4gBMCO+ky8nVd5m+x5zsqmi7sEW1LDQ+VTFItQZXIXYcTc8JAACaRzgq77VCvfLjiy++OMvnbZcoa/qviFiaWvahD31oKJ1xBRSlWbdcVNml9XUO+iwrAwFgtqhL1QMPPJBFecTEA2z2JgHnvvvuywYzhvkAEQdgCsg5bUv0qOv0aj3rdMu0bNxxe7Rvre9FKgCARSccm6ZNAUFpSRTxZYWm0S3LW0Mx3ltMvLd22mmnlQ5eqYjS8Dyrjs1ThTBKVN/biFgFgG7x05/+1B09etTdc8897vHHH4+KCFh181OtK5//5Cc/GV2njj311FPZvdEA1G+++Wb/rkHXQcQBmAIpIWUaqBIQE5AmNW4PAMCiEnblUX7appATy681M1RKuI+VLVXtpptu6qdSHZ2r9tlGFExMaEqVQTpvv1+EHoD5QxEe6qqjPCMmJGDV7MCBA27r1q15ninxW6JObN2q9thjj2WROOr2BvMDIg7AFJADbh1VmZZNCxWaajW104GH4/Yo7B7nGAAgTSwvV97aFjFRxoodXoT3xISQqiYhvy5tjkcTO1ctC1GZZYUtlVuhmAUA1VBUjKItNHPUj3/84+xTvP322+6NN95wL7/8cia4aIYidYN67bXXsv/bQGlKLJDFxASs3K699tqhPFOmqM3YulVsdXU1u8+6/zKYHxBxAKZArHW1C04orZsAUIbyBuURyiuWvfIcE00uu+yy/r/jU0WU8UKH7kVszJvTTz99SKBPWRMRJxSxxmmMqFouSiSz+5TFxB4ASHPixAn39NNPZ11mJKI8+OCDI+PUaLm61ci++93vZp/333+/e+mll9yrr76aiTyaaUq/X3/99UaVfolC2t4KCYtqiprx3Z70qd+x9erY9ddfP5IfKu3YumWmblSKwoH5BBEHYErIOZXD2/WK0LwcJwBMHgk4ViiQOKAovnlH0R2KItEsfcrv9F3LFJau33K69anfFs3+Z51nWZtRjErHCjAxUUfHFUZSWpMY8q53vSv/rTR0njatDRs2uG9961v9vVZH6fg0vPlrpWtYd4wcXXNFiEqo8VGiIfo/3Kf2BwBpJLAowkJIfFF0jQau1Xv2gx/8IJstSt2bnnzyyWgFX6ZKfjiGzb333psJQKr8K4pDkTsSiOqg2Y9smotql1566VC+pd+x9epYm92p9DxorCKYTxBxABYYOdRyrH2lRBWQlKMswgqEvrdVOQGA+SMmIjSJ4JgmEp8lQivfSwnR+j88L7+NXRaKBco/7f/edJ3awgrpl1xyyci+NEZObEyzOrZly5bCskAo79d5WUFf5UksPW9tdi3z6DhtxI7KJRoYAOKoq5SEFQksR44cGaq0q8JufzcxCTsSgBSh873vfS+L5GnS5Ur+qUSE2D7m1cLIGyu2yLZt2xbdrq61MbCxorAkxnmhD+YPRByABaZuGHqswtZm5QQA5ouY2DGJinpbqHJfpYtOKq8Ll8fyv9g1KcpXxyG1r1jeXteK7qOumRX0/XWUoKL9x66fbFICn/Z91llnZftI3VOAZUaRN+ouJVHFm6JlYhX4Ns1H5Dz//POZePTMM89kXa8UbVOExsfRthITiqKB5sne//73j+SJ1hTJGNtumiYRTpFYDz/8cHa/GAdnfkHEAVhgYq21sUqJJ1ZhUFeBshZbAFhMYpX5LucHKdEjJLVeWSSO0DWxQlEqMkTLfJpVRAe/vvJoHwEZE0u0LIxOaWJFgkvq+lhi6+i4/Tnos61nJbzmCDkAa8KN0GDFGmdGETKxivs07dChQ5kwo7F3NH6OunKl0KDKig6SqBBLa94sll9ba6M71bgm8UaiWZsDVsNsQMQB6Aix0PVxqRuJEzrK3hRCDwDLySTypkkRc6K1LCSW1ynS46KLLhpaFuZ9NhJFArc+veBiCdMvEx3C9b0wpH35Zd58Hu7/1zEoTD9cr8yKInGqXEftPxT4yq5fU4quA8CyoimhFfmiSJhYhX1WJqFAgyJLnJFI42fAiqEZsiQ+hV2/pmFtdEuyFubD6k5lu1e1MbDxuKboG0VKwfyDiAPQAVQJmMTgoUVj4ug/OfFqjdWnH5BSjnnowCsEFABgXJT/KE8KBxSOoeU2j/LbxvIzj/JSKyzoe0xkEdpWMznZvO7cc8+N5ouecGDjVF6tY7TrybQsRWp9f85F10u/zz///Hw7TTf7z//5P89mzdI2ulb6POecc/LvSic8N0usTIpdR527vT/hwMdtlR06ZpuuTMsAlhGNe6MoF41pIotV1rtg6tIlMUeDKhchMUpj7LQxZk9Va3OAYG+TGMi4LVNklLrb1R2EGroLIg5ABwhFE1lRqHsbyIm3+9PvsDXYG84yALRB1YgKCQJhXiRxwv6Wxbb1ESrKt/S9iDDv1e8iqubVVc/TU3d9S2xbiSrjItFG56v0y66jJxRb2io7wrJJ36seE8AioW4wqpSr21KXBRxvXjxQl6/U+CsaP8cLU7E0JmFtTtXtLRzYuAuRNzJFRmlWMUXhwOKAiAPQASblhBcRc7ZjxyGTwAMAUEYooIS/YyJITDhR/heuF7PYtnWI5YNFhOvLYnm1zrWO6BCur1bhovUtsWs66UaAFLHGgbbQ9bDPEsCyoW4wim7xU3zHKuxdNokJ+kx1r5LII6FhGmP7XHvttUN5lUwNBbF159l0LWUvvPBC4fhEMH8g4gB0ALU6K0xfzrgcVDm+RaHudVDaqmTIqbdh/7Gw91gFRcvaOhYAWFxCIWLz5s3ZVNb+t/7zMwxZU8U8RPlVuF7MYtvWoa7oEK6vc1IeG6Ou6ODXVzmQ6gIWQ9vYY5JNuhEgha6FPwd9pq4NANRHkSqKbIlV1ufBNDOSphWXAJUSFLT88ccfzyJHJnmuk+hO1SXTtVYXtUcffTQbdwgWD0QcgAVGDnSqdTdWeQkrYfpepfIBABATgUM79dRTs7ymaIwXIcFZ+ZXdVuO+aH1tJ5EgNiZOXSRQe5Fbn2WCtfZnu3Upj5Tj3xZKv8r1sej/STUCAMBsUVcjTcetCJVYZX0eTbNXaTDmlJBz/Phx98gjj2Tj6egzlkYb1vbAxl0yCTiKwCkbjwjmF0QcgA4i4UTOuFoyxxFRVCmxlSCZ0hRy/GMtpm3tGwAWg6pjo+j/ML8JTetURfvS+mEeNUtiearyy7aIXcM61wwAFgcNQqvxZDT+zSTFjGmbokMkMkjI0Vg4MV588cUsEkcROfPYdWyWpmdG0Te6hqlxiGD+QcQB6BiquITRME0rL7EuCaoQAQAUYQUUmc8/ivKjMO8KTf8ViUDzwKTzVHutbfoI6wDLh7pPaZruSQg46k6k2ZMU9aepsfV9mgPxSshRt6mirj4SeF566SX3/PPPR9PABvbkk09mkTea4QvhZjlAxAHoGHLWQyf+xhtv7P9bj7BLgqaMrTPWAgB0iyYzBtVFIk2RGFM03oqOKbaN8rU2j1dpzULYiM1osmHDhv6/46PzCdMPRbRpni8AzAZFUSgCZ1LTbqsbkc1nZOPOztTU1F2sTHiQoCORYtpTkc+D6TnxEUu6lrAcIOIAdIyYE19UaSpDDr/SVEUAAQdgftH7KyHW5wsSaO1g5W0h0djmP6GVicqx47zyyivzcWfCSB79rjOmi9K34rS+a5muRWofbRG7NmrJLqLOcel/OyaOFXC8aTkALC4aE0ZRKpqJKlZpH8f8ODBhviJTfhPbZtJ25MiRTLQqwnctk5Cj6KRYOstofqp5dU3TcwPLAyIOQMeQ6GJbwfV9UhUSAJgfYhV6iQNtc9NNN43sx1vV/Eiiio5XAvLu3buHRJcwjbrCdew6aFnRPtpCadr8WSbRJYXy83GOK3ZttAwAFhcNZiyhQl1kYhX3phbOyBTarCJxJFbpXMtmUZKQI7HHR+TM80xdbZi62enaqbuZnhlYLhBxAGoiB9y2lE5iJhDtQy2+k2xRBoD5oq7Y0ZSUiKP9S5RQnqTvXqQpy6PKjruuOBVLz0b+eJvEtRE2urHs/MvOvYyYqK9lALB4qEuRKuPyKWOV9nHt2muvHcqLvNkxcb70pS9lv5W/6VO/Y2m1aX46bIkyr776av9qpHn99dezyBOJORpbR99j6S6iSbjRWEnqNqXZvX7yk5/0rwosG4g4ADUZ1ylfNGyFTq3vADAZxo3qqIoEFJu/yfR+ez70oQ+N/Kc8ICUu6H+7vsyKNHXz1JiwEdvHZZdd1t+iPWyEURUxpezcq6D9zGL8HwCYLooyKeoqpGmwlacoYkbdomLrFFlsTC8JNXYd/S76f1ImIUdTiqsbWWrGqpCf/vSnWXSORB2NB6NuRYs6Xo66nH3ve9/LRJwqQhcsPog4ADVpwymvihx2Oe5y4LvqvCsSyV8HVTCpZAAUI+FFIoWi7UIRxv+nPCU23k1b475oW727ylsUVajvPj3tw4pF3rSuBJxYHijTNjEhV8uKxvLRfv2YOBJkzjjjDHfVVVcVnp/+s9GKXlyxx6MBh9sUlmPnUZZ+2bkDAHgkYKiyHqvES7Sx+bK6RdWdTSrWnUoROHadMB/Vb/v/JE0CxX333ZeJMnV55plnMhFHQpDGiZEoFNvHPJkEKXWX0jn57nWMewMeRByAmtRtNW6KKiZha3MXBRJV7Oy10PUBgDh6h1PvdfjOy2Gf1Dsfy8fsu6v9xtYpMzn8MbzIojRT56Sxc2wFom6eF1Y+ZKnjaULT9KucOwAsNxoPpmgg49hgxIqs8QMVK49RpE5sW5nWk0B+5plnZqb1tV0oBNWNxBk3Oig0CVlNxndR9M6PfvSjTPhQNyuVp5OYmn2apugiP16Qxr2h6xRYEHEAaqKCYdJj4ojYLCjaX9fQdej6MQJ0hSLxRGJw6r86eAFGjnUqUkT/hfvSspDYekXW5HiF8tXYvqqmp3MeZ/sqKK1Jpg8Ay4nGNlHkSCoKRyYBJsx/FMFoo3MU9RcTcrTMrqfvKcGnzpg4SiOMNPza174WXVcmwUiRP/IblbYfhydc76WXXqrcpSpE3askdigNjbEjYeeFF17Irq9EkbYHi27D/LFJfPJCnkQ9dRdTVJI+AUIQcQA6SlsVuklDdyqA6sSEBi0T6iaV+q8qVaN5qgoSsfVi5yCrEzkTRqd84hOfiKYpq5Jm7DhVuWgzP1JatiJUN1IIACCGGgKLZltShIuiZ2z+pm5RH/vYx4aWyZSvhtvH8uzYenUtlu7nPve56LqyWDSRloXrSczSYMUa6Lktjh07ls9qpbFlJJbMevwcRR2pq5S6kOl4JOZoXCSJegBlIOIAdJSwMtbVCoOOUxUoFeapVn8AWCMmNmiZqCvcKj9Q5JvW8XlD1TS0fpX8RctsS6vsne98Z/a+2+X6ru5QVVCaVgzZsmXLyD6sVcn7YpWJooGNlZ6ui65fWdoWukYBQJtIqFDFXeJCrKIvASccx0aCjpbHBiqOiSJVxRPf5Ur/VekaFUtXxxRbVxbLp7UsXE/doNoewFfRLBJyNLOTxBsJRRJQbJerSYs6mklL4/VIvJFIpS5SEm4k4r388stMEw61QMQB6DASSFQpiw2AOgmmvb8UKtBSg64CzCt6ri+66KLckdWnfvtn2z73+k+h8qnnXmKCFUL0XcvqdMOs8r4rTQ0QbNOT4KLlqWMoQ8dj06tiqXPwXHzxxUMVBB1LagDhpscNADAJ1PUnVumXFQkw4UDFysti4sstt3y1t97pvXU29Wx97/spI+tpndN7aW3opbM+W+fU3rKvDK0zbKu9///tUF5aNthy0blYU5cniVoqEyeBF3QkpKjbkkwDI0vUuffee90DDzyQT1+eio5KmRWCJNZoQGKVr4r+0XeJRrrfEu/8lPIATUDEAYAMFTJdifypG5EAMA+0+VxbwcKbloXvsRzscd7j2H5kWp46hjJ0zuF2ZRa7TjpXLQ+PRd+LooKaHjcAQJuoAq/ZhqwIEFpsLBwt8/9LNFH0i7ox2fFoVvu29nu1t95d7rd+a7fbtu2dbuvW07I8b23Mmxuy/89458+6k3tpn7Ruvdu4TsL9Sb39nJWnN2yruWmf2reOoUjAken/KmPiyLzgMa3ptCXs6F5IYFG0jo7BCzg6hldeeSWL3ikzCT+vvfZaJgwpukZClCKttL2WaawfjdsDMC6IOACQ0SXhpI2xQQC6RpvPdUwI8e+r7yqktMeNMIntx++r6BhCdBw6Hv0vgcW23oYWdq9KCcp2PK7QUsch6hw3AMCkUHcaRZzYLj2hKWLGRtvoe5WuTsO2JrhIaDmpl4Zsc9/O3LY2+9S7d+xwG9etd+szAUcROye5HTt+waRRzT74wQ9mx6k8/NOf/nR0nSomAUVC/dNPP92/WrNHoptEGI1ZY03LZG2O4QNQBiIOwAJjW6r1qd8WW9mLdXFoWsEcFyJxYBFp87nWu9skcs6KKVpfpnff/7bo91lnnTV0vDIf3SMxJvwvFgGjda1oo2P98Ic/PLSdN38c4XHGKOqWVZR3Kb0m1w4AoC1U4ZdYoS48oYARmkQbdTtSBE59AUe2JuIoYiYUcU7q5ZVaR+metvWUXMTZunVbb9lXTRrlJtHG5sMy5cWpmbDKTAKXhC4AGAURB2CB0ZgatjDVb4/Gi7AVKxW0Mv9b/81qnAjGxIEuoGeuzeewzpg3VdC2Gs9G4pBECKWt41T6/ljDfdp3XC2lmzapxXX0ndenzR9kGtBY0UR+rBmlaf+XaVlIar1wmaxOnqNzjaVRJe/StdF1m/X4XwCwnChyQxE4qQGNx7dBlye/7Av/5J+4rb080to7t27Nu15pjJszzvhLbseOv9wXcAbbWvPrD7prrVk4fprNk5uJTz/MuiEBwCiIOAALjK2wyfTbk+raoZZvVbBomYZlR+9C+I5oWVtIaPDv3LjvW+pYY9E/RebziDDvsP95YvvUOuG5xNbTuYfLZOE+ipA4FW7bxrUEAJg0r7/+ejZT0cMPPxwVL8a3YQFHIsq7tm0bROD07fStp+TrDLaJizfWYiKOzY9Diw1gXMWIxAGIg4gDsMCErd22lZwuSwDFVBEy6iKBQe+Z0rHpq0vPOBEhqWONibVFpu5TIia8+PxBx+nPIVzHrufROduoHn+usa5a4bZF2OPQJxE1ADAvaBBdzYSkKaZj4sX4NhBi/u+f/KQ7uZcHS7zZ1DfNQCXbsH6j+9P+4MIH/vQu9/4PXNDLU0/KBj+WnXzy6e7SSy/LBkb+9//+P7izt5/tNva2P2XDBvfh8893f/7nf57vZ/PmzSN5ujc7GHMd0yxRGigYAIZBxAFYIFSJ8d0r9F0tLxJuVMnRp357vv71r48UspqmFwDWkDAQviN1RIYQvZN2LJbQ9N42JXWsdSNxTj/99CyvkMCiAYb9cjtuTBgBE5rym5BY1JE+7fWw+wAAWGTUTUhTWceEiyKTH6eoFuWnVcea2dxbV1E3mj583cZenivbcMaabTzNnfWun+2l+xX3l3vpaoaqU3r2jg3r3Gm9Twk+69ad0tvnuW7jSe9w69af3LONuRj0+c9/Pt+Pji3WpWqc7lSapWpSU40DzDOIOAALQqxCVNQyzQxQAAP0rkjw0HuhTzmNWubHk6kyJk7Z+hJYw3fOmv5vit932Zg455xzzshYNynTmDlnn332yLgxqbFoZFXGo7EoXV1vxqYBgGVCY+LERIsi03TcdqaqquLIL+zYMRBxNvS2l538M2sizrpTenn9ZvdX/sp/7bb0yohTNqyJOKf27B3r17mTM1HmlF75cWpv/dNHRBwNlmz3JWFJZc2ZZ56ZWR2xKWaKxDl69Gj/qgGABxEHYEGItcQXtezHWujHiTIAmFckHlgBVCbhI4UEU4kiNqpExN5B+07F3jlvZaJrm+iYdVxyrmWx4/Gm/z1+u9h6Mok+sdmpAABgmJ/85CdR0aLINEV4mO9WGWvmNz/96UygWbeuZ1vOdOs2nuHWKapm4za3eeMG985eOr9w+klu9y9f4H77//xfud++6K+4/9t7T3Pv27jO/Uy2n7Xpxjdufpdbt+G0np3s1veWy2wkziTs0UcfzaYbB4BhEHEAFoRYZUxRBSnCiqtadGyFFGBZiIkrEmli6B0JI978exN7B60IEr5z+k8WikF18eKK0qoTBSO0rRekisao0Xq2e1XK7PUAAIA4GrD3ySefjAoXKbv22mtH8tyysWb+7ic/6U7p+XeKxFm3foNbf9Jp7ox3bXennroWUfnzPbvq/PVu5aq/4R7/w/+r+98/83PuyDV/xd33jy90B37zPe7Sd2917+rl/T+zdatbLwFHkTgbNrtNGza4C4IxcWRf+9rXsugcCU6KHLL/NTFdIwk5ADAMIg7AgqDKm+0moe9+KuAUqlSqAiuxZ9++fXm3i7AriLpk+PXK0gSYN+p0LYxFoniho+g/zziCS4w2xVhtlxKoYgJPysJzBgCAYSRM1BVxmnSnOqlX1kjA8SKOxsNZv/l09+lPfzorh/7qlnXuP/zGee5/u+m/c/d8foc7/I/PdQ/+7l92393zfnf/P/kl99kP/3w2No5snbpUrT/Z7XjPL0b3pWOxfqiOtelYONaOHDnSv2oA4EHEAVggVOGKdfOoQlH3Kgk6ftk4lUSALhIb5Ftjx1j82DLhejIftaP3wkar6LuWebG07rgv4Xg2+pRDbPnMZz4zdCwyfzxN0PHpOHW89ljDfRTZOPsHAFgGHnnkkUYzU6kMqDaw8drsVO/prevHr8m6U23Y5DaetNmd3vv9zvXr3K5ztrhDV5/tHvjsz7kf/z82umNXrXM/2r3OPfkPt7nXrvtF9//8O+9xP9tbV7Zu3aaebXTrN2yMTjGu4wrLg6ZTi1t7+eWX+1cNADyIOACQURSNoEqZXU5LOywSMQEzFCJi68hstIrei/B/RbCkolvKqHJc4bspm8T7WTUSp875AQAsKw8//HA2YG9MtGjTvnLLLe60rVuzacE1ts26Tb3yaOPJmYizbf069/mL3usOXfVz7rFrf9G9fPVJ7oX/YZN75aqT3NHfOdM9vnub+//8o7/hfq63rmz9uk25nbNjh/u3QZSNfMawTNAyu04TO3bsWP+qAYAHEQegImGr+IUXXlirVb2IVOv3NFE3KRsGq+++u0c4G01YkQSYZ6p0p4qtI7OCRcyBjVlVkaXKccX2OQkRRWlu3rw538emTZuGfssk9CDgAACUMy0RR/anBw6437/+enfR3/hv+gMTn5aJOJqB6qq//m736O++x93z2+9wT/+DTe6l3znFvfa5be6Hn/1L7pnP/Zz7X6/+6+7s3nqyjetOchvWbe7ZlrXZq3p+4pVXXpmPgfM3/+bfzAa492WC/MhxZqbyJv8bAIZBxAGoSKxVvI0Wb1V6mrbUlyFBSMeoip4+ywQi7VfrSaSxx0B3Klhkmkbi6L2y74LenXCdmIVCTIpxInEm8Y6G+UP4GwAAqjH57lSjdv31/8yt26Cpwk9zW3plhaYT/9vnbHP3/bO/4f788+9zL3x+nXvu6nXumc+uc9//7Q3u6D8+y/37T7/bndFbV7Zu08aebXbrTur5rNn3gWAj0xg4EnJ0bDpGjbujTw2+XGdsHD9NubbVdhoT5+233+5fOQAQiDgAFakz+GkdYhU/LWuDcAwP/W6CFYPaGIwVoEvo+bZCauxd0Tp6/u06MvuuSsgIBdmiGZ/KqHJc4TvurU0xGAAA2uWll16KChhF1mRgY2sHDvyp23rGz2ZCjkScbZvXuQ9uWedu/3tnuwdv/FvuR/9onXtxz3r3/OfWuUc+f7p76tp3ud+76IxMwHlHr/w77R1nFIo4MkXkaF86LnusVQc51jo2Klzb/cmf/En/qgGABxEHoCKTisSJVQzbEIdE2EoftuIDwFpXyYsuusht2LAhe0/0KbFSwu1NN92Umbo7nnrqqUPvU+ydkvCivMIPYiyT0KL1wlnfPOE2Fv+fjkWfYVi5/lc+FB5X7NiKUDplxwkAAO3w4x//OCpiFJkEkjCfrzJwsB2E+Jav/Du3493nZN2e3v3ud7t3b93qLjpznfvsf/OL7pt/d5v7/177V91/+Vzv+2/8gvvCRT/jPvJzp7tf6O3jq7fc4m756lfdSaec5tadtNWt26iZrtbKTGvqWqX96LjC/6oca2y73//93+9fNQDwIOIAVGRSY+LEpgZvK9olHMtGvwFgDd8dyIs3ZaYxYOzsU21Eu8Sid+qkqTzJbxtaHZE5JgS1IVIDAMAor776qnviiSeiQkbKrr322pF8Wl2VYutaG55JSrNWDeyf3/Al93PbtrnTen7tKb30NJX4O3t2pj57y/791742tP6tX/u6+0ef+0fu05/8pDsr8DE1VtrXsvV/mB2X/U9W5Vhj2/3Tf/pP+1cNADyIOAAdQJU2iUOqNI1bKbSEFTz9BoBR8aSqqXuU3lO9r228q+OKJzqOcHtZXTFokhGBAAAwzHPPPefuv//+qJCRsqbdqUZEnNW+KJN9/tA9vbr2/zs2rs9EnO2b17l39D5ll//tX3E7dvzlXnlwcu/zv3J/euCubJt3n3lmtq4tM0477bT+PtrtTvVf/st/6V81APAg4gAsML6rhSpj+qR7BMAaMfGkirUtbMTEE1nV9zW2vbatKzDFroeWAQBA+7z88svunnvuiQoZRSaRQ12OlPdXHdh4WMRZs1tu+bdux7v/sjvjHT/b+/7VzDae9LNu3foze/m/GgdOy2zbtu3593Xrtrr/9tL/LktLs1PJwnJjeB9rxzrOwMb/8l/+y+xaAcAwiDgAALB0xCJY1K1KjqOiWGJdrOp0dVT3Sz+WjcbUufzyy7PujNqvHW8m7E5pTV02y9A6dbeJoePx3UUZEwcAYLIcP37c3XvvvY1mqBrXJKhs3Xp6r8zY1LMtbvPmbW7LljPchvWnuPXrtvbsZLdu/Wa39ZQzMtP3zDZscme8451ZGif1ykiZLX9k4b7aMAAYBREHAACWjrA7Vdj9SOKKBB11n5LV7T4VdmUMzaepaJfdu3dHI2G0/zIktGhbratPhBcAgO7z+uuvuwcffNA99NBDUeFikrY27owEGJnGeVNZeIrb1Ct3NvZsw/qebdrgDvzpAXfyqSe7dRt7ZZJs0zp38mlbszQ+8Xf+jttkxsTReDif+MQnRvY1jkngUrczABgFEQcAAJYSiTISPuoKNFWoM96OF5B0HHa5fgMAwOJx4sQJ9+STT2bRODEBo21Td6kzzniHe/eOHe5dZ56ZCTZetFm/blNmW3vfNfX4ST1797vXZpK69OOXunUbemVS3y79by9dS3N1NZutSoKQuj3V6S5V1TRm0KOPPureeuut/lUDAA8iDgAAQItIkLFiTBWTmBRG7+g3AAAsJs8//7x7+OGHowJGmyYBZ6371Hq3vle2nLxliztl8+YhEeekTSfnIs42MwixonF2vGeHW79xffap31m6GhS5PzDyJOzo0aPue9/7nlvt7ePtt9/uXzEA8CDiAAAAJFD3JI1tc+ONN1buqhRG1HjTFOX6Lxalo+V2HB196jcAACwux44di4oY45odyHjHu89x69afnI1ps6FX3sjOOu00t3X9+ky4OblnZ2zZ4s488xfdGWe8191yy/7edk/3bTUfGDlmdp9t2iOPPOIeeOAB98ILL/SvFABYEHEAAAAiKKKmaNycFLHxbTRQsoQabd80XQAAWCzefPPNqIjRpq1fr8HzN7l16zdkkTgy353K2o4d5/TW708/PmRr6UxDvPGmrlQScl599dX+lQIACyIOAABAhJgYo2VlSJBJzTilAYg1kLHWkaij9BBwAACWkzfeeMM99thj7siRI1Exow3TlN22TNL3rVu3DpVNMo1vE9t+2vbEE09kUTjqbkZXKoA4iDgAAAARJLiETq6fMeqOO+5wGzduzJbpU78tfnYrv06YBsINAABogGON+3LPPfdk48DERI02TGPc2EGI16YZHwg5+q5lEnxURk1qsOIqJhFHn4pSAoA4iDgAS4wqkooEUIGtSicADCiKxPnQhz40tFy/Y+jdsut5qxLRAwAAi89LL72UReJoJqZQ0JikxYSdMIq07WnDqxjTigOUg4gDsKRokFY7LocKbqIDAAboHdEMUer2dPLJJ2ff/eDGoTij3zF8RI5dV6Y0AQAANIW2onEOHz4cFTWmZRJzwrJKvuG0I3I02DMAFIOIA7CkaPabsLCeZnSAKsNEAcG8ooGK7buj3yk0Bo4VchjIGAAALK+//noWjfPUU09FhY1pmKJybLnmbVpj5ag7mcbCQcQBKAcRB2BJ0ZTJYUE9zeiACy+8MN+vxg1ByIF5omp3Ko9EGwYyBgCAFK+88kpU3JiWxbpTyRShE1u/bdOMVA899FAmaAFAMYg4AEvKrLtTVe2OAtBFygY2BgAAqMuLL74YFTjGtXD8m9g6Mo2BY32zaXWnevjhhzMR5+mnn2ZGKoAKIOIALDESbVJdmor+awNFJVhHYZpduQAAAAC6hmarUreixx9/PCp2NDGJMLGZqGLryvSfxB75f5qtKrZOm6bz1excTz75JFE4ABVBxAGAEb797W8PhdROoruTnAQJOXIS1LXKDxgLAAAAsIz89Kc/zQY51tgwfqptb/fee6+7/vrr3ec+97nsU7/t/ymLjXUzrXFuqthjjz2WCTg//vGP+1cBAMpAxAGAEa677rqRAp/uTgAAAACTRULOM888437wgx8MiR2XXnrpkF+m3/b/lMVmnZrWODdV7NVXX83OGQCqg4gDACPMeuYqAAAAgGXlzTffdI888kg20K8XO7Zt2zbkl+m3FUNSVrc71bRMkUYSqxgDB6A+iDgAMMKsBz0GAAAAWGZ+9KMfZV2mJOZI9FBEtPfLZPodCiMpk2hTZWDjaZm6UGkcHIk4AFAfRBwAiCIhRxE56lqlMXIAAAAAYDpokOOXX37ZvfTSS9msTe9///uHRBz9jgkkXTeJUg8++GAm4PzkJz/pny0A1AERBwAAAAAAoKNozJg/+ZM/yWeN0ueBAweiIkmXTd3DDh8+nIlTANAcRBwAAAAAAICOonFjHn30UXf//fdnU3LHBJKumyJw7rvvPvf888/3zwoAmoKIAwAAAAAA0GGOHTvmjhw5ko2T8/jjj0eFki6buoVpnJ+33nqrf0YA0BREHAAAAAAAgI7z2muvZWPJSMyxM1d10RQxpOgbCU6abQsA2gMRBwAAAAAAYE544403ssgWCToxAWWWJvFG495o9qmHH36Y8W8AJgAiDgAAAAAAwJyhGaxeeeUV94Mf/CAbMycmqkzTFHUj8UazTz311FOZ0KTxfACgXRBxAAAAAAAA5hCNMaPolwceeCATT5544omowDINU/cpiTcvvPACXagAJggiDgAAAAAAwJwiIcePlaOBjzWL1TTEnCeffDKLAnr66aezgZd/8pOfZF29AGCyIOIAAAAAAADMMeq2JBHl+PHj7rnnnsum8n7xxRez7xoEWVEyEnYUKRMTZKqYtpdQpDFv9KkxbyQeEXUDMF0QcQAAAAAAABYQCSyrq6vusccey7pbKUrne9/7XjZ2jRd0JPB4YUafhw4dyrpnff/733f33XdfJgRpfBt1k1Ja+nz11VcZ7wZgRiDiAAAAAAAALCgSW15//fVMiJEgIyFG4+gockfTlkvMkYAj81E7GihZ3aUk8nixRgMpI9wAzB5EHAAAAAAAgCXipz/9af+bywQezXIlU3csRdlomcbaQbQB6B6IOAAAAAAAAAAAcwAiDgAAAAAAAADAHICIAwAAAAAAAAAwByDiAAAAAAAAAADMAYg4AAAAAAAAAABzACIOAAAAAAAAAMAcgIgDAAAAAAAAADAHIOIAAAAAAAAAAMwBiDgAAAAAAAAAAHMAIg4AAAAAAAAAwByAiAMAAAAAAAAAMAcg4gAAAAAAAAAAzAGIOAAAAAAAAAAAcwAiDgAAAAAAAADAHICIAwAAAAAAAAAwByDiAAAAAAAAAADMAYg4AAAAAAAAAABzACIOAAAAAAAAAMAcgIgDAAAAAAAAADAHIOIAAAAAAAAAAMwBiDgAAAAAAAAAAHMAIg4AAAAAAAAAwByAiAMAAAAAAAAAMAcg4gAAAAAAAAAAzAGIOAAAAAAAAAAAcwAiDgAAAAAAAADAHICIAwAAAAAAAAAwByDiAAAAAAAAAADMAYg4AAAAAAAAAABzACIOAAAAAAAAAMAc0EjEObF6t7t1zyVu3bp1I7Z9115328od7uDqG/21AQAAAAAAAABgXBqIOCfcsQPXuO0RAWfYLnHXHDjaWxsAAAAAAAAAAMZlPBFn+zXuwDEr0xxzhw980+3ddd6akDPyPwAAAAAAAAAANKFlEafP8bvd3p3b3bp1F7g9B57vLwQAAAAAAAAAgKZMRsQ5ccjtv0QiznZ3yf5DpkvV6+7w/l/NonS27zngjvWX5uTbGfHn2AG3Z3tvX5fsd4ejQT3PuwN7Luht86tu/+HXKnb1svtX9NDtbuW2vW6X9mPX0fg+Bw6749l6lrJr8IY7urI7+v+Jw/vdJdHt3nCrB65zO/XfzuvcgdiYQv5aaJ2YjVyjXpoHv+72ZIKaX2+727lnn7v94Kq5LyHa7o/d/qFxj85zu/aurI11VHYc3kbOMYjU6lnRNT5++C63svKNofXX0t3l9t52lzt8PHIGsWfIkLr+6fsSwz/H4fPtWTv22/buGjyLRcccpclzKSZ0z4coWvf1Bu+gZ/T5WLdzj9t/+0G3mjzwyDZ9i12n4vucyp98HhM75h4nHncrV6ztP/r/8cPuQOQ+rl2zb7oDh0e2AAAAAAAAiDLlSJwGIs6QSPN6f5lhSOQxx1Zi+f7zfcbXW6sArwSV76Jr0KvAH7x5TYyJ/B+vRPYqxWUCjqgt4gwqn6P2Mbf34Ev99QwnVt3dNxvxwZo/5iYizomj7sA18cGws8rs/vsCUWLwrCRt5zVuJawAz1zEMfcyYtt33eoOVRFyGj2XYkL33FO67lv130FR+HwkrlvJNpkF70T7Is5L7uDej+X7C/8/sXqnu2ZIUAstJQQCAAAAAACM0rKIowiEA3kL/fYrVtzRodpJExHH7y9W2RkcSzS9sv2JZKVfLfz7+xENvQrz3ruNyFBwDXIBq19JC/4frURWFHCEF0+G0jTHMiLi6H7cM1zRt5XwSOTOIIJol9t7p41i6F2Pu74bjYgoF0BMujv3uFvziJBemnfe3I9QCEW61L0bfsbW7bzZHRw6v9mKOCeOrrgrsvO5xO259e7+9dIxf6cfLVKx0t7ouRSTvOdNno8K72CQ7s13++dD57JS/g4OPVMi/U60K+L0js8KtsntJLh9PYhoGvyHiAMAAAAAAFUZT8RJmroJfCcSJVBSoUtVXIeibfrLMnx68Qp7pQpkWaXfV8pTwoldnner+Ji7Yf8fVBALXq8u4PSIV0CLRJwEUTGoR34tEhEbCUoFEC9sbd/tVo6Ods1Zq8CHldmyZ8Vf6+C+zVTE8VEZ57krVh43y9fIn6Uq96nRc1lAG/e80fNR5x2Mpxs/19Q9ENMRcfLj6r27+/d+fHS7/LxiUYSIOAAAAAAAUJ8JiTiymJBTVjFPVVx9hSeo5Pn1kxXZOhXIeGV5sG/7f0zE8WLEWgX+rVKx4Hfc/tt+LxNwqnaxiVdAi0WcE6sH3e379wx37/noTrdTlc+gcpmnX1UM6lMmgJSlG/+/7N4NzjtecW4o4oyYoijC8WQSAkJhpb1H2f+WRs/lGpO653XWHVD+DpanW/IOjnSrS78Tqfu/RupY/f7Nci8iZsLksZLt9AyFXd8G/yHiAAAAAABAVSYwJo66ewwGGh3uUjWoJBVbWDEddFuwlSRfIUtVDqtUIMsry7EK++g18K3y/nxTlcV8eW6XuGsOHK1QiUtVTAsqrD5SYGh/1myFfpBO+nrGKa4Ym+Mrs6Hjb1j5z+9nkHZopfclNHufYs9Ej6pjBbUi4sSPYXL3vOnzUXYfq6SbuN5h18WYpUScEhs+llDEGRZsTyTPcbS71agh4gAAAAAAQHUmM7Bxj0Fl0lYaB5WdYotUXH2lNt+nTytVyRVlFcgerYg4z65V8kx3oZSwMVj+627P1X5Q1tjAviHpimJ+LEMVVlPx3PVld7ftqpWLDYg4nuQ5HD/s7vSzTOXj78SeiR4zF3Emec+bPh9l97FKuonrLY4fcitDs2QFNgkRp38tBwJ10TnacX1i+0LEAQAAAACA6kxMxBlUGm0ltKRCV1hxDcZOGRF1YpRVIHuUVpZ9Bc7+b6/BHrdy5163MxgHJSUKDC9/yR1euabfUl8m5MSOQ5hjsRXWaKW9T+K/qChSgaQA0sf/n7wHURpW/kvuZ7X7EpxDnqa/XglRodIzWZEmz+WE73mddQeUv4Pl6aae/R7R8ZYS70SPwvucPFYr4nzT3alxj4b2V3SOJopwKCrRp4mIAwAAAAAA1ZlZJE60QldWcfUVtl7F7NAhVcZis/NYyiuQpfuMVn7tNfio2/nRtWOqUlkcXW6npI4PiKv95d0yRq55eyLOYHnLAxv7dKMDG6cou3eJSnDJ/ax+Xwx5mv56+WMLK+D+mFL3sQZNnstJ3/M66+ZUeAfzblFlAxuHz09qIOkJijg7d7qPjtz3gnNMDuqNiAOTYvA8FlnyfQQAAACATtO+iHP8sDtw297+tNE9RzExJk7UgSyruObROOe4nTtVAYpUVoeoUIHM96nBR/e7A/kAqeoG4aeFDrc31yCz0cpnPbHACjlhWsfMNNwx0SpVYR1UEkcGVU1W9v311fGFU0jrevxFME3yGsUVY2EqFTv3uP0HbLo99MyEy4q2sV2cwn22LeLU6U7VI09HU4zvPxAMZqvxov4sMmtbhEbP5aTveZPno8I7GKRbbYrx3r9e3Amnme9tNykRZ+15DPeX2s6fV+y9RcSBSWHyzgJLv48AAAAA0GXGE3FKbGRcjrIKXamI08MOZhpU0EapUIHM9zl6/LmNTP9tr0GsgpauLKYrkcfcof1XrKWZVxKHK4/xWaxSFdZeBfjQrbmYFreICHbiqDtwTWqMkXrCyBCF6fZsZNsqFZHIoNDjijhJqzCwcYYV5GJW8GxbGj6XE7/ntZ+PCu+gKHk+Rp/9ouncJynixKKFEtslo3AEIg5MiqJ3bvAsF76PAAAAANBZGog4vYrQ6t3u1uRgoopAuM2tjERWiJIKXRURJ2/drlIZrlCBzPepKdG/4W7zURcyRRvcdlckcsJUEhPCRalYENvOT1ucC0P941ckyu0H3Wq0ppeusOq/44fvGj4nb0pzJXZuQhEjK27/0D1WdIeNCBlQXDG2xNLtWfRYzL3btdfdZqK71u7VN6PH0lTE6V2ooQiygcX25Y8tVQFfu+4r4TTf2buxEj/ukEbPpZjGPa+zboV3MEfpDma2yyz17PvIougzNzkRJ34Ose0GxxDfBhEHJkXRO4eIAwAAADDvNBJxZku/BX6kS0NDKglHMH3qVP4XEJ5LAGjEmCLOiKCdFs1ri6J5t84SG0kvJk5LFP/jSBfOIoE0La42E3h7nFh1B2+NCfaxY/NEBOu+ZY0W0UawBNr/7fuGZ8CT0L8i8dsI2iWWn5fu/8pKpCEg9Rz4653q3u6PwdyPgvLtxOqd7prsXHz06+CZLbZ+Wv4ZS0ZqR4639jn3aXTvAQAAxqf7Is5rx12u1eTjk7QwcKyHynJHQcThuQSA+hQJNUX/2Qq0rZT2bfsVbv+h4S2mI+KUdFEdOS5/jlMScYrOKdbYVNa1WJYUIIY5sfrn7uaIECRbO876Ik5+HZJ2iduzcsiITBGRZoiIaJIo30YFHDF4ZovNpxXZnyUi8tQ/5z517z0AAEBLdFzEiTkg293Oa+5MdC1qAJXljoKIw3MJAPUpEjEGFeKRfNV2593z9UEkQd540it/W+meOKB4+zUGM12e53bd/OeDsv/4Ibfiu3QOVZiLzn8CIk7v1+GDDw9V8AfiSngMxqfZucfdetAP4i7Mf1VEnPx+9Y5p183uThst0rtndw2l7RnjnihaJe8iHIwNVhT94v+z6UXKt7iAE6G0bCwSleL3v9E5Z9S59wA9cuEv7dvl78LQRA8AAMPMl4iThwj3/24DKssdBRGH5xIAapPnHXVEnBPu+MGbs8rq8IySfXLBYDi6YfIijk9je3QCgcFx2Xxy2iJOjNR+BudTdGxVRJz8eGtFfIx7TwYzCQ5v76/5aPSLT29o/aB8qyzgiCplY1JU8uc/vG2zc06RfsYA8mcz8fzWehcAYKmZwzFxAAAAIEphJTcl4hSJCyL+/7jCR/H2PfJzSXSNiVaYi85lEiLOG2714B+PDPT+0Z0fzfYzLCQYoWbnNW5laKyVOiJO2f1K0cI9iUXW5Mceim1+f8GzaJ7Rq/ff2o86GO2uF6WKiJM/50H0jN82OLdm5yzq3HuAHgUiDgIOANQBEQcAAGBBKK6QpkScwfJiS4g4JdauYDBMnkZeYTZiyEh3hHRURbNzGaQXWzezsCJ//G63N6uoRdb1Vlr59/erSMiI0YKIkxLW/HnZ7RKiySANf841uslXEnFMZJk5T39uyXtf65wb3HuAhIiDgAMAdUHEAQAAWAjKojmWQcTRwsF4MSlLVuRLbGi7vEIWjNdTdh/seD4xm0cRJxJ149Ma2VeeRu+67dmdD1q9fdet7lBZ17BKIk4Pv15+HomooB6NzrnpvYflJiLi1BdwyvLr0cjFE6t3u1vDPGfnHrf/9uIhKk6sHnS35+NCrZlm0FvJxtyqWm6E71xktkENl3HbXe7wyPu/tu7KyjdGZ/NLbiPK87ohkvlaMcXXJ01hnlMlj9N4XZ2ZRbLpPfJEZmssfDb9MSe6WXuqlhVzDCIOAADAImAGJ453s0mJOOkKbhG1ncOARpXnIQYV5pF9jDi52s8ud8MNaxWHcP3651JUWS8TcXzUym63ctRPRV2n8j9wYrvRnWqNfBDq7PgLnqkh5/rZ3q1ayadILxVyKjvmPlKmf438drHjrn3OY9x7WG4CEScXcKp2J8yoK+KYZ3LEUhXhN9zq3V8ezj9z8+9eExGneLbB0fd/kGclbaRrqijP64YoLWtCqlyfNIV5TkkeNxD9wv0qvVnMItn0HvUoma0xXh7Y5y51v2ykZN1ycn5AxAEAAJh7jNMyJA5YUiLOwMmPDmycoL7wMUxp5dm95A7u/VjmhBUPbHyeu2Ll8QpOmjnP4Jjqn0vTirw/p/CYi7YJMetOdWDjsmP059ZzrA99d60iEp1mfbSSYismhc9gZRGnhxfLesd66JDOK/4c1T/noutQ5z7C0pFXkBU58a/WxMtaAo7w+XjwDuRpRyq2xx92B4cq0VaEGF1/aFbAvd8xkRSKuviLweyFlgrv5iDdS9yeW+/uR1ooze/0IzHCCncqz9I2BwbjUY3kM+V53RA1RZxG18dQmOcUXUfTUNOdWSSb3iPrs9iuz9rOC/uRPNtfn56fs/eGj8ePO8v7L3C/vqv3f8G5zTuIOAAAAPPM0FTIqZZVkRJxeuSOo5zD/UFYtpyqPxsJ1Z68c9hbp/YU40UMKtjhMTU6l7zS1KuQrBwy1zxdkc/PZ+SYa1b+TZexkSnGe0d4+K7vRkLRa9wTndP+A6Zy0kvzzpv7lb7yStr2nTvdR0cqZH0SlZSBkFPwDBdVcEbwlYRz3M6eQ5+qoDU65wb3HmDw3Hgryq8TpN6BIhEnSkIMyvOJmsdW+m6mBOw18rxx6L0pybPyfDB1Dum8boj82Ktcu4bXx1BY3iSvY68c7vQskjXvUX6ewQD0ffLnIdyv3663/M4HbuutE96zfr7fe47WxPuKz8AcgogDAAAwpwwqoLKeU1k4QGyBiNOjMEy7Z+E2k3cORXH4fb1W7JZFnN63Q/uvWKuwp2yoQlJUialf+S8Oqx/zniSt7Bnz56h1ExWiokrKoVv7okncsU9vm8AOJJ24rs3Oue69B+gxIuLIyt6pgNQ7UCTinFh1B2/fl3dbXLML3M6d5/Q+A7E1T7+KoGEoezfL0o3+X5ZnpfL0wXajJrH2j4ejZeqcc9PrYygsb5LX0Z9TqntQ/P9mZduA4u1Fs3uUp5vMJ0sizrLjeTZbZ2i/2fW7ICtj3yrdx3yDiAMAADCnrDlCvUrAnn3u9pLBFMtEnAxF9ayEzv5a+isHDg+1Ok7eOfQoEigYCDPmiJfStogjIoMyZha5ZkPOZ7iP+iJORvR+hRElnjr3RANSDg9UqQE7bwuegRh5NE7qGUtWUoQJsa/YFasYn156/ebnXOPeA4hcaNH0+rcPDTZcaWBvkRJrUstN1F7cAlGgMJ8qoOzdzI+vzOqIOOb9Hco3B9slbed17oAvP/JjryDMNL0+hsLyJnkdB+V3sSVEnBIrLxNS59vkHqXL4gE+3cTzmaXVj07Ku5D30+0fa/zZWBwQcQAAAACggsNehg/5T0TSTJ1+ZFBBl7vxzxmgIrmQ4SvowxFdVYSc5POap22FCCMOD407IrwosNgizvB2ahAYjL+Td4dCxJkbEWckrex6nbN2L+13rdzCveoyiDgAAAAAUMFhD3ndHT/+Vv/7YAyZOgNkt8prx3uOfP97Pthn8cDX9c8ZoCG5kGEr6MNdRouFnILKb562FSISQk1G4r86goYlKT708f/Xes/KBILU9SjeLi4EVDznptfHUJjnJK+jP6fE9U1QnL/VEGCS963ZPRq5ByP453P4fEe36+9/+x532217evsx9wURBwAAAAAWnXKHPSCvOBqz3RSmiok6yG176Xgjtc8ZoClREUdYIafgmc3HeIpU5NsScczydgc29ulWnU1QlAkEqXMo3m5ECKglzDS8PobCPCd5HY0Y0qlZJBveo/xZLhvY2M62mRDtbDlkRaHoO7E4zIeIkz/QxeG55Q9apF991gf6rkjf8bL0Ug9t+QsRkt5PKnPq4R/M5LmO9tWu2p89p7Xr3kP99m/b2x+wUKZp+b45MtvJYFDEMHM0zlmg2g5e9OEBLtPHZQrLlLNpM4SYjSjHvTQPfj06jkTxOBXa7o8HU/Blpmuz4g6uvj445xIbPGu677e7laFr3V+nyv2vfJ96ZGMxrATjVJRs02Mq71WsQD5x1B24Rtc5PqhoPqBm5ZluAAAWi0rluWWorPRl1ywEHBGIOPLvVg6WDhhb+5wBmpK/LzGhIxByAh940A2o93/MT4lWWM07sfMatzLkl6XrGLlfnb3TdgrtHj3f766YX5sUHwbk71p03C75r38WLBv4fut27nH7rQ+bR9r1/ht5d1M+YwvdqXo0uj6Gwjyn6Drm/6l+0ZVZJJveoyZTjCdEnPxZDq5Zzfs6b8yHiGOdhJHKc5+hgbtiN8tmjqMWC19s9uCXvxAh6f00FHHyyurg/AbWy3D232deiAJaue69VQpn0IjMLJKnaSvbCRGnQMmNX9cKAo6w5x6zkevh71Vk3ZQIdmLV3X1zKID0LTvmtwbnXGL5s5ZnWPH11jL+lbhoWfM+5dc3aeHUq2tM5b1KZdz+eRlS9nuUtAgAAAAAjEXuW6aEDjtGjvdHQnEyMSNfnnbo99zn9o8Mvm0tUscoqzPF/LAi8SGnON3RbY1AkLRL3DUHjgbHX2G7pgMbZzS4PoZy/9lY4Ct3bxbJpveoR2F9tXdMI3XzluoCC8JciDj+Adp+9Q3uhks+GskcTvRHp/642/XryqhGM5CBatqrWN56d79lZliRHVGip1HZ7JHeTxMRx87ssMfdmqvBg77qVR/mNq77QJCRePD1QQudVWdjAtFIpToi4kTFngGj17WigCOi1zchJGXoWbpnWByxIs3I+sMK9N47bYRM717d9d1I62GFZytZiKqFY39C2e7R4D4ln9veNgf27+kXblXFNU9L71Uy4+4/s9p/3pI1mPa3ssAJAAAAUIdSEaeHbRzt+ylrflPJjHwpEUfIL4tEaK9FxKwkIqfl197lVnJ/rm9htIWnkogjEulGj8X4foomrxop3t/HaKR4z2I9MBpV9mteH0PuB1exmK+s+9mZWSSb3iOP6ifBLH+6hrfHoiib1gXKnsn5ZL5EnD13uAdU8Q0rxFmGd4G7ZP933aHs5oY3a1BJi1b2vcBTtZKakXqQaj5gPdL7aSDipCINMrxwEFPdRxn/ug8qzNH+m3lBFc80B92kdC6ma1F2HKluVwOGr+vr1QWcHvF7UiTiJEjdpzxjqRP5UeHZKsmwBtd0+Lya3Kfi92MgUoXHWrxdS+9VYYHsW7r07PyFWy06dwAAAACYAfXrVAtDqv7QOZb4Hs2YORBxBhXn7OHIHurhCmpWKcwq+sf6D1IgUpQprIn/x61sjlpckUzvp76Ik6eVEBnK/h/QwnXPr0VKNCr7fyAurNu51925olHHdew3uNv29SvhBQMWDq7r77j9t/3eWkW9wvSNIn5PikWcE6sH3e2hIv/RnW6n7lPq2aoqBmVUyChLRJzBM2X/b3af4tfIUPaMRrdLneNg+ahFWqdK33nT0iWLip4AAAAAMBsq+L2LCiIOlDBHIo6vQK5FYAxazdcqpWsPTryymb8IvsKWtERFu8SqVzb7VnkA3roijhEZyqyyiDPGdc+PP7L/IYucX05RGokKep/R+5fokzlCSqxJiziD7nops8c6SKdehlchoywVcWL3qtl9KhVxysTREqv9XtXs3zy4Z3VmSgAAAACAyVPB711UEHGghDkQcUYrnWuVwLVuKPZ775945XhGIk74MJ9Yvdvd6mchMiJAujI8SxGnhes+tohjxrDZvsvdcEO/b+vOq93e/nUsiqwZXNdfd3uu9gNnVRn3JHUPUyLO4Dy37/qyu9tGhOTPHiKOJ9+uxIbPMX1Pms00YMYkUpp0pQIAAADoEBX8Xpgx3KNZMZcijq+gbd/zdXebKp95hTpROfYVuppqZnElNfXQljzMEfElvZ+6Is4grfFfpBaue55GSlAoolc591M+Z5FLL+X7yPb71mBE81QFfPi6vuQOr1zT7+pUJuT46x4ed0LEiQo1fRL/5cc2JAaVUfJsiVy8SF3z2Lk1u0/F70ePkmc0vl3qHIvPfeR6Foo45tnKBcH02EoAAAAAAABdYQ5EnFil01SmhwSORCU7T6Net4lJVDZjFdv0fuqLOIPl447x0cZ1HyyvG+kw6Oriu0BF9pFPmxivgI9eVzslYOpZMOPwjNyPxHkmhJqM1H/58ukObBw/nmb3qfj9SD0TZdtNQcTJB//ud2vMx8epcy8AAAAAAACmz5yKOD1ysWK4IjhSmeuTL88GQT0wPLVcr0p4+MCfBcvMNi1VNiffnUoM9h+d5k7T0pVMfbdGO9d9UJne7nbu2R8M6qyuMH82OvVcPr24jZhJiAJm3VCUiV9XK+SElfbec5BPwx4ThlLCxOA+7dyzMvwcRUUTUTTFuK7LX0SmkSwWMjKS11tp+m5Hke0b3Kf0O2Wv46iY1O57Zc/L3LOkiBOfqW54JjQGOAYAAAAAgG7SfREnr4wlIgsCkmLCUOU9Zu1XNpOWGti4icWO7cSgq1HUoucT0Np17/23eqe7JhNaguPo2/D185Xs3vKhqJCUgNKrxA91u4pc15Hz9VNM9/7bebM7mIkPXojpH1N0rJ0Kx9DfftQiESGF9yl23euIOLE0+5aYYr3efeqtX/rcbo/OHjax96p0YOPefUpOJ170HwAAAAAAQDdYXBEnWkFUq/1dbiWcBjqLJFhJRxrUqmym9uH3E0yF3KO8MlxgSUFG0UUrbr+P/PGm6JyVu0aijkZo9br3UATQyj63Z0gkUNTHPreSRwYNKtKjERHp7jlDUS3mv8JjyrvQ+OiN/v3U9bn9YGLa8qJjWLvvt+3tD75srfCax+5TLBpG1BFxNJ39N4aPRxE/t5Xc+0r3aY3B9VW638ijfLLj27XX3ZaI+BrnvYpe39h5xUScvBtVKtrGC3nMVgUAAAAAAN1kDrpTAUBlaopv41Aq3AEAAAAAAECrIOIALBKIOAAAAAAAAAsLIg7AIoGIAwAAAAAAsLAg4gAsEog4AAAAAAAACwsiDgAAAAAAAADAHICIAwAAAAAAAAAwByDiAAAAAAAAAADMAYg4AAAAAAAAAABzACIOAAAAAAAAAMAcgIgDAAAAAAAAADAHIOIAAAAAAAAAAMwBiDgAAAAAAAAAAHMAIg4AAAAAAAAAwByAiAMAAAAAAAAAMAcg4gAAAAAAAAAAzAGIOAAAAAAAAAAAcwAiDgAAAAAAAADAHICIAwAAAAAAAAAwByDiAAAAAAAAAADMAYg4AAAAMBfccsst7h3veIc7+eST3a/92q+573//+/1/AAAAAJYDRBwAAACYCyTgrFu3Lrf3vve9/X8AAAAAlgNEHICOcMUVV7j169dnnwAAMIrySCvi6DcAAADAMoGIA9ABJNxs3Lgxq5ToEyEHAGCUCy+8MBdwTjrpJPJKAAAAWDoQcQA6AK3LAADlaAwcdaFSt6pvfOMb/aUAAAAAywMiDkAHIBIHAAAAAAAAykDEAegIEm4YEwcAAAAAAABSIOIAAAAAAAAAAMwBiDgAAAAAAAAAAHMAIk4fDZZ44403uj/8wz90zz77bH/pdNF+f+3Xfs2dfPLJ2aCNt9xyS/8fAAAAAAAAAFh2EHF6SMA55ZRT8pmBJKTMAglI/hhkEnIAAGD++fa3v+2uu+66mTYUAAAAAMD8g4jTQxE4VjxRJMws6MpxAABAe2gq7JNOOinP22fVUADTx0+JzqD1AAAA0BaIOD26EgHTlYggAABoD5UptoxBoF8eLrzwwvy+b9y4ESEHAAAAxgYRp0eXxBO12MrhV8udjgsAAOYb5ee+fJHRVXZ5UASOvff63TWs36HvAAAA0G0QcfpIMJn1wMYAALB4qHxRRIYq8KosM2j98tD1SByN1WS7+um7lgEAAEB3QcRpkTpRNETcAAAALDYq31XOd3VMHA227QUcb1oGAAAA3QURpyXC1iy1vqWosy4AAADAJAjHBJRpWRMkUjGAMwAAwORBxGmJsDWrqN97nXUBPL5FVxFcjFsAAFCOukdrnDsNJk1XtlHC66PvTbqUS7hRdzH5NHW7jf3RH/1R5hfpEwAAAMpBxGkJInFg0tixFey4BaqUyPmWE97UAQcAWES6MvvkopBqTFBjlL3OVRundu/ePbSdfgMATBP50xKSvV8NMA8g4rQIY+LAJPAh6tbRlflxC/Qc2eVNQ+EBABYNTVhg80emdx+PVGNC00icDRs25OnJ9BsAYFqoPuYb1vVJnQzmBUScCaKMgBmvYBysY2zNOs+qlNj/9MyloLUBAJYJlcOnnHJKnj8qWhGaEzYo+MYE4Rscqgo4Iizf9BsAYBqobhY2hBb50ABdAhFnQozrOBKpAyIWgaPnwoax69ny/+mZSz0vYWuDTQMAYFGhQaU9UpE4Fl1jXWtd8yL/Rf9dfPHFeTm3Y8cOd8cdd/T/BQCYLNZ/9kY0O8wLiDgTQs6LzRTqhHDLKfKVbRlj5iwvVULUqzrMYWuDfgNA95HgyqDm0AVUxpQ9i7ZiJIEmNs6N0rENXUUNEACweFjfdVbiehjJft555yH0w9yAiDMhlDHZjEEmx6eKA67wZLudnCBYXpqEqMfQ82efK/0GgG5DZRe6jBd1bBkVNhjov/CZjflItIADLA82qm9WjdVVIgsBugoizoSQkqvWqFDllTOjZfovpfYSiQOTQE60niU9g/qkIgjQfcKoTpmWAXQBWwny0aKh3yMLn1mea4DlRr6of/f1fRZ4EfrUU091Z511ViZA4xvDvICIM2HCqBprRa1OithRZqLMhQwFAGA5IWIBuoytiMn0+7LLLhtaJgufWfk1RJgBLC9WAG7aWH3LLbdkdaWyxvEyqhyL0pbQrLyMLlfQBRBxJkwYVWONVicAACjCR3W24agCtE0sEufIkSOZkKPnVc9t6pmVaKMKkXwhBByA5ULvvBqqx4l+0ba2XlW3gcMfg00jFRWkfMyvo+8AswYRZwr4qBrbYkWrEzSlrTFyAAAAxsFXgiiTAGDahF036zaOWxHaWyoSx+5L3wFmDSLOmNQJ5ZOzY1udtC6tUMuNfwbU7a5oQDU9H3pOPvGJT5TOVgUAAAAAsMjY6Bg1jl988cW1BGXbuC4rigqyUT/6DjBrEHHGxL7UsjqhfDbzUUZyxx139P+BZcE+A+p252cvs2Mi6bsdOyA0ree3AwAAAABYdGxjuAQc28hZZaYpG4lTNjuVGu19F1F9r4rSpLEeJgEiToCPeLjpppvc5ZdfXvrC2vA6mbatSrjtBz/4wf4/sCyEz4CetXAcpXCdmJUVPgAAAF0nbMAAAKiC8g3rF1epj026R4QigrywhJ8ObYOIY9ALnIp4UOYQIwzlq5MJhBmOonFguQifATmuRTOayTZs2DASAirTdgAAAPOGfKfzzz9/qEyj0gOwuEjgqNP1qQyJvr4BVJ+TEGXqEvrq+OnQJog4Bimx9mWzpmiIGOOouH/wB38w9IKnBtOCxcWPqaTnQPdfz1AYiSPHVmKhnkGt66PC6oSBzit6v2LnDgAAi0M4Q4w3Kj0Ai4eNUKna9SnmD4bLLr300tIxJoX3vbWdtlc6k4BIHJgkiDiG66+/fsh5sKaXPIUN/60r5IyzLSwuVZ4LLdf/Wm8aYef2mKaxPyGB1L6H2j8ATIdpObqwmKjCogqV8vGyZ0fPmc3rZWrcoNIDsHg0iVCJ+YOxZd5XDSN8rM8c9rpQOpNCx+GPC6BNEHEMsUicX/7lXy50QORg2KgJH02D8wvTQIWSntsqTvI4hM/5tFoUwndS7xMATAeVYfb9m6SjC4uFKiy2zLANYbEGAX3aZ02mih4ALB5NInFi/mC4THmGz3eUrhVybPR6aEoHYN5AxDGoQmzV2Spj3Eg9thmBdzpwfmHShM9rUbTYuITPuaxKy8m4TPMcAWAYOcn2ncfRhaqEPpAX4IsaBLZu3Tq0zVlnnZUtB4DFQwKL6kxhxEyKmD8YLgvNCsH6HlunSl0PoIsg4gTEWoiKkDhjMwNtK8LMYhoVXlguUs/eJAj3JZuWMGnfSQpagOkhJ9m/7zi6UAfl17a88OVTUYNA6DfZCphHz6DS1n9VK38AsBjo/VdjgvxPH32uZaeffvpQ3iErisTRWJNKQ2lRrsG8spQijl781Mur3xdccEHmIMjp+PKXv9z/J47SkqOrViat7wderTLorN1WMw7pU78n2S0GpoPutxzTKiGiTdHz658xmW/prEPV4wyfc55TgMVH5aEqzHrnqzRqwHwxSYFcaYfdqfz+bLkl03iEIvxPxxWidPz/Sp/nEgDkm9q8Q0NhhH6tfFZf98N/hUVgKUUc6wSErYsK37UZgf6vg3d6Tz311CytIudXmYndlzcth/nFOq+TdDL1rNkwUj3XdZjWcQIAQLdQBcfn/7IdO3a0LuT4RgL5NPv27RvanzVVqkQ4lmDseMLKmtYHgOWmqF7n62VF9TGAeWQpRZzQCfAOhLDLvdWhzrTPYSSFty9+8Yv9NdYyH6WpyCB9tu1kQfuErYltOJmp50Cfeo4UMnruuefWek4mcZwAANB9JK7Y/F8Wi3xpA1WcwvLGW91uemE6kzpmAJgfbrjhhqxHg3zgiy66aCjSRj6xzy/K6mUA88RSijihE2AjX8oiccoG4tJ/dns5SinkuNhICm+XX355f43RfuU4LN1nEvesLM0m+2yyDQAAzD+qyIT+SptCvvwb3/AQ7kd23nnnZb5XHQFHKFrH+01qkEu1rDNDKMDyUFSvq1MvA5gnlkbEkaOgiAW92F/4wheShbvWS42JI+HGTokXE3LqKr7an/pu+m1k2rc/rjBj0m/oNtZ5rRoVU0bRcyBn1f4X/p9iEscJAADzwe7du/MKjvyVNrsahI0E1vSf9qVP7T/VKBbjjjvuyI9ZlorkCctMW6kDgPlHdSRfr9u8efPQ+257WKhOZ//77Gc/2/8HYL5ZChFHBbyNeJFAUgUfAixHQ2lYx0Gm3yFaT+trO20f/o6hDMim602OjY0MatvJgjThvZ81Oh7d/9hzEDqrPCcAAFAFP25N210MwnLJ2oc+9CH31/7aX8t/pxrFVPb6SppvbPvgBz84lJbMV9i0jtbV+YT+mq3UAcD00TteV7Qtwo6Ds2XLlvx7KOzedNNN+X8y5U0Ai8BSiDgqvO0LrAicMpTJ+EqzTJEKF1988VA6+l3GBz7wgXx9OSqf+tSn+v8MkOOhzCh0OjZt2jT0e8+ePf0tYJLImQ3vfVUm5RCLVNrhGE9XXXVV/x8AAIA0bVasbFq24aGKaTuLto81voV+ksxH2dhKnbVUtA4ATAflCWU9GSy2O6S+x7C+ryJxlA+ovhe+603qgADzwFKIOGGkSxUVNnQU9FtRGXaZfpdh1/eWwjogcjrCY9Bxa1kbzhakkVBir7uueRWKomUmSfjc4KwCAEAZZWWWypKySGJPLC0v6oS+U8xCfyrcxvtt+rTLlb4v88L/VFmscuwAMFnCd9O/zymsQJMSXdTA6tdJNbYqbzj//PPz9eQjp0QhgHljKUQcH+mijEAZR5UXWM6Hd0h8BpHKhJRJ6H85E/q0lWibhkwZSAofCuyVZJtBKW2ZvldRsaE5TSNx6hZSHt3rus+nJXxuAAAAyigrs6wPojKxyO8oSkvlkmaOsf9bU9Sx0rZlWJier8j5Fnr5Q+papTFyPLbiJwvPBwBmQ0zkLcK+/6n3WHmF/pPgm/J9QzE4FIsB5pmlEHE8vlWoqgCiTMZmEKlMqCiTUN9vv1x9NssyLov2qbR0DF7A8abfMDn8vdeYRKeeemr+DMTw6/pQUW/2OSgifH6UFgAAwCQJyx75FdZHqeN3hGnZ8i/8LzQ7noW+q8xV2WuXq6GjDBuVWqWiCADTo85wA16slTA7TuSM0vB5ggz/GhaJpRFxJNzU6Y+ZIpYJhZmEHB1FR9h9almVMXRStHX8UJ0qETnhOrrPsjAiq4jw+fEtjgAwn+jdVx5QNy8AmCZ6LvWM2vLHVnLqROIUPfMSZew+ZFrvsssuy6JIw5llvMnX+ZVf+ZVsHflUZfio1EmNSwcA84WEXO+jI+zCorE0Ik7oqOh3WyhTCNOXI9H2PuVAKQ0EnOkgB7Ps/jUdP8ei50fd7HwavsVRTrBaMOVUU/AAzA9FUQkAXSJsRLDPalEZVKd8srNsWlO5p23DY7CmMhYAoCmxxneARWApI3FU0ZbT0OYLHfbFVt9uu0+iZ+YLe++8qXUxJIzEia2TwrZcypnV4Gu2xVH/+XS1D/u82m31qd8A0A3CSql+A3QR221BDQhVy5KwfCryb4pEGv3nj0ERObbcDcs9AAAAWGMpx8SReQehrQgH2xdbFXLvCPl9IuDMF/4ZsZZybn1Lolol64gpWt+mrzQs4THYFslwW/0GgG6gPMGLu22WMwBdISyf9DuFfR9CC8suW57y3gAAAMRZKhFHyDmwDkRYcW6KnSFIjkfVKAn995nPfCY7Dt8SVqXvN0wWG4kzqSiq8FkMx8IJWzpti+SknmMAaAcEfFhkwjKorCHBvw+nn356vo1+h+8IIg4AAEA5SyfiyDGo43g0oeo+JODY2Re8SQyC2TPpSpgcVNs66cfC8ej50LMjhzZ0Zu22tPQDABRjG1rqREzCAF03XT9dxy984QtZ2VS3G5a/D1u3bs3LPt9QEnZPDhsvAAAAYI2lE3HkaFSNkokR9h+PRc2ELVT6HeOLX/zi0Hre5CTBciAHVd2k5NTWjcDy2+LkAgAUE3Z5Rviuh66XHYBfPpQaGZoKYtrep+XTU3lml8lsN2IAAABYY+lEnHEJBZpY1EzVKImYw2LH0wEAAIDxUcOLLWtTjSsQJ/R9vKkxrCq2Ec2KOJOKxBm30Q4AuonqVcqTfKT8pCPnAbrIUoo444RVh45gKmqmSpTEt771raGZGM477zycjAWmqkNJ2D8AQLuEIsQkulIvMmE3cW8qz6oSpiH/J6x4+cqZ1k01gFUl3B/3HGD+sWKv8pAPf/jDeV3KC8IW+dSKxFT9TXmLelQALAJLKeKEYdV1KsrjbBvDOixU2Bebqg5l288YAMCy03QqbVhD18tXhCS8+DJKDRIpfIOEb9AKhTT9niTT3h8ATJ5YLwZrobCsPMj+Tz4Ai8JSijhVo2liTCNKAtV4ManqUI7zfAIAAEySqo1PtkFCLee7d+/OW9D1OW6kTRlKf5r7A4DJYyNxrKDsf4eROPKh7TrysQEWgaUUccLKtESZSSNHRw5PLIMJQTVeTKo6lLN4PgFgeahTHgGEqOyqIuKEZZnW1/M2zedu2vsDgMmjfEfizMc//vGhPCYm0NAwDosK3amm1F0lbJEqahEKQwXlgMBiUORQ+v+2bduW33u6UwFA26gLjM9jYmMIAKSwreCyou5UYVSpKlDTiGYGgOVAeYj8ZJ/HqK4Vo6rwDDBPMLDxlF7mmDOToo6TBN1Hz5juoQQafcaeOVWi/MBsGzZscGeffTZOLgBMBOVFvnyR0VAAVanTyBRrvAob0YoatAAAypCfLH9Z9TrV70KoU8GispQiziyIhRUXgWq8OOgelt17KlUAMC3kxPq8hkgcqEOdCpFvMLMzddZp0AIAGJeY8Kx6lXxx5T8IyTCvIOJMCT8zhjKPVDQGLCahgBdzWm0kDpUqAJgk3oFVeUReA3UZp5EpLA9jjRoAAG0RE55tQ4b+8yIzwDyBiANQkaYVHzm8vgDRp1f9rSOs70qTShUAWKbRAKA0i8LR5wWmEe82uh96htVlmHsEAEI+r/Jt7xtPAutvK89ReepFHJmidQDmDUQcgIpY5b5utIxUfhtSHrYM0BIAADHkePp8QtZ25IIc2ioDQ04SOdg6r3Ed+UlfK2hOF54zAOgW8qN9FPo0/WAicWARQMQBqEio3Ot3U8I+ujJaAgDmE1VQ2xAhYrSZ78RQ9I1NX+cwTcLKvb5rWRMmfa2gOdN8zsJWdwDoJqHwrojQGHqPJbwoT28jIpVZ8mARQMQBqMg4kTghROIALA5hq16bXSLbzHdiyIn16cvUzWWahPuXpRz5MiZ5H2A8pvWc6Z7bslXPBAB0Ewmu/n0tEvAlyPp3WjbNKEsdk2+kQfCBLoGIA1ARn5GrJaCNyoFtLWy79R4ApsckI0DazndClP4su7mEERoyLWuCdbbJU7vFtJ6zSb6LANA+asAsi4gJI3b0e1rYxgFEYegSiDgAC4rCReUoq7Dzg0hWHbS0TqgpYamw7EwqAkTvk94rvV+TfLfsfqrmEW0xTj4F02ec/N4/Z3o/zj333Exg0X3XgNRtQSQOwOJhI3b0OU2R3grDiMLQJRBxABYUOdq+4PGmZVVQRcpvUzZGRZ11ARYRPfNtR4AoTRu5wLu1POgZ0rPUxSjNNvJ7nZdPQ6ZzbRN7/XhnABYDRezYCUKmBZE40FUQcQBmyCRbodXiaR1lmZZVQcdSdbs66wJANYre36ZTaTMFd/fp+nhpbeT3egZtGkoTAKBNFJWnyJlxI2NVTvpGGspM6BKIOAAzJBYto4KijdZXFTaplvyywi10sosieOqsCwDViOUNZ599dvbebtiwYWi5HMwUNirB5gdl28Fs6PrMhW3k93omrVAlQREAoC0kfPupy8smBJBfLDFaeRldeWGeQMQBmCGx1nZZW62vKpxUMGk/VsApK9zCFvuigq3OugBQjVCE3bx5s9u0aVP+21qqn74qy6FwY81vR/eT7hAT75oIJZNCebw/LtswUBffkMAzBwBtE/rWKt985Lt8VXWLUr4TRj7SXQrmCUQcgBkSVtSsTar1VY6z3U+qAggAs0X5g28hPPXUU4feW28SdqpG1FmT46rtqjqxOhb9p/xC6bY5GG1TdEyhSD3v2IqGrnPXhHEdy6JdcwBYLJQ3+XJNn2qoCAVyCchh5CP+MMwTiDgAM8ZXRM4777y8IFGhM6lxEKpE4gBAt5DD6fMHa4rQkYMaI9xGgrGWSRzw21R1YsO01KVL684q/1C+aQXwcaJCAABgsZAPrfLN+9Kx6BwicWCeQcQxyBmdpVMKy40qIGEFa1KUPevTPBYAKEfvpI+EsY6oTO9pyJEjR9yHPvShfH193nDDDf1/B1RxYhV9EY7D421WQnDokMu0DAAAIMQK/z46R+hTZah8XhoCYJ5AxOkjJ5ToBGjKoo0Lo4qcrxhNMioIAOqjvMa/nzI5nyGXXXbZ0DoyRfzFKHNi7TgoMZNANG3C0HhZ6vwAAGB62G6h8ie7Io7oOCT249PCIoCI0yds3ZyFUwrzS1ipmvfKRPg+dGl2FIBZI0dQ7/isxgWpMlW4/rPvsKxppEqYlvKHWTd6+ErCIonnAACLQCiyxxoa5g2VcypviE6HroCI04dIHBiHsJIz72H9ROIAxJFgEhuLxUazdMHJC4VlCS9NBacwLZ2jykilSVkJAAAW+cC2zFAZMs/YOiI+MXQFRBwDTik0xXY3WIQBNnX8qqjR6gAwTKwbj8qMmLAzK/TO2uNRubZ79+7+v/UJ8zfyBAAASNHV7lRNCRsy5r2hFhYDRJw+ymD0UspBJyQb6qJnpk73Cqn4dtT8SaLjUSGqipwvTKe5f4BFImxhlIUOnmxcJ6/pO6r17UDFsj179vT/bUbd/A0AAGBaqFyaZMOj0vTl6iI01MJigIjTQy+jbbWUejwudaJ6Jp35QHfQvT7rrLPyZ02FQtv3PHye9N3vT6b9+8JoEvsHWGTC8kLflc/7394kejTFOox131EJP+GxMKYVAAB0naaNF9MYAkBp0pABXQIRp0cYHq/K7zjUdcAXrSsOpLH32ptEljYJnyeJiXZ/obW9f4BFR3m0jUyxoeMqP/R9nIhOpWHfUf3WfrQ/7bco7TASR+//xz/+8amWK00dcQAAWE7GabwI/dxUw4XSVHnKsBmwCCDi9JBjbF9+OeLjEHPAi1i0QXEhTXivZWXPR13CfWzYsGFo0G4bRSBre/8AUB85lz6CzkbryfTbvrcSiYrwjqp1bKfVQFDmiOsYbKQgAACAygRfXsnq+KZVInFsAwcT2MAigIjTQ05lHQe5jLD7SlmkQ5hxjROGD90mvNd1WxuqEO5Dz5/t3ldWyQKA6fKtb30rF1plEl5PP/307J2Vc3rqqafm/8mqNDSEjROyOg0EKhc/85nPZPmJ9lcluigsS2WhIz6NsHcAAJgvbBko0++qVGkcCLsaq3wFmGcQcfooA6gSql4FpSVH1Tvg+l3ELbfcUstRhvnF3uvLLrssq7y1Tfg8xZ4/ujsATBcvpMrRDN/J0LmU2XDwsGEgFEZihN2EZVUbCOQEh2JMuL3OIXSaw+OUaZlF18D+nwp7BwBYBuTzK29VHaSsvtBldOzj1KNUltiywZdzbV2fWCQOvnAcXXPVH1SP0H1QvWIS6H6qnkz9txmIOAAAABPERr/J5KxYykScUFTx2xcJQ/ptt9H3qg5wTIyR2WPSMfjlPu1QoJGFraKho15VWAIAWETaik4MxY5pVMI9ViCR6ZyK0PHZxm4de7jMl1f6bq/PlVde2VgoUpq6PjpelZ8++seLOrCGrpG/5jI9R5Mg9Ae0X6gOIk6HIUIHAGD+CR2V0CFSRN6mTZvy//U9jNLzzqd3Xq0DKpOjG6JttP5VV12VrS/n15Ypd9xxR9RpDo9XJud53759WXoSc5SG/V/Hpn1YR/7888/P0rOUlWvheQIALDKh+G3FciEhXHlmTKy3WGH9jDPOGEpT20+SsCFC51RE2FCg/D5FeH286XzHIUy37Jgnge5nlXs7bXQ/7LWZ1PNT5zmYJLr2OhadZ5fuQxmIOB1GD1MXHm4AAGhO6KjEHCI56t6JCKNXYtRxQK1zb82KQDLtX4SRP/quZal0ZL58qlrhiKH17X7HddIBALpOGGliI3HqRLiEwrq1sOGgbepG4oT1GzUwpLDXx9q459SFSBx7bmXXbJqoAUXlr66x7tWid6fq6n0oAxGnw4QZMmFmAADzh3dUJLRUdYjCiJVQEIlF4tj9+N8iLEu8aQBl+1v782jbMCImlk6bzpf2F6YNALDIKK9NCfh1Ily0vV9PYngdQdyL7+MIGXUEfK1rGyJs2RPir49dX6bya1x0vkp3FgKOsOdUdG+hmKJ3qArzeh8QcTqMMl3/UCkzLssUAQBgMbAOuUwOSoh3QL3TrM/YNmFaMpUpu3fvzltP9Vnm/FQ5pnGYVgg3AMA8UCfCxQr/+q4yoUrXVLuPaUak2EaBKoJ9myK/uitLIPviF784VLfSdVO6uo5VGlvGRffTn0/RvYVi7HWUqSt3nYaleb0PiDgdRg+gMl9lXAg4AACLi/J4m99bB1dWJmjIEbetSXabf/gP/+HQcjnsvkzRdnJm9VmGryRoP3J02i6XVOap8WKaTjR0G/wgWHZshIu+61O/23of6o5nMy46bp2DLa/KIoWEtmuju63SsVGsW7Zsya+lrqtfru+TRvv199YfA9Qn9H1kKjeqomvf9ns1DRBxAAAAZoicBuuc6vtFF1009LsoSkb/2dZamY2sUfpyVP1/l19+ebYcoOsQkQwwYBIRA9OOxLHnoMr3xz/+8cpRE3r/q0QXFRFG9Mi0TNjGkzDSR/vTsbfdiOEbR7Q/5Xfajz9P27iSOnd9X3ah2z5T3vw9XWQQcQAKaKPAAAAoQvlL6IDIkfYtQ0UCjtB6se0tSoMWP5g39Mza51rvCsCyUiQyjENMNBiXVJr2HGTTrmx//etfH9q/ZoP0xyhBxQta+vSiitBx2u2UN+k/raNzairshNfjIx/5yIioZoU2mfblsQKG1mnzHraJjqtq1G8VdO117hLVzj33XPfOd74zvw4y3edFBxEHIIEy4zZCNwEAigidQ1kdxzas6MrkGCrPSjmVWu6dT20f67pECx/MmllX+AC6hPJs/y502Se1/rOEBdsQYc9hFtF1dv+KUA0bSVLCcdjYogaR2LK6hPsLf0ukKOrypu/2P607CyQ26dhjjU66x16E8s+DlvmGqibPQHjtQ5vVdZgmiDhzTNuq5jKhDEPOoDKBVIRNWLGSM9kWVr1XBqbvqeOYNbpWXu1u2tIAAGn0TlnBuK5jK4fIttJZSzmVWm7XUz4UMmtnG4BnEGCAFda76jOK0H+25Ys9h9T7PMn6jRWGY359SjjWcYe+cNF5ViXsTvUv/sW/GErz4osvzq6DLeO1f4++++Vap+41q3I/ypCA48cZih1D7DrZ47bnU5UwTZUP/hj0OYlnp2sg4swp1mnXZ0z5hDjKpGyFSZlmjFDlbZI5pwjTlmlZFwkre01aGgCgGOVL4zhScljk9IYO6KmnnpqlqbSt06/8zK5Xx5kFmAT+GbbOdxsVDACYLqGPW8VvVD1G5dJZZ52VV8YlmNxxxx39NdrBln0xv76OcGzrE23VxVLXzl8f/bbHpO9apv+a7L8NobwsGih2TnYbfa+LjjOsB0tMUlphd/JFBRFnTrGZkCyWEUGcUL2NVV6EnEdlbvpf17fNmVLCY5B1tYLEswYwP1iHbPPmzUMDGlvBWg5PmZgdvvtyxAAmgZ5HGqYA5g/5yvJfVT74hgLrP/uolSIk3Pr3PzRVytv0wZWO9+s1gYA+9VvHq+OW6VyqCsdaR+u2FfkR1g8m7XPr3O3+mtRFyiJxdI38fjT9t36PG4kjYsL/MoGIM6dIxfQPv8wrtVBOqAhPOoOMoQzMVqCaqt/TAOcaYH6wDqiicHweI5MTZfHOp3W+LWGYd2wdgDbQc2af1VmUywBQH5UN/r2NNQZUQRVx+/7HrChPUFnWJBolzHdUFpah9LWd9tfUby+KGLH1g2n43E2uQQydS+r6x54Re8+aXsdlBxFnTtEDL+VSmUAVlRsGqCKiTEQVE2UebUbY1EH3zFegun7/ll3tBphHQrFf+R1AFwmfVf0GgO5jIznChoKqyLe0kTgbNmzIv3srSttGddhIkLK6kj12WVkUSnicSrMuNmolNXaLrx9Mw+eONda0XU+y17noPjalyvHqWi5aPQYRBwAAYAFRi1hZlynoFnLefevkpFtgu4TO1VeOptH6DDBPdKXxMYYVUOqKGl5k0Xmpa9NVV12VN2zq88orr6x0zlrHH4PMizHazi7Xb0tMwChC6dr0tF1IWZrhMZUJR02oe14hVc6zDuM8I0XY96LoeKsIZ/MIIg4AAMCC4lv05BDXdeSsgySHsEsVh0XFOrsSM2Lh9ovKIraUArSB8m+fL8iUH08KCahKX2Kyyo8ytE6d9S1hBJ7Oswkqp3wadngCDZJs0y+K8Nu9e3cWAfThD3+4v2QUpVvWMKJrYfcZnlMoWNe9ZlUoO4Yy2n7eyp4RlXNNBiQOjzN1vErb/q9yZhFAxAEAAIAR2nbkoJzQ2dRvAFhu2o6MsHjx9Otf/3o26Kzdz/ve976JiAyeUGxoGpWiBgeVV9reH6/Oy0dfyDTIf+pc/uiP/mjoOMqEnKKGkTAqRNc0bAixgnXs2EPqRtaEx1D3uk6zAcfeJ33WEXJ0XvY8ZbHjJRIH5poqmcSiYTNJAABYwzuEqXECPF/84heHnCM5dDBZljkSBwDiKI+eRNdYRYVYoSNmNrKlbWxUStv7kf9vz6NIEA/XlTUljAqy903lbki4fuwaaDu/jkz1uSKqpNkV6tynkDrvRdNony6DiLMkzNML3QZhuKJ+AwAsKnUclNAhTIWYX3755UPr6TdMFpXNuh+6R5RbAOBR3lAUAdIEWwEusrqRHHVQQ+skGpiVrq8HyIrGYqkTiVNG2Ghuo2JiDSFVomaqrGPpUsO9f25TDepa3jQSR0zivZgXEHGWhLoq7rwT9rMt6gcLADDPyOmp4wSFDmGsdVCE6ykyBwAAJocqpV7InXQF3ObvRTarOoPOX9dB16PqtZD4rW0uvvjifEwcfZZtX2VMnCbYRvRYpEiV+tm8NsTrOL1QWNSgXqcRCgYg4iwJdVXceSfMFPUbAKAN5Ih0KVpCzo/N78rCka1DWORYVXEuAQCgPey4NG3O5BPjU5/6VD6dtz4///nPZ91bPvvZz2b5v+oOKi9mFeFgu5dWuRZh9I03LQsjQSQwKE2Vl/qclDCia1cUKVJlvBst0/ZdiKypg47X3gfqYu2CiLMkzKuK2xRVSnxGXlRJWSZ0DZSB1mnRAIBh9O7YEPSq+alvaWrz/fNphmMaaB9FaP9aR9sWtXwtW7lh75FaccuuDwBAm8hPs3m58qBJ4/O9LuZ1Oq461yI2to03/WdRPm//Lys3oT4SnrjGkwMRZ0mYVxV3HKS6K9NO9cNcJsLWiUm37gAsKmHLkkzLirCtnbIPfOAD/X+aI4fbijdycGVttiguU7kRXk9vVbqnNUHX07cCS1yf5OwfADAfKC+w+Y+icpYZ5ZH+WlTxW+tE4oTXmiiR9pEPocYgRRm16ZvAGog4AEvAOKO/A8CAsGVJpmVFhOvLxkXvsE2Pd3o8wutpbRLXNmwFpgIBAFZM1ue3vvWt/j/LiUQANSKojNX3Kkgo0DaaMj1shPD/SdCxQjoCw2JgG56qPi/zDCIOwBJAJA5AO/iWJVW6q44XYLtfyfQujksYOcI7PR7TjsQJW4H1LAEAKL+RsDCJfGdeaWM4AG3ny2KVwQyzsHjYLuD6vugg4gAsCYyJAzAb9O5ZgaCtqbq9s8873Q72ek56TBw9E1ZYXwaHEwCgLm01Qio6w6chI/px8VBjiL+/y9AwgogDGcok5338GFVilEkrlI4KDQB0CZ/H1gkLh+oozx83NN6HYk+rLOSZAAAopulwACoDJMhrPDptc/bZZw+lo/9gsbARrssg0iHiwFCL4LyGGCqzbjJjDAAAzD9yyH3+L2vioNtQ7KplodbxEY5tlp1EWQHAsuIFdTXM7tu3r1Ekjtbz28gk5px++ukMsrvA2Onal2GyAEQcGFIuZVXVS2Wycnr1smibWb4wYZikTMsAAGDxkeBh8/+qrbWWsCw866yz+v/EmVTjgW1YkdHVCgCWCSuo67sVy6vmsWGZ4A3xBhYFRBxo3IIpldxuV1X8mQThsci0DAAAFh9Frvhxh5oORmz703sr6lY1qcaDUExahr79AAAemxc3zf/CSBxvVSN5ALoOIg5kqrQyNanWdUIMQwd2lo5mGBWk74wxAACwPPguSE0HI77sssuGyjSZxmOw2BZh7Sdcv43Gg7BhZZYNJAAA08YKME1FF9VlzjjjjKG8VIYoDosCIg40RhmkDSUn5BsAADx2XIN5CGH/1re+NdSNSd99JM6RI0fchz70oaEQ/XPPPXesxgN/fcKBlG3DitJdhr79ADD/jCuke5QHSsxW/te07IhF6Muoq8CigIgDY6HMVQ66MksiXwAAwCNn2TvOEvzbHPh3UugYVXnwM5r4ykgsSkf/j4O9PlUHUgYA6CLKK8ft0tomsd4CYV3FzxBY1G120bGDAddtiIDZgogDAAAArSOn0DrR0+gWZBsWqrTgap2wO/GnPvWpTMTRMetTv8NzkX3wgx/sp9KMWVwfAIBJoDzU5mfjitzjorzc9ha46KKLhqJ7JJr7yMtlFtF1Pfw1kqnshPkAEQfmClRzAID5IHQO5UBPktBprzJbVDj+TPjbW3gusjvuuKOfSjOmfX0AACZF1Ugc3420SjdbRYlI7JaY3iRSROl7UV/dX31eK8E+zH/1exkJGxN0vWA+QMSBziJVXJmqHFtUcwCA+WLa3ankqPv9efOtiipDVJaoTPHHoWXh+mFrsjd7Llpn9+7d0TTrQHcqAFgkJNwofyzqShWWC8pHU4RCi6xppIjN2/U9FOyXVUSvcz+gWyDiwNTx/S+Vifrwda/MX3/99VmkzZ49e3LBRoZqDgAwX9RpcW0D7ceWETLfqqgyxC9T2aJKhl3mTS2+tuyRvfOd78zPxUaCxtKsQyxNAIBFpk7kR7hu2fpF2Pxa31Um6dPWRZaRaZfT0B6IODB1QjFG6rdVgmOWUs2V4ehTadKKCQCwvKg8SHWnsq2wMv0Ol6VM68WIpQkAAGkuuOCCoXzzs5/9bP+fUWx3qs2bN2dThl911VWNxAYrVug7wLyDiAMjKHOcpDodKusSYGJqu7WUaq5Pv45aQmnNBABYXlQuyEmXs27LrrCsUNRMWJmw5gWaorEdYml6GL8NAGCUL33pS3m+KZPYXoVpd/tR+jQSQ5dBxIERYhEvbRIbByCMzpGdddZZ2XIfcRMjbAmV0wwAAGCJOeSXX375UPnhTRWEiy++OCtfirpIpZx8fVfZprR8GWfpWuVAx+DL2i4cDwAsLvLTwzy3CnW6YZVRRWSnkRi6DiIOjCBnzmaU+l3Et771LXfZZZdlGazWVfhjET6kUdt85CMfyb5/4QtfGNqvnGdNB1gW8kgmCwAATQgrBX/rb/2tkQieGGVjCJSVoUURPNNGZaYXnPzxUI4CwKS46aab8vxGVjUSJ8xXlQc3QXm2z/P0mRKuaSSGroOIAyMoQ6uSwQm7rrfQYY2h7ZRx+20UnSPqZtJda9EEAID5oGmloCysX2WSTVe/LWHlQL9nRaxVnMoKAEwKieCKgvQNv1/+8pf7/8Sxk6HItJ3y4Kbj2kh8t/md0o4J1zQSQ9dBxIEoahlUZlnWQhg6q960vKg1M9xOmagInVucSQAAmARWjFHZo3KoSmOA1rPlVCj+2MaNWENIuH0o8kwTHbs9FlnTFm4AgLYpy2/rEsvzYvk0jcTQdRBxYCzCzNWaVOwU4XZS1gXKNwAATAPfLWrr1q1D5U5Z40XYDcuPzSCn3w+qvG/fvuSYC75l2bcoFzV4TBpdAx2DbxUfp4UbAKBtUvltU5S/2bqGN+V/APMEIg6MhW1xDE0tmym0Xaw7VVPlG8UcAACaEEaAFpVdwkbw+O5UqTINAACaE4rebYnMEus1+6Dy66JZCAG6CiIOjI1aGtXiuGfPniFBx0bi2BZKnwHHljUljOAhMwYAgCrULT9UXqncUvmlckyokuHTkKnCYdF62o8EIn367UKUtioqRMYAAEwW5fXKk6kzwDyCiAOtotZIOZ6KivFOqj4n3UJZtyUVAAAWE++Y23IoxJZVEmPUErthwwa3e/fu/hr1UDq2DFLalvB//Y4hcciuJ9MyAAAAAA8iDkwcOcjWIQ1bKNuASBwAAFDe70PkZSobQrSOjRrdtGlT/t2WHxKAPvCBD+TLNaNKShTS8osuuigTjyQG3XDDDf1/1ggjdUKRxxOWlzItAwAAAPAg4sDECVsW5eS2PW6NHGi1bMoxZkwcAIDlpEpUZrhOaH6bMHpGloqgKRsTR/974UifqXJKZZlNx4+5AwAAAOBBxIGJIKfT9/8/99xzR5zmVCuksNsWjR0AAABgCYWXsKxRlI39P2ZeqImJPV7gCSnbr9C+tb2P9EkhgUfbK00aJQAAACAEEQcmQujQ2vB2mXeSY05tuK2szOkFAACwjQASQjSziUflSFgWWdM2iqDxDQdaX12j/P/qdpUqi7Qvm9Ykug0DAAAACEQcmAihQ6vfNjLnIx/5yFDIuJ3eL9w2/B8AAKAuKn/CssWaxrwJ+dSnPpX9p/KqKCpG/xV1pwIAgFE0+14YfW+nFbdCPAAMQMSBsZG4oszXiixyaFP9/2+66abc0bWmNITdNvY/AABAXVRGxSJxdu7cmZVLdirvcKrvKhUJVT40CLHGgWNacACAcsJxMxWNbxtz9R0ARkHEgbGwTnEYLfPtb3/bXXfdddmnkFOrzFoOs8+cvcW2veyyy5JpAwAA1OUTn/jESPkTm8I7XG+cioQaJnzFxDZoAAAsO+GMfMonJZ773213TY1F/gDMI4g4MBbKBG3mWxQto1ZNu641OcwhcnZ9eLpC2oWEHO0DQQcAAOriI2xs16fzzz9/yJFX+eIbELzZioRvkFDlo6wCoAYJG1mq775hAwBg2VEeGkbu2/pC211TY5E/APMIIg40QpmuFGybEZZFy1hl3ZuWaRyCMPQ8dHy1L+tYE5kDAABNCQfQt4582DghsxUJW8GQGFQk5Cga1aYj0zIAAFhDPn8scl9CeVg/GJdY5A/APIKIA40IHWBZTFSRoq4MUuvblk9ZkfodOr5yqutE/QAAAKQoKk/C8k2NBlaoUZlm/491x/KoW7Bdt2x9AIBlxtYbyiIdmxCL/AGYRxBxoBGhExtTssNomq1bt2brKfpGLZmxzNmr8VdeeSWROAAAMBGKyhOVTe95z3uy//QZllVhVKladlOE60osartlGQBgEYhF4U8CX9fYt29fVh9RPq36CTNhwTyBiAONkHJdpmTHWiCLlPUwzd27d4+o8XK05QQj4AAAdJuu59ep4ysr38LuVBdffHGWTqx8Cxs8tA4AAIwSdnWSuDJJYvvTMkVLIrZD10HEgcZ4JVufIXKKfStnaO973/uiQk7o7Oo3AABMF+XP47ZO2jJg3iIny8oiO16DBBxb1oUtx7p22l4ij/5LNWIAACw7yh/t0AsqhyaJ8nG/L5ny6WntG2BcEHFgItiMMGbKpMPWTbVQ2nVosQQAmD5hXtxEUA/LAP2eJaoc6Lx0LrHIUUudsqhr5wkAMM8or64bDVPUqFyE0rcNFjY/n3QUEMC4IOIsGb5VUJmTMq5JhQvaVtgNGzZEo3LCioEybrVUKhOlxRIAYDYob7Z5dRNntguROLZM2bJlS34+6iJVdDx1yiJ7njKtDwAA06Gs+2sdbNkX1lEAugYizpIROueTnCVDzq2cYH0qU5WYY/ddNdJG2+q4tT7CDgDAZFGe20ZIuy0DZkEYUWNNx1WFKufg16GMAgCYLmG9JiW+2G6wqQZsNXRX6UbcNPIHoE0QcZYMZU42s1NmNi5hOOINN9yQZ5TWoQ2jgPRfWWSQMkivsMto5QSArrJIlflFEM91L2x5Z03nVYauwbgtvAg8AACTQ3lrlbxddQy/TtOGCdFGuQDQBog4S4bNxNTSOq5T6R19n6bMOs5l+wi3lcOrDFjLlbaUbvu/0gYA6BrKu+hW0y3sPVEkqMoj24hQRlg+6XcdeCYAACaL8nLlraof6DOVt9tGbH1vyrjlAkBbIOIsGcrcrEgyDkrLhtynrKjLVthSunnz5vy70pYTbP8nswSALhLmZQjO3UBliO6FPuuSauGtWo7yTAAAdAMJPD4vHkdQt+K8PpuULQBtgIgDjVF3KZ8hWgsd11/5lV9J9h21marCEsNtr7rqqqzVVKq5RJ3zzz+/1oj1AADTwDp2snGcROgGqRbesNxKjYvAMwEA0A2s+O7z8qYob1e5gIADswQRBxojMcU7p96UQV500UX5b0XWbNq0Kfse6zsatmjq028r81E8Ws9G/YzTnxUAYBJ4x0552rhOInSXsLFBjRQpeCYAACZDOCZn0WDEk0RCfjgOKMCkQcSBxqQyTy33AxufeuqpQ86uxiWIZbJ+G0Xa2HELfMRNGPUzTn9WAACAplSNxAEAgMkRNiarLuKZVrSMGqBVDmj/qr8g5MC0QMSBiaLWR5vBhpmsR4KN/z+WCRZl1AAAANNC5ZONIAUAgOmTauCVsG7HrfnEJz6RNwq3jcoBeww6JoBpgIgDE0XO7vve976hDC4WRaNldp0wE4xF/ShtrSeBZ1KZMwAAAAAAdAvVA2JDLYQz29r/2iZsrFadBGAaIOJAq/hxbWz//1QmawmV7LJMsEqaAAAAVVCZ4gcx9g0FAADQbZR3hw26NhLH26SGYfBlh9JXXYRGZZgWiDjQGso0fb9QmZ2JQ5ncRz7ykcw53rdvX3/pADnM+q9qJpgKoQQAAKhL2Jqq8ggAAKaP6gASZeTrNxVF/s2/+TdDg9BPY3wcgGmCiAOtEYYvKsP02IG/YrNU1UWZu90XDjcAADRFZYgtU2gYAACYDWrM9Xlxk0h7NRyHebrM1ksA5h1EHGiNokicMDMdV3SRMq+MXY620iL0HQAAmmIbGmRlFYdY12EAABgf+fY+L04J6qoHhN2ofFS/jcDxpu5VROLAIoGIA63hp/PTNOKhYxuGqus3AABAV1BDhCJKbaUgRlGDBQAAjIdt+E01+saidex21up0pVLdRXUUpVXWa8DXexCHYBYg4kArKAOz0/mFGZoyRT9o5NatW7NBifVdy2jFBACAeaGo6zAAAIyHHSczFWlvo3VkWl95sV0mqyuya32/rcR6ifYxwnpPaj2ASYGIA60QZpxFTm2olBOVAwAA8wJjsgEAzJawLiGzdRF9D3sFVCGsz1x22WX9f4YJ15O4DzBNEHFgLHyEjc3IyvqdxtRzAAAYH3UD8rN6EOVYjo0SrRoZyphsAACzRfluWJ/Qb1/+FXWJLaJqnYZIHJg1iDgwFuFYN7IiAUfYfqxtzFQFAABr2PxV3VbJX4sJyzAiQwEA5oNJCOpKM4zySTU2+3HUEHBgFiDiwFhUzegsvqWYjA8AoF3mJdLRjnkgJ3xWUUNNyjAAAJgNKisktiuvnlS5YWcrpLEZugoiDowFGR0AwGRRvuqd1rI8NhQluhpZ0pXjpAwDAJgfbHcn3wW2bpfYKhBlA10HEQfGZpYZXdia27QPLABAF1G+6kUGLzQU5bVdiXApo0sRQ7MswwAAoDp2QGF9VwOALUu62nAB0DaIODDXhK256qYFALAoSFyweZxMyyaFD1WXc1w2vtk4MHYPdIk60W4AMDvCSJywHrBhwwYadGEpQMSBuSZszdWI9AAAi0I4nbVskmK1FVcm2b3Ii0VUmmHW6FmUkOife33vagQbwLJjyw59V/lho1Vll19+eX9tyhpYXBBxYK4JW3NxvABgkfCzb8gBnUa30S51cwKYBmr8sc+8jAYhgPnhyiuvHHp/Jep4bOROWXdkgHkCEQfmGj/TlRwuBBwAgPGQaGOdYbVgAiwy0452A4B2+eIXvzj0/kqs8fUDO4aODIEWFgVEHAAAAMjwAyO3PdMHQFeZdrQbALSLyqnNmzfnQo26U9lIfW9E7MMigYgDAAAAAAAAc4nEGUXZKPpGImzYNfiXf/mXKwk4RPjDvICIAwAAAAAAAAtB2DXYd5GUMKP/1FU4JtLYCB4id6DLIOIAAAAAAADAQuC7BoddJMMpykPCCB7G0IGugogDAAAAAAAAC40d6FjfQ1IRPABdAxEHAAAAAAAAFpqySJxUBA9A10DEAQAAAAAAgIVGoowdABlgXkHEAQAAAAAAAACYAxBxAAAAAAAAAADmAEQcAAAAAAAAAIA5ABEHAAAAAAAAAGAOQMQBAAAAAAAAAJgDEHEAAAAAAAAAAOYARBwAAAAAAAAAgDkAEQcAAAAAAAAAYA5AxAEAAAAAAAAAmAMQcQAAAAAAAAAA5gBEHAAAAAAAAACAOQARBwAAAAAAAABgDkDEAQAAAAAAAACYAxBxAAAAAAAAAADmAEQcAAAAAAAAAIA5ABEHAAAAAAAAAGAOQMQBAAAAAAAAAJgDEHEAAAAAAAAAAOYARBwAAAAAAAAAgDkAEQcAAAAAAAAAYA5AxAEAAAAAAAAAmAMQcQAAAAAAAAAA5gBEHAAAAAAAAACAOQARBwAAAAAAAABgDkDEAQAAAAAAAACYAxBxAAAAAAAAAADmAEQcAAAAAAAAAIA5ABEHAAAAAAAAAGAOQMQBAAAAAAAAAJgDEHEAAAAAAAAAAOYARBwAAAAAAAAAgDkAEQcAAAAAAAAAYA5AxAEAAAAAAAAAmAMQcYY44Y4duMZtX7fOrdt+jTtw7ER/ueUNt3rgOrezt872XV92d6++0V8OAAAAAAAAADA5EHGGKBNxBgLOup3XuQMIOAAAAAAAAAAwJRBxhigScRBwAAAAAAAAAGB2IOIMkRJxEHAAAAAAAAAAYLYg4gwRE3HqCjgmjahtd5fsP9Rby3Bi1R28dc/aPnK7xO3Z/8fuYNH+tN3t+9yendsH223f5fauHHSrJ8qOY2Db9xxwx/pJZhw/7A7cttft2u7XOc/t2vtNd+Dw0Fp9jrnDB253K0Pr99PdtdfdduCwO95f03Li8H53idZLjj1ked0d3v+rvTQj166Q3r07+Mdu/55LzHHpXFaC63qid8p3udv27jLXq8L1j22n63/bXe7w8dRR+nPx+wntArfnwPP9dUVRdJh4wx1d2R39v/gaD45j5P5n1Dm3krROHHL7L9EzGpxbanmC/Hwu2e8Opy4vAAC0xonVP3c37zqPfBcAAKBDIOIMEVaYXzeDGN/qDiUr5pYGIs6xA25PIIDktvNmdzCy39yximyzVpFuJuKcWL3TXWNFIWvbr3D7DwVV9LwiHlk/s+1u556VkYr/xEWcE6vu7putKGNsaJ9GpItZ7JwzirdLPy9tijgn3PGDNw+OIfi/uYhT99wQcQAAZsFavtgrZ6+5061m+eIxd3jlml7+XS1fLcaUP+S7AAAAnQERZwhbYd7l9u5bi46pLuCIQRrDFdrn3YE9F/QqrDEhoud0HXx4KGJlINLEIncedytXrAk423fd7O60ETLHD7u7Dq4G6YuSirbI05Xw8vVBFEovzTt9REboyCUr4orQ2d+PEuqlt/fu4fObqIhjo1N69/FOGw3UO667vtt3dnvHcXTFXZEJaOe5XTf/eb7cHT/kVnwET0RIG2x3idtz69397RS98h23N3XfMhL3IXkdC0Sc43e7vUNRWO2IOPXPDREHoA0KxXlFNq4URfnBUmL8gSFLNADVAxEH5g3vawfvQ9Kq+pUAAN0CEWcI47Dk9jG39+BL/f+rkKrQFok4MVJiUO8fX5mt5aSVVLR7+/NRHduvWHFHw2RzR/FX3f7Dr/cX9iipiOeCQC2BIcQfe8Vrlx9T2b0bpBuKTBn5OYfn9pI7uPdjveXnuStWHh85nvyco05v4j7UFXHyY/uYu2H/H0SvZTMRp8m5lTxbiDgAFYiVPxHbvsvdfHdMqIelxTa0qDyzjTBjgYgD8wYiDgAsB4g4Q6Sc6EvcNQeOVszkUxXaIhEnNnbLdvfRnR+NOE8D4aFewVNS0S5NN/F/aUXcn/fw/3mFfMTkgO5ztw9FE9U758qV/fzYA2EqJyGklW1X+H/iOUhex5iI4yON1oSWtxJiTSMRp9G5lTxbqXPLl+u+B7Zzj9t/u8Z26q/bAxEHFpvYu+4Jyojtu93K0TYq6QBFIOLAvDEQceK+bp/c/6jrSwMAdANEnCGsE/07bv+dt5pBg89zu/bfFx2kd5iUWJNabrr+pGzIeYqLIuWUVLRNwVdsVcUHT1yASYs43qxwVkfESQgvMfxYRFGRY42ocFA0htGQRYSQUkGjXMTx0TA+Yiol1pRf4zUbuk6Nzm3wbBVbDREns+1mnAdzPlQmYCEpEnH6mK4zpfkbwNgg4sC8gYgDAMsBIs4QESf6+H1ufz5GQQUhJ1kZT4g4eaU5GJMl6TwtmIgTVlZsWHjeXWyBRJx82+C/yiLOs2v3ybTEz7+IE57zMXf4zpv7s50NusQh4sBiEyl/RoiXCydW73a3DkVy9iwSzZaRzWr4jf74VoP1k7MJarbClZVg9j6ZZvpLzVpo0PaVZjv0XTnD7q2psrD3T95dNzYAvcZl++bQeSbPsaQcK81jo/crXeYWbxeSKv/S6WfkvkuVctOyNjPhyv5wxsy+6bmqMjbTyH2PRdl6Ss6l1M8A8LQl4qy9B9Vm6Oy/Myuj+Wp6G0udfQ04sXrQ3R68p8rjVkbesRp5YdG7eOKoO3CNypnhBjZRrwwqep9rXotkWulyI12PKiuD07PB5lQu7wyFMw3318kYvY/e0vczoODaDya2SfU+KasnjtZ5aj0XObHeKbqO/ZmFq9ZTRu7RFN7pmmXVuPUaRJwhEi9wnnHpBvYepCIhJykM+IffFhhFmUzqv5RDV0aJk5T/X+3Byyl9YOOZZaETm6fpM4R651z5pRjZT8jgHgxdM79dKhNPUnC/k9fRPpN73Mqde3sF9vB4NalrWVxRSDwPjc6t5NlKnVvynMXoPR83swPoNvZdT71/sTzELBuxUBDpkb93ifVD59y/d0m7xO1ZORQtE+vPdugjjWwel8g384HdI2OfDZXZoUXK8MK8qPd3m3lsj+LtQlLlX1G+6wUxnW8NX6FoVsfQeo5samymwvse9aEaliEAI7Qh4jSfoTNpO69xK9GKfN19id42d3/ZCAXWQj+rZl6YehcLBJzenw3LoPB9Lr4W63Ze5w6EY30l00qUGxlNRJxepb5gNlhRu7zrUT7TcJ/C+9i3Kr5x4nqVCziirohT87kQVWYWbiTiTOmdrllWjVuvQcQZouAFHnqBUg/5wHEaLTzaEnHM8pYHNvbpRgc2TlH2wCYiTwqd2DzNZiLOYJ9lAxunWn77RCsUwt/L+OC/SZLp9ahSEG3/qNv50d46wbPSbgWjybmVPFupcyt8dkbv+biZHUC3se967J3tkepOdfxhd3DImbBOfuhY9f47eEcQEWGj3yrm1WpxzFuBY0KKP9Ze/lp1tkMxIs5EysKivLR3fnlr6c497tb8PNPnWFaOtZvHlm0Xkir/UumHXbQrlptW+MlbGt8Krr1aJw+YFtKi+947rl1fdnfnla7e9c+mPo9t17AMARhhUNGMPkue/JkafT/yCD8J1GPN0Bm8Ly3NdDrYRtEJ3zERAdruL8yg5g3ywti5FAo4feqUQYn3eei8TM8EG80xUj9J5g2RciPHPyMF24yUd8WzwTYq74byyqKZhs1xDd1HUXSeESLXq5qAIxLXLVHPy6jpmwwinXplUMHMwpYq5enU3umaZVV+7FXuXQREnCEKXmAxJOQEToh9UWOOTf7wBw9K/vCHrZkFL2bRi5980EucJGEKtZ179gfhf3pw/2w0JDC5jX05RveZfOnsdWzUnUoUZQTDhVyq0CidYtwfv+7b/gNBWF3vHhz4s2CZzYQj4luVgiiz0WcrdS2LM7b081D/3EqerdS5Jc/ZOhiD882Pq2FmB9BtisofCS82vDjiLI2QclQTJN7H4nxkkNeOODpNZjvsk+fLWbfR14OysER89852dPBnf7xBWZLMi9aYWB4b3S4kVf7F0/fXbvsV/8rtuzricyQYHJO9bik/5Jg7tP+KyHKTTqycSz4vDcsQgBHGFXF8/hJvyMrzpqHnvuz59fld+PyOs69E/mdpkheG51JFwEmSKIOi7/OgjlSYr4c+cDJvKKhDJcvGRBmc37/UbLDNyrvivNIyuOejeXnReUYIrld1AadH6loXiThRyp6LWB06TXl5OsV3Ovk8xsmPvcq9i4CIM0SRE93HjpHjX7z8AZbFwhPFIIMafgmNM5SyyM0tDtuLHXvJA9mnMN2ejWybP7Dx9TOLhEDmD27SbIZSlIElKAw9tC9Xr3JUFL6ZCIEs3c7uY+j5qGo+MzTPZKJwS2VgxRlb0fNQ49wyyjK7RKZW+uwMOw3jZnYA3ca+60UWcbZifep779vOnef0Pqvkm6Z1LHAoi/ORHj5/G/q/LM8u+3/gFK/budfdubKn76Te4G7bp/IyXaEoyyei/5c4XqlrUHxt0vlivt2I9c6r8uyMkfS9Y5lV2nplYNTniJHaR0EFIb9m1nEvu689Cp+XmmUIwAje1048S578mQqe1ehzbSh87lP7HLxHQ/832VfZNoZGeaE9l6v3udsyPzpVrzHUKYPyc4j5yanzSuQtsbQyCvKuWiKOF7vWBID4bLBl+V7s/7JtLOa4RrrwFJ1nBHO9rt5/61p9L1nPCUhd66J7V+O5KHteUxSXwz3K3pno/+Y9aPRO+3M1FhkLqOk5exBxhoi9wKPkql3vAcwq1dlNOyfifFlSIo5QdENssKo1h24lNVjVcQ04Gb4csegJUfZAGqLpJo4lf2AV1vmN6oORaR9Dg395UzrhIGB1MjuLrutKMDiWziMWZRQMdpVdxz82Yakx1rYbHQBS264M9tGWiJN4JlMZWHHGVp5BVTq3jJK08mckLDBTz30vncggbeNmdgDdxrzrEcveidiAsnmLUHy7eL4Z39dw95c1mjlIg4pUsRXl6UVpJJyxkms4ZDYfKXK8rKXy2BIL88Xy7ao0YoT57nBl40ShzxGQzKPN9RzJd2MVodiygOjzMjiXYitIFyBjkG8U+rr5cxi8H5X9tToVPvPO2/eoyb78Nqn8OKdhXhh7F2Nj0VjqlkFF+W3yvAbnM3SNW8u7hNmmfxyDyMai2WAHz1yx2etQIa+0hN25YjZynhFGrn2vTlQ1wiol1qSW13ouEve3AqU+yjTf6aJnO7Ph6x1NowaIODAeyQwUclIZXIw66wLAAjHqQJZjtwkHmvVOYqwSb7YbslGHrtRByssAm2c1cWotJhqwd1433OC72F7t9vqxEaIDfqbOK2K1HK++BdcgvzYlFjqByWtaqztx4GT2y45BOH/R/Q9IluPmelaqCFWomESfl0jFMWr4GVDGIO8prAzmz2HwfkyzwtdkX36b0jKiYV5oz2XX1e5qLxwkozUalEFF+W3yvAb7GbrGreVdwp6LjqPqbLCDZ67Y7HWokFeG2GEeYjZynhHy63We27Vnd95IGy9Ph0mWW9F6S93nInF/K5A8Ls803+nk8ziZYSIQcWA8kg8s5EQzuAR11gWABSJ0IKuU6AknOaPovxBF3vkxzIb7jVd2kIb+9w5Qk3KhdyyHbl1zdrKKw0uD6yJH561BV9nY+AP+eGs5giXlWOoaFF+btBNYuF1+LL4M8OmE99Gm/013p/r8D419Uef+p/ZRUBEaOU6RSsdQ+Lwk7ht+BlTGP/cleUD+TAXPql8efadTlDy/5j0a+r/JvqLvXZxGeWF4LlY4iAo5Dcqg2Ptc6vsm8pZYWhkFeVd+XAXb1JoN1h9bnfwpcT5FRMc4KjrPCEPX69leub+S97ooFnISz7CI3rv6z0V+bWsKGsXlcI8m79m473T0WRi9503P2YOIA+NR+MBCRh1hps66ALBAWAeyqrPRwIFOEndKih2klANp0ooN9FjAoLuy71IU2Uc+Nt320XHCcpEgNphngpJyLHUNiq9N2gks3C4/Fl8GpJx9k/7One6jI//Xu/+DY6pSQUgNbHzCjGVUMrDx0HNR4jDjZ0Bl/HOfeJY8+TOVem/ig6DGKXl+k+9ik30N0iod2LhJXhg7FzvG5EhaqXMTif+i73PJeU19YOM6s8E2Ke/MvkoHNhapwXmLzjNC5HrZsVCTx59f/0ge3JKIM0in7YGN/f6m8E4XllU+zcE2+bFXuXcREHFgPAofWAAAqIZ1IFPOSIh1BMMBD1NOhgYavGNkvK8Tq3/ubu6PT2WdltzJyMbDsuOt2fDgSP6flw09p7zqbIe5o2gH0kw4qWbdYcds4HxlAwmG47hpPLbk2G7xcizlJBY7j2knMLldw+5Ua+caVgSKnOgYvpKg4yqaYtyOHxdxts04CEwxDtPHP/epylcfkz+F70c6zxMayy89Q+dInmPf6Ug+UX9fvW1yoVtjSNopxnv09jeYmrrguEQsL0y9i1bIGcprmpRBsffZCMA6r1lPMZ7ZaP6WzLvN81R9dl+bVxbPNJzf85F8vug8IySu10DICUU0HftgpuGo4BQVcRo8F0bkz8qggpmFLcXl8BpTe6eTz2NvH3SnAgAAWESM01PgjIxgZ0yM2rCjNHBmEha0tJauL6cvNVNUrdkOByLCsKOeclJ7Tt1QtyvjJBbOTtizyo7XGiknMbV8jbQwUX5N6w1sHD/uuiJOjxOr7u6bvUBTYiPjHAwovu9WoPOkr1VGyf0BGDC+iDM0JlfUwufQvospi8wqmFF3X6J4m6T4ErORvKvgXUxFQNYsgworurnQG7HYAMt5WpH1K5sXH6yIE4oZaxTl+bVn9+1RuE2+j6IpstsRcZROXp7mIoO9HjqexLhIURGnR93nQlSeWXhAcTnsmdI7Xfo8DvtL+bEj4gAAAMwrDUUcoRbV6Gx/o7PJnVg96G6PrZtFX0QidHIHSf9/Y2g2udgsciPo2EpnO+w5kL4VdiRcv8hJNS13I/+pdS2cnbBnalULZ/lKOrZrpJzEYuexqDLUxuyMJv1oCHwDESdDLZ6xmQn7Frt+MUbOce2ex2fwLLhWouT+AAxoQ8QRqfdgNE8den6VJw4997F3OqTOvjyJbWIRN3XywpJ3cRAFFESp1CiDit/ntfOqPNNtaaW5ikVEnEQZXCoYVCrvAqLbmIiRvFtcbJ9tiTjClKf9iJu189WxFMzWmxJxRJ3nIif2vOoahhFOa5Tek5xpvNM69unNuouIAwAAAFGqO0iweNSsIAAsJSUiJHSTIvEBlpz5eKcRcQAAACAKIs4yg4gDUA4izlyCiANJEHEAAABgjkHEWWYQcQDKQcSZSxBxIAkiDgAAAMwxiDjLDCIOQDmIOACLBSIOAAAAAAAAAAC0BCIOAAAAAAAAAMAcgIgDAAAAAAAAADAHIOIAAAAAAAAAAMwBiDgAAAAAAAAAAHMAIg4AAAAAAAAAwByAiDNn5NO9Ftp2d8n+Q250NtBj7vCBb7q9u87L192+a6+77cBhd7y/xoAT7vjhu9zKyjeG1s9s+y6397a73OHjRfON1tmXOa+dN7uDyXSLpnyrOR3ciUNu/yXbe+v/qtt/+PX+wufdgT0X9JbFrt9gqtXh9Av2e+KoO3DNJVl6O6+5062aBE+s3u1u3aP/zHXducftv/3g0Ho5+fF+zO09+FJ/4Sjp6YD9uSWuz4nH3coVa/eq0vUDAAAAAACAqYOIM2c0FnFyQSG2/nlu1/77AnFlIE4kbec1buVwpLpfe18DgSQtQCnZFXfF9n46l+x3h4dW6piIUyDgDJ9vaL319949KnQdO+D2JM+9jxFihs9LFIk4L7mDez/W3w4RBwAAAAAAoKsg4swZ6UgLkRIh3nBHV3aviQY797hbD672/zvmDt95s9uViQNhpT8liihC54Db76NIRiJnxtnXBe7qvb/nLome25rQsP3Xd7lfVxoj63RIxCkUcPocf9gdHBLA3nCrd385cX0G93371Te4Gy75qNtz4Pn+P57efTl4s9u5/eNu169LyLkgWCcl4vS36y3P7ufI/wAAAAAAANAVEHHmjEYizvG73d6d23vb7HYrR9/oL/R40SUULkpEkTzqIxALxtpXL6077+6le8GIiLIWhfOrbv+h766JL10VcaoIOEn8/kMBZnDft++5wz2gaxhG42T3Q9ftu+6Qv5YVRJw8umnndW7/3o+P/A8AAAAAAADdARFnzmgi4uTbJLrhxP8vE0XiokazfVnx4tm1dIfOb+1Ytl+x4o6+FRNfxOB4R+0St2f/H7uDq0ZUioo4Po2GIs7V+9xtmYAT6zIWcGLVHbx9n9sjwSs/zgvczp3n9D7D/Qf7zrpWDYs02XXNhLNjiXOIiDheiBvaLjw/AAAAAAAA6AqIOHNGLoJUFnEGAsBALEhYLRHHHEu+XdN9+ePuCypZNM8F7oqVx9fOwYoWUfFFFIk4fdt5nTvghZxoOub4t+9yN9/tu4KJQTexlIgT3U+MobFrYpYScfzyftcyiVrZSmvXb+24UkJUKOL48zmvf53L7zcAAAAAAADMFkScOWMhRZwRQaW/72y8ndfMd23gzzHsLpQ6Xo3h853+LFlm0OCUGFQqsKRFnO27rnZX+8ia7Ve4/YeiV61AKIrdP+H3MVi+du3XZqqy3236w8cZiDj9gZIHQlD5/QYAAAAAAIDZgogzZ9QXcQbb1Kucl1Xq42JBo31FBJW1dC5we277utuz3Z5PXRFnjfy6efEoGdHT4/hhd+C2vf1Bhvu2fZe74YZdEXEk2O/xQ27FD/ocFXJSQo2oLuL449++5+vuNm0TEdKGj9OKON90d2o2qqFxixBxAAAAAAAAug4izpzRRMTp1erXpqeODjacoqxS3+K+8m3sOQ1Eh2GhpUzoiB9vLREnSkociezXTrE+ch1Sxy9S//nlVrgyET1D65vlNtrJXM/tO3e6j9a8fgAAAAAAADB7EHHmjEYijqmga9rv/QcODw+6q8iTcFnRNr3179y7FpUyehwN9hUVccpEk6oiRM3uVElqiDjCCjlD07AbkWXnNW5laJrxOiJOj+h16+0hFKwyBiLO6DGJ1PUDAAAAAACAroCIM2c0E3F6WFEhZkViTNIucdccODq8H1FzX8XnFFIu4iStdGDjImqKOOL4fW5/KB6JfHnkGDMLzi0/1rALWZxyEcePn2NBxAEAAAAAAOg6iDhzRmMRJ+OYO3xgxe33Y7Z4U8TMyl3ucCoyY9ded9vQGDHnuV17v+kODEWRhFTfVzMRJxQbFHFzl7vNRwhZ277L7b0tOL9piDg9ThxdcVdk1y0QTmLj7mSm6dBXhq9tUxFn6HoORJy4SIOIAwAAAAAA0HUQcSABlXoAAAAAAACALoGIAwkQcQAAAAAAAAC6BCIOJEDEAQAAAAAAAOgSiDiQABEHAAAAAAAAoEsg4gAAAAAAAAAAzAGIOAAAAAAAAAAAcwAiDgAAAAAAAABA53Hu/w9nXi4EzYYjAwAAAABJRU5ErkJggg==)\n",
        "\n",
        "Вложенность кластеров друг в друга.\n",
        "Размер кластеров: один кластер — одна тема, один кластер — одно большое событие, один кластер — одна новость.\n",
        "Кластеризация как основная или вспомогательная задача.\n",
        "Жёсткая (определяем конкретный кластер для объекта) или мягкая (определяем вероятность принадлежности объекта к кластеру) кластеризация."
      ],
      "metadata": {
        "id": "iaZ8ZE8oClF5"
      }
    },
    {
      "cell_type": "markdown",
      "source": [
        "### 7.4. Алгоритмы кластеризации\n"
      ],
      "metadata": {
        "id": "N9Lt_LVPrFn4"
      }
    },
    {
      "cell_type": "markdown",
      "source": [
        "##### Задание 7.4.5"
      ],
      "metadata": {
        "id": "a1q8vKUy5Sz5"
      }
    },
    {
      "cell_type": "markdown",
      "source": [
        "###### 3)\n",
        "Предположим, вам необходимо провести кластеризацию на 7 точках. В ходе первой итерации точки расположились по кластерам следующим образом: С1: \\{(2,2), (4,4), (6,6)} C2: \\{(0,4), (4,0)} C3: \\{(5,5), (9,9)} Какие координаты у центроидов будут на второй итерации?"
      ],
      "metadata": {
        "id": "NqWIf32o5hCT"
      }
    },
    {
      "cell_type": "code",
      "source": [
        "import numpy as np\n",
        "\n",
        "def dist(p1, p2):\n",
        "    return np.sum([(p1[i] - p2[i])**2 for i in range(len(p1))])**0.5\n",
        "\n",
        "def get_centroids(state, points):\n",
        "\n",
        "    centroids = {}\n",
        "    dim = len(points[0])\n",
        "    x_c = np.zeros(dim)\n",
        "\n",
        "    for key in list(state.keys()):\n",
        "        for j in range(dim):\n",
        "            x_c[j] = np.mean([point[j] for point in state[key]])\n",
        "        \n",
        "        centroids[key] = tuple(x_c)\n",
        "\n",
        "    return centroids\n",
        "\n",
        "def get_dist_dict(state, points):\n",
        "\n",
        "    dist_dict = {point: {centr: dist(point, centroids[centr]) \n",
        "        for centr in sorted(list(centroids.keys()))}\n",
        "            for point in points}\n",
        "\n",
        "    return dist_dict\n",
        "\n",
        "def get_new_state(state, dist_dict):\n",
        "\n",
        "    ls = list(state.keys())    \n",
        "    new_state = {centr: [] for centr in ls}\n",
        "\n",
        "    for p in points:\n",
        "        key = min(dist_dict[p], key=lambda k: dist_dict[p][k])\n",
        "        new_state[key] = new_state[key] + [p]\n",
        "\n",
        "    return new_state\n",
        "\n",
        "init_state = {'С1': [(2,2), (4,4), (6,6)],'C2': [(0,4), (4,0)], 'C3': [(5,5), (9,9)]}\n",
        "ls = list(init_state.keys())\n",
        "points = [el2 for el1 in list(init_state.values()) for el2 in el1]\n",
        "\n",
        "centroids = get_centroids(init_state, points)\n",
        "dist_dict = get_dist_dict(init_state, points)\n",
        "new_state = get_new_state(init_state, dist_dict)\n",
        "new_centroids = get_centroids(new_state, points)\n",
        "\n",
        "init_state, new_state, centroids, new_centroids\n",
        "\n",
        "import matplotlib.pyplot as plt\n",
        "%matplotlib inline\n",
        "\n",
        "for cls in ls:\n",
        "    plt.scatter([p[0] for p in init_state[cls]], [p[1] for p in init_state[cls]],\n",
        "                marker = 'o')\n",
        "    # plt.scatter(centroids[cls][0], centroids[cls][1], marker=\"s\")\n",
        "    plt.scatter(new_centroids[cls][0], new_centroids[cls][1], marker=\"s\")"
      ],
      "metadata": {
        "id": "80BgXr5h9iyX",
        "colab": {
          "base_uri": "https://localhost:8080/",
          "height": 265
        },
        "outputId": "3c5d65aa-d063-4c74-eaef-a6edc1f525f1"
      },
      "execution_count": null,
      "outputs": [
        {
          "output_type": "display_data",
          "data": {
            "image/png": "[encoded data removed]",
            "text/plain": [
              "<Figure size 432x288 with 1 Axes>"
            ]
          },
          "metadata": {
            "needs_background": "light"
          }
        }
      ]
    },
    {
      "cell_type": "markdown",
      "source": [
        "### 7.5. K-means. Практика\n",
        "Для наших задач создадим датасет, в котором будет три кластера, а у каждого объекта будет два признака."
      ],
      "metadata": {
        "id": "DimtbjBe2G2t"
      }
    },
    {
      "cell_type": "code",
      "source": [
        "import numpy as np\n",
        "import matplotlib.pyplot as plt\n",
        "from sklearn import datasets\n",
        "\n",
        "n_samples = 1500\n",
        "dataset = datasets.make_blobs(n_samples=n_samples, centers=2, center_box=(-7.0, 7.5),\n",
        "                              cluster_std=[1.4, 1.7],\n",
        "                              random_state=42)\n",
        "X_2, _ = datasets.make_blobs(n_samples=n_samples, random_state=170, centers=[[-4, -3]], cluster_std=[1.9])\n",
        "transformation = [[1.2, -0.8], [-0.4, 1.7]]\n",
        "X_2 = np.dot(X_2, transformation)\n",
        "X, y = np.concatenate((dataset[0], X_2)), np.concatenate((dataset[1], np.array([2] * len(X_2))))"
      ],
      "metadata": {
        "id": "36Pl4UfIXT94"
      },
      "execution_count": null,
      "outputs": []
    },
    {
      "cell_type": "markdown",
      "source": [
        "**Визуализируем наш датасет:**"
      ],
      "metadata": {
        "id": "hcF5-spd7c5k"
      }
    },
    {
      "cell_type": "code",
      "source": [
        "plt.rcParams['figure.figsize'] = 5, 5\n",
        "plt.scatter(X[:, 0], X[:, 1], c=y, alpha=0.5)\n",
        "plt.show()"
      ],
      "metadata": {
        "id": "VFXGzkAH7Wnx",
        "outputId": "e3d5c2b1-80d4-44ef-ceda-2a3a6304d2fb",
        "colab": {
          "base_uri": "https://localhost:8080/",
          "height": 320
        }
      },
      "execution_count": null,
      "outputs": [
        {
          "output_type": "display_data",
          "data": {
            "image/png": "[encoded data removed]",
            "text/plain": [
              "<Figure size 360x360 with 1 Axes>"
            ]
          },
          "metadata": {
            "needs_background": "light"
          }
        }
      ]
    },
    {
      "cell_type": "markdown",
      "source": [
        "\n",
        "Посмотрим распределение классов в датасете:"
      ],
      "metadata": {
        "id": "4bA5BIGY8Hub"
      }
    },
    {
      "cell_type": "code",
      "source": [
        "unique, counts = np.unique(y, return_counts=True)\n",
        "dict(zip(unique, counts))\n",
        "# {0: 750, 1: 750, 2: 1500}"
      ],
      "metadata": {
        "id": "83D3WK1V8Duu",
        "outputId": "b4138537-3d96-4415-ff91-7df85c1052de",
        "colab": {
          "base_uri": "https://localhost:8080/"
        }
      },
      "execution_count": null,
      "outputs": [
        {
          "output_type": "execute_result",
          "data": {
            "text/plain": [
              "{0: 750, 1: 750, 2: 1500}"
            ]
          },
          "metadata": {},
          "execution_count": 3
        }
      ]
    },
    {
      "cell_type": "markdown",
      "source": [
        "В дальнейшем в задачах с использованием этого датасета при использовании переменных X и y считать, что эти переменные содержат признаки объектов и классы объектов датасета соответственно. Объект, который выполняет кластеризацию датасета с помощью алгоритма K-means, инициализруется так:<br>\n",
        "`from sklearn.cluster import KMeans`<br>\n",
        "`k_means = KMeans()`\n",
        "\n",
        "\n"
      ],
      "metadata": {
        "id": "lXiH5R4p8KOL"
      }
    },
    {
      "cell_type": "markdown",
      "source": [
        "При создании объекта можно указать следующие параметры:\n",
        "\n",
        " - n_clusters — число кластеров, на которое алгоритм будет делить набор данных;\n",
        " - init — способ начальной инициализации центроидов кластров;\n",
        " - random_state — фиксирует генерацию случайного числа для инициализации центроидов.\n",
        " \n",
        "Полный список параметров доступен в [документации](https://scikit-learn.org/stable/modules/generated/sklearn.cluster.KMeans.html) (англ.)."
      ],
      "metadata": {
        "id": "Wv9G2A548P4D"
      }
    },
    {
      "cell_type": "markdown",
      "source": [
        "#### Задание 7.5.2\n",
        "Для обучения модели K-means необходимо вызвать метод fit, передав входным параметром признаки объектов датасета:\n",
        "\n",
        "`k_means.fit(X)`\n",
        "Обучив, мы можем получить центроиды кластеров:\n",
        "\n",
        "`k_means.cluster_centers_`\n",
        "И узнать, в какой кластер попал каждый из объектов:\n",
        "\n",
        "`k_means.labels_`\n",
        "\n",
        "Обучите модель K-means с параметрами `n_clusters=3` и `random_state=42` на признаках исходного датасета.\n",
        "\n",
        "Какие центроиды будут у получившихся кластеров? Введите ответ в виде массива. Каждое число в ответе округлите до ближайшего целого. Для округления можно воспользоваться функцией `numpy.round`"
      ],
      "metadata": {
        "id": "046g7m5T9DUc"
      }
    },
    {
      "cell_type": "code",
      "source": [
        "from sklearn.cluster import KMeans\n",
        "RND_SEED = 42\n",
        "\n",
        "k_means = KMeans(n_clusters=3, random_state=RND_SEED)\n",
        "k_means.fit(X)\n",
        "\n",
        "centers = k_means.cluster_centers_\n",
        "print(f\"Clusters centers are:\\n{np.round(centers).astype('int32')}\")"
      ],
      "metadata": {
        "id": "wFH1O68F9V49",
        "outputId": "d04212bb-03f4-4af1-a3b0-3e23a096017b",
        "colab": {
          "base_uri": "https://localhost:8080/"
        }
      },
      "execution_count": null,
      "outputs": [
        {
          "output_type": "stream",
          "name": "stdout",
          "text": [
            "Clusters centers are:\n",
            "[[-3 -3]\n",
            " [-2  6]\n",
            " [ 4  2]]\n"
          ]
        }
      ]
    },
    {
      "cell_type": "markdown",
      "source": [
        "#### Задание 7.5.3\n",
        "\n",
        "Подсчитайте количество элементов в каждом из получившихся кластеров. Запишите в форму ниже три числа через пробел(без запятых!): количество элементов в кластере 0, в кластере 1 и в кластере 2. Записывайте строго в таком порядке.\n",
        "\n",
        "Для подсчёта элементов в списке можно воспользоваться функцией `numpy.unique` с параметром `return_counts=True`:"
      ],
      "metadata": {
        "id": "aK0dq-gWCdov"
      }
    },
    {
      "cell_type": "code",
      "source": [
        "n_unique = np.unique(k_means.labels_, return_counts=True)\n",
        "print(n_unique[1])"
      ],
      "metadata": {
        "id": "F3Nt-A2rA5a3",
        "colab": {
          "base_uri": "https://localhost:8080/"
        },
        "outputId": "4fcbd927-ff53-45a5-86ec-796b697bcc56"
      },
      "execution_count": null,
      "outputs": [
        {
          "output_type": "stream",
          "name": "stdout",
          "text": [
            "[1320  938  742]\n"
          ]
        }
      ]
    },
    {
      "cell_type": "code",
      "source": [
        "k_means_pred = k_means.labels_\n",
        "\n",
        "plt.scatter(X[:, 0], X[:, 1], c=k_means_pred, alpha=0.5)\n",
        "plt.show()"
      ],
      "metadata": {
        "id": "x1lNkKfeDv1G",
        "colab": {
          "base_uri": "https://localhost:8080/",
          "height": 320
        },
        "outputId": "7a281153-0896-4fe4-d441-b0a1aae428d2"
      },
      "execution_count": null,
      "outputs": [
        {
          "output_type": "display_data",
          "data": {
            "image/png": "[encoded data removed]",
            "text/plain": [
              "<Figure size 360x360 with 1 Axes>"
            ]
          },
          "metadata": {
            "needs_background": "light"
          }
        }
      ]
    },
    {
      "cell_type": "markdown",
      "source": [
        "ЗАДАЧА НА РЕАЛЬНЫХ ДАННЫХ: КЛАСТЕРИЗАЦИЯ УЧЕНИКОВ СТАРШЕЙ ШКОЛЫ\n",
        "\n",
        "Подгрузите данные и откройте их.\n",
        "\n",
        "[СКАЧАТЬ ДАННЫЕ](https://lms.skillfactory.ru/assets/courseware/v1/fc9a6b3836e87e600ca5ee7880dd264e/asset-v1:Skillfactory+DST-PRO+15APR2020+type@asset+block/snsdata.csv)\n",
        "\n",
        "В датасете для учеников предоставлены следующие признаки:\n",
        "\n",
        "Год выпуска\n",
        "Пол\n",
        "Возраст\n",
        "Количество друзей\n",
        "36 ключевых слов, которые встречаются в профилe Facebook (интересы, сообщества, встречи).\n",
        "Мы будем пытаться выделить кластеры исключительно по интересам, поэтому в первую очередь удалите все признаки, кроме ключевых слов.\n",
        "\n",
        "Нормализуйте оставшиеся признаки с помощью `StandardScaler()`. Помните, что кластеризация — обучение без учителя, поэтому разделение на обучающую и тренировочную выборку не требуется.\n",
        "\n",
        "Используйте метод k-means для кластеризации, количество кластеров возьмите за 9, `random_state=123`.\n"
      ],
      "metadata": {
        "id": "940q8IzBD7B8"
      }
    },
    {
      "cell_type": "markdown",
      "source": [
        "#### Задание 7.5.4"
      ],
      "metadata": {
        "id": "UOLvWLUnEXch"
      }
    },
    {
      "cell_type": "markdown",
      "source": [
        "##### 1)\n",
        "Укажите номер кластера, в который попало меньше всего учеников."
      ],
      "metadata": {
        "id": "y61bmYUnEhLD"
      }
    },
    {
      "cell_type": "code",
      "source": [
        "from sklearn.cluster import KMeans\n",
        "from sklearn.preprocessing import StandardScaler\n",
        "import pandas as pd\n",
        "import numpy as np\n",
        "\n",
        "path = \"https://lms.skillfactory.ru/assets/courseware/v1/fc9a6b3836e87e600ca5ee7880dd264e/asset-v1:Skillfactory+DST-PRO+15APR2020+type@asset+block/snsdata.csv\"\n",
        "df = pd.read_csv(path)"
      ],
      "metadata": {
        "id": "OtEq_fK7EWs6"
      },
      "execution_count": null,
      "outputs": []
    },
    {
      "cell_type": "code",
      "source": [
        "df.sample(5)"
      ],
      "metadata": {
        "colab": {
          "base_uri": "https://localhost:8080/",
          "height": 270
        },
        "id": "m9OgjKJpT_Di",
        "outputId": "7f423824-627e-43bc-895d-e49d2bae56e8"
      },
      "execution_count": null,
      "outputs": [
        {
          "output_type": "execute_result",
          "data": {
            "text/html": [
              "\n",
              "  <div id=\"df-ac9b9af1-91a0-4f59-9a5f-fcfad47459fa\">\n",
              "    <div class=\"colab-df-container\">\n",
              "      <div>\n",
              "<style scoped>\n",
              "    .dataframe tbody tr th:only-of-type {\n",
              "        vertical-align: middle;\n",
              "    }\n",
              "\n",
              "    .dataframe tbody tr th {\n",
              "        vertical-align: top;\n",
              "    }\n",
              "\n",
              "    .dataframe thead th {\n",
              "        text-align: right;\n",
              "    }\n",
              "</style>\n",
              "<table border=\"1\" class=\"dataframe\">\n",
              "  <thead>\n",
              "    <tr style=\"text-align: right;\">\n",
              "      <th></th>\n",
              "      <th>gradyear</th>\n",
              "      <th>gender</th>\n",
              "      <th>age</th>\n",
              "      <th>friends</th>\n",
              "      <th>basketball</th>\n",
              "      <th>football</th>\n",
              "      <th>soccer</th>\n",
              "      <th>softball</th>\n",
              "      <th>volleyball</th>\n",
              "      <th>swimming</th>\n",
              "      <th>cheerleading</th>\n",
              "      <th>baseball</th>\n",
              "      <th>tennis</th>\n",
              "      <th>sports</th>\n",
              "      <th>cute</th>\n",
              "      <th>sex</th>\n",
              "      <th>sexy</th>\n",
              "      <th>hot</th>\n",
              "      <th>kissed</th>\n",
              "      <th>dance</th>\n",
              "      <th>band</th>\n",
              "      <th>marching</th>\n",
              "      <th>music</th>\n",
              "      <th>rock</th>\n",
              "      <th>god</th>\n",
              "      <th>church</th>\n",
              "      <th>jesus</th>\n",
              "      <th>bible</th>\n",
              "      <th>hair</th>\n",
              "      <th>dress</th>\n",
              "      <th>blonde</th>\n",
              "      <th>mall</th>\n",
              "      <th>shopping</th>\n",
              "      <th>clothes</th>\n",
              "      <th>hollister</th>\n",
              "      <th>abercrombie</th>\n",
              "      <th>die</th>\n",
              "      <th>death</th>\n",
              "      <th>drunk</th>\n",
              "      <th>drugs</th>\n",
              "    </tr>\n",
              "  </thead>\n",
              "  <tbody>\n",
              "    <tr>\n",
              "      <th>16434</th>\n",
              "      <td>2008</td>\n",
              "      <td>F</td>\n",
              "      <td>17.070</td>\n",
              "      <td>24</td>\n",
              "      <td>0</td>\n",
              "      <td>0</td>\n",
              "      <td>0</td>\n",
              "      <td>0</td>\n",
              "      <td>0</td>\n",
              "      <td>0</td>\n",
              "      <td>0</td>\n",
              "      <td>0</td>\n",
              "      <td>0</td>\n",
              "      <td>0</td>\n",
              "      <td>0</td>\n",
              "      <td>0</td>\n",
              "      <td>0</td>\n",
              "      <td>0</td>\n",
              "      <td>0</td>\n",
              "      <td>1</td>\n",
              "      <td>1</td>\n",
              "      <td>0</td>\n",
              "      <td>0</td>\n",
              "      <td>0</td>\n",
              "      <td>0</td>\n",
              "      <td>0</td>\n",
              "      <td>0</td>\n",
              "      <td>0</td>\n",
              "      <td>3</td>\n",
              "      <td>0</td>\n",
              "      <td>0</td>\n",
              "      <td>1</td>\n",
              "      <td>2</td>\n",
              "      <td>0</td>\n",
              "      <td>0</td>\n",
              "      <td>0</td>\n",
              "      <td>1</td>\n",
              "      <td>0</td>\n",
              "      <td>1</td>\n",
              "      <td>2</td>\n",
              "    </tr>\n",
              "    <tr>\n",
              "      <th>29364</th>\n",
              "      <td>2009</td>\n",
              "      <td>NaN</td>\n",
              "      <td>NaN</td>\n",
              "      <td>70</td>\n",
              "      <td>0</td>\n",
              "      <td>0</td>\n",
              "      <td>3</td>\n",
              "      <td>0</td>\n",
              "      <td>0</td>\n",
              "      <td>0</td>\n",
              "      <td>0</td>\n",
              "      <td>1</td>\n",
              "      <td>1</td>\n",
              "      <td>1</td>\n",
              "      <td>0</td>\n",
              "      <td>0</td>\n",
              "      <td>0</td>\n",
              "      <td>1</td>\n",
              "      <td>0</td>\n",
              "      <td>0</td>\n",
              "      <td>0</td>\n",
              "      <td>0</td>\n",
              "      <td>2</td>\n",
              "      <td>1</td>\n",
              "      <td>1</td>\n",
              "      <td>3</td>\n",
              "      <td>0</td>\n",
              "      <td>0</td>\n",
              "      <td>2</td>\n",
              "      <td>0</td>\n",
              "      <td>0</td>\n",
              "      <td>2</td>\n",
              "      <td>2</td>\n",
              "      <td>1</td>\n",
              "      <td>0</td>\n",
              "      <td>0</td>\n",
              "      <td>2</td>\n",
              "      <td>0</td>\n",
              "      <td>0</td>\n",
              "      <td>0</td>\n",
              "    </tr>\n",
              "    <tr>\n",
              "      <th>28194</th>\n",
              "      <td>2009</td>\n",
              "      <td>M</td>\n",
              "      <td>15.537</td>\n",
              "      <td>65</td>\n",
              "      <td>0</td>\n",
              "      <td>0</td>\n",
              "      <td>0</td>\n",
              "      <td>0</td>\n",
              "      <td>0</td>\n",
              "      <td>0</td>\n",
              "      <td>0</td>\n",
              "      <td>0</td>\n",
              "      <td>0</td>\n",
              "      <td>0</td>\n",
              "      <td>0</td>\n",
              "      <td>0</td>\n",
              "      <td>0</td>\n",
              "      <td>0</td>\n",
              "      <td>0</td>\n",
              "      <td>0</td>\n",
              "      <td>0</td>\n",
              "      <td>0</td>\n",
              "      <td>0</td>\n",
              "      <td>0</td>\n",
              "      <td>0</td>\n",
              "      <td>0</td>\n",
              "      <td>0</td>\n",
              "      <td>0</td>\n",
              "      <td>0</td>\n",
              "      <td>0</td>\n",
              "      <td>0</td>\n",
              "      <td>0</td>\n",
              "      <td>0</td>\n",
              "      <td>0</td>\n",
              "      <td>0</td>\n",
              "      <td>0</td>\n",
              "      <td>0</td>\n",
              "      <td>0</td>\n",
              "      <td>0</td>\n",
              "      <td>0</td>\n",
              "    </tr>\n",
              "    <tr>\n",
              "      <th>7444</th>\n",
              "      <td>2006</td>\n",
              "      <td>F</td>\n",
              "      <td>18.902</td>\n",
              "      <td>11</td>\n",
              "      <td>0</td>\n",
              "      <td>0</td>\n",
              "      <td>0</td>\n",
              "      <td>0</td>\n",
              "      <td>0</td>\n",
              "      <td>0</td>\n",
              "      <td>0</td>\n",
              "      <td>2</td>\n",
              "      <td>0</td>\n",
              "      <td>0</td>\n",
              "      <td>0</td>\n",
              "      <td>0</td>\n",
              "      <td>0</td>\n",
              "      <td>0</td>\n",
              "      <td>0</td>\n",
              "      <td>0</td>\n",
              "      <td>0</td>\n",
              "      <td>0</td>\n",
              "      <td>1</td>\n",
              "      <td>0</td>\n",
              "      <td>2</td>\n",
              "      <td>1</td>\n",
              "      <td>3</td>\n",
              "      <td>0</td>\n",
              "      <td>2</td>\n",
              "      <td>0</td>\n",
              "      <td>0</td>\n",
              "      <td>0</td>\n",
              "      <td>1</td>\n",
              "      <td>0</td>\n",
              "      <td>0</td>\n",
              "      <td>0</td>\n",
              "      <td>0</td>\n",
              "      <td>0</td>\n",
              "      <td>0</td>\n",
              "      <td>0</td>\n",
              "    </tr>\n",
              "    <tr>\n",
              "      <th>7525</th>\n",
              "      <td>2007</td>\n",
              "      <td>F</td>\n",
              "      <td>17.457</td>\n",
              "      <td>0</td>\n",
              "      <td>0</td>\n",
              "      <td>0</td>\n",
              "      <td>0</td>\n",
              "      <td>0</td>\n",
              "      <td>0</td>\n",
              "      <td>0</td>\n",
              "      <td>0</td>\n",
              "      <td>0</td>\n",
              "      <td>0</td>\n",
              "      <td>0</td>\n",
              "      <td>0</td>\n",
              "      <td>0</td>\n",
              "      <td>0</td>\n",
              "      <td>0</td>\n",
              "      <td>0</td>\n",
              "      <td>0</td>\n",
              "      <td>0</td>\n",
              "      <td>0</td>\n",
              "      <td>0</td>\n",
              "      <td>0</td>\n",
              "      <td>0</td>\n",
              "      <td>0</td>\n",
              "      <td>0</td>\n",
              "      <td>0</td>\n",
              "      <td>0</td>\n",
              "      <td>0</td>\n",
              "      <td>0</td>\n",
              "      <td>0</td>\n",
              "      <td>0</td>\n",
              "      <td>0</td>\n",
              "      <td>0</td>\n",
              "      <td>0</td>\n",
              "      <td>0</td>\n",
              "      <td>0</td>\n",
              "      <td>0</td>\n",
              "      <td>1</td>\n",
              "    </tr>\n",
              "  </tbody>\n",
              "</table>\n",
              "</div>\n",
              "      <button class=\"colab-df-convert\" onclick=\"convertToInteractive('df-ac9b9af1-91a0-4f59-9a5f-fcfad47459fa')\"\n",
              "              title=\"Convert this dataframe to an interactive table.\"\n",
              "              style=\"display:none;\">\n",
              "        \n",
              "  <svg xmlns=\"http://www.w3.org/2000/svg\" height=\"24px\"viewBox=\"0 0 24 24\"\n",
              "       width=\"24px\">\n",
              "    <path d=\"M0 0h24v24H0V0z\" fill=\"none\"/>\n",
              "    <path d=\"M18.56 5.44l.94 2.06.94-2.06 2.06-.94-2.06-.94-.94-2.06-.94 2.06-2.06.94zm-11 1L8.5 8.5l.94-2.06 2.06-.94-2.06-.94L8.5 2.5l-.94 2.06-2.06.94zm10 10l.94 2.06.94-2.06 2.06-.94-2.06-.94-.94-2.06-.94 2.06-2.06.94z\"/><path d=\"M17.41 7.96l-1.37-1.37c-.4-.4-.92-.59-1.43-.59-.52 0-1.04.2-1.43.59L10.3 9.45l-7.72 7.72c-.78.78-.78 2.05 0 2.83L4 21.41c.39.39.9.59 1.41.59.51 0 1.02-.2 1.41-.59l7.78-7.78 2.81-2.81c.8-.78.8-2.07 0-2.86zM5.41 20L4 18.59l7.72-7.72 1.47 1.35L5.41 20z\"/>\n",
              "  </svg>\n",
              "      </button>\n",
              "      \n",
              "  <style>\n",
              "    .colab-df-container {\n",
              "      display:flex;\n",
              "      flex-wrap:wrap;\n",
              "      gap: 12px;\n",
              "    }\n",
              "\n",
              "    .colab-df-convert {\n",
              "      background-color: #E8F0FE;\n",
              "      border: none;\n",
              "      border-radius: 50%;\n",
              "      cursor: pointer;\n",
              "      display: none;\n",
              "      fill: #1967D2;\n",
              "      height: 32px;\n",
              "      padding: 0 0 0 0;\n",
              "      width: 32px;\n",
              "    }\n",
              "\n",
              "    .colab-df-convert:hover {\n",
              "      background-color: #E2EBFA;\n",
              "      box-shadow: 0px 1px 2px rgba(60, 64, 67, 0.3), 0px 1px 3px 1px rgba(60, 64, 67, 0.15);\n",
              "      fill: #174EA6;\n",
              "    }\n",
              "\n",
              "    [theme=dark] .colab-df-convert {\n",
              "      background-color: #3B4455;\n",
              "      fill: #D2E3FC;\n",
              "    }\n",
              "\n",
              "    [theme=dark] .colab-df-convert:hover {\n",
              "      background-color: #434B5C;\n",
              "      box-shadow: 0px 1px 3px 1px rgba(0, 0, 0, 0.15);\n",
              "      filter: drop-shadow(0px 1px 2px rgba(0, 0, 0, 0.3));\n",
              "      fill: #FFFFFF;\n",
              "    }\n",
              "  </style>\n",
              "\n",
              "      <script>\n",
              "        const buttonEl =\n",
              "          document.querySelector('#df-ac9b9af1-91a0-4f59-9a5f-fcfad47459fa button.colab-df-convert');\n",
              "        buttonEl.style.display =\n",
              "          google.colab.kernel.accessAllowed ? 'block' : 'none';\n",
              "\n",
              "        async function convertToInteractive(key) {\n",
              "          const element = document.querySelector('#df-ac9b9af1-91a0-4f59-9a5f-fcfad47459fa');\n",
              "          const dataTable =\n",
              "            await google.colab.kernel.invokeFunction('convertToInteractive',\n",
              "                                                     [key], {});\n",
              "          if (!dataTable) return;\n",
              "\n",
              "          const docLinkHtml = 'Like what you see? Visit the ' +\n",
              "            '<a target=\"_blank\" href=https://colab.research.google.com/notebooks/data_table.ipynb>data table notebook</a>'\n",
              "            + ' to learn more about interactive tables.';\n",
              "          element.innerHTML = '';\n",
              "          dataTable['output_type'] = 'display_data';\n",
              "          await google.colab.output.renderOutput(dataTable, element);\n",
              "          const docLink = document.createElement('div');\n",
              "          docLink.innerHTML = docLinkHtml;\n",
              "          element.appendChild(docLink);\n",
              "        }\n",
              "      </script>\n",
              "    </div>\n",
              "  </div>\n",
              "  "
            ],
            "text/plain": [
              "       gradyear gender     age  friends  ...  die  death  drunk  drugs\n",
              "16434      2008      F  17.070       24  ...    1      0      1      2\n",
              "29364      2009    NaN     NaN       70  ...    2      0      0      0\n",
              "28194      2009      M  15.537       65  ...    0      0      0      0\n",
              "7444       2006      F  18.902       11  ...    0      0      0      0\n",
              "7525       2007      F  17.457        0  ...    0      0      0      1\n",
              "\n",
              "[5 rows x 40 columns]"
            ]
          },
          "metadata": {},
          "execution_count": 8
        }
      ]
    },
    {
      "cell_type": "code",
      "source": [
        "RND_SEED = 123\n",
        "\n",
        "X = df.drop(['gradyear', 'gender', 'age', 'friends'], axis=1).copy()\n",
        "\n",
        "scaler = StandardScaler()\n",
        "scaler.fit_transform(X)\n",
        "\n",
        "k_means = KMeans(n_clusters=9, random_state=RND_SEED)\n",
        "k_means.fit(X)"
      ],
      "metadata": {
        "colab": {
          "base_uri": "https://localhost:8080/"
        },
        "id": "4pb-dwYYSD2l",
        "outputId": "9dc1b47c-b2ae-4ff0-d96c-8b2f71c414f1"
      },
      "execution_count": null,
      "outputs": [
        {
          "output_type": "execute_result",
          "data": {
            "text/plain": [
              "KMeans(n_clusters=9, random_state=123)"
            ]
          },
          "metadata": {},
          "execution_count": 9
        }
      ]
    },
    {
      "cell_type": "code",
      "source": [
        "unique, counts = np.unique(k_means.labels_, return_counts=True)\n",
        "n_min = unique[np.argmin(counts)] \n",
        "print(f'Номер кластера, в который попало меньше всего учеников: {n_min}')"
      ],
      "metadata": {
        "colab": {
          "base_uri": "https://localhost:8080/"
        },
        "id": "gDC-VHp_SHfG",
        "outputId": "9edd9fa0-1126-46be-e733-5eef040f44cb"
      },
      "execution_count": null,
      "outputs": [
        {
          "output_type": "stream",
          "name": "stdout",
          "text": [
            "Номер кластера, в который попало меньше всего учеников: 1\n"
          ]
        }
      ]
    },
    {
      "cell_type": "code",
      "source": [
        "np.unique(k_means.labels_, return_counts=True)"
      ],
      "metadata": {
        "id": "q075PUmQRaPv",
        "outputId": "caa77fbf-9c4c-45c8-e229-31239fa5f49c",
        "colab": {
          "base_uri": "https://localhost:8080/"
        }
      },
      "execution_count": null,
      "outputs": [
        {
          "output_type": "execute_result",
          "data": {
            "text/plain": [
              "(array([0, 1, 2, 3, 4, 5, 6, 7, 8], dtype=int32),\n",
              " array([ 1041,     1,   724, 19110,   571,  1124,  6572,     2,   855]))"
            ]
          },
          "metadata": {},
          "execution_count": 11
        }
      ]
    },
    {
      "cell_type": "markdown",
      "source": [
        "##### 2)\n",
        "В один из кластеров попали ученики с интересами music, god, dance, hair, shopping, cute, band, rock, football, church. Сколько всего учеников попали в этот кластер?"
      ],
      "metadata": {
        "id": "FSjYYiFAC_Ab"
      }
    },
    {
      "cell_type": "code",
      "source": [
        "# k_means.feature_names_in_\n",
        "interests = ['music', 'god', 'dance', 'hair',\n",
        "             'shopping', 'cute', 'band',\n",
        "             'rock', 'football', 'church'\n",
        "]\n",
        "se = np.ones(X.shape[0])\n",
        "for feat in interests:\n",
        "    se *= X[feat].values\n",
        "X['aggr'] = se\n",
        "X['clusters'] = k_means.labels_\n",
        "n_interests =  X[X['aggr'] > 0][interests + ['clusters']].shape[0]\n",
        "print (f'В кластер попало учеников: {n_interests}')\n",
        "\n",
        "# X[X['aggr'] > 0][interests + ['clusters']]"
      ],
      "metadata": {
        "colab": {
          "base_uri": "https://localhost:8080/",
          "height": 362
        },
        "id": "7WpY2F8EC0SC",
        "outputId": "021d5a7a-bd9f-469f-896c-07410f72809d"
      },
      "execution_count": null,
      "outputs": [
        {
          "output_type": "stream",
          "name": "stdout",
          "text": [
            "В кластер попало учеников: 8\n"
          ]
        },
        {
          "output_type": "execute_result",
          "data": {
            "text/html": [
              "\n",
              "  <div id=\"df-cfa207b6-605d-48de-b57d-3d387aa804a7\">\n",
              "    <div class=\"colab-df-container\">\n",
              "      <div>\n",
              "<style scoped>\n",
              "    .dataframe tbody tr th:only-of-type {\n",
              "        vertical-align: middle;\n",
              "    }\n",
              "\n",
              "    .dataframe tbody tr th {\n",
              "        vertical-align: top;\n",
              "    }\n",
              "\n",
              "    .dataframe thead th {\n",
              "        text-align: right;\n",
              "    }\n",
              "</style>\n",
              "<table border=\"1\" class=\"dataframe\">\n",
              "  <thead>\n",
              "    <tr style=\"text-align: right;\">\n",
              "      <th></th>\n",
              "      <th>music</th>\n",
              "      <th>god</th>\n",
              "      <th>dance</th>\n",
              "      <th>hair</th>\n",
              "      <th>shopping</th>\n",
              "      <th>cute</th>\n",
              "      <th>band</th>\n",
              "      <th>rock</th>\n",
              "      <th>football</th>\n",
              "      <th>church</th>\n",
              "      <th>clusters</th>\n",
              "    </tr>\n",
              "  </thead>\n",
              "  <tbody>\n",
              "    <tr>\n",
              "      <th>888</th>\n",
              "      <td>22</td>\n",
              "      <td>3</td>\n",
              "      <td>2</td>\n",
              "      <td>10</td>\n",
              "      <td>1</td>\n",
              "      <td>2</td>\n",
              "      <td>6</td>\n",
              "      <td>5</td>\n",
              "      <td>1</td>\n",
              "      <td>1</td>\n",
              "      <td>0</td>\n",
              "    </tr>\n",
              "    <tr>\n",
              "      <th>9911</th>\n",
              "      <td>12</td>\n",
              "      <td>4</td>\n",
              "      <td>12</td>\n",
              "      <td>27</td>\n",
              "      <td>8</td>\n",
              "      <td>8</td>\n",
              "      <td>7</td>\n",
              "      <td>2</td>\n",
              "      <td>11</td>\n",
              "      <td>5</td>\n",
              "      <td>0</td>\n",
              "    </tr>\n",
              "    <tr>\n",
              "      <th>12580</th>\n",
              "      <td>6</td>\n",
              "      <td>5</td>\n",
              "      <td>1</td>\n",
              "      <td>5</td>\n",
              "      <td>1</td>\n",
              "      <td>1</td>\n",
              "      <td>1</td>\n",
              "      <td>1</td>\n",
              "      <td>1</td>\n",
              "      <td>1</td>\n",
              "      <td>0</td>\n",
              "    </tr>\n",
              "    <tr>\n",
              "      <th>13192</th>\n",
              "      <td>6</td>\n",
              "      <td>1</td>\n",
              "      <td>1</td>\n",
              "      <td>13</td>\n",
              "      <td>3</td>\n",
              "      <td>4</td>\n",
              "      <td>1</td>\n",
              "      <td>1</td>\n",
              "      <td>1</td>\n",
              "      <td>1</td>\n",
              "      <td>0</td>\n",
              "    </tr>\n",
              "    <tr>\n",
              "      <th>15015</th>\n",
              "      <td>4</td>\n",
              "      <td>5</td>\n",
              "      <td>2</td>\n",
              "      <td>21</td>\n",
              "      <td>1</td>\n",
              "      <td>3</td>\n",
              "      <td>2</td>\n",
              "      <td>5</td>\n",
              "      <td>2</td>\n",
              "      <td>2</td>\n",
              "      <td>0</td>\n",
              "    </tr>\n",
              "    <tr>\n",
              "      <th>24365</th>\n",
              "      <td>16</td>\n",
              "      <td>2</td>\n",
              "      <td>4</td>\n",
              "      <td>37</td>\n",
              "      <td>2</td>\n",
              "      <td>4</td>\n",
              "      <td>5</td>\n",
              "      <td>3</td>\n",
              "      <td>3</td>\n",
              "      <td>1</td>\n",
              "      <td>0</td>\n",
              "    </tr>\n",
              "    <tr>\n",
              "      <th>25882</th>\n",
              "      <td>3</td>\n",
              "      <td>2</td>\n",
              "      <td>1</td>\n",
              "      <td>7</td>\n",
              "      <td>1</td>\n",
              "      <td>1</td>\n",
              "      <td>3</td>\n",
              "      <td>1</td>\n",
              "      <td>1</td>\n",
              "      <td>1</td>\n",
              "      <td>0</td>\n",
              "    </tr>\n",
              "    <tr>\n",
              "      <th>29583</th>\n",
              "      <td>10</td>\n",
              "      <td>1</td>\n",
              "      <td>3</td>\n",
              "      <td>11</td>\n",
              "      <td>1</td>\n",
              "      <td>9</td>\n",
              "      <td>3</td>\n",
              "      <td>6</td>\n",
              "      <td>3</td>\n",
              "      <td>1</td>\n",
              "      <td>0</td>\n",
              "    </tr>\n",
              "  </tbody>\n",
              "</table>\n",
              "</div>\n",
              "      <button class=\"colab-df-convert\" onclick=\"convertToInteractive('df-cfa207b6-605d-48de-b57d-3d387aa804a7')\"\n",
              "              title=\"Convert this dataframe to an interactive table.\"\n",
              "              style=\"display:none;\">\n",
              "        \n",
              "  <svg xmlns=\"http://www.w3.org/2000/svg\" height=\"24px\"viewBox=\"0 0 24 24\"\n",
              "       width=\"24px\">\n",
              "    <path d=\"M0 0h24v24H0V0z\" fill=\"none\"/>\n",
              "    <path d=\"M18.56 5.44l.94 2.06.94-2.06 2.06-.94-2.06-.94-.94-2.06-.94 2.06-2.06.94zm-11 1L8.5 8.5l.94-2.06 2.06-.94-2.06-.94L8.5 2.5l-.94 2.06-2.06.94zm10 10l.94 2.06.94-2.06 2.06-.94-2.06-.94-.94-2.06-.94 2.06-2.06.94z\"/><path d=\"M17.41 7.96l-1.37-1.37c-.4-.4-.92-.59-1.43-.59-.52 0-1.04.2-1.43.59L10.3 9.45l-7.72 7.72c-.78.78-.78 2.05 0 2.83L4 21.41c.39.39.9.59 1.41.59.51 0 1.02-.2 1.41-.59l7.78-7.78 2.81-2.81c.8-.78.8-2.07 0-2.86zM5.41 20L4 18.59l7.72-7.72 1.47 1.35L5.41 20z\"/>\n",
              "  </svg>\n",
              "      </button>\n",
              "      \n",
              "  <style>\n",
              "    .colab-df-container {\n",
              "      display:flex;\n",
              "      flex-wrap:wrap;\n",
              "      gap: 12px;\n",
              "    }\n",
              "\n",
              "    .colab-df-convert {\n",
              "      background-color: #E8F0FE;\n",
              "      border: none;\n",
              "      border-radius: 50%;\n",
              "      cursor: pointer;\n",
              "      display: none;\n",
              "      fill: #1967D2;\n",
              "      height: 32px;\n",
              "      padding: 0 0 0 0;\n",
              "      width: 32px;\n",
              "    }\n",
              "\n",
              "    .colab-df-convert:hover {\n",
              "      background-color: #E2EBFA;\n",
              "      box-shadow: 0px 1px 2px rgba(60, 64, 67, 0.3), 0px 1px 3px 1px rgba(60, 64, 67, 0.15);\n",
              "      fill: #174EA6;\n",
              "    }\n",
              "\n",
              "    [theme=dark] .colab-df-convert {\n",
              "      background-color: #3B4455;\n",
              "      fill: #D2E3FC;\n",
              "    }\n",
              "\n",
              "    [theme=dark] .colab-df-convert:hover {\n",
              "      background-color: #434B5C;\n",
              "      box-shadow: 0px 1px 3px 1px rgba(0, 0, 0, 0.15);\n",
              "      filter: drop-shadow(0px 1px 2px rgba(0, 0, 0, 0.3));\n",
              "      fill: #FFFFFF;\n",
              "    }\n",
              "  </style>\n",
              "\n",
              "      <script>\n",
              "        const buttonEl =\n",
              "          document.querySelector('#df-cfa207b6-605d-48de-b57d-3d387aa804a7 button.colab-df-convert');\n",
              "        buttonEl.style.display =\n",
              "          google.colab.kernel.accessAllowed ? 'block' : 'none';\n",
              "\n",
              "        async function convertToInteractive(key) {\n",
              "          const element = document.querySelector('#df-cfa207b6-605d-48de-b57d-3d387aa804a7');\n",
              "          const dataTable =\n",
              "            await google.colab.kernel.invokeFunction('convertToInteractive',\n",
              "                                                     [key], {});\n",
              "          if (!dataTable) return;\n",
              "\n",
              "          const docLinkHtml = 'Like what you see? Visit the ' +\n",
              "            '<a target=\"_blank\" href=https://colab.research.google.com/notebooks/data_table.ipynb>data table notebook</a>'\n",
              "            + ' to learn more about interactive tables.';\n",
              "          element.innerHTML = '';\n",
              "          dataTable['output_type'] = 'display_data';\n",
              "          await google.colab.output.renderOutput(dataTable, element);\n",
              "          const docLink = document.createElement('div');\n",
              "          docLink.innerHTML = docLinkHtml;\n",
              "          element.appendChild(docLink);\n",
              "        }\n",
              "      </script>\n",
              "    </div>\n",
              "  </div>\n",
              "  "
            ],
            "text/plain": [
              "       music  god  dance  hair  ...  rock  football  church  clusters\n",
              "888       22    3      2    10  ...     5         1       1         0\n",
              "9911      12    4     12    27  ...     2        11       5         0\n",
              "12580      6    5      1     5  ...     1         1       1         0\n",
              "13192      6    1      1    13  ...     1         1       1         0\n",
              "15015      4    5      2    21  ...     5         2       2         0\n",
              "24365     16    2      4    37  ...     3         3       1         0\n",
              "25882      3    2      1     7  ...     1         1       1         0\n",
              "29583     10    1      3    11  ...     6         3       1         0\n",
              "\n",
              "[8 rows x 11 columns]"
            ]
          },
          "metadata": {},
          "execution_count": 25
        }
      ]
    },
    {
      "cell_type": "code",
      "source": [
        "# interests = ['music', 'god', 'dance', 'hair',\n",
        "#              'shopping', 'cute', 'band',\n",
        "#              'rock', 'football', 'church'\n",
        "# ]\n",
        "\n",
        "# X.groupby('clusters').sum()[interests]"
      ],
      "metadata": {
        "id": "HQLZLpZbR3Nk"
      },
      "execution_count": null,
      "outputs": []
    },
    {
      "cell_type": "markdown",
      "source": [
        "### 7.6. EM-алгоритм. Практика"
      ],
      "metadata": {
        "id": "8E__6x5UTett"
      }
    },
    {
      "cell_type": "markdown",
      "source": [
        "#### Задание 7.6.2\n",
        "\n",
        "Обучите модель `GaussianMixture` с параметрами `n_components=3` и `random_state=42` на признаках исходного датасета.\n",
        "\n",
        "Какие средние значения будут у получившихся распределений кластеров? Каждое число в ответе округлите до ближайшего целого. Для округления можно воспользоваться функцией `numpy.round`:"
      ],
      "metadata": {
        "id": "nhPx_BVNTGpq"
      }
    },
    {
      "cell_type": "code",
      "source": [
        "from sklearn.mixture import GaussianMixture\n",
        "from sklearn import datasets\n",
        "import pandas as pd\n",
        "import numpy as np\n",
        "\n",
        "\n",
        "n_samples = 1500\n",
        "dataset = datasets.make_blobs(n_samples=n_samples, centers=2, center_box=(-7.0, 7.5),\n",
        "                              cluster_std=[1.4, 1.7],\n",
        "                              random_state=42)\n",
        "X_2, _ = datasets.make_blobs(n_samples=n_samples, random_state=170, centers=[[-4, -3]], cluster_std=[1.9])\n",
        "transformation = [[1.2, -0.8], [-0.4, 1.7]]\n",
        "X_2 = np.dot(X_2, transformation)\n",
        "X, y = np.concatenate((dataset[0], X_2)), np.concatenate((dataset[1], np.array([2] * len(X_2))))"
      ],
      "metadata": {
        "id": "QcBcTz8cPr5M"
      },
      "execution_count": null,
      "outputs": []
    },
    {
      "cell_type": "code",
      "source": [
        "RND_SEED = 42\n",
        "\n",
        "gm = GaussianMixture(n_components=3, random_state=RND_SEED)\n",
        "gm.fit(X)"
      ],
      "metadata": {
        "colab": {
          "base_uri": "https://localhost:8080/"
        },
        "id": "QpkJgb-AZz1G",
        "outputId": "dde71397-5a73-4c3b-ddb9-36ee9c6ca6cf"
      },
      "execution_count": null,
      "outputs": [
        {
          "output_type": "execute_result",
          "data": {
            "text/plain": [
              "GaussianMixture(n_components=3, random_state=42)"
            ]
          },
          "metadata": {},
          "execution_count": 65
        }
      ]
    },
    {
      "cell_type": "code",
      "source": [
        "def sfize(ans_):\n",
        "    ans = '['\n",
        "    for arr in ans_:\n",
        "        ans += '['\n",
        "        for el in arr:\n",
        "            ans += str(el) + ' '\n",
        "        ans = ans[: -1] + '] '\n",
        "    return ans[:-1] + ']'\n",
        "    \n",
        "ans_ = np.round(gm.means_).astype('int32')\n",
        "sfize(ans_)"
      ],
      "metadata": {
        "colab": {
          "base_uri": "https://localhost:8080/",
          "height": 35
        },
        "id": "sui_B1CUf9nY",
        "outputId": "44d873ef-febb-43f3-af60-93f3775be4b3"
      },
      "execution_count": null,
      "outputs": [
        {
          "output_type": "execute_result",
          "data": {
            "application/vnd.google.colaboratory.intrinsic+json": {
              "type": "string"
            },
            "text/plain": [
              "'[[4 2] [-2 7] [-4 -2]]'"
            ]
          },
          "metadata": {},
          "execution_count": 72
        }
      ]
    },
    {
      "cell_type": "markdown",
      "source": [
        "#### Задание 7.6.3\n",
        "\n",
        "Подсчитайте количество элементов в каждом из получившихся кластеров. Выведите три числа через пробел: количество элементов в кластере 0, в кластере 1 и в кластере 2. Числа вводите целые, без точек и запятых.\n",
        "\n",
        "Для подсчёта элементов в списке можно воспользоваться функцией `numpy.unique` с параметром `return_counts=True`:"
      ],
      "metadata": {
        "id": "WkJA4smHnpVQ"
      }
    },
    {
      "cell_type": "code",
      "source": [
        "y_pred = gm.predict(X)\n",
        "u = np.unique(y_pred, return_counts=True)\n",
        "'[' + sfize(u)[9:]"
      ],
      "metadata": {
        "colab": {
          "base_uri": "https://localhost:8080/",
          "height": 35
        },
        "id": "n2L60lJpmYPN",
        "outputId": "349141df-dc94-4e86-be00-974fca1c5e6b"
      },
      "execution_count": null,
      "outputs": [
        {
          "output_type": "execute_result",
          "data": {
            "application/vnd.google.colaboratory.intrinsic+json": {
              "type": "string"
            },
            "text/plain": [
              "'[[744 763 1493]]'"
            ]
          },
          "metadata": {},
          "execution_count": 83
        }
      ]
    },
    {
      "cell_type": "markdown",
      "source": [
        "#### Задание 7.6.4\n",
        "\n",
        "Возьмите данные про учеников старшей школы из прошлого урока (c такой же обработкой) и примените к ним EM-алгоритм , количество кластеров — 9, `random_state = 123`. К какому кластеру принадлежит восьмой (по списку из изначального датасета) ученик? Введите номер кластера целым числом без точек и десятичной части."
      ],
      "metadata": {
        "id": "9iXFuTdtt61P"
      }
    },
    {
      "cell_type": "code",
      "source": [
        "from sklearn.mixture import GaussianMixture\n",
        "from sklearn.preprocessing import StandardScaler\n",
        "import pandas as pd\n",
        "import numpy as np\n",
        "\n",
        "path = \"https://lms.skillfactory.ru/assets/courseware/v1/fc9a6b3836e87e600ca5ee7880dd264e/asset-v1:Skillfactory+DST-PRO+15APR2020+type@asset+block/snsdata.csv\"\n",
        "df = pd.read_csv(path)"
      ],
      "metadata": {
        "id": "PegahKyLvWN6"
      },
      "execution_count": null,
      "outputs": []
    },
    {
      "cell_type": "code",
      "source": [
        "RND_SEED = 123\n",
        "\n",
        "X = df.drop(['gradyear', 'gender', 'age', 'friends'], axis=1).copy()\n",
        "\n",
        "scaler = StandardScaler()\n",
        "scaler.fit_transform(X)\n",
        "\n",
        "gm = GaussianMixture(n_components=9, random_state=RND_SEED)\n",
        "gm.fit(X)"
      ],
      "metadata": {
        "colab": {
          "base_uri": "https://localhost:8080/"
        },
        "id": "JxgckQBmvsd9",
        "outputId": "24a64ca0-4240-4dbc-af2f-26a7417e3c84"
      },
      "execution_count": null,
      "outputs": [
        {
          "output_type": "execute_result",
          "data": {
            "text/plain": [
              "GaussianMixture(n_components=9, random_state=123)"
            ]
          },
          "metadata": {},
          "execution_count": 86
        }
      ]
    },
    {
      "cell_type": "code",
      "source": [
        "y_pred = gm.predict(X)\n",
        "y_pred[7], y_pred[8]"
      ],
      "metadata": {
        "colab": {
          "base_uri": "https://localhost:8080/"
        },
        "id": "N3kHMZ6YwSV2",
        "outputId": "ac5884cf-2e4e-4204-9d19-1d84ccee0fac"
      },
      "execution_count": null,
      "outputs": [
        {
          "output_type": "execute_result",
          "data": {
            "text/plain": [
              "(4, 1)"
            ]
          },
          "metadata": {},
          "execution_count": 90
        }
      ]
    },
    {
      "cell_type": "code",
      "source": [
        "gm.n_iter_"
      ],
      "metadata": {
        "colab": {
          "base_uri": "https://localhost:8080/"
        },
        "id": "TinOHurvxX9G",
        "outputId": "ed5ff8fb-cb31-441e-915e-faddb104198c"
      },
      "execution_count": null,
      "outputs": [
        {
          "output_type": "execute_result",
          "data": {
            "text/plain": [
              "32"
            ]
          },
          "metadata": {},
          "execution_count": 91
        }
      ]
    },
    {
      "cell_type": "markdown",
      "source": [
        "### 7.7. Агломеративная кластеризация. Практика"
      ],
      "metadata": {
        "id": "AuRFFTEvmnSx"
      }
    },
    {
      "cell_type": "code",
      "source": [
        "import numpy as np\n",
        "import matplotlib.pyplot as plt\n",
        "from sklearn import datasets\n",
        "\n",
        "n_samples = 1500\n",
        "dataset = datasets.make_blobs(n_samples=n_samples, centers=2, center_box=(-7.0, 7.5),\n",
        "                              cluster_std=[1.4, 1.7],\n",
        "                              random_state=42)\n",
        "X_2, _ = datasets.make_blobs(n_samples=n_samples, random_state=170, centers=[[-4, -3]], cluster_std=[1.9])\n",
        "transformation = [[1.2, -0.8], [-0.4, 1.7]]\n",
        "X_2 = np.dot(X_2, transformation)\n",
        "X, y = np.concatenate((dataset[0], X_2)), np.concatenate((dataset[1], np.array([2] * len(X_2))))"
      ],
      "metadata": {
        "id": "GMKRSVDTmmGZ"
      },
      "execution_count": null,
      "outputs": []
    },
    {
      "cell_type": "markdown",
      "source": [
        "#### Задание 7.7.1\n",
        "При каком значении параметра `linkage` при создании объекта `AgglomerativeClustering` критерием объединения кластеров будет среднее расстояние между объектами объединяемых кластеров?"
      ],
      "metadata": {
        "id": "c3W3lwLYm7v6"
      }
    },
    {
      "cell_type": "markdown",
      "source": [
        "Обучите модель `AgglomerativeClustering` с параметром `n_clusters=3` на признаках исходного датасета. Напишите число листьев в иерархическом дереве, полученном при обучении:"
      ],
      "metadata": {
        "id": "leev9mXXnSU4"
      }
    },
    {
      "cell_type": "code",
      "source": [
        "from sklearn.cluster import AgglomerativeClustering\n",
        "\n",
        "agg_cluster = AgglomerativeClustering(n_clusters=3)\n",
        "agg_cluster.fit(X, y)\n",
        "\n",
        "print (f'Число листьев в иерархическом дереве: {agg_cluster.n_leaves_}')"
      ],
      "metadata": {
        "id": "I6t_db6om-H9",
        "outputId": "47d92c9b-9877-434e-f1a4-37a11c99ca48",
        "colab": {
          "base_uri": "https://localhost:8080/"
        }
      },
      "execution_count": null,
      "outputs": [
        {
          "output_type": "stream",
          "name": "stdout",
          "text": [
            "Число листьев в иерархическом дереве: 3000\n"
          ]
        }
      ]
    },
    {
      "cell_type": "markdown",
      "source": [
        "#### Задание 7.7.2\n",
        "Подсчитайте количество элементов в каждом из получившихся кластеров. Запишите в форму ниже три числа через пробел: количество элементов в кластере 0, в кластере 1 и в кластере 2.\n",
        "\n",
        "Для подсчёта элементов в списке можно воспользоваться функцией `numpy.unique` с параметром `return_counts=True`:"
      ],
      "metadata": {
        "id": "8_L-ak5lRhNO"
      }
    },
    {
      "cell_type": "code",
      "source": [
        "unique = np.unique(agg_cluster.labels_, return_counts=True)\n",
        "dict_ = {k: unique[1][k] for k in unique[0]}\n",
        "\n",
        "print(*dict_.values())"
      ],
      "metadata": {
        "id": "kRYfUi2fRoLb",
        "outputId": "d3d0e63b-6719-4132-cded-323bec3c1bf4",
        "colab": {
          "base_uri": "https://localhost:8080/"
        }
      },
      "execution_count": null,
      "outputs": [
        {
          "output_type": "stream",
          "name": "stdout",
          "text": [
            "1112 1142 746\n"
          ]
        }
      ]
    },
    {
      "cell_type": "markdown",
      "source": [
        "#### Задание 7.7.3\n",
        "При создании модели `AgglomerativeClustering` можно указать матрицу смежности, передав её в параметр connectivity. Построить **матрицу смежности** можно с помощью следующего кода:\n",
        "\n",
        "```\n",
        "from sklearn.neighbors import kneighbors_graph\n",
        "\n",
        "connectivity = kneighbors_graph(X, n_neighbors=6, include_self=False)\n",
        "connectivity = 0.5 * (connectivity + connectivity.T)\n",
        "```\n",
        "В переменной `connectivity` будет хранится матрица смежности для ненаправленного графа на основе датасета.\n",
        "\n",
        "Обучите модель `AgglomerativeClustering` с параметром `n_clusters=3` и составленной матрицей смежности на признаках исходного датасета.<br> Подсчитайте количество элементов в каждом из получившихся кластеров. Выведите три числа через пробел: количество элементов в кластере 0, в кластере 1 и в кластере 2.\n",
        "\n",
        "Подсказка: При решении данной задачи стандартизация должна быть выключена.\n",
        "\n"
      ],
      "metadata": {
        "id": "Ok2epm3Hdied"
      }
    },
    {
      "cell_type": "code",
      "source": [
        "from sklearn.neighbors import kneighbors_graph\n",
        "\n",
        "connectivity = kneighbors_graph(X, n_neighbors=6, include_self=False)\n",
        "connectivity = 0.5 * (connectivity + connectivity.T)\n",
        "\n",
        "agg_cluster = AgglomerativeClustering(n_clusters=3, connectivity=connectivity)\n",
        "agg_cluster.fit(X, y)\n",
        "unique = np.unique(agg_cluster.labels_, return_counts=True)\n",
        "\n",
        "print ('Количество элементов в кластерах: ', *unique[1])"
      ],
      "metadata": {
        "id": "lZPgrJcLetCO",
        "outputId": "0fa7ba13-5922-41e6-c624-f8e2e483f34f",
        "colab": {
          "base_uri": "https://localhost:8080/"
        }
      },
      "execution_count": null,
      "outputs": [
        {
          "output_type": "stream",
          "name": "stdout",
          "text": [
            "Количество элементов в кластерах:  1486 746 768\n"
          ]
        }
      ]
    },
    {
      "cell_type": "markdown",
      "source": [
        "#### Задание 7.7.4\n",
        "Постройте дендрограмму с помощью пакета scipy:\n",
        "\n",
        "```\n",
        "from scipy.cluster.hierarchy import dendrogram, linkage\n",
        "\n",
        "# подготовим данные для построения дендрограммы\n",
        "# ещё один способ выполнить агломеративную кластеризацию\n",
        "Z = linkage(X, \"ward\")\n",
        "\n",
        "# строим дендрограмму\n",
        "dendrogram(Z, leaf_rotation=90.)\n",
        "\n",
        "```\n",
        "\n",
        "На выходе должно получиться изображение иерархического дерева.\n",
        "\n",
        "Постройте дендрограмму на исходном наборе данных. Сколько получится кластеров, если граничным расстоянием для разделения кластеров взять 150."
      ],
      "metadata": {
        "id": "hYZ880AMtsH2"
      }
    },
    {
      "cell_type": "code",
      "source": [
        "from scipy.cluster.hierarchy import dendrogram, linkage\n",
        "\n",
        "# ещё один способ выполнить агломеративную кластеризацию\n",
        "Z = linkage(X, \"ward\");\n",
        "\n",
        "# строим дендрограмму\n",
        "dend = dendrogram(Z, leaf_rotation=45);"
      ],
      "metadata": {
        "id": "8IQy9sFLvQis",
        "outputId": "8a8ed85d-a5bd-4365-b1b5-df1ae26b9c37",
        "colab": {
          "base_uri": "https://localhost:8080/",
          "height": 268
        }
      },
      "execution_count": null,
      "outputs": [
        {
          "output_type": "display_data",
          "data": {
            "image/png": "[encoded data removed]",
            "text/plain": [
              "<Figure size 432x288 with 1 Axes>"
            ]
          },
          "metadata": {
            "needs_background": "light"
          }
        }
      ]
    },
    {
      "cell_type": "code",
      "source": [
        ""
      ],
      "metadata": {
        "id": "NgfMrlQr4aDp"
      },
      "execution_count": null,
      "outputs": []
    },
    {
      "cell_type": "markdown",
      "source": [
        "#### Задание 7.7.5\n",
        "\n",
        "Сколько кластеров получится, если граничным расстоянием для разделения кластеров взять 100?\n",
        "\n"
      ],
      "metadata": {
        "id": "2YsAMoaBO6tn"
      }
    },
    {
      "cell_type": "code",
      "source": [
        ""
      ],
      "metadata": {
        "id": "c4b4AICBO_ni"
      },
      "execution_count": null,
      "outputs": []
    },
    {
      "cell_type": "markdown",
      "source": [
        "#### Задание 7.7.6\n",
        "Рассмотрим [данные](https://lms.skillfactory.ru/assets/courseware/v1/674de4a149becd117e895dc5bf1e36f4/asset-v1:Skillfactory+DST-PRO+15APR2020+type@asset+block/food.txt), содержащие информацию о составе различных продуктов.\n",
        "\n",
        "Попробуем построить на них иерархическую кластеризацию:"
      ],
      "metadata": {
        "id": "0XMge8MMPhH3"
      }
    },
    {
      "cell_type": "code",
      "source": [
        "import pandas as pd\n",
        "from scipy.cluster.hierarchy import dendrogram, linkage, fcluster\n",
        "from sklearn.preprocessing import StandardScaler\n",
        "import matplotlib.pyplot as plt\n",
        "\n",
        "path = 'https://lms.skillfactory.ru/assets/courseware/v1/674de4a149becd117e895dc5bf1e36f4/asset-v1:Skillfactory+DST-PRO+15APR2020+type@asset+block/food.txt'\n",
        "df = pd.read_csv(path, sep=' ')\n",
        "\n",
        "X = df.drop(['Name'], axis=1).values\n",
        "y = df['Name'].values\n",
        "\n",
        "stdscaler = StandardScaler()\n",
        "stdscaler.fit_transform(X)\n",
        "\n",
        "Z = linkage(X, method='average', metric='euclidean')\n",
        "names = df['Name'].values\n",
        "\n",
        "plt.figure(figsize = (10, 6))\n",
        "\n",
        "dend = dendrogram(Z, color_threshold=0, labels=names, \n",
        "                  orientation='left')\n",
        "\n",
        "t = 2.3\n",
        "labels = fcluster(Z, t, criterion='distance')"
      ],
      "metadata": {
        "id": "W28llqjoPkjH",
        "outputId": "9956d4d8-d899-4400-f474-6ef891a39446",
        "colab": {
          "base_uri": "https://localhost:8080/",
          "height": 369
        }
      },
      "execution_count": 8,
      "outputs": [
        {
          "output_type": "display_data",
          "data": {
            "text/plain": [
              "<Figure size 720x432 with 1 Axes>"
            ],
            "image/png": "[encoded data removed]"
          },
          "metadata": {
            "needs_background": "light"
          }
        }
      ]
    },
    {
      "cell_type": "code",
      "source": [
        "len(labels)"
      ],
      "metadata": {
        "id": "gCSAKhF3XTx-",
        "outputId": "43b00d02-c8be-420c-cac3-dcf789116559",
        "colab": {
          "base_uri": "https://localhost:8080/"
        }
      },
      "execution_count": 9,
      "outputs": [
        {
          "output_type": "execute_result",
          "data": {
            "text/plain": [
              "27"
            ]
          },
          "metadata": {},
          "execution_count": 9
        }
      ]
    },
    {
      "cell_type": "code",
      "source": [
        "# labels\n",
        "dend"
      ],
      "metadata": {
        "id": "upyHG5-48KbV",
        "outputId": "b35f381f-d8d9-4a04-c607-281c6b493a1e",
        "colab": {
          "base_uri": "https://localhost:8080/"
        }
      },
      "execution_count": 5,
      "outputs": [
        {
          "output_type": "execute_result",
          "data": {
            "text/plain": [
              "{'color_list': ['b',\n",
              "  'b',\n",
              "  'b',\n",
              "  'b',\n",
              "  'b',\n",
              "  'b',\n",
              "  'b',\n",
              "  'b',\n",
              "  'b',\n",
              "  'b',\n",
              "  'b',\n",
              "  'b',\n",
              "  'b',\n",
              "  'b',\n",
              "  'b',\n",
              "  'b',\n",
              "  'b',\n",
              "  'b',\n",
              "  'b',\n",
              "  'b',\n",
              "  'b',\n",
              "  'b',\n",
              "  'b',\n",
              "  'b',\n",
              "  'b',\n",
              "  'b'],\n",
              " 'dcoord': [[0.0, 20.248703662210083, 20.248703662210083, 0.0],\n",
              "  [0.0, 45.53712532247427, 45.53712532247427, 20.248703662210083],\n",
              "  [0.0, 0.10000000000000009, 0.10000000000000009, 0.0],\n",
              "  [0.0, 1.415979125124439, 1.415979125124439, 0.10000000000000009],\n",
              "  [0.0, 15.122259712073395, 15.122259712073395, 1.415979125124439],\n",
              "  [0.0, 31.42835183821966, 31.42835183821966, 15.122259712073395],\n",
              "  [0.0, 70.83074062962984, 70.83074062962984, 31.42835183821966],\n",
              "  [45.53712532247427, 92.28068751882228, 92.28068751882228, 70.83074062962984],\n",
              "  [0.0, 5.766281297335398, 5.766281297335398, 0.0],\n",
              "  [0.0, 11.8486009649003, 11.8486009649003, 5.766281297335398],\n",
              "  [0.0, 9.591663046625438, 9.591663046625438, 0.0],\n",
              "  [0.0, 5.008991914547277, 5.008991914547277, 0.0],\n",
              "  [0.0, 12.299748980568538, 12.299748980568538, 5.008991914547277],\n",
              "  [9.591663046625438,\n",
              "   17.618044347389574,\n",
              "   17.618044347389574,\n",
              "   12.299748980568538],\n",
              "  [11.8486009649003,\n",
              "   29.163264758357748,\n",
              "   29.163264758357748,\n",
              "   17.618044347389574],\n",
              "  [0.0, 11.705127081753533, 11.705127081753533, 0.0],\n",
              "  [0.0, 24.015562450917855, 24.015562450917855, 11.705127081753533],\n",
              "  [0.0, 45.91802216250054, 45.91802216250054, 24.015562450917855],\n",
              "  [29.163264758357748,\n",
              "   66.78152061596579,\n",
              "   66.78152061596579,\n",
              "   45.91802216250054],\n",
              "  [0.0, 35.315860459572555, 35.315860459572555, 0.0],\n",
              "  [0.0, 26.55861442169, 26.55861442169, 0.0],\n",
              "  [0.0, 58.00905367806759, 58.00905367806759, 26.55861442169],\n",
              "  [35.315860459572555,\n",
              "   99.27274922570498,\n",
              "   99.27274922570498,\n",
              "   58.00905367806759],\n",
              "  [66.78152061596579,\n",
              "   130.72885648558045,\n",
              "   130.72885648558045,\n",
              "   99.27274922570498],\n",
              "  [92.28068751882228,\n",
              "   197.4099322802922,\n",
              "   197.4099322802922,\n",
              "   130.72885648558045],\n",
              "  [0.0, 350.92447886457194, 350.92447886457194, 197.4099322802922]],\n",
              " 'icoord': [[25.0, 25.0, 35.0, 35.0],\n",
              "  [15.0, 15.0, 30.0, 30.0],\n",
              "  [85.0, 85.0, 95.0, 95.0],\n",
              "  [75.0, 75.0, 90.0, 90.0],\n",
              "  [65.0, 65.0, 82.5, 82.5],\n",
              "  [55.0, 55.0, 73.75, 73.75],\n",
              "  [45.0, 45.0, 64.375, 64.375],\n",
              "  [22.5, 22.5, 54.6875, 54.6875],\n",
              "  [115.0, 115.0, 125.0, 125.0],\n",
              "  [105.0, 105.0, 120.0, 120.0],\n",
              "  [135.0, 135.0, 145.0, 145.0],\n",
              "  [165.0, 165.0, 175.0, 175.0],\n",
              "  [155.0, 155.0, 170.0, 170.0],\n",
              "  [140.0, 140.0, 162.5, 162.5],\n",
              "  [112.5, 112.5, 151.25, 151.25],\n",
              "  [205.0, 205.0, 215.0, 215.0],\n",
              "  [195.0, 195.0, 210.0, 210.0],\n",
              "  [185.0, 185.0, 202.5, 202.5],\n",
              "  [131.875, 131.875, 193.75, 193.75],\n",
              "  [225.0, 225.0, 235.0, 235.0],\n",
              "  [255.0, 255.0, 265.0, 265.0],\n",
              "  [245.0, 245.0, 260.0, 260.0],\n",
              "  [230.0, 230.0, 252.5, 252.5],\n",
              "  [162.8125, 162.8125, 241.25, 241.25],\n",
              "  [38.59375, 38.59375, 202.03125, 202.03125],\n",
              "  [5.0, 5.0, 120.3125, 120.3125]],\n",
              " 'ivl': ['Canned sardines',\n",
              "  'Roast lamb shoulder',\n",
              "  'Hamburger',\n",
              "  'Roast lamb leg',\n",
              "  'Roast beef',\n",
              "  'Beefsteak',\n",
              "  'Pork simmered',\n",
              "  'Pork roast',\n",
              "  'Braised beef',\n",
              "  'Smoked ham',\n",
              "  'Fried perch',\n",
              "  'Beef tongue',\n",
              "  'Broiled mackerel',\n",
              "  'Canned beef',\n",
              "  'Veal cutlet',\n",
              "  'Beef heart',\n",
              "  'Canned chicken',\n",
              "  'Canned tuna',\n",
              "  'Canned crabmeat',\n",
              "  'Broiled chicken',\n",
              "  'Baked bluefish',\n",
              "  'Fried haddock',\n",
              "  'Canned mackerel',\n",
              "  'Canned salmon',\n",
              "  'Canned shrimp',\n",
              "  'Raw clams',\n",
              "  'Canned clams'],\n",
              " 'leaves': [24,\n",
              "  9,\n",
              "  1,\n",
              "  8,\n",
              "  2,\n",
              "  3,\n",
              "  12,\n",
              "  11,\n",
              "  0,\n",
              "  10,\n",
              "  22,\n",
              "  13,\n",
              "  20,\n",
              "  4,\n",
              "  14,\n",
              "  7,\n",
              "  6,\n",
              "  25,\n",
              "  18,\n",
              "  5,\n",
              "  15,\n",
              "  19,\n",
              "  21,\n",
              "  23,\n",
              "  26,\n",
              "  16,\n",
              "  17]}"
            ]
          },
          "metadata": {},
          "execution_count": 5
        }
      ]
    }
  ]
}